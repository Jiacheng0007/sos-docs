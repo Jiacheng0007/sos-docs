{
 "cells": [
  {
   "cell_type": "markdown",
   "metadata": {
    "kernel": "SoS",
    "papermill": {
     "duration": 0.021307,
     "end_time": "2019-12-23T17:00:13.434779",
     "exception": false,
     "start_time": "2019-12-23T17:00:13.413472",
     "status": "completed"
    },
    "tags": []
   },
   "source": [
    "# Using other SoS actions to control the execution of steps"
   ]
  },
  {
   "cell_type": "markdown",
   "metadata": {
    "kernel": "SoS",
    "papermill": {
     "duration": 0.0158,
     "end_time": "2019-12-23T17:00:13.466525",
     "exception": false,
     "start_time": "2019-12-23T17:00:13.450725",
     "status": "completed"
    },
    "tags": []
   },
   "source": [
    "* **Difficulty level**: easy\n",
    "* **Time need to lean**: 10 minutes or less\n",
    "* **Key points**:\n",
    "  * Normal `break`, `continue`, `return` structures cannot be used in the implicit loops of substeps\n",
    "  * Action `warn_if` gives an warning under specified conditions\n",
    "  * Action `fail_if` raises an exception that terminates the substep and therefore the entire workflow if a condition is met\n",
    "  * Action `done_if` assumes that the substep is completed and ignores the rest of the statements\n",
    "  * Action `skip_if` skips the substep and removed `_output` even if the `_output` has been generated"
   ]
  },
  {
   "cell_type": "markdown",
   "metadata": {
    "kernel": "SoS",
    "papermill": {
     "duration": 0.015267,
     "end_time": "2019-12-23T17:00:13.500260",
     "exception": false,
     "start_time": "2019-12-23T17:00:13.484993",
     "status": "completed"
    },
    "tags": []
   },
   "source": [
    "## Control structures of substeps "
   ]
  },
  {
   "cell_type": "code",
   "execution_count": 1,
   "metadata": {
    "kernel": "SoS",
    "papermill": {
     "duration": 1.328742,
     "end_time": "2019-12-23T17:00:14.843445",
     "exception": false,
     "start_time": "2019-12-23T17:00:13.514703",
     "status": "completed"
    },
    "tags": []
   },
   "outputs": [],
   "source": [
    "# create a few input files for examples\n",
    "!touch a_0.txt a_1.txt a_2.txt a_3.txt"
   ]
  },
  {
   "cell_type": "markdown",
   "metadata": {
    "kernel": "SoS",
    "papermill": {
     "duration": 0.014468,
     "end_time": "2019-12-23T17:00:14.873085",
     "exception": false,
     "start_time": "2019-12-23T17:00:14.858617",
     "status": "completed"
    },
    "tags": []
   },
   "source": [
    "SoS allows the use of arbitrary Python statements in step processes. For example, suppose you are processing a number of input files and some of them contain errors and have to be ignored, you can write a workflow step as follows:"
   ]
  },
  {
   "cell_type": "code",
   "execution_count": 2,
   "metadata": {
    "kernel": "SoS",
    "papermill": {
     "duration": 3.206567,
     "end_time": "2019-12-23T17:00:18.095582",
     "exception": false,
     "start_time": "2019-12-23T17:00:14.889015",
     "status": "completed"
    },
    "tags": []
   },
   "outputs": [
    {
     "name": "stdout",
     "output_type": "stream",
     "text": [
      "generating a_0.out\n"
     ]
    },
    {
     "name": "stdout",
     "output_type": "stream",
     "text": [
      "generating a_1.out\n"
     ]
    },
    {
     "name": "stdout",
     "output_type": "stream",
     "text": [
      "generating a_3.out\n"
     ]
    }
   ],
   "source": [
    "infiles = [f'a_{i}.txt' for i in range(4)]\n",
    "outfiles = []\n",
    "for idx, infile in enumerate(infiles):\n",
    "    if idx == 2:  # problematic step\n",
    "        continue\n",
    "    out = f'a_{idx}.out'\n",
    "    sh(f'echo generating {out}\\ntouch {out}')\n",
    "    outfiles.append(out)"
   ]
  },
  {
   "cell_type": "markdown",
   "metadata": {
    "kernel": "SoS",
    "papermill": {
     "duration": 0.020728,
     "end_time": "2019-12-23T17:00:18.135493",
     "exception": false,
     "start_time": "2019-12-23T17:00:18.114765",
     "status": "completed"
    },
    "tags": []
   },
   "source": [
    "However, as we have discussed in tutorials [How to include scripts in different langauges in SoS workflows](doc/user_guide/scripts_in_sos.html) and [How to specify input and output files and process input files in groups](doc/user_guide/input_substeps.html), steps written with loops and function calls like `sh()` are not very readable because the scripts are not clearly presented and users have to follow the logics of the code. Also, the input files are not processed in parallel so the step is not executed efficiently.\n",
    "\n",
    "The more SoS way to implement the step is to use input and output statements and script format of function calls as follows:"
   ]
  },
  {
   "cell_type": "code",
   "execution_count": 3,
   "metadata": {
    "kernel": "SoS",
    "papermill": {
     "duration": 3.313294,
     "end_time": "2019-12-23T17:00:21.464926",
     "exception": false,
     "start_time": "2019-12-23T17:00:18.151632",
     "status": "completed"
    },
    "tags": []
   },
   "outputs": [
    {
     "name": "stdout",
     "output_type": "stream",
     "text": [
      "generating a_0.out\n"
     ]
    },
    {
     "name": "stdout",
     "output_type": "stream",
     "text": [
      "generating a_1.out\n"
     ]
    },
    {
     "name": "stdout",
     "output_type": "stream",
     "text": [
      "generating a_2.out\n"
     ]
    },
    {
     "name": "stdout",
     "output_type": "stream",
     "text": [
      "generating a_3.out\n"
     ]
    }
   ],
   "source": [
    "input: [f'a_{i}.txt' for i in range(4)], group_by=1\n",
    "output: _input.with_suffix('.out')\n",
    "\n",
    "sh: expand=True\n",
    "    echo generating {_output}\n",
    "    touch {_output}\n"
   ]
  },
  {
   "cell_type": "markdown",
   "metadata": {
    "kernel": "SoS",
    "papermill": {
     "duration": 0.01666,
     "end_time": "2019-12-23T17:00:21.498145",
     "exception": false,
     "start_time": "2019-12-23T17:00:21.481485",
     "status": "completed"
    },
    "tags": []
   },
   "source": [
    "The problem is that substeps are processed concurrently and we do not yet have a way to treat them differentially and introduce the logic of\n",
    "\n",
    "```\n",
    "    if idx == 2:  # problematic step\n",
    "        continue\n",
    "```"
   ]
  },
  {
   "cell_type": "markdown",
   "metadata": {
    "kernel": "SoS",
    "papermill": {
     "duration": 0.016701,
     "end_time": "2019-12-23T17:00:21.531257",
     "exception": false,
     "start_time": "2019-12-23T17:00:21.514556",
     "status": "completed"
    },
    "tags": []
   },
   "source": [
    "##  Action `skip_if`"
   ]
  },
  {
   "cell_type": "markdown",
   "metadata": {
    "kernel": "SoS",
    "papermill": {
     "duration": 0.0164,
     "end_time": "2019-12-23T17:00:21.564472",
     "exception": false,
     "start_time": "2019-12-23T17:00:21.548072",
     "status": "completed"
    },
    "tags": []
   },
   "source": [
    "<div class=\"bs-callout bs-callout-primary\" role=\"alert\">\n",
    "    <h4>Action <code>skip_if(expr, msg)</code></h4>\n",
    "    <p>Action <code>skip_if(expr, msg)</code> skips the execution of the substep if condition <code>expr</code> is met. It also assume that the substep generates no output and set <code>_output</code> to empty. The usage pattern of <code>skip_if</code> is</p>\n",
    "    <pre>\n",
    "    output: ...\n",
    "    skip_if(...)\n",
    "    statements to produce _output\n",
    "    </pre>\n",
    "</div>"
   ]
  },
  {
   "cell_type": "markdown",
   "metadata": {
    "kernel": "SoS",
    "papermill": {
     "duration": 0.017703,
     "end_time": "2019-12-23T17:00:21.599517",
     "exception": false,
     "start_time": "2019-12-23T17:00:21.581814",
     "status": "completed"
    },
    "tags": []
   },
   "source": [
    "The `skip_if` action allows you to skip certain substeps with certain condition. The condition can involve a (mostly) hidden variable `_index` which is the index of the substep. For example, the aforementioned step can be written as "
   ]
  },
  {
   "cell_type": "code",
   "execution_count": 4,
   "metadata": {
    "kernel": "SoS",
    "papermill": {
     "duration": 1.95804,
     "end_time": "2019-12-23T17:00:23.574578",
     "exception": false,
     "start_time": "2019-12-23T17:00:21.616538",
     "status": "completed"
    },
    "tags": []
   },
   "outputs": [
    {
     "name": "stdout",
     "output_type": "stream",
     "text": [
      "generating a_0.out\n"
     ]
    },
    {
     "name": "stdout",
     "output_type": "stream",
     "text": [
      "generating a_1.out\n"
     ]
    },
    {
     "name": "stdout",
     "output_type": "stream",
     "text": [
      "generating a_3.out\n"
     ]
    }
   ],
   "source": [
    "input: [f'a_{i}.txt' for i in range(4)], group_by=1\n",
    "output: _input.with_suffix('.out')\n",
    "\n",
    "skip_if(_index == 2, 'input 2 has some problem')\n",
    "\n",
    "sh: expand=True\n",
    "    echo generating {_output}\n",
    "    touch {_output}\n"
   ]
  },
  {
   "cell_type": "markdown",
   "metadata": {
    "kernel": "SoS",
    "papermill": {
     "duration": 0.020581,
     "end_time": "2019-12-23T17:00:23.619368",
     "exception": false,
     "start_time": "2019-12-23T17:00:23.598787",
     "status": "completed"
    },
    "tags": []
   },
   "source": [
    "It is important to remember that `skip_if` assumes that substep output is not generated and adjust `_output` accordingly. For example, if you pass the output of the step to another step, you will notice that the output of step `2` is empty."
   ]
  },
  {
   "cell_type": "code",
   "execution_count": 5,
   "metadata": {
    "kernel": "SoS",
    "papermill": {
     "duration": 4.228777,
     "end_time": "2019-12-23T17:00:27.875337",
     "exception": false,
     "start_time": "2019-12-23T17:00:23.646560",
     "status": "completed"
    },
    "tags": []
   },
   "outputs": [
    {
     "name": "stdout",
     "output_type": "stream",
     "text": [
      "\u001b[32m[\u001b[0m\u001b[97m.\u001b[0m\b \b\u001b[32m.\u001b[0m\b \b\u001b[32m#\u001b[0m\u001b[32m#\u001b[0m\u001b[32m]\u001b[0m 2 steps processed (7 jobs completed)\n"
     ]
    }
   ],
   "source": [
    "%run -v0\n",
    "[10]\n",
    "input: [f'a_{i}.txt' for i in range(4)], group_by=1\n",
    "output: _input.with_suffix('.out')\n",
    "\n",
    "skip_if(_index == 2, 'input 2 has some problem')\n",
    "\n",
    "sh: expand=True\n",
    "    echo generating {_output}\n",
    "    touch {_output}\n",
    "\n",
    "[20]\n",
    "print(f'Input of {_index} is {_input}')"
   ]
  },
  {
   "cell_type": "markdown",
   "metadata": {
    "kernel": "SoS",
    "papermill": {
     "duration": 0.018713,
     "end_time": "2019-12-23T17:00:27.912272",
     "exception": false,
     "start_time": "2019-12-23T17:00:27.893559",
     "status": "completed"
    },
    "tags": []
   },
   "source": [
    "## Action `done_if`"
   ]
  },
  {
   "cell_type": "markdown",
   "metadata": {
    "kernel": "SoS",
    "papermill": {
     "duration": 0.021308,
     "end_time": "2019-12-23T17:00:27.952456",
     "exception": false,
     "start_time": "2019-12-23T17:00:27.931148",
     "status": "completed"
    },
    "tags": []
   },
   "source": [
    "<div class=\"bs-callout bs-callout-primary\" role=\"alert\">\n",
    "    <h4>Action <code>done_if(expr, msg)</code></h4>\n",
    "    <p>Action <code>done_if(expr, msg)</code> ignores the rest of the step process, assuming that the substep has been completed with output generated. The usage pattern of <code>done_if</code> is</p>\n",
    "    <pre>\n",
    "    output: ...\n",
    "    statements to produce _output\n",
    "    done_if(...)\n",
    "    additional statements\n",
    "    </pre>\n",
    "</div>"
   ]
  },
  {
   "cell_type": "markdown",
   "metadata": {
    "kernel": "SoS",
    "papermill": {
     "duration": 0.018412,
     "end_time": "2019-12-23T17:00:27.989004",
     "exception": false,
     "start_time": "2019-12-23T17:00:27.970592",
     "status": "completed"
    },
    "tags": []
   },
   "source": [
    "A similar action is `done_if`, which also ignores the rest of the step process but assumes that the output has already been generated. Consequently, this action does not adjust `_output`. For example, if some more work is only applied to a subset of substeps, you can use `done_if` to execute additional code to only selected substeps."
   ]
  },
  {
   "cell_type": "code",
   "execution_count": 6,
   "metadata": {
    "kernel": "SoS",
    "papermill": {
     "duration": 6.24029,
     "end_time": "2019-12-23T17:00:34.248505",
     "exception": false,
     "start_time": "2019-12-23T17:00:28.008215",
     "status": "completed"
    },
    "tags": []
   },
   "outputs": [
    {
     "name": "stdout",
     "output_type": "stream",
     "text": [
      "\u001b[32m[\u001b[0m\u001b[97m.\u001b[0m\u001b[97m.\u001b[0m\u001b[97m.\u001b[0m\b \b\b \b\b \b\u001b[32m.\u001b[0m\b \b\u001b[32m#\u001b[0m\u001b[32m#\u001b[0m\u001b[32m]\u001b[0m 2 steps processed (5 jobs completed)\n"
     ]
    }
   ],
   "source": [
    "%run -v0\n",
    "[10]\n",
    "input: [f'a_{i}.txt' for i in range(4)], group_by=1\n",
    "output: _input.with_suffix('.out')\n",
    "\n",
    "sh: expand=True\n",
    "    echo generating {_output}\n",
    "    touch {_output}\n",
    "\n",
    "done_if(_index != 2, 'input 2 need to be fixed')\n",
    "\n",
    "sh: expand=True\n",
    "    echo \"Fixing {_output}\"\n",
    "\n",
    "[20]\n",
    "print(f'Input of {_index} is {_input}')"
   ]
  },
  {
   "cell_type": "markdown",
   "metadata": {
    "kernel": "SoS",
    "papermill": {
     "duration": 0.020798,
     "end_time": "2019-12-23T17:00:34.292226",
     "exception": false,
     "start_time": "2019-12-23T17:00:34.271428",
     "status": "completed"
    },
    "tags": []
   },
   "source": [
    "##  Action `warn_if`"
   ]
  },
  {
   "cell_type": "markdown",
   "metadata": {
    "kernel": "SoS",
    "papermill": {
     "duration": 0.027717,
     "end_time": "2019-12-23T17:00:34.343314",
     "exception": false,
     "start_time": "2019-12-23T17:00:34.315597",
     "status": "completed"
    },
    "tags": []
   },
   "source": [
    "<div class=\"bs-callout bs-callout-primary\" role=\"alert\">\n",
    "    <h4>Action <code>warn_if(expr, msg)</code></h4>\n",
    "    <p>Action <code>warn_if(expr, msg)</code> gives an warning if a specified condition is met.</p>\n",
    "</div>"
   ]
  },
  {
   "cell_type": "markdown",
   "metadata": {
    "kernel": "SoS",
    "papermill": {
     "duration": 0.022152,
     "end_time": "2019-12-23T17:00:34.393606",
     "exception": false,
     "start_time": "2019-12-23T17:00:34.371454",
     "status": "completed"
    },
    "tags": []
   },
   "source": [
    "Action `warn_if` is very easy to use. It just produces an warning message if something suspicious is detected."
   ]
  },
  {
   "cell_type": "code",
   "execution_count": 7,
   "metadata": {
    "kernel": "SoS",
    "papermill": {
     "duration": 2.432114,
     "end_time": "2019-12-23T17:00:36.851012",
     "exception": false,
     "start_time": "2019-12-23T17:00:34.418898",
     "status": "completed"
    },
    "tags": []
   },
   "outputs": [
    {
     "name": "stdout",
     "output_type": "stream",
     "text": [
      "generating a_0.out\n"
     ]
    },
    {
     "name": "stdout",
     "output_type": "stream",
     "text": [
      "generating a_1.out\n"
     ]
    },
    {
     "name": "stdout",
     "output_type": "stream",
     "text": [
      "generating a_2.out\n"
     ]
    },
    {
     "name": "stdout",
     "output_type": "stream",
     "text": [
      "generating a_3.out\n"
     ]
    }
   ],
   "source": [
    "input: [f'a_{i}.txt' for i in range(4)], group_by=1\n",
    "output: _input.with_suffix('.out')\n",
    "\n",
    "sh: expand=True\n",
    "    echo generating {_output}\n",
    "    touch {_output}\n",
    "\n",
    "warn_if(_index == 2, 'input 2 might be problematic')"
   ]
  },
  {
   "cell_type": "markdown",
   "metadata": {
    "kernel": "SoS",
    "papermill": {
     "duration": 0.020419,
     "end_time": "2019-12-23T17:00:36.891121",
     "exception": false,
     "start_time": "2019-12-23T17:00:36.870702",
     "status": "completed"
    },
    "tags": []
   },
   "source": [
    "##  Action `fail_if`"
   ]
  },
  {
   "cell_type": "markdown",
   "metadata": {
    "kernel": "SoS",
    "papermill": {
     "duration": 0.019892,
     "end_time": "2019-12-23T17:00:36.935409",
     "exception": false,
     "start_time": "2019-12-23T17:00:36.915517",
     "status": "completed"
    },
    "tags": []
   },
   "source": [
    "<div class=\"bs-callout bs-callout-primary\" role=\"alert\">\n",
    "    <h4>Action <code>fail_if(expr, msg)</code></h4>\n",
    "    <p>Action <code>fail_if(expr, msg)</code> terminates the execution of workflow if a condition is met.</p>\n",
    "</div>"
   ]
  },
  {
   "cell_type": "markdown",
   "metadata": {
    "kernel": "SoS",
    "papermill": {
     "duration": 0.020734,
     "end_time": "2019-12-23T17:00:36.978393",
     "exception": false,
     "start_time": "2019-12-23T17:00:36.957659",
     "status": "completed"
    },
    "tags": []
   },
   "source": [
    "Action `fail_if` terminates the execution of the workflow under certain conditions. It kills all other processes (e.g. working substeps or nested workflows) and it should be used with caution if is unsafe to terminate the workflow abruptly.\n",
    "\n",
    "For example, if we decide to terminate the entire workflow if we detect something wrong with an input file, we can do"
   ]
  },
  {
   "cell_type": "code",
   "execution_count": 8,
   "metadata": {
    "kernel": "SoS",
    "papermill": {
     "duration": 2.112045,
     "end_time": "2019-12-23T17:00:39.111482",
     "exception": true,
     "start_time": "2019-12-23T17:00:36.999437",
     "status": "failed"
    },
    "tags": []
   },
   "outputs": [
    {
     "name": "stdout",
     "output_type": "stream",
     "text": [
      "generating a_0.out\n"
     ]
    },
    {
     "name": "stdout",
     "output_type": "stream",
     "text": [
      "generating a_1.out\n"
     ]
    },
    {
     "name": "stdout",
     "output_type": "stream",
     "text": [
      "generating a_3.out\n"
     ]
    },
    {
     "name": "stderr",
     "output_type": "stream",
     "text": [
      "[(id=6373461632411795663, index=2)]: input 2 might be problematic\n"
     ]
    }
   ],
   "source": [
    "input: [f'a_{i}.txt' for i in range(4)], group_by=1\n",
    "output: _input.with_suffix('.out')\n",
    "\n",
    "sh: expand=True\n",
    "    echo generating {_output}\n",
    "    touch {_output}\n",
    "\n",
    "fail_if(_index == 2, 'input 2 might be problematic')"
   ]
  },
  {
   "cell_type": "markdown",
   "metadata": {
    "kernel": "SoS",
    "papermill": {
     "duration": null,
     "end_time": null,
     "exception": null,
     "start_time": null,
     "status": "pending"
    },
    "tags": []
   },
   "source": [
    "## Further reading\n",
    "\n",
    "* [How to include scripts in different langauges in SoS workflows](doc/user_guide/scripts_in_sos.html)\n",
    "* [How to specify input and output files and process input files in groups](doc/user_guide/input_substeps.html)"
   ]
  }
 ],
 "metadata": {
  "kernelspec": {
   "display_name": "SoS",
   "language": "sos",
   "name": "sos"
  },
  "language_info": {
   "codemirror_mode": "sos",
   "file_extension": ".sos",
   "mimetype": "text/x-sos",
   "name": "sos",
   "nbconvert_exporter": "sos_notebook.converter.SoS_Exporter",
   "pygments_lexer": "sos"
  },
  "papermill": {
   "duration": 33.968052,
   "end_time": "2019-12-23T17:00:44.311845",
   "environment_variables": {},
   "exception": true,
   "input_path": "/Users/bpeng1/sos/sos-docs/src/user_guide/control_actions.ipynb",
   "output_path": "control_actions.ipynb_rerun.ipynb",
   "parameters": {},
   "start_time": "2019-12-23T17:00:10.343793",
   "version": "1.1.0"
  },
  "sos": {
   "kernels": [
    [
     "Bash",
     "bash",
     "Bash",
     "#E6EEFF"
    ],
    [
     "R",
     "ir",
     "R",
     "#DCDCDA"
    ],
    [
     "SoS",
     "sos",
     "",
     ""
    ]
   ],
   "panel": {
    "displayed": true,
    "height": 0
   },
   "version": "0.21.1"
  }
 },
 "nbformat": 4,
 "nbformat_minor": 4
}