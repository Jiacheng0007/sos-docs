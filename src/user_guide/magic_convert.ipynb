{
 "cells": [
  {
   "cell_type": "markdown",
   "metadata": {
    "kernel": "SoS",
    "papermill": {
     "duration": 0.009359,
     "end_time": "2019-12-23T17:02:36.225790",
     "exception": false,
     "start_time": "2019-12-23T17:02:36.216431",
     "status": "completed"
    },
    "tags": []
   },
   "source": [
    "# Exporting reports in HTML format"
   ]
  },
  {
   "cell_type": "markdown",
   "metadata": {
    "kernel": "SoS",
    "papermill": {
     "duration": 0.007604,
     "end_time": "2019-12-23T17:02:36.241227",
     "exception": false,
     "start_time": "2019-12-23T17:02:36.233623",
     "status": "completed"
    },
    "tags": []
   },
   "source": [
    "* **Difficulty level**: easy\n",
    "* **Time need to lean**: 10 minutes or less\n",
    "* **Key points**:\n",
    "  * Magic `%convert` exports notebook in other formats, mostly HTML\n",
    "  * Multiple templates can be used through option `--template`\n",
    "  * Templates `sos-report` and `sos-report-toc` depends on cell tags to hidden specified input and/or output of cells.\n",
    "  * Templates `sos-report-v2` and `sos-report-toc-v2` depends on cell hide/show status to determine the hide/show status of generated HTML report.  "
   ]
  },
  {
   "cell_type": "markdown",
   "metadata": {
    "kernel": "SoS",
    "papermill": {
     "duration": 0.007165,
     "end_time": "2019-12-23T17:02:36.255718",
     "exception": false,
     "start_time": "2019-12-23T17:02:36.248553",
     "status": "completed"
    },
    "tags": []
   },
   "source": [
    "## Convert `.ipynb` to HTML format <a id=\"Convert_ipynb_to_HTML_format\"></a>"
   ]
  },
  {
   "cell_type": "markdown",
   "metadata": {
    "kernel": "SoS",
    "papermill": {
     "duration": 0.007082,
     "end_time": "2019-12-23T17:02:36.270694",
     "exception": false,
     "start_time": "2019-12-23T17:02:36.263612",
     "status": "completed"
    },
    "tags": []
   },
   "source": [
    "Because it is not particularly easy to open an `.ipynb` file (a live Jupyter server is required) and because of risk of changing the content of an `.ipynb` file, it is often desired to save an `.ipynb` file in HTML format.\n",
    "\n",
    "Jupyter makes use of a template system to control the content and style of exported HTML file. For example, you can use the default Jupyter template (`File` -> `Save As` -> `HTML`) to save all input and output cells, or you can use the [hide code Jupyter extension](https://github.com/kirbs-/hide_code) to manually hide input or output of each cell and produce a customized .HTML file.\n",
    "\n",
    "SoS provides its own `template` called `sos-report`, which can be used from command line using command\n",
    "\n",
    "```\n",
    "sos convert analysis.ipynb analysis.html --template sos-report\n",
    "```\n",
    "or from within Jupyter with magic `%sossave` with specified filename\n",
    "\n",
    "```\n",
    "%convert analysis.html -f\n",
    "```\n",
    "or using the same name as the notebook with option `--to html`\n",
    "```\n",
    "%convert --to html -f\n",
    "```\n",
    "\n",
    "Option `-f` overrides existing file if an output file already exists. You could also use other `sos` based templates such as `sos-full`, which displays all cells."
   ]
  },
  {
   "cell_type": "markdown",
   "metadata": {
    "kernel": "SoS",
    "papermill": {
     "duration": 0.008011,
     "end_time": "2019-12-23T17:02:36.286793",
     "exception": false,
     "start_time": "2019-12-23T17:02:36.278782",
     "status": "completed"
    },
    "tags": []
   },
   "source": [
    "## SoS templates"
   ]
  },
  {
   "cell_type": "markdown",
   "metadata": {
    "kernel": "SoS",
    "papermill": {
     "duration": 0.008072,
     "end_time": "2019-12-23T17:02:36.302985",
     "exception": false,
     "start_time": "2019-12-23T17:02:36.294913",
     "status": "completed"
    },
    "tags": []
   },
   "source": [
    "The `sos convert` command (and `%convert` magic) used the Jupyter conversion mechanism and calls `nbconvert` under the hood. Templates are written in Jinja2 format and are installed with `sos-notebook`. A list of templates can be seen from [github:sos-notebook/src/sos_notebook/templates](https://github.com/vatlab/sos-notebook/tree/master/src/sos_notebook/templates)."
   ]
  },
  {
   "cell_type": "markdown",
   "metadata": {
    "kernel": "SoS",
    "papermill": {
     "duration": 0.006937,
     "end_time": "2019-12-23T17:02:36.317147",
     "exception": false,
     "start_time": "2019-12-23T17:02:36.310210",
     "status": "completed"
    },
    "tags": []
   },
   "source": [
    "### Template `sos-full` and `sos-full-toc`"
   ]
  },
  {
   "cell_type": "markdown",
   "metadata": {
    "kernel": "SoS",
    "papermill": {
     "duration": 0.0076,
     "end_time": "2019-12-23T17:02:36.332442",
     "exception": false,
     "start_time": "2019-12-23T17:02:36.324842",
     "status": "completed"
    },
    "tags": []
   },
   "source": [
    "Template `sos-full` generates HTML reports that show all the cells. The `sos-full-toc` adds a dynamically generated table of content to the left of the report."
   ]
  },
  {
   "cell_type": "markdown",
   "metadata": {
    "kernel": "SoS",
    "papermill": {
     "duration": 0.010127,
     "end_time": "2019-12-23T17:02:36.350105",
     "exception": false,
     "start_time": "2019-12-23T17:02:36.339978",
     "status": "completed"
    },
    "tags": []
   },
   "source": [
    "### Templates `sos-report` and `sos-report-toc` (for classic Jupyter)"
   ]
  },
  {
   "cell_type": "markdown",
   "metadata": {
    "kernel": "SoS",
    "papermill": {
     "duration": 0.008607,
     "end_time": "2019-12-23T17:02:36.366243",
     "exception": false,
     "start_time": "2019-12-23T17:02:36.357636",
     "status": "completed"
    },
    "tags": []
   },
   "source": [
    "The `sos-report` template generates HTML reports with hidden contents. The report displays specified content when it is first opened, but users will be able to see the full report by selecting a drop down button at the top right corner of the report.\n",
    "\n",
    "The display status of cells are controlled by the following tags\n",
    "\n",
    "| tag | code cell input | code cell output | markdown cell |\n",
    "| - | -- | -- | -- | \n",
    "| no tag | hidden | hidden | show |\n",
    "| `scratch` | removed | removed | removed |\n",
    "| `report_cell` | show | show |  |\n",
    "| `report_output` |  | show |  |\n",
    "| `hide_output` | | | hidden |\n",
    "\n",
    "The display-controlling tags can be toggled using keyboard shortcut `Ctrl-Shift-O`. For code cells, this shortcut will toggle `report_output` and mark cells with such a tag with a gray bar to the right of the output area, and the input will by default always be hidden. The `report_cell` and `scratch` tag has to be manually added through the `tag` toolbar (`View` -> `Cell Toolbar` -> `Tags`). Whereas `report_output` only works for output of code cells, the `scratch` tag applies to both markdown and code cells."
   ]
  },
  {
   "cell_type": "markdown",
   "metadata": {
    "kernel": "SoS",
    "papermill": {
     "duration": 0.007682,
     "end_time": "2019-12-23T17:02:36.381963",
     "exception": false,
     "start_time": "2019-12-23T17:02:36.374281",
     "status": "completed"
    },
    "tags": []
   },
   "source": [
    "### Templates `sos-report-v2` and `sos-report-toc-v2` (for JupyterLab)"
   ]
  },
  {
   "cell_type": "markdown",
   "metadata": {
    "kernel": "SoS",
    "papermill": {
     "duration": 0.008385,
     "end_time": "2019-12-23T17:02:36.401093",
     "exception": false,
     "start_time": "2019-12-23T17:02:36.392708",
     "status": "completed"
    },
    "tags": []
   },
   "source": [
    "Since JupyterLab allows the open/close of both input and output of cells, there is no real need to use cell tags to control the display of contents. \n",
    "\n",
    "Using templates `sos-report-v2` and `sos-report-toc-v2`, you only need to hide the input and/or output of cells in the JupyterLab interface, and the hidden content will be hidden in the generated reports."
   ]
  },
  {
   "cell_type": "markdown",
   "metadata": {
    "kernel": "SoS",
    "papermill": {
     "duration": 0.009612,
     "end_time": "2019-12-23T17:02:36.422793",
     "exception": false,
     "start_time": "2019-12-23T17:02:36.413181",
     "status": "completed"
    },
    "tags": []
   },
   "source": [
    "## Further reading\n",
    "\n",
    "* [SoS Magics](sos_magics.html)"
   ]
  }
 ],
 "metadata": {
  "kernelspec": {
   "display_name": "SoS",
   "language": "sos",
   "name": "sos"
  },
  "language_info": {
   "codemirror_mode": "sos",
   "file_extension": ".sos",
   "mimetype": "text/x-sos",
   "name": "sos",
   "nbconvert_exporter": "sos_notebook.converter.SoS_Exporter",
   "pygments_lexer": "sos"
  },
  "papermill": {
   "duration": 3.303834,
   "end_time": "2019-12-23T17:02:36.853970",
   "environment_variables": {},
   "exception": null,
   "input_path": "/Users/bpeng1/sos/sos-docs/src/user_guide/magic_convert.ipynb",
   "output_path": "magic_convert.ipynb_rerun.ipynb",
   "parameters": {},
   "start_time": "2019-12-23T17:02:33.550136",
   "version": "1.1.0"
  },
  "sos": {
   "kernels": [
    [
     "Bash",
     "bash",
     "Bash",
     "#E6EEFF"
    ],
    [
     "R",
     "ir",
     "R",
     "#DCDCDA"
    ],
    [
     "SoS",
     "sos",
     "",
     ""
    ]
   ],
   "panel": {
    "displayed": true,
    "height": 0
   },
   "version": "0.21.3"
  }
 },
 "nbformat": 4,
 "nbformat_minor": 4
}
