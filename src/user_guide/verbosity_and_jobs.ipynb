{
 "cells": [
  {
   "cell_type": "markdown",
   "metadata": {
    "kernel": "SoS"
   },
   "source": [
    "# How to control the verbosity of sos output and the number of running jobs"
   ]
  },
  {
   "cell_type": "markdown",
   "metadata": {
    "kernel": "SoS"
   },
   "source": [
    "* **Difficulty level**: easy\n",
    "* **Time need to lean**: 10 minutes or less\n",
    "* **Key points**:\n",
    "  * `-v` controls logging level from `error`, `warning`, `info` to `debug`\n",
    "  * `-v1` displays all workflow output, `-v2` displays workflow output plus workflow information, `-v3` displays some debug information.\n",
    "  * `-v0` suppress all user output (except for errors) and introduces a special text-based progress bar\n",
    "  * Environment variable `DBG_DEBUG` can be used to generate topic-specific debug information\n",
    "  * `-j` controls number of concurrent processes"
   ]
  },
  {
   "cell_type": "markdown",
   "metadata": {
    "kernel": "SoS"
   },
   "source": [
    "## Logging level"
   ]
  },
  {
   "cell_type": "markdown",
   "metadata": {
    "kernel": "SoS"
   },
   "source": [
    "SoS uses a logging system to output all sorts of information during the execution of workflows. The amount of output can be controlled by logging level, which can be `error` (0), `warning` (1), `info` (2), and `debug` (3). The default logging level for SoS is `info`.\n",
    "\n",
    "For example, logging at `info` level would produce message indicating the steps executed and input output files, while `-v0` will suppress all but error messages. It is worth noting that **if you are using SoS Notebook, all logging messages will be sent to the side panel if the console panel is open**."
   ]
  },
  {
   "cell_type": "markdown",
   "metadata": {
    "kernel": "SoS"
   },
   "source": [
    "<div class=\"bs-callout bs-callout-primary\" role=\"alert\">\n",
    "    <h4>Text-based progress bar with <code>-v0</code></h4>\n",
    "    <p>If you have a large workflow with lots of steps, the default output can be overwhelming. In this case you can use <code>-v0</code>, which not only suppress all `INFO` messages and script output, but also introduces a text-based progress bar from which you can learn the progress of the workflow easily.</p>\n",
    "</div>"
   ]
  },
  {
   "cell_type": "code",
   "execution_count": 1,
   "metadata": {
    "kernel": "SoS"
   },
   "outputs": [
    {
     "name": "stdout",
     "output_type": "stream",
     "text": [
      "\u001b[32m[\u001b[0m\u001b[32m#\u001b[0m\u001b[32m#\u001b[0m\u001b[32m#\u001b[0m\u001b[32m#\u001b[0m\u001b[32m]\u001b[0m 4 steps processed (4 jobs completed)\n"
     ]
    }
   ],
   "source": [
    "!touch a.txt\n",
    "\n",
    "%run -v0\n",
    "[10]\n",
    "print(f'{step_name}')\n",
    "[20]\n",
    "input: 'a.txt'\n",
    "print(f'{step_name}')\n",
    "[30]\n",
    "print(f'{step_name}')      \n",
    "[40]\n",
    "print(f'{step_name}')      "
   ]
  },
  {
   "cell_type": "markdown",
   "metadata": {
    "kernel": "SoS"
   },
   "source": [
    "In `-v1` mode, all output from user statements will be outputted"
   ]
  },
  {
   "cell_type": "code",
   "execution_count": 2,
   "metadata": {
    "kernel": "SoS"
   },
   "outputs": [
    {
     "name": "stdout",
     "output_type": "stream",
     "text": [
      "10\n",
      "20\n",
      "30\n",
      "40\n"
     ]
    }
   ],
   "source": [
    "!touch a.txt\n",
    "\n",
    "%run -v1\n",
    "[10]\n",
    "print(f'{step_name}')\n",
    "[20]\n",
    "input: 'a.txt'\n",
    "print(f'{step_name}')\n",
    "[30]\n",
    "print(f'{step_name}')      \n",
    "[40]\n",
    "print(f'{step_name}')      "
   ]
  },
  {
   "cell_type": "markdown",
   "metadata": {
    "kernel": "SoS"
   },
   "source": [
    "SoS will output additional logging information at level `-v2`"
   ]
  },
  {
   "cell_type": "code",
   "execution_count": 3,
   "metadata": {
    "kernel": "SoS"
   },
   "outputs": [
    {
     "data": {
      "text/html": [
       "<div class=\"sos_logging sos_info\">INFO: Running <span class=\"sos_highlight\">10</span>: \n",
       "</div>"
      ]
     },
     "metadata": {},
     "output_type": "display_data"
    },
    {
     "name": "stdout",
     "output_type": "stream",
     "text": [
      "10\n"
     ]
    },
    {
     "data": {
      "text/html": [
       "<div class=\"sos_logging sos_info\">INFO: Running <span class=\"sos_highlight\">20</span>: \n",
       "</div>"
      ]
     },
     "metadata": {},
     "output_type": "display_data"
    },
    {
     "name": "stdout",
     "output_type": "stream",
     "text": [
      "20\n"
     ]
    },
    {
     "data": {
      "text/html": [
       "<div class=\"sos_logging sos_info\">INFO: Running <span class=\"sos_highlight\">30</span>: \n",
       "</div>"
      ]
     },
     "metadata": {},
     "output_type": "display_data"
    },
    {
     "name": "stdout",
     "output_type": "stream",
     "text": [
      "30\n"
     ]
    },
    {
     "data": {
      "text/html": [
       "<div class=\"sos_logging sos_info\">INFO: Running <span class=\"sos_highlight\">40</span>: \n",
       "</div>"
      ]
     },
     "metadata": {},
     "output_type": "display_data"
    },
    {
     "name": "stdout",
     "output_type": "stream",
     "text": [
      "40\n"
     ]
    },
    {
     "data": {
      "text/html": [
       "<div class=\"sos_logging sos_info\">INFO: Workflow default (ID=fe2086f46821e193) is executed successfully with 4 completed steps.\n",
       "</div>"
      ]
     },
     "metadata": {},
     "output_type": "display_data"
    }
   ],
   "source": [
    "!touch a.txt\n",
    "\n",
    "%run -v2\n",
    "[10]\n",
    "print(f'{step_name}')\n",
    "[20]\n",
    "input: 'a.txt'\n",
    "print(f'{step_name}')\n",
    "[30]\n",
    "print(f'{step_name}')      \n",
    "[40]\n",
    "print(f'{step_name}')      "
   ]
  },
  {
   "cell_type": "markdown",
   "metadata": {
    "kernel": "SoS"
   },
   "source": [
    "<div class=\"bs-callout bs-callout-primary\" role=\"alert\">\n",
    "    <h4>Logging messages are by default sent to console panel in SoS Notebook</h4>\n",
    "    <p>If you are executing the workflow in SoS notebook with the console panel open, all logging messages will be sent to the console panel. In particular, the output of your workflow in `-v2` mode in the notebook will be identical to `-v1`</p>\n",
    "</div>"
   ]
  },
  {
   "cell_type": "markdown",
   "metadata": {
    "kernel": "SoS"
   },
   "source": [
    "## `SOS_DEBUG` and `~/sos_debug.log` "
   ]
  },
  {
   "cell_type": "markdown",
   "metadata": {
    "kernel": "SoS"
   },
   "source": [
    "This option is designed for developers but if you would like to peak into what SoS is actually doing, you can set an environment variable `SOS_DEBUG`, with `,` separated values of\n",
    "\n",
    "* `ALL`: all debug messages\n",
    "* Topics such as `CONTROLLER`, `TASK`, `WORKER`, `EXECUTOR` to keep only debug information of specific topics. The actual values can vary so you should check the output of command `sos run -h` for acceptable topics.\n",
    "* A filename with an extension, or `-` for standard error output, or nothing to use `~/sos_debug.log` as default.\n",
    "\n",
    "For example,\n",
    "```\n",
    "export SOS_DEBUG=ALL\n",
    "```\n",
    "will save a large amount of debug information to `~/sos_debug.log`, regardless of verbosity level set by `-v`,\n",
    "\n",
    "```\n",
    "export SOS_DEBUG=TASK,-\n",
    "```\n",
    "will send task related debug information to the terminal, and\n",
    "\n",
    "```\n",
    "export SOS_DEBUG=ALL,myrun.log\n",
    "```\n",
    "will save all debug information in `myrun.log`, which can be useful if you notice something wrong with SoS or your workflow and would like to submit a bug report."
   ]
  },
  {
   "cell_type": "markdown",
   "metadata": {
    "kernel": "SoS"
   },
   "source": [
    "## Control the number of running jobs"
   ]
  },
  {
   "cell_type": "markdown",
   "metadata": {
    "kernel": "SoS"
   },
   "source": [
    "<div class=\"bs-callout bs-callout-primary\" role=\"alert\">\n",
    "    <h4>Control number of workers with option <code>-j</code></h4>\n",
    "    <p>Option <code>-j</code> sets the number of workers for SoS. The default value is half of the number of processes.</p>\n",
    "</div>"
   ]
  },
  {
   "cell_type": "markdown",
   "metadata": {
    "kernel": "SoS"
   },
   "source": [
    "SoS dispatch steps, substeps, and nested workflows to dedicated workers. The maximum number of concurrent workers can be controlled by the `-j` option. Although the default value, which is half of the number of processes of the computer, is good most of the time, you might want to control the number of workers depending on your running environment (e.g. on a shared server) or on the size of your workflow. Note that `-j` specifies the number of workers so the total number of processes started by `sos` can be at most `n + 1` with option `-j n`."
   ]
  },
  {
   "cell_type": "markdown",
   "metadata": {
    "kernel": "SoS"
   },
   "source": [
    "<div class=\"bs-callout bs-callout-warning\" role=\"alert\">\n",
    "    <h4>Dedicated workers for blocking nested workflows</h4>\n",
    "    <p>Ocassionally you might see more than <code>n + 1</code> SoS processes when you execute a workflow with option `-j n`. This is because the workflow consists of blocking nested workflows, namely nested workflows not as the last statement of a step. For example, the nested workflow `A` in the following SoS step has to be executed in a blocking fashion before `some_other_computation` can be done,</p>\n",
    "    <pre>\n",
    "        [10]\n",
    "        sos_run('A')\n",
    "        some_other_computation()\n",
    "        </pre>\n",
    "    <p>So SoS spawns a separate process for nested workflow <code>A</code> so that it will not affect the concurrent execution of other parts of the workflow.</p>    \n",
    "</div>"
   ]
  },
  {
   "cell_type": "markdown",
   "metadata": {
    "kernel": "SoS"
   },
   "source": [
    "## Remote workers"
   ]
  },
  {
   "cell_type": "markdown",
   "metadata": {
    "kernel": "SoS"
   },
   "source": [
    "A more advanced version of option `-j` allows the specification of multiple workers on multiple remote workers. For example, if you have `host1` and `host2` directly accessible by the localhost (through public-key authentication) and with SoS installed, you can create workers on these hosts through\n",
    "\n",
    "```bash\n",
    "sos run script workflow -j 4 host1:4 host2:4\n",
    "```\n",
    "which will start 4 workers locally, 4 workers on `host1` and 4 workers on `host2`.\n",
    "\n",
    "In practice, however, this option is rarely used directly and is specified on cluster systems when multiple nodes are allocated to execute a workflow."
   ]
  },
  {
   "cell_type": "markdown",
   "metadata": {
    "kernel": "SoS"
   },
   "source": [
    "## Further reading\n",
    "\n",
    "* [Remote execution of workflows](remote_execution.html)"
   ]
  }
 ],
 "metadata": {
  "kernelspec": {
   "display_name": "SoS",
   "language": "sos",
   "name": "sos"
  },
  "language_info": {
   "codemirror_mode": "sos",
   "file_extension": ".sos",
   "mimetype": "text/x-sos",
   "name": "sos",
   "nbconvert_exporter": "sos_notebook.converter.SoS_Exporter",
   "pygments_lexer": "sos"
  },
  "sos": {
   "kernels": [
    [
     "Bash",
     "bash",
     "Bash",
     "#E6EEFF"
    ],
    [
     "R",
     "ir",
     "R",
     "#DCDCDA"
    ],
    [
     "SoS",
     "sos",
     "",
     ""
    ]
   ],
   "panel": {
    "displayed": false,
    "height": 0
   },
   "version": "0.21.2"
  }
 },
 "nbformat": 4,
 "nbformat_minor": 4
}
