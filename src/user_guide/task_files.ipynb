{
 "cells": [
  {
   "cell_type": "markdown",
   "metadata": {
    "kernel": "SoS",
    "tags": []
   },
   "source": [
    "# Path translation and file synchronization"
   ]
  },
  {
   "cell_type": "markdown",
   "metadata": {
    "kernel": "SoS",
    "tags": []
   },
   "source": [
    "* **Difficulty level**: intermediate\n",
    "* **Time need to lean**: 20 minutes or less\n",
    "  * A remote host might have different paths from the local host, making the execution of tasks difficult\n",
    "  * SoS automatically translates paths specified in `_input`, `_depends` and `_output` according to host configurations\n",
    "  * Options `to_host` and `from_host` specify files and directories send before task execution and retrieve after task execution, respectively.\n",
    "  * Use of named path could make your workflow more portable and easier to read.  "
   ]
  },
  {
   "cell_type": "markdown",
   "metadata": {
    "kernel": "SoS"
   },
   "source": [
    "## Translation of input and output paths"
   ]
  },
  {
   "cell_type": "markdown",
   "metadata": {
    "kernel": "SoS"
   },
   "source": [
    "When local and remote hosts do not share file systems (or share only some file systems), things can get a bit complicated because SoS will need to decide what paths to use on the remote host. There are a few things to understand here:\n",
    "\n",
    "**The current project directory, and all input, output and dependent files that are involved need to be under paths defined for local and remote host.** This is usually not a problem if you are working under your home directory and you have `home` defined under `paths` of both local and remote hosts, but can become more complicated if your tasks involves system directories such as `resource`, `temp`, and `scratch` that are outside of `home`. In these cases, all involved directories need to be defined for both local and remote hosts.\n",
    "\n",
    "**Unless specified otherwise, the tasks will be executed under the remote version of the current working directory.**. That is to say, the execution of tasks will leave files on remote hosts that will not be automatically removed, and in a worse scenario **might overwrite remote files without warning**. This is why we recommend that you set remote `home` to a directory other than the true `home` (e.g. `/home/user_name/scratch`, or `/home/user_name/sos_temp`). In this way SoS will write to sos-specified directories on remote hosts and will not containminate your real `home` directory.\n",
    "\n",
    "**Unless specified otherwise, input and dependent files will be copied to remote host before execution, and output files will be copied to local host after the completion of the task.** It is therefore important for you to plan ahead and avoid synchronization of large files that should stay on remote hosts."
   ]
  },
  {
   "cell_type": "markdown",
   "metadata": {
    "kernel": "SoS",
    "tags": []
   },
   "source": [
    "## Working directory of tasks (Option `workdir`)\n",
    "\n",
    "The `workdir` of task is default to the current working directory, or, in the case of remote execution, the remote counterpart of the current working directory.\n",
    "\n",
    "Option `workdir` controls the working directory of the task. For example, the following step downloads a file to the `resource` directory using [action `download`](download.html)."
   ]
  },
  {
   "cell_type": "code",
   "execution_count": 1,
   "metadata": {
    "kernel": "SoS",
    "tags": []
   },
   "outputs": [
    {
     "data": {
      "text/html": [
       "\n",
       "<table id=\"task_macpro_85ea891331ab4bcb_90b94f2b-4134-4e55-9825-b0cc0de75004\" class=\"task_table completed\">\n",
       "<tr>\n",
       "  <td class=\"task_icon\">\n",
       "    <i id=\"task_status_icon_macpro_85ea891331ab4bcb_90b94f2b-4134-4e55-9825-b0cc0de75004\" class=\"fa fa-2x fa-fw fa-check-square-o\"\n",
       "    null null null></i>\n",
       "  </td>\n",
       "  <td class=\"task_id\">\n",
       "    <span><pre><i class=\"fa fa-fw fa-sitemap\"></i></pre><pre>85ea891331ab4bcb<div class=\"task_id_actions\"><i class=\"fa fa-fw fa-refresh\" onclick=\"task_action({action:'status', task:'85ea891331ab4bcb', queue: 'macpro'})\"></i><i class=\"fa fa-fw fa-play\" onclick=\"task_action({action:'execute', task:'85ea891331ab4bcb', queue: 'macpro'})\"></i><i class=\"fa fa-fw fa-stop\"\" onclick=\"task_action({action:'kill', task:'85ea891331ab4bcb', queue: 'macpro'})\"></i><i class=\"fa fa-fw fa-trash\"\" onclick=\"task_action({action:'purge', task:'85ea891331ab4bcb', queue: 'macpro'})\"></i></div></pre></span>\n",
       "  </td>\n",
       "  <td class=\"task_tags\">\n",
       "    <span id=\"status_tags_macpro_85ea891331ab4bcb_90b94f2b-4134-4e55-9825-b0cc0de75004\"><pre><i class=\"fa fa-fw fa-info-circle\"></i></pre><pre class=\"task_tags task_tag_5057fa441d6e1755\">5057fa441d6e1755<div class=\"task_tag_actions\"><i class=\"fa fa-fw fa-refresh\" onclick=\"task_action({action:'status', tag:'5057fa441d6e1755', queue: 'macpro'})\"></i><i class=\"fa fa-fw fa-stop\"\" onclick=\"task_action({action:'kill', tag:'5057fa441d6e1755', queue: 'macpro'})\"></i><i class=\"fa fa-fw fa-trash\"\" onclick=\"task_action({action:'purge', tag:'5057fa441d6e1755', queue: 'macpro'})\"></i></div></pre><pre class=\"task_tags task_tag_scratch_0\">scratch_0<div class=\"task_tag_actions\"><i class=\"fa fa-fw fa-refresh\" onclick=\"task_action({action:'status', tag:'scratch_0', queue: 'macpro'})\"></i><i class=\"fa fa-fw fa-stop\"\" onclick=\"task_action({action:'kill', tag:'scratch_0', queue: 'macpro'})\"></i><i class=\"fa fa-fw fa-trash\"\" onclick=\"task_action({action:'purge', tag:'scratch_0', queue: 'macpro'})\"></i></div></pre><pre class=\"task_tags task_tag_user_guide\">user_guide<div class=\"task_tag_actions\"><i class=\"fa fa-fw fa-refresh\" onclick=\"task_action({action:'status', tag:'user_guide', queue: 'macpro'})\"></i><i class=\"fa fa-fw fa-stop\"\" onclick=\"task_action({action:'kill', tag:'user_guide', queue: 'macpro'})\"></i><i class=\"fa fa-fw fa-trash\"\" onclick=\"task_action({action:'purge', tag:'user_guide', queue: 'macpro'})\"></i></div></pre></span>\n",
       "  </td>\n",
       "  <td class=\"task_timer\">\n",
       "    <pre><i class=\"fa fa-fw fa-clock-o\"></i><time id=\"status_duration_macpro_85ea891331ab4bcb_90b94f2b-4134-4e55-9825-b0cc0de75004\" class=\"completed\" datetime=\"1577670507049.3738\">Ran for < 5 seconds</time></pre>\n",
       "  </td>\n",
       "  <td class=\"task_status\">\n",
       "    <pre><i class=\"fa fa-fw fa-tasks\"></i><span id=\"status_text_macpro_85ea891331ab4bcb_90b94f2b-4134-4e55-9825-b0cc0de75004\">completed</span></pre>\n",
       "  </td>\n",
       "</tr>\n",
       "</table>\n"
      ]
     },
     "metadata": {},
     "output_type": "display_data"
    }
   ],
   "source": [
    "task: queue='localhost', workdir='resource'\n",
    "\n",
    "download:\n",
    "  ftp://speedtest.tele2.net/512KB.zip"
   ]
  },
  {
   "cell_type": "code",
   "execution_count": 2,
   "metadata": {
    "kernel": "SoS",
    "tags": []
   },
   "outputs": [
    {
     "name": "stdout",
     "output_type": "stream",
     "text": [
      "512KB.zip\n"
     ]
    }
   ],
   "source": [
    "!ls resource"
   ]
  },
  {
   "cell_type": "markdown",
   "metadata": {
    "kernel": "SoS",
    "tags": []
   },
   "source": [
    "## Sending additional files before task execution (Option `to_host`)"
   ]
  },
  {
   "cell_type": "markdown",
   "metadata": {
    "kernel": "SoS",
    "tags": []
   },
   "source": [
    "Option `to_host` specifies additional files or directories that would be synchronized to the remote host before tasks are executed. It can be specified as\n",
    "\n",
    "* A single file or directory (with respect to local file system), or\n",
    "* A list of files or directories, or\n",
    "\n",
    "The files or directories will be translated using the host-specific path maps. Note that if a symbolic link is specified in `to_host`, both the symbolic link and the path it refers to would be synchronized to the remote host.\n",
    "\n",
    "Just to demontrate how to use this option, let us copy all notebooks in this directory to a remote host and count the number of them."
   ]
  },
  {
   "cell_type": "code",
   "execution_count": 3,
   "metadata": {
    "kernel": "SoS"
   },
   "outputs": [
    {
     "data": {
      "text/html": [
       "\n",
       "<table id=\"task_bcb_9e7b75df6a5d3767_34f92a0f-fe4b-4eab-bc13-5a37dd7335ca\" class=\"task_table completed\">\n",
       "<tr>\n",
       "  <td class=\"task_icon\">\n",
       "    <i id=\"task_status_icon_bcb_9e7b75df6a5d3767_34f92a0f-fe4b-4eab-bc13-5a37dd7335ca\" class=\"fa fa-2x fa-fw fa-check-square-o\"\n",
       "    null null null></i>\n",
       "  </td>\n",
       "  <td class=\"task_id\">\n",
       "    <span><pre><i class=\"fa fa-fw fa-sitemap\"></i></pre><pre>9e7b75df6a5d3767<div class=\"task_id_actions\"><i class=\"fa fa-fw fa-refresh\" onclick=\"task_action({action:'status', task:'9e7b75df6a5d3767', queue: 'bcb'})\"></i><i class=\"fa fa-fw fa-play\" onclick=\"task_action({action:'execute', task:'9e7b75df6a5d3767', queue: 'bcb'})\"></i><i class=\"fa fa-fw fa-stop\"\" onclick=\"task_action({action:'kill', task:'9e7b75df6a5d3767', queue: 'bcb'})\"></i><i class=\"fa fa-fw fa-trash\"\" onclick=\"task_action({action:'purge', task:'9e7b75df6a5d3767', queue: 'bcb'})\"></i></div></pre></span>\n",
       "  </td>\n",
       "  <td class=\"task_tags\">\n",
       "    <span id=\"status_tags_bcb_9e7b75df6a5d3767_34f92a0f-fe4b-4eab-bc13-5a37dd7335ca\"><pre><i class=\"fa fa-fw fa-info-circle\"></i></pre><pre class=\"task_tags task_tag_5b7627b1ac52aa8f\">5b7627b1ac52aa8f<div class=\"task_tag_actions\"><i class=\"fa fa-fw fa-refresh\" onclick=\"task_action({action:'status', tag:'5b7627b1ac52aa8f', queue: 'bcb'})\"></i><i class=\"fa fa-fw fa-stop\"\" onclick=\"task_action({action:'kill', tag:'5b7627b1ac52aa8f', queue: 'bcb'})\"></i><i class=\"fa fa-fw fa-trash\"\" onclick=\"task_action({action:'purge', tag:'5b7627b1ac52aa8f', queue: 'bcb'})\"></i></div></pre><pre class=\"task_tags task_tag_scratch_0\">scratch_0<div class=\"task_tag_actions\"><i class=\"fa fa-fw fa-refresh\" onclick=\"task_action({action:'status', tag:'scratch_0', queue: 'bcb'})\"></i><i class=\"fa fa-fw fa-stop\"\" onclick=\"task_action({action:'kill', tag:'scratch_0', queue: 'bcb'})\"></i><i class=\"fa fa-fw fa-trash\"\" onclick=\"task_action({action:'purge', tag:'scratch_0', queue: 'bcb'})\"></i></div></pre><pre class=\"task_tags task_tag_user_guide\">user_guide<div class=\"task_tag_actions\"><i class=\"fa fa-fw fa-refresh\" onclick=\"task_action({action:'status', tag:'user_guide', queue: 'bcb'})\"></i><i class=\"fa fa-fw fa-stop\"\" onclick=\"task_action({action:'kill', tag:'user_guide', queue: 'bcb'})\"></i><i class=\"fa fa-fw fa-trash\"\" onclick=\"task_action({action:'purge', tag:'user_guide', queue: 'bcb'})\"></i></div></pre></span>\n",
       "  </td>\n",
       "  <td class=\"task_timer\">\n",
       "    <pre><i class=\"fa fa-fw fa-clock-o\"></i><time id=\"status_duration_bcb_9e7b75df6a5d3767_34f92a0f-fe4b-4eab-bc13-5a37dd7335ca\" class=\"completed\" datetime=\"1577670527050.397\">Ran for < 5 seconds</time></pre>\n",
       "  </td>\n",
       "  <td class=\"task_status\">\n",
       "    <pre><i class=\"fa fa-fw fa-tasks\"></i><span id=\"status_text_bcb_9e7b75df6a5d3767_34f92a0f-fe4b-4eab-bc13-5a37dd7335ca\">completed</span></pre>\n",
       "  </td>\n",
       "</tr>\n",
       "</table>\n"
      ]
     },
     "metadata": {},
     "output_type": "display_data"
    },
    {
     "data": {
      "text/html": [
       "<div class=\"sos_logging sos_info\">INFO: 9e7b75df6a5d3767 <span class=\"sos_highlight\">sent</span> 'task_files.ipynb', ... (5 items) to bcb</div>"
      ]
     },
     "metadata": {},
     "output_type": "display_data"
    },
    {
     "data": {
      "text/html": [
       "<div class=\"sos_logging sos_info\">INFO: 9e7b75df6a5d3767 <span class=\"sos_highlight\">received</span> 'wc.txt' from bcb</div>"
      ]
     },
     "metadata": {},
     "output_type": "display_data"
    },
    {
     "data": {
      "text/html": [
       "<div class=\"sos_hint\">> wc.txt (156 B):</div>"
      ],
      "text/plain": [
       "\n",
       "> wc.txt (156 B):"
      ]
     },
     "metadata": {},
     "output_type": "display_data"
    },
    {
     "data": {
      "text/html": [
       "<div class=\"sos_hint\">6 lines (5 displayed, see --limit)</div>"
      ]
     },
     "metadata": {},
     "output_type": "display_data"
    },
    {
     "name": "stdout",
     "output_type": "stream",
     "text": [
      "     363 task_files.ipynb\n",
      "     386 task_management.ipynb\n",
      "     817 task_statement.ipynb\n",
      "     223 task_tags.ipynb\n",
      "     390 task_template.ipynb"
     ]
    }
   ],
   "source": [
    "%preview -n wc.txt \n",
    "output: 'wc.txt'\n",
    "task: to_host='task*.ipynb', queue='bcb' \n",
    "sh: expand=True\n",
    "  wc -l *.ipynb > {_output}"
   ]
  },
  {
   "cell_type": "markdown",
   "metadata": {
    "kernel": "SoS",
    "tags": []
   },
   "source": [
    "## Retrieving additional files after task completion (Option `from_host`)"
   ]
  },
  {
   "cell_type": "markdown",
   "metadata": {
    "kernel": "SoS",
    "tags": []
   },
   "source": [
    "Option `from_host` specifies additional files or directories that would be synchronized from the remote host after tasks are executed. It can be specified as\n",
    "\n",
    "* A single file or directory (with respect to local file system), or\n",
    "* A list of files or directories, or\n",
    "\n",
    "The files or directories will be translated using the host-specific path maps to determine what remote files to retrieve."
   ]
  },
  {
   "cell_type": "markdown",
   "metadata": {
    "kernel": "SoS"
   },
   "source": [
    "## Absolute paths and named paths"
   ]
  },
  {
   "cell_type": "markdown",
   "metadata": {
    "kernel": "SoS"
   },
   "source": [
    "The use of relative paths are highly recommended because relative paths are not system dependent. Although `data/sample1.csv` can be under different paths on local and remote hosts, SoS handles the mapping of current project directory and `data/sample1.csv` would represent the same file under local and remote hosts.\n",
    "\n",
    "Things get a lot more complicated when absolute paths are involved. In the following example, `_output` is specified with absolute path, the task still magically works on a cluster system with home directory `/home/bpeng1` because SoS automatically translates input and output files, and knows the output should be `/home/bpeng1/scratch/sos/sos-docs/src/user_guide/random_output.txt` on the remote host. The output files are correctly synchronized to local host."
   ]
  },
  {
   "cell_type": "code",
   "execution_count": 4,
   "metadata": {
    "kernel": "SoS"
   },
   "outputs": [
    {
     "data": {
      "text/html": [
       "<div class=\"sos_logging sos_info\">INFO: 4b724175bd0657a0 <span class=\"sos_highlight\">re-execute completed</span></div>"
      ]
     },
     "metadata": {},
     "output_type": "display_data"
    },
    {
     "data": {
      "text/html": [
       "\n",
       "<table id=\"task_htc_4b724175bd0657a0_bcedece5-db5a-4099-950f-c311c865f536\" class=\"task_table completed\">\n",
       "<tr>\n",
       "  <td class=\"task_icon\">\n",
       "    <i id=\"task_status_icon_htc_4b724175bd0657a0_bcedece5-db5a-4099-950f-c311c865f536\" class=\"fa fa-2x fa-fw fa-check-square-o\"\n",
       "    null null null></i>\n",
       "  </td>\n",
       "  <td class=\"task_id\">\n",
       "    <span><pre><i class=\"fa fa-fw fa-sitemap\"></i></pre><pre>4b724175bd0657a0<div class=\"task_id_actions\"><i class=\"fa fa-fw fa-refresh\" onclick=\"task_action({action:'status', task:'4b724175bd0657a0', queue: 'htc'})\"></i><i class=\"fa fa-fw fa-play\" onclick=\"task_action({action:'execute', task:'4b724175bd0657a0', queue: 'htc'})\"></i><i class=\"fa fa-fw fa-stop\"\" onclick=\"task_action({action:'kill', task:'4b724175bd0657a0', queue: 'htc'})\"></i><i class=\"fa fa-fw fa-trash\"\" onclick=\"task_action({action:'purge', task:'4b724175bd0657a0', queue: 'htc'})\"></i></div></pre></span>\n",
       "  </td>\n",
       "  <td class=\"task_tags\">\n",
       "    <span id=\"status_tags_htc_4b724175bd0657a0_bcedece5-db5a-4099-950f-c311c865f536\"><pre><i class=\"fa fa-fw fa-info-circle\"></i></pre><pre class=\"task_tags task_tag_7cb2935fe9e6b29d\">7cb2935fe9e6b29d<div class=\"task_tag_actions\"><i class=\"fa fa-fw fa-refresh\" onclick=\"task_action({action:'status', tag:'7cb2935fe9e6b29d', queue: 'htc'})\"></i><i class=\"fa fa-fw fa-stop\"\" onclick=\"task_action({action:'kill', tag:'7cb2935fe9e6b29d', queue: 'htc'})\"></i><i class=\"fa fa-fw fa-trash\"\" onclick=\"task_action({action:'purge', tag:'7cb2935fe9e6b29d', queue: 'htc'})\"></i></div></pre><pre class=\"task_tags task_tag_scratch_0\">scratch_0<div class=\"task_tag_actions\"><i class=\"fa fa-fw fa-refresh\" onclick=\"task_action({action:'status', tag:'scratch_0', queue: 'htc'})\"></i><i class=\"fa fa-fw fa-stop\"\" onclick=\"task_action({action:'kill', tag:'scratch_0', queue: 'htc'})\"></i><i class=\"fa fa-fw fa-trash\"\" onclick=\"task_action({action:'purge', tag:'scratch_0', queue: 'htc'})\"></i></div></pre><pre class=\"task_tags task_tag_user_guide\">user_guide<div class=\"task_tag_actions\"><i class=\"fa fa-fw fa-refresh\" onclick=\"task_action({action:'status', tag:'user_guide', queue: 'htc'})\"></i><i class=\"fa fa-fw fa-stop\"\" onclick=\"task_action({action:'kill', tag:'user_guide', queue: 'htc'})\"></i><i class=\"fa fa-fw fa-trash\"\" onclick=\"task_action({action:'purge', tag:'user_guide', queue: 'htc'})\"></i></div></pre></span>\n",
       "  </td>\n",
       "  <td class=\"task_timer\">\n",
       "    <pre><i class=\"fa fa-fw fa-clock-o\"></i><time id=\"status_duration_htc_4b724175bd0657a0_bcedece5-db5a-4099-950f-c311c865f536\" class=\"completed\" datetime=\"1577670555454.3262\">Ran for < 5 seconds</time></pre>\n",
       "  </td>\n",
       "  <td class=\"task_status\">\n",
       "    <pre><i class=\"fa fa-fw fa-tasks\"></i><span id=\"status_text_htc_4b724175bd0657a0_bcedece5-db5a-4099-950f-c311c865f536\">completed</span></pre>\n",
       "  </td>\n",
       "</tr>\n",
       "</table>\n"
      ]
     },
     "metadata": {},
     "output_type": "display_data"
    },
    {
     "data": {
      "text/html": [
       "<div class=\"sos_logging sos_info\">INFO: 4b724175bd0657a0 <span class=\"sos_highlight\">submitted</span> to htc with job id 1726068.dqshtc</div>"
      ]
     },
     "metadata": {},
     "output_type": "display_data"
    },
    {
     "data": {
      "text/html": [
       "<div class=\"sos_logging sos_info\">INFO: 4b724175bd0657a0 <span class=\"sos_highlight\">received</span> '/Users/bpeng1/sos/sos-docs/src/user_guide/random_output.txt' from htc</div>"
      ]
     },
     "metadata": {},
     "output_type": "display_data"
    },
    {
     "data": {
      "text/html": [
       "<div class=\"sos_hint\">> random_output.txt (20 B):</div>"
      ],
      "text/plain": [
       "\n",
       "> random_output.txt (20 B):"
      ]
     },
     "metadata": {},
     "output_type": "display_data"
    },
    {
     "data": {
      "text/html": [
       "<div class=\"sos_hint\">0 line</div>"
      ]
     },
     "metadata": {},
     "output_type": "display_data"
    },
    {
     "name": "stdout",
     "output_type": "stream",
     "text": [
      "Random number is 762"
     ]
    }
   ],
   "source": [
    "%preview -n random_output.txt\n",
    "output: '/Users/bpeng1/sos/sos-docs/src/user_guide/random_output.txt'\n",
    "task: queue='htc', mem='4G'\n",
    "import random\n",
    "with open(_output, 'w') as out:\n",
    "  out.write(f'Random number is {random.randint(0, 1000)}')"
   ]
  },
  {
   "cell_type": "markdown",
   "metadata": {
    "kernel": "SoS"
   },
   "source": [
    "However, if you execute the workflow directly on the remote host using option `-r`, it would fail because '/Users' is not a writable directory on the remote host."
   ]
  },
  {
   "cell_type": "code",
   "execution_count": 5,
   "metadata": {
    "kernel": "SoS"
   },
   "outputs": [
    {
     "name": "stdout",
     "output_type": "stream",
     "text": [
      "INFO: Running \u001b[32mdefault\u001b[0m: \n",
      "\u001b[91mERROR\u001b[0m: \u001b[91m[default]: [default]: Failed to process step output ('/Users/bpeng1/sos/sos-docs/src/user_guide/random_output.txt'): [Errno 13] Permission denied: '/Users'\u001b[0m\n",
      "\u001b[91mERROR\u001b[0m: \u001b[91mFailed to submit workflow sos run /home/bpeng1/sos/sos-docs/src/user_guide/.tmp_script_p9m5uv2f.sos: Command 'ssh -o \"ControlMaster=auto\" -o \"ControlPath=/Users/bpeng1/.ssh/controlmasters/%r@%h:%p\" -o \"ControlPersist=10m\" -q q1prphtch00.mdanderson.edu -p 22 \"bash --login -c ' [ -d /home/bpeng1/sos/sos-docs/src/user_guide ] || mkdir -p /home/bpeng1/sos/sos-docs/src/user_guide; cd /home/bpeng1/sos/sos-docs/src/user_guide &&  sos run /home/bpeng1/sos/sos-docs/src/user_guide/.tmp_script_p9m5uv2f.sos'\" ' returned non-zero exit status 1.\u001b[0m\n"
     ]
    },
    {
     "name": "stderr",
     "output_type": "stream",
     "text": [
      "RuntimeError: Workflow exited with code 1"
     ]
    }
   ],
   "source": [
    "%env --expect-error\n",
    "\n",
    "%run -r htc-headnode\n",
    "output: '/Users/bpeng1/sos/sos-docs/src/user_guide/random_output.txt'\n",
    "\n",
    "import random\n",
    "with open(_output, 'w') as out:\n",
    "  out.write(f'Random number is {random.randint(0, 1000)}')"
   ]
  },
  {
   "cell_type": "markdown",
   "metadata": {
    "kernel": "SoS"
   },
   "source": [
    "This problem could be solved by the use of host-specific paths. For example, if you are running the work on `htc-headnode`, you can change the output to use the correct path for this host."
   ]
  },
  {
   "cell_type": "code",
   "execution_count": 6,
   "metadata": {
    "kernel": "SoS"
   },
   "outputs": [
    {
     "name": "stdout",
     "output_type": "stream",
     "text": [
      "INFO: Running \u001b[32mdefault\u001b[0m: \n",
      "INFO: \u001b[32mdefault\u001b[0m is \u001b[32mcompleted\u001b[0m.\n",
      "INFO: \u001b[32mdefault\u001b[0m output:   \u001b[32m/home/bpeng1/sos/sos-docs/src/user_guide/random_output.txt\u001b[0m\n",
      "INFO: Workflow default (ID=1c5299a18b627a6e) is executed successfully with 1 completed step.\n"
     ]
    }
   ],
   "source": [
    "%run -r htc-headnode\n",
    "output: '/home/bpeng1/sos/sos-docs/src/user_guide/random_output.txt'\n",
    "\n",
    "import random\n",
    "with open(_output, 'w') as out:\n",
    "  out.write(f'Random number is {random.randint(0, 1000)}')"
   ]
  },
  {
   "cell_type": "markdown",
   "metadata": {
    "kernel": "SoS"
   },
   "source": [
    "A better choice that would make your workflow more \"portable\" would be using [named paths](targets.ipynb). For example, if you use `#home` on `htc-headnode` which has the correct named paths defined, the workflow would execute successfully."
   ]
  },
  {
   "cell_type": "code",
   "execution_count": 7,
   "metadata": {
    "kernel": "SoS"
   },
   "outputs": [
    {
     "name": "stdout",
     "output_type": "stream",
     "text": [
      "INFO: Running \u001b[32mdefault\u001b[0m: \n",
      "INFO: \u001b[32mdefault\u001b[0m (index=0) is \u001b[32mignored\u001b[0m due to saved signature\n",
      "INFO: \u001b[32mdefault\u001b[0m output:   \u001b[32m/home/bpeng1/sos/sos-docs/src/user_guide/random_output.txt\u001b[0m\n",
      "INFO: Workflow default (ID=95ff85f084c10b32) is ignored with 1 ignored step.\n"
     ]
    }
   ],
   "source": [
    "%run -r htc-headnode\n",
    "\n",
    "output: '#home/sos/sos-docs/src/user_guide/random_output.txt'\n",
    "\n",
    "import random\n",
    "with open(_output, 'w') as out:\n",
    "  out.write(f'Random number is {random.randint(0, 1000)}')"
   ]
  }
 ],
 "metadata": {
  "kernelspec": {
   "display_name": "SoS",
   "language": "sos",
   "name": "sos"
  },
  "language_info": {
   "codemirror_mode": "sos",
   "file_extension": ".sos",
   "mimetype": "text/x-sos",
   "name": "sos",
   "nbconvert_exporter": "sos_notebook.converter.SoS_Exporter",
   "pygments_lexer": "sos"
  },
  "sos": {
   "kernels": [
    [
     "Bash",
     "bash",
     "Bash",
     "#E6EEFF"
    ],
    [
     "R",
     "ir",
     "R",
     "#DCDCDA"
    ],
    [
     "SoS",
     "sos",
     "",
     ""
    ]
   ],
   "panel": {
    "displayed": true,
    "height": 0
   },
   "version": "0.21.6"
  }
 },
 "nbformat": 4,
 "nbformat_minor": 4
}
