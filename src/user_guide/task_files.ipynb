{
 "cells": [
  {
   "cell_type": "markdown",
   "metadata": {
    "kernel": "SoS",
    "tags": []
   },
   "source": [
    "# Specifying and synchronization of remote files"
   ]
  },
  {
   "cell_type": "markdown",
   "metadata": {
    "kernel": "SoS",
    "tags": []
   },
   "source": [
    "* **Difficulty level**: intermediate\n",
    "* **Time need to lean**: 20 minutes or less\n",
    "  * Paths that are relative to the current working directory are portable across hosts.\n",
    "  * Use named paths (`#name`) to specify absolute paths that are different from local and remote hosts.\n",
    "  * Options `to_host` and `from_host` specify files and directories send before task execution and retrieve after task execution, respectively."
   ]
  },
  {
   "cell_type": "markdown",
   "metadata": {
    "kernel": "SoS"
   },
   "source": [
    "## Path defintions for hosts"
   ]
  },
  {
   "cell_type": "markdown",
   "metadata": {
    "kernel": "SoS"
   },
   "source": [
    "When local and remote hosts do not share file systems (or share only some file systems), things can get a bit complicated because SoS will need to decide what paths to use on the remote host. The most important thing to rememver here is that **paths across local and remote hosts are linked by named paths defined in the SoS host definition file**.\n",
    "\n",
    "For example, a host definition file (usually `~/.sos/hosts.yml`) could have the following `paths` definitions\n",
    "\n",
    "```yaml\n",
    "localhost: office\n",
    "hosts:\n",
    "    office:\n",
    "        paths:\n",
    "            home:  /Usrs/{user_name}\n",
    "            projects: /Users/{user_name}/projects\n",
    "            scratch: /usr/{user_name}/scratch\n",
    "    cluster:\n",
    "        paths:\n",
    "            home:  /home/{user_name}\n",
    "            projects: /home/projects/{user_name}\n",
    "            scratch: /mount/scratch\n",
    "```\n",
    "\n",
    "so that paths under `home`, `projects`, or `scratch` could be linked across `office` and `cluster`.\n"
   ]
  },
  {
   "cell_type": "markdown",
   "metadata": {
    "kernel": "SoS",
    "tags": []
   },
   "source": [
    "## Working directory of tasks (Option `workdir`)\n",
    "\n",
    "The `workdir` of task is default to the current working directory, or, in the case of remote execution, the remote counterpart of the current working directory. The `workdir` must be under one of the named paths.\n",
    "\n",
    "Option `workdir` controls the working directory of the task. For example, the following step downloads a file to the `resource` directory using [action `download`](download.html). Note that SoS creates `workdir` if it does not exist."
   ]
  },
  {
   "cell_type": "code",
   "execution_count": 1,
   "metadata": {
    "kernel": "SoS",
    "tags": []
   },
   "outputs": [
    {
     "data": {
      "text/html": [
       "\n",
       "<table id=\"task_localhost_85ea891331ab4bcb_5c57eee2-334e-4ee4-964e-c5f3bbcc861f\" class=\"task_table completed\">\n",
       "<tr>\n",
       "  <td class=\"task_icon\">\n",
       "    <i id=\"task_status_icon_localhost_85ea891331ab4bcb_5c57eee2-334e-4ee4-964e-c5f3bbcc861f\" class=\"fa fa-2x fa-fw fa-check-square-o\"\n",
       "    null null null></i>\n",
       "  </td>\n",
       "  <td class=\"task_id\">\n",
       "    <span><pre><i class=\"fa fa-fw fa-sitemap\"></i></pre><pre>85ea891331ab4bcb<div class=\"task_id_actions\"><i class=\"fa fa-fw fa-refresh\" onclick=\"task_action({action:'status', task:'85ea891331ab4bcb', queue: 'localhost'})\"></i><i class=\"fa fa-fw fa-play\" onclick=\"task_action({action:'execute', task:'85ea891331ab4bcb', queue: 'localhost'})\"></i><i class=\"fa fa-fw fa-stop\"\" onclick=\"task_action({action:'kill', task:'85ea891331ab4bcb', queue: 'localhost'})\"></i><i class=\"fa fa-fw fa-trash\"\" onclick=\"task_action({action:'purge', task:'85ea891331ab4bcb', queue: 'localhost'})\"></i></div></pre></span>\n",
       "  </td>\n",
       "  <td class=\"task_tags\">\n",
       "    <span id=\"status_tags_localhost_85ea891331ab4bcb_5c57eee2-334e-4ee4-964e-c5f3bbcc861f\"><pre><i class=\"fa fa-fw fa-info-circle\"></i></pre><pre class=\"task_tags task_tag_5057fa441d6e1755\">5057fa441d6e1755<div class=\"task_tag_actions\"><i class=\"fa fa-fw fa-refresh\" onclick=\"task_action({action:'status', tag:'5057fa441d6e1755', queue: 'localhost'})\"></i><i class=\"fa fa-fw fa-stop\"\" onclick=\"task_action({action:'kill', tag:'5057fa441d6e1755', queue: 'localhost'})\"></i><i class=\"fa fa-fw fa-trash\"\" onclick=\"task_action({action:'purge', tag:'5057fa441d6e1755', queue: 'localhost'})\"></i></div></pre><pre class=\"task_tags task_tag_cell_5c57eee2\">cell_5c57eee2<div class=\"task_tag_actions\"><i class=\"fa fa-fw fa-refresh\" onclick=\"task_action({action:'status', tag:'cell_5c57eee2', queue: 'localhost'})\"></i><i class=\"fa fa-fw fa-stop\"\" onclick=\"task_action({action:'kill', tag:'cell_5c57eee2', queue: 'localhost'})\"></i><i class=\"fa fa-fw fa-trash\"\" onclick=\"task_action({action:'purge', tag:'cell_5c57eee2', queue: 'localhost'})\"></i></div></pre><pre class=\"task_tags task_tag_user_guide\">user_guide<div class=\"task_tag_actions\"><i class=\"fa fa-fw fa-refresh\" onclick=\"task_action({action:'status', tag:'user_guide', queue: 'localhost'})\"></i><i class=\"fa fa-fw fa-stop\"\" onclick=\"task_action({action:'kill', tag:'user_guide', queue: 'localhost'})\"></i><i class=\"fa fa-fw fa-trash\"\" onclick=\"task_action({action:'purge', tag:'user_guide', queue: 'localhost'})\"></i></div></pre></span>\n",
       "  </td>\n",
       "  <td class=\"task_timer\">\n",
       "    <pre><i class=\"fa fa-fw fa-clock-o\"></i><time id=\"status_duration_localhost_85ea891331ab4bcb_5c57eee2-334e-4ee4-964e-c5f3bbcc861f\" class=\"completed\" datetime=\"1607897067546.1462\">Ran for < 5 seconds</time></pre>\n",
       "  </td>\n",
       "  <td class=\"task_status\">\n",
       "    <pre><i class=\"fa fa-fw fa-tasks\"></i><span id=\"status_text_localhost_85ea891331ab4bcb_5c57eee2-334e-4ee4-964e-c5f3bbcc861f\">completed</span></pre>\n",
       "  </td>\n",
       "</tr>\n",
       "</table>\n"
      ]
     },
     "metadata": {},
     "output_type": "display_data"
    }
   ],
   "source": [
    "task: queue='localhost', workdir='resource'\n",
    "\n",
    "download:\n",
    "  ftp://speedtest.tele2.net/512KB.zip"
   ]
  },
  {
   "cell_type": "code",
   "execution_count": 2,
   "metadata": {
    "kernel": "SoS",
    "tags": []
   },
   "outputs": [
    {
     "name": "stdout",
     "output_type": "stream",
     "text": [
      "512KB.zip\n"
     ]
    }
   ],
   "source": [
    "!ls resource"
   ]
  },
  {
   "cell_type": "markdown",
   "metadata": {
    "kernel": "SoS",
    "tags": []
   },
   "source": [
    "## Sending additional files before task execution (Option `to_host`)"
   ]
  },
  {
   "cell_type": "markdown",
   "metadata": {
    "kernel": "SoS",
    "tags": []
   },
   "source": [
    "Option `to_host` specifies additional files or directories that would be synchronized to the remote host before tasks are executed. It can be specified as\n",
    "\n",
    "* A single file or directory (with respect to local file system), or\n",
    "* A list of files or directories, or\n",
    "\n",
    "The files or directories will be translated using the host-specific path maps. Note that if a symbolic link is specified in `to_host`, both the symbolic link and the path it refers to would be synchronized to the remote host.\n",
    "\n",
    "Just to demontrate how to use this option, let us copy all notebooks in this directory to a remote host and count the number of them."
   ]
  },
  {
   "cell_type": "code",
   "execution_count": 3,
   "metadata": {
    "kernel": "SoS"
   },
   "outputs": [
    {
     "data": {
      "text/html": [
       "\n",
       "<table id=\"task_bcb_9e7b75df6a5d3767_6cddfc4e-d1c0-4175-8d5f-50182b737fbb\" class=\"task_table missing\">\n",
       "<tr>\n",
       "  <td class=\"task_icon\">\n",
       "    <i id=\"task_status_icon_bcb_9e7b75df6a5d3767_6cddfc4e-d1c0-4175-8d5f-50182b737fbb\" class=\"fa fa-2x fa-fw fa-question\"\n",
       "    null null null></i>\n",
       "  </td>\n",
       "  <td class=\"task_id\">\n",
       "    <span><pre><i class=\"fa fa-fw fa-sitemap\"></i></pre><pre>9e7b75df6a5d3767<div class=\"task_id_actions\"><i class=\"fa fa-fw fa-refresh\" onclick=\"task_action({action:'status', task:'9e7b75df6a5d3767', queue: 'bcb'})\"></i><i class=\"fa fa-fw fa-play\" onclick=\"task_action({action:'execute', task:'9e7b75df6a5d3767', queue: 'bcb'})\"></i><i class=\"fa fa-fw fa-stop\"\" onclick=\"task_action({action:'kill', task:'9e7b75df6a5d3767', queue: 'bcb'})\"></i><i class=\"fa fa-fw fa-trash\"\" onclick=\"task_action({action:'purge', task:'9e7b75df6a5d3767', queue: 'bcb'})\"></i></div></pre></span>\n",
       "  </td>\n",
       "  <td class=\"task_tags\">\n",
       "    <span id=\"status_tags_bcb_9e7b75df6a5d3767_6cddfc4e-d1c0-4175-8d5f-50182b737fbb\"><pre><i class=\"fa fa-fw fa-info-circle\"></i></pre><pre class=\"task_tags task_tag_5b7627b1ac52aa8f\">5b7627b1ac52aa8f<div class=\"task_tag_actions\"><i class=\"fa fa-fw fa-refresh\" onclick=\"task_action({action:'status', tag:'5b7627b1ac52aa8f', queue: 'bcb'})\"></i><i class=\"fa fa-fw fa-stop\"\" onclick=\"task_action({action:'kill', tag:'5b7627b1ac52aa8f', queue: 'bcb'})\"></i><i class=\"fa fa-fw fa-trash\"\" onclick=\"task_action({action:'purge', tag:'5b7627b1ac52aa8f', queue: 'bcb'})\"></i></div></pre><pre class=\"task_tags task_tag_scratch_0\">scratch_0<div class=\"task_tag_actions\"><i class=\"fa fa-fw fa-refresh\" onclick=\"task_action({action:'status', tag:'scratch_0', queue: 'bcb'})\"></i><i class=\"fa fa-fw fa-stop\"\" onclick=\"task_action({action:'kill', tag:'scratch_0', queue: 'bcb'})\"></i><i class=\"fa fa-fw fa-trash\"\" onclick=\"task_action({action:'purge', tag:'scratch_0', queue: 'bcb'})\"></i></div></pre><pre class=\"task_tags task_tag_user_guide\">user_guide<div class=\"task_tag_actions\"><i class=\"fa fa-fw fa-refresh\" onclick=\"task_action({action:'status', tag:'user_guide', queue: 'bcb'})\"></i><i class=\"fa fa-fw fa-stop\"\" onclick=\"task_action({action:'kill', tag:'user_guide', queue: 'bcb'})\"></i><i class=\"fa fa-fw fa-trash\"\" onclick=\"task_action({action:'purge', tag:'user_guide', queue: 'bcb'})\"></i></div></pre></span>\n",
       "  </td>\n",
       "  <td class=\"task_timer\">\n",
       "    <pre><i class=\"fa fa-fw fa-clock-o\"></i><time id=\"status_duration_bcb_9e7b75df6a5d3767_6cddfc4e-d1c0-4175-8d5f-50182b737fbb\" class=\"missing\" datetime=\"null\">Ran for < 5 seconds</time></pre>\n",
       "  </td>\n",
       "  <td class=\"task_status\">\n",
       "    <pre><i class=\"fa fa-fw fa-tasks\"></i><span id=\"status_text_bcb_9e7b75df6a5d3767_6cddfc4e-d1c0-4175-8d5f-50182b737fbb\">missing</span></pre>\n",
       "  </td>\n",
       "</tr>\n",
       "</table>\n"
      ]
     },
     "metadata": {},
     "output_type": "display_data"
    },
    {
     "data": {
      "text/html": [
       "<div class=\"sos_logging sos_info\">INFO: 9e7b75df6a5d3767 <span class=\"sos_highlight\">sent</span> 'task_files.ipynb', ... (5 items) to bcb</div>"
      ]
     },
     "metadata": {},
     "output_type": "display_data"
    },
    {
     "data": {
      "text/html": [
       "<div class=\"sos_logging sos_info\">INFO: 9e7b75df6a5d3767 <span class=\"sos_highlight\">received</span> 'wc.txt' from bcb</div>"
      ]
     },
     "metadata": {},
     "output_type": "display_data"
    },
    {
     "data": {
      "text/html": [
       "<div class=\"sos_hint\">> wc.txt (156 B):</div>"
      ],
      "text/plain": [
       "\n",
       "> wc.txt (156 B):"
      ]
     },
     "metadata": {},
     "output_type": "display_data"
    },
    {
     "data": {
      "text/html": [
       "<div class=\"sos_hint\">6 lines (5 displayed, see --limit)</div>"
      ]
     },
     "metadata": {},
     "output_type": "display_data"
    },
    {
     "name": "stdout",
     "output_type": "stream",
     "text": [
      "     363 task_files.ipynb\n",
      "     386 task_management.ipynb\n",
      "     817 task_statement.ipynb\n",
      "     223 task_tags.ipynb\n",
      "     390 task_template.ipynb"
     ]
    }
   ],
   "source": [
    "%preview -n wc.txt \n",
    "output: 'wc.txt'\n",
    "task: to_host='task*.ipynb', queue='bcb' \n",
    "sh: expand=True\n",
    "  wc -l *.ipynb > {_output}"
   ]
  },
  {
   "cell_type": "markdown",
   "metadata": {
    "kernel": "SoS",
    "tags": []
   },
   "source": [
    "## Retrieving additional files after task completion (Option `from_host`)"
   ]
  },
  {
   "cell_type": "markdown",
   "metadata": {
    "kernel": "SoS",
    "tags": []
   },
   "source": [
    "Option `from_host` specifies additional files or directories that would be synchronized from the remote host after tasks are executed. It can be specified as\n",
    "\n",
    "* A single file or directory (with respect to local file system), or\n",
    "* A list of files or directories, or\n",
    "\n",
    "The files or directories will be translated using the host-specific path maps to determine what remote files to retrieve."
   ]
  },
  {
   "cell_type": "markdown",
   "metadata": {
    "kernel": "SoS"
   },
   "source": [
    "## Absolute paths and named paths"
   ]
  },
  {
   "cell_type": "markdown",
   "metadata": {
    "kernel": "SoS"
   },
   "source": [
    "The use of relative paths are highly recommended because relative paths are not system dependent. Although `data/sample1.csv` can be under different paths on local and remote hosts, SoS handles the mapping of current project directory and `data/sample1.csv` would represent the same file under local and remote hosts.\n",
    "\n",
    "If you have to specify an absolute path, you will need to specify them with named patchs as follows:"
   ]
  },
  {
   "cell_type": "code",
   "execution_count": 7,
   "metadata": {
    "kernel": "SoS"
   },
   "outputs": [
    {
     "name": "stdout",
     "output_type": "stream",
     "text": [
      "INFO: Running \u001b[32mdefault\u001b[0m: \n",
      "INFO: \u001b[32mdefault\u001b[0m (index=0) is \u001b[32mignored\u001b[0m due to saved signature\n",
      "INFO: \u001b[32mdefault\u001b[0m output:   \u001b[32m/home/bpeng1/sos/sos-docs/src/user_guide/random_output.txt\u001b[0m\n",
      "INFO: Workflow default (ID=95ff85f084c10b32) is ignored with 1 ignored step.\n"
     ]
    }
   ],
   "source": [
    "%run -r htc-headnode\n",
    "\n",
    "output: '#home/sos/sos-docs/src/user_guide/random_output.txt'\n",
    "\n",
    "import random\n",
    "with open(_output, 'w') as out:\n",
    "  out.write(f'Random number is {random.randint(0, 1000)}')"
   ]
  }
 ],
 "metadata": {
  "kernelspec": {
   "display_name": "SoS",
   "language": "sos",
   "name": "sos"
  },
  "language_info": {
   "codemirror_mode": "sos",
   "file_extension": ".sos",
   "mimetype": "text/x-sos",
   "name": "sos",
   "nbconvert_exporter": "sos_notebook.converter.SoS_Exporter",
   "pygments_lexer": "sos"
  },
  "sos": {
   "kernels": [
    [
     "Bash",
     "bash",
     "Bash",
     "#E6EEFF"
    ],
    [
     "R",
     "ir",
     "R",
     "#DCDCDA"
    ],
    [
     "SoS",
     "sos",
     "",
     ""
    ]
   ],
   "panel": {
    "displayed": true,
    "height": 0
   },
   "version": "0.22.4"
  }
 },
 "nbformat": 4,
 "nbformat_minor": 4
}
