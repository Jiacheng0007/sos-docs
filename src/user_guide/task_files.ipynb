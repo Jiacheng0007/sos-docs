{
 "cells": [
  {
   "cell_type": "markdown",
   "metadata": {
    "kernel": "SoS",
    "tags": []
   },
   "source": [
    "# Path translation and file synchronization"
   ]
  },
  {
   "cell_type": "markdown",
   "metadata": {
    "kernel": "SoS",
    "tags": []
   },
   "source": [
    "* **Difficulty level**: intermediate\n",
    "* **Time need to lean**: 20 minutes or less\n",
    "  * A remote host might have different paths from the local host, making the execution of tasks difficult\n",
    "  * SoS automatically translates paths specified in `_input`, `_depends` and `_output` according to host configurations\n",
    "  * Options `to_host` and `from_host` specify files and directories send before task execution and retrieve after task execution, respectively.\n",
    "  * Use of named path could make your workflow more portable and easier to read.  "
   ]
  },
  {
   "cell_type": "markdown",
   "metadata": {
    "kernel": "SoS"
   },
   "source": [
    "## Translation of input and output paths"
   ]
  },
  {
   "cell_type": "markdown",
   "metadata": {
    "kernel": "SoS"
   },
   "source": [
    "When local and remote hosts do not share file systems (or share only some file systems), things can get a bit complicated because SoS will need to decide what paths to use on the remote host. There are a few things to understand here:\n",
    "\n",
    "**The current project directory, and all input, output and dependent files that are involved need to be under paths defined for local and remote host.** This is usually not a problem if you are working under your home directory and you have `home` defined under `paths` of both local and remote hosts, but can become more complicated if your tasks involves system directories such as `resource`, `temp`, and `scratch` that are outside of `home`. In these cases, all involved directories need to be defined for both local and remote hosts.\n",
    "\n",
    "**Unless specified otherwise, the tasks will be executed under the remote version of the current working directory.**. That is to say, the execution of tasks will leave files on remote hosts that will not be automatically removed, and in a worse scenario **might overwrite remote files without warning**. This is why we recommend that you set remote `home` to a directory other than the true `home` (e.g. `/home/user_name/scratch`, or `/home/user_name/sos_temp`). In this way SoS will write to sos-specified directories on remote hosts and will not containminate your real `home` directory.\n",
    "\n",
    "**Unless specified otherwise, input and dependent files will be copied to remote host before execution, and output files will be copied to local host after the completion of the task.** It is therefore important for you to plan ahead and avoid synchronization of large files that should stay on remote hosts."
   ]
  },
  {
   "cell_type": "markdown",
   "metadata": {
    "kernel": "SoS",
    "tags": []
   },
   "source": [
    "## Working directory of tasks (Option `workdir`)\n",
    "\n",
    "The `workdir` of task is default to the current working directory, or, in the case of remote execution, the remote counterpart of the current working directory.\n",
    "\n",
    "Option `workdir` controls the working directory of the task. For example, the following step downloads a file to the `resource` directory using [action `download`](download.html)."
   ]
  },
  {
   "cell_type": "code",
   "execution_count": 9,
   "metadata": {
    "kernel": "SoS",
    "tags": []
   },
   "outputs": [
    {
     "data": {
      "text/html": [
       "<div class=\"sos_logging sos_info\">INFO: 85ea891331ab4bcb <span class=\"sos_highlight\">re-execute completed</span></div>"
      ]
     },
     "metadata": {},
     "output_type": "display_data"
    },
    {
     "data": {
      "text/html": [
       "\n",
       "<table id=\"task_macpro_85ea891331ab4bcb_afb97088-bddf-498a-84b8-24a91d0f4611\" class=\"task_table completed\">\n",
       "<tr>\n",
       "  <td class=\"task_icon\">\n",
       "    <i id=\"task_status_icon_macpro_85ea891331ab4bcb_afb97088-bddf-498a-84b8-24a91d0f4611\" class=\"fa fa-2x fa-fw fa-check-square-o\"\n",
       "    null null null></i>\n",
       "  </td>\n",
       "  <td class=\"task_id\">\n",
       "    <span><pre><i class=\"fa fa-fw fa-sitemap\"></i></pre><pre>85ea891331ab4bcb<div class=\"task_id_actions\"><i class=\"fa fa-fw fa-refresh\" onclick=\"task_action({action:'status', task:'85ea891331ab4bcb', queue: 'macpro'})\"></i><i class=\"fa fa-fw fa-play\" onclick=\"task_action({action:'execute', task:'85ea891331ab4bcb', queue: 'macpro'})\"></i><i class=\"fa fa-fw fa-stop\"\" onclick=\"task_action({action:'kill', task:'85ea891331ab4bcb', queue: 'macpro'})\"></i><i class=\"fa fa-fw fa-trash\"\" onclick=\"task_action({action:'purge', task:'85ea891331ab4bcb', queue: 'macpro'})\"></i></div></pre></span>\n",
       "  </td>\n",
       "  <td class=\"task_tags\">\n",
       "    <span id=\"status_tags_macpro_85ea891331ab4bcb_afb97088-bddf-498a-84b8-24a91d0f4611\"><pre><i class=\"fa fa-fw fa-info-circle\"></i></pre><pre class=\"task_tags task_tag_5057fa441d6e1755\">5057fa441d6e1755<div class=\"task_tag_actions\"><i class=\"fa fa-fw fa-refresh\" onclick=\"task_action({action:'status', tag:'5057fa441d6e1755', queue: 'macpro'})\"></i><i class=\"fa fa-fw fa-stop\"\" onclick=\"task_action({action:'kill', tag:'5057fa441d6e1755', queue: 'macpro'})\"></i><i class=\"fa fa-fw fa-trash\"\" onclick=\"task_action({action:'purge', tag:'5057fa441d6e1755', queue: 'macpro'})\"></i></div></pre><pre class=\"task_tags task_tag_scratch_0\">scratch_0<div class=\"task_tag_actions\"><i class=\"fa fa-fw fa-refresh\" onclick=\"task_action({action:'status', tag:'scratch_0', queue: 'macpro'})\"></i><i class=\"fa fa-fw fa-stop\"\" onclick=\"task_action({action:'kill', tag:'scratch_0', queue: 'macpro'})\"></i><i class=\"fa fa-fw fa-trash\"\" onclick=\"task_action({action:'purge', tag:'scratch_0', queue: 'macpro'})\"></i></div></pre><pre class=\"task_tags task_tag_user_guide\">user_guide<div class=\"task_tag_actions\"><i class=\"fa fa-fw fa-refresh\" onclick=\"task_action({action:'status', tag:'user_guide', queue: 'macpro'})\"></i><i class=\"fa fa-fw fa-stop\"\" onclick=\"task_action({action:'kill', tag:'user_guide', queue: 'macpro'})\"></i><i class=\"fa fa-fw fa-trash\"\" onclick=\"task_action({action:'purge', tag:'user_guide', queue: 'macpro'})\"></i></div></pre></span>\n",
       "  </td>\n",
       "  <td class=\"task_timer\">\n",
       "    <pre><i class=\"fa fa-fw fa-clock-o\"></i><time id=\"status_duration_macpro_85ea891331ab4bcb_afb97088-bddf-498a-84b8-24a91d0f4611\" class=\"completed\" datetime=\"1577509858691.54\">Ran for < 5 seconds</time></pre>\n",
       "  </td>\n",
       "  <td class=\"task_status\">\n",
       "    <pre><i class=\"fa fa-fw fa-tasks\"></i><span id=\"status_text_macpro_85ea891331ab4bcb_afb97088-bddf-498a-84b8-24a91d0f4611\">completed</span></pre>\n",
       "  </td>\n",
       "</tr>\n",
       "</table>\n"
      ]
     },
     "metadata": {},
     "output_type": "display_data"
    }
   ],
   "source": [
    "task: queue='localhost', workdir='resource'\n",
    "\n",
    "download:\n",
    "  ftp://speedtest.tele2.net/512KB.zip"
   ]
  },
  {
   "cell_type": "code",
   "execution_count": 10,
   "metadata": {
    "kernel": "SoS",
    "tags": []
   },
   "outputs": [
    {
     "name": "stdout",
     "output_type": "stream",
     "text": [
      "512KB.zip\n"
     ]
    }
   ],
   "source": [
    "!ls resource"
   ]
  },
  {
   "cell_type": "markdown",
   "metadata": {
    "kernel": "SoS",
    "tags": []
   },
   "source": [
    "## Sending additional files before task execution (Option `to_host`)"
   ]
  },
  {
   "cell_type": "markdown",
   "metadata": {
    "kernel": "SoS",
    "tags": []
   },
   "source": [
    "Option `to_host` specifies additional files or directories that would be synchronized to the remote host before tasks are executed. It can be specified as\n",
    "\n",
    "* A single file or directory (with respect to local file system), or\n",
    "* A list of files or directories, or\n",
    "\n",
    "The files or directories will be translated using the host-specific path maps. Note that if a symbolic link is specified in `to_host`, both the symbolic link and the path it refers to would be synchronized to the remote host.\n"
   ]
  },
  {
   "cell_type": "markdown",
   "metadata": {
    "kernel": "SoS",
    "tags": []
   },
   "source": [
    "## Retrieving additional files after task completion (Option `from_host`)"
   ]
  },
  {
   "cell_type": "markdown",
   "metadata": {
    "kernel": "SoS",
    "tags": []
   },
   "source": [
    "Option `from_host` specifies additional files or directories that would be synchronized from the remote host after tasks are executed. It can be specified as\n",
    "\n",
    "* A single file or directory (with respect to local file system), or\n",
    "* A list of files or directories, or\n",
    "\n",
    "The files or directories will be translated using the host-specific path maps to determine what remote files to retrieve."
   ]
  },
  {
   "cell_type": "markdown",
   "metadata": {
    "kernel": "SoS",
    "tags": []
   },
   "source": [
    "## Further reading\n",
    "\n",
    "* [The `task_statement`](task_statement.html)"
   ]
  }
 ],
 "metadata": {
  "kernelspec": {
   "display_name": "SoS",
   "language": "sos",
   "name": "sos"
  },
  "language_info": {
   "codemirror_mode": "sos",
   "file_extension": ".sos",
   "mimetype": "text/x-sos",
   "name": "sos",
   "nbconvert_exporter": "sos_notebook.converter.SoS_Exporter",
   "pygments_lexer": "sos"
  },
  "sos": {
   "kernels": [
    [
     "Bash",
     "bash",
     "Bash",
     "#E6EEFF"
    ],
    [
     "R",
     "ir",
     "R",
     "#DCDCDA"
    ],
    [
     "SoS",
     "sos",
     "",
     ""
    ]
   ],
   "panel": {
    "displayed": true,
    "height": 0
   },
   "version": "0.21.6"
  }
 },
 "nbformat": 4,
 "nbformat_minor": 4
}
