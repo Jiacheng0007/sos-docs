{
 "cells": [
  {
   "cell_type": "markdown",
   "metadata": {
    "kernel": "SoS",
    "tags": []
   },
   "source": [
    "# Specifying and synchronization of remote files"
   ]
  },
  {
   "cell_type": "markdown",
   "metadata": {
    "kernel": "SoS",
    "tags": []
   },
   "source": [
    "* **Difficulty level**: intermediate\n",
    "* **Time need to lean**: 20 minutes or less\n",
    "  * Paths that are relative to the current working directory are portable across hosts.\n",
    "  * Use named paths (`#name`) to specify absolute paths that are different across local and remote hosts.\n",
    "  * Options `to_host` and `from_host` specify files and directories send before task execution and retrieve after task execution, respectively."
   ]
  },
  {
   "cell_type": "markdown",
   "metadata": {
    "kernel": "SoS"
   },
   "source": [
    "## Path definitions and named paths"
   ]
  },
  {
   "cell_type": "markdown",
   "metadata": {
    "kernel": "SoS"
   },
   "source": [
    "When local and remote hosts do not share file systems (or share only some file systems), things can get a bit complicated because SoS will need to decide what paths to use on the remote host. The most important thing to remember here is that **paths across local and remote hosts are linked by named paths defined in the SoS host definition file**.\n",
    "\n",
    "For example, a host definition file (usually `~/.sos/hosts.yml`) could have the following `paths` definitions (incomplete)\n",
    "\n",
    "```yaml\n",
    "localhost: office\n",
    "hosts:\n",
    "    office:\n",
    "        paths:\n",
    "            home:  /Users/{user_name}\n",
    "            projects: /Users/{user_name}/projects\n",
    "            scratch: /Users/{user_name}/scratch\n",
    "    cluster:\n",
    "        paths:\n",
    "            home:  /home/{user_name}\n",
    "            projects: /home/projects/{user_name}\n",
    "            scratch: /mount/scratch\n",
    "```\n",
    "\n",
    "so that paths under `home`, `projects`, or `scratch` could be linked across `office` and `cluster`.\n",
    "\n",
    "Similar to `~/result.txt` that indicates `result.txt` under the user's home directory, which can be different across different hosts, **named path, namely paths that starts with `#name`, such as `#projects/RNASeq` are paths that are context specific**. If you specify `_output='#projects/RNASeq/genes.txt`, the paths will refer to different files on different hosts with different definitions for `#projects`."
   ]
  },
  {
   "cell_type": "markdown",
   "metadata": {
    "kernel": "SoS"
   },
   "source": [
    "## Use of relative path"
   ]
  },
  {
   "cell_type": "markdown",
   "metadata": {
    "kernel": "SoS"
   },
   "source": [
    "Let us execute an task on a remote host defined in a docker image. The task does nothing but reporting the value of `_output` and its current working directory. The output file `result.txt` is sent back to the local host after the completion of the task.\n",
    "\n",
    "As expected, the value of `_output` is a relative path `result.txt`. The working directory is `vatlab/sos-docs/src/user_guide` under `/root`, which corresponds to the locally working directory."
   ]
  },
  {
   "cell_type": "code",
   "execution_count": 1,
   "metadata": {
    "kernel": "SoS"
   },
   "outputs": [
    {
     "data": {
      "text/html": [
       "<div class=\"sos_logging sos_info\">INFO: Running <span class=\"sos_highlight\">default</span>: \n",
       "</div>"
      ]
     },
     "metadata": {},
     "output_type": "display_data"
    },
    {
     "data": {
      "text/html": [
       "\n",
       "<table id=\"task_docker_d87b0aa3308b3ec9_d3dd1326-3bdd-435f-91c9-513eabb7f617\" class=\"task_table missing\">\n",
       "<tr>\n",
       "  <td class=\"task_icon\">\n",
       "    <i id=\"task_status_icon_docker_d87b0aa3308b3ec9_d3dd1326-3bdd-435f-91c9-513eabb7f617\" class=\"fa fa-2x fa-fw fa-question\"\n",
       "    null null null></i>\n",
       "  </td>\n",
       "  <td class=\"task_id\">\n",
       "    <span><pre><i class=\"fa fa-fw fa-sitemap\"></i></pre><pre>d87b0aa3308b3ec9<div class=\"task_id_actions\"><i class=\"fa fa-fw fa-refresh\" onclick=\"task_action({action:'status', task:'d87b0aa3308b3ec9', queue: 'docker'})\"></i><i class=\"fa fa-fw fa-play\" onclick=\"task_action({action:'execute', task:'d87b0aa3308b3ec9', queue: 'docker'})\"></i><i class=\"fa fa-fw fa-stop\"\" onclick=\"task_action({action:'kill', task:'d87b0aa3308b3ec9', queue: 'docker'})\"></i><i class=\"fa fa-fw fa-trash\"\" onclick=\"task_action({action:'purge', task:'d87b0aa3308b3ec9', queue: 'docker'})\"></i></div></pre></span>\n",
       "  </td>\n",
       "  <td class=\"task_tags\">\n",
       "    <span id=\"status_tags_docker_d87b0aa3308b3ec9_d3dd1326-3bdd-435f-91c9-513eabb7f617\"><pre><i class=\"fa fa-fw fa-info-circle\"></i></pre><pre class=\"task_tags task_tag_7c0789b29bfba84edefaultuser_guide\">7c0789b29bfba84edefaultuser_guide<div class=\"task_tag_actions\"><i class=\"fa fa-fw fa-refresh\" onclick=\"task_action({action:'status', tag:'7c0789b29bfba84edefaultuser_guide', queue: 'docker'})\"></i><i class=\"fa fa-fw fa-stop\"\" onclick=\"task_action({action:'kill', tag:'7c0789b29bfba84edefaultuser_guide', queue: 'docker'})\"></i><i class=\"fa fa-fw fa-trash\"\" onclick=\"task_action({action:'purge', tag:'7c0789b29bfba84edefaultuser_guide', queue: 'docker'})\"></i></div></pre></span>\n",
       "  </td>\n",
       "  <td class=\"task_timer\">\n",
       "    <pre><i class=\"fa fa-fw fa-clock-o\"></i><time id=\"status_duration_docker_d87b0aa3308b3ec9_d3dd1326-3bdd-435f-91c9-513eabb7f617\" class=\"missing\" datetime=\"null\">Ran for < 5 seconds</time></pre>\n",
       "  </td>\n",
       "  <td class=\"task_status\">\n",
       "    <pre><i class=\"fa fa-fw fa-tasks\"></i><span id=\"status_text_docker_d87b0aa3308b3ec9_d3dd1326-3bdd-435f-91c9-513eabb7f617\">missing</span></pre>\n",
       "  </td>\n",
       "</tr>\n",
       "</table>\n"
      ]
     },
     "metadata": {},
     "output_type": "display_data"
    },
    {
     "data": {
      "text/html": [
       "<div class=\"sos_logging sos_info\">INFO: d87b0aa3308b3ec9 <span class=\"sos_highlight\">received</span> 'result.txt' from docker\n",
       "</div>"
      ]
     },
     "metadata": {},
     "output_type": "display_data"
    },
    {
     "data": {
      "text/html": [
       "<div class=\"sos_logging sos_info\">INFO: <span class=\"sos_highlight\">default</span> output:   <span class=\"sos_highlight\">result.txt</span>\n",
       "</div>"
      ]
     },
     "metadata": {},
     "output_type": "display_data"
    },
    {
     "data": {
      "text/html": [
       "<div class=\"sos_logging sos_info\">INFO: Workflow default (ID=7c0789b29bfba84e) is executed successfully with 1 completed step and 1 completed task.\n",
       "</div>"
      ]
     },
     "metadata": {},
     "output_type": "display_data"
    },
    {
     "data": {
      "text/html": [
       "<div class=\"sos_hint\">> result.txt (48 B):</div>"
      ],
      "text/plain": [
       "\n",
       "> result.txt (48 B):"
      ]
     },
     "metadata": {},
     "output_type": "display_data"
    },
    {
     "data": {
      "text/html": [
       "<div class=\"sos_hint\">2 lines</div>"
      ]
     },
     "metadata": {},
     "output_type": "display_data"
    },
    {
     "name": "stdout",
     "output_type": "stream",
     "text": [
      "result.txt\n",
      "/root/vatlab/sos-docs/src/user_guide"
     ]
    }
   ],
   "source": [
    "%preview result.txt\n",
    "\n",
    "%run -c ~/docker.yml -q docker \n",
    "\n",
    "output: 'result.txt'\n",
    "task:\n",
    "\n",
    "sh: expand=True\n",
    "    echo {_output} > {_output}\n",
    "    echo `pwd` >> {_output}"
   ]
  },
  {
   "cell_type": "markdown",
   "metadata": {
    "kernel": "SoS"
   },
   "source": [
    "## Absolute paths and named paths"
   ]
  },
  {
   "cell_type": "markdown",
   "metadata": {
    "kernel": "SoS"
   },
   "source": [
    "If you would like to specify an absolute path, you can use either `~` as home directory, or any of the named paths.\n",
    "\n",
    "In the following workflow, the output is specified as `#home/result.txt` (which is the same as `~/result.txt`. It is `/root/result.txt` on the remote host, and the current working directory remains the same."
   ]
  },
  {
   "cell_type": "code",
   "execution_count": 2,
   "metadata": {
    "kernel": "SoS"
   },
   "outputs": [
    {
     "data": {
      "text/html": [
       "<div class=\"sos_logging sos_info\">INFO: Running <span class=\"sos_highlight\">default</span>: \n",
       "</div>"
      ]
     },
     "metadata": {},
     "output_type": "display_data"
    },
    {
     "data": {
      "text/html": [
       "\n",
       "<table id=\"task_docker_652942b23342ae82_415497d9-3923-4e1a-843d-0977ec2068ce\" class=\"task_table missing\">\n",
       "<tr>\n",
       "  <td class=\"task_icon\">\n",
       "    <i id=\"task_status_icon_docker_652942b23342ae82_415497d9-3923-4e1a-843d-0977ec2068ce\" class=\"fa fa-2x fa-fw fa-question\"\n",
       "    null null null></i>\n",
       "  </td>\n",
       "  <td class=\"task_id\">\n",
       "    <span><pre><i class=\"fa fa-fw fa-sitemap\"></i></pre><pre>652942b23342ae82<div class=\"task_id_actions\"><i class=\"fa fa-fw fa-refresh\" onclick=\"task_action({action:'status', task:'652942b23342ae82', queue: 'docker'})\"></i><i class=\"fa fa-fw fa-play\" onclick=\"task_action({action:'execute', task:'652942b23342ae82', queue: 'docker'})\"></i><i class=\"fa fa-fw fa-stop\"\" onclick=\"task_action({action:'kill', task:'652942b23342ae82', queue: 'docker'})\"></i><i class=\"fa fa-fw fa-trash\"\" onclick=\"task_action({action:'purge', task:'652942b23342ae82', queue: 'docker'})\"></i></div></pre></span>\n",
       "  </td>\n",
       "  <td class=\"task_tags\">\n",
       "    <span id=\"status_tags_docker_652942b23342ae82_415497d9-3923-4e1a-843d-0977ec2068ce\"><pre><i class=\"fa fa-fw fa-info-circle\"></i></pre><pre class=\"task_tags task_tag_87a9056943dc9a91defaultuser_guide\">87a9056943dc9a91defaultuser_guide<div class=\"task_tag_actions\"><i class=\"fa fa-fw fa-refresh\" onclick=\"task_action({action:'status', tag:'87a9056943dc9a91defaultuser_guide', queue: 'docker'})\"></i><i class=\"fa fa-fw fa-stop\"\" onclick=\"task_action({action:'kill', tag:'87a9056943dc9a91defaultuser_guide', queue: 'docker'})\"></i><i class=\"fa fa-fw fa-trash\"\" onclick=\"task_action({action:'purge', tag:'87a9056943dc9a91defaultuser_guide', queue: 'docker'})\"></i></div></pre></span>\n",
       "  </td>\n",
       "  <td class=\"task_timer\">\n",
       "    <pre><i class=\"fa fa-fw fa-clock-o\"></i><time id=\"status_duration_docker_652942b23342ae82_415497d9-3923-4e1a-843d-0977ec2068ce\" class=\"missing\" datetime=\"null\">Ran for < 5 seconds</time></pre>\n",
       "  </td>\n",
       "  <td class=\"task_status\">\n",
       "    <pre><i class=\"fa fa-fw fa-tasks\"></i><span id=\"status_text_docker_652942b23342ae82_415497d9-3923-4e1a-843d-0977ec2068ce\">missing</span></pre>\n",
       "  </td>\n",
       "</tr>\n",
       "</table>\n"
      ]
     },
     "metadata": {},
     "output_type": "display_data"
    },
    {
     "data": {
      "text/html": [
       "<div class=\"sos_logging sos_info\">INFO: 652942b23342ae82 <span class=\"sos_highlight\">received</span> '/Users/bpeng/result.txt' from docker\n",
       "</div>"
      ]
     },
     "metadata": {},
     "output_type": "display_data"
    },
    {
     "data": {
      "text/html": [
       "<div class=\"sos_logging sos_info\">INFO: <span class=\"sos_highlight\">default</span> output:   <span class=\"sos_highlight\">/Users/bpeng/result.txt</span>\n",
       "</div>"
      ]
     },
     "metadata": {},
     "output_type": "display_data"
    },
    {
     "data": {
      "text/html": [
       "<div class=\"sos_logging sos_info\">INFO: Workflow default (ID=87a9056943dc9a91) is executed successfully with 1 completed step and 1 completed task.\n",
       "</div>"
      ]
     },
     "metadata": {},
     "output_type": "display_data"
    },
    {
     "data": {
      "text/html": [
       "<div class=\"sos_hint\">> /Users/bpeng/result.txt (54 B):</div>"
      ],
      "text/plain": [
       "\n",
       "> /Users/bpeng/result.txt (54 B):"
      ]
     },
     "metadata": {},
     "output_type": "display_data"
    },
    {
     "data": {
      "text/html": [
       "<div class=\"sos_hint\">2 lines</div>"
      ]
     },
     "metadata": {},
     "output_type": "display_data"
    },
    {
     "name": "stdout",
     "output_type": "stream",
     "text": [
      "/root/result.txt\n",
      "/root/vatlab/sos-docs/src/user_guide"
     ]
    }
   ],
   "source": [
    "%preview ~/result.txt\n",
    "\n",
    "%run -c ~/docker.yml -q docker -s force\n",
    "\n",
    "output: '#home/result.txt'\n",
    "task:\n",
    "\n",
    "sh: expand=True\n",
    "    echo {_output} > {_output}\n",
    "    echo `pwd` >> {_output}"
   ]
  },
  {
   "cell_type": "markdown",
   "metadata": {
    "kernel": "SoS",
    "tags": []
   },
   "source": [
    "## Working directory of tasks (Option `workdir`)\n",
    "\n",
    "The `workdir` of task is default to the current working directory, or, in the case of remote execution, the remote counterpart of the current working directory. Option `workdir` controls the working directory of the task.\n",
    "\n",
    "For example, the following example adds `workdir='#home` to the task. The current working directory of the shell script is changed to `/root`, and the `_output` remains at `#home/result.txt`."
   ]
  },
  {
   "cell_type": "code",
   "execution_count": 3,
   "metadata": {
    "kernel": "SoS",
    "tags": []
   },
   "outputs": [
    {
     "data": {
      "text/html": [
       "<div class=\"sos_logging sos_info\">INFO: Running <span class=\"sos_highlight\">default</span>: \n",
       "</div>"
      ]
     },
     "metadata": {},
     "output_type": "display_data"
    },
    {
     "data": {
      "text/html": [
       "\n",
       "<table id=\"task_docker_dbc63a4bf9416b58_8f9922a1-4e0a-4670-8c49-66e90f3c999a\" class=\"task_table missing\">\n",
       "<tr>\n",
       "  <td class=\"task_icon\">\n",
       "    <i id=\"task_status_icon_docker_dbc63a4bf9416b58_8f9922a1-4e0a-4670-8c49-66e90f3c999a\" class=\"fa fa-2x fa-fw fa-question\"\n",
       "    null null null></i>\n",
       "  </td>\n",
       "  <td class=\"task_id\">\n",
       "    <span><pre><i class=\"fa fa-fw fa-sitemap\"></i></pre><pre>dbc63a4bf9416b58<div class=\"task_id_actions\"><i class=\"fa fa-fw fa-refresh\" onclick=\"task_action({action:'status', task:'dbc63a4bf9416b58', queue: 'docker'})\"></i><i class=\"fa fa-fw fa-play\" onclick=\"task_action({action:'execute', task:'dbc63a4bf9416b58', queue: 'docker'})\"></i><i class=\"fa fa-fw fa-stop\"\" onclick=\"task_action({action:'kill', task:'dbc63a4bf9416b58', queue: 'docker'})\"></i><i class=\"fa fa-fw fa-trash\"\" onclick=\"task_action({action:'purge', task:'dbc63a4bf9416b58', queue: 'docker'})\"></i></div></pre></span>\n",
       "  </td>\n",
       "  <td class=\"task_tags\">\n",
       "    <span id=\"status_tags_docker_dbc63a4bf9416b58_8f9922a1-4e0a-4670-8c49-66e90f3c999a\"><pre><i class=\"fa fa-fw fa-info-circle\"></i></pre><pre class=\"task_tags task_tag_defaultf27dc1e18f432a10user_guide\">defaultf27dc1e18f432a10user_guide<div class=\"task_tag_actions\"><i class=\"fa fa-fw fa-refresh\" onclick=\"task_action({action:'status', tag:'defaultf27dc1e18f432a10user_guide', queue: 'docker'})\"></i><i class=\"fa fa-fw fa-stop\"\" onclick=\"task_action({action:'kill', tag:'defaultf27dc1e18f432a10user_guide', queue: 'docker'})\"></i><i class=\"fa fa-fw fa-trash\"\" onclick=\"task_action({action:'purge', tag:'defaultf27dc1e18f432a10user_guide', queue: 'docker'})\"></i></div></pre></span>\n",
       "  </td>\n",
       "  <td class=\"task_timer\">\n",
       "    <pre><i class=\"fa fa-fw fa-clock-o\"></i><time id=\"status_duration_docker_dbc63a4bf9416b58_8f9922a1-4e0a-4670-8c49-66e90f3c999a\" class=\"missing\" datetime=\"null\">Ran for < 5 seconds</time></pre>\n",
       "  </td>\n",
       "  <td class=\"task_status\">\n",
       "    <pre><i class=\"fa fa-fw fa-tasks\"></i><span id=\"status_text_docker_dbc63a4bf9416b58_8f9922a1-4e0a-4670-8c49-66e90f3c999a\">missing</span></pre>\n",
       "  </td>\n",
       "</tr>\n",
       "</table>\n"
      ]
     },
     "metadata": {},
     "output_type": "display_data"
    },
    {
     "data": {
      "text/html": [
       "<div class=\"sos_logging sos_info\">INFO: dbc63a4bf9416b58 <span class=\"sos_highlight\">received</span> '/Users/bpeng/result.txt' from docker\n",
       "</div>"
      ]
     },
     "metadata": {},
     "output_type": "display_data"
    },
    {
     "data": {
      "text/html": [
       "<div class=\"sos_logging sos_info\">INFO: <span class=\"sos_highlight\">default</span> output:   <span class=\"sos_highlight\">/Users/bpeng/result.txt</span>\n",
       "</div>"
      ]
     },
     "metadata": {},
     "output_type": "display_data"
    },
    {
     "data": {
      "text/html": [
       "<div class=\"sos_logging sos_info\">INFO: Workflow default (ID=f27dc1e18f432a10) is executed successfully with 1 completed step and 1 completed task.\n",
       "</div>"
      ]
     },
     "metadata": {},
     "output_type": "display_data"
    },
    {
     "data": {
      "text/html": [
       "<div class=\"sos_hint\">> /Users/bpeng/result.txt (23 B):</div>"
      ],
      "text/plain": [
       "\n",
       "> /Users/bpeng/result.txt (23 B):"
      ]
     },
     "metadata": {},
     "output_type": "display_data"
    },
    {
     "data": {
      "text/html": [
       "<div class=\"sos_hint\">2 lines</div>"
      ]
     },
     "metadata": {},
     "output_type": "display_data"
    },
    {
     "name": "stdout",
     "output_type": "stream",
     "text": [
      "/root/result.txt\n",
      "/root"
     ]
    }
   ],
   "source": [
    "%preview ~/result.txt\n",
    "\n",
    "%run -c ~/docker.yml -q docker -s force\n",
    "\n",
    "output: '#home/result.txt'\n",
    "task:\n",
    "\n",
    "sh: expand=True, workdir='#home'\n",
    "    echo {_output} > {_output}\n",
    "    echo `pwd` >> {_output}"
   ]
  },
  {
   "cell_type": "markdown",
   "metadata": {
    "kernel": "SoS",
    "tags": []
   },
   "source": [
    "However, **change of `workdir` might result in the misplace of the output files**. For example, if we remove `#home` from `_output` and specify `workdir`, the `_output` will be written to specified `workdir` but SoS still assumes that the `_output` is under the current project directory and will fail to retrieve the file."
   ]
  },
  {
   "cell_type": "code",
   "execution_count": 5,
   "metadata": {
    "kernel": "SoS"
   },
   "outputs": [
    {
     "data": {
      "text/html": [
       "<div class=\"sos_logging sos_info\">INFO: Running <span class=\"sos_highlight\">default</span>: \n",
       "</div>"
      ]
     },
     "metadata": {},
     "output_type": "display_data"
    },
    {
     "data": {
      "text/html": [
       "\n",
       "<table id=\"task_docker_260346ee4c42cce3_c5169ca5-f8d2-45e6-afca-67eb0bdf4127\" class=\"task_table missing\">\n",
       "<tr>\n",
       "  <td class=\"task_icon\">\n",
       "    <i id=\"task_status_icon_docker_260346ee4c42cce3_c5169ca5-f8d2-45e6-afca-67eb0bdf4127\" class=\"fa fa-2x fa-fw fa-question\"\n",
       "    null null null></i>\n",
       "  </td>\n",
       "  <td class=\"task_id\">\n",
       "    <span><pre><i class=\"fa fa-fw fa-sitemap\"></i></pre><pre>260346ee4c42cce3<div class=\"task_id_actions\"><i class=\"fa fa-fw fa-refresh\" onclick=\"task_action({action:'status', task:'260346ee4c42cce3', queue: 'docker'})\"></i><i class=\"fa fa-fw fa-play\" onclick=\"task_action({action:'execute', task:'260346ee4c42cce3', queue: 'docker'})\"></i><i class=\"fa fa-fw fa-stop\"\" onclick=\"task_action({action:'kill', task:'260346ee4c42cce3', queue: 'docker'})\"></i><i class=\"fa fa-fw fa-trash\"\" onclick=\"task_action({action:'purge', task:'260346ee4c42cce3', queue: 'docker'})\"></i></div></pre></span>\n",
       "  </td>\n",
       "  <td class=\"task_tags\">\n",
       "    <span id=\"status_tags_docker_260346ee4c42cce3_c5169ca5-f8d2-45e6-afca-67eb0bdf4127\"><pre><i class=\"fa fa-fw fa-info-circle\"></i></pre><pre class=\"task_tags task_tag_672fffefa5d36516defaultuser_guide\">672fffefa5d36516defaultuser_guide<div class=\"task_tag_actions\"><i class=\"fa fa-fw fa-refresh\" onclick=\"task_action({action:'status', tag:'672fffefa5d36516defaultuser_guide', queue: 'docker'})\"></i><i class=\"fa fa-fw fa-stop\"\" onclick=\"task_action({action:'kill', tag:'672fffefa5d36516defaultuser_guide', queue: 'docker'})\"></i><i class=\"fa fa-fw fa-trash\"\" onclick=\"task_action({action:'purge', tag:'672fffefa5d36516defaultuser_guide', queue: 'docker'})\"></i></div></pre></span>\n",
       "  </td>\n",
       "  <td class=\"task_timer\">\n",
       "    <pre><i class=\"fa fa-fw fa-clock-o\"></i><time id=\"status_duration_docker_260346ee4c42cce3_c5169ca5-f8d2-45e6-afca-67eb0bdf4127\" class=\"missing\" datetime=\"null\">Ran for < 5 seconds</time></pre>\n",
       "  </td>\n",
       "  <td class=\"task_status\">\n",
       "    <pre><i class=\"fa fa-fw fa-tasks\"></i><span id=\"status_text_docker_260346ee4c42cce3_c5169ca5-f8d2-45e6-afca-67eb0bdf4127\">missing</span></pre>\n",
       "  </td>\n",
       "</tr>\n",
       "</table>\n"
      ]
     },
     "metadata": {},
     "output_type": "display_data"
    },
    {
     "name": "stdout",
     "output_type": "stream",
     "text": [
      "\u001b[91mERROR\u001b[0m: \u001b[91m[default]: Failed to copy /root/vatlab/sos-docs/src/user_guide/result_error.txt from docker using command \"rsync -a --no-g -e 'ssh -o 'ControlMaster=auto' -o 'ControlPath=/Users/bpeng/.ssh/controlmasters/%r@%h:%p' -o 'ControlPersist=10m' -p 32798' root@localhost:/root/vatlab/sos-docs/src/user_guide/result_error.txt \"/Users/bpeng/vatlab/sos-docs/src/user_guide\"\": command return 23\u001b[0m\n"
     ]
    },
    {
     "ename": "RuntimeError",
     "evalue": "Workflow exited with code 1",
     "execution_count": 5,
     "output_type": "error",
     "status": "error",
     "traceback": [
      "\u001b[91mWorkflow exited with code 1\u001b[0m"
     ]
    }
   ],
   "source": [
    "%run -c ~/docker.yml -q docker -s force\n",
    "\n",
    "output: 'result_error.txt'\n",
    "task:\n",
    "\n",
    "sh: expand=True, workdir='#home'\n",
    "    echo {_output} > {_output}\n",
    "    echo `pwd` >> {_output}"
   ]
  },
  {
   "cell_type": "markdown",
   "metadata": {
    "kernel": "SoS",
    "tags": []
   },
   "source": [
    "## Sending additional files before task execution (Option `to_host`)"
   ]
  },
  {
   "cell_type": "markdown",
   "metadata": {
    "kernel": "SoS",
    "tags": []
   },
   "source": [
    "Option `to_host` specifies additional files or directories that would be synchronized to the remote host before tasks are executed. It can be specified as\n",
    "\n",
    "* A single file or directory (with respect to local file system), or\n",
    "* A list of files or directories, or\n",
    "\n",
    "The files or directories will be translated using the host-specific path maps. Note that if a symbolic link is specified in `to_host`, both the symbolic link and the path it refers to would be synchronized to the remote host.\n",
    "\n",
    "Just to demontrate how to use this option, let us copy all notebooks in this directory to a remote host and count the number of them."
   ]
  },
  {
   "cell_type": "code",
   "execution_count": 3,
   "metadata": {
    "kernel": "SoS"
   },
   "outputs": [
    {
     "data": {
      "text/html": [
       "\n",
       "<table id=\"task_bcb_9e7b75df6a5d3767_4d417cc9-661b-49c3-9937-b57449a99c3b\" class=\"task_table missing\">\n",
       "<tr>\n",
       "  <td class=\"task_icon\">\n",
       "    <i id=\"task_status_icon_bcb_9e7b75df6a5d3767_4d417cc9-661b-49c3-9937-b57449a99c3b\" class=\"fa fa-2x fa-fw fa-question\"\n",
       "    null null null></i>\n",
       "  </td>\n",
       "  <td class=\"task_id\">\n",
       "    <span><pre><i class=\"fa fa-fw fa-sitemap\"></i></pre><pre>9e7b75df6a5d3767<div class=\"task_id_actions\"><i class=\"fa fa-fw fa-refresh\" onclick=\"task_action({action:'status', task:'9e7b75df6a5d3767', queue: 'bcb'})\"></i><i class=\"fa fa-fw fa-play\" onclick=\"task_action({action:'execute', task:'9e7b75df6a5d3767', queue: 'bcb'})\"></i><i class=\"fa fa-fw fa-stop\"\" onclick=\"task_action({action:'kill', task:'9e7b75df6a5d3767', queue: 'bcb'})\"></i><i class=\"fa fa-fw fa-trash\"\" onclick=\"task_action({action:'purge', task:'9e7b75df6a5d3767', queue: 'bcb'})\"></i></div></pre></span>\n",
       "  </td>\n",
       "  <td class=\"task_tags\">\n",
       "    <span id=\"status_tags_bcb_9e7b75df6a5d3767_4d417cc9-661b-49c3-9937-b57449a99c3b\"><pre><i class=\"fa fa-fw fa-info-circle\"></i></pre><pre class=\"task_tags task_tag_5b7627b1ac52aa8fscratch_0user_guide\">5b7627b1ac52aa8fscratch_0user_guide<div class=\"task_tag_actions\"><i class=\"fa fa-fw fa-refresh\" onclick=\"task_action({action:'status', tag:'5b7627b1ac52aa8fscratch_0user_guide', queue: 'bcb'})\"></i><i class=\"fa fa-fw fa-stop\"\" onclick=\"task_action({action:'kill', tag:'5b7627b1ac52aa8fscratch_0user_guide', queue: 'bcb'})\"></i><i class=\"fa fa-fw fa-trash\"\" onclick=\"task_action({action:'purge', tag:'5b7627b1ac52aa8fscratch_0user_guide', queue: 'bcb'})\"></i></div></pre></span>\n",
       "  </td>\n",
       "  <td class=\"task_timer\">\n",
       "    <pre><i class=\"fa fa-fw fa-clock-o\"></i><time id=\"status_duration_bcb_9e7b75df6a5d3767_4d417cc9-661b-49c3-9937-b57449a99c3b\" class=\"missing\" datetime=\"null\">Ran for < 5 seconds</time></pre>\n",
       "  </td>\n",
       "  <td class=\"task_status\">\n",
       "    <pre><i class=\"fa fa-fw fa-tasks\"></i><span id=\"status_text_bcb_9e7b75df6a5d3767_4d417cc9-661b-49c3-9937-b57449a99c3b\">missing</span></pre>\n",
       "  </td>\n",
       "</tr>\n",
       "</table>\n"
      ]
     },
     "metadata": {},
     "output_type": "display_data"
    },
    {
     "data": {
      "text/html": [
       "<div class=\"sos_logging sos_info\">INFO: 9e7b75df6a5d3767 <span class=\"sos_highlight\">sent</span> 'task_files.ipynb', ... (5 items) to bcb</div>"
      ]
     },
     "metadata": {},
     "output_type": "display_data"
    },
    {
     "data": {
      "text/html": [
       "<div class=\"sos_logging sos_info\">INFO: 9e7b75df6a5d3767 <span class=\"sos_highlight\">received</span> 'wc.txt' from bcb</div>"
      ]
     },
     "metadata": {},
     "output_type": "display_data"
    },
    {
     "data": {
      "text/html": [
       "<div class=\"sos_hint\">> wc.txt (156 B):</div>"
      ],
      "text/plain": [
       "\n",
       "> wc.txt (156 B):"
      ]
     },
     "metadata": {},
     "output_type": "display_data"
    },
    {
     "data": {
      "text/html": [
       "<div class=\"sos_hint\">6 lines (5 displayed, see --limit)</div>"
      ]
     },
     "metadata": {},
     "output_type": "display_data"
    },
    {
     "name": "stdout",
     "output_type": "stream",
     "text": [
      "     363 task_files.ipynb\n",
      "     386 task_management.ipynb\n",
      "     817 task_statement.ipynb\n",
      "     223 task_tags.ipynb\n",
      "     390 task_template.ipynb"
     ]
    }
   ],
   "source": [
    "%preview -n wc.txt \n",
    "output: 'wc.txt'\n",
    "task: to_host='task*.ipynb', queue='bcb' \n",
    "sh: expand=True\n",
    "  wc -l *.ipynb > {_output}"
   ]
  },
  {
   "cell_type": "markdown",
   "metadata": {
    "kernel": "SoS",
    "tags": []
   },
   "source": [
    "## Retrieving additional files after task completion (Option `from_host`)"
   ]
  },
  {
   "cell_type": "markdown",
   "metadata": {
    "kernel": "SoS",
    "tags": []
   },
   "source": [
    "Option `from_host` specifies additional files or directories that would be synchronized from the remote host after tasks are executed. It can be specified as\n",
    "\n",
    "* A single file or directory (with respect to local file system), or\n",
    "* A list of files or directories\n",
    "\n",
    "The files or directories will be translated using the host-specific path maps to determine what remote files to retrieve."
   ]
  }
 ],
 "metadata": {
  "kernelspec": {
   "display_name": "SoS",
   "language": "sos",
   "name": "sos"
  },
  "language_info": {
   "codemirror_mode": "sos",
   "file_extension": ".sos",
   "mimetype": "text/x-sos",
   "name": "sos",
   "nbconvert_exporter": "sos_notebook.converter.SoS_Exporter",
   "pygments_lexer": "sos"
  },
  "sos": {
   "kernels": [
    [
     "Bash",
     "bash",
     "Bash",
     "#E6EEFF"
    ],
    [
     "R",
     "ir",
     "R",
     "#DCDCDA"
    ],
    [
     "SoS",
     "sos",
     "",
     ""
    ]
   ],
   "panel": {
    "displayed": true,
    "height": 0
   },
   "version": "0.22.4"
  }
 },
 "nbformat": 4,
 "nbformat_minor": 4
}
