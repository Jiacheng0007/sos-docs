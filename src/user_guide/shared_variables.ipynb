{
 "cells": [
  {
   "cell_type": "markdown",
   "metadata": {
    "kernel": "SoS",
    "tags": []
   },
   "source": [
    "# Pass variables between SoS steps"
   ]
  },
  {
   "cell_type": "markdown",
   "metadata": {
    "kernel": "SoS",
    "tags": []
   },
   "source": [
    "* **Difficulty level**: intemediate\n",
    "* **Time need to lean**: 20 minutes or less\n",
    "* **Key points**:\n",
    "  * Variables defined in steps are not accessible from other steps\n",
    "  * Variables can be `shared` to steps that depends on it through target `sos_variable`  "
   ]
  },
  {
   "cell_type": "markdown",
   "metadata": {
    "kernel": "SoS",
    "tags": []
   },
   "source": [
    "## Section option `shared` <a id=\"Option_shared\"></a>"
   ]
  },
  {
   "cell_type": "markdown",
   "metadata": {
    "kernel": "SoS",
    "tags": []
   },
   "source": [
    "SoS executes each step in a separate process and by default does not return any result to the master SoS process. Option `shared` is used to share variables between steps. This option accepts:\n",
    "\n",
    "* A string (variable name), or\n",
    "* A map between variable names and expressions (strings) that will be evaluated upon the completion of the step.\n",
    "* A sequence of strings (variables) or maps.\n",
    "\n",
    "For example,"
   ]
  },
  {
   "cell_type": "code",
   "execution_count": 1,
   "metadata": {
    "kernel": "SoS",
    "tags": []
   },
   "outputs": [
    {
     "name": "stdout",
     "output_type": "stream",
     "text": [
      "100\n"
     ]
    }
   ],
   "source": [
    "%run -v1\n",
    "[10: shared='myvar']\n",
    "myvar = 100\n",
    "\n",
    "[20]\n",
    "print(myvar)"
   ]
  },
  {
   "cell_type": "code",
   "execution_count": 2,
   "metadata": {
    "kernel": "SoS",
    "tags": []
   },
   "outputs": [
    {
     "name": "stdout",
     "output_type": "stream",
     "text": [
      "100\n"
     ]
    },
    {
     "name": "stdout",
     "output_type": "stream",
     "text": [
      "200\n"
     ]
    }
   ],
   "source": [
    "%run -v1\n",
    "[10: shared=['v1', 'v2']]\n",
    "v1 = 100\n",
    "v2 = 200\n",
    "\n",
    "[20]\n",
    "print(v1)\n",
    "print(v2)"
   ]
  },
  {
   "cell_type": "markdown",
   "metadata": {
    "kernel": "SoS",
    "tags": []
   },
   "source": [
    "The `dict` format of `shared` option allows the specification of expressions to be evaluated after the completion of the step, and can be used to pass pieces of `step_output` as follows:"
   ]
  },
  {
   "cell_type": "code",
   "execution_count": 3,
   "metadata": {
    "kernel": "SoS",
    "tags": []
   },
   "outputs": [
    {
     "name": "stdout",
     "output_type": "stream",
     "text": [
      "a.res\n"
     ]
    },
    {
     "name": "stdout",
     "output_type": "stream",
     "text": [
      "a.txt\n"
     ]
    }
   ],
   "source": [
    "%run -v1\n",
    "[10: shared={'res': 'step_output[\"res\"]', 'stat': 'step_output[\"stat\"]'}]\n",
    "output: res='a.res', stat='a.txt'\n",
    "\n",
    "_output.touch()\n",
    "\n",
    "[20]\n",
    "print(res)\n",
    "print(stat)"
   ]
  },
  {
   "cell_type": "markdown",
   "metadata": {
    "kernel": "SoS",
    "tags": []
   },
   "source": [
    "## `sos_variable` targets"
   ]
  },
  {
   "cell_type": "markdown",
   "metadata": {
    "kernel": "SoS",
    "tags": []
   },
   "source": [
    "When we `shared` variables from a step, the variables will be available to the step that will be executed after it. This is why `res` and `stat` would be accessible from step `20` after the completion of step `10`. However, in a more general case, a step would need to depends on a target `sos_variable` to access the `shared` variable in a non-forward stype workflow.\n",
    "\n",
    "For example, in the following workflow, two `sos_variable` targets creates two dependencies on steps `notebookCount` and `lineCount` so that these two steps will be executed before `default` and provide the required variables."
   ]
  },
  {
   "cell_type": "code",
   "execution_count": 4,
   "metadata": {
    "kernel": "SoS",
    "tags": []
   },
   "outputs": [
    {
     "name": "stdout",
     "output_type": "stream",
     "text": [
      "There are 94 notebooks in this directory\n"
     ]
    },
    {
     "name": "stdout",
     "output_type": "stream",
     "text": [
      "Current notebook has 632 lines\n"
     ]
    }
   ],
   "source": [
    "%run -v1\n",
    "\n",
    "[notebookCount: shared='numNotebooks']\n",
    "import glob\n",
    "numNotebooks = len(glob.glob('*.ipynb'))\n",
    "\n",
    "[lineCount: shared='lineOfThisNotebook']\n",
    "with open('shared_variables.ipynb') as nb:\n",
    "    lineOfThisNotebook = len(nb.readlines())\n",
    "\n",
    "[default]\n",
    "depends: sos_variable('numNotebooks'), sos_variable('lineOfThisNotebook')\n",
    "print(f\"There are {numNotebooks} notebooks in this directory\")\n",
    "print(f\"Current notebook has {lineOfThisNotebook} lines\")"
   ]
  },
  {
   "cell_type": "markdown",
   "metadata": {
    "kernel": "SoS",
    "tags": []
   },
   "source": [
    "## Sharing variables from substeps"
   ]
  },
  {
   "cell_type": "markdown",
   "metadata": {
    "kernel": "SoS",
    "tags": []
   },
   "source": [
    "When you share a variable from a step with multiple substeps, there can be multiple copies of the variable for each substep and it is uncertain which copy SoS will return. Current implementation returns the variable from the last substep, but this is not guaranteed. \n",
    "\n",
    "For example, in the following workflow multiple random seeds have been generated, but only the last `seed` is shared outside of step `1` and obtained by step `2`. "
   ]
  },
  {
   "cell_type": "code",
   "execution_count": 5,
   "metadata": {
    "kernel": "SoS",
    "tags": []
   },
   "outputs": [
    {
     "name": "stdout",
     "output_type": "stream",
     "text": [
      "50\n"
     ]
    },
    {
     "name": "stdout",
     "output_type": "stream",
     "text": [
      "606\n"
     ]
    },
    {
     "name": "stdout",
     "output_type": "stream",
     "text": [
      "267\n"
     ]
    },
    {
     "name": "stdout",
     "output_type": "stream",
     "text": [
      "52\n"
     ]
    },
    {
     "name": "stdout",
     "output_type": "stream",
     "text": [
      "701\n"
     ]
    },
    {
     "name": "stdout",
     "output_type": "stream",
     "text": [
      "Got seed 701 at step 2\n"
     ]
    },
    {
     "name": "stdout",
     "output_type": "stream",
     "text": [
      "Got seed 701 at step 2\n"
     ]
    },
    {
     "name": "stdout",
     "output_type": "stream",
     "text": [
      "Got seed 701 at step 2\n"
     ]
    },
    {
     "name": "stdout",
     "output_type": "stream",
     "text": [
      "Got seed 701 at step 2\n"
     ]
    },
    {
     "name": "stdout",
     "output_type": "stream",
     "text": [
      "Got seed 701 at step 2\n"
     ]
    }
   ],
   "source": [
    "%run -v1\n",
    "[1: shared='seed']\n",
    "input: for_each={'i': range(5)}\n",
    "\n",
    "import random\n",
    "seed = random.randint(0, 1000)\n",
    "print(seed)\n",
    "\n",
    "[2]\n",
    "print(f'Got seed {seed} at step 2')"
   ]
  },
  {
   "cell_type": "markdown",
   "metadata": {
    "kernel": "SoS",
    "tags": []
   },
   "source": [
    "If you would like to see the variable in all substeps, you can prefix the variable name with `step_`, which is a convention for option `shared` to collect variables from all substeps."
   ]
  },
  {
   "cell_type": "code",
   "execution_count": 6,
   "metadata": {
    "kernel": "SoS",
    "tags": []
   },
   "outputs": [
    {
     "name": "stdout",
     "output_type": "stream",
     "text": [
      "17\n"
     ]
    },
    {
     "name": "stdout",
     "output_type": "stream",
     "text": [
      "114\n"
     ]
    },
    {
     "name": "stdout",
     "output_type": "stream",
     "text": [
      "688\n"
     ]
    },
    {
     "name": "stdout",
     "output_type": "stream",
     "text": [
      "99\n"
     ]
    },
    {
     "name": "stdout",
     "output_type": "stream",
     "text": [
      "253\n"
     ]
    }
   ],
   "source": [
    "%run -v1\n",
    "[1: shared='step_seed']\n",
    "input: for_each={'i': range(5)}\n",
    "import random\n",
    "seed = random.randint(0, 1000)\n",
    "\n",
    "[2]\n",
    "print(step_seed[_index])"
   ]
  },
  {
   "cell_type": "markdown",
   "metadata": {
    "kernel": "SoS",
    "tags": []
   },
   "source": [
    "You can also use the `step_*` vsriables in expressions as in the following example:"
   ]
  },
  {
   "cell_type": "code",
   "execution_count": 7,
   "metadata": {
    "kernel": "SoS",
    "tags": []
   },
   "outputs": [
    {
     "name": "stdout",
     "output_type": "stream",
     "text": [
      "[5, 2, 5, 2, 7, 10, 5, 0, 2, 2]\n"
     ]
    },
    {
     "name": "stdout",
     "output_type": "stream",
     "text": [
      "40\n"
     ]
    }
   ],
   "source": [
    "%run -v1\n",
    "[1: shared={'summed': 'sum(step_rng)', 'rngs': 'step_rng'}]\n",
    "input: for_each={'i': range(10)}\n",
    "import random\n",
    "rng = random.randint(0, 10)\n",
    "\n",
    "[2]\n",
    "input: group_by='all'\n",
    "print(rngs)\n",
    "print(summed)"
   ]
  },
  {
   "cell_type": "markdown",
   "metadata": {
    "kernel": "SoS",
    "tags": []
   },
   "source": [
    "Here we used `group_by='all'` to collapse multiple substeps into 1."
   ]
  },
  {
   "cell_type": "markdown",
   "metadata": {
    "kernel": "SoS",
    "tags": []
   },
   "source": [
    "## Sharing variables from tasks"
   ]
  },
  {
   "cell_type": "markdown",
   "metadata": {
    "kernel": "SoS",
    "tags": []
   },
   "source": [
    "Variables generated by external tasks adds another layer of complexity because tasks usually do not share variables with the substep it belongs. To solve this problem, you will have to use the `shared` option of `task` to return the variable to the substep:"
   ]
  },
  {
   "cell_type": "code",
   "execution_count": 8,
   "metadata": {
    "kernel": "SoS",
    "tags": []
   },
   "outputs": [
    {
     "name": "stdout",
     "output_type": "stream",
     "text": [
      "[0, 7, 2, 23, 24]\n"
     ]
    },
    {
     "name": "stdout",
     "output_type": "stream",
     "text": [
      "56\n"
     ]
    }
   ],
   "source": [
    "%run -v1 -q localhost\n",
    "[1: shared={'summed': 'sum(step_rng)', 'rngs': 'step_rng'}]\n",
    "input: for_each={'i': range(5)}\n",
    "\n",
    "task: shared='rng'\n",
    "import random\n",
    "rng = random.randint(0, 10*i)\n",
    "\n",
    "[2]\n",
    "input: group_by='all'\n",
    "print(rngs)\n",
    "print(summed)"
   ]
  },
  {
   "cell_type": "markdown",
   "metadata": {
    "kernel": "SoS",
    "tags": []
   },
   "source": [
    "## Further reading\n",
    "\n",
    "* [Make-file style pattern matching](auxiliary_steps.html)"
   ]
  }
 ],
 "metadata": {
  "kernelspec": {
   "display_name": "SoS",
   "language": "sos",
   "name": "sos"
  },
  "language_info": {
   "codemirror_mode": "sos",
   "file_extension": ".sos",
   "mimetype": "text/x-sos",
   "name": "sos",
   "nbconvert_exporter": "sos_notebook.converter.SoS_Exporter",
   "pygments_lexer": "sos"
  },
  "sos": {
   "kernels": [
    [
     "Bash",
     "bash",
     "Bash",
     "#E6EEFF"
    ],
    [
     "R",
     "ir",
     "R",
     "#DCDCDA"
    ],
    [
     "SoS",
     "sos",
     "",
     ""
    ]
   ],
   "panel": {
    "displayed": true,
    "height": 0
   },
   "version": "0.21.2"
  }
 },
 "nbformat": 4,
 "nbformat_minor": 4
}
