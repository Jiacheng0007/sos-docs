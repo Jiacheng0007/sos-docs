{
 "cells": [
  {
   "cell_type": "markdown",
   "metadata": {
    "kernel": "SoS",
    "papermill": {
     "duration": 0.024287,
     "end_time": "2019-12-23T17:04:48.605516",
     "exception": false,
     "start_time": "2019-12-23T17:04:48.581229",
     "status": "completed"
    },
    "tags": []
   },
   "source": [
    "# Actions to generate text, markdown or HTML reports"
   ]
  },
  {
   "cell_type": "markdown",
   "metadata": {
    "kernel": "SoS",
    "papermill": {
     "duration": 0.020489,
     "end_time": "2019-12-23T17:04:48.651700",
     "exception": false,
     "start_time": "2019-12-23T17:04:48.631211",
     "status": "completed"
    },
    "tags": []
   },
   "source": [
    "* **Difficulty level**: easy\n",
    "* **Time need to lean**: 10 minutes or less\n",
    "* **Key points**:\n",
    "  * Action `report` generates plain text output and can be used to produce arbitrary log messages.\n",
    "  * Action `pandoc` processes input document with pandoc\n",
    "  * Action `Rmarkdown` process input document with Rmarkdown \n",
    "  "
   ]
  },
  {
   "cell_type": "markdown",
   "metadata": {
    "kernel": "SoS",
    "papermill": {
     "duration": 0.017617,
     "end_time": "2019-12-23T17:04:48.689882",
     "exception": false,
     "start_time": "2019-12-23T17:04:48.672265",
     "status": "completed"
    },
    "tags": []
   },
   "source": [
    "### Action `report`"
   ]
  },
  {
   "cell_type": "markdown",
   "metadata": {
    "kernel": "SoS",
    "papermill": {
     "duration": 0.01657,
     "end_time": "2019-12-23T17:04:48.723420",
     "exception": false,
     "start_time": "2019-12-23T17:04:48.706850",
     "status": "completed"
    },
    "tags": []
   },
   "source": [
    "Action `report` writes some content to an output stream. The input can either be a string or content of one or more files specified by option `input`. The output is determined by parameter `output`.\n",
    "\n",
    "* If `output='filename'`, the content will be written to a file.\n",
    "* If `output=obj` and `obj` has a `write` function (e.g. a file handle), the content will be passed to the `write` function\n",
    "* If output is unspecified, the content will be written to standard output.\n",
    "\n",
    "For example, the content of `report` actions is printed to standard output if no output is specified."
   ]
  },
  {
   "cell_type": "code",
   "execution_count": 1,
   "metadata": {
    "kernel": "SoS",
    "papermill": {
     "duration": 4.06054,
     "end_time": "2019-12-23T17:04:52.804414",
     "exception": false,
     "start_time": "2019-12-23T17:04:48.743874",
     "status": "completed"
    },
    "tags": []
   },
   "outputs": [
    {
     "name": "stdout",
     "output_type": "stream",
     "text": [
      "\u001b[32m[\u001b[0m\u001b[32m]\u001b[0m Failed with 1 step processed (1 job completed)\n"
     ]
    },
    {
     "name": "stdout",
     "output_type": "stream",
     "text": [
      "\u001b[91mERROR\u001b[0m: \u001b[91m[10]: [0]: \n"
     ]
    },
    {
     "name": "stdout",
     "output_type": "stream",
     "text": [
      "---------------------------------------------------------------------------\n"
     ]
    },
    {
     "name": "stdout",
     "output_type": "stream",
     "text": [
      "AttributeError                            Traceback (most recent call last)\n"
     ]
    },
    {
     "name": "stdout",
     "output_type": "stream",
     "text": [
      "script_6232909533056425108 in <module>\n"
     ]
    },
    {
     "name": "stdout",
     "output_type": "stream",
     "text": [
      "      report(fr\"\"\"Runing {step_name}\n"
     ]
    },
    {
     "name": "stdout",
     "output_type": "stream",
     "text": [
      "      \n"
     ]
    },
    {
     "name": "stdout",
     "output_type": "stream",
     "text": [
      "----> \"\"\")\n"
     ]
    },
    {
     "name": "stdout",
     "output_type": "stream",
     "text": [
      "      \n"
     ]
    },
    {
     "name": "stdout",
     "output_type": "stream",
     "text": [
      "\n"
     ]
    },
    {
     "name": "stdout",
     "output_type": "stream",
     "text": [
      "AttributeError: 'NoneType' object has no attribute 'write'\n"
     ]
    },
    {
     "name": "stdout",
     "output_type": "stream",
     "text": [
      "[default]: Exits with 1 pending step (20)\u001b[0m\n"
     ]
    }
   ],
   "source": [
    "%run -v0\n",
    "\n",
    "[10]\n",
    "report: expand=True\n",
    "    Runing {step_name}\n",
    "\n",
    "[20]\n",
    "report: expand=True\n",
    "    Runing {step_name}\n"
   ]
  },
  {
   "cell_type": "markdown",
   "metadata": {
    "kernel": "SoS",
    "papermill": {
     "duration": 0.019163,
     "end_time": "2019-12-23T17:04:52.843766",
     "exception": false,
     "start_time": "2019-12-23T17:04:52.824603",
     "status": "completed"
    },
    "tags": []
   },
   "source": [
    "We can specify an output file with option `output`, but the output will be overwritten if multiple actions write to the same file"
   ]
  },
  {
   "cell_type": "code",
   "execution_count": 2,
   "metadata": {
    "kernel": "SoS",
    "papermill": {
     "duration": 3.846671,
     "end_time": "2019-12-23T17:04:56.709460",
     "exception": false,
     "start_time": "2019-12-23T17:04:52.862789",
     "status": "completed"
    },
    "tags": []
   },
   "outputs": [
    {
     "name": "stdout",
     "output_type": "stream",
     "text": [
      "Runing 20\n"
     ]
    },
    {
     "name": "stdout",
     "output_type": "stream",
     "text": [
      "\n"
     ]
    }
   ],
   "source": [
    "%run -v1\n",
    "[10]\n",
    "report: output='report.txt', expand=True\n",
    "    Runing {step_name}\n",
    "\n",
    "[20]\n",
    "report: output='report.txt', expand=True\n",
    "    Runing {step_name}\n",
    "\n",
    "[30]\n",
    "sh:\n",
    "   cat report.txt"
   ]
  },
  {
   "cell_type": "markdown",
   "metadata": {
    "kernel": "SoS",
    "papermill": {
     "duration": 0.024113,
     "end_time": "2019-12-23T17:04:56.763101",
     "exception": false,
     "start_time": "2019-12-23T17:04:56.738988",
     "status": "completed"
    },
    "tags": []
   },
   "source": [
    "Action `report` can also take the content of one or more input files and write them to the output stream, after the script content (if specified). For example, the `report` action in the following example writes the content of `out.txt` to the default report stream (which is the standard output in this case)."
   ]
  },
  {
   "cell_type": "code",
   "execution_count": 3,
   "metadata": {
    "kernel": "SoS",
    "papermill": {
     "duration": 4.945831,
     "end_time": "2019-12-23T17:05:01.732211",
     "exception": false,
     "start_time": "2019-12-23T17:04:56.786380",
     "status": "completed"
    },
    "tags": []
   },
   "outputs": [
    {
     "name": "stdout",
     "output_type": "stream",
     "text": [
      "Summary Report:\n"
     ]
    },
    {
     "name": "stdout",
     "output_type": "stream",
     "text": [
      "\n"
     ]
    },
    {
     "name": "stdout",
     "output_type": "stream",
     "text": [
      "* result from step 10\n"
     ]
    },
    {
     "name": "stdout",
     "output_type": "stream",
     "text": [
      "\n"
     ]
    },
    {
     "name": "stdout",
     "output_type": "stream",
     "text": [
      "* result from step 20\n"
     ]
    },
    {
     "name": "stdout",
     "output_type": "stream",
     "text": [
      "\n"
     ]
    }
   ],
   "source": [
    "%run -v1\n",
    "\n",
    "[10]\n",
    "output: 'out10.txt'\n",
    "bash: expand=True\n",
    "   # run some command and generate a out.txt\n",
    "   echo \"* result from step 10 \" > {_output}\n",
    "\n",
    "\n",
    "[20]\n",
    "output: 'out20.txt'\n",
    "bash: expand=True\n",
    "   # run some command and generate a out.txt\n",
    "   echo \"* result from step 20 \" > {_output}\n",
    "\n",
    "[100]\n",
    "report: input=['out10.txt', 'out20.txt']\n",
    "Summary Report:"
   ]
  },
  {
   "cell_type": "markdown",
   "metadata": {
    "kernel": "SoS",
    "papermill": {
     "duration": 0.023654,
     "end_time": "2019-12-23T17:05:01.782340",
     "exception": false,
     "start_time": "2019-12-23T17:05:01.758686",
     "status": "completed"
    },
    "tags": []
   },
   "source": [
    "### Action  `pandoc`"
   ]
  },
  {
   "cell_type": "markdown",
   "metadata": {
    "kernel": "SoS",
    "papermill": {
     "duration": 0.024037,
     "end_time": "2019-12-23T17:05:01.828609",
     "exception": false,
     "start_time": "2019-12-23T17:05:01.804572",
     "status": "completed"
    },
    "tags": []
   },
   "source": [
    "Action `pandoc` uses command [pandoc](http://pandoc.org/) to convert specified input to output. This input to this action can be specified from option `script` (usually specified in script format) and `input`.\n",
    "\n",
    "First, if a script is specified, pandoc assumes it is in markdown format and convert it by default to 'HTML' format. For example,"
   ]
  },
  {
   "cell_type": "code",
   "execution_count": 4,
   "metadata": {
    "kernel": "SoS",
    "papermill": {
     "duration": 1.085443,
     "end_time": "2019-12-23T17:05:02.942435",
     "exception": false,
     "start_time": "2019-12-23T17:05:01.856992",
     "status": "completed"
    },
    "tags": []
   },
   "outputs": [
    {
     "name": "stdout",
     "output_type": "stream",
     "text": [
      "<h1 id=\"this-is-header\">this is header</h1>\n",
      "<p>This is some test, with <strong>emphasis</strong>.</p>\n"
     ]
    }
   ],
   "source": [
    "pandoc:\n",
    "    # this is header\n",
    "    This is some test, with **emphasis**.        "
   ]
  },
  {
   "cell_type": "markdown",
   "metadata": {
    "kernel": "SoS",
    "papermill": {
     "duration": 0.036661,
     "end_time": "2019-12-23T17:05:03.017014",
     "exception": false,
     "start_time": "2019-12-23T17:05:02.980353",
     "status": "completed"
    },
    "tags": []
   },
   "source": [
    "You can specify an output with option `output`"
   ]
  },
  {
   "cell_type": "code",
   "execution_count": 5,
   "metadata": {
    "kernel": "SoS",
    "papermill": {
     "duration": 0.911286,
     "end_time": "2019-12-23T17:05:03.955336",
     "exception": false,
     "start_time": "2019-12-23T17:05:03.044050",
     "status": "completed"
    },
    "tags": []
   },
   "outputs": [],
   "source": [
    "%preview out.html\n",
    "pandoc: output='out.html'\n",
    "    Itemize\n",
    "\n",
    "    * item 1\n",
    "    * item 2"
   ]
  },
  {
   "cell_type": "markdown",
   "metadata": {
    "kernel": "SoS",
    "papermill": {
     "duration": 0.021231,
     "end_time": "2019-12-23T17:05:03.997949",
     "exception": false,
     "start_time": "2019-12-23T17:05:03.976718",
     "status": "completed"
    },
    "tags": []
   },
   "source": [
    "You can convert input file to another file type using a different file extension"
   ]
  },
  {
   "cell_type": "code",
   "execution_count": 6,
   "metadata": {
    "kernel": "SoS",
    "papermill": {
     "duration": 0.868033,
     "end_time": "2019-12-23T17:05:04.888262",
     "exception": false,
     "start_time": "2019-12-23T17:05:04.020229",
     "status": "completed"
    },
    "tags": []
   },
   "outputs": [],
   "source": [
    "%preview out.tex\n",
    "pandoc: output='out.tex'\n",
    "    Itemize\n",
    "\n",
    "    * item 1\n",
    "    * item 2"
   ]
  },
  {
   "cell_type": "markdown",
   "metadata": {
    "kernel": "SoS",
    "papermill": {
     "duration": 0.023319,
     "end_time": "2019-12-23T17:05:04.933315",
     "exception": false,
     "start_time": "2019-12-23T17:05:04.909996",
     "status": "completed"
    },
    "tags": []
   },
   "source": [
    "Or you can add more options to the command line by modifying `args`,"
   ]
  },
  {
   "cell_type": "code",
   "execution_count": 7,
   "metadata": {
    "kernel": "SoS",
    "papermill": {
     "duration": 0.983666,
     "end_time": "2019-12-23T17:05:05.944594",
     "exception": false,
     "start_time": "2019-12-23T17:05:04.960928",
     "status": "completed"
    },
    "tags": []
   },
   "outputs": [
    {
     "name": "stdout",
     "output_type": "stream",
     "text": [
      "[WARNING] This document format requires a nonempty <title> element.\n"
     ]
    },
    {
     "name": "stdout",
     "output_type": "stream",
     "text": [
      "  Please specify either 'title' or 'pagetitle' in the metadata,\n"
     ]
    },
    {
     "name": "stdout",
     "output_type": "stream",
     "text": [
      "  e.g. by using --metadata pagetitle=\"...\" on the command line.\n"
     ]
    },
    {
     "name": "stdout",
     "output_type": "stream",
     "text": [
      "  Falling back to 'tmpg7u74d5z'\n"
     ]
    }
   ],
   "source": [
    "%preview out.html\n",
    "\n",
    "pandoc: output='out.html', args='{input:q} --output {output:q} -s'    \n",
    "    Itemize\n",
    "\n",
    "    * item 1\n",
    "    * item 2"
   ]
  },
  {
   "cell_type": "markdown",
   "metadata": {
    "kernel": "SoS",
    "papermill": {
     "duration": 0.025696,
     "end_time": "2019-12-23T17:05:06.004859",
     "exception": false,
     "start_time": "2019-12-23T17:05:05.979163",
     "status": "completed"
    },
    "tags": []
   },
   "source": [
    "The second usage of the `pandoc` action is to specify one or more input filenames. You have to use the function form of this action as follows"
   ]
  },
  {
   "cell_type": "code",
   "execution_count": 8,
   "metadata": {
    "kernel": "SoS",
    "papermill": {
     "duration": 0.042514,
     "end_time": "2019-12-23T17:05:06.076321",
     "exception": false,
     "start_time": "2019-12-23T17:05:06.033807",
     "status": "completed"
    },
    "tags": []
   },
   "outputs": [],
   "source": [
    "%preview out.html\n",
    "[10]\n",
    "report: output = 'out.md'\n",
    "    Itemize\n",
    "\n",
    "    * item 1\n",
    "    * item 2\n",
    "\n",
    "[20]\n",
    "pandoc(input='out.md', output='out.html')\n",
    "    "
   ]
  },
  {
   "cell_type": "markdown",
   "metadata": {
    "kernel": "SoS",
    "papermill": {
     "duration": 0.032886,
     "end_time": "2019-12-23T17:05:06.135403",
     "exception": false,
     "start_time": "2019-12-23T17:05:06.102517",
     "status": "completed"
    },
    "tags": []
   },
   "source": [
    "If multiple files are specified, the content of these input files will be concatenated. This is very useful for generating a single pandoc output with input from different steps. We will demonstrate this feature in the [Generating Reports](../tutorials/Generating_Reports.html) tutorial.\n",
    "\n",
    "If both `script` and `input` parameters are specified, the content of input files would be appended to `script`. So"
   ]
  },
  {
   "cell_type": "code",
   "execution_count": 9,
   "metadata": {
    "kernel": "SoS",
    "papermill": {
     "duration": 0.040515,
     "end_time": "2019-12-23T17:05:06.206965",
     "exception": false,
     "start_time": "2019-12-23T17:05:06.166450",
     "status": "completed"
    },
    "tags": []
   },
   "outputs": [],
   "source": [
    "%preview out.html\n",
    "[10]\n",
    "report: output = 'out10.md'\n",
    "    Itemize\n",
    "\n",
    "    * item 1\n",
    "    * item 2\n",
    "\n",
    "[20]\n",
    "report: output= 'out20.md'\n",
    "    enumerated\n",
    "\n",
    "    1. item 1\n",
    "    2. item 2\n",
    "\n",
    "[30]\n",
    "pandoc: input=['out10.md', 'out20.md'], output='out.html'\n",
    "    Markdown supports both itemized and enumerated"
   ]
  },
  {
   "cell_type": "markdown",
   "metadata": {
    "kernel": "SoS",
    "papermill": {
     "duration": 0.027111,
     "end_time": "2019-12-23T17:05:06.260186",
     "exception": false,
     "start_time": "2019-12-23T17:05:06.233075",
     "status": "completed"
    },
    "tags": []
   },
   "source": [
    "## Action `Rmarkdown`"
   ]
  },
  {
   "cell_type": "markdown",
   "metadata": {
    "kernel": "SoS",
    "papermill": {
     "duration": 0.025225,
     "end_time": "2019-12-23T17:05:06.313232",
     "exception": false,
     "start_time": "2019-12-23T17:05:06.288007",
     "status": "completed"
    },
    "tags": []
   },
   "source": [
    "Action `Rmarkdown` is very similar to `pandoc`, the only difference is that it uses `RMarkdown` to process the input, which is assumed to be of Rmarkdown format."
   ]
  },
  {
   "cell_type": "code",
   "execution_count": 10,
   "metadata": {
    "kernel": "SoS",
    "papermill": {
     "duration": 1.57551,
     "end_time": "2019-12-23T17:05:07.914914",
     "exception": false,
     "start_time": "2019-12-23T17:05:06.339404",
     "status": "completed"
    },
    "tags": []
   },
   "outputs": [
    {
     "name": "stdout",
     "output_type": "stream",
     "text": [
      "/Users/bpeng1/anaconda3/envs/sos/bin/pandoc +RTS -K512m -RTS tmp8gndpkte.utf8.md --to html4 --from markdown+autolink_bare_uris+tex_math_single_backslash+smart --output /Users/bpeng1/sos/sos-docs/development/out.html --email-obfuscation none --self-contained --standalone --section-divs --template /Users/bpeng1/anaconda3/envs/sos/lib/R/library/rmarkdown/rmd/h/default.html --no-highlight --variable highlightjs=1 --variable 'theme:bootstrap' --include-in-header /var/folders/ys/gnzk0qbx5wbdgm531v82xxljv5yqy8/T//RtmppjCsXA/rmarkdown-str176205d87e7d8.html --mathjax --variable 'mathjax-url:https://mathjax.rstudio.com/latest/MathJax.js?config=TeX-AMS-MML_HTMLorMML' --lua-filter /Users/bpeng1/anaconda3/envs/sos/lib/R/library/rmarkdown/rmd/lua/pagebreak.lua --lua-filter /Users/bpeng1/anaconda3/envs/sos/lib/R/library/rmarkdown/rmd/lua/latex-div.lua \n"
     ]
    },
    {
     "name": "stderr",
     "output_type": "stream",
     "text": [
      "[WARNING] This document format requires a nonempty <title> element.\n",
      "  Please specify either 'title' or 'pagetitle' in the metadata,\n",
      "  e.g. by using --metadata pagetitle=\"...\" on the command line.\n",
      "  Falling back to 'tmp8gndpkte.utf8'\n",
      "\n",
      "Output created: out.html\n"
     ]
    }
   ],
   "source": [
    "%preview out.html\n",
    "Rmarkdown: output='out.html'\n",
    "\n",
    "Here's a numbered list:\n",
    "\n",
    " 1. first item\n",
    " 2. second item\n",
    " 3. third item\n"
   ]
  },
  {
   "cell_type": "markdown",
   "metadata": {
    "kernel": "SoS",
    "papermill": {
     "duration": 0.030547,
     "end_time": "2019-12-23T17:05:07.973895",
     "exception": false,
     "start_time": "2019-12-23T17:05:07.943348",
     "status": "completed"
    },
    "tags": []
   },
   "source": [
    "## Further reading\n",
    "\n",
    "* [SoS Actions](sos_actions.html)"
   ]
  }
 ],
 "metadata": {
  "kernelspec": {
   "display_name": "SoS",
   "language": "sos",
   "name": "sos"
  },
  "language_info": {
   "codemirror_mode": "sos",
   "file_extension": ".sos",
   "mimetype": "text/x-sos",
   "name": "sos",
   "nbconvert_exporter": "sos_notebook.converter.SoS_Exporter",
   "pygments_lexer": "sos"
  },
  "papermill": {
   "duration": 28.116593,
   "end_time": "2019-12-23T17:05:13.190426",
   "environment_variables": {},
   "exception": null,
   "input_path": "/Users/bpeng1/sos/sos-docs/src/user_guide/report_actions.ipynb",
   "output_path": "report_actions.ipynb_rerun.ipynb",
   "parameters": {},
   "start_time": "2019-12-23T17:04:45.073833",
   "version": "1.1.0"
  },
  "sos": {
   "kernels": [
    [
     "Bash",
     "bash",
     "Bash",
     "#E6EEFF"
    ],
    [
     "R",
     "ir",
     "R",
     "#DCDCDA"
    ],
    [
     "SoS",
     "sos",
     "",
     ""
    ]
   ],
   "panel": {
    "displayed": true,
    "height": 0
   },
   "version": "0.21.1"
  }
 },
 "nbformat": 4,
 "nbformat_minor": 4
}