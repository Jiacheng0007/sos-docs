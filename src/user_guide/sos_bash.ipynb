{
 "cells": [
  {
   "cell_type": "markdown",
   "metadata": {
    "kernel": "SoS",
    "papermill": {
     "duration": 0.009532,
     "end_time": "2019-12-23T17:05:54.030075",
     "exception": false,
     "start_time": "2019-12-23T17:05:54.020543",
     "status": "completed"
    },
    "tags": []
   },
   "source": [
    "# Working with Bash"
   ]
  },
  {
   "cell_type": "markdown",
   "metadata": {
    "kernel": "SoS",
    "papermill": {
     "duration": 0.007664,
     "end_time": "2019-12-23T17:05:54.044583",
     "exception": false,
     "start_time": "2019-12-23T17:05:54.036919",
     "status": "completed"
    },
    "tags": []
   },
   "source": [
    "* **Difficulty level**: easy\n",
    "* **Time need to lean**: 10 minutes or less\n",
    "* **Key points**\n",
    "  * SoS works with a [bash kernel](https://github.com/takluyver/bash_kernel)\n",
    "  * The kernel interprets content of the cell as bash scripts\n",
    "  * Limited data exchange is supported because bash does not have a rich type system as Python"
   ]
  },
  {
   "cell_type": "markdown",
   "metadata": {
    "kernel": "SoS",
    "papermill": {
     "duration": 0.007672,
     "end_time": "2019-12-23T17:05:54.059990",
     "exception": false,
     "start_time": "2019-12-23T17:05:54.052318",
     "status": "completed"
    },
    "tags": []
   },
   "source": [
    "## Installation"
   ]
  },
  {
   "cell_type": "markdown",
   "metadata": {
    "kernel": "SoS",
    "papermill": {
     "duration": 0.006735,
     "end_time": "2019-12-23T17:05:54.073572",
     "exception": false,
     "start_time": "2019-12-23T17:05:54.066837",
     "status": "completed"
    },
    "tags": []
   },
   "source": [
    "Install a bash kernel from "
   ]
  },
  {
   "cell_type": "markdown",
   "metadata": {
    "kernel": "SoS",
    "papermill": {
     "duration": 0.006519,
     "end_time": "2019-12-23T17:05:54.087734",
     "exception": false,
     "start_time": "2019-12-23T17:05:54.081215",
     "status": "completed"
    },
    "tags": []
   },
   "source": [
    "## Bash <a id=\"Bash\"></a>"
   ]
  },
  {
   "cell_type": "markdown",
   "metadata": {
    "kernel": "SoS",
    "papermill": {
     "duration": 0.005654,
     "end_time": "2019-12-23T17:05:54.100167",
     "exception": false,
     "start_time": "2019-12-23T17:05:54.094513",
     "status": "completed"
    },
    "tags": []
   },
   "source": [
    "The Bash kernel is not rich in data types and everything is essentially a string. You can pass primitive datatypes from SoS to Bash but expect to get string representation of variables out of it."
   ]
  },
  {
   "cell_type": "markdown",
   "metadata": {
    "kernel": "SoS",
    "papermill": {
     "duration": 0.006949,
     "end_time": "2019-12-23T17:05:54.114567",
     "exception": false,
     "start_time": "2019-12-23T17:05:54.107618",
     "status": "completed"
    },
    "tags": []
   },
   "source": [
    "## Further reading\n",
    "* [How to exchange variables among living subkernels](doc/user_guide/exchange_variable.html)"
   ]
  }
 ],
 "metadata": {
  "kernelspec": {
   "display_name": "SoS",
   "language": "sos",
   "name": "sos"
  },
  "language_info": {
   "codemirror_mode": "sos",
   "file_extension": ".sos",
   "mimetype": "text/x-sos",
   "name": "sos",
   "nbconvert_exporter": "sos_notebook.converter.SoS_Exporter",
   "pygments_lexer": "sos"
  },
  "papermill": {
   "duration": 3.65457,
   "end_time": "2019-12-23T17:05:54.539682",
   "environment_variables": {},
   "exception": null,
   "input_path": "/Users/bpeng1/sos/sos-docs/src/user_guide/sos_bash.ipynb",
   "output_path": "sos_bash.ipynb_rerun.ipynb",
   "parameters": {},
   "start_time": "2019-12-23T17:05:50.885112",
   "version": "1.1.0"
  },
  "sos": {
   "kernels": [
    [
     "Bash",
     "bash",
     "Bash",
     "#E6EEFF"
    ],
    [
     "R",
     "ir",
     "R",
     "#DCDCDA"
    ],
    [
     "SoS",
     "sos",
     "",
     ""
    ]
   ],
   "panel": {
    "displayed": true,
    "height": 0
   },
   "version": "0.21.3"
  }
 },
 "nbformat": 4,
 "nbformat_minor": 4
}
