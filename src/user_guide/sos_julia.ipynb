{
 "cells": [
  {
   "cell_type": "markdown",
   "metadata": {
    "kernel": "SoS",
    "tags": []
   },
   "source": [
    "# Working with Julia"
   ]
  },
  {
   "cell_type": "markdown",
   "metadata": {
    "kernel": "SoS",
    "tags": []
   },
   "source": [
    "* **Difficulty level**: easy\n",
    "* **Time need to lean**: 10 minutes or less\n",
    "* **Key points**\n",
    "  * There is almost a one-to-one correspondence between Julia and Python types\n",
    "  * Python has one `str` type and Julia has `Char` and `String`  "
   ]
  },
  {
   "cell_type": "markdown",
   "metadata": {
    "kernel": "JavaScript",
    "tags": []
   },
   "source": [
    "## Julia <a id=\"Julia\"></a>"
   ]
  },
  {
   "cell_type": "markdown",
   "metadata": {
    "kernel": "JavaScript",
    "tags": []
   },
   "source": [
    "Julia's data types are pretty close to Python and there is almost a one-to-one correspondence between Julia and Python types. "
   ]
  },
  {
   "cell_type": "markdown",
   "metadata": {
    "kernel": "JavaScript",
    "tags": []
   },
   "source": [
    "When transferring data from Python (SoS) to Julia (e.g. `%get` from Julia), the resulting Julia types are list as follows:\n",
    "\n",
    "  \n",
    "  | Python  |  condition |   Julia |\n",
    "  | --- | --- |---|\n",
    "  | `None` | |    `NaN` |\n",
    "  | `boolean` |   | `Bool` |\n",
    "  | `integer` |  |  `Int64` |\n",
    "  | `numpy.float64` |  |  `Float64` |\n",
    "  | `float` |  |  `Float64` |\n",
    "  | `complex` |  |  `Complex{}` |\n",
    "  | `str` |  | `String` |\n",
    "  | Sequence (`list`, `tuple`, ...) |  homogenous type, all integer |  `Array{Int64,1}` |\n",
    "  | Sequence (`list`, `tuple`, ...) |  homogenous type, all numeric with any float |  `Array{Float64,1}` |\n",
    "  | Sequence (`list`, `tuple`, ...) |  homogenous type, all str |  `Array{String,1}` |\n",
    "  | Sequence (`list`, `tuple`, ...) |  multiple types |  `Array{Any,1}` |\n",
    "  | `set` |  homogenous type, all integer |  `Set{Int64}` |\n",
    "  | `set` |  homogenous type, all numeric with any float |  `Set{Float64}` |\n",
    "  | `set` |  homogenous type, all str |  `Set{String}` |\n",
    "  | `set` |  multiple types |  `Set{Any}` |\n",
    "  | `dict` |  |`Dict{}`|\n",
    "  | `numpy.ndarray` |  | `Array{}` |\n",
    "  | `numpy.matrix` |  | `Array{}` |\n",
    "  | `pandas.Series` |  | `NamedArrays.NamedArray{}` |\n",
    "  | `pandas.DataFrame` |  |  `Dataframes.Dataframe{}` |\n",
    "  Python objects in other datatypes are transferred as string `\"Unsupported datatype\"`."
   ]
  },
  {
   "cell_type": "markdown",
   "metadata": {
    "kernel": "JavaScript",
    "tags": []
   },
   "source": [
    "It is worth noting that although Julia supports `Char` (single character) and `String` types, SoS always transfer Python `str` to Julia `String`, so if you have a Python string `X`,"
   ]
  },
  {
   "cell_type": "code",
   "execution_count": 1,
   "metadata": {
    "collapsed": true,
    "jupyter": {
     "outputs_hidden": true
    },
    "kernel": "SoS",
    "tags": []
   },
   "outputs": [],
   "source": [
    "var = 'X'"
   ]
  },
  {
   "cell_type": "code",
   "execution_count": 2,
   "metadata": {
    "kernel": "Julia",
    "tags": []
   },
   "outputs": [
    {
     "data": {
      "text/plain": [
       "\"X\""
      ]
     },
     "execution_count": 2,
     "metadata": {},
     "output_type": "execute_result"
    }
   ],
   "source": [
    "%get var\n",
    "var"
   ]
  },
  {
   "cell_type": "code",
   "execution_count": 3,
   "metadata": {
    "kernel": "Julia",
    "tags": []
   },
   "outputs": [
    {
     "data": {
      "text/plain": [
       "String"
      ]
     },
     "execution_count": 3,
     "metadata": {},
     "output_type": "execute_result"
    }
   ],
   "source": [
    "typeof(var)"
   ]
  },
  {
   "cell_type": "markdown",
   "metadata": {
    "kernel": "Julia",
    "tags": []
   },
   "source": [
    "If you need to access the first character as a `Char`, just use"
   ]
  },
  {
   "cell_type": "code",
   "execution_count": 4,
   "metadata": {
    "kernel": "Julia",
    "tags": []
   },
   "outputs": [
    {
     "data": {
      "text/plain": [
       "88"
      ]
     },
     "execution_count": 4,
     "metadata": {},
     "output_type": "execute_result"
    }
   ],
   "source": [
    "Int(var[1])"
   ]
  },
  {
   "cell_type": "markdown",
   "metadata": {
    "kernel": "Julia",
    "tags": []
   },
   "source": [
    "Conversion of datatypes from Julia to SoS (`%get var --from Julia` from SoS) follows the following rules:\n",
    "\n",
    "  | Julia  |  condition |   Python |\n",
    "  | --- | ---| ---|\n",
    "  | `NaN` |     |  `None` |\n",
    "  | `Bool` |     |  `boolean` |\n",
    "  | `Int64` |     |   `integer` |\n",
    "  | `Char` |     |  `str` |\n",
    "  | `Complex{}` |     |  `complex` |\n",
    "  | `Float64` |     |  `numpy.float64` |\n",
    "  | `String` |     |   `str` |\n",
    "  | `Array{,1}` |     |   `Sequence (`list`, `tuple`, ...)` |\n",
    "  | `Set{}` |      | `set` |\n",
    "  | `Dict{}` |      |  `dict` |\n",
    "  | `Array{Int64/Float64,2}` |   2 dimensions   |  `numpy.matrix` |\n",
    "  | `Array{Int64/Float64,}` |   > 2 dimensions   |  `numpy.ndarray` |\n",
    "  | `NamedArrays.NamedArray` |    1 dimension   |  `pandas.Series` |\n",
    "  | `Dataframes.Dataframe` |      |  `pandas.DataFrame` |\n",
    "  Julia objects in other datatypes are transferred as string `\"Unsupported datatype\"`."
   ]
  },
  {
   "cell_type": "markdown",
   "metadata": {
    "kernel": "Julia",
    "tags": []
   },
   "source": [
    "Julia supports DataFrame from its `DataFrames` package so you will need to install this package before using the Julia kernel. For example, a R dataframe is transfered as Dataframes.Dataframe to Julia."
   ]
  },
  {
   "cell_type": "code",
   "execution_count": 5,
   "metadata": {
    "kernel": "Julia",
    "tags": []
   },
   "outputs": [
    {
     "name": "stderr",
     "output_type": "stream",
     "text": [
      "Raw index is ignored because Julia DataFrame does not support raw index.\n"
     ]
    },
    {
     "data": {
      "text/html": [
       "<table class=\"data-frame\"><thead><tr><th></th><th>mpg</th><th>cyl</th><th>disp</th><th>hp</th><th>drat</th><th>wt</th><th>qsec</th><th>vs</th><th>am</th></tr><tr><th></th><th>Float64</th><th>Float64</th><th>Float64</th><th>Float64</th><th>Float64</th><th>Float64</th><th>Float64</th><th>Float64</th><th>Float64</th></tr></thead><tbody><p>32 rows × 11 columns (omitted printing of 2 columns)</p><tr><th>1</th><td>21.0</td><td>6.0</td><td>160.0</td><td>110.0</td><td>3.9</td><td>2.62</td><td>16.46</td><td>0.0</td><td>1.0</td></tr><tr><th>2</th><td>21.0</td><td>6.0</td><td>160.0</td><td>110.0</td><td>3.9</td><td>2.875</td><td>17.02</td><td>0.0</td><td>1.0</td></tr><tr><th>3</th><td>22.8</td><td>4.0</td><td>108.0</td><td>93.0</td><td>3.85</td><td>2.32</td><td>18.61</td><td>1.0</td><td>1.0</td></tr><tr><th>4</th><td>21.4</td><td>6.0</td><td>258.0</td><td>110.0</td><td>3.08</td><td>3.215</td><td>19.44</td><td>1.0</td><td>0.0</td></tr><tr><th>5</th><td>18.7</td><td>8.0</td><td>360.0</td><td>175.0</td><td>3.15</td><td>3.44</td><td>17.02</td><td>0.0</td><td>0.0</td></tr><tr><th>6</th><td>18.1</td><td>6.0</td><td>225.0</td><td>105.0</td><td>2.76</td><td>3.46</td><td>20.22</td><td>1.0</td><td>0.0</td></tr><tr><th>7</th><td>14.3</td><td>8.0</td><td>360.0</td><td>245.0</td><td>3.21</td><td>3.57</td><td>15.84</td><td>0.0</td><td>0.0</td></tr><tr><th>8</th><td>24.4</td><td>4.0</td><td>146.7</td><td>62.0</td><td>3.69</td><td>3.19</td><td>20.0</td><td>1.0</td><td>0.0</td></tr><tr><th>9</th><td>22.8</td><td>4.0</td><td>140.8</td><td>95.0</td><td>3.92</td><td>3.15</td><td>22.9</td><td>1.0</td><td>0.0</td></tr><tr><th>10</th><td>19.2</td><td>6.0</td><td>167.6</td><td>123.0</td><td>3.92</td><td>3.44</td><td>18.3</td><td>1.0</td><td>0.0</td></tr><tr><th>11</th><td>17.8</td><td>6.0</td><td>167.6</td><td>123.0</td><td>3.92</td><td>3.44</td><td>18.9</td><td>1.0</td><td>0.0</td></tr><tr><th>12</th><td>16.4</td><td>8.0</td><td>275.8</td><td>180.0</td><td>3.07</td><td>4.07</td><td>17.4</td><td>0.0</td><td>0.0</td></tr><tr><th>13</th><td>17.3</td><td>8.0</td><td>275.8</td><td>180.0</td><td>3.07</td><td>3.73</td><td>17.6</td><td>0.0</td><td>0.0</td></tr><tr><th>14</th><td>15.2</td><td>8.0</td><td>275.8</td><td>180.0</td><td>3.07</td><td>3.78</td><td>18.0</td><td>0.0</td><td>0.0</td></tr><tr><th>15</th><td>10.4</td><td>8.0</td><td>472.0</td><td>205.0</td><td>2.93</td><td>5.25</td><td>17.98</td><td>0.0</td><td>0.0</td></tr><tr><th>16</th><td>10.4</td><td>8.0</td><td>460.0</td><td>215.0</td><td>3.0</td><td>5.424</td><td>17.82</td><td>0.0</td><td>0.0</td></tr><tr><th>17</th><td>14.7</td><td>8.0</td><td>440.0</td><td>230.0</td><td>3.23</td><td>5.345</td><td>17.42</td><td>0.0</td><td>0.0</td></tr><tr><th>18</th><td>32.4</td><td>4.0</td><td>78.7</td><td>66.0</td><td>4.08</td><td>2.2</td><td>19.47</td><td>1.0</td><td>1.0</td></tr><tr><th>19</th><td>30.4</td><td>4.0</td><td>75.7</td><td>52.0</td><td>4.93</td><td>1.615</td><td>18.52</td><td>1.0</td><td>1.0</td></tr><tr><th>20</th><td>33.9</td><td>4.0</td><td>71.1</td><td>65.0</td><td>4.22</td><td>1.835</td><td>19.9</td><td>1.0</td><td>1.0</td></tr><tr><th>21</th><td>21.5</td><td>4.0</td><td>120.1</td><td>97.0</td><td>3.7</td><td>2.465</td><td>20.01</td><td>1.0</td><td>0.0</td></tr><tr><th>22</th><td>15.5</td><td>8.0</td><td>318.0</td><td>150.0</td><td>2.76</td><td>3.52</td><td>16.87</td><td>0.0</td><td>0.0</td></tr><tr><th>23</th><td>15.2</td><td>8.0</td><td>304.0</td><td>150.0</td><td>3.15</td><td>3.435</td><td>17.3</td><td>0.0</td><td>0.0</td></tr><tr><th>24</th><td>13.3</td><td>8.0</td><td>350.0</td><td>245.0</td><td>3.73</td><td>3.84</td><td>15.41</td><td>0.0</td><td>0.0</td></tr><tr><th>25</th><td>19.2</td><td>8.0</td><td>400.0</td><td>175.0</td><td>3.08</td><td>3.845</td><td>17.05</td><td>0.0</td><td>0.0</td></tr><tr><th>26</th><td>27.3</td><td>4.0</td><td>79.0</td><td>66.0</td><td>4.08</td><td>1.935</td><td>18.9</td><td>1.0</td><td>1.0</td></tr><tr><th>27</th><td>26.0</td><td>4.0</td><td>120.3</td><td>91.0</td><td>4.43</td><td>2.14</td><td>16.7</td><td>0.0</td><td>1.0</td></tr><tr><th>28</th><td>30.4</td><td>4.0</td><td>95.1</td><td>113.0</td><td>3.77</td><td>1.513</td><td>16.9</td><td>1.0</td><td>1.0</td></tr><tr><th>29</th><td>15.8</td><td>8.0</td><td>351.0</td><td>264.0</td><td>4.22</td><td>3.17</td><td>14.5</td><td>0.0</td><td>1.0</td></tr><tr><th>30</th><td>19.7</td><td>6.0</td><td>145.0</td><td>175.0</td><td>3.62</td><td>2.77</td><td>15.5</td><td>0.0</td><td>1.0</td></tr><tr><th>&vellip;</th><td>&vellip;</td><td>&vellip;</td><td>&vellip;</td><td>&vellip;</td><td>&vellip;</td><td>&vellip;</td><td>&vellip;</td><td>&vellip;</td><td>&vellip;</td></tr></tbody></table>"
      ],
      "text/latex": [
       "\\begin{tabular}{r|cccccccccc}\n",
       "\t& mpg & cyl & disp & hp & drat & wt & qsec & vs & am & \\\\\n",
       "\t\\hline\n",
       "\t& Float64 & Float64 & Float64 & Float64 & Float64 & Float64 & Float64 & Float64 & Float64 & \\\\\n",
       "\t\\hline\n",
       "\t1 & 21.0 & 6.0 & 160.0 & 110.0 & 3.9 & 2.62 & 16.46 & 0.0 & 1.0 & $\\dots$ \\\\\n",
       "\t2 & 21.0 & 6.0 & 160.0 & 110.0 & 3.9 & 2.875 & 17.02 & 0.0 & 1.0 & $\\dots$ \\\\\n",
       "\t3 & 22.8 & 4.0 & 108.0 & 93.0 & 3.85 & 2.32 & 18.61 & 1.0 & 1.0 & $\\dots$ \\\\\n",
       "\t4 & 21.4 & 6.0 & 258.0 & 110.0 & 3.08 & 3.215 & 19.44 & 1.0 & 0.0 & $\\dots$ \\\\\n",
       "\t5 & 18.7 & 8.0 & 360.0 & 175.0 & 3.15 & 3.44 & 17.02 & 0.0 & 0.0 & $\\dots$ \\\\\n",
       "\t6 & 18.1 & 6.0 & 225.0 & 105.0 & 2.76 & 3.46 & 20.22 & 1.0 & 0.0 & $\\dots$ \\\\\n",
       "\t7 & 14.3 & 8.0 & 360.0 & 245.0 & 3.21 & 3.57 & 15.84 & 0.0 & 0.0 & $\\dots$ \\\\\n",
       "\t8 & 24.4 & 4.0 & 146.7 & 62.0 & 3.69 & 3.19 & 20.0 & 1.0 & 0.0 & $\\dots$ \\\\\n",
       "\t9 & 22.8 & 4.0 & 140.8 & 95.0 & 3.92 & 3.15 & 22.9 & 1.0 & 0.0 & $\\dots$ \\\\\n",
       "\t10 & 19.2 & 6.0 & 167.6 & 123.0 & 3.92 & 3.44 & 18.3 & 1.0 & 0.0 & $\\dots$ \\\\\n",
       "\t11 & 17.8 & 6.0 & 167.6 & 123.0 & 3.92 & 3.44 & 18.9 & 1.0 & 0.0 & $\\dots$ \\\\\n",
       "\t12 & 16.4 & 8.0 & 275.8 & 180.0 & 3.07 & 4.07 & 17.4 & 0.0 & 0.0 & $\\dots$ \\\\\n",
       "\t13 & 17.3 & 8.0 & 275.8 & 180.0 & 3.07 & 3.73 & 17.6 & 0.0 & 0.0 & $\\dots$ \\\\\n",
       "\t14 & 15.2 & 8.0 & 275.8 & 180.0 & 3.07 & 3.78 & 18.0 & 0.0 & 0.0 & $\\dots$ \\\\\n",
       "\t15 & 10.4 & 8.0 & 472.0 & 205.0 & 2.93 & 5.25 & 17.98 & 0.0 & 0.0 & $\\dots$ \\\\\n",
       "\t16 & 10.4 & 8.0 & 460.0 & 215.0 & 3.0 & 5.424 & 17.82 & 0.0 & 0.0 & $\\dots$ \\\\\n",
       "\t17 & 14.7 & 8.0 & 440.0 & 230.0 & 3.23 & 5.345 & 17.42 & 0.0 & 0.0 & $\\dots$ \\\\\n",
       "\t18 & 32.4 & 4.0 & 78.7 & 66.0 & 4.08 & 2.2 & 19.47 & 1.0 & 1.0 & $\\dots$ \\\\\n",
       "\t19 & 30.4 & 4.0 & 75.7 & 52.0 & 4.93 & 1.615 & 18.52 & 1.0 & 1.0 & $\\dots$ \\\\\n",
       "\t20 & 33.9 & 4.0 & 71.1 & 65.0 & 4.22 & 1.835 & 19.9 & 1.0 & 1.0 & $\\dots$ \\\\\n",
       "\t21 & 21.5 & 4.0 & 120.1 & 97.0 & 3.7 & 2.465 & 20.01 & 1.0 & 0.0 & $\\dots$ \\\\\n",
       "\t22 & 15.5 & 8.0 & 318.0 & 150.0 & 2.76 & 3.52 & 16.87 & 0.0 & 0.0 & $\\dots$ \\\\\n",
       "\t23 & 15.2 & 8.0 & 304.0 & 150.0 & 3.15 & 3.435 & 17.3 & 0.0 & 0.0 & $\\dots$ \\\\\n",
       "\t24 & 13.3 & 8.0 & 350.0 & 245.0 & 3.73 & 3.84 & 15.41 & 0.0 & 0.0 & $\\dots$ \\\\\n",
       "\t25 & 19.2 & 8.0 & 400.0 & 175.0 & 3.08 & 3.845 & 17.05 & 0.0 & 0.0 & $\\dots$ \\\\\n",
       "\t26 & 27.3 & 4.0 & 79.0 & 66.0 & 4.08 & 1.935 & 18.9 & 1.0 & 1.0 & $\\dots$ \\\\\n",
       "\t27 & 26.0 & 4.0 & 120.3 & 91.0 & 4.43 & 2.14 & 16.7 & 0.0 & 1.0 & $\\dots$ \\\\\n",
       "\t28 & 30.4 & 4.0 & 95.1 & 113.0 & 3.77 & 1.513 & 16.9 & 1.0 & 1.0 & $\\dots$ \\\\\n",
       "\t29 & 15.8 & 8.0 & 351.0 & 264.0 & 4.22 & 3.17 & 14.5 & 0.0 & 1.0 & $\\dots$ \\\\\n",
       "\t30 & 19.7 & 6.0 & 145.0 & 175.0 & 3.62 & 2.77 & 15.5 & 0.0 & 1.0 & $\\dots$ \\\\\n",
       "\t$\\dots$ & $\\dots$ & $\\dots$ & $\\dots$ & $\\dots$ & $\\dots$ & $\\dots$ & $\\dots$ & $\\dots$ & $\\dots$ &  \\\\\n",
       "\\end{tabular}\n"
      ],
      "text/plain": [
       "32×11 DataFrames.DataFrame. Omitted printing of 4 columns\n",
       "│ Row │ mpg     │ cyl     │ disp    │ hp      │ drat    │ wt      │ qsec    │\n",
       "│     │ \u001b[90mFloat64\u001b[39m │ \u001b[90mFloat64\u001b[39m │ \u001b[90mFloat64\u001b[39m │ \u001b[90mFloat64\u001b[39m │ \u001b[90mFloat64\u001b[39m │ \u001b[90mFloat64\u001b[39m │ \u001b[90mFloat64\u001b[39m │\n",
       "├─────┼─────────┼─────────┼─────────┼─────────┼─────────┼─────────┼─────────┤\n",
       "│ 1   │ 21.0    │ 6.0     │ 160.0   │ 110.0   │ 3.9     │ 2.62    │ 16.46   │\n",
       "│ 2   │ 21.0    │ 6.0     │ 160.0   │ 110.0   │ 3.9     │ 2.875   │ 17.02   │\n",
       "│ 3   │ 22.8    │ 4.0     │ 108.0   │ 93.0    │ 3.85    │ 2.32    │ 18.61   │\n",
       "│ 4   │ 21.4    │ 6.0     │ 258.0   │ 110.0   │ 3.08    │ 3.215   │ 19.44   │\n",
       "│ 5   │ 18.7    │ 8.0     │ 360.0   │ 175.0   │ 3.15    │ 3.44    │ 17.02   │\n",
       "│ 6   │ 18.1    │ 6.0     │ 225.0   │ 105.0   │ 2.76    │ 3.46    │ 20.22   │\n",
       "│ 7   │ 14.3    │ 8.0     │ 360.0   │ 245.0   │ 3.21    │ 3.57    │ 15.84   │\n",
       "│ 8   │ 24.4    │ 4.0     │ 146.7   │ 62.0    │ 3.69    │ 3.19    │ 20.0    │\n",
       "│ 9   │ 22.8    │ 4.0     │ 140.8   │ 95.0    │ 3.92    │ 3.15    │ 22.9    │\n",
       "│ 10  │ 19.2    │ 6.0     │ 167.6   │ 123.0   │ 3.92    │ 3.44    │ 18.3    │\n",
       "⋮\n",
       "│ 22  │ 15.5    │ 8.0     │ 318.0   │ 150.0   │ 2.76    │ 3.52    │ 16.87   │\n",
       "│ 23  │ 15.2    │ 8.0     │ 304.0   │ 150.0   │ 3.15    │ 3.435   │ 17.3    │\n",
       "│ 24  │ 13.3    │ 8.0     │ 350.0   │ 245.0   │ 3.73    │ 3.84    │ 15.41   │\n",
       "│ 25  │ 19.2    │ 8.0     │ 400.0   │ 175.0   │ 3.08    │ 3.845   │ 17.05   │\n",
       "│ 26  │ 27.3    │ 4.0     │ 79.0    │ 66.0    │ 4.08    │ 1.935   │ 18.9    │\n",
       "│ 27  │ 26.0    │ 4.0     │ 120.3   │ 91.0    │ 4.43    │ 2.14    │ 16.7    │\n",
       "│ 28  │ 30.4    │ 4.0     │ 95.1    │ 113.0   │ 3.77    │ 1.513   │ 16.9    │\n",
       "│ 29  │ 15.8    │ 8.0     │ 351.0   │ 264.0   │ 4.22    │ 3.17    │ 14.5    │\n",
       "│ 30  │ 19.7    │ 6.0     │ 145.0   │ 175.0   │ 3.62    │ 2.77    │ 15.5    │\n",
       "│ 31  │ 15.0    │ 8.0     │ 301.0   │ 335.0   │ 3.54    │ 3.57    │ 14.6    │\n",
       "│ 32  │ 21.4    │ 4.0     │ 121.0   │ 109.0   │ 4.11    │ 2.78    │ 18.6    │"
      ]
     },
     "execution_count": 5,
     "metadata": {},
     "output_type": "execute_result"
    }
   ],
   "source": [
    "%get mtcars --from R\n",
    "mtcars"
   ]
  },
  {
   "cell_type": "markdown",
   "metadata": {
    "kernel": "Julia",
    "tags": []
   },
   "source": [
    "As you can see from the warning, row labels of the dataframe is not transferred because Julia's dataframe does not support row label. If you really need the row labels, you would have to assign row labels to a separate variable and transfer."
   ]
  },
  {
   "cell_type": "code",
   "execution_count": 6,
   "metadata": {
    "kernel": "Julia",
    "tags": []
   },
   "outputs": [
    {
     "name": "stderr",
     "output_type": "stream",
     "text": [
      "┌ Warning: `getindex(df::DataFrame, col_ind::ColumnIndex)` is deprecated, use `df[!, col_ind]` instead.\n",
      "│   caller = top-level scope at In[11]:1\n",
      "└ @ Core In[11]:1\n"
     ]
    },
    {
     "data": {
      "text/plain": [
       "32-element Arrow.Primitive{Float64}:\n",
       " 21.0\n",
       " 21.0\n",
       " 22.8\n",
       " 21.4\n",
       " 18.7\n",
       " 18.1\n",
       " 14.3\n",
       " 24.4\n",
       " 22.8\n",
       " 19.2\n",
       " 17.8\n",
       " 16.4\n",
       " 17.3\n",
       "  ⋮  \n",
       " 21.5\n",
       " 15.5\n",
       " 15.2\n",
       " 13.3\n",
       " 19.2\n",
       " 27.3\n",
       " 26.0\n",
       " 30.4\n",
       " 15.8\n",
       " 19.7\n",
       " 15.0\n",
       " 21.4"
      ]
     },
     "execution_count": 6,
     "metadata": {},
     "output_type": "execute_result"
    }
   ],
   "source": [
    "mpg = mtcars[1]"
   ]
  },
  {
   "cell_type": "code",
   "execution_count": 7,
   "metadata": {
    "collapsed": true,
    "jupyter": {
     "outputs_hidden": true
    },
    "kernel": "Julia",
    "tags": []
   },
   "outputs": [],
   "source": [
    "%put mpg"
   ]
  },
  {
   "cell_type": "markdown",
   "metadata": {
    "kernel": "Julia",
    "tags": []
   },
   "source": [
    "When an Julia `Array` is transferred to SoS (Python3), it becomes a `numpy.array`."
   ]
  },
  {
   "cell_type": "code",
   "execution_count": 8,
   "metadata": {
    "kernel": "SoS",
    "tags": []
   },
   "outputs": [
    {
     "data": {
      "text/plain": [
       "'Untransferrable variable'"
      ]
     },
     "execution_count": 8,
     "metadata": {},
     "output_type": "execute_result"
    }
   ],
   "source": [
    "mpg"
   ]
  },
  {
   "cell_type": "markdown",
   "metadata": {
    "kernel": "SoS",
    "tags": []
   },
   "source": [
    "## Further reading\n",
    "\n",
    "* [How to exchange variables among living subkernels](doc/user_guide/exchange_variable.html)"
   ]
  }
 ],
 "metadata": {
  "kernelspec": {
   "display_name": "SoS",
   "language": "sos",
   "name": "sos"
  },
  "language_info": {
   "codemirror_mode": "sos",
   "file_extension": ".sos",
   "mimetype": "text/x-sos",
   "name": "sos",
   "nbconvert_exporter": "sos_notebook.converter.SoS_Exporter",
   "pygments_lexer": "sos"
  },
  "sos": {
   "kernels": [
    [
     "Bash",
     "bash",
     "Bash",
     "#E6EEFF"
    ],
    [
     "R",
     "ir",
     "R",
     "#DCDCDA"
    ],
    [
     "SoS",
     "sos",
     "",
     ""
    ]
   ],
   "panel": {
    "displayed": true,
    "height": 0
   },
   "version": "0.21.3"
  }
 },
 "nbformat": 4,
 "nbformat_minor": 4
}
