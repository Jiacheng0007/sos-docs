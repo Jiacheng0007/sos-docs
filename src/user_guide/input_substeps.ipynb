{
 "cells": [
  {
   "cell_type": "markdown",
   "metadata": {
    "kernel": "SoS",
    "papermill": {
     "duration": 0.016282,
     "end_time": "2019-12-23T17:02:25.769392",
     "exception": false,
     "start_time": "2019-12-23T17:02:25.753110",
     "status": "completed"
    },
    "tags": []
   },
   "source": [
    "# How to specify input and output files and process input files in groups"
   ]
  },
  {
   "cell_type": "markdown",
   "metadata": {
    "kernel": "SoS",
    "papermill": {
     "duration": 0.0156,
     "end_time": "2019-12-23T17:02:25.801454",
     "exception": false,
     "start_time": "2019-12-23T17:02:25.785854",
     "status": "completed"
    },
    "tags": []
   },
   "source": [
    "* **Difficulty level**: easy\n",
    "* **Time need to lean**: 10 minutes or less\n",
    "* **Key points**:\n",
    "  * Input files are specified with the `input` statement, which defines variable `_input`\n",
    "  * Output files are specified with the `output` statement, which defines variable `_output`\n",
    "  * Input files can be processed in groups with the `group_by` option\n",
    "  "
   ]
  },
  {
   "cell_type": "markdown",
   "metadata": {
    "kernel": "SoS",
    "papermill": {
     "duration": 0.01479,
     "end_time": "2019-12-23T17:02:25.831824",
     "exception": false,
     "start_time": "2019-12-23T17:02:25.817034",
     "status": "completed"
    },
    "tags": []
   },
   "source": [
    "## Specifying step input and output"
   ]
  },
  {
   "cell_type": "markdown",
   "metadata": {
    "kernel": "SoS",
    "papermill": {
     "duration": 0.014097,
     "end_time": "2019-12-23T17:02:25.861586",
     "exception": false,
     "start_time": "2019-12-23T17:02:25.847489",
     "status": "completed"
    },
    "tags": []
   },
   "source": [
    "Taking again the example workflow from [our first tutorial](sos_in_notebook.html), we have defined variables such as `excel_file` and used them directly in the scripts."
   ]
  },
  {
   "cell_type": "code",
   "execution_count": 1,
   "metadata": {
    "kernel": "SoS",
    "papermill": {
     "duration": 0.368722,
     "end_time": "2019-12-23T17:02:26.245446",
     "exception": false,
     "start_time": "2019-12-23T17:02:25.876724",
     "status": "completed"
    },
    "tags": []
   },
   "outputs": [],
   "source": [
    "[global]\n",
    "excel_file = 'data/DEG.xlsx'\n",
    "csv_file = 'DEG.csv'\n",
    "figure_file = 'output.pdf'\n",
    "\n",
    "[plot_10]\n",
    "run: expand=True\n",
    "    xlsx2csv {excel_file} > {csv_file}\n",
    "\n",
    "[plot_20]\n",
    "R: expand=True\n",
    "    data <- read.csv('{csv_file}')\n",
    "    pdf('{figure_file}')\n",
    "    plot(data$log2FoldChange, data$stat)\n",
    "    dev.off()"
   ]
  },
  {
   "cell_type": "markdown",
   "metadata": {
    "kernel": "SoS",
    "papermill": {
     "duration": 0.018489,
     "end_time": "2019-12-23T17:02:26.279534",
     "exception": false,
     "start_time": "2019-12-23T17:02:26.261045",
     "status": "completed"
    },
    "tags": []
   },
   "source": [
    "You can add an `input` and an `output` statement to the steps and write the workflow as "
   ]
  },
  {
   "cell_type": "code",
   "execution_count": 2,
   "metadata": {
    "kernel": "SoS",
    "papermill": {
     "duration": 0.025025,
     "end_time": "2019-12-23T17:02:26.319275",
     "exception": false,
     "start_time": "2019-12-23T17:02:26.294250",
     "status": "completed"
    },
    "tags": []
   },
   "outputs": [],
   "source": [
    "[global]\n",
    "excel_file = 'data/DEG.xlsx'\n",
    "csv_file = 'DEG.csv'\n",
    "figure_file = 'output.pdf'\n",
    "\n",
    "[plot_10]\n",
    "input: excel_file\n",
    "output: csv_file\n",
    "\n",
    "run: expand=True\n",
    "    xlsx2csv {_input} > {_output}\n",
    "\n",
    "[plot_20]\n",
    "input: csv_file\n",
    "output: figure_file\n",
    "\n",
    "R: expand=True\n",
    "    data <- read.csv('{_input}')\n",
    "    pdf('{_output}')\n",
    "    plot(data$log2FoldChange, data$stat)\n",
    "    dev.off()"
   ]
  },
  {
   "cell_type": "markdown",
   "metadata": {
    "kernel": "SoS",
    "papermill": {
     "duration": 0.015945,
     "end_time": "2019-12-23T17:02:26.349749",
     "exception": false,
     "start_time": "2019-12-23T17:02:26.333804",
     "status": "completed"
    },
    "tags": []
   },
   "source": [
    "Comparing the two workflows, you will notice that steps in the new workflow have `input` and `output` statements that define the input and output of the steps, and two magic variables `_input` and `_output` are used in the scripts. These two variables are of type `sos_targets` and are of vital importance to the use of SoS."
   ]
  },
  {
   "cell_type": "markdown",
   "metadata": {
    "kernel": "SoS",
    "papermill": {
     "duration": 0.015725,
     "end_time": "2019-12-23T17:02:26.384427",
     "exception": false,
     "start_time": "2019-12-23T17:02:26.368702",
     "status": "completed"
    },
    "tags": []
   },
   "source": [
    "## Substeps and input option `group_by`"
   ]
  },
  {
   "cell_type": "markdown",
   "metadata": {
    "kernel": "SoS",
    "papermill": {
     "duration": 0.015703,
     "end_time": "2019-12-23T17:02:26.415181",
     "exception": false,
     "start_time": "2019-12-23T17:02:26.399478",
     "status": "completed"
    },
    "tags": []
   },
   "source": [
    "The `input` and `output` statements notify SoS the input and output of the steps and allow SoS to handle them in a much more intelligent way. One of the most useful usages is the definition of substeps that allows SoS to process groups of input one by one, and/or the same groups of input with different sets of variables (option `for_each`, which will be discussed later)."
   ]
  },
  {
   "cell_type": "markdown",
   "metadata": {
    "kernel": "SoS",
    "papermill": {
     "duration": 0.015845,
     "end_time": "2019-12-23T17:02:26.445246",
     "exception": false,
     "start_time": "2019-12-23T17:02:26.429401",
     "status": "completed"
    },
    "tags": []
   },
   "source": [
    "Let us assume that we have two input files `data/S20_R1.fastq` and `data/S20_R2.fastq` and we would like to check the quality of them using a tool called [fastqc](https://www.bioinformatics.babraham.ac.uk/projects/fastqc/). Using a plain Python approach and the `sh` action, the analysis can be performed by"
   ]
  },
  {
   "cell_type": "code",
   "execution_count": 3,
   "metadata": {
    "kernel": "SoS",
    "papermill": {
     "duration": 3.520447,
     "end_time": "2019-12-23T17:02:29.980015",
     "exception": false,
     "start_time": "2019-12-23T17:02:26.459568",
     "status": "completed"
    },
    "tags": []
   },
   "outputs": [
    {
     "name": "stdout",
     "output_type": "stream",
     "text": [
      "Skipping 'data/S20_R1.fastq' which didn't exist, or couldn't be read\n"
     ]
    },
    {
     "name": "stdout",
     "output_type": "stream",
     "text": [
      "Skipping 'data/S20_R2.fastq' which didn't exist, or couldn't be read\n"
     ]
    }
   ],
   "source": [
    "for infile in ['data/S20_R1.fastq', 'data/S20_R2.fastq']:\n",
    "    sh(f'fastqc {infile}')"
   ]
  },
  {
   "cell_type": "markdown",
   "metadata": {
    "kernel": "SoS",
    "papermill": {
     "duration": 0.018432,
     "end_time": "2019-12-23T17:02:30.014521",
     "exception": false,
     "start_time": "2019-12-23T17:02:29.996089",
     "status": "completed"
    },
    "tags": []
   },
   "source": [
    "Or using the `input` statement to define variable `_input` with two files, and use a (slightly more convenient but less Pythonic) indented script format:"
   ]
  },
  {
   "cell_type": "code",
   "execution_count": 4,
   "metadata": {
    "kernel": "SoS",
    "papermill": {
     "duration": 0.032192,
     "end_time": "2019-12-23T17:02:30.062951",
     "exception": true,
     "start_time": "2019-12-23T17:02:30.030759",
     "status": "failed"
    },
    "tags": []
   },
   "outputs": [
    {
     "name": "stderr",
     "output_type": "stream",
     "text": [
      "Unavailable target data/S20_R1.fastq\n"
     ]
    }
   ],
   "source": [
    "input: 'data/S20_R1.fastq', 'data/S20_R2.fastq'\n",
    "\n",
    "for infile in _input:\n",
    "    sh: expand=True\n",
    "        fastqc {infile}"
   ]
  },
  {
   "cell_type": "markdown",
   "metadata": {
    "kernel": "SoS",
    "papermill": {
     "duration": null,
     "end_time": null,
     "exception": null,
     "start_time": null,
     "status": "pending"
    },
    "tags": []
   },
   "source": [
    "There are two problems with this approach,\n",
    "\n",
    "* The action `sh`, either in function call format or indented script format, is less readable, especially if the script is long, and more importantly,\n",
    "* The input files are handled one by one although they are independent and can be processed in parallel\n",
    "\n",
    "To address these problems, you can write the step as follows:"
   ]
  },
  {
   "cell_type": "code",
   "execution_count": null,
   "metadata": {
    "kernel": "SoS",
    "papermill": {
     "duration": null,
     "end_time": null,
     "exception": null,
     "start_time": null,
     "status": "pending"
    },
    "tags": []
   },
   "outputs": [],
   "source": [
    "input: 'data/S20_R1.fastq', 'data/S20_R2.fastq', group_by=1\n",
    "\n",
    "sh: expand=True\n",
    "    fastqc {_input}"
   ]
  },
  {
   "cell_type": "markdown",
   "metadata": {
    "kernel": "SoS",
    "papermill": {
     "duration": null,
     "end_time": null,
     "exception": null,
     "start_time": null,
     "status": "pending"
    },
    "tags": []
   },
   "source": [
    "<div class=\"bs-callout bs-callout-primary\" role=\"alert\">\n",
    "    <h4>Substeps created by the <code>group_by</code> input option</h4>\n",
    "    <ul>\n",
    "        <li>The <code>group_by</code> option groups input files and creates multiple groups of input files</li>  \n",
    "        <li>Multiple <em>substeps</em> are created for each group of input files</li>\n",
    "        <li>The input of each substep is stored in variable <code>_input</code></li>\n",
    "        <li>The substeps are by default executed in parallel</li>\n",
    "    </ul>\n",
    "</div>"
   ]
  },
  {
   "cell_type": "markdown",
   "metadata": {
    "kernel": "SoS",
    "papermill": {
     "duration": null,
     "end_time": null,
     "exception": null,
     "start_time": null,
     "status": "pending"
    },
    "tags": []
   },
   "source": [
    "In this example, option `group_by=1` divides the two input files into two groups, each with one input file. Two substeps are created from the groups. They execute the same step process (statements after the `input` statement) but with different values of variable `_input`. The `sh` action is written in the script format, which can be a lot more readable if the script is long. The substeps are executed in parallel so the step could be completed a lot faster than the `for` look version."
   ]
  },
  {
   "cell_type": "markdown",
   "metadata": {
    "kernel": "SoS",
    "papermill": {
     "duration": null,
     "end_time": null,
     "exception": null,
     "start_time": null,
     "status": "pending"
    },
    "tags": []
   },
   "source": [
    "## Output of substeps"
   ]
  },
  {
   "cell_type": "markdown",
   "metadata": {
    "kernel": "SoS",
    "papermill": {
     "duration": null,
     "end_time": null,
     "exception": null,
     "start_time": null,
     "status": "pending"
    },
    "tags": []
   },
   "source": [
    "<div class=\"bs-callout bs-callout-primary\" role=\"alert\">\n",
    "    <h4>The <code>output</code> statement</h4>\n",
    "    <ul>\n",
    "        <li>The <code>output</code> statement defines the output of each <b>substep</b>, represented by variable <code>_output</code>.</li>\n",
    "        <li>The output of the entire step consists of <code>_output</code> from each substep.</li>\n",
    "    </ul>\n",
    "</div>"
   ]
  },
  {
   "cell_type": "markdown",
   "metadata": {
    "kernel": "SoS",
    "papermill": {
     "duration": null,
     "end_time": null,
     "exception": null,
     "start_time": null,
     "status": "pending"
    },
    "tags": []
   },
   "source": [
    "The `input` statement defines input of the entire step, and optionally input of each substep as variable `_input`. **The `output` statement, however, defines the output of each substep**."
   ]
  },
  {
   "cell_type": "markdown",
   "metadata": {
    "kernel": "SoS",
    "papermill": {
     "duration": null,
     "end_time": null,
     "exception": null,
     "start_time": null,
     "status": "pending"
    },
    "tags": []
   },
   "source": [
    "In the following example, the two input files are divided into two groups, reprented by `_input` for each substep. The output statement defines a variable `_output` for each substep."
   ]
  },
  {
   "cell_type": "code",
   "execution_count": null,
   "metadata": {
    "kernel": "SoS",
    "papermill": {
     "duration": null,
     "end_time": null,
     "exception": null,
     "start_time": null,
     "status": "pending"
    },
    "tags": []
   },
   "outputs": [],
   "source": [
    "input: 'data/S20_R1.fastq', 'data/S20_R2.fastq', group_by=1\n",
    "output: f'{_input:n}_fastqc.html'\n",
    "\n",
    "sh: expand=True\n",
    "    fastqc {_input}"
   ]
  },
  {
   "cell_type": "markdown",
   "metadata": {
    "kernel": "SoS",
    "papermill": {
     "duration": null,
     "end_time": null,
     "exception": null,
     "start_time": null,
     "status": "pending"
    },
    "tags": []
   },
   "source": [
    "<div class=\"bs-callout bs-callout-primary\" role=\"alert\">\n",
    "    <h4>Special format specification for <code>_input</code> objects</h4>\n",
    "    <p>SoS variables <code>_input</code> and <code>_output</code> are of type <code>sos_targets</code> and accept additional <a href=\"https://docs.python.org/3/reference/lexical_analysis.html#f-strings\">format specifications</a>. For example, \n",
    "    <ul>\n",
    "        <li><code>:n</code> is the name of the path. e.g. <code>f'{_input:n}'</code> returns <code>/path/to/a</code> if <code>_input</code> is <code>/path/to/a.txt</code></li>\n",
    "         <li><code>:b</code> is the basename of the path. e.g. <code>a.txt</code> from <code>/path/to/a.txt</code></li>\n",
    "        <li><code>:d</code> is the directory name of the path. e.g. <code>/path/to</code> from <code>/path/to/a.txt</code></li>\n",
    "    </ul>\n",
    "</div>"
   ]
  },
  {
   "cell_type": "markdown",
   "metadata": {
    "kernel": "SoS",
    "papermill": {
     "duration": null,
     "end_time": null,
     "exception": null,
     "start_time": null,
     "status": "pending"
    },
    "tags": []
   },
   "source": [
    "The output statement of this example is\n",
    "\n",
    "```python\n",
    "output: f'{_input:n}_fastqc.html'\n",
    "```\n",
    "which takes the name of `_input` and add `_fastqc.html`. For example, if `_input = 'data/S20_R1.fastq'`, the corresponding `_output = 'data/S20_R1_fastqc.html`."
   ]
  },
  {
   "cell_type": "markdown",
   "metadata": {
    "kernel": "SoS",
    "papermill": {
     "duration": null,
     "end_time": null,
     "exception": null,
     "start_time": null,
     "status": "pending"
    },
    "tags": []
   },
   "source": [
    "With this output statement, SoS will, among many other things, check if the output is properly generated after the completion of each substep, and returns an output object with the `_output` of each substep."
   ]
  },
  {
   "cell_type": "markdown",
   "metadata": {
    "kernel": "SoS",
    "papermill": {
     "duration": null,
     "end_time": null,
     "exception": null,
     "start_time": null,
     "status": "pending"
    },
    "tags": []
   },
   "source": [
    "## Further reading\n",
    "\n",
    "* [Parameter `group_by` of `sos_targets`](doc/user_guide/ref_group_by.html)\n",
    "* [SoS Data Types](doc/user_guide/sos_datatypes.html) for a complete list of format specification\n",
    "* [How to define and execute basic forward-style workflows](doc/user_guide/forward_workflow.html) for more on `output` groups"
   ]
  }
 ],
 "metadata": {
  "kernelspec": {
   "display_name": "SoS",
   "language": "sos",
   "name": "sos"
  },
  "language_info": {
   "codemirror_mode": "sos",
   "file_extension": ".sos",
   "mimetype": "text/x-sos",
   "name": "sos",
   "nbconvert_exporter": "sos_notebook.converter.SoS_Exporter",
   "pygments_lexer": "sos"
  },
  "papermill": {
   "duration": 11.991046,
   "end_time": "2019-12-23T17:02:35.280471",
   "environment_variables": {},
   "exception": true,
   "input_path": "/Users/bpeng1/sos/sos-docs/src/user_guide/input_substeps.ipynb",
   "output_path": "input_substeps.ipynb_rerun.ipynb",
   "parameters": {},
   "start_time": "2019-12-23T17:02:23.289425",
   "version": "1.1.0"
  },
  "sos": {
   "kernels": [
    [
     "Bash",
     "bash",
     "Bash",
     "#E6EEFF"
    ],
    [
     "R",
     "ir",
     "R",
     "#DCDCDA"
    ],
    [
     "SoS",
     "sos",
     "",
     ""
    ]
   ],
   "panel": {
    "displayed": true,
    "height": 0
   },
   "version": "0.21.0"
  }
 },
 "nbformat": 4,
 "nbformat_minor": 4
}