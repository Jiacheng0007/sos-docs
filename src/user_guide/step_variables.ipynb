{
 "cells": [
  {
   "cell_type": "markdown",
   "metadata": {
    "kernel": "SoS",
    "papermill": {
     "duration": 0.026292,
     "end_time": "2019-12-23T17:07:13.280667",
     "exception": false,
     "start_time": "2019-12-23T17:07:13.254375",
     "status": "completed"
    },
    "tags": []
   },
   "source": [
    "# Variables that can be used in a SoS step"
   ]
  },
  {
   "cell_type": "markdown",
   "metadata": {
    "kernel": "SoS",
    "papermill": {
     "duration": 0.022506,
     "end_time": "2019-12-23T17:07:13.331815",
     "exception": false,
     "start_time": "2019-12-23T17:07:13.309309",
     "status": "completed"
    },
    "tags": []
   },
   "source": [
    "* **Difficulty level**: easy to intermediate\n",
    "* **Time need to lean**: 30 minutes or less\n",
    "* **Key points**:  \n",
    "  * Steps can access system configurations through variable `CONFIG`, `__version__`\n",
    "  * Steps can access workflow and step information through variables `step_name`, `step_id`, `workflow_id`, and `master_id`\n",
    "  * Steps have step and substep specific variables such as `step_input`, `_input`, `_depends`, `_output`\n",
    "  * Steps can use variables defined locally and in global sections\n",
    "  * Steps can inherit variables passed as output of other steps, e.g. from `output_from`\n",
    "  * Steps can use variables shared by other steps through `sos_variable`"
   ]
  },
  {
   "cell_type": "markdown",
   "metadata": {
    "kernel": "SoS",
    "papermill": {
     "duration": 0.022236,
     "end_time": "2019-12-23T17:07:13.375500",
     "exception": false,
     "start_time": "2019-12-23T17:07:13.353264",
     "status": "completed"
    },
    "tags": []
   },
   "source": [
    "SoS steps are isolated in the sense that they have access to limited set of variables and by default do not share variables. This tutorial lists all variables that can be used in a step."
   ]
  },
  {
   "cell_type": "markdown",
   "metadata": {
    "kernel": "SoS",
    "papermill": {
     "duration": 0.01982,
     "end_time": "2019-12-23T17:07:13.416952",
     "exception": false,
     "start_time": "2019-12-23T17:07:13.397132",
     "status": "completed"
    },
    "tags": []
   },
   "source": [
    "## System variables `SOS_VERSION` and `CONFIG`"
   ]
  },
  {
   "cell_type": "markdown",
   "metadata": {
    "kernel": "SoS",
    "papermill": {
     "duration": 0.020862,
     "end_time": "2019-12-23T17:07:13.462455",
     "exception": false,
     "start_time": "2019-12-23T17:07:13.441593",
     "status": "completed"
    },
    "tags": []
   },
   "source": [
    "<div class=\"bs-callout bs-callout-primary\" role=\"alert\">\n",
    "    <h4>Variables <code>SOS_VERSION</code> and <code>CONFIG</code></h4>\n",
    "    <ul>\n",
    "        <li><code>SOS_VERSION</code> is a string for version of the SoS interpreter</li>  \n",
    "        <li><code>CONFIG</code> is a dictionary containing content from multiple system configuration files</li>\n",
    "    </ul>\n",
    "</div>"
   ]
  },
  {
   "cell_type": "markdown",
   "metadata": {
    "kernel": "SoS",
    "papermill": {
     "duration": 0.023163,
     "end_time": "2019-12-23T17:07:13.508041",
     "exception": false,
     "start_time": "2019-12-23T17:07:13.484878",
     "status": "completed"
    },
    "tags": []
   },
   "source": [
    "SoS provides two system variables, one is `SOS_VERSION`, which is the version of the SoS interpreter, the other one is `CONFIG`, which is a dictionary that contains all the configurations stored in system configuration files, and configurations specified with option `-c` (config).\n",
    "\n",
    "Variable `SOS_VERSION` is just a string"
   ]
  },
  {
   "cell_type": "code",
   "execution_count": 1,
   "metadata": {
    "kernel": "SoS",
    "papermill": {
     "duration": 0.456324,
     "end_time": "2019-12-23T17:07:13.986499",
     "exception": false,
     "start_time": "2019-12-23T17:07:13.530175",
     "status": "completed"
    },
    "tags": []
   },
   "outputs": [
    {
     "data": {
      "text/plain": [
       "'0.21.1'"
      ]
     },
     "execution_count": 1,
     "metadata": {},
     "output_type": "execute_result"
    }
   ],
   "source": [
    "SOS_VERSION"
   ]
  },
  {
   "cell_type": "markdown",
   "metadata": {
    "kernel": "SoS",
    "papermill": {
     "duration": 0.023135,
     "end_time": "2019-12-23T17:07:14.031370",
     "exception": false,
     "start_time": "2019-12-23T17:07:14.008235",
     "status": "completed"
    },
    "tags": []
   },
   "source": [
    "Variable `CONFIG` is a dictionary and can be much more complex. For this particular system, it contains keys `localhost`, `hosts`, and `user_name`,  "
   ]
  },
  {
   "cell_type": "code",
   "execution_count": 2,
   "metadata": {
    "kernel": "SoS",
    "papermill": {
     "duration": 0.035661,
     "end_time": "2019-12-23T17:07:14.089770",
     "exception": false,
     "start_time": "2019-12-23T17:07:14.054109",
     "status": "completed"
    },
    "tags": []
   },
   "outputs": [
    {
     "data": {
      "text/plain": [
       "dict_keys(['localhost', 'dqs-server', 'hosts', 'cutoff', 'user_name'])"
      ]
     },
     "execution_count": 2,
     "metadata": {},
     "output_type": "execute_result"
    }
   ],
   "source": [
    "CONFIG.keys()"
   ]
  },
  {
   "cell_type": "markdown",
   "metadata": {
    "kernel": "SoS",
    "papermill": {
     "duration": 0.020793,
     "end_time": "2019-12-23T17:07:14.131992",
     "exception": false,
     "start_time": "2019-12-23T17:07:14.111199",
     "status": "completed"
    },
    "tags": []
   },
   "source": [
    "and you can access values in this dictionary just like any other dictionary:"
   ]
  },
  {
   "cell_type": "code",
   "execution_count": 3,
   "metadata": {
    "kernel": "SoS",
    "papermill": {
     "duration": 0.033823,
     "end_time": "2019-12-23T17:07:14.186940",
     "exception": false,
     "start_time": "2019-12-23T17:07:14.153117",
     "status": "completed"
    },
    "tags": []
   },
   "outputs": [
    {
     "data": {
      "text/plain": [
       "'bpeng1'"
      ]
     },
     "execution_count": 3,
     "metadata": {},
     "output_type": "execute_result"
    }
   ],
   "source": [
    "CONFIG['user_name']"
   ]
  },
  {
   "cell_type": "markdown",
   "metadata": {
    "kernel": "SoS",
    "papermill": {
     "duration": 0.025269,
     "end_time": "2019-12-23T17:07:14.233230",
     "exception": false,
     "start_time": "2019-12-23T17:07:14.207961",
     "status": "completed"
    },
    "tags": []
   },
   "source": [
    "Note that `CONFIG` only contains content from system configuration files `{SOS_DIRECTORY}/site_config.yml`, `~/.sos/hosts.yml`, and `~/.sos/config.yml`. If you have your own configuration in a file in JSON or YMAL format, you can specify it from command line using option `-c`. The content of that file will then be available in variable `CONFIG`."
   ]
  },
  {
   "cell_type": "markdown",
   "metadata": {
    "kernel": "SoS",
    "papermill": {
     "duration": 0.028859,
     "end_time": "2019-12-23T17:07:14.284598",
     "exception": false,
     "start_time": "2019-12-23T17:07:14.255739",
     "status": "completed"
    },
    "tags": []
   },
   "source": [
    "For example, using a `report` action, the following workflow creates a `local.yml` file with content\n",
    "```\n",
    "my_setting: 5\n",
    "```"
   ]
  },
  {
   "cell_type": "code",
   "execution_count": 4,
   "metadata": {
    "kernel": "SoS",
    "papermill": {
     "duration": 0.044288,
     "end_time": "2019-12-23T17:07:14.353449",
     "exception": false,
     "start_time": "2019-12-23T17:07:14.309161",
     "status": "completed"
    },
    "tags": []
   },
   "outputs": [],
   "source": [
    "report: output='local.yml'\n",
    "    my_setting: 5  "
   ]
  },
  {
   "cell_type": "markdown",
   "metadata": {
    "kernel": "SoS",
    "papermill": {
     "duration": 0.037548,
     "end_time": "2019-12-23T17:07:14.422483",
     "exception": false,
     "start_time": "2019-12-23T17:07:14.384935",
     "status": "completed"
    },
    "tags": []
   },
   "source": [
    "Then, with option `-c local.yml`, the content of this file becomes part of `CONFIG` and can be used as\n",
    "```\n",
    "CONFIG['my_setting']\n",
    "```"
   ]
  },
  {
   "cell_type": "code",
   "execution_count": 5,
   "metadata": {
    "kernel": "SoS",
    "papermill": {
     "duration": 2.911537,
     "end_time": "2019-12-23T17:07:17.370365",
     "exception": false,
     "start_time": "2019-12-23T17:07:14.458828",
     "status": "completed"
    },
    "tags": []
   },
   "outputs": [
    {
     "name": "stdout",
     "output_type": "stream",
     "text": [
      "\u001b[32m[\u001b[0m\u001b[32m#\u001b[0m\u001b[32m]\u001b[0m 1 step processed (1 job completed)\n"
     ]
    }
   ],
   "source": [
    "%run -c local.yml -v0\n",
    "print(CONFIG['my_setting'])"
   ]
  },
  {
   "cell_type": "markdown",
   "metadata": {
    "kernel": "SoS",
    "papermill": {
     "duration": 0.04067,
     "end_time": "2019-12-23T17:07:17.451673",
     "exception": false,
     "start_time": "2019-12-23T17:07:17.411003",
     "status": "completed"
    },
    "tags": []
   },
   "source": [
    "## Workflow and step identifications"
   ]
  },
  {
   "cell_type": "markdown",
   "metadata": {
    "kernel": "SoS",
    "papermill": {
     "duration": 0.024449,
     "end_time": "2019-12-23T17:07:17.510480",
     "exception": false,
     "start_time": "2019-12-23T17:07:17.486031",
     "status": "completed"
    },
    "tags": []
   },
   "source": [
    "<div class=\"bs-callout bs-callout-primary\" role=\"alert\">\n",
    "    <h4>Variables <code>step_name</code>, <code>step_id</code>, <code>workflow_id</code> and <code>master_id</code></h4>\n",
    "    <ul>\n",
    "       <li><code>step_name</code>: name of the step\n",
    "<li><code>step_id</code>: Hash ID of the step, which is determined by the content of the step\n",
    "<li><code>workflow_id</code>: Hash ID of the workflow in which the step is defined. It would be the ID of the nested workflow if the workflow is nested.\n",
    "<li><code>master_id</code>: Hash ID of the entire workflow, regardless if the step is defined in a nested workflow.\n",
    "    </ul>\n",
    "</div>"
   ]
  },
  {
   "cell_type": "markdown",
   "metadata": {
    "kernel": "SoS",
    "papermill": {
     "duration": 0.023659,
     "end_time": "2019-12-23T17:07:17.566959",
     "exception": false,
     "start_time": "2019-12-23T17:07:17.543300",
     "status": "completed"
    },
    "tags": []
   },
   "source": [
    "SoS passes identifications of workflows and steps as variables during the the execution of a step. For example, in the following example, two steps have different step names and workflow IDs because `nested` is a nested workflow, but they share the same `master_id`.  "
   ]
  },
  {
   "cell_type": "code",
   "execution_count": 6,
   "metadata": {
    "kernel": "SoS",
    "papermill": {
     "duration": 3.631318,
     "end_time": "2019-12-23T17:07:21.229593",
     "exception": false,
     "start_time": "2019-12-23T17:07:17.598275",
     "status": "completed"
    },
    "tags": []
   },
   "outputs": [
    {
     "name": "stdout",
     "output_type": "stream",
     "text": [
      "\u001b[32m[\u001b[0m\u001b[32m#\u001b[0m\u001b[33m#\u001b[0m\u001b[32m]\u001b[0m 2 steps processed (2 jobs completed)\n"
     ]
    }
   ],
   "source": [
    "%run -v0\n",
    "[nested]\n",
    "print(f'I am step {step_name} of workflow {workflow_id}')\n",
    "\n",
    "[default]\n",
    "print(f'I am step {step_name} of workflow {workflow_id}')\n",
    "sos_run('nested')"
   ]
  },
  {
   "cell_type": "markdown",
   "metadata": {
    "kernel": "SoS",
    "papermill": {
     "duration": 0.032525,
     "end_time": "2019-12-23T17:07:21.293969",
     "exception": false,
     "start_time": "2019-12-23T17:07:21.261444",
     "status": "completed"
    },
    "tags": []
   },
   "source": [
    "These variables are mostly used internally although you can use them to create step- or workflow-specific log messages or output files. `step_name`, however, is an exception because it is useful for the creation of steps that can be used by multiple workflows."
   ]
  },
  {
   "cell_type": "markdown",
   "metadata": {
    "kernel": "SoS",
    "papermill": {
     "duration": 0.034173,
     "end_time": "2019-12-23T17:07:21.358416",
     "exception": false,
     "start_time": "2019-12-23T17:07:21.324243",
     "status": "completed"
    },
    "tags": []
   },
   "source": [
    "For example, if you have a workflow that can handle both human and mouse data, you can define a section that can be used by both workflows. Inside the step, you can use variable `step_name` to determine which workflow is being executed and act accordingly:"
   ]
  },
  {
   "cell_type": "code",
   "execution_count": 7,
   "metadata": {
    "kernel": "SoS",
    "papermill": {
     "duration": 3.326619,
     "end_time": "2019-12-23T17:07:24.714143",
     "exception": false,
     "start_time": "2019-12-23T17:07:21.387524",
     "status": "completed"
    },
    "tags": []
   },
   "outputs": [
    {
     "name": "stdout",
     "output_type": "stream",
     "text": [
      "\u001b[32m[\u001b[0m\u001b[32m#\u001b[0m\u001b[32m]\u001b[0m 1 step processed (1 job completed)\n"
     ]
    }
   ],
   "source": [
    "%run human -v0\n",
    "\n",
    "[human_10, mouse_10]\n",
    "if 'human' in step_name:\n",
    "   print(\"Using human reference genome\")\n",
    "else:\n",
    "   print(\"Using mouse reference genome\")\n"
   ]
  },
  {
   "cell_type": "markdown",
   "metadata": {
    "kernel": "SoS",
    "papermill": {
     "duration": 0.029707,
     "end_time": "2019-12-23T17:07:24.767643",
     "exception": false,
     "start_time": "2019-12-23T17:07:24.737936",
     "status": "completed"
    },
    "tags": []
   },
   "source": [
    "## Runtime variables for steps and substeps"
   ]
  },
  {
   "cell_type": "markdown",
   "metadata": {
    "kernel": "SoS",
    "papermill": {
     "duration": 0.023549,
     "end_time": "2019-12-23T17:07:24.813819",
     "exception": false,
     "start_time": "2019-12-23T17:07:24.790270",
     "status": "completed"
    },
    "tags": []
   },
   "source": [
    "#### `step_input` and `_input`"
   ]
  },
  {
   "cell_type": "markdown",
   "metadata": {
    "kernel": "SoS",
    "papermill": {
     "duration": 0.022104,
     "end_time": "2019-12-23T17:07:24.859341",
     "exception": false,
     "start_time": "2019-12-23T17:07:24.837237",
     "status": "completed"
    },
    "tags": []
   },
   "source": [
    "In SoS, the `input` statement mostly creates a `step_input` object with provided parameters. That is to say,\n",
    "\n",
    "```\n",
    "input: 'a.txt', 'b.txt', group_by=1\n",
    "```\n",
    "is almost equivalent to\n",
    "\n",
    "```\n",
    "step_input = sos_targets('a.txt', 'b.txt', group_by=1)\n",
    "```\n",
    "and we can use `sos_targets` objects directly in an `input` statement in more complicated cases."
   ]
  },
  {
   "cell_type": "markdown",
   "metadata": {
    "kernel": "SoS",
    "papermill": {
     "duration": 0.022576,
     "end_time": "2019-12-23T17:07:24.904014",
     "exception": false,
     "start_time": "2019-12-23T17:07:24.881438",
     "status": "completed"
    },
    "tags": []
   },
   "source": [
    "## Variables defined in global sections"
   ]
  },
  {
   "cell_type": "markdown",
   "metadata": {
    "kernel": "SoS",
    "papermill": {
     "duration": 0.02257,
     "end_time": "2019-12-23T17:07:24.948921",
     "exception": false,
     "start_time": "2019-12-23T17:07:24.926351",
     "status": "completed"
    },
    "tags": []
   },
   "source": [
    "Global sections of a workflow can be considered as part of the step process. As a matter of fact, because steps and substeps are executed in separate processes, statements in global sections will be executed repeatedly for each step and substep. Consequently, you can use variables or parameters defined in the global sections in each step."
   ]
  },
  {
   "cell_type": "code",
   "execution_count": 8,
   "metadata": {
    "kernel": "SoS",
    "papermill": {
     "duration": 3.054358,
     "end_time": "2019-12-23T17:07:28.029794",
     "exception": false,
     "start_time": "2019-12-23T17:07:24.975436",
     "status": "completed"
    },
    "tags": []
   },
   "outputs": [
    {
     "name": "stdout",
     "output_type": "stream",
     "text": [
      "\u001b[32m[\u001b[0m\u001b[32m#\u001b[0m\u001b[32m#\u001b[0m\u001b[32m]\u001b[0m 2 steps processed (2 jobs completed)\n"
     ]
    }
   ],
   "source": [
    "%run --sample=A23 -v0\n",
    "\n",
    "[global]\n",
    "parameter: sample=str\n",
    "\n",
    "[A_1]\n",
    "print(f'Preparing {sample}')\n",
    "\n",
    "[A_2]\n",
    "print(f'Processing {sample}')"
   ]
  },
  {
   "cell_type": "markdown",
   "metadata": {
    "kernel": "SoS",
    "papermill": {
     "duration": 0.035826,
     "end_time": "2019-12-23T17:07:28.095521",
     "exception": false,
     "start_time": "2019-12-23T17:07:28.059695",
     "status": "completed"
    },
    "tags": []
   },
   "source": [
    "However, because steps are executed separately, although variables defined by the global section are shared by all steps, changing these variables in a step will not affect variables in other steps:"
   ]
  },
  {
   "cell_type": "code",
   "execution_count": 9,
   "metadata": {
    "kernel": "SoS",
    "papermill": {
     "duration": 3.075358,
     "end_time": "2019-12-23T17:07:31.206490",
     "exception": false,
     "start_time": "2019-12-23T17:07:28.131132",
     "status": "completed"
    },
    "tags": []
   },
   "outputs": [
    {
     "name": "stdout",
     "output_type": "stream",
     "text": [
      "\u001b[32m[\u001b[0m\u001b[32m#\u001b[0m\u001b[32m#\u001b[0m\u001b[32m]\u001b[0m 2 steps processed (2 jobs completed)\n"
     ]
    }
   ],
   "source": [
    "%run --sample=A23 -v0\n",
    "\n",
    "[global]\n",
    "parameter: sample=str\n",
    "\n",
    "[A_1]\n",
    "print(f'Preparing {sample}')\n",
    "sample = 'Another name'\n",
    "\n",
    "[A_2]\n",
    "print(f'Processing {sample}')"
   ]
  },
  {
   "cell_type": "markdown",
   "metadata": {
    "kernel": "SoS",
    "papermill": {
     "duration": 0.022784,
     "end_time": "2019-12-23T17:07:31.257769",
     "exception": false,
     "start_time": "2019-12-23T17:07:31.234985",
     "status": "completed"
    },
    "tags": []
   },
   "source": [
    "## Variables passed from output of other steps"
   ]
  },
  {
   "cell_type": "markdown",
   "metadata": {
    "kernel": "SoS",
    "papermill": {
     "duration": 0.023823,
     "end_time": "2019-12-23T17:07:31.304161",
     "exception": false,
     "start_time": "2019-12-23T17:07:31.280338",
     "status": "completed"
    },
    "tags": []
   },
   "source": [
    "`_output` of a step is a `sos_target` object. Similar to other SoS targets, you can attach variables to this variable. Interestingly, when `_output` is passed to another step and becomes the `_input` of a substep, its associated variables will be accessible from the substep.\n",
    "\n",
    "For example, in the following workflow, an attribute `my_i` is assigned to each `_output` with value of variable `i`. When step `20` inherits the output of step `10` and executes the substeps, `my_i` becomes available to each substep."
   ]
  },
  {
   "cell_type": "code",
   "execution_count": 10,
   "metadata": {
    "kernel": "SoS",
    "papermill": {
     "duration": 3.024964,
     "end_time": "2019-12-23T17:07:34.352379",
     "exception": false,
     "start_time": "2019-12-23T17:07:31.327415",
     "status": "completed"
    },
    "tags": []
   },
   "outputs": [
    {
     "name": "stdout",
     "output_type": "stream",
     "text": [
      "\u001b[32m[\u001b[0m\u001b[32m#\u001b[0m\u001b[32m#\u001b[0m\u001b[32m]\u001b[0m 2 steps processed (4 jobs completed)\n"
     ]
    }
   ],
   "source": [
    "%run -v0\n",
    "[10]\n",
    "input: for_each=dict(i=range(2))\n",
    "output: f'test_{i}.txt'\n",
    "_output.touch()\n",
    "_output.set(my_i=i)\n",
    "\n",
    "[20]\n",
    "print(my_i)"
   ]
  },
  {
   "cell_type": "markdown",
   "metadata": {
    "kernel": "SoS",
    "papermill": {
     "duration": 0.023969,
     "end_time": "2019-12-23T17:07:34.399405",
     "exception": false,
     "start_time": "2019-12-23T17:07:34.375436",
     "status": "completed"
    },
    "tags": []
   },
   "source": [
    "The same holds for outputs imported by functions `named_output` and `output_from`. For example, the use of `output_from('A')` in the following workflow imports the `step_output` and its groups from step `A`, and `my_i` attached to `_input` becomes available in the substeps of `default`."
   ]
  },
  {
   "cell_type": "code",
   "execution_count": 11,
   "metadata": {
    "kernel": "SoS",
    "papermill": {
     "duration": 3.089085,
     "end_time": "2019-12-23T17:07:37.512232",
     "exception": false,
     "start_time": "2019-12-23T17:07:34.423147",
     "status": "completed"
    },
    "tags": []
   },
   "outputs": [
    {
     "name": "stdout",
     "output_type": "stream",
     "text": [
      "\u001b[32m[\u001b[0m\u001b[32m#\u001b[0m\u001b[32m#\u001b[0m\u001b[32m]\u001b[0m 2 steps processed (4 jobs completed)\n"
     ]
    }
   ],
   "source": [
    "%run -v0\n",
    "[A]\n",
    "input: for_each=dict(i=range(2))\n",
    "output: f'test_{i}.txt'\n",
    "_output.touch()\n",
    "_output.set(my_i=i)\n",
    "\n",
    "[default]\n",
    "input: output_from('A')\n",
    "print(my_i)"
   ]
  },
  {
   "cell_type": "markdown",
   "metadata": {
    "kernel": "SoS",
    "papermill": {
     "duration": 0.033194,
     "end_time": "2019-12-23T17:07:37.570795",
     "exception": false,
     "start_time": "2019-12-23T17:07:37.537601",
     "status": "completed"
    },
    "tags": []
   },
   "source": [
    "<div class=\"bs-callout bs-callout-warning\" role=\"alert\">\n",
    "    <h4>Inherited output variables can be tricky to use</h4>\n",
    "    <p>Whereas attaching variables to <code>_output</code> allows you to attach information to output of a step and pass such information around with them, use of such variables can be tricky because they are defined implicitly by <code>_output.set()</code> and can appear magical to users who are not familiar with SoS.</p>\n",
    "</div>"
   ]
  },
  {
   "cell_type": "markdown",
   "metadata": {
    "kernel": "SoS",
    "papermill": {
     "duration": 0.038097,
     "end_time": "2019-12-23T17:07:37.647063",
     "exception": false,
     "start_time": "2019-12-23T17:07:37.608966",
     "status": "completed"
    },
    "tags": []
   },
   "source": [
    "## Variables shared from other steps"
   ]
  },
  {
   "cell_type": "markdown",
   "metadata": {
    "kernel": "SoS",
    "papermill": {
     "duration": 0.029764,
     "end_time": "2019-12-23T17:07:37.718931",
     "exception": false,
     "start_time": "2019-12-23T17:07:37.689167",
     "status": "completed"
    },
    "tags": []
   },
   "source": [
    "<div class=\"bs-callout bs-callout-primary\" role=\"alert\">\n",
    "    <h4>Sharing variables between steps</h4>\n",
    "    <p>Sharing of variables can be achieved by using <code>shared</code> section option from the source step and <code>depends: sos_variable(name)</code> from the destination step. The usage pattern is</p>\n",
    "    <pre>\n",
    "    [A: shared='var']\n",
    "    var = ...\n",
    "    ...\n",
    "    [B]\n",
    "    depends: sos_variable('var')\n",
    "    </pre>\n",
    "</div>"
   ]
  },
  {
   "cell_type": "markdown",
   "metadata": {
    "kernel": "SoS",
    "papermill": {
     "duration": 0.036976,
     "end_time": "2019-12-23T17:07:37.791890",
     "exception": false,
     "start_time": "2019-12-23T17:07:37.754914",
     "status": "completed"
    },
    "tags": []
   },
   "source": [
    "Finally, if you really want to access variables created in another step, you will have to explicitly `share` that variable between the steps. For example, in the following workflow, a variable `var` is defined in step `A`, which is exposed to other steps through the `shared` step option. In step `default`, a `depends: sos_variable('var')` is defined to makes sure that step `A` is executed before step `default`, and transfers variables from `A` to `default`."
   ]
  },
  {
   "cell_type": "code",
   "execution_count": 12,
   "metadata": {
    "kernel": "SoS",
    "papermill": {
     "duration": 3.4083,
     "end_time": "2019-12-23T17:07:41.226037",
     "exception": false,
     "start_time": "2019-12-23T17:07:37.817737",
     "status": "completed"
    },
    "tags": []
   },
   "outputs": [
    {
     "name": "stdout",
     "output_type": "stream",
     "text": [
      "\u001b[32m[\u001b[0m\u001b[32m#\u001b[0m\u001b[32m#\u001b[0m\u001b[32m]\u001b[0m 2 steps processed (2 jobs completed)\n"
     ]
    }
   ],
   "source": [
    "%run -v0\n",
    "\n",
    "[A: shared='var']\n",
    "var = 3\n",
    "\n",
    "[default]\n",
    "depends: sos_variable('var')\n",
    "print(var)"
   ]
  },
  {
   "cell_type": "markdown",
   "metadata": {
    "kernel": "SoS",
    "papermill": {
     "duration": 0.035893,
     "end_time": "2019-12-23T17:07:41.298717",
     "exception": false,
     "start_time": "2019-12-23T17:07:41.262824",
     "status": "completed"
    },
    "tags": []
   },
   "source": [
    "Tutorial [How to pass variables between SoS steps](shared_variables.html) describes the `shared` section option in more detail."
   ]
  },
  {
   "cell_type": "markdown",
   "metadata": {
    "kernel": "SoS",
    "papermill": {
     "duration": 0.04245,
     "end_time": "2019-12-23T17:07:41.378480",
     "exception": false,
     "start_time": "2019-12-23T17:07:41.336030",
     "status": "completed"
    },
    "tags": []
   },
   "source": [
    "## Further reading\n",
    "\n",
    "* [How to attach variables to files and groups of files](paired_group_with.html)\n",
    "* [How to pass variables between SoS steps](shared_variables.html)"
   ]
  }
 ],
 "metadata": {
  "kernelspec": {
   "display_name": "SoS",
   "language": "sos",
   "name": "sos"
  },
  "language_info": {
   "codemirror_mode": "sos",
   "file_extension": ".sos",
   "mimetype": "text/x-sos",
   "name": "sos",
   "nbconvert_exporter": "sos_notebook.converter.SoS_Exporter",
   "pygments_lexer": "sos"
  },
  "papermill": {
   "duration": 36.308835,
   "end_time": "2019-12-23T17:07:46.602377",
   "environment_variables": {},
   "exception": null,
   "input_path": "/Users/bpeng1/sos/sos-docs/src/user_guide/step_variables.ipynb",
   "output_path": "step_variables.ipynb_rerun.ipynb",
   "parameters": {},
   "start_time": "2019-12-23T17:07:10.293542",
   "version": "1.1.0"
  },
  "sos": {
   "kernels": [
    [
     "Bash",
     "bash",
     "Bash",
     "#E6EEFF"
    ],
    [
     "R",
     "ir",
     "R",
     "#DCDCDA"
    ],
    [
     "SoS",
     "sos",
     "",
     ""
    ]
   ],
   "panel": {
    "displayed": true,
    "height": 0
   },
   "version": "0.17.5"
  }
 },
 "nbformat": 4,
 "nbformat_minor": 2
}