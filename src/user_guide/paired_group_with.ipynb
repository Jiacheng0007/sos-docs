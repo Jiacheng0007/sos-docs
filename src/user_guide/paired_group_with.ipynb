{
 "cells": [
  {
   "cell_type": "markdown",
   "metadata": {
    "kernel": "SoS",
    "papermill": {
     "duration": 0.014376,
     "end_time": "2019-12-23T17:04:14.785757",
     "exception": false,
     "start_time": "2019-12-23T17:04:14.771381",
     "status": "completed"
    },
    "tags": []
   },
   "source": [
    "# How to attach variables to targets and groups of targets"
   ]
  },
  {
   "cell_type": "markdown",
   "metadata": {
    "kernel": "SoS",
    "papermill": {
     "duration": 0.01439,
     "end_time": "2019-12-23T17:04:14.811403",
     "exception": false,
     "start_time": "2019-12-23T17:04:14.797013",
     "status": "completed"
    },
    "tags": []
   },
   "source": [
    "* **Difficulty level**: easy\n",
    "* **Time need to lean**: 10 minutes or less\n",
    "* **Key points**:\n",
    "  * SoS targets can have arbitrary attributes\n",
    "  * Options `paired_with` and `group_with` makes it easy to attach variables to groups of targets\n",
    "  "
   ]
  },
  {
   "cell_type": "markdown",
   "metadata": {
    "kernel": "SoS",
    "papermill": {
     "duration": 0.010781,
     "end_time": "2019-12-23T17:04:14.835771",
     "exception": false,
     "start_time": "2019-12-23T17:04:14.824990",
     "status": "completed"
    },
    "tags": []
   },
   "source": [
    "### Option `paired_with` <a id=\"Option_paired_with\"></a>"
   ]
  },
  {
   "cell_type": "markdown",
   "metadata": {
    "kernel": "SoS",
    "papermill": {
     "duration": 0.010155,
     "end_time": "2019-12-23T17:04:14.856409",
     "exception": false,
     "start_time": "2019-12-23T17:04:14.846254",
     "status": "completed"
    },
    "tags": []
   },
   "source": [
    "Option `paired_with` assigns attributes to each of the targets in `step_input`. For example, "
   ]
  },
  {
   "cell_type": "code",
   "execution_count": 1,
   "metadata": {
    "kernel": "SoS",
    "papermill": {
     "duration": 1.931176,
     "end_time": "2019-12-23T17:04:16.798854",
     "exception": false,
     "start_time": "2019-12-23T17:04:14.867678",
     "status": "completed"
    },
    "tags": []
   },
   "outputs": [
    {
     "name": "stdout",
     "output_type": "stream",
     "text": [
      "Sample case/A1.bam is of type case"
     ]
    },
    {
     "name": "stdout",
     "output_type": "stream",
     "text": [
      "\n"
     ]
    },
    {
     "name": "stdout",
     "output_type": "stream",
     "text": [
      "Sample case/A2.bam is of type case"
     ]
    },
    {
     "name": "stdout",
     "output_type": "stream",
     "text": [
      "\n"
     ]
    },
    {
     "name": "stdout",
     "output_type": "stream",
     "text": [
      "Sample ctrl/A1.bam is of type ctrl"
     ]
    },
    {
     "name": "stdout",
     "output_type": "stream",
     "text": [
      "\n"
     ]
    },
    {
     "name": "stdout",
     "output_type": "stream",
     "text": [
      "Sample ctrl/A2.bam is of type ctrl"
     ]
    },
    {
     "name": "stdout",
     "output_type": "stream",
     "text": [
      "\n"
     ]
    }
   ],
   "source": [
    "!mkdir case ctrl\n",
    "!touch case/A1.bam case/A2.bam ctrl/A1.bam ctrl/A2.bam\n",
    "\n",
    "bam_files = ['case/A1.bam', 'case/A2.bam', 'ctrl/A1.bam', 'ctrl/A2.bam']\n",
    "mutated = ['case', 'case', 'ctrl', 'ctrl']\n",
    "\n",
    "input: bam_files, paired_with=dict(mutated=mutated)\n",
    "for i in range(4):\n",
    "    print(f'Sample {_input[i]} is of type {_input[i].mutated}')"
   ]
  },
  {
   "cell_type": "markdown",
   "metadata": {
    "kernel": "SoS",
    "papermill": {
     "duration": 0.012848,
     "end_time": "2019-12-23T17:04:16.827340",
     "exception": false,
     "start_time": "2019-12-23T17:04:16.814492",
     "status": "completed"
    },
    "tags": []
   },
   "source": [
    "Here the dictionary syntax expands to \n",
    "```\n",
    "paired_with={'mutated': ['case', 'case', 'ctrl', 'ctrl']}\n",
    "```\n",
    "and basically assigns each values to attribute `mutated` of each target.\n",
    "\n",
    "Although this example is not particularly exciting, it becomes useful when the `step_input` is groupped,"
   ]
  },
  {
   "cell_type": "code",
   "execution_count": 2,
   "metadata": {
    "kernel": "SoS",
    "papermill": {
     "duration": 0.999916,
     "end_time": "2019-12-23T17:04:17.841272",
     "exception": false,
     "start_time": "2019-12-23T17:04:16.841356",
     "status": "completed"
    },
    "tags": []
   },
   "outputs": [
    {
     "name": "stdout",
     "output_type": "stream",
     "text": [
      "\n",
      "Group 0\n",
      "Sample case/A1.bam is of type case\n",
      "Sample case/A2.bam is of type case\n"
     ]
    },
    {
     "name": "stdout",
     "output_type": "stream",
     "text": [
      "\n",
      "Group 1\n",
      "Sample ctrl/A1.bam is of type ctrl\n",
      "Sample ctrl/A2.bam is of type ctrl\n"
     ]
    }
   ],
   "source": [
    "!touch case/A1.bam case/A2.bam ctrl/A1.bam ctrl/A2.bam\n",
    "\n",
    "bam_files = ['case/A1.bam', 'case/A2.bam', 'ctrl/A1.bam', 'ctrl/A2.bam']\n",
    "mutated = ['case', 'case', 'ctrl', 'ctrl']\n",
    "\n",
    "input: bam_files, paired_with=dict(mutated=mutated), group_by=2\n",
    "print(f'\\nGroup {_index}')\n",
    "for s in _input:\n",
    "    print(f'Sample {s} is of type {s.mutated}')"
   ]
  },
  {
   "cell_type": "markdown",
   "metadata": {
    "kernel": "SoS",
    "papermill": {
     "duration": 0.013852,
     "end_time": "2019-12-23T17:04:17.868860",
     "exception": false,
     "start_time": "2019-12-23T17:04:17.855008",
     "status": "completed"
    },
    "tags": []
   },
   "source": [
    "The dictionary syntax can be a little long to type so SoS provides a shortcut\n",
    "\n",
    "```\n",
    "paired_with='name'\n",
    "```\n",
    "which is equivalent to\n",
    "\n",
    "```\n",
    "paired_with=dict(_name=name)\n",
    "```\n",
    "note that SoS created variables already have a leading underscore to differentiate from regular variables."
   ]
  },
  {
   "cell_type": "code",
   "execution_count": 3,
   "metadata": {
    "kernel": "SoS",
    "papermill": {
     "duration": 0.879132,
     "end_time": "2019-12-23T17:04:18.762630",
     "exception": false,
     "start_time": "2019-12-23T17:04:17.883498",
     "status": "completed"
    },
    "tags": []
   },
   "outputs": [
    {
     "name": "stdout",
     "output_type": "stream",
     "text": [
      "0: _input=case/A1.bam _mutated=case, _sample_name=A1\n"
     ]
    },
    {
     "name": "stdout",
     "output_type": "stream",
     "text": [
      "1: _input=case/A2.bam _mutated=case, _sample_name=A2\n"
     ]
    },
    {
     "name": "stdout",
     "output_type": "stream",
     "text": [
      "2: _input=ctrl/A1.bam _mutated=ctrl, _sample_name=A1\n"
     ]
    },
    {
     "name": "stdout",
     "output_type": "stream",
     "text": [
      "3: _input=ctrl/A2.bam _mutated=ctrl, _sample_name=A2\n"
     ]
    }
   ],
   "source": [
    "!touch case/A1.bam case/A2.bam ctrl/A1.bam ctrl/A2.bam\n",
    "\n",
    "bam_files = ['case/A1.bam', 'case/A2.bam', 'ctrl/A1.bam', 'ctrl/A2.bam']\n",
    "mutated = ['case', 'case', 'ctrl', 'ctrl']\n",
    "sample_name = ['A1', 'A2', 'A1', 'A2']\n",
    "\n",
    "input: bam_files, paired_with=['mutated', 'sample_name'], group_by=1\n",
    "print(f\"{_index}: _input={_input} _mutated={_input._mutated}, _sample_name={_input._sample_name}\")"
   ]
  },
  {
   "cell_type": "markdown",
   "metadata": {
    "kernel": "SoS",
    "papermill": {
     "duration": 0.016515,
     "end_time": "2019-12-23T17:04:18.795315",
     "exception": false,
     "start_time": "2019-12-23T17:04:18.778800",
     "status": "completed"
    },
    "tags": []
   },
   "source": [
    "Another convenience feature is that SoS creates a step level variable from these attributes so that you can access all values at the same time. That is to say, `_mutated` is created as a shortcut for \n",
    "```\n",
    "[x._mutated for x in _input]\n",
    "```"
   ]
  },
  {
   "cell_type": "code",
   "execution_count": 4,
   "metadata": {
    "kernel": "SoS",
    "papermill": {
     "duration": 0.05471,
     "end_time": "2019-12-23T17:04:18.866900",
     "exception": false,
     "start_time": "2019-12-23T17:04:18.812190",
     "status": "completed"
    },
    "tags": []
   },
   "outputs": [
    {
     "name": "stdout",
     "output_type": "stream",
     "text": [
      "0: _input=case/A1.bam case/A2.bam _mutated=['case', 'case'], _sample_name=['A1', 'A2']\n"
     ]
    },
    {
     "name": "stdout",
     "output_type": "stream",
     "text": [
      "1: _input=ctrl/A1.bam ctrl/A2.bam _mutated=['ctrl', 'ctrl'], _sample_name=['A1', 'A2']\n"
     ]
    }
   ],
   "source": [
    "bam_files = ['case/A1.bam', 'case/A2.bam', 'ctrl/A1.bam', 'ctrl/A2.bam']\n",
    "mutated = ['case', 'case', 'ctrl', 'ctrl']\n",
    "sample_name = ['A1', 'A2', 'A1', 'A2']\n",
    "\n",
    "input: bam_files, paired_with=['mutated', 'sample_name'], group_by=2\n",
    "print(f\"{_index}: _input={_input} _mutated={_mutated}, _sample_name={_sample_name}\")"
   ]
  },
  {
   "cell_type": "markdown",
   "metadata": {
    "kernel": "SoS",
    "papermill": {
     "duration": 0.01734,
     "end_time": "2019-12-23T17:04:18.900116",
     "exception": false,
     "start_time": "2019-12-23T17:04:18.882776",
     "status": "completed"
    },
    "tags": []
   },
   "source": [
    "Values to option `paired_with` are usually lists of the same length as `step_input` but it can also be other types such as `paths` and `sos_targets`, in this case the iterator variables (e.g. `_mutated` for `mutated`) will have the same type as the input variable. For example, "
   ]
  },
  {
   "cell_type": "markdown",
   "metadata": {
    "kernel": "SoS",
    "papermill": {
     "duration": 0.016208,
     "end_time": "2019-12-23T17:04:18.932279",
     "exception": false,
     "start_time": "2019-12-23T17:04:18.916071",
     "status": "completed"
    },
    "tags": []
   },
   "source": [
    "### Option `group_with` <a id=\"Option_group_with\"></a>"
   ]
  },
  {
   "cell_type": "markdown",
   "metadata": {
    "kernel": "SoS",
    "papermill": {
     "duration": 0.016927,
     "end_time": "2019-12-23T17:04:18.968712",
     "exception": false,
     "start_time": "2019-12-23T17:04:18.951785",
     "status": "completed"
    },
    "tags": []
   },
   "source": [
    "Similar to option `paired_with` that associate variables to input files, you could **associate items of a sequence with each substep**. This option is applied after `group_by` and before `for_each`, which means the length of the sequence should equal to the number of substeps. and the variables will be the same for each `for_each` loop. Also similar to option `paired_with`, option `group_with` can take a string (name of variable) or a dictionary.\n",
    "\n",
    "Using the above example, you can assign a label for each group by passing name of a sequence variable"
   ]
  },
  {
   "cell_type": "code",
   "execution_count": 5,
   "metadata": {
    "kernel": "SoS",
    "papermill": {
     "duration": 2.325869,
     "end_time": "2019-12-23T17:04:21.310730",
     "exception": false,
     "start_time": "2019-12-23T17:04:18.984861",
     "status": "completed"
    },
    "tags": []
   },
   "outputs": [
    {
     "name": "stdout",
     "output_type": "stream",
     "text": [
      "0: _input=case/A1.bam case/A2.bam _mutated=case\n"
     ]
    },
    {
     "name": "stdout",
     "output_type": "stream",
     "text": [
      "1: _input=ctrl/A1.bam ctrl/A2.bam _mutated=ctrl\n"
     ]
    }
   ],
   "source": [
    "!mkdir -p case ctrl\n",
    "!touch case/A1.bam case/A2.bam ctrl/A1.bam ctrl/A2.bam\n",
    "\n",
    "mutated = ['case', 'ctrl']\n",
    "bam_files = ['case/A1.bam', 'case/A2.bam', 'ctrl/A1.bam', 'ctrl/A2.bam']\n",
    "input: bam_files, group_by=2, group_with='mutated'\n",
    "print(f\"{_index}: _input={_input} _mutated={_mutated}\")"
   ]
  },
  {
   "cell_type": "markdown",
   "metadata": {
    "kernel": "SoS",
    "papermill": {
     "duration": 0.023836,
     "end_time": "2019-12-23T17:04:21.363718",
     "exception": false,
     "start_time": "2019-12-23T17:04:21.339882",
     "status": "completed"
    },
    "tags": []
   },
   "source": [
    "or a dictionary with variable name and values:"
   ]
  },
  {
   "cell_type": "code",
   "execution_count": 6,
   "metadata": {
    "kernel": "SoS",
    "papermill": {
     "duration": 1.635793,
     "end_time": "2019-12-23T17:04:23.045955",
     "exception": false,
     "start_time": "2019-12-23T17:04:21.410162",
     "status": "completed"
    },
    "tags": []
   },
   "outputs": [
    {
     "name": "stdout",
     "output_type": "stream",
     "text": [
      "0: _input=case/A1.bam case/A2.bam mutated=case\n"
     ]
    },
    {
     "name": "stdout",
     "output_type": "stream",
     "text": [
      "1: _input=ctrl/A1.bam ctrl/A2.bam mutated=ctrl\n"
     ]
    }
   ],
   "source": [
    "!mkdir -p case ctrl\n",
    "!touch case/A1.bam case/A2.bam ctrl/A1.bam ctrl/A2.bam\n",
    "\n",
    "bam_files = ['case/A1.bam', 'case/A2.bam', 'ctrl/A1.bam', 'ctrl/A2.bam']\n",
    "input: bam_files, group_by=2, group_with={'mutated': ['case', 'ctrl']}\n",
    "print(f\"{_index}: _input={_input} mutated={mutated}\")"
   ]
  },
  {
   "cell_type": "markdown",
   "metadata": {
    "kernel": "SoS",
    "papermill": {
     "duration": 0.018661,
     "end_time": "2019-12-23T17:04:23.082185",
     "exception": false,
     "start_time": "2019-12-23T17:04:23.063524",
     "status": "completed"
    },
    "tags": []
   },
   "source": [
    "## Further reading\n",
    "\n",
    "* [`input` statement](input_statement.html)"
   ]
  }
 ],
 "metadata": {
  "kernelspec": {
   "display_name": "SoS",
   "language": "sos",
   "name": "sos"
  },
  "language_info": {
   "codemirror_mode": "sos",
   "file_extension": ".sos",
   "mimetype": "text/x-sos",
   "name": "sos",
   "nbconvert_exporter": "sos_notebook.converter.SoS_Exporter",
   "pygments_lexer": "sos"
  },
  "papermill": {
   "duration": 16.809936,
   "end_time": "2019-12-23T17:04:28.286249",
   "environment_variables": {},
   "exception": null,
   "input_path": "/Users/bpeng1/sos/sos-docs/src/user_guide/paired_group_with.ipynb",
   "output_path": "paired_group_with.ipynb_rerun.ipynb",
   "parameters": {},
   "start_time": "2019-12-23T17:04:11.476313",
   "version": "1.1.0"
  },
  "sos": {
   "kernels": [
    [
     "Bash",
     "bash",
     "Bash",
     "#E6EEFF"
    ],
    [
     "R",
     "ir",
     "R",
     "#DCDCDA"
    ],
    [
     "SoS",
     "sos",
     "",
     ""
    ]
   ],
   "panel": {
    "displayed": true,
    "height": 0
   },
   "version": "0.21.2"
  }
 },
 "nbformat": 4,
 "nbformat_minor": 4
}