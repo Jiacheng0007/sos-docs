{
 "cells": [
  {
   "cell_type": "markdown",
   "metadata": {
    "kernel": "SoS",
    "papermill": {
     "duration": 0.041822,
     "end_time": "2019-12-23T17:06:05.025381",
     "exception": false,
     "start_time": "2019-12-23T17:06:04.983559",
     "status": "completed"
    },
    "tags": []
   },
   "source": [
    "# The `sos_targets` data type"
   ]
  },
  {
   "cell_type": "markdown",
   "metadata": {
    "kernel": "SoS",
    "papermill": {
     "duration": 0.036332,
     "end_time": "2019-12-23T17:06:05.106272",
     "exception": false,
     "start_time": "2019-12-23T17:06:05.069940",
     "status": "completed"
    },
    "tags": []
   },
   "source": [
    "* **Difficulty level**: intemediate\n",
    "* **Time need to lean**: 25 minutes or less\n",
    "* **Key points**:\n",
    "  * All SoS step variables such as `_input`, `_output`, `step_input` and `step_output` are of type `sos_targets`\n",
    "  * `sos_targets` consists of **labeled SoS targets**, has optional **groups**, special **format specification**, and some member functions."
   ]
  },
  {
   "cell_type": "markdown",
   "metadata": {
    "kernel": "SoS",
    "papermill": {
     "duration": 0.044493,
     "end_time": "2019-12-23T17:06:05.188183",
     "exception": false,
     "start_time": "2019-12-23T17:06:05.143690",
     "status": "completed"
    },
    "tags": []
   },
   "source": [
    "## SoS targets"
   ]
  },
  {
   "cell_type": "markdown",
   "metadata": {
    "kernel": "SoS",
    "papermill": {
     "duration": 0.042987,
     "end_time": "2019-12-23T17:06:05.271582",
     "exception": false,
     "start_time": "2019-12-23T17:06:05.228595",
     "status": "completed"
    },
    "tags": []
   },
   "source": [
    "A **target** is an object that can be created and detected. A SoS step can take a list of targets as input, check the existence of a list of dependent targets, and produce a list of targets as output. **Input, output and dependent targets for steps and substeps are exposed to you as special variables `_input`, `_output`, `_depends`, `step_input`, and `step_output` that are all in type `sos_targets`**."
   ]
  },
  {
   "cell_type": "markdown",
   "metadata": {
    "kernel": "SoS",
    "papermill": {
     "duration": 0.035041,
     "end_time": "2019-12-23T17:06:05.344788",
     "exception": false,
     "start_time": "2019-12-23T17:06:05.309747",
     "status": "completed"
    },
    "tags": []
   },
   "source": [
    "`sos_targets` contains a list of targets (of type `BaseTarget` is your are curious), which can be`file_target` that represents a file on the file system, `sos_variable` that represents a defined variable, `R_Library` that represents a R library, or some other types. Please refer to [SoS targets](targets.html) for details about SoS targets."
   ]
  },
  {
   "cell_type": "markdown",
   "metadata": {
    "kernel": "SoS",
    "papermill": {
     "duration": 0.061356,
     "end_time": "2019-12-23T17:06:05.454674",
     "exception": false,
     "start_time": "2019-12-23T17:06:05.393318",
     "status": "completed"
    },
    "tags": []
   },
   "source": [
    "## `sos_targets` data type"
   ]
  },
  {
   "cell_type": "markdown",
   "metadata": {
    "kernel": "SoS",
    "papermill": {
     "duration": 0.036293,
     "end_time": "2019-12-23T17:06:05.545767",
     "exception": false,
     "start_time": "2019-12-23T17:06:05.509474",
     "status": "completed"
    },
    "tags": []
   },
   "source": [
    "### Construction of `sos_targets`"
   ]
  },
  {
   "cell_type": "markdown",
   "metadata": {
    "kernel": "SoS",
    "papermill": {
     "duration": 0.035852,
     "end_time": "2019-12-23T17:06:05.619322",
     "exception": false,
     "start_time": "2019-12-23T17:06:05.583470",
     "status": "completed"
    },
    "tags": []
   },
   "source": [
    "In SoS, the `input` statement mostly creates a `step_input` object with provided parameters. That is to say,\n",
    "\n",
    "```\n",
    "input: 'a.txt', 'b.txt', group_by=1\n",
    "```\n",
    "is almost equivalent to\n",
    "\n",
    "```\n",
    "step_input = sos_targets('a.txt', 'b.txt', group_by=1)\n",
    "```\n",
    "and we can use `sos_targets` objects directly in an `input` statement in more complicated cases."
   ]
  },
  {
   "cell_type": "markdown",
   "metadata": {
    "kernel": "SoS",
    "papermill": {
     "duration": 0.037089,
     "end_time": "2019-12-23T17:06:05.692051",
     "exception": false,
     "start_time": "2019-12-23T17:06:05.654962",
     "status": "completed"
    },
    "tags": []
   },
   "source": [
    "Variable `_input` represents the input targets for each substep (`groups` of `sos_targets` as we will see later).\n",
    "\n",
    "In the cases that a step contains only one substep, `step_input` is the same as `_input`. For example, variables `step_input` and `_input` of the following step are `sos_targets` objects with a single `file_target` object:"
   ]
  },
  {
   "cell_type": "code",
   "execution_count": 1,
   "metadata": {
    "kernel": "SoS",
    "papermill": {
     "duration": 0.40574,
     "end_time": "2019-12-23T17:06:06.133616",
     "exception": true,
     "start_time": "2019-12-23T17:06:05.727876",
     "status": "failed"
    },
    "tags": []
   },
   "outputs": [
    {
     "name": "stdout",
     "output_type": "stream",
     "text": [
      "step_input='sos_datatypes.ipynb'\n",
      "_input='sos_datatypes.ipynb'\n",
      "    1522 sos_datatypes.ipynb\n"
     ]
    }
   ],
   "source": [
    "input: 'sos_datatypes.ipynb'\n",
    "print(f\"step_input={step_input:r}\")\n",
    "print(f\"_input={_input:r}\")\n",
    "sh: expand=True\n",
    "    wc -l {_input}"
   ]
  },
  {
   "cell_type": "markdown",
   "metadata": {
    "kernel": "SoS",
    "papermill": {
     "duration": null,
     "end_time": null,
     "exception": null,
     "start_time": null,
     "status": "pending"
    },
    "tags": []
   },
   "source": [
    "and if you have multiple input files, you can pass them altogether as a `sos_targets` with two `file_target` "
   ]
  },
  {
   "cell_type": "code",
   "execution_count": 2,
   "metadata": {
    "kernel": "SoS",
    "papermill": {
     "duration": null,
     "end_time": null,
     "exception": null,
     "start_time": null,
     "status": "pending"
    },
    "tags": []
   },
   "outputs": [
    {
     "name": "stdout",
     "output_type": "stream",
     "text": [
      "step_input='sos_datatypes.ipynb' 'sos_magics.ipynb'\n",
      "_input='sos_datatypes.ipynb' 'sos_magics.ipynb'\n",
      "    1522 sos_datatypes.ipynb\n",
      "    1427 sos_magics.ipynb\n"
     ]
    }
   ],
   "source": [
    "input: 'sos_datatypes.ipynb', 'sos_magics.ipynb'\n",
    "print(f\"step_input={step_input:r}\")\n",
    "print(f\"_input={_input:r}\")\n",
    "sh: expand=True\n",
    "    wc -l {_input[0]}\n",
    "    wc -l {_input[1]}"
   ]
  },
  {
   "cell_type": "markdown",
   "metadata": {
    "kernel": "SoS",
    "papermill": {
     "duration": null,
     "end_time": null,
     "exception": null,
     "start_time": null,
     "status": "pending"
    },
    "tags": []
   },
   "source": [
    "or separately as two groups of inputs:"
   ]
  },
  {
   "cell_type": "code",
   "execution_count": 3,
   "metadata": {
    "kernel": "SoS",
    "papermill": {
     "duration": null,
     "end_time": null,
     "exception": null,
     "start_time": null,
     "status": "pending"
    },
    "tags": []
   },
   "outputs": [
    {
     "name": "stdout",
     "output_type": "stream",
     "text": [
      "\n",
      "step_input='sos_datatypes.ipynb' 'sos_magics.ipynb'\n",
      "_input='sos_datatypes.ipynb'\n",
      "    1522 sos_datatypes.ipynb\n",
      "\n",
      "step_input='sos_datatypes.ipynb' 'sos_magics.ipynb'\n",
      "_input='sos_magics.ipynb'\n",
      "    1427 sos_magics.ipynb\n"
     ]
    }
   ],
   "source": [
    "input: 'sos_datatypes.ipynb', 'sos_magics.ipynb', group_by=1\n",
    "print(f\"\\nstep_input={step_input:r}\")\n",
    "print(f\"_input={_input:r}\")\n",
    "sh: expand=True\n",
    "    wc -l {_input}"
   ]
  },
  {
   "cell_type": "markdown",
   "metadata": {
    "kernel": "SoS",
    "papermill": {
     "duration": null,
     "end_time": null,
     "exception": null,
     "start_time": null,
     "status": "pending"
    },
    "tags": []
   },
   "source": [
    "In this case, the step input contains two `file_target`:\n",
    "```\n",
    "step_input = sos_targets('SoS_Syntax.ipynb', 'SoS_Magics.ipynb')`\n",
    "```\n",
    "but the step process is executed twice, with \n",
    "```\n",
    "_input = sos_targets('SoS_Syntax.ipynb')\n",
    "_input = sos_targets('SoS_Magics.ipynb')\n",
    "```\n",
    "respectively. Because `_input` contains only one element, it is not necessary to use `_input[0]` in the script."
   ]
  },
  {
   "cell_type": "markdown",
   "metadata": {
    "kernel": "SoS",
    "papermill": {
     "duration": null,
     "end_time": null,
     "exception": null,
     "start_time": null,
     "status": "pending"
    },
    "tags": []
   },
   "source": [
    "### A list of targets"
   ]
  },
  {
   "cell_type": "markdown",
   "metadata": {
    "kernel": "SoS",
    "papermill": {
     "duration": null,
     "end_time": null,
     "exception": null,
     "start_time": null,
     "status": "pending"
    },
    "tags": []
   },
   "source": [
    "`sos_targets` type keeps a list of `BaseTargets` objects. It can be initialized from one or more `str` (for `file_target`), or other targets. Lists of targets or dictionary of targets (discussed later) will be flattened and concatenated so the end result will always be an one-dimensional list.\n",
    "\n",
    "The variables appear to be a sequence that can be sliced and iterated. For example, the following statement creates a `sos_targets` object with three filenames from a single filename and a list of two filenames:"
   ]
  },
  {
   "cell_type": "code",
   "execution_count": 4,
   "metadata": {
    "kernel": "SoS",
    "papermill": {
     "duration": null,
     "end_time": null,
     "exception": null,
     "start_time": null,
     "status": "pending"
    },
    "tags": []
   },
   "outputs": [
    {
     "data": {
      "text/plain": [
       "[file_target('a.txt'), file_target('b.txt'), file_target('c.txt')]"
      ]
     },
     "execution_count": 4,
     "metadata": {},
     "output_type": "execute_result"
    }
   ],
   "source": [
    "targets = sos_targets('a.txt', ['b.txt', 'c.txt'])\n",
    "targets"
   ]
  },
  {
   "cell_type": "markdown",
   "metadata": {
    "kernel": "SoS",
    "papermill": {
     "duration": null,
     "end_time": null,
     "exception": null,
     "start_time": null,
     "status": "pending"
    },
    "tags": []
   },
   "source": [
    "You can access one or more elements of a `sos_targets` or iterate through it"
   ]
  },
  {
   "cell_type": "code",
   "execution_count": 5,
   "metadata": {
    "kernel": "SoS",
    "papermill": {
     "duration": null,
     "end_time": null,
     "exception": null,
     "start_time": null,
     "status": "pending"
    },
    "tags": []
   },
   "outputs": [
    {
     "data": {
      "text/plain": [
       "file_target('c.txt')"
      ]
     },
     "execution_count": 5,
     "metadata": {},
     "output_type": "execute_result"
    }
   ],
   "source": [
    "targets[2]"
   ]
  },
  {
   "cell_type": "code",
   "execution_count": 6,
   "metadata": {
    "kernel": "SoS",
    "papermill": {
     "duration": null,
     "end_time": null,
     "exception": null,
     "start_time": null,
     "status": "pending"
    },
    "tags": []
   },
   "outputs": [
    {
     "data": {
      "text/plain": [
       "[file_target('b.txt'), file_target('c.txt')]"
      ]
     },
     "execution_count": 6,
     "metadata": {},
     "output_type": "execute_result"
    }
   ],
   "source": [
    "targets[1:]"
   ]
  },
  {
   "cell_type": "code",
   "execution_count": 7,
   "metadata": {
    "kernel": "SoS",
    "papermill": {
     "duration": null,
     "end_time": null,
     "exception": null,
     "start_time": null,
     "status": "pending"
    },
    "tags": []
   },
   "outputs": [
    {
     "name": "stdout",
     "output_type": "stream",
     "text": [
      "a.txt\n",
      "b.txt\n",
      "c.txt\n"
     ]
    }
   ],
   "source": [
    "for t in targets:\n",
    "   print(t)"
   ]
  },
  {
   "cell_type": "markdown",
   "metadata": {
    "kernel": "SoS",
    "papermill": {
     "duration": null,
     "end_time": null,
     "exception": null,
     "start_time": null,
     "status": "pending"
    },
    "tags": []
   },
   "source": [
    "To convert a `paths` object to a regular list, you can use function `list`"
   ]
  },
  {
   "cell_type": "code",
   "execution_count": 8,
   "metadata": {
    "kernel": "SoS",
    "papermill": {
     "duration": null,
     "end_time": null,
     "exception": null,
     "start_time": null,
     "status": "pending"
    },
    "tags": []
   },
   "outputs": [
    {
     "data": {
      "text/plain": [
       "[file_target('a.txt'), file_target('b.txt'), file_target('c.txt')]"
      ]
     },
     "execution_count": 8,
     "metadata": {},
     "output_type": "execute_result"
    }
   ],
   "source": [
    "list(targets)"
   ]
  },
  {
   "cell_type": "markdown",
   "metadata": {
    "kernel": "SoS",
    "papermill": {
     "duration": null,
     "end_time": null,
     "exception": null,
     "start_time": null,
     "status": "pending"
    },
    "tags": []
   },
   "source": [
    "or slice part of the `paths` using slices"
   ]
  },
  {
   "cell_type": "code",
   "execution_count": 9,
   "metadata": {
    "kernel": "SoS",
    "papermill": {
     "duration": null,
     "end_time": null,
     "exception": null,
     "start_time": null,
     "status": "pending"
    },
    "scrolled": true,
    "tags": []
   },
   "outputs": [
    {
     "data": {
      "text/plain": [
       "list"
      ]
     },
     "execution_count": 9,
     "metadata": {},
     "output_type": "execute_result"
    }
   ],
   "source": [
    "type(targets[1:])"
   ]
  },
  {
   "cell_type": "markdown",
   "metadata": {
    "kernel": "Bash",
    "papermill": {
     "duration": null,
     "end_time": null,
     "exception": null,
     "start_time": null,
     "status": "pending"
    },
    "tags": []
   },
   "source": [
    "### Format specification"
   ]
  },
  {
   "cell_type": "markdown",
   "metadata": {
    "kernel": "SoS"
   },
   "source": [
    "`sos_targets` **accepts a list of format options to easily format path in different formats**. Here is a summary of format options with their effects:"
   ]
  },
  {
   "cell_type": "markdown",
   "metadata": {
    "kernel": "SoS"
   },
   "source": [
    "\n",
    "| convertor |operation| effect | operant | output |\n",
    "| :----------|:----| :----- | :----- | :-------|\n",
    "| `a`       | absolute path  | `abspath()` |  `test.sos` | `/path/to/test.sos` |\n",
    "| `b`       | base filename  | `basename())` |  `{home}/SoS/test.sos` | `test.sos` |\n",
    "| `e`       | escape  | `replace(' ', '\\\\ ')` | `file 1.txt` | `file\\ 1.txt`|\n",
    "| `d`       | directory name  | `dirname()` or `'.'` |  `/path/to/test.sos` | `/path/to` |\n",
    "| `l`      | expand link   | `realpath()` | `test.sos` | `/realpath/to/test.sos` |\n",
    "| `n`      | remove extension   | `splitext()[0]` | `/path/to/test.sos` | `/path/to/test` |\n",
    "| `p`     | posix name    | `replace('\\\\', '/')...` | `c:\\\\Users` | `/c/Users` | \n",
    "| `q`     |quote    | `quoted()` | `file 1.txt` | `'file 1.txt'`|\n",
    "| `r`     | repr | `repr()` | `file.txt` | `'file.txt'` |\n",
    "| `s`    | str | `str()` | `file.txt` | `file.txt` |\n",
    "| `R`   | resolve remote and other targets | `.resolve()`| `remote('a.txt')` | `a.txt`|\n",
    "| `U`   | undo expanduser | `replace(expanduser('~'), '~')` | `/home/user/test.sos` | `~/test.sos` |\n",
    "| `x`      | file extension   | `splitext()[1]` | `~/SoS/test.sos` | `.sos` |\n",
    "| `,`   | join with comma      | `','.join()` | `['a.txt', 'b.txt']` | `a.txt,b.txt`|\n"
   ]
  },
  {
   "cell_type": "markdown",
   "metadata": {
    "kernel": "SoS"
   },
   "source": [
    "These format options allow you to pass filenames to scripts in different formats. For example, it would be perfectly OK to pass `~/a.txt` to a shell script, but a `u` formatter should be added if you are passing the filename to a script that does not understand `~` in filenames. For example,"
   ]
  },
  {
   "cell_type": "code",
   "execution_count": 10,
   "metadata": {
    "kernel": "SoS",
    "output_cache": "[]"
   },
   "outputs": [
    {
     "data": {
      "text/html": [
       "<div class=\"sos_hint\">> name: str of length 37</div>"
      ],
      "text/plain": [
       ">>> name:\n"
      ]
     },
     "metadata": {},
     "output_type": "display_data"
    },
    {
     "data": {
      "text/plain": [
       "'/Users/bpeng1/sos/examples/update_toc'"
      ]
     },
     "metadata": {},
     "output_type": "display_data"
    },
    {
     "data": {
      "text/html": [
       "<div class=\"sos_hint\">> filename: str of length 14</div>"
      ],
      "text/plain": [
       ">>> filename:\n"
      ]
     },
     "metadata": {},
     "output_type": "display_data"
    },
    {
     "data": {
      "text/plain": [
       "'update_toc.sos'"
      ]
     },
     "metadata": {},
     "output_type": "display_data"
    },
    {
     "data": {
      "text/html": [
       "<div class=\"sos_hint\">> basefilename: str of length 10</div>"
      ],
      "text/plain": [
       ">>> basefilename:\n"
      ]
     },
     "metadata": {},
     "output_type": "display_data"
    },
    {
     "data": {
      "text/plain": [
       "'update_toc'"
      ]
     },
     "metadata": {},
     "output_type": "display_data"
    },
    {
     "data": {
      "text/html": [
       "<div class=\"sos_hint\">> expanded: str of length 41</div>"
      ],
      "text/plain": [
       ">>> expanded:\n"
      ]
     },
     "metadata": {},
     "output_type": "display_data"
    },
    {
     "data": {
      "text/plain": [
       "'/Users/bpeng1/sos/examples/update_toc.sos'"
      ]
     },
     "metadata": {},
     "output_type": "display_data"
    },
    {
     "data": {
      "text/html": [
       "<div class=\"sos_hint\">> parparname: str of length 3</div>"
      ],
      "text/plain": [
       ">>> parparname:\n"
      ]
     },
     "metadata": {},
     "output_type": "display_data"
    },
    {
     "data": {
      "text/plain": [
       "'sos'"
      ]
     },
     "metadata": {},
     "output_type": "display_data"
    },
    {
     "data": {
      "text/html": [
       "<div class=\"sos_hint\">> shortname: str of length 29</div>"
      ],
      "text/plain": [
       ">>> shortname:\n"
      ]
     },
     "metadata": {},
     "output_type": "display_data"
    },
    {
     "data": {
      "text/plain": [
       "'~/sos/examples/update_toc.sos'"
      ]
     },
     "metadata": {},
     "output_type": "display_data"
    }
   ],
   "source": [
    "%preview -n name filename basefilename expanded parparname shortname\n",
    "file = sos_targets('~/sos/examples/update_toc.sos')\n",
    "name = f\"{file:n}\"\n",
    "filename = f\"{file:b}\"\n",
    "basefilename = f\"{file:bn}\"\n",
    "expanded = f\"{file:u}\"\n",
    "parparname = f\"{file:ddb}\"\n",
    "shortname = f\"{file:U}\""
   ]
  },
  {
   "cell_type": "markdown",
   "metadata": {
    "kernel": "SoS",
    "papermill": {
     "duration": null,
     "end_time": null,
     "exception": null,
     "start_time": null,
     "status": "pending"
    },
    "tags": []
   },
   "source": [
    "An important difference between the formatting of `sos_targets` and regular lists of `BaseTarget` is that **formatting are applied to each item and joint by space or comma**. For example, whereas a regular list is formatted as a list"
   ]
  },
  {
   "cell_type": "code",
   "execution_count": 11,
   "metadata": {
    "kernel": "SoS",
    "papermill": {
     "duration": null,
     "end_time": null,
     "exception": null,
     "start_time": null,
     "status": "pending"
    },
    "tags": []
   },
   "outputs": [
    {
     "data": {
      "text/plain": [
       "\"['a.txt', 'b.txt', 'c.txt']\""
      ]
     },
     "execution_count": 11,
     "metadata": {},
     "output_type": "execute_result"
    }
   ],
   "source": [
    "target_list = ['a.txt', 'b.txt', 'c.txt']\n",
    "f\"{target_list}\""
   ]
  },
  {
   "cell_type": "markdown",
   "metadata": {
    "kernel": "SoS",
    "papermill": {
     "duration": null,
     "end_time": null,
     "exception": null,
     "start_time": null,
     "status": "pending"
    },
    "tags": []
   },
   "source": [
    "A `sos_targets` is formatted as"
   ]
  },
  {
   "cell_type": "code",
   "execution_count": 12,
   "metadata": {
    "kernel": "SoS",
    "papermill": {
     "duration": null,
     "end_time": null,
     "exception": null,
     "start_time": null,
     "status": "pending"
    },
    "tags": []
   },
   "outputs": [
    {
     "data": {
      "text/plain": [
       "'a.txt b.txt c.txt'"
      ]
     },
     "execution_count": 12,
     "metadata": {},
     "output_type": "execute_result"
    }
   ],
   "source": [
    "f\"{targets}\""
   ]
  },
  {
   "cell_type": "markdown",
   "metadata": {
    "kernel": "SoS",
    "papermill": {
     "duration": null,
     "end_time": null,
     "exception": null,
     "start_time": null,
     "status": "pending"
    },
    "tags": []
   },
   "source": [
    "or separated by `,` with format option `\",\"` "
   ]
  },
  {
   "cell_type": "code",
   "execution_count": 13,
   "metadata": {
    "kernel": "SoS",
    "papermill": {
     "duration": null,
     "end_time": null,
     "exception": null,
     "start_time": null,
     "status": "pending"
    },
    "tags": []
   },
   "outputs": [
    {
     "data": {
      "text/plain": [
       "'a.txt,b.txt,c.txt'"
      ]
     },
     "execution_count": 13,
     "metadata": {},
     "output_type": "execute_result"
    }
   ],
   "source": [
    "f\"{targets:,}\""
   ]
  },
  {
   "cell_type": "markdown",
   "metadata": {
    "kernel": "SoS",
    "papermill": {
     "duration": null,
     "end_time": null,
     "exception": null,
     "start_time": null,
     "status": "pending"
    },
    "tags": []
   },
   "source": [
    "or after formatting each element with specified formatter"
   ]
  },
  {
   "cell_type": "code",
   "execution_count": 14,
   "metadata": {
    "kernel": "SoS",
    "papermill": {
     "duration": null,
     "end_time": null,
     "exception": null,
     "start_time": null,
     "status": "pending"
    },
    "tags": []
   },
   "outputs": [
    {
     "data": {
      "text/plain": [
       "\"'a.txt','b.txt','c.txt'\""
      ]
     },
     "execution_count": 14,
     "metadata": {},
     "output_type": "execute_result"
    }
   ],
   "source": [
    "f\"{targets:r,}\""
   ]
  },
  {
   "cell_type": "markdown",
   "metadata": {
    "kernel": "SoS",
    "papermill": {
     "duration": null,
     "end_time": null,
     "exception": null,
     "start_time": null,
     "status": "pending"
    },
    "tags": []
   },
   "source": [
    "### `sos_targets` with a single target"
   ]
  },
  {
   "cell_type": "markdown",
   "metadata": {
    "kernel": "SoS",
    "papermill": {
     "duration": null,
     "end_time": null,
     "exception": null,
     "start_time": null,
     "status": "pending"
    },
    "tags": []
   },
   "source": [
    "One particular consequence of this format rule is that a `sos_targets` with only one element will be formatted exactly like a single target so you can use `_input` (a `sos_targets`) in place of `_input[0]` (a `file_target`) if you know there is only one target inside `_input`:"
   ]
  },
  {
   "cell_type": "code",
   "execution_count": 15,
   "metadata": {
    "kernel": "SoS",
    "papermill": {
     "duration": null,
     "end_time": null,
     "exception": null,
     "start_time": null,
     "status": "pending"
    },
    "tags": []
   },
   "outputs": [
    {
     "data": {
      "text/plain": [
       "'sos_datatypes.ipynb is the same as sos_datatypes.ipynb'"
      ]
     },
     "execution_count": 15,
     "metadata": {},
     "output_type": "execute_result"
    }
   ],
   "source": [
    "single = sos_targets('sos_datatypes.ipynb')\n",
    "f\"{single[0]} is the same as {single}\""
   ]
  },
  {
   "cell_type": "markdown",
   "metadata": {
    "kernel": "SoS",
    "papermill": {
     "duration": null,
     "end_time": null,
     "exception": null,
     "start_time": null,
     "status": "pending"
    },
    "tags": []
   },
   "source": [
    "As a matter of fact, if a `sos_targets` has only one element, it will pass unrecognized attributes and functions to this element, so that"
   ]
  },
  {
   "cell_type": "code",
   "execution_count": 16,
   "metadata": {
    "kernel": "SoS",
    "papermill": {
     "duration": null,
     "end_time": null,
     "exception": null,
     "start_time": null,
     "status": "pending"
    },
    "tags": []
   },
   "outputs": [
    {
     "data": {
      "text/plain": [
       "'.ipynb'"
      ]
     },
     "execution_count": 16,
     "metadata": {},
     "output_type": "execute_result"
    }
   ],
   "source": [
    "single.suffix"
   ]
  },
  {
   "cell_type": "code",
   "execution_count": 17,
   "metadata": {
    "kernel": "SoS",
    "papermill": {
     "duration": null,
     "end_time": null,
     "exception": null,
     "start_time": null,
     "status": "pending"
    },
    "tags": []
   },
   "outputs": [
    {
     "data": {
      "text/plain": [
       "file_target('/Users/bpeng1/sos/sos-docs/src/user_guide/sos_datatypes.ipynb')"
      ]
     },
     "execution_count": 17,
     "metadata": {},
     "output_type": "execute_result"
    }
   ],
   "source": [
    "single.resolve()"
   ]
  },
  {
   "cell_type": "code",
   "execution_count": 18,
   "metadata": {
    "kernel": "SoS",
    "papermill": {
     "duration": null,
     "end_time": null,
     "exception": null,
     "start_time": null,
     "status": "pending"
    },
    "tags": []
   },
   "outputs": [
    {
     "data": {
      "text/plain": [
       "35699"
      ]
     },
     "execution_count": 18,
     "metadata": {},
     "output_type": "execute_result"
    }
   ],
   "source": [
    "import os\n",
    "os.path.getsize(single)"
   ]
  },
  {
   "cell_type": "markdown",
   "metadata": {
    "kernel": "SoS",
    "papermill": {
     "duration": null,
     "end_time": null,
     "exception": null,
     "start_time": null,
     "status": "pending"
    },
    "tags": []
   },
   "source": [
    "Basically, **you can use `_input` exactly as `_input[0]` if there is only one `file_target` in `_input`**."
   ]
  },
  {
   "cell_type": "markdown",
   "metadata": {
    "kernel": "SoS",
    "papermill": {
     "duration": null,
     "end_time": null,
     "exception": null,
     "start_time": null,
     "status": "pending"
    },
    "tags": []
   },
   "source": [
    "\n",
    "### Attributes of target"
   ]
  },
  {
   "cell_type": "markdown",
   "metadata": {
    "kernel": "SoS",
    "papermill": {
     "duration": null,
     "end_time": null,
     "exception": null,
     "start_time": null,
     "status": "pending"
    },
    "tags": []
   },
   "source": [
    "Targets in `sos_targets` can be associated with arbitrary attributes. These attributes are usually assigned with option `paired_with` of an `input` statement.\n",
    "\n",
    "Option `paired_with` accepts a dictionary and assigns attributes to each of the targets with specified values. For example,"
   ]
  },
  {
   "cell_type": "code",
   "execution_count": 19,
   "metadata": {
    "kernel": "SoS",
    "papermill": {
     "duration": null,
     "end_time": null,
     "exception": null,
     "start_time": null,
     "status": "pending"
    },
    "tags": []
   },
   "outputs": [
    {
     "name": "stdout",
     "output_type": "stream",
     "text": [
      "A\n",
      "B\n"
     ]
    }
   ],
   "source": [
    "!touch a.txt b.txt\n",
    "input: 'a.txt', 'b.txt', paired_with={'sample': ['A', 'B']}\n",
    "print(_input[0].sample)\n",
    "print(_input[1].sample)"
   ]
  },
  {
   "cell_type": "markdown",
   "metadata": {
    "kernel": "SoS",
    "papermill": {
     "duration": null,
     "end_time": null,
     "exception": null,
     "start_time": null,
     "status": "pending"
    },
    "tags": []
   },
   "source": [
    "Although targets and their attributes are usually set in an `input` statement, you can create targets and set attributes directly. For example "
   ]
  },
  {
   "cell_type": "code",
   "execution_count": 20,
   "metadata": {
    "kernel": "SoS",
    "papermill": {
     "duration": null,
     "end_time": null,
     "exception": null,
     "start_time": null,
     "status": "pending"
    },
    "tags": []
   },
   "outputs": [
    {
     "name": "stdout",
     "output_type": "stream",
     "text": [
      "A\n",
      "A\n"
     ]
    }
   ],
   "source": [
    "file_a = file_target('a.txt').set('sample', 'A')\n",
    "print(file_a.sample)\n",
    "print(file_a.get('sample'))"
   ]
  },
  {
   "cell_type": "markdown",
   "metadata": {
    "kernel": "SoS",
    "papermill": {
     "duration": null,
     "end_time": null,
     "exception": null,
     "start_time": null,
     "status": "pending"
    },
    "tags": []
   },
   "source": [
    "Here the `target.set(name, value)` function sets an attribute to the `target`, `target.get(name, default=None)` get the value of attribute `name`, and returns `default` if `name` is not a valid attribute. It is therefore a safer way to retrieve an attribute than `target.name` if you are uncertain if attribute `name` exists for `target`."
   ]
  },
  {
   "cell_type": "markdown",
   "metadata": {
    "kernel": "SoS",
    "papermill": {
     "duration": null,
     "end_time": null,
     "exception": null,
     "start_time": null,
     "status": "pending"
    },
    "tags": []
   },
   "source": [
    "### Labels of targets"
   ]
  },
  {
   "cell_type": "markdown",
   "metadata": {
    "kernel": "SoS",
    "papermill": {
     "duration": null,
     "end_time": null,
     "exception": null,
     "start_time": null,
     "status": "pending"
    },
    "tags": []
   },
   "source": [
    "Targets in a `sos_targets` has an attribute `label`, which correspond to the step that the target is specified (input) or generated (output). For example, the `label` of a `sos_targets` that is directly specified in a step is the name of step."
   ]
  },
  {
   "cell_type": "code",
   "execution_count": 21,
   "metadata": {
    "kernel": "SoS",
    "papermill": {
     "duration": null,
     "end_time": null,
     "exception": null,
     "start_time": null,
     "status": "pending"
    },
    "tags": []
   },
   "outputs": [
    {
     "name": "stdout",
     "output_type": "stream",
     "text": [
      "['step_10']\n"
     ]
    }
   ],
   "source": [
    "%run -s force -v1\n",
    "[step_10]\n",
    "input: 'sos_datatypes.ipynb'\n",
    "print(_input.labels)"
   ]
  },
  {
   "cell_type": "markdown",
   "metadata": {
    "kernel": "SoS",
    "papermill": {
     "duration": null,
     "end_time": null,
     "exception": null,
     "start_time": null,
     "status": "pending"
    },
    "tags": []
   },
   "source": [
    "If you have multiple inputs, you can sparate them into different groups using keyword arguments"
   ]
  },
  {
   "cell_type": "code",
   "execution_count": 22,
   "metadata": {
    "kernel": "SoS",
    "papermill": {
     "duration": null,
     "end_time": null,
     "exception": null,
     "start_time": null,
     "status": "pending"
    },
    "tags": []
   },
   "outputs": [
    {
     "name": "stdout",
     "output_type": "stream",
     "text": [
      "a.bam b.bam a.bai a.bai\n",
      "['bam', 'bam', 'bai', 'bai']\n"
     ]
    }
   ],
   "source": [
    "!touch a.bam b.bam a.bai b.bai\n",
    "\n",
    "input: bam=['a.bam', 'b.bam'], bai=['a.bai', 'a.bai']\n",
    "\n",
    "print(_input)\n",
    "print(_input.labels)"
   ]
  },
  {
   "cell_type": "markdown",
   "metadata": {
    "kernel": "SoS",
    "papermill": {
     "duration": null,
     "end_time": null,
     "exception": null,
     "start_time": null,
     "status": "pending"
    },
    "tags": []
   },
   "source": [
    "If the input target is inherited from another step, the source will the name of that step."
   ]
  },
  {
   "cell_type": "code",
   "execution_count": 23,
   "metadata": {
    "kernel": "SoS",
    "papermill": {
     "duration": null,
     "end_time": null,
     "exception": null,
     "start_time": null,
     "status": "pending"
    },
    "tags": []
   },
   "outputs": [
    {
     "name": "stdout",
     "output_type": "stream",
     "text": [
      "\u001b[32m[\u001b[0m\u001b[32m#\u001b[0m\u001b[32m#\u001b[0m\u001b[32m]\u001b[0m 2 steps processed (2 jobs completed)\n"
     ]
    }
   ],
   "source": [
    "%run -v0\n",
    "[10]\n",
    "output: 'a.txt'\n",
    "_output.touch()\n",
    "\n",
    "[11]\n",
    "print(_input.labels)"
   ]
  },
  {
   "cell_type": "markdown",
   "metadata": {
    "kernel": "SoS",
    "papermill": {
     "duration": null,
     "end_time": null,
     "exception": null,
     "start_time": null,
     "status": "pending"
    },
    "tags": []
   },
   "source": [
    "In a more complex case when the source comes from multiple input steps and the present step, the `labels` attribute points out the source of each target:"
   ]
  },
  {
   "cell_type": "code",
   "execution_count": null,
   "metadata": {
    "kernel": "SoS",
    "papermill": {
     "duration": null,
     "end_time": null,
     "exception": null,
     "start_time": null,
     "status": "pending"
    },
    "tags": []
   },
   "outputs": [],
   "source": [
    "!touch c.txt\n",
    "%run -v0\n",
    "[step_10]\n",
    "output: 'a.txt'\n",
    "_output.touch()\n",
    "\n",
    "[step_20]\n",
    "output: 'b.txt'\n",
    "_output.touch()\n",
    "\n",
    "[step_30]\n",
    "input: 'c.txt', output_from(['step_10', 'step_20'])\n",
    "print(_input)\n",
    "print(_input.labels)"
   ]
  },
  {
   "cell_type": "markdown",
   "metadata": {
    "kernel": "SoS",
    "papermill": {
     "duration": null,
     "end_time": null,
     "exception": null,
     "start_time": null,
     "status": "pending"
    },
    "tags": []
   },
   "source": [
    "Although the use of keyword argument will override the default source"
   ]
  },
  {
   "cell_type": "code",
   "execution_count": null,
   "metadata": {
    "kernel": "SoS",
    "papermill": {
     "duration": null,
     "end_time": null,
     "exception": null,
     "start_time": null,
     "status": "pending"
    },
    "tags": []
   },
   "outputs": [],
   "source": [
    "!touch c.txt\n",
    "%run -v1\n",
    "[step_10]\n",
    "output: 'a.txt'\n",
    "_output.touch()\n",
    "\n",
    "[step_20]\n",
    "output: 'b.txt'\n",
    "_output.touch()\n",
    "\n",
    "[step_30]\n",
    "input: 'c.txt', prev=output_from(['step_10', 'step_20'])\n",
    "print(_input)\n",
    "print(_input.labels)"
   ]
  },
  {
   "cell_type": "markdown",
   "metadata": {
    "kernel": "SoS",
    "papermill": {
     "duration": null,
     "end_time": null,
     "exception": null,
     "start_time": null,
     "status": "pending"
    },
    "tags": []
   },
   "source": [
    "The `source` information can be used to select subsets of targets according to their labels. For example, `_intput['prev']` would generate a `sos_targets` with all targets from source `prev`."
   ]
  },
  {
   "cell_type": "code",
   "execution_count": null,
   "metadata": {
    "kernel": "SoS",
    "papermill": {
     "duration": null,
     "end_time": null,
     "exception": null,
     "start_time": null,
     "status": "pending"
    },
    "tags": []
   },
   "outputs": [],
   "source": [
    "!touch c.txt\n",
    "%run -v1\n",
    "[step_10]\n",
    "output: 'a.txt'\n",
    "_output.touch()\n",
    "\n",
    "[step_20]\n",
    "output: 'b.txt'\n",
    "_output.touch()\n",
    "\n",
    "[step_30]\n",
    "input: 'c.txt', output_from(['step_10', 'step_20'])\n",
    "print(_input['step_10'])\n",
    "print(_input['step_10'].labels)"
   ]
  },
  {
   "cell_type": "markdown",
   "metadata": {
    "kernel": "SoS",
    "papermill": {
     "duration": null,
     "end_time": null,
     "exception": null,
     "start_time": null,
     "status": "pending"
    },
    "tags": []
   },
   "source": [
    "### `groups` of `sos_targets`"
   ]
  },
  {
   "cell_type": "markdown",
   "metadata": {
    "kernel": "SoS",
    "papermill": {
     "duration": null,
     "end_time": null,
     "exception": null,
     "start_time": null,
     "status": "pending"
    },
    "tags": []
   },
   "source": [
    "As we have seen, targets in a `sos_targets` can be grouped in many ways and `_input` contains subsets of the targets and is the input for each substep. For example, in the following example, the 4 input files are grouped into two groups of the same size. The step is executed twice, each time for a different group.  `step_input.groups` contains a list of `sos_targets` that becomes `_input` of the substep."
   ]
  },
  {
   "cell_type": "code",
   "execution_count": null,
   "metadata": {
    "kernel": "SoS",
    "papermill": {
     "duration": null,
     "end_time": null,
     "exception": null,
     "start_time": null,
     "status": "pending"
    },
    "scrolled": true,
    "tags": []
   },
   "outputs": [],
   "source": [
    "!touch c.txt d.txt\n",
    "input: 'a.txt', 'b.txt', 'c.txt', 'd.txt', group_by=2\n",
    "print(f'\\nGroup {_index}')\n",
    "print(step_input.groups)\n",
    "print(_input)"
   ]
  },
  {
   "cell_type": "markdown",
   "metadata": {
    "kernel": "SoS",
    "papermill": {
     "duration": null,
     "end_time": null,
     "exception": null,
     "start_time": null,
     "status": "pending"
    },
    "tags": []
   },
   "source": [
    "You usually do not need to access `groups` of `sos_targets` directly but knowing the existence of `groups` would help you understand how groups are passed from one step to another.\n",
    "\n",
    "For example, in the following workflow, when step `10` obtains `output_from` step `A`, it obtains a `step_output` with 4 groups, which then becomes the `_input` of each substep of step `10`."
   ]
  },
  {
   "cell_type": "code",
   "execution_count": null,
   "metadata": {
    "kernel": "SoS",
    "papermill": {
     "duration": null,
     "end_time": null,
     "exception": null,
     "start_time": null,
     "status": "pending"
    },
    "tags": []
   },
   "outputs": [],
   "source": [
    "%run -v1\n",
    "[A]\n",
    "input: for_each=dict(i=range(4))\n",
    "output: f'test_{i}.txt'\n",
    "_output.touch()\n",
    "\n",
    "[10]\n",
    "input: output_from('A')\n",
    "print(step_input)\n",
    "print(_input)"
   ]
  },
  {
   "cell_type": "markdown",
   "metadata": {
    "kernel": "SoS",
    "papermill": {
     "duration": null,
     "end_time": null,
     "exception": null,
     "start_time": null,
     "status": "pending"
    },
    "tags": []
   },
   "source": [
    "### `zap` file targets "
   ]
  },
  {
   "cell_type": "markdown",
   "metadata": {
    "kernel": "SoS",
    "papermill": {
     "duration": null,
     "end_time": null,
     "exception": null,
     "start_time": null,
     "status": "pending"
    },
    "tags": []
   },
   "source": [
    "`sos_targets` accepts the `zap()` function which `zap` all file targets in ths list. This technique is usually used to remove large intermediate files during the execution of the workflow. For example, if you have a workflow that downloads and processs large files, you can do something like\n",
    "\n",
    "```sos\n",
    "[download: provides='{file}.fastq']\n",
    "download: expand=True\n",
    "    http://some_url/{file}.fastq\n",
    "\n",
    "[default]\n",
    "input: [f'{x}.fastq' for x in range(1000)], group_by=1\n",
    "output: _input.with_suffix('.bam')\n",
    "sh: expand=True\n",
    "   process _input to _output\n",
    "  \n",
    "_input.zap()\n",
    "```\n",
    "\n",
    "In this example, 1000 `fastq` files are downloaded and processed, but the input files are zapped  after they are processed. Although the files have been removed, re-running the workflow will not download and process the files again because the downloaded files still considered to exist by SoS."
   ]
  }
 ],
 "metadata": {
  "kernelspec": {
   "display_name": "SoS",
   "language": "sos",
   "name": "sos"
  },
  "language_info": {
   "codemirror_mode": "sos",
   "file_extension": ".sos",
   "mimetype": "text/x-sos",
   "name": "sos",
   "nbconvert_exporter": "sos_notebook.converter.SoS_Exporter",
   "pygments_lexer": "sos"
  },
  "papermill": {
   "duration": 9.409804,
   "end_time": "2019-12-23T17:06:11.366374",
   "environment_variables": {},
   "exception": true,
   "input_path": "/Users/bpeng1/sos/sos-docs/src/user_guide/sos_datatypes.ipynb",
   "output_path": "sos_datatypes.ipynb_rerun.ipynb",
   "parameters": {},
   "start_time": "2019-12-23T17:06:01.956570",
   "version": "1.1.0"
  },
  "sos": {
   "kernels": [
    [
     "Bash",
     "calysto_bash",
     "Bash",
     "#E6EEFF",
     ""
    ],
    [
     "SoS",
     "sos",
     "",
     "",
     "sos"
    ]
   ],
   "panel": {
    "displayed": true,
    "height": 0
   },
   "version": "0.21.2"
  }
 },
 "nbformat": 4,
 "nbformat_minor": 4
}
