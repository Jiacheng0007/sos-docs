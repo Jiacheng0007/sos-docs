{
 "cells": [
  {
   "cell_type": "code",
   "execution_count": null,
   "metadata": {
    "hide_input": true,
    "inputHidden": true
   },
   "outputs": [
    {
     "data": {
      "text/html": [
       "<span style=\"color:red; font-family:Helvetica Neue, Helvetica, Arial, sans-serif; font-size:2em;\">An Exception was encountered at 'In [2]'.</span>"
      ]
     },
     "metadata": {},
     "output_type": "display_data"
    }
   ],
   "source": [
    "%%html\n",
    "<span style=\"color:red; font-family:Helvetica Neue, Helvetica, Arial, sans-serif; font-size:2em;\">An Exception was encountered at 'In [2]'.</span>"
   ]
  },
  {
   "cell_type": "markdown",
   "metadata": {
    "kernel": "SoS",
    "papermill": {
     "duration": 0.011232,
     "end_time": "2019-12-25T18:23:12.188949",
     "exception": false,
     "start_time": "2019-12-25T18:23:12.177717",
     "status": "completed"
    },
    "tags": []
   },
   "source": [
    "# More on magic `%use`"
   ]
  },
  {
   "cell_type": "markdown",
   "metadata": {
    "kernel": "SoS",
    "papermill": {
     "duration": 0.009361,
     "end_time": "2019-12-25T18:23:12.208119",
     "exception": false,
     "start_time": "2019-12-25T18:23:12.198758",
     "status": "completed"
    },
    "tags": []
   },
   "source": [
    "* **Difficulty level**: easy\n",
    "* **Time need to lean**: 10 minutes or less\n",
    "* **Key points**:\n",
    "  * Magic `%use NAME --language` can start a separate kernel with `NAME`\n",
    "  * Magic `%use NAME --language LAN --kernel KER` can bind a language module to an unsupported kernel\n",
    "  * Option `--color` can be used to customize colored prompt of subkernels"
   ]
  },
  {
   "cell_type": "markdown",
   "metadata": {
    "kernel": "SoS",
    "papermill": {
     "duration": 0.009662,
     "end_time": "2019-12-25T18:23:12.227207",
     "exception": false,
     "start_time": "2019-12-25T18:23:12.217545",
     "status": "completed"
    },
    "tags": []
   },
   "source": [
    "## More on subkernels"
   ]
  },
  {
   "cell_type": "markdown",
   "metadata": {
    "kernel": "SoS",
    "papermill": {
     "duration": 0.009484,
     "end_time": "2019-12-25T18:23:12.246526",
     "exception": false,
     "start_time": "2019-12-25T18:23:12.237042",
     "status": "completed"
    },
    "tags": []
   },
   "source": [
    "<div class=\"bs-callout bs-callout-primary\" role=\"alert\">\n",
    "  <h4>Components of subkernel</h4>\n",
    "    <p>A subkernel consists of</p>\n",
    "    <ul>\n",
    "        <li>Name of subkernel, which is usually name of the language (e.g. <code>R</code>)\n",
    "        <li>A Jupyter kernel (e.g. <code>irkernel</code> for language R</li>\n",
    "        <li>A SoS language module (e.g. <code>sos-r</code> for R</li>\n",
    "        <li>A color used to color the input prompt</li>\n",
    "    </ul>\n",
    "</div>"
   ]
  },
  {
   "cell_type": "markdown",
   "metadata": {
    "kernel": "SoS",
    "papermill": {
     "duration": 0.0094,
     "end_time": "2019-12-25T18:23:12.265500",
     "exception": false,
     "start_time": "2019-12-25T18:23:12.256100",
     "status": "completed"
    },
    "tags": []
   },
   "source": [
    "A subkernel will be started with the execution of a cell with the selected language. By default\n",
    "* The name of the subkernel is the name of the language\n",
    "* The Jupyter kernel for the language. If multiple kernels that support the same language are available, preference will be given to a kernel determined by SoS.\n",
    "* The SoS language module for the selected language.\n",
    "* A default color determined by SoS.\n",
    "\n",
    "For example, the following cell starts subkernel `Python3`, with language `Python3`, kernel `ipython`, language module `sos-python`, and a default color determined by SoS."
   ]
  },
  {
   "cell_type": "code",
   "execution_count": 1,
   "metadata": {
    "kernel": "Python3",
    "papermill": {
     "duration": 1.22988,
     "end_time": "2019-12-25T18:23:13.504961",
     "exception": false,
     "start_time": "2019-12-25T18:23:12.275081",
     "status": "completed"
    },
    "tags": []
   },
   "outputs": [
    {
     "name": "stdout",
     "output_type": "stream",
     "text": [
      "This is a subkernel for Python 3\n"
     ]
    }
   ],
   "source": [
    "print('This is a subkernel for Python 3')\n",
    "var = 'hello, I am Python3'"
   ]
  },
  {
   "cell_type": "markdown",
   "metadata": {
    "kernel": "Python3",
    "papermill": {
     "duration": 0.010147,
     "end_time": "2019-12-25T18:23:13.525340",
     "exception": false,
     "start_time": "2019-12-25T18:23:13.515193",
     "status": "completed"
    },
    "tags": []
   },
   "source": [
    "## Start multiple sessions of the same kernel"
   ]
  },
  {
   "cell_type": "markdown",
   "metadata": {
    "kernel": "Python3",
    "papermill": {
     "duration": 0.009625,
     "end_time": "2019-12-25T18:23:13.544666",
     "exception": false,
     "start_time": "2019-12-25T18:23:13.535041",
     "status": "completed"
    },
    "tags": []
   },
   "source": [
    "Using the `%use` magic, you can start another session of the same language by specifying a separate subkernel with language name specified with option `--language`. A separate color is usually specified to differentiate two subkernels:"
   ]
  },
  {
   "cell_type": "code",
   "execution_count": 2,
   "metadata": {
    "kernel": "P3",
    "papermill": {
     "duration": 0.033791,
     "end_time": "2019-12-25T18:23:13.588191",
     "exception": true,
     "start_time": "2019-12-25T18:23:13.554400",
     "status": "failed"
    },
    "tags": []
   },
   "outputs": [
    {
     "ename": "ValueError",
     "evalue": "No subkernel named P3 is found. Please make sure that you have the kernel installed (listed in the output of \"jupyter kernelspec list\" and usable in jupyter by itself), install appropriate language module (e.g. \"pip install sos-r\"), restart jupyter notebook and try again.",
     "output_type": "error",
     "traceback": []
    }
   ],
   "source": [
    "%use P3 --language Python3 --color green\n",
    "var = 'hello, I am P3'"
   ]
  },
  {
   "cell_type": "markdown",
   "metadata": {
    "kernel": "P3",
    "papermill": {
     "duration": null,
     "end_time": null,
     "exception": null,
     "start_time": null,
     "status": "pending"
    },
    "tags": []
   },
   "source": [
    "As you can see, the two Python3 kernels do not share variables:"
   ]
  },
  {
   "cell_type": "code",
   "execution_count": null,
   "metadata": {
    "kernel": "P3",
    "papermill": {
     "duration": null,
     "end_time": null,
     "exception": null,
     "start_time": null,
     "status": "pending"
    },
    "tags": []
   },
   "outputs": [],
   "source": [
    "var"
   ]
  },
  {
   "cell_type": "code",
   "execution_count": null,
   "metadata": {
    "kernel": "Python3",
    "papermill": {
     "duration": null,
     "end_time": null,
     "exception": null,
     "start_time": null,
     "status": "pending"
    },
    "tags": []
   },
   "outputs": [],
   "source": [
    "var"
   ]
  },
  {
   "cell_type": "markdown",
   "metadata": {
    "kernel": "Python3",
    "papermill": {
     "duration": null,
     "end_time": null,
     "exception": null,
     "start_time": null,
     "status": "pending"
    },
    "tags": []
   },
   "source": [
    "And you can transfer variables from one kernel to another as usual:"
   ]
  },
  {
   "cell_type": "code",
   "execution_count": null,
   "metadata": {
    "kernel": "P3",
    "papermill": {
     "duration": null,
     "end_time": null,
     "exception": null,
     "start_time": null,
     "status": "pending"
    },
    "tags": []
   },
   "outputs": [],
   "source": [
    "%get var --from Python3\n",
    "var"
   ]
  },
  {
   "cell_type": "markdown",
   "metadata": {
    "kernel": "P3",
    "papermill": {
     "duration": null,
     "end_time": null,
     "exception": null,
     "start_time": null,
     "status": "pending"
    },
    "tags": []
   },
   "source": [
    "## Binding a language module to an unsupported kernel"
   ]
  },
  {
   "cell_type": "markdown",
   "metadata": {
    "kernel": "P3",
    "papermill": {
     "duration": null,
     "end_time": null,
     "exception": null,
     "start_time": null,
     "status": "pending"
    },
    "tags": []
   },
   "source": [
    "Each language module supports one or more kerneles (e.g. kernel `javascript`, and `nodejs` for JavaScript) for one or more langauges (e.g. both `MATLAB` and `Octave` are supported by the `sos-matlab` langauge module). If there is a kernel that uses one of the supported languages but is not explicitly supported by SoS, you can use the `--kernel` option in combination with the `--language` option to link the kernel with the specific language module.\n",
    "\n",
    "For example, if you have developed yet another kernel for javascript, you can link it with the `sos-javascript` language module with command\n",
    "\n",
    "```\n",
    "%use myjs --kernel myjs --language JavaScript\n",
    "```"
   ]
  },
  {
   "cell_type": "markdown",
   "metadata": {
    "kernel": "SoS",
    "papermill": {
     "duration": null,
     "end_time": null,
     "exception": null,
     "start_time": null,
     "status": "pending"
    },
    "tags": []
   },
   "source": [
    "## Further reading\n",
    "\n",
    "* [How to use multiple kernels in one Jupyter notebook](doc/user_guide/multi_kernel_notebook.html)"
   ]
  }
 ],
 "metadata": {
  "kernelspec": {
   "display_name": "SoS",
   "language": "sos",
   "name": "sos"
  },
  "language_info": {
   "codemirror_mode": "sos",
   "file_extension": ".sos",
   "mimetype": "text/x-sos",
   "name": "sos",
   "nbconvert_exporter": "sos_notebook.converter.SoS_Exporter",
   "pygments_lexer": "sos"
  },
  "papermill": {
   "duration": 8.908727,
   "end_time": "2019-12-25T18:23:18.794806",
   "environment_variables": {},
   "exception": true,
   "input_path": "../src/user_guide/magic_use.ipynb",
   "output_path": "magic_use.ipynb",
   "parameters": {},
   "start_time": "2019-12-25T18:23:09.886079",
   "version": "1.1.0"
  },
  "sos": {
   "kernels": [
    [
     "P3",
     "python3",
     "Python3",
     "green"
    ],
    [
     "Python3",
     "python3",
     "Python3",
     "#FFD91A"
    ]
   ],
   "panel": {
    "displayed": true,
    "height": 0
   },
   "version": "0.21.3"
  }
 },
 "nbformat": 4,
 "nbformat_minor": 4
}