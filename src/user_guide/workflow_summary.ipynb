{
 "cells": [
  {
   "cell_type": "markdown",
   "metadata": {
    "kernel": "SoS",
    "papermill": {
     "duration": 0.008242,
     "end_time": "2019-12-23T17:09:02.064146",
     "exception": false,
     "start_time": "2019-12-23T17:09:02.055904",
     "status": "completed"
    },
    "tags": []
   },
   "source": [
    "# Summary report for the executing of workflows"
   ]
  },
  {
   "cell_type": "markdown",
   "metadata": {
    "kernel": "SoS",
    "papermill": {
     "duration": 0.007236,
     "end_time": "2019-12-23T17:09:02.079385",
     "exception": false,
     "start_time": "2019-12-23T17:09:02.072149",
     "status": "completed"
    },
    "tags": []
   },
   "source": [
    "* **Difficulty level**: easy\n",
    "* **Time need to lean**: 10 minutes or less\n",
    "* **Key points**:\n",
    "  * Option `-p` generates a report after the execution of workflows\n",
    "  * Option `-d` also generates dynamic DAG\n",
    "  "
   ]
  },
  {
   "cell_type": "markdown",
   "metadata": {
    "kernel": "SoS",
    "papermill": {
     "duration": 0.00621,
     "end_time": "2019-12-23T17:09:02.092045",
     "exception": false,
     "start_time": "2019-12-23T17:09:02.085835",
     "status": "completed"
    },
    "tags": []
   },
   "source": [
    "## Summary Report (option `-p`)"
   ]
  },
  {
   "cell_type": "markdown",
   "metadata": {
    "kernel": "SoS",
    "papermill": {
     "duration": 0.005742,
     "end_time": "2019-12-23T17:09:02.103856",
     "exception": false,
     "start_time": "2019-12-23T17:09:02.098114",
     "status": "completed"
    },
    "tags": []
   },
   "source": [
    "Command `sos run` accepts an option `-p` (rePort) for generating a summary report after the completion of the workflow. This option accepts a name for the generated output but an name containing a timestamp would be generated automatically if it is the parameter is given without value.\n",
    "\n",
    "Using the same example but converting one of the steps as a task, a report named \"test.html\" would be generated with option `-p test.html`, showing summary of steps and tasks."
   ]
  },
  {
   "cell_type": "code",
   "execution_count": 1,
   "metadata": {
    "kernel": "SoS",
    "papermill": {
     "duration": 19.66165,
     "end_time": "2019-12-23T17:09:21.771427",
     "exception": false,
     "start_time": "2019-12-23T17:09:02.109777",
     "status": "completed"
    },
    "scrolled": true,
    "tags": []
   },
   "outputs": [
    {
     "name": "stdout",
     "output_type": "stream",
     "text": [
      "1000+0 records in\n"
     ]
    },
    {
     "name": "stdout",
     "output_type": "stream",
     "text": [
      "1000+0 records out\n"
     ]
    },
    {
     "name": "stdout",
     "output_type": "stream",
     "text": [
      "512000 bytes transferred in 0.027768 secs (18438401 bytes/sec)\n"
     ]
    },
    {
     "name": "stdout",
     "output_type": "stream",
     "text": [
      "\u001b[91mERROR\u001b[0m: \u001b[91m[20]: [0]: \n"
     ]
    },
    {
     "name": "stdout",
     "output_type": "stream",
     "text": [
      "---------------------------------------------------------------------------\n"
     ]
    },
    {
     "name": "stdout",
     "output_type": "stream",
     "text": [
      "FileNotFoundError                         Traceback (most recent call last)\n"
     ]
    },
    {
     "name": "stdout",
     "output_type": "stream",
     "text": [
      "script_7399680856497175995 in <module>\n"
     ]
    },
    {
     "name": "stdout",
     "output_type": "stream",
     "text": [
      "      time.sleep(10)\n"
     ]
    },
    {
     "name": "stdout",
     "output_type": "stream",
     "text": [
      "      with open(_output[0], 'w') as sz:\n"
     ]
    },
    {
     "name": "stdout",
     "output_type": "stream",
     "text": [
      "---->     sz.write(f\"{_input}: {os.path.getsize(_input[0])}\\n\")\n"
     ]
    },
    {
     "name": "stdout",
     "output_type": "stream",
     "text": [
      "      \n"
     ]
    },
    {
     "name": "stdout",
     "output_type": "stream",
     "text": [
      "\n"
     ]
    },
    {
     "name": "stdout",
     "output_type": "stream",
     "text": [
      "FileNotFoundError: 2\u001b[0m\n"
     ]
    }
   ],
   "source": [
    "%run -p test.html -s force\n",
    "parameter: size=1000\n",
    "import os\n",
    "import time\n",
    "\n",
    "[10]\n",
    "output:  \"temp/result.txt\"\n",
    "time.sleep(5)\n",
    "sh: expand=True\n",
    "    dd if=/dev/urandom of={_output} count={size}\n",
    "\n",
    "[20]\n",
    "output:  'temp/size.txt'\n",
    "time.sleep(10)\n",
    "with open(_output[0], 'w') as sz:\n",
    "    sz.write(f\"{_input}: {os.path.getsize(_input[0])}\\n\")"
   ]
  },
  {
   "cell_type": "markdown",
   "metadata": {
    "kernel": "SoS",
    "papermill": {
     "duration": 0.010568,
     "end_time": "2019-12-23T17:09:21.793345",
     "exception": false,
     "start_time": "2019-12-23T17:09:21.782777",
     "status": "completed"
    },
    "tags": []
   },
   "source": [
    "## Inclusion of DAG (option `-d`)"
   ]
  },
  {
   "cell_type": "markdown",
   "metadata": {
    "kernel": "SoS",
    "papermill": {
     "duration": 0.010871,
     "end_time": "2019-12-23T17:09:21.815007",
     "exception": false,
     "start_time": "2019-12-23T17:09:21.804136",
     "status": "completed"
    },
    "tags": []
   },
   "source": [
    "A DAG would be generated and included in the report if option `-d` is specified."
   ]
  },
  {
   "cell_type": "code",
   "execution_count": 2,
   "metadata": {
    "kernel": "SoS",
    "papermill": {
     "duration": 18.661159,
     "end_time": "2019-12-23T17:09:40.487033",
     "exception": false,
     "start_time": "2019-12-23T17:09:21.825874",
     "status": "completed"
    },
    "tags": []
   },
   "outputs": [
    {
     "name": "stdout",
     "output_type": "stream",
     "text": [
      "1000+0 records in\n"
     ]
    },
    {
     "name": "stdout",
     "output_type": "stream",
     "text": [
      "1000+0 records out\n"
     ]
    },
    {
     "name": "stdout",
     "output_type": "stream",
     "text": [
      "512000 bytes transferred in 0.022743 secs (22512435 bytes/sec)\n"
     ]
    }
   ],
   "source": [
    "%run -p test_dag.html -d -s force\n",
    "parameter: size=1000\n",
    "import os\n",
    "import time\n",
    "[10]\n",
    "output:  \"temp/result.txt\"\n",
    "time.sleep(5)\n",
    "sh: expand=True\n",
    "    dd if=/dev/urandom of={_output} count={size}\n",
    "\n",
    "[20]\n",
    "output:  'temp/size.txt'\n",
    "time.sleep(10)\n",
    "with open(_output[0], 'w') as sz:\n",
    "    sz.write(f\"{_input}: {os.path.getsize(_input[0])}\\n\")"
   ]
  },
  {
   "cell_type": "markdown",
   "metadata": {
    "kernel": "SoS",
    "papermill": {
     "duration": 0.011306,
     "end_time": "2019-12-23T17:09:40.510198",
     "exception": false,
     "start_time": "2019-12-23T17:09:40.498892",
     "status": "completed"
    },
    "tags": []
   },
   "source": [
    "![workflow_report](../media/Workflow_report.png)"
   ]
  },
  {
   "cell_type": "markdown",
   "metadata": {
    "kernel": "SoS",
    "papermill": {
     "duration": 0.011336,
     "end_time": "2019-12-23T17:09:40.533253",
     "exception": false,
     "start_time": "2019-12-23T17:09:40.521917",
     "status": "completed"
    },
    "tags": []
   },
   "source": [
    "## Further reading\n",
    "\n",
    "* [Output DAG of workflows (option `-d`)](doc/user_guide/workflow_dag.html)    "
   ]
  }
 ],
 "metadata": {
  "kernelspec": {
   "display_name": "SoS",
   "language": "sos",
   "name": "sos"
  },
  "language_info": {
   "codemirror_mode": "sos",
   "file_extension": ".sos",
   "mimetype": "text/x-sos",
   "name": "sos",
   "nbconvert_exporter": "sos_notebook.converter.SoS_Exporter",
   "pygments_lexer": "sos"
  },
  "papermill": {
   "duration": 46.520977,
   "end_time": "2019-12-23T17:09:45.714630",
   "environment_variables": {},
   "exception": null,
   "input_path": "/Users/bpeng1/sos/sos-docs/src/user_guide/workflow_summary.ipynb",
   "output_path": "workflow_summary.ipynb_rerun.ipynb",
   "parameters": {},
   "start_time": "2019-12-23T17:08:59.193653",
   "version": "1.1.0"
  },
  "sos": {
   "kernels": [
    [
     "Bash",
     "bash",
     "Bash",
     "#E6EEFF"
    ],
    [
     "R",
     "ir",
     "R",
     "#DCDCDA"
    ],
    [
     "SoS",
     "sos",
     "",
     ""
    ]
   ],
   "panel": {
    "displayed": true,
    "height": 0
   },
   "version": "0.21.2"
  }
 },
 "nbformat": 4,
 "nbformat_minor": 4
}