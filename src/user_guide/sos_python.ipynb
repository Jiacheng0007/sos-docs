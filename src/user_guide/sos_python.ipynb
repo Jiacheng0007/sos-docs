{
 "cells": [
  {
   "cell_type": "markdown",
   "metadata": {
    "kernel": "SoS",
    "papermill": {
     "duration": 0.007023,
     "end_time": "2019-12-23T17:06:49.814080",
     "exception": false,
     "start_time": "2019-12-23T17:06:49.807057",
     "status": "completed"
    },
    "tags": []
   },
   "source": [
    "# Using Python 2 and Python3 in SoS Notebook"
   ]
  },
  {
   "cell_type": "markdown",
   "metadata": {
    "kernel": "SoS",
    "papermill": {
     "duration": 0.006723,
     "end_time": "2019-12-23T17:06:49.828756",
     "exception": false,
     "start_time": "2019-12-23T17:06:49.822033",
     "status": "completed"
    },
    "tags": []
   },
   "source": [
    "* **Difficulty level**: easy\n",
    "* **Time need to lean**: 5 minutes or less\n",
    "* **Key points**\n",
    "  * SoS is based on Python 3 and can be used as a Python 3 kernel\n",
    "  * Python 2 kernel should be installed as a subenvironment"
   ]
  },
  {
   "cell_type": "markdown",
   "metadata": {
    "kernel": "Matlab",
    "papermill": {
     "duration": 0.005124,
     "end_time": "2019-12-23T17:06:49.839772",
     "exception": false,
     "start_time": "2019-12-23T17:06:49.834648",
     "status": "completed"
    },
    "tags": []
   },
   "source": [
    "## Python 2 and Python 3"
   ]
  },
  {
   "cell_type": "markdown",
   "metadata": {
    "kernel": "Matlab",
    "papermill": {
     "duration": 0.005159,
     "end_time": "2019-12-23T17:06:49.850030",
     "exception": false,
     "start_time": "2019-12-23T17:06:49.844871",
     "status": "completed"
    },
    "tags": []
   },
   "source": [
    "SoS uses pickle to exchange data between SoS (Python3) and Python2 and Python3 kernels so any pickleable data types can be exchanged."
   ]
  },
  {
   "cell_type": "code",
   "execution_count": 1,
   "metadata": {
    "kernel": "Python3",
    "papermill": {
     "duration": 1.692112,
     "end_time": "2019-12-23T17:06:51.547175",
     "exception": false,
     "start_time": "2019-12-23T17:06:49.855063",
     "status": "completed"
    },
    "tags": []
   },
   "outputs": [],
   "source": [
    "a = '1234'"
   ]
  },
  {
   "cell_type": "code",
   "execution_count": 2,
   "metadata": {
    "kernel": "SoS",
    "papermill": {
     "duration": 0.082728,
     "end_time": "2019-12-23T17:06:51.635544",
     "exception": false,
     "start_time": "2019-12-23T17:06:51.552816",
     "status": "completed"
    },
    "tags": []
   },
   "outputs": [
    {
     "data": {
      "text/plain": [
       "'1234'"
      ]
     },
     "execution_count": 2,
     "metadata": {},
     "output_type": "execute_result"
    }
   ],
   "source": [
    "%get a --from Python3\n",
    "a"
   ]
  },
  {
   "cell_type": "markdown",
   "metadata": {
    "kernel": "SoS",
    "papermill": {
     "duration": 0.005719,
     "end_time": "2019-12-23T17:06:51.646438",
     "exception": false,
     "start_time": "2019-12-23T17:06:51.640719",
     "status": "completed"
    },
    "tags": []
   },
   "source": [
    "## Further reading\n",
    "\n",
    "* [How to exchange variables among living subkernels](doc/user_guide/exchange_variable.html)"
   ]
  }
 ],
 "metadata": {
  "kernelspec": {
   "display_name": "SoS",
   "language": "sos",
   "name": "sos"
  },
  "language_info": {
   "codemirror_mode": "sos",
   "file_extension": ".sos",
   "mimetype": "text/x-sos",
   "name": "sos",
   "nbconvert_exporter": "sos_notebook.converter.SoS_Exporter",
   "pygments_lexer": "sos"
  },
  "papermill": {
   "duration": 10.323292,
   "end_time": "2019-12-23T17:06:56.827397",
   "environment_variables": {},
   "exception": null,
   "input_path": "/Users/bpeng1/sos/sos-docs/src/user_guide/sos_python.ipynb",
   "output_path": "sos_python.ipynb_rerun.ipynb",
   "parameters": {},
   "start_time": "2019-12-23T17:06:46.504105",
   "version": "1.1.0"
  },
  "sos": {
   "kernels": [
    [
     "Python3",
     "python3",
     "Python3",
     "#FFD91A"
    ],
    [
     "SoS",
     "sos",
     "",
     ""
    ]
   ],
   "panel": {
    "displayed": true,
    "height": 0
   },
   "version": "0.21.2"
  }
 },
 "nbformat": 4,
 "nbformat_minor": 4
}