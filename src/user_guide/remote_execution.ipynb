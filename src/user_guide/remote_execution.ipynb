{
 "cells": [
  {
   "cell_type": "markdown",
   "metadata": {
    "kernel": "SoS",
    "papermill": {
     "duration": 0.036736,
     "end_time": "2019-12-23T17:04:37.466053",
     "exception": false,
     "start_time": "2019-12-23T17:04:37.429317",
     "status": "completed"
    },
    "tags": []
   },
   "source": [
    "# Customized or remote execution of workflows"
   ]
  },
  {
   "cell_type": "markdown",
   "metadata": {
    "kernel": "SoS",
    "papermill": {
     "duration": 0.028599,
     "end_time": "2019-12-23T17:04:37.522218",
     "exception": false,
     "start_time": "2019-12-23T17:04:37.493619",
     "status": "completed"
    },
    "tags": []
   },
   "source": [
    "* **Difficulty level**: intermediate\n",
    "* **Time need to lean**: 30 minutes or less\n",
    "* **Key points**:\n",
    "  * Option `-r host` executes workflow on `host`, optionally through a `workflow_template` specified through host configuration.\n",
    "  * The remote host could be a regular server, or a cluster system, in which case the workflow could be executed using multiple computing nodes."
   ]
  },
  {
   "cell_type": "markdown",
   "metadata": {
    "kernel": "SoS",
    "papermill": {
     "duration": 0.021278,
     "end_time": "2019-12-23T17:04:37.564341",
     "exception": false,
     "start_time": "2019-12-23T17:04:37.543063",
     "status": "completed"
    },
    "tags": []
   },
   "source": [
    "Option `-r host` executes workflow on `host`. Depending on the properties of `host`, this option allows you to\n",
    "\n",
    "1. Execute workflows locally, but in a customized environment\n",
    "2. Execute workflows on a remote server directly\n",
    "3. Execute workflows on a remote cluster system\n",
    "\n",
    "Please refer to [host configuration](host_setup.html) for details on host configuration."
   ]
  },
  {
   "cell_type": "markdown",
   "metadata": {
    "kernel": "SoS",
    "papermill": {
     "duration": 0.024947,
     "end_time": "2019-12-23T17:04:37.612903",
     "exception": false,
     "start_time": "2019-12-23T17:04:37.587956",
     "status": "completed"
    },
    "tags": []
   },
   "source": [
    "## Customized environment for workflow execution"
   ]
  },
  {
   "cell_type": "markdown",
   "metadata": {
    "kernel": "SoS",
    "papermill": {
     "duration": 0.025339,
     "end_time": "2019-12-23T17:04:37.662600",
     "exception": false,
     "start_time": "2019-12-23T17:04:37.637261",
     "status": "completed"
    },
    "tags": []
   },
   "source": [
    "On my system there are two R versions, a system R installation under `/usr/local/bin` and a local installation in a conda environment. The latter version is the default version but if for some reasons you want to use the system R (e.g. if a library is only available there), you can change the local `PATH` of the `R` action using an `env` option (see [SoS actions](sos_actions.html) for details."
   ]
  },
  {
   "cell_type": "code",
   "execution_count": 1,
   "metadata": {
    "kernel": "SoS",
    "papermill": {
     "duration": 2.454832,
     "end_time": "2019-12-23T17:04:40.144765",
     "exception": false,
     "start_time": "2019-12-23T17:04:37.689933",
     "status": "completed"
    },
    "tags": []
   },
   "outputs": [
    {
     "name": "stdout",
     "output_type": "stream",
     "text": [
      "[1] \"R version 3.6.1 (2019-07-05)\"\n"
     ]
    }
   ],
   "source": [
    "R:\n",
    "    R.Version()$version.string"
   ]
  },
  {
   "cell_type": "code",
   "execution_count": 2,
   "metadata": {
    "kernel": "SoS",
    "papermill": {
     "duration": 1.480646,
     "end_time": "2019-12-23T17:04:41.663985",
     "exception": false,
     "start_time": "2019-12-23T17:04:40.183339",
     "status": "completed"
    },
    "tags": []
   },
   "outputs": [
    {
     "name": "stdout",
     "output_type": "stream",
     "text": [
      "[1] \"R version 3.5.2 (2018-12-20)\"\n"
     ]
    }
   ],
   "source": [
    "import os\n",
    "\n",
    "R: env={'PATH': f\"/usr/local/bin:{os.environ['PATH']}\"}\n",
    "    R.Version()$version.string"
   ]
  },
  {
   "cell_type": "markdown",
   "metadata": {
    "kernel": "SoS",
    "papermill": {
     "duration": 0.028171,
     "end_time": "2019-12-23T17:04:41.721396",
     "exception": false,
     "start_time": "2019-12-23T17:04:41.693225",
     "status": "completed"
    },
    "tags": []
   },
   "source": [
    "This action level `env` configuration is very flexible (e.g. you can use different versions of R in the same workflow) but can be difficult to maintain if you have multiple `R` actions. If your intent to use the same version of R throughout the workflow, it is easier to execute the entire workflow in a customized environment.\n",
    "\n",
    "To achieve this, you can define a host as follows:"
   ]
  },
  {
   "cell_type": "code",
   "execution_count": 3,
   "metadata": {
    "kernel": "SoS",
    "papermill": {
     "duration": 0.038384,
     "end_time": "2019-12-23T17:04:41.782508",
     "exception": false,
     "start_time": "2019-12-23T17:04:41.744124",
     "status": "completed"
    },
    "tags": []
   },
   "outputs": [
    {
     "data": {
      "text/html": [
       "<div class=\"sos_hint\">Cell content saved to <a href=\"myconfig.yml\" target=\"_blank\">myconfig.yml</a>, use option -r to also execute the cell.</div>"
      ],
      "text/plain": [
       "Cell content saved to myconfig.yml, use option -r to also execute the cell.\n"
      ]
     },
     "metadata": {},
     "output_type": "display_data"
    }
   ],
   "source": [
    "%save myconfig.yml -f\n",
    "hosts:\n",
    "  system_R:\n",
    "    workflow_template: |\n",
    "      export PATH=/usr/local/bin:$PATH\n",
    "      {command}            "
   ]
  },
  {
   "cell_type": "markdown",
   "metadata": {
    "kernel": "SoS",
    "papermill": {
     "duration": 0.02328,
     "end_time": "2019-12-23T17:04:41.831690",
     "exception": false,
     "start_time": "2019-12-23T17:04:41.808410",
     "status": "completed"
    },
    "tags": []
   },
   "source": [
    "Then, we will be using the conda version of R by default"
   ]
  },
  {
   "cell_type": "code",
   "execution_count": 4,
   "metadata": {
    "kernel": "SoS",
    "papermill": {
     "duration": 4.976894,
     "end_time": "2019-12-23T17:04:46.831672",
     "exception": false,
     "start_time": "2019-12-23T17:04:41.854778",
     "status": "completed"
    },
    "tags": []
   },
   "outputs": [
    {
     "name": "stdout",
     "output_type": "stream",
     "text": [
      "[1] \"R version 3.6.1 (2019-07-05)\"\n"
     ]
    }
   ],
   "source": [
    "%run -v1\n",
    "R:\n",
    "    R.Version()$version.string"
   ]
  },
  {
   "cell_type": "markdown",
   "metadata": {
    "kernel": "SoS",
    "papermill": {
     "duration": 0.024947,
     "end_time": "2019-12-23T17:04:46.879871",
     "exception": false,
     "start_time": "2019-12-23T17:04:46.854924",
     "status": "completed"
    },
    "tags": []
   },
   "source": [
    "and be using the system R if we execute the workflow in the `system_R` host, despite the fact that `system_R` is just a localhost with a template"
   ]
  },
  {
   "cell_type": "code",
   "execution_count": 5,
   "metadata": {
    "kernel": "SoS",
    "papermill": {
     "duration": 4.532367,
     "end_time": "2019-12-23T17:04:51.435095",
     "exception": false,
     "start_time": "2019-12-23T17:04:46.902728",
     "status": "completed"
    },
    "tags": []
   },
   "outputs": [
    {
     "name": "stdout",
     "output_type": "stream",
     "text": [
      "[1] \"R version 3.5.2 (2018-12-20)\"\n"
     ]
    }
   ],
   "source": [
    "%run -r system_R -c myconfig.yml -v1\n",
    "R:\n",
    "    R.Version()$version.string"
   ]
  },
  {
   "cell_type": "markdown",
   "metadata": {
    "kernel": "SoS",
    "papermill": {
     "duration": 0.021374,
     "end_time": "2019-12-23T17:04:51.479065",
     "exception": false,
     "start_time": "2019-12-23T17:04:51.457691",
     "status": "completed"
    },
    "tags": []
   },
   "source": [
    "As you can imagine, the template can set up a variety of different environment such as conda environments, debug environments, and using `module load` on a cluster system."
   ]
  },
  {
   "cell_type": "markdown",
   "metadata": {
    "kernel": "SoS",
    "papermill": {
     "duration": 0.022024,
     "end_time": "2019-12-23T17:04:51.522285",
     "exception": false,
     "start_time": "2019-12-23T17:04:51.500261",
     "status": "completed"
    },
    "tags": []
   },
   "source": [
    "## Execution of workflow on a remote host"
   ]
  },
  {
   "cell_type": "markdown",
   "metadata": {
    "kernel": "SoS",
    "papermill": {
     "duration": 0.023262,
     "end_time": "2019-12-23T17:04:51.566801",
     "exception": false,
     "start_time": "2019-12-23T17:04:51.543539",
     "status": "completed"
    },
    "tags": []
   },
   "source": [
    "<p align=\"center\" height=\"500\">\n",
    "  <img src=\"https://vatlab.github.io/sos-docs/doc/media/remote_1_workflow.jpeg\">\n",
    "</p>"
   ]
  },
  {
   "cell_type": "markdown",
   "metadata": {
    "kernel": "SoS",
    "papermill": {
     "duration": 0.020769,
     "end_time": "2019-12-23T17:04:51.611968",
     "exception": false,
     "start_time": "2019-12-23T17:04:51.591199",
     "status": "completed"
    },
    "tags": []
   },
   "source": [
    "If the `host` is a real remote host, then\n",
    "\n",
    "```bash\n",
    "sos run script workflow -r host [other options]\n",
    "```\n",
    "would execute the entire workflow on the `host` through some command similar to the following\n",
    "```bash\n",
    "ssh host \"bash --login -c sos run script workflow [other options]\"\n",
    "```\n",
    "after the script is copied to the remote host.\n",
    "\n",
    "This option is useful if you would like to **write the entire workflow for a remote host and execute the workflow with all input, software, and output files on the remote host**. Typical use cases for this option are when the data is too large to be processed locally, or when the software is only available on the remote host.\n",
    "\n",
    "For example, with a host definition similar to\n",
    "\n",
    "```\n",
    "hosts:\n",
    "  bcb:\n",
    "    address:  myserver.mdanderson.edu\n",
    "    paths:\n",
    "      home: /Users/bpeng1/scratch\n",
    "```\n",
    "\n",
    "the following cell execute the workflow on `bcb`"
   ]
  },
  {
   "cell_type": "code",
   "execution_count": 6,
   "metadata": {
    "kernel": "SoS",
    "papermill": {
     "duration": 3.587526,
     "end_time": "2019-12-23T17:04:55.221544",
     "exception": false,
     "start_time": "2019-12-23T17:04:51.634018",
     "status": "completed"
    },
    "tags": []
   },
   "outputs": [
    {
     "name": "stdout",
     "output_type": "stream",
     "text": [
      "\u001b[91mERROR\u001b[0m: \u001b[91mFailed to connect to bcb: @@@@@@@@@@@@@@@@@@@@@@@@@@@@@@@@@@@@@@@@@@@@@@@@@@@@@@@@@@@\r",
      "\r\n"
     ]
    },
    {
     "name": "stdout",
     "output_type": "stream",
     "text": [
      "@       WARNING: POSSIBLE DNS SPOOFING DETECTED!          @\r",
      "\r\n"
     ]
    },
    {
     "name": "stdout",
     "output_type": "stream",
     "text": [
      "@@@@@@@@@@@@@@@@@@@@@@@@@@@@@@@@@@@@@@@@@@@@@@@@@@@@@@@@@@@\r",
      "\r\n"
     ]
    },
    {
     "name": "stdout",
     "output_type": "stream",
     "text": [
      "The ECDSA host key for bcbm-bpeng.mdanderson.edu has changed,\r",
      "\r\n"
     ]
    },
    {
     "name": "stdout",
     "output_type": "stream",
     "text": [
      "and the key for the corresponding IP address 23.217.138.110\r",
      "\r\n"
     ]
    },
    {
     "name": "stdout",
     "output_type": "stream",
     "text": [
      "is unknown. This could either mean that\r",
      "\r\n"
     ]
    },
    {
     "name": "stdout",
     "output_type": "stream",
     "text": [
      "DNS SPOOFING is happening or the IP address for the host\r",
      "\r\n"
     ]
    },
    {
     "name": "stdout",
     "output_type": "stream",
     "text": [
      "and its host key have changed at the same time.\r",
      "\r\n"
     ]
    },
    {
     "name": "stdout",
     "output_type": "stream",
     "text": [
      "@@@@@@@@@@@@@@@@@@@@@@@@@@@@@@@@@@@@@@@@@@@@@@@@@@@@@@@@@@@\r",
      "\r\n"
     ]
    },
    {
     "name": "stdout",
     "output_type": "stream",
     "text": [
      "@    WARNING: REMOTE HOST IDENTIFICATION HAS CHANGED!     @\r",
      "\r\n"
     ]
    },
    {
     "name": "stdout",
     "output_type": "stream",
     "text": [
      "@@@@@@@@@@@@@@@@@@@@@@@@@@@@@@@@@@@@@@@@@@@@@@@@@@@@@@@@@@@\r",
      "\r\n"
     ]
    },
    {
     "name": "stdout",
     "output_type": "stream",
     "text": [
      "IT IS POSSIBLE THAT SOMEONE IS DOING SOMETHING NASTY!\r",
      "\r\n"
     ]
    },
    {
     "name": "stdout",
     "output_type": "stream",
     "text": [
      "Someone could be eavesdropping on you right now (man-in-the-middle attack)!\r",
      "\r\n"
     ]
    },
    {
     "name": "stdout",
     "output_type": "stream",
     "text": [
      "It is also possible that a host key has just been changed.\r",
      "\r\n"
     ]
    },
    {
     "name": "stdout",
     "output_type": "stream",
     "text": [
      "The fingerprint for the ECDSA key sent by the remote host is\r\n"
     ]
    },
    {
     "name": "stdout",
     "output_type": "stream",
     "text": [
      "SHA256:6MJJtqKhTdHXF2yzH/0UqGN2o4RZ2PDEp2ttdA/IJR8.\r",
      "\r\n"
     ]
    },
    {
     "name": "stdout",
     "output_type": "stream",
     "text": [
      "Please contact your system administrator.\r",
      "\r\n"
     ]
    },
    {
     "name": "stdout",
     "output_type": "stream",
     "text": [
      "Add correct host key in /Users/bpeng1/.ssh/known_hosts to get rid of this message.\r",
      "\r\n"
     ]
    },
    {
     "name": "stdout",
     "output_type": "stream",
     "text": [
      "Offending ECDSA key in /Users/bpeng1/.ssh/known_hosts:23\r",
      "\r\n"
     ]
    },
    {
     "name": "stdout",
     "output_type": "stream",
     "text": [
      "ECDSA host key for bcbm-bpeng.mdanderson.edu has changed and you have requested strict checking.\r",
      "\r\n"
     ]
    },
    {
     "name": "stdout",
     "output_type": "stream",
     "text": [
      "Host key verification failed.\r",
      "\r\n"
     ]
    },
    {
     "name": "stdout",
     "output_type": "stream",
     "text": [
      "\u001b[0m\n"
     ]
    }
   ],
   "source": [
    "%run -r bcb\n",
    "R:\n",
    "  set.seed(1)\n",
    "  x <- 1:100\n",
    "  y <- 0.029*x + rnorm(100)\n",
    "  png(\"test.png\", height=400, width=600)\n",
    "  plot(x, y, pch=19, col=rgb(0.5, 0.5, 0.5, 0.5), cex=1.5)\n",
    "  abline(lm(y ~ x))\n",
    "  dev.off()\n"
   ]
  },
  {
   "cell_type": "markdown",
   "metadata": {
    "kernel": "SoS",
    "papermill": {
     "duration": 0.0319,
     "end_time": "2019-12-23T17:04:55.284564",
     "exception": false,
     "start_time": "2019-12-23T17:04:55.252664",
     "status": "completed"
    },
    "tags": []
   },
   "source": [
    "The resulting `test.png` are generated on `bcb` and is unavailable for local preview. You can however preview the file with `-r` option of magic `%preview`"
   ]
  },
  {
   "cell_type": "code",
   "execution_count": 7,
   "metadata": {
    "kernel": "SoS",
    "papermill": {
     "duration": 3.24173,
     "end_time": "2019-12-23T17:04:58.559507",
     "exception": false,
     "start_time": "2019-12-23T17:04:55.317777",
     "status": "completed"
    },
    "tags": []
   },
   "outputs": [
    {
     "name": "stderr",
     "output_type": "stream",
     "text": [
      "Failed to preview ['test.png'] on remote host bcb\n"
     ]
    }
   ],
   "source": [
    "%preview -n test.png -r bcb"
   ]
  },
  {
   "cell_type": "markdown",
   "metadata": {
    "kernel": "SoS",
    "papermill": {
     "duration": 0.036206,
     "end_time": "2019-12-23T17:04:58.641017",
     "exception": false,
     "start_time": "2019-12-23T17:04:58.604811",
     "status": "completed"
    },
    "tags": []
   },
   "source": [
    "In this case we do not define any `workflow_template` for `bcb` so the workflow is executed directly on `bcb`. If a `workflow_template` is defined, the workflow will be executed through the shell script that is expanded from the template."
   ]
  },
  {
   "cell_type": "markdown",
   "metadata": {
    "kernel": "SoS",
    "papermill": {
     "duration": 0.030169,
     "end_time": "2019-12-23T17:04:58.703564",
     "exception": false,
     "start_time": "2019-12-23T17:04:58.673395",
     "status": "completed"
    },
    "tags": []
   },
   "source": [
    "## Executing workflows on multiple workers"
   ]
  },
  {
   "cell_type": "markdown",
   "metadata": {
    "kernel": "SoS",
    "papermill": {
     "duration": 0.030172,
     "end_time": "2019-12-23T17:04:58.765651",
     "exception": false,
     "start_time": "2019-12-23T17:04:58.735479",
     "status": "completed"
    },
    "tags": []
   },
   "source": [
    "<p align=\"center\" height=\"500\">\n",
    "  <img src=\"https://vatlab.github.io/sos-docs/doc/media/remote_4_workers.jpeg\">\n",
    "</p>"
   ]
  },
  {
   "cell_type": "markdown",
   "metadata": {
    "kernel": "SoS",
    "papermill": {
     "duration": 0.03024,
     "end_time": "2019-12-23T17:04:58.829700",
     "exception": false,
     "start_time": "2019-12-23T17:04:58.799460",
     "status": "completed"
    },
    "tags": []
   },
   "source": [
    "SoS uses multiple worker processes to execute steps, substeps, and subworkflows. By default, SoS creates `n/2` workers on a local computer with `n` CPU cores, although it limits the default number of workers to 8 when there are more than 16 cores because those computers are most likely shared by multiple users.\n",
    "\n",
    "The number of workers used by SoS can be controlled by option `-j`, where `-j 4` creates 4 workers so that you will see 5 sos processes (1 master and 4 worker) when you execute a workflow with command\n",
    "\n",
    "```\n",
    "sos run script -j 4\n",
    "```"
   ]
  },
  {
   "cell_type": "markdown",
   "metadata": {
    "kernel": "SoS",
    "papermill": {
     "duration": 0.032646,
     "end_time": "2019-12-23T17:04:58.896061",
     "exception": false,
     "start_time": "2019-12-23T17:04:58.863415",
     "status": "completed"
    },
    "tags": []
   },
   "source": [
    "It is possible to start workers on multiple remote machines by specifying the name of the machine and number of processes on each of them with an extended version of option `-j`. For example\n",
    "\n",
    "```\n",
    "sos run script -j 4 node1:4 node2:4\n",
    "```\n",
    "\n",
    "will create 12 workers, 4 on localhost on which the master SoS process resides, 4 on `node1` and 4 on `node2`, where `node1` and `node2` can be name or IP address of machines, or an aliaes defined in SoS configuration files. A limitation of starting workers on remote servers is that the remote servers must share the same file systems as the local host so this approach only works for workstations with auto-mount home directories, or computing nodes of cluster systems."
   ]
  },
  {
   "cell_type": "markdown",
   "metadata": {
    "kernel": "SoS",
    "papermill": {
     "duration": 0.037618,
     "end_time": "2019-12-23T17:04:58.971383",
     "exception": false,
     "start_time": "2019-12-23T17:04:58.933765",
     "status": "completed"
    },
    "tags": []
   },
   "source": [
    "<div class=\"bs-callout bs-callout-alert\" role=\"alert\">\n",
    "  <h4>Using workers on remote hosts</h4>\n",
    "    <p>SoS assumes that <b>all local and remote hosts share the same file systems</b> and propagates environment variables such as <code>$PATH</code> to all remote hosts. This ensures that all worker processes have identical running environments. </p>\n",
    "    <p>You should create and execute external tasks if you would like to execute code on remote computing environments that do not share file systems with the local host.</p>\n",
    "</div>"
   ]
  },
  {
   "cell_type": "markdown",
   "metadata": {
    "kernel": "SoS",
    "papermill": {
     "duration": 0.031714,
     "end_time": "2019-12-23T17:04:59.039351",
     "exception": false,
     "start_time": "2019-12-23T17:04:59.007637",
     "status": "completed"
    },
    "tags": []
   },
   "source": [
    "For example, the following example starts 4 local workers, and 4 on a remote host `macpro`."
   ]
  },
  {
   "cell_type": "code",
   "execution_count": 8,
   "metadata": {
    "kernel": "SoS",
    "papermill": {
     "duration": 23.324712,
     "end_time": "2019-12-23T17:05:22.397853",
     "exception": false,
     "start_time": "2019-12-23T17:04:59.073141",
     "status": "completed"
    },
    "tags": []
   },
   "outputs": [],
   "source": [
    "%run -j 4 macpro:4\n",
    "\n",
    "input: for_each=dict(i=range(10))\n",
    "\n",
    "import time\n",
    "time.sleep(i*2)"
   ]
  },
  {
   "cell_type": "markdown",
   "metadata": {
    "kernel": "SoS",
    "papermill": {
     "duration": 0.057432,
     "end_time": "2019-12-23T17:05:22.505374",
     "exception": false,
     "start_time": "2019-12-23T17:05:22.447942",
     "status": "completed"
    },
    "tags": []
   },
   "source": [
    "## Executing workflows on cluster systems"
   ]
  },
  {
   "cell_type": "markdown",
   "metadata": {
    "kernel": "SoS",
    "papermill": {
     "duration": 0.072575,
     "end_time": "2019-12-23T17:05:22.639139",
     "exception": false,
     "start_time": "2019-12-23T17:05:22.566564",
     "status": "completed"
    },
    "tags": []
   },
   "source": [
    "Having a number of servers that share the same file system is a scenario that appear most frequently on a cluster system where computing nodes share the same network file system. If you execute a workflow on a supported cluster system, SoS will be able to obtain the number of nodes and number of processes allocated on each node, and set the `-j` automatically.\n",
    "\n",
    "So to execute a workflow on the cluster, all you need to do is wrapping the command \n",
    "```\n",
    "sos execute script [options]\n",
    "```\n",
    "(without option `-j`) in a shell script that specifies the resources used, and submit to the cluster system. This part can, again, be achieved with proper host configuration with a `workflow_template`."
   ]
  },
  {
   "cell_type": "markdown",
   "metadata": {
    "kernel": "SoS",
    "papermill": {
     "duration": 0.064486,
     "end_time": "2019-12-23T17:05:22.772465",
     "exception": false,
     "start_time": "2019-12-23T17:05:22.707979",
     "status": "completed"
    },
    "tags": []
   },
   "source": [
    "<p align=\"center\">\n",
    "  <img src=\"https://vatlab.github.io/sos-docs/doc/media/cluster_execution.jpg\">\n",
    "</p>"
   ]
  },
  {
   "cell_type": "markdown",
   "metadata": {
    "kernel": "SoS",
    "papermill": {
     "duration": 0.066334,
     "end_time": "2019-12-23T17:05:22.903036",
     "exception": false,
     "start_time": "2019-12-23T17:05:22.836702",
     "status": "completed"
    },
    "tags": []
   },
   "source": [
    "So basically you need a host that \n",
    "\n",
    "1. uses `pbs` as `queue_type`, \n",
    "2. defines commands to submit and queue jobs, and\n",
    "3. defines a `workflow_template` that will be expanded to a shell script to be executed on the cluster\n",
    "\n",
    "The host can be a local host (if you are submitting jobs on the headnode of a cluster system) or a remote host (if you are submitting jobs remotely). Its definition should be similar to"
   ]
  },
  {
   "cell_type": "markdown",
   "metadata": {
    "kernel": "SoS",
    "papermill": {
     "duration": 0.06946,
     "end_time": "2019-12-23T17:05:23.045618",
     "exception": false,
     "start_time": "2019-12-23T17:05:22.976158",
     "status": "completed"
    },
    "tags": []
   },
   "source": [
    " ```yaml\n",
    " hosts:\n",
    "     htc:\n",
    "        address: htc_cluster.mdanderson.edu\n",
    "        description: HTC cluster (PBS)\n",
    "        queue_type: pbs\n",
    "        status_check_interval: 60\n",
    "        submit_cmd: qsub {job_file}\n",
    "        status_cmd: qstat {job_id}\n",
    "        kill_cmd: qdel {job_id}        \n",
    "        nodes: 2\n",
    "        cores: 4\n",
    "        walltime: 01:00:00\n",
    "        mem: 4G\n",
    "        workflow_template: |\n",
    "            #!/bin/bash\n",
    "            #PBS -N {job_name}\n",
    "            #PBS -l nodes={nodes}:ppn={cores}\n",
    "            #PBS -l walltime={walltime}\n",
    "            #PBS -l mem={mem}\n",
    "            #PBS -m n\n",
    "            module load R\n",
    "            {command}\n",
    "```            "
   ]
  },
  {
   "cell_type": "markdown",
   "metadata": {
    "kernel": "SoS",
    "papermill": {
     "duration": 0.045669,
     "end_time": "2019-12-23T17:05:23.151009",
     "exception": false,
     "start_time": "2019-12-23T17:05:23.105340",
     "status": "completed"
    },
    "tags": []
   },
   "source": [
    "With this definition, you can submit your workflow to it with option `-r htc` as follows:"
   ]
  },
  {
   "cell_type": "code",
   "execution_count": 9,
   "metadata": {
    "kernel": "SoS",
    "papermill": {
     "duration": 4.822698,
     "end_time": "2019-12-23T17:05:28.014182",
     "exception": false,
     "start_time": "2019-12-23T17:05:23.191484",
     "status": "completed"
    },
    "tags": []
   },
   "outputs": [
    {
     "name": "stdout",
     "output_type": "stream",
     "text": [
      "\u001b[91mERROR\u001b[0m: \u001b[91mFailed to connect to htc: @@@@@@@@@@@@@@@@@@@@@@@@@@@@@@@@@@@@@@@@@@@@@@@@@@@@@@@@@@@\r",
      "\r\n"
     ]
    },
    {
     "name": "stdout",
     "output_type": "stream",
     "text": [
      "@       WARNING: POSSIBLE DNS SPOOFING DETECTED!          @\r",
      "\r\n"
     ]
    },
    {
     "name": "stdout",
     "output_type": "stream",
     "text": [
      "@@@@@@@@@@@@@@@@@@@@@@@@@@@@@@@@@@@@@@@@@@@@@@@@@@@@@@@@@@@\r",
      "\r\n"
     ]
    },
    {
     "name": "stdout",
     "output_type": "stream",
     "text": [
      "The ECDSA host key for q1prphtch00.mdanderson.edu has changed,\r",
      "\r\n"
     ]
    },
    {
     "name": "stdout",
     "output_type": "stream",
     "text": [
      "and the key for the corresponding IP address 23.217.138.110\r",
      "\r\n"
     ]
    },
    {
     "name": "stdout",
     "output_type": "stream",
     "text": [
      "is unknown. This could either mean that\r",
      "\r\n"
     ]
    },
    {
     "name": "stdout",
     "output_type": "stream",
     "text": [
      "DNS SPOOFING is happening or the IP address for the host\r",
      "\r\n"
     ]
    },
    {
     "name": "stdout",
     "output_type": "stream",
     "text": [
      "and its host key have changed at the same time.\r",
      "\r\n"
     ]
    },
    {
     "name": "stdout",
     "output_type": "stream",
     "text": [
      "@@@@@@@@@@@@@@@@@@@@@@@@@@@@@@@@@@@@@@@@@@@@@@@@@@@@@@@@@@@\r",
      "\r\n"
     ]
    },
    {
     "name": "stdout",
     "output_type": "stream",
     "text": [
      "@    WARNING: REMOTE HOST IDENTIFICATION HAS CHANGED!     @\r",
      "\r\n"
     ]
    },
    {
     "name": "stdout",
     "output_type": "stream",
     "text": [
      "@@@@@@@@@@@@@@@@@@@@@@@@@@@@@@@@@@@@@@@@@@@@@@@@@@@@@@@@@@@\r",
      "\r\n"
     ]
    },
    {
     "name": "stdout",
     "output_type": "stream",
     "text": [
      "IT IS POSSIBLE THAT SOMEONE IS DOING SOMETHING NASTY!\r",
      "\r\n"
     ]
    },
    {
     "name": "stdout",
     "output_type": "stream",
     "text": [
      "Someone could be eavesdropping on you right now (man-in-the-middle attack)!\r",
      "\r\n"
     ]
    },
    {
     "name": "stdout",
     "output_type": "stream",
     "text": [
      "It is also possible that a host key has just been changed.\r",
      "\r\n"
     ]
    },
    {
     "name": "stdout",
     "output_type": "stream",
     "text": [
      "The fingerprint for the ECDSA key sent by the remote host is\r\n"
     ]
    },
    {
     "name": "stdout",
     "output_type": "stream",
     "text": [
      "SHA256:6MJJtqKhTdHXF2yzH/0UqGN2o4RZ2PDEp2ttdA/IJR8.\r",
      "\r\n"
     ]
    },
    {
     "name": "stdout",
     "output_type": "stream",
     "text": [
      "Please contact your system administrator.\r",
      "\r\n"
     ]
    },
    {
     "name": "stdout",
     "output_type": "stream",
     "text": [
      "Add correct host key in /Users/bpeng1/.ssh/known_hosts to get rid of this message.\r",
      "\r\n"
     ]
    },
    {
     "name": "stdout",
     "output_type": "stream",
     "text": [
      "Offending ECDSA key in /Users/bpeng1/.ssh/known_hosts:24\r",
      "\r\n"
     ]
    },
    {
     "name": "stdout",
     "output_type": "stream",
     "text": [
      "ECDSA host key for q1prphtch00.mdanderson.edu has changed and you have requested strict checking.\r",
      "\r\n"
     ]
    },
    {
     "name": "stdout",
     "output_type": "stream",
     "text": [
      "Host key verification failed.\r",
      "\r\n"
     ]
    },
    {
     "name": "stdout",
     "output_type": "stream",
     "text": [
      "\u001b[0m\n"
     ]
    }
   ],
   "source": [
    "%run -r htc walltime=00:10:00 nodes=4\n",
    "[10]\n",
    "input: for_each=dict(i=range(100))\n",
    "R: expand=True\n",
    "  Sys.sleep(100+{i})\n",
    "        "
   ]
  },
  {
   "cell_type": "markdown",
   "metadata": {
    "kernel": "SoS",
    "papermill": {
     "duration": 0.043335,
     "end_time": "2019-12-23T17:05:28.098793",
     "exception": false,
     "start_time": "2019-12-23T17:05:28.055458",
     "status": "completed"
    },
    "tags": []
   },
   "source": [
    "The workflow is submitted to the cluster with script \n",
    "\n",
    "```sh\n",
    "#!/bin/bash\n",
    "#PBS -N e0e212c1577d5990\n",
    "#PBS -l nodes=4:ppn=4\n",
    "#PBS -l walltime=00:10:00\n",
    "#PBS -l mem=4G\n",
    "#PBS -m n\n",
    "module load R\n",
    "sos run /home/bpeng1/sos/sos-docs/src/user_guide/.tmp_script_mjno7xgq.sos\n",
    "```\n",
    "saved under `~/.sos/workflows/e0e212c1577d5990.sh`."
   ]
  },
  {
   "cell_type": "markdown",
   "metadata": {
    "kernel": "SoS",
    "papermill": {
     "duration": 0.061065,
     "end_time": "2019-12-23T17:05:28.215911",
     "exception": false,
     "start_time": "2019-12-23T17:05:28.154846",
     "status": "completed"
    },
    "tags": []
   },
   "source": [
    "Here we note that\n",
    "\n",
    "1. The template arguments are specified from command line (`walltime=00:10:00 nodes=4`)\n",
    "2. The host definition provides default values for template variables, which will be used if they are not specified from command line.\n",
    "3. Unlike the execution of remote tasks, SoS currently does not provide any means to check the status of jobs. You will have to do that manually with the job ID returned from SoS."
   ]
  },
  {
   "cell_type": "markdown",
   "metadata": {
    "kernel": "SoS",
    "papermill": {
     "duration": 0.046669,
     "end_time": "2019-12-23T17:05:28.306511",
     "exception": false,
     "start_time": "2019-12-23T17:05:28.259842",
     "status": "completed"
    },
    "tags": []
   },
   "source": [
    "## Further reading\n",
    "\n",
    "* [Host configuration](host_setup.html)"
   ]
  }
 ],
 "metadata": {
  "anaconda-cloud": {},
  "celltoolbar": "Select cell kernel",
  "kernelspec": {
   "display_name": "SoS",
   "language": "sos",
   "name": "sos"
  },
  "language_info": {
   "codemirror_mode": "sos",
   "file_extension": ".sos",
   "mimetype": "text/x-sos",
   "name": "sos",
   "nbconvert_exporter": "sos_notebook.converter.SoS_Exporter",
   "pygments_lexer": "sos"
  },
  "papermill": {
   "duration": 58.84471,
   "end_time": "2019-12-23T17:05:33.520193",
   "environment_variables": {},
   "exception": null,
   "input_path": "/Users/bpeng1/sos/sos-docs/src/user_guide/remote_execution.ipynb",
   "output_path": "remote_execution.ipynb_rerun.ipynb",
   "parameters": {},
   "start_time": "2019-12-23T17:04:34.675483",
   "version": "1.1.0"
  },
  "sos": {
   "celltoolbar": true,
   "default_kernel": "SoS",
   "kernels": [
    [
     "SoS",
     "sos",
     "",
     ""
    ]
   ],
   "panel": {
    "displayed": true,
    "height": 0,
    "style": "side"
   },
   "version": "0.21.2"
  },
  "toc": {
   "colors": {
    "hover_highlight": "#DAA520",
    "running_highlight": "#FF0000",
    "selected_highlight": "#FFD700"
   },
   "moveMenuLeft": true,
   "nav_menu": {
    "height": "172px",
    "width": "254px"
   },
   "navigate_menu": true,
   "number_sections": true,
   "sideBar": true,
   "threshold": 4,
   "toc_cell": false,
   "toc_position": {
    "height": "675px",
    "left": "0px",
    "right": "1920px",
    "top": "106px",
    "width": "361px"
   },
   "toc_section_display": "block",
   "toc_window_display": true
  }
 },
 "nbformat": 4,
 "nbformat_minor": 4
}