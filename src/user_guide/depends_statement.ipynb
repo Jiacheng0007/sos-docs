{
 "cells": [
  {
   "cell_type": "markdown",
   "metadata": {
    "kernel": "SoS",
    "papermill": {
     "duration": 0.012195,
     "end_time": "2019-12-23T17:00:34.715463",
     "exception": false,
     "start_time": "2019-12-23T17:00:34.703268",
     "status": "completed"
    },
    "tags": []
   },
   "source": [
    "# How to define step dependencies"
   ]
  },
  {
   "cell_type": "markdown",
   "metadata": {
    "kernel": "SoS",
    "papermill": {
     "duration": 0.010533,
     "end_time": "2019-12-23T17:00:34.741112",
     "exception": false,
     "start_time": "2019-12-23T17:00:34.730579",
     "status": "completed"
    },
    "tags": []
   },
   "source": [
    "* **Difficulty level**: easy\n",
    "* **Time need to lean**: 10 minutes or less\n",
    "* **Key points**:\n",
    "  * Step depends accepts regular Python aguments\n",
    "  * Step depends are usually used to create dependencies but variables `_depends` can be used directly  "
   ]
  },
  {
   "cell_type": "markdown",
   "metadata": {
    "kernel": "SoS",
    "papermill": {
     "duration": 0.010051,
     "end_time": "2019-12-23T17:00:34.760449",
     "exception": false,
     "start_time": "2019-12-23T17:00:34.750398",
     "status": "completed"
    },
    "tags": []
   },
   "source": [
    "The `depends` statement defines the dependency targets of a SoS step and are usually used to create step dependencies. You can check out the [How to create dependencies between SoS steps](doc/user_guide/step_dependencies.html) tutorial for a quick overview of the use of input statements."
   ]
  },
  {
   "cell_type": "markdown",
   "metadata": {
    "kernel": "SoS",
    "papermill": {
     "duration": 0.01581,
     "end_time": "2019-12-23T17:00:34.787805",
     "exception": false,
     "start_time": "2019-12-23T17:00:34.771995",
     "status": "completed"
    },
    "tags": []
   },
   "source": [
    "## Direct input of unnamed or named dependency files"
   ]
  },
  {
   "cell_type": "markdown",
   "metadata": {
    "kernel": "SoS",
    "papermill": {
     "duration": 0.012646,
     "end_time": "2019-12-23T17:00:34.813521",
     "exception": false,
     "start_time": "2019-12-23T17:00:34.800875",
     "status": "completed"
    },
    "tags": []
   },
   "source": [
    "Similar to the list of input files in the `input:` statement, you can list dependency files in `depends` statement. "
   ]
  },
  {
   "cell_type": "code",
   "execution_count": 1,
   "metadata": {
    "kernel": "SoS",
    "papermill": {
     "duration": 4.471771,
     "end_time": "2019-12-23T17:00:39.299439",
     "exception": false,
     "start_time": "2019-12-23T17:00:34.827668",
     "status": "completed"
    },
    "tags": []
   },
   "outputs": [
    {
     "name": "stdout",
     "output_type": "stream",
     "text": [
      "\u001b[32m[\u001b[0m\u001b[32m#\u001b[0m\u001b[32m#\u001b[0m\u001b[32m#\u001b[0m\u001b[32m]\u001b[0m 3 steps processed (3 jobs completed)\n"
     ]
    }
   ],
   "source": [
    "!rm -f a.txt b.txt\n",
    "%run -v0\n",
    "\n",
    "[A]\n",
    "output: 'a.txt'\n",
    "\n",
    "print(f'Generating {_output}')\n",
    "_output.touch()\n",
    "\n",
    "[B]\n",
    "output: 'b.txt'\n",
    "\n",
    "print(f'Generating {_output}')\n",
    "_output.touch()\n",
    "\n",
    "[default]\n",
    "depends: 'a.txt', 'b.txt'\n",
    "\n",
    "print(f'Dependencies {_depends} have been generated')"
   ]
  },
  {
   "cell_type": "markdown",
   "metadata": {
    "kernel": "Bash",
    "papermill": {
     "duration": 0.009818,
     "end_time": "2019-12-23T17:00:39.318630",
     "exception": false,
     "start_time": "2019-12-23T17:00:39.308812",
     "status": "completed"
    },
    "tags": []
   },
   "source": [
    "## Depends on another step"
   ]
  },
  {
   "cell_type": "markdown",
   "metadata": {
    "kernel": "SoS",
    "papermill": {
     "duration": 0.009092,
     "end_time": "2019-12-23T17:00:39.336602",
     "exception": false,
     "start_time": "2019-12-23T17:00:39.327510",
     "status": "completed"
    },
    "tags": []
   },
   "source": [
    "You can explicitly depend on another step as a way to execute another step before the step:"
   ]
  },
  {
   "cell_type": "code",
   "execution_count": 2,
   "metadata": {
    "kernel": "SoS",
    "papermill": {
     "duration": 2.840518,
     "end_time": "2019-12-23T17:00:42.186964",
     "exception": false,
     "start_time": "2019-12-23T17:00:39.346446",
     "status": "completed"
    },
    "tags": []
   },
   "outputs": [
    {
     "name": "stdout",
     "output_type": "stream",
     "text": [
      "\u001b[32m[\u001b[0m\u001b[32m#\u001b[0m\u001b[32m#\u001b[0m\u001b[32m]\u001b[0m 2 steps processed (2 jobs completed)\n"
     ]
    }
   ],
   "source": [
    "%run -v0 -s force\n",
    "\n",
    "[A]\n",
    "print(f'Running {step_name}')\n",
    "\n",
    "[default]\n",
    "depends: sos_step('A')\n",
    "\n",
    "print(f'Running {step_name}')"
   ]
  },
  {
   "cell_type": "markdown",
   "metadata": {
    "kernel": "SoS",
    "papermill": {
     "duration": 0.013862,
     "end_time": "2019-12-23T17:00:42.213946",
     "exception": false,
     "start_time": "2019-12-23T17:00:42.200084",
     "status": "completed"
    },
    "tags": []
   },
   "source": [
    "## Depends on variables shared by another step"
   ]
  },
  {
   "cell_type": "markdown",
   "metadata": {
    "kernel": "SoS",
    "papermill": {
     "duration": 0.009894,
     "end_time": "2019-12-23T17:00:42.235950",
     "exception": false,
     "start_time": "2019-12-23T17:00:42.226056",
     "status": "completed"
    },
    "tags": []
   },
   "source": [
    "Another usage is that if you step depends on a variable that is generated from another step, you have to `shared` the variable from the step that generates it, and depends on the variable in the step that uses it."
   ]
  },
  {
   "cell_type": "code",
   "execution_count": 3,
   "metadata": {
    "kernel": "SoS",
    "papermill": {
     "duration": 2.461024,
     "end_time": "2019-12-23T17:00:44.707131",
     "exception": false,
     "start_time": "2019-12-23T17:00:42.246107",
     "status": "completed"
    },
    "tags": []
   },
   "outputs": [
    {
     "name": "stdout",
     "output_type": "stream",
     "text": [
      "\u001b[32m[\u001b[0m\u001b[32m#\u001b[0m\u001b[32m#\u001b[0m\u001b[32m]\u001b[0m 2 steps processed (2 jobs completed)\n"
     ]
    }
   ],
   "source": [
    "%run -v0 -s force\n",
    "\n",
    "[A: shared='rn']\n",
    "\n",
    "import random\n",
    "rn = random.randint(1, 1000)\n",
    "print(f'Random number {rn} is generated')\n",
    "\n",
    "[default]\n",
    "depends: sos_variable('rn')\n",
    "\n",
    "print(f'Random number {rn} used in {step_name}')"
   ]
  },
  {
   "cell_type": "markdown",
   "metadata": {
    "kernel": "SoS",
    "papermill": {
     "duration": 0.010075,
     "end_time": "2019-12-23T17:00:44.726747",
     "exception": false,
     "start_time": "2019-12-23T17:00:44.716672",
     "status": "completed"
    },
    "tags": []
   },
   "source": [
    "## Depends on other types of targets such as system resource"
   ]
  },
  {
   "cell_type": "markdown",
   "metadata": {
    "kernel": "SoS",
    "papermill": {
     "duration": 0.009309,
     "end_time": "2019-12-23T17:00:44.745579",
     "exception": false,
     "start_time": "2019-12-23T17:00:44.736270",
     "status": "completed"
    },
    "tags": []
   },
   "source": [
    "SoS allows many the use of many types of **targets**, which are generally speaking object that you can check its existence. You can check the existence of libraries (and install them if not available in some cases), and check the available of certain executables, or if your system has the required resources. These targets generally are used in the `depends` statement of steps.\n",
    "\n",
    "For example, the following workflow checks if command `file` exists before running the shell script that uses it."
   ]
  },
  {
   "cell_type": "code",
   "execution_count": 4,
   "metadata": {
    "kernel": "SoS",
    "papermill": {
     "duration": 0.827954,
     "end_time": "2019-12-23T17:00:45.583100",
     "exception": false,
     "start_time": "2019-12-23T17:00:44.755146",
     "status": "completed"
    },
    "tags": []
   },
   "outputs": [
    {
     "name": "stdout",
     "output_type": "stream",
     "text": [
      "depends_statement.ipynb: cannot open `depends_statement.ipynb' (No such file or directory)\n"
     ]
    }
   ],
   "source": [
    "depends: executable('file')\n",
    "sh:\n",
    "  file depends_statement.ipynb"
   ]
  },
  {
   "cell_type": "markdown",
   "metadata": {
    "kernel": "SoS",
    "papermill": {
     "duration": 0.011378,
     "end_time": "2019-12-23T17:00:45.604633",
     "exception": false,
     "start_time": "2019-12-23T17:00:45.593255",
     "status": "completed"
    },
    "tags": []
   },
   "source": [
    "## Further reading\n",
    "\n",
    "* [How to explicitly execute another step before a SoS step](doc/user_guide/target_sos_step.html) \n",
    "* [How to explicitly execute another workflow before a SoS step](doc/user_guide/depends_workflow.html)"
   ]
  }
 ],
 "metadata": {
  "kernelspec": {
   "display_name": "SoS",
   "language": "sos",
   "name": "sos"
  },
  "language_info": {
   "codemirror_mode": "sos",
   "file_extension": ".sos",
   "mimetype": "text/x-sos",
   "name": "sos",
   "nbconvert_exporter": "sos_notebook.converter.SoS_Exporter",
   "pygments_lexer": "sos"
  },
  "papermill": {
   "duration": 19.9439,
   "end_time": "2019-12-23T17:00:50.810190",
   "environment_variables": {},
   "exception": null,
   "input_path": "/Users/bpeng1/sos/sos-docs/src/user_guide/depends_statement.ipynb",
   "output_path": "depends_statement.ipynb_rerun.ipynb",
   "parameters": {},
   "start_time": "2019-12-23T17:00:30.866290",
   "version": "1.1.0"
  },
  "sos": {
   "kernels": [
    [
     "Bash",
     "bash",
     "Bash",
     "#E6EEFF",
     ""
    ],
    [
     "SoS",
     "sos",
     "",
     "",
     "sos"
    ]
   ],
   "panel": {
    "displayed": true,
    "height": 0
   },
   "version": "0.18.5"
  }
 },
 "nbformat": 4,
 "nbformat_minor": 2
}