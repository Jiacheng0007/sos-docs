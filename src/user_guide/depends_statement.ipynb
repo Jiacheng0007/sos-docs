{
 "cells": [
  {
   "cell_type": "markdown",
   "metadata": {
    "kernel": "SoS",
    "tags": []
   },
   "source": [
    "# The `depends` statement"
   ]
  },
  {
   "cell_type": "markdown",
   "metadata": {
    "kernel": "SoS",
    "tags": []
   },
   "source": [
    "* **Difficulty level**: easy\n",
    "* **Time need to lean**: 10 minutes or less\n",
    "* **Key points**:\n",
    "  * Step depends accepts regular Python aguments\n",
    "  * Step depends are usually used to create dependencies but variables `_depends` can be used directly  "
   ]
  },
  {
   "cell_type": "markdown",
   "metadata": {
    "kernel": "SoS",
    "tags": []
   },
   "source": [
    "The `depends` statement defines the dependency targets of a SoS step and are usually used to create step dependencies. You can check out the [How to create dependencies between SoS steps](step_dependencies.html) tutorial for a quick overview of the use of input statements."
   ]
  },
  {
   "cell_type": "markdown",
   "metadata": {
    "kernel": "SoS",
    "tags": []
   },
   "source": [
    "## Direct input of unnamed or named dependency files"
   ]
  },
  {
   "cell_type": "markdown",
   "metadata": {
    "kernel": "SoS",
    "tags": []
   },
   "source": [
    "Similar to the list of input files in the `input:` statement, you can list dependency files in `depends` statement. "
   ]
  },
  {
   "cell_type": "code",
   "execution_count": 1,
   "metadata": {
    "kernel": "SoS",
    "tags": []
   },
   "outputs": [
    {
     "name": "stdout",
     "output_type": "stream",
     "text": [
      "\u001b[32m[\u001b[0m\u001b[32m#\u001b[0m\u001b[32m#\u001b[0m\u001b[32m#\u001b[0m\u001b[32m]\u001b[0m 3 steps processed (3 jobs completed)\n"
     ]
    }
   ],
   "source": [
    "!rm -f a.txt b.txt\n",
    "%run -v0\n",
    "\n",
    "[A]\n",
    "output: 'a.txt'\n",
    "\n",
    "print(f'Generating {_output}')\n",
    "_output.touch()\n",
    "\n",
    "[B]\n",
    "output: 'b.txt'\n",
    "\n",
    "print(f'Generating {_output}')\n",
    "_output.touch()\n",
    "\n",
    "[default]\n",
    "depends: 'a.txt', 'b.txt'\n",
    "\n",
    "print(f'Dependencies {_depends} have been generated')"
   ]
  },
  {
   "cell_type": "markdown",
   "metadata": {
    "kernel": "Bash",
    "tags": []
   },
   "source": [
    "## Depends on another step"
   ]
  },
  {
   "cell_type": "markdown",
   "metadata": {
    "kernel": "SoS",
    "tags": []
   },
   "source": [
    "You can explicitly depend on another step as a way to execute another step before the step:"
   ]
  },
  {
   "cell_type": "code",
   "execution_count": 2,
   "metadata": {
    "kernel": "SoS",
    "tags": []
   },
   "outputs": [
    {
     "name": "stdout",
     "output_type": "stream",
     "text": [
      "\u001b[32m[\u001b[0m\u001b[32m#\u001b[0m\u001b[32m#\u001b[0m\u001b[32m]\u001b[0m 2 steps processed (2 jobs completed)\n"
     ]
    }
   ],
   "source": [
    "%run -v0 -s force\n",
    "\n",
    "[A]\n",
    "print(f'Running {step_name}')\n",
    "\n",
    "[default]\n",
    "depends: sos_step('A')\n",
    "\n",
    "print(f'Running {step_name}')"
   ]
  },
  {
   "cell_type": "markdown",
   "metadata": {
    "kernel": "SoS",
    "tags": []
   },
   "source": [
    "## Depends on variables shared by another step"
   ]
  },
  {
   "cell_type": "markdown",
   "metadata": {
    "kernel": "SoS",
    "tags": []
   },
   "source": [
    "Another usage is that if you step depends on a variable that is generated from another step, you have to `shared` the variable from the step that generates it, and depends on the variable in the step that uses it."
   ]
  },
  {
   "cell_type": "code",
   "execution_count": 3,
   "metadata": {
    "kernel": "SoS",
    "tags": []
   },
   "outputs": [
    {
     "name": "stdout",
     "output_type": "stream",
     "text": [
      "\u001b[32m[\u001b[0m\u001b[32m#\u001b[0m\u001b[32m#\u001b[0m\u001b[32m]\u001b[0m 2 steps processed (2 jobs completed)\n"
     ]
    }
   ],
   "source": [
    "%run -v0 -s force\n",
    "\n",
    "[A: shared='rn']\n",
    "\n",
    "import random\n",
    "rn = random.randint(1, 1000)\n",
    "print(f'Random number {rn} is generated')\n",
    "\n",
    "[default]\n",
    "depends: sos_variable('rn')\n",
    "\n",
    "print(f'Random number {rn} used in {step_name}')"
   ]
  },
  {
   "cell_type": "markdown",
   "metadata": {
    "kernel": "SoS",
    "tags": []
   },
   "source": [
    "## Depends on other types of targets such as system resource"
   ]
  },
  {
   "cell_type": "markdown",
   "metadata": {
    "kernel": "SoS",
    "tags": []
   },
   "source": [
    "SoS allows many the use of many types of **targets**, which are generally speaking object that you can check its existence. You can check the existence of libraries (and install them if not available in some cases), and check the available of certain executables, or if your system has the required resources. These targets generally are used in the `depends` statement of steps.\n",
    "\n",
    "For example, the following workflow checks if command `file` exists before running the shell script that uses it."
   ]
  },
  {
   "cell_type": "code",
   "execution_count": 4,
   "metadata": {
    "kernel": "SoS",
    "tags": []
   },
   "outputs": [
    {
     "name": "stdout",
     "output_type": "stream",
     "text": [
      "depends_statement.ipynb: ASCII text, with very long lines\n"
     ]
    }
   ],
   "source": [
    "depends: executable('file')\n",
    "sh:\n",
    "  file depends_statement.ipynb"
   ]
  },
  {
   "cell_type": "markdown",
   "metadata": {
    "kernel": "SoS",
    "tags": []
   },
   "source": [
    "## Further reading\n",
    "\n",
    "* [How to explicitly execute another step before a SoS step](target_sos_step.html) \n",
    "* [How to explicitly execute another workflow before a SoS step](depends_workflow.html)"
   ]
  }
 ],
 "metadata": {
  "kernelspec": {
   "display_name": "SoS",
   "language": "sos",
   "name": "sos"
  },
  "language_info": {
   "codemirror_mode": "sos",
   "file_extension": ".sos",
   "mimetype": "text/x-sos",
   "name": "sos",
   "nbconvert_exporter": "sos_notebook.converter.SoS_Exporter",
   "pygments_lexer": "sos"
  },
  "sos": {
   "kernels": [
    [
     "Bash",
     "bash",
     "Bash",
     "#E6EEFF",
     ""
    ],
    [
     "SoS",
     "sos",
     "",
     "",
     "sos"
    ]
   ],
   "panel": {
    "displayed": true,
    "height": 0
   },
   "version": "0.21.5"
  }
 },
 "nbformat": 4,
 "nbformat_minor": 4
}
