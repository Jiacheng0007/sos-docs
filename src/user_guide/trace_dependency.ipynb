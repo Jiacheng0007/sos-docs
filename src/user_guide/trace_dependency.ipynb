{
 "cells": [
  {
   "cell_type": "markdown",
   "metadata": {
    "kernel": "SoS",
    "papermill": {
     "duration": 0.019517,
     "end_time": "2019-12-23T17:08:03.003285",
     "exception": false,
     "start_time": "2019-12-23T17:08:02.983768",
     "status": "completed"
    },
    "tags": []
   },
   "source": [
    "# How to ensure the integrity of intermediate files during the re-execution of workflows"
   ]
  },
  {
   "cell_type": "markdown",
   "metadata": {
    "kernel": "SoS",
    "papermill": {
     "duration": 0.01719,
     "end_time": "2019-12-23T17:08:03.038185",
     "exception": false,
     "start_time": "2019-12-23T17:08:03.020995",
     "status": "completed"
    },
    "tags": []
   },
   "source": [
    "* **Difficulty level**: intermediate\n",
    "* **Time need to lean**: 10 minutes or less\n",
    "* **Key points**:\n",
    "  * Signatures are useful in checking the integrity of intermediate files\n",
    "  * Option `-T` forces the rerun of upstream steps to ensure integrity of intermediate files\n",
    "  * `traced()` targets are always checked or re-generated\n",
    "  "
   ]
  },
  {
   "cell_type": "markdown",
   "metadata": {
    "kernel": "SoS",
    "papermill": {
     "duration": 0.017544,
     "end_time": "2019-12-23T17:08:03.072783",
     "exception": false,
     "start_time": "2019-12-23T17:08:03.055239",
     "status": "completed"
    },
    "tags": []
   },
   "source": [
    "## A problem with makefile-style workflows"
   ]
  },
  {
   "cell_type": "markdown",
   "metadata": {
    "kernel": "SoS",
    "papermill": {
     "duration": 0.01818,
     "end_time": "2019-12-23T17:08:03.107678",
     "exception": false,
     "start_time": "2019-12-23T17:08:03.089498",
     "status": "completed"
    },
    "tags": []
   },
   "source": [
    "<div class=\"bs-callout bs-callout-info\" role=\"alert\">\n",
    "    <h4>Dependency check of workflow steps</h4>\n",
    "    <p>A workflow step is ready to execute if all input and dependent targets exist.<p>\n",
    "</div>"
   ]
  },
  {
   "cell_type": "markdown",
   "metadata": {
    "kernel": "SoS",
    "papermill": {
     "duration": 0.018026,
     "end_time": "2019-12-23T17:08:03.144750",
     "exception": false,
     "start_time": "2019-12-23T17:08:03.126724",
     "status": "completed"
    },
    "tags": []
   },
   "source": [
    "Suppose you are working on a project that involves the execution of workflows repeatedly with different input files or parameters. It is possible to lose track of intermediate files and obtain incorrect results.\n",
    "\n",
    "Let us assume that you created the following workflow with step `analyze` accepting some parameter and write result to a file, and step `summarize` creating a report named `out.md` from the output of step `analyze`. A little trick here is that action `report` accept one or more input files from its `input` parameter and appends their contents to the end of the report."
   ]
  },
  {
   "cell_type": "code",
   "execution_count": 1,
   "metadata": {
    "kernel": "SoS",
    "papermill": {
     "duration": 1.208553,
     "end_time": "2019-12-23T17:08:04.371524",
     "exception": false,
     "start_time": "2019-12-23T17:08:03.162971",
     "status": "completed"
    },
    "tags": []
   },
   "outputs": [
    {
     "data": {
      "text/html": [
       "<div class=\"sos_hint\">Cell content saved to <a href=\"test.sos\" target=\"_blank\">test.sos</a>, use option -r to also execute the cell.</div>"
      ],
      "text/plain": [
       "Cell content saved to test.sos, use option -r to also execute the cell.\n"
      ]
     },
     "metadata": {},
     "output_type": "display_data"
    }
   ],
   "source": [
    "# remove out.txt if it already exists\n",
    "!rm -f out.txt\n",
    "# write a workflow\n",
    "%save test.sos -f\n",
    "\n",
    "[analyze]\n",
    "parameter: par=5\n",
    "output: 'out.txt'\n",
    "\n",
    "print(f'Analyze data with parameter {par}')\n",
    "with open(_output, 'w') as out:\n",
    "    out.write(f'Result from parameter {par}')\n",
    "\n",
    "[summarize]\n",
    "input: 'out.txt'    \n",
    "print(f'Writing report with input out.txt')\n",
    "report: input='out.txt', output='out.md'\n",
    "    **Summary report**"
   ]
  },
  {
   "cell_type": "markdown",
   "metadata": {
    "kernel": "SoS",
    "papermill": {
     "duration": 0.019135,
     "end_time": "2019-12-23T17:08:04.409749",
     "exception": false,
     "start_time": "2019-12-23T17:08:04.390614",
     "status": "completed"
    },
    "tags": []
   },
   "source": [
    "Now, let us perform the analysis and generate a report:"
   ]
  },
  {
   "cell_type": "code",
   "execution_count": 2,
   "metadata": {
    "kernel": "SoS",
    "papermill": {
     "duration": 2.923595,
     "end_time": "2019-12-23T17:08:07.352701",
     "exception": false,
     "start_time": "2019-12-23T17:08:04.429106",
     "status": "completed"
    },
    "tags": []
   },
   "outputs": [
    {
     "name": "stdout",
     "output_type": "stream",
     "text": [
      "\u001b[32m[\u001b[0m\u001b[32m#\u001b[0m\u001b[32m#\u001b[0m\u001b[32m]\u001b[0m 2 steps processed (2 jobs completed)\n"
     ]
    }
   ],
   "source": [
    "%preview out.md\n",
    "%runfile test.sos summarize --par 10 -v0"
   ]
  },
  {
   "cell_type": "markdown",
   "metadata": {
    "kernel": "SoS",
    "papermill": {
     "duration": 0.028413,
     "end_time": "2019-12-23T17:08:07.412629",
     "exception": false,
     "start_time": "2019-12-23T17:08:07.384216",
     "status": "completed"
    },
    "tags": []
   },
   "source": [
    "Everything looks ok, so you would like to re-run the analysis using another parameter:"
   ]
  },
  {
   "cell_type": "code",
   "execution_count": 3,
   "metadata": {
    "kernel": "SoS",
    "papermill": {
     "duration": 3.271811,
     "end_time": "2019-12-23T17:08:10.714124",
     "exception": false,
     "start_time": "2019-12-23T17:08:07.442313",
     "status": "completed"
    },
    "tags": []
   },
   "outputs": [
    {
     "name": "stdout",
     "output_type": "stream",
     "text": [
      "\u001b[32m[\u001b[0m\u001b[32m#\u001b[0m\u001b[32m]\u001b[0m 1 step processed (1 job completed)\n"
     ]
    }
   ],
   "source": [
    "%preview out.md\n",
    "%runfile test.sos summarize --par 20 -v0"
   ]
  },
  {
   "cell_type": "markdown",
   "metadata": {
    "kernel": "SoS",
    "papermill": {
     "duration": 0.025172,
     "end_time": "2019-12-23T17:08:10.765261",
     "exception": false,
     "start_time": "2019-12-23T17:08:10.740089",
     "status": "completed"
    },
    "tags": []
   },
   "source": [
    "Do you see what the problem is here? When you run the step `summarize` of the workflow and its input `out.txt` already exist, SoS will simply execute the step so the `analyze` step is not executed again."
   ]
  },
  {
   "cell_type": "markdown",
   "metadata": {
    "kernel": "SoS",
    "papermill": {
     "duration": 0.025402,
     "end_time": "2019-12-23T17:08:10.815603",
     "exception": false,
     "start_time": "2019-12-23T17:08:10.790201",
     "status": "completed"
    },
    "tags": []
   },
   "source": [
    "## A clean up step"
   ]
  },
  {
   "cell_type": "markdown",
   "metadata": {
    "kernel": "SoS",
    "papermill": {
     "duration": 0.019115,
     "end_time": "2019-12-23T17:08:10.856390",
     "exception": false,
     "start_time": "2019-12-23T17:08:10.837275",
     "status": "completed"
    },
    "tags": []
   },
   "source": [
    "A common solution to this problem is to introduce a special step to clean up intemediate files. In a GNU Make system this involves the introduction of a `clean` target, and use it to remove intermediate files with commands like\n",
    "\n",
    "```\n",
    "make target --par 10\n",
    "make clean\n",
    "make target --par 20\n",
    "```\n",
    "\n",
    "We can do something similar and create a workflow as follows:"
   ]
  },
  {
   "cell_type": "code",
   "execution_count": 4,
   "metadata": {
    "kernel": "SoS",
    "papermill": {
     "duration": 0.029928,
     "end_time": "2019-12-23T17:08:10.904938",
     "exception": false,
     "start_time": "2019-12-23T17:08:10.875010",
     "status": "completed"
    },
    "tags": []
   },
   "outputs": [
    {
     "data": {
      "text/html": [
       "<div class=\"sos_hint\">Cell content saved to <a href=\"test1.sos\" target=\"_blank\">test1.sos</a>, use option -r to also execute the cell.</div>"
      ],
      "text/plain": [
       "Cell content saved to test1.sos, use option -r to also execute the cell.\n"
      ]
     },
     "metadata": {},
     "output_type": "display_data"
    }
   ],
   "source": [
    "%save test1.sos -f\n",
    "\n",
    "[analyze]\n",
    "parameter: par=5\n",
    "output: 'out.txt'\n",
    "\n",
    "print(f'Analyze data with parameter {par}')\n",
    "with open(_output, 'w') as out:\n",
    "    out.write(f'Result from parameter {par}')\n",
    "\n",
    "[summarize]\n",
    "input: 'out.txt'    \n",
    "print(f'Writing report with input out.txt')\n",
    "report: input='out.txt', output='out.md'\n",
    "    **Summary report**\n",
    "\n",
    "[clean]\n",
    "sh:\n",
    "   echo Cleaning up\n",
    "   rm -f out.txt out.md"
   ]
  },
  {
   "cell_type": "markdown",
   "metadata": {
    "kernel": "SoS",
    "papermill": {
     "duration": 0.018927,
     "end_time": "2019-12-23T17:08:10.942822",
     "exception": false,
     "start_time": "2019-12-23T17:08:10.923895",
     "status": "completed"
    },
    "tags": []
   },
   "source": [
    "After the `clean` step, the next `summarize` step works ok."
   ]
  },
  {
   "cell_type": "code",
   "execution_count": 5,
   "metadata": {
    "kernel": "SoS",
    "papermill": {
     "duration": 7.282145,
     "end_time": "2019-12-23T17:08:18.245622",
     "exception": false,
     "start_time": "2019-12-23T17:08:10.963477",
     "status": "completed"
    },
    "tags": []
   },
   "outputs": [
    {
     "name": "stdout",
     "output_type": "stream",
     "text": [
      "\u001b[32m[\u001b[0m\u001b[97m.\u001b[0m\b \b\u001b[32m.\u001b[0m\b \b\u001b[32m#\u001b[0m\u001b[32m]\u001b[0m 1 step processed (1 job completed)\n"
     ]
    },
    {
     "name": "stdout",
     "output_type": "stream",
     "text": [
      "\u001b[32m[\u001b[0m\u001b[32m#\u001b[0m\u001b[32m#\u001b[0m\u001b[32m]\u001b[0m 2 steps processed (2 jobs completed)\n"
     ]
    }
   ],
   "source": [
    "%preview out.md\n",
    "%runfile test1.sos clean -v0\n",
    "%runfile test1.sos summarize --par 20 -v0"
   ]
  },
  {
   "cell_type": "markdown",
   "metadata": {
    "kernel": "SoS",
    "papermill": {
     "duration": 0.035742,
     "end_time": "2019-12-23T17:08:18.309869",
     "exception": false,
     "start_time": "2019-12-23T17:08:18.274127",
     "status": "completed"
    },
    "tags": []
   },
   "source": [
    "You can even execute the `clean` step before `summaize` using compound workflow as follows:"
   ]
  },
  {
   "cell_type": "code",
   "execution_count": 6,
   "metadata": {
    "kernel": "SoS",
    "papermill": {
     "duration": 5.283079,
     "end_time": "2019-12-23T17:08:23.629047",
     "exception": false,
     "start_time": "2019-12-23T17:08:18.345968",
     "status": "completed"
    },
    "tags": []
   },
   "outputs": [
    {
     "name": "stdout",
     "output_type": "stream",
     "text": [
      "\u001b[32m[\u001b[0m\u001b[97m.\u001b[0m\b \b\u001b[32m.\u001b[0m\b \b\u001b[32m#\u001b[0m\u001b[32m#\u001b[0m\u001b[32m#\u001b[0m\u001b[32m]\u001b[0m 3 steps processed (3 jobs completed)\n"
     ]
    }
   ],
   "source": [
    "%preview out.md\n",
    "%runfile test1.sos clean+summarize --par 25 -v0"
   ]
  },
  {
   "cell_type": "markdown",
   "metadata": {
    "kernel": "SoS",
    "papermill": {
     "duration": 0.034122,
     "end_time": "2019-12-23T17:08:23.695123",
     "exception": false,
     "start_time": "2019-12-23T17:08:23.661001",
     "status": "completed"
    },
    "tags": []
   },
   "source": [
    "## Dependency tracing with option `-T` "
   ]
  },
  {
   "cell_type": "markdown",
   "metadata": {
    "kernel": "SoS",
    "papermill": {
     "duration": 0.035363,
     "end_time": "2019-12-23T17:08:23.760828",
     "exception": false,
     "start_time": "2019-12-23T17:08:23.725465",
     "status": "completed"
    },
    "tags": []
   },
   "source": [
    "An easier method, perhaps unique to SoS, is to force the workflow engine to trace the dependency of existing files. More specifically, with option `-T` (trace dependency), SoS will check the input and dependent targets and see if they are the result of another step, and rerun the steps even if the targets already exist."
   ]
  },
  {
   "cell_type": "code",
   "execution_count": 7,
   "metadata": {
    "kernel": "SoS",
    "papermill": {
     "duration": 3.734659,
     "end_time": "2019-12-23T17:08:27.524284",
     "exception": false,
     "start_time": "2019-12-23T17:08:23.789625",
     "status": "completed"
    },
    "tags": []
   },
   "outputs": [
    {
     "name": "stdout",
     "output_type": "stream",
     "text": [
      "\u001b[32m[\u001b[0m\u001b[32m#\u001b[0m\u001b[32m#\u001b[0m\u001b[32m]\u001b[0m 2 steps processed (2 jobs completed)\n"
     ]
    }
   ],
   "source": [
    "%preview out.md\n",
    "%runfile test.sos summarize --par 26 -T -v0"
   ]
  },
  {
   "cell_type": "markdown",
   "metadata": {
    "kernel": "SoS",
    "papermill": {
     "duration": 0.020478,
     "end_time": "2019-12-23T17:08:27.566808",
     "exception": false,
     "start_time": "2019-12-23T17:08:27.546330",
     "status": "completed"
    },
    "tags": []
   },
   "source": [
    "In addition to avoiding the trouble of a `clean` step, this method is also more performant, because the `analyze` step will be ignored if its signature matches. This can be shown by running the same step twice as follows:"
   ]
  },
  {
   "cell_type": "code",
   "execution_count": 8,
   "metadata": {
    "kernel": "SoS",
    "papermill": {
     "duration": 3.301124,
     "end_time": "2019-12-23T17:08:30.889849",
     "exception": false,
     "start_time": "2019-12-23T17:08:27.588725",
     "status": "completed"
    },
    "tags": []
   },
   "outputs": [
    {
     "name": "stdout",
     "output_type": "stream",
     "text": [
      "Writing report with input out.txt\n"
     ]
    }
   ],
   "source": [
    "%runfile test.sos summarize --par 26 -T "
   ]
  },
  {
   "cell_type": "markdown",
   "metadata": {
    "kernel": "SoS",
    "papermill": {
     "duration": 0.034122,
     "end_time": "2019-12-23T17:08:30.954944",
     "exception": false,
     "start_time": "2019-12-23T17:08:30.920822",
     "status": "completed"
    },
    "tags": []
   },
   "source": [
    "Because `out.txt` was generated with `par=26`, rerunning the workflow will not reproduce `out.txt`. This is clearly better than the `clean` approach, which will force the re-execution of the `analyze` step."
   ]
  },
  {
   "cell_type": "markdown",
   "metadata": {
    "kernel": "SoS",
    "papermill": {
     "duration": 0.032214,
     "end_time": "2019-12-23T17:08:31.017854",
     "exception": false,
     "start_time": "2019-12-23T17:08:30.985640",
     "status": "completed"
    },
    "tags": []
   },
   "source": [
    "## Forcing dependency tracing of selected files"
   ]
  },
  {
   "cell_type": "markdown",
   "metadata": {
    "kernel": "SoS",
    "papermill": {
     "duration": 0.0304,
     "end_time": "2019-12-23T17:08:31.077276",
     "exception": false,
     "start_time": "2019-12-23T17:08:31.046876",
     "status": "completed"
    },
    "tags": []
   },
   "source": [
    "<div class=\"bs-callout bs-callout-primary\" role=\"alert\">\n",
    "    <h4><code>traced</code> target</h4>\n",
    "    <p>A <code>traced</code> target (e.g. <code>traced('out.txt')</code>) will always be verified or re-generated even if it already exists. The function converts its parameters to a <code>sos_targets</code> object and marks all its targets. Therefore, it accepts all parameters of <code>sos_targets()</code> and you can use it in the formats of<p>\n",
    "    <pre>\n",
    "    traced('a.txt')\n",
    "    traced('a.txt', 'b.txt')\n",
    "    traced(A='a.txt', B='b.txt')\n",
    "    ...\n",
    "    </pre>\n",
    "</div>"
   ]
  },
  {
   "cell_type": "markdown",
   "metadata": {
    "kernel": "SoS",
    "papermill": {
     "duration": 0.030073,
     "end_time": "2019-12-23T17:08:31.138533",
     "exception": false,
     "start_time": "2019-12-23T17:08:31.108460",
     "status": "completed"
    },
    "tags": []
   },
   "source": [
    "The `-T` option is convenient but can be slow if your workflow handles a large amount of files because SoS will need to determine the dependent steps of all input and dependent files. In addition, users of your workflow may still produce erroneous output if they do not know the `-T` option.\n",
    "\n",
    "If some intermediate files are important and you always want to make sure that they are up to date, you can mark them as `traced` by wrapping them in the `traced` function."
   ]
  },
  {
   "cell_type": "code",
   "execution_count": 9,
   "metadata": {
    "kernel": "SoS",
    "papermill": {
     "duration": 0.033524,
     "end_time": "2019-12-23T17:08:31.195279",
     "exception": false,
     "start_time": "2019-12-23T17:08:31.161755",
     "status": "completed"
    },
    "tags": []
   },
   "outputs": [
    {
     "data": {
      "text/html": [
       "<div class=\"sos_hint\">Cell content saved to <a href=\"test_traced.sos\" target=\"_blank\">test_traced.sos</a>, use option -r to also execute the cell.</div>"
      ],
      "text/plain": [
       "Cell content saved to test_traced.sos, use option -r to also execute the cell.\n"
      ]
     },
     "metadata": {},
     "output_type": "display_data"
    }
   ],
   "source": [
    "%save test_traced.sos -f\n",
    "\n",
    "[analyze]\n",
    "parameter: par=5\n",
    "output: 'out.txt'\n",
    "\n",
    "print(f'Analyze data with parameter {par}')\n",
    "with open(_output, 'w') as out:\n",
    "    out.write(f'Result from parameter {par}')\n",
    "\n",
    "[summarize]\n",
    "input: traced('out.txt')\n",
    "print(f'Writing report with input out.txt')\n",
    "report: input='out.txt', output='out.md'\n",
    "    **Summary report**\n",
    "\n",
    "[clean]\n",
    "sh:\n",
    "   echo Cleaning up\n",
    "   rm -f out.txt out.md"
   ]
  },
  {
   "cell_type": "markdown",
   "metadata": {
    "kernel": "SoS",
    "papermill": {
     "duration": 0.022739,
     "end_time": "2019-12-23T17:08:31.240952",
     "exception": false,
     "start_time": "2019-12-23T17:08:31.218213",
     "status": "completed"
    },
    "tags": []
   },
   "source": [
    "Now, when you execute this workflow, the `analyze` step will always be executed (or ignored if signature matches) to ensure the integrity of `out.txt`."
   ]
  },
  {
   "cell_type": "code",
   "execution_count": 10,
   "metadata": {
    "kernel": "SoS",
    "papermill": {
     "duration": 3.292727,
     "end_time": "2019-12-23T17:08:34.561220",
     "exception": false,
     "start_time": "2019-12-23T17:08:31.268493",
     "status": "completed"
    },
    "tags": []
   },
   "outputs": [
    {
     "name": "stdout",
     "output_type": "stream",
     "text": [
      "\u001b[32m[\u001b[0m\u001b[32m#\u001b[0m\u001b[32m#\u001b[0m\u001b[32m]\u001b[0m 2 steps processed (2 jobs completed)\n"
     ]
    }
   ],
   "source": [
    "%preview out.md\n",
    "%runfile test_traced.sos summarize --par 3 -v0"
   ]
  },
  {
   "cell_type": "code",
   "execution_count": 11,
   "metadata": {
    "kernel": "SoS",
    "papermill": {
     "duration": 2.758598,
     "end_time": "2019-12-23T17:08:37.341408",
     "exception": false,
     "start_time": "2019-12-23T17:08:34.582810",
     "status": "completed"
    },
    "tags": []
   },
   "outputs": [
    {
     "name": "stdout",
     "output_type": "stream",
     "text": [
      "\u001b[32m[\u001b[0m\u001b[32m#\u001b[0m\u001b[32m#\u001b[0m\u001b[32m]\u001b[0m 2 steps processed (2 jobs completed)\n"
     ]
    }
   ],
   "source": [
    "%preview out.md\n",
    "%runfile test_traced.sos summarize --par 4 -v0"
   ]
  },
  {
   "cell_type": "code",
   "execution_count": 12,
   "metadata": {
    "kernel": "SoS",
    "papermill": {
     "duration": 2.974206,
     "end_time": "2019-12-23T17:08:40.337515",
     "exception": false,
     "start_time": "2019-12-23T17:08:37.363309",
     "status": "completed"
    },
    "tags": []
   },
   "outputs": [
    {
     "name": "stdout",
     "output_type": "stream",
     "text": [
      "\u001b[32m[\u001b[0m\u001b[90m#\u001b[0m\u001b[32m#\u001b[0m\u001b[32m]\u001b[0m 2 steps processed (1 job completed, 1 job ignored)\n"
     ]
    }
   ],
   "source": [
    "%preview out.md\n",
    "%runfile test_traced.sos summarize --par 4 -v0"
   ]
  },
  {
   "cell_type": "markdown",
   "metadata": {
    "kernel": "SoS",
    "papermill": {
     "duration": 0.021738,
     "end_time": "2019-12-23T17:08:40.385681",
     "exception": false,
     "start_time": "2019-12-23T17:08:40.363943",
     "status": "completed"
    },
    "tags": []
   },
   "source": [
    "Note that the `analyze` step is ignored in the last case so you do not lose any productivity by rerunning the `analyze` step."
   ]
  },
  {
   "cell_type": "markdown",
   "metadata": {
    "kernel": "SoS",
    "papermill": {
     "duration": 0.023641,
     "end_time": "2019-12-23T17:08:40.433326",
     "exception": false,
     "start_time": "2019-12-23T17:08:40.409685",
     "status": "completed"
    },
    "tags": []
   },
   "source": [
    "## Further reading\n",
    "\n",
    "* [How to create dependencies between SoS steps](doc/user_guide/step_dependencies.html)"
   ]
  }
 ],
 "metadata": {
  "kernelspec": {
   "display_name": "SoS",
   "language": "sos",
   "name": "sos"
  },
  "language_info": {
   "codemirror_mode": "sos",
   "file_extension": ".sos",
   "mimetype": "text/x-sos",
   "name": "sos",
   "nbconvert_exporter": "sos_notebook.converter.SoS_Exporter",
   "pygments_lexer": "sos"
  },
  "papermill": {
   "duration": 45.693987,
   "end_time": "2019-12-23T17:08:45.633676",
   "environment_variables": {},
   "exception": null,
   "input_path": "/Users/bpeng1/sos/sos-docs/src/user_guide/trace_dependency.ipynb",
   "output_path": "trace_dependency.ipynb_rerun.ipynb",
   "parameters": {},
   "start_time": "2019-12-23T17:07:59.939689",
   "version": "1.1.0"
  },
  "sos": {
   "kernels": [
    [
     "Bash",
     "bash",
     "Bash",
     "#E6EEFF"
    ],
    [
     "R",
     "ir",
     "R",
     "#DCDCDA"
    ],
    [
     "SoS",
     "sos",
     "",
     ""
    ]
   ],
   "panel": {
    "displayed": true,
    "height": 0
   },
   "version": "0.18.5"
  }
 },
 "nbformat": 4,
 "nbformat_minor": 2
}