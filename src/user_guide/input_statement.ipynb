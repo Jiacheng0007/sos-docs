{
 "cells": [
  {
   "cell_type": "markdown",
   "metadata": {
    "kernel": "SoS",
    "papermill": {
     "duration": 0.027709,
     "end_time": "2019-12-23T17:02:24.374836",
     "exception": false,
     "start_time": "2019-12-23T17:02:24.347127",
     "status": "completed"
    },
    "tags": []
   },
   "source": [
    "# How to define step input"
   ]
  },
  {
   "cell_type": "markdown",
   "metadata": {
    "kernel": "SoS",
    "papermill": {
     "duration": 0.023294,
     "end_time": "2019-12-23T17:02:24.422877",
     "exception": false,
     "start_time": "2019-12-23T17:02:24.399583",
     "status": "completed"
    },
    "tags": []
   },
   "source": [
    "* **Difficulty level**: intermediate\n",
    "* **Time need to lean**: 30 minutes or less\n",
    "* **Key points**:\n",
    "  * Input statements accepts regular Python aguments to specify input targets of steps\n",
    "  * Input files can be grouped to create substeps, and can be labeled and be accessed by the labels\n",
    "  * A step can include part or all output from other steps\n",
    "  * You can attach variables to individual input files or substeps  "
   ]
  },
  {
   "cell_type": "markdown",
   "metadata": {
    "kernel": "SoS",
    "papermill": {
     "duration": 0.022854,
     "end_time": "2019-12-23T17:02:24.470769",
     "exception": false,
     "start_time": "2019-12-23T17:02:24.447915",
     "status": "completed"
    },
    "tags": []
   },
   "source": [
    "The `input` statement defines the input files or targets of a SoS step, it is optional but is fundamental for the creation of all but very simple workflows. You can check out the [How to create dependencies between SoS steps](doc/user_guide/step_dependencies.html) tutorial for a quick overview of the use of input statements. Here we list what you can put in the `input` statement of a step with simple examples and you should refer to other tutorials for more in-depth discussions of the topics."
   ]
  },
  {
   "cell_type": "markdown",
   "metadata": {
    "kernel": "SoS",
    "papermill": {
     "duration": 0.025132,
     "end_time": "2019-12-23T17:02:24.520628",
     "exception": false,
     "start_time": "2019-12-23T17:02:24.495496",
     "status": "completed"
    },
    "tags": []
   },
   "source": [
    "## Steps with no input statement"
   ]
  },
  {
   "cell_type": "markdown",
   "metadata": {
    "kernel": "SoS",
    "papermill": {
     "duration": 0.023434,
     "end_time": "2019-12-23T17:02:24.569372",
     "exception": false,
     "start_time": "2019-12-23T17:02:24.545938",
     "status": "completed"
    },
    "tags": []
   },
   "source": [
    "The `input` statement is optional. When no input file is defined, a step will either have undefined input, or output from its previous step as its input. "
   ]
  },
  {
   "cell_type": "markdown",
   "metadata": {
    "kernel": "SoS",
    "papermill": {
     "duration": 0.024762,
     "end_time": "2019-12-23T17:02:24.617452",
     "exception": false,
     "start_time": "2019-12-23T17:02:24.592690",
     "status": "completed"
    },
    "tags": []
   },
   "source": [
    "For example, the following workflow has a step `A` that execute a simple shell script. No input statement is needed and the workflow will work just fine."
   ]
  },
  {
   "cell_type": "code",
   "execution_count": 1,
   "metadata": {
    "kernel": "SoS",
    "papermill": {
     "duration": 3.630108,
     "end_time": "2019-12-23T17:02:28.271125",
     "exception": false,
     "start_time": "2019-12-23T17:02:24.641017",
     "status": "completed"
    },
    "tags": []
   },
   "outputs": [
    {
     "name": "stdout",
     "output_type": "stream",
     "text": [
      "do something\n"
     ]
    }
   ],
   "source": [
    "%run A -v1\n",
    "[A]\n",
    "sh:\n",
    "  echo do something"
   ]
  },
  {
   "cell_type": "markdown",
   "metadata": {
    "kernel": "SoS",
    "papermill": {
     "duration": 0.025966,
     "end_time": "2019-12-23T17:02:28.327477",
     "exception": false,
     "start_time": "2019-12-23T17:02:28.301511",
     "status": "completed"
    },
    "tags": []
   },
   "source": [
    "In a special case when a workflow is defined with numerically indexed steps, a step without input statement will depend on its previous step and take its output as its input. Here we just present a very simple example and you will see more complex examples in other tutorials."
   ]
  },
  {
   "cell_type": "code",
   "execution_count": 2,
   "metadata": {
    "kernel": "SoS",
    "papermill": {
     "duration": 2.764541,
     "end_time": "2019-12-23T17:02:31.120365",
     "exception": false,
     "start_time": "2019-12-23T17:02:28.355824",
     "status": "completed"
    },
    "tags": []
   },
   "outputs": [
    {
     "name": "stdout",
     "output_type": "stream",
     "text": [
      "\u001b[32m[\u001b[0m\u001b[32m#\u001b[0m\u001b[32m#\u001b[0m\u001b[32m]\u001b[0m 2 steps processed (2 jobs completed)\n"
     ]
    }
   ],
   "source": [
    "%run  -v0\n",
    "\n",
    "[step_10]\n",
    "output: 'a.txt'\n",
    "_output.touch()\n",
    "\n",
    "[step_20]\n",
    "print(f'The input of this step is {step_input}')"
   ]
  },
  {
   "cell_type": "markdown",
   "metadata": {
    "kernel": "SoS",
    "papermill": {
     "duration": 0.023203,
     "end_time": "2019-12-23T17:02:31.167362",
     "exception": false,
     "start_time": "2019-12-23T17:02:31.144159",
     "status": "completed"
    },
    "tags": []
   },
   "source": [
    "## Unnamed input files"
   ]
  },
  {
   "cell_type": "markdown",
   "metadata": {
    "kernel": "SoS",
    "papermill": {
     "duration": 0.024118,
     "end_time": "2019-12-23T17:02:31.214911",
     "exception": false,
     "start_time": "2019-12-23T17:02:31.190793",
     "status": "completed"
    },
    "tags": []
   },
   "source": [
    "The easiest way to explicitly specify input of a step is to list input files directly in the `input` statement. Because SoS  checks the existence of input files when it executes a step, let us first create a few files:"
   ]
  },
  {
   "cell_type": "code",
   "execution_count": 3,
   "metadata": {
    "kernel": "SoS",
    "papermill": {
     "duration": 0.776838,
     "end_time": "2019-12-23T17:02:32.016979",
     "exception": false,
     "start_time": "2019-12-23T17:02:31.240141",
     "status": "completed"
    },
    "tags": []
   },
   "outputs": [],
   "source": [
    "# create some sample files\n",
    "!touch a.txt b.txt c.txt d.txt"
   ]
  },
  {
   "cell_type": "markdown",
   "metadata": {
    "kernel": "SoS",
    "papermill": {
     "duration": 0.026032,
     "end_time": "2019-12-23T17:02:32.082174",
     "exception": false,
     "start_time": "2019-12-23T17:02:32.056142",
     "status": "completed"
    },
    "tags": []
   },
   "source": [
    "The following is a SoS step (with a default section head) with a `input` statement, which results in a `step_input` variable with a single file `a.txt`:"
   ]
  },
  {
   "cell_type": "code",
   "execution_count": 4,
   "metadata": {
    "kernel": "SoS",
    "papermill": {
     "duration": 0.046561,
     "end_time": "2019-12-23T17:02:32.153444",
     "exception": false,
     "start_time": "2019-12-23T17:02:32.106883",
     "status": "completed"
    },
    "tags": []
   },
   "outputs": [
    {
     "name": "stdout",
     "output_type": "stream",
     "text": [
      "step_input is a.txt"
     ]
    },
    {
     "name": "stdout",
     "output_type": "stream",
     "text": [
      "\n"
     ]
    }
   ],
   "source": [
    "input: 'a.txt'\n",
    "print(f'step_input is {step_input}')"
   ]
  },
  {
   "cell_type": "markdown",
   "metadata": {
    "kernel": "SoS",
    "papermill": {
     "duration": 0.02498,
     "end_time": "2019-12-23T17:02:32.203047",
     "exception": false,
     "start_time": "2019-12-23T17:02:32.178067",
     "status": "completed"
    },
    "tags": []
   },
   "source": [
    "Multiple files can be listed as multiple paramters, sequences (`list`, `tuple` etc), or variables of string or sequence types. For example, you can define a parameter `in_files` of type `paths` (list of `path`) and specify input files from command line:"
   ]
  },
  {
   "cell_type": "code",
   "execution_count": 5,
   "metadata": {
    "kernel": "SoS",
    "papermill": {
     "duration": 2.853586,
     "end_time": "2019-12-23T17:02:35.082230",
     "exception": false,
     "start_time": "2019-12-23T17:02:32.228644",
     "status": "completed"
    },
    "tags": []
   },
   "outputs": [
    {
     "name": "stdout",
     "output_type": "stream",
     "text": [
      "\u001b[32m[\u001b[0m\u001b[32m#\u001b[0m\u001b[32m]\u001b[0m 1 step processed (1 job completed)\n"
     ]
    }
   ],
   "source": [
    "%run --in-files a.txt b.txt -v0\n",
    "parameter: in_files = list\n",
    "input: in_files\n",
    "\n",
    "print(f'step_input is {step_input}')"
   ]
  },
  {
   "cell_type": "markdown",
   "metadata": {
    "kernel": "SoS",
    "papermill": {
     "duration": 0.02744,
     "end_time": "2019-12-23T17:02:35.137126",
     "exception": false,
     "start_time": "2019-12-23T17:02:35.109686",
     "status": "completed"
    },
    "tags": []
   },
   "source": [
    "You can list multiple files, mix string literals with variable names, "
   ]
  },
  {
   "cell_type": "code",
   "execution_count": 6,
   "metadata": {
    "kernel": "SoS",
    "papermill": {
     "duration": 0.042111,
     "end_time": "2019-12-23T17:02:35.206365",
     "exception": false,
     "start_time": "2019-12-23T17:02:35.164254",
     "status": "completed"
    },
    "tags": []
   },
   "outputs": [
    {
     "name": "stdout",
     "output_type": "stream",
     "text": [
      "step_input is a.txt b.txt c.txt d.txt"
     ]
    },
    {
     "name": "stdout",
     "output_type": "stream",
     "text": [
      "\n"
     ]
    }
   ],
   "source": [
    "in_files = ['a.txt', 'b.txt']\n",
    "input: in_files, 'c.txt', 'd.txt'\n",
    "\n",
    "print(f'step_input is {step_input}')"
   ]
  },
  {
   "cell_type": "markdown",
   "metadata": {
    "kernel": "SoS",
    "papermill": {
     "duration": 0.028571,
     "end_time": "2019-12-23T17:02:35.261892",
     "exception": false,
     "start_time": "2019-12-23T17:02:35.233321",
     "status": "completed"
    },
    "tags": []
   },
   "source": [
    "Because steps in these examples do not have any substep, it is equivalent to use variable `_input` instead of `step_input`."
   ]
  },
  {
   "cell_type": "markdown",
   "metadata": {
    "kernel": "SoS",
    "papermill": {
     "duration": 0.026969,
     "end_time": "2019-12-23T17:02:35.320804",
     "exception": false,
     "start_time": "2019-12-23T17:02:35.293835",
     "status": "completed"
    },
    "tags": []
   },
   "source": [
    "## Substep created by option `group_by`"
   ]
  },
  {
   "cell_type": "markdown",
   "metadata": {
    "kernel": "SoS",
    "papermill": {
     "duration": 0.030494,
     "end_time": "2019-12-23T17:02:35.380204",
     "exception": false,
     "start_time": "2019-12-23T17:02:35.349710",
     "status": "completed"
    },
    "tags": []
   },
   "source": [
    "A step can be executed multiple times with different variables, which are called **substeps**. The input of each substep is assigned to variable `_input`. The most common way to define substeps are using option `group_by` to group input files.\n",
    "\n",
    "For example,"
   ]
  },
  {
   "cell_type": "code",
   "execution_count": 7,
   "metadata": {
    "kernel": "SoS",
    "papermill": {
     "duration": 0.068745,
     "end_time": "2019-12-23T17:02:35.478018",
     "exception": false,
     "start_time": "2019-12-23T17:02:35.409273",
     "status": "completed"
    },
    "tags": []
   },
   "outputs": [
    {
     "name": "stdout",
     "output_type": "stream",
     "text": [
      "Input of substep is a.txt b.txt\n"
     ]
    },
    {
     "name": "stdout",
     "output_type": "stream",
     "text": [
      "Input of substep is c.txt d.txt\n"
     ]
    }
   ],
   "source": [
    "input: 'a.txt', 'b.txt', 'c.txt', 'd.txt', group_by=2\n",
    "print(f'Input of substep is {_input}')"
   ]
  },
  {
   "cell_type": "markdown",
   "metadata": {
    "kernel": "SoS",
    "papermill": {
     "duration": 0.029216,
     "end_time": "2019-12-23T17:02:35.534625",
     "exception": false,
     "start_time": "2019-12-23T17:02:35.505409",
     "status": "completed"
    },
    "tags": []
   },
   "source": [
    "## Substep craeted by option `for_each`"
   ]
  },
  {
   "cell_type": "markdown",
   "metadata": {
    "kernel": "SoS",
    "papermill": {
     "duration": 0.026352,
     "end_time": "2019-12-23T17:02:35.590158",
     "exception": false,
     "start_time": "2019-12-23T17:02:35.563806",
     "status": "completed"
    },
    "tags": []
   },
   "source": [
    "Another way to create substeps are repeating the step with different values of a variable. For example, in the following example, a variable `val` is defined to iterate through a list `[1, 2]` and it will create two substeps with `val=1` and `val=2` respectively."
   ]
  },
  {
   "cell_type": "code",
   "execution_count": 8,
   "metadata": {
    "kernel": "SoS",
    "papermill": {
     "duration": 0.060947,
     "end_time": "2019-12-23T17:02:35.679795",
     "exception": false,
     "start_time": "2019-12-23T17:02:35.618848",
     "status": "completed"
    },
    "tags": []
   },
   "outputs": [
    {
     "name": "stdout",
     "output_type": "stream",
     "text": [
      "Processing a.txt with 1\n"
     ]
    },
    {
     "name": "stdout",
     "output_type": "stream",
     "text": [
      "Processing a.txt with 2\n"
     ]
    }
   ],
   "source": [
    "input: 'a.txt', for_each=dict(val=[1, 2])\n",
    "print(f'Processing {_input} with {val}')"
   ]
  },
  {
   "cell_type": "markdown",
   "metadata": {
    "kernel": "SoS",
    "papermill": {
     "duration": 0.030224,
     "end_time": "2019-12-23T17:02:35.739560",
     "exception": false,
     "start_time": "2019-12-23T17:02:35.709336",
     "status": "completed"
    },
    "tags": []
   },
   "source": [
    "## Named input"
   ]
  },
  {
   "cell_type": "markdown",
   "metadata": {
    "kernel": "SoS",
    "papermill": {
     "duration": 0.027525,
     "end_time": "2019-12-23T17:02:35.794181",
     "exception": false,
     "start_time": "2019-12-23T17:02:35.766656",
     "status": "completed"
    },
    "tags": []
   },
   "source": [
    "You can assign subsets of your input files some labels and refer to these subsets with the labels."
   ]
  },
  {
   "cell_type": "code",
   "execution_count": 9,
   "metadata": {
    "kernel": "SoS",
    "papermill": {
     "duration": 0.041371,
     "end_time": "2019-12-23T17:02:35.864017",
     "exception": false,
     "start_time": "2019-12-23T17:02:35.822646",
     "status": "completed"
    },
    "tags": []
   },
   "outputs": [
    {
     "name": "stdout",
     "output_type": "stream",
     "text": [
      "Step input is a.txt b.txt. Inputs with label A is a.txt. Input with label B is b.txt"
     ]
    },
    {
     "name": "stdout",
     "output_type": "stream",
     "text": [
      "\n"
     ]
    }
   ],
   "source": [
    "input: A='a.txt', B='b.txt'\n",
    "print(f'Step input is {_input}. Inputs with label A is {_input[\"A\"]}. Input with label B is {_input[\"B\"]}')"
   ]
  },
  {
   "cell_type": "markdown",
   "metadata": {
    "kernel": "SoS",
    "papermill": {
     "duration": 0.029323,
     "end_time": "2019-12-23T17:02:35.921006",
     "exception": false,
     "start_time": "2019-12-23T17:02:35.891683",
     "status": "completed"
    },
    "tags": []
   },
   "source": [
    "## Attach variables to individual input files"
   ]
  },
  {
   "cell_type": "markdown",
   "metadata": {
    "kernel": "SoS",
    "papermill": {
     "duration": 0.028907,
     "end_time": "2019-12-23T17:02:35.979177",
     "exception": false,
     "start_time": "2019-12-23T17:02:35.950270",
     "status": "completed"
    },
    "tags": []
   },
   "source": [
    "Variables `step_input` and `_input` are of type `sos_targets`, which consists of SoS targets, most of which are `file_targets`. All targets have a dictionary that can be used to store attributes related to them.\n",
    "\n",
    "For example, by pairing a list of sample names to a list of input files, the attribute `sample_name` is attached to each input file and can be accessible through `.sample_name`."
   ]
  },
  {
   "cell_type": "code",
   "execution_count": 10,
   "metadata": {
    "kernel": "SoS",
    "papermill": {
     "duration": 0.041787,
     "end_time": "2019-12-23T17:02:36.048604",
     "exception": false,
     "start_time": "2019-12-23T17:02:36.006817",
     "status": "completed"
    },
    "tags": []
   },
   "outputs": [
    {
     "name": "stdout",
     "output_type": "stream",
     "text": [
      "Input of substep is a.txt b.txt, with sample names A and B"
     ]
    },
    {
     "name": "stdout",
     "output_type": "stream",
     "text": [
      "\n"
     ]
    }
   ],
   "source": [
    "input: 'a.txt', 'b.txt', paired_with=dict(sample_name=['A', 'B'])\n",
    "print(f'Input of substep is {_input}, with sample names {_input[0].sample_name} and {_input[1].sample_name}')\n"
   ]
  },
  {
   "cell_type": "markdown",
   "metadata": {
    "kernel": "SoS",
    "papermill": {
     "duration": 0.040642,
     "end_time": "2019-12-23T17:02:36.121419",
     "exception": false,
     "start_time": "2019-12-23T17:02:36.080777",
     "status": "completed"
    },
    "tags": []
   },
   "source": [
    "The variables are attached to individual input files so they will be available with the files in substeps:"
   ]
  },
  {
   "cell_type": "code",
   "execution_count": 11,
   "metadata": {
    "kernel": "SoS",
    "papermill": {
     "duration": 0.134402,
     "end_time": "2019-12-23T17:02:36.294465",
     "exception": false,
     "start_time": "2019-12-23T17:02:36.160063",
     "status": "completed"
    },
    "tags": []
   },
   "outputs": [
    {
     "name": "stdout",
     "output_type": "stream",
     "text": [
      "Input of substep is a.txt, with sample names A\n"
     ]
    },
    {
     "name": "stdout",
     "output_type": "stream",
     "text": [
      "Input of substep is b.txt, with sample names B\n"
     ]
    }
   ],
   "source": [
    "input: 'a.txt', 'b.txt', paired_with=dict(sample_name=['A', 'B']), group_by=1\n",
    "print(f'Input of substep is {_input}, with sample names {_input[0].sample_name}')"
   ]
  },
  {
   "cell_type": "markdown",
   "metadata": {
    "kernel": "SoS",
    "papermill": {
     "duration": 0.032562,
     "end_time": "2019-12-23T17:02:36.357966",
     "exception": false,
     "start_time": "2019-12-23T17:02:36.325404",
     "status": "completed"
    },
    "tags": []
   },
   "source": [
    "## Attach variables to substeps"
   ]
  },
  {
   "cell_type": "markdown",
   "metadata": {
    "kernel": "SoS",
    "papermill": {
     "duration": 0.04234,
     "end_time": "2019-12-23T17:02:36.430137",
     "exception": false,
     "start_time": "2019-12-23T17:02:36.387797",
     "status": "completed"
    },
    "tags": []
   },
   "source": [
    "When we group input files, we can attach attribute to the entire group presented by variable `_input`. This is done through option `group_with`.\n",
    "\n",
    "For example, in the following workflow, 4 files are grouped into two groups each with two files. The two groups are attached with items in list `['AB', 'CD']` with name `sample_name`, and can be accessed with `_input.sample_name`."
   ]
  },
  {
   "cell_type": "code",
   "execution_count": 12,
   "metadata": {
    "kernel": "SoS",
    "papermill": {
     "duration": 0.132607,
     "end_time": "2019-12-23T17:02:36.599762",
     "exception": false,
     "start_time": "2019-12-23T17:02:36.467155",
     "status": "completed"
    },
    "tags": []
   },
   "outputs": [
    {
     "name": "stdout",
     "output_type": "stream",
     "text": [
      "Input of substep is a.txt b.txt, with sample name AB\n"
     ]
    },
    {
     "name": "stdout",
     "output_type": "stream",
     "text": [
      "Input of substep is c.txt d.txt, with sample name CD\n"
     ]
    }
   ],
   "source": [
    "input: 'a.txt', 'b.txt', 'c.txt', 'd.txt', group_with=dict(sample_name=['AB', 'CD']), group_by=2\n",
    "print(f'Input of substep is {_input}, with sample name {_input.sample_name}')"
   ]
  },
  {
   "cell_type": "markdown",
   "metadata": {
    "kernel": "SoS",
    "papermill": {
     "duration": 0.037101,
     "end_time": "2019-12-23T17:02:36.674956",
     "exception": false,
     "start_time": "2019-12-23T17:02:36.637855",
     "status": "completed"
    },
    "tags": []
   },
   "source": [
    "For simplicity (and backward compatibility), the substep variables can be accessed directly in substeps so that you can use `sample_name` instead of `_input.sample_name`."
   ]
  },
  {
   "cell_type": "code",
   "execution_count": 13,
   "metadata": {
    "kernel": "SoS",
    "papermill": {
     "duration": 0.095405,
     "end_time": "2019-12-23T17:02:36.808795",
     "exception": false,
     "start_time": "2019-12-23T17:02:36.713390",
     "status": "completed"
    },
    "tags": []
   },
   "outputs": [
    {
     "name": "stdout",
     "output_type": "stream",
     "text": [
      "Input of substep is a.txt b.txt, with sample name AB\n"
     ]
    },
    {
     "name": "stdout",
     "output_type": "stream",
     "text": [
      "Input of substep is c.txt d.txt, with sample name CD\n"
     ]
    }
   ],
   "source": [
    "input: 'a.txt', 'b.txt', 'c.txt', 'd.txt', group_with=dict(sample_name=['AB', 'CD']), group_by=2\n",
    "print(f'Input of substep is {_input}, with sample name {sample_name}')"
   ]
  },
  {
   "cell_type": "markdown",
   "metadata": {
    "kernel": "SoS",
    "papermill": {
     "duration": 0.044637,
     "end_time": "2019-12-23T17:02:36.887652",
     "exception": false,
     "start_time": "2019-12-23T17:02:36.843015",
     "status": "completed"
    },
    "tags": []
   },
   "source": [
    "## Named input with function `named_input`"
   ]
  },
  {
   "cell_type": "markdown",
   "metadata": {
    "kernel": "SoS",
    "papermill": {
     "duration": 0.035453,
     "end_time": "2019-12-23T17:02:36.956451",
     "exception": false,
     "start_time": "2019-12-23T17:02:36.920998",
     "status": "completed"
    },
    "tags": []
   },
   "source": [
    "The input statement accept python functions. A function `named_input` is defined to include named output from another step."
   ]
  },
  {
   "cell_type": "code",
   "execution_count": 14,
   "metadata": {
    "kernel": "SoS",
    "papermill": {
     "duration": 2.887786,
     "end_time": "2019-12-23T17:02:39.880890",
     "exception": false,
     "start_time": "2019-12-23T17:02:36.993104",
     "status": "completed"
    },
    "tags": []
   },
   "outputs": [
    {
     "name": "stdout",
     "output_type": "stream",
     "text": [
      "\u001b[32m[\u001b[0m\u001b[32m#\u001b[0m\u001b[32m#\u001b[0m\u001b[32m]\u001b[0m 2 steps processed (2 jobs completed)\n"
     ]
    }
   ],
   "source": [
    "%run -v0\n",
    "\n",
    "[A]\n",
    "output: summary='output.html'\n",
    "_output.touch()\n",
    "\n",
    "[default]\n",
    "input: named_output('summary')\n",
    "print(f'Input of the step is {_input}')"
   ]
  },
  {
   "cell_type": "markdown",
   "metadata": {
    "kernel": "SoS",
    "papermill": {
     "duration": 0.036195,
     "end_time": "2019-12-23T17:02:39.958229",
     "exception": false,
     "start_time": "2019-12-23T17:02:39.922034",
     "status": "completed"
    },
    "tags": []
   },
   "source": [
    "## Output from another step using function `output_from`"
   ]
  },
  {
   "cell_type": "markdown",
   "metadata": {
    "kernel": "SoS",
    "papermill": {
     "duration": 0.031389,
     "end_time": "2019-12-23T17:02:40.022774",
     "exception": false,
     "start_time": "2019-12-23T17:02:39.991385",
     "status": "completed"
    },
    "tags": []
   },
   "source": [
    "`named_output` can be used to refer to part of, if multiple named output exists, or all of the output from a step. Similarly, a function `output_from` can be used to include complete output from specified step:"
   ]
  },
  {
   "cell_type": "code",
   "execution_count": 15,
   "metadata": {
    "kernel": "SoS",
    "papermill": {
     "duration": 2.915479,
     "end_time": "2019-12-23T17:02:42.975990",
     "exception": false,
     "start_time": "2019-12-23T17:02:40.060511",
     "status": "completed"
    },
    "tags": []
   },
   "outputs": [
    {
     "name": "stdout",
     "output_type": "stream",
     "text": [
      "\u001b[32m[\u001b[0m\u001b[32m#\u001b[0m\u001b[32m#\u001b[0m\u001b[32m]\u001b[0m 2 steps processed (2 jobs completed)\n"
     ]
    }
   ],
   "source": [
    "%run -v0\n",
    "\n",
    "[A]\n",
    "output: 'output.html'\n",
    "_output.touch()\n",
    "\n",
    "[default]\n",
    "input: output_from('A')\n",
    "print(f'Input of the step is {_input}')"
   ]
  },
  {
   "cell_type": "markdown",
   "metadata": {
    "kernel": "SoS",
    "papermill": {
     "duration": 0.05337,
     "end_time": "2019-12-23T17:02:43.080399",
     "exception": false,
     "start_time": "2019-12-23T17:02:43.027029",
     "status": "completed"
    },
    "tags": []
   },
   "source": [
    "## Further reading\n",
    "\n",
    "* [How to specify input and output files and process input files in groups](doc/user_guide/input_substeps.html) for basics of step and substeps.\n",
    "* [How to process input files in groups](doc/user_guide/group_by.html) for option `group_by`, and\n",
    "* [How to repeat steps for different parameters](doc/user_guide/for_each.html) for option `for_each`"
   ]
  }
 ],
 "metadata": {
  "kernelspec": {
   "display_name": "SoS",
   "language": "sos",
   "name": "sos"
  },
  "language_info": {
   "codemirror_mode": "sos",
   "file_extension": ".sos",
   "mimetype": "text/x-sos",
   "name": "sos",
   "nbconvert_exporter": "sos_notebook.converter.SoS_Exporter",
   "pygments_lexer": "sos"
  },
  "papermill": {
   "duration": 26.685269,
   "end_time": "2019-12-23T17:02:48.350975",
   "environment_variables": {},
   "exception": null,
   "input_path": "/Users/bpeng1/sos/sos-docs/src/user_guide/input_statement.ipynb",
   "output_path": "input_statement.ipynb_rerun.ipynb",
   "parameters": {},
   "start_time": "2019-12-23T17:02:21.665706",
   "version": "1.1.0"
  },
  "sos": {
   "kernels": [
    [
     "Bash",
     "bash",
     "Bash",
     "#E6EEFF"
    ],
    [
     "R",
     "ir",
     "R",
     "#DCDCDA"
    ],
    [
     "SoS",
     "sos",
     "",
     ""
    ]
   ],
   "panel": {
    "displayed": true,
    "height": 0
   },
   "version": "0.21.2"
  }
 },
 "nbformat": 4,
 "nbformat_minor": 4
}