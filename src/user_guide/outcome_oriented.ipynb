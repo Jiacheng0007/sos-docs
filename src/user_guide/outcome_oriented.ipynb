{
 "cells": [
  {
   "cell_type": "markdown",
   "metadata": {
    "kernel": "SoS",
    "papermill": {
     "duration": 0.011323,
     "end_time": "2019-12-23T17:03:37.261735",
     "exception": false,
     "start_time": "2019-12-23T17:03:37.250412",
     "status": "completed"
    },
    "tags": []
   },
   "source": [
    "# How to execute workflow to generate specific output"
   ]
  },
  {
   "cell_type": "markdown",
   "metadata": {
    "kernel": "SoS",
    "papermill": {
     "duration": 0.009029,
     "end_time": "2019-12-23T17:03:37.281704",
     "exception": false,
     "start_time": "2019-12-23T17:03:37.272675",
     "status": "completed"
    },
    "tags": []
   },
   "source": [
    "* **Difficulty level**: intemediate\n",
    "* **Time need to lean**: 20 minutes or less\n",
    "* **Key points**:\n",
    "  * Instead of executing workflows, you can use option `-t` to specify targets to generate\n",
    "  * Targets can be filenames or names of named output\n",
    "  * Steps that provides targets can be process-oriented steps with static or named outputs, or outcome-oriented with pattern matching\n",
    "  "
   ]
  },
  {
   "cell_type": "markdown",
   "metadata": {
    "kernel": "SoS",
    "papermill": {
     "duration": 0.009769,
     "end_time": "2019-12-23T17:03:37.300536",
     "exception": false,
     "start_time": "2019-12-23T17:03:37.290767",
     "status": "completed"
    },
    "tags": []
   },
   "source": [
    "## Outcome-oriented workflows"
   ]
  },
  {
   "cell_type": "markdown",
   "metadata": {
    "kernel": "SoS",
    "papermill": {
     "duration": 0.009138,
     "end_time": "2019-12-23T17:03:37.321345",
     "exception": false,
     "start_time": "2019-12-23T17:03:37.312207",
     "status": "completed"
    },
    "tags": []
   },
   "source": [
    " <div class=\"bs-callout bs-callout-primary\" role=\"alert\">\n",
    "    <b>Outcome-oriented workflows</b> aims at generating specified outcomes. For example, <code>sos run script -t result.html</code> would execute any step needed to genearte <code>result.html</code>.\n",
    " </div>"
   ]
  },
  {
   "cell_type": "markdown",
   "metadata": {
    "kernel": "SoS",
    "papermill": {
     "duration": 0.009842,
     "end_time": "2019-12-23T17:03:37.340523",
     "exception": false,
     "start_time": "2019-12-23T17:03:37.330681",
     "status": "completed"
    },
    "tags": []
   },
   "source": [
    "**Outcome-oriented** workflows aim at generating particular outcomes. The essential features include \n",
    "\n",
    "1. The workflow consists of steps that provides \"outcome\" for other steps\n",
    "2. The workflow is triggered by the generation of particular outcome"
   ]
  },
  {
   "cell_type": "markdown",
   "metadata": {
    "kernel": "SoS",
    "papermill": {
     "duration": 0.00911,
     "end_time": "2019-12-23T17:03:37.358863",
     "exception": false,
     "start_time": "2019-12-23T17:03:37.349753",
     "status": "completed"
    },
    "tags": []
   },
   "source": [
    "## Steps that `provides` targets through pattern matching"
   ]
  },
  {
   "cell_type": "markdown",
   "metadata": {
    "kernel": "SoS",
    "papermill": {
     "duration": 0.008816,
     "end_time": "2019-12-23T17:03:37.377283",
     "exception": false,
     "start_time": "2019-12-23T17:03:37.368467",
     "status": "completed"
    },
    "tags": []
   },
   "source": [
    "A typical makefile-style [auxiliary steps](auxiliary_step.html) with a section header with a `provides` option, which usually contains a pattern. The pattern serves three purposes\n",
    "\n",
    "1. It triggers the step through pattern matching. For example, `provides='{filename}-{idx}.txt'` matches `a-1.txt`, `filename-23.txt`, but not `filename.txt`.\n",
    "2. It defines variables specified in the pattern. For the `{filename}-{idx}.txt` example, `a-1.txt` would generate variables `filename='a'` and `idx='1'`.\n",
    "3. It defines a default output to the step, which would be `output: 'a-1.txt'` if the step is matched to filename `a-1.txt`. Note that the default output could be overriden by an explicit statement."
   ]
  },
  {
   "cell_type": "markdown",
   "metadata": {
    "kernel": "SoS",
    "papermill": {
     "duration": 0.009929,
     "end_time": "2019-12-23T17:03:37.396830",
     "exception": false,
     "start_time": "2019-12-23T17:03:37.386901",
     "status": "completed"
    },
    "tags": []
   },
   "source": [
    "For example, the following workflow consists of one [auxiliary step](auxiliary_step.html) that generates `.csv` file from `.xlsx` file. The workflow is triggered by option `-t data/DEG.csv` (target) so a command\n",
    "\n",
    "```\n",
    "xlsx2csv data/DEG.xlsx data/DEG.csv\n",
    "```\n",
    "is executed to generate it. The `data/DEG` part is determined by pattern matching which assigns `filename='data/DEG'`."
   ]
  },
  {
   "cell_type": "code",
   "execution_count": 1,
   "metadata": {
    "kernel": "SoS",
    "papermill": {
     "duration": 4.317553,
     "end_time": "2019-12-23T17:03:41.724547",
     "exception": false,
     "start_time": "2019-12-23T17:03:37.406994",
     "status": "completed"
    },
    "tags": []
   },
   "outputs": [
    {
     "name": "stdout",
     "output_type": "stream",
     "text": [
      "\u001b[91mERROR\u001b[0m: \u001b[91mNo step to generate target data/DEG.xlsx, needed by 'convert'\u001b[0m\n"
     ]
    }
   ],
   "source": [
    "!rm -f data/DEG.csv\n",
    "%run -v1 -t data/DEG.csv\n",
    "\n",
    "[convert: provides='{filename}.csv']\n",
    "input: f'{filename}.xlsx'\n",
    "run: expand=True\n",
    "    xlsx2csv {_input} > {_output}"
   ]
  },
  {
   "cell_type": "markdown",
   "metadata": {
    "kernel": "SoS",
    "papermill": {
     "duration": 0.009202,
     "end_time": "2019-12-23T17:03:41.743828",
     "exception": false,
     "start_time": "2019-12-23T17:03:41.734626",
     "status": "completed"
    },
    "tags": []
   },
   "source": [
    "## Steps with simple output"
   ]
  },
  {
   "cell_type": "markdown",
   "metadata": {
    "kernel": "SoS",
    "papermill": {
     "duration": 0.014357,
     "end_time": "2019-12-23T17:03:41.771865",
     "exception": false,
     "start_time": "2019-12-23T17:03:41.757508",
     "status": "completed"
    },
    "tags": []
   },
   "source": [
    "If the output of a step is \"simple\", in the sense that it can be determined by itself without referring to any definition in the global section or the `input` of the step, it automatically `provides` the output to other steps. \n",
    "\n",
    "For example, the `plot` step added to the previous workflow does not have a `provides` statement. It has a simple `output` statement with `figure.pdf`. Then, when the workflow is triggered by `-t figure.pdf`, the `plot` step will be triggered, which, in this case, also triggers `convert` because of the missing `data/DEG.csv`."
   ]
  },
  {
   "cell_type": "code",
   "execution_count": 2,
   "metadata": {
    "kernel": "SoS",
    "papermill": {
     "duration": 4.202667,
     "end_time": "2019-12-23T17:03:45.990303",
     "exception": false,
     "start_time": "2019-12-23T17:03:41.787636",
     "status": "completed"
    },
    "tags": []
   },
   "outputs": [
    {
     "name": "stdout",
     "output_type": "stream",
     "text": [
      "\u001b[91mERROR\u001b[0m: \u001b[91mNo step to generate target data/DEG.xlsx, needed by 'convert'\u001b[0m\n"
     ]
    }
   ],
   "source": [
    "!rm -f figure.pdf data/DEG.csv\n",
    "\n",
    "%run -t figure.pdf\n",
    "[convert: provides='{filename}.csv']\n",
    "input: f'{filename}.xlsx'\n",
    "run: expand=True\n",
    "    xlsx2csv {_input} > {_output}\n",
    "\n",
    "[plot]\n",
    "input: 'data/DEG.csv'\n",
    "output: 'figure.pdf'\n",
    "R: expand=True\n",
    "    data <- read.csv('{_input}')\n",
    "    pdf('{_output}')\n",
    "    plot(data$log2FoldChange, data$stat)\n",
    "    dev.off()"
   ]
  },
  {
   "cell_type": "markdown",
   "metadata": {
    "kernel": "SoS",
    "papermill": {
     "duration": 0.010347,
     "end_time": "2019-12-23T17:03:46.011043",
     "exception": false,
     "start_time": "2019-12-23T17:03:46.000696",
     "status": "completed"
    },
    "tags": []
   },
   "source": [
    "## Generating outputs with named output"
   ]
  },
  {
   "cell_type": "markdown",
   "metadata": {
    "kernel": "SoS",
    "papermill": {
     "duration": 0.009505,
     "end_time": "2019-12-23T17:03:46.031482",
     "exception": false,
     "start_time": "2019-12-23T17:03:46.021977",
     "status": "completed"
    },
    "tags": []
   },
   "source": [
    "If the output is not simple (e.g. involves global definitions or parameters), or it contains multiple targets, you can give it a name through keyword argument (see [named output](named_output.html) for details). You can then specify the name to option `-t` instead of the actual filename(s).\n",
    "\n",
    "For example, by assigning output to a name `figure`, the following workflow could be triggered with `-t figure`."
   ]
  },
  {
   "cell_type": "code",
   "execution_count": 3,
   "metadata": {
    "kernel": "SoS",
    "papermill": {
     "duration": 3.97879,
     "end_time": "2019-12-23T17:03:50.019833",
     "exception": false,
     "start_time": "2019-12-23T17:03:46.041043",
     "status": "completed"
    },
    "tags": []
   },
   "outputs": [
    {
     "name": "stdout",
     "output_type": "stream",
     "text": [
      "\u001b[91mERROR\u001b[0m: \u001b[91mNo step to generate target data/DEG.xlsx, needed by 'convert'\u001b[0m\n"
     ]
    }
   ],
   "source": [
    "!rm -f figure.pdf data/DEG.csv\n",
    "\n",
    "%run -t figure\n",
    "\n",
    "plot_input = 'data/DEG.csv'\n",
    "plot_output = 'figure.pdf'\n",
    "\n",
    "[convert: provides='{filename}.csv']\n",
    "input: f'{filename}.xlsx'\n",
    "run: expand=True\n",
    "    xlsx2csv {_input} > {_output}\n",
    "\n",
    "[plot]\n",
    "input: plot_input\n",
    "output: figure=plot_output\n",
    "R: expand=True\n",
    "    data <- read.csv('{_input}')\n",
    "    pdf('{_output}')\n",
    "    plot(data$log2FoldChange, data$stat)\n",
    "    dev.off()"
   ]
  },
  {
   "cell_type": "markdown",
   "metadata": {
    "kernel": "SoS",
    "papermill": {
     "duration": 0.010051,
     "end_time": "2019-12-23T17:03:50.039923",
     "exception": false,
     "start_time": "2019-12-23T17:03:50.029872",
     "status": "completed"
    },
    "tags": []
   },
   "source": [
    "## Further reading\n",
    "\n",
    "* [How to define named inputs and outputs](doc/user_guide/target_label.html)"
   ]
  }
 ],
 "metadata": {
  "kernelspec": {
   "display_name": "SoS",
   "language": "sos",
   "name": "sos"
  },
  "language_info": {
   "codemirror_mode": "sos",
   "file_extension": ".sos",
   "mimetype": "text/x-sos",
   "name": "sos",
   "nbconvert_exporter": "sos_notebook.converter.SoS_Exporter",
   "pygments_lexer": "sos"
  },
  "papermill": {
   "duration": 20.549674,
   "end_time": "2019-12-23T17:03:55.240168",
   "environment_variables": {},
   "exception": null,
   "input_path": "/Users/bpeng1/sos/sos-docs/src/user_guide/outcome_oriented.ipynb",
   "output_path": "outcome_oriented.ipynb_rerun.ipynb",
   "parameters": {},
   "start_time": "2019-12-23T17:03:34.690494",
   "version": "1.1.0"
  },
  "sos": {
   "kernels": [
    [
     "Bash",
     "bash",
     "Bash",
     "#E6EEFF"
    ],
    [
     "R",
     "ir",
     "R",
     "#DCDCDA"
    ],
    [
     "SoS",
     "sos",
     "",
     ""
    ]
   ],
   "panel": {
    "displayed": true,
    "height": 0
   },
   "version": "0.21.2"
  }
 },
 "nbformat": 4,
 "nbformat_minor": 4
}