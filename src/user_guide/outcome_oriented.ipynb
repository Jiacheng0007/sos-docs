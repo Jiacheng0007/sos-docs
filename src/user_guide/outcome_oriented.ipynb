{
 "cells": [
  {
   "cell_type": "markdown",
   "metadata": {
    "kernel": "SoS",
    "tags": []
   },
   "source": [
    "# Outcome-oriented workflows"
   ]
  },
  {
   "cell_type": "markdown",
   "metadata": {
    "kernel": "SoS",
    "tags": []
   },
   "source": [
    "* **Difficulty level**: intemediate\n",
    "* **Time need to lean**: 20 minutes or less\n",
    "* **Key points**:\n",
    "  * Instead of executing workflows, you can use option `-t` to specify targets to generate\n",
    "  * Targets can be filenames or names of named output\n",
    "  * Steps that provides targets can be process-oriented steps with static or named outputs, or outcome-oriented with pattern matching\n",
    "  "
   ]
  },
  {
   "cell_type": "markdown",
   "metadata": {
    "kernel": "SoS",
    "tags": []
   },
   "source": [
    "## Outcome-oriented workflows"
   ]
  },
  {
   "cell_type": "markdown",
   "metadata": {
    "kernel": "SoS",
    "tags": []
   },
   "source": [
    " <div class=\"bs-callout bs-callout-primary\" role=\"alert\">\n",
    "    <b>Outcome-oriented workflows</b> aims at generating specified outcomes. For example, <code>sos run script -t result.html</code> would execute any step needed to genearte <code>result.html</code>.\n",
    " </div>"
   ]
  },
  {
   "cell_type": "markdown",
   "metadata": {
    "kernel": "SoS",
    "tags": []
   },
   "source": [
    "**Outcome-oriented** workflows aim at generating particular outcomes. The essential features include \n",
    "\n",
    "1. The workflow consists of steps that provides \"outcome\" for other steps\n",
    "2. The workflow is triggered by the generation of particular outcome"
   ]
  },
  {
   "cell_type": "markdown",
   "metadata": {
    "kernel": "SoS",
    "tags": []
   },
   "source": [
    "## Steps that `provides` targets through pattern matching"
   ]
  },
  {
   "cell_type": "markdown",
   "metadata": {
    "kernel": "SoS",
    "tags": []
   },
   "source": [
    "A typical makefile-style [auxiliary steps](auxiliary_step.html) with a section header with a `provides` option, which usually contains a pattern. The pattern serves three purposes\n",
    "\n",
    "1. It triggers the step through pattern matching. For example, `provides='{filename}-{idx}.txt'` matches `a-1.txt`, `filename-23.txt`, but not `filename.txt`.\n",
    "2. It defines variables specified in the pattern. For the `{filename}-{idx}.txt` example, `a-1.txt` would generate variables `filename='a'` and `idx='1'`.\n",
    "3. It defines a default output to the step, which would be `output: 'a-1.txt'` if the step is matched to filename `a-1.txt`. Note that the default output could be overriden by an explicit statement."
   ]
  },
  {
   "cell_type": "markdown",
   "metadata": {
    "kernel": "SoS",
    "tags": []
   },
   "source": [
    "For example, the following workflow consists of one [auxiliary step](auxiliary_step.html) that generates `.csv` file from `.xlsx` file. The workflow is triggered by option `-t data/DEG.csv` (target) so a command\n",
    "\n",
    "```\n",
    "xlsx2csv data/DEG.xlsx data/DEG.csv\n",
    "```\n",
    "is executed to generate it. The `data/DEG` part is determined by pattern matching which assigns `filename='data/DEG'`."
   ]
  },
  {
   "cell_type": "code",
   "execution_count": 1,
   "metadata": {
    "kernel": "SoS",
    "tags": []
   },
   "outputs": [
    {
     "name": "stdout",
     "output_type": "stream",
     "text": [
      "xlsx2csv data/DEG.xlsx > data/DEG.csv\n"
     ]
    }
   ],
   "source": [
    "!rm -f data/DEG.csv\n",
    "%run -v1 -t data/DEG.csv\n",
    "\n",
    "[convert: provides='{filename}.csv']\n",
    "input: f'{filename}.xlsx'\n",
    "run: expand=True\n",
    "    xlsx2csv {_input} > {_output}"
   ]
  },
  {
   "cell_type": "markdown",
   "metadata": {
    "kernel": "SoS",
    "tags": []
   },
   "source": [
    "## Steps with simple output"
   ]
  },
  {
   "cell_type": "markdown",
   "metadata": {
    "kernel": "SoS",
    "tags": []
   },
   "source": [
    "If the output of a step is \"simple\", in the sense that it can be determined by itself without referring to any definition in the global section or the `input` of the step, it automatically `provides` the output to other steps. \n",
    "\n",
    "For example, the `plot` step added to the previous workflow does not have a `provides` statement. It has a simple `output` statement with `figure.pdf`. Then, when the workflow is triggered by `-t figure.pdf`, the `plot` step will be triggered, which, in this case, also triggers `convert` because of the missing `data/DEG.csv`."
   ]
  },
  {
   "cell_type": "code",
   "execution_count": 2,
   "metadata": {
    "kernel": "SoS",
    "tags": []
   },
   "outputs": [
    {
     "name": "stdout",
     "output_type": "stream",
     "text": [
      "null device \n",
      "          1 \n"
     ]
    }
   ],
   "source": [
    "!rm -f figure.pdf data/DEG.csv\n",
    "\n",
    "%run -t figure.pdf\n",
    "[convert: provides='{filename}.csv']\n",
    "input: f'{filename}.xlsx'\n",
    "run: expand=True\n",
    "    xlsx2csv {_input} > {_output}\n",
    "\n",
    "[plot]\n",
    "input: 'data/DEG.csv'\n",
    "output: 'figure.pdf'\n",
    "R: expand=True\n",
    "    data <- read.csv('{_input}')\n",
    "    pdf('{_output}')\n",
    "    plot(data$log2FoldChange, data$stat)\n",
    "    dev.off()"
   ]
  },
  {
   "cell_type": "markdown",
   "metadata": {
    "kernel": "SoS",
    "tags": []
   },
   "source": [
    "## Generating outputs with named output"
   ]
  },
  {
   "cell_type": "markdown",
   "metadata": {
    "kernel": "SoS",
    "tags": []
   },
   "source": [
    "If the output is not simple (e.g. involves global definitions or parameters), or it contains multiple targets, you can give it a name through keyword argument (see [named output](named_output.html) for details). You can then specify the name to option `-t` instead of the actual filename(s).\n",
    "\n",
    "For example, by assigning output to a name `figure`, the following workflow could be triggered with `-t figure`."
   ]
  },
  {
   "cell_type": "code",
   "execution_count": 3,
   "metadata": {
    "kernel": "SoS",
    "tags": []
   },
   "outputs": [
    {
     "name": "stdout",
     "output_type": "stream",
     "text": [
      "xlsx2csv data/DEG.xlsx > data/DEG.csv\n",
      "\n",
      "null device \n",
      "          1 \n"
     ]
    }
   ],
   "source": [
    "!rm -f figure.pdf data/DEG.csv\n",
    "\n",
    "%run -t figure\n",
    "\n",
    "plot_input = 'data/DEG.csv'\n",
    "plot_output = 'figure.pdf'\n",
    "\n",
    "[convert: provides='{filename}.csv']\n",
    "input: f'{filename}.xlsx'\n",
    "run: expand=True\n",
    "    xlsx2csv {_input} > {_output}\n",
    "\n",
    "[plot]\n",
    "input: plot_input\n",
    "output: figure=plot_output\n",
    "R: expand=True\n",
    "    data <- read.csv('{_input}')\n",
    "    pdf('{_output}')\n",
    "    plot(data$log2FoldChange, data$stat)\n",
    "    dev.off()"
   ]
  },
  {
   "cell_type": "markdown",
   "metadata": {
    "kernel": "SoS",
    "tags": []
   },
   "source": [
    "## Further reading\n",
    "\n",
    "* [How to define named inputs and outputs](target_label.html)"
   ]
  }
 ],
 "metadata": {
  "kernelspec": {
   "display_name": "SoS",
   "language": "sos",
   "name": "sos"
  },
  "language_info": {
   "codemirror_mode": "sos",
   "file_extension": ".sos",
   "mimetype": "text/x-sos",
   "name": "sos",
   "nbconvert_exporter": "sos_notebook.converter.SoS_Exporter",
   "pygments_lexer": "sos"
  },
  "sos": {
   "kernels": [
    [
     "Bash",
     "bash",
     "Bash",
     "#E6EEFF"
    ],
    [
     "R",
     "ir",
     "R",
     "#DCDCDA"
    ],
    [
     "SoS",
     "sos",
     "",
     ""
    ]
   ],
   "panel": {
    "displayed": true,
    "height": 0
   },
   "version": "0.21.5"
  }
 },
 "nbformat": 4,
 "nbformat_minor": 4
}
