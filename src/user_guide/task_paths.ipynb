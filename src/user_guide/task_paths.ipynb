{
 "cells": [
  {
   "cell_type": "markdown",
   "metadata": {
    "kernel": "SoS",
    "papermill": {
     "duration": 0.007915,
     "end_time": "2019-12-23T17:07:37.378066",
     "exception": false,
     "start_time": "2019-12-23T17:07:37.370151",
     "status": "completed"
    },
    "tags": []
   },
   "source": [
    "# Path translation and file synchronization"
   ]
  },
  {
   "cell_type": "markdown",
   "metadata": {
    "kernel": "SoS",
    "papermill": {
     "duration": 0.005883,
     "end_time": "2019-12-23T17:07:37.390652",
     "exception": false,
     "start_time": "2019-12-23T17:07:37.384769",
     "status": "completed"
    },
    "tags": []
   },
   "source": [
    "* **Difficulty level**: intermediate\n",
    "* **Time need to lean**: 10 minutes or less\n",
    "\n",
    "  "
   ]
  },
  {
   "cell_type": "markdown",
   "metadata": {
    "kernel": "SoS",
    "output_cache": "[]",
    "papermill": {
     "duration": 0.005643,
     "end_time": "2019-12-23T17:07:37.402244",
     "exception": false,
     "start_time": "2019-12-23T17:07:37.396601",
     "status": "completed"
    },
    "tags": []
   },
   "source": [
    "### Option `map_vars`"
   ]
  },
  {
   "cell_type": "markdown",
   "metadata": {
    "kernel": "SoS",
    "output_cache": "[]",
    "papermill": {
     "duration": 0.005527,
     "end_time": "2019-12-23T17:07:37.413506",
     "exception": false,
     "start_time": "2019-12-23T17:07:37.407979",
     "status": "completed"
    },
    "tags": []
   },
   "source": [
    "In addition to `input` (`_input`), `output` (`_output`), `depends` (`_depends`) that are defined implicitly by `input:`, `output:` and `depends:` statements, you can specify additional variables that will be translated from local to remote host. This option accepts paths int he format of `str` or sequence (`list`, `tuple`, `set` etc) of `str` and will be mapped to variable of the same type (with paths replaced by remote paths on remote host). "
   ]
  },
  {
   "cell_type": "markdown",
   "metadata": {
    "kernel": "SoS",
    "papermill": {
     "duration": 0.006446,
     "end_time": "2019-12-23T17:07:37.425663",
     "exception": false,
     "start_time": "2019-12-23T17:07:37.419217",
     "status": "completed"
    },
    "tags": []
   },
   "source": [
    "### Option `workdir`\n",
    "\n",
    "Default to current working directory.\n",
    "\n",
    "Option `workdir` controls the working directory of the task. For example, the following step downloads a file to the `resource_dir` using command `wget`.\n",
    "\n",
    "```python\n",
    "[10]\n",
    "\n",
    "task: workdir=resource_dir\n",
    "\n",
    "run:\n",
    "  wget a_url -O filename\n",
    "```\n",
    "\n",
    "Runtime option `workdir` will be translated to remote host if the task is executed remotely."
   ]
  },
  {
   "cell_type": "markdown",
   "metadata": {
    "kernel": "SoS",
    "papermill": {
     "duration": 0.00662,
     "end_time": "2019-12-23T17:07:37.438350",
     "exception": false,
     "start_time": "2019-12-23T17:07:37.431730",
     "status": "completed"
    },
    "tags": []
   },
   "source": [
    "### Option `to_host`"
   ]
  },
  {
   "cell_type": "markdown",
   "metadata": {
    "kernel": "SoS",
    "papermill": {
     "duration": 0.00566,
     "end_time": "2019-12-23T17:07:37.450048",
     "exception": false,
     "start_time": "2019-12-23T17:07:37.444388",
     "status": "completed"
    },
    "tags": []
   },
   "source": [
    "Option `to_host` specifies additional files or directories that would be synchronized to the remote host before tasks are executed. It can be specified as\n",
    "\n",
    "* A single file or directory (with respect to local file system), or\n",
    "* A list of files or directories, or\n",
    "* A dictinary of `{local: remote}` file maps that specify how local files are synchronized to the remote host.\n",
    "\n",
    "In the first two cases, the files or directories will be translated using the host-specific path maps. In the last case, the `remote` path (that should be relative to the remote file system) will be used without translating `local` file.\n",
    "\n",
    "Note that \n",
    "1. If a symbolic link is specified in `to_host`, both the symbolic link and the path it refers to would be synchronized to the remote host.\n",
    "2. If the task is executed on the local host (remote host coincide with local host), `to_host` is usually ignored unless it is specified in the third dictionary format, which copies files to another location before task execution. "
   ]
  },
  {
   "cell_type": "markdown",
   "metadata": {
    "kernel": "SoS",
    "papermill": {
     "duration": 0.005655,
     "end_time": "2019-12-23T17:07:37.461486",
     "exception": false,
     "start_time": "2019-12-23T17:07:37.455831",
     "status": "completed"
    },
    "tags": []
   },
   "source": [
    "### Option `from_host`"
   ]
  },
  {
   "cell_type": "markdown",
   "metadata": {
    "kernel": "SoS",
    "papermill": {
     "duration": 0.00565,
     "end_time": "2019-12-23T17:07:37.472880",
     "exception": false,
     "start_time": "2019-12-23T17:07:37.467230",
     "status": "completed"
    },
    "tags": []
   },
   "source": [
    "Option `from_host` specifies additional files or directories that would be synchronized from the remote host after tasks are executed. It can be specified as\n",
    "\n",
    "* A single file or directory (with respect to local file system), or\n",
    "* A list of files or directories, or\n",
    "* A dictinary of `{local: remote}` file maps that specify how local files are synchronized from the remote host.\n",
    "\n",
    "In the first two cases, the files or directories will be translated using the host-specific path maps to determine what remote files to retrieve. In the last case, the `remote` path (that should be relative to the remote file system) will be used without path translation. If the task is executed on the local host (remote host coincide with local host), this option is usually ignored unless it is specified in the third dictionary format, which copies files to another location after the task is executed. "
   ]
  },
  {
   "cell_type": "markdown",
   "metadata": {
    "kernel": "SoS",
    "papermill": {
     "duration": 0.005585,
     "end_time": "2019-12-23T17:07:37.484157",
     "exception": false,
     "start_time": "2019-12-23T17:07:37.478572",
     "status": "completed"
    },
    "tags": []
   },
   "source": [
    "## Further reading\n",
    "\n",
    "* "
   ]
  }
 ],
 "metadata": {
  "kernelspec": {
   "display_name": "SoS",
   "language": "sos",
   "name": "sos"
  },
  "language_info": {
   "codemirror_mode": "sos",
   "file_extension": ".sos",
   "mimetype": "text/x-sos",
   "name": "sos",
   "nbconvert_exporter": "sos_notebook.converter.SoS_Exporter",
   "pygments_lexer": "sos"
  },
  "papermill": {
   "duration": 3.496804,
   "end_time": "2019-12-23T17:07:37.913561",
   "environment_variables": {},
   "exception": null,
   "input_path": "/Users/bpeng1/sos/sos-docs/src/user_guide/task_paths.ipynb",
   "output_path": "task_paths.ipynb_rerun.ipynb",
   "parameters": {},
   "start_time": "2019-12-23T17:07:34.416757",
   "version": "1.1.0"
  },
  "sos": {
   "kernels": [
    [
     "Bash",
     "bash",
     "Bash",
     "#E6EEFF"
    ],
    [
     "R",
     "ir",
     "R",
     "#DCDCDA"
    ],
    [
     "SoS",
     "sos",
     "",
     ""
    ]
   ],
   "panel": {
    "displayed": true,
    "height": 0
   },
   "version": "0.21.2"
  }
 },
 "nbformat": 4,
 "nbformat_minor": 4
}