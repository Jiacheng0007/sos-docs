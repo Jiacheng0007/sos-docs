{
 "cells": [
  {
   "cell_type": "markdown",
   "metadata": {
    "kernel": "SoS",
    "papermill": {
     "duration": 0.008995,
     "end_time": "2019-12-23T17:04:41.557545",
     "exception": false,
     "start_time": "2019-12-23T17:04:41.548550",
     "status": "completed"
    },
    "tags": []
   },
   "source": [
    "# Remote targets"
   ]
  },
  {
   "cell_type": "markdown",
   "metadata": {
    "kernel": "SoS",
    "papermill": {
     "duration": 0.007115,
     "end_time": "2019-12-23T17:04:41.572368",
     "exception": false,
     "start_time": "2019-12-23T17:04:41.565253",
     "status": "completed"
    },
    "tags": []
   },
   "source": [
    "* **Difficulty level**: intermediate\n",
    "* **Time need to lean**: 10 minutes or less\n",
    "* **Key points**:\n",
    "  * Input targets marked by `remote` will be considered as remote files and will not be copied to remote host.\n",
    "  * Output targets marked by `remote` will be considered as remote files and will not be copied to local host\n",
    "  "
   ]
  },
  {
   "cell_type": "markdown",
   "metadata": {
    "kernel": "SoS",
    "papermill": {
     "duration": 0.006034,
     "end_time": "2019-12-23T17:04:41.585213",
     "exception": false,
     "start_time": "2019-12-23T17:04:41.579179",
     "status": "completed"
    },
    "tags": []
   },
   "source": [
    "## Remote Targets"
   ]
  },
  {
   "cell_type": "markdown",
   "metadata": {
    "kernel": "SoS",
    "papermill": {
     "duration": 0.006031,
     "end_time": "2019-12-23T17:04:41.596873",
     "exception": false,
     "start_time": "2019-12-23T17:04:41.590842",
     "status": "completed"
    },
    "tags": []
   },
   "source": [
    "The task execution model automatically synchronize input and output files between local and remote hosts. This can be convenient but \n",
    "\n",
    "1. If the input files are large and reside on remote host already, there is no need to make the input files available on local host for them to be processed.\n",
    "\n",
    "2. If the output files are large and do not need to be processed locally, there is no need to copy output files to local host.\n",
    "\n",
    "To solve these problems, you can use `remote` targets to specify that the targets are on remote host, and do not need to be synchronized. For example, you could use the following step to process a large input file and only synchronize small output files to local desktop for further analysis:\n",
    "\n",
    "```\n",
    "[10]\n",
    "input: remote('/path/to/large/input/file')\n",
    "output: remote('large_output'), 'summary.stat'\n",
    "task:\n",
    "sh:\n",
    "    script to generate large_output and summary.stat\n",
    "    from large input files.\n",
    "```"
   ]
  },
  {
   "cell_type": "markdown",
   "metadata": {
    "kernel": "SoS",
    "papermill": {
     "duration": 0.005486,
     "end_time": "2019-12-23T17:04:41.608834",
     "exception": false,
     "start_time": "2019-12-23T17:04:41.603348",
     "status": "completed"
    },
    "tags": []
   },
   "source": [
    "The `remote` function accept any one or more SoS targets (e.g. `remote('input.txt')`, `remote('input1.txt', 'input2.txt')`, `remote(fastq_files)`, or `remote(R_Library('ggplot2'))`. "
   ]
  },
  {
   "cell_type": "code",
   "execution_count": 1,
   "metadata": {
    "kernel": "SoS",
    "papermill": {
     "duration": 7.02529,
     "end_time": "2019-12-23T17:04:48.639931",
     "exception": false,
     "start_time": "2019-12-23T17:04:41.614641",
     "status": "completed"
    },
    "tags": []
   },
   "outputs": [
    {
     "name": "stdout",
     "output_type": "stream",
     "text": [
      "\u001b[91mERROR\u001b[0m: \u001b[91m[default]: [68398bb67cbef06a]: Failed to connect to bcb: @@@@@@@@@@@@@@@@@@@@@@@@@@@@@@@@@@@@@@@@@@@@@@@@@@@@@@@@@@@\r",
      "\r\n"
     ]
    },
    {
     "name": "stdout",
     "output_type": "stream",
     "text": [
      "@       WARNING: POSSIBLE DNS SPOOFING DETECTED!          @\r",
      "\r\n"
     ]
    },
    {
     "name": "stdout",
     "output_type": "stream",
     "text": [
      "@@@@@@@@@@@@@@@@@@@@@@@@@@@@@@@@@@@@@@@@@@@@@@@@@@@@@@@@@@@\r",
      "\r\n"
     ]
    },
    {
     "name": "stdout",
     "output_type": "stream",
     "text": [
      "The ECDSA host key for bcbm-bpeng.mdanderson.edu has changed,\r",
      "\r\n"
     ]
    },
    {
     "name": "stdout",
     "output_type": "stream",
     "text": [
      "and the key for the corresponding IP address 23.202.231.169\r",
      "\r\n"
     ]
    },
    {
     "name": "stdout",
     "output_type": "stream",
     "text": [
      "is unknown. This could either mean that\r",
      "\r\n"
     ]
    },
    {
     "name": "stdout",
     "output_type": "stream",
     "text": [
      "DNS SPOOFING is happening or the IP address for the host\r",
      "\r\n"
     ]
    },
    {
     "name": "stdout",
     "output_type": "stream",
     "text": [
      "and its host key have changed at the same time.\r",
      "\r\n"
     ]
    },
    {
     "name": "stdout",
     "output_type": "stream",
     "text": [
      "@@@@@@@@@@@@@@@@@@@@@@@@@@@@@@@@@@@@@@@@@@@@@@@@@@@@@@@@@@@\r",
      "\r\n"
     ]
    },
    {
     "name": "stdout",
     "output_type": "stream",
     "text": [
      "@    WARNING: REMOTE HOST IDENTIFICATION HAS CHANGED!     @\r",
      "\r\n"
     ]
    },
    {
     "name": "stdout",
     "output_type": "stream",
     "text": [
      "@@@@@@@@@@@@@@@@@@@@@@@@@@@@@@@@@@@@@@@@@@@@@@@@@@@@@@@@@@@\r",
      "\r\n"
     ]
    },
    {
     "name": "stdout",
     "output_type": "stream",
     "text": [
      "IT IS POSSIBLE THAT SOMEONE IS DOING SOMETHING NASTY!\r",
      "\r\n"
     ]
    },
    {
     "name": "stdout",
     "output_type": "stream",
     "text": [
      "Someone could be eavesdropping on you right now (man-in-the-middle attack)!\r",
      "\r\n"
     ]
    },
    {
     "name": "stdout",
     "output_type": "stream",
     "text": [
      "It is also possible that a host key has just been changed.\r",
      "\r\n"
     ]
    },
    {
     "name": "stdout",
     "output_type": "stream",
     "text": [
      "The fingerprint for the ECDSA key sent by the remote host is\r\n"
     ]
    },
    {
     "name": "stdout",
     "output_type": "stream",
     "text": [
      "SHA256:HnzBy7BAfkMCT4uIcdLrpoWiOrnhHhN8k7XMbbB2Epk.\r",
      "\r\n"
     ]
    },
    {
     "name": "stdout",
     "output_type": "stream",
     "text": [
      "Please contact your system administrator.\r",
      "\r\n"
     ]
    },
    {
     "name": "stdout",
     "output_type": "stream",
     "text": [
      "Add correct host key in /Users/bpeng1/.ssh/known_hosts to get rid of this message.\r",
      "\r\n"
     ]
    },
    {
     "name": "stdout",
     "output_type": "stream",
     "text": [
      "Offending ECDSA key in /Users/bpeng1/.ssh/known_hosts:23\r",
      "\r\n"
     ]
    },
    {
     "name": "stdout",
     "output_type": "stream",
     "text": [
      "ECDSA host key for bcbm-bpeng.mdanderson.edu has changed and you have requested strict checking.\r",
      "\r\n"
     ]
    },
    {
     "name": "stdout",
     "output_type": "stream",
     "text": [
      "Host key verification failed.\r",
      "\r\n"
     ]
    },
    {
     "name": "stdout",
     "output_type": "stream",
     "text": [
      "\u001b[0m\n"
     ]
    }
   ],
   "source": [
    "%run -q bcb\n",
    "\n",
    "output: remote('result.png')\n",
    "task: walltime='1h', mem='2G', nodes=1, cores=1\n",
    "\n",
    "R:\n",
    "  set.seed(1)\n",
    "  x <- 1:100\n",
    "  y <- -0.03*x + rnorm(50)\n",
    "  png(\"result.png\", height=400, width=600)\n",
    "  plot(x, y, pch=19, col=rgb(0.5, 0.5, 0.5, 0.5), cex=1.5)\n",
    "  abline(lm(y ~ x))\n",
    "  dev.off()"
   ]
  },
  {
   "cell_type": "markdown",
   "metadata": {
    "kernel": "SoS",
    "papermill": {
     "duration": 0.020553,
     "end_time": "2019-12-23T17:04:48.678541",
     "exception": false,
     "start_time": "2019-12-23T17:04:48.657988",
     "status": "completed"
    },
    "tags": []
   },
   "source": [
    "The task is executed successfully on remote host `bcb` but the result file `result.png`, marked as `remote('result.png')` is not synchronized to localhost after the completion of the task. "
   ]
  },
  {
   "cell_type": "code",
   "execution_count": 2,
   "metadata": {
    "kernel": "SoS",
    "papermill": {
     "duration": 0.952762,
     "end_time": "2019-12-23T17:04:49.650278",
     "exception": false,
     "start_time": "2019-12-23T17:04:48.697516",
     "status": "completed"
    },
    "tags": []
   },
   "outputs": [
    {
     "name": "stdout",
     "output_type": "stream",
     "text": [
      "ls: result.png: No such file or directory\n"
     ]
    }
   ],
   "source": [
    "!ls result.png"
   ]
  },
  {
   "cell_type": "markdown",
   "metadata": {
    "kernel": "SoS",
    "papermill": {
     "duration": 0.015313,
     "end_time": "2019-12-23T17:04:49.679918",
     "exception": false,
     "start_time": "2019-12-23T17:04:49.664605",
     "status": "completed"
    },
    "tags": []
   },
   "source": [
    "## Further reading\n",
    "\n",
    "* [`task` statement](task_statement.html)"
   ]
  }
 ],
 "metadata": {
  "kernelspec": {
   "display_name": "SoS",
   "language": "sos",
   "name": "sos"
  },
  "language_info": {
   "codemirror_mode": "sos",
   "file_extension": ".sos",
   "mimetype": "text/x-sos",
   "name": "sos",
   "nbconvert_exporter": "sos_notebook.converter.SoS_Exporter",
   "pygments_lexer": "sos"
  },
  "papermill": {
   "duration": 17.323069,
   "end_time": "2019-12-23T17:04:54.886568",
   "environment_variables": {},
   "exception": null,
   "input_path": "/Users/bpeng1/sos/sos-docs/src/user_guide/remote_target.ipynb",
   "output_path": "remote_target.ipynb_rerun.ipynb",
   "parameters": {},
   "start_time": "2019-12-23T17:04:37.563499",
   "version": "1.1.0"
  },
  "sos": {
   "kernels": [
    [
     "Bash",
     "bash",
     "Bash",
     "#E6EEFF"
    ],
    [
     "R",
     "ir",
     "R",
     "#DCDCDA"
    ],
    [
     "SoS",
     "sos",
     "",
     ""
    ]
   ],
   "panel": {
    "displayed": true,
    "height": 0
   },
   "version": "0.21.2"
  }
 },
 "nbformat": 4,
 "nbformat_minor": 4
}