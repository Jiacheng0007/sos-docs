{
 "cells": [
  {
   "cell_type": "markdown",
   "metadata": {
    "kernel": "SoS",
    "tags": []
   },
   "source": [
    "# Remote targets"
   ]
  },
  {
   "cell_type": "markdown",
   "metadata": {
    "kernel": "SoS",
    "tags": []
   },
   "source": [
    "* **Difficulty level**: intermediate\n",
    "* **Time need to lean**: 10 minutes or less\n",
    "* **Key points**:\n",
    "  * Input targets marked by `remote` will be considered as remote files and will not be copied to remote host.\n",
    "  * Output targets marked by `remote` will be considered as remote files and will not be copied to local host\n",
    "  "
   ]
  },
  {
   "cell_type": "markdown",
   "metadata": {
    "kernel": "SoS",
    "tags": []
   },
   "source": [
    "## Remote Targets"
   ]
  },
  {
   "cell_type": "markdown",
   "metadata": {
    "kernel": "SoS",
    "tags": []
   },
   "source": [
    "The task execution model automatically synchronize input and output files between local and remote hosts. This can be convenient but \n",
    "\n",
    "1. If the input files are large and reside on remote host already, there is no need to make the input files available on local host for them to be processed.\n",
    "\n",
    "2. If the output files are large and do not need to be processed locally, there is no need to copy output files to local host.\n",
    "\n",
    "To solve these problems, you can use `remote` targets to specify that the targets are on remote host, and do not need to be synchronized. For example, you could use the following step to process a large input file and only synchronize small output files to local desktop for further analysis:\n",
    "\n",
    "```\n",
    "[10]\n",
    "input: remote('/path/to/large/input/file')\n",
    "output: remote('large_output'), 'summary.stat'\n",
    "task:\n",
    "sh:\n",
    "    script to generate large_output and summary.stat\n",
    "    from large input files.\n",
    "```"
   ]
  },
  {
   "cell_type": "markdown",
   "metadata": {
    "kernel": "SoS",
    "tags": []
   },
   "source": [
    "The `remote` function accept any one or more SoS targets (e.g. `remote('input.txt')`, `remote('input1.txt', 'input2.txt')`, `remote(fastq_files)`, or `remote(R_Library('ggplot2'))`. "
   ]
  },
  {
   "cell_type": "code",
   "execution_count": 1,
   "metadata": {
    "kernel": "SoS",
    "tags": []
   },
   "outputs": [
    {
     "name": "stdout",
     "output_type": "stream",
     "text": [
      "INFO: No matching tasks are identified. Use option -a to check all tasks.\n"
     ]
    },
    {
     "name": "stdout",
     "output_type": "stream",
     "text": [
      "INFO: 68398bb67cbef06a \u001b[32mstarted\u001b[0m\n"
     ]
    }
   ],
   "source": [
    "%run -q bcb\n",
    "\n",
    "output: remote('result.png')\n",
    "task: walltime='1h', mem='2G', nodes=1, cores=1\n",
    "\n",
    "R:\n",
    "  set.seed(1)\n",
    "  x <- 1:100\n",
    "  y <- -0.03*x + rnorm(50)\n",
    "  png(\"result.png\", height=400, width=600)\n",
    "  plot(x, y, pch=19, col=rgb(0.5, 0.5, 0.5, 0.5), cex=1.5)\n",
    "  abline(lm(y ~ x))\n",
    "  dev.off()"
   ]
  },
  {
   "cell_type": "markdown",
   "metadata": {
    "kernel": "SoS",
    "tags": []
   },
   "source": [
    "The task is executed successfully on remote host `bcb` but the result file `result.png`, marked as `remote('result.png')` is not synchronized to localhost after the completion of the task. "
   ]
  },
  {
   "cell_type": "code",
   "execution_count": 2,
   "metadata": {
    "kernel": "SoS",
    "tags": []
   },
   "outputs": [
    {
     "name": "stdout",
     "output_type": "stream",
     "text": [
      "ls: result.png: No such file or directory\n"
     ]
    }
   ],
   "source": [
    "!ls result.png"
   ]
  },
  {
   "cell_type": "markdown",
   "metadata": {
    "kernel": "SoS",
    "tags": []
   },
   "source": [
    "## Further reading\n",
    "\n",
    "* [`task` statement](task_statement.html)"
   ]
  }
 ],
 "metadata": {
  "kernelspec": {
   "display_name": "SoS",
   "language": "sos",
   "name": "sos"
  },
  "language_info": {
   "codemirror_mode": "sos",
   "file_extension": ".sos",
   "mimetype": "text/x-sos",
   "name": "sos",
   "nbconvert_exporter": "sos_notebook.converter.SoS_Exporter",
   "pygments_lexer": "sos"
  },
  "sos": {
   "kernels": [
    [
     "Bash",
     "bash",
     "Bash",
     "#E6EEFF"
    ],
    [
     "R",
     "ir",
     "R",
     "#DCDCDA"
    ],
    [
     "SoS",
     "sos",
     "",
     ""
    ]
   ],
   "panel": {
    "displayed": true,
    "height": 0
   },
   "version": "0.21.2"
  }
 },
 "nbformat": 4,
 "nbformat_minor": 4
}
