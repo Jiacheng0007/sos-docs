{
 "cells": [
  {
   "cell_type": "markdown",
   "metadata": {
    "kernel": "SoS",
    "papermill": {
     "duration": 0.016448,
     "end_time": "2019-12-23T17:05:13.102862",
     "exception": false,
     "start_time": "2019-12-23T17:05:13.086414",
     "status": "completed"
    },
    "tags": []
   },
   "source": [
    "# Tracking session and revision history of notebooks"
   ]
  },
  {
   "cell_type": "markdown",
   "metadata": {
    "kernel": "SoS",
    "papermill": {
     "duration": 0.014657,
     "end_time": "2019-12-23T17:05:13.132266",
     "exception": false,
     "start_time": "2019-12-23T17:05:13.117609",
     "status": "completed"
    },
    "tags": []
   },
   "source": [
    "* **Difficulty level**: easy\n",
    "* **Time need to lean**: 10 minutes or less\n",
    "* **Key points**:\n",
    "  * Magic `%sessioninfo` shows the session information of all live kernels\n",
    "  * Magic `%revisions` shows the git log messages of the current notebook if it is saved in a git repository  "
   ]
  },
  {
   "cell_type": "markdown",
   "metadata": {
    "kernel": "SoS",
    "papermill": {
     "duration": 0.014177,
     "end_time": "2019-12-23T17:05:13.160803",
     "exception": false,
     "start_time": "2019-12-23T17:05:13.146626",
     "status": "completed"
    },
    "tags": []
   },
   "source": [
    "##  <a id=\"magic_sessioninfo\"></a> Show session information of all kernels using magic `%sessioninfo`"
   ]
  },
  {
   "cell_type": "markdown",
   "metadata": {
    "kernel": "SoS",
    "papermill": {
     "duration": 0.01528,
     "end_time": "2019-12-23T17:05:13.190709",
     "exception": false,
     "start_time": "2019-12-23T17:05:13.175429",
     "status": "completed"
    },
    "tags": []
   },
   "source": [
    "### Session info of live kernels"
   ]
  },
  {
   "cell_type": "markdown",
   "metadata": {
    "kernel": "SoS",
    "papermill": {
     "duration": 0.014931,
     "end_time": "2019-12-23T17:05:13.220857",
     "exception": false,
     "start_time": "2019-12-23T17:05:13.205926",
     "status": "completed"
    },
    "tags": []
   },
   "source": [
    "Magic `%sessioninfo` returns the session information of SoS and all the subkernels, which for example include version of the python interpreter and name and version of all imported modules for Python kernels, and the output of function `sessionInfo()` for language R."
   ]
  },
  {
   "cell_type": "markdown",
   "metadata": {
    "kernel": "SoS",
    "papermill": {
     "duration": 0.014787,
     "end_time": "2019-12-23T17:05:13.250484",
     "exception": false,
     "start_time": "2019-12-23T17:05:13.235697",
     "status": "completed"
    },
    "tags": []
   },
   "source": [
    "For example, if you have a new notebook and has not started any subkernel, the magic will only return session information for the SoS kernel:"
   ]
  },
  {
   "cell_type": "code",
   "execution_count": 1,
   "metadata": {
    "kernel": "SoS",
    "papermill": {
     "duration": 0.614124,
     "end_time": "2019-12-23T17:05:13.880718",
     "exception": false,
     "start_time": "2019-12-23T17:05:13.266594",
     "status": "completed"
    },
    "tags": []
   },
   "outputs": [
    {
     "data": {
      "text/html": [
       "<p class=\"session_section\">SoS</p>\n",
       "<table class=\"session_info\">\n",
       "<tr>\n",
       "<th>SoS Version</th><td><pre>0.21.1</pre></td>\n",
       "</tr>\n",
       "</table>\n"
      ]
     },
     "metadata": {},
     "output_type": "display_data"
    }
   ],
   "source": [
    "%sessioninfo"
   ]
  },
  {
   "cell_type": "markdown",
   "metadata": {
    "kernel": "SoS",
    "papermill": {
     "duration": 0.02303,
     "end_time": "2019-12-23T17:05:13.935246",
     "exception": false,
     "start_time": "2019-12-23T17:05:13.912216",
     "status": "completed"
    },
    "tags": []
   },
   "source": [
    "After you have done some calculation in a subkernel,"
   ]
  },
  {
   "cell_type": "code",
   "execution_count": 2,
   "metadata": {
    "kernel": "R",
    "papermill": {
     "duration": 1.949806,
     "end_time": "2019-12-23T17:05:15.903943",
     "exception": false,
     "start_time": "2019-12-23T17:05:13.954137",
     "status": "completed"
    },
    "tags": []
   },
   "outputs": [
    {
     "data": {
      "text/html": [
       "<ol class=list-inline>\n",
       "\t<li>32</li>\n",
       "\t<li>11</li>\n",
       "</ol>\n"
      ],
      "text/latex": [
       "\\begin{enumerate*}\n",
       "\\item 32\n",
       "\\item 11\n",
       "\\end{enumerate*}\n"
      ],
      "text/markdown": [
       "1. 32\n",
       "2. 11\n",
       "\n",
       "\n"
      ],
      "text/plain": [
       "[1] 32 11"
      ]
     },
     "metadata": {},
     "output_type": "display_data"
    }
   ],
   "source": [
    "dim(mtcars)"
   ]
  },
  {
   "cell_type": "markdown",
   "metadata": {
    "kernel": "R",
    "papermill": {
     "duration": 0.035979,
     "end_time": "2019-12-23T17:05:15.974123",
     "exception": false,
     "start_time": "2019-12-23T17:05:15.938144",
     "status": "completed"
    },
    "tags": []
   },
   "source": [
    "The output would include additional information about the subkernel"
   ]
  },
  {
   "cell_type": "code",
   "execution_count": 3,
   "metadata": {
    "kernel": "R",
    "papermill": {
     "duration": 0.276065,
     "end_time": "2019-12-23T17:05:16.285883",
     "exception": false,
     "start_time": "2019-12-23T17:05:16.009818",
     "status": "completed"
    },
    "tags": []
   },
   "outputs": [
    {
     "data": {
      "text/html": [
       "<p class=\"session_section\">SoS</p>\n",
       "<table class=\"session_info\">\n",
       "<tr>\n",
       "<th>SoS Version</th><td><pre>0.21.1</pre></td>\n",
       "</tr>\n",
       "</table>\n",
       "<p class=\"session_section\">R</p>\n",
       "<table class=\"session_info\">\n",
       "<tr>\n",
       "<th>Kernel</th><td><pre>ir</pre></td>\n",
       "</tr>\n",
       "<tr>\n",
       "<th>Language</th><td><pre>R</pre></td>\n",
       "</tr>\n",
       "<tr>\n",
       "<td colspan=\"2\"><pre>R version 3.6.1 (2019-07-05)\n",
       "Platform: x86_64-apple-darwin13.4.0 (64-bit)\n",
       "Running under: macOS Mojave 10.14.3\n",
       "\n",
       "Matrix products: default\n",
       "BLAS/LAPACK: /Users/bpeng1/anaconda3/envs/sos/lib/libopenblasp-r0.3.6.dylib\n",
       "\n",
       "locale:\n",
       "[1] en_US.UTF-8/en_US.UTF-8/en_US.UTF-8/C/en_US.UTF-8/en_US.UTF-8\n",
       "\n",
       "attached base packages:\n",
       "[1] stats     graphics  grDevices utils     datasets  methods   base     \n",
       "\n",
       "loaded via a namespace (and not attached):\n",
       " [1] compiler_3.6.1  IRdisplay_0.7.0 pbdZMQ_0.3-3    tools_3.6.1    \n",
       " [5] htmltools_0.3.6 pillar_1.4.2    base64enc_0.1-3 crayon_1.3.4   \n",
       " [9] Rcpp_1.0.2      uuid_0.1-2      IRkernel_1.0.2  jsonlite_1.6   \n",
       "[13] digest_0.6.20   repr_1.0.1      rlang_0.4.0     evaluate_0.14</pre></td>\n",
       "</tr>\n",
       "</table>\n"
      ]
     },
     "metadata": {},
     "output_type": "display_data"
    }
   ],
   "source": [
    "%sessioninfo"
   ]
  },
  {
   "cell_type": "markdown",
   "metadata": {
    "kernel": "R",
    "papermill": {
     "duration": 0.031851,
     "end_time": "2019-12-23T17:05:16.351607",
     "exception": false,
     "start_time": "2019-12-23T17:05:16.319756",
     "status": "completed"
    },
    "tags": []
   },
   "source": [
    "### Additional session information"
   ]
  },
  {
   "cell_type": "markdown",
   "metadata": {
    "kernel": "R",
    "papermill": {
     "duration": 0.037192,
     "end_time": "2019-12-23T17:05:16.425587",
     "exception": false,
     "start_time": "2019-12-23T17:05:16.388395",
     "status": "completed"
    },
    "tags": []
   },
   "source": [
    "Session information is not limited to version of the kernels and libraries and might include version of particular tools used for your workflow. Because there is no general way to determine what tools have been used and retrieve their information, you will have to collection such information manually.\n",
    "\n",
    "To add additional session information to the output of `%sessioninfo` magic, you will need to pass it to the `%sessioninfo` magic explicitly as a variable. This variable should be a dictionary, with keys being the section headers and items being the session information, which can be a string, a list of strings, a dictionary, or a list of `(key, value)` pairs. "
   ]
  },
  {
   "cell_type": "markdown",
   "metadata": {
    "kernel": "SoS",
    "papermill": {
     "duration": 0.037681,
     "end_time": "2019-12-23T17:05:16.502753",
     "exception": false,
     "start_time": "2019-12-23T17:05:16.465072",
     "status": "completed"
    },
    "tags": []
   },
   "source": [
    "For example, let us find the versions of two commands `rsync` and `awk`, and revision of this document in the variable `sessioninfo`."
   ]
  },
  {
   "cell_type": "code",
   "execution_count": 4,
   "metadata": {
    "kernel": "SoS",
    "papermill": {
     "duration": 0.362021,
     "end_time": "2019-12-23T17:05:16.906157",
     "exception": false,
     "start_time": "2019-12-23T17:05:16.544136",
     "status": "completed"
    },
    "tags": []
   },
   "outputs": [
    {
     "data": {
      "text/html": [
       "<div class=\"sos_hint\">> sinfo: dict of length 2</div>"
      ],
      "text/plain": [
       ">>> sinfo:\n"
      ]
     },
     "metadata": {},
     "output_type": "display_data"
    },
    {
     "data": {
      "text/plain": [
       "{'Programs': [['rsync', b'rsync  version 2.6.9  protocol version 29\\n'],\n",
       "  ['awk', b'awk version 20070501\\n']],\n",
       " 'Extra': [['Date', '23/12/2019'],\n",
       "  ['Revision', b'1400\\n'],\n",
       "  ['HASH', b'334e2638698750cc5cc4db664f9d8335d6a54eb5\\n']]}"
      ]
     },
     "metadata": {},
     "output_type": "display_data"
    }
   ],
   "source": [
    "%preview -n sinfo\n",
    "import time\n",
    "from subprocess import check_output\n",
    "\n",
    "sinfo = {}\n",
    "sinfo['Programs'] = [\n",
    "        ['rsync', check_output('rsync --version | head -1', shell=True)],\n",
    "        ['awk', check_output('awk -version', shell=True)]\n",
    "    ]\n",
    "sinfo['Extra'] = [\n",
    "        ['Date', time.strftime(\"%d/%m/%Y\")],\n",
    "        ['Revision', check_output('git rev-list --count HEAD', shell=True)],\n",
    "        ['HASH', check_output('git rev-parse HEAD', shell=True)]\n",
    "    ]"
   ]
  },
  {
   "cell_type": "markdown",
   "metadata": {
    "kernel": "SoS",
    "papermill": {
     "duration": 0.035875,
     "end_time": "2019-12-23T17:05:16.969196",
     "exception": false,
     "start_time": "2019-12-23T17:05:16.933321",
     "status": "completed"
    },
    "tags": []
   },
   "source": [
    "The information will be added automatically to the output of `%sessioninfo`."
   ]
  },
  {
   "cell_type": "code",
   "execution_count": 5,
   "metadata": {
    "kernel": "SoS",
    "papermill": {
     "duration": 0.372744,
     "end_time": "2019-12-23T17:05:17.375699",
     "exception": false,
     "start_time": "2019-12-23T17:05:17.002955",
     "status": "completed"
    },
    "show_output": false,
    "tags": []
   },
   "outputs": [
    {
     "data": {
      "text/html": [
       "<p class=\"session_section\">SoS</p>\n",
       "<table class=\"session_info\">\n",
       "<tr>\n",
       "<th>SoS Version</th><td><pre>0.21.1</pre></td>\n",
       "</tr>\n",
       "</table>\n",
       "<p class=\"session_section\">R</p>\n",
       "<table class=\"session_info\">\n",
       "<tr>\n",
       "<th>Kernel</th><td><pre>ir</pre></td>\n",
       "</tr>\n",
       "<tr>\n",
       "<th>Language</th><td><pre>R</pre></td>\n",
       "</tr>\n",
       "<tr>\n",
       "<td colspan=\"2\"><pre>R version 3.6.1 (2019-07-05)\n",
       "Platform: x86_64-apple-darwin13.4.0 (64-bit)\n",
       "Running under: macOS Mojave 10.14.3\n",
       "\n",
       "Matrix products: default\n",
       "BLAS/LAPACK: /Users/bpeng1/anaconda3/envs/sos/lib/libopenblasp-r0.3.6.dylib\n",
       "\n",
       "locale:\n",
       "[1] en_US.UTF-8/en_US.UTF-8/en_US.UTF-8/C/en_US.UTF-8/en_US.UTF-8\n",
       "\n",
       "attached base packages:\n",
       "[1] stats     graphics  grDevices utils     datasets  methods   base     \n",
       "\n",
       "loaded via a namespace (and not attached):\n",
       " [1] compiler_3.6.1  IRdisplay_0.7.0 pbdZMQ_0.3-3    tools_3.6.1    \n",
       " [5] htmltools_0.3.6 pillar_1.4.2    base64enc_0.1-3 crayon_1.3.4   \n",
       " [9] Rcpp_1.0.2      uuid_0.1-2      IRkernel_1.0.2  jsonlite_1.6   \n",
       "[13] digest_0.6.20   repr_1.0.1      rlang_0.4.0     evaluate_0.14</pre></td>\n",
       "</tr>\n",
       "</table>\n",
       "<p class=\"session_section\">Programs</p>\n",
       "<table class=\"session_info\">\n",
       "<tr>\n",
       "<th>rsync</th><td><pre>rsync  version 2.6.9  protocol version 29</pre></td>\n",
       "</tr>\n",
       "<tr>\n",
       "<th>awk</th><td><pre>awk version 20070501</pre></td>\n",
       "</tr>\n",
       "</table>\n",
       "<p class=\"session_section\">Extra</p>\n",
       "<table class=\"session_info\">\n",
       "<tr>\n",
       "<th>Date</th><td><pre>23/12/2019</pre></td>\n",
       "</tr>\n",
       "<tr>\n",
       "<th>Revision</th><td><pre>1400</pre></td>\n",
       "</tr>\n",
       "<tr>\n",
       "<th>HASH</th><td><pre>334e2638698750cc5cc4db664f9d8335d6a54eb5</pre></td>\n",
       "</tr>\n",
       "</table>\n"
      ]
     },
     "metadata": {},
     "output_type": "display_data"
    }
   ],
   "source": [
    "%sessioninfo --with sinfo"
   ]
  },
  {
   "cell_type": "markdown",
   "metadata": {
    "kernel": "SoS",
    "papermill": {
     "duration": 0.032396,
     "end_time": "2019-12-23T17:05:17.439187",
     "exception": false,
     "start_time": "2019-12-23T17:05:17.406791",
     "status": "completed"
    },
    "tags": []
   },
   "source": [
    "## <a id=\"magic_revisions\"></a> List revisions of notebook with magic `%revisions` "
   ]
  },
  {
   "cell_type": "markdown",
   "metadata": {
    "kernel": "SoS",
    "papermill": {
     "duration": 0.028347,
     "end_time": "2019-12-23T17:05:17.502085",
     "exception": false,
     "start_time": "2019-12-23T17:05:17.473738",
     "status": "completed"
    },
    "tags": []
   },
   "source": [
    "We have just showed an example that uses command `git rev-parse HEAD` to append revision information to the output of `%sessioninfo`. This was an very inconvenient way to do it because SoS provides a magic `%revisions`, which displays revisions of the current document if the document is managed by git."
   ]
  },
  {
   "cell_type": "markdown",
   "metadata": {
    "kernel": "SoS",
    "papermill": {
     "duration": 0.032271,
     "end_time": "2019-12-23T17:05:17.566725",
     "exception": false,
     "start_time": "2019-12-23T17:05:17.534454",
     "status": "completed"
    },
    "tags": []
   },
   "source": [
    "This magic accepts a few options. First, any options that are acceptable to [command `git log`](https://git-scm.com/docs/git-log) can be passed to this magic. The most useful ones are options to limit the commits to display such as `-n` (number of commits to output), `--since=<date>` and `--after=<date>`. For example, you can display five most recent commits with command"
   ]
  },
  {
   "cell_type": "code",
   "execution_count": 6,
   "metadata": {
    "kernel": "SoS",
    "papermill": {
     "duration": 0.193713,
     "end_time": "2019-12-23T17:05:17.797102",
     "exception": false,
     "start_time": "2019-12-23T17:05:17.603389",
     "status": "completed"
    },
    "tags": []
   },
   "outputs": [],
   "source": [
    "%revisions -n 5"
   ]
  },
  {
   "cell_type": "markdown",
   "metadata": {
    "kernel": "SoS",
    "papermill": {
     "duration": 0.025709,
     "end_time": "2019-12-23T17:05:17.849202",
     "exception": false,
     "start_time": "2019-12-23T17:05:17.823493",
     "status": "completed"
    },
    "tags": []
   },
   "source": [
    "Another useful option is the `--source` option that allows you to link the revision to specific URL (e.g. github). This option should be specified as a string with `repo`, `revision`, `path`, and `filename` interpolated as URL to the repository, revision id, and path and name of the document respectively. Here `repo` is retrieved from the output of command `git ls-remote --get-url origin` without trailing `.git` (if available). Because SoS Notebook interpolates magics automatically, you should include variables in double braces.\n",
    "\n",
    "For example, the github URL of a particular revision of this document is `https://github.com/REPO/blob/REVISION/PATH/TO/FILENAME` so the command to link this document to its source on github would be:"
   ]
  },
  {
   "cell_type": "code",
   "execution_count": 7,
   "metadata": {
    "kernel": "SoS",
    "papermill": {
     "duration": 0.133563,
     "end_time": "2019-12-23T17:05:18.012346",
     "exception": false,
     "start_time": "2019-12-23T17:05:17.878783",
     "status": "completed"
    },
    "tags": []
   },
   "outputs": [
    {
     "data": {
      "text/html": [
       "<div class=\"sos_hint\">> %revisions -n 5 --source '{repo}/blob/{revision}/{path}'<br></div>"
      ]
     },
     "metadata": {},
     "output_type": "display_data"
    }
   ],
   "source": [
    "%revisions -n 5 --source '{{repo}}/blob/{{revision}}/{{path}}'"
   ]
  },
  {
   "cell_type": "markdown",
   "metadata": {
    "kernel": "SoS",
    "papermill": {
     "duration": 0.037331,
     "end_time": "2019-12-23T17:05:18.083855",
     "exception": false,
     "start_time": "2019-12-23T17:05:18.046524",
     "status": "completed"
    },
    "tags": []
   },
   "source": [
    "Because `github` is the most widely used git repository, we provide the aforementioned template by default if you specify option `--source` without value. That is to say, if your document is hosted in `github.com`, you can simply use\n",
    "\n",
    "```\n",
    "%revisions --source\n",
    "```\n",
    "to link revisions to github."
   ]
  },
  {
   "cell_type": "markdown",
   "metadata": {
    "kernel": "SoS",
    "papermill": {
     "duration": 0.037368,
     "end_time": "2019-12-23T17:05:18.158820",
     "exception": false,
     "start_time": "2019-12-23T17:05:18.121452",
     "status": "completed"
    },
    "tags": []
   },
   "source": [
    "The links do not have to point to the source of the document. For example, because we always convert this document to HTML in another directory and display it on our homepage, we can link the revisions to the HTML version as follows:"
   ]
  },
  {
   "cell_type": "code",
   "execution_count": 8,
   "metadata": {
    "kernel": "SoS",
    "papermill": {
     "duration": 0.154033,
     "end_time": "2019-12-23T17:05:18.353879",
     "exception": false,
     "start_time": "2019-12-23T17:05:18.199846",
     "status": "completed"
    },
    "tags": []
   },
   "outputs": [
    {
     "data": {
      "text/html": [
       "<div class=\"sos_hint\">> %revisions -n 5   --source '{repo}/blob/{revision}/doc/documentation/{filename[:-6]}.html'<br></div>"
      ]
     },
     "metadata": {},
     "output_type": "display_data"
    }
   ],
   "source": [
    "%revisions -n 5 \\\n",
    "  --source '{{repo}}/blob/{{revision}}/doc/documentation/{{filename[:-6]}}.html'"
   ]
  },
  {
   "cell_type": "markdown",
   "metadata": {
    "kernel": "SoS",
    "papermill": {
     "duration": 0.050377,
     "end_time": "2019-12-23T17:05:18.445649",
     "exception": false,
     "start_time": "2019-12-23T17:05:18.395272",
     "status": "completed"
    },
    "tags": []
   },
   "source": [
    "And if you would like to display one or more links next to the revision number, you can do so with the `--links` option:"
   ]
  },
  {
   "cell_type": "code",
   "execution_count": 9,
   "metadata": {
    "kernel": "SoS",
    "papermill": {
     "duration": 0.145,
     "end_time": "2019-12-23T17:05:18.636871",
     "exception": false,
     "start_time": "2019-12-23T17:05:18.491871",
     "status": "completed"
    },
    "tags": []
   },
   "outputs": [
    {
     "data": {
      "text/html": [
       "<div class=\"sos_hint\">> %revisions -n 5 --source    --links HTML '{repo}/blob/{revision}/doc/documentation/{filename[:-6]}.html'<br></div>"
      ]
     },
     "metadata": {},
     "output_type": "display_data"
    }
   ],
   "source": [
    "%revisions -n 5 --source  \\\n",
    "  --links HTML '{{repo}}/blob/{{revision}}/doc/documentation/{{filename[:-6]}}.html'"
   ]
  },
  {
   "cell_type": "markdown",
   "metadata": {
    "kernel": "SoS",
    "papermill": {
     "duration": 0.043141,
     "end_time": "2019-12-23T17:03:04.950271",
     "exception": false,
     "start_time": "2019-12-23T17:03:04.907130",
     "status": "completed"
    },
    "tags": []
   },
   "source": [
    "## Further reading\n",
    "\n",
    "* [SoS magics](sos_magics.html)"
   ]
  }
 ],
 "metadata": {
  "kernelspec": {
   "display_name": "SoS",
   "language": "sos",
   "name": "sos"
  },
  "language_info": {
   "codemirror_mode": "sos",
   "file_extension": ".sos",
   "mimetype": "text/x-sos",
   "name": "sos",
   "nbconvert_exporter": "sos_notebook.converter.SoS_Exporter",
   "pygments_lexer": "sos"
  },
  "papermill": {
   "duration": 13.178163,
   "end_time": "2019-12-23T17:05:23.856476",
   "environment_variables": {},
   "exception": null,
   "input_path": "/Users/bpeng1/sos/sos-docs/src/user_guide/sessioninfo_revision.ipynb",
   "output_path": "sessioninfo_revision.ipynb_rerun.ipynb",
   "parameters": {},
   "start_time": "2019-12-23T17:05:10.678313",
   "version": "1.1.0"
  },
  "sos": {
   "kernels": [
    [
     "Python3",
     "python3",
     "Python3",
     "#FFD91A",
     ""
    ],
    [
     "R",
     "ir",
     "R",
     "#DCDCDA",
     ""
    ],
    [
     "SoS",
     "sos",
     "",
     "",
     "sos"
    ]
   ],
   "panel": {
    "displayed": true,
    "height": 0
   },
   "version": "0.21.3"
  }
 },
 "nbformat": 4,
 "nbformat_minor": 4
}
