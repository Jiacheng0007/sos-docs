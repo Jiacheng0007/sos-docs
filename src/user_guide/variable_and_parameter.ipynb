{
 "cells": [
  {
   "cell_type": "markdown",
   "metadata": {
    "kernel": "SoS",
    "papermill": {
     "duration": 0.017178,
     "end_time": "2019-12-23T17:08:39.828816",
     "exception": false,
     "start_time": "2019-12-23T17:08:39.811638",
     "status": "completed"
    },
    "tags": []
   },
   "source": [
    "# Variables and parameters"
   ]
  },
  {
   "cell_type": "markdown",
   "metadata": {
    "kernel": "SoS",
    "papermill": {
     "duration": 0.010903,
     "end_time": "2019-12-23T17:08:39.853705",
     "exception": false,
     "start_time": "2019-12-23T17:08:39.842802",
     "status": "completed"
    },
    "tags": []
   },
   "source": [
    "* **Difficulty level**: easy\n",
    "* **Time need to lean**: 10 minutes or less\n",
    "* **Key points**:\n",
    "  * SoS (Python) variables can be used to compose scripts in different languages as Python f-strings\n",
    "  * A `parameter` statement defines a parameter that can be passed from command line"
   ]
  },
  {
   "cell_type": "markdown",
   "metadata": {
    "kernel": "SoS",
    "papermill": {
     "duration": 0.012951,
     "end_time": "2019-12-23T17:08:39.877945",
     "exception": false,
     "start_time": "2019-12-23T17:08:39.864994",
     "status": "completed"
    },
    "tags": []
   },
   "source": [
    "## Global and local variables"
   ]
  },
  {
   "cell_type": "markdown",
   "metadata": {
    "kernel": "SoS",
    "papermill": {
     "duration": 0.013425,
     "end_time": "2019-12-23T17:08:39.903361",
     "exception": false,
     "start_time": "2019-12-23T17:08:39.889936",
     "status": "completed"
    },
    "tags": []
   },
   "source": [
    "Now let us have a look at the example workflow from [our SoS overview](sos_overview.html) in more detail. "
   ]
  },
  {
   "cell_type": "code",
   "execution_count": 1,
   "metadata": {
    "kernel": "SoS",
    "papermill": {
     "duration": 5.207073,
     "end_time": "2019-12-23T17:08:45.126695",
     "exception": false,
     "start_time": "2019-12-23T17:08:39.919622",
     "status": "completed"
    },
    "tags": []
   },
   "outputs": [
    {
     "data": {
      "text/html": [
       "<div class=\"sos_logging sos_info\">INFO: Running <span class=\"sos_highlight\">plot_10</span>: \n",
       "</div>"
      ]
     },
     "metadata": {},
     "output_type": "display_data"
    },
    {
     "name": "stdout",
     "output_type": "stream",
     "text": [
      "xlsx2csv data/DEG.xlsx > DEG.csv\n",
      "\n"
     ]
    },
    {
     "data": {
      "text/html": [
       "<div class=\"sos_logging sos_info\">INFO: Running <span class=\"sos_highlight\">plot_20</span>: \n",
       "</div>"
      ]
     },
     "metadata": {},
     "output_type": "display_data"
    },
    {
     "name": "stdout",
     "output_type": "stream",
     "text": [
      "null device \n",
      "          1 \n"
     ]
    },
    {
     "data": {
      "text/html": [
       "<div class=\"sos_logging sos_info\">INFO: Workflow plot (ID=221e15922696f853) is executed successfully with 2 completed steps.\n",
       "</div>"
      ]
     },
     "metadata": {},
     "output_type": "display_data"
    }
   ],
   "source": [
    "%run\n",
    "\n",
    "[global]\n",
    "excel_file = 'data/DEG.xlsx'\n",
    "csv_file = 'DEG.csv'\n",
    "figure_file = 'output.pdf'\n",
    "\n",
    "[plot_10]\n",
    "run: expand=True\n",
    "    xlsx2csv {excel_file} > {csv_file}\n",
    "\n",
    "[plot_20]\n",
    "R: expand=True\n",
    "    data <- read.csv('{csv_file}')\n",
    "    pdf('{figure_file}')\n",
    "    plot(data$log2FoldChange, data$stat)\n",
    "    dev.off()"
   ]
  },
  {
   "cell_type": "markdown",
   "metadata": {
    "kernel": "SoS",
    "papermill": {
     "duration": 0.01627,
     "end_time": "2019-12-23T17:08:45.156876",
     "exception": false,
     "start_time": "2019-12-23T17:08:45.140606",
     "status": "completed"
    },
    "tags": []
   },
   "source": [
    "This workflow has a `global` section, which defines variables that are visible to all workflow steps. The three variables are available in `plot_10` and `plot_20`, so they can be used in actions `run` and `R` with the option `expand=True`. More explicitly, the `plot_10` can be considered as the following python script\n",
    "\n",
    "```python\n",
    "excel_file = 'data/DEG.xlsx'\n",
    "csv_file = 'DEG.csv'\n",
    "figure_file = 'output.pdf'\n",
    "\n",
    "run(f'''\\\n",
    "xlsx2csv {excel_file} > {csv_file}\n",
    "''')\n",
    "```"
   ]
  },
  {
   "cell_type": "markdown",
   "metadata": {
    "kernel": "SoS",
    "papermill": {
     "duration": 0.013611,
     "end_time": "2019-12-23T17:08:45.184293",
     "exception": false,
     "start_time": "2019-12-23T17:08:45.170682",
     "status": "completed"
    },
    "tags": []
   },
   "source": [
    "<div class=\"bs-callout bs-callout-primary\" role=\"alert\">\n",
    "  <b>The global section</b><br>\n",
    "  <p>The content of the global section can be considered as part of all workflow steps</p>  \n",
    "</div>"
   ]
  },
  {
   "cell_type": "markdown",
   "metadata": {
    "kernel": "SoS",
    "papermill": {
     "duration": 0.01414,
     "end_time": "2019-12-23T17:08:45.214291",
     "exception": false,
     "start_time": "2019-12-23T17:08:45.200151",
     "status": "completed"
    },
    "tags": []
   },
   "source": [
    "In contrast, **variables defined in individual steps are not available to other steps**. For example, the following workflow would fail because `csv_file` is defined locally in step `plot_10`."
   ]
  },
  {
   "cell_type": "code",
   "execution_count": 2,
   "metadata": {
    "kernel": "SoS",
    "papermill": {
     "duration": 4.632345,
     "end_time": "2019-12-23T17:08:49.860342",
     "exception": false,
     "start_time": "2019-12-23T17:08:45.227997",
     "status": "completed"
    },
    "tags": []
   },
   "outputs": [
    {
     "data": {
      "text/html": [
       "<div class=\"sos_logging sos_info\">INFO: Running <span class=\"sos_highlight\">plot_10</span>: \n",
       "</div>"
      ]
     },
     "metadata": {},
     "output_type": "display_data"
    },
    {
     "name": "stdout",
     "output_type": "stream",
     "text": [
      "xlsx2csv data/DEG.xlsx > DEG.csv\n",
      "\n"
     ]
    },
    {
     "data": {
      "text/html": [
       "<div class=\"sos_logging sos_info\">INFO: Running <span class=\"sos_highlight\">plot_20</span>: \n",
       "</div>"
      ]
     },
     "metadata": {},
     "output_type": "display_data"
    },
    {
     "data": {
      "text/html": [
       "<div class=\"sos_logging sos_error\">ERROR: ERROR step_executor.py:1743 - plot_20 (id=-3222990869657705730) returns an error. - None\n",
       "</div>"
      ]
     },
     "metadata": {},
     "output_type": "display_data"
    },
    {
     "name": "stdout",
     "output_type": "stream",
     "text": [
      "\u001b[91mERROR\u001b[0m: \u001b[91m[plot_20]: [0]: \n",
      "---------------------------------------------------------------------------\n",
      "NameError                                 Traceback (most recent call last)\n",
      "script_9165009559193683330 in <module>\n",
      "      plot(data$log2FoldChange, data$stat)\n",
      "      dev.off()\n",
      "----> \"\"\")\n",
      "      \n",
      "\n",
      "NameError: name 'csv_file' is not defined\u001b[0m\n"
     ]
    }
   ],
   "source": [
    "%run\n",
    "\n",
    "[plot_10]\n",
    "excel_file = 'data/DEG.xlsx'\n",
    "csv_file = 'DEG.csv'\n",
    "\n",
    "run: expand=True\n",
    "    xlsx2csv {excel_file} > {csv_file}\n",
    "\n",
    "[plot_20]\n",
    "figure_file = 'output.pdf'\n",
    "\n",
    "R: expand=True\n",
    "    data <- read.csv('{csv_file}')\n",
    "    pdf('{figure_file}')\n",
    "    plot(data$log2FoldChange, data$stat)\n",
    "    dev.off()"
   ]
  },
  {
   "cell_type": "markdown",
   "metadata": {
    "kernel": "SoS",
    "papermill": {
     "duration": 0.018619,
     "end_time": "2019-12-23T17:08:49.896460",
     "exception": false,
     "start_time": "2019-12-23T17:08:49.877841",
     "status": "completed"
    },
    "tags": []
   },
   "source": [
    "<div class=\"bs-callout bs-callout-warning\" role=\"alert\">\n",
    "  <b>Local (step-level) variables</b><br>\n",
    "  <p>Variables defines at the step level are local to the step and are not accessible from other SoS steps.</p>  \n",
    "</div>"
   ]
  },
  {
   "cell_type": "markdown",
   "metadata": {
    "kernel": "SoS",
    "papermill": {
     "duration": 0.016474,
     "end_time": "2019-12-23T17:08:49.929869",
     "exception": false,
     "start_time": "2019-12-23T17:08:49.913395",
     "status": "completed"
    },
    "tags": []
   },
   "source": [
    "If you really need to pass locally defined variables to other steps, you will have to return it as the part of the result of the output, or explicitly share the variable with others. Please refer to the [Further reading](#further_reading) section of this tutorial for details."
   ]
  },
  {
   "cell_type": "markdown",
   "metadata": {
    "kernel": "SoS",
    "papermill": {
     "duration": 0.016416,
     "end_time": "2019-12-23T17:08:49.962953",
     "exception": false,
     "start_time": "2019-12-23T17:08:49.946537",
     "status": "completed"
    },
    "tags": []
   },
   "source": [
    "## Workflow parameters <a id=\"parameter\"></a>"
   ]
  },
  {
   "cell_type": "markdown",
   "metadata": {
    "kernel": "SoS",
    "papermill": {
     "duration": 0.017606,
     "end_time": "2019-12-23T17:08:49.997714",
     "exception": false,
     "start_time": "2019-12-23T17:08:49.980108",
     "status": "completed"
    },
    "tags": []
   },
   "source": [
    "SoS allows you to define parameters that accept values from command line options.  "
   ]
  },
  {
   "cell_type": "code",
   "execution_count": 3,
   "metadata": {
    "kernel": "SoS",
    "papermill": {
     "duration": 5.152995,
     "end_time": "2019-12-23T17:08:55.167755",
     "exception": false,
     "start_time": "2019-12-23T17:08:50.014760",
     "status": "completed"
    },
    "tags": []
   },
   "outputs": [
    {
     "data": {
      "text/html": [
       "<div class=\"sos_logging sos_info\">INFO: Running <span class=\"sos_highlight\">plot_10</span>: \n",
       "</div>"
      ]
     },
     "metadata": {},
     "output_type": "display_data"
    },
    {
     "name": "stdout",
     "output_type": "stream",
     "text": [
      "xlsx2csv data/DEG.xlsx > DEG.csv\n",
      "\n"
     ]
    },
    {
     "data": {
      "text/html": [
       "<div class=\"sos_logging sos_info\">INFO: Running <span class=\"sos_highlight\">plot_20</span>: \n",
       "</div>"
      ]
     },
     "metadata": {},
     "output_type": "display_data"
    },
    {
     "name": "stdout",
     "output_type": "stream",
     "text": [
      "null device \n",
      "          1 \n"
     ]
    },
    {
     "data": {
      "text/html": [
       "<div class=\"sos_logging sos_info\">INFO: Workflow plot (ID=0ddd53274a069952) is executed successfully with 2 completed steps.\n",
       "</div>"
      ]
     },
     "metadata": {},
     "output_type": "display_data"
    }
   ],
   "source": [
    "%run --excel-file data/DEG.xlsx\n",
    "\n",
    "[global]\n",
    "parameter: excel_file = str\n",
    "parameter: csv_file = 'DEG.csv'\n",
    "parameter: figure_file = 'output.pdf'\n",
    "\n",
    "[plot_10]\n",
    "run: expand=True\n",
    "    xlsx2csv {excel_file} > {csv_file}\n",
    "\n",
    "[plot_20]\n",
    "R: expand=True\n",
    "    data <- read.csv('{csv_file}')\n",
    "    pdf('{figure_file}')\n",
    "    plot(data$log2FoldChange, data$stat)\n",
    "    dev.off()"
   ]
  },
  {
   "cell_type": "markdown",
   "metadata": {
    "kernel": "SoS",
    "papermill": {
     "duration": 0.027607,
     "end_time": "2019-12-23T17:08:55.219630",
     "exception": false,
     "start_time": "2019-12-23T17:08:55.192023",
     "status": "completed"
    },
    "tags": []
   },
   "source": [
    "In the above example, three parameters `excel_file`, `csv_file`, `figure_file` are defined. Parameter `excel_file` is required and is specified as an command line option of the `%run` magic. The other two parameters have their default values. Note that parameter `excel_file` can be specified as both `--excel_file` or `--excel-file` from command line."
   ]
  },
  {
   "cell_type": "markdown",
   "metadata": {
    "kernel": "SoS",
    "papermill": {
     "duration": 0.024383,
     "end_time": "2019-12-23T17:08:57.512886",
     "exception": false,
     "start_time": "2019-12-23T17:08:57.488503",
     "status": "completed"
    },
    "tags": []
   },
   "source": [
    "## Further reading <a id='further_reading'></a>\n",
    "\n",
    "* [The `parameter` statement](parameters.html)"
   ]
  }
 ],
 "metadata": {
  "kernelspec": {
   "display_name": "SoS",
   "language": "sos",
   "name": "sos"
  },
  "language_info": {
   "codemirror_mode": "sos",
   "file_extension": ".sos",
   "mimetype": "text/x-sos",
   "name": "sos",
   "nbconvert_exporter": "sos_notebook.converter.SoS_Exporter",
   "pygments_lexer": "sos"
  },
  "papermill": {
   "duration": 25.725449,
   "end_time": "2019-12-23T17:09:02.721923",
   "environment_variables": {},
   "exception": null,
   "input_path": "/Users/bpeng1/sos/sos-docs/src/user_guide/variable_and_parameter.ipynb",
   "output_path": "variable_and_parameter.ipynb_rerun.ipynb",
   "parameters": {},
   "start_time": "2019-12-23T17:08:36.996474",
   "version": "1.1.0"
  },
  "sos": {
   "kernels": [
    [
     "Bash",
     "bash",
     "Bash",
     "#E6EEFF"
    ],
    [
     "R",
     "ir",
     "R",
     "#DCDCDA"
    ],
    [
     "SoS",
     "sos",
     "",
     ""
    ]
   ],
   "panel": {
    "displayed": true,
    "height": 0
   },
   "version": "0.21.3"
  }
 },
 "nbformat": 4,
 "nbformat_minor": 4
}
