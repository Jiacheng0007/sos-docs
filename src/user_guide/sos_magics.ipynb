{
 "cells": [
  {
   "cell_type": "markdown",
   "metadata": {
    "kernel": "SoS",
    "tags": []
   },
   "source": [
    "# SoS Magics"
   ]
  },
  {
   "cell_type": "markdown",
   "metadata": {
    "kernel": "SoS",
    "tags": []
   },
   "source": [
    "* **Difficulty level**: hard\n",
    "* **Time need to lean**: refer to this document only when needed\n",
    "* **Key points**:\n",
    "  * Use `%<tab>` to get a list of magics\n",
    "  * Use `%MAGIC -h` to get the help messages  "
   ]
  },
  {
   "cell_type": "markdown",
   "metadata": {
    "kernel": "SoS",
    "tags": []
   },
   "source": [
    "## Getting help"
   ]
  },
  {
   "cell_type": "markdown",
   "metadata": {
    "kernel": "SoS",
    "tags": []
   },
   "source": [
    "In addition to SoS statements, you can use a few SoS magics in Jupyter notebooks with a SoS kernel. Note that \n",
    "\n",
    "* SoS magics have to be specified at the beginning of a cell, although they can be specified after empty lines and comments.\n",
    "* Lines ending with `\"\\\"` will be joined so you can break long magics into multiple lines\n",
    "* Multiple magics can be used in a single cell."
   ]
  },
  {
   "cell_type": "markdown",
   "metadata": {
    "kernel": "SoS",
    "tags": []
   },
   "source": [
    "In any SoS cell, you can type `%` and use the `<TAB>` key to get a list of SoS magics. Then, for any magic you need to use, you can type `%MAGIC -h` to get the help information. This reference manual is simply a composition of these help messages."
   ]
  },
  {
   "cell_type": "markdown",
   "metadata": {
    "kernel": "SoS",
    "tags": []
   },
   "source": [
    "## List of Magics"
   ]
  },
  {
   "cell_type": "markdown",
   "metadata": {
    "kernel": "SoS",
    "tags": []
   },
   "source": [
    "### <a id=\"magic_capture\"></a>`%capture`"
   ]
  },
  {
   "cell_type": "code",
   "execution_count": 1,
   "metadata": {
    "kernel": "SoS",
    "tags": []
   },
   "outputs": [
    {
     "name": "stdout",
     "output_type": "stream",
     "text": [
      "usage: %capture [-h] [--as [{text,json,csv,tsv}]] [-t VAR | -a VAR]\n",
      "                [{stdout,stderr,text,markdown,html,raw,error}]\n",
      "\n",
      "Capture output from a subkernel as variable in SoS\n",
      "\n",
      "positional arguments:\n",
      "  {stdout,stderr,text,markdown,html,raw,error}\n",
      "                        Message type to capture. In terms of Jupyter message\n",
      "                        types, \"stdout\" refers to \"stream\" message with\n",
      "                        \"stdout\" type, \"stderr\" refers to \"stream\" message\n",
      "                        with \"stderr\" type, \"text\", \"markdown\" and \"html\"\n",
      "                        refers to \"display_data\" or \"execute_result\" messages\n",
      "                        with \"text/plain\", \"text/markdown\" and \"text/html\"\n",
      "                        type respectively, and 'error' refers to \"evalue\" of\n",
      "                        \"error\" messages. If no value or \"raw\" is specified,\n",
      "                        all returned messages will be returned in alist\n",
      "                        format, and will be displayed in the console panel.\n",
      "                        This will help you determine the right type to\n",
      "                        capture.\n",
      "\n",
      "optional arguments:\n",
      "  -h, --help            show this help message and exit\n",
      "  --as [{text,json,csv,tsv}]\n",
      "                        How to interpret the captured text. This only\n",
      "                        applicable to stdout, stderr and text message type\n",
      "                        where the text from cell output will be collected. If\n",
      "                        this option is given, SoS will try to parse the text\n",
      "                        as json, csv (comma separated text), tsv (tab\n",
      "                        separated text), and store text (from text), Pandas\n",
      "                        DataFrame (from csv or tsv), dict or other types (from\n",
      "                        json) to the variable.\n",
      "  -t VAR, --to VAR      Name of variable to which the captured content will be\n",
      "                        saved. If no varialbe is specified, the return value\n",
      "                        will be saved to variable \"__captured\" and be\n",
      "                        displayed at the side panel.\n",
      "  -a VAR, --append VAR  Name of variable to which the captured content will be\n",
      "                        appended. This option is equivalent to --to if VAR\n",
      "                        does not exist. If VAR exists and is of the same type\n",
      "                        of new content (str or dict or DataFrame), the new\n",
      "                        content will be appended to VAR if VAR is of str (str\n",
      "                        concatenation), dict (dict update), or DataFrame\n",
      "                        (DataFrame.append) types. If VAR is of list type, the\n",
      "                        new content will be appended to the end of the list.\n"
     ]
    }
   ],
   "source": [
    "%capture -h"
   ]
  },
  {
   "cell_type": "markdown",
   "metadata": {
    "kernel": "sos",
    "tags": []
   },
   "source": [
    "### <a id=\"magic_cd\"></a>`%cd` "
   ]
  },
  {
   "cell_type": "code",
   "execution_count": 2,
   "metadata": {
    "kernel": "SoS",
    "tags": []
   },
   "outputs": [
    {
     "name": "stdout",
     "output_type": "stream",
     "text": [
      "usage: %cd [-h] dir\n",
      "\n",
      "change directory of SoS and all subkernels.\n",
      "\n",
      "positional arguments:\n",
      "  dir         destination directory\n",
      "\n",
      "optional arguments:\n",
      "  -h, --help  show this help message and exit\n"
     ]
    }
   ],
   "source": [
    "%cd -h"
   ]
  },
  {
   "cell_type": "markdown",
   "metadata": {
    "kernel": "SoS",
    "tags": []
   },
   "source": [
    "### `%convert`"
   ]
  },
  {
   "cell_type": "code",
   "execution_count": 3,
   "metadata": {
    "kernel": "SoS",
    "tags": []
   },
   "outputs": [
    {
     "name": "stdout",
     "output_type": "stream",
     "text": [
      "usage: %convert [-h] [-t {sos,html}] [-f] [--template TEMPLATE] [filename]\n",
      "\n",
      "Convert the current notebook to another format.\n",
      "\n",
      "positional arguments:\n",
      "  filename              Filename of saved report or script. Default to\n",
      "                        notebookname with file extension determined by option\n",
      "                        --to.\n",
      "\n",
      "optional arguments:\n",
      "  -h, --help            show this help message and exit\n",
      "  -t {sos,html}, --to {sos,html}\n",
      "                        Destination format, default to html.\n",
      "  -f, --force           If destination file already exists, overwrite it.\n",
      "  --template TEMPLATE   Template to generate HTML output. The default template\n",
      "                        is a template defined by configuration key default-\n",
      "                        sos-template, or sos-report-toc if such a key does not\n",
      "                        exist.\n"
     ]
    }
   ],
   "source": [
    "%convert -h"
   ]
  },
  {
   "cell_type": "markdown",
   "metadata": {
    "kernel": "SoS",
    "tags": []
   },
   "source": [
    "### `%env`"
   ]
  },
  {
   "cell_type": "code",
   "execution_count": 4,
   "metadata": {
    "kernel": "SoS",
    "tags": []
   },
   "outputs": [
    {
     "name": "stdout",
     "output_type": "stream",
     "text": [
      "usage: %env [-h] [--new] [--set SET [SET ...]]\n",
      "            [--prepend-path PREPEND_PATH [PREPEND_PATH ...]] [--tempdir]\n",
      "            [--expect-error] [--allow-error]\n",
      "\n",
      "Adjust the running environment for the cell, such as running with a new dict,\n",
      "under a different directory, and expect an error from the execution of the\n",
      "cell.\n",
      "\n",
      "optional arguments:\n",
      "  -h, --help            show this help message and exit\n",
      "  --new                 Execute workflow with a fresh SoS environment\n",
      "  --set SET [SET ...]   Set one more more environment variables. Parameters of\n",
      "                        this option can be 'KEY=VALUE' or just 'KEY'. An empty\n",
      "                        evnironment variable will be set in the latter case.\n",
      "                        Note that the environments will be reset out of the\n",
      "                        cell.\n",
      "  --prepend-path PREPEND_PATH [PREPEND_PATH ...]\n",
      "                        Prepend one or more paths before \"$PATH\" so that\n",
      "                        commands in those paths will take priority. Note that\n",
      "                        `$PATH` will be reset after the completion of the\n",
      "                        cell.\n",
      "  --tempdir             Execute workflow in temporary directory, which will be\n",
      "                        removed after the completion of the cell. Therefore\n",
      "                        you cannot use this option when running the cell\n",
      "                        content in background mode.\n",
      "  --expect-error        If set, expect error from the excution and report\n",
      "                        success if an error occurs, and report error if an\n",
      "                        error does not occur.\n",
      "  --allow-error         If set, return success even if the underlying cell\n",
      "                        reports error.\n"
     ]
    }
   ],
   "source": [
    "%env -h"
   ]
  },
  {
   "cell_type": "markdown",
   "metadata": {
    "kernel": "sos",
    "tags": []
   },
   "source": [
    "### `%expand` "
   ]
  },
  {
   "cell_type": "code",
   "execution_count": 5,
   "metadata": {
    "kernel": "SoS",
    "tags": []
   },
   "outputs": [
    {
     "name": "stdout",
     "output_type": "stream",
     "text": [
      "usage: %expand [-h] [-i KERNEL] [sigil] [right_sigil]\n",
      "\n",
      "Expand the script in the current cell with default ({}) or specified sigil.\n",
      "\n",
      "positional arguments:\n",
      "  sigil                 Sigil to be used to interpolated the texts. It can be\n",
      "                        quoted, or be specified as two options.\n",
      "  right_sigil           Right sigil if the sigil is specified as two pieces.\n",
      "\n",
      "optional arguments:\n",
      "  -h, --help            show this help message and exit\n",
      "  -i KERNEL, --in KERNEL\n",
      "                        Expand the cell content in specific kernel, default to\n",
      "                        \"SoS\". This requires that the language module supports\n",
      "                        the \"expand\" featire.\n"
     ]
    }
   ],
   "source": [
    "%expand -h"
   ]
  },
  {
   "cell_type": "markdown",
   "metadata": {
    "kernel": "SoS",
    "tags": []
   },
   "source": [
    "### <a id=\"magic_get\"></a>`%get` "
   ]
  },
  {
   "cell_type": "code",
   "execution_count": 6,
   "metadata": {
    "kernel": "SoS",
    "tags": []
   },
   "outputs": [
    {
     "name": "stdout",
     "output_type": "stream",
     "text": [
      "usage: %get [-h] [--from __FROM__] [vars [vars ...]]\n",
      "\n",
      "Get specified variables from another kernel, which is by default the SoS\n",
      "kernel.\n",
      "\n",
      "positional arguments:\n",
      "  vars             Names of SoS variables\n",
      "\n",
      "optional arguments:\n",
      "  -h, --help       show this help message and exit\n",
      "  --from __FROM__  Name of kernel from which the variables will be obtained.\n",
      "                   Default to the SoS kernel.\n"
     ]
    }
   ],
   "source": [
    "%get -h"
   ]
  },
  {
   "cell_type": "markdown",
   "metadata": {
    "kernel": "SoS",
    "tags": []
   },
   "source": [
    "### <a id=\"magic_matplotlib\"></a>`%matplotlib`"
   ]
  },
  {
   "cell_type": "code",
   "execution_count": 7,
   "metadata": {
    "kernel": "SoS",
    "tags": []
   },
   "outputs": [
    {
     "name": "stdout",
     "output_type": "stream",
     "text": [
      "usage: %matplotlib [-h] [-l]\n",
      "                   [{agg,gtk,gtk3,inline,ipympl,nbagg,notebook,osx,pdf,ps,qt,qt4,qt5,svg,tk,widget,wx}]\n",
      "\n",
      "Set matplotlib parser type\n",
      "\n",
      "positional arguments:\n",
      "  {agg,gtk,gtk3,inline,ipympl,nbagg,notebook,osx,pdf,ps,qt,qt4,qt5,svg,tk,widget,wx}\n",
      "                        Name of the matplotlib backend to use (‘agg’, ‘gtk’,\n",
      "                        ‘gtk3’,\n",
      "\n",
      "optional arguments:\n",
      "  -h, --help            show this help message and exit\n",
      "  -l, --list            Show available matplotlib backends\n"
     ]
    }
   ],
   "source": [
    "%matplotlib -h"
   ]
  },
  {
   "cell_type": "markdown",
   "metadata": {
    "kernel": "SoS",
    "tags": []
   },
   "source": [
    "### <a id=\"magic_put\"></a>`%put` "
   ]
  },
  {
   "cell_type": "code",
   "execution_count": 8,
   "metadata": {
    "kernel": "SoS",
    "tags": []
   },
   "outputs": [
    {
     "name": "stdout",
     "output_type": "stream",
     "text": [
      "usage: %put [-h] [--to __TO__] [vars [vars ...]]\n",
      "\n",
      "Put specified variables in the subkernel to another kernel, which is by\n",
      "default the SoS kernel.\n",
      "\n",
      "positional arguments:\n",
      "  vars         Names of SoS variables\n",
      "\n",
      "optional arguments:\n",
      "  -h, --help   show this help message and exit\n",
      "  --to __TO__  Name of kernel from which the variables will be obtained.\n",
      "               Default to the SoS kernel.\n"
     ]
    }
   ],
   "source": [
    "%put -h"
   ]
  },
  {
   "cell_type": "markdown",
   "metadata": {
    "kernel": "SoS",
    "tags": []
   },
   "source": [
    "###  <a id=\"magic_preview\"></a>`%preview`"
   ]
  },
  {
   "cell_type": "code",
   "execution_count": 9,
   "metadata": {
    "kernel": "SoS",
    "tags": []
   },
   "outputs": [
    {
     "name": "stdout",
     "output_type": "stream",
     "text": [
      "usage: %preview [-h] [-k KERNEL] [-w] [-s {table,scatterplot,png}] [-r HOST]\n",
      "                [-p | -n] [-c CONFIG]\n",
      "                [items [items ...]]\n",
      "\n",
      "Preview files, sos variables, or expressions in the side panel, or notebook if\n",
      "side panel is not opened, unless options --panel or --notebook is specified.\n",
      "\n",
      "positional arguments:\n",
      "  items                 Filename, variable name, or expression. Wildcard\n",
      "                        characters such as '*' and '?' are allowed for\n",
      "                        filenames.\n",
      "\n",
      "optional arguments:\n",
      "  -h, --help            show this help message and exit\n",
      "  -k KERNEL, --kernel KERNEL\n",
      "                        kernel in which variables will be previewed. By\n",
      "                        default the variable will be previewed in the current\n",
      "                        kernel of the cell.\n",
      "  -w, --workflow        Preview notebook workflow\n",
      "  -s {table,scatterplot,png}, --style {table,scatterplot,png}\n",
      "                        Option for preview file or variable, which by default\n",
      "                        is \"table\" for Pandas DataFrame. The %preview magic\n",
      "                        also accepts arbitrary additional keyword arguments,\n",
      "                        which would be interpreted by individual style.\n",
      "                        Passing '-h' with '--style' would display the usage\n",
      "                        information of particular style.\n",
      "  -r HOST, --host HOST  Preview files on specified remote host, which should\n",
      "                        be one of the hosts defined in sos configuration\n",
      "                        files.\n",
      "  -p, --panel           Preview in side panel even if the panel is currently\n",
      "                        closed\n",
      "  -n, --notebook        Preview in the main notebook.\n",
      "  -c CONFIG, --config CONFIG\n",
      "                        A configuration file with host definitions, in case\n",
      "                        the definitions are not defined in global or local sos\n",
      "                        config.yml files.\n"
     ]
    }
   ],
   "source": [
    "%preview -h"
   ]
  },
  {
   "cell_type": "markdown",
   "metadata": {
    "kernel": "SoS",
    "tags": []
   },
   "source": [
    "### <a id=\"magic_render\"></a>`%render` "
   ]
  },
  {
   "cell_type": "code",
   "execution_count": 10,
   "metadata": {
    "kernel": "SoS",
    "tags": []
   },
   "outputs": [
    {
     "name": "stdout",
     "output_type": "stream",
     "text": [
      "usage: %render [-h] [--as [AS_TYPE]] [{stdout,text}]\n",
      "\n",
      "Treat the output of a SoS cell as another format, default to markdown.\n",
      "\n",
      "positional arguments:\n",
      "  {stdout,text}   Message type to capture, default to standard output. In\n",
      "                  terms of Jupyter message types, \"stdout\" refers to \"stream\"\n",
      "                  message with \"stdout\" type, and \"text\" refers to\n",
      "                  \"display_data\" message with \"text/plain\" type.\n",
      "\n",
      "optional arguments:\n",
      "  -h, --help      show this help message and exit\n",
      "  --as [AS_TYPE]  Format to render output of cell, default to Markdown, but\n",
      "                  can be any format that is supported by the IPython.display\n",
      "                  module such as HTML, Math, JSON, JavaScript and SVG.\n"
     ]
    }
   ],
   "source": [
    "%render -h"
   ]
  },
  {
   "cell_type": "markdown",
   "metadata": {
    "kernel": "SoS",
    "tags": []
   },
   "source": [
    "### <a id=\"magic_revisions\"></a>`%revisions` "
   ]
  },
  {
   "cell_type": "code",
   "execution_count": 11,
   "metadata": {
    "kernel": "SoS",
    "tags": []
   },
   "outputs": [
    {
     "name": "stdout",
     "output_type": "stream",
     "text": [
      "usage: %revision [-h] [-s [SOURCE]] [-l LINKS [LINKS ...]]\n",
      "\n",
      "Revision history of the document, parsed from the log message of the notebook\n",
      "if it is kept in a git repository. Additional parameters to \"git log\" command\n",
      "(e.g. -n 5 --since --after) could be specified to limit the revisions to\n",
      "display.\n",
      "\n",
      "optional arguments:\n",
      "  -h, --help            show this help message and exit\n",
      "  -s [SOURCE], --source [SOURCE]\n",
      "                        Source URL to to create links for revisions. SoS\n",
      "                        automatically parse source URL of the origin and\n",
      "                        provides variables \"repo\" for complete origin URL\n",
      "                        without trailing \".git\" (e.g.\n",
      "                        https://github.com/vatlab/sos-notebook), \"path\" for\n",
      "                        complete path name (e.g. src/document/doc.ipynb),\n",
      "                        \"filename\" for only the name of the \"path\", and\n",
      "                        \"revision\" for revisions. Because sos interpolates\n",
      "                        command line by default, variables in URL template\n",
      "                        should be included with double braceses (e.g. --source\n",
      "                        {{repo}}/blob/{{revision}}/{{path}})). If this option\n",
      "                        is provided without value and the document is hosted\n",
      "                        on github, a default template will be provided.\n",
      "  -l LINKS [LINKS ...], --links LINKS [LINKS ...]\n",
      "                        Name and URL or additional links for related files\n",
      "                        (e.g. --links report URL_to_repo ) with URL\n",
      "                        interpolated as option --source.\n"
     ]
    }
   ],
   "source": [
    "%revisions -h"
   ]
  },
  {
   "cell_type": "markdown",
   "metadata": {
    "kernel": "SoS",
    "tags": []
   },
   "source": [
    "### <a id=\"magic_run\"></a>`%run` "
   ]
  },
  {
   "cell_type": "code",
   "execution_count": 12,
   "metadata": {
    "kernel": "SoS",
    "tags": []
   },
   "outputs": [
    {
     "name": "stdout",
     "output_type": "stream",
     "text": [
      "usage: %run [-h]\n",
      "\n",
      "Execute the current cell with specified command line arguments. If the magic\n",
      "ends with \"&\", it will be sent to a queue to be executed sequentially.\n",
      "\n",
      "optional arguments:\n",
      "  -h, --help  show this help message and exit\n"
     ]
    }
   ],
   "source": [
    "%run -h"
   ]
  },
  {
   "cell_type": "markdown",
   "metadata": {
    "kernel": "SoS",
    "tags": []
   },
   "source": [
    "### <a id=\"magic_runfile\"></a>`%runfile` "
   ]
  },
  {
   "cell_type": "code",
   "execution_count": 13,
   "metadata": {
    "kernel": "SoS",
    "tags": []
   },
   "outputs": [
    {
     "name": "stdout",
     "output_type": "stream",
     "text": [
      "usage: %runfile [-h] script\n",
      "\n",
      "Execute an external SoS script, which is identical to run !sos run script but\n",
      "allows the display of task and workflow status in notebook. It also accepts\n",
      "default parameters of %set magic.\n",
      "\n",
      "positional arguments:\n",
      "  script      Script to be executed.\n",
      "\n",
      "optional arguments:\n",
      "  -h, --help  show this help message and exit\n"
     ]
    }
   ],
   "source": [
    "%runfile -h"
   ]
  },
  {
   "cell_type": "markdown",
   "metadata": {
    "kernel": "SoS",
    "tags": []
   },
   "source": [
    "### `%save` "
   ]
  },
  {
   "cell_type": "markdown",
   "metadata": {
    "kernel": "SoS",
    "tags": []
   },
   "source": [
    "Magic `%save` saves the content of the current cell (after the magic itself) to specified file. It accepts the following options:"
   ]
  },
  {
   "cell_type": "code",
   "execution_count": 14,
   "metadata": {
    "kernel": "SoS",
    "tags": []
   },
   "outputs": [
    {
     "name": "stdout",
     "output_type": "stream",
     "text": [
      "usage: %save [-h] [-r] [-f] [-a] [-x] filename\n",
      "\n",
      "Save the content of the cell to specified file. It ignores magic lines after\n",
      "the %save magic unless a blank line is used to separate the magics and the\n",
      "content to be saved.\n",
      "\n",
      "positional arguments:\n",
      "  filename              Filename of saved report or script.\n",
      "\n",
      "optional arguments:\n",
      "  -h, --help            show this help message and exit\n",
      "  -r, --run             Continue to execute the cell once content is saved.\n",
      "  -f, --force           If destination file already exists, overwrite it.\n",
      "  -a, --append          If destination file already exists, append to it.\n",
      "  -x, --set-executable  Set `executable` permission to saved script.\n"
     ]
    }
   ],
   "source": [
    "%save -h"
   ]
  },
  {
   "cell_type": "markdown",
   "metadata": {
    "kernel": "SoS",
    "tags": []
   },
   "source": [
    "### <a id=\"magic_sosrun\"></a>`%sosrun` "
   ]
  },
  {
   "cell_type": "code",
   "execution_count": 15,
   "metadata": {
    "kernel": "SoS",
    "tags": []
   },
   "outputs": [
    {
     "name": "stdout",
     "output_type": "stream",
     "text": [
      "usage: %sosrun [-h]\n",
      "\n",
      "Execute the entire notebook with steps consisting of SoS cells (cells with SoS\n",
      "kernel) with section header, with specified command line arguments. Arguments\n",
      "set by magic %set will be appended at the end of command line. If the magic\n",
      "ends with \"&\", it will be sent to a queue to be executed sequentially.\n",
      "\n",
      "optional arguments:\n",
      "  -h, --help  show this help message and exit\n"
     ]
    }
   ],
   "source": [
    "%sosrun -h"
   ]
  },
  {
   "cell_type": "markdown",
   "metadata": {
    "kernel": "SoS",
    "tags": []
   },
   "source": [
    "###  <a id=\"magic_sessioninfo\"></a>`%sessioninfo`"
   ]
  },
  {
   "cell_type": "code",
   "execution_count": 16,
   "metadata": {
    "kernel": "SoS",
    "tags": []
   },
   "outputs": [
    {
     "name": "stdout",
     "output_type": "stream",
     "text": [
      "usage: %sessioninfo [-h] [-w __WITH__]\n",
      "\n",
      "List the session info of all subkernels, and information stored in variable\n",
      "sessioninfo\n",
      "\n",
      "optional arguments:\n",
      "  -h, --help            show this help message and exit\n",
      "  -w __WITH__, --with __WITH__\n",
      "                        Name of variable that contains extra information to be\n",
      "                        appended. This variable should be a dictionary, with\n",
      "                        keys being the section headers and items being the\n",
      "                        session information, which can be a string, a list of\n",
      "                        strings, a dictionary, or a list of `(key, value)`\n",
      "                        pairs. Encoded strings (bytes) are acceptable in\n",
      "                        places of strings.\n"
     ]
    }
   ],
   "source": [
    "%sessioninfo -h"
   ]
  },
  {
   "cell_type": "markdown",
   "metadata": {
    "kernel": "SoS",
    "tags": []
   },
   "source": [
    "### `%shutdown` <a id=\"magic_shutdown\"></a>"
   ]
  },
  {
   "cell_type": "code",
   "execution_count": 17,
   "metadata": {
    "kernel": "SoS",
    "tags": []
   },
   "outputs": [
    {
     "name": "stdout",
     "output_type": "stream",
     "text": [
      "usage: %shutdown [-h] [-r] [kernel]\n",
      "\n",
      "Shutdown or restart specified subkernel\n",
      "\n",
      "positional arguments:\n",
      "  kernel         Name of the kernel to be restarted, default to the current\n",
      "                 running kernel.\n",
      "\n",
      "optional arguments:\n",
      "  -h, --help     show this help message and exit\n",
      "  -r, --restart  Restart the kernel\n"
     ]
    }
   ],
   "source": [
    "%shutdown -h"
   ]
  },
  {
   "cell_type": "markdown",
   "metadata": {
    "kernel": "SoS",
    "tags": []
   },
   "source": [
    "### <a id=\"magic_task\"></a>`%task` "
   ]
  },
  {
   "cell_type": "code",
   "execution_count": 18,
   "metadata": {
    "kernel": "SoS",
    "tags": []
   },
   "outputs": [
    {
     "name": "stdout",
     "output_type": "stream",
     "text": [
      "usage: %task [-h] [-a | --age AGE | -s STATUS [STATUS ...] | -t\n",
      "             [TAGS [TAGS ...]]]\n",
      "             {status,execute,kill,purge} ...\n",
      "\n",
      "Get information on specified task. By default sos would query against all\n",
      "running task queues but it would start a task queue and query status if option\n",
      "-q is specified.\n",
      "\n",
      "positional arguments:\n",
      "  {status,execute,kill,purge}\n",
      "                        actions\n",
      "    status              task status\n",
      "    execute             execute task\n",
      "    kill                kill single task or tasks with the same tags\n",
      "    purge               kill and purge task\n",
      "\n",
      "optional arguments:\n",
      "  -h, --help            show this help message and exit\n",
      "  -a, --all             Clear all task information on local or specified\n",
      "                        remote task queue, including tasks created by other\n",
      "                        workflows.\n",
      "  --age AGE             Remove all tasks that are created more than (default)\n",
      "                        or within specified age. Value of this parameter can\n",
      "                        be in units s (second), m (minute), h (hour), or d\n",
      "                        (day, default), or in the foramt of HH:MM:SS, with\n",
      "                        optional prefix + for older (default) and - for newer\n",
      "                        than specified age.\n",
      "  -s STATUS [STATUS ...], --status STATUS [STATUS ...]\n",
      "                        Remove all tasks with specified status, which can be\n",
      "                        pending, submitted, running, completed, failed, and\n",
      "                        aborted. One of more status can be specified.\n",
      "  -t [TAGS [TAGS ...]], --tags [TAGS [TAGS ...]]\n",
      "                        Remove all tsks with one of the specified tags.\n"
     ]
    }
   ],
   "source": [
    "%task -h"
   ]
  },
  {
   "cell_type": "code",
   "execution_count": 19,
   "metadata": {
    "kernel": "SoS",
    "tags": []
   },
   "outputs": [
    {
     "name": "stdout",
     "output_type": "stream",
     "text": [
      "usage: %task status [-h] [-q QUEUE] [-c CONFIG] [-v {0,1,2,3,4}]\n",
      "                    [-t [TAGS [TAGS ...]]] [-s [STATUS [STATUS ...]]]\n",
      "                    [--age AGE]\n",
      "                    [tasks [tasks ...]]\n",
      "\n",
      "positional arguments:\n",
      "  tasks                 ID of the task. All tasks that are releted to the\n",
      "                        workflow executed under the current directory will be\n",
      "                        checked if unspecified. There is no need to specify\n",
      "                        compelete task IDs because SoS will match specified\n",
      "                        name with tasks starting with these names.\n",
      "\n",
      "optional arguments:\n",
      "  -h, --help            show this help message and exit\n",
      "  -q QUEUE, --queue QUEUE\n",
      "                        Check the status of job on specified tasks queue or\n",
      "                        remote host if the tasks . The queue can be defined in\n",
      "                        global or local sos configuration file, or a file\n",
      "                        specified by option --config. A host is assumed to be\n",
      "                        a remote machine with process type if no configuration\n",
      "                        is found.\n",
      "  -c CONFIG, --config CONFIG\n",
      "                        A configuration file with host definitions, in case\n",
      "                        the definitions are not defined in global sos\n",
      "                        config.yml files.\n",
      "  -v {0,1,2,3,4}        Output error (0), warning (1), info (2), and debug (3)\n",
      "                        information to standard output (default to 2).\n",
      "  -t [TAGS [TAGS ...]], --tags [TAGS [TAGS ...]]\n",
      "                        Only list tasks with one of the specified tags.\n",
      "  -s [STATUS [STATUS ...]], --status [STATUS [STATUS ...]]\n",
      "                        Display tasks with one of the specified status.\n",
      "  --age AGE             Limit to tasks that are created more than (default) or\n",
      "                        within specified age. Value of this parameter can be\n",
      "                        in units s (second), m (minute), h (hour), or d (day,\n",
      "                        default), or in the foramt of HH:MM:SS, with optional\n",
      "                        prefix + for older (default) and - for newer than\n",
      "                        specified age.\n"
     ]
    }
   ],
   "source": [
    "%task status -h"
   ]
  },
  {
   "cell_type": "code",
   "execution_count": 20,
   "metadata": {
    "kernel": "SoS",
    "tags": []
   },
   "outputs": [
    {
     "name": "stdout",
     "output_type": "stream",
     "text": [
      "usage: %task execute [-h] [-q QUEUE] [-c CONFIG] [-v {0,1,2,3,4}]\n",
      "                     [tasks [tasks ...]]\n",
      "\n",
      "positional arguments:\n",
      "  tasks                 ID of the tasks to be removed. There is no need to\n",
      "                        specify compelete task IDs because SoS will match\n",
      "                        specified name with tasks starting with these names.\n",
      "                        If no task ID is specified, all tasks related to\n",
      "                        specified workflows (option -w) will be removed.\n",
      "\n",
      "optional arguments:\n",
      "  -h, --help            show this help message and exit\n",
      "  -q QUEUE, --queue QUEUE\n",
      "                        Remove tasks on specified tasks queue or remote host\n",
      "                        if the tasks . The queue can be defined in global or\n",
      "                        local sos configuration file, or a file specified by\n",
      "                        option --config. A host is assumed to be a remote\n",
      "                        machine with process type if no configuration is\n",
      "                        found.\n",
      "  -c CONFIG, --config CONFIG\n",
      "                        A configuration file with host definitions, in case\n",
      "                        the definitions are not defined in global sos\n",
      "                        config.yml files.\n",
      "  -v {0,1,2,3,4}        Output error (0), warning (1), info (2), and debug (3)\n",
      "                        information to standard output (default to 2).\n"
     ]
    }
   ],
   "source": [
    "%task execute -h"
   ]
  },
  {
   "cell_type": "code",
   "execution_count": 21,
   "metadata": {
    "kernel": "SoS",
    "tags": []
   },
   "outputs": [
    {
     "name": "stdout",
     "output_type": "stream",
     "text": [
      "usage: %task kill [-h] [-a] [-q QUEUE] [-t [TAGS [TAGS ...]]] [-c CONFIG]\n",
      "                  [-v {0,1,2,3,4}]\n",
      "                  [tasks [tasks ...]]\n",
      "\n",
      "positional arguments:\n",
      "  tasks                 IDs of the tasks that will be killed. There is no need\n",
      "                        to specify compelete task IDs because SoS will match\n",
      "                        specified name with tasks starting with these names.\n",
      "\n",
      "optional arguments:\n",
      "  -h, --help            show this help message and exit\n",
      "  -a, --all             Kill all tasks in local or specified remote task queue\n",
      "  -q QUEUE, --queue QUEUE\n",
      "                        Kill jobs on specified tasks queue or remote host if\n",
      "                        the tasks . The queue can be defined in global or\n",
      "                        local sos configuration file, or a file specified by\n",
      "                        option --config. A host is assumed to be a remote\n",
      "                        machine with process type if no configuration is\n",
      "                        found.\n",
      "  -t [TAGS [TAGS ...]], --tags [TAGS [TAGS ...]]\n",
      "                        Only kill tasks with one of the specified tags.\n",
      "  -c CONFIG, --config CONFIG\n",
      "                        A configuration file with host definitions, in case\n",
      "                        the definitions are not defined in global sos\n",
      "                        config.yml files.\n",
      "  -v {0,1,2,3,4}, --verbosity {0,1,2,3,4}\n",
      "                        Output error (0), warning (1), info (2), and debug (3)\n",
      "                        information to standard output (default to 2).\n"
     ]
    }
   ],
   "source": [
    "%task kill -h"
   ]
  },
  {
   "cell_type": "code",
   "execution_count": 22,
   "metadata": {
    "kernel": "SoS",
    "tags": []
   },
   "outputs": [
    {
     "name": "stdout",
     "output_type": "stream",
     "text": [
      "usage: %task purge [-h] [-q QUEUE] [-c CONFIG] [-v {0,1,2,3,4}]\n",
      "                   [tasks [tasks ...]]\n",
      "\n",
      "positional arguments:\n",
      "  tasks                 ID of the tasks to be removed. There is no need to\n",
      "                        specify compelete task IDs because SoS will match\n",
      "                        specified name with tasks starting with these names.\n",
      "                        If no task ID is specified, all tasks related to\n",
      "                        specified workflows (option -w) will be removed.\n",
      "\n",
      "optional arguments:\n",
      "  -h, --help            show this help message and exit\n",
      "  -q QUEUE, --queue QUEUE\n",
      "                        Remove tasks on specified tasks queue or remote host\n",
      "                        if the tasks . The queue can be defined in global or\n",
      "                        local sos configuration file, or a file specified by\n",
      "                        option --config. A host is assumed to be a remote\n",
      "                        machine with process type if no configuration is\n",
      "                        found.\n",
      "  -c CONFIG, --config CONFIG\n",
      "                        A configuration file with host definitions, in case\n",
      "                        the definitions are not defined in global sos\n",
      "                        config.yml files.\n",
      "  -v {0,1,2,3,4}        Output error (0), warning (1), info (2), and debug (3)\n",
      "                        information to standard output (default to 2).\n"
     ]
    }
   ],
   "source": [
    "%task purge -h"
   ]
  },
  {
   "cell_type": "markdown",
   "metadata": {
    "kernel": "SoS",
    "tags": []
   },
   "source": [
    "###  <a id=\"magic_use\"></a>`%use` "
   ]
  },
  {
   "cell_type": "code",
   "execution_count": 23,
   "metadata": {
    "kernel": "SoS",
    "tags": []
   },
   "outputs": [
    {
     "name": "stdout",
     "output_type": "stream",
     "text": [
      "usage: %use [-h] [-k KERNEL] [-l LANGUAGE] [-c COLOR] [-r] [name]\n",
      "\n",
      "Switch to an existing subkernel or start a new subkernel.\n",
      "\n",
      "positional arguments:\n",
      "  name                  Displayed name of kernel to start (if no kernel with\n",
      "                        name is specified) or switch to (if a kernel with this\n",
      "                        name is already started). The name is usually a kernel\n",
      "                        name (e.g. %use ir) or a language name (e.g. %use R)\n",
      "                        in which case the language name will be used. One or\n",
      "                        more parameters --language or --kernel will need to be\n",
      "                        specified if a new name is used to start a separate\n",
      "                        instance of a kernel.\n",
      "\n",
      "optional arguments:\n",
      "  -h, --help            show this help message and exit\n",
      "  -k KERNEL, --kernel KERNEL\n",
      "                        kernel name as displayed in the output of jupyter\n",
      "                        kernelspec list. Default to the default kernel of\n",
      "                        selected language (e.g. ir for language R.\n",
      "  -l LANGUAGE, --language LANGUAGE\n",
      "                        Language extension that enables magics such as %get\n",
      "                        and %put for the kernel, which should be in the name\n",
      "                        of a registered language (e.g. R), or a specific\n",
      "                        language module in the format of package.module:class.\n",
      "                        SoS maitains a list of languages and kernels so this\n",
      "                        option is only needed for starting a new instance of a\n",
      "                        kernel.\n",
      "  -c COLOR, --color COLOR\n",
      "                        Background color of new or existing kernel, which\n",
      "                        overrides the default color of the language. A special\n",
      "                        value \"default\" can be used to reset color to default.\n",
      "  -r, --restart         Restart the kernel if it is running.\n"
     ]
    }
   ],
   "source": [
    "%use -h"
   ]
  },
  {
   "cell_type": "markdown",
   "metadata": {
    "kernel": "SoS",
    "tags": []
   },
   "source": [
    "### <a id=\"magic_with\"></a>`%with` "
   ]
  },
  {
   "cell_type": "code",
   "execution_count": 24,
   "metadata": {
    "kernel": "SoS",
    "tags": []
   },
   "outputs": [
    {
     "name": "stdout",
     "output_type": "stream",
     "text": [
      "usage: %with [-h] [-i [IN_VARS [IN_VARS ...]]] [-o [OUT_VARS [OUT_VARS ...]]]\n",
      "             [name]\n",
      "\n",
      "Use specified subkernel to evaluate current cell, with optional input and\n",
      "output variables\n",
      "\n",
      "positional arguments:\n",
      "  name                  Name of an existing kernel.\n",
      "\n",
      "optional arguments:\n",
      "  -h, --help            show this help message and exit\n",
      "  -i [IN_VARS [IN_VARS ...]], --in [IN_VARS [IN_VARS ...]]\n",
      "                        Input variables (variables to get from SoS kernel)\n",
      "  -o [OUT_VARS [OUT_VARS ...]], --out [OUT_VARS [OUT_VARS ...]]\n",
      "                        Output variables (variables to put back to SoS kernel\n",
      "                        before switching back to the SoS kernel\n"
     ]
    }
   ],
   "source": [
    "%with -h"
   ]
  },
  {
   "cell_type": "markdown",
   "metadata": {
    "kernel": "sos",
    "tags": []
   },
   "source": [
    "### <a href=\"shell_command\"></a>`!shell-command` \n",
    "\n",
    "If any other command is entered after `!`, sos will treat the rest of the line as a shell command and execute it. Only single-line commands are supported. String interpolation is supported. Note that `!cd` does not change the current working directory because the command is executed in a separate process. Use magic `%cd` for that purpose."
   ]
  }
 ],
 "metadata": {
  "kernelspec": {
   "display_name": "SoS",
   "language": "sos",
   "name": "sos"
  },
  "language_info": {
   "codemirror_mode": "sos",
   "file_extension": ".sos",
   "mimetype": "text/x-sos",
   "name": "sos",
   "nbconvert_exporter": "sos_notebook.converter.SoS_Exporter",
   "pygments_lexer": "sos"
  },
  "sos": {
   "kernels": [
    [
     "Python3",
     "python3",
     "Python3",
     "#FFD91A"
    ],
    [
     "R",
     "ir",
     "R",
     "#DCDCDA"
    ],
    [
     "SoS",
     "sos",
     "",
     ""
    ]
   ],
   "panel": {
    "displayed": true,
    "height": 0
   },
   "version": "0.21.2"
  }
 },
 "nbformat": 4,
 "nbformat_minor": 4
}
