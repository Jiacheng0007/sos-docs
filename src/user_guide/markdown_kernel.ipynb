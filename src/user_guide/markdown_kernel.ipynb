{
 "cells": [
  {
   "cell_type": "markdown",
   "metadata": {
    "kernel": "SoS",
    "papermill": {
     "duration": 0.013866,
     "end_time": "2019-12-23T17:02:58.333354",
     "exception": false,
     "start_time": "2019-12-23T17:02:58.319488",
     "status": "completed"
    },
    "tags": []
   },
   "source": [
    "# Uisng the markdown kernel"
   ]
  },
  {
   "cell_type": "markdown",
   "metadata": {
    "kernel": "SoS",
    "papermill": {
     "duration": 0.00985,
     "end_time": "2019-12-23T17:02:58.355840",
     "exception": false,
     "start_time": "2019-12-23T17:02:58.345990",
     "status": "completed"
    },
    "tags": []
   },
   "source": [
    "* **Difficulty level**: easy\n",
    "* **Time need to lean**: 10 minutes or less\n",
    "  "
   ]
  },
  {
   "cell_type": "markdown",
   "metadata": {
    "kernel": "SoS",
    "papermill": {
     "duration": 0.010061,
     "end_time": "2019-12-23T17:02:58.376732",
     "exception": false,
     "start_time": "2019-12-23T17:02:58.366671",
     "status": "completed"
    },
    "tags": []
   },
   "source": [
    "### Markdown cell and markdown kernel"
   ]
  },
  {
   "cell_type": "markdown",
   "metadata": {
    "kernel": "SoS",
    "papermill": {
     "duration": 0.009923,
     "end_time": "2019-12-23T17:02:58.397130",
     "exception": false,
     "start_time": "2019-12-23T17:02:58.387207",
     "status": "completed"
    },
    "tags": []
   },
   "source": [
    "You can include headers, lists, figures, tables in your Jupyter notebook using markdown cells. These markdown cells are rendered by Jupyter itself and do not interact with the kernels. Consequently, it is not possible to pass information (e.g. results from analysis) to markdown cells to generate dynamic output. In contrast, RStudio/RMarkdown has long allowed the inclusion of expressions in markdown texts.\n",
    "\n",
    "To overcome this problem, you can install a markdown kernel with commands\n",
    "\n",
    "```\n",
    "pip install markdown-kernel\n",
    "python -m markdown.kernel install\n",
    "```\n",
    "and write markdown code in code cells with a markdown kernel."
   ]
  },
  {
   "cell_type": "code",
   "execution_count": 1,
   "metadata": {
    "kernel": "Markdown",
    "papermill": {
     "duration": 1.388485,
     "end_time": "2019-12-23T17:02:59.797486",
     "exception": false,
     "start_time": "2019-12-23T17:02:58.409001",
     "status": "completed"
    },
    "tags": []
   },
   "outputs": [
    {
     "data": {
      "text/markdown": [
       "Hello, this is a **code cell in markdown kernel**, not a markdown cell.\n"
      ]
     },
     "metadata": {},
     "output_type": "display_data"
    }
   ],
   "source": [
    "Hello, this is a **code cell in markdown kernel**, not a markdown cell."
   ]
  },
  {
   "cell_type": "markdown",
   "metadata": {
    "kernel": "Markdown",
    "papermill": {
     "duration": 0.010405,
     "end_time": "2019-12-23T17:02:59.819205",
     "exception": false,
     "start_time": "2019-12-23T17:02:59.808800",
     "status": "completed"
    },
    "tags": []
   },
   "source": [
    "## `%expand` in cells with a Markdown kernel"
   ]
  },
  {
   "cell_type": "markdown",
   "metadata": {
    "kernel": "SoS",
    "papermill": {
     "duration": 0.010097,
     "end_time": "2019-12-23T17:02:59.839571",
     "exception": false,
     "start_time": "2019-12-23T17:02:59.829474",
     "status": "completed"
    },
    "tags": []
   },
   "source": [
    "The significance of the markdown kernel is that you can pass information from SoS to it through the `%expand` magic. For example, suppose you have defined a function to calculate Fibonacci sequence,"
   ]
  },
  {
   "cell_type": "code",
   "execution_count": 2,
   "metadata": {
    "kernel": "SoS",
    "papermill": {
     "duration": 0.031633,
     "end_time": "2019-12-23T17:02:59.881569",
     "exception": false,
     "start_time": "2019-12-23T17:02:59.849936",
     "status": "completed"
    },
    "tags": []
   },
   "outputs": [],
   "source": [
    "def fibo(n):\n",
    "   return n if n <= 1 else (fibo(n-1) + fibo(n-2))"
   ]
  },
  {
   "cell_type": "markdown",
   "metadata": {
    "kernel": "SoS",
    "papermill": {
     "duration": 0.010785,
     "end_time": "2019-12-23T17:02:59.902654",
     "exception": false,
     "start_time": "2019-12-23T17:02:59.891869",
     "status": "completed"
    },
    "tags": []
   },
   "source": [
    "You can write use it in Python expressions as follows:"
   ]
  },
  {
   "cell_type": "code",
   "execution_count": 3,
   "metadata": {
    "kernel": "Markdown",
    "papermill": {
     "duration": 0.032656,
     "end_time": "2019-12-23T17:02:59.947856",
     "exception": false,
     "start_time": "2019-12-23T17:02:59.915200",
     "status": "completed"
    },
    "tags": []
   },
   "outputs": [
    {
     "data": {
      "text/markdown": [
       "The Fibonacci sequence has value 1 when `n=1` and 55\n",
       "when `n=10`, which can be calculated recursively by\n",
       "`fibo(10)=fibo(9) + fib(8)=34+21`, and so on.\n"
      ]
     },
     "metadata": {},
     "output_type": "display_data"
    }
   ],
   "source": [
    "%expand\n",
    "The Fibonacci sequence has value {fibo(1)} when `n=1` and {fibo(10)}\n",
    "when `n=10`, which can be calculated recursively by\n",
    "`fibo(10)=fibo(9) + fib(8)={fibo(9)}+{fibo(8)}`, and so on."
   ]
  },
  {
   "cell_type": "markdown",
   "metadata": {
    "kernel": "Markdown",
    "papermill": {
     "duration": 0.012081,
     "end_time": "2019-12-23T17:02:59.970938",
     "exception": false,
     "start_time": "2019-12-23T17:02:59.958857",
     "status": "completed"
    },
    "tags": []
   },
   "source": [
    "## `%expand` using expressions in non-SoS kernels"
   ]
  },
  {
   "cell_type": "markdown",
   "metadata": {
    "kernel": "Markdown",
    "papermill": {
     "duration": 0.010389,
     "end_time": "2019-12-23T17:02:59.992402",
     "exception": false,
     "start_time": "2019-12-23T17:02:59.982013",
     "status": "completed"
    },
    "tags": []
   },
   "source": [
    "The `--in` option of magic `%expand` allows you to expand the cell content in specific subkernel, if its language module supports the expand protocol. This allows the content in markdown cells to be expanded in other languages such as R.\n",
    "\n",
    "For example,"
   ]
  },
  {
   "cell_type": "code",
   "execution_count": 4,
   "metadata": {
    "kernel": "R",
    "papermill": {
     "duration": 1.380089,
     "end_time": "2019-12-23T17:03:01.384454",
     "exception": false,
     "start_time": "2019-12-23T17:03:00.004365",
     "status": "completed"
    },
    "tags": []
   },
   "outputs": [],
   "source": [
    "%preview res\n",
    "res <- rnorm(4)"
   ]
  },
  {
   "cell_type": "code",
   "execution_count": 5,
   "metadata": {
    "kernel": "Markdown",
    "papermill": {
     "duration": 0.195642,
     "end_time": "2019-12-23T17:03:01.591406",
     "exception": false,
     "start_time": "2019-12-23T17:03:01.395764",
     "status": "completed"
    },
    "tags": []
   },
   "outputs": [
    {
     "data": {
      "text/markdown": [
       "We generated a random array of length 4, ranging from -1.2172600843554 to 1.24984895265551\n"
      ]
     },
     "metadata": {},
     "output_type": "display_data"
    }
   ],
   "source": [
    "%expand --in R\n",
    "We generated a random array of length {length(res)}, ranging from {min(res)} to {max(res)}"
   ]
  },
  {
   "cell_type": "markdown",
   "metadata": {
    "kernel": "Markdown",
    "papermill": {
     "duration": 0.011722,
     "end_time": "2019-12-23T17:03:01.614079",
     "exception": false,
     "start_time": "2019-12-23T17:03:01.602357",
     "status": "completed"
    },
    "tags": []
   },
   "source": [
    "If you have a block of text from RStudio in RMarkdown format, you can specify the Rmarkdown-style delimiters to evaluate the RMarkdown text directly."
   ]
  },
  {
   "cell_type": "code",
   "execution_count": 6,
   "metadata": {
    "kernel": "Markdown",
    "papermill": {
     "duration": 0.079362,
     "end_time": "2019-12-23T17:03:01.704842",
     "exception": false,
     "start_time": "2019-12-23T17:03:01.625480",
     "status": "completed"
    },
    "tags": []
   },
   "outputs": [
    {
     "data": {
      "text/markdown": [
       "We generated a random array of length 4, ranging from -1.2172600843554 to 1.24984895265551\n"
      ]
     },
     "metadata": {},
     "output_type": "display_data"
    }
   ],
   "source": [
    "%expand `r ` --in R\n",
    "We generated a random array of length `r length(res)`, ranging from `r min(res)` to `r max(res)`"
   ]
  },
  {
   "cell_type": "markdown",
   "metadata": {
    "kernel": "SoS",
    "papermill": {
     "duration": 0.015494,
     "end_time": "2019-12-23T17:03:01.734848",
     "exception": false,
     "start_time": "2019-12-23T17:03:01.719354",
     "status": "completed"
    },
    "tags": []
   },
   "source": [
    "## Further reading\n",
    "\n",
    "* [Working with subkernels](doc/user_guide/expand_capture_render.html)"
   ]
  }
 ],
 "metadata": {
  "kernelspec": {
   "display_name": "SoS",
   "language": "sos",
   "name": "sos"
  },
  "language_info": {
   "codemirror_mode": "sos",
   "file_extension": ".sos",
   "mimetype": "text/x-sos",
   "name": "sos",
   "nbconvert_exporter": "sos_notebook.converter.SoS_Exporter",
   "pygments_lexer": "sos"
  },
  "papermill": {
   "duration": 11.4558,
   "end_time": "2019-12-23T17:03:06.952173",
   "environment_variables": {},
   "exception": null,
   "input_path": "/Users/bpeng1/sos/sos-docs/src/user_guide/markdown_kernel.ipynb",
   "output_path": "markdown_kernel.ipynb_rerun.ipynb",
   "parameters": {},
   "start_time": "2019-12-23T17:02:55.496373",
   "version": "1.1.0"
  },
  "sos": {
   "kernels": [
    [
     "Markdown",
     "markdown",
     "markdown",
     "",
     "markdown"
    ],
    [
     "R",
     "ir",
     "R",
     "#DCDCDA",
     "r"
    ],
    [
     "SoS",
     "sos",
     "",
     "",
     "sos"
    ]
   ],
   "panel": {
    "displayed": true,
    "height": 0
   },
   "version": "0.21.3"
  }
 },
 "nbformat": 4,
 "nbformat_minor": 4
}
