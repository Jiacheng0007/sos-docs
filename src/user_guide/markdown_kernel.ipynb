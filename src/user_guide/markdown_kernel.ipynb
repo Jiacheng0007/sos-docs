{
 "cells": [
  {
   "cell_type": "markdown",
   "metadata": {
    "kernel": "SoS",
    "tags": []
   },
   "source": [
    "# Uisng the markdown kernel"
   ]
  },
  {
   "cell_type": "markdown",
   "metadata": {
    "kernel": "SoS",
    "tags": []
   },
   "source": [
    "* **Difficulty level**: easy\n",
    "* **Time need to lean**: 10 minutes or less\n",
    "  "
   ]
  },
  {
   "cell_type": "markdown",
   "metadata": {
    "kernel": "SoS",
    "tags": []
   },
   "source": [
    "### Markdown cell and markdown kernel"
   ]
  },
  {
   "cell_type": "markdown",
   "metadata": {
    "kernel": "SoS",
    "tags": []
   },
   "source": [
    "You can include headers, lists, figures, tables in your Jupyter notebook using markdown cells. These markdown cells are rendered by Jupyter itself and do not interact with the kernels. Consequently, it is not possible to pass information (e.g. results from analysis) to markdown cells to generate dynamic output. In contrast, RStudio/RMarkdown has long allowed the inclusion of expressions in markdown texts.\n",
    "\n",
    "To overcome this problem, you can install a markdown kernel with commands\n",
    "\n",
    "```\n",
    "pip install markdown-kernel\n",
    "python -m markdown.kernel install\n",
    "```\n",
    "and write markdown code in code cells with a markdown kernel."
   ]
  },
  {
   "cell_type": "code",
   "execution_count": 1,
   "metadata": {
    "kernel": "Markdown",
    "tags": []
   },
   "outputs": [
    {
     "data": {
      "text/markdown": [
       "Hello, this is a **code cell in markdown kernel**, not a markdown cell.\n"
      ]
     },
     "metadata": {},
     "output_type": "display_data"
    }
   ],
   "source": [
    "Hello, this is a **code cell in markdown kernel**, not a markdown cell."
   ]
  },
  {
   "cell_type": "markdown",
   "metadata": {
    "kernel": "Markdown",
    "tags": []
   },
   "source": [
    "## `%expand` in cells with a Markdown kernel"
   ]
  },
  {
   "cell_type": "markdown",
   "metadata": {
    "kernel": "SoS",
    "tags": []
   },
   "source": [
    "The significance of the markdown kernel is that you can pass information from SoS to it through the `%expand` magic. For example, suppose you have defined a function to calculate Fibonacci sequence,"
   ]
  },
  {
   "cell_type": "code",
   "execution_count": 2,
   "metadata": {
    "kernel": "SoS",
    "tags": []
   },
   "outputs": [],
   "source": [
    "def fibo(n):\n",
    "   return n if n <= 1 else (fibo(n-1) + fibo(n-2))"
   ]
  },
  {
   "cell_type": "markdown",
   "metadata": {
    "kernel": "SoS",
    "tags": []
   },
   "source": [
    "You can write use it in Python expressions as follows:"
   ]
  },
  {
   "cell_type": "code",
   "execution_count": 3,
   "metadata": {
    "kernel": "Markdown",
    "tags": []
   },
   "outputs": [
    {
     "data": {
      "text/markdown": [
       "The Fibonacci sequence has value 1 when `n=1` and 55\n",
       "when `n=10`, which can be calculated recursively by\n",
       "`fibo(10)=fibo(9) + fib(8)=34+21`, and so on.\n"
      ]
     },
     "metadata": {},
     "output_type": "display_data"
    }
   ],
   "source": [
    "%expand\n",
    "The Fibonacci sequence has value {fibo(1)} when `n=1` and {fibo(10)}\n",
    "when `n=10`, which can be calculated recursively by\n",
    "`fibo(10)=fibo(9) + fib(8)={fibo(9)}+{fibo(8)}`, and so on."
   ]
  },
  {
   "cell_type": "markdown",
   "metadata": {
    "kernel": "Markdown",
    "tags": []
   },
   "source": [
    "## `%expand` using expressions in non-SoS kernels"
   ]
  },
  {
   "cell_type": "markdown",
   "metadata": {
    "kernel": "Markdown",
    "tags": []
   },
   "source": [
    "The `--in` option of magic `%expand` allows you to expand the cell content in specific subkernel, if its language module supports the expand protocol. This allows the content in markdown cells to be expanded in other languages such as R.\n",
    "\n",
    "For example,"
   ]
  },
  {
   "cell_type": "code",
   "execution_count": 4,
   "metadata": {
    "kernel": "R",
    "tags": []
   },
   "outputs": [],
   "source": [
    "%preview res\n",
    "res <- rnorm(4)"
   ]
  },
  {
   "cell_type": "code",
   "execution_count": 5,
   "metadata": {
    "kernel": "Markdown",
    "tags": []
   },
   "outputs": [
    {
     "data": {
      "text/markdown": [
       "We generated a random array of length 4, ranging from -0.960540217119432 to 0.6641938545656\n"
      ]
     },
     "metadata": {},
     "output_type": "display_data"
    }
   ],
   "source": [
    "%expand --in R\n",
    "We generated a random array of length {length(res)}, ranging from {min(res)} to {max(res)}"
   ]
  },
  {
   "cell_type": "markdown",
   "metadata": {
    "kernel": "Markdown",
    "tags": []
   },
   "source": [
    "If you have a block of text from RStudio in RMarkdown format, you can specify the Rmarkdown-style delimiters to evaluate the RMarkdown text directly."
   ]
  },
  {
   "cell_type": "code",
   "execution_count": 6,
   "metadata": {
    "kernel": "Markdown",
    "tags": []
   },
   "outputs": [
    {
     "data": {
      "text/markdown": [
       "We generated a random array of length 4, ranging from -0.960540217119432 to 0.6641938545656\n"
      ]
     },
     "metadata": {},
     "output_type": "display_data"
    }
   ],
   "source": [
    "%expand `r ` --in R\n",
    "We generated a random array of length `r length(res)`, ranging from `r min(res)` to `r max(res)`"
   ]
  },
  {
   "cell_type": "markdown",
   "metadata": {
    "kernel": "SoS",
    "tags": []
   },
   "source": [
    "## Further reading\n",
    "\n",
    "* [Working with subkernels](doc/user_guide/expand_capture_render.html)"
   ]
  }
 ],
 "metadata": {
  "kernelspec": {
   "display_name": "SoS",
   "language": "sos",
   "name": "sos"
  },
  "language_info": {
   "codemirror_mode": "sos",
   "file_extension": ".sos",
   "mimetype": "text/x-sos",
   "name": "sos",
   "nbconvert_exporter": "sos_notebook.converter.SoS_Exporter",
   "pygments_lexer": "sos"
  },
  "sos": {
   "kernels": [
    [
     "Markdown",
     "markdown",
     "markdown",
     "",
     "markdown"
    ],
    [
     "R",
     "ir",
     "R",
     "#DCDCDA",
     "r"
    ],
    [
     "SoS",
     "sos",
     "",
     "",
     "sos"
    ]
   ],
   "panel": {
    "displayed": true,
    "height": 0
   },
   "version": "0.21.3"
  }
 },
 "nbformat": 4,
 "nbformat_minor": 4
}
