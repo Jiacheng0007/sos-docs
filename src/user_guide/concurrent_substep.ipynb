{
 "cells": [
  {
   "cell_type": "markdown",
   "metadata": {
    "kernel": "SoS",
    "tags": []
   },
   "source": [
    "# Input option `concurrent`"
   ]
  },
  {
   "cell_type": "markdown",
   "metadata": {
    "kernel": "SoS",
    "tags": []
   },
   "source": [
    "* **Difficulty level**: easy\n",
    "* **Time need to lean**: 10 minutes or less\n",
    "* **Key points**:\n",
    "  * By default substeps are executed in parallel\n",
    "  * Option `concurrent=False` stops the substeps from being executed in parallel\n",
    "  * Option `concurrent=integer` limits the number of concurrent substeps\n",
    "  * Certain options and statements prevents substeps from being executed in parallel\n",
    "  "
   ]
  },
  {
   "cell_type": "markdown",
   "metadata": {
    "kernel": "SoS",
    "tags": []
   },
   "source": [
    "## Input option `concurrent` <a id=\"Option_concurrent\"></a>"
   ]
  },
  {
   "cell_type": "markdown",
   "metadata": {
    "kernel": "SoS",
    "tags": []
   },
   "source": [
    "Substeps of a step are by default executed concurrently with potential dependencies. For example,"
   ]
  },
  {
   "cell_type": "code",
   "execution_count": 3,
   "metadata": {
    "kernel": "SoS",
    "tags": []
   },
   "outputs": [
    {
     "name": "stdout",
     "output_type": "stream",
     "text": [
      "Substep 0 completed in 0.0 seconds\n",
      "Substep 1 completed in 1.0 seconds\n",
      "Substep 2 completed in 2.0 seconds\n",
      "Substep 3 completed in 3.1 seconds\n"
     ]
    }
   ],
   "source": [
    "%run -j4  -v1\n",
    "import time\n",
    "start_time = time.time()\n",
    "input: for_each={'i': range(4)}\n",
    "time.sleep(i)\n",
    "print(f'Substep {_index} completed in {time.time() - start_time:.1f} seconds')"
   ]
  },
  {
   "cell_type": "markdown",
   "metadata": {
    "kernel": "SoS",
    "tags": []
   },
   "source": [
    "As you can see, the `start_time` is the start time of all substeps, and all substeps are executed concurrently.\n",
    "\n",
    "Concurrent execution can cause some unexpected results. For example, there are 4 substeps in the following example. Each of them adds `i` to a shared variable `sum`, but the results are not accumulated because each substep has its own `sum`."
   ]
  },
  {
   "cell_type": "code",
   "execution_count": 4,
   "metadata": {
    "kernel": "SoS",
    "tags": []
   },
   "outputs": [
    {
     "name": "stdout",
     "output_type": "stream",
     "text": [
      "sum is 0 at index 0\n",
      "sum is 1 at index 1\n",
      "sum is 2 at index 2\n",
      "sum is 3 at index 3\n"
     ]
    }
   ],
   "source": [
    "sum = 0\n",
    "input: for_each=dict(i=range(4))\n",
    "sum += i\n",
    "print(f'sum is {sum} at index {_index}')"
   ]
  },
  {
   "cell_type": "markdown",
   "metadata": {
    "kernel": "SoS",
    "tags": []
   },
   "source": [
    "To get the correct `sum` for all substeps, you can execute the substeps sequentially by adding option `concurrent=False`."
   ]
  },
  {
   "cell_type": "code",
   "execution_count": 5,
   "metadata": {
    "kernel": "SoS",
    "tags": []
   },
   "outputs": [
    {
     "name": "stdout",
     "output_type": "stream",
     "text": [
      "sum is 0 at index 0\n",
      "sum is 1 at index 1\n",
      "sum is 3 at index 2\n",
      "sum is 6 at index 3\n"
     ]
    }
   ],
   "source": [
    "sum = 0\n",
    "input: for_each=dict(i=range(4)), concurrent=False\n",
    "sum += i\n",
    "print(f'sum is {sum} at index {_index}')"
   ]
  },
  {
   "cell_type": "markdown",
   "metadata": {
    "kernel": "SoS",
    "tags": []
   },
   "source": [
    "## Limit the number of concurrent substeps"
   ]
  },
  {
   "cell_type": "markdown",
   "metadata": {
    "kernel": "SoS",
    "tags": []
   },
   "source": [
    "<div class=\"bs-callout bs-callout-info\" role=\"alert\">\n",
    "    <h4>Input option <code>concurrent</code></h4>\n",
    "    <p>Option <code>concurrent</code> accepts the following values </p>\n",
    "    <ul>\n",
    "        <li><code>concurrent=True</code> (default): Execute substeps in parallel, subject to number of available workers.</li>\n",
    "        <li><code>concurrent=False</code>: Execute substeps sequentially</li>\n",
    "        <li><code>concurrent=VAL</code> where <code>VAL</code> should be an integer value: Limit the number of concurrent substeps to <code>VAL</code></li>        \n",
    "     </ul>\n",
    "</div>"
   ]
  },
  {
   "cell_type": "markdown",
   "metadata": {
    "kernel": "SoS",
    "tags": []
   },
   "source": [
    "By default, SoS submits substeps to all available workers so the number of concurrent workers is limited by the number of substeps and number of workers. However, if a substep is resource intensive (e.g. using a lot of CPU cores or memory), you might want to limit the number of concurrent substeps."
   ]
  },
  {
   "cell_type": "markdown",
   "metadata": {
    "kernel": "SoS",
    "tags": []
   },
   "source": [
    "For example, the following workflow has two steps, each with 10 substeps, but the first step has option `concurrent=2`, which limits the number of concurrent substeps to 2. As we can see, with option `-j 5` (5 workers), substeps in the first step are executed in pairs, and substeps in the second steps are executed in groups of 5."
   ]
  },
  {
   "cell_type": "code",
   "execution_count": null,
   "metadata": {
    "kernel": "SoS",
    "tags": []
   },
   "outputs": [],
   "source": [
    "%run -j 5\n",
    "\n",
    "import time\n",
    "st = time.time()\n",
    "\n",
    "[1]\n",
    "input: for_each=dict(i=range(10)), concurrent=2\n",
    "print(f'Step1/{i}: start at {time.time() - st:.1f}')\n",
    "time.sleep(5)\n",
    "\n",
    "[2]\n",
    "input: for_each=dict(i=range(10))\n",
    "print(f'Step 2/{i}: start at {time.time() - st:.1f}')\n",
    "time.sleep(5)"
   ]
  },
  {
   "cell_type": "markdown",
   "metadata": {
    "kernel": "SoS",
    "tags": []
   },
   "source": [
    "## Concurrency for the execution of nested subworkflows"
   ]
  },
  {
   "cell_type": "markdown",
   "metadata": {
    "kernel": "SoS",
    "tags": []
   },
   "source": [
    "Substeps containing nested subworkflows (function `sos_run`) are also executed concurrently by default. For example, in the following workflow where four `sleep` subworkflows are executed with different parameter `duration`, the subworkflows are executed in parallel and completed in random orders."
   ]
  },
  {
   "cell_type": "code",
   "execution_count": null,
   "metadata": {
    "kernel": "SoS",
    "tags": []
   },
   "outputs": [],
   "source": [
    "%run -v0\n",
    "\n",
    "[sleep]\n",
    "parameter: index=int\n",
    "parameter: duration=int\n",
    "import time\n",
    "time.sleep(duration)\n",
    "print(f'I am process {index}, I have slept for {duration} seconds')\n",
    "\n",
    "\n",
    "[default]\n",
    "import random\n",
    "input: for_each=dict(i=range(4))\n",
    "sos_run('sleep', index=_index, duration=random.randint(1, 10))"
   ]
  },
  {
   "cell_type": "markdown",
   "metadata": {
    "kernel": "SoS",
    "tags": []
   },
   "source": [
    "<div class=\"bs-callout bs-callout-warning\" role=\"alert\">\n",
    "    <h4>Substeps with statements after <code>sos_run</code> are not executed in parallel</h4>\n",
    "    <p>Because of the way subworkflows are executed, a subworkflow must be the last statement in the step process to allow the substeps to be executed in parallel. That is to say, subworkflows in</p>\n",
    "    <pre>\n",
    "    input: ...\n",
    "    sos_run('sub')\n",
    "    print('Done')\n",
    "    </pre>\n",
    "    and \n",
    "    <pre>\n",
    "    input: ...\n",
    "    sos_run('sub1')\n",
    "    sos_run('sub2')\n",
    "    </pre>\n",
    "    will not be executed in parallel. Although the latter case could be executed in parallel if <code>sub2</code> does not have to be executed after <code>sub1</code> and can be executed side by side with\n",
    "    <pre>    \n",
    "    input: ...\n",
    "    sos_run(['sub1', 'sub2'])\n",
    "    </pre>\n",
    "</div>"
   ]
  },
  {
   "cell_type": "markdown",
   "metadata": {
    "kernel": "SoS",
    "tags": []
   },
   "source": [
    "There is a complication though: substeps with subworkflows must have the `sos_run` as the last statement to be executed in parallel. For example, with the addition of one statement after the `sos_run` call, subworkflows in the aforementioned example are executed sequentially."
   ]
  },
  {
   "cell_type": "code",
   "execution_count": null,
   "metadata": {
    "kernel": "SoS",
    "tags": []
   },
   "outputs": [],
   "source": [
    "%run -v0\n",
    "\n",
    "[sleep]\n",
    "parameter: index=int\n",
    "parameter: duration=int\n",
    "import time\n",
    "time.sleep(duration)\n",
    "print(f'I am process {index}, I have slept for {duration} seconds')\n",
    "\n",
    "\n",
    "[default]\n",
    "import random\n",
    "input: for_each=dict(i=range(4))\n",
    "sos_run('sleep', index=_index, duration=random.randint(1, 10))\n",
    "print(f'{_index} is done')"
   ]
  },
  {
   "cell_type": "markdown",
   "metadata": {
    "kernel": "SoS",
    "tags": []
   },
   "source": [
    "This is somewhat limiting for users who get used to use a `default` step to execute multiple subworkflows as follows:"
   ]
  },
  {
   "cell_type": "code",
   "execution_count": null,
   "metadata": {
    "kernel": "SoS",
    "tags": []
   },
   "outputs": [],
   "source": [
    "%run -v0\n",
    "\n",
    "import time\n",
    "\n",
    "[sub1]\n",
    "time.sleep(6)\n",
    "print(f'step {step_name} is done')\n",
    "\n",
    "[sub2]\n",
    "time.sleep(2)\n",
    "print(f'step {step_name} is done')\n",
    "\n",
    "[default]\n",
    "sos_run('sub1')\n",
    "sos_run('sub2')"
   ]
  },
  {
   "cell_type": "markdown",
   "metadata": {
    "kernel": "SoS",
    "tags": []
   },
   "source": [
    "However, remember that function `sos_run` can accept multiple subworkflows and will execute them in parallel, you can write execute the steps in parallel as long as they donot depend on each other:"
   ]
  },
  {
   "cell_type": "code",
   "execution_count": null,
   "metadata": {
    "kernel": "SoS",
    "tags": []
   },
   "outputs": [],
   "source": [
    "%run -v0\n",
    "\n",
    "import time\n",
    "\n",
    "[sub1]\n",
    "time.sleep(6)\n",
    "print(f'step {step_name} is done')\n",
    "\n",
    "[sub2]\n",
    "time.sleep(2)\n",
    "print(f'step {step_name} is done')\n",
    "\n",
    "[default]\n",
    "sos_run([\n",
    "    'sub1',\n",
    "    'sub2'\n",
    "])"
   ]
  },
  {
   "cell_type": "markdown",
   "metadata": {
    "kernel": "SoS",
    "tags": []
   },
   "source": [
    "## Further reading\n",
    "\n",
    "*  [How to execute other workflows in a SoS step](doc/user_guide/nested_workflow.html)"
   ]
  }
 ],
 "metadata": {
  "kernelspec": {
   "display_name": "SoS",
   "language": "sos",
   "name": "sos"
  },
  "language_info": {
   "codemirror_mode": "sos",
   "file_extension": ".sos",
   "mimetype": "text/x-sos",
   "name": "sos",
   "nbconvert_exporter": "sos_notebook.converter.SoS_Exporter",
   "pygments_lexer": "sos"
  },
  "sos": {
   "kernels": [
    [
     "Bash",
     "bash",
     "Bash",
     "#E6EEFF"
    ],
    [
     "R",
     "ir",
     "R",
     "#DCDCDA"
    ],
    [
     "SoS",
     "sos",
     "",
     ""
    ]
   ],
   "panel": {
    "displayed": true,
    "height": 0
   },
   "version": "0.21.5"
  }
 },
 "nbformat": 4,
 "nbformat_minor": 4
}
