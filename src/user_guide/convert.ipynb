{
 "cells": [
  {
   "cell_type": "markdown",
   "metadata": {
    "kernel": "SoS",
    "tags": []
   },
   "source": [
    "# Format conversion"
   ]
  },
  {
   "cell_type": "markdown",
   "metadata": {
    "kernel": "SoS",
    "tags": []
   },
   "source": [
    "* **Difficulty level**: easy\n",
    "* **Time need to lean**: 10 minutes or less\n",
    "* **Key points**:\n",
    "  * `sos convert file.ipynb file.sos` converts notebook to sos script\n",
    "  * `sos convert file.sos file.ipynb` converts sos script to sos notebook\n",
    "  "
   ]
  },
  {
   "cell_type": "markdown",
   "metadata": {
    "kernel": "SoS",
    "tags": []
   },
   "source": [
    "## SoS -> ipynb"
   ]
  },
  {
   "cell_type": "markdown",
   "metadata": {
    "kernel": "SoS",
    "tags": []
   },
   "source": [
    "You can convert an existing SoS script to the `.ipynb` format using command\n",
    "```\n",
    "$ sos convert myscript.sos myscript.ipynb\n",
    "```"
   ]
  },
  {
   "cell_type": "markdown",
   "metadata": {
    "kernel": "SoS",
    "tags": []
   },
   "source": [
    "## ipynb -> SoS"
   ]
  },
  {
   "cell_type": "markdown",
   "metadata": {
    "kernel": "SoS",
    "tags": []
   },
   "source": [
    "A Jupyter notebook can contain markdown cell and code cell with different kernels, and a sos cell might or might not contain a real sos step (with section header).\n",
    "\n",
    "You can save a Jupyter notebook with SoS kernel to a SoS script using `File -> Download As -> SoS` from the browser, or using command\n",
    "\n",
    "```\n",
    "$ sos convert myscript.ipynb myscript.sos\n",
    "```\n",
    "\n",
    "The conversion process will export only the embeded workflow to `.sos` file, ignoring all other content of the notebook."
   ]
  },
  {
   "cell_type": "markdown",
   "metadata": {
    "kernel": "SoS",
    "tags": []
   },
   "source": [
    "## ipynb -> HTML\n",
    "\n",
    "Command `sos convert my.ipynb my.html --template` essentially calls `jupyter nbconvert --to html` to convert notebook to HTML format, with additional templates provided by SoS Notebook.\n",
    "\n",
    "SoS provides the following templates\n",
    "\n",
    "| template | code highlighting | TOC | Hide Cell | Suit for |\n",
    "| -- | -- | -- | -- | --|\n",
    "| `sos-full` | jupyter | no | no | static short report |\n",
    "| `sos-cm` | SoS CodeMirror | no | no | output similar to notebook interface |\n",
    "| `sos-report` | jupyter | no | yes | static report with hidden details |\n",
    "| `sos-full-toc` | jupyter | yes | no | static long report |\n",
    "| `sos-cm-toc` | SoS CodeMirror | yes | none | output of long notebook with notebook interface |\n",
    "| `sos-report-toc` | jupyter | yes | yes | long report with hidden details |\n",
    "\n",
    "Where:\n",
    "* **code highlighting**: Jupyter can hilight sos source code using a static syntax hilighter. The output is lightweight but not as nice as the codemirror highlighter.\n",
    "* **TOC**: Automatically generate a table of content to the left of the page.\n",
    "* **Hide Cell**: HTML page by default only displays only markdown and selected ouptput cells (cells with `report_cell` tag, output of cells with `report_output` tag). A control panel to the left top corner of the page can be used to show all content"
   ]
  },
  {
   "cell_type": "markdown",
   "metadata": {
    "kernel": "SoS",
    "tags": []
   },
   "source": [
    "## ipynb -> pdf\n",
    "This command essentially calls command `jupyter nbconvert --to pdf` to convert notebook to PDF format. "
   ]
  },
  {
   "cell_type": "markdown",
   "metadata": {
    "kernel": "SoS",
    "tags": []
   },
   "source": [
    "## ipynb -> md\n",
    "This command essentially calls command `jupyter nbconvert --to markdown` to convert notebook to Markdown format. "
   ]
  },
  {
   "cell_type": "markdown",
   "metadata": {
    "kernel": "SoS",
    "tags": []
   },
   "source": [
    "## ipynb -> ipynb"
   ]
  },
  {
   "cell_type": "markdown",
   "metadata": {
    "kernel": "SoS",
    "tags": []
   },
   "source": [
    "This command converts a Jupyter notebook in another kernel to a SoS notebook, with the original kernel language as the language of each code cell.\n",
    "\n",
    "If the original notebook has kernel `python3`, an option `--python3-to-sos` can be used to convert code cells to `SoS`.\n",
    "\n",
    "This converter will copy the input notebook to output if the notebook is already a SoS notebook. However, if an option `--inplace` is specified, it will overwrite the original notebook with the converted one.\n",
    "\n",
    "Note that if you already have a non-SoS notebook opened in Jupyter, you can simply use\n",
    "\n",
    "`Kernel` -> `Change kernel` -> `sos`\n",
    "\n",
    "to convert the kernel to SoS. You can then use the global language selector to select the appropriate default langauge for the notebook and re-execute the notebook to set the language to each cell."
   ]
  },
  {
   "cell_type": "markdown",
   "metadata": {
    "kernel": "SoS",
    "tags": []
   },
   "source": [
    "## SoS -> HTML"
   ]
  },
  {
   "cell_type": "markdown",
   "metadata": {
    "kernel": "SoS",
    "tags": []
   },
   "source": [
    "The `sos` to `html` converter converts `.sos` script to HTML format. It can be either written to a HTML file, or to standard output if option `--to html` is specified without a destination filename."
   ]
  },
  {
   "cell_type": "markdown",
   "metadata": {
    "kernel": "SoS",
    "tags": []
   },
   "source": [
    "The converter also accepts a number of parameters (as shown above). The `raw` parameter adds a URL to filename in the HTML file so that you can link to the raw `.sos` file from the `.html` output. The `linenos` adds line numbers, and `style` allows you to choose from a number of pre-specified styles. Finally, the `view` option would open the resulting HTML file in a browser.\n",
    "\n",
    "For example,\n",
    "```\n",
    "sos convert ../examples/update_toc.sos --to html --view --style xcode\n",
    "```\n",
    "would show a HTML file as \n",
    "\n",
    "![HTML output of update_toc.sos](../media/convert_html.png)"
   ]
  }
 ],
 "metadata": {
  "kernelspec": {
   "display_name": "SoS",
   "language": "sos",
   "name": "sos"
  },
  "language_info": {
   "codemirror_mode": "sos",
   "file_extension": ".sos",
   "mimetype": "text/x-sos",
   "name": "sos",
   "nbconvert_exporter": "sos_notebook.converter.SoS_Exporter",
   "pygments_lexer": "sos"
  },
  "sos": {
   "kernels": [
    [
     "Bash",
     "bash",
     "Bash",
     "#E6EEFF"
    ],
    [
     "R",
     "ir",
     "R",
     "#DCDCDA"
    ],
    [
     "SoS",
     "sos",
     "",
     ""
    ]
   ],
   "panel": {
    "displayed": true,
    "height": 0
   },
   "version": "0.21.7"
  }
 },
 "nbformat": 4,
 "nbformat_minor": 4
}
