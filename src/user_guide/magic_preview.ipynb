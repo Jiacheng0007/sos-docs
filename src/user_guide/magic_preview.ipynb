{
 "cells": [
  {
   "cell_type": "markdown",
   "metadata": {
    "kernel": "SoS",
    "papermill": {
     "duration": 0.0268,
     "end_time": "2019-12-23T17:02:46.938352",
     "exception": false,
     "start_time": "2019-12-23T17:02:46.911552",
     "status": "completed"
    },
    "tags": []
   },
   "source": [
    "# Previewing variables and files"
   ]
  },
  {
   "cell_type": "markdown",
   "metadata": {
    "kernel": "SoS",
    "papermill": {
     "duration": 0.024926,
     "end_time": "2019-12-23T17:02:46.988311",
     "exception": false,
     "start_time": "2019-12-23T17:02:46.963385",
     "status": "completed"
    },
    "tags": []
   },
   "source": [
    "* **Difficulty level**: easy\n",
    "* **Time need to lean**: 10 minutes or less\n",
    "* **Key points**:\n",
    "  * Magic `%preview` previews variables and files in supported format\n",
    "  * Output of magic `%preview` can be saved in notebook or in console panel\n",
    "  "
   ]
  },
  {
   "cell_type": "markdown",
   "metadata": {
    "kernel": "SoS",
    "papermill": {
     "duration": 0.02594,
     "end_time": "2019-12-23T17:02:47.038658",
     "exception": false,
     "start_time": "2019-12-23T17:02:47.012718",
     "status": "completed"
    },
    "tags": []
   },
   "source": [
    "Instant preview of intermediate results is extrmely useful for interactive data analysis. SoS provides rich and extensible preview features to\n",
    "\n",
    "* preview variables in SoS and subkernels,\n",
    "* preview files in many different formats, \n",
    "* show preview results temporarily in the side panel or permanently in the main notebook\n",
    "* generate interactive tables and plots for better presentation of data both in Jupyter notebook and in converted HTML reports"
   ]
  },
  {
   "cell_type": "markdown",
   "metadata": {
    "kernel": "SoS",
    "papermill": {
     "duration": 0.024579,
     "end_time": "2019-12-23T17:02:47.087968",
     "exception": false,
     "start_time": "2019-12-23T17:02:47.063389",
     "status": "completed"
    },
    "tags": []
   },
   "source": [
    "### Magic `%preview`  <a id=\"Magic_preview\"></a>"
   ]
  },
  {
   "cell_type": "markdown",
   "metadata": {
    "kernel": "SoS",
    "papermill": {
     "duration": 0.024617,
     "end_time": "2019-12-23T17:02:47.137691",
     "exception": false,
     "start_time": "2019-12-23T17:02:47.113074",
     "status": "completed"
    },
    "tags": []
   },
   "source": [
    "SoS provides a `%preview` magic to preview files and variables **after the completion of a cell**. Although most of the time the item specified is the name of either a file or a variable, the magic will actually show information about both a file and a variable if they happen to have the same name, as shown in the following example."
   ]
  },
  {
   "cell_type": "code",
   "execution_count": 1,
   "metadata": {
    "kernel": "SoS",
    "papermill": {
     "duration": 1.012931,
     "end_time": "2019-12-23T17:02:48.175583",
     "exception": false,
     "start_time": "2019-12-23T17:02:47.162652",
     "status": "completed"
    },
    "tags": []
   },
   "outputs": [
    {
     "data": {
      "text/html": [
       "<div class=\"sos_hint\">> df (10 B):</div>"
      ],
      "text/plain": [
       "\n",
       "> df (10 B):"
      ]
     },
     "metadata": {},
     "output_type": "display_data"
    },
    {
     "data": {
      "text/html": [
       "<div class=\"sos_hint\">1 line</div>"
      ]
     },
     "metadata": {},
     "output_type": "display_data"
    },
    {
     "name": "stdout",
     "output_type": "stream",
     "text": [
      "something"
     ]
    },
    {
     "data": {
      "text/html": [
       "<div class=\"sos_hint\">> df: DataFrame of shape (3, 2)</div>"
      ],
      "text/plain": [
       ">>> df:\n"
      ]
     },
     "metadata": {},
     "output_type": "display_data"
    },
    {
     "data": {
      "text/html": [
       "\n",
       "    <div class='dataframe_container' style=\"max-height:400px\">\n",
       "    <input type=\"text\" class='dataframe_input' id=\"search_tgqw6o2x\" onkeyup=\"filterDataFrame('tgqw6o2x')\" placeholder=\"Search for names..\">\n",
       "    <table border=\"1\" id=\"dataframe_tgqw6o2x\" class=\"sos_dataframe dataframe\">\n",
       "  <thead>\n",
       "    <tr style=\"text-align: right;\">\n",
       "      <th> &nbsp; <i class=\"fa fa-sort\" style=\"color:lightgray\" onclick=\"sortDataFrame('tgqw6o2x', 0, 'numeric')\"></th>\n",
       "      <th>A &nbsp; <i class=\"fa fa-sort\" style=\"color:lightgray\" onclick=\"sortDataFrame('tgqw6o2x', 1, 'alphabetic')\"></th>\n",
       "      <th>B &nbsp; <i class=\"fa fa-sort\" style=\"color:lightgray\" onclick=\"sortDataFrame('tgqw6o2x', 2, 'numeric')\"></th>\n",
       "    </tr>\n",
       "  </thead>\n",
       "  <tbody>\n",
       "    <tr>\n",
       "      <th>0</th>\n",
       "      <td>A</td>\n",
       "      <td>1</td>\n",
       "    </tr>\n",
       "    <tr>\n",
       "      <th>1</th>\n",
       "      <td>B</td>\n",
       "      <td>2</td>\n",
       "    </tr>\n",
       "    <tr>\n",
       "      <th>2</th>\n",
       "      <td>C</td>\n",
       "      <td>3</td>\n",
       "    </tr>\n",
       "  </tbody>\n",
       "</table></div>"
      ]
     },
     "metadata": {},
     "output_type": "display_data"
    }
   ],
   "source": [
    "%preview -n df\n",
    "\n",
    "import pandas as pd\n",
    "df = pd.DataFrame(data=dict(A=['A', 'B', 'C'], B=[1, 2, 3]))\n",
    "\n",
    "sh:\n",
    "  echo something > df "
   ]
  },
  {
   "cell_type": "markdown",
   "metadata": {
    "kernel": "SoS",
    "papermill": {
     "duration": 0.026787,
     "end_time": "2019-12-23T17:02:48.228787",
     "exception": false,
     "start_time": "2019-12-23T17:02:48.202000",
     "status": "completed"
    },
    "tags": []
   },
   "source": [
    "## `%preview` options"
   ]
  },
  {
   "cell_type": "code",
   "execution_count": 2,
   "metadata": {
    "kernel": "SoS",
    "papermill": {
     "duration": 0.038031,
     "end_time": "2019-12-23T17:02:48.293846",
     "exception": false,
     "start_time": "2019-12-23T17:02:48.255815",
     "status": "completed"
    },
    "tags": []
   },
   "outputs": [
    {
     "name": "stdout",
     "output_type": "stream",
     "text": [
      "usage: %preview [-h] [-k KERNEL] [-w] [-s {table,scatterplot,png}] [-r HOST]\n",
      "                [-p | -n] [-c CONFIG]\n",
      "                [items [items ...]]\n",
      "\n",
      "Preview files, sos variables, or expressions in the side panel, or notebook if\n",
      "side panel is not opened, unless options --panel or --notebook is specified.\n",
      "\n",
      "positional arguments:\n",
      "  items                 Filename, variable name, or expression. Wildcard\n",
      "                        characters such as '*' and '?' are allowed for\n",
      "                        filenames.\n",
      "\n",
      "optional arguments:\n",
      "  -h, --help            show this help message and exit\n",
      "  -k KERNEL, --kernel KERNEL\n",
      "                        kernel in which variables will be previewed. By\n",
      "                        default the variable will be previewed in the current\n",
      "                        kernel of the cell.\n",
      "  -w, --workflow        Preview notebook workflow\n",
      "  -s {table,scatterplot,png}, --style {table,scatterplot,png}\n",
      "                        Option for preview file or variable, which by default\n",
      "                        is \"table\" for Pandas DataFrame. The %preview magic\n",
      "                        also accepts arbitrary additional keyword arguments,\n",
      "                        which would be interpreted by individual style.\n",
      "                        Passing '-h' with '--style' would display the usage\n",
      "                        information of particular style.\n",
      "  -r HOST, --host HOST  Preview files on specified remote host, which should\n",
      "                        be one of the hosts defined in sos configuration\n",
      "                        files.\n",
      "  -p, --panel           Preview in side panel even if the panel is currently\n",
      "                        closed\n",
      "  -n, --notebook        Preview in the main notebook.\n",
      "  -c CONFIG, --config CONFIG\n",
      "                        A configuration file with host definitions, in case\n",
      "                        the definitions are not defined in global or local sos\n",
      "                        config.yml files.\n"
     ]
    }
   ],
   "source": [
    "%preview -h"
   ]
  },
  {
   "cell_type": "markdown",
   "metadata": {
    "kernel": "SoS",
    "papermill": {
     "duration": 0.028623,
     "end_time": "2019-12-23T17:02:48.349316",
     "exception": false,
     "start_time": "2019-12-23T17:02:48.320693",
     "status": "completed"
    },
    "tags": []
   },
   "source": [
    "### Preview in notebook or panel (options `-n` and `-p`)\n",
    "\n",
    "By default, `%preview` displays results in the side panel if the side panel is open, and otherwise in the main notebook. You can override this behavior with options `-p` (`--panel`) or `-n` (`--notebook`) to always display results in the console panel or notebook. This is why we use `-n` most of the time in this tutorial to keep the preview results in this notebook.\n",
    "\n",
    "For example, with option `-p`, the preview result will not be saved in notebook, even if the console panel is not open."
   ]
  },
  {
   "cell_type": "code",
   "execution_count": 3,
   "metadata": {
    "kernel": "SoS",
    "papermill": {
     "duration": 0.041849,
     "end_time": "2019-12-23T17:02:48.418549",
     "exception": false,
     "start_time": "2019-12-23T17:02:48.376700",
     "status": "completed"
    },
    "tags": []
   },
   "outputs": [],
   "source": [
    "%preview df -p"
   ]
  },
  {
   "cell_type": "markdown",
   "metadata": {
    "kernel": "R",
    "papermill": {
     "duration": 0.027073,
     "end_time": "2019-12-23T17:02:48.473530",
     "exception": false,
     "start_time": "2019-12-23T17:02:48.446457",
     "status": "completed"
    },
    "tags": []
   },
   "source": [
    "### Preview embedded SoS workflow (option `--workflow`)"
   ]
  },
  {
   "cell_type": "markdown",
   "metadata": {
    "kernel": "SoS",
    "papermill": {
     "duration": 0.026867,
     "end_time": "2019-12-23T17:02:48.529554",
     "exception": false,
     "start_time": "2019-12-23T17:02:48.502687",
     "status": "completed"
    },
    "tags": []
   },
   "source": [
    "If option `-w` (`--workflow`) is specified, sos collects workflow steps from the current notebook and preview it. This would give you a better sense of what would be converted with magic `%convert --to sos` or executed with magic `%sosrun`."
   ]
  },
  {
   "cell_type": "code",
   "execution_count": 4,
   "metadata": {
    "kernel": "SoS",
    "papermill": {
     "duration": 0.035463,
     "end_time": "2019-12-23T17:02:48.592796",
     "exception": false,
     "start_time": "2019-12-23T17:02:48.557333",
     "status": "completed"
    },
    "tags": []
   },
   "outputs": [],
   "source": [
    "[step_1]\n",
    "print('Step 1 of workflow')"
   ]
  },
  {
   "cell_type": "code",
   "execution_count": 5,
   "metadata": {
    "kernel": "SoS",
    "papermill": {
     "duration": 0.035568,
     "end_time": "2019-12-23T17:02:48.656622",
     "exception": false,
     "start_time": "2019-12-23T17:02:48.621054",
     "status": "completed"
    },
    "tags": []
   },
   "outputs": [],
   "source": [
    "[step_2]\n",
    "print('Step 2 of workflow')"
   ]
  },
  {
   "cell_type": "code",
   "execution_count": 6,
   "metadata": {
    "kernel": "SoS",
    "papermill": {
     "duration": 0.035756,
     "end_time": "2019-12-23T17:02:48.719895",
     "exception": false,
     "start_time": "2019-12-23T17:02:48.684139",
     "status": "completed"
    },
    "tags": []
   },
   "outputs": [
    {
     "data": {
      "text/html": [
       "<div class=\"CodeMirror cm-s-default\"><div style=\"overflow: hidden; position: relative; width: 3px; height: 0px; top: 5px; left: 0px;\"><textarea autocorrect=\"off\" autocapitalize=\"off\" spellcheck=\"false\" tabindex=\"0\" style=\"position: absolute; bottom: -1em; padding: 0px; width: 1000px; height: 1em; outline: none;\"></textarea></div><div class=\"CodeMirror-vscrollbar\" tabindex=\"-1\" cm-not-content=\"true\" style=\"width: 18px; pointer-events: none;\"><div style=\"min-width: 1px; height: 0px;\"></div></div><div class=\"CodeMirror-hscrollbar\" tabindex=\"-1\" cm-not-content=\"true\" style=\"height: 18px; pointer-events: none;\"><div style=\"height: 100%; min-height: 1px; width: 0px;\"></div></div><div class=\"CodeMirror-scrollbar-filler\" cm-not-content=\"true\"></div><div class=\"CodeMirror-gutter-filler\" cm-not-content=\"true\"></div><div class=\"CodeMirror-scroll\" tabindex=\"-1\"><div class=\"CodeMirror-sizer\" style=\"margin-left: 0px; margin-bottom: 0px; border-right-width: 30px; min-height: 182px; min-width: 214.336px; padding-right: 0px; padding-bottom: 0px;\"><div style=\"position: relative; top: 0px;\"><div class=\"CodeMirror-lines\" role=\"presentation\"><div role=\"presentation\" style=\"position: relative; outline: none;\"><div class=\"CodeMirror-measure\"><pre><span>xxxxxxxxxx</span></pre></div><div class=\"CodeMirror-measure\"></div><div style=\"position: relative; z-index: 1;\"></div><div class=\"CodeMirror-cursors\"><div class=\"CodeMirror-cursor\" style=\"left: 0px; top: 0px; height: 17px;\">&nbsp;</div></div><div class=\"CodeMirror-code\" role=\"presentation\" style=\"\"><pre class=\" CodeMirror-line \" role=\"presentation\"><span role=\"presentation\" style=\"padding-right: 0.1px;\"><span class=\"cm-comment\">#!/usr/bin/env sos-runner</span></span></pre><pre class=\" CodeMirror-line \" role=\"presentation\"><span role=\"presentation\" style=\"padding-right: 0.1px;\"><span class=\"cm-comment\">#fileformat=SOS1.0</span></span></pre><pre class=\" CodeMirror-line \" role=\"presentation\"><span role=\"presentation\" style=\"padding-right: 0.1px;\"><span cm-text=\"\">​</span></span></pre><pre class=\" section-header CodeMirror-line \" role=\"presentation\"><span role=\"presentation\" style=\"padding-right: 0.1px;\"><span class=\"cm-header\">[step_1]</span></span></pre><pre class=\" CodeMirror-line \" role=\"presentation\"><span role=\"presentation\" style=\"padding-right: 0.1px;\"><span class=\"cm-builtin\">print</span>(<span class=\"cm-string\">'Step 1 of workflow'</span>)</span></pre><pre class=\" CodeMirror-line \" role=\"presentation\"><span role=\"presentation\" style=\"padding-right: 0.1px;\"><span cm-text=\"\">​</span></span></pre><pre class=\" section-header CodeMirror-line \" role=\"presentation\"><span role=\"presentation\" style=\"padding-right: 0.1px;\"><span class=\"cm-header\">[step_2]</span></span></pre><pre class=\" CodeMirror-line \" role=\"presentation\"><span role=\"presentation\" style=\"padding-right: 0.1px;\"><span class=\"cm-builtin\">print</span>(<span class=\"cm-string\">'Step 2 of workflow'</span>)</span></pre><pre class=\" CodeMirror-line \" role=\"presentation\"><span role=\"presentation\" style=\"padding-right: 0.1px;\"><span cm-text=\"\">​</span></span></pre><pre class=\" CodeMirror-line \" role=\"presentation\"><span role=\"presentation\" style=\"padding-right: 0.1px;\"><span cm-text=\"\">​</span></span></pre></div></div></div></div></div><div style=\"position: absolute; height: 30px; width: 1px; border-bottom: 0px solid transparent; top: 182px;\"></div><div class=\"CodeMirror-gutters\" style=\"display: none; height: 212px;\"></div></div></div>"
      ]
     },
     "metadata": {},
     "output_type": "display_data"
    }
   ],
   "source": [
    "%preview --workflow"
   ]
  },
  {
   "cell_type": "markdown",
   "metadata": {
    "kernel": "SoS",
    "papermill": {
     "duration": 0.027175,
     "end_time": "2019-12-23T17:02:48.774230",
     "exception": false,
     "start_time": "2019-12-23T17:02:48.747055",
     "status": "completed"
    },
    "tags": []
   },
   "source": [
    "### Preview variables from another kernel (option `-k`, `--kernel`)"
   ]
  },
  {
   "cell_type": "markdown",
   "metadata": {
    "kernel": "SoS",
    "papermill": {
     "duration": 0.028873,
     "end_time": "2019-12-23T17:02:48.830733",
     "exception": false,
     "start_time": "2019-12-23T17:02:48.801860",
     "status": "completed"
    },
    "tags": []
   },
   "source": [
    "The `%preview` magic previews the variables with the kernel using which the cell is evaluated. For example, even if you have `var` defined in both SoS and `R` kernel,"
   ]
  },
  {
   "cell_type": "code",
   "execution_count": 7,
   "metadata": {
    "kernel": "SoS",
    "papermill": {
     "duration": 0.039422,
     "end_time": "2019-12-23T17:02:48.900112",
     "exception": false,
     "start_time": "2019-12-23T17:02:48.860690",
     "status": "completed"
    },
    "tags": []
   },
   "outputs": [],
   "source": [
    "val = [2,3]*2"
   ]
  },
  {
   "cell_type": "code",
   "execution_count": 8,
   "metadata": {
    "kernel": "SoS",
    "papermill": {
     "duration": 0.055672,
     "end_time": "2019-12-23T17:02:48.987766",
     "exception": false,
     "start_time": "2019-12-23T17:02:48.932094",
     "status": "completed"
    },
    "tags": []
   },
   "outputs": [
    {
     "data": {
      "text/html": [
       "<div class=\"sos_hint\">> val: list of length 4</div>"
      ],
      "text/plain": [
       ">>> val:\n"
      ]
     },
     "metadata": {},
     "output_type": "display_data"
    },
    {
     "data": {
      "text/plain": [
       "[2, 3, 2, 3]"
      ]
     },
     "metadata": {},
     "output_type": "display_data"
    }
   ],
   "source": [
    "%preview -n val"
   ]
  },
  {
   "cell_type": "code",
   "execution_count": 9,
   "metadata": {
    "kernel": "R",
    "papermill": {
     "duration": 1.502168,
     "end_time": "2019-12-23T17:02:50.525343",
     "exception": false,
     "start_time": "2019-12-23T17:02:49.023175",
     "status": "completed"
    },
    "tags": []
   },
   "outputs": [],
   "source": [
    "val = rep(c(1, 2), 3)"
   ]
  },
  {
   "cell_type": "code",
   "execution_count": 10,
   "metadata": {
    "kernel": "R",
    "papermill": {
     "duration": 0.087098,
     "end_time": "2019-12-23T17:02:50.640692",
     "exception": false,
     "start_time": "2019-12-23T17:02:50.553594",
     "status": "completed"
    },
    "tags": []
   },
   "outputs": [
    {
     "data": {
      "text/html": [
       "<div class=\"sos_hint\">> val: </div>"
      ],
      "text/plain": [
       ">>> val:\n"
      ]
     },
     "metadata": {},
     "output_type": "display_data"
    },
    {
     "name": "stdout",
     "output_type": "stream",
     "text": [
      " num [1:6] 1 2 1 2 1 2\n"
     ]
    }
   ],
   "source": [
    "%preview -n val"
   ]
  },
  {
   "cell_type": "markdown",
   "metadata": {
    "kernel": "SoS",
    "papermill": {
     "duration": 0.028977,
     "end_time": "2019-12-23T17:02:50.701191",
     "exception": false,
     "start_time": "2019-12-23T17:02:50.672214",
     "status": "completed"
    },
    "tags": []
   },
   "source": [
    "If you would like to preview variable in another kernel, you can specify it using option `--kernel`, for example, the following cell previews a variable `r.val` in a SoS kernel."
   ]
  },
  {
   "cell_type": "code",
   "execution_count": 11,
   "metadata": {
    "kernel": "SoS",
    "papermill": {
     "duration": 0.160687,
     "end_time": "2019-12-23T17:02:50.890756",
     "exception": false,
     "start_time": "2019-12-23T17:02:50.730069",
     "status": "completed"
    },
    "tags": []
   },
   "outputs": [
    {
     "data": {
      "text/html": [
       "<div class=\"sos_hint\">> val: </div>"
      ],
      "text/plain": [
       ">>> val:\n"
      ]
     },
     "metadata": {},
     "output_type": "display_data"
    },
    {
     "name": "stdout",
     "output_type": "stream",
     "text": [
      " num [1:6] 1 2 1 2 1 2\n"
     ]
    }
   ],
   "source": [
    "%preview -n val --kernel R"
   ]
  },
  {
   "cell_type": "markdown",
   "metadata": {
    "kernel": "SoS",
    "papermill": {
     "duration": 0.028907,
     "end_time": "2019-12-23T17:02:50.950521",
     "exception": false,
     "start_time": "2019-12-23T17:02:50.921614",
     "status": "completed"
    },
    "tags": []
   },
   "source": [
    "### Preview files on remote host (option `-r`)"
   ]
  },
  {
   "cell_type": "markdown",
   "metadata": {
    "kernel": "SoS",
    "papermill": {
     "duration": 0.03014,
     "end_time": "2019-12-23T17:02:51.010239",
     "exception": false,
     "start_time": "2019-12-23T17:02:50.980099",
     "status": "completed"
    },
    "tags": []
   },
   "source": [
    "When a workflow or a task is executed remotely (see [Remote Execution](Remote_Execution.html) for details, result files might be on a remote host that is unavailable for local preview. \n",
    "\n",
    "For example, you can execute a workflow on a remote host `bcb` to generate a file (`mygraphic.png`) and use `%preview -r bcb` to preview it."
   ]
  },
  {
   "cell_type": "code",
   "execution_count": 12,
   "metadata": {
    "kernel": "SoS",
    "papermill": {
     "duration": 7.179858,
     "end_time": "2019-12-23T17:02:58.219848",
     "exception": false,
     "start_time": "2019-12-23T17:02:51.039990",
     "status": "completed"
    },
    "scrolled": true,
    "tags": []
   },
   "outputs": [
    {
     "name": "stdout",
     "output_type": "stream",
     "text": [
      "INFO: No matching tasks are identified. Use option -a to check all tasks.\n",
      "INFO: Running \u001b[32mdefault\u001b[0m: \n",
      "null device \n",
      "          1 \n",
      "INFO: \u001b[32mdefault\u001b[0m is \u001b[32mcompleted\u001b[0m.\n",
      "INFO: Workflow default (ID=18c4690c87e02c14) is executed successfully with 1 completed step.\n"
     ]
    },
    {
     "data": {
      "text/html": [
       "<div class=\"sos_hint\">> mygraphic.png (13.5 KiB):</div>"
      ],
      "text/plain": [
       "\n",
       "> mygraphic.png (13.5 KiB):"
      ]
     },
     "metadata": {},
     "output_type": "display_data"
    },
    {
     "data": {
      "image/png": "[encoded data removed]"
     },
     "metadata": {},
     "output_type": "display_data",
     "source": "mygraphic.png"
    }
   ],
   "source": [
    "%preview -n mygraphic.png -r bcb\n",
    "%run -r bcb\n",
    "R:\n",
    "  png(file=\"mygraphic.png\",width=400,height=350)\n",
    "  plot(x=rnorm(10),y=rnorm(10),main=\"example\")\n",
    "  dev.off()\n"
   ]
  },
  {
   "cell_type": "markdown",
   "metadata": {
    "kernel": "SoS",
    "papermill": {
     "duration": 0.04003,
     "end_time": "2019-12-23T17:02:58.301123",
     "exception": false,
     "start_time": "2019-12-23T17:02:58.261093",
     "status": "completed"
    },
    "tags": []
   },
   "source": [
    "## Preview of variables"
   ]
  },
  {
   "cell_type": "markdown",
   "metadata": {
    "kernel": "SoS",
    "papermill": {
     "duration": 0.037304,
     "end_time": "2019-12-23T17:02:58.381007",
     "exception": false,
     "start_time": "2019-12-23T17:02:58.343703",
     "status": "completed"
    },
    "tags": []
   },
   "source": [
    "### Preview variable in SoS kernel"
   ]
  },
  {
   "cell_type": "code",
   "execution_count": 13,
   "metadata": {
    "kernel": "SoS",
    "papermill": {
     "duration": 0.059391,
     "end_time": "2019-12-23T17:02:58.480548",
     "exception": false,
     "start_time": "2019-12-23T17:02:58.421157",
     "status": "completed"
    },
    "tags": []
   },
   "outputs": [
    {
     "data": {
      "text/html": [
       "<div class=\"sos_hint\">> var1: list of length 3</div>"
      ],
      "text/plain": [
       ">>> var1:\n"
      ]
     },
     "metadata": {},
     "output_type": "display_data"
    },
    {
     "data": {
      "text/plain": [
       "['apple', 'banana', 'cherry']"
      ]
     },
     "metadata": {},
     "output_type": "display_data"
    },
    {
     "data": {
      "text/html": [
       "<div class=\"sos_hint\">> var2: dict of length 3</div>"
      ],
      "text/plain": [
       ">>> var2:\n"
      ]
     },
     "metadata": {},
     "output_type": "display_data"
    },
    {
     "data": {
      "text/plain": [
       "{'apple': 5, 'banana': 6, 'cherry': 6}"
      ]
     },
     "metadata": {},
     "output_type": "display_data"
    }
   ],
   "source": [
    "%preview -n var1 var2\n",
    "var1 = [\"apple\", \"banana\", \"cherry\"]\n",
    "var2 = {x:len(x) for x in var1}"
   ]
  },
  {
   "cell_type": "markdown",
   "metadata": {
    "kernel": "SoS",
    "papermill": {
     "duration": 0.060906,
     "end_time": "2019-12-23T17:02:58.590951",
     "exception": false,
     "start_time": "2019-12-23T17:02:58.530045",
     "status": "completed"
    },
    "tags": []
   },
   "source": [
    "### Preview variables in subkernels"
   ]
  },
  {
   "cell_type": "code",
   "execution_count": 14,
   "metadata": {
    "kernel": "R",
    "papermill": {
     "duration": 0.095674,
     "end_time": "2019-12-23T17:02:58.742716",
     "exception": false,
     "start_time": "2019-12-23T17:02:58.647042",
     "status": "completed"
    },
    "tags": []
   },
   "outputs": [
    {
     "data": {
      "text/html": [
       "<div class=\"sos_hint\">> mtcars: </div>"
      ],
      "text/plain": [
       ">>> mtcars:\n"
      ]
     },
     "metadata": {},
     "output_type": "display_data"
    },
    {
     "name": "stdout",
     "output_type": "stream",
     "text": [
      "'data.frame':\t32 obs. of  11 variables:\n",
      " $ mpg : num  21 21 22.8 21.4 18.7 18.1 14.3 24.4 22.8 19.2 ...\n",
      " $ cyl : num  6 6 4 6 8 6 8 4 4 6 ...\n",
      " $ disp: num  160 160 108 258 360 ...\n",
      " $ hp  : num  110 110 93 110 175 105 245 62 95 123 ...\n",
      " $ drat: num  3.9 3.9 3.85 3.08 3.15 2.76 3.21 3.69 3.92 3.92 ...\n",
      " $ wt  : num  2.62 2.88 2.32 3.21 3.44 ...\n",
      " $ qsec: num  16.5 17 18.6 19.4 17 ...\n",
      " $ vs  : num  0 0 1 1 0 1 0 1 1 1 ...\n",
      " $ am  : num  1 1 1 0 0 0 0 0 0 0 ...\n",
      " $ gear: num  4 4 4 3 3 3 3 4 4 4 ...\n",
      " $ carb: num  4 4 1 1 2 1 4 2 2 4 ...\n"
     ]
    }
   ],
   "source": [
    "%preview -n mtcars"
   ]
  },
  {
   "cell_type": "code",
   "execution_count": 15,
   "metadata": {
    "kernel": "Octave",
    "papermill": {
     "duration": 3.362268,
     "end_time": "2019-12-23T17:03:02.159905",
     "exception": false,
     "start_time": "2019-12-23T17:02:58.797637",
     "status": "completed"
    },
    "tags": []
   },
   "outputs": [
    {
     "data": {
      "text/html": [
       "<div class=\"sos_hint\">> a:</div>"
      ],
      "text/plain": [
       ">>> a:\n"
      ]
     },
     "metadata": {},
     "output_type": "display_data"
    },
    {
     "name": "stdout",
     "output_type": "stream",
     "text": [
      "a =\n",
      "\n",
      "   1   2   3\n",
      "\n"
     ]
    }
   ],
   "source": [
    "%preview a\n",
    "a = [1 2 3];"
   ]
  },
  {
   "cell_type": "markdown",
   "metadata": {
    "kernel": "SoS",
    "papermill": {
     "duration": 0.039904,
     "end_time": "2019-12-23T17:03:02.238635",
     "exception": false,
     "start_time": "2019-12-23T17:03:02.198731",
     "status": "completed"
    },
    "tags": []
   },
   "source": [
    "### Preview of pandas DataFrame"
   ]
  },
  {
   "cell_type": "markdown",
   "metadata": {
    "kernel": "SoS",
    "papermill": {
     "duration": 0.03915,
     "end_time": "2019-12-23T17:03:02.318469",
     "exception": false,
     "start_time": "2019-12-23T17:03:02.279319",
     "status": "completed"
    },
    "tags": []
   },
   "source": [
    "If a data to be previewed is a Pandas DataFrame (or a csv or excel file which would be previewed as a DataFrame), SoS will preview it as a sortable and searchable table. For example, the following cell get a data.frame `mtcar` from the R kernel (as a pandas DataFrame) and preview it in the main notebook:"
   ]
  },
  {
   "cell_type": "code",
   "execution_count": 16,
   "metadata": {
    "kernel": "SoS",
    "papermill": {
     "duration": 0.320723,
     "end_time": "2019-12-23T17:03:02.678378",
     "exception": false,
     "start_time": "2019-12-23T17:03:02.357655",
     "status": "completed"
    },
    "tags": []
   },
   "outputs": [
    {
     "data": {
      "text/html": [
       "<div class=\"sos_hint\">> mtcars: DataFrame of shape (32, 11)</div>"
      ],
      "text/plain": [
       ">>> mtcars:\n"
      ]
     },
     "metadata": {},
     "output_type": "display_data"
    },
    {
     "data": {
      "text/html": [
       "\n",
       "    <div class='dataframe_container' style=\"max-height:400px\">\n",
       "    <input type=\"text\" class='dataframe_input' id=\"search_nu5ruyt2\" onkeyup=\"filterDataFrame('nu5ruyt2')\" placeholder=\"Search for names..\">\n",
       "    <table border=\"1\" id=\"dataframe_nu5ruyt2\" class=\"sos_dataframe dataframe\">\n",
       "  <thead>\n",
       "    <tr style=\"text-align: right;\">\n",
       "      <th> &nbsp; <i class=\"fa fa-sort\" style=\"color:lightgray\" onclick=\"sortDataFrame('nu5ruyt2', 0, 'alphabetic')\"></th>\n",
       "      <th>mpg &nbsp; <i class=\"fa fa-sort\" style=\"color:lightgray\" onclick=\"sortDataFrame('nu5ruyt2', 1, 'numeric')\"></th>\n",
       "      <th>cyl &nbsp; <i class=\"fa fa-sort\" style=\"color:lightgray\" onclick=\"sortDataFrame('nu5ruyt2', 2, 'numeric')\"></th>\n",
       "      <th>disp &nbsp; <i class=\"fa fa-sort\" style=\"color:lightgray\" onclick=\"sortDataFrame('nu5ruyt2', 3, 'numeric')\"></th>\n",
       "      <th>hp &nbsp; <i class=\"fa fa-sort\" style=\"color:lightgray\" onclick=\"sortDataFrame('nu5ruyt2', 4, 'numeric')\"></th>\n",
       "      <th>drat &nbsp; <i class=\"fa fa-sort\" style=\"color:lightgray\" onclick=\"sortDataFrame('nu5ruyt2', 5, 'numeric')\"></th>\n",
       "      <th>wt &nbsp; <i class=\"fa fa-sort\" style=\"color:lightgray\" onclick=\"sortDataFrame('nu5ruyt2', 6, 'numeric')\"></th>\n",
       "      <th>qsec &nbsp; <i class=\"fa fa-sort\" style=\"color:lightgray\" onclick=\"sortDataFrame('nu5ruyt2', 7, 'numeric')\"></th>\n",
       "      <th>vs &nbsp; <i class=\"fa fa-sort\" style=\"color:lightgray\" onclick=\"sortDataFrame('nu5ruyt2', 8, 'numeric')\"></th>\n",
       "      <th>am &nbsp; <i class=\"fa fa-sort\" style=\"color:lightgray\" onclick=\"sortDataFrame('nu5ruyt2', 9, 'numeric')\"></th>\n",
       "      <th>gear &nbsp; <i class=\"fa fa-sort\" style=\"color:lightgray\" onclick=\"sortDataFrame('nu5ruyt2', 10, 'numeric')\"></th>\n",
       "      <th>carb &nbsp; <i class=\"fa fa-sort\" style=\"color:lightgray\" onclick=\"sortDataFrame('nu5ruyt2', 11, 'numeric')\"></th>\n",
       "    </tr>\n",
       "  </thead>\n",
       "  <tbody>\n",
       "    <tr>\n",
       "      <th>Mazda RX4</th>\n",
       "      <td>21.0</td>\n",
       "      <td>6.0</td>\n",
       "      <td>160.0</td>\n",
       "      <td>110.0</td>\n",
       "      <td>3.90</td>\n",
       "      <td>2.620</td>\n",
       "      <td>16.46</td>\n",
       "      <td>0.0</td>\n",
       "      <td>1.0</td>\n",
       "      <td>4.0</td>\n",
       "      <td>4.0</td>\n",
       "    </tr>\n",
       "    <tr>\n",
       "      <th>Mazda RX4 Wag</th>\n",
       "      <td>21.0</td>\n",
       "      <td>6.0</td>\n",
       "      <td>160.0</td>\n",
       "      <td>110.0</td>\n",
       "      <td>3.90</td>\n",
       "      <td>2.875</td>\n",
       "      <td>17.02</td>\n",
       "      <td>0.0</td>\n",
       "      <td>1.0</td>\n",
       "      <td>4.0</td>\n",
       "      <td>4.0</td>\n",
       "    </tr>\n",
       "    <tr>\n",
       "      <th>Datsun 710</th>\n",
       "      <td>22.8</td>\n",
       "      <td>4.0</td>\n",
       "      <td>108.0</td>\n",
       "      <td>93.0</td>\n",
       "      <td>3.85</td>\n",
       "      <td>2.320</td>\n",
       "      <td>18.61</td>\n",
       "      <td>1.0</td>\n",
       "      <td>1.0</td>\n",
       "      <td>4.0</td>\n",
       "      <td>1.0</td>\n",
       "    </tr>\n",
       "    <tr>\n",
       "      <th>Hornet 4 Drive</th>\n",
       "      <td>21.4</td>\n",
       "      <td>6.0</td>\n",
       "      <td>258.0</td>\n",
       "      <td>110.0</td>\n",
       "      <td>3.08</td>\n",
       "      <td>3.215</td>\n",
       "      <td>19.44</td>\n",
       "      <td>1.0</td>\n",
       "      <td>0.0</td>\n",
       "      <td>3.0</td>\n",
       "      <td>1.0</td>\n",
       "    </tr>\n",
       "    <tr>\n",
       "      <th>Hornet Sportabout</th>\n",
       "      <td>18.7</td>\n",
       "      <td>8.0</td>\n",
       "      <td>360.0</td>\n",
       "      <td>175.0</td>\n",
       "      <td>3.15</td>\n",
       "      <td>3.440</td>\n",
       "      <td>17.02</td>\n",
       "      <td>0.0</td>\n",
       "      <td>0.0</td>\n",
       "      <td>3.0</td>\n",
       "      <td>2.0</td>\n",
       "    </tr>\n",
       "    <tr>\n",
       "      <th>Valiant</th>\n",
       "      <td>18.1</td>\n",
       "      <td>6.0</td>\n",
       "      <td>225.0</td>\n",
       "      <td>105.0</td>\n",
       "      <td>2.76</td>\n",
       "      <td>3.460</td>\n",
       "      <td>20.22</td>\n",
       "      <td>1.0</td>\n",
       "      <td>0.0</td>\n",
       "      <td>3.0</td>\n",
       "      <td>1.0</td>\n",
       "    </tr>\n",
       "    <tr>\n",
       "      <th>Duster 360</th>\n",
       "      <td>14.3</td>\n",
       "      <td>8.0</td>\n",
       "      <td>360.0</td>\n",
       "      <td>245.0</td>\n",
       "      <td>3.21</td>\n",
       "      <td>3.570</td>\n",
       "      <td>15.84</td>\n",
       "      <td>0.0</td>\n",
       "      <td>0.0</td>\n",
       "      <td>3.0</td>\n",
       "      <td>4.0</td>\n",
       "    </tr>\n",
       "    <tr>\n",
       "      <th>Merc 240D</th>\n",
       "      <td>24.4</td>\n",
       "      <td>4.0</td>\n",
       "      <td>146.7</td>\n",
       "      <td>62.0</td>\n",
       "      <td>3.69</td>\n",
       "      <td>3.190</td>\n",
       "      <td>20.00</td>\n",
       "      <td>1.0</td>\n",
       "      <td>0.0</td>\n",
       "      <td>4.0</td>\n",
       "      <td>2.0</td>\n",
       "    </tr>\n",
       "    <tr>\n",
       "      <th>Merc 230</th>\n",
       "      <td>22.8</td>\n",
       "      <td>4.0</td>\n",
       "      <td>140.8</td>\n",
       "      <td>95.0</td>\n",
       "      <td>3.92</td>\n",
       "      <td>3.150</td>\n",
       "      <td>22.90</td>\n",
       "      <td>1.0</td>\n",
       "      <td>0.0</td>\n",
       "      <td>4.0</td>\n",
       "      <td>2.0</td>\n",
       "    </tr>\n",
       "    <tr>\n",
       "      <th>Merc 280</th>\n",
       "      <td>19.2</td>\n",
       "      <td>6.0</td>\n",
       "      <td>167.6</td>\n",
       "      <td>123.0</td>\n",
       "      <td>3.92</td>\n",
       "      <td>3.440</td>\n",
       "      <td>18.30</td>\n",
       "      <td>1.0</td>\n",
       "      <td>0.0</td>\n",
       "      <td>4.0</td>\n",
       "      <td>4.0</td>\n",
       "    </tr>\n",
       "    <tr>\n",
       "      <th>Merc 280C</th>\n",
       "      <td>17.8</td>\n",
       "      <td>6.0</td>\n",
       "      <td>167.6</td>\n",
       "      <td>123.0</td>\n",
       "      <td>3.92</td>\n",
       "      <td>3.440</td>\n",
       "      <td>18.90</td>\n",
       "      <td>1.0</td>\n",
       "      <td>0.0</td>\n",
       "      <td>4.0</td>\n",
       "      <td>4.0</td>\n",
       "    </tr>\n",
       "    <tr>\n",
       "      <th>Merc 450SE</th>\n",
       "      <td>16.4</td>\n",
       "      <td>8.0</td>\n",
       "      <td>275.8</td>\n",
       "      <td>180.0</td>\n",
       "      <td>3.07</td>\n",
       "      <td>4.070</td>\n",
       "      <td>17.40</td>\n",
       "      <td>0.0</td>\n",
       "      <td>0.0</td>\n",
       "      <td>3.0</td>\n",
       "      <td>3.0</td>\n",
       "    </tr>\n",
       "    <tr>\n",
       "      <th>Merc 450SL</th>\n",
       "      <td>17.3</td>\n",
       "      <td>8.0</td>\n",
       "      <td>275.8</td>\n",
       "      <td>180.0</td>\n",
       "      <td>3.07</td>\n",
       "      <td>3.730</td>\n",
       "      <td>17.60</td>\n",
       "      <td>0.0</td>\n",
       "      <td>0.0</td>\n",
       "      <td>3.0</td>\n",
       "      <td>3.0</td>\n",
       "    </tr>\n",
       "    <tr>\n",
       "      <th>Merc 450SLC</th>\n",
       "      <td>15.2</td>\n",
       "      <td>8.0</td>\n",
       "      <td>275.8</td>\n",
       "      <td>180.0</td>\n",
       "      <td>3.07</td>\n",
       "      <td>3.780</td>\n",
       "      <td>18.00</td>\n",
       "      <td>0.0</td>\n",
       "      <td>0.0</td>\n",
       "      <td>3.0</td>\n",
       "      <td>3.0</td>\n",
       "    </tr>\n",
       "    <tr>\n",
       "      <th>Cadillac Fleetwood</th>\n",
       "      <td>10.4</td>\n",
       "      <td>8.0</td>\n",
       "      <td>472.0</td>\n",
       "      <td>205.0</td>\n",
       "      <td>2.93</td>\n",
       "      <td>5.250</td>\n",
       "      <td>17.98</td>\n",
       "      <td>0.0</td>\n",
       "      <td>0.0</td>\n",
       "      <td>3.0</td>\n",
       "      <td>4.0</td>\n",
       "    </tr>\n",
       "    <tr>\n",
       "      <th>Lincoln Continental</th>\n",
       "      <td>10.4</td>\n",
       "      <td>8.0</td>\n",
       "      <td>460.0</td>\n",
       "      <td>215.0</td>\n",
       "      <td>3.00</td>\n",
       "      <td>5.424</td>\n",
       "      <td>17.82</td>\n",
       "      <td>0.0</td>\n",
       "      <td>0.0</td>\n",
       "      <td>3.0</td>\n",
       "      <td>4.0</td>\n",
       "    </tr>\n",
       "    <tr>\n",
       "      <th>Chrysler Imperial</th>\n",
       "      <td>14.7</td>\n",
       "      <td>8.0</td>\n",
       "      <td>440.0</td>\n",
       "      <td>230.0</td>\n",
       "      <td>3.23</td>\n",
       "      <td>5.345</td>\n",
       "      <td>17.42</td>\n",
       "      <td>0.0</td>\n",
       "      <td>0.0</td>\n",
       "      <td>3.0</td>\n",
       "      <td>4.0</td>\n",
       "    </tr>\n",
       "    <tr>\n",
       "      <th>Fiat 128</th>\n",
       "      <td>32.4</td>\n",
       "      <td>4.0</td>\n",
       "      <td>78.7</td>\n",
       "      <td>66.0</td>\n",
       "      <td>4.08</td>\n",
       "      <td>2.200</td>\n",
       "      <td>19.47</td>\n",
       "      <td>1.0</td>\n",
       "      <td>1.0</td>\n",
       "      <td>4.0</td>\n",
       "      <td>1.0</td>\n",
       "    </tr>\n",
       "    <tr>\n",
       "      <th>Honda Civic</th>\n",
       "      <td>30.4</td>\n",
       "      <td>4.0</td>\n",
       "      <td>75.7</td>\n",
       "      <td>52.0</td>\n",
       "      <td>4.93</td>\n",
       "      <td>1.615</td>\n",
       "      <td>18.52</td>\n",
       "      <td>1.0</td>\n",
       "      <td>1.0</td>\n",
       "      <td>4.0</td>\n",
       "      <td>2.0</td>\n",
       "    </tr>\n",
       "    <tr>\n",
       "      <th>Toyota Corolla</th>\n",
       "      <td>33.9</td>\n",
       "      <td>4.0</td>\n",
       "      <td>71.1</td>\n",
       "      <td>65.0</td>\n",
       "      <td>4.22</td>\n",
       "      <td>1.835</td>\n",
       "      <td>19.90</td>\n",
       "      <td>1.0</td>\n",
       "      <td>1.0</td>\n",
       "      <td>4.0</td>\n",
       "      <td>1.0</td>\n",
       "    </tr>\n",
       "    <tr>\n",
       "      <th>Toyota Corona</th>\n",
       "      <td>21.5</td>\n",
       "      <td>4.0</td>\n",
       "      <td>120.1</td>\n",
       "      <td>97.0</td>\n",
       "      <td>3.70</td>\n",
       "      <td>2.465</td>\n",
       "      <td>20.01</td>\n",
       "      <td>1.0</td>\n",
       "      <td>0.0</td>\n",
       "      <td>3.0</td>\n",
       "      <td>1.0</td>\n",
       "    </tr>\n",
       "    <tr>\n",
       "      <th>Dodge Challenger</th>\n",
       "      <td>15.5</td>\n",
       "      <td>8.0</td>\n",
       "      <td>318.0</td>\n",
       "      <td>150.0</td>\n",
       "      <td>2.76</td>\n",
       "      <td>3.520</td>\n",
       "      <td>16.87</td>\n",
       "      <td>0.0</td>\n",
       "      <td>0.0</td>\n",
       "      <td>3.0</td>\n",
       "      <td>2.0</td>\n",
       "    </tr>\n",
       "    <tr>\n",
       "      <th>AMC Javelin</th>\n",
       "      <td>15.2</td>\n",
       "      <td>8.0</td>\n",
       "      <td>304.0</td>\n",
       "      <td>150.0</td>\n",
       "      <td>3.15</td>\n",
       "      <td>3.435</td>\n",
       "      <td>17.30</td>\n",
       "      <td>0.0</td>\n",
       "      <td>0.0</td>\n",
       "      <td>3.0</td>\n",
       "      <td>2.0</td>\n",
       "    </tr>\n",
       "    <tr>\n",
       "      <th>Camaro Z28</th>\n",
       "      <td>13.3</td>\n",
       "      <td>8.0</td>\n",
       "      <td>350.0</td>\n",
       "      <td>245.0</td>\n",
       "      <td>3.73</td>\n",
       "      <td>3.840</td>\n",
       "      <td>15.41</td>\n",
       "      <td>0.0</td>\n",
       "      <td>0.0</td>\n",
       "      <td>3.0</td>\n",
       "      <td>4.0</td>\n",
       "    </tr>\n",
       "    <tr>\n",
       "      <th>Pontiac Firebird</th>\n",
       "      <td>19.2</td>\n",
       "      <td>8.0</td>\n",
       "      <td>400.0</td>\n",
       "      <td>175.0</td>\n",
       "      <td>3.08</td>\n",
       "      <td>3.845</td>\n",
       "      <td>17.05</td>\n",
       "      <td>0.0</td>\n",
       "      <td>0.0</td>\n",
       "      <td>3.0</td>\n",
       "      <td>2.0</td>\n",
       "    </tr>\n",
       "    <tr>\n",
       "      <th>Fiat X1-9</th>\n",
       "      <td>27.3</td>\n",
       "      <td>4.0</td>\n",
       "      <td>79.0</td>\n",
       "      <td>66.0</td>\n",
       "      <td>4.08</td>\n",
       "      <td>1.935</td>\n",
       "      <td>18.90</td>\n",
       "      <td>1.0</td>\n",
       "      <td>1.0</td>\n",
       "      <td>4.0</td>\n",
       "      <td>1.0</td>\n",
       "    </tr>\n",
       "    <tr>\n",
       "      <th>Porsche 914-2</th>\n",
       "      <td>26.0</td>\n",
       "      <td>4.0</td>\n",
       "      <td>120.3</td>\n",
       "      <td>91.0</td>\n",
       "      <td>4.43</td>\n",
       "      <td>2.140</td>\n",
       "      <td>16.70</td>\n",
       "      <td>0.0</td>\n",
       "      <td>1.0</td>\n",
       "      <td>5.0</td>\n",
       "      <td>2.0</td>\n",
       "    </tr>\n",
       "    <tr>\n",
       "      <th>Lotus Europa</th>\n",
       "      <td>30.4</td>\n",
       "      <td>4.0</td>\n",
       "      <td>95.1</td>\n",
       "      <td>113.0</td>\n",
       "      <td>3.77</td>\n",
       "      <td>1.513</td>\n",
       "      <td>16.90</td>\n",
       "      <td>1.0</td>\n",
       "      <td>1.0</td>\n",
       "      <td>5.0</td>\n",
       "      <td>2.0</td>\n",
       "    </tr>\n",
       "    <tr>\n",
       "      <th>Ford Pantera L</th>\n",
       "      <td>15.8</td>\n",
       "      <td>8.0</td>\n",
       "      <td>351.0</td>\n",
       "      <td>264.0</td>\n",
       "      <td>4.22</td>\n",
       "      <td>3.170</td>\n",
       "      <td>14.50</td>\n",
       "      <td>0.0</td>\n",
       "      <td>1.0</td>\n",
       "      <td>5.0</td>\n",
       "      <td>4.0</td>\n",
       "    </tr>\n",
       "    <tr>\n",
       "      <th>Ferrari Dino</th>\n",
       "      <td>19.7</td>\n",
       "      <td>6.0</td>\n",
       "      <td>145.0</td>\n",
       "      <td>175.0</td>\n",
       "      <td>3.62</td>\n",
       "      <td>2.770</td>\n",
       "      <td>15.50</td>\n",
       "      <td>0.0</td>\n",
       "      <td>1.0</td>\n",
       "      <td>5.0</td>\n",
       "      <td>6.0</td>\n",
       "    </tr>\n",
       "    <tr>\n",
       "      <th>Maserati Bora</th>\n",
       "      <td>15.0</td>\n",
       "      <td>8.0</td>\n",
       "      <td>301.0</td>\n",
       "      <td>335.0</td>\n",
       "      <td>3.54</td>\n",
       "      <td>3.570</td>\n",
       "      <td>14.60</td>\n",
       "      <td>0.0</td>\n",
       "      <td>1.0</td>\n",
       "      <td>5.0</td>\n",
       "      <td>8.0</td>\n",
       "    </tr>\n",
       "    <tr>\n",
       "      <th>Volvo 142E</th>\n",
       "      <td>21.4</td>\n",
       "      <td>4.0</td>\n",
       "      <td>121.0</td>\n",
       "      <td>109.0</td>\n",
       "      <td>4.11</td>\n",
       "      <td>2.780</td>\n",
       "      <td>18.60</td>\n",
       "      <td>1.0</td>\n",
       "      <td>1.0</td>\n",
       "      <td>4.0</td>\n",
       "      <td>2.0</td>\n",
       "    </tr>\n",
       "  </tbody>\n",
       "</table></div>"
      ]
     },
     "metadata": {},
     "output_type": "display_data"
    }
   ],
   "source": [
    "%get mtcars --from R\n",
    "%preview -n mtcars "
   ]
  },
  {
   "cell_type": "markdown",
   "metadata": {
    "kernel": "R",
    "papermill": {
     "duration": 0.042501,
     "end_time": "2019-12-23T17:03:02.769293",
     "exception": false,
     "start_time": "2019-12-23T17:03:02.726792",
     "status": "completed"
    },
    "tags": []
   },
   "source": [
    "Compared to previewing the same variable in R, you have the addition features of\n",
    "\n",
    "1. sorting table by clicking the sort icon at the header of each column\n",
    "2. displaying a subset of rows that matches specified text in the input text\n",
    "\n",
    "Note that SoS by default outputs the first 200 rows of the table. You can use option `-l` (`--limit`) to change this threshold."
   ]
  },
  {
   "cell_type": "markdown",
   "metadata": {
    "kernel": "SoS",
    "papermill": {
     "duration": 0.040556,
     "end_time": "2019-12-23T17:03:02.850946",
     "exception": false,
     "start_time": "2019-12-23T17:03:02.810390",
     "status": "completed"
    },
    "tags": []
   },
   "source": [
    "## Preview of files"
   ]
  },
  {
   "cell_type": "markdown",
   "metadata": {
    "kernel": "SoS",
    "papermill": {
     "duration": 0.040804,
     "end_time": "2019-12-23T17:03:02.932482",
     "exception": false,
     "start_time": "2019-12-23T17:03:02.891678",
     "status": "completed"
    },
    "tags": []
   },
   "source": [
    "The `%preview` magic can be used to preview files in a variety of formats. "
   ]
  },
  {
   "cell_type": "markdown",
   "metadata": {
    "kernel": "SoS",
    "papermill": {
     "duration": 0.042187,
     "end_time": "2019-12-23T17:03:03.016336",
     "exception": false,
     "start_time": "2019-12-23T17:03:02.974149",
     "status": "completed"
    },
    "tags": []
   },
   "source": [
    "### Preview of figures"
   ]
  },
  {
   "cell_type": "markdown",
   "metadata": {
    "kernel": "SoS",
    "papermill": {
     "duration": 0.040311,
     "end_time": "2019-12-23T17:03:03.098374",
     "exception": false,
     "start_time": "2019-12-23T17:03:03.058063",
     "status": "completed"
    },
    "tags": []
   },
   "source": [
    "SoS can preview figures in multiple formats including `.png`, `.jpg`, and `.gif`. For example, the following magic previews a `png` figure generated in R."
   ]
  },
  {
   "cell_type": "code",
   "execution_count": 17,
   "metadata": {
    "kernel": "R",
    "papermill": {
     "duration": 0.141223,
     "end_time": "2019-12-23T17:03:03.280759",
     "exception": false,
     "start_time": "2019-12-23T17:03:03.139536",
     "status": "completed"
    },
    "tags": []
   },
   "outputs": [
    {
     "data": {
      "text/html": [
       "<strong>pdf:</strong> 2"
      ],
      "text/latex": [
       "\\textbf{pdf:} 2"
      ],
      "text/markdown": [
       "**pdf:** 2"
      ],
      "text/plain": [
       "pdf \n",
       "  2 "
      ]
     },
     "metadata": {},
     "output_type": "display_data"
    },
    {
     "data": {
      "text/html": [
       "<div class=\"sos_hint\">> test.png (20.5 KiB):</div>"
      ],
      "text/plain": [
       "\n",
       "> test.png (20.5 KiB):"
      ]
     },
     "metadata": {},
     "output_type": "display_data"
    },
    {
     "data": {
      "image/png": "[encoded data removed]"
     },
     "metadata": {
      "image/png": {}
     },
     "output_type": "display_data"
    }
   ],
   "source": [
    "%preview test.png -n\n",
    "png('test.png', width=600, height=400)\n",
    "attach(mtcars)\n",
    "plot(wt, mpg, main=\"Scatterplot Example\", \n",
    "  xlab=\"Car Weight \", ylab=\"Miles Per Gallon \", pch=19)\n",
    "dev.off()"
   ]
  },
  {
   "cell_type": "markdown",
   "metadata": {
    "kernel": "SoS",
    "papermill": {
     "duration": 0.041824,
     "end_time": "2019-12-23T17:03:03.365232",
     "exception": false,
     "start_time": "2019-12-23T17:03:03.323408",
     "status": "completed"
    },
    "tags": []
   },
   "source": [
    "### Preview of pdf files"
   ]
  },
  {
   "cell_type": "markdown",
   "metadata": {
    "kernel": "SoS",
    "papermill": {
     "duration": 0.042028,
     "end_time": "2019-12-23T17:03:03.449413",
     "exception": false,
     "start_time": "2019-12-23T17:03:03.407385",
     "status": "completed"
    },
    "tags": []
   },
   "source": [
    "Note that SoS by default preview PDF files as an embeded object (iframe), but you can use option `-s png` to convert PDF to png to preview it as a image, if you have imagematick and Python package `wand` installed.\n",
    "\n",
    "| Option | description|\n",
    "|--|--|\n",
    "| `--style png` (`-s png`)| Convert PDF to png before preview. All pages are combined to produce a sngle PNG figure if the pdf file contains multiple pages. This option requires Python module `wand`.|\n",
    "| `--pages 2 3 `| With `--style png`, preview specified pages (page numbers starting from 1) from a multi-page PDF file. |\n"
   ]
  },
  {
   "cell_type": "code",
   "execution_count": 18,
   "metadata": {
    "kernel": "R",
    "papermill": {
     "duration": 0.271562,
     "end_time": "2019-12-23T17:03:03.763636",
     "exception": false,
     "start_time": "2019-12-23T17:03:03.492074",
     "status": "completed"
    },
    "tags": []
   },
   "outputs": [
    {
     "name": "stderr",
     "output_type": "stream",
     "text": [
      "The following objects are masked from mtcars (pos = 3):\n",
      "\n",
      "    am, carb, cyl, disp, drat, gear, hp, mpg, qsec, vs, wt\n",
      "\n"
     ]
    },
    {
     "data": {
      "text/html": [
       "<strong>pdf:</strong> 2"
      ],
      "text/latex": [
       "\\textbf{pdf:} 2"
      ],
      "text/markdown": [
       "**pdf:** 2"
      ],
      "text/plain": [
       "pdf \n",
       "  2 "
      ]
     },
     "metadata": {},
     "output_type": "display_data"
    },
    {
     "data": {
      "text/html": [
       "<div class=\"sos_hint\">> test.pdf (4.8 KiB):</div>"
      ],
      "text/plain": [
       "\n",
       "> test.pdf (4.8 KiB):"
      ]
     },
     "metadata": {},
     "output_type": "display_data"
    },
    {
     "name": "stderr",
     "output_type": "stream",
     "text": [
      "FailedToExecuteCommand `'gs' -sstdout=%stderr -dQUIET -dSAFER -dBATCH -dNOPAUSE -dNOPROMPT -dMaxBitmap=500000000 -dAlignToPixels=0 -dGridFitTT=2 '-sDEVICE=pngalpha' -dTextAlphaBits=4 -dGraphicsAlphaBits=4 '-r150x150'  '-sOutputFile=/var/folders/ys/gnzk0qbx5wbdgm531v82xxljv5yqy8/T/magick-64335fUYTC19hMizg%d' '-f/var/folders/ys/gnzk0qbx5wbdgm531v82xxljv5yqy8/T/magick-64335wlezk9Jxpn0U' '-f/var/folders/ys/gnzk0qbx5wbdgm531v82xxljv5yqy8/T/magick-64335uVHQVvUi1Do8'' (1) @ error/pdf.c/InvokePDFDelegate/291\n"
     ]
    },
    {
     "data": {
      "text/html": [
       "<embed src=\"test.pdf\"  type=\"application/pdf\" />"
      ]
     },
     "metadata": {},
     "output_type": "display_data"
    }
   ],
   "source": [
    "%preview test.pdf -n --style png \n",
    "pdf('test.pdf')\n",
    "attach(mtcars)\n",
    "plot(disp, mpg, main=\"Scatterplot Example\", \n",
    "  xlab=\"disp\", ylab=\"Miles Per Gallon \", pch=19)\n",
    "dev.off()"
   ]
  },
  {
   "cell_type": "markdown",
   "metadata": {
    "kernel": "SoS",
    "papermill": {
     "duration": 0.044352,
     "end_time": "2019-12-23T17:03:03.854564",
     "exception": false,
     "start_time": "2019-12-23T17:03:03.810212",
     "status": "completed"
    },
    "tags": []
   },
   "source": [
    "### Preview of bioinformatics-specific formats (module `sos-bioinfo`)"
   ]
  },
  {
   "cell_type": "markdown",
   "metadata": {
    "kernel": "SoS",
    "papermill": {
     "duration": 0.04296,
     "end_time": "2019-12-23T17:03:03.940859",
     "exception": false,
     "start_time": "2019-12-23T17:03:03.897899",
     "status": "completed"
    },
    "tags": []
   },
   "source": [
    "SoS uses a modular design and allows the definition of previewers in separate modules. For example, with the installation of module `sos-bioinfo` (and required packages such as `pysam`), you can preview bioinformatics-specific formats such as `.VCF` and `.bam`."
   ]
  },
  {
   "cell_type": "code",
   "execution_count": 19,
   "metadata": {
    "kernel": "SoS",
    "papermill": {
     "duration": 0.870298,
     "end_time": "2019-12-23T17:03:04.860203",
     "exception": false,
     "start_time": "2019-12-23T17:03:03.989905",
     "status": "completed"
    },
    "tags": []
   },
   "outputs": [
    {
     "data": {
      "text/plain": [
       "0"
      ]
     },
     "execution_count": 19,
     "metadata": {},
     "output_type": "execute_result"
    },
    {
     "data": {
      "text/html": [
       "<div class=\"sos_hint\">> issue225.bam (4.2 KiB):</div>"
      ],
      "text/plain": [
       "\n",
       "> issue225.bam (4.2 KiB):"
      ]
     },
     "metadata": {},
     "output_type": "display_data"
    },
    {
     "name": "stdout",
     "output_type": "stream",
     "text": [
      "RG:\n",
      "  ID: '16-3584'    PL: 'illumina'    PU: '16-3584'    SM: '16-3584'    \n",
      "SQ:\n",
      "  SN: 'chrM'    LN: 16571    \n"
     ]
    }
   ],
   "source": [
    "%preview -n issue225.bam\n",
    "download:\n",
    "  https://github.com/lomereiter/sambamba/raw/master/test/issue225.bam"
   ]
  },
  {
   "cell_type": "markdown",
   "metadata": {
    "kernel": "SoS",
    "papermill": {
     "duration": 0.043141,
     "end_time": "2019-12-23T17:03:04.950271",
     "exception": false,
     "start_time": "2019-12-23T17:03:04.907130",
     "status": "completed"
    },
    "tags": []
   },
   "source": [
    "## Further reading\n",
    "\n",
    "* [SoS magics](sos_magics.html)"
   ]
  }
 ],
 "metadata": {
  "kernelspec": {
   "display_name": "SoS",
   "language": "sos",
   "name": "sos"
  },
  "language_info": {
   "codemirror_mode": "sos",
   "file_extension": ".sos",
   "mimetype": "text/x-sos",
   "name": "sos",
   "nbconvert_exporter": "sos_notebook.converter.SoS_Exporter",
   "pygments_lexer": "sos"
  },
  "papermill": {
   "duration": 25.915599,
   "end_time": "2019-12-23T17:03:10.206800",
   "environment_variables": {},
   "exception": null,
   "input_path": "/Users/bpeng1/sos/sos-docs/src/user_guide/magic_preview.ipynb",
   "output_path": "magic_preview.ipynb_rerun.ipynb",
   "parameters": {},
   "start_time": "2019-12-23T17:02:44.291201",
   "version": "1.1.0"
  },
  "sos": {
   "kernels": [
    [
     "Octave",
     "octave",
     "Octave",
     "#dff8fb",
     ""
    ],
    [
     "R",
     "ir",
     "R",
     "#DCDCDA",
     "r"
    ],
    [
     "SoS",
     "sos",
     "",
     "",
     "sos"
    ]
   ],
   "panel": {
    "displayed": true,
    "height": 0
   },
   "version": "0.21.3"
  }
 },
 "nbformat": 4,
 "nbformat_minor": 4
}
