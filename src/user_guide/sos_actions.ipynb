{
 "cells": [
  {
   "cell_type": "markdown",
   "metadata": {
    "kernel": "SoS",
    "papermill": {
     "duration": 0.051093,
     "end_time": "2019-12-23T17:05:53.958594",
     "exception": false,
     "start_time": "2019-12-23T17:05:53.907501",
     "status": "completed"
    },
    "tags": []
   },
   "source": [
    "# SoS Actions and common action options"
   ]
  },
  {
   "cell_type": "markdown",
   "metadata": {
    "kernel": "SoS",
    "papermill": {
     "duration": 0.052046,
     "end_time": "2019-12-23T17:05:54.055896",
     "exception": false,
     "start_time": "2019-12-23T17:05:54.003850",
     "status": "completed"
    },
    "tags": []
   },
   "source": [
    "* **Difficulty level**: intermediate\n",
    "* **Time need to lean**: 10 minutes or less\n",
    "* **Key points**:\n",
    "  * SoS actions are Python functions that usually starts an interpreter to execute a script\n",
    "  * Parameters of actions allow you to execute actions with additional parameter, control input and output, and execute in containers"
   ]
  },
  {
   "cell_type": "markdown",
   "metadata": {
    "kernel": "SoS",
    "papermill": {
     "duration": 0.052021,
     "end_time": "2019-12-23T17:05:54.161694",
     "exception": false,
     "start_time": "2019-12-23T17:05:54.109673",
     "status": "completed"
    },
    "tags": []
   },
   "source": [
    "## SoS Actions"
   ]
  },
  {
   "cell_type": "markdown",
   "metadata": {
    "kernel": "SoS",
    "papermill": {
     "duration": 0.038412,
     "end_time": "2019-12-23T17:05:54.234118",
     "exception": false,
     "start_time": "2019-12-23T17:05:54.195706",
     "status": "completed"
    },
    "tags": []
   },
   "source": [
    "Although arbitrary python functions can be used in SoS step process, SoS defines many special functions called **`actions`** that accepts some shared parameters, and can behave differently in different running modes of SoS.\n",
    "\n",
    "For example, command `sleep 5` would be executed in run mode,"
   ]
  },
  {
   "cell_type": "code",
   "execution_count": 1,
   "metadata": {
    "kernel": "SoS",
    "papermill": {
     "duration": 9.525057,
     "end_time": "2019-12-23T17:06:03.800833",
     "exception": false,
     "start_time": "2019-12-23T17:05:54.275776",
     "status": "completed"
    },
    "tags": []
   },
   "outputs": [
    {
     "name": "stdout",
     "output_type": "stream",
     "text": [
      "\u001b[32m[\u001b[0m\u001b[97m.\u001b[0m\u001b[97m.\u001b[0m\u001b[97m.\u001b[0m\u001b[97m.\u001b[0m\u001b[97m.\u001b[0m\u001b[97m.\u001b[0m\b \b\b \b\b \b\b \b\b \b\b \b\u001b[32m.\u001b[0m\b \b\u001b[32m#\u001b[0m\u001b[32m]\u001b[0m 1 step processed (1 job completed)\n"
     ]
    }
   ],
   "source": [
    "%run -v0\n",
    "import time\n",
    "start_time = time.time()\n",
    "sh:\n",
    "    sleep 5\n",
    "    echo \"I am awake\"\n",
    "print(f'It took {time.time() - start_time :.1f}s to execute shell script')"
   ]
  },
  {
   "cell_type": "markdown",
   "metadata": {
    "kernel": "SoS",
    "papermill": {
     "duration": 0.04575,
     "end_time": "2019-12-23T17:06:03.888255",
     "exception": false,
     "start_time": "2019-12-23T17:06:03.842505",
     "status": "completed"
    },
    "tags": []
   },
   "source": [
    "However, if the action is executed in dryrun mode (option `-n`), it will just print the script it is intended to execute."
   ]
  },
  {
   "cell_type": "code",
   "execution_count": 2,
   "metadata": {
    "kernel": "SoS",
    "papermill": {
     "duration": 2.93112,
     "end_time": "2019-12-23T17:06:06.861467",
     "exception": false,
     "start_time": "2019-12-23T17:06:03.930347",
     "status": "completed"
    },
    "tags": []
   },
   "outputs": [
    {
     "name": "stdout",
     "output_type": "stream",
     "text": [
      "\u001b[32m[\u001b[0m\u001b[32m#\u001b[0m\u001b[32m]\u001b[0m 1 step processed (1 job completed)\n"
     ]
    }
   ],
   "source": [
    "%run -n -v0\n",
    "import time\n",
    "start_time = time.time()\n",
    "sh:\n",
    "    sleep 5\n",
    "    echo \"I am awake\"\n",
    "print(f'It took {time.time() - start_time :.1f}s to execute shell script')"
   ]
  },
  {
   "cell_type": "markdown",
   "metadata": {
    "kernel": "SoS",
    "papermill": {
     "duration": 0.037127,
     "end_time": "2019-12-23T17:06:06.942360",
     "exception": false,
     "start_time": "2019-12-23T17:06:06.905233",
     "status": "completed"
    },
    "tags": []
   },
   "source": [
    "## Action options"
   ]
  },
  {
   "cell_type": "markdown",
   "metadata": {
    "kernel": "SoS",
    "papermill": {
     "duration": 0.035416,
     "end_time": "2019-12-23T17:06:07.016221",
     "exception": false,
     "start_time": "2019-12-23T17:06:06.980805",
     "status": "completed"
    },
    "tags": []
   },
   "source": [
    "Actions can have their own parameters but they all accept common set of options that define how they interact with SoS."
   ]
  },
  {
   "cell_type": "markdown",
   "metadata": {
    "kernel": "SoS",
    "papermill": {
     "duration": 0.034742,
     "end_time": "2019-12-23T17:06:07.084562",
     "exception": false,
     "start_time": "2019-12-23T17:06:07.049820",
     "status": "completed"
    },
    "tags": []
   },
   "source": [
    "### Option `active`"
   ]
  },
  {
   "cell_type": "markdown",
   "metadata": {
    "kernel": "SoS",
    "papermill": {
     "duration": 0.038406,
     "end_time": "2019-12-23T17:06:07.162117",
     "exception": false,
     "start_time": "2019-12-23T17:06:07.123711",
     "status": "completed"
    },
    "tags": []
   },
   "source": [
    "Action option `active` is used to activate or inactivate an action. It accept either a condition that returns a boolean variable (`True` or `False`), or one or more integers, or slices that corresponds to indexes of active substeps.\n",
    "\n",
    "The first usage allows you to execute an action only if certain condition is met, so\n",
    "\n",
    "```sos\n",
    "if cond:\n",
    "  action(script)\n",
    "```\n",
    "\n",
    "is equivalent to\n",
    "\n",
    "```sos\n",
    "action(script, active=cond)\n",
    "```\n",
    "or\n",
    "```sos\n",
    "action: active=cond\n",
    "  script\n",
    "```\n",
    "in script format. For example, the following action will only be executed if `a.txt` exists"
   ]
  },
  {
   "cell_type": "code",
   "execution_count": 3,
   "metadata": {
    "kernel": "SoS",
    "papermill": {
     "duration": 1.624242,
     "end_time": "2019-12-23T17:06:08.827564",
     "exception": false,
     "start_time": "2019-12-23T17:06:07.203322",
     "status": "completed"
    },
    "tags": []
   },
   "outputs": [
    {
     "name": "stdout",
     "output_type": "stream",
     "text": [
      "       1       1      10 a.txt\n"
     ]
    }
   ],
   "source": [
    "!echo \"something\" > a.txt\n",
    "\n",
    "sh: active=file_target('a.txt').exists()\n",
    "   wc a.txt\n"
   ]
  },
  {
   "cell_type": "markdown",
   "metadata": {
    "kernel": "SoS",
    "papermill": {
     "duration": 0.033922,
     "end_time": "2019-12-23T17:06:08.896081",
     "exception": false,
     "start_time": "2019-12-23T17:06:08.862159",
     "status": "completed"
    },
    "tags": []
   },
   "source": [
    "For the second usage, when a loop is defined by `for_each` or `group_by` options of `input:` statement, an action after input would be repeated for each substep. The `active` parameter accepts an integer, either a non-negative number, a negative number (counting backward), a sequence of indexes, or a slice object, for which the action would be active.\n",
    "\n",
    "For example, for an input loop that loops through a sequence of numbers, the first action `run` is executed for all groups, the second action is executed for even number of groups, the last action is executed for the last step."
   ]
  },
  {
   "cell_type": "code",
   "execution_count": 4,
   "metadata": {
    "kernel": "SoS",
    "papermill": {
     "duration": 6.55081,
     "end_time": "2019-12-23T17:06:15.482109",
     "exception": false,
     "start_time": "2019-12-23T17:06:08.931299",
     "status": "completed"
    },
    "scrolled": true,
    "tags": []
   },
   "outputs": [
    {
     "name": "stdout",
     "output_type": "stream",
     "text": [
      "A at substep 0\n",
      "B at substep 0\n"
     ]
    },
    {
     "name": "stdout",
     "output_type": "stream",
     "text": [
      "A at substep 1\n"
     ]
    },
    {
     "name": "stdout",
     "output_type": "stream",
     "text": [
      "A at substep 2\n",
      "B at substep 2\n"
     ]
    },
    {
     "name": "stdout",
     "output_type": "stream",
     "text": [
      "A at substep 3\n"
     ]
    },
    {
     "name": "stdout",
     "output_type": "stream",
     "text": [
      "A at substep 4\n",
      "B at substep 4\n",
      "C at substep 4\n"
     ]
    }
   ],
   "source": [
    "input: for_each={'seq': range(5)}\n",
    "sh: expand=True\n",
    "   echo A at substep {_index}\n",
    "sh: active=slice(None, None, 2), expand=True\n",
    "   echo B at substep {_index}\n",
    "sh: active=-1, expand=True\n",
    "   echo C at substep {_index}"
   ]
  },
  {
   "cell_type": "markdown",
   "metadata": {
    "kernel": "SoS",
    "output_cache": "[]",
    "papermill": {
     "duration": 0.0351,
     "end_time": "2019-12-23T17:06:15.552032",
     "exception": false,
     "start_time": "2019-12-23T17:06:15.516932",
     "status": "completed"
    },
    "tags": []
   },
   "source": [
    "### Option `allow_error`"
   ]
  },
  {
   "cell_type": "markdown",
   "metadata": {
    "kernel": "SoS",
    "output_cache": "[]",
    "papermill": {
     "duration": 0.035703,
     "end_time": "2019-12-23T17:06:15.623458",
     "exception": false,
     "start_time": "2019-12-23T17:06:15.587755",
     "status": "completed"
    },
    "tags": []
   },
   "source": [
    "Option `allow_error` tells SoS that the action might fail but this should not stop the workflow from executing. This option essentially turns an error to a warning message and change the return value of action to `None`. \n",
    "\n",
    "For example, in the following example, the wrong shell script would stop the execution of the step so the following action is not executed."
   ]
  },
  {
   "cell_type": "code",
   "execution_count": 5,
   "metadata": {
    "kernel": "SoS",
    "output_cache": "[{\"output_type\":\"stream\",\"text\":\"/var/folders/ys/gnzk0qbx5wbdgm531v82xxljv5yqy8/T/tmpi62wxece: line 1: This: command not found\\nFailed to process statement run(r\\\"\\\"\\\"This is not shell\\\\n\\\"\\\"\\\")...fter run'): Failed to execute script (ret=127). \\nPlease use command\\n    /bin/bash /var/folders/ys/gnzk0qbx5wbdgm531v82xxljv5yqy8/T/tmpzn3zpjx3/.sos/interactive_0_0\\nunder /private/var/folders/ys/gnzk0qbx5wbdgm531v82xxljv5yqy8/T/tmpzn3zpjx3 to test it.\\n\",\"name\":\"stderr\"}]",
    "papermill": {
     "duration": 0.929377,
     "end_time": "2019-12-23T17:06:16.589705",
     "exception": true,
     "start_time": "2019-12-23T17:06:15.660328",
     "status": "failed"
    },
    "tags": []
   },
   "outputs": [
    {
     "name": "stdout",
     "output_type": "stream",
     "text": [
      "This is not shell\n"
     ]
    },
    {
     "name": "stdout",
     "output_type": "stream",
     "text": [
      "/var/folders/ys/gnzk0qbx5wbdgm531v82xxljv5yqy8/T/tmpn0jy8t_d.sh: line 1: This: command not found\n"
     ]
    },
    {
     "name": "stderr",
     "output_type": "stream",
     "text": [
      "[0]: \n",
      "Failed to execute ``/bin/bash -ev .sos/scratch_0_0_b0f4f2b0.sh``\n",
      "exitcode=127, workdir=``/Users/bpeng1/sos/sos-docs/development``\n",
      "---------------------------------------------------------------------------\n"
     ]
    }
   ],
   "source": [
    "run: \n",
    "    This is not shell\n",
    "print('Step after run')"
   ]
  },
  {
   "cell_type": "markdown",
   "metadata": {
    "kernel": "SoS",
    "output_cache": "[]",
    "papermill": {
     "duration": null,
     "end_time": null,
     "exception": null,
     "start_time": null,
     "status": "pending"
    },
    "tags": []
   },
   "source": [
    "With option `allow_error=True`, the error from the `sh` action would turn to a warning and the rest of the step would continue to execute:"
   ]
  },
  {
   "cell_type": "code",
   "execution_count": null,
   "metadata": {
    "kernel": "SoS",
    "output_cache": "[{\"output_type\":\"stream\",\"text\":\"/var/folders/ys/gnzk0qbx5wbdgm531v82xxljv5yqy8/T/tmpfemreue0: line 1: This: command not found\\n\\u001b[95mWARNING\\u001b[0m: \\u001b[95mFailed to execute script (ret=127). \\nPlease use command\\n    /bin/bash /var/folders/ys/gnzk0qbx5wbdgm531v82xxljv5yqy8/T/tmp557fin4d/.sos/interactive_0_0\\nunder /Users/bpeng1/SOS/docs/src/documentation to test it.\\u001b[0m\\n\",\"name\":\"stderr\"}]",
    "papermill": {
     "duration": null,
     "end_time": null,
     "exception": null,
     "start_time": null,
     "status": "pending"
    },
    "tags": []
   },
   "outputs": [],
   "source": [
    "sh: allow_error=True\n",
    "    The This is not shell\n",
    "\n",
    "print('Step after run')"
   ]
  },
  {
   "cell_type": "markdown",
   "metadata": {
    "kernel": "SoS",
    "papermill": {
     "duration": null,
     "end_time": null,
     "exception": null,
     "start_time": null,
     "status": "pending"
    },
    "tags": []
   },
   "source": [
    "### Option  `args`"
   ]
  },
  {
   "cell_type": "markdown",
   "metadata": {
    "kernel": "SoS",
    "papermill": {
     "duration": null,
     "end_time": null,
     "exception": null,
     "start_time": null,
     "status": "pending"
    },
    "tags": []
   },
   "source": [
    "All script-executing actions accept an option `args`, which changes how the script is executed.\n",
    "\n",
    "By default, such an action has an `interpreter` (e.g. `bash`), a default `args='{filename:q}'`, and the script would be executed as `interpreter args`, which is\n",
    "```\n",
    "bash {filename:q}\n",
    "```\n",
    "where `{filename:q}` would be replaced by the script file created from the body of the action."
   ]
  },
  {
   "cell_type": "markdown",
   "metadata": {
    "kernel": "SoS",
    "papermill": {
     "duration": null,
     "end_time": null,
     "exception": null,
     "start_time": null,
     "status": "pending"
    },
    "tags": []
   },
   "source": [
    "If you would like to change the command line with additional parameters, or different format of filename, you can specify an alternative `args`, with variables `filename` (filename of temporary script) and `script` (actual content of the script).\n",
    "\n",
    "For example, you can pass command line options to a bash script using `args` as follows"
   ]
  },
  {
   "cell_type": "code",
   "execution_count": null,
   "metadata": {
    "kernel": "SoS",
    "papermill": {
     "duration": null,
     "end_time": null,
     "exception": null,
     "start_time": null,
     "status": "pending"
    },
    "tags": []
   },
   "outputs": [],
   "source": [
    "bash: args='{filename:q}  ARG1 ARG2'\n",
    "    echo $1 $2"
   ]
  },
  {
   "cell_type": "markdown",
   "metadata": {
    "kernel": "SoS",
    "papermill": {
     "duration": null,
     "end_time": null,
     "exception": null,
     "start_time": null,
     "status": "pending"
    },
    "tags": []
   },
   "source": [
    "and you can actually execute a command without `filename`, and instead executing the script directly from command line"
   ]
  },
  {
   "cell_type": "code",
   "execution_count": null,
   "metadata": {
    "kernel": "SoS",
    "output_cache": "[{\"output_type\":\"stream\",\"name\":\"stdout\",\"text\":\"10000 loops, best of 3: 31.2 usec per loop\\n\"}]",
    "papermill": {
     "duration": null,
     "end_time": null,
     "exception": null,
     "start_time": null,
     "status": "pending"
    },
    "scrolled": true,
    "tags": []
   },
   "outputs": [],
   "source": [
    "python: args='-m timeit {script}'\n",
    "    '\"-\".join(str(n) for n in range(100))'"
   ]
  },
  {
   "cell_type": "markdown",
   "metadata": {
    "kernel": "SoS",
    "papermill": {
     "duration": null,
     "end_time": null,
     "exception": null,
     "start_time": null,
     "status": "pending"
    },
    "tags": []
   },
   "source": [
    "### Options `container` and `engine`"
   ]
  },
  {
   "cell_type": "markdown",
   "metadata": {
    "kernel": "SoS",
    "papermill": {
     "duration": null,
     "end_time": null,
     "exception": null,
     "start_time": null,
     "status": "pending"
    },
    "tags": []
   },
   "source": [
    "Parameter `container` and `engine` specify name or URL and execution engine of the container used to execute the action. Parameter `engine` is usually derived from `container` but can be specified explicitly as one of\n",
    "\n",
    "* `engine='docker'`: Execute the script in specified container using [docker](https://www.docker.com/)\n",
    "* `engine='singularity'`: Execute the script with [singularity](https://www.sylabs.io/)\n",
    "* `engine='local'`: Execute the script locally, this is the default mode.\n",
    "\n",
    "Parameters `container` and `engine` accept the following values:\n",
    "\n",
    "| `container` | `engine` | execute by | example | comment | \n",
    "| -- | -- | -- | -- | -- |\n",
    "| `tag` | ` `  | docker | `container='ubuntu'` | docker is the default container engine |\n",
    "| `name` | `docker` | docker | `container='ubuntu', engine='docker'` | treat `name` as docker tag |\n",
    "| `docker://tag` | ` ` | docker |  `container='docker://ubuntu'`  | |\n",
    "| `filename.simg` | ` ` | singularity | `container='ubuntu.simg'` | |\n",
    "| `shub://tag` | ` ` | singularity | `container='shub://GodloveD/lolcow'` | Image will be pulled to a local image |\n",
    "| `name` | `singularity` | singularity | `container='a_dir', engine='singularity'` | treat `name` as singularity image file or directory |\n",
    "| `docker://tag` | `singularity` | singularity |  `container='docker://godlovdc/lolcow', engine='singularity'`  |  |\n",
    "| `file://filename` | ` ` | singularity | `container='file://ubuntu.simg'` | |\n",
    "| `local://name` | ` ` | local | `container='local:any_tag'` | `local://any_tag` is equivalent to `engine='local'` |\n",
    "| `name` | `local` | local | `engine=engine` with `parameter: engine='docker'` | Usually used to override parameter `container` |\n",
    "\n",
    "Basically,\n",
    "* `container='tag'` pulls and uses docker image `tag`\n",
    "* `container='filename.simg` uses an existing singularity image\n",
    "* `container='shub://tag'` pulls and uses singularity image `shub://tag`, which will generate a local `tag.simg` file"
   ]
  },
  {
   "cell_type": "markdown",
   "metadata": {
    "kernel": "SoS",
    "papermill": {
     "duration": null,
     "end_time": null,
     "exception": null,
     "start_time": null,
     "status": "pending"
    },
    "tags": []
   },
   "source": [
    "If a docker image is specified, the action is assumed to be executed in the specified docker container. The image will be automatically downloaded (pulled) if it is not available locally. \n",
    "\n",
    "For example, executing the following script "
   ]
  },
  {
   "cell_type": "markdown",
   "metadata": {
    "kernel": "SoS",
    "papermill": {
     "duration": null,
     "end_time": null,
     "exception": null,
     "start_time": null,
     "status": "pending"
    },
    "tags": []
   },
   "source": [
    "```\n",
    "[10]\n",
    "python3: container='python'\n",
    "  set = {'a', 'b'}\n",
    "  print(set)\n",
    "  ```"
   ]
  },
  {
   "cell_type": "markdown",
   "metadata": {
    "kernel": "SoS",
    "papermill": {
     "duration": null,
     "end_time": null,
     "exception": null,
     "start_time": null,
     "status": "pending"
    },
    "tags": []
   },
   "source": [
    "under a docker terminal (that is connected to the docker daemon) will\n",
    "\n",
    "1. Pull docker image `python`,  which is the official docker image for Python 2 and 3.\n",
    "2. Create a python script with the specified content\n",
    "3. Run the docker container `python` and make the script available inside the container\n",
    "4. Use the `python3` command inside the container to execute the script.\n",
    "\n",
    "Additional `docker_run` parameters can be passed to actions when the action\n",
    "is executed in a docker image. These options include\n",
    "\n",
    "* `name`: name of the container (option `--name`)\n",
    "* `tty`: if a tty is attached (default to `True`, option `-t`)\n",
    "* `stdin_open`: if stdin should be open (default to `False`, option `-i`)\n",
    "* `user`: username (default o `root`, option `-u`)\n",
    "* `environment`: Can be a string, a list of string or dictinary of environment variables for docker (option `-e`)\n",
    "* `volumes`: shared volumes as a string or list of strings, in the format of `hostdir` (for `hostdir:hostdir`) or `hostdir:mnt_dir`, in addition to current working directory which will always be shared.\n",
    "* `volumes_from`: container names or Ids to get volumes from\n",
    "* `port`: port opened (option `-p`)\n",
    "* `extra_args`: If there is any extra arguments you would like to pass to the `docker run` process (after you check the actual command of `docker run` of SoS\n",
    "\n",
    "Because of the different configurations of docker images, use of docker in SoS can be complicated. Please refer to http://vatlab.github.io/SOS/doc/tutorials/SoS_Docker_Guide.html for details.\n"
   ]
  },
  {
   "cell_type": "markdown",
   "metadata": {
    "kernel": "SoS",
    "papermill": {
     "duration": null,
     "end_time": null,
     "exception": null,
     "start_time": null,
     "status": "pending"
    },
    "tags": []
   },
   "source": [
    "### Option  `default_env`"
   ]
  },
  {
   "cell_type": "markdown",
   "metadata": {
    "kernel": "SoS",
    "papermill": {
     "duration": null,
     "end_time": null,
     "exception": null,
     "start_time": null,
     "status": "pending"
    },
    "tags": []
   },
   "source": [
    "Option `default_env` set environment variables **if they do not exist in the system**. The value of this option should be a dictionary with string keys and values."
   ]
  },
  {
   "cell_type": "markdown",
   "metadata": {
    "kernel": "SoS",
    "papermill": {
     "duration": null,
     "end_time": null,
     "exception": null,
     "start_time": null,
     "status": "pending"
    },
    "tags": []
   },
   "source": [
    "For example, if we have a process that depends on an environmental variable `DEBUG`, you can set a default value for it"
   ]
  },
  {
   "cell_type": "code",
   "execution_count": null,
   "metadata": {
    "kernel": "SoS",
    "papermill": {
     "duration": null,
     "end_time": null,
     "exception": null,
     "start_time": null,
     "status": "pending"
    },
    "tags": []
   },
   "outputs": [],
   "source": [
    "sh: default_env={'DEBUG': 'ON'}\n",
    "    if [ \"$DEBUG\" == 'ON' ]\n",
    "    then\n",
    "        echo \"Working in DEBUG mode\"\n",
    "    else\n",
    "        echo \"Working in production mode\"\n",
    "    fi"
   ]
  },
  {
   "cell_type": "markdown",
   "metadata": {
    "kernel": "SoS",
    "papermill": {
     "duration": null,
     "end_time": null,
     "exception": null,
     "start_time": null,
     "status": "pending"
    },
    "tags": []
   },
   "source": [
    "If users actually set `DEBUG` to something else, the option will not be applied and shell script will be running in production mode."
   ]
  },
  {
   "cell_type": "markdown",
   "metadata": {
    "kernel": "SoS",
    "papermill": {
     "duration": null,
     "end_time": null,
     "exception": null,
     "start_time": null,
     "status": "pending"
    },
    "tags": []
   },
   "source": [
    "### Option  `env`"
   ]
  },
  {
   "cell_type": "markdown",
   "metadata": {
    "kernel": "SoS",
    "papermill": {
     "duration": null,
     "end_time": null,
     "exception": null,
     "start_time": null,
     "status": "pending"
    },
    "tags": []
   },
   "source": [
    "Option `env` set environment variables **that overrides system variables defined in `os.environ`**. This option can be used to define `PATH` and other environmental variables for the action. Note that the effect of option is limited to this option."
   ]
  },
  {
   "cell_type": "code",
   "execution_count": null,
   "metadata": {
    "kernel": "SoS",
    "papermill": {
     "duration": null,
     "end_time": null,
     "exception": null,
     "start_time": null,
     "status": "pending"
    },
    "tags": []
   },
   "outputs": [],
   "source": [
    "sh: default_env={'DEBUG': 'ON'}\n",
    "    if [ \"$DEBUG\" == 'ON' ]\n",
    "    then\n",
    "        echo \"Working in DEBUG mode\"\n",
    "    else\n",
    "        echo \"Working in production mode\"\n",
    "    fi"
   ]
  },
  {
   "cell_type": "markdown",
   "metadata": {
    "kernel": "SoS",
    "papermill": {
     "duration": null,
     "end_time": null,
     "exception": null,
     "start_time": null,
     "status": "pending"
    },
    "tags": []
   },
   "source": [
    "### Option `input`"
   ]
  },
  {
   "cell_type": "markdown",
   "metadata": {
    "kernel": "SoS",
    "papermill": {
     "duration": null,
     "end_time": null,
     "exception": null,
     "start_time": null,
     "status": "pending"
    },
    "tags": []
   },
   "source": [
    "Although all actions accept parameter `input`, its usage vary among actions. Roughly speaking, **script-executing actions such as `run`, `bash` and `python` prepend the content of all input files to the script**; **report-generation actions `report`, `pandoc` and `RMarkdown` append the content of input files after the specifie script**, and other actions usually ignore this parameter."
   ]
  },
  {
   "cell_type": "markdown",
   "metadata": {
    "kernel": "SoS",
    "papermill": {
     "duration": null,
     "end_time": null,
     "exception": null,
     "start_time": null,
     "status": "pending"
    },
    "tags": []
   },
   "source": [
    "For example, if you have defined a few utility functions that will be used by multiple scripts, you can define it in a separate file"
   ]
  },
  {
   "cell_type": "code",
   "execution_count": null,
   "metadata": {
    "kernel": "SoS",
    "papermill": {
     "duration": null,
     "end_time": null,
     "exception": null,
     "start_time": null,
     "status": "pending"
    },
    "tags": []
   },
   "outputs": [],
   "source": [
    "%save myfunc.py -f\n",
    "def myfunc():\n",
    "    print('Hello')"
   ]
  },
  {
   "cell_type": "markdown",
   "metadata": {
    "kernel": "SoS",
    "papermill": {
     "duration": null,
     "end_time": null,
     "exception": null,
     "start_time": null,
     "status": "pending"
    },
    "tags": []
   },
   "source": [
    "and include it in `python` actions as follows:"
   ]
  },
  {
   "cell_type": "code",
   "execution_count": null,
   "metadata": {
    "kernel": "SoS",
    "papermill": {
     "duration": null,
     "end_time": null,
     "exception": null,
     "start_time": null,
     "status": "pending"
    },
    "tags": []
   },
   "outputs": [],
   "source": [
    "python: input='myfunc.py'\n",
    "    myfunc()"
   ]
  },
  {
   "cell_type": "markdown",
   "metadata": {
    "kernel": "SoS",
    "papermill": {
     "duration": null,
     "end_time": null,
     "exception": null,
     "start_time": null,
     "status": "pending"
    },
    "tags": []
   },
   "source": [
    "Note that although SoS would check the existence of `input` files before executing the action, this option does not define any variable (such as `_input`) to be used in the script."
   ]
  },
  {
   "cell_type": "markdown",
   "metadata": {
    "kernel": "SoS",
    "papermill": {
     "duration": null,
     "end_time": null,
     "exception": null,
     "start_time": null,
     "status": "pending"
    },
    "tags": []
   },
   "source": [
    "### Option `output`"
   ]
  },
  {
   "cell_type": "markdown",
   "metadata": {
    "kernel": "SoS",
    "papermill": {
     "duration": null,
     "end_time": null,
     "exception": null,
     "start_time": null,
     "status": "pending"
    },
    "tags": []
   },
   "source": [
    "Similar to `input`, parameter `output` defines the output of an action, which can be a single name (or target) or a list of files or targets. SoS would check the existence of output target after the completion of the action. For example, "
   ]
  },
  {
   "cell_type": "code",
   "execution_count": null,
   "metadata": {
    "kernel": "SoS",
    "papermill": {
     "duration": null,
     "end_time": null,
     "exception": null,
     "start_time": null,
     "status": "pending"
    },
    "tags": []
   },
   "outputs": [],
   "source": [
    "%run\n",
    "[10]\n",
    "bash: output='non_existing.txt'"
   ]
  },
  {
   "cell_type": "markdown",
   "metadata": {
    "kernel": "SoS",
    "papermill": {
     "duration": null,
     "end_time": null,
     "exception": null,
     "start_time": null,
     "status": "pending"
    },
    "tags": []
   },
   "source": [
    "### Option  `stdout`"
   ]
  },
  {
   "cell_type": "markdown",
   "metadata": {
    "kernel": "SoS",
    "papermill": {
     "duration": null,
     "end_time": null,
     "exception": null,
     "start_time": null,
     "status": "pending"
    },
    "tags": []
   },
   "source": [
    "Option `stdout` is applicable to script-executing actions such as `bash` and `R` and redirect the standard out of the action to specified file. The value of the option should be a path-like object (`str`, `path`, etc), or `False`. The file will be opened in `append` mode so you will have to remove or truncate the file if the file already exists. If `stdout=False`, the output will be suppressed (redirect to `/dev/null` under linux)."
   ]
  },
  {
   "cell_type": "markdown",
   "metadata": {
    "kernel": "SoS",
    "papermill": {
     "duration": null,
     "end_time": null,
     "exception": null,
     "start_time": null,
     "status": "pending"
    },
    "tags": []
   },
   "source": [
    "For example,"
   ]
  },
  {
   "cell_type": "code",
   "execution_count": null,
   "metadata": {
    "kernel": "SoS",
    "papermill": {
     "duration": null,
     "end_time": null,
     "exception": null,
     "start_time": null,
     "status": "pending"
    },
    "tags": []
   },
   "outputs": [],
   "source": [
    "!rm -f test.log\n",
    "\n",
    "sh: stdout='test.log'\n",
    "ls *.ipynb"
   ]
  },
  {
   "cell_type": "code",
   "execution_count": null,
   "metadata": {
    "kernel": "SoS",
    "papermill": {
     "duration": null,
     "end_time": null,
     "exception": null,
     "start_time": null,
     "status": "pending"
    },
    "tags": []
   },
   "outputs": [],
   "source": [
    "!head -2 test.log"
   ]
  },
  {
   "cell_type": "markdown",
   "metadata": {
    "kernel": "SoS",
    "papermill": {
     "duration": null,
     "end_time": null,
     "exception": null,
     "start_time": null,
     "status": "pending"
    },
    "tags": []
   },
   "source": [
    "### Option  `stderr`"
   ]
  },
  {
   "cell_type": "markdown",
   "metadata": {
    "kernel": "SoS",
    "papermill": {
     "duration": null,
     "end_time": null,
     "exception": null,
     "start_time": null,
     "status": "pending"
    },
    "tags": []
   },
   "source": [
    "Option `stderr` is similar to `stdout` but redirects the standard error output of actions. `stderr=False` also suppresses stderr."
   ]
  },
  {
   "cell_type": "markdown",
   "metadata": {
    "kernel": "SoS",
    "papermill": {
     "duration": null,
     "end_time": null,
     "exception": null,
     "start_time": null,
     "status": "pending"
    },
    "tags": []
   },
   "source": [
    "### Option  `tracked`"
   ]
  },
  {
   "cell_type": "markdown",
   "metadata": {
    "kernel": "SoS",
    "papermill": {
     "duration": null,
     "end_time": null,
     "exception": null,
     "start_time": null,
     "status": "pending"
    },
    "tags": []
   },
   "source": [
    "If an action takes a long time to execute and the step it resides tend to be changed (for example, during the development of a workflow step), you might want to keep action-level signatures so that the action could be skipped if it has been executed before.\n",
    "\n",
    "Action-level signature is controlled by parameter `tracked`, which can be `None` (no signature), `True` (record signature), `False` (do not record signature), a string (filename), or a list of filenames. When this parameter is `True` or one or more filenames, SoS will\n",
    "\n",
    "1. if specified, collect targets specified by parameter `input`\n",
    "2. if specified, colelct targets specified by parameter `output`\n",
    "3. if one or more files are specified, collect targets from parameter `tracked`\n",
    "\n",
    "These files, together with the content of the first parameter (usually a script), will be used to create a step signature and allow the actions with the same signature be skipped."
   ]
  },
  {
   "cell_type": "markdown",
   "metadata": {
    "kernel": "SoS",
    "papermill": {
     "duration": null,
     "end_time": null,
     "exception": null,
     "start_time": null,
     "status": "pending"
    },
    "tags": []
   },
   "source": [
    "For example, suppose action `sh` is time-consuming that produces output `test.txt`"
   ]
  },
  {
   "cell_type": "code",
   "execution_count": null,
   "metadata": {
    "kernel": "SoS",
    "papermill": {
     "duration": null,
     "end_time": null,
     "exception": null,
     "start_time": null,
     "status": "pending"
    },
    "tags": []
   },
   "outputs": [],
   "source": [
    "%run -s force\n",
    "[10]\n",
    "import time, os\n",
    "time.sleep(2)\n",
    "\n",
    "sh: output='test.txt', tracked=True\n",
    "   touch test.txt\n",
    "\n",
    "print(os.path.getmtime('test.txt'))\n"
   ]
  },
  {
   "cell_type": "markdown",
   "metadata": {
    "kernel": "SoS",
    "papermill": {
     "duration": null,
     "end_time": null,
     "exception": null,
     "start_time": null,
     "status": "pending"
    },
    "tags": []
   },
   "source": [
    "Because of the `tracked=True` parameter, a signature will be created with `output` and it will not be re-executed even when the step itself is changed (from `sleep(2)` to `sleep(1)`)."
   ]
  },
  {
   "cell_type": "code",
   "execution_count": null,
   "metadata": {
    "kernel": "SoS",
    "papermill": {
     "duration": null,
     "end_time": null,
     "exception": null,
     "start_time": null,
     "status": "pending"
    },
    "tags": []
   },
   "outputs": [],
   "source": [
    "%run -s default\n",
    "[10]\n",
    "import time, os\n",
    "time.sleep(1)\n",
    "\n",
    "sh: output='test.txt', tracked=True\n",
    "   touch test.txt\n",
    "\n",
    "print(os.path.getmtime('test.txt'))\n"
   ]
  },
  {
   "cell_type": "markdown",
   "metadata": {
    "kernel": "SoS",
    "papermill": {
     "duration": null,
     "end_time": null,
     "exception": null,
     "start_time": null,
     "status": "pending"
    },
    "tags": []
   },
   "source": [
    "Note that the signature can only be saved and used with appropriate signature mode (`force`, `default` etc)."
   ]
  },
  {
   "cell_type": "markdown",
   "metadata": {
    "kernel": "SoS",
    "papermill": {
     "duration": null,
     "end_time": null,
     "exception": null,
     "start_time": null,
     "status": "pending"
    },
    "tags": []
   },
   "source": [
    "### Option `workdir`"
   ]
  },
  {
   "cell_type": "markdown",
   "metadata": {
    "kernel": "SoS",
    "papermill": {
     "duration": null,
     "end_time": null,
     "exception": null,
     "start_time": null,
     "status": "pending"
    },
    "tags": []
   },
   "source": [
    "Option `workdir` changes the current working directory for the action, and change back once the action is executed. The directory will be created if it does not exist."
   ]
  },
  {
   "cell_type": "code",
   "execution_count": null,
   "metadata": {
    "kernel": "SoS",
    "papermill": {
     "duration": null,
     "end_time": null,
     "exception": null,
     "start_time": null,
     "status": "pending"
    },
    "tags": []
   },
   "outputs": [],
   "source": [
    "bash: workdir='tmp'\n",
    "   touch a.txt\n",
    "bash:\n",
    "    ls tmp"
   ]
  }
 ],
 "metadata": {
  "anaconda-cloud": {},
  "kernelspec": {
   "display_name": "SoS",
   "language": "sos",
   "name": "sos"
  },
  "language_info": {
   "codemirror_mode": "sos",
   "file_extension": ".sos",
   "mimetype": "text/x-sos",
   "name": "sos",
   "nbconvert_exporter": "sos_notebook.converter.SoS_Exporter",
   "pygments_lexer": "sos"
  },
  "papermill": {
   "duration": 31.091781,
   "end_time": "2019-12-23T17:06:21.809256",
   "environment_variables": {},
   "exception": true,
   "input_path": "/Users/bpeng1/sos/sos-docs/src/user_guide/sos_actions.ipynb",
   "output_path": "sos_actions.ipynb_rerun.ipynb",
   "parameters": {},
   "start_time": "2019-12-23T17:05:50.717475",
   "version": "1.1.0"
  },
  "sos": {
   "celltoolbar": true,
   "default_kernel": "SoS",
   "kernels": [
    [
     "SoS",
     "sos",
     "",
     "",
     "sos"
    ]
   ],
   "panel": {
    "displayed": true,
    "height": 0,
    "style": "side"
   },
   "version": "0.21.1"
  },
  "toc": {
   "colors": {
    "hover_highlight": "#DAA520",
    "running_highlight": "#FF0000",
    "selected_highlight": "#FFD700"
   },
   "moveMenuLeft": true,
   "nav_menu": {
    "height": "503px",
    "width": "254px"
   },
   "navigate_menu": true,
   "number_sections": true,
   "sideBar": true,
   "threshold": 4,
   "toc_cell": false,
   "toc_section_display": "block",
   "toc_window_display": true
  }
 },
 "nbformat": 4,
 "nbformat_minor": 4
}