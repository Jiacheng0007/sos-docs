{
 "cells": [
  {
   "cell_type": "markdown",
   "metadata": {
    "kernel": "SoS",
    "papermill": {
     "duration": 0.020478,
     "end_time": "2019-12-23T16:59:57.532685",
     "exception": false,
     "start_time": "2019-12-23T16:59:57.512207",
     "status": "completed"
    },
    "tags": []
   },
   "source": [
    "# Command Line User Interface"
   ]
  },
  {
   "cell_type": "markdown",
   "metadata": {
    "kernel": "SoS",
    "papermill": {
     "duration": 0.019327,
     "end_time": "2019-12-23T16:59:57.571145",
     "exception": false,
     "start_time": "2019-12-23T16:59:57.551818",
     "status": "completed"
    },
    "tags": []
   },
   "source": [
    "* **Difficulty level**: easy\n",
    "* **Time need to lean**: 10 minutes or less\n",
    "* **Key points**:\n",
    "  * This tutorial lists the command line options of `sos` command  "
   ]
  },
  {
   "cell_type": "markdown",
   "metadata": {
    "kernel": "SoS",
    "papermill": {
     "duration": 0.018624,
     "end_time": "2019-12-23T16:59:57.607878",
     "exception": false,
     "start_time": "2019-12-23T16:59:57.589254",
     "status": "completed"
    },
    "tags": []
   },
   "source": [
    "## Command `sos`"
   ]
  },
  {
   "cell_type": "markdown",
   "metadata": {
    "kernel": "SoS",
    "papermill": {
     "duration": 0.023289,
     "end_time": "2019-12-23T16:59:57.650990",
     "exception": false,
     "start_time": "2019-12-23T16:59:57.627701",
     "status": "completed"
    },
    "tags": []
   },
   "source": [
    "Command `sos` accepts a number of subcommands (similar to `svn`, `git` etc). Its syntax follows\n",
    "\n",
    "```bash\n",
    "sos subcommand [subcommand-options]\n",
    "```\n",
    "\n",
    "You can use command"
   ]
  },
  {
   "cell_type": "code",
   "execution_count": 1,
   "metadata": {
    "kernel": "SoS",
    "papermill": {
     "duration": 2.463826,
     "end_time": "2019-12-23T17:00:00.133710",
     "exception": false,
     "start_time": "2019-12-23T16:59:57.669884",
     "status": "completed"
    },
    "tags": []
   },
   "outputs": [
    {
     "name": "stdout",
     "output_type": "stream",
     "text": [
      "usage: sos [-h] [--version]\n"
     ]
    },
    {
     "name": "stdout",
     "output_type": "stream",
     "text": [
      "           {install,run,dryrun,status,push,pull,execute,kill,purge,config,convert,remove}\n"
     ]
    },
    {
     "name": "stdout",
     "output_type": "stream",
     "text": [
      "           ...\n"
     ]
    },
    {
     "name": "stdout",
     "output_type": "stream",
     "text": [
      "\n"
     ]
    },
    {
     "name": "stdout",
     "output_type": "stream",
     "text": [
      "A workflow system for the execution of commands and scripts in different\n"
     ]
    },
    {
     "name": "stdout",
     "output_type": "stream",
     "text": [
      "languages.\n"
     ]
    },
    {
     "name": "stdout",
     "output_type": "stream",
     "text": [
      "\n"
     ]
    },
    {
     "name": "stdout",
     "output_type": "stream",
     "text": [
      "optional arguments:\n"
     ]
    },
    {
     "name": "stdout",
     "output_type": "stream",
     "text": [
      "  -h, --help            show this help message and exit\n"
     ]
    },
    {
     "name": "stdout",
     "output_type": "stream",
     "text": [
      "  --version             show program's version number and exit\n"
     ]
    },
    {
     "name": "stdout",
     "output_type": "stream",
     "text": [
      "\n"
     ]
    },
    {
     "name": "stdout",
     "output_type": "stream",
     "text": [
      "subcommands:\n"
     ]
    },
    {
     "name": "stdout",
     "output_type": "stream",
     "text": [
      "  {install,run,dryrun,status,push,pull,execute,kill,purge,config,convert,remove}\n"
     ]
    },
    {
     "name": "stdout",
     "output_type": "stream",
     "text": [
      "    run                 Execute default or specified workflow in script\n"
     ]
    },
    {
     "name": "stdout",
     "output_type": "stream",
     "text": [
      "    dryrun              Execute workflow in dryrun mode\n"
     ]
    },
    {
     "name": "stdout",
     "output_type": "stream",
     "text": [
      "    status              Check the status of specified tasks\n"
     ]
    },
    {
     "name": "stdout",
     "output_type": "stream",
     "text": [
      "    remote              Listing and testing remote configurations\n"
     ]
    },
    {
     "name": "stdout",
     "output_type": "stream",
     "text": [
      "    execute             Execute a packages task\n"
     ]
    },
    {
     "name": "stdout",
     "output_type": "stream",
     "text": [
      "    kill                Stop the execution of running task\n"
     ]
    },
    {
     "name": "stdout",
     "output_type": "stream",
     "text": [
      "    purge               Remove local or remote tasks\n"
     ]
    },
    {
     "name": "stdout",
     "output_type": "stream",
     "text": [
      "    config              Read and write sos configuration files\n"
     ]
    },
    {
     "name": "stdout",
     "output_type": "stream",
     "text": [
      "    convert             Convert between .sos, .ipynb and other formats\n"
     ]
    },
    {
     "name": "stdout",
     "output_type": "stream",
     "text": [
      "    remove              Remove specified files and/or their signatures\n"
     ]
    },
    {
     "name": "stdout",
     "output_type": "stream",
     "text": [
      "\n"
     ]
    },
    {
     "name": "stdout",
     "output_type": "stream",
     "text": [
      "Use 'sos cmd -h' for details about each subcommand. Please contact Bo Peng\n"
     ]
    },
    {
     "name": "stdout",
     "output_type": "stream",
     "text": [
      "(bpeng at mdanderson.org) if you have any question.\n"
     ]
    }
   ],
   "source": [
    "!sos -h"
   ]
  },
  {
   "cell_type": "markdown",
   "metadata": {
    "kernel": "SoS",
    "papermill": {
     "duration": 0.027619,
     "end_time": "2019-12-23T17:00:00.189323",
     "exception": false,
     "start_time": "2019-12-23T17:00:00.161704",
     "status": "completed"
    },
    "tags": []
   },
   "source": [
    "to get a list of subcommands with brief descriptions and\n",
    "```bash\n",
    "sos subcommand -h\n",
    "```\n",
    "to get detailed description of a particular subcommand."
   ]
  },
  {
   "cell_type": "markdown",
   "metadata": {
    "kernel": "SoS",
    "papermill": {
     "duration": 0.027756,
     "end_time": "2019-12-23T17:00:00.244024",
     "exception": false,
     "start_time": "2019-12-23T17:00:00.216268",
     "status": "completed"
    },
    "tags": []
   },
   "source": [
    "## Command `sos-runner`"
   ]
  },
  {
   "cell_type": "markdown",
   "metadata": {
    "kernel": "SoS",
    "papermill": {
     "duration": 0.027351,
     "end_time": "2019-12-23T17:00:00.299214",
     "exception": false,
     "start_time": "2019-12-23T17:00:00.271863",
     "status": "completed"
    },
    "tags": []
   },
   "source": [
    "Command `sos-runner` is a shortcut for ``sos run`` so\n",
    "\n",
    "```bash\n",
    "% sos-runner script\n",
    "```\n",
    "\n",
    "is equivalent to\n",
    "\n",
    "```bash\n",
    "% sos run script\n",
    "```\n",
    "\n",
    "This allows a SoS script to be executed directly if it is executable with shebang line\n",
    "\n",
    "```\n",
    "#!/usr/bin/env sos-runner\n",
    "```"
   ]
  },
  {
   "cell_type": "markdown",
   "metadata": {
    "kernel": "SoS",
    "papermill": {
     "duration": 0.027293,
     "end_time": "2019-12-23T17:00:00.353610",
     "exception": false,
     "start_time": "2019-12-23T17:00:00.326317",
     "status": "completed"
    },
    "tags": []
   },
   "source": [
    "## Workflow Execution"
   ]
  },
  {
   "cell_type": "markdown",
   "metadata": {
    "kernel": "SoS",
    "papermill": {
     "duration": 0.026615,
     "end_time": "2019-12-23T17:00:00.407414",
     "exception": false,
     "start_time": "2019-12-23T17:00:00.380799",
     "status": "completed"
    },
    "tags": []
   },
   "source": [
    "### subcommand `run`"
   ]
  },
  {
   "cell_type": "code",
   "execution_count": 2,
   "metadata": {
    "kernel": "SoS",
    "output_cache": "[{\"name\":\"stdout\",\"text\":\"usage: sos run [-h] [-j JOBS] [-c CONFIG_FILE] [-t FILE [FILE ...]]\\n               [-b [BIN_DIR [BIN_DIR ...]]] [-q QUEUE] [-n] [-s SIGMODE]\\n               [-d [DAG]] [-v {0,1,2,3,4}]\\n               SCRIPT [WORKFLOW]\\n\\nExecute default or specified workflow defined in script\\n\\npositional arguments:\\n  SCRIPT                A SoS script that defines one or more workflows. The\\n                        script can be a filename or a URL from which the\\n                        content of a SoS will be read. If a valid file cannot\\n                        be located or downloaded, SoS will search for the\\n                        script in a search path specified by variable\\n                        `sos_path` defined in the global SoS configuration\\n                        file (~/.sos/config.yml).\\n  WORKFLOW              Name of the workflow to execute. This option can be\\n                        ignored if the script defines a default workflow (with\\n                        no name or with name `default`) or defines only a\\n                        single workflow. A subworkflow or a combined workflow\\n                        can also be specified, where a subworkflow executes a\\n                        subset of workflow (`name_steps` where `steps` can be\\n                        `n` (a step `n`), `:n` (up to step `n`), `n:m` (from\\n                        step `n` to `m`), and `n:` (from step `n`)), and a\\n                        combined workflow executes to multiple (sub)workflows\\n                        combined by `+` (e.g. `A_0+B+C`).\\n\\noptional arguments:\\n  -h, --help            show this help message and exit\\n  -j JOBS               Number of concurrent process allowed. A workflow is by\\n                        default executed sequentially (-j 1). If a greater\\n                        than 1 number is specified SoS will execute the\\n                        workflow in parallel mode and execute up to specified\\n                        processes concurrently. These include looped processes\\n                        within a step (with runtime option `concurrent=True`)\\n                        and steps with non-missing required files.\\n  -c CONFIG_FILE        A configuration file in the format of YAML/JSON. The\\n                        content of the configuration file will be available as\\n                        a dictionary CONF in the SoS script being executed.\\n  -t FILE [FILE ...]    One of more files or alias of other targets that will\\n                        be the target of execution. If specified, SoS will\\n                        execute only part of a workflow or multiple workflows\\n                        or auxiliary steps to generate specified targets.\\n  -b [BIN_DIR [BIN_DIR ...]]\\n                        Extra directories in which SoS will look for\\n                        executables before standard $PATH. This option\\n                        essentially prefix $PATH with these directories. Note\\n                        that the default value '~/.sos/bin' is by convention a\\n                        default directory for commands that are installed by\\n                        SoS. You can use option '-b' without value to disallow\\n                        commands under ~/.sos/bin.\\n  -q QUEUE              Task-processing queue. SoS by default uses a local\\n                        multiprocessing queue where tasks are executed by\\n                        different processes. Supported task queues include a\\n                        'rq' engine where tasks will be distributed to one or\\n                        more rq-workers with assistance from a redis server,\\n                        and a 'celery' quque where tasks will be distributed\\n                        to celery workers.\\n\\nRun mode options:\\n  Control how sos scirpt is executed.\\n\\n  -n                    Execute a workflow without executing any actions. This\\n                        can be used to check the syntax of a SoS file.\\n  -s SIGMODE            How runtime signature would be handled, which can be\\n                        \\\"default\\\" (save and use signature, default mode in\\n                        batch mode), \\\"ignore\\\" (ignore runtime signature,\\n                        default mode in interactive mode), \\\"force\\\" (ignore\\n                        existing signature and overwrite them while executing\\n                        the workflow), \\\"build\\\" (build new or overwrite\\n                        existing signature from existing environment and\\n                        output files), and \\\"assert\\\" for validating existing\\n                        files against their signatures. Please refer to online\\n                        documentation for details about the use of runtime\\n                        signatures.\\n\\nOutput options:\\n  Output of workflow\\n\\n  -d [DAG]              Output Direct Acyclic Graph (DAGs) in graphiviz .dot\\n                        format. An exntesion of \\\".dot\\\" would be added\\n                        automatically. Because DAG could change during the\\n                        execution of workflow, multiple DAGs could be outputed\\n                        with names $FILE_1.dot, $FILE_2.dot. If this option is\\n                        specified without a name, the DAG would be wrritten to\\n                        the standard output.\\n  -v {0,1,2,3,4}        Output error (0), warning (1), info (2), debug (3) and\\n                        trace (4) information to standard output (default to\\n                        2).\\n\\nArbitrary parameters defined by the [parameters] step of the script, and\\n[parameters] steps of other scripts if nested workflows are defined in other\\nSoS files (option `source`). The name, default and type of the parameters are\\nspecified in the script. Single value parameters should be passed using option\\n`--name value` and multi-value parameters should be passed using option\\n`--name value1 value2`.\\n\",\"output_type\":\"stream\"}]",
    "papermill": {
     "duration": 1.844694,
     "end_time": "2019-12-23T17:00:02.279444",
     "exception": false,
     "start_time": "2019-12-23T17:00:00.434750",
     "status": "completed"
    },
    "tags": []
   },
   "outputs": [
    {
     "name": "stdout",
     "output_type": "stream",
     "text": [
      "usage: sos run [-h] [-j [WORKERS [WORKERS ...]]] [-J EXTERNAL_JOBS]\n"
     ]
    },
    {
     "name": "stdout",
     "output_type": "stream",
     "text": [
      "               [-c CONFIG_FILE] [-t FILE [FILE ...]] [-q QUEUE [QUEUE ...]]\n"
     ]
    },
    {
     "name": "stdout",
     "output_type": "stream",
     "text": [
      "               [-r HOST [HOST ...]] [-n] [-s SIGMODE] [-T] [-e ERRORMODE]\n"
     ]
    },
    {
     "name": "stdout",
     "output_type": "stream",
     "text": [
      "               [-d [DAG]] [-p [REPORT]] [-v {0,1,2,3,4}]\n"
     ]
    },
    {
     "name": "stdout",
     "output_type": "stream",
     "text": [
      "               SCRIPT [WORKFLOW]\n"
     ]
    },
    {
     "name": "stdout",
     "output_type": "stream",
     "text": [
      "\n"
     ]
    },
    {
     "name": "stdout",
     "output_type": "stream",
     "text": [
      "Execute default or specified workflow defined in script\n"
     ]
    },
    {
     "name": "stdout",
     "output_type": "stream",
     "text": [
      "\n"
     ]
    },
    {
     "name": "stdout",
     "output_type": "stream",
     "text": [
      "positional arguments:\n"
     ]
    },
    {
     "name": "stdout",
     "output_type": "stream",
     "text": [
      "  SCRIPT                A SoS script that defines one or more workflows, in\n"
     ]
    },
    {
     "name": "stdout",
     "output_type": "stream",
     "text": [
      "                        format .sos or .ipynb. The script can be a filename or\n"
     ]
    },
    {
     "name": "stdout",
     "output_type": "stream",
     "text": [
      "                        a URL from which the content of a SoS will be read. If\n"
     ]
    },
    {
     "name": "stdout",
     "output_type": "stream",
     "text": [
      "                        a valid file cannot be located or downloaded, SoS will\n"
     ]
    },
    {
     "name": "stdout",
     "output_type": "stream",
     "text": [
      "                        search for the script, with specified name, and with\n"
     ]
    },
    {
     "name": "stdout",
     "output_type": "stream",
     "text": [
      "                        added extension .sos and .ipynb, in a search path\n"
     ]
    },
    {
     "name": "stdout",
     "output_type": "stream",
     "text": [
      "                        specified by variable `sos_path` defined in the global\n"
     ]
    },
    {
     "name": "stdout",
     "output_type": "stream",
     "text": [
      "                        SoS configuration file (~/.sos/config.yml).\n"
     ]
    },
    {
     "name": "stdout",
     "output_type": "stream",
     "text": [
      "  WORKFLOW              Name of the workflow to execute. This option can be\n"
     ]
    },
    {
     "name": "stdout",
     "output_type": "stream",
     "text": [
      "                        ignored if the script defines a default workflow (with\n"
     ]
    },
    {
     "name": "stdout",
     "output_type": "stream",
     "text": [
      "                        no name or with name `default`) or defines only a\n"
     ]
    },
    {
     "name": "stdout",
     "output_type": "stream",
     "text": [
      "                        single workflow. A subworkflow or a combined workflow\n"
     ]
    },
    {
     "name": "stdout",
     "output_type": "stream",
     "text": [
      "                        can also be specified, where a subworkflow executes a\n"
     ]
    },
    {
     "name": "stdout",
     "output_type": "stream",
     "text": [
      "                        subset of workflow (`name_steps` where `steps` can be\n"
     ]
    },
    {
     "name": "stdout",
     "output_type": "stream",
     "text": [
      "                        `n` (a step `n`), `:n` (up to step `n`), `n:m` (from\n"
     ]
    },
    {
     "name": "stdout",
     "output_type": "stream",
     "text": [
      "                        step `n` to `m`), and `n:` (from step `n`)), and a\n"
     ]
    },
    {
     "name": "stdout",
     "output_type": "stream",
     "text": [
      "                        combined workflow executes to multiple (sub)workflows\n"
     ]
    },
    {
     "name": "stdout",
     "output_type": "stream",
     "text": [
      "                        combined by `+` (e.g. `A_0+B+C`).\n"
     ]
    },
    {
     "name": "stdout",
     "output_type": "stream",
     "text": [
      "\n"
     ]
    },
    {
     "name": "stdout",
     "output_type": "stream",
     "text": [
      "optional arguments:\n"
     ]
    },
    {
     "name": "stdout",
     "output_type": "stream",
     "text": [
      "  -h, --help            show this help message and exit\n"
     ]
    },
    {
     "name": "stdout",
     "output_type": "stream",
     "text": [
      "  -j [WORKERS [WORKERS ...]]\n"
     ]
    },
    {
     "name": "stdout",
     "output_type": "stream",
     "text": [
      "                        Hosts and number of worker processes in each host for\n"
     ]
    },
    {
     "name": "stdout",
     "output_type": "stream",
     "text": [
      "                        the execution of workflow, default to local host with\n"
     ]
    },
    {
     "name": "stdout",
     "output_type": "stream",
     "text": [
      "                        half the number of CPUs, or 8, whichever is smaller.\n"
     ]
    },
    {
     "name": "stdout",
     "output_type": "stream",
     "text": [
      "                        The complete format of this option is \"-j host1:n1\n"
     ]
    },
    {
     "name": "stdout",
     "output_type": "stream",
     "text": [
      "                        host2:n2 host3:n3 ...\" which are name, ip or alias\n"
     ]
    },
    {
     "name": "stdout",
     "output_type": "stream",
     "text": [
      "                        (defined in sos configurations) of local or remote\n"
     ]
    },
    {
     "name": "stdout",
     "output_type": "stream",
     "text": [
      "                        hosts, and number of processes on each host. If left\n"
     ]
    },
    {
     "name": "stdout",
     "output_type": "stream",
     "text": [
      "                        unspecified, host will be assumed to be the host on\n"
     ]
    },
    {
     "name": "stdout",
     "output_type": "stream",
     "text": [
      "                        which the master SoS process is started, and n is half\n"
     ]
    },
    {
     "name": "stdout",
     "output_type": "stream",
     "text": [
      "                        of the number of CPUs on the host, or 8 if there are\n"
     ]
    },
    {
     "name": "stdout",
     "output_type": "stream",
     "text": [
      "                        more than 16 CPUs. If there are a large number of\n"
     ]
    },
    {
     "name": "stdout",
     "output_type": "stream",
     "text": [
      "                        hosts, the parameters are usually speified through a\n"
     ]
    },
    {
     "name": "stdout",
     "output_type": "stream",
     "text": [
      "                        hostfile with values in each line, and be specified in\n"
     ]
    },
    {
     "name": "stdout",
     "output_type": "stream",
     "text": [
      "                        the format of \"-j @hostfile\". On a supported cluster\n"
     ]
    },
    {
     "name": "stdout",
     "output_type": "stream",
     "text": [
      "                        system where environmental variables such as\n"
     ]
    },
    {
     "name": "stdout",
     "output_type": "stream",
     "text": [
      "                        \"PBS_HOSTFILE\" are specified, SoS will ignore this\n"
     ]
    },
    {
     "name": "stdout",
     "output_type": "stream",
     "text": [
      "                        parameter and read worker information from the host\n"
     ]
    },
    {
     "name": "stdout",
     "output_type": "stream",
     "text": [
      "                        file.\n"
     ]
    },
    {
     "name": "stdout",
     "output_type": "stream",
     "text": [
      "  -J EXTERNAL_JOBS      Maximum number of externally running tasks. This\n"
     ]
    },
    {
     "name": "stdout",
     "output_type": "stream",
     "text": [
      "                        option overrides option \"max_running_jobs\" of a task\n"
     ]
    },
    {
     "name": "stdout",
     "output_type": "stream",
     "text": [
      "                        queue (option -q) so that you can, for example, submit\n"
     ]
    },
    {
     "name": "stdout",
     "output_type": "stream",
     "text": [
      "                        one job at a time (with -J 1) to test the task queue.\n"
     ]
    },
    {
     "name": "stdout",
     "output_type": "stream",
     "text": [
      "  -c CONFIG_FILE        A configuration file in the format of YAML/JSON. The\n"
     ]
    },
    {
     "name": "stdout",
     "output_type": "stream",
     "text": [
      "                        content of the configuration file will be available as\n"
     ]
    },
    {
     "name": "stdout",
     "output_type": "stream",
     "text": [
      "                        a dictionary CONF in the SoS script being executed.\n"
     ]
    },
    {
     "name": "stdout",
     "output_type": "stream",
     "text": [
      "  -t FILE [FILE ...]    One of more files or names of named outputs that will\n"
     ]
    },
    {
     "name": "stdout",
     "output_type": "stream",
     "text": [
      "                        be the target of execution. If specified, SoS will\n"
     ]
    },
    {
     "name": "stdout",
     "output_type": "stream",
     "text": [
      "                        execute only part of a workflow or multiple workflows\n"
     ]
    },
    {
     "name": "stdout",
     "output_type": "stream",
     "text": [
      "                        or auxiliary steps to generate specified targets.\n"
     ]
    },
    {
     "name": "stdout",
     "output_type": "stream",
     "text": [
      "  -q QUEUE [QUEUE ...]  host (server) or job queues to execute all tasks in\n"
     ]
    },
    {
     "name": "stdout",
     "output_type": "stream",
     "text": [
      "                        the workflow. The queue can be name, IP, or an alias\n"
     ]
    },
    {
     "name": "stdout",
     "output_type": "stream",
     "text": [
      "                        defined in SoS configuration files. A host is assumed\n"
     ]
    },
    {
     "name": "stdout",
     "output_type": "stream",
     "text": [
      "                        to be a remote host with process type unless other\n"
     ]
    },
    {
     "name": "stdout",
     "output_type": "stream",
     "text": [
      "                        queue types and related information are defined in the\n"
     ]
    },
    {
     "name": "stdout",
     "output_type": "stream",
     "text": [
      "                        host file. If left unspecified, tasks are executed as\n"
     ]
    },
    {
     "name": "stdout",
     "output_type": "stream",
     "text": [
      "                        part of the regular step processes unless task-\n"
     ]
    },
    {
     "name": "stdout",
     "output_type": "stream",
     "text": [
      "                        specific queues are specified. Optional KEY=VALUE\n"
     ]
    },
    {
     "name": "stdout",
     "output_type": "stream",
     "text": [
      "                        pairs could be specified after queue name and be used\n"
     ]
    },
    {
     "name": "stdout",
     "output_type": "stream",
     "text": [
      "                        to expand task or workflow templates. These options\n"
     ]
    },
    {
     "name": "stdout",
     "output_type": "stream",
     "text": [
      "                        will override task options if the options with the\n"
     ]
    },
    {
     "name": "stdout",
     "output_type": "stream",
     "text": [
      "                        same name is defined.\n"
     ]
    },
    {
     "name": "stdout",
     "output_type": "stream",
     "text": [
      "  -r HOST [HOST ...]    Execute the workflow in specified remote (or local)\n"
     ]
    },
    {
     "name": "stdout",
     "output_type": "stream",
     "text": [
      "                        host, which should be defined under key \"hosts\" of sos\n"
     ]
    },
    {
     "name": "stdout",
     "output_type": "stream",
     "text": [
      "                        configurations (preferrably in ~/.sos/hosts.yml). This\n"
     ]
    },
    {
     "name": "stdout",
     "output_type": "stream",
     "text": [
      "                        option basically copies the script to specified host\n"
     ]
    },
    {
     "name": "stdout",
     "output_type": "stream",
     "text": [
      "                        and executes it with the \"workflow_engine\" of the\n"
     ]
    },
    {
     "name": "stdout",
     "output_type": "stream",
     "text": [
      "                        host, which is by default a \"process\" engine that\n"
     ]
    },
    {
     "name": "stdout",
     "output_type": "stream",
     "text": [
      "                        execute the workflow with an opotional\n"
     ]
    },
    {
     "name": "stdout",
     "output_type": "stream",
     "text": [
      "                        \"workflow_template\" defined for the host. The\n"
     ]
    },
    {
     "name": "stdout",
     "output_type": "stream",
     "text": [
      "                        \"workflow_template\" is expanded with \"filename\" being\n"
     ]
    },
    {
     "name": "stdout",
     "output_type": "stream",
     "text": [
      "                        the path of script, \"script\" being the content of the\n"
     ]
    },
    {
     "name": "stdout",
     "output_type": "stream",
     "text": [
      "                        script (extracted from notebook if \"filename\" is a\n"
     ]
    },
    {
     "name": "stdout",
     "output_type": "stream",
     "text": [
      "                        notebook), \"command\" being the command line to execute\n"
     ]
    },
    {
     "name": "stdout",
     "output_type": "stream",
     "text": [
      "                        the script, as specified from the command line but\n"
     ]
    },
    {
     "name": "stdout",
     "output_type": "stream",
     "text": [
      "                        with options \"-r\", and \"-c\" removed, \"KEY\" being\n"
     ]
    },
    {
     "name": "stdout",
     "output_type": "stream",
     "text": [
      "                        \"VALUE\" from \"KEY=VALUE\" pairs defined after the\n"
     ]
    },
    {
     "name": "stdout",
     "output_type": "stream",
     "text": [
      "                        \"host\" name. For example, \"-r cluster cores=4 mem=5G\"\n"
     ]
    },
    {
     "name": "stdout",
     "output_type": "stream",
     "text": [
      "                        would expand variables \"cores\" and \"mem\" in the\n"
     ]
    },
    {
     "name": "stdout",
     "output_type": "stream",
     "text": [
      "                        template with values \"4\" and \"5G\".\n"
     ]
    },
    {
     "name": "stdout",
     "output_type": "stream",
     "text": [
      "\n"
     ]
    },
    {
     "name": "stdout",
     "output_type": "stream",
     "text": [
      "Run mode options:\n"
     ]
    },
    {
     "name": "stdout",
     "output_type": "stream",
     "text": [
      "  Control how sos scirpt is executed.\n"
     ]
    },
    {
     "name": "stdout",
     "output_type": "stream",
     "text": [
      "\n"
     ]
    },
    {
     "name": "stdout",
     "output_type": "stream",
     "text": [
      "  -n                    Execute a workflow in dryrun mode. Please check\n"
     ]
    },
    {
     "name": "stdout",
     "output_type": "stream",
     "text": [
      "                        command sos dryrun for details of the dryrun mode.\n"
     ]
    },
    {
     "name": "stdout",
     "output_type": "stream",
     "text": [
      "  -s SIGMODE            How runtime signature would be handled, which can be\n"
     ]
    },
    {
     "name": "stdout",
     "output_type": "stream",
     "text": [
      "                        \"default\" (save and use signature, default mode in\n"
     ]
    },
    {
     "name": "stdout",
     "output_type": "stream",
     "text": [
      "                        batch mode), \"ignore\" (ignore runtime signature,\n"
     ]
    },
    {
     "name": "stdout",
     "output_type": "stream",
     "text": [
      "                        default mode in interactive mode), \"force\" (ignore\n"
     ]
    },
    {
     "name": "stdout",
     "output_type": "stream",
     "text": [
      "                        existing signature and overwrite them while executing\n"
     ]
    },
    {
     "name": "stdout",
     "output_type": "stream",
     "text": [
      "                        the workflow), \"build\" (build new or overwrite\n"
     ]
    },
    {
     "name": "stdout",
     "output_type": "stream",
     "text": [
      "                        existing signature from existing environment and\n"
     ]
    },
    {
     "name": "stdout",
     "output_type": "stream",
     "text": [
      "                        output files), and \"assert\" for validating existing\n"
     ]
    },
    {
     "name": "stdout",
     "output_type": "stream",
     "text": [
      "                        files against their signatures. \"skip\" and\n"
     ]
    },
    {
     "name": "stdout",
     "output_type": "stream",
     "text": [
      "                        \"distributed\" are two experimental modes with \"skip\"\n"
     ]
    },
    {
     "name": "stdout",
     "output_type": "stream",
     "text": [
      "                        for bypassing substep as long as step output exists\n"
     ]
    },
    {
     "name": "stdout",
     "output_type": "stream",
     "text": [
      "                        and later than input files and \"distributed\" for\n"
     ]
    },
    {
     "name": "stdout",
     "output_type": "stream",
     "text": [
      "                        sending tasks to subworkers for signature validation.\n"
     ]
    },
    {
     "name": "stdout",
     "output_type": "stream",
     "text": [
      "                        Please refer to online documentation for details about\n"
     ]
    },
    {
     "name": "stdout",
     "output_type": "stream",
     "text": [
      "                        the use of runtime signatures.\n"
     ]
    },
    {
     "name": "stdout",
     "output_type": "stream",
     "text": [
      "  -T                    Trace existing targets and re-execute the steps that\n"
     ]
    },
    {
     "name": "stdout",
     "output_type": "stream",
     "text": [
      "                        generate them to make sure that the targets are\n"
     ]
    },
    {
     "name": "stdout",
     "output_type": "stream",
     "text": [
      "                        current.\n"
     ]
    },
    {
     "name": "stdout",
     "output_type": "stream",
     "text": [
      "  -e ERRORMODE          How to handle failures from steps and substeps. By\n"
     ]
    },
    {
     "name": "stdout",
     "output_type": "stream",
     "text": [
      "                        default, after an error happens and stops the\n"
     ]
    },
    {
     "name": "stdout",
     "output_type": "stream",
     "text": [
      "                        execution of a step, SoS will exit after it executes\n"
     ]
    },
    {
     "name": "stdout",
     "output_type": "stream",
     "text": [
      "                        the rest of the DAG until all unaffected steps are\n"
     ]
    },
    {
     "name": "stdout",
     "output_type": "stream",
     "text": [
      "                        executede. You can specify \"-e abort\" if you would\n"
     ]
    },
    {
     "name": "stdout",
     "output_type": "stream",
     "text": [
      "                        like SoS to stop as soon as any error is detected, or\n"
     ]
    },
    {
     "name": "stdout",
     "output_type": "stream",
     "text": [
      "                        \"-e ignore\" to ignore the error and continue to\n"
     ]
    },
    {
     "name": "stdout",
     "output_type": "stream",
     "text": [
      "                        execute the workflow as best as it can.\n"
     ]
    },
    {
     "name": "stdout",
     "output_type": "stream",
     "text": [
      "\n"
     ]
    },
    {
     "name": "stdout",
     "output_type": "stream",
     "text": [
      "Output options:\n"
     ]
    },
    {
     "name": "stdout",
     "output_type": "stream",
     "text": [
      "  Output of workflow\n"
     ]
    },
    {
     "name": "stdout",
     "output_type": "stream",
     "text": [
      "\n"
     ]
    },
    {
     "name": "stdout",
     "output_type": "stream",
     "text": [
      "  -d [DAG]              Output Direct Acyclic Graph (DAGs) in graphiviz .dot\n"
     ]
    },
    {
     "name": "stdout",
     "output_type": "stream",
     "text": [
      "                        format. Because DAG and status of nodes will change\n"
     ]
    },
    {
     "name": "stdout",
     "output_type": "stream",
     "text": [
      "                        during the execution of workflow, multiple DAGs will\n"
     ]
    },
    {
     "name": "stdout",
     "output_type": "stream",
     "text": [
      "                        be written to the specified file with names\n"
     ]
    },
    {
     "name": "stdout",
     "output_type": "stream",
     "text": [
      "                        {workflow}_1, {workflow}_2 etc. The dot file would be\n"
     ]
    },
    {
     "name": "stdout",
     "output_type": "stream",
     "text": [
      "                        named {script_name}_{timestamp}.dot unless a separate\n"
     ]
    },
    {
     "name": "stdout",
     "output_type": "stream",
     "text": [
      "                        filename is specified.\n"
     ]
    },
    {
     "name": "stdout",
     "output_type": "stream",
     "text": [
      "  -p [REPORT]           Output a report that summarizes the execution of the\n"
     ]
    },
    {
     "name": "stdout",
     "output_type": "stream",
     "text": [
      "                        workflow after the completion of the execution. This\n"
     ]
    },
    {
     "name": "stdout",
     "output_type": "stream",
     "text": [
      "                        includes command line, steps executed, tasks executed,\n"
     ]
    },
    {
     "name": "stdout",
     "output_type": "stream",
     "text": [
      "                        CPU/memory of tasks, and DAG if option -d is also\n"
     ]
    },
    {
     "name": "stdout",
     "output_type": "stream",
     "text": [
      "                        specified. The report will by be named\n"
     ]
    },
    {
     "name": "stdout",
     "output_type": "stream",
     "text": [
      "                        {script_name}_{timestamp}.html unless a separate\n"
     ]
    },
    {
     "name": "stdout",
     "output_type": "stream",
     "text": [
      "                        filename is specified.\n"
     ]
    },
    {
     "name": "stdout",
     "output_type": "stream",
     "text": [
      "  -v {0,1,2,3,4}        Output error (0), warning (1), info (2) and debug (3)\n"
     ]
    },
    {
     "name": "stdout",
     "output_type": "stream",
     "text": [
      "                        information to standard output (default to 2). More\n"
     ]
    },
    {
     "name": "stdout",
     "output_type": "stream",
     "text": [
      "                        debug information could be generated by setting\n"
     ]
    },
    {
     "name": "stdout",
     "output_type": "stream",
     "text": [
      "                        environmental variable SOS_DEBUG to comma separated\n"
     ]
    },
    {
     "name": "stdout",
     "output_type": "stream",
     "text": [
      "                        topics of GENERAL, WORKER, CONTROLLER, STEP, VARIABLE,\n"
     ]
    },
    {
     "name": "stdout",
     "output_type": "stream",
     "text": [
      "                        EXECUTOR, TARGET, ZERONQ, TASK, DAG, and ACTION, or\n"
     ]
    },
    {
     "name": "stdout",
     "output_type": "stream",
     "text": [
      "                        ALL for all debug information\n"
     ]
    },
    {
     "name": "stdout",
     "output_type": "stream",
     "text": [
      "\n"
     ]
    },
    {
     "name": "stdout",
     "output_type": "stream",
     "text": [
      "Arbitrary parameters defined by the [parameters] step of the script, and\n"
     ]
    },
    {
     "name": "stdout",
     "output_type": "stream",
     "text": [
      "[parameters] steps of other scripts if nested workflows are defined in other\n"
     ]
    },
    {
     "name": "stdout",
     "output_type": "stream",
     "text": [
      "SoS files (option `source`). The name, default and type of the parameters are\n"
     ]
    },
    {
     "name": "stdout",
     "output_type": "stream",
     "text": [
      "specified in the script. Single value parameters should be passed using option\n"
     ]
    },
    {
     "name": "stdout",
     "output_type": "stream",
     "text": [
      "`--name value` and multi-value parameters should be passed using option\n"
     ]
    },
    {
     "name": "stdout",
     "output_type": "stream",
     "text": [
      "`--name value1 value2`.\n"
     ]
    }
   ],
   "source": [
    "!sos run -h"
   ]
  },
  {
   "cell_type": "markdown",
   "metadata": {
    "kernel": "SoS",
    "papermill": {
     "duration": 0.076049,
     "end_time": "2019-12-23T17:00:02.433140",
     "exception": false,
     "start_time": "2019-12-23T17:00:02.357091",
     "status": "completed"
    },
    "tags": []
   },
   "source": [
    "Please refer to section [SoS Syntax](SoS_Syntax.html) of the documentation and the tutorial on [Execution of Workflow](../tutorials/Execution_of_Workflow.html) for details about this command."
   ]
  },
  {
   "cell_type": "markdown",
   "metadata": {
    "kernel": "SoS",
    "papermill": {
     "duration": 0.07715,
     "end_time": "2019-12-23T17:00:02.586880",
     "exception": false,
     "start_time": "2019-12-23T17:00:02.509730",
     "status": "completed"
    },
    "tags": []
   },
   "source": [
    "### subcommand `dryrun`\n",
    "\n",
    "This command execute the script in dryrun mode. It is alias to command `sos run -n`."
   ]
  },
  {
   "cell_type": "code",
   "execution_count": 3,
   "metadata": {
    "kernel": "SoS",
    "papermill": {
     "duration": 2.115022,
     "end_time": "2019-12-23T17:00:04.778749",
     "exception": false,
     "start_time": "2019-12-23T17:00:02.663727",
     "status": "completed"
    },
    "tags": []
   },
   "outputs": [
    {
     "name": "stdout",
     "output_type": "stream",
     "text": [
      "usage: sos dryrun [-h] [-c CONFIG_FILE] [-t FILES [FILES ...]] [-q QUEUE] [-T]\n"
     ]
    },
    {
     "name": "stdout",
     "output_type": "stream",
     "text": [
      "                  [-d [DAG]] [-p [REPORT]] [-v {0,1,2,3,4}]\n"
     ]
    },
    {
     "name": "stdout",
     "output_type": "stream",
     "text": [
      "                  SCRIPT [WORKFLOW]\n"
     ]
    },
    {
     "name": "stdout",
     "output_type": "stream",
     "text": [
      "\n"
     ]
    },
    {
     "name": "stdout",
     "output_type": "stream",
     "text": [
      "Execute workflow in dryrun mode. This mode is identical to run mode except\n"
     ]
    },
    {
     "name": "stdout",
     "output_type": "stream",
     "text": [
      "that 1). Actions might behavior differently. In particular, script-running\n"
     ]
    },
    {
     "name": "stdout",
     "output_type": "stream",
     "text": [
      "steps would print instead of execute script. 2). Steps will generate empty\n"
     ]
    },
    {
     "name": "stdout",
     "output_type": "stream",
     "text": [
      "output files if specified output do not exist after execution. 3). Signature\n"
     ]
    },
    {
     "name": "stdout",
     "output_type": "stream",
     "text": [
      "mode is set to ignore. 4). Option -q is ignored so all tasks are executed\n"
     ]
    },
    {
     "name": "stdout",
     "output_type": "stream",
     "text": [
      "locally. 5). Tasks are generated but not executed.\n"
     ]
    },
    {
     "name": "stdout",
     "output_type": "stream",
     "text": [
      "\n"
     ]
    },
    {
     "name": "stdout",
     "output_type": "stream",
     "text": [
      "positional arguments:\n"
     ]
    },
    {
     "name": "stdout",
     "output_type": "stream",
     "text": [
      "  SCRIPT                A SoS script that defines one or more workflows, in\n"
     ]
    },
    {
     "name": "stdout",
     "output_type": "stream",
     "text": [
      "                        format .sos or .ipynb. The script can be a filename or\n"
     ]
    },
    {
     "name": "stdout",
     "output_type": "stream",
     "text": [
      "                        a URL from which the content of a SoS will be read. If\n"
     ]
    },
    {
     "name": "stdout",
     "output_type": "stream",
     "text": [
      "                        a valid file cannot be located or downloaded, SoS will\n"
     ]
    },
    {
     "name": "stdout",
     "output_type": "stream",
     "text": [
      "                        search for the script, with specified name, and with\n"
     ]
    },
    {
     "name": "stdout",
     "output_type": "stream",
     "text": [
      "                        added extension .sos and .ipynb, in a search path\n"
     ]
    },
    {
     "name": "stdout",
     "output_type": "stream",
     "text": [
      "                        specified by variable `sos_path` defined in the global\n"
     ]
    },
    {
     "name": "stdout",
     "output_type": "stream",
     "text": [
      "                        SoS configuration file (~/.sos/config.yml).\n"
     ]
    },
    {
     "name": "stdout",
     "output_type": "stream",
     "text": [
      "  WORKFLOW              Name of the workflow to execute. This option can be\n"
     ]
    },
    {
     "name": "stdout",
     "output_type": "stream",
     "text": [
      "                        ignored if the script defines a default workflow (with\n"
     ]
    },
    {
     "name": "stdout",
     "output_type": "stream",
     "text": [
      "                        no name or with name `default`) or defines only a\n"
     ]
    },
    {
     "name": "stdout",
     "output_type": "stream",
     "text": [
      "                        single workflow. A subworkflow or a combined workflow\n"
     ]
    },
    {
     "name": "stdout",
     "output_type": "stream",
     "text": [
      "                        can also be specified, where a subworkflow executes a\n"
     ]
    },
    {
     "name": "stdout",
     "output_type": "stream",
     "text": [
      "                        subset of workflow (`name_steps` where `steps` can be\n"
     ]
    },
    {
     "name": "stdout",
     "output_type": "stream",
     "text": [
      "                        `n` (a step `n`), `:n` (up to step `n`), `n:m` (from\n"
     ]
    },
    {
     "name": "stdout",
     "output_type": "stream",
     "text": [
      "                        step `n` to `m`), and `n:` (from step `n`)), and a\n"
     ]
    },
    {
     "name": "stdout",
     "output_type": "stream",
     "text": [
      "                        combined workflow executes to multiple (sub)workflows\n"
     ]
    },
    {
     "name": "stdout",
     "output_type": "stream",
     "text": [
      "                        combined by `+` (e.g. `A_0+B+C`).\n"
     ]
    },
    {
     "name": "stdout",
     "output_type": "stream",
     "text": [
      "\n"
     ]
    },
    {
     "name": "stdout",
     "output_type": "stream",
     "text": [
      "optional arguments:\n"
     ]
    },
    {
     "name": "stdout",
     "output_type": "stream",
     "text": [
      "  -h, --help            show this help message and exit\n"
     ]
    },
    {
     "name": "stdout",
     "output_type": "stream",
     "text": [
      "  -c CONFIG_FILE        A configuration file in the format of YAML/JSON. The\n"
     ]
    },
    {
     "name": "stdout",
     "output_type": "stream",
     "text": [
      "                        content of the configuration file will be available as\n"
     ]
    },
    {
     "name": "stdout",
     "output_type": "stream",
     "text": [
      "                        a dictionary CONF in the SoS script being executed.\n"
     ]
    },
    {
     "name": "stdout",
     "output_type": "stream",
     "text": [
      "  -t FILES [FILES ...]  One of more files or alias of other targets that will\n"
     ]
    },
    {
     "name": "stdout",
     "output_type": "stream",
     "text": [
      "                        be the target of execution. If specified, SoS will\n"
     ]
    },
    {
     "name": "stdout",
     "output_type": "stream",
     "text": [
      "                        execute only part of a workflow or multiple workflows\n"
     ]
    },
    {
     "name": "stdout",
     "output_type": "stream",
     "text": [
      "                        or auxiliary steps to generate specified targets.\n"
     ]
    },
    {
     "name": "stdout",
     "output_type": "stream",
     "text": [
      "  -q QUEUE              host (server) or job queues to execute all tasks in\n"
     ]
    },
    {
     "name": "stdout",
     "output_type": "stream",
     "text": [
      "                        the workflow. The queue can be defined in global or\n"
     ]
    },
    {
     "name": "stdout",
     "output_type": "stream",
     "text": [
      "                        local sos configuration file, or a file specified by\n"
     ]
    },
    {
     "name": "stdout",
     "output_type": "stream",
     "text": [
      "                        option --config. A host is assumed to be a remote\n"
     ]
    },
    {
     "name": "stdout",
     "output_type": "stream",
     "text": [
      "                        machine with process type if no configuration is\n"
     ]
    },
    {
     "name": "stdout",
     "output_type": "stream",
     "text": [
      "                        found.\n"
     ]
    },
    {
     "name": "stdout",
     "output_type": "stream",
     "text": [
      "\n"
     ]
    },
    {
     "name": "stdout",
     "output_type": "stream",
     "text": [
      "Run mode options:\n"
     ]
    },
    {
     "name": "stdout",
     "output_type": "stream",
     "text": [
      "  Control how sos scirpt is executed.\n"
     ]
    },
    {
     "name": "stdout",
     "output_type": "stream",
     "text": [
      "\n"
     ]
    },
    {
     "name": "stdout",
     "output_type": "stream",
     "text": [
      "  -T                    Trace existing targets and re-execute the steps that\n"
     ]
    },
    {
     "name": "stdout",
     "output_type": "stream",
     "text": [
      "                        generate them to make sure that the targets are\n"
     ]
    },
    {
     "name": "stdout",
     "output_type": "stream",
     "text": [
      "                        current.\n"
     ]
    },
    {
     "name": "stdout",
     "output_type": "stream",
     "text": [
      "\n"
     ]
    },
    {
     "name": "stdout",
     "output_type": "stream",
     "text": [
      "Output options:\n"
     ]
    },
    {
     "name": "stdout",
     "output_type": "stream",
     "text": [
      "  Output of workflow\n"
     ]
    },
    {
     "name": "stdout",
     "output_type": "stream",
     "text": [
      "\n"
     ]
    },
    {
     "name": "stdout",
     "output_type": "stream",
     "text": [
      "  -d [DAG]              Output Direct Acyclic Graph (DAGs) in graphiviz .dot\n"
     ]
    },
    {
     "name": "stdout",
     "output_type": "stream",
     "text": [
      "                        format. An exntesion of \".dot\" would be added\n"
     ]
    },
    {
     "name": "stdout",
     "output_type": "stream",
     "text": [
      "                        automatically. Because DAG could change during the\n"
     ]
    },
    {
     "name": "stdout",
     "output_type": "stream",
     "text": [
      "                        execution of workflow, multiple DAGs could be outputed\n"
     ]
    },
    {
     "name": "stdout",
     "output_type": "stream",
     "text": [
      "                        with names $FILE_1.dot, $FILE_2.dot. If this option is\n"
     ]
    },
    {
     "name": "stdout",
     "output_type": "stream",
     "text": [
      "                        specified without a name, the DAG would be wrritten to\n"
     ]
    },
    {
     "name": "stdout",
     "output_type": "stream",
     "text": [
      "                        the standard output.\n"
     ]
    },
    {
     "name": "stdout",
     "output_type": "stream",
     "text": [
      "  -p [REPORT]           Output a report that summarizes the execution of the\n"
     ]
    },
    {
     "name": "stdout",
     "output_type": "stream",
     "text": [
      "                        workflow after the completion of the execution. This\n"
     ]
    },
    {
     "name": "stdout",
     "output_type": "stream",
     "text": [
      "                        includes command line, steps executed, tasks executed,\n"
     ]
    },
    {
     "name": "stdout",
     "output_type": "stream",
     "text": [
      "                        CPU/memory of tasks, and DAG if option -d is also\n"
     ]
    },
    {
     "name": "stdout",
     "output_type": "stream",
     "text": [
      "                        specified. The report will by be named\n"
     ]
    },
    {
     "name": "stdout",
     "output_type": "stream",
     "text": [
      "                        {script_name}_{timestamp}.html unless a separate\n"
     ]
    },
    {
     "name": "stdout",
     "output_type": "stream",
     "text": [
      "                        filename is specified.\n"
     ]
    },
    {
     "name": "stdout",
     "output_type": "stream",
     "text": [
      "  -v {0,1,2,3,4}        Output error (0), warning (1), info (2), debug (3) and\n"
     ]
    },
    {
     "name": "stdout",
     "output_type": "stream",
     "text": [
      "                        trace (4) information to standard output (default to\n"
     ]
    },
    {
     "name": "stdout",
     "output_type": "stream",
     "text": [
      "                        2).\n"
     ]
    },
    {
     "name": "stdout",
     "output_type": "stream",
     "text": [
      "\n"
     ]
    },
    {
     "name": "stdout",
     "output_type": "stream",
     "text": [
      "Arbitrary parameters defined by the [parameters] step of the script, and\n"
     ]
    },
    {
     "name": "stdout",
     "output_type": "stream",
     "text": [
      "[parameters] steps of other scripts if nested workflows are defined in other\n"
     ]
    },
    {
     "name": "stdout",
     "output_type": "stream",
     "text": [
      "SoS files (option `source`). The name, default and type of the parameters are\n"
     ]
    },
    {
     "name": "stdout",
     "output_type": "stream",
     "text": [
      "specified in the script. Single value parameters should be passed using option\n"
     ]
    },
    {
     "name": "stdout",
     "output_type": "stream",
     "text": [
      "`--name value` and multi-value parameters should be passed using option\n"
     ]
    },
    {
     "name": "stdout",
     "output_type": "stream",
     "text": [
      "`--name value1 value2`.\n"
     ]
    }
   ],
   "source": [
    "!sos dryrun -h"
   ]
  },
  {
   "cell_type": "markdown",
   "metadata": {
    "kernel": "SoS",
    "papermill": {
     "duration": 0.104418,
     "end_time": "2019-12-23T17:00:04.988963",
     "exception": false,
     "start_time": "2019-12-23T17:00:04.884545",
     "status": "completed"
    },
    "tags": []
   },
   "source": [
    "Please refer to the tutorial on [Execution of Workflow](../tutorials/Execution_of_Workflow.html) for details about this command."
   ]
  },
  {
   "cell_type": "markdown",
   "metadata": {
    "kernel": "SoS",
    "papermill": {
     "duration": 0.106319,
     "end_time": "2019-12-23T17:00:05.203351",
     "exception": false,
     "start_time": "2019-12-23T17:00:05.097032",
     "status": "completed"
    },
    "tags": []
   },
   "source": [
    "## Task Management"
   ]
  },
  {
   "cell_type": "markdown",
   "metadata": {
    "kernel": "SoS",
    "output_cache": "[]",
    "papermill": {
     "duration": 0.103101,
     "end_time": "2019-12-23T17:00:05.414981",
     "exception": false,
     "start_time": "2019-12-23T17:00:05.311880",
     "status": "completed"
    },
    "tags": []
   },
   "source": [
    "### subcommand `remote`"
   ]
  },
  {
   "cell_type": "code",
   "execution_count": 4,
   "metadata": {
    "kernel": "SoS",
    "papermill": {
     "duration": 2.448372,
     "end_time": "2019-12-23T17:00:07.970978",
     "exception": false,
     "start_time": "2019-12-23T17:00:05.522606",
     "status": "completed"
    },
    "tags": []
   },
   "outputs": [
    {
     "name": "stdout",
     "output_type": "stream",
     "text": [
      "usage: sos remote [-h] [-c CONFIG] [-p PASSWORD] [--files [FILES [FILES ...]]]\n"
     ]
    },
    {
     "name": "stdout",
     "output_type": "stream",
     "text": [
      "                  [--cmd ...] [-v {0,1,2,3,4}]\n"
     ]
    },
    {
     "name": "stdout",
     "output_type": "stream",
     "text": [
      "                  {list,status,setup,test,login,push,pull,run}\n"
     ]
    },
    {
     "name": "stdout",
     "output_type": "stream",
     "text": [
      "                  [hosts [hosts ...]]\n"
     ]
    },
    {
     "name": "stdout",
     "output_type": "stream",
     "text": [
      "\n"
     ]
    },
    {
     "name": "stdout",
     "output_type": "stream",
     "text": [
      "Listing and testing remote configurations\n"
     ]
    },
    {
     "name": "stdout",
     "output_type": "stream",
     "text": [
      "\n"
     ]
    },
    {
     "name": "stdout",
     "output_type": "stream",
     "text": [
      "positional arguments:\n"
     ]
    },
    {
     "name": "stdout",
     "output_type": "stream",
     "text": [
      "  {list,status,setup,test,login,push,pull,run}\n"
     ]
    },
    {
     "name": "stdout",
     "output_type": "stream",
     "text": [
      "                        List (list), check status of tasks (status), setup\n"
     ]
    },
    {
     "name": "stdout",
     "output_type": "stream",
     "text": [
      "                        public-key authentication (setup), test configuration\n"
     ]
    },
    {
     "name": "stdout",
     "output_type": "stream",
     "text": [
      "                        (test), login (login), push files to one or more\n"
     ]
    },
    {
     "name": "stdout",
     "output_type": "stream",
     "text": [
      "                        remote hosts (push), pull files from a remote host, or\n"
     ]
    },
    {
     "name": "stdout",
     "output_type": "stream",
     "text": [
      "                        execute command (run) on one or all or specified\n"
     ]
    },
    {
     "name": "stdout",
     "output_type": "stream",
     "text": [
      "                        remote hosts\n"
     ]
    },
    {
     "name": "stdout",
     "output_type": "stream",
     "text": [
      "  hosts                 Hosts to be checked or tested. All hosts defined in\n"
     ]
    },
    {
     "name": "stdout",
     "output_type": "stream",
     "text": [
      "                        SoS configurations will be included if unspecified. As\n"
     ]
    },
    {
     "name": "stdout",
     "output_type": "stream",
     "text": [
      "                        a special case for \"sos remote setup\", an address is\n"
     ]
    },
    {
     "name": "stdout",
     "output_type": "stream",
     "text": [
      "                        acceptable even if it is defined in configuration\n"
     ]
    },
    {
     "name": "stdout",
     "output_type": "stream",
     "text": [
      "                        file.\n"
     ]
    },
    {
     "name": "stdout",
     "output_type": "stream",
     "text": [
      "\n"
     ]
    },
    {
     "name": "stdout",
     "output_type": "stream",
     "text": [
      "optional arguments:\n"
     ]
    },
    {
     "name": "stdout",
     "output_type": "stream",
     "text": [
      "  -h, --help            show this help message and exit\n"
     ]
    },
    {
     "name": "stdout",
     "output_type": "stream",
     "text": [
      "  -c CONFIG, --config CONFIG\n"
     ]
    },
    {
     "name": "stdout",
     "output_type": "stream",
     "text": [
      "                        A configuration file with host definitions, in case\n"
     ]
    },
    {
     "name": "stdout",
     "output_type": "stream",
     "text": [
      "                        the definitions are not defined in global sos\n"
     ]
    },
    {
     "name": "stdout",
     "output_type": "stream",
     "text": [
      "                        config.yml files.\n"
     ]
    },
    {
     "name": "stdout",
     "output_type": "stream",
     "text": [
      "  -p PASSWORD, --password PASSWORD\n"
     ]
    },
    {
     "name": "stdout",
     "output_type": "stream",
     "text": [
      "                        Password used to copy public key to remote hosts. You\n"
     ]
    },
    {
     "name": "stdout",
     "output_type": "stream",
     "text": [
      "                        will be prompted for a password if a password is\n"
     ]
    },
    {
     "name": "stdout",
     "output_type": "stream",
     "text": [
      "                        needed and is not passed from command line. The same\n"
     ]
    },
    {
     "name": "stdout",
     "output_type": "stream",
     "text": [
      "                        password will be used for all specified hosts so you\n"
     ]
    },
    {
     "name": "stdout",
     "output_type": "stream",
     "text": [
      "                        will need to use separate setup commands for hosts\n"
     ]
    },
    {
     "name": "stdout",
     "output_type": "stream",
     "text": [
      "                        with different passwords.\n"
     ]
    },
    {
     "name": "stdout",
     "output_type": "stream",
     "text": [
      "  --files [FILES [FILES ...]]\n"
     ]
    },
    {
     "name": "stdout",
     "output_type": "stream",
     "text": [
      "                        files or directories to be push or pulled for action\n"
     ]
    },
    {
     "name": "stdout",
     "output_type": "stream",
     "text": [
      "                        \"push\" or \"pull\"\n"
     ]
    },
    {
     "name": "stdout",
     "output_type": "stream",
     "text": [
      "  --cmd ...             commands to be executed by action \"run\" or tested by\n"
     ]
    },
    {
     "name": "stdout",
     "output_type": "stream",
     "text": [
      "                        action \"test\". This option takes all remaining options\n"
     ]
    },
    {
     "name": "stdout",
     "output_type": "stream",
     "text": [
      "                        of part of command and must be the last option of the\n"
     ]
    },
    {
     "name": "stdout",
     "output_type": "stream",
     "text": [
      "                        sos remote command.\n"
     ]
    },
    {
     "name": "stdout",
     "output_type": "stream",
     "text": [
      "  -v {0,1,2,3,4}, --verbosity {0,1,2,3,4}\n"
     ]
    },
    {
     "name": "stdout",
     "output_type": "stream",
     "text": [
      "                        Output error (0), warning (1), info (2) and debug (3)\n"
     ]
    },
    {
     "name": "stdout",
     "output_type": "stream",
     "text": [
      "                        information to standard output (default to 2). More\n"
     ]
    },
    {
     "name": "stdout",
     "output_type": "stream",
     "text": [
      "                        debug information could be generated by setting\n"
     ]
    },
    {
     "name": "stdout",
     "output_type": "stream",
     "text": [
      "                        environmental variable SOS_DEBUG to comma separated\n"
     ]
    },
    {
     "name": "stdout",
     "output_type": "stream",
     "text": [
      "                        topics of GENERAL, WORKER, CONTROLLER, STEP, VARIABLE,\n"
     ]
    },
    {
     "name": "stdout",
     "output_type": "stream",
     "text": [
      "                        EXECUTOR, TARGET, ZERONQ, TASK, DAG, and ACTION, or\n"
     ]
    },
    {
     "name": "stdout",
     "output_type": "stream",
     "text": [
      "                        ALL for all debug information\n"
     ]
    }
   ],
   "source": [
    "!sos remote -h"
   ]
  },
  {
   "cell_type": "markdown",
   "metadata": {
    "kernel": "SoS",
    "papermill": {
     "duration": 0.128294,
     "end_time": "2019-12-23T17:00:08.223274",
     "exception": false,
     "start_time": "2019-12-23T17:00:08.094980",
     "status": "completed"
    },
    "tags": []
   },
   "source": [
    "### subcommand `execute`"
   ]
  },
  {
   "cell_type": "code",
   "execution_count": 5,
   "metadata": {
    "kernel": "SoS",
    "output_cache": "[{\"output_type\":\"stream\",\"text\":\"usage: sos execute [-h] [-s SIGMODE] [-v {0,1,2,3,4}] [-q QUEUE] [-c CONFIG]\\n                   tasks [tasks ...]\\n\\nExecute a packages task\\n\\npositional arguments:\\n  tasks                 IDs of the task.\\n\\noptional arguments:\\n  -h, --help            show this help message and exit\\n  -s SIGMODE            How runtime signature would be handled, which can be\\n                        \\\"default\\\" (save and use signature, default mode in\\n                        batch mode), \\\"ignore\\\" (ignore runtime signature,\\n                        default mode in interactive mode), \\\"force\\\" (ignore\\n                        existing signature and overwrite them while executing\\n                        the workflow), \\\"build\\\" (build new or overwrite\\n                        existing signature from existing environment and\\n                        output files), and \\\"assert\\\" for validating existing\\n                        files against their signatures. Please refer to online\\n                        documentation for details about the use of runtime\\n                        signatures.\\n  -v {0,1,2,3,4}        Output error (0), warning (1), info (2), debug (3) and\\n                        trace (4) information to standard output (default to\\n                        2).\\n  -q QUEUE, --queue QUEUE\\n                        Execute the task on the specified tasks queue or\\n                        remote host if the tasks . The queue must be defined\\n                        in SoS config file (system default or specified with\\n                        option --config). SoS would perform necessary file\\n                        synchronization and path translation according to\\n                        queue configuration, and send the task to appropriate\\n                        queue for execution. Please check SoS documentation\\n                        for details.\\n  -c CONFIG, --config CONFIG\\n                        A configuration file with host definitions, in case\\n                        the definitions are not defined in global or local sos\\n                        config.yml files.\\n\",\"name\":\"stdout\"}]",
    "papermill": {
     "duration": 2.54992,
     "end_time": "2019-12-23T17:00:10.901724",
     "exception": false,
     "start_time": "2019-12-23T17:00:08.351804",
     "status": "completed"
    },
    "tags": []
   },
   "outputs": [
    {
     "name": "stdout",
     "output_type": "stream",
     "text": [
      "usage: sos execute [-h] [-s SIGMODE] [-v {0,1,2,3,4}] [-e EXECUTOR]\n"
     ]
    },
    {
     "name": "stdout",
     "output_type": "stream",
     "text": [
      "                   [-m RUN_MODE] [-q QUEUE] [-c CONFIG] [-w]\n"
     ]
    },
    {
     "name": "stdout",
     "output_type": "stream",
     "text": [
      "                   tasks [tasks ...]\n"
     ]
    },
    {
     "name": "stdout",
     "output_type": "stream",
     "text": [
      "\n"
     ]
    },
    {
     "name": "stdout",
     "output_type": "stream",
     "text": [
      "Execute a packages task\n"
     ]
    },
    {
     "name": "stdout",
     "output_type": "stream",
     "text": [
      "\n"
     ]
    },
    {
     "name": "stdout",
     "output_type": "stream",
     "text": [
      "positional arguments:\n"
     ]
    },
    {
     "name": "stdout",
     "output_type": "stream",
     "text": [
      "  tasks                 IDs of the task.\n"
     ]
    },
    {
     "name": "stdout",
     "output_type": "stream",
     "text": [
      "\n"
     ]
    },
    {
     "name": "stdout",
     "output_type": "stream",
     "text": [
      "optional arguments:\n"
     ]
    },
    {
     "name": "stdout",
     "output_type": "stream",
     "text": [
      "  -h, --help            show this help message and exit\n"
     ]
    },
    {
     "name": "stdout",
     "output_type": "stream",
     "text": [
      "  -s SIGMODE            How runtime signature would be handled, which can be\n"
     ]
    },
    {
     "name": "stdout",
     "output_type": "stream",
     "text": [
      "                        \"default\" (save and use signature, default mode in\n"
     ]
    },
    {
     "name": "stdout",
     "output_type": "stream",
     "text": [
      "                        batch mode), \"force\" (ignore existing signature and\n"
     ]
    },
    {
     "name": "stdout",
     "output_type": "stream",
     "text": [
      "                        overwrite them while executing the workflow), \"build\"\n"
     ]
    },
    {
     "name": "stdout",
     "output_type": "stream",
     "text": [
      "                        (build new or overwrite existing signature from\n"
     ]
    },
    {
     "name": "stdout",
     "output_type": "stream",
     "text": [
      "                        existing environment and output files), and \"assert\"\n"
     ]
    },
    {
     "name": "stdout",
     "output_type": "stream",
     "text": [
      "                        for validating existing files against their\n"
     ]
    },
    {
     "name": "stdout",
     "output_type": "stream",
     "text": [
      "                        signatures. \"skip\" and \"distributed\" are two\n"
     ]
    },
    {
     "name": "stdout",
     "output_type": "stream",
     "text": [
      "                        experimental modes with \"skip\" for bypassing substep\n"
     ]
    },
    {
     "name": "stdout",
     "output_type": "stream",
     "text": [
      "                        as long as step output exists and later than input\n"
     ]
    },
    {
     "name": "stdout",
     "output_type": "stream",
     "text": [
      "                        files and \"distributed\" for sending tasks to\n"
     ]
    },
    {
     "name": "stdout",
     "output_type": "stream",
     "text": [
      "                        subworkers for signature validation. Tasks will always\n"
     ]
    },
    {
     "name": "stdout",
     "output_type": "stream",
     "text": [
      "                        save sigatures. For compatibility reasons, \"ignore\"\n"
     ]
    },
    {
     "name": "stdout",
     "output_type": "stream",
     "text": [
      "                        mode is accepted but is treated the same as \"default\".\n"
     ]
    },
    {
     "name": "stdout",
     "output_type": "stream",
     "text": [
      "                        Please refer to online documentation for details about\n"
     ]
    },
    {
     "name": "stdout",
     "output_type": "stream",
     "text": [
      "                        the use of runtime signatures.\n"
     ]
    },
    {
     "name": "stdout",
     "output_type": "stream",
     "text": [
      "  -v {0,1,2,3,4}        Output error (0), warning (1), info (2) and debug (3)\n"
     ]
    },
    {
     "name": "stdout",
     "output_type": "stream",
     "text": [
      "                        information to standard output (default to 2). More\n"
     ]
    },
    {
     "name": "stdout",
     "output_type": "stream",
     "text": [
      "                        debug information could be generated by setting\n"
     ]
    },
    {
     "name": "stdout",
     "output_type": "stream",
     "text": [
      "                        environmental variable SOS_DEBUG to comma separated\n"
     ]
    },
    {
     "name": "stdout",
     "output_type": "stream",
     "text": [
      "                        topics of GENERAL, WORKER, CONTROLLER, STEP, VARIABLE,\n"
     ]
    },
    {
     "name": "stdout",
     "output_type": "stream",
     "text": [
      "                        EXECUTOR, TARGET, ZERONQ, TASK, DAG, and ACTION, or\n"
     ]
    },
    {
     "name": "stdout",
     "output_type": "stream",
     "text": [
      "                        ALL for all debug information\n"
     ]
    },
    {
     "name": "stdout",
     "output_type": "stream",
     "text": [
      "  -e EXECUTOR, --executor EXECUTOR\n"
     ]
    },
    {
     "name": "stdout",
     "output_type": "stream",
     "text": [
      "                        Executor used to execute the task, which should be an\n"
     ]
    },
    {
     "name": "stdout",
     "output_type": "stream",
     "text": [
      "                        entry point under section sos_taskexecutors that\n"
     ]
    },
    {
     "name": "stdout",
     "output_type": "stream",
     "text": [
      "                        points to a class with at least a execute member\n"
     ]
    },
    {
     "name": "stdout",
     "output_type": "stream",
     "text": [
      "                        function.\n"
     ]
    },
    {
     "name": "stdout",
     "output_type": "stream",
     "text": [
      "  -m RUN_MODE, --mode RUN_MODE\n"
     ]
    },
    {
     "name": "stdout",
     "output_type": "stream",
     "text": [
      "                        Run mode of the task, default to 'run', but can be\n"
     ]
    },
    {
     "name": "stdout",
     "output_type": "stream",
     "text": [
      "                        'dryrun' (the same as --dryrun) or 'interactive\",\n"
     ]
    },
    {
     "name": "stdout",
     "output_type": "stream",
     "text": [
      "                        which suppress status update.\n"
     ]
    },
    {
     "name": "stdout",
     "output_type": "stream",
     "text": [
      "  -q QUEUE, --queue QUEUE\n"
     ]
    },
    {
     "name": "stdout",
     "output_type": "stream",
     "text": [
      "                        Check the status of job on specified tasks queue or\n"
     ]
    },
    {
     "name": "stdout",
     "output_type": "stream",
     "text": [
      "                        remote host if the tasks . The queue can be defined in\n"
     ]
    },
    {
     "name": "stdout",
     "output_type": "stream",
     "text": [
      "                        global or local sos configuration file, or a file\n"
     ]
    },
    {
     "name": "stdout",
     "output_type": "stream",
     "text": [
      "                        specified by option --config. A host is assumed to be\n"
     ]
    },
    {
     "name": "stdout",
     "output_type": "stream",
     "text": [
      "                        a remote machine with process type if no configuration\n"
     ]
    },
    {
     "name": "stdout",
     "output_type": "stream",
     "text": [
      "                        is found.\n"
     ]
    },
    {
     "name": "stdout",
     "output_type": "stream",
     "text": [
      "  -c CONFIG, --config CONFIG\n"
     ]
    },
    {
     "name": "stdout",
     "output_type": "stream",
     "text": [
      "                        A configuration file with host definitions, in case\n"
     ]
    },
    {
     "name": "stdout",
     "output_type": "stream",
     "text": [
      "                        the definitions are not defined in global sos\n"
     ]
    },
    {
     "name": "stdout",
     "output_type": "stream",
     "text": [
      "                        config.yml files.\n"
     ]
    },
    {
     "name": "stdout",
     "output_type": "stream",
     "text": [
      "  -w, --wait            Wait for the completion of the task, and retrieve job\n"
     ]
    },
    {
     "name": "stdout",
     "output_type": "stream",
     "text": [
      "                        results if needed after the completion of the task.\n"
     ]
    },
    {
     "name": "stdout",
     "output_type": "stream",
     "text": [
      "                        This option is only valid with the specification of\n"
     ]
    },
    {
     "name": "stdout",
     "output_type": "stream",
     "text": [
      "                        the -q option.\n"
     ]
    }
   ],
   "source": [
    "!sos execute -h"
   ]
  },
  {
   "cell_type": "markdown",
   "metadata": {
    "kernel": "SoS",
    "output_cache": "[]",
    "papermill": {
     "duration": 0.180262,
     "end_time": "2019-12-23T17:00:11.295660",
     "exception": false,
     "start_time": "2019-12-23T17:00:11.115398",
     "status": "completed"
    },
    "tags": []
   },
   "source": [
    "### subcommand `status`"
   ]
  },
  {
   "cell_type": "code",
   "execution_count": 6,
   "metadata": {
    "kernel": "SoS",
    "output_cache": "[{\"output_type\":\"stream\",\"text\":\"usage: sos status [-h] [-q QUEUE] [-c CONFIG] [-v {0,1,2,3,4}]\\n                  [tasks [tasks ...]]\\n\\nCheck the status of specified tasks\\n\\npositional arguments:\\n  tasks                 ID of the task. All tasks will be checked if\\n                        unspecified. There is no need to specify compelte task\\n                        IDs because SoS will match specified name with tasks\\n                        starting with these names.\\n\\noptional arguments:\\n  -h, --help            show this help message and exit\\n  -q QUEUE, --queue QUEUE\\n                        Check the status of job on specified tasks queue or\\n                        remote host if the tasks . The queue must be defined\\n                        in SoS config file. Please check SoS documentation for\\n                        details. Note that this parameter must be specified to\\n                        check the status of jobs if they are executed on that\\n                        host.\\n  -c CONFIG, --config CONFIG\\n                        A configuration file with host definitions, in case\\n                        the definitions are not defined in global or local sos\\n                        config.yml files.\\n  -v {0,1,2,3,4}        Output error (0), warning (1), info (2), debug (3) and\\n                        trace (4) information to standard output (default to\\n                        2).\\n\",\"name\":\"stdout\"}]",
    "papermill": {
     "duration": 2.487349,
     "end_time": "2019-12-23T17:00:13.968301",
     "exception": false,
     "start_time": "2019-12-23T17:00:11.480952",
     "status": "completed"
    },
    "tags": []
   },
   "outputs": [
    {
     "name": "stdout",
     "output_type": "stream",
     "text": [
      "usage: sos status [-h] [-q QUEUE] [-c CONFIG] [-a] [-v {0,1,2,3,4}]\n"
     ]
    },
    {
     "name": "stdout",
     "output_type": "stream",
     "text": [
      "                  [-t [TAGS [TAGS ...]]] [-s [STATUS [STATUS ...]]]\n"
     ]
    },
    {
     "name": "stdout",
     "output_type": "stream",
     "text": [
      "                  [--age AGE] [--html]\n"
     ]
    },
    {
     "name": "stdout",
     "output_type": "stream",
     "text": [
      "                  [tasks [tasks ...]]\n"
     ]
    },
    {
     "name": "stdout",
     "output_type": "stream",
     "text": [
      "\n"
     ]
    },
    {
     "name": "stdout",
     "output_type": "stream",
     "text": [
      "Check the status of specified tasks\n"
     ]
    },
    {
     "name": "stdout",
     "output_type": "stream",
     "text": [
      "\n"
     ]
    },
    {
     "name": "stdout",
     "output_type": "stream",
     "text": [
      "positional arguments:\n"
     ]
    },
    {
     "name": "stdout",
     "output_type": "stream",
     "text": [
      "  tasks                 ID of the task. All tasks that are releted to the\n"
     ]
    },
    {
     "name": "stdout",
     "output_type": "stream",
     "text": [
      "                        workflow executed under the current directory will be\n"
     ]
    },
    {
     "name": "stdout",
     "output_type": "stream",
     "text": [
      "                        checked if unspecified. There is no need to specify\n"
     ]
    },
    {
     "name": "stdout",
     "output_type": "stream",
     "text": [
      "                        compelete task IDs because SoS will match specified\n"
     ]
    },
    {
     "name": "stdout",
     "output_type": "stream",
     "text": [
      "                        name with tasks starting with these names.\n"
     ]
    },
    {
     "name": "stdout",
     "output_type": "stream",
     "text": [
      "\n"
     ]
    },
    {
     "name": "stdout",
     "output_type": "stream",
     "text": [
      "optional arguments:\n"
     ]
    },
    {
     "name": "stdout",
     "output_type": "stream",
     "text": [
      "  -h, --help            show this help message and exit\n"
     ]
    },
    {
     "name": "stdout",
     "output_type": "stream",
     "text": [
      "  -q QUEUE, --queue QUEUE\n"
     ]
    },
    {
     "name": "stdout",
     "output_type": "stream",
     "text": [
      "                        Check the status of job on specified tasks queue or\n"
     ]
    },
    {
     "name": "stdout",
     "output_type": "stream",
     "text": [
      "                        remote host if the tasks . The queue can be defined in\n"
     ]
    },
    {
     "name": "stdout",
     "output_type": "stream",
     "text": [
      "                        global or local sos configuration file, or a file\n"
     ]
    },
    {
     "name": "stdout",
     "output_type": "stream",
     "text": [
      "                        specified by option --config. A host is assumed to be\n"
     ]
    },
    {
     "name": "stdout",
     "output_type": "stream",
     "text": [
      "                        a remote machine with process type if no configuration\n"
     ]
    },
    {
     "name": "stdout",
     "output_type": "stream",
     "text": [
      "                        is found.\n"
     ]
    },
    {
     "name": "stdout",
     "output_type": "stream",
     "text": [
      "  -c CONFIG, --config CONFIG\n"
     ]
    },
    {
     "name": "stdout",
     "output_type": "stream",
     "text": [
      "                        A configuration file with host definitions, in case\n"
     ]
    },
    {
     "name": "stdout",
     "output_type": "stream",
     "text": [
      "                        the definitions are not defined in global sos\n"
     ]
    },
    {
     "name": "stdout",
     "output_type": "stream",
     "text": [
      "                        config.yml files.\n"
     ]
    },
    {
     "name": "stdout",
     "output_type": "stream",
     "text": [
      "  -a, --all             Check the status of all tasks on local or specified\n"
     ]
    },
    {
     "name": "stdout",
     "output_type": "stream",
     "text": [
      "                        remote task queue, including tasks created by\n"
     ]
    },
    {
     "name": "stdout",
     "output_type": "stream",
     "text": [
      "                        workflows executed from other directories.\n"
     ]
    },
    {
     "name": "stdout",
     "output_type": "stream",
     "text": [
      "  -v {0,1,2,3,4}        Output error (0), warning (1), info (2), debug (3) and\n"
     ]
    },
    {
     "name": "stdout",
     "output_type": "stream",
     "text": [
      "                        trace (4) information to standard output (default to\n"
     ]
    },
    {
     "name": "stdout",
     "output_type": "stream",
     "text": [
      "                        2).\n"
     ]
    },
    {
     "name": "stdout",
     "output_type": "stream",
     "text": [
      "  -t [TAGS [TAGS ...]], --tags [TAGS [TAGS ...]]\n"
     ]
    },
    {
     "name": "stdout",
     "output_type": "stream",
     "text": [
      "                        Only list tasks with one of the specified tags.\n"
     ]
    },
    {
     "name": "stdout",
     "output_type": "stream",
     "text": [
      "  -s [STATUS [STATUS ...]], --status [STATUS [STATUS ...]]\n"
     ]
    },
    {
     "name": "stdout",
     "output_type": "stream",
     "text": [
      "                        Display tasks with one of the specified status.\n"
     ]
    },
    {
     "name": "stdout",
     "output_type": "stream",
     "text": [
      "  --age AGE             Limit to tasks that are created more than (default) or\n"
     ]
    },
    {
     "name": "stdout",
     "output_type": "stream",
     "text": [
      "                        within specified age. Value of this parameter can be\n"
     ]
    },
    {
     "name": "stdout",
     "output_type": "stream",
     "text": [
      "                        in units s (second), m (minute), h (hour), or d (day,\n"
     ]
    },
    {
     "name": "stdout",
     "output_type": "stream",
     "text": [
      "                        default), or in the foramt of HH:MM:SS, with optional\n"
     ]
    },
    {
     "name": "stdout",
     "output_type": "stream",
     "text": [
      "                        prefix + for older (default) and - for newer than\n"
     ]
    },
    {
     "name": "stdout",
     "output_type": "stream",
     "text": [
      "                        specified age.\n"
     ]
    },
    {
     "name": "stdout",
     "output_type": "stream",
     "text": [
      "  --html                Output results in HTML format. This option will\n"
     ]
    },
    {
     "name": "stdout",
     "output_type": "stream",
     "text": [
      "                        override option verbosity and output detailed status\n"
     ]
    },
    {
     "name": "stdout",
     "output_type": "stream",
     "text": [
      "                        information in HTML tables and figures.\n"
     ]
    }
   ],
   "source": [
    "!sos status -h"
   ]
  },
  {
   "cell_type": "markdown",
   "metadata": {
    "kernel": "SoS",
    "output_cache": "[]",
    "papermill": {
     "duration": 0.206017,
     "end_time": "2019-12-23T17:00:14.340753",
     "exception": false,
     "start_time": "2019-12-23T17:00:14.134736",
     "status": "completed"
    },
    "tags": []
   },
   "source": [
    "### subcommand `kill`"
   ]
  },
  {
   "cell_type": "code",
   "execution_count": 7,
   "metadata": {
    "kernel": "SoS",
    "output_cache": "[]",
    "papermill": {
     "duration": 2.988964,
     "end_time": "2019-12-23T17:00:17.518465",
     "exception": false,
     "start_time": "2019-12-23T17:00:14.529501",
     "status": "completed"
    },
    "tags": []
   },
   "outputs": [
    {
     "name": "stdout",
     "output_type": "stream",
     "text": [
      "usage: sos kill [-h] [-a] [-q QUEUE] [-t [TAGS [TAGS ...]]] [-c CONFIG]\n"
     ]
    },
    {
     "name": "stdout",
     "output_type": "stream",
     "text": [
      "                [-v {0,1,2,3,4}]\n"
     ]
    },
    {
     "name": "stdout",
     "output_type": "stream",
     "text": [
      "                [tasks [tasks ...]]\n"
     ]
    },
    {
     "name": "stdout",
     "output_type": "stream",
     "text": [
      "\n"
     ]
    },
    {
     "name": "stdout",
     "output_type": "stream",
     "text": [
      "Stop the execution of running task\n"
     ]
    },
    {
     "name": "stdout",
     "output_type": "stream",
     "text": [
      "\n"
     ]
    },
    {
     "name": "stdout",
     "output_type": "stream",
     "text": [
      "positional arguments:\n"
     ]
    },
    {
     "name": "stdout",
     "output_type": "stream",
     "text": [
      "  tasks                 IDs of the tasks that will be killed. There is no need\n"
     ]
    },
    {
     "name": "stdout",
     "output_type": "stream",
     "text": [
      "                        to specify compelete task IDs because SoS will match\n"
     ]
    },
    {
     "name": "stdout",
     "output_type": "stream",
     "text": [
      "                        specified name with tasks starting with these names.\n"
     ]
    },
    {
     "name": "stdout",
     "output_type": "stream",
     "text": [
      "\n"
     ]
    },
    {
     "name": "stdout",
     "output_type": "stream",
     "text": [
      "optional arguments:\n"
     ]
    },
    {
     "name": "stdout",
     "output_type": "stream",
     "text": [
      "  -h, --help            show this help message and exit\n"
     ]
    },
    {
     "name": "stdout",
     "output_type": "stream",
     "text": [
      "  -a, --all             Kill all tasks in local or specified remote task queue\n"
     ]
    },
    {
     "name": "stdout",
     "output_type": "stream",
     "text": [
      "  -q QUEUE, --queue QUEUE\n"
     ]
    },
    {
     "name": "stdout",
     "output_type": "stream",
     "text": [
      "                        Kill jobs on specified tasks queue or remote host if\n"
     ]
    },
    {
     "name": "stdout",
     "output_type": "stream",
     "text": [
      "                        the tasks . The queue can be defined in global or\n"
     ]
    },
    {
     "name": "stdout",
     "output_type": "stream",
     "text": [
      "                        local sos configuration file, or a file specified by\n"
     ]
    },
    {
     "name": "stdout",
     "output_type": "stream",
     "text": [
      "                        option --config. A host is assumed to be a remote\n"
     ]
    },
    {
     "name": "stdout",
     "output_type": "stream",
     "text": [
      "                        machine with process type if no configuration is\n"
     ]
    },
    {
     "name": "stdout",
     "output_type": "stream",
     "text": [
      "                        found.\n"
     ]
    },
    {
     "name": "stdout",
     "output_type": "stream",
     "text": [
      "  -t [TAGS [TAGS ...]], --tags [TAGS [TAGS ...]]\n"
     ]
    },
    {
     "name": "stdout",
     "output_type": "stream",
     "text": [
      "                        Only kill tasks with one of the specified tags.\n"
     ]
    },
    {
     "name": "stdout",
     "output_type": "stream",
     "text": [
      "  -c CONFIG, --config CONFIG\n"
     ]
    },
    {
     "name": "stdout",
     "output_type": "stream",
     "text": [
      "                        A configuration file with host definitions, in case\n"
     ]
    },
    {
     "name": "stdout",
     "output_type": "stream",
     "text": [
      "                        the definitions are not defined in global sos\n"
     ]
    },
    {
     "name": "stdout",
     "output_type": "stream",
     "text": [
      "                        config.yml files.\n"
     ]
    },
    {
     "name": "stdout",
     "output_type": "stream",
     "text": [
      "  -v {0,1,2,3,4}, --verbosity {0,1,2,3,4}\n"
     ]
    },
    {
     "name": "stdout",
     "output_type": "stream",
     "text": [
      "                        Output error (0), warning (1), info (2) and debug (3)\n"
     ]
    },
    {
     "name": "stdout",
     "output_type": "stream",
     "text": [
      "                        information to standard output (default to 2). More\n"
     ]
    },
    {
     "name": "stdout",
     "output_type": "stream",
     "text": [
      "                        debug information could be generated by setting\n"
     ]
    },
    {
     "name": "stdout",
     "output_type": "stream",
     "text": [
      "                        environmental variable SOS_DEBUG to comma separated\n"
     ]
    },
    {
     "name": "stdout",
     "output_type": "stream",
     "text": [
      "                        topics of GENERAL, WORKER, CONTROLLER, STEP, VARIABLE,\n"
     ]
    },
    {
     "name": "stdout",
     "output_type": "stream",
     "text": [
      "                        EXECUTOR, TARGET, ZERONQ, TASK, DAG, and ACTION, or\n"
     ]
    },
    {
     "name": "stdout",
     "output_type": "stream",
     "text": [
      "                        ALL for all debug information\n"
     ]
    }
   ],
   "source": [
    "!sos kill -h"
   ]
  },
  {
   "cell_type": "markdown",
   "metadata": {
    "kernel": "SoS",
    "papermill": {
     "duration": 0.180897,
     "end_time": "2019-12-23T17:00:17.902525",
     "exception": false,
     "start_time": "2019-12-23T17:00:17.721628",
     "status": "completed"
    },
    "tags": []
   },
   "source": [
    "### subcommand `purge`"
   ]
  },
  {
   "cell_type": "code",
   "execution_count": 8,
   "metadata": {
    "kernel": "SoS",
    "papermill": {
     "duration": 3.517674,
     "end_time": "2019-12-23T17:00:21.591804",
     "exception": false,
     "start_time": "2019-12-23T17:00:18.074130",
     "status": "completed"
    },
    "tags": []
   },
   "outputs": [
    {
     "name": "stdout",
     "output_type": "stream",
     "text": [
      "usage: sos purge [-h] [-a] [--age AGE] [-s STATUS [STATUS ...]]\n"
     ]
    },
    {
     "name": "stdout",
     "output_type": "stream",
     "text": [
      "                 [-t [TAGS [TAGS ...]]] [-q QUEUE] [-c CONFIG]\n"
     ]
    },
    {
     "name": "stdout",
     "output_type": "stream",
     "text": [
      "                 [-v {0,1,2,3,4}]\n"
     ]
    },
    {
     "name": "stdout",
     "output_type": "stream",
     "text": [
      "                 [tasks [tasks ...]]\n"
     ]
    },
    {
     "name": "stdout",
     "output_type": "stream",
     "text": [
      "\n"
     ]
    },
    {
     "name": "stdout",
     "output_type": "stream",
     "text": [
      "Remove local or remote tasks\n"
     ]
    },
    {
     "name": "stdout",
     "output_type": "stream",
     "text": [
      "\n"
     ]
    },
    {
     "name": "stdout",
     "output_type": "stream",
     "text": [
      "positional arguments:\n"
     ]
    },
    {
     "name": "stdout",
     "output_type": "stream",
     "text": [
      "  tasks                 ID of the tasks to be removed. There is no need to\n"
     ]
    },
    {
     "name": "stdout",
     "output_type": "stream",
     "text": [
      "                        specify compelete task IDs because SoS will match\n"
     ]
    },
    {
     "name": "stdout",
     "output_type": "stream",
     "text": [
      "                        specified name with tasks starting with these names.\n"
     ]
    },
    {
     "name": "stdout",
     "output_type": "stream",
     "text": [
      "                        If no task ID is specified, all tasks related to\n"
     ]
    },
    {
     "name": "stdout",
     "output_type": "stream",
     "text": [
      "                        specified workflows (option -w) will be removed.\n"
     ]
    },
    {
     "name": "stdout",
     "output_type": "stream",
     "text": [
      "\n"
     ]
    },
    {
     "name": "stdout",
     "output_type": "stream",
     "text": [
      "optional arguments:\n"
     ]
    },
    {
     "name": "stdout",
     "output_type": "stream",
     "text": [
      "  -h, --help            show this help message and exit\n"
     ]
    },
    {
     "name": "stdout",
     "output_type": "stream",
     "text": [
      "  -a, --all             Clear all task information on local or specified\n"
     ]
    },
    {
     "name": "stdout",
     "output_type": "stream",
     "text": [
      "                        remote task queue, including tasks created by other\n"
     ]
    },
    {
     "name": "stdout",
     "output_type": "stream",
     "text": [
      "                        workflows.\n"
     ]
    },
    {
     "name": "stdout",
     "output_type": "stream",
     "text": [
      "  --age AGE             Limit to tasks that are created more than (default) or\n"
     ]
    },
    {
     "name": "stdout",
     "output_type": "stream",
     "text": [
      "                        within specified age. Value of this parameter can be\n"
     ]
    },
    {
     "name": "stdout",
     "output_type": "stream",
     "text": [
      "                        in units s (second), m (minute), h (hour), or d (day,\n"
     ]
    },
    {
     "name": "stdout",
     "output_type": "stream",
     "text": [
      "                        default), or in the foramt of HH:MM:SS, with optional\n"
     ]
    },
    {
     "name": "stdout",
     "output_type": "stream",
     "text": [
      "                        prefix + for older (default) and - for newer than\n"
     ]
    },
    {
     "name": "stdout",
     "output_type": "stream",
     "text": [
      "                        specified age.\n"
     ]
    },
    {
     "name": "stdout",
     "output_type": "stream",
     "text": [
      "  -s STATUS [STATUS ...], --status STATUS [STATUS ...]\n"
     ]
    },
    {
     "name": "stdout",
     "output_type": "stream",
     "text": [
      "                        Only remove tasks with specified status, which can be\n"
     ]
    },
    {
     "name": "stdout",
     "output_type": "stream",
     "text": [
      "                        pending, submitted, running, completed, failed, and\n"
     ]
    },
    {
     "name": "stdout",
     "output_type": "stream",
     "text": [
      "                        aborted. One of more status can be specified.\n"
     ]
    },
    {
     "name": "stdout",
     "output_type": "stream",
     "text": [
      "  -t [TAGS [TAGS ...]], --tags [TAGS [TAGS ...]]\n"
     ]
    },
    {
     "name": "stdout",
     "output_type": "stream",
     "text": [
      "                        Only remove tasks with one of the specified tags.\n"
     ]
    },
    {
     "name": "stdout",
     "output_type": "stream",
     "text": [
      "  -q QUEUE, --queue QUEUE\n"
     ]
    },
    {
     "name": "stdout",
     "output_type": "stream",
     "text": [
      "                        Remove tasks on specified tasks queue or remote host\n"
     ]
    },
    {
     "name": "stdout",
     "output_type": "stream",
     "text": [
      "                        if the tasks . The queue can be defined in global or\n"
     ]
    },
    {
     "name": "stdout",
     "output_type": "stream",
     "text": [
      "                        local sos configuration file, or a file specified by\n"
     ]
    },
    {
     "name": "stdout",
     "output_type": "stream",
     "text": [
      "                        option --config. A host is assumed to be a remote\n"
     ]
    },
    {
     "name": "stdout",
     "output_type": "stream",
     "text": [
      "                        machine with process type if no configuration is\n"
     ]
    },
    {
     "name": "stdout",
     "output_type": "stream",
     "text": [
      "                        found.\n"
     ]
    },
    {
     "name": "stdout",
     "output_type": "stream",
     "text": [
      "  -c CONFIG, --config CONFIG\n"
     ]
    },
    {
     "name": "stdout",
     "output_type": "stream",
     "text": [
      "                        A configuration file with host definitions, in case\n"
     ]
    },
    {
     "name": "stdout",
     "output_type": "stream",
     "text": [
      "                        the definitions are not defined in global sos\n"
     ]
    },
    {
     "name": "stdout",
     "output_type": "stream",
     "text": [
      "                        config.yml files.\n"
     ]
    },
    {
     "name": "stdout",
     "output_type": "stream",
     "text": [
      "  -v {0,1,2,3,4}        Output error (0), warning (1), info (2), debug (3) and\n"
     ]
    },
    {
     "name": "stdout",
     "output_type": "stream",
     "text": [
      "                        trace (4) information to standard output (default to\n"
     ]
    },
    {
     "name": "stdout",
     "output_type": "stream",
     "text": [
      "                        2).\n"
     ]
    }
   ],
   "source": [
    "!sos purge -h"
   ]
  },
  {
   "cell_type": "markdown",
   "metadata": {
    "kernel": "sos",
    "papermill": {
     "duration": 0.198855,
     "end_time": "2019-12-23T17:00:21.995584",
     "exception": false,
     "start_time": "2019-12-23T17:00:21.796729",
     "status": "completed"
    },
    "tags": []
   },
   "source": [
    "## Project Management"
   ]
  },
  {
   "cell_type": "markdown",
   "metadata": {
    "kernel": "SoS",
    "papermill": {
     "duration": 0.217815,
     "end_time": "2019-12-23T17:00:22.410221",
     "exception": false,
     "start_time": "2019-12-23T17:00:22.192406",
     "status": "completed"
    },
    "tags": []
   },
   "source": [
    "### subcommand `convert`"
   ]
  },
  {
   "cell_type": "code",
   "execution_count": 9,
   "metadata": {
    "kernel": "SoS",
    "papermill": {
     "duration": 3.214829,
     "end_time": "2019-12-23T17:00:25.850114",
     "exception": false,
     "start_time": "2019-12-23T17:00:22.635285",
     "status": "completed"
    },
    "tags": []
   },
   "outputs": [
    {
     "name": "stdout",
     "output_type": "stream",
     "text": [
      "usage: sos convert [-h] [-v {0,1,2,3,4}]\n"
     ]
    },
    {
     "name": "stdout",
     "output_type": "stream",
     "text": [
      "                   {sos-ipynb,ipynb-sos,ipynb-html,ipynb-pdf,ipynb-md,ipynb-ipynb,rmd-ipynb,rmd-html,sos-html}\n"
     ]
    },
    {
     "name": "stdout",
     "output_type": "stream",
     "text": [
      "                   ...\n"
     ]
    },
    {
     "name": "stdout",
     "output_type": "stream",
     "text": [
      "\n"
     ]
    },
    {
     "name": "stdout",
     "output_type": "stream",
     "text": [
      "Converts .sos to various formats including .html for web display, to jupyter\n"
     ]
    },
    {
     "name": "stdout",
     "output_type": "stream",
     "text": [
      "notebook (.ipynb), and to terminal for syntax highlighted viewing on terminal.\n"
     ]
    },
    {
     "name": "stdout",
     "output_type": "stream",
     "text": [
      "It also allows converting from jupyter notebook (.ipynb) to sos script (.sos).\n"
     ]
    },
    {
     "name": "stdout",
     "output_type": "stream",
     "text": [
      "\n"
     ]
    },
    {
     "name": "stdout",
     "output_type": "stream",
     "text": [
      "optional arguments:\n"
     ]
    },
    {
     "name": "stdout",
     "output_type": "stream",
     "text": [
      "  -h, --help            show this help message and exit\n"
     ]
    },
    {
     "name": "stdout",
     "output_type": "stream",
     "text": [
      "  -v {0,1,2,3,4}, --verbosity {0,1,2,3,4}\n"
     ]
    },
    {
     "name": "stdout",
     "output_type": "stream",
     "text": [
      "                        Output error (0), warning (1), info (2) and debug (3)\n"
     ]
    },
    {
     "name": "stdout",
     "output_type": "stream",
     "text": [
      "                        information to standard output (default to 2). More\n"
     ]
    },
    {
     "name": "stdout",
     "output_type": "stream",
     "text": [
      "                        debug information could be generated by setting\n"
     ]
    },
    {
     "name": "stdout",
     "output_type": "stream",
     "text": [
      "                        environmental variable SOS_DEBUG to comma separated\n"
     ]
    },
    {
     "name": "stdout",
     "output_type": "stream",
     "text": [
      "                        topics of GENERAL, WORKER, CONTROLLER, STEP, VARIABLE,\n"
     ]
    },
    {
     "name": "stdout",
     "output_type": "stream",
     "text": [
      "                        EXECUTOR, TARGET, ZERONQ, TASK, DAG, and ACTION, or\n"
     ]
    },
    {
     "name": "stdout",
     "output_type": "stream",
     "text": [
      "                        ALL for all debug information\n"
     ]
    },
    {
     "name": "stdout",
     "output_type": "stream",
     "text": [
      "\n"
     ]
    },
    {
     "name": "stdout",
     "output_type": "stream",
     "text": [
      "converters (name of converter is not needed from command line):\n"
     ]
    },
    {
     "name": "stdout",
     "output_type": "stream",
     "text": [
      "  {sos-ipynb,ipynb-sos,ipynb-html,ipynb-pdf,ipynb-md,ipynb-ipynb,rmd-ipynb,rmd-html,sos-html}\n"
     ]
    },
    {
     "name": "stdout",
     "output_type": "stream",
     "text": [
      "    sos-ipynb           Convert a sos script to Jupyter notebook (.ipynb) so\n"
     ]
    },
    {
     "name": "stdout",
     "output_type": "stream",
     "text": [
      "                        that it can be opened by Jupyter notebook.\n"
     ]
    },
    {
     "name": "stdout",
     "output_type": "stream",
     "text": [
      "    ipynb-sos           Export Jupyter notebook with a SoS kernel to a .sos\n"
     ]
    },
    {
     "name": "stdout",
     "output_type": "stream",
     "text": [
      "                        file. The cells are presented in the .sos file as cell\n"
     ]
    },
    {
     "name": "stdout",
     "output_type": "stream",
     "text": [
      "                        structure lines, which will be ignored if executed in\n"
     ]
    },
    {
     "name": "stdout",
     "output_type": "stream",
     "text": [
      "                        batch mode\n"
     ]
    },
    {
     "name": "stdout",
     "output_type": "stream",
     "text": [
      "    ipynb-html          Export Jupyter notebook with a SoS kernel to a .html\n"
     ]
    },
    {
     "name": "stdout",
     "output_type": "stream",
     "text": [
      "                        file. Additional command line arguments are passed\n"
     ]
    },
    {
     "name": "stdout",
     "output_type": "stream",
     "text": [
      "                        directly to command \"jupyter nbconvert --to html\" so\n"
     ]
    },
    {
     "name": "stdout",
     "output_type": "stream",
     "text": [
      "                        please refer to nbconvert manual for available\n"
     ]
    },
    {
     "name": "stdout",
     "output_type": "stream",
     "text": [
      "                        options.\n"
     ]
    },
    {
     "name": "stdout",
     "output_type": "stream",
     "text": [
      "    ipynb-pdf           Export Jupyter notebook with a SoS kernel to a .pdf\n"
     ]
    },
    {
     "name": "stdout",
     "output_type": "stream",
     "text": [
      "                        file. Additional command line arguments are passed\n"
     ]
    },
    {
     "name": "stdout",
     "output_type": "stream",
     "text": [
      "                        directly to command \"jupyter nbconvert --to pdf\" so\n"
     ]
    },
    {
     "name": "stdout",
     "output_type": "stream",
     "text": [
      "                        please refer to nbconvert manual for available\n"
     ]
    },
    {
     "name": "stdout",
     "output_type": "stream",
     "text": [
      "                        options.\n"
     ]
    },
    {
     "name": "stdout",
     "output_type": "stream",
     "text": [
      "    ipynb-md            Export Jupyter notebook with a SoS kernel to a\n"
     ]
    },
    {
     "name": "stdout",
     "output_type": "stream",
     "text": [
      "                        markdown file. Additional command line arguments are\n"
     ]
    },
    {
     "name": "stdout",
     "output_type": "stream",
     "text": [
      "                        passed directly to command \"jupyter nbconvert --to\n"
     ]
    },
    {
     "name": "stdout",
     "output_type": "stream",
     "text": [
      "                        markdown\" so please refer to nbconvert manual for\n"
     ]
    },
    {
     "name": "stdout",
     "output_type": "stream",
     "text": [
      "                        available options.\n"
     ]
    },
    {
     "name": "stdout",
     "output_type": "stream",
     "text": [
      "    ipynb-ipynb         Export a Jupyter notebook with a non-SoS kernel to a\n"
     ]
    },
    {
     "name": "stdout",
     "output_type": "stream",
     "text": [
      "                        SoS notebook with SoS kernel, or from a SoS notebook\n"
     ]
    },
    {
     "name": "stdout",
     "output_type": "stream",
     "text": [
      "                        to a regular notebook with specified kernel, or\n"
     ]
    },
    {
     "name": "stdout",
     "output_type": "stream",
     "text": [
      "                        execute a SoS notebook.\n"
     ]
    },
    {
     "name": "stdout",
     "output_type": "stream",
     "text": [
      "    rmd-ipynb           Export a Rmarkdown file kernel to a SoS notebook. It\n"
     ]
    },
    {
     "name": "stdout",
     "output_type": "stream",
     "text": [
      "                        currently only handles code block and Markdown, and\n"
     ]
    },
    {
     "name": "stdout",
     "output_type": "stream",
     "text": [
      "                        not inline expression.\n"
     ]
    },
    {
     "name": "stdout",
     "output_type": "stream",
     "text": [
      "    rmd-html            Export a Rmarkdown file kernel to a SoS report. It\n"
     ]
    },
    {
     "name": "stdout",
     "output_type": "stream",
     "text": [
      "                        currently only handles code block and Markdown, and\n"
     ]
    },
    {
     "name": "stdout",
     "output_type": "stream",
     "text": [
      "                        not inline expression.\n"
     ]
    },
    {
     "name": "stdout",
     "output_type": "stream",
     "text": [
      "    sos-html            Convert sos file to html format with syntax\n"
     ]
    },
    {
     "name": "stdout",
     "output_type": "stream",
     "text": [
      "                        highlighting, and save the output either to a HTML\n"
     ]
    },
    {
     "name": "stdout",
     "output_type": "stream",
     "text": [
      "                        file or view it in a broaser.\n"
     ]
    },
    {
     "name": "stdout",
     "output_type": "stream",
     "text": [
      "\n"
     ]
    },
    {
     "name": "stdout",
     "output_type": "stream",
     "text": [
      "Extra command line argument could be specified to customize the style of html,\n"
     ]
    },
    {
     "name": "stdout",
     "output_type": "stream",
     "text": [
      "markdown, and terminal output.\n"
     ]
    }
   ],
   "source": [
    "!sos convert -h"
   ]
  },
  {
   "cell_type": "markdown",
   "metadata": {
    "kernel": "SoS",
    "papermill": {
     "duration": 0.271422,
     "end_time": "2019-12-23T17:00:26.338435",
     "exception": false,
     "start_time": "2019-12-23T17:00:26.067013",
     "status": "completed"
    },
    "tags": []
   },
   "source": [
    "Please refer to the [File Conversion](../tutorials/File_Conversion.html) tutorial for more details about this command."
   ]
  },
  {
   "cell_type": "markdown",
   "metadata": {
    "kernel": "SoS",
    "papermill": {
     "duration": 0.233996,
     "end_time": "2019-12-23T17:00:26.835200",
     "exception": false,
     "start_time": "2019-12-23T17:00:26.601204",
     "status": "completed"
    },
    "tags": []
   },
   "source": [
    "### subcommand `config`"
   ]
  },
  {
   "cell_type": "code",
   "execution_count": 10,
   "metadata": {
    "kernel": "SoS",
    "papermill": {
     "duration": 2.334528,
     "end_time": "2019-12-23T17:00:29.396634",
     "exception": false,
     "start_time": "2019-12-23T17:00:27.062106",
     "status": "completed"
    },
    "tags": []
   },
   "outputs": [
    {
     "name": "stdout",
     "output_type": "stream",
     "text": [
      "usage: sos config [-h] [-s | --hosts | -c CONFIG_FILE]\n"
     ]
    },
    {
     "name": "stdout",
     "output_type": "stream",
     "text": [
      "                  [--get [OPTION [OPTION ...]] | --unset OPTION [OPTION ...] |\n"
     ]
    },
    {
     "name": "stdout",
     "output_type": "stream",
     "text": [
      "                  --set KEY VALUE [KEY VALUE ...]] [-v {0,1,2,3,4}]\n"
     ]
    },
    {
     "name": "stdout",
     "output_type": "stream",
     "text": [
      "\n"
     ]
    },
    {
     "name": "stdout",
     "output_type": "stream",
     "text": [
      "Displays configurations in host, global, local, and user specified\n"
     ]
    },
    {
     "name": "stdout",
     "output_type": "stream",
     "text": [
      "configuration files.\n"
     ]
    },
    {
     "name": "stdout",
     "output_type": "stream",
     "text": [
      "\n"
     ]
    },
    {
     "name": "stdout",
     "output_type": "stream",
     "text": [
      "optional arguments:\n"
     ]
    },
    {
     "name": "stdout",
     "output_type": "stream",
     "text": [
      "  -h, --help            show this help message and exit\n"
     ]
    },
    {
     "name": "stdout",
     "output_type": "stream",
     "text": [
      "  -s, --site            Set (--set) or unset (--unset) options in system site\n"
     ]
    },
    {
     "name": "stdout",
     "output_type": "stream",
     "text": [
      "                        configuration file (${SOS}/site_config.yml).\n"
     ]
    },
    {
     "name": "stdout",
     "output_type": "stream",
     "text": [
      "  --hosts               Set (--set) or unset (--unset) options in hosts\n"
     ]
    },
    {
     "name": "stdout",
     "output_type": "stream",
     "text": [
      "                        (~/.sos/hosts.yml)\n"
     ]
    },
    {
     "name": "stdout",
     "output_type": "stream",
     "text": [
      "  -c CONFIG_FILE, --config CONFIG_FILE\n"
     ]
    },
    {
     "name": "stdout",
     "output_type": "stream",
     "text": [
      "                        Set (--set) or unset (--unset) options in user\n"
     ]
    },
    {
     "name": "stdout",
     "output_type": "stream",
     "text": [
      "                        specified configuration file, or display options\n"
     ]
    },
    {
     "name": "stdout",
     "output_type": "stream",
     "text": [
      "                        (--get) also in this file.\n"
     ]
    },
    {
     "name": "stdout",
     "output_type": "stream",
     "text": [
      "  --get [OPTION [OPTION ...]]\n"
     ]
    },
    {
     "name": "stdout",
     "output_type": "stream",
     "text": [
      "                        Display values of options that contain one of the\n"
     ]
    },
    {
     "name": "stdout",
     "output_type": "stream",
     "text": [
      "                        specified words from all configuration files.\n"
     ]
    },
    {
     "name": "stdout",
     "output_type": "stream",
     "text": [
      "  --unset OPTION [OPTION ...]\n"
     ]
    },
    {
     "name": "stdout",
     "output_type": "stream",
     "text": [
      "                        Unset (remove) settings for specified options. The\n"
     ]
    },
    {
     "name": "stdout",
     "output_type": "stream",
     "text": [
      "                        arguments of this option can be a single configuration\n"
     ]
    },
    {
     "name": "stdout",
     "output_type": "stream",
     "text": [
      "                        option or a list of option. Wildcard characters are\n"
     ]
    },
    {
     "name": "stdout",
     "output_type": "stream",
     "text": [
      "                        allowed to match more options (e.g. '*timeout', or '*'\n"
     ]
    },
    {
     "name": "stdout",
     "output_type": "stream",
     "text": [
      "                        for all options, quotation is needed to avoid shell\n"
     ]
    },
    {
     "name": "stdout",
     "output_type": "stream",
     "text": [
      "                        expansion).\n"
     ]
    },
    {
     "name": "stdout",
     "output_type": "stream",
     "text": [
      "  --set KEY VALUE [KEY VALUE ...]\n"
     ]
    },
    {
     "name": "stdout",
     "output_type": "stream",
     "text": [
      "                        --set KEY VALUE sets VALUE to variable KEY. The value\n"
     ]
    },
    {
     "name": "stdout",
     "output_type": "stream",
     "text": [
      "                        can be any valid python expression (e.g. 5 for integer\n"
     ]
    },
    {
     "name": "stdout",
     "output_type": "stream",
     "text": [
      "                        5 and '{\"c\": 2, \"d\": 1}' for a dictionary) with\n"
     ]
    },
    {
     "name": "stdout",
     "output_type": "stream",
     "text": [
      "                        invalid expression (e.g. val without quote) considered\n"
     ]
    },
    {
     "name": "stdout",
     "output_type": "stream",
     "text": [
      "                        as string. Syntax 'A.B=v' can be used to add {'B': v}\n"
     ]
    },
    {
     "name": "stdout",
     "output_type": "stream",
     "text": [
      "                        to dictionary 'A', and --set KEY VALUE1 VALUE2 ...\n"
     ]
    },
    {
     "name": "stdout",
     "output_type": "stream",
     "text": [
      "                        will create a list with multiple values.\n"
     ]
    },
    {
     "name": "stdout",
     "output_type": "stream",
     "text": [
      "  -v {0,1,2,3,4}, --verbosity {0,1,2,3,4}\n"
     ]
    },
    {
     "name": "stdout",
     "output_type": "stream",
     "text": [
      "                        Output error (0), warning (1), info (2) and debug (3)\n"
     ]
    },
    {
     "name": "stdout",
     "output_type": "stream",
     "text": [
      "                        information to standard output (default to 2). More\n"
     ]
    },
    {
     "name": "stdout",
     "output_type": "stream",
     "text": [
      "                        debug information could be generated by setting\n"
     ]
    },
    {
     "name": "stdout",
     "output_type": "stream",
     "text": [
      "                        environmental variable SOS_DEBUG to comma separated\n"
     ]
    },
    {
     "name": "stdout",
     "output_type": "stream",
     "text": [
      "                        topics of GENERAL, WORKER, CONTROLLER, STEP, VARIABLE,\n"
     ]
    },
    {
     "name": "stdout",
     "output_type": "stream",
     "text": [
      "                        EXECUTOR, TARGET, ZERONQ, TASK, DAG, and ACTION, or\n"
     ]
    },
    {
     "name": "stdout",
     "output_type": "stream",
     "text": [
      "                        ALL for all debug information\n"
     ]
    }
   ],
   "source": [
    "!sos config -h"
   ]
  },
  {
   "cell_type": "markdown",
   "metadata": {
    "kernel": "SoS",
    "papermill": {
     "duration": 0.23913,
     "end_time": "2019-12-23T17:00:29.860793",
     "exception": false,
     "start_time": "2019-12-23T17:00:29.621663",
     "status": "completed"
    },
    "tags": []
   },
   "source": [
    "Please refer to section [SoS Syntax](SoS_Syntax.html) for details about this command."
   ]
  },
  {
   "cell_type": "markdown",
   "metadata": {
    "kernel": "SoS",
    "papermill": {
     "duration": 0.317434,
     "end_time": "2019-12-23T17:00:30.431382",
     "exception": false,
     "start_time": "2019-12-23T17:00:30.113948",
     "status": "completed"
    },
    "tags": []
   },
   "source": [
    "### subcommand `remove`"
   ]
  },
  {
   "cell_type": "code",
   "execution_count": 11,
   "metadata": {
    "kernel": "SoS",
    "papermill": {
     "duration": 3.928921,
     "end_time": "2019-12-23T17:00:34.734728",
     "exception": false,
     "start_time": "2019-12-23T17:00:30.805807",
     "status": "completed"
    },
    "tags": []
   },
   "outputs": [
    {
     "name": "stdout",
     "output_type": "stream",
     "text": [
      "usage: sos remove [-h] [-t | -u | -s | -z | -p] [-e] [--size SIZE] [--age AGE]\n"
     ]
    },
    {
     "name": "stdout",
     "output_type": "stream",
     "text": [
      "                  [-n] [-y] [-v {0,1,2,3,4}]\n"
     ]
    },
    {
     "name": "stdout",
     "output_type": "stream",
     "text": [
      "                  [FILE_OR_DIR [FILE_OR_DIR ...]]\n"
     ]
    },
    {
     "name": "stdout",
     "output_type": "stream",
     "text": [
      "\n"
     ]
    },
    {
     "name": "stdout",
     "output_type": "stream",
     "text": [
      "Remove specified files and/or their signatures\n"
     ]
    },
    {
     "name": "stdout",
     "output_type": "stream",
     "text": [
      "\n"
     ]
    },
    {
     "name": "stdout",
     "output_type": "stream",
     "text": [
      "positional arguments:\n"
     ]
    },
    {
     "name": "stdout",
     "output_type": "stream",
     "text": [
      "  FILE_OR_DIR           Files and directories to be removed. Directories will\n"
     ]
    },
    {
     "name": "stdout",
     "output_type": "stream",
     "text": [
      "                        be scanned for files to removed but no directory will\n"
     ]
    },
    {
     "name": "stdout",
     "output_type": "stream",
     "text": [
      "                        be removed.\n"
     ]
    },
    {
     "name": "stdout",
     "output_type": "stream",
     "text": [
      "\n"
     ]
    },
    {
     "name": "stdout",
     "output_type": "stream",
     "text": [
      "optional arguments:\n"
     ]
    },
    {
     "name": "stdout",
     "output_type": "stream",
     "text": [
      "  -h, --help            show this help message and exit\n"
     ]
    },
    {
     "name": "stdout",
     "output_type": "stream",
     "text": [
      "  -t, --tracked         Limit files to only files tracked by SoS, namely files\n"
     ]
    },
    {
     "name": "stdout",
     "output_type": "stream",
     "text": [
      "                        that are input, output, or dependent files of steps.\n"
     ]
    },
    {
     "name": "stdout",
     "output_type": "stream",
     "text": [
      "  -u, --untracked       Limit files to untracked files, namely files that are\n"
     ]
    },
    {
     "name": "stdout",
     "output_type": "stream",
     "text": [
      "                        not tracked by SoS steps.\n"
     ]
    },
    {
     "name": "stdout",
     "output_type": "stream",
     "text": [
      "  -s, --signature       Remove signatures of specified files (not files\n"
     ]
    },
    {
     "name": "stdout",
     "output_type": "stream",
     "text": [
      "                        themselves). As a special case, all local signatures\n"
     ]
    },
    {
     "name": "stdout",
     "output_type": "stream",
     "text": [
      "                        will be removed if this option is specified without\n"
     ]
    },
    {
     "name": "stdout",
     "output_type": "stream",
     "text": [
      "                        target.\n"
     ]
    },
    {
     "name": "stdout",
     "output_type": "stream",
     "text": [
      "  -z, --zap             Replace files with their signatures. The file will not\n"
     ]
    },
    {
     "name": "stdout",
     "output_type": "stream",
     "text": [
      "                        be regenerated by SoS unless is it actually needed by\n"
     ]
    },
    {
     "name": "stdout",
     "output_type": "stream",
     "text": [
      "                        other steps. This option is usually used to remove\n"
     ]
    },
    {
     "name": "stdout",
     "output_type": "stream",
     "text": [
      "                        large intermediate files from completed workflows\n"
     ]
    },
    {
     "name": "stdout",
     "output_type": "stream",
     "text": [
      "                        while allowing relevant steps to be skipped during re-\n"
     ]
    },
    {
     "name": "stdout",
     "output_type": "stream",
     "text": [
      "                        execution of the workflow.\n"
     ]
    },
    {
     "name": "stdout",
     "output_type": "stream",
     "text": [
      "  -p, --placeholders    Remove placeholder files that might have been left\n"
     ]
    },
    {
     "name": "stdout",
     "output_type": "stream",
     "text": [
      "                        uncleaned after an interrupted dryrun.\n"
     ]
    },
    {
     "name": "stdout",
     "output_type": "stream",
     "text": [
      "  -e, --external        By default the remove command will only remove files\n"
     ]
    },
    {
     "name": "stdout",
     "output_type": "stream",
     "text": [
      "                        and signatures under the current project directory.\n"
     ]
    },
    {
     "name": "stdout",
     "output_type": "stream",
     "text": [
      "                        This option allows sos to remove files and/or\n"
     ]
    },
    {
     "name": "stdout",
     "output_type": "stream",
     "text": [
      "                        signature of external files.\n"
     ]
    },
    {
     "name": "stdout",
     "output_type": "stream",
     "text": [
      "  --size SIZE           Limit to files that exceed or smaller than specified\n"
     ]
    },
    {
     "name": "stdout",
     "output_type": "stream",
     "text": [
      "                        size. Value of option should be in unit K, M, KB, MB,\n"
     ]
    },
    {
     "name": "stdout",
     "output_type": "stream",
     "text": [
      "                        MiB, GB, etc, with optional prefix + for larger than\n"
     ]
    },
    {
     "name": "stdout",
     "output_type": "stream",
     "text": [
      "                        (default), or - for smaller than specified size.\n"
     ]
    },
    {
     "name": "stdout",
     "output_type": "stream",
     "text": [
      "  --age AGE             Limit to files that are modified more than (default)\n"
     ]
    },
    {
     "name": "stdout",
     "output_type": "stream",
     "text": [
      "                        or within specified age. Value of this parameter can\n"
     ]
    },
    {
     "name": "stdout",
     "output_type": "stream",
     "text": [
      "                        be in units s (second), m (minute), h (hour), or d\n"
     ]
    },
    {
     "name": "stdout",
     "output_type": "stream",
     "text": [
      "                        (day, default), or in the foramt of HH:MM:SS, with\n"
     ]
    },
    {
     "name": "stdout",
     "output_type": "stream",
     "text": [
      "                        optional prefix + for older (default) and - for newer\n"
     ]
    },
    {
     "name": "stdout",
     "output_type": "stream",
     "text": [
      "                        than specified age.\n"
     ]
    },
    {
     "name": "stdout",
     "output_type": "stream",
     "text": [
      "  -n, --dryrun          List files or directories to be removed, without\n"
     ]
    },
    {
     "name": "stdout",
     "output_type": "stream",
     "text": [
      "                        actually removing them.\n"
     ]
    },
    {
     "name": "stdout",
     "output_type": "stream",
     "text": [
      "  -y, --yes             Remove files without confirmation, suitable for batch\n"
     ]
    },
    {
     "name": "stdout",
     "output_type": "stream",
     "text": [
      "                        removal of files.\n"
     ]
    },
    {
     "name": "stdout",
     "output_type": "stream",
     "text": [
      "  -v {0,1,2,3,4}, --verbosity {0,1,2,3,4}\n"
     ]
    },
    {
     "name": "stdout",
     "output_type": "stream",
     "text": [
      "                        Output error (0), warning (1), info (2) and debug (3)\n"
     ]
    },
    {
     "name": "stdout",
     "output_type": "stream",
     "text": [
      "                        information to standard output (default to 2). More\n"
     ]
    },
    {
     "name": "stdout",
     "output_type": "stream",
     "text": [
      "                        debug information could be generated by setting\n"
     ]
    },
    {
     "name": "stdout",
     "output_type": "stream",
     "text": [
      "                        environmental variable SOS_DEBUG to comma separated\n"
     ]
    },
    {
     "name": "stdout",
     "output_type": "stream",
     "text": [
      "                        topics of GENERAL, WORKER, CONTROLLER, STEP, VARIABLE,\n"
     ]
    },
    {
     "name": "stdout",
     "output_type": "stream",
     "text": [
      "                        EXECUTOR, TARGET, ZERONQ, TASK, DAG, and ACTION, or\n"
     ]
    },
    {
     "name": "stdout",
     "output_type": "stream",
     "text": [
      "                        ALL for all debug information\n"
     ]
    }
   ],
   "source": [
    "!sos remove -h"
   ]
  },
  {
   "cell_type": "markdown",
   "metadata": {
    "kernel": "SoS",
    "papermill": {
     "duration": 0.270392,
     "end_time": "2019-12-23T17:00:35.321044",
     "exception": false,
     "start_time": "2019-12-23T17:00:35.050652",
     "status": "completed"
    },
    "tags": []
   },
   "source": [
    "Please refer to the tutorial on [Project Management](../tutorials/Project_Management.html) for details about this command."
   ]
  }
 ],
 "metadata": {
  "anaconda-cloud": {},
  "kernelspec": {
   "display_name": "SoS",
   "language": "sos",
   "name": "sos"
  },
  "language_info": {
   "codemirror_mode": "sos",
   "file_extension": ".sos",
   "mimetype": "text/x-sos",
   "name": "sos",
   "nbconvert_exporter": "sos_notebook.converter.SoS_Exporter",
   "pygments_lexer": "sos"
  },
  "papermill": {
   "duration": 46.797118,
   "end_time": "2019-12-23T17:00:40.797221",
   "environment_variables": {},
   "exception": null,
   "input_path": "/Users/bpeng1/sos/sos-docs/src/user_guide/cli.ipynb",
   "output_path": "cli.ipynb_rerun.ipynb",
   "parameters": {},
   "start_time": "2019-12-23T16:59:54.000103",
   "version": "1.1.0"
  },
  "sos": {
   "celltoolbar": true,
   "default_kernel": "SoS",
   "kernels": [
    [
     "SoS",
     "sos",
     "",
     ""
    ]
   ],
   "panel": {
    "displayed": true,
    "height": 0,
    "style": "side"
   },
   "version": "0.21.2"
  },
  "toc": {
   "colors": {
    "hover_highlight": "#DAA520",
    "running_highlight": "#FF0000",
    "selected_highlight": "#FFD700"
   },
   "moveMenuLeft": true,
   "nav_menu": {
    "height": "247px",
    "width": "254px"
   },
   "navigate_menu": true,
   "number_sections": true,
   "sideBar": true,
   "threshold": 4,
   "toc_cell": false,
   "toc_section_display": "block",
   "toc_window_display": true
  }
 },
 "nbformat": 4,
 "nbformat_minor": 4
}