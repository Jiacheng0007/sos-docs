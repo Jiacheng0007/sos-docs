{
 "cells": [
  {
   "cell_type": "markdown",
   "metadata": {
    "kernel": "SoS",
    "papermill": {
     "duration": 0.044984,
     "end_time": "2019-12-23T17:06:51.855674",
     "exception": false,
     "start_time": "2019-12-23T17:06:51.810690",
     "status": "completed"
    },
    "tags": []
   },
   "source": [
    "# Working with R"
   ]
  },
  {
   "cell_type": "markdown",
   "metadata": {
    "kernel": "SoS",
    "papermill": {
     "duration": 0.03681,
     "end_time": "2019-12-23T17:06:51.930570",
     "exception": false,
     "start_time": "2019-12-23T17:06:51.893760",
     "status": "completed"
    },
    "tags": []
   },
   "source": [
    "* **Difficulty level**: easy\n",
    "* **Time need to lean**: 15 minutes or less\n",
    "* **Key points**:\n",
    "  * There are intuitive corresponding data types between most Python (SoS) and R datatypes"
   ]
  },
  {
   "cell_type": "markdown",
   "metadata": {
    "kernel": "SoS",
    "papermill": {
     "duration": 0.04242,
     "end_time": "2019-12-23T17:06:52.018808",
     "exception": false,
     "start_time": "2019-12-23T17:06:51.976388",
     "status": "completed"
    },
    "tags": []
   },
   "source": [
    "## Installation"
   ]
  },
  {
   "cell_type": "markdown",
   "metadata": {
    "kernel": "SoS",
    "papermill": {
     "duration": 0.030002,
     "end_time": "2019-12-23T17:06:52.077971",
     "exception": false,
     "start_time": "2019-12-23T17:06:52.047969",
     "status": "completed"
    },
    "tags": []
   },
   "source": [
    "There are several options to install `R` and its jupyter kernel [irjernel](https://github.com/IRkernel/IRkernel), the easiest of which might be using `conda` but it could be tricky to install third-party libraries of R to conda, and mixing R packages from the `base` and `r` channels can lead to devastating results.\n",
    "\n",
    "Anyway, after you have a working R installation with `irkernel` installed, you will need to install\n",
    "\n",
    "* The `sos-r` language module,\n",
    "* The `feather` library of R, and\n",
    "* The `feather-format` module of Python\n",
    "\n",
    "The feature modules are needed to exchange dataframe between Python and R"
   ]
  },
  {
   "cell_type": "markdown",
   "metadata": {
    "kernel": "Matlab",
    "papermill": {
     "duration": 0.032047,
     "end_time": "2019-12-23T17:06:52.137541",
     "exception": false,
     "start_time": "2019-12-23T17:06:52.105494",
     "status": "completed"
    },
    "tags": []
   },
   "source": [
    "## Overview"
   ]
  },
  {
   "cell_type": "markdown",
   "metadata": {
    "kernel": "Matlab",
    "papermill": {
     "duration": 0.03096,
     "end_time": "2019-12-23T17:06:52.203219",
     "exception": false,
     "start_time": "2019-12-23T17:06:52.172259",
     "status": "completed"
    },
    "tags": []
   },
   "source": [
    "SoS transfers Python variables in the following types to R as follows:\n",
    "\n",
    "  \n",
    "  | Python  |  condition |   R |\n",
    "  | --- | --- |---|\n",
    "  | `None` | &nbsp; |    `NULL` |\n",
    "  | `integer` | &nbsp; |  `integer` |\n",
    "  | `integer` | `large` | `numeric` |\n",
    "  | `float` | &nbsp; |  `numeric` |\n",
    "  | `boolean` | &nbsp;  | `logical` |\n",
    "  | `complex` |&nbsp;  |  `complex` |\n",
    "  | `str` | &nbsp; | `character` |\n",
    "  | Sequence (`list`, `tuple`, ...) |  homogenous type |  `c()` |\n",
    "  | Sequence (`list`, `tuple`, ...) |  multiple types |  `list` |\n",
    "  | `set` | &nbsp; |  `list` |\n",
    "  | `dict` | &nbsp; |  `list` with names |\n",
    "  | `numpy.ndarray` | &nbsp; | array |\n",
    "  | `numpy.matrix` | &nbsp; | `matrix` |\n",
    "  | `pandas.DataFrame` |&nbsp;  |  R `data.frame` |\n",
    "\n"
   ]
  },
  {
   "cell_type": "markdown",
   "metadata": {
    "kernel": "Matlab",
    "papermill": {
     "duration": 0.039293,
     "end_time": "2019-12-23T17:06:52.270154",
     "exception": false,
     "start_time": "2019-12-23T17:06:52.230861",
     "status": "completed"
    },
    "tags": []
   },
   "source": [
    "SoS gets variables in the following types to SoS as follows (`n` in `condition` column is the length of R datatype):\n",
    "  \n",
    "  | R  |  condition  |   Python |\n",
    "  | --- | --- |---|\n",
    "  | `NULL` | &nbsp;|    `None` |\n",
    "  | `logical` |  `n == 1` |  `boolean` |\n",
    "  | `integer` |  `n == 1` |  `integer` |\n",
    "  | `numeric` |  `n == 1` |  `double` |\n",
    "  | `character` |  `n == 1` |  `string` |\n",
    "  | `complex` |  `n == 1` |  `complex` |\n",
    "  | `logical` |  `n > 1` |  `list` |\n",
    "  | `integer` |  `n > 1` |  `list` |\n",
    "  | `complex` |  `n > 1` |  `list` |\n",
    "  | `numeric` |  `n > 1` |  `list` |\n",
    "  | `character` |  `n > 1` |  `list` |\n",
    "  | `list` without names | &nbsp;  | `list` |\n",
    "  | `list` with names | &nbsp;  |  `dict` (with ordered keys)|\n",
    "  | `matrix` | &nbsp;  |  `numpy.array` |\n",
    "  | `data.frame` | &nbsp; |  `DataFrame` |\n",
    "  | `array` | &nbsp;  |  `numpy.array` |"
   ]
  },
  {
   "cell_type": "markdown",
   "metadata": {
    "kernel": "SoS",
    "papermill": {
     "duration": 0.030928,
     "end_time": "2019-12-23T17:06:52.336564",
     "exception": false,
     "start_time": "2019-12-23T17:06:52.305636",
     "status": "completed"
    },
    "tags": []
   },
   "source": [
    "One of the key problems in mapping R datatypes to Python is that R does not have scalar types and all scalar variables are actually array of size 1. That is to say, in theory, variable `a=1` should be represented in Python as `a=[1]`. However, because Python does differentiate scalar and array values, we chose to represent R arraies of size 1 as scalar types in Python."
   ]
  },
  {
   "cell_type": "code",
   "execution_count": 1,
   "metadata": {
    "kernel": "R",
    "papermill": {
     "duration": 2.077602,
     "end_time": "2019-12-23T17:06:54.455431",
     "exception": false,
     "start_time": "2019-12-23T17:06:52.377829",
     "status": "completed"
    },
    "tags": []
   },
   "outputs": [],
   "source": [
    "%put a b\n",
    "a = c(1)\n",
    "b = c(1, 2)"
   ]
  },
  {
   "cell_type": "code",
   "execution_count": 2,
   "metadata": {
    "kernel": "SoS",
    "papermill": {
     "duration": 0.08279,
     "end_time": "2019-12-23T17:06:54.577948",
     "exception": false,
     "start_time": "2019-12-23T17:06:54.495158",
     "status": "completed"
    },
    "tags": []
   },
   "outputs": [
    {
     "name": "stdout",
     "output_type": "stream",
     "text": [
      "a=1 with type <class 'int'>\n",
      "b=[1, 2] with type <class 'list'>\n"
     ]
    }
   ],
   "source": [
    "print(f'a={a} with type {type(a)}')\n",
    "print(f'b={b} with type {type(b)}')"
   ]
  },
  {
   "cell_type": "markdown",
   "metadata": {
    "kernel": "SoS",
    "papermill": {
     "duration": 0.03967,
     "end_time": "2019-12-23T17:06:54.650733",
     "exception": false,
     "start_time": "2019-12-23T17:06:54.611063",
     "status": "completed"
    },
    "tags": []
   },
   "source": [
    "## Simple data types"
   ]
  },
  {
   "cell_type": "markdown",
   "metadata": {
    "kernel": "Matlab",
    "papermill": {
     "duration": 0.054598,
     "end_time": "2019-12-23T17:06:54.751049",
     "exception": false,
     "start_time": "2019-12-23T17:06:54.696451",
     "status": "completed"
    },
    "tags": []
   },
   "source": [
    "Most simple Python data types can be converted to R types easily,"
   ]
  },
  {
   "cell_type": "code",
   "execution_count": 3,
   "metadata": {
    "kernel": "SoS",
    "papermill": {
     "duration": 0.049237,
     "end_time": "2019-12-23T17:06:54.844590",
     "exception": false,
     "start_time": "2019-12-23T17:06:54.795353",
     "status": "completed"
    },
    "tags": []
   },
   "outputs": [],
   "source": [
    "null_var = None\n",
    "int_var = 123\n",
    "float_var = 3.1415925\n",
    "logic_var = True\n",
    "char_var = '1\"23'\n",
    "comp_var = 1+2j"
   ]
  },
  {
   "cell_type": "code",
   "execution_count": 4,
   "metadata": {
    "kernel": "R",
    "papermill": {
     "duration": 0.299556,
     "end_time": "2019-12-23T17:06:55.179666",
     "exception": false,
     "start_time": "2019-12-23T17:06:54.880110",
     "status": "completed"
    },
    "tags": []
   },
   "outputs": [
    {
     "data": {
      "text/html": [
       "<div class=\"sos_hint\">> null_var: </div>"
      ],
      "text/plain": [
       ">>> null_var:\n"
      ]
     },
     "metadata": {},
     "output_type": "display_data"
    },
    {
     "name": "stdout",
     "output_type": "stream",
     "text": [
      " NULL\n"
     ]
    },
    {
     "data": {
      "text/html": [
       "<div class=\"sos_hint\">> int_var: </div>"
      ],
      "text/plain": [
       ">>> int_var:\n"
      ]
     },
     "metadata": {},
     "output_type": "display_data"
    },
    {
     "name": "stdout",
     "output_type": "stream",
     "text": [
      " num 123\n"
     ]
    },
    {
     "data": {
      "text/html": [
       "<div class=\"sos_hint\">> float_var: </div>"
      ],
      "text/plain": [
       ">>> float_var:\n"
      ]
     },
     "metadata": {},
     "output_type": "display_data"
    },
    {
     "name": "stdout",
     "output_type": "stream",
     "text": [
      " num 3.14\n"
     ]
    },
    {
     "data": {
      "text/html": [
       "<div class=\"sos_hint\">> logic_var: </div>"
      ],
      "text/plain": [
       ">>> logic_var:\n"
      ]
     },
     "metadata": {},
     "output_type": "display_data"
    },
    {
     "name": "stdout",
     "output_type": "stream",
     "text": [
      " logi TRUE\n"
     ]
    },
    {
     "data": {
      "text/html": [
       "<div class=\"sos_hint\">> char_var: </div>"
      ],
      "text/plain": [
       ">>> char_var:\n"
      ]
     },
     "metadata": {},
     "output_type": "display_data"
    },
    {
     "name": "stdout",
     "output_type": "stream",
     "text": [
      " chr \"1\\\"23\"\n"
     ]
    },
    {
     "data": {
      "text/html": [
       "<div class=\"sos_hint\">> comp_var: </div>"
      ],
      "text/plain": [
       ">>> comp_var:\n"
      ]
     },
     "metadata": {},
     "output_type": "display_data"
    },
    {
     "name": "stdout",
     "output_type": "stream",
     "text": [
      " cplx 1+2i\n"
     ]
    }
   ],
   "source": [
    "%get null_var int_var float_var logic_var char_var comp_var\n",
    "%preview -n null_var int_var float_var logic_var char_var comp_var"
   ]
  },
  {
   "cell_type": "markdown",
   "metadata": {
    "kernel": "R",
    "papermill": {
     "duration": 0.037106,
     "end_time": "2019-12-23T17:06:55.252595",
     "exception": false,
     "start_time": "2019-12-23T17:06:55.215489",
     "status": "completed"
    },
    "tags": []
   },
   "source": [
    "The variables can be sent back to SoS without losing information"
   ]
  },
  {
   "cell_type": "code",
   "execution_count": 5,
   "metadata": {
    "kernel": "SoS",
    "papermill": {
     "duration": 0.148739,
     "end_time": "2019-12-23T17:06:55.441092",
     "exception": false,
     "start_time": "2019-12-23T17:06:55.292353",
     "status": "completed"
    },
    "tags": []
   },
   "outputs": [
    {
     "data": {
      "text/html": [
       "<div class=\"sos_hint\">> null_var: NoneType</div>"
      ],
      "text/plain": [
       ">>> null_var:\n"
      ]
     },
     "metadata": {},
     "output_type": "display_data"
    },
    {
     "data": {
      "text/plain": [
       "None"
      ]
     },
     "metadata": {},
     "output_type": "display_data"
    },
    {
     "data": {
      "text/html": [
       "<div class=\"sos_hint\">> int_var: int</div>"
      ],
      "text/plain": [
       ">>> int_var:\n"
      ]
     },
     "metadata": {},
     "output_type": "display_data"
    },
    {
     "data": {
      "text/plain": [
       "123"
      ]
     },
     "metadata": {},
     "output_type": "display_data"
    },
    {
     "data": {
      "text/html": [
       "<div class=\"sos_hint\">> float_var: float</div>"
      ],
      "text/plain": [
       ">>> float_var:\n"
      ]
     },
     "metadata": {},
     "output_type": "display_data"
    },
    {
     "data": {
      "text/plain": [
       "3.1415925"
      ]
     },
     "metadata": {},
     "output_type": "display_data"
    },
    {
     "data": {
      "text/html": [
       "<div class=\"sos_hint\">> logic_var: bool</div>"
      ],
      "text/plain": [
       ">>> logic_var:\n"
      ]
     },
     "metadata": {},
     "output_type": "display_data"
    },
    {
     "data": {
      "text/plain": [
       "True"
      ]
     },
     "metadata": {},
     "output_type": "display_data"
    },
    {
     "data": {
      "text/html": [
       "<div class=\"sos_hint\">> char_var: str of length 4</div>"
      ],
      "text/plain": [
       ">>> char_var:\n"
      ]
     },
     "metadata": {},
     "output_type": "display_data"
    },
    {
     "data": {
      "text/plain": [
       "'1\"23'"
      ]
     },
     "metadata": {},
     "output_type": "display_data"
    },
    {
     "data": {
      "text/html": [
       "<div class=\"sos_hint\">> comp_var: complex</div>"
      ],
      "text/plain": [
       ">>> comp_var:\n"
      ]
     },
     "metadata": {},
     "output_type": "display_data"
    },
    {
     "data": {
      "text/plain": [
       "(1+2j)"
      ]
     },
     "metadata": {},
     "output_type": "display_data"
    }
   ],
   "source": [
    "%get null_var int_var float_var logic_var char_var comp_var --from R\n",
    "%preview -n null_var int_var float_var logic_var char_var comp_var"
   ]
  },
  {
   "cell_type": "markdown",
   "metadata": {
    "kernel": "R",
    "papermill": {
     "duration": 0.045318,
     "end_time": "2019-12-23T17:06:55.526704",
     "exception": false,
     "start_time": "2019-12-23T17:06:55.481386",
     "status": "completed"
    },
    "tags": []
   },
   "source": [
    "However, because Python allows integers of arbitrary precision which is not supported by R, large integers would be presented in R as float point numbers, which might not be able to keep the precision of the original number.\n",
    "\n",
    "For example, if we put a large integer with 18 significant digits to R"
   ]
  },
  {
   "cell_type": "code",
   "execution_count": 6,
   "metadata": {
    "kernel": "SoS",
    "papermill": {
     "duration": 0.092107,
     "end_time": "2019-12-23T17:06:55.659107",
     "exception": false,
     "start_time": "2019-12-23T17:06:55.567000",
     "status": "completed"
    },
    "tags": []
   },
   "outputs": [],
   "source": [
    "%put large_int --to R\n",
    "large_int = 123456789123456789"
   ]
  },
  {
   "cell_type": "markdown",
   "metadata": {
    "kernel": "SoS",
    "papermill": {
     "duration": 0.052152,
     "end_time": "2019-12-23T17:06:55.756331",
     "exception": false,
     "start_time": "2019-12-23T17:06:55.704179",
     "status": "completed"
    },
    "tags": []
   },
   "source": [
    "The last digit would be different because of floating point presentation"
   ]
  },
  {
   "cell_type": "code",
   "execution_count": 7,
   "metadata": {
    "kernel": "R",
    "papermill": {
     "duration": 0.116804,
     "end_time": "2019-12-23T17:06:55.933969",
     "exception": false,
     "start_time": "2019-12-23T17:06:55.817165",
     "status": "completed"
    },
    "tags": []
   },
   "outputs": [
    {
     "data": {
      "text/html": [
       "123456789123456784"
      ],
      "text/latex": [
       "123456789123456784"
      ],
      "text/markdown": [
       "123456789123456784"
      ],
      "text/plain": [
       "[1] 1.234568e+17"
      ]
     },
     "metadata": {},
     "output_type": "display_data"
    }
   ],
   "source": [
    "%put large_int\n",
    "large_int"
   ]
  },
  {
   "cell_type": "markdown",
   "metadata": {
    "kernel": "R",
    "papermill": {
     "duration": 0.047846,
     "end_time": "2019-12-23T17:06:56.023625",
     "exception": false,
     "start_time": "2019-12-23T17:06:55.975779",
     "status": "completed"
    },
    "tags": []
   },
   "source": [
    "This is not a problem with SoS because you would get the same result if you enter this number in R"
   ]
  },
  {
   "cell_type": "code",
   "execution_count": 8,
   "metadata": {
    "kernel": "R",
    "papermill": {
     "duration": 0.130517,
     "end_time": "2019-12-23T17:06:56.222113",
     "exception": false,
     "start_time": "2019-12-23T17:06:56.091596",
     "status": "completed"
    },
    "tags": []
   },
   "outputs": [
    {
     "data": {
      "text/html": [
       "123456789123456784"
      ],
      "text/latex": [
       "123456789123456784"
      ],
      "text/markdown": [
       "123456789123456784"
      ],
      "text/plain": [
       "[1] 1.234568e+17"
      ]
     },
     "metadata": {},
     "output_type": "display_data"
    }
   ],
   "source": [
    "123456789123456789"
   ]
  },
  {
   "cell_type": "markdown",
   "metadata": {
    "kernel": "R",
    "papermill": {
     "duration": 0.047204,
     "end_time": "2019-12-23T17:06:56.309778",
     "exception": false,
     "start_time": "2019-12-23T17:06:56.262574",
     "status": "completed"
    },
    "tags": []
   },
   "source": [
    "Consequently, if you send `large_int` back to `SoS`, the number would be different"
   ]
  },
  {
   "cell_type": "code",
   "execution_count": 9,
   "metadata": {
    "kernel": "SoS",
    "papermill": {
     "duration": 0.136885,
     "end_time": "2019-12-23T17:06:56.493340",
     "exception": false,
     "start_time": "2019-12-23T17:06:56.356455",
     "status": "completed"
    },
    "tags": []
   },
   "outputs": [
    {
     "data": {
      "text/plain": [
       "123456789123456784"
      ]
     },
     "execution_count": 9,
     "metadata": {},
     "output_type": "execute_result"
    }
   ],
   "source": [
    "%get large_int --from R\n",
    "large_int"
   ]
  },
  {
   "cell_type": "markdown",
   "metadata": {
    "kernel": "SoS",
    "papermill": {
     "duration": 0.041509,
     "end_time": "2019-12-23T17:06:56.578085",
     "exception": false,
     "start_time": "2019-12-23T17:06:56.536576",
     "status": "completed"
    },
    "tags": []
   },
   "source": [
    "## Array, matrix, and dataframe"
   ]
  },
  {
   "cell_type": "markdown",
   "metadata": {
    "kernel": "R",
    "papermill": {
     "duration": 0.041796,
     "end_time": "2019-12-23T17:06:56.659413",
     "exception": false,
     "start_time": "2019-12-23T17:06:56.617617",
     "status": "completed"
    },
    "tags": []
   },
   "source": [
    "The one-dimension (vector) data is converted from SoS to R as follows:"
   ]
  },
  {
   "cell_type": "code",
   "execution_count": 10,
   "metadata": {
    "kernel": "SoS",
    "papermill": {
     "duration": 0.052127,
     "end_time": "2019-12-23T17:06:56.752217",
     "exception": false,
     "start_time": "2019-12-23T17:06:56.700090",
     "status": "completed"
    },
    "tags": []
   },
   "outputs": [],
   "source": [
    "import numpy\n",
    "import pandas\n",
    "char_arr_var = ['1', '2', '3']\n",
    "list_var = [1, 2, '3']\n",
    "dict_var = dict(a=1, b=2, c='3')\n",
    "set_var = {1, 2, '3'}\n",
    "recursive_var = {'a': {'b': 123}, 'c': True}\n",
    "logic_arr_var = [True, False, True]\n",
    "seri_var = pandas.Series([1,2,3,3,3,3])"
   ]
  },
  {
   "cell_type": "code",
   "execution_count": 11,
   "metadata": {
    "kernel": "R",
    "papermill": {
     "duration": 0.367191,
     "end_time": "2019-12-23T17:06:57.161724",
     "exception": false,
     "start_time": "2019-12-23T17:06:56.794533",
     "status": "completed"
    },
    "tags": []
   },
   "outputs": [
    {
     "data": {
      "text/html": [
       "<div class=\"sos_hint\">> char_arr_var: </div>"
      ],
      "text/plain": [
       ">>> char_arr_var:\n"
      ]
     },
     "metadata": {},
     "output_type": "display_data"
    },
    {
     "name": "stdout",
     "output_type": "stream",
     "text": [
      " chr [1:3] \"1\" \"2\" \"3\"\n"
     ]
    },
    {
     "data": {
      "text/html": [
       "<div class=\"sos_hint\">> list_var: </div>"
      ],
      "text/plain": [
       ">>> list_var:\n"
      ]
     },
     "metadata": {},
     "output_type": "display_data"
    },
    {
     "name": "stdout",
     "output_type": "stream",
     "text": [
      "List of 3\n",
      " $ : num 1\n",
      " $ : num 2\n",
      " $ : chr \"3\"\n"
     ]
    },
    {
     "data": {
      "text/html": [
       "<div class=\"sos_hint\">> dict_var: </div>"
      ],
      "text/plain": [
       ">>> dict_var:\n"
      ]
     },
     "metadata": {},
     "output_type": "display_data"
    },
    {
     "name": "stdout",
     "output_type": "stream",
     "text": [
      "List of 3\n",
      " $ a: num 1\n",
      " $ b: num 2\n",
      " $ c: chr \"3\"\n"
     ]
    },
    {
     "data": {
      "text/html": [
       "<div class=\"sos_hint\">> set_var: </div>"
      ],
      "text/plain": [
       ">>> set_var:\n"
      ]
     },
     "metadata": {},
     "output_type": "display_data"
    },
    {
     "name": "stdout",
     "output_type": "stream",
     "text": [
      "List of 3\n",
      " $ : num 1\n",
      " $ : num 2\n",
      " $ : chr \"3\"\n"
     ]
    },
    {
     "data": {
      "text/html": [
       "<div class=\"sos_hint\">> recursive_var: </div>"
      ],
      "text/plain": [
       ">>> recursive_var:\n"
      ]
     },
     "metadata": {},
     "output_type": "display_data"
    },
    {
     "name": "stdout",
     "output_type": "stream",
     "text": [
      "List of 2\n",
      " $ a:List of 1\n",
      "  ..$ b: num 123\n",
      " $ c: logi TRUE\n"
     ]
    },
    {
     "data": {
      "text/html": [
       "<div class=\"sos_hint\">> logic_arr_var: </div>"
      ],
      "text/plain": [
       ">>> logic_arr_var:\n"
      ]
     },
     "metadata": {},
     "output_type": "display_data"
    },
    {
     "name": "stdout",
     "output_type": "stream",
     "text": [
      " logi [1:3] TRUE FALSE TRUE\n"
     ]
    },
    {
     "data": {
      "text/html": [
       "<div class=\"sos_hint\">> seri_var: </div>"
      ],
      "text/plain": [
       ">>> seri_var:\n"
      ]
     },
     "metadata": {},
     "output_type": "display_data"
    },
    {
     "name": "stdout",
     "output_type": "stream",
     "text": [
      " Named num [1:6] 1 2 3 3 3 3\n",
      " - attr(*, \"names\")= chr [1:6] \"0\" \"1\" \"2\" \"3\" ...\n"
     ]
    }
   ],
   "source": [
    "%get char_arr_var list_var dict_var set_var recursive_var logic_arr_var seri_var\n",
    "%preview -n char_arr_var list_var dict_var set_var recursive_var logic_arr_var seri_var"
   ]
  },
  {
   "cell_type": "markdown",
   "metadata": {
    "kernel": "R",
    "papermill": {
     "duration": 0.065395,
     "end_time": "2019-12-23T17:06:57.288438",
     "exception": false,
     "start_time": "2019-12-23T17:06:57.223043",
     "status": "completed"
    },
    "tags": []
   },
   "source": [
    "The multi-dimension data is converted from SoS to R as follows:"
   ]
  },
  {
   "cell_type": "code",
   "execution_count": 12,
   "metadata": {
    "kernel": "SoS",
    "papermill": {
     "duration": 0.08617,
     "end_time": "2019-12-23T17:06:57.425470",
     "exception": false,
     "start_time": "2019-12-23T17:06:57.339300",
     "status": "completed"
    },
    "tags": []
   },
   "outputs": [],
   "source": [
    "num_arr_var = numpy.array([1, 2, 3, 4]).reshape(2,2)\n",
    "mat_var = numpy.matrix([[1,2],[3,4]])"
   ]
  },
  {
   "cell_type": "code",
   "execution_count": 13,
   "metadata": {
    "kernel": "R",
    "papermill": {
     "duration": 0.418425,
     "end_time": "2019-12-23T17:06:57.891829",
     "exception": false,
     "start_time": "2019-12-23T17:06:57.473404",
     "status": "completed"
    },
    "tags": []
   },
   "outputs": [
    {
     "data": {
      "text/html": [
       "<div class=\"sos_hint\">> num_arr_var: </div>"
      ],
      "text/plain": [
       ">>> num_arr_var:\n"
      ]
     },
     "metadata": {},
     "output_type": "display_data"
    },
    {
     "name": "stdout",
     "output_type": "stream",
     "text": [
      " num [1:2, 1:2] 1 3 2 4\n"
     ]
    },
    {
     "data": {
      "text/html": [
       "<div class=\"sos_hint\">> mat_var: </div>"
      ],
      "text/plain": [
       ">>> mat_var:\n"
      ]
     },
     "metadata": {},
     "output_type": "display_data"
    },
    {
     "name": "stdout",
     "output_type": "stream",
     "text": [
      " num [1:2, 1:2] 1 3 2 4\n",
      " - attr(*, \"dimnames\")=List of 2\n",
      "  ..$ : NULL\n",
      "  ..$ : chr [1:2] \"0\" \"1\"\n"
     ]
    }
   ],
   "source": [
    "%get num_arr_var mat_var\n",
    "%preview -n num_arr_var mat_var"
   ]
  },
  {
   "cell_type": "markdown",
   "metadata": {
    "kernel": "R",
    "papermill": {
     "duration": 0.056732,
     "end_time": "2019-12-23T17:06:57.996819",
     "exception": false,
     "start_time": "2019-12-23T17:06:57.940087",
     "status": "completed"
    },
    "tags": []
   },
   "source": [
    "The scalar data is converted from R to SoS as follows:"
   ]
  },
  {
   "cell_type": "code",
   "execution_count": 14,
   "metadata": {
    "kernel": "R",
    "papermill": {
     "duration": 0.100023,
     "end_time": "2019-12-23T17:06:58.145667",
     "exception": false,
     "start_time": "2019-12-23T17:06:58.045644",
     "status": "completed"
    },
    "tags": []
   },
   "outputs": [],
   "source": [
    "null_var = NULL\n",
    "num_var = 123\n",
    "logic_var = TRUE\n",
    "char_var = '1\\\"23'\n",
    "comp_var = 1+2i"
   ]
  },
  {
   "cell_type": "code",
   "execution_count": 15,
   "metadata": {
    "kernel": "SoS",
    "papermill": {
     "duration": 0.150683,
     "end_time": "2019-12-23T17:06:58.345880",
     "exception": false,
     "start_time": "2019-12-23T17:06:58.195197",
     "status": "completed"
    },
    "tags": []
   },
   "outputs": [
    {
     "data": {
      "text/html": [
       "<div class=\"sos_hint\">> null_var: NoneType</div>"
      ],
      "text/plain": [
       ">>> null_var:\n"
      ]
     },
     "metadata": {},
     "output_type": "display_data"
    },
    {
     "data": {
      "text/plain": [
       "None"
      ]
     },
     "metadata": {},
     "output_type": "display_data"
    },
    {
     "data": {
      "text/html": [
       "<div class=\"sos_hint\">> num_var: int</div>"
      ],
      "text/plain": [
       ">>> num_var:\n"
      ]
     },
     "metadata": {},
     "output_type": "display_data"
    },
    {
     "data": {
      "text/plain": [
       "123"
      ]
     },
     "metadata": {},
     "output_type": "display_data"
    },
    {
     "data": {
      "text/html": [
       "<div class=\"sos_hint\">> logic_var: bool</div>"
      ],
      "text/plain": [
       ">>> logic_var:\n"
      ]
     },
     "metadata": {},
     "output_type": "display_data"
    },
    {
     "data": {
      "text/plain": [
       "True"
      ]
     },
     "metadata": {},
     "output_type": "display_data"
    },
    {
     "data": {
      "text/html": [
       "<div class=\"sos_hint\">> char_var: str of length 4</div>"
      ],
      "text/plain": [
       ">>> char_var:\n"
      ]
     },
     "metadata": {},
     "output_type": "display_data"
    },
    {
     "data": {
      "text/plain": [
       "'1\"23'"
      ]
     },
     "metadata": {},
     "output_type": "display_data"
    },
    {
     "data": {
      "text/html": [
       "<div class=\"sos_hint\">> comp_var: complex</div>"
      ],
      "text/plain": [
       ">>> comp_var:\n"
      ]
     },
     "metadata": {},
     "output_type": "display_data"
    },
    {
     "data": {
      "text/plain": [
       "(1+2j)"
      ]
     },
     "metadata": {},
     "output_type": "display_data"
    }
   ],
   "source": [
    "%get null_var num_var logic_var char_var comp_var --from R\n",
    "%preview -n null_var num_var logic_var char_var comp_var"
   ]
  },
  {
   "cell_type": "markdown",
   "metadata": {
    "kernel": "SoS",
    "papermill": {
     "duration": 0.053444,
     "end_time": "2019-12-23T17:06:58.449195",
     "exception": false,
     "start_time": "2019-12-23T17:06:58.395751",
     "status": "completed"
    },
    "tags": []
   },
   "source": [
    "The one-dimension (vector) data is converted from R to SoS as follows:"
   ]
  },
  {
   "cell_type": "code",
   "execution_count": 16,
   "metadata": {
    "kernel": "R",
    "papermill": {
     "duration": 0.087096,
     "end_time": "2019-12-23T17:06:58.586629",
     "exception": false,
     "start_time": "2019-12-23T17:06:58.499533",
     "status": "completed"
    },
    "tags": []
   },
   "outputs": [],
   "source": [
    "num_vector_var = c(1, 2, 3)\n",
    "logic_vector_var = c(TRUE, FALSE, TRUE)\n",
    "char_vector_var = c(1, 2, '3')\n",
    "list_var = list(1, 2, '3')\n",
    "named_list_var = list(a=1, b=2, c='3')\n",
    "recursive_var = list(a=1, b=list(c=3, d='whatever'))\n",
    "seri_var = setNames(c(1,2,3,3,3,3),c(0:5))"
   ]
  },
  {
   "cell_type": "code",
   "execution_count": 17,
   "metadata": {
    "kernel": "SoS",
    "papermill": {
     "duration": 0.174953,
     "end_time": "2019-12-23T17:06:58.811988",
     "exception": false,
     "start_time": "2019-12-23T17:06:58.637035",
     "status": "completed"
    },
    "tags": []
   },
   "outputs": [
    {
     "data": {
      "text/html": [
       "<div class=\"sos_hint\">> num_vector_var: list of length 3</div>"
      ],
      "text/plain": [
       ">>> num_vector_var:\n"
      ]
     },
     "metadata": {},
     "output_type": "display_data"
    },
    {
     "data": {
      "text/plain": [
       "[1, 2, 3]"
      ]
     },
     "metadata": {},
     "output_type": "display_data"
    },
    {
     "data": {
      "text/html": [
       "<div class=\"sos_hint\">> logic_vector_var: list of length 3</div>"
      ],
      "text/plain": [
       ">>> logic_vector_var:\n"
      ]
     },
     "metadata": {},
     "output_type": "display_data"
    },
    {
     "data": {
      "text/plain": [
       "[True, False, True]"
      ]
     },
     "metadata": {},
     "output_type": "display_data"
    },
    {
     "data": {
      "text/html": [
       "<div class=\"sos_hint\">> char_vector_var: list of length 3</div>"
      ],
      "text/plain": [
       ">>> char_vector_var:\n"
      ]
     },
     "metadata": {},
     "output_type": "display_data"
    },
    {
     "data": {
      "text/plain": [
       "['1', '2', '3']"
      ]
     },
     "metadata": {},
     "output_type": "display_data"
    },
    {
     "data": {
      "text/html": [
       "<div class=\"sos_hint\">> list_var: list of length 3</div>"
      ],
      "text/plain": [
       ">>> list_var:\n"
      ]
     },
     "metadata": {},
     "output_type": "display_data"
    },
    {
     "data": {
      "text/plain": [
       "[1, 2, '3']"
      ]
     },
     "metadata": {},
     "output_type": "display_data"
    },
    {
     "data": {
      "text/html": [
       "<div class=\"sos_hint\">> named_list_var: dict of length 3</div>"
      ],
      "text/plain": [
       ">>> named_list_var:\n"
      ]
     },
     "metadata": {},
     "output_type": "display_data"
    },
    {
     "data": {
      "text/plain": [
       "{'a': 1, 'b': 2, 'c': '3'}"
      ]
     },
     "metadata": {},
     "output_type": "display_data"
    },
    {
     "data": {
      "text/html": [
       "<div class=\"sos_hint\">> recursive_var: dict of length 2</div>"
      ],
      "text/plain": [
       ">>> recursive_var:\n"
      ]
     },
     "metadata": {},
     "output_type": "display_data"
    },
    {
     "data": {
      "text/plain": [
       "{'a': 1, 'b': {'c': 3, 'd': 'whatever'}}"
      ]
     },
     "metadata": {},
     "output_type": "display_data"
    },
    {
     "data": {
      "text/html": [
       "<div class=\"sos_hint\">> seri_var: Series of shape (6,)</div>"
      ],
      "text/plain": [
       ">>> seri_var:\n"
      ]
     },
     "metadata": {},
     "output_type": "display_data"
    },
    {
     "data": {
      "text/plain": [
       "0    1\n",
       "1    2\n",
       "2    3\n",
       "3    3\n",
       "4    3\n",
       "5    3\n",
       "dtype: int64"
      ]
     },
     "metadata": {},
     "output_type": "display_data"
    }
   ],
   "source": [
    "%get num_vector_var logic_vector_var char_vector_var list_var named_list_var recursive_var seri_var --from R\n",
    "%preview -n num_vector_var logic_vector_var char_vector_var list_var named_list_var recursive_var seri_var"
   ]
  },
  {
   "cell_type": "markdown",
   "metadata": {
    "kernel": "SoS",
    "papermill": {
     "duration": 0.058692,
     "end_time": "2019-12-23T17:06:58.936532",
     "exception": false,
     "start_time": "2019-12-23T17:06:58.877840",
     "status": "completed"
    },
    "tags": []
   },
   "source": [
    "The multi-dimension data is converted from R to SoS as follows:"
   ]
  },
  {
   "cell_type": "code",
   "execution_count": 18,
   "metadata": {
    "kernel": "R",
    "papermill": {
     "duration": 0.102472,
     "end_time": "2019-12-23T17:06:59.098692",
     "exception": false,
     "start_time": "2019-12-23T17:06:58.996220",
     "status": "completed"
    },
    "tags": []
   },
   "outputs": [],
   "source": [
    "mat_var = matrix(c(1,2,3,4), nrow=2)\n",
    "arr_var = array(c(1:16),dim=c(2,2,2,2))"
   ]
  },
  {
   "cell_type": "code",
   "execution_count": 19,
   "metadata": {
    "kernel": "SoS",
    "papermill": {
     "duration": 0.148412,
     "end_time": "2019-12-23T17:06:59.312917",
     "exception": false,
     "start_time": "2019-12-23T17:06:59.164505",
     "status": "completed"
    },
    "tags": []
   },
   "outputs": [
    {
     "data": {
      "text/html": [
       "<div class=\"sos_hint\">> mat_var: ndarray of shape (2, 2)</div>"
      ],
      "text/plain": [
       ">>> mat_var:\n"
      ]
     },
     "metadata": {},
     "output_type": "display_data"
    },
    {
     "data": {
      "text/plain": [
       "array([[1., 3.],\n",
       "       [2., 4.]])"
      ]
     },
     "metadata": {},
     "output_type": "display_data"
    },
    {
     "data": {
      "text/html": [
       "<div class=\"sos_hint\">> arr_var: ndarray of shape (2, 2, 2, 2)</div>"
      ],
      "text/plain": [
       ">>> arr_var:\n"
      ]
     },
     "metadata": {},
     "output_type": "display_data"
    },
    {
     "data": {
      "text/plain": [
       "array([[[[ 1,  3],\n",
       "         [ 2,  4]],\n",
       "\n",
       "        [[ 5,  7],\n",
       "         [ 6,  8]]],\n",
       "\n",
       "\n",
       "       [[[ 9, 11],\n",
       "         [10, 12]],\n",
       "\n",
       "        [[13, 15],\n",
       "         [14, 16]]]])"
      ]
     },
     "metadata": {},
     "output_type": "display_data"
    }
   ],
   "source": [
    "%get mat_var arr_var --from R\n",
    "%preview -n mat_var arr_var"
   ]
  },
  {
   "cell_type": "markdown",
   "metadata": {
    "kernel": "SoS",
    "papermill": {
     "duration": 0.059403,
     "end_time": "2019-12-23T17:06:59.429670",
     "exception": false,
     "start_time": "2019-12-23T17:06:59.370267",
     "status": "completed"
    },
    "tags": []
   },
   "source": [
    "It is worth noting that R's named `list` is transferred to Python as dictionaries but SoS preserves the order of the keys so that you can recover the order of the list. For example,"
   ]
  },
  {
   "cell_type": "code",
   "execution_count": 20,
   "metadata": {
    "kernel": "R",
    "papermill": {
     "duration": 0.083893,
     "end_time": "2019-12-23T17:06:59.571901",
     "exception": false,
     "start_time": "2019-12-23T17:06:59.488008",
     "status": "completed"
    },
    "tags": []
   },
   "outputs": [],
   "source": [
    "Rlist = list(A=1, C='C', B=3, D=c(2, 3))"
   ]
  },
  {
   "cell_type": "markdown",
   "metadata": {
    "kernel": "R",
    "papermill": {
     "duration": 0.05675,
     "end_time": "2019-12-23T17:06:59.685280",
     "exception": false,
     "start_time": "2019-12-23T17:06:59.628530",
     "status": "completed"
    },
    "tags": []
   },
   "source": [
    "Although the dictionary might appear to have different order"
   ]
  },
  {
   "cell_type": "code",
   "execution_count": 21,
   "metadata": {
    "kernel": "SoS",
    "papermill": {
     "duration": 0.146016,
     "end_time": "2019-12-23T17:06:59.891543",
     "exception": false,
     "start_time": "2019-12-23T17:06:59.745527",
     "status": "completed"
    },
    "tags": []
   },
   "outputs": [
    {
     "data": {
      "text/plain": [
       "{'A': 1, 'C': 'C', 'B': 3, 'D': [2, 3]}"
      ]
     },
     "execution_count": 21,
     "metadata": {},
     "output_type": "execute_result"
    }
   ],
   "source": [
    "%get Rlist --from R\n",
    "Rlist"
   ]
  },
  {
   "cell_type": "markdown",
   "metadata": {
    "kernel": "SoS",
    "papermill": {
     "duration": 0.05831,
     "end_time": "2019-12-23T17:07:00.008961",
     "exception": false,
     "start_time": "2019-12-23T17:06:59.950651",
     "status": "completed"
    },
    "tags": []
   },
   "source": [
    "The order of the keys and values are actually preserved"
   ]
  },
  {
   "cell_type": "code",
   "execution_count": 22,
   "metadata": {
    "kernel": "SoS",
    "papermill": {
     "duration": 0.066278,
     "end_time": "2019-12-23T17:07:00.131011",
     "exception": false,
     "start_time": "2019-12-23T17:07:00.064733",
     "status": "completed"
    },
    "tags": []
   },
   "outputs": [
    {
     "data": {
      "text/plain": [
       "dict_keys(['A', 'C', 'B', 'D'])"
      ]
     },
     "execution_count": 22,
     "metadata": {},
     "output_type": "execute_result"
    }
   ],
   "source": [
    "Rlist.keys()"
   ]
  },
  {
   "cell_type": "code",
   "execution_count": 23,
   "metadata": {
    "kernel": "SoS",
    "papermill": {
     "duration": 0.068102,
     "end_time": "2019-12-23T17:07:00.256116",
     "exception": false,
     "start_time": "2019-12-23T17:07:00.188014",
     "status": "completed"
    },
    "tags": []
   },
   "outputs": [
    {
     "data": {
      "text/plain": [
       "dict_values([1, 'C', 3, [2, 3]])"
      ]
     },
     "execution_count": 23,
     "metadata": {},
     "output_type": "execute_result"
    }
   ],
   "source": [
    "Rlist.values()"
   ]
  },
  {
   "cell_type": "markdown",
   "metadata": {
    "kernel": "SoS",
    "papermill": {
     "duration": 0.062106,
     "end_time": "2019-12-23T17:07:00.377967",
     "exception": false,
     "start_time": "2019-12-23T17:07:00.315861",
     "status": "completed"
    },
    "tags": []
   },
   "source": [
    "so it is safe to enumerate the R list in Python as"
   ]
  },
  {
   "cell_type": "code",
   "execution_count": 24,
   "metadata": {
    "kernel": "SoS",
    "papermill": {
     "duration": 0.075645,
     "end_time": "2019-12-23T17:07:00.510902",
     "exception": false,
     "start_time": "2019-12-23T17:07:00.435257",
     "status": "completed"
    },
    "tags": []
   },
   "outputs": [
    {
     "name": "stdout",
     "output_type": "stream",
     "text": [
      "1 item of Rlist has key A and value 1\n",
      "2 item of Rlist has key C and value C\n",
      "3 item of Rlist has key B and value 3\n",
      "4 item of Rlist has key D and value [2, 3]\n"
     ]
    }
   ],
   "source": [
    "for idx, (key, val) in enumerate(Rlist.items()):\n",
    "  print(f\"{idx+1} item of Rlist has key {key} and value {val}\")"
   ]
  },
  {
   "cell_type": "markdown",
   "metadata": {
    "kernel": "SoS",
    "papermill": {
     "duration": 0.059462,
     "end_time": "2019-12-23T17:07:00.629489",
     "exception": false,
     "start_time": "2019-12-23T17:07:00.570027",
     "status": "completed"
    },
    "tags": []
   },
   "source": [
    "## Further reading\n",
    "\n",
    "* [Exchanging data among kernels](exchange_variable.html)"
   ]
  }
 ],
 "metadata": {
  "kernelspec": {
   "display_name": "SoS",
   "language": "sos",
   "name": "sos"
  },
  "language_info": {
   "codemirror_mode": "sos",
   "file_extension": ".sos",
   "mimetype": "text/x-sos",
   "name": "sos",
   "nbconvert_exporter": "sos_notebook.converter.SoS_Exporter",
   "pygments_lexer": "sos"
  },
  "papermill": {
   "duration": 17.414357,
   "end_time": "2019-12-23T17:07:05.875962",
   "environment_variables": {},
   "exception": null,
   "input_path": "/Users/bpeng1/sos/sos-docs/src/user_guide/sos_r.ipynb",
   "output_path": "sos_r.ipynb_rerun.ipynb",
   "parameters": {},
   "start_time": "2019-12-23T17:06:48.461605",
   "version": "1.1.0"
  },
  "sos": {
   "kernels": [
    [
     "R",
     "ir",
     "R",
     "#DCDCDA",
     "r"
    ],
    [
     "SoS",
     "sos",
     "",
     "",
     "sos"
    ]
   ],
   "panel": {
    "displayed": true,
    "height": 0
   },
   "version": "0.21.3"
  }
 },
 "nbformat": 4,
 "nbformat_minor": 4
}
