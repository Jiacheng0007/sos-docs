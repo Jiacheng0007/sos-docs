{
 "cells": [
  {
   "cell_type": "markdown",
   "metadata": {
    "kernel": "SoS",
    "papermill": {
     "duration": 0.023908,
     "end_time": "2019-12-23T17:04:04.450313",
     "exception": false,
     "start_time": "2019-12-23T17:04:04.426405",
     "status": "completed"
    },
    "tags": []
   },
   "source": [
    "# How to define step output"
   ]
  },
  {
   "cell_type": "markdown",
   "metadata": {
    "kernel": "SoS",
    "papermill": {
     "duration": 0.020218,
     "end_time": "2019-12-23T17:04:04.492740",
     "exception": false,
     "start_time": "2019-12-23T17:04:04.472522",
     "status": "completed"
    },
    "tags": []
   },
   "source": [
    "* **Difficulty level**: easy\n",
    "* **Time need to lean**: 10 minutes or less\n",
    "* **Key points**:\n",
    "  * Step output are defined for each substep and can be derived from substep input (variable `_input`)\n",
    "  * Variable `step_output` is defined at the completion of the step, and can be passed to other steps"
   ]
  },
  {
   "cell_type": "markdown",
   "metadata": {
    "kernel": "SoS",
    "papermill": {
     "duration": 0.020401,
     "end_time": "2019-12-23T17:04:04.536576",
     "exception": false,
     "start_time": "2019-12-23T17:04:04.516175",
     "status": "completed"
    },
    "tags": []
   },
   "source": [
    "The output statement defines the output files or targets of a SoS step, it is optional but is fundamental for the creation of all but very simple workflows. You can check out the [How to create dependencies between SoS steps](doc/user_guide/step_dependencies.html) tutorial for a quick overview of the use of output statements. This tutorial lists what you can put in the output statement of a step with simple examples and you should refer to other tutorials for more in-depth discussions of the topics."
   ]
  },
  {
   "cell_type": "markdown",
   "metadata": {
    "kernel": "SoS",
    "papermill": {
     "duration": 0.018954,
     "end_time": "2019-12-23T17:04:04.574853",
     "exception": false,
     "start_time": "2019-12-23T17:04:04.555899",
     "status": "completed"
    },
    "tags": []
   },
   "source": [
    "## Steps with no output statement"
   ]
  },
  {
   "cell_type": "markdown",
   "metadata": {
    "kernel": "SoS",
    "papermill": {
     "duration": 0.019173,
     "end_time": "2019-12-23T17:04:04.613893",
     "exception": false,
     "start_time": "2019-12-23T17:04:04.594720",
     "status": "completed"
    },
    "tags": []
   },
   "source": [
    "The `output` statement is optional. When no output file is defined, a step will have undefined output."
   ]
  },
  {
   "cell_type": "markdown",
   "metadata": {
    "kernel": "SoS",
    "papermill": {
     "duration": 0.025023,
     "end_time": "2019-12-23T17:04:04.659676",
     "exception": false,
     "start_time": "2019-12-23T17:04:04.634653",
     "status": "completed"
    },
    "tags": []
   },
   "source": [
    "For example, the following workflow has a step `A` that execute a simple shell script. No output statement is needed and the workflow will work just fine."
   ]
  },
  {
   "cell_type": "code",
   "execution_count": 1,
   "metadata": {
    "kernel": "SoS",
    "papermill": {
     "duration": 4.705673,
     "end_time": "2019-12-23T17:04:09.389389",
     "exception": false,
     "start_time": "2019-12-23T17:04:04.683716",
     "status": "completed"
    },
    "tags": []
   },
   "outputs": [
    {
     "name": "stdout",
     "output_type": "stream",
     "text": [
      "\u001b[32m[\u001b[0m\u001b[97m.\u001b[0m\b \b\u001b[32m.\u001b[0m\b \b\u001b[32m#\u001b[0m\u001b[32m#\u001b[0m\u001b[32m]\u001b[0m 2 steps processed (2 jobs completed)\n"
     ]
    }
   ],
   "source": [
    "%run A -v0\n",
    "[A_1]\n",
    "sh:\n",
    "  echo do something\n",
    "  \n",
    "[A_2]\n",
    "print(f'The input of step {step_name} is \"{step_input}\"')"
   ]
  },
  {
   "cell_type": "markdown",
   "metadata": {
    "kernel": "SoS",
    "papermill": {
     "duration": 0.028563,
     "end_time": "2019-12-23T17:04:09.438021",
     "exception": false,
     "start_time": "2019-12-23T17:04:09.409458",
     "status": "completed"
    },
    "tags": []
   },
   "source": [
    "In simple workflows with numerically indexed steps, an empty output will be passed to the next step."
   ]
  },
  {
   "cell_type": "markdown",
   "metadata": {
    "kernel": "SoS",
    "papermill": {
     "duration": 0.029632,
     "end_time": "2019-12-23T17:04:09.489110",
     "exception": false,
     "start_time": "2019-12-23T17:04:09.459478",
     "status": "completed"
    },
    "tags": []
   },
   "source": [
    "## Unnamed output files"
   ]
  },
  {
   "cell_type": "markdown",
   "metadata": {
    "kernel": "SoS",
    "papermill": {
     "duration": 0.025948,
     "end_time": "2019-12-23T17:04:09.539875",
     "exception": false,
     "start_time": "2019-12-23T17:04:09.513927",
     "status": "completed"
    },
    "tags": []
   },
   "source": [
    "The easiest way to explicitly specify input of a step is to list output files directly in the `output` statement.\n"
   ]
  },
  {
   "cell_type": "code",
   "execution_count": 2,
   "metadata": {
    "kernel": "SoS",
    "papermill": {
     "duration": 0.040741,
     "end_time": "2019-12-23T17:04:09.600200",
     "exception": false,
     "start_time": "2019-12-23T17:04:09.559459",
     "status": "completed"
    },
    "tags": []
   },
   "outputs": [
    {
     "name": "stdout",
     "output_type": "stream",
     "text": [
      "_output is a.txt"
     ]
    },
    {
     "name": "stdout",
     "output_type": "stream",
     "text": [
      "\n"
     ]
    }
   ],
   "source": [
    "output: 'a.txt'\n",
    "_output.touch()\n",
    "print(f'_output is {_output}')"
   ]
  },
  {
   "cell_type": "markdown",
   "metadata": {
    "kernel": "SoS",
    "papermill": {
     "duration": 0.020562,
     "end_time": "2019-12-23T17:04:09.641554",
     "exception": false,
     "start_time": "2019-12-23T17:04:09.620992",
     "status": "completed"
    },
    "tags": []
   },
   "source": [
    "Here we showed touch function for _output, which is of type sos_targets. This function creates one or more files in variable _output and will be used quite often in the tutorials because SoS will check if the output file exists after the execution of the step.\n",
    "\n",
    "As for the case of input statement, multiple files can be listed as multiple paramters, sequences (list, tuple etc), or variables of string or sequence types."
   ]
  },
  {
   "cell_type": "markdown",
   "metadata": {
    "kernel": "SoS",
    "papermill": {
     "duration": 0.020669,
     "end_time": "2019-12-23T17:04:09.682237",
     "exception": false,
     "start_time": "2019-12-23T17:04:09.661568",
     "status": "completed"
    },
    "tags": []
   },
   "source": [
    "## Output in substeps"
   ]
  },
  {
   "cell_type": "markdown",
   "metadata": {
    "kernel": "SoS",
    "papermill": {
     "duration": 0.028151,
     "end_time": "2019-12-23T17:04:09.737597",
     "exception": false,
     "start_time": "2019-12-23T17:04:09.709446",
     "status": "completed"
    },
    "tags": []
   },
   "source": [
    "It is very important to remember that **output statement defines output for substeps**.\n",
    "\n",
    "Let us create a few input files,"
   ]
  },
  {
   "cell_type": "code",
   "execution_count": 3,
   "metadata": {
    "kernel": "SoS",
    "papermill": {
     "duration": 0.905892,
     "end_time": "2019-12-23T17:04:10.671836",
     "exception": false,
     "start_time": "2019-12-23T17:04:09.765944",
     "status": "completed"
    },
    "tags": []
   },
   "outputs": [],
   "source": [
    "!touch a.txt b.txt c.txt d.txt"
   ]
  },
  {
   "cell_type": "markdown",
   "metadata": {
    "kernel": "SoS",
    "papermill": {
     "duration": 0.020594,
     "end_time": "2019-12-23T17:04:10.718471",
     "exception": false,
     "start_time": "2019-12-23T17:04:10.697877",
     "status": "completed"
    },
    "tags": []
   },
   "source": [
    "In the following example, option `group_by` creates two substeps with `_input` being `a.txt` and `b.txt` respectively. The `_input` (actually `_input[0]` is of type `file_target`, which is derived from `pathlib.Path` so you can use any member function for `pathlib.Path`. Here we use `with_suffix` to obtain `a.bak` from `a.txt`."
   ]
  },
  {
   "cell_type": "code",
   "execution_count": 4,
   "metadata": {
    "kernel": "SoS",
    "papermill": {
     "duration": 0.103124,
     "end_time": "2019-12-23T17:04:10.842030",
     "exception": false,
     "start_time": "2019-12-23T17:04:10.738906",
     "status": "completed"
    },
    "tags": []
   },
   "outputs": [
    {
     "name": "stdout",
     "output_type": "stream",
     "text": [
      "Input of substep is a.txt, output of substep is a.bak\n"
     ]
    },
    {
     "name": "stdout",
     "output_type": "stream",
     "text": [
      "Input of substep is b.txt, output of substep is b.bak\n"
     ]
    }
   ],
   "source": [
    "input: 'a.txt', 'b.txt', group_by=1\n",
    "output: _input.with_suffix('.bak')\n",
    "\n",
    "print(f'Input of substep is {_input}, output of substep is {_output}')\n",
    "_output.touch()"
   ]
  },
  {
   "cell_type": "markdown",
   "metadata": {
    "kernel": "SoS",
    "papermill": {
     "duration": 0.029497,
     "end_time": "2019-12-23T17:04:10.902830",
     "exception": false,
     "start_time": "2019-12-23T17:04:10.873333",
     "status": "completed"
    },
    "tags": []
   },
   "source": [
    "As you can see, `_output` is defined for each substep from `_input`. But what is `step_output`?\n",
    "\n",
    "**`step_output` is defined as an accumuted version of `_output`, with `_output` as its groups**. It is useful only when the output is imported to other steps, either implicitly as show below, or as output of functions `output_from` and `named_output`."
   ]
  },
  {
   "cell_type": "code",
   "execution_count": 5,
   "metadata": {
    "kernel": "SoS",
    "papermill": {
     "duration": 3.5291,
     "end_time": "2019-12-23T17:04:14.466397",
     "exception": false,
     "start_time": "2019-12-23T17:04:10.937297",
     "status": "completed"
    },
    "tags": []
   },
   "outputs": [
    {
     "name": "stdout",
     "output_type": "stream",
     "text": [
      "\u001b[32m[\u001b[0m\u001b[32m#\u001b[0m\u001b[32m#\u001b[0m\u001b[32m]\u001b[0m 2 steps processed (4 jobs completed)\n"
     ]
    }
   ],
   "source": [
    "%run -v0\n",
    "\n",
    "[10]\n",
    "input: 'a.txt', 'b.txt', group_by=1\n",
    "output: _input.with_suffix('.bak')\n",
    "\n",
    "print(f'Input of substep is {_input}, output of substep is {_output}')\n",
    "_output.touch()\n",
    "\n",
    "[20]\n",
    "print(f'step_input is {step_input}, substep input is {_input}')"
   ]
  },
  {
   "cell_type": "markdown",
   "metadata": {
    "kernel": "SoS",
    "papermill": {
     "duration": 0.022838,
     "end_time": "2019-12-23T17:04:14.517294",
     "exception": false,
     "start_time": "2019-12-23T17:04:14.494456",
     "status": "completed"
    },
    "tags": []
   },
   "source": [
    "**SoS substeps must produce different sets of `_output`**. The following workflow will fail to execute because both substeps will attemp to produce `a.bak`."
   ]
  },
  {
   "cell_type": "code",
   "execution_count": 6,
   "metadata": {
    "kernel": "SoS",
    "papermill": {
     "duration": 0.043002,
     "end_time": "2019-12-23T17:04:14.582363",
     "exception": true,
     "start_time": "2019-12-23T17:04:14.539361",
     "status": "failed"
    },
    "tags": []
   },
   "outputs": [
    {
     "name": "stderr",
     "output_type": "stream",
     "text": [
      "Failed to process step output ('a.bak'): Output a.bak from substep 1 of 2 substeps overlaps with output from a previous substep.\n"
     ]
    }
   ],
   "source": [
    "input: 'a.txt', 'b.txt', group_by=1\n",
    "output: 'a.bak'\n",
    "\n",
    "_output.touch()"
   ]
  },
  {
   "cell_type": "markdown",
   "metadata": {
    "kernel": "SoS",
    "papermill": {
     "duration": null,
     "end_time": null,
     "exception": null,
     "start_time": null,
     "status": "pending"
    },
    "tags": []
   },
   "source": [
    "## Output with predefined groups (option `group_by`)"
   ]
  },
  {
   "cell_type": "markdown",
   "metadata": {
    "kernel": "SoS",
    "papermill": {
     "duration": null,
     "end_time": null,
     "exception": null,
     "start_time": null,
     "status": "pending"
    },
    "tags": []
   },
   "source": [
    "In situations when you have predefined input and output pairs, you can define output groups with option `group_by`. The key here is that the number of groups should match the number of substeps.\n",
    "\n",
    "For example,"
   ]
  },
  {
   "cell_type": "code",
   "execution_count": null,
   "metadata": {
    "kernel": "SoS",
    "papermill": {
     "duration": null,
     "end_time": null,
     "exception": null,
     "start_time": null,
     "status": "pending"
    },
    "tags": []
   },
   "outputs": [],
   "source": [
    "%run -s force -v0\n",
    "\n",
    "txt_files = ['a.txt', 'b.txt']\n",
    "bak_files = ['a.bak', 'b.bak']\n",
    "\n",
    "input: txt_files, group_by=1\n",
    "output: bak_files, group_by=1\n",
    "\n",
    "print(f'Input of substep is {_input}, output of substep is {_output}')\n",
    "_output.touch()"
   ]
  },
  {
   "cell_type": "markdown",
   "metadata": {
    "kernel": "SoS",
    "papermill": {
     "duration": null,
     "end_time": null,
     "exception": null,
     "start_time": null,
     "status": "pending"
    },
    "tags": []
   },
   "source": [
    "## Named output"
   ]
  },
  {
   "cell_type": "markdown",
   "metadata": {
    "kernel": "SoS",
    "papermill": {
     "duration": null,
     "end_time": null,
     "exception": null,
     "start_time": null,
     "status": "pending"
    },
    "tags": []
   },
   "source": [
    "Similar to named input, you can assign labels to output files and refer them with `_output[\"label\"]`."
   ]
  },
  {
   "cell_type": "code",
   "execution_count": null,
   "metadata": {
    "kernel": "SoS",
    "papermill": {
     "duration": null,
     "end_time": null,
     "exception": null,
     "start_time": null,
     "status": "pending"
    },
    "tags": []
   },
   "outputs": [],
   "source": [
    "output: A='a.txt', B='b.txt'\n",
    "\n",
    "print(f\"Output with label A is {_output['A']}, with label B is {_output['B']}\")\n",
    "print(f\"Output of step is {_output}\")\n",
    "_output.touch()"
   ]
  },
  {
   "cell_type": "markdown",
   "metadata": {
    "kernel": "SoS",
    "papermill": {
     "duration": null,
     "end_time": null,
     "exception": null,
     "start_time": null,
     "status": "pending"
    },
    "tags": []
   },
   "source": [
    "More importantly though, is that these labels defines named output that can be referred to with function `named_output`."
   ]
  },
  {
   "cell_type": "code",
   "execution_count": null,
   "metadata": {
    "kernel": "SoS",
    "papermill": {
     "duration": null,
     "end_time": null,
     "exception": null,
     "start_time": null,
     "status": "pending"
    },
    "tags": []
   },
   "outputs": [],
   "source": [
    "%run -v0\n",
    "\n",
    "[A]\n",
    "output: A='a.txt', B='b.txt'\n",
    "\n",
    "_output.touch()\n",
    "\n",
    "[default]\n",
    "input: named_output('A')\n",
    "print(f'Input of step is {_input}')"
   ]
  },
  {
   "cell_type": "markdown",
   "metadata": {
    "kernel": "SoS",
    "papermill": {
     "duration": null,
     "end_time": null,
     "exception": null,
     "start_time": null,
     "status": "pending"
    },
    "tags": []
   },
   "source": [
    "## Attach variables to individual output files"
   ]
  },
  {
   "cell_type": "markdown",
   "metadata": {
    "kernel": "SoS",
    "papermill": {
     "duration": null,
     "end_time": null,
     "exception": null,
     "start_time": null,
     "status": "pending"
    },
    "tags": []
   },
   "source": [
    "The `paired_with` variables can be used to attach variables to output files."
   ]
  },
  {
   "cell_type": "code",
   "execution_count": null,
   "metadata": {
    "kernel": "SoS",
    "papermill": {
     "duration": null,
     "end_time": null,
     "exception": null,
     "start_time": null,
     "status": "pending"
    },
    "tags": []
   },
   "outputs": [],
   "source": [
    "output: 'a.txt', 'b.txt', paired_with=dict(sample_name=['A', 'B'])\n",
    "print(f'Output of substep is {_output}, with sample names {_output[0].sample_name} and {_output[1].sample_name}')\n",
    "_output.touch()"
   ]
  },
  {
   "cell_type": "markdown",
   "metadata": {
    "kernel": "SoS",
    "papermill": {
     "duration": null,
     "end_time": null,
     "exception": null,
     "start_time": null,
     "status": "pending"
    },
    "tags": []
   },
   "source": [
    "## Attach variables to output"
   ]
  },
  {
   "cell_type": "markdown",
   "metadata": {
    "kernel": "SoS",
    "papermill": {
     "duration": null,
     "end_time": null,
     "exception": null,
     "start_time": null,
     "status": "pending"
    },
    "tags": []
   },
   "source": [
    "Option `group_with` can be used to attach variable to output groups, which can be useful as annotations for output files when the output is passed to other steps.\n",
    "\n",
    "A potentially confusing part of the `group_with` option is that it assigns elements of the list to all `_output`, not to a single `_output` that the output statement is creating."
   ]
  },
  {
   "cell_type": "code",
   "execution_count": null,
   "metadata": {
    "kernel": "SoS",
    "papermill": {
     "duration": null,
     "end_time": null,
     "exception": null,
     "start_time": null,
     "status": "pending"
    },
    "tags": []
   },
   "outputs": [],
   "source": [
    "sample_names = ['A', 'B']\n",
    "\n",
    "input: for_each=dict(sample_name=sample_names)\n",
    "output:  f'out_{sample_name}.txt', group_with=dict(sample=sample_names)\n",
    "print(f'Output of substep is {_output}, with sample name {_output.sample}')\n",
    "\n",
    "_output.touch()"
   ]
  },
  {
   "cell_type": "markdown",
   "metadata": {
    "kernel": "SoS",
    "papermill": {
     "duration": null,
     "end_time": null,
     "exception": null,
     "start_time": null,
     "status": "pending"
    },
    "tags": []
   },
   "source": [
    "If you would like to attach some result to individual substep, it can be easier to just set the variable to `_output` though."
   ]
  },
  {
   "cell_type": "code",
   "execution_count": null,
   "metadata": {
    "kernel": "SoS",
    "papermill": {
     "duration": null,
     "end_time": null,
     "exception": null,
     "start_time": null,
     "status": "pending"
    },
    "tags": []
   },
   "outputs": [],
   "source": [
    "%run -v0\n",
    "\n",
    "[10]\n",
    "input: for_each=dict(i=range(2))\n",
    "output:  f'out_{i}.txt'\n",
    "\n",
    "import random\n",
    "seed = random.randint(1, 1000)\n",
    "\n",
    "_output.touch()\n",
    "_output.set(seed=seed)\n",
    "\n",
    "[20]\n",
    "print(f'seed of output {_input} is {seed}')"
   ]
  },
  {
   "cell_type": "markdown",
   "metadata": {
    "kernel": "SoS",
    "papermill": {
     "duration": null,
     "end_time": null,
     "exception": null,
     "start_time": null,
     "status": "pending"
    },
    "tags": []
   },
   "source": [
    "## Further reading\n",
    "\n",
    "* [`input` statement](input_statement.html)"
   ]
  }
 ],
 "metadata": {
  "kernelspec": {
   "display_name": "SoS",
   "language": "sos",
   "name": "sos"
  },
  "language_info": {
   "codemirror_mode": "sos",
   "file_extension": ".sos",
   "mimetype": "text/x-sos",
   "name": "sos",
   "nbconvert_exporter": "sos_notebook.converter.SoS_Exporter",
   "pygments_lexer": "sos"
  },
  "papermill": {
   "duration": 17.986605,
   "end_time": "2019-12-23T17:04:19.796029",
   "environment_variables": {},
   "exception": true,
   "input_path": "/Users/bpeng1/sos/sos-docs/src/user_guide/output_statement.ipynb",
   "output_path": "output_statement.ipynb_rerun.ipynb",
   "parameters": {},
   "start_time": "2019-12-23T17:04:01.809424",
   "version": "1.1.0"
  },
  "sos": {
   "kernels": [
    [
     "Bash",
     "bash",
     "Bash",
     "#E6EEFF"
    ],
    [
     "R",
     "ir",
     "R",
     "#DCDCDA"
    ],
    [
     "SoS",
     "sos",
     "",
     ""
    ]
   ],
   "panel": {
    "displayed": true,
    "height": 0
   },
   "version": "0.21.2"
  }
 },
 "nbformat": 4,
 "nbformat_minor": 4
}