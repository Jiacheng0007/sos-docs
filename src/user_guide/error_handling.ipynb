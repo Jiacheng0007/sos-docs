{
 "cells": [
  {
   "cell_type": "markdown",
   "metadata": {
    "kernel": "SoS",
    "tags": []
   },
   "source": [
    "# Error handling"
   ]
  },
  {
   "cell_type": "markdown",
   "metadata": {
    "kernel": "SoS",
    "tags": []
   },
   "source": [
    "* **Difficulty level**: easy\n",
    "* **Time need to lean**: 10 minutes or less\n",
    "* **Key points**:\n",
    "  * Option `-e` specifies how sos handled runtime options\n",
    "  * `-e default` terminates the current step (and branch), but allowes other branches to complete.\n",
    "  * `-e ignore` ignores errors and allow current and other branches to complete.\n",
    "  * `-e abort` terminates the current and all running steps immediately.  "
   ]
  },
  {
   "cell_type": "markdown",
   "metadata": {
    "kernel": "SoS",
    "tags": []
   },
   "source": [
    "Runtime errors happen from time to time. Depending on the nature of errors you can terminate the entire workflow brutally, gentaly, or ignore all errors."
   ]
  },
  {
   "cell_type": "markdown",
   "metadata": {
    "kernel": "SoS",
    "tags": []
   },
   "source": [
    "## Four error handling modes"
   ]
  },
  {
   "cell_type": "markdown",
   "metadata": {
    "kernel": "SoS",
    "tags": []
   },
   "source": [
    "Let us assume that an error happens at a substep of step, and we need to decide \n",
    "\n",
    "1. Should running steps or substeps be terminates immediately.\n",
    "2. Should the rest of the substeps of the failing step be executed if they have not been submitted.\n",
    "3. Should the unaffected branches of the DAG be executed while allowing the branch with failed step to terminate.\n",
    "4. Should SoS try to execute the steps after the failed step.\n",
    "\n",
    "The choices to these questions are controlled by the following error modes, specified with option `-e` to command `sos run` (or magics `%run` etc in SoS Notebook):\n",
    "\n",
    "| mode | running substeps | pending substeps | following steps | unaffected branches | exit status |\n",
    "| -- | --| -- | -- | -- | -- |\n",
    "| **`default`** |  allow complete | allow complete | canceled | allow complete | failed |\n",
    "| **`ignore`** | allow complete | allow complete | allow complete | allow complete | success |\n",
    "| **`abort`** | aborted | canceled | canceled | canceled | failed |"
   ]
  },
  {
   "cell_type": "markdown",
   "metadata": {
    "kernel": "SoS",
    "tags": []
   },
   "source": [
    "Let us use the following example workflow to demonstrate the different modes. In this workflow,\n",
    "\n",
    "1. Step `10` has three substeps that are executed in parallel for 2 seconds. The second substep will generate an error at the end of the step.\n",
    "2. Step `20` follows step `10` and will execute three substeps for 2 seconds.\n",
    "3. Step `30` has `input: None` so it will start at the same time as step `10`. It is supposed to sleep 3 seconds. \n",
    "4. Step `40` will be executed after step `30` for 1 second."
   ]
  },
  {
   "cell_type": "code",
   "execution_count": 1,
   "metadata": {
    "kernel": "SoS",
    "tags": []
   },
   "outputs": [
    {
     "data": {
      "text/html": [
       "<div class=\"sos_hint\">Cell content saved to <a href=\"test_error_mode.sos\" target=\"_blank\">test_error_mode.sos</a>, use option -r to also execute the cell.</div>"
      ],
      "text/plain": [
       "Cell content saved to test_error_mode.sos, use option -r to also execute the cell.\n"
      ]
     },
     "metadata": {},
     "output_type": "display_data"
    }
   ],
   "source": [
    "%save -f test_error_mode.sos\n",
    "\n",
    "[global]\n",
    "import time\n",
    "\n",
    "[10]\n",
    "input: for_each=dict(i=range(3))\n",
    "\n",
    "print(f'Substep 10.{_index} started')\n",
    "time.sleep(2)\n",
    "\n",
    "fail_if(i==1, 'Substep terminated')\n",
    "print(f'Substep 10.{_index} completed')\n",
    "\n",
    "[20]\n",
    "print(f'Substep 20.{_index} started')\n",
    "time.sleep(2)\n",
    "print(f'Substep 20.{_index} completed')\n",
    "\n",
    "[30]\n",
    "input: None\n",
    "print(f'Step 30 started')\n",
    "time.sleep(3)\n",
    "print(f'Step 30 completed')\n",
    "\n",
    "[40]\n",
    "print(f'Step 40 started')\n",
    "time.sleep(1)\n",
    "print(f'Step 40 completed')"
   ]
  },
  {
   "cell_type": "markdown",
   "metadata": {
    "kernel": "SoS",
    "tags": []
   },
   "source": [
    "The execution of this workflow in different error handling modes are depicated as follows:\n",
    "\n",
    "<p align=\"center\">\n",
    "  <img src=\"https://vatlab.github.io/sos-docs/doc/media/error_handling.png\" width=\"800px\">\n",
    "</p>"
   ]
  },
  {
   "cell_type": "markdown",
   "metadata": {
    "kernel": "SoS",
    "tags": []
   },
   "source": [
    "## `default` error mode"
   ]
  },
  {
   "cell_type": "code",
   "execution_count": 2,
   "metadata": {
    "kernel": "SoS",
    "tags": []
   },
   "outputs": [
    {
     "name": "stdout",
     "output_type": "stream",
     "text": [
      "\u001b[32m[\u001b[0m\u001b[97m.\u001b[0m\u001b[97m.\u001b[\u001b[32m.\u001b[0m\u001b[97m.\u001b[0\u001b[32m.\u001b[\u001b[32m#\u001b[0m\u001b[97m.\u001b[0\u001b[32m.\u001b[0\u001b[32m#\u001b[0m\u001b[32m]\u001b[0m Failed with 3 steps processed (4 jobs completed)\n",
      "\u001b[91mERROR\u001b[0m: \u001b[91m[10]: [(id=a94d6f839e23ad66, index=1)]: Substep terminated\n",
      "[default]: Exits with 1 pending step (20)\u001b[0m\n"
     ]
    }
   ],
   "source": [
    "!sos run test_error_mode -v0"
   ]
  },
  {
   "cell_type": "markdown",
   "metadata": {
    "kernel": "SoS",
    "tags": []
   },
   "source": [
    "In the `default` error-handling mode, three substeps of step 10 and step 30 are started at the same time. After substep 10.1 failed, step 10 is stopped, but step 30 is allowed to completed, followed by step 40 because it is independent of step 10. Step 20 is canceled due to the error from step 10."
   ]
  },
  {
   "cell_type": "markdown",
   "metadata": {
    "kernel": "SoS",
    "tags": []
   },
   "source": [
    "## `ignore` error mode"
   ]
  },
  {
   "cell_type": "code",
   "execution_count": 3,
   "metadata": {
    "kernel": "SoS",
    "tags": []
   },
   "outputs": [
    {
     "name": "stdout",
     "output_type": "stream",
     "text": [
      "\u001b[32m[\u001b[0m\u001b[97m.\u001b[0m\u001b[97m.\u001b[\u001b[32m.\u001b[0\u001b[32m#\u001b[0m\u001b[32m.\u001b[0\u001b[32m#\u001b[0m\u001b[97m.\u001b[0\u001b[32m.\u001b[0\u001b[32m#\u001b[0m\u001b[32m#\u001b[0m\u001b[32m]\u001b[0m 4 steps processed (6 jobs completed, 1 job ignored)\n"
     ]
    }
   ],
   "source": [
    "!sos run test_error_mode -e ignore -v0"
   ]
  },
  {
   "cell_type": "markdown",
   "metadata": {
    "kernel": "SoS",
    "tags": []
   },
   "source": [
    "In the `ignore` error-handling mode, three substeps of step 10 and step 30 are started at the same time. After substep 10.1 failed, it produces an `step_output` with an invalid substep. The workflow continues to execute. The substep `20.1` is not executed, but the rest of two substeps are executed successfully. The other branch of the DAG (steps `30` and `40`) are not affected by the error. The workflow is considered to be executed successfully in the end despite of the error."
   ]
  },
  {
   "cell_type": "markdown",
   "metadata": {
    "kernel": "SoS",
    "tags": []
   },
   "source": [
    "## `abort` error mode"
   ]
  },
  {
   "cell_type": "code",
   "execution_count": 4,
   "metadata": {
    "kernel": "SoS",
    "tags": []
   },
   "outputs": [
    {
     "name": "stdout",
     "output_type": "stream",
     "text": [
      "\u001b[32m[\u001b[0m\u001b[97m.\u001b[0m\u001b[97m.\u001b[\u001b[32m.\u001b[0\u001b[32m]\u001b[0m Failed with 2 steps processed (3 jobs completed)\n",
      "\u001b[91mERROR\u001b[0m: \u001b[91m[default]: [(id=a94d6f839e23ad66, index=1)]: Substep terminated\n",
      "[default]: Exits with 2 pending steps (20, 40) and 1 running step (30)\u001b[0m\n"
     ]
    }
   ],
   "source": [
    "!sos run test_error_mode -e abort -v0"
   ]
  },
  {
   "cell_type": "markdown",
   "metadata": {
    "kernel": "SoS",
    "tags": []
   },
   "source": [
    "In the `abort` error-handling mode, three substeps of step 10 and step 30 are started at the same time. After substep 10.1 failed, it stops step 10, as well as the step 30 which are still running. Steps 20 and 40 are cancelled as well."
   ]
  },
  {
   "cell_type": "markdown",
   "metadata": {
    "kernel": "SoS",
    "tags": []
   },
   "source": [
    "## Further reading\n",
    "\n",
    "* [Command line interface](cli.html)"
   ]
  }
 ],
 "metadata": {
  "kernelspec": {
   "display_name": "SoS",
   "language": "sos",
   "name": "sos"
  },
  "language_info": {
   "codemirror_mode": "sos",
   "file_extension": ".sos",
   "mimetype": "text/x-sos",
   "name": "sos",
   "nbconvert_exporter": "sos_notebook.converter.SoS_Exporter",
   "pygments_lexer": "sos"
  },
  "sos": {
   "kernels": [
    [
     "Bash",
     "bash",
     "Bash",
     "#E6EEFF"
    ],
    [
     "R",
     "ir",
     "R",
     "#DCDCDA"
    ],
    [
     "SoS",
     "sos",
     "",
     ""
    ]
   ],
   "panel": {
    "displayed": true,
    "height": 0
   },
   "version": "0.21.5"
  }
 },
 "nbformat": 4,
 "nbformat_minor": 4
}
