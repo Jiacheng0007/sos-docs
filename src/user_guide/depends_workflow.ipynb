{
 "cells": [
  {
   "cell_type": "markdown",
   "metadata": {
    "kernel": "SoS",
    "papermill": {
     "duration": 0.004292,
     "end_time": "2019-12-23T17:00:41.998439",
     "exception": false,
     "start_time": "2019-12-23T17:00:41.994147",
     "status": "completed"
    },
    "tags": []
   },
   "source": [
    "# How to explicitly execute another workflow before a SoS step"
   ]
  },
  {
   "cell_type": "markdown",
   "metadata": {
    "kernel": "SoS",
    "papermill": {
     "duration": 0.002748,
     "end_time": "2019-12-23T17:00:42.004750",
     "exception": false,
     "start_time": "2019-12-23T17:00:42.002002",
     "status": "completed"
    },
    "tags": []
   },
   "source": [
    "* **Difficulty level**: easy\n",
    "* **Time need to lean**: 10 minutes or less\n",
    "* **Key points**:\n",
    "  * `sos_step` can trigger a workflow\n",
    "  "
   ]
  },
  {
   "cell_type": "markdown",
   "metadata": {
    "kernel": "SoS",
    "papermill": {
     "duration": 0.002894,
     "end_time": "2019-12-23T17:00:42.010447",
     "exception": false,
     "start_time": "2019-12-23T17:00:42.007553",
     "status": "completed"
    },
    "tags": []
   },
   "source": [
    "## Further reading\n",
    "\n",
    "* "
   ]
  }
 ],
 "metadata": {
  "kernelspec": {
   "display_name": "SoS",
   "language": "sos",
   "name": "sos"
  },
  "language_info": {
   "codemirror_mode": "sos",
   "file_extension": ".sos",
   "mimetype": "text/x-sos",
   "name": "sos",
   "nbconvert_exporter": "sos_notebook.converter.SoS_Exporter",
   "pygments_lexer": "sos"
  },
  "papermill": {
   "duration": 3.175927,
   "end_time": "2019-12-23T17:00:42.433069",
   "environment_variables": {},
   "exception": null,
   "input_path": "/Users/bpeng1/sos/sos-docs/src/user_guide/depends_workflow.ipynb",
   "output_path": "depends_workflow.ipynb_rerun.ipynb",
   "parameters": {},
   "start_time": "2019-12-23T17:00:39.257142",
   "version": "1.1.0"
  },
  "sos": {
   "kernels": [
    [
     "Bash",
     "bash",
     "Bash",
     "#E6EEFF"
    ],
    [
     "R",
     "ir",
     "R",
     "#DCDCDA"
    ],
    [
     "SoS",
     "sos",
     "",
     ""
    ]
   ],
   "panel": {
    "displayed": true,
    "height": 0
   },
   "version": "0.18.5"
  }
 },
 "nbformat": 4,
 "nbformat_minor": 2
}