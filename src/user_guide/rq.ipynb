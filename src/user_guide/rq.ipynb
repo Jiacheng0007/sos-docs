{
 "cells": [
  {
   "cell_type": "markdown",
   "metadata": {
    "kernel": "SoS",
    "papermill": {
     "duration": 0.013522,
     "end_time": "2019-12-23T17:05:03.377275",
     "exception": false,
     "start_time": "2019-12-23T17:05:03.363753",
     "status": "completed"
    },
    "tags": []
   },
   "source": [
    "# How to work with a RQ task queue system"
   ]
  },
  {
   "cell_type": "markdown",
   "metadata": {
    "kernel": "SoS",
    "papermill": {
     "duration": 0.009507,
     "end_time": "2019-12-23T17:05:03.398607",
     "exception": false,
     "start_time": "2019-12-23T17:05:03.389100",
     "status": "completed"
    },
    "tags": []
   },
   "source": [
    "* **Difficulty level**: difficult\n",
    "* **Time need to lean**: 10 minutes or less\n",
    "* **Key points**:\n",
    "  "
   ]
  },
  {
   "cell_type": "markdown",
   "metadata": {
    "kernel": "SoS",
    "output_cache": "[]",
    "papermill": {
     "duration": 0.011154,
     "end_time": "2019-12-23T17:05:03.418871",
     "exception": false,
     "start_time": "2019-12-23T17:05:03.407717",
     "status": "completed"
    },
    "tags": []
   },
   "source": [
    "### RQ configuration"
   ]
  },
  {
   "cell_type": "markdown",
   "metadata": {
    "kernel": "SoS",
    "output_cache": "[]",
    "papermill": {
     "duration": 0.01098,
     "end_time": "2019-12-23T17:05:03.441199",
     "exception": false,
     "start_time": "2019-12-23T17:05:03.430219",
     "status": "completed"
    },
    "tags": []
   },
   "source": [
    "#### `redis_host`"
   ]
  },
  {
   "cell_type": "markdown",
   "metadata": {
    "kernel": "SoS",
    "output_cache": "[]",
    "papermill": {
     "duration": 0.009913,
     "end_time": "2019-12-23T17:05:03.460813",
     "exception": false,
     "start_time": "2019-12-23T17:05:03.450900",
     "status": "completed"
    },
    "tags": []
   },
   "source": [
    "Address of the redis server, default to server `address`, or `localhost` if no `address` is defined. A redis host can be on a different host than the local host, but has to be on the same host as the redis worker."
   ]
  },
  {
   "cell_type": "markdown",
   "metadata": {
    "kernel": "SoS",
    "output_cache": "[]",
    "papermill": {
     "duration": 0.008175,
     "end_time": "2019-12-23T17:05:03.476823",
     "exception": false,
     "start_time": "2019-12-23T17:05:03.468648",
     "status": "completed"
    },
    "tags": []
   },
   "source": [
    "#### `redis_port`"
   ]
  },
  {
   "cell_type": "markdown",
   "metadata": {
    "kernel": "SoS",
    "output_cache": "[]",
    "papermill": {
     "duration": 0.007511,
     "end_time": "2019-12-23T17:05:03.493230",
     "exception": false,
     "start_time": "2019-12-23T17:05:03.485719",
     "status": "completed"
    },
    "tags": []
   },
   "source": [
    "Port of the redis server, default to `6379`. Note that this is not the same as option `port`, which is the port for ssh communication."
   ]
  },
  {
   "cell_type": "markdown",
   "metadata": {
    "kernel": "SoS",
    "papermill": {
     "duration": 0.011026,
     "end_time": "2019-12-23T17:05:03.513082",
     "exception": false,
     "start_time": "2019-12-23T17:05:03.502056",
     "status": "completed"
    },
    "tags": []
   },
   "source": [
    "#### `queue`"
   ]
  },
  {
   "cell_type": "markdown",
   "metadata": {
    "kernel": "SoS",
    "papermill": {
     "duration": 0.009234,
     "end_time": "2019-12-23T17:05:03.532048",
     "exception": false,
     "start_time": "2019-12-23T17:05:03.522814",
     "status": "completed"
    },
    "tags": []
   },
   "source": [
    "Name of the redis queue for the rq worker, if the worker is started with one or more queue names."
   ]
  },
  {
   "cell_type": "markdown",
   "metadata": {
    "kernel": "SoS",
    "papermill": {
     "duration": 0.011192,
     "end_time": "2019-12-23T17:05:03.554687",
     "exception": false,
     "start_time": "2019-12-23T17:05:03.543495",
     "status": "completed"
    },
    "tags": []
   },
   "source": [
    "#### Sample RQ configuration"
   ]
  },
  {
   "cell_type": "markdown",
   "metadata": {
    "kernel": "SoS",
    "papermill": {
     "duration": 0.007512,
     "end_time": "2019-12-23T17:05:03.571678",
     "exception": false,
     "start_time": "2019-12-23T17:05:03.564166",
     "status": "completed"
    },
    "tags": []
   },
   "source": [
    "```\n",
    "    rq:\n",
    "        description: rq server with worker\n",
    "        address: server_url\n",
    "        queue_type: rq\n",
    "        redis_host: server_url\n",
    "        redis_port: 6379\n",
    "        queue: high\n",
    "        paths:\n",
    "            home: /Users/{user_name}\n",
    "```            "
   ]
  },
  {
   "cell_type": "markdown",
   "metadata": {
    "kernel": "SoS",
    "papermill": {
     "duration": 0.006114,
     "end_time": "2019-12-23T17:05:03.584763",
     "exception": false,
     "start_time": "2019-12-23T17:05:03.578649",
     "status": "completed"
    },
    "tags": []
   },
   "source": [
    "## Further reading\n",
    "\n",
    "* "
   ]
  }
 ],
 "metadata": {
  "kernelspec": {
   "display_name": "SoS",
   "language": "sos",
   "name": "sos"
  },
  "language_info": {
   "codemirror_mode": "sos",
   "file_extension": ".sos",
   "mimetype": "text/x-sos",
   "name": "sos",
   "nbconvert_exporter": "sos_notebook.converter.SoS_Exporter",
   "pygments_lexer": "sos"
  },
  "papermill": {
   "duration": 4.034078,
   "end_time": "2019-12-23T17:05:04.008340",
   "environment_variables": {},
   "exception": null,
   "input_path": "/Users/bpeng1/sos/sos-docs/src/user_guide/rq.ipynb",
   "output_path": "rq.ipynb_rerun.ipynb",
   "parameters": {},
   "start_time": "2019-12-23T17:04:59.974262",
   "version": "1.1.0"
  },
  "sos": {
   "kernels": [
    [
     "Bash",
     "bash",
     "Bash",
     "#E6EEFF"
    ],
    [
     "R",
     "ir",
     "R",
     "#DCDCDA"
    ],
    [
     "SoS",
     "sos",
     "",
     ""
    ]
   ],
   "panel": {
    "displayed": true,
    "height": 0
   },
   "version": "0.17.5"
  }
 },
 "nbformat": 4,
 "nbformat_minor": 2
}