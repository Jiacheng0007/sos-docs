{
 "cells": [
  {
   "cell_type": "markdown",
   "metadata": {
    "kernel": "SoS",
    "papermill": {
     "duration": 0.032247,
     "end_time": "2019-12-23T17:00:51.397167",
     "exception": false,
     "start_time": "2019-12-23T17:00:51.364920",
     "status": "completed"
    },
    "tags": []
   },
   "source": [
    "# How to execute scripts in docker"
   ]
  },
  {
   "cell_type": "markdown",
   "metadata": {
    "kernel": "SoS",
    "papermill": {
     "duration": 0.031073,
     "end_time": "2019-12-23T17:00:51.458463",
     "exception": false,
     "start_time": "2019-12-23T17:00:51.427390",
     "status": "completed"
    },
    "tags": []
   },
   "source": [
    "* **Difficulty level**: intermediate\n",
    "* **Time need to lean**: 30 minutes or less\n",
    "* **Key points**:\n",
    "  * The `container` option runs the script inside the specified docker container\n",
    "  * Action `docker_build` builds docker images from embedded `Dockerfile`"
   ]
  },
  {
   "cell_type": "markdown",
   "metadata": {
    "kernel": "SoS",
    "papermill": {
     "duration": 0.032818,
     "end_time": "2019-12-23T17:00:51.535237",
     "exception": false,
     "start_time": "2019-12-23T17:00:51.502419",
     "status": "completed"
    },
    "tags": []
   },
   "source": [
    "## Running a script inside docker"
   ]
  },
  {
   "cell_type": "markdown",
   "metadata": {
    "kernel": "SoS",
    "papermill": {
     "duration": 0.029691,
     "end_time": "2019-12-23T17:00:51.594223",
     "exception": false,
     "start_time": "2019-12-23T17:00:51.564532",
     "status": "completed"
    },
    "tags": []
   },
   "source": [
    "SoS executes scripts inside docker by calling command `docker run` with appropriate parameters. Suppose you do not have ruby installed locally and would like to run a ruby script, you can execute it inside a `ruby` container by specifying the docker image to use:"
   ]
  },
  {
   "cell_type": "code",
   "execution_count": 1,
   "metadata": {
    "kernel": "SoS",
    "papermill": {
     "duration": 8.040679,
     "end_time": "2019-12-23T17:00:59.666664",
     "exception": false,
     "start_time": "2019-12-23T17:00:51.625985",
     "status": "completed"
    },
    "scrolled": true,
    "tags": []
   },
   "outputs": [
    {
     "name": "stdout",
     "output_type": "stream",
     "text": [
      "HINT: Pulling docker image ruby\n"
     ]
    },
    {
     "name": "stdout",
     "output_type": "stream",
     "text": [
      "Line1 contains Cats\r\n"
     ]
    }
   ],
   "source": [
    "%run\n",
    "ruby: container='ruby'\n",
    "    line1 = \"Cats are smarter than dogs\";\n",
    "    line2 = \"Dogs also like meat\";\n",
    "\n",
    "    if ( line1 =~ /Cats(.*)/ )\n",
    "      puts \"Line1 contains Cats\"\n",
    "    end\n",
    "    if ( line2 =~ /Cats(.*)/ )\n",
    "      puts \"Line2 contains  Dogs\"\n",
    "    end"
   ]
  },
  {
   "cell_type": "markdown",
   "metadata": {
    "kernel": "SoS",
    "papermill": {
     "duration": 0.042859,
     "end_time": "2019-12-23T17:00:59.755621",
     "exception": false,
     "start_time": "2019-12-23T17:00:59.712762",
     "status": "completed"
    },
    "tags": []
   },
   "source": [
    "The actual `docker run` command executed by SoS can be shown when you execute the script in dryrun mode (with `-n` option). In this mode, SoS would print the interpolated script (if option `expand=True` is set) and the docker command to execute it:"
   ]
  },
  {
   "cell_type": "code",
   "execution_count": 2,
   "metadata": {
    "kernel": "SoS",
    "papermill": {
     "duration": 4.749305,
     "end_time": "2019-12-23T17:01:04.543285",
     "exception": false,
     "start_time": "2019-12-23T17:00:59.793980",
     "status": "completed"
    },
    "tags": []
   },
   "outputs": [
    {
     "name": "stdout",
     "output_type": "stream",
     "text": [
      "HINT: Pulling docker image ruby\n"
     ]
    },
    {
     "name": "stdout",
     "output_type": "stream",
     "text": [
      "HINT: docker run --rm   -v /Users/bpeng1/sos/sos-docs/development:/Users/bpeng1/sos/sos-docs/development -v /Users/bpeng1/sos/sos-docs/development/tmpr4kov93t/docker_run_93374.rb:/var/lib/sos/docker_run_93374.rb    -t  -w=/Users/bpeng1/sos/sos-docs/development -u 1985961928:895809667    ruby ruby /var/lib/sos/docker_run_93374.rb\n"
     ]
    },
    {
     "name": "stdout",
     "output_type": "stream",
     "text": [
      "line1 = \"Cats are smarter than dogs\";\n"
     ]
    },
    {
     "name": "stdout",
     "output_type": "stream",
     "text": [
      "line2 = \"Dogs also like meat\";\n"
     ]
    },
    {
     "name": "stdout",
     "output_type": "stream",
     "text": [
      "\n"
     ]
    },
    {
     "name": "stdout",
     "output_type": "stream",
     "text": [
      "if ( line1 =~ /Cats(.*)/ )\n"
     ]
    },
    {
     "name": "stdout",
     "output_type": "stream",
     "text": [
      "  puts \"Line1 contains Cats\"\n"
     ]
    },
    {
     "name": "stdout",
     "output_type": "stream",
     "text": [
      "end\n"
     ]
    },
    {
     "name": "stdout",
     "output_type": "stream",
     "text": [
      "if ( line2 =~ /Cats(.*)/ )\n"
     ]
    },
    {
     "name": "stdout",
     "output_type": "stream",
     "text": [
      "  puts \"Line2 contains  Dogs\"\n"
     ]
    },
    {
     "name": "stdout",
     "output_type": "stream",
     "text": [
      "end\n"
     ]
    },
    {
     "name": "stdout",
     "output_type": "stream",
     "text": [
      "\n"
     ]
    }
   ],
   "source": [
    "%run -n\n",
    "ruby: container='ruby'\n",
    "    line1 = \"Cats are smarter than dogs\";\n",
    "    line2 = \"Dogs also like meat\";\n",
    "\n",
    "    if ( line1 =~ /Cats(.*)/ )\n",
    "      puts \"Line1 contains Cats\"\n",
    "    end\n",
    "    if ( line2 =~ /Cats(.*)/ )\n",
    "      puts \"Line2 contains  Dogs\"\n",
    "    end"
   ]
  },
  {
   "cell_type": "markdown",
   "metadata": {
    "kernel": "SoS",
    "papermill": {
     "duration": 0.035484,
     "end_time": "2019-12-23T17:01:04.612983",
     "exception": false,
     "start_time": "2019-12-23T17:01:04.577499",
     "status": "completed"
    },
    "tags": []
   },
   "source": [
    "As you can see, the docker command looks similar to\n",
    "\n",
    "```\n",
    "docker run --rm  \n",
    "    -v $(pwd):$(pwd)\n",
    "    -v /tmp/path/to/docker_run_30258.rb:/var/lib/sos/docker_run_30258.rb\n",
    "    -t -P \n",
    "    -w=/Users/bpeng1/sos/sos-docs/src/tutorials\n",
    "    -u 12345:54321    ruby\n",
    "    ruby /var/lib/sos/docker_run_30258.rb\n",
    "```\n",
    "\n",
    "Basically, SoS downloads a docker image called `ruby` and runs command `docker run` to execte the specified script, with the following options\n",
    "\n",
    "* `--rm` Automatically remove the container when it exits\n",
    "* `-v $(pwd):$(pwd)` maps current working directory to the docker image so that it can be accessed from within the docker image\n",
    "* `-v /tmp/path/to/docker_run_30258.rb:/var/lib/sos/docker_run_30258.rb` maps a temporary script (`/Users/bpeng1/sos/sos-docs/src/tutorials/tmp2zviq3qh/docker_run_30258.rb` to the docker image.\n",
    "* `-t` Allocate a pseudo-tty\n",
    "* `-P` Publish all exposed ports to the host interfaces\n",
    "* `-w=/Users/bpeng1/sos/sos-docs/src/tutorials` Set working directory to current working directory\n",
    "* `-u 12345:54321` Use the host user-id and group-id inside docker so that files created by docker (on shared volumes) could be accessible from outside of docker.\n",
    "* `ruby` name of the docker image\n",
    "* `ruby /var/lib/sos/docker_run_30258.rb` command that execute the script.\n",
    "\n",
    "The details of these options could be found at the [docker run manual](https://docs.docker.com/engine/reference/run/). They are chosen by the default to work with a majority of the scenarios but can fail for some docker images, in which case you will have to use additional options to customized how the images are executed. This tutorial demonstrates the use of options for some common scenarios but please refer to the SoS documentation on [general action options](https://vatlab.github.io/sos-docs/doc/documentation/Targets_and_Actions.html#Action-options-12) and [options that are specific to `docker_image`](https://vatlab.github.io/sos-docs/doc/documentation/Targets_and_Actions.html#docker_image)."
   ]
  },
  {
   "cell_type": "markdown",
   "metadata": {
    "kernel": "SoS",
    "papermill": {
     "duration": 0.036847,
     "end_time": "2019-12-23T17:01:04.686658",
     "exception": false,
     "start_time": "2019-12-23T17:01:04.649811",
     "status": "completed"
    },
    "tags": []
   },
   "source": [
    "Note that\n",
    "\n",
    "```\n",
    "ruby: container='ruby'\n",
    "```\n",
    "\n",
    "is a shortcut for\n",
    "\n",
    "```\n",
    "ruby: container='docker://ruby'\n",
    "\n",
    "```"
   ]
  },
  {
   "cell_type": "markdown",
   "metadata": {
    "kernel": "SoS",
    "papermill": {
     "duration": 0.034831,
     "end_time": "2019-12-23T17:01:04.760890",
     "exception": false,
     "start_time": "2019-12-23T17:01:04.726059",
     "status": "completed"
    },
    "tags": []
   },
   "source": [
    "## Building docker images (action `docker_build`)"
   ]
  },
  {
   "cell_type": "markdown",
   "metadata": {
    "kernel": "SoS",
    "papermill": {
     "duration": 0.036827,
     "end_time": "2019-12-23T17:01:04.832974",
     "exception": false,
     "start_time": "2019-12-23T17:01:04.796147",
     "status": "completed"
    },
    "tags": []
   },
   "source": [
    "Building a docker image is usually done outside of SoS if you are maintaining a collection of docker containers to be shared by your workflows, your groups, or everyone. However, if you need to create a docker image on-the-fly or would like to embed the Dockerfile inside a SoS script, you can use the `docker_build` action to build a docker container.\n",
    "\n",
    "For example, you can build simple image"
   ]
  },
  {
   "cell_type": "code",
   "execution_count": 3,
   "metadata": {
    "kernel": "SoS",
    "papermill": {
     "duration": 10.721096,
     "end_time": "2019-12-23T17:01:15.588405",
     "exception": false,
     "start_time": "2019-12-23T17:01:04.867309",
     "status": "completed"
    },
    "tags": []
   },
   "outputs": [
    {
     "name": "stdout",
     "output_type": "stream",
     "text": [
      "Sending build context to Docker daemon  557.1kB\r",
      "Sending build context to Docker daemon  598.5kB\r",
      "\r\n"
     ]
    },
    {
     "name": "stdout",
     "output_type": "stream",
     "text": [
      "Step 1/1 : FROM ubuntu:14.04\n"
     ]
    },
    {
     "name": "stdout",
     "output_type": "stream",
     "text": [
      "14.04: Pulling from library/ubuntu\n"
     ]
    },
    {
     "name": "stdout",
     "output_type": "stream",
     "text": [
      "\n"
     ]
    },
    {
     "name": "stdout",
     "output_type": "stream",
     "text": [
      "\u001b[1A\u001b[2K\r",
      "2e6e20c8e2e6: Pulling fs layer \r",
      "\u001b[1B\n"
     ]
    },
    {
     "name": "stdout",
     "output_type": "stream",
     "text": [
      "\u001b[1A\u001b[2K\r",
      "30bb187ac3fc: Pulling fs layer \r",
      "\u001b[1B\n"
     ]
    },
    {
     "name": "stdout",
     "output_type": "stream",
     "text": [
      "\u001b[1A\u001b[2K\r",
      "b7a5bcc4a58a: Pulling fs layer \r",
      "\u001b[1B\u001b[1A\u001b[2K\r",
      "b7a5bcc4a58a: Downloading     163B/163B\r",
      "\u001b[1B\u001b[1A\u001b[2K\r",
      "b7a5bcc4a58a: Verifying Checksum \r",
      "\u001b[1B\u001b[1A\u001b[2K\r",
      "b7a5bcc4a58a: Download complete \r",
      "\u001b[1B\u001b[2A\u001b[2K\r",
      "30bb187ac3fc: Downloading  1.841kB/72.66kB\r",
      "\u001b[2B\u001b[2A\u001b[2K\r",
      "30bb187ac3fc: Download complete \r",
      "\u001b[2B\u001b[3A\u001b[2K\r",
      "2e6e20c8e2e6: Downloading  531.1kB/70.69MB\r",
      "\u001b[3B\u001b[3A\u001b[2K\r",
      "2e6e20c8e2e6: Downloading  3.181MB/70.69MB\r",
      "\u001b[3B\u001b[3A\u001b[2K\r",
      "2e6e20c8e2e6: Downloading   6.38MB/70.69MB\r",
      "\u001b[3B\u001b[3A\u001b[2K\r",
      "2e6e20c8e2e6: Downloading  9.075MB/70.69MB\r",
      "\u001b[3B\u001b[3A\u001b[2K\r",
      "2e6e20c8e2e6: Downloading  12.28MB/70.69MB\r",
      "\u001b[3B\u001b[3A\u001b[2K\r",
      "2e6e20c8e2e6: Downloading  15.51MB/70.69MB\r",
      "\u001b[3B\u001b[3A\u001b[2K\r",
      "2e6e20c8e2e6: Downloading  18.73MB/70.69MB\r",
      "\u001b[3B\u001b[3A\u001b[2K\r",
      "2e6e20c8e2e6: Downloading  21.97MB/70.69MB\r",
      "\u001b[3B\u001b[3A\u001b[2K\r",
      "2e6e20c8e2e6: Downloading  25.19MB/70.69MB\r",
      "\u001b[3B\u001b[3A\u001b[2K\r",
      "2e6e20c8e2e6: Downloading  28.42MB/70.69MB\r",
      "\u001b[3B\u001b[3A\u001b[2K\r",
      "2e6e20c8e2e6: Downloading  31.66MB/70.69MB\r",
      "\u001b[3B\u001b[3A\u001b[2K\r",
      "2e6e20c8e2e6: Downloading  34.88MB/70.69MB\r",
      "\u001b[3B\u001b[3A\u001b[2K\r",
      "2e6e20c8e2e6: Downloading  38.11MB/70.69MB\r",
      "\u001b[3B\u001b[3A\u001b[2K\r",
      "2e6e20c8e2e6: Downloading  41.86MB/70.69MB\r",
      "\u001b[3B\u001b[3A\u001b[2K\r",
      "2e6e20c8e2e6: Downloading  45.08MB/70.69MB\r",
      "\u001b[3B\u001b[3A\u001b[2K\r",
      "2e6e20c8e2e6: Downloading  48.84MB/70.69MB\r",
      "\u001b[3B\u001b[3A\u001b[2K\r",
      "2e6e20c8e2e6: Downloading  51.52MB/70.69MB\r",
      "\u001b[3B\u001b[3A\u001b[2K\r",
      "2e6e20c8e2e6: Downloading  53.67MB/70.69MB\r",
      "\u001b[3B\u001b[3A\u001b[2K\r",
      "2e6e20c8e2e6: Downloading  55.82MB/70.69MB\r",
      "\u001b[3B\u001b[3A\u001b[2K\r",
      "2e6e20c8e2e6: Downloading  58.51MB/70.69MB\r",
      "\u001b[3B\u001b[3A\u001b[2K\r",
      "2e6e20c8e2e6: Downloading  61.18MB/70.69MB\r",
      "\u001b[3B\u001b[3A\u001b[2K\r",
      "2e6e20c8e2e6: Downloading  63.33MB/70.69MB\r",
      "\u001b[3B\u001b[3A\u001b[2K\r",
      "2e6e20c8e2e6: Downloading  65.48MB/70.69MB\r",
      "\u001b[3B\u001b[3A\u001b[2K\r",
      "2e6e20c8e2e6: Downloading  68.13MB/70.69MB\r",
      "\u001b[3B\u001b[3A\u001b[2K\r",
      "2e6e20c8e2e6: Verifying Checksum \r",
      "\u001b[3B\u001b[3A\u001b[2K\r",
      "2e6e20c8e2e6: Download complete \r",
      "\u001b[3B\u001b[3A\u001b[2K\r",
      "2e6e20c8e2e6: Extracting  557.1kB/70.69MB\r",
      "\u001b[3B\u001b[3A\u001b[2K\r",
      "2e6e20c8e2e6: Extracting  3.342MB/70.69MB\r",
      "\u001b[3B\u001b[3A\u001b[2K\r",
      "2e6e20c8e2e6: Extracting  5.014MB/70.69MB\r",
      "\u001b[3B\u001b[3A\u001b[2K\r",
      "2e6e20c8e2e6: Extracting  8.356MB/70.69MB\r",
      "\u001b[3B\u001b[3A\u001b[2K\r",
      "2e6e20c8e2e6: Extracting   11.7MB/70.69MB\r",
      "\u001b[3B\u001b[3A\u001b[2K\r",
      "2e6e20c8e2e6: Extracting  14.48MB/70.69MB\r",
      "\u001b[3B\u001b[3A\u001b[2K\r",
      "2e6e20c8e2e6: Extracting  17.27MB/70.69MB\r",
      "\u001b[3B\u001b[3A\u001b[2K\r",
      "2e6e20c8e2e6: Extracting  20.61MB/70.69MB\r",
      "\u001b[3B\u001b[3A\u001b[2K\r",
      "2e6e20c8e2e6: Extracting  24.51MB/70.69MB\r",
      "\u001b[3B\u001b[3A\u001b[2K\r",
      "2e6e20c8e2e6: Extracting  26.18MB/70.69MB\r",
      "\u001b[3B\u001b[3A\u001b[2K\r",
      "2e6e20c8e2e6: Extracting  28.41MB/70.69MB\r",
      "\u001b[3B\u001b[3A\u001b[2K\r",
      "2e6e20c8e2e6: Extracting  29.52MB/70.69MB\r",
      "\u001b[3B\u001b[3A\u001b[2K\r",
      "2e6e20c8e2e6: Extracting   31.2MB/70.69MB\r",
      "\u001b[3B\u001b[3A\u001b[2K\r",
      "2e6e20c8e2e6: Extracting  32.87MB/70.69MB\r",
      "\u001b[3B\u001b[3A\u001b[2K\r",
      "2e6e20c8e2e6: Extracting  35.09MB/70.69MB\r",
      "\u001b[3B\u001b[3A\u001b[2K\r",
      "2e6e20c8e2e6: Extracting  38.44MB/70.69MB\r",
      "\u001b[3B\u001b[3A\u001b[2K\r",
      "2e6e20c8e2e6: Extracting  41.22MB/70.69MB\r",
      "\u001b[3B\u001b[3A\u001b[2K\r",
      "2e6e20c8e2e6: Extracting  42.89MB/70.69MB\r",
      "\u001b[3B\u001b[3A\u001b[2K\r",
      "2e6e20c8e2e6: Extracting  45.12MB/70.69MB\r",
      "\u001b[3B\u001b[3A\u001b[2K\r",
      "2e6e20c8e2e6: Extracting  46.79MB/70.69MB\r",
      "\u001b[3B\u001b[3A\u001b[2K\r",
      "2e6e20c8e2e6: Extracting  49.58MB/70.69MB\r",
      "\u001b[3B\u001b[3A\u001b[2K\r",
      "2e6e20c8e2e6: Extracting  51.25MB/70.69MB\r",
      "\u001b[3B\u001b[3A\u001b[2K\r",
      "2e6e20c8e2e6: Extracting  52.92MB/70.69MB\r",
      "\u001b[3B\u001b[3A\u001b[2K\r",
      "2e6e20c8e2e6: Extracting  54.59MB/70.69MB\r",
      "\u001b[3B\u001b[3A\u001b[2K\r",
      "2e6e20c8e2e6: Extracting  56.26MB/70.69MB\r",
      "\u001b[3B\u001b[3A\u001b[2K\r",
      "2e6e20c8e2e6: Extracting  57.93MB/70.69MB\r",
      "\u001b[3B\u001b[3A\u001b[2K\r",
      "2e6e20c8e2e6: Extracting   59.6MB/70.69MB\r",
      "\u001b[3B\u001b[3A\u001b[2K\r",
      "2e6e20c8e2e6: Extracting  61.28MB/70.69MB\r",
      "\u001b[3B\u001b[3A\u001b[2K\r",
      "2e6e20c8e2e6: Extracting  61.83MB/70.69MB\r",
      "\u001b[3B\u001b[3A\u001b[2K\r",
      "2e6e20c8e2e6: Extracting  62.39MB/70.69MB\r",
      "\u001b[3B\u001b[3A\u001b[2K\r",
      "2e6e20c8e2e6: Extracting  66.29MB/70.69MB\r",
      "\u001b[3B\u001b[3A\u001b[2K\r",
      "2e6e20c8e2e6: Extracting  68.52MB/70.69MB\r",
      "\u001b[3B\u001b[3A\u001b[2K\r",
      "2e6e20c8e2e6: Extracting  70.19MB/70.69MB\r",
      "\u001b[3B\u001b[3A\u001b[2K\r",
      "2e6e20c8e2e6: Extracting  70.69MB/70.69MB\r",
      "\u001b[3B\u001b[3A\u001b[2K\r",
      "2e6e20c8e2e6: Pull complete \r",
      "\u001b[3B\u001b[2A\u001b[2K\r",
      "30bb187ac3fc: Extracting  32.77kB/72.66kB\r",
      "\u001b[2B\u001b[2A\u001b[2K\r",
      "30bb187ac3fc: Extracting  72.66kB/72.66kB\r",
      "\u001b[2B\u001b[2A\u001b[2K\r",
      "30bb187ac3fc: Extracting  72.66kB/72.66kB\r",
      "\u001b[2B\u001b[2A\u001b[2K\r",
      "30bb187ac3fc: Pull complete \r",
      "\u001b[2B\u001b[1A\u001b[2K\r",
      "b7a5bcc4a58a: Extracting     163B/163B\r",
      "\u001b[1B\u001b[1A\u001b[2K\r",
      "b7a5bcc4a58a: Extracting     163B/163B\r",
      "\u001b[1B\u001b[1A\u001b[2K\r",
      "b7a5bcc4a58a: Pull complete \r",
      "\u001b[1BDigest: sha256:ffc76f71dd8be8c9e222d420dc96901a07b61616689a44c7b3ef6a10b7213de4\n"
     ]
    },
    {
     "name": "stdout",
     "output_type": "stream",
     "text": [
      "Status: Downloaded newer image for ubuntu:14.04\n"
     ]
    },
    {
     "name": "stdout",
     "output_type": "stream",
     "text": [
      " ---> 6e4f1fe62ff1\n"
     ]
    },
    {
     "name": "stdout",
     "output_type": "stream",
     "text": [
      "Successfully built 6e4f1fe62ff1\n"
     ]
    },
    {
     "name": "stdout",
     "output_type": "stream",
     "text": [
      "Successfully tagged test_docker:latest\n"
     ]
    },
    {
     "data": {
      "text/plain": [
       "0"
      ]
     },
     "execution_count": 3,
     "metadata": {},
     "output_type": "execute_result"
    }
   ],
   "source": [
    "docker_build: tag='test_docker'\n",
    "  FROM ubuntu:14.04\n"
   ]
  },
  {
   "cell_type": "markdown",
   "metadata": {
    "kernel": "SoS",
    "papermill": {
     "duration": 0.038771,
     "end_time": "2019-12-23T17:01:15.666600",
     "exception": false,
     "start_time": "2019-12-23T17:01:15.627829",
     "status": "completed"
    },
    "tags": []
   },
   "source": [
    "and use the image"
   ]
  },
  {
   "cell_type": "code",
   "execution_count": 4,
   "metadata": {
    "kernel": "SoS",
    "papermill": {
     "duration": 0.069734,
     "end_time": "2019-12-23T17:01:15.783675",
     "exception": true,
     "start_time": "2019-12-23T17:01:15.713941",
     "status": "failed"
    },
    "scrolled": true,
    "tags": []
   },
   "outputs": [
    {
     "name": "stderr",
     "output_type": "stream",
     "text": [
      "[0]: \n",
      "---------------------------------------------------------------------------\n",
      "KeyError                                  Traceback (most recent call last)\n",
      "script_4068185837904147915 in <module>\n",
      "----> sh('ls /usr\\n', docker_image='test_docker')\n",
      "      \n",
      "\n",
      "KeyError: container\n"
     ]
    }
   ],
   "source": [
    "sh: docker_image='test_docker'\n",
    "  ls /usr"
   ]
  },
  {
   "cell_type": "markdown",
   "metadata": {
    "kernel": "SoS",
    "papermill": {
     "duration": null,
     "end_time": null,
     "exception": null,
     "start_time": null,
     "status": "pending"
    },
    "tags": []
   },
   "source": [
    "This tutorial will use the `docker_build` action to build a few simple docker images to demonstrate the use of various options."
   ]
  },
  {
   "cell_type": "markdown",
   "metadata": {
    "kernel": "SoS",
    "papermill": {
     "duration": null,
     "end_time": null,
     "exception": null,
     "start_time": null,
     "status": "pending"
    },
    "tags": []
   },
   "source": [
    "### Docker build options"
   ]
  },
  {
   "cell_type": "markdown",
   "metadata": {
    "kernel": "SoS",
    "papermill": {
     "duration": null,
     "end_time": null,
     "exception": null,
     "start_time": null,
     "status": "pending"
    },
    "tags": []
   },
   "source": [
    "Action `docker_build` accepts usual SoS action options such as `workdir`, `stdout`, and `stderr`. For example, you can suppress the output of the action using options `stdout=False` and/or `stderr=False`:"
   ]
  },
  {
   "cell_type": "code",
   "execution_count": null,
   "metadata": {
    "kernel": "SoS",
    "papermill": {
     "duration": null,
     "end_time": null,
     "exception": null,
     "start_time": null,
     "status": "pending"
    },
    "tags": []
   },
   "outputs": [],
   "source": [
    "docker_build: tag='test_docker', stdout=False\n",
    "  FROM ubuntu:14.04"
   ]
  },
  {
   "cell_type": "markdown",
   "metadata": {
    "kernel": "SoS",
    "papermill": {
     "duration": null,
     "end_time": null,
     "exception": null,
     "start_time": null,
     "status": "pending"
    },
    "tags": []
   },
   "source": [
    "This action also accepts all options to command `docker build`, as listed in the [docker build documentation](https://docs.docker.com/engine/reference/commandline/build/). Only the long format of the option names are accepted (e.g. `--memory` is acceptable but not `-m`). Option names containing hyphens (e.g. `disable-content-trust`) should have hyphens relaced with underscores. Boolean options should be specified as `name=True`.\n",
    "\n",
    "For example, "
   ]
  },
  {
   "cell_type": "code",
   "execution_count": null,
   "metadata": {
    "kernel": "SoS",
    "papermill": {
     "duration": null,
     "end_time": null,
     "exception": null,
     "start_time": null,
     "status": "pending"
    },
    "tags": []
   },
   "outputs": [],
   "source": [
    "docker_build: tag='test_docker', label='test image',\n",
    "  compress=True, no_cache=True, memory='2G'\n",
    "\n",
    "  FROM ubuntu:14.04"
   ]
  },
  {
   "cell_type": "markdown",
   "metadata": {
    "kernel": "SoS",
    "papermill": {
     "duration": null,
     "end_time": null,
     "exception": null,
     "start_time": null,
     "status": "pending"
    },
    "tags": []
   },
   "source": [
    "As a more complete example, the following step builds a docker container for [MISO](http://miso.readthedocs.org/en/fastmiso/) based on anaconda python 2.7."
   ]
  },
  {
   "cell_type": "code",
   "execution_count": null,
   "metadata": {
    "kernel": "SoS",
    "papermill": {
     "duration": null,
     "end_time": null,
     "exception": null,
     "start_time": null,
     "status": "pending"
    },
    "tags": []
   },
   "outputs": [],
   "source": [
    "# building miso from a Dockerfile\n",
    "docker_build: tag='mdabioinfo/miso:latest', quiet=True\n",
    "\n",
    "\t############################################################\n",
    "\t# Dockerfile to build MISO container images\n",
    "\t# Based on Anaconda python\n",
    "\t############################################################\n",
    "\n",
    "\t# Set the base image to anaconda Python 2.7 (miso does not support python 3)\n",
    "\tFROM continuumio/anaconda\n",
    "\n",
    "\t# File Author / Maintainer\n",
    "\tMAINTAINER Bo Peng <bpeng@mdanderson.org>\n",
    "\n",
    "\t# Update the repository sources list\n",
    "\tRUN apt-get update\n",
    "\n",
    "\t# Install compiler and python stuff, samtools and git\n",
    "\tRUN apt-get install --yes \\\n",
    "\t build-essential \\\n",
    "\t gcc-multilib \\\n",
    "\t gfortran \\ \n",
    "\t apt-utils \\\n",
    "\t libblas3 \\ \n",
    "\t liblapack3 \\\n",
    "\t libc6 \\\n",
    "\t cython \\ \n",
    "\t samtools \\\n",
    "\t libbam-dev \\\n",
    "\t bedtools \\\n",
    "\t wget \\\n",
    "\t zlib1g-dev \\ \n",
    "\t tar \\\n",
    "\t gzip\n",
    "\n",
    "\tWORKDIR /usr/local\n",
    "\tRUN pip install misopy"
   ]
  },
  {
   "cell_type": "markdown",
   "metadata": {
    "kernel": "SoS",
    "papermill": {
     "duration": null,
     "end_time": null,
     "exception": null,
     "start_time": null,
     "status": "pending"
    },
    "tags": []
   },
   "source": [
    "## Running docker images"
   ]
  },
  {
   "cell_type": "markdown",
   "metadata": {
    "kernel": "SoS",
    "papermill": {
     "duration": null,
     "end_time": null,
     "exception": null,
     "start_time": null,
     "status": "pending"
    },
    "tags": []
   },
   "source": [
    "### Customized working directory (`workdir` and `docker_workdir`)"
   ]
  },
  {
   "cell_type": "markdown",
   "metadata": {
    "kernel": "SoS",
    "papermill": {
     "duration": null,
     "end_time": null,
     "exception": null,
     "start_time": null,
     "status": "pending"
    },
    "tags": []
   },
   "source": [
    "SoS by default sets the current working directory of the docker image to the working directory of the host system, essentially adding `-w $(pwd)` to the command line. For example, with the following docker image, the `pwd` of the script is the current working directory on the host machine."
   ]
  },
  {
   "cell_type": "code",
   "execution_count": null,
   "metadata": {
    "kernel": "SoS",
    "papermill": {
     "duration": null,
     "end_time": null,
     "exception": null,
     "start_time": null,
     "status": "pending"
    },
    "tags": []
   },
   "outputs": [],
   "source": [
    "sh: container='ubuntu:14.04'\n",
    "  echo `pwd`"
   ]
  },
  {
   "cell_type": "markdown",
   "metadata": {
    "kernel": "SoS",
    "papermill": {
     "duration": null,
     "end_time": null,
     "exception": null,
     "start_time": null,
     "status": "pending"
    },
    "tags": []
   },
   "source": [
    "Since the action option `workdir` can change the working directory of the script, you can use this option to change the script of the working directory of the docker image as well. For example, SoS in the following example will change the current working directory to the parent directory before executing `docker run` there."
   ]
  },
  {
   "cell_type": "code",
   "execution_count": null,
   "metadata": {
    "kernel": "SoS",
    "papermill": {
     "duration": null,
     "end_time": null,
     "exception": null,
     "start_time": null,
     "status": "pending"
    },
    "tags": []
   },
   "outputs": [],
   "source": [
    "sh: container='ubuntu:14.04', workdir='..'\n",
    "  echo `pwd`"
   ]
  },
  {
   "cell_type": "markdown",
   "metadata": {
    "kernel": "SoS",
    "papermill": {
     "duration": null,
     "end_time": null,
     "exception": null,
     "start_time": null,
     "status": "pending"
    },
    "tags": []
   },
   "source": [
    "This default behavior is convenient when you use commands in docker images to process input files on your host machine but it has two caveats:\n",
    "\n",
    "1. The docker image might have its own `WORKDIR` for the command to work. For example, a docker image can provide an application that is not in standard `$PATH` so it can only be executed in a specified `WORKDIR`.\n",
    "2. You might need to specify a working directory inside of docker that does not exist in the host machine."
   ]
  },
  {
   "cell_type": "markdown",
   "metadata": {
    "kernel": "SoS",
    "papermill": {
     "duration": null,
     "end_time": null,
     "exception": null,
     "start_time": null,
     "status": "pending"
    },
    "tags": []
   },
   "source": [
    "Option `docker_workdir`, if specified, overrides `workdir` and allows the use of default or customized working directory inside of docker images. When `docker_workdir` is set to `None`, no `-w` option will be passed to the docker image and the default `WORKDIR` will be used. Otherwise an absolute path inside the docker image can be specified.\n",
    "\n",
    "For example, the following customized docker image has a `WORKDIR` set to `/usr`. It is working directory is set to host working directory by default, to `/usr` with `docker_workdir=None`, and `/home/random_user` with `docker_workdir='/home/random_user'`."
   ]
  },
  {
   "cell_type": "code",
   "execution_count": null,
   "metadata": {
    "kernel": "SoS",
    "papermill": {
     "duration": null,
     "end_time": null,
     "exception": null,
     "start_time": null,
     "status": "pending"
    },
    "tags": []
   },
   "outputs": [],
   "source": [
    "docker_build: tag='test_docker_workdir'\n",
    "  FROM ubuntu:14.04\n",
    "  WORKDIR /usr\n",
    "\n",
    "sh: container='test_docker_workdir'\n",
    "  echo `pwd`\n",
    "  \n",
    "sh: container='test_docker_workdir', docker_workdir=None\n",
    "  echo `pwd`\n",
    "  \n",
    "sh: container='test_docker_workdir', docker_workdir='/home/random_user'\n",
    "  echo `pwd`"
   ]
  },
  {
   "cell_type": "markdown",
   "metadata": {
    "kernel": "SoS",
    "papermill": {
     "duration": null,
     "end_time": null,
     "exception": null,
     "start_time": null,
     "status": "pending"
    },
    "tags": []
   },
   "source": [
    "Note the directory is relative to the docker file system so it does not have to exist on the host system. Docker also creates `docker_workdir` if it does not exist so you do not have to create the directory in advance. "
   ]
  },
  {
   "cell_type": "markdown",
   "metadata": {
    "kernel": "SoS",
    "papermill": {
     "duration": null,
     "end_time": null,
     "exception": null,
     "start_time": null,
     "status": "pending"
    },
    "tags": []
   },
   "source": [
    "### Sharing of input and output files (`volumes`)"
   ]
  },
  {
   "cell_type": "markdown",
   "metadata": {
    "kernel": "SoS",
    "papermill": {
     "duration": null,
     "end_time": null,
     "exception": null,
     "start_time": null,
     "status": "pending"
    },
    "tags": []
   },
   "source": [
    "Because the working directory of the docker image is set by default to the current working directory, you can apply a command inside a docker image to work on files in the current working directory, and create files in it as well."
   ]
  },
  {
   "cell_type": "code",
   "execution_count": null,
   "metadata": {
    "kernel": "SoS",
    "papermill": {
     "duration": null,
     "end_time": null,
     "exception": null,
     "start_time": null,
     "status": "pending"
    },
    "tags": []
   },
   "outputs": [],
   "source": [
    "sh: container='ubuntu:14.04'\n",
    "  wc -l SoS_Docker_Guide.ipynb > docker_wc.txt\n",
    "  \n",
    "sh:\n",
    "  cat docker_wc.txt"
   ]
  },
  {
   "cell_type": "markdown",
   "metadata": {
    "kernel": "SoS",
    "papermill": {
     "duration": null,
     "end_time": null,
     "exception": null,
     "start_time": null,
     "status": "pending"
    },
    "tags": []
   },
   "source": [
    "This works because SoS automatically shares the current working directory of the host system to the docker image. Because the docker image can only \"see\" file systems shared by command `docker run`, your script will fail if your input files or output files are not under current working directory."
   ]
  },
  {
   "cell_type": "markdown",
   "metadata": {
    "kernel": "SoS",
    "papermill": {
     "duration": null,
     "end_time": null,
     "exception": null,
     "start_time": null,
     "status": "pending"
    },
    "tags": []
   },
   "source": [
    "For example, the following script write something to a thumbdrive (`/Volumes/SANDISK` under mac)"
   ]
  },
  {
   "cell_type": "code",
   "execution_count": null,
   "metadata": {
    "kernel": "SoS",
    "papermill": {
     "duration": null,
     "end_time": null,
     "exception": null,
     "start_time": null,
     "status": "pending"
    },
    "tags": []
   },
   "outputs": [],
   "source": [
    "sh:\n",
    "  wc -l SoS_Docker_Guide.ipynb > /Volumes/SANDISK/filelist"
   ]
  },
  {
   "cell_type": "markdown",
   "metadata": {
    "kernel": "SoS",
    "papermill": {
     "duration": null,
     "end_time": null,
     "exception": null,
     "start_time": null,
     "status": "pending"
    },
    "tags": []
   },
   "source": [
    "The script would fail to execute in a docker image because the image cannot see the `/Volumes` file system"
   ]
  },
  {
   "cell_type": "code",
   "execution_count": null,
   "metadata": {
    "kernel": "SoS",
    "papermill": {
     "duration": null,
     "end_time": null,
     "exception": null,
     "start_time": null,
     "status": "pending"
    },
    "tags": []
   },
   "outputs": [],
   "source": [
    "%sandbox --expect-error\n",
    "sh: container='ubuntu:14.04'\n",
    "  wc -l SoS_Docker_Guide.ipynb > /Volumes/SANDISK/filelist"
   ]
  },
  {
   "cell_type": "markdown",
   "metadata": {
    "kernel": "SoS",
    "papermill": {
     "duration": null,
     "end_time": null,
     "exception": null,
     "start_time": null,
     "status": "pending"
    },
    "tags": []
   },
   "source": [
    "The problem could be solved by specifying additional shared file systems through parameter `volumes`. This parameter accepts one (a string) or a list of volumes (list of strings) in the format of\n",
    "\n",
    "* A single path (e.g. `/Users`) which would be shared to the docker image under the same name (e.g.  `/Users:/Users`).\n",
    "* A full volume specification `host-src:]container-dest[:<options>]`, in which case host and container directories can have different names (e.g. `/Users:/home`).\n",
    "\n",
    "A special rule here is that the current working directory will not be mapped separately if it is under one of the specified volumes. That is to say, if the current working directly is `/Users/bpeng1/project` and option `volumes='/Users:/home'` is specified, current working directory will be implicitly mapped to `/home/bpeng1/project`."
   ]
  },
  {
   "cell_type": "markdown",
   "metadata": {
    "kernel": "SoS",
    "papermill": {
     "duration": null,
     "end_time": null,
     "exception": null,
     "start_time": null,
     "status": "pending"
    },
    "tags": []
   },
   "source": [
    "Consequently, if you would like to read input files from or write output files to another volume, you can add the paths to option `volumes`"
   ]
  },
  {
   "cell_type": "code",
   "execution_count": null,
   "metadata": {
    "kernel": "SoS",
    "papermill": {
     "duration": null,
     "end_time": null,
     "exception": null,
     "start_time": null,
     "status": "pending"
    },
    "tags": []
   },
   "outputs": [],
   "source": [
    "sh: container='ubuntu:14.04', volumes='/Volumes'\n",
    "  wc -l SoS_Docker_Guide.ipynb > /Volumes/SANDISK/filelist\n",
    "\n",
    "sh:\n",
    "  cat /Volumes/SANDISK/filelist"
   ]
  },
  {
   "cell_type": "markdown",
   "metadata": {
    "kernel": "SoS",
    "papermill": {
     "duration": null,
     "end_time": null,
     "exception": null,
     "start_time": null,
     "status": "pending"
    },
    "tags": []
   },
   "source": [
    "As another commonly used technique, some users prefer using \"standard directories\" as input and output directories of a script so that the scripts are more portable. For example, the following script maps source directory as `/input` and destination directory as `/output` and use `/input` and `/output` in the docker image:"
   ]
  },
  {
   "cell_type": "code",
   "execution_count": null,
   "metadata": {
    "kernel": "SoS",
    "papermill": {
     "duration": null,
     "end_time": null,
     "exception": null,
     "start_time": null,
     "status": "pending"
    },
    "tags": []
   },
   "outputs": [],
   "source": [
    "sh: container='ubuntu:14.04',\n",
    "  volumes=['~/sos/sos-docs/src/tutorials:/input', '/Volumes:/output']\n",
    "  wc -l /input/SoS_Docker_Guide.ipynb > /output/SANDISK/filelist\n",
    "\n",
    "sh:\n",
    "  cat /Volumes/SANDISK/filelist"
   ]
  },
  {
   "cell_type": "markdown",
   "metadata": {
    "kernel": "SoS",
    "papermill": {
     "duration": null,
     "end_time": null,
     "exception": null,
     "start_time": null,
     "status": "pending"
    },
    "tags": []
   },
   "source": [
    "Although it is tempting to share common directories (e.g. `/home`, `/Users`, `/Volumes` etc) to the docker image, sharing of extra directories can cause unexpected problems. For example, a docker image might contain a useful `/Users` directory and sharing host `/Users` will override the directory inside docker. \n",
    "\n",
    "Furthermore, sharing `$HOME` will expose a lot of user settings (e.g. settings under `~/.R`, `~/.sos`) to the docker image and might affect how the docker image runs. If you really need to expose a home directory to a docker image, you might want to expose it as a different directory inside of docker. For example, the following script shared home directory as `/data` inside docker so that it does not interfere with the home directory of the docker image."
   ]
  },
  {
   "cell_type": "code",
   "execution_count": null,
   "metadata": {
    "kernel": "SoS",
    "papermill": {
     "duration": null,
     "end_time": null,
     "exception": null,
     "start_time": null,
     "status": "pending"
    },
    "tags": []
   },
   "outputs": [],
   "source": [
    "sh: container='ubuntu:14.04', volumes='~:/data'\n",
    "  ls ~ | wc -l\n",
    "  ls /data | wc -l"
   ]
  },
  {
   "cell_type": "markdown",
   "metadata": {
    "kernel": "SoS",
    "papermill": {
     "duration": null,
     "end_time": null,
     "exception": null,
     "start_time": null,
     "status": "pending"
    },
    "tags": []
   },
   "source": [
    "### Docker images with `ENTRYPOINT`"
   ]
  },
  {
   "cell_type": "markdown",
   "metadata": {
    "kernel": "SoS",
    "papermill": {
     "duration": null,
     "end_time": null,
     "exception": null,
     "start_time": null,
     "status": "pending"
    },
    "tags": []
   },
   "source": [
    "Some docker images have an entry point which determines the command that will be executed when the image is executed. When such images are executed, parameters passed from command line will be appended to `ENTRYPOINT` so our usually way of specifying an interpreter (e.g. `ruby`) and a script will not work. If we run the script directly, our \"command\" (e.g. `ruby /var/lib/sos/docker_run_30258.rb` will be appended to the entry point and will not be executed properly. Examples of such images include [`dceoy/gatk`](https://hub.docker.com/r/dceoy/gatk/~/dockerfile/), which has an entry point\n",
    "\n",
    "```\n",
    "[\"java\", \"-jar\", \"/usr/local/src/gatk/build/libs/gatk.jar\"]\n",
    "```\n",
    "\n",
    "and does not accept any additional interpreter. What we really need to do is to append \"arguments\" to this pre-specified command.\n",
    "\n",
    "For example, the `test_docker_ls` image has an `ENTRYPOINT` with command `ls`."
   ]
  },
  {
   "cell_type": "code",
   "execution_count": null,
   "metadata": {
    "kernel": "SoS",
    "papermill": {
     "duration": null,
     "end_time": null,
     "exception": null,
     "start_time": null,
     "status": "pending"
    },
    "tags": []
   },
   "outputs": [],
   "source": [
    "docker_build: tag='test_docker_ls'\n",
    "  FROM ubuntu:14.04\n",
    "  ENTRYPOINT [\"ls\"]"
   ]
  },
  {
   "cell_type": "markdown",
   "metadata": {
    "kernel": "SoS",
    "papermill": {
     "duration": null,
     "end_time": null,
     "exception": null,
     "start_time": null,
     "status": "pending"
    },
    "tags": []
   },
   "source": [
    "The image is expected to be executed directly with optional parameter and without an interpreter (e.g. `docker run test_docker_ls`)."
   ]
  },
  {
   "cell_type": "markdown",
   "metadata": {
    "kernel": "SoS",
    "papermill": {
     "duration": null,
     "end_time": null,
     "exception": null,
     "start_time": null,
     "status": "pending"
    },
    "tags": []
   },
   "source": [
    "Because action `script` does not have a default interpreter, and option `args` can be used to construct a command line, we can use docker images with `ENTRYPOINT` in the format of"
   ]
  },
  {
   "cell_type": "code",
   "execution_count": null,
   "metadata": {
    "kernel": "SoS",
    "papermill": {
     "duration": null,
     "end_time": null,
     "exception": null,
     "start_time": null,
     "status": "pending"
    },
    "tags": []
   },
   "outputs": [],
   "source": [
    "script: args = '-l SoS_Docker_Guide.ipynb', container = 'test_docker_ls'"
   ]
  },
  {
   "cell_type": "markdown",
   "metadata": {
    "kernel": "SoS",
    "papermill": {
     "duration": null,
     "end_time": null,
     "exception": null,
     "start_time": null,
     "status": "pending"
    },
    "tags": []
   },
   "source": [
    "which essentially passes `-l SoS_Docker_Guide.ipynb` to the image and executes command \n",
    "```\n",
    "ls -l SoS_Docker_Guide.ipynb\n",
    "```"
   ]
  },
  {
   "cell_type": "markdown",
   "metadata": {
    "kernel": "SoS",
    "papermill": {
     "duration": null,
     "end_time": null,
     "exception": null,
     "start_time": null,
     "status": "pending"
    },
    "tags": []
   },
   "source": [
    "If the command line is long, you can use another trick, that is to say, to use `{script}` in `args` for scripts of the action. For example, the aforementioned command can be specified as"
   ]
  },
  {
   "cell_type": "code",
   "execution_count": null,
   "metadata": {
    "kernel": "SoS",
    "papermill": {
     "duration": null,
     "end_time": null,
     "exception": null,
     "start_time": null,
     "status": "pending"
    },
    "scrolled": true,
    "tags": []
   },
   "outputs": [],
   "source": [
    "script: args='{script}', container='test_docker_ls'\n",
    "  -l SoS_Docker_Guide.ipynb"
   ]
  },
  {
   "cell_type": "markdown",
   "metadata": {
    "kernel": "SoS",
    "papermill": {
     "duration": null,
     "end_time": null,
     "exception": null,
     "start_time": null,
     "status": "pending"
    },
    "tags": []
   },
   "source": [
    "## Common problems"
   ]
  },
  {
   "cell_type": "markdown",
   "metadata": {
    "kernel": "SoS",
    "papermill": {
     "duration": null,
     "end_time": null,
     "exception": null,
     "start_time": null,
     "status": "pending"
    },
    "tags": []
   },
   "source": [
    "* If you are using **Docker Toolbox** instead of Docker for Mac on a Mac, the docker image will be executed inside a VirtualBox virtual machine, which has its own shared directories, allocated CPUs and memories. It is therefore possible that\n",
    "\n",
    " 1. Your virtual machine is usually onnfigured with a small amount of RAM (e.g. 2G), so your docker image will run out of memory even when your system has plenty of RAM left. Re-configure your virtual box VM if this happens.\n",
    " 2. SoS uses native paths for its docker command line so it will for example map `c:\\Users` to `/C/Users` under windows. However, this path might not be accessible from docker if the virtual box does not share this directory (`c:\\Users`) or if the shared directory has a different name (e.g. `/Users` instead of `/C/Users`). Before you use SoS with Docker Toolbox, please make sure that the directory you would like to use is shared in the VM, and use names recognizable by SoS (e.g. share `C:\\Users` as `/C/Users`, `D:\\Data` as `/D/Data`).\n",
    "\n",
    "* Symbolic links are different from OS to OS so creating symbolic links inside docker might fail with strange error messages such as \"Read-only file system\". Even if you can create symbolic links inside docker, the created links might not be accessible from the host machine.\n",
    "\n",
    "* Killing a sos task or sos process will not terminate scripts that are executed by the docker daemon. They will have to be killed explicitly using docker commands."
   ]
  },
  {
   "cell_type": "markdown",
   "metadata": {
    "kernel": "SoS",
    "papermill": {
     "duration": null,
     "end_time": null,
     "exception": null,
     "start_time": null,
     "status": "pending"
    },
    "tags": []
   },
   "source": [
    "## Further reading\n",
    "\n",
    "* [SoS actions](sos_actions.html)\n",
    "* [Using singularity](singularity.html)"
   ]
  }
 ],
 "metadata": {
  "kernelspec": {
   "display_name": "SoS",
   "language": "sos",
   "name": "sos"
  },
  "language_info": {
   "codemirror_mode": "sos",
   "file_extension": ".sos",
   "mimetype": "text/x-sos",
   "name": "sos",
   "nbconvert_exporter": "sos_notebook.converter.SoS_Exporter",
   "pygments_lexer": "sos"
  },
  "papermill": {
   "duration": 32.54781,
   "end_time": "2019-12-23T17:01:21.018378",
   "environment_variables": {},
   "exception": true,
   "input_path": "/Users/bpeng1/sos/sos-docs/src/user_guide/docker.ipynb",
   "output_path": "docker.ipynb_rerun.ipynb",
   "parameters": {},
   "start_time": "2019-12-23T17:00:48.470568",
   "version": "1.1.0"
  },
  "sos": {
   "kernels": [
    [
     "Bash",
     "bash",
     "Bash",
     "#E6EEFF"
    ],
    [
     "R",
     "ir",
     "R",
     "#DCDCDA"
    ],
    [
     "SoS",
     "sos",
     "",
     ""
    ]
   ],
   "panel": {
    "displayed": true,
    "height": 0
   },
   "version": "0.21.2"
  }
 },
 "nbformat": 4,
 "nbformat_minor": 4
}