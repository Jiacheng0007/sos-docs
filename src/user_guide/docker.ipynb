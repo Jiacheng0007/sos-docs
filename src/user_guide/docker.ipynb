{
 "cells": [
  {
   "cell_type": "markdown",
   "metadata": {
    "kernel": "SoS",
    "tags": []
   },
   "source": [
    "# Running scripts in docker containers"
   ]
  },
  {
   "cell_type": "markdown",
   "metadata": {
    "kernel": "SoS",
    "tags": []
   },
   "source": [
    "* **Difficulty level**: intermediate\n",
    "* **Time need to lean**: 30 minutes or less\n",
    "* **Key points**:\n",
    "  * The `container` option runs the script inside the specified docker container\n",
    "  * Action `docker_build` builds docker images from embedded `Dockerfile`"
   ]
  },
  {
   "cell_type": "markdown",
   "metadata": {
    "kernel": "SoS",
    "tags": []
   },
   "source": [
    "## Running a script inside docker"
   ]
  },
  {
   "cell_type": "markdown",
   "metadata": {
    "kernel": "SoS",
    "tags": []
   },
   "source": [
    "SoS executes scripts inside docker by calling command `docker run` with appropriate parameters. Suppose you do not have ruby installed locally and would like to run a ruby script, you can execute it inside a `ruby` container by specifying the docker image to use:"
   ]
  },
  {
   "cell_type": "code",
   "execution_count": 1,
   "metadata": {
    "kernel": "SoS",
    "scrolled": true,
    "tags": []
   },
   "outputs": [
    {
     "name": "stdout",
     "output_type": "stream",
     "text": [
      "HINT: Pulling docker image ruby\n",
      "Line1 contains Cats\n"
     ]
    }
   ],
   "source": [
    "%run\n",
    "ruby: container='ruby'\n",
    "    line1 = \"Cats are smarter than dogs\";\n",
    "    line2 = \"Dogs also like meat\";\n",
    "\n",
    "    if ( line1 =~ /Cats(.*)/ )\n",
    "      puts \"Line1 contains Cats\"\n",
    "    end\n",
    "    if ( line2 =~ /Cats(.*)/ )\n",
    "      puts \"Line2 contains  Dogs\"\n",
    "    end"
   ]
  },
  {
   "cell_type": "markdown",
   "metadata": {
    "kernel": "SoS",
    "tags": []
   },
   "source": [
    "The actual `docker run` command executed by SoS can be shown when you execute the script in dryrun mode (with `-n` option). In this mode, SoS would print the interpolated script (if option `expand=True` is set) and the docker command to execute it:"
   ]
  },
  {
   "cell_type": "code",
   "execution_count": 2,
   "metadata": {
    "kernel": "SoS",
    "tags": []
   },
   "outputs": [
    {
     "name": "stdout",
     "output_type": "stream",
     "text": [
      "HINT: Pulling docker image ruby\n",
      "HINT: docker run --rm   -v /Users/bpeng1/sos/sos-docs/src/user_guide:/Users/bpeng1/sos/sos-docs/src/user_guide -v /Users/bpeng1/sos/sos-docs/src/user_guide/tmpddu7vzmy/docker_run_81390.rb:/var/lib/sos/docker_run_81390.rb    -t  -w=/Users/bpeng1/sos/sos-docs/src/user_guide -u 1985961928:895809667    ruby ruby /var/lib/sos/docker_run_81390.rb\n",
      "line1 = \"Cats are smarter than dogs\";\n",
      "line2 = \"Dogs also like meat\";\n",
      "\n",
      "if ( line1 =~ /Cats(.*)/ )\n",
      "  puts \"Line1 contains Cats\"\n",
      "end\n",
      "if ( line2 =~ /Cats(.*)/ )\n",
      "  puts \"Line2 contains  Dogs\"\n",
      "end\n",
      "\n"
     ]
    }
   ],
   "source": [
    "%run -n\n",
    "ruby: container='ruby'\n",
    "    line1 = \"Cats are smarter than dogs\";\n",
    "    line2 = \"Dogs also like meat\";\n",
    "\n",
    "    if ( line1 =~ /Cats(.*)/ )\n",
    "      puts \"Line1 contains Cats\"\n",
    "    end\n",
    "    if ( line2 =~ /Cats(.*)/ )\n",
    "      puts \"Line2 contains  Dogs\"\n",
    "    end"
   ]
  },
  {
   "cell_type": "markdown",
   "metadata": {
    "kernel": "SoS",
    "tags": []
   },
   "source": [
    "As you can see, the docker command looks similar to\n",
    "\n",
    "```\n",
    "docker run --rm  \n",
    "    -v $(pwd):$(pwd)\n",
    "    -v /tmp/path/to/docker_run_30258.rb:/var/lib/sos/docker_run_30258.rb\n",
    "    -t -P \n",
    "    -w=/Users/bpeng1/sos/sos-docs/src/tutorials\n",
    "    -u 12345:54321    ruby\n",
    "    ruby /var/lib/sos/docker_run_30258.rb\n",
    "```\n",
    "\n",
    "Basically, SoS downloads a docker image called `ruby` and runs command `docker run` to execte the specified script, with the following options\n",
    "\n",
    "* `--rm` Automatically remove the container when it exits\n",
    "* `-v $(pwd):$(pwd)` maps current working directory to the docker image so that it can be accessed from within the docker image\n",
    "* `-v /tmp/path/to/docker_run_30258.rb:/var/lib/sos/docker_run_30258.rb` maps a temporary script (`/Users/bpeng1/sos/sos-docs/src/tutorials/tmp2zviq3qh/docker_run_30258.rb` to the docker image.\n",
    "* `-t` Allocate a pseudo-tty\n",
    "* `-P` Publish all exposed ports to the host interfaces\n",
    "* `-w=/Users/bpeng1/sos/sos-docs/src/tutorials` Set working directory to current working directory\n",
    "* `-u 12345:54321` Use the host user-id and group-id inside docker so that files created by docker (on shared volumes) could be accessible from outside of docker.\n",
    "* `ruby` name of the docker image\n",
    "* `ruby /var/lib/sos/docker_run_30258.rb` command that execute the script.\n",
    "\n",
    "The details of these options could be found at the [docker run manual](https://docs.docker.com/engine/reference/run/). They are chosen by the default to work with a majority of the scenarios but can fail for some docker images, in which case you will have to use additional options to customized how the images are executed. This tutorial demonstrates the use of options for some common scenarios but please refer to the SoS documentation on [general action options](https://vatlab.github.io/sos-docs/doc/documentation/Targets_and_Actions.html#Action-options-12) and [options that are specific to `docker_image`](https://vatlab.github.io/sos-docs/doc/documentation/Targets_and_Actions.html#docker_image)."
   ]
  },
  {
   "cell_type": "markdown",
   "metadata": {
    "kernel": "SoS",
    "tags": []
   },
   "source": [
    "Note that\n",
    "\n",
    "```\n",
    "ruby: container='ruby'\n",
    "```\n",
    "\n",
    "is a shortcut for\n",
    "\n",
    "```\n",
    "ruby: container='docker://ruby'\n",
    "\n",
    "```"
   ]
  },
  {
   "cell_type": "markdown",
   "metadata": {
    "kernel": "SoS",
    "tags": []
   },
   "source": [
    "## Building docker images (action `docker_build`)"
   ]
  },
  {
   "cell_type": "markdown",
   "metadata": {
    "kernel": "SoS",
    "tags": []
   },
   "source": [
    "Building a docker image is usually done outside of SoS if you are maintaining a collection of docker containers to be shared by your workflows, your groups, or everyone. However, if you need to create a docker image on-the-fly or would like to embed the Dockerfile inside a SoS script, you can use the `docker_build` action to build a docker container.\n",
    "\n",
    "For example, you can build simple image"
   ]
  },
  {
   "cell_type": "code",
   "execution_count": 3,
   "metadata": {
    "kernel": "SoS",
    "tags": []
   },
   "outputs": [
    {
     "name": "stdout",
     "output_type": "stream",
     "text": [
      "Sending build context to Docker daemon  61.09MB\n",
      "Step 1/1 : FROM ubuntu:14.04\n",
      " ---> 6e4f1fe62ff1\n",
      "Successfully built 6e4f1fe62ff1\n",
      "Successfully tagged test_docker:latest\n"
     ]
    },
    {
     "data": {
      "text/plain": [
       "0"
      ]
     },
     "execution_count": 3,
     "metadata": {},
     "output_type": "execute_result"
    }
   ],
   "source": [
    "docker_build: tag='test_docker'\n",
    "  FROM ubuntu:14.04\n"
   ]
  },
  {
   "cell_type": "markdown",
   "metadata": {
    "kernel": "SoS",
    "tags": []
   },
   "source": [
    "and use the image"
   ]
  },
  {
   "cell_type": "code",
   "execution_count": 4,
   "metadata": {
    "kernel": "SoS",
    "scrolled": true,
    "tags": []
   },
   "outputs": [
    {
     "data": {
      "text/html": [
       "<div class=\"sos_hint\">Pulling docker image test_docker</div>"
      ]
     },
     "metadata": {},
     "output_type": "display_data"
    },
    {
     "name": "stdout",
     "output_type": "stream",
     "text": [
      "\n",
      "bin  games  include  lib  local  sbin  share  src\n"
     ]
    }
   ],
   "source": [
    "sh: container='test_docker'\n",
    "  ls /usr"
   ]
  },
  {
   "cell_type": "markdown",
   "metadata": {
    "kernel": "SoS",
    "tags": []
   },
   "source": [
    "This tutorial will use the `docker_build` action to build a few simple docker images to demonstrate the use of various options."
   ]
  },
  {
   "cell_type": "markdown",
   "metadata": {
    "kernel": "SoS",
    "tags": []
   },
   "source": [
    "### Docker build options"
   ]
  },
  {
   "cell_type": "markdown",
   "metadata": {
    "kernel": "SoS",
    "tags": []
   },
   "source": [
    "Action `docker_build` accepts usual SoS action options such as `workdir`, `stdout`, and `stderr`. For example, you can suppress the output of the action using options `stdout=False` and/or `stderr=False`:"
   ]
  },
  {
   "cell_type": "code",
   "execution_count": 5,
   "metadata": {
    "kernel": "SoS",
    "tags": []
   },
   "outputs": [
    {
     "data": {
      "text/plain": [
       "0"
      ]
     },
     "execution_count": 5,
     "metadata": {},
     "output_type": "execute_result"
    }
   ],
   "source": [
    "docker_build: tag='test_docker', stdout=False\n",
    "  FROM ubuntu:14.04"
   ]
  },
  {
   "cell_type": "markdown",
   "metadata": {
    "kernel": "SoS",
    "tags": []
   },
   "source": [
    "This action also accepts all options to command `docker build`, as listed in the [docker build documentation](https://docs.docker.com/engine/reference/commandline/build/). Only the long format of the option names are accepted (e.g. `--memory` is acceptable but not `-m`). Option names containing hyphens (e.g. `disable-content-trust`) should have hyphens relaced with underscores. Boolean options should be specified as `name=True`.\n",
    "\n",
    "For example, "
   ]
  },
  {
   "cell_type": "code",
   "execution_count": 6,
   "metadata": {
    "kernel": "SoS",
    "tags": []
   },
   "outputs": [
    {
     "name": "stdout",
     "output_type": "stream",
     "text": [
      "Sending build context to Docker daemon  53.87MB\n",
      "Step 1/2 : FROM ubuntu:14.04\n",
      " ---> 6e4f1fe62ff1\n",
      "Step 2/2 : LABEL testimage=\n",
      " ---> Running in 70268c43e676\n",
      "Removing intermediate container 70268c43e676\n",
      " ---> 311ecf436f9d\n",
      "Successfully built 311ecf436f9d\n",
      "Successfully tagged test_docker:latest\n"
     ]
    },
    {
     "data": {
      "text/plain": [
       "0"
      ]
     },
     "execution_count": 6,
     "metadata": {},
     "output_type": "execute_result"
    }
   ],
   "source": [
    "docker_build: tag='test_docker', label='testimage',\n",
    "  compress=True, no_cache=True, memory='2G'\n",
    "\n",
    "  FROM ubuntu:14.04"
   ]
  },
  {
   "cell_type": "markdown",
   "metadata": {
    "kernel": "SoS",
    "tags": []
   },
   "source": [
    "## Running docker images"
   ]
  },
  {
   "cell_type": "markdown",
   "metadata": {
    "kernel": "SoS",
    "tags": []
   },
   "source": [
    "### Customized working directory (`workdir` and `docker_workdir`)"
   ]
  },
  {
   "cell_type": "markdown",
   "metadata": {
    "kernel": "SoS",
    "tags": []
   },
   "source": [
    "SoS by default sets the current working directory of the docker image to the working directory of the host system, essentially adding `-w $(pwd)` to the command line. For example, with the following docker image, the `pwd` of the script is the current working directory on the host machine."
   ]
  },
  {
   "cell_type": "code",
   "execution_count": 7,
   "metadata": {
    "kernel": "SoS",
    "tags": []
   },
   "outputs": [
    {
     "data": {
      "text/html": [
       "<div class=\"sos_hint\">Pulling docker image ubuntu:14.04</div>"
      ]
     },
     "metadata": {},
     "output_type": "display_data"
    },
    {
     "name": "stdout",
     "output_type": "stream",
     "text": [
      "\n",
      "/Users/bpeng1/sos/sos-docs/src/user_guide\n"
     ]
    }
   ],
   "source": [
    "sh: container='ubuntu:14.04'\n",
    "  echo `pwd`"
   ]
  },
  {
   "cell_type": "markdown",
   "metadata": {
    "kernel": "SoS",
    "tags": []
   },
   "source": [
    "Since the action option `workdir` can change the working directory of the script, you can use this option to change the script of the working directory of the docker image as well. For example, SoS in the following example will change the current working directory to the parent directory before executing `docker run` there."
   ]
  },
  {
   "cell_type": "code",
   "execution_count": 8,
   "metadata": {
    "kernel": "SoS",
    "tags": []
   },
   "outputs": [
    {
     "name": "stdout",
     "output_type": "stream",
     "text": [
      "/Users/bpeng1/sos/sos-docs/src\n"
     ]
    }
   ],
   "source": [
    "sh: container='ubuntu:14.04', workdir='..'\n",
    "  echo `pwd`"
   ]
  },
  {
   "cell_type": "markdown",
   "metadata": {
    "kernel": "SoS",
    "tags": []
   },
   "source": [
    "This default behavior is convenient when you use commands in docker images to process input files on your host machine but it has two caveats:\n",
    "\n",
    "1. The docker image might have its own `WORKDIR` for the command to work. For example, a docker image can provide an application that is not in standard `$PATH` so it can only be executed in a specified `WORKDIR`.\n",
    "2. You might need to specify a working directory inside of docker that does not exist in the host machine."
   ]
  },
  {
   "cell_type": "markdown",
   "metadata": {
    "kernel": "SoS",
    "tags": []
   },
   "source": [
    "Option `docker_workdir`, if specified, overrides `workdir` and allows the use of default or customized working directory inside of docker images. When `docker_workdir` is set to `None`, no `-w` option will be passed to the docker image and the default `WORKDIR` will be used. Otherwise an absolute path inside the docker image can be specified.\n",
    "\n",
    "For example, the following customized docker image has a `WORKDIR` set to `/usr`. It is working directory is set to host working directory by default, to `/usr` with `docker_workdir=None`, and `/home/random_user` with `docker_workdir='/home/random_user'`."
   ]
  },
  {
   "cell_type": "code",
   "execution_count": 9,
   "metadata": {
    "kernel": "SoS",
    "tags": []
   },
   "outputs": [
    {
     "name": "stdout",
     "output_type": "stream",
     "text": [
      "Sending build context to Docker daemon  61.09MB\n",
      "Step 1/2 : FROM ubuntu:14.04\n",
      " ---> 6e4f1fe62ff1\n",
      "Step 2/2 : WORKDIR /usr\n",
      " ---> Using cache\n",
      " ---> ff584235a068\n",
      "Successfully built ff584235a068\n",
      "Successfully tagged test_docker_workdir:latest\n"
     ]
    },
    {
     "data": {
      "text/html": [
       "<div class=\"sos_hint\">Pulling docker image test_docker_workdir</div>"
      ]
     },
     "metadata": {},
     "output_type": "display_data"
    },
    {
     "name": "stdout",
     "output_type": "stream",
     "text": [
      "\n",
      "/Users/bpeng1/sos/sos-docs/src/user_guide\n",
      "/usr\n",
      "/home/random_user\n"
     ]
    }
   ],
   "source": [
    "docker_build: tag='test_docker_workdir'\n",
    "  FROM ubuntu:14.04\n",
    "  WORKDIR /usr\n",
    "\n",
    "sh: container='test_docker_workdir'\n",
    "  echo `pwd`\n",
    "  \n",
    "sh: container='test_docker_workdir', docker_workdir=None\n",
    "  echo `pwd`\n",
    "  \n",
    "sh: container='test_docker_workdir', docker_workdir='/home/random_user'\n",
    "  echo `pwd`"
   ]
  },
  {
   "cell_type": "markdown",
   "metadata": {
    "kernel": "SoS",
    "tags": []
   },
   "source": [
    "Note the directory is relative to the docker file system so it does not have to exist on the host system. Docker also creates `docker_workdir` if it does not exist so you do not have to create the directory in advance. "
   ]
  },
  {
   "cell_type": "markdown",
   "metadata": {
    "kernel": "SoS",
    "tags": []
   },
   "source": [
    "### Sharing of input and output files (`volumes`)"
   ]
  },
  {
   "cell_type": "markdown",
   "metadata": {
    "kernel": "SoS",
    "tags": []
   },
   "source": [
    "Because the working directory of the docker image is set by default to the current working directory, you can apply a command inside a docker image to work on files in the current working directory, and create files in it as well."
   ]
  },
  {
   "cell_type": "code",
   "execution_count": 10,
   "metadata": {
    "kernel": "SoS",
    "tags": []
   },
   "outputs": [
    {
     "name": "stdout",
     "output_type": "stream",
     "text": [
      "1279 docker.ipynb\n"
     ]
    }
   ],
   "source": [
    "sh: container='ubuntu:14.04'\n",
    "  wc -l docker.ipynb > docker_wc.txt\n",
    "  \n",
    "sh:\n",
    "  cat docker_wc.txt"
   ]
  },
  {
   "cell_type": "markdown",
   "metadata": {
    "kernel": "SoS",
    "tags": []
   },
   "source": [
    "This works because SoS automatically shares the current working directory of the host system to the docker image. Because the docker image can only \"see\" file systems shared by command `docker run`, **your script will fail if your input files or output files are not under current working directory**."
   ]
  },
  {
   "cell_type": "markdown",
   "metadata": {
    "kernel": "SoS",
    "tags": []
   },
   "source": [
    "The problem could be solved by specifying additional shared file systems through parameter `volumes`. This parameter accepts one (a string) or a list of volumes (list of strings) in the format of\n",
    "\n",
    "* A single path (e.g. `/Users`) which would be shared to the docker image under the same name (e.g.  `/Users:/Users`).\n",
    "* A full volume specification `host-src:]container-dest[:<options>]`, in which case host and container directories can have different names (e.g. `/Users:/home`).\n",
    "\n",
    "A special rule here is that the current working directory will not be mapped separately if it is under one of the specified volumes. That is to say, if the current working directly is `/Users/bpeng1/project` and option `volumes='/Users:/home'` is specified, current working directory will be implicitly mapped to `/home/bpeng1/project`."
   ]
  },
  {
   "cell_type": "markdown",
   "metadata": {
    "kernel": "SoS",
    "tags": []
   },
   "source": [
    "### Docker images with `ENTRYPOINT`"
   ]
  },
  {
   "cell_type": "markdown",
   "metadata": {
    "kernel": "SoS",
    "tags": []
   },
   "source": [
    "Some docker images have an entry point which determines the command that will be executed when the image is executed. When such images are executed, parameters passed from command line will be appended to `ENTRYPOINT` so our usually way of specifying an interpreter (e.g. `ruby`) and a script will not work. If we run the script directly, our \"command\" (e.g. `ruby /var/lib/sos/docker_run_30258.rb` will be appended to the entry point and will not be executed properly. Examples of such images include [`dceoy/gatk`](https://hub.docker.com/r/dceoy/gatk/~/dockerfile/), which has an entry point\n",
    "\n",
    "```\n",
    "[\"java\", \"-jar\", \"/usr/local/src/gatk/build/libs/gatk.jar\"]\n",
    "```\n",
    "\n",
    "and does not accept any additional interpreter. What we really need to do is to append \"arguments\" to this pre-specified command.\n",
    "\n",
    "For example, the `test_docker_ls` image has an `ENTRYPOINT` with command `ls`."
   ]
  },
  {
   "cell_type": "code",
   "execution_count": 11,
   "metadata": {
    "kernel": "SoS",
    "tags": []
   },
   "outputs": [
    {
     "name": "stdout",
     "output_type": "stream",
     "text": [
      "Sending build context to Docker daemon  61.09MB\n",
      "Step 1/2 : FROM ubuntu:14.04\n",
      " ---> 6e4f1fe62ff1\n",
      "Step 2/2 : ENTRYPOINT [\"ls\"]\n",
      " ---> Using cache\n",
      " ---> 52364ac33aad\n",
      "Successfully built 52364ac33aad\n",
      "Successfully tagged test_docker_ls:latest\n"
     ]
    },
    {
     "data": {
      "text/plain": [
       "0"
      ]
     },
     "execution_count": 11,
     "metadata": {},
     "output_type": "execute_result"
    }
   ],
   "source": [
    "docker_build: tag='test_docker_ls'\n",
    "  FROM ubuntu:14.04\n",
    "  ENTRYPOINT [\"ls\"]"
   ]
  },
  {
   "cell_type": "markdown",
   "metadata": {
    "kernel": "SoS",
    "tags": []
   },
   "source": [
    "The image is expected to be executed directly with optional parameter and without an interpreter (e.g. `docker run test_docker_ls`)."
   ]
  },
  {
   "cell_type": "markdown",
   "metadata": {
    "kernel": "SoS",
    "tags": []
   },
   "source": [
    "Because action `script` does not have a default interpreter, and option `args` can be used to construct a command line, we can use docker images with `ENTRYPOINT` in the format of"
   ]
  },
  {
   "cell_type": "code",
   "execution_count": 12,
   "metadata": {
    "kernel": "SoS",
    "tags": []
   },
   "outputs": [
    {
     "data": {
      "text/html": [
       "<div class=\"sos_hint\">Pulling docker image test_docker_ls</div>"
      ]
     },
     "metadata": {},
     "output_type": "display_data"
    },
    {
     "name": "stdout",
     "output_type": "stream",
     "text": [
      "\n",
      "-rw-r--r-- 1 1985961928 895809667 34732 Dec 25 23:26 docker.ipynb\n"
     ]
    }
   ],
   "source": [
    "script: args = '-l docker.ipynb', container = 'test_docker_ls'"
   ]
  },
  {
   "cell_type": "markdown",
   "metadata": {
    "kernel": "SoS",
    "tags": []
   },
   "source": [
    "which essentially passes `-l SoS_Docker_Guide.ipynb` to the image and executes command \n",
    "```\n",
    "ls -l SoS_Docker_Guide.ipynb\n",
    "```"
   ]
  },
  {
   "cell_type": "markdown",
   "metadata": {
    "kernel": "SoS",
    "tags": []
   },
   "source": [
    "If the command line is long, you can use another trick, that is to say, to use `{script}` in `args` for scripts of the action. For example, the aforementioned command can be specified as"
   ]
  },
  {
   "cell_type": "code",
   "execution_count": 13,
   "metadata": {
    "kernel": "SoS",
    "scrolled": true,
    "tags": []
   },
   "outputs": [
    {
     "name": "stdout",
     "output_type": "stream",
     "text": [
      "-rw-r--r-- 1 1985961928 895809667 34732 Dec 25 23:26 docker.ipynb\n"
     ]
    }
   ],
   "source": [
    "script: args='{script}', container='test_docker_ls'\n",
    "  -l docker.ipynb"
   ]
  },
  {
   "cell_type": "markdown",
   "metadata": {
    "kernel": "SoS",
    "tags": []
   },
   "source": [
    "## Common problems"
   ]
  },
  {
   "cell_type": "markdown",
   "metadata": {
    "kernel": "SoS",
    "tags": []
   },
   "source": [
    "* If you are using **Docker Toolbox** instead of Docker for Mac on a Mac, the docker image will be executed inside a VirtualBox virtual machine, which has its own shared directories, allocated CPUs and memories. It is therefore possible that\n",
    "\n",
    " 1. Your virtual machine is usually onnfigured with a small amount of RAM (e.g. 2G), so your docker image will run out of memory even when your system has plenty of RAM left. Re-configure your virtual box VM if this happens.\n",
    " 2. SoS uses native paths for its docker command line so it will for example map `c:\\Users` to `/C/Users` under windows. However, this path might not be accessible from docker if the virtual box does not share this directory (`c:\\Users`) or if the shared directory has a different name (e.g. `/Users` instead of `/C/Users`). Before you use SoS with Docker Toolbox, please make sure that the directory you would like to use is shared in the VM, and use names recognizable by SoS (e.g. share `C:\\Users` as `/C/Users`, `D:\\Data` as `/D/Data`).\n",
    "\n",
    "* Symbolic links are different from OS to OS so creating symbolic links inside docker might fail with strange error messages such as \"Read-only file system\". Even if you can create symbolic links inside docker, the created links might not be accessible from the host machine.\n",
    "\n",
    "* Killing a sos task or sos process will not terminate scripts that are executed by the docker daemon. They will have to be killed explicitly using docker commands."
   ]
  },
  {
   "cell_type": "markdown",
   "metadata": {
    "kernel": "SoS",
    "tags": []
   },
   "source": [
    "## Further reading\n",
    "\n",
    "* [SoS actions](sos_actions.html)\n",
    "* [Using singularity](singularity.html)"
   ]
  }
 ],
 "metadata": {
  "kernelspec": {
   "display_name": "SoS",
   "language": "sos",
   "name": "sos"
  },
  "language_info": {
   "codemirror_mode": "sos",
   "file_extension": ".sos",
   "mimetype": "text/x-sos",
   "name": "sos",
   "nbconvert_exporter": "sos_notebook.converter.SoS_Exporter",
   "pygments_lexer": "sos"
  },
  "sos": {
   "kernels": [
    [
     "Bash",
     "bash",
     "Bash",
     "#E6EEFF"
    ],
    [
     "R",
     "ir",
     "R",
     "#DCDCDA"
    ],
    [
     "SoS",
     "sos",
     "",
     ""
    ]
   ],
   "panel": {
    "displayed": true,
    "height": 0
   },
   "version": "0.21.5"
  }
 },
 "nbformat": 4,
 "nbformat_minor": 4
}
