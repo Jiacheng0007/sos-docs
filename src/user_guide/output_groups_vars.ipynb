{
 "cells": [
  {
   "cell_type": "markdown",
   "metadata": {
    "kernel": "SoS",
    "tags": []
   },
   "source": [
    "# Attaching variables to output targets and groups"
   ]
  },
  {
   "cell_type": "markdown",
   "metadata": {
    "kernel": "SoS",
    "tags": []
   },
   "source": [
    "* **Difficulty level**: intermediate\n",
    "* **Time need to lean**: 20 minutes or less\n",
    "* **Key points**:\n",
    "  * Option `paired_with` attaches variables to output targets\n",
    "  * Option `group_with` attaches variables to output groups (`_output`)\n",
    "  "
   ]
  },
  {
   "cell_type": "markdown",
   "metadata": {
    "kernel": "SoS",
    "tags": []
   },
   "source": [
    "## Passing of `step_output`"
   ]
  },
  {
   "cell_type": "markdown",
   "metadata": {
    "kernel": "SoS",
    "tags": []
   },
   "source": [
    "If a SoS step contains multiple substeps, defined by options `group_by` or `for_each`, the `_input` becomes the groups of `step_input` and `_output` becomes the groups of `step_output`, and the steps are executed for each of the groups.\n",
    "\n",
    "Moreover, the group information of `step_output` will be passed as the default input to the next step in a simple forward-style workflow, or as input to another step with functions `output_from` or `named_output`. As shown in the following example, the `step_output` of step `A` becomes the input of step `B`, creating two substeps."
   ]
  },
  {
   "cell_type": "code",
   "execution_count": 1,
   "metadata": {
    "kernel": "SoS",
    "tags": []
   },
   "outputs": [
    {
     "name": "stdout",
     "output_type": "stream",
     "text": [
      "step_output=a.bak b.bak, _input=a.bak\n"
     ]
    },
    {
     "name": "stdout",
     "output_type": "stream",
     "text": [
      "step_output=a.bak b.bak, _input=b.bak\n"
     ]
    }
   ],
   "source": [
    "!touch a.txt b.txt\n",
    "%run B -v1\n",
    "\n",
    "[A]\n",
    "input: 'a.txt', 'b.txt', group_by=1\n",
    "output: _input.with_suffix('.bak')\n",
    "\n",
    "_output.touch()\n",
    "print(f'step_input={step_input}, _input={_input}, _output={_output}')\n",
    "\n",
    "[B]\n",
    "input: output_from('A')\n",
    "print(f'step_output={step_input}, _input={_input}')\n"
   ]
  },
  {
   "cell_type": "markdown",
   "metadata": {
    "kernel": "SoS",
    "tags": []
   },
   "source": [
    "## Attaching attributes to output targets"
   ]
  },
  {
   "cell_type": "markdown",
   "metadata": {
    "kernel": "SoS",
    "tags": []
   },
   "source": [
    "As we recall the input option `paired_with` associate each input target with one or more attributes."
   ]
  },
  {
   "cell_type": "code",
   "execution_count": 2,
   "metadata": {
    "kernel": "SoS",
    "tags": []
   },
   "outputs": [
    {
     "name": "stdout",
     "output_type": "stream",
     "text": [
      "step_input=a.txt b.txt, _input=a.txt for sample A, _output=a.bak\n"
     ]
    },
    {
     "name": "stdout",
     "output_type": "stream",
     "text": [
      "step_input=a.txt b.txt, _input=b.txt for sample B, _output=b.bak\n"
     ]
    }
   ],
   "source": [
    "input: 'a.txt', 'b.txt', group_by=1, paired_with=dict(sample=['A', 'B'])\n",
    "output: _input.with_suffix('.bak')\n",
    "\n",
    "_output.touch()\n",
    "print(f'step_input={step_input}, _input={_input} for sample {_input.sample}, _output={_output}')\n"
   ]
  },
  {
   "cell_type": "markdown",
   "metadata": {
    "kernel": "SoS",
    "tags": []
   },
   "source": [
    "We can do the same for `_output`, but it is trickier because the output statement defines `_output` and only in rare cases sees the entire `step_output` (see [output option `group_by`](output_group_by.html) for details). In any case, `paired_with` option applies to what is defined in the `output` statement.\n",
    "\n",
    "For example, with `paired_with`, the `_input` is associated with an attribute `sample`, and we can assign it to \n"
   ]
  },
  {
   "cell_type": "code",
   "execution_count": 3,
   "metadata": {
    "kernel": "SoS",
    "tags": []
   },
   "outputs": [
    {
     "name": "stdout",
     "output_type": "stream",
     "text": [
      "step_input=a.txt b.txt, _input=a.txt, _output=a.bak for sample A\n"
     ]
    },
    {
     "name": "stdout",
     "output_type": "stream",
     "text": [
      "step_input=a.txt b.txt, _input=b.txt, _output=b.bak for sample B\n"
     ]
    }
   ],
   "source": [
    "input: 'a.txt', 'b.txt', group_by=1, paired_with=dict(sample=['A', 'B'])\n",
    "output: _input.with_suffix('.bak'), paired_with=dict(sample=_input.sample)\n",
    "\n",
    "_output.touch()\n",
    "print(f'step_input={step_input}, _input={_input}, _output={_output} for sample {_output.sample}')\n"
   ]
  },
  {
   "cell_type": "markdown",
   "metadata": {
    "kernel": "SoS",
    "tags": []
   },
   "source": [
    "However, if the `output` statement defines `step_output` with `group_by`, option `paired_with` will need to associate all targets with an array (not a single `_input.sample` as above)."
   ]
  },
  {
   "cell_type": "code",
   "execution_count": 4,
   "metadata": {
    "kernel": "SoS",
    "tags": []
   },
   "outputs": [
    {
     "name": "stdout",
     "output_type": "stream",
     "text": [
      "step_input=a.txt b.txt, _input=a.txt, _output=a.bak for sample A\n"
     ]
    },
    {
     "name": "stdout",
     "output_type": "stream",
     "text": [
      "step_input=a.txt b.txt, _input=b.txt, _output=b.bak for sample B\n"
     ]
    }
   ],
   "source": [
    "in_files = ['a.txt', 'b.txt']\n",
    "out_files = ['a.bak', 'b.bak']\n",
    "samples = ['A', 'B']\n",
    "input: in_files, group_by=1, paired_with=dict(sample=samples)\n",
    "output: out_files, group_by=1, paired_with=dict(sample=samples)\n",
    "\n",
    "_output.touch()\n",
    "print(f'step_input={step_input}, _input={_input}, _output={_output} for sample {_output.sample}')\n"
   ]
  },
  {
   "cell_type": "markdown",
   "metadata": {
    "kernel": "SoS",
    "tags": []
   },
   "source": [
    "With attributes attached to `_output` targets, the attributes will be passed to next steps implicitly, or explicitly with `output_from`. The information will help you identify the properties of each substep more easily."
   ]
  },
  {
   "cell_type": "code",
   "execution_count": 5,
   "metadata": {
    "kernel": "SoS",
    "tags": []
   },
   "outputs": [
    {
     "name": "stdout",
     "output_type": "stream",
     "text": [
      "Continue processing a.bak for sample A\n"
     ]
    },
    {
     "name": "stdout",
     "output_type": "stream",
     "text": [
      "Continue processing b.bak for sample B\n"
     ]
    }
   ],
   "source": [
    "%run B -v1\n",
    "\n",
    "[A]\n",
    "in_files = ['a.txt', 'b.txt']\n",
    "out_files = ['a.bak', 'b.bak']\n",
    "samples = ['A', 'B']\n",
    "input: in_files, group_by=1, paired_with=dict(sample=samples)\n",
    "output: out_files, group_by=1, paired_with=dict(sample=samples)\n",
    "\n",
    "_output.touch()\n",
    "print(f'step_input={step_input}, _input={_input}, _output={_output} for sample {_output.sample}')\n",
    "\n",
    "[B]\n",
    "input: output_from('A')\n",
    "print(f'Continue processing {_input} for sample {_input.sample}')"
   ]
  },
  {
   "cell_type": "markdown",
   "metadata": {
    "kernel": "SoS",
    "tags": []
   },
   "source": [
    "## The `group_with` output option"
   ]
  },
  {
   "cell_type": "markdown",
   "metadata": {
    "kernel": "SoS",
    "tags": []
   },
   "source": [
    "Just like the `group_with` option of the `input` statement, the `group_with` output option assigns a sequence of variables to each of the output groups (variable `_output`). Again, the situation is trickier because the output statement defines `_output` and only in rare cases sees the entire `step_output` (see [output option `group_by`](output_group_by.html) for details). In any case, `group_with` option applies to what is defined in the `output` statement.\n",
    "\n",
    "That is to say, if `output` defines `_output`, `group_with` just associate the dictionary with it, and the values should be specific for this particular substep."
   ]
  },
  {
   "cell_type": "code",
   "execution_count": 6,
   "metadata": {
    "kernel": "SoS",
    "tags": []
   },
   "outputs": [
    {
     "name": "stdout",
     "output_type": "stream",
     "text": [
      "step_output=a.bak b.bak, _output=a.bak, _output.sample=A\n"
     ]
    },
    {
     "name": "stdout",
     "output_type": "stream",
     "text": [
      "step_output=a.bak b.bak, _output=b.bak, _output.sample=B\n"
     ]
    }
   ],
   "source": [
    "!touch a.txt b.txt\n",
    "%run -v1\n",
    "\n",
    "samples = ['A', 'B']\n",
    "\n",
    "[1]\n",
    "input: 'a.txt', 'b.txt', group_by=1\n",
    "output: _input.with_suffix('.bak'), group_with=dict(sample=samples[_index])\n",
    "\n",
    "_output.touch()\n",
    "print(f'step_input={step_input}, _input={_input}, _output={_output}, _output.sample={_output.sample}')\n",
    "\n",
    "[2]\n",
    "print(f'step_output={step_input}, _output={_input}, _output.sample={_input.sample}')\n"
   ]
  },
  {
   "cell_type": "markdown",
   "metadata": {
    "kernel": "SoS",
    "tags": []
   },
   "source": [
    "If `output` defines `step_output` with `group_by`, then `group_with` should specify arrays with elements assigned to each substep."
   ]
  },
  {
   "cell_type": "code",
   "execution_count": 7,
   "metadata": {
    "kernel": "SoS",
    "tags": []
   },
   "outputs": [
    {
     "name": "stdout",
     "output_type": "stream",
     "text": [
      "step_output=a.bak b.bak, _output=a.bak, _output.sample=A\n"
     ]
    },
    {
     "name": "stdout",
     "output_type": "stream",
     "text": [
      "step_output=a.bak b.bak, _output=b.bak, _output.sample=B\n"
     ]
    }
   ],
   "source": [
    "!touch a.txt b.txt\n",
    "%run -v1\n",
    "\n",
    "samples = ['A', 'B']\n",
    "\n",
    "[1]\n",
    "input: 'a.txt', 'b.txt', group_by=1\n",
    "output: 'a.bak', 'b.bak', group_by=1, group_with=dict(sample=samples)\n",
    "\n",
    "_output.touch()\n",
    "print(f'step_input={step_input}, _input={_input}, _output={_output}, _output.sample={_output.sample}')\n",
    "\n",
    "[2]\n",
    "print(f'step_output={step_input}, _output={_input}, _output.sample={_input.sample}')"
   ]
  },
  {
   "cell_type": "markdown",
   "metadata": {
    "kernel": "SoS",
    "tags": []
   },
   "source": [
    "## Difference between `paired_with` and `group_with`"
   ]
  },
  {
   "cell_type": "markdown",
   "metadata": {
    "kernel": "SoS",
    "tags": []
   },
   "source": [
    "The difference between `pairwd_with` and `group_with` should be clear but the simple examples we have shown do not show it. More specifically,\n",
    "\n",
    "* `paired_with` pairs variables with each target of `_output`\n",
    "* `group_with` pairs variables to `_output` itself\n",
    "\n",
    "We did not see any difference because our `_output` has only one element so `_output.sample` can be used in place of `_output[0].sample`. The following example creates `_input` of size 2 and demonstrates the difference between target variables (`replicate`) and group varaibles (`group`)."
   ]
  },
  {
   "cell_type": "code",
   "execution_count": 8,
   "metadata": {
    "kernel": "SoS",
    "tags": []
   },
   "outputs": [
    {
     "name": "stdout",
     "output_type": "stream",
     "text": [
      "step 1 step_input=a1.txt a2.txt b1.txt b2.txt\n"
     ]
    },
    {
     "name": "stdout",
     "output_type": "stream",
     "text": [
      "  _input=a1.txt a2.txt, _output=a1.bak a2.bak, _output.group=A\n"
     ]
    },
    {
     "name": "stdout",
     "output_type": "stream",
     "text": [
      "step 1 step_input=a1.txt a2.txt b1.txt b2.txt\n"
     ]
    },
    {
     "name": "stdout",
     "output_type": "stream",
     "text": [
      "  _input=b1.txt b2.txt, _output=b1.bak b2.bak, _output.group=B\n"
     ]
    },
    {
     "name": "stdout",
     "output_type": "stream",
     "text": [
      "step 2 step_input=a1.bak a2.bak b1.bak b2.bak\n"
     ]
    },
    {
     "name": "stdout",
     "output_type": "stream",
     "text": [
      "  _input=a1.bak a2.bak with replicate [1, 2],  _input.group=A\n"
     ]
    },
    {
     "name": "stdout",
     "output_type": "stream",
     "text": [
      "step 2 step_input=a1.bak a2.bak b1.bak b2.bak\n"
     ]
    },
    {
     "name": "stdout",
     "output_type": "stream",
     "text": [
      "  _input=b1.bak b2.bak with replicate [1, 2],  _input.group=B\n"
     ]
    }
   ],
   "source": [
    "!touch a1.txt a2.txt b1.txt b2.txt\n",
    "%run -s force -v1\n",
    "\n",
    "[1]\n",
    "input: 'a1.txt', 'a2.txt', 'b1.txt', 'b2.txt', group_by=2,\n",
    "    paired_with=dict(replicate=[1, 2, 1, 2]),\n",
    "    group_with=dict(group=['A', 'B'])\n",
    "output: [x.with_suffix('.bak') for x in _input], \n",
    "    paired_with=dict(replicate=[x.replicate for x in _input]),\n",
    "    group_with=dict(group=_input.group)\n",
    "\n",
    "_output.touch()\n",
    "print(f'step 1 step_input={step_input}')\n",
    "print(f'  _input={_input}, _output={_output}, _output.group={_output.group}')\n",
    "\n",
    "[2]\n",
    "print(f'step 2 step_input={step_input}')\n",
    "print(f'  _input={_input} with replicate {[x.replicate for x in _input]},  _input.group={_input.group}')\n"
   ]
  },
  {
   "cell_type": "markdown",
   "metadata": {
    "kernel": "SoS",
    "tags": []
   },
   "source": [
    "## Further reading\n",
    "\n",
    "* [`output` statement](output_statement.html)"
   ]
  }
 ],
 "metadata": {
  "kernelspec": {
   "display_name": "SoS",
   "language": "sos",
   "name": "sos"
  },
  "language_info": {
   "codemirror_mode": "sos",
   "file_extension": ".sos",
   "mimetype": "text/x-sos",
   "name": "sos",
   "nbconvert_exporter": "sos_notebook.converter.SoS_Exporter",
   "pygments_lexer": "sos"
  },
  "sos": {
   "kernels": [
    [
     "Bash",
     "bash",
     "Bash",
     "#E6EEFF"
    ],
    [
     "R",
     "ir",
     "R",
     "#DCDCDA"
    ],
    [
     "SoS",
     "sos",
     "",
     ""
    ]
   ],
   "panel": {
    "displayed": true,
    "height": 0
   },
   "version": "0.21.2"
  }
 },
 "nbformat": 4,
 "nbformat_minor": 4
}
