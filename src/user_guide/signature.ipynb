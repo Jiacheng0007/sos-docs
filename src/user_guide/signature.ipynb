{
 "cells": [
  {
   "cell_type": "markdown",
   "metadata": {
    "kernel": "SoS",
    "papermill": {
     "duration": 0.027709,
     "end_time": "2019-12-23T17:05:42.923127",
     "exception": false,
     "start_time": "2019-12-23T17:05:42.895418",
     "status": "completed"
    },
    "tags": []
   },
   "source": [
    "# How to avoid or force the re-execution of executed steps"
   ]
  },
  {
   "cell_type": "markdown",
   "metadata": {
    "kernel": "SoS",
    "papermill": {
     "duration": 0.024188,
     "end_time": "2019-12-23T17:05:42.978332",
     "exception": false,
     "start_time": "2019-12-23T17:05:42.954144",
     "status": "completed"
    },
    "tags": []
   },
   "source": [
    "* **Difficulty level**: easy\n",
    "* **Time need to lean**: 10 minutes or less\n",
    "* **Key points**:\n",
    "  * Runtime signatures avoids repeated execution of steps\n",
    "  * Option `-s` controls the behavior of signatures\n",
    "  "
   ]
  },
  {
   "cell_type": "markdown",
   "metadata": {
    "kernel": "SoS",
    "papermill": {
     "duration": 0.023406,
     "end_time": "2019-12-23T17:05:43.024118",
     "exception": false,
     "start_time": "2019-12-23T17:05:43.000712",
     "status": "completed"
    },
    "tags": []
   },
   "source": [
    "## Runtime signature"
   ]
  },
  {
   "cell_type": "markdown",
   "metadata": {
    "kernel": "SoS",
    "papermill": {
     "duration": 0.03055,
     "end_time": "2019-12-23T17:05:43.080173",
     "exception": false,
     "start_time": "2019-12-23T17:05:43.049623",
     "status": "completed"
    },
    "tags": []
   },
   "source": [
    "One of the most annonying problems with the development and execution of workflows is that it can take very long times to execute them. What makes things worse is that we frequently need to re-run the workflow with different paremeters and even different tools -- it can be really time-consuming to re-execute the whole workflow repeatedly, but it is also very error-prone to repeat selected steps of a workflow. \n",
    "\n",
    "SoS addresses this problem by using **runtime signatures to keep track of execution units**, namely the input, output, and dependent targets, and related SoS variables of a piece of workflow. SoS tracks execution of statements at the step level for each [substep](input_statement.html) and saves runtime signatures at a folder called `.sos` under the project directory.\n",
    "\n",
    "Before running any examples, let us clear all runtime signatures of workflows executed under the current directory."
   ]
  },
  {
   "cell_type": "code",
   "execution_count": 1,
   "metadata": {
    "kernel": "SoS",
    "papermill": {
     "duration": 2.963879,
     "end_time": "2019-12-23T17:05:46.071550",
     "exception": false,
     "start_time": "2019-12-23T17:05:43.107671",
     "status": "completed"
    },
    "tags": []
   },
   "outputs": [
    {
     "name": "stdout",
     "output_type": "stream",
     "text": [
      "INFO: Signatures from 245 substeps are removed.\n"
     ]
    }
   ],
   "source": [
    "!sos remove -s"
   ]
  },
  {
   "cell_type": "markdown",
   "metadata": {
    "kernel": "SoS",
    "papermill": {
     "duration": 0.029925,
     "end_time": "2019-12-23T17:05:46.128624",
     "exception": false,
     "start_time": "2019-12-23T17:05:46.098699",
     "status": "completed"
    },
    "tags": []
   },
   "source": [
    "### `ignore` mode"
   ]
  },
  {
   "cell_type": "markdown",
   "metadata": {
    "kernel": "SoS",
    "papermill": {
     "duration": 0.027579,
     "end_time": "2019-12-23T17:05:46.186351",
     "exception": false,
     "start_time": "2019-12-23T17:05:46.158772",
     "status": "completed"
    },
    "tags": []
   },
   "source": [
    "SoS workflows can be executed in batch mode and in interactive mode using the SoS kernel in Jupyter notebook or qtconsole. Because the SoS kernel is mostly used to execute short statements in SoS and other kernels, runtime signatures are by default set to `ignore` in interactive mode (and to `default` in batch mode)."
   ]
  },
  {
   "cell_type": "markdown",
   "metadata": {
    "kernel": "SoS",
    "papermill": {
     "duration": 0.036355,
     "end_time": "2019-12-23T17:05:46.247904",
     "exception": false,
     "start_time": "2019-12-23T17:05:46.211549",
     "status": "completed"
    },
    "tags": []
   },
   "source": [
    "A consequence of this setting is that **scratch steps will always be executed**."
   ]
  },
  {
   "cell_type": "code",
   "execution_count": 2,
   "metadata": {
    "kernel": "SoS",
    "papermill": {
     "duration": 1.369995,
     "end_time": "2019-12-23T17:05:47.644449",
     "exception": false,
     "start_time": "2019-12-23T17:05:46.274454",
     "status": "completed"
    },
    "tags": []
   },
   "outputs": [
    {
     "name": "stdout",
     "output_type": "stream",
     "text": [
      "2000+0 records in\n"
     ]
    },
    {
     "name": "stdout",
     "output_type": "stream",
     "text": [
      "2000+0 records out\n"
     ]
    },
    {
     "name": "stdout",
     "output_type": "stream",
     "text": [
      "1024000 bytes transferred in 0.092426 secs (11079155 bytes/sec)\n"
     ]
    }
   ],
   "source": [
    "output:  \"temp/result.txt\"\n",
    "sh: expand=True\n",
    "    dd if=/dev/urandom of={_output} count=2000"
   ]
  },
  {
   "cell_type": "code",
   "execution_count": 3,
   "metadata": {
    "kernel": "SoS",
    "papermill": {
     "duration": 0.92335,
     "end_time": "2019-12-23T17:05:48.600737",
     "exception": false,
     "start_time": "2019-12-23T17:05:47.677387",
     "status": "completed"
    },
    "tags": []
   },
   "outputs": [
    {
     "name": "stdout",
     "output_type": "stream",
     "text": [
      "2000+0 records in\n"
     ]
    },
    {
     "name": "stdout",
     "output_type": "stream",
     "text": [
      "2000+0 records out\n"
     ]
    },
    {
     "name": "stdout",
     "output_type": "stream",
     "text": [
      "1024000 bytes transferred in 0.056830 secs (18018599 bytes/sec)\n"
     ]
    }
   ],
   "source": [
    "output:  \"temp/result.txt\"\n",
    "sh: expand=True\n",
    "    dd if=/dev/urandom of={_output} count=2000"
   ]
  },
  {
   "cell_type": "markdown",
   "metadata": {
    "kernel": "SoS",
    "papermill": {
     "duration": 0.030371,
     "end_time": "2019-12-23T17:05:48.661655",
     "exception": false,
     "start_time": "2019-12-23T17:05:48.631284",
     "status": "completed"
    },
    "tags": []
   },
   "source": [
    "### `default` mode"
   ]
  },
  {
   "cell_type": "markdown",
   "metadata": {
    "kernel": "SoS",
    "papermill": {
     "duration": 0.027472,
     "end_time": "2019-12-23T17:05:48.718805",
     "exception": false,
     "start_time": "2019-12-23T17:05:48.691333",
     "status": "completed"
    },
    "tags": []
   },
   "source": [
    "When you execute workflows with magics `%run` and `%sosrun`, you are running workflows in separate processes and the default mode is `default`. In this mode, signatures are created and validated, and executed steps will not be re-executed."
   ]
  },
  {
   "cell_type": "markdown",
   "metadata": {
    "kernel": "SoS",
    "papermill": {
     "duration": 0.025065,
     "end_time": "2019-12-23T17:05:48.769432",
     "exception": false,
     "start_time": "2019-12-23T17:05:48.744367",
     "status": "completed"
    },
    "tags": []
   },
   "source": [
    "Let us create a workflow that saves two files `temp/result.txt` and `temp/size.txt`, with content of the file controlled by parameter `size`."
   ]
  },
  {
   "cell_type": "code",
   "execution_count": 4,
   "metadata": {
    "kernel": "SoS",
    "papermill": {
     "duration": 0.039776,
     "end_time": "2019-12-23T17:05:48.839135",
     "exception": false,
     "start_time": "2019-12-23T17:05:48.799359",
     "status": "completed"
    },
    "tags": []
   },
   "outputs": [
    {
     "data": {
      "text/html": [
       "<div class=\"sos_hint\">Cell content saved to <a href=\"test_signature.sos\" target=\"_blank\">test_signature.sos</a>, use option -r to also execute the cell.</div>"
      ],
      "text/plain": [
       "Cell content saved to test_signature.sos, use option -r to also execute the cell.\n"
      ]
     },
     "metadata": {},
     "output_type": "display_data"
    }
   ],
   "source": [
    "%save test_signature.sos -f\n",
    "\n",
    "import os\n",
    "parameter: size=1000\n",
    "[10]\n",
    "output:  \"temp/result.txt\"\n",
    "sh: expand=True\n",
    "    dd if=/dev/urandom of={_output} count={size}\n",
    "\n",
    "[20]\n",
    "output:  'temp/size.txt'\n",
    "with open(_output[0], 'w') as sz:\n",
    "    sz.write(f\"{_input}: {os.path.getsize(_input[0])}\\n\")"
   ]
  },
  {
   "cell_type": "markdown",
   "metadata": {
    "kernel": "SoS",
    "papermill": {
     "duration": 0.029607,
     "end_time": "2019-12-23T17:05:48.897788",
     "exception": false,
     "start_time": "2019-12-23T17:05:48.868181",
     "status": "completed"
    },
    "tags": []
   },
   "source": [
    "When the workflow is first executed, both steps will be executed:"
   ]
  },
  {
   "cell_type": "code",
   "execution_count": 5,
   "metadata": {
    "kernel": "SoS",
    "papermill": {
     "duration": 4.368205,
     "end_time": "2019-12-23T17:05:53.296604",
     "exception": false,
     "start_time": "2019-12-23T17:05:48.928399",
     "status": "completed"
    },
    "tags": []
   },
   "outputs": [
    {
     "name": "stdout",
     "output_type": "stream",
     "text": [
      "1000+0 records in\n"
     ]
    },
    {
     "name": "stdout",
     "output_type": "stream",
     "text": [
      "1000+0 records out\n"
     ]
    },
    {
     "name": "stdout",
     "output_type": "stream",
     "text": [
      "512000 bytes transferred in 0.027222 secs (18808373 bytes/sec)\n"
     ]
    }
   ],
   "source": [
    "%runfile test_signature"
   ]
  },
  {
   "cell_type": "markdown",
   "metadata": {
    "kernel": "SoS",
    "papermill": {
     "duration": 0.039648,
     "end_time": "2019-12-23T17:05:53.383748",
     "exception": false,
     "start_time": "2019-12-23T17:05:53.344100",
     "status": "completed"
    },
    "tags": []
   },
   "source": [
    "Now, if we re-run the last script, nothing changes and it takes a bit of time to execute the script."
   ]
  },
  {
   "cell_type": "code",
   "execution_count": 6,
   "metadata": {
    "kernel": "SoS",
    "papermill": {
     "duration": 3.363432,
     "end_time": "2019-12-23T17:05:56.797093",
     "exception": false,
     "start_time": "2019-12-23T17:05:53.433661",
     "status": "completed"
    },
    "tags": []
   },
   "outputs": [],
   "source": [
    "%runfile test_signature"
   ]
  },
  {
   "cell_type": "markdown",
   "metadata": {
    "kernel": "SoS",
    "papermill": {
     "duration": 0.028528,
     "end_time": "2019-12-23T17:05:56.853679",
     "exception": false,
     "start_time": "2019-12-23T17:05:56.825151",
     "status": "completed"
    },
    "tags": []
   },
   "source": [
    "However, if you use a different parameter (not the default `size=1000`), the steps would be rerun"
   ]
  },
  {
   "cell_type": "code",
   "execution_count": 7,
   "metadata": {
    "kernel": "SoS",
    "papermill": {
     "duration": 3.812941,
     "end_time": "2019-12-23T17:06:00.696332",
     "exception": false,
     "start_time": "2019-12-23T17:05:56.883391",
     "status": "completed"
    },
    "tags": []
   },
   "outputs": [
    {
     "name": "stdout",
     "output_type": "stream",
     "text": [
      "2000+0 records in\n"
     ]
    },
    {
     "name": "stdout",
     "output_type": "stream",
     "text": [
      "2000+0 records out\n"
     ]
    },
    {
     "name": "stdout",
     "output_type": "stream",
     "text": [
      "1024000 bytes transferred in 0.048703 secs (21025418 bytes/sec)\n"
     ]
    }
   ],
   "source": [
    "%runfile test_signature --size 2000"
   ]
  },
  {
   "cell_type": "markdown",
   "metadata": {
    "kernel": "SoS",
    "papermill": {
     "duration": 0.030226,
     "end_time": "2019-12-23T17:06:00.757438",
     "exception": false,
     "start_time": "2019-12-23T17:06:00.727212",
     "status": "completed"
    },
    "tags": []
   },
   "source": [
    "The signature is at the step level so if you change the second step of the script, the first step would still be skipped. Note that the step is independent of the script executed so a step would be skipped even if its signature was saved by the execution of another workflow. The signature is clever enough to allow minor changes such as addition of spaces and comments."
   ]
  },
  {
   "cell_type": "code",
   "execution_count": 8,
   "metadata": {
    "kernel": "SoS",
    "papermill": {
     "duration": 2.928759,
     "end_time": "2019-12-23T17:06:03.718183",
     "exception": false,
     "start_time": "2019-12-23T17:06:00.789424",
     "status": "completed"
    },
    "tags": []
   },
   "outputs": [],
   "source": [
    "%run --size 2000\n",
    "parameter: size=1000\n",
    "import os\n",
    "\n",
    "[10]\n",
    "output:  \"temp/result.txt\"\n",
    "# added comment\n",
    "sh: expand=True\n",
    "    dd if=/dev/urandom of={_output} count={size}\n",
    "\n",
    "[20]\n",
    "output:  'temp/size.txt'\n",
    "with open(_output[0], 'w') as sz:\n",
    "    sz.write(f\"Modified {_input}: {os.path.getsize(_input[0])}\\n\")"
   ]
  },
  {
   "cell_type": "markdown",
   "metadata": {
    "kernel": "SoS",
    "papermill": {
     "duration": 0.027643,
     "end_time": "2019-12-23T17:06:03.775884",
     "exception": false,
     "start_time": "2019-12-23T17:06:03.748241",
     "status": "completed"
    },
    "tags": []
   },
   "source": [
    "### `assert` mode"
   ]
  },
  {
   "cell_type": "markdown",
   "metadata": {
    "kernel": "SoS",
    "papermill": {
     "duration": 0.03545,
     "end_time": "2019-12-23T17:06:03.842240",
     "exception": false,
     "start_time": "2019-12-23T17:06:03.806790",
     "status": "completed"
    },
    "tags": []
   },
   "source": [
    "The `assert` mode is used to detect if anything has been changed after the execution of a workflow. For example, let us execute the workflow without parameter,"
   ]
  },
  {
   "cell_type": "code",
   "execution_count": 9,
   "metadata": {
    "kernel": "SoS",
    "papermill": {
     "duration": 3.70701,
     "end_time": "2019-12-23T17:06:07.588243",
     "exception": false,
     "start_time": "2019-12-23T17:06:03.881233",
     "status": "completed"
    },
    "tags": []
   },
   "outputs": [
    {
     "name": "stdout",
     "output_type": "stream",
     "text": [
      "1000+0 records in\n"
     ]
    },
    {
     "name": "stdout",
     "output_type": "stream",
     "text": [
      "1000+0 records out\n"
     ]
    },
    {
     "name": "stdout",
     "output_type": "stream",
     "text": [
      "512000 bytes transferred in 0.026079 secs (19632700 bytes/sec)\n"
     ]
    }
   ],
   "source": [
    "%runfile test_signature -v1"
   ]
  },
  {
   "cell_type": "markdown",
   "metadata": {
    "kernel": "SoS",
    "papermill": {
     "duration": 0.030492,
     "end_time": "2019-12-23T17:06:07.649223",
     "exception": false,
     "start_time": "2019-12-23T17:06:07.618731",
     "status": "completed"
    },
    "tags": []
   },
   "source": [
    "and the signature check would succeed"
   ]
  },
  {
   "cell_type": "code",
   "execution_count": 10,
   "metadata": {
    "kernel": "SoS",
    "papermill": {
     "duration": 3.418693,
     "end_time": "2019-12-23T17:06:11.096710",
     "exception": false,
     "start_time": "2019-12-23T17:06:07.678017",
     "status": "completed"
    },
    "tags": []
   },
   "outputs": [],
   "source": [
    "%runfile test_signature -s assert -v1"
   ]
  },
  {
   "cell_type": "markdown",
   "metadata": {
    "kernel": "SoS",
    "papermill": {
     "duration": 0.029156,
     "end_time": "2019-12-23T17:06:11.156374",
     "exception": false,
     "start_time": "2019-12-23T17:06:11.127218",
     "status": "completed"
    },
    "tags": []
   },
   "source": [
    "If we execute the workflow with another parameter"
   ]
  },
  {
   "cell_type": "code",
   "execution_count": 11,
   "metadata": {
    "kernel": "SoS",
    "papermill": {
     "duration": 4.412029,
     "end_time": "2019-12-23T17:06:15.600802",
     "exception": false,
     "start_time": "2019-12-23T17:06:11.188773",
     "status": "completed"
    },
    "tags": []
   },
   "outputs": [
    {
     "name": "stdout",
     "output_type": "stream",
     "text": [
      "3000+0 records in\n"
     ]
    },
    {
     "name": "stdout",
     "output_type": "stream",
     "text": [
      "3000+0 records out\n"
     ]
    },
    {
     "name": "stdout",
     "output_type": "stream",
     "text": [
      "1536000 bytes transferred in 0.081370 secs (18876709 bytes/sec)\n"
     ]
    }
   ],
   "source": [
    "%runfile test_signature --size 3000 -v1"
   ]
  },
  {
   "cell_type": "markdown",
   "metadata": {
    "kernel": "SoS",
    "papermill": {
     "duration": 0.032792,
     "end_time": "2019-12-23T17:06:15.663993",
     "exception": false,
     "start_time": "2019-12-23T17:06:15.631201",
     "status": "completed"
    },
    "tags": []
   },
   "source": [
    "signature checking would fail because the last signature was saved with option `--size 3000`."
   ]
  },
  {
   "cell_type": "code",
   "execution_count": 12,
   "metadata": {
    "kernel": "SoS",
    "papermill": {
     "duration": 3.635397,
     "end_time": "2019-12-23T17:06:19.332536",
     "exception": false,
     "start_time": "2019-12-23T17:06:15.697139",
     "status": "completed"
    },
    "tags": []
   },
   "outputs": [
    {
     "name": "stdout",
     "output_type": "stream",
     "text": [
      "\u001b[91mERROR\u001b[0m: \u001b[91m[10]: [10]: Signature mismatch: Target temp/result.txt does not exist or does not match saved signature (1577120766.9563751, 512000, '3241862808b12cf4')\n"
     ]
    },
    {
     "name": "stdout",
     "output_type": "stream",
     "text": [
      "[default]: Exits with 1 pending step (20)\u001b[0m\n"
     ]
    }
   ],
   "source": [
    "%runfile test_signature -s assert"
   ]
  },
  {
   "cell_type": "markdown",
   "metadata": {
    "kernel": "SoS",
    "papermill": {
     "duration": 0.032638,
     "end_time": "2019-12-23T17:06:19.399663",
     "exception": false,
     "start_time": "2019-12-23T17:06:19.367025",
     "status": "completed"
    },
    "tags": []
   },
   "source": [
    "and the signature checking would be fine with the parameter."
   ]
  },
  {
   "cell_type": "code",
   "execution_count": 13,
   "metadata": {
    "kernel": "SoS",
    "papermill": {
     "duration": 3.084316,
     "end_time": "2019-12-23T17:06:22.521918",
     "exception": false,
     "start_time": "2019-12-23T17:06:19.437602",
     "status": "completed"
    },
    "tags": []
   },
   "outputs": [],
   "source": [
    "%runfile test_signature --size 3000 -s assert"
   ]
  },
  {
   "cell_type": "markdown",
   "metadata": {
    "kernel": "SoS",
    "papermill": {
     "duration": 0.044428,
     "end_time": "2019-12-23T17:06:22.605442",
     "exception": false,
     "start_time": "2019-12-23T17:06:22.561014",
     "status": "completed"
    },
    "tags": []
   },
   "source": [
    "Now if you change one of the output files, sos would fail with an error message because `temp/result.txt` has been changed."
   ]
  },
  {
   "cell_type": "code",
   "execution_count": 14,
   "metadata": {
    "kernel": "SoS",
    "papermill": {
     "duration": 4.914437,
     "end_time": "2019-12-23T17:06:27.554153",
     "exception": false,
     "start_time": "2019-12-23T17:06:22.639716",
     "status": "completed"
    },
    "tags": []
   },
   "outputs": [
    {
     "name": "stdout",
     "output_type": "stream",
     "text": [
      "\u001b[91mERROR\u001b[0m: \u001b[91m[10]: [10]: Signature mismatch: Target temp/result.txt does not exist or does not match saved signature (1577120774.9189792, 1536000, 'a67c2c34d70a3daf')\n"
     ]
    },
    {
     "name": "stdout",
     "output_type": "stream",
     "text": [
      "[default]: Exits with 1 pending step (20)\u001b[0m\n"
     ]
    }
   ],
   "source": [
    "!echo \"aaa\" >> temp/result.txt\n",
    "%runfile test_signature --size 3000 -s assert"
   ]
  },
  {
   "cell_type": "markdown",
   "metadata": {
    "kernel": "SoS",
    "papermill": {
     "duration": 0.033973,
     "end_time": "2019-12-23T17:06:27.621417",
     "exception": false,
     "start_time": "2019-12-23T17:06:27.587444",
     "status": "completed"
    },
    "tags": []
   },
   "source": [
    "### `force` mode"
   ]
  },
  {
   "cell_type": "markdown",
   "metadata": {
    "kernel": "SoS",
    "papermill": {
     "duration": 0.033373,
     "end_time": "2019-12-23T17:06:27.691750",
     "exception": false,
     "start_time": "2019-12-23T17:06:27.658377",
     "status": "completed"
    },
    "tags": []
   },
   "source": [
    "The `force` signature mode ignores existing signatures to re-run the workflow, and saves new signatures. This is needed when you would like to forcefully re-run all the steps to generate another set of output if outcome of some steps is random, or to re-run the workflow because of changes that is not tracked by SoS, for example after you have installed a new version of a program."
   ]
  },
  {
   "cell_type": "code",
   "execution_count": 15,
   "metadata": {
    "kernel": "SoS",
    "papermill": {
     "duration": 3.714892,
     "end_time": "2019-12-23T17:06:31.439991",
     "exception": false,
     "start_time": "2019-12-23T17:06:27.725099",
     "status": "completed"
    },
    "tags": []
   },
   "outputs": [
    {
     "name": "stdout",
     "output_type": "stream",
     "text": [
      "2000+0 records in\n"
     ]
    },
    {
     "name": "stdout",
     "output_type": "stream",
     "text": [
      "2000+0 records out\n"
     ]
    },
    {
     "name": "stdout",
     "output_type": "stream",
     "text": [
      "1024000 bytes transferred in 0.046258 secs (22136725 bytes/sec)\n"
     ]
    }
   ],
   "source": [
    "%runfile test_signature --size 2000 -s force"
   ]
  },
  {
   "cell_type": "markdown",
   "metadata": {
    "kernel": "SoS",
    "papermill": {
     "duration": 0.051775,
     "end_time": "2019-12-23T17:06:31.532277",
     "exception": false,
     "start_time": "2019-12-23T17:06:31.480502",
     "status": "completed"
    },
    "tags": []
   },
   "source": [
    "### `build` mode"
   ]
  },
  {
   "cell_type": "markdown",
   "metadata": {
    "kernel": "SoS",
    "papermill": {
     "duration": 0.033707,
     "end_time": "2019-12-23T17:06:31.618416",
     "exception": false,
     "start_time": "2019-12-23T17:06:31.584709",
     "status": "completed"
    },
    "tags": []
   },
   "source": [
    "The `build` mode is somewhat opposite to the `force` mode in that it creates (or overwrite existing signature if exists) with existing output files. It is useful, for example, if you are adding a step to a workflow that you have tested outside of SoS (without signature) but do not want to rerun it, or if for some reason you have lost your signature files and would like to reconstruct them from existing outputs."
   ]
  },
  {
   "cell_type": "code",
   "execution_count": 16,
   "metadata": {
    "kernel": "SoS",
    "papermill": {
     "duration": 2.973689,
     "end_time": "2019-12-23T17:06:34.624166",
     "exception": false,
     "start_time": "2019-12-23T17:06:31.650477",
     "status": "completed"
    },
    "tags": []
   },
   "outputs": [],
   "source": [
    "%runfile test_signature --size 2000 -s build -v2"
   ]
  },
  {
   "cell_type": "markdown",
   "metadata": {
    "kernel": "SoS",
    "papermill": {
     "duration": 0.035192,
     "end_time": "2019-12-23T17:06:34.695434",
     "exception": false,
     "start_time": "2019-12-23T17:06:34.660242",
     "status": "completed"
    },
    "tags": []
   },
   "source": [
    "This mode can introduce erraneous files to the signatures because it does not check the validity of the incorporated files. For example, SoS would not complain if you change parameter and replace `temp/result.txt` with something else."
   ]
  },
  {
   "cell_type": "markdown",
   "metadata": {
    "kernel": "SoS",
    "papermill": {
     "duration": 0.035179,
     "end_time": "2019-12-23T17:06:34.766946",
     "exception": false,
     "start_time": "2019-12-23T17:06:34.731767",
     "status": "completed"
    },
    "tags": []
   },
   "source": [
    "## Further reading\n",
    "\n",
    "* [SoS workflows](sos_workflows.html)"
   ]
  }
 ],
 "metadata": {
  "kernelspec": {
   "display_name": "SoS",
   "language": "sos",
   "name": "sos"
  },
  "language_info": {
   "codemirror_mode": "sos",
   "file_extension": ".sos",
   "mimetype": "text/x-sos",
   "name": "sos",
   "nbconvert_exporter": "sos_notebook.converter.SoS_Exporter",
   "pygments_lexer": "sos"
  },
  "papermill": {
   "duration": 59.713493,
   "end_time": "2019-12-23T17:06:39.965427",
   "environment_variables": {},
   "exception": null,
   "input_path": "/Users/bpeng1/sos/sos-docs/src/user_guide/signature.ipynb",
   "output_path": "signature.ipynb_rerun.ipynb",
   "parameters": {},
   "start_time": "2019-12-23T17:05:40.251934",
   "version": "1.1.0"
  },
  "sos": {
   "kernels": [
    [
     "SoS",
     "sos",
     "",
     "",
     "sos"
    ]
   ],
   "panel": {
    "displayed": true,
    "height": 0
   },
   "version": "0.21.2"
  }
 },
 "nbformat": 4,
 "nbformat_minor": 4
}