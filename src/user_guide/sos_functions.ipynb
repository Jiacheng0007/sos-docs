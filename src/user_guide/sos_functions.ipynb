{
 "cells": [
  {
   "cell_type": "markdown",
   "metadata": {
    "kernel": "SoS",
    "papermill": {
     "duration": 0.010665,
     "end_time": "2019-12-23T17:06:14.386482",
     "exception": false,
     "start_time": "2019-12-23T17:06:14.375817",
     "status": "completed"
    },
    "tags": []
   },
   "source": [
    "# SoS functions"
   ]
  },
  {
   "cell_type": "markdown",
   "metadata": {
    "kernel": "SoS",
    "papermill": {
     "duration": 0.010211,
     "end_time": "2019-12-23T17:06:14.409571",
     "exception": false,
     "start_time": "2019-12-23T17:06:14.399360",
     "status": "completed"
    },
    "tags": []
   },
   "source": [
    "* **Difficulty level**: easy\n",
    "* **Time need to lean**: 5 minutes or less\n",
    "* **Key points**:\n",
    "  * `get_output` gets output of command\n",
    "  * `expand_pattern` expand \n",
    "  "
   ]
  },
  {
   "cell_type": "markdown",
   "metadata": {
    "kernel": "SoS",
    "papermill": {
     "duration": 0.008666,
     "end_time": "2019-12-23T17:06:14.427070",
     "exception": false,
     "start_time": "2019-12-23T17:06:14.418404",
     "status": "completed"
    },
    "tags": []
   },
   "source": [
    "## Functions"
   ]
  },
  {
   "cell_type": "markdown",
   "metadata": {
    "kernel": "SoS",
    "papermill": {
     "duration": 0.008802,
     "end_time": "2019-12-23T17:06:14.444143",
     "exception": false,
     "start_time": "2019-12-23T17:06:14.435341",
     "status": "completed"
    },
    "tags": []
   },
   "source": [
    "###  Function `get_output`"
   ]
  },
  {
   "cell_type": "markdown",
   "metadata": {
    "kernel": "SoS",
    "papermill": {
     "duration": 0.008666,
     "end_time": "2019-12-23T17:06:14.461227",
     "exception": false,
     "start_time": "2019-12-23T17:06:14.452561",
     "status": "completed"
    },
    "tags": []
   },
   "source": [
    "Function `get_output(cmd)` returns the output of command (decoded in `UTF-8`), which is a shortcut for `subprocess.check_output(cmd, shell=True).decode()`."
   ]
  },
  {
   "cell_type": "code",
   "execution_count": 1,
   "metadata": {
    "kernel": "SoS",
    "papermill": {
     "duration": 0.396678,
     "end_time": "2019-12-23T17:06:14.866530",
     "exception": false,
     "start_time": "2019-12-23T17:06:14.469852",
     "status": "completed"
    },
    "tags": []
   },
   "outputs": [
    {
     "data": {
      "text/plain": [
       "'/bin/ls\\n'"
      ]
     },
     "execution_count": 1,
     "metadata": {},
     "output_type": "execute_result"
    }
   ],
   "source": [
    "get_output('which ls')"
   ]
  },
  {
   "cell_type": "markdown",
   "metadata": {
    "kernel": "SoS",
    "papermill": {
     "duration": 0.008732,
     "end_time": "2019-12-23T17:06:14.886122",
     "exception": false,
     "start_time": "2019-12-23T17:06:14.877390",
     "status": "completed"
    },
    "tags": []
   },
   "source": [
    "This function also accepts two options `show_command=False`, and `prompt='$ '` that can be useful in case you would like to present the command that produce the output. For example,"
   ]
  },
  {
   "cell_type": "code",
   "execution_count": 2,
   "metadata": {
    "kernel": "SoS",
    "papermill": {
     "duration": 0.038602,
     "end_time": "2019-12-23T17:06:14.934254",
     "exception": false,
     "start_time": "2019-12-23T17:06:14.895652",
     "status": "completed"
    },
    "tags": []
   },
   "outputs": [
    {
     "name": "stdout",
     "output_type": "stream",
     "text": [
      "$ which ls\n",
      "/bin/ls\n"
     ]
    },
    {
     "name": "stdout",
     "output_type": "stream",
     "text": [
      "\n"
     ]
    }
   ],
   "source": [
    "print(get_output('which ls', show_command=True))"
   ]
  },
  {
   "cell_type": "markdown",
   "metadata": {
    "kernel": "SoS",
    "papermill": {
     "duration": 0.010934,
     "end_time": "2019-12-23T17:06:14.954925",
     "exception": false,
     "start_time": "2019-12-23T17:06:14.943991",
     "status": "completed"
    },
    "tags": []
   },
   "source": [
    "### Function  `expand_pattern`\n",
    "\n",
    "Function `expand_pattern` expands a string to multiple ones using items of variables quoted between `{ }`. For example,\n",
    "\n",
    "```python\n",
    "output: expand_pattern('{a}_{b}.txt')\n",
    "```\n",
    "\n",
    "is equivalent to\n",
    "\n",
    "```python\n",
    "output: [f'{x}_{y}.txt' for x,y in zip(a, b)]\n",
    "```\n",
    "\n",
    "if `a` and `b` are sequences of the same length. For example,"
   ]
  },
  {
   "cell_type": "code",
   "execution_count": 3,
   "metadata": {
    "kernel": "SoS",
    "papermill": {
     "duration": 0.024183,
     "end_time": "2019-12-23T17:06:14.988616",
     "exception": false,
     "start_time": "2019-12-23T17:06:14.964433",
     "status": "completed"
    },
    "tags": []
   },
   "outputs": [
    {
     "data": {
      "text/plain": [
       "[\"Bob's salary is 200\", \"John's salary is 300\"]"
      ]
     },
     "execution_count": 3,
     "metadata": {},
     "output_type": "execute_result"
    }
   ],
   "source": [
    "name = ['Bob', 'John']\n",
    "salary = [200, 300]\n",
    "expand_pattern(\"{name}'s salary is {salary}\")"
   ]
  },
  {
   "cell_type": "markdown",
   "metadata": {
    "kernel": "SoS",
    "papermill": {
     "duration": 0.009482,
     "end_time": "2019-12-23T17:06:15.008820",
     "exception": false,
     "start_time": "2019-12-23T17:06:14.999338",
     "status": "completed"
    },
    "tags": []
   },
   "source": [
    "The sequences should have the same length"
   ]
  },
  {
   "cell_type": "code",
   "execution_count": 4,
   "metadata": {
    "kernel": "SoS",
    "papermill": {
     "duration": 0.026473,
     "end_time": "2019-12-23T17:06:15.044993",
     "exception": false,
     "start_time": "2019-12-23T17:06:15.018520",
     "status": "completed"
    },
    "tags": []
   },
   "outputs": [
    {
     "name": "stderr",
     "output_type": "stream",
     "text": [
      "[0]: \n",
      "---------------------------------------------------------------------------\n",
      "NameError                                 Traceback (most recent call last)\n",
      "script_7878482860063133357 in <module>\n",
      "      salary = [200]\n",
      "----> expand_pattern(\"{name}'s salary is {salary}\")\n",
      "      \n",
      "\n",
      "NameError: name 'expand_pattern' is not defined\n"
     ]
    }
   ],
   "source": [
    "%sandbox --expect-error\n",
    "\n",
    "salary = [200]\n",
    "expand_pattern(\"{name}'s salary is {salary}\")"
   ]
  },
  {
   "cell_type": "markdown",
   "metadata": {
    "kernel": "SoS",
    "papermill": {
     "duration": 0.009577,
     "end_time": "2019-12-23T17:06:15.064810",
     "exception": false,
     "start_time": "2019-12-23T17:06:15.055233",
     "status": "completed"
    },
    "tags": []
   },
   "source": [
    "An exception is made for variables of simple non-sequence types, in which case they are repeated in all expanded items"
   ]
  },
  {
   "cell_type": "code",
   "execution_count": 5,
   "metadata": {
    "kernel": "SoS",
    "papermill": {
     "duration": 0.021667,
     "end_time": "2019-12-23T17:06:15.096445",
     "exception": true,
     "start_time": "2019-12-23T17:06:15.074778",
     "status": "failed"
    },
    "tags": []
   },
   "outputs": [
    {
     "name": "stderr",
     "output_type": "stream",
     "text": [
      "[0]: \n",
      "---------------------------------------------------------------------------\n",
      "NameError                                 Traceback (most recent call last)\n",
      "script_5586090483352299072 in <module>\n",
      "      salary = 200\n",
      "----> expand_pattern(\"{name}'s salary is {salary}\")\n",
      "      \n",
      "\n",
      "NameError: name 'expand_pattern' is not defined\n"
     ]
    }
   ],
   "source": [
    "salary = 200\n",
    "expand_pattern(\"{name}'s salary is {salary}\")"
   ]
  }
 ],
 "metadata": {
  "anaconda-cloud": {},
  "kernelspec": {
   "display_name": "SoS",
   "language": "sos",
   "name": "sos"
  },
  "language_info": {
   "codemirror_mode": "sos",
   "file_extension": ".sos",
   "mimetype": "text/x-sos",
   "name": "sos",
   "nbconvert_exporter": "sos_notebook.converter.SoS_Exporter",
   "pygments_lexer": "sos"
  },
  "papermill": {
   "duration": 9.081619,
   "end_time": "2019-12-23T17:06:20.289304",
   "environment_variables": {},
   "exception": true,
   "input_path": "/Users/bpeng1/sos/sos-docs/src/user_guide/sos_functions.ipynb",
   "output_path": "sos_functions.ipynb_rerun.ipynb",
   "parameters": {},
   "start_time": "2019-12-23T17:06:11.207685",
   "version": "1.1.0"
  },
  "sos": {
   "celltoolbar": true,
   "default_kernel": "SoS",
   "kernels": [
    [
     "SoS",
     "sos",
     "",
     ""
    ],
    [
     "SoS",
     "sos",
     "",
     ""
    ]
   ],
   "panel": {
    "displayed": true,
    "height": 0,
    "style": "side"
   },
   "version": "0.21.1"
  },
  "toc": {
   "colors": {
    "hover_highlight": "#DAA520",
    "running_highlight": "#FF0000",
    "selected_highlight": "#FFD700"
   },
   "moveMenuLeft": true,
   "nav_menu": {
    "height": "503px",
    "width": "254px"
   },
   "navigate_menu": true,
   "number_sections": true,
   "sideBar": true,
   "threshold": 4,
   "toc_cell": false,
   "toc_section_display": "block",
   "toc_window_display": true
  }
 },
 "nbformat": 4,
 "nbformat_minor": 4
}