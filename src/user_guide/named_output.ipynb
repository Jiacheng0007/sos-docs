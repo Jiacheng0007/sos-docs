{
 "cells": [
  {
   "cell_type": "markdown",
   "metadata": {
    "kernel": "SoS",
    "papermill": {
     "duration": 0.01761,
     "end_time": "2019-12-23T17:03:20.908044",
     "exception": false,
     "start_time": "2019-12-23T17:03:20.890434",
     "status": "completed"
    },
    "tags": []
   },
   "source": [
    "# How to use named output in data-flow style workflows"
   ]
  },
  {
   "cell_type": "markdown",
   "metadata": {
    "kernel": "SoS",
    "papermill": {
     "duration": 0.015628,
     "end_time": "2019-12-23T17:03:20.939937",
     "exception": false,
     "start_time": "2019-12-23T17:03:20.924309",
     "status": "completed"
    },
    "tags": []
   },
   "source": [
    "* **Difficulty level**: easy\n",
    "* **Time need to lean**: 10 minutes or less\n",
    "* **Key points**:\n",
    "  * Output can be grouped by names, which can be referred to by `[name]`\n",
    "  * Function `named_output(name)` refers to output with `name` in any step\n",
    "  * Return value of `name_output(name)` can also have groups\n",
    "  "
   ]
  },
  {
   "cell_type": "markdown",
   "metadata": {
    "kernel": "SoS",
    "papermill": {
     "duration": 0.016756,
     "end_time": "2019-12-23T17:03:20.972973",
     "exception": false,
     "start_time": "2019-12-23T17:03:20.956217",
     "status": "completed"
    },
    "tags": []
   },
   "source": [
    "## Limitations of basic dataflow-based workflows"
   ]
  },
  {
   "cell_type": "markdown",
   "metadata": {
    "kernel": "SoS",
    "papermill": {
     "duration": 0.015622,
     "end_time": "2019-12-23T17:03:21.004834",
     "exception": false,
     "start_time": "2019-12-23T17:03:20.989212",
     "status": "completed"
    },
    "tags": []
   },
   "source": [
    "In our tutorial on [How to define and execute basic SoS workflows](doc/user_guide/forward_workflow.html) we introduced basic dataflow-based workflows as follows:"
   ]
  },
  {
   "cell_type": "code",
   "execution_count": 1,
   "metadata": {
    "kernel": "SoS",
    "papermill": {
     "duration": 4.438175,
     "end_time": "2019-12-23T17:03:25.458252",
     "exception": false,
     "start_time": "2019-12-23T17:03:21.020077",
     "status": "completed"
    },
    "tags": []
   },
   "outputs": [
    {
     "name": "stdout",
     "output_type": "stream",
     "text": [
      "\u001b[91mERROR\u001b[0m: \u001b[91mNo step to generate target data/DEG.xlsx, needed by 'convert'\u001b[0m\n"
     ]
    }
   ],
   "source": [
    "!rm -f DEG.csv\n",
    "%run plot -v1\n",
    "\n",
    "[global]\n",
    "excel_file = 'data/DEG.xlsx'\n",
    "csv_file = 'DEG.csv'\n",
    "figure_file = 'output.pdf'\n",
    "\n",
    "[convert]\n",
    "input: excel_file\n",
    "output: csv_file\n",
    "\n",
    "run: expand=True\n",
    "    xlsx2csv {_input} > {_output}\n",
    "\n",
    "[plot]\n",
    "input: csv_file\n",
    "output: figure_file\n",
    "\n",
    "R: expand=True\n",
    "    data <- read.csv('{_input}')\n",
    "    pdf('{_output}')\n",
    "    plot(data$log2FoldChange, data$stat)\n",
    "    dev.off()"
   ]
  },
  {
   "cell_type": "markdown",
   "metadata": {
    "kernel": "SoS",
    "papermill": {
     "duration": 0.016366,
     "end_time": "2019-12-23T17:03:25.491687",
     "exception": false,
     "start_time": "2019-12-23T17:03:25.475321",
     "status": "completed"
    },
    "tags": []
   },
   "source": [
    "Basically, when the input of step `plot` (`csv_file`) is unavailable, SoS looks in the script for another step that generates this output. If it can be found, it will execute that step to produce the required input before step `plot` is executed."
   ]
  },
  {
   "cell_type": "markdown",
   "metadata": {
    "kernel": "SoS",
    "papermill": {
     "duration": 0.016346,
     "end_time": "2019-12-23T17:03:25.524775",
     "exception": false,
     "start_time": "2019-12-23T17:03:25.508429",
     "status": "completed"
    },
    "tags": []
   },
   "source": [
    "A limitation of this kind of workflow is that the output of another step has to be determined \"easily\" either from the `output` statement itself, or with variable definitions from the `global` section. The following workflow would fail because the step of the output is defined as\n",
    "\n",
    "```\n",
    "output: _input.with_suffix('csv')\n",
    "```\n",
    "\n",
    "which takes the `_input` of the step and replaces its suffix with `.csv`. Because the `_output` depends on `_input`, it cannot be used to generate `data/DEG.csv` directly."
   ]
  },
  {
   "cell_type": "code",
   "execution_count": 2,
   "metadata": {
    "kernel": "SoS",
    "papermill": {
     "duration": 3.920273,
     "end_time": "2019-12-23T17:03:29.461717",
     "exception": false,
     "start_time": "2019-12-23T17:03:25.541444",
     "status": "completed"
    },
    "tags": []
   },
   "outputs": [
    {
     "name": "stdout",
     "output_type": "stream",
     "text": [
      "\u001b[91mERROR\u001b[0m: \u001b[91mNo rule to generate target 'data/DEG.csv', needed by 'plot'.\u001b[0m\n"
     ]
    }
   ],
   "source": [
    "!rm -f data/DEG.csv\n",
    "%run plot -v1\n",
    "\n",
    "[global]\n",
    "excel_file = 'data/DEG.xlsx'\n",
    "csv_file = 'data/DEG.csv'\n",
    "figure_file = 'output.pdf'\n",
    "\n",
    "[convert]\n",
    "input: excel_file\n",
    "output: _input.with_suffix('.csv')\n",
    "\n",
    "run: expand=True\n",
    "    xlsx2csv {_input} > {_output}\n",
    "\n",
    "[plot]\n",
    "input: csv_file\n",
    "output: figure_file\n",
    "\n",
    "R: expand=True\n",
    "    data <- read.csv('{_input}')\n",
    "    pdf('{_output}')\n",
    "    plot(data$log2FoldChange, data$stat)\n",
    "    dev.off()"
   ]
  },
  {
   "cell_type": "markdown",
   "metadata": {
    "kernel": "SoS",
    "papermill": {
     "duration": 0.016416,
     "end_time": "2019-12-23T17:03:29.495071",
     "exception": false,
     "start_time": "2019-12-23T17:03:29.478655",
     "status": "completed"
    },
    "tags": []
   },
   "source": [
    "## Named output"
   ]
  },
  {
   "cell_type": "markdown",
   "metadata": {
    "kernel": "SoS",
    "papermill": {
     "duration": 0.01676,
     "end_time": "2019-12-23T17:03:29.528872",
     "exception": false,
     "start_time": "2019-12-23T17:03:29.512112",
     "status": "completed"
    },
    "tags": []
   },
   "source": [
    "Similar to input statement, output of SoS steps can also be named. In the following example\n",
    "\n",
    "* 4 substeps are defined with `i=0`, `1`, `2`, and `3`\n",
    "* The output of each substep is `f'a_{i}.txt'` and `f'b_{i}.txt'` (`a_0.txt`, `b_0.txt` etc).\n",
    "* The outputs are grouped to group `a` and `b`.\n",
    "* The output of the entire step consist of `_output` of substeps, which becomes the `_input` of the next step. This is how we can example the output of step `10`. "
   ]
  },
  {
   "cell_type": "code",
   "execution_count": 3,
   "metadata": {
    "kernel": "SoS",
    "papermill": {
     "duration": 2.811998,
     "end_time": "2019-12-23T17:03:32.357581",
     "exception": false,
     "start_time": "2019-12-23T17:03:29.545583",
     "status": "completed"
    },
    "tags": []
   },
   "outputs": [
    {
     "name": "stdout",
     "output_type": "stream",
     "text": [
      "a_0.txt b_0.txt with labels ['a', 'b']\n"
     ]
    },
    {
     "name": "stdout",
     "output_type": "stream",
     "text": [
      "a_0.txt\n"
     ]
    },
    {
     "name": "stdout",
     "output_type": "stream",
     "text": [
      "a_1.txt b_1.txt with labels ['a', 'b']\n"
     ]
    },
    {
     "name": "stdout",
     "output_type": "stream",
     "text": [
      "a_1.txt\n"
     ]
    },
    {
     "name": "stdout",
     "output_type": "stream",
     "text": [
      "a_2.txt b_2.txt with labels ['a', 'b']\n"
     ]
    },
    {
     "name": "stdout",
     "output_type": "stream",
     "text": [
      "a_2.txt\n"
     ]
    },
    {
     "name": "stdout",
     "output_type": "stream",
     "text": [
      "a_3.txt b_3.txt with labels ['a', 'b']\n"
     ]
    },
    {
     "name": "stdout",
     "output_type": "stream",
     "text": [
      "a_3.txt\n"
     ]
    }
   ],
   "source": [
    "%run -v1\n",
    "\n",
    "[10]\n",
    "input: for_each=dict(i=range(4))\n",
    "output: a=f'a_{i}.txt', b=f'b_{i}.txt'\n",
    "_output.touch()\n",
    "\n",
    "[20]\n",
    "print(f'{_input} with labels {_input.labels}')\n",
    "print(_input['a'])"
   ]
  },
  {
   "cell_type": "markdown",
   "metadata": {
    "kernel": "SoS",
    "papermill": {
     "duration": 0.019964,
     "end_time": "2019-12-23T17:03:32.396985",
     "exception": false,
     "start_time": "2019-12-23T17:03:32.377021",
     "status": "completed"
    },
    "tags": []
   },
   "source": [
    "As we can see, there are four substeps for step `20`. The `_input` of substeps has two files with names `a` and `b`, and we can refer to the targets with name `a` with `_input['a']`."
   ]
  },
  {
   "cell_type": "markdown",
   "metadata": {
    "kernel": "SoS",
    "papermill": {
     "duration": 0.020138,
     "end_time": "2019-12-23T17:03:32.441712",
     "exception": false,
     "start_time": "2019-12-23T17:03:32.421574",
     "status": "completed"
    },
    "tags": []
   },
   "source": [
    "## Function `named_output` <a id=\"named_output\"></a>"
   ]
  },
  {
   "cell_type": "markdown",
   "metadata": {
    "kernel": "SoS",
    "papermill": {
     "duration": 0.019134,
     "end_time": "2019-12-23T17:03:32.480329",
     "exception": false,
     "start_time": "2019-12-23T17:03:32.461195",
     "status": "completed"
    },
    "tags": []
   },
   "source": [
    " <div class=\"bs-callout bs-callout-primary\" role=\"alert\">\n",
    "    <h4>Function <code>named_output(name, group_by, ...)</code></h4>\n",
    "    <p>Function <code>named_output</code> refers the named output of any SoS step defined in the script. Using <code>named_output</code> in the <code>input</code> statement of a step will create an dependency on the step with the named output, and insert the named output as input of the step.</p>\n",
    " </div>"
   ]
  },
  {
   "cell_type": "markdown",
   "metadata": {
    "kernel": "SoS",
    "papermill": {
     "duration": 0.019695,
     "end_time": "2019-12-23T17:03:32.519378",
     "exception": false,
     "start_time": "2019-12-23T17:03:32.499683",
     "status": "completed"
    },
    "tags": []
   },
   "source": [
    "The problem we had with complex output can be resolved by function `named_output()`. For example, the aforementioned workflow can be written as"
   ]
  },
  {
   "cell_type": "code",
   "execution_count": 4,
   "metadata": {
    "kernel": "SoS",
    "papermill": {
     "duration": 4.125871,
     "end_time": "2019-12-23T17:03:36.665472",
     "exception": false,
     "start_time": "2019-12-23T17:03:32.539601",
     "status": "completed"
    },
    "tags": []
   },
   "outputs": [
    {
     "name": "stdout",
     "output_type": "stream",
     "text": [
      "\u001b[91mERROR\u001b[0m: \u001b[91mNo step to generate target data/DEG.xlsx, needed by 'convert'\u001b[0m\n"
     ]
    }
   ],
   "source": [
    "!rm -f data/DEG.csv\n",
    "%run plot -v1\n",
    "\n",
    "[global]\n",
    "excel_file = 'data/DEG.xlsx'\n",
    "csv_file = 'data/DEG.csv'\n",
    "figure_file = 'output.pdf'\n",
    "\n",
    "[convert]\n",
    "input: excel_file\n",
    "output: csv = _input.with_suffix('.csv')\n",
    "\n",
    "run: expand=True\n",
    "    xlsx2csv {_input} > {_output}\n",
    "\n",
    "[plot]\n",
    "input: named_output('csv')\n",
    "output: figure_file\n",
    "\n",
    "R: expand=True\n",
    "    data <- read.csv('{_input}')\n",
    "    pdf('{_output}')\n",
    "    plot(data$log2FoldChange, data$stat)\n",
    "    dev.off()"
   ]
  },
  {
   "cell_type": "markdown",
   "metadata": {
    "kernel": "SoS",
    "papermill": {
     "duration": 0.027948,
     "end_time": "2019-12-23T17:03:36.729816",
     "exception": false,
     "start_time": "2019-12-23T17:03:36.701868",
     "status": "completed"
    },
    "tags": []
   },
   "source": [
    "Here `named_output('csv')` refers to any step that produces an output with name `csv`, which is the step `convert` in this workflow. The input of step `plot` is the return value of `named_output('csv')` which is `data/DEG.csv`, although its exact name can only be identified after the conversion step is executed."
   ]
  },
  {
   "cell_type": "markdown",
   "metadata": {
    "kernel": "SoS",
    "papermill": {
     "duration": 0.02307,
     "end_time": "2019-12-23T17:03:36.777466",
     "exception": false,
     "start_time": "2019-12-23T17:03:36.754396",
     "status": "completed"
    },
    "tags": []
   },
   "source": [
    "<div class=\"bs-callout bs-callout-warning\" role=\"alert\">\n",
    "    <h4>Uniqueness of names of output</h4>\n",
    "    <p>Although outputs of steps can be identified with arbitrary names and mulitple steps can have the same names for outputs, names refered by function <code>named_output</code> have to be unique.</p>\n",
    " </div>"
   ]
  },
  {
   "cell_type": "markdown",
   "metadata": {
    "kernel": "SoS",
    "papermill": {
     "duration": 0.020702,
     "end_time": "2019-12-23T17:03:36.818569",
     "exception": false,
     "start_time": "2019-12-23T17:03:36.797867",
     "status": "completed"
    },
    "tags": []
   },
   "source": [
    "<div class=\"bs-callout bs-callout-warning\" role=\"alert\">\n",
    "    <h4><code>named_output()</code> can only be called from input statements</h4>\n",
    "    <p><code>named_output()</code> is a function provided by SoS to define input of steps and can only be called from input statements.</p>\n",
    " </div>"
   ]
  },
  {
   "cell_type": "markdown",
   "metadata": {
    "kernel": "SoS",
    "papermill": {
     "duration": 0.022383,
     "end_time": "2019-12-23T17:03:36.861192",
     "exception": false,
     "start_time": "2019-12-23T17:03:36.838809",
     "status": "completed"
    },
    "tags": []
   },
   "source": [
    "## Groups of output returned by `named_output` *"
   ]
  },
  {
   "cell_type": "markdown",
   "metadata": {
    "kernel": "SoS",
    "papermill": {
     "duration": 0.028291,
     "end_time": "2019-12-23T17:03:36.918611",
     "exception": false,
     "start_time": "2019-12-23T17:03:36.890320",
     "status": "completed"
    },
    "tags": []
   },
   "source": [
    "As we have seem, the output of a step can have multiple groups. In this case the return value of `named_output(name)` consists of the `name` part of all groups.\n",
    "\n",
    "In the following example, `named_output('a')` obtains the `a` part of the output of step `A`, which consists of 4 groups. During the execution of the workflow, step `A` is executed to generate input for step `default`, which consists of 4 steps with `_input` equals `a_0.txt`, `a_1.txt` etc."
   ]
  },
  {
   "cell_type": "code",
   "execution_count": 5,
   "metadata": {
    "kernel": "SoS",
    "papermill": {
     "duration": 2.65226,
     "end_time": "2019-12-23T17:03:39.599112",
     "exception": false,
     "start_time": "2019-12-23T17:03:36.946852",
     "status": "completed"
    },
    "tags": []
   },
   "outputs": [
    {
     "name": "stdout",
     "output_type": "stream",
     "text": [
      "Generating a_0.bak\n"
     ]
    },
    {
     "name": "stdout",
     "output_type": "stream",
     "text": [
      "Generating a_1.bak\n"
     ]
    },
    {
     "name": "stdout",
     "output_type": "stream",
     "text": [
      "Generating a_2.bak\n"
     ]
    },
    {
     "name": "stdout",
     "output_type": "stream",
     "text": [
      "Generating a_3.bak\n"
     ]
    }
   ],
   "source": [
    "%run -v1\n",
    "\n",
    "[A]\n",
    "input: for_each=dict(i=range(4))\n",
    "output: a=f'a_{i}.txt', b=f'b_{i}.txt'\n",
    "_output.touch()\n",
    "\n",
    "[default]\n",
    "input: named_output('a')\n",
    "output: _input.with_suffix('.bak')\n",
    "print(f'Generating {_output}')\n",
    "_output.touch()"
   ]
  },
  {
   "cell_type": "markdown",
   "metadata": {
    "kernel": "SoS",
    "papermill": {
     "duration": 0.022962,
     "end_time": "2019-12-23T17:03:39.643277",
     "exception": false,
     "start_time": "2019-12-23T17:03:39.620315",
     "status": "completed"
    },
    "tags": []
   },
   "source": [
    "<div class=\"bs-callout bs-callout-warning\" role=\"alert\">\n",
    "    <h4>Option <code>group_by</code> of function <code>output_from</code></h4>\n",
    "    <p>Option <code>group_by</code> regroups the groups returned by <code>output_from</code>\n",
    "</div>"
   ]
  },
  {
   "cell_type": "markdown",
   "metadata": {
    "kernel": "SoS",
    "papermill": {
     "duration": 0.02649,
     "end_time": "2019-12-23T17:03:39.694206",
     "exception": false,
     "start_time": "2019-12-23T17:03:39.667716",
     "status": "completed"
    },
    "tags": []
   },
   "source": [
    "If you would like to remove the groups or re-group the returned files using another method, you can use the `group_by` option of function `output_from`. For example, the `group_by='all'` option in the following example groups all 4 input files into a single group:"
   ]
  },
  {
   "cell_type": "code",
   "execution_count": 6,
   "metadata": {
    "kernel": "SoS",
    "papermill": {
     "duration": 2.692092,
     "end_time": "2019-12-23T17:03:42.408197",
     "exception": false,
     "start_time": "2019-12-23T17:03:39.716105",
     "status": "completed"
    },
    "tags": []
   },
   "outputs": [
    {
     "name": "stdout",
     "output_type": "stream",
     "text": [
      "\u001b[32m[\u001b[0m\u001b[90m#\u001b[0m\u001b[32m#\u001b[0m\u001b[32m]\u001b[0m 2 steps processed (1 job completed, 4 jobs ignored)\n"
     ]
    }
   ],
   "source": [
    "%run -v0 \n",
    "\n",
    "[A]\n",
    "input: for_each=dict(i=range(4))\n",
    "output: a=f'a_{i}.txt', b=f'b_{i}.txt'\n",
    "_output.touch()\n",
    "\n",
    "[default]\n",
    "input: named_output('a', group_by='all')\n",
    "output: [x.with_suffix('.bak') for x in _input]\n",
    "print(f'Generating {_output}')\n",
    "_output.touch()"
   ]
  },
  {
   "cell_type": "markdown",
   "metadata": {
    "kernel": "SoS",
    "papermill": {
     "duration": 0.026179,
     "end_time": "2019-12-23T17:03:42.456132",
     "exception": false,
     "start_time": "2019-12-23T17:03:42.429953",
     "status": "completed"
    },
    "tags": []
   },
   "source": [
    "## `named_output()` with skipped substeps"
   ]
  },
  {
   "cell_type": "markdown",
   "metadata": {
    "kernel": "SoS",
    "papermill": {
     "duration": 0.020841,
     "end_time": "2019-12-23T17:03:42.501453",
     "exception": false,
     "start_time": "2019-12-23T17:03:42.480612",
     "status": "completed"
    },
    "tags": []
   },
   "source": [
    "Function `named_output` obtains outputs, actually substeps output from another step. There is, however, a case when a substep is skipped and leaves no output. In this case, the substep output is dicarded.\n",
    "\n",
    "For example, when a substep in the step `A` of the following workflow is skipped, the result from `named_output('A')` contains only the output of valid substeps. "
   ]
  },
  {
   "cell_type": "code",
   "execution_count": 7,
   "metadata": {
    "kernel": "SoS",
    "papermill": {
     "duration": 2.910684,
     "end_time": "2019-12-23T17:03:45.432909",
     "exception": false,
     "start_time": "2019-12-23T17:03:42.522225",
     "status": "completed"
    },
    "tags": []
   },
   "outputs": [
    {
     "name": "stdout",
     "output_type": "stream",
     "text": [
      "\u001b[32m[\u001b[0m\u001b[32m#\u001b[0m\u001b[32m#\u001b[0m\u001b[32m]\u001b[0m 2 steps processed (7 jobs completed)\n"
     ]
    }
   ],
   "source": [
    "%run -v0\n",
    "[A]\n",
    "input: for_each=dict(i=range(4))\n",
    "output: A=f'output_{i}.txt'\n",
    "\n",
    "skip_if(i == 2, 'Skip substep 2')\n",
    "_output.touch()\n",
    "\n",
    "[default]\n",
    "input: named_output('A')\n",
    "print(_input)"
   ]
  },
  {
   "cell_type": "markdown",
   "metadata": {
    "kernel": "SoS",
    "papermill": {
     "duration": 0.023608,
     "end_time": "2019-12-23T17:03:45.479012",
     "exception": false,
     "start_time": "2019-12-23T17:03:45.455404",
     "status": "completed"
    },
    "tags": []
   },
   "source": [
    "However, if you would like to keep consistent number of substeps across steps, you can handle get output from all substeps by using option `remove_empty_groups=False`."
   ]
  },
  {
   "cell_type": "code",
   "execution_count": 8,
   "metadata": {
    "kernel": "SoS",
    "papermill": {
     "duration": 2.610528,
     "end_time": "2019-12-23T17:03:48.111997",
     "exception": false,
     "start_time": "2019-12-23T17:03:45.501469",
     "status": "completed"
    },
    "tags": []
   },
   "outputs": [
    {
     "name": "stdout",
     "output_type": "stream",
     "text": [
      "\u001b[32m[\u001b[0m\u001b[36m#\u001b[0m\u001b[32m#\u001b[0m\u001b[32m]\u001b[0m 2 steps processed (3 jobs completed, 3 jobs ignored)\n"
     ]
    }
   ],
   "source": [
    "%run -v0\n",
    "[A]\n",
    "input: for_each=dict(i=range(4))\n",
    "output: A=f'output_{i}.txt'\n",
    "\n",
    "skip_if(i == 2, 'Skip substep 2')\n",
    "_output.touch()\n",
    "\n",
    "[default]\n",
    "input: named_output('A', remove_empty_groups=True)\n",
    "print(_input)"
   ]
  },
  {
   "cell_type": "markdown",
   "metadata": {
    "kernel": "SoS",
    "papermill": {
     "duration": 0.033758,
     "end_time": "2019-12-23T17:03:48.179691",
     "exception": false,
     "start_time": "2019-12-23T17:03:48.145933",
     "status": "completed"
    },
    "tags": []
   },
   "source": [
    "## Further reading\n",
    "\n",
    "* [How to include output from another step in a SoS step](output_from.html)\n",
    "* [How to use Makefile-style rules to generate required files](auxiliary_steps.html)\n",
    "* [How to execute workflow to generate specific output](target_oriented.html)"
   ]
  }
 ],
 "metadata": {
  "kernelspec": {
   "display_name": "SoS",
   "language": "sos",
   "name": "sos"
  },
  "language_info": {
   "codemirror_mode": "sos",
   "file_extension": ".sos",
   "mimetype": "text/x-sos",
   "name": "sos",
   "nbconvert_exporter": "sos_notebook.converter.SoS_Exporter",
   "pygments_lexer": "sos"
  },
  "papermill": {
   "duration": 35.151221,
   "end_time": "2019-12-23T17:03:53.389677",
   "environment_variables": {},
   "exception": null,
   "input_path": "/Users/bpeng1/sos/sos-docs/src/user_guide/named_output.ipynb",
   "output_path": "named_output.ipynb_rerun.ipynb",
   "parameters": {},
   "start_time": "2019-12-23T17:03:18.238456",
   "version": "1.1.0"
  },
  "sos": {
   "kernels": [
    [
     "Bash",
     "bash",
     "Bash",
     "#E6EEFF"
    ],
    [
     "R",
     "ir",
     "R",
     "#DCDCDA"
    ],
    [
     "SoS",
     "sos",
     "",
     ""
    ]
   ],
   "panel": {
    "displayed": true,
    "height": 0
   },
   "version": "0.21.2"
  }
 },
 "nbformat": 4,
 "nbformat_minor": 4
}