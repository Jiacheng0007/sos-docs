{
 "cells": [
  {
   "cell_type": "markdown",
   "metadata": {
    "kernel": "SoS",
    "papermill": {
     "duration": 0.017274,
     "end_time": "2019-12-23T17:00:53.724418",
     "exception": false,
     "start_time": "2019-12-23T17:00:53.707144",
     "status": "completed"
    },
    "tags": []
   },
   "source": [
    "# Check the validity of SoS scripts without actually executing it"
   ]
  },
  {
   "cell_type": "markdown",
   "metadata": {
    "kernel": "SoS",
    "papermill": {
     "duration": 0.014036,
     "end_time": "2019-12-23T17:00:53.757221",
     "exception": false,
     "start_time": "2019-12-23T17:00:53.743185",
     "status": "completed"
    },
    "tags": []
   },
   "source": [
    "* **Difficulty level**: easy\n",
    "* **Time need to lean**: 10 minutes or less\n",
    "* **Key points**:\n",
    "  * Option `-n` turns workflow into dryrun mode\n",
    "  * `sos dryrun` is equivalent to `sos run -n`"
   ]
  },
  {
   "cell_type": "markdown",
   "metadata": {
    "kernel": "SoS",
    "papermill": {
     "duration": 0.014091,
     "end_time": "2019-12-23T17:00:53.786948",
     "exception": false,
     "start_time": "2019-12-23T17:00:53.772857",
     "status": "completed"
    },
    "tags": []
   },
   "source": [
    "## `dryrun` mode"
   ]
  },
  {
   "cell_type": "markdown",
   "metadata": {
    "kernel": "SoS",
    "papermill": {
     "duration": 0.013937,
     "end_time": "2019-12-23T17:00:53.815003",
     "exception": false,
     "start_time": "2019-12-23T17:00:53.801066",
     "status": "completed"
    },
    "tags": []
   },
   "source": [
    "The `dryrun` mode is used to check for errors of SoS workflows and running environments without actually executing any of the actions and tasks. It can be specified with option `-n` to command `run` (`sos run -n`, `sos-runner -n`, or `%run -n`) or with subcommand `dryrun` (`sos dryrun`)."
   ]
  },
  {
   "cell_type": "markdown",
   "metadata": {
    "kernel": "SoS",
    "papermill": {
     "duration": 0.014019,
     "end_time": "2019-12-23T17:00:53.843901",
     "exception": false,
     "start_time": "2019-12-23T17:00:53.829882",
     "status": "completed"
    },
    "tags": []
   },
   "source": [
    "## Checking syntax error"
   ]
  },
  {
   "cell_type": "markdown",
   "metadata": {
    "kernel": "SoS",
    "papermill": {
     "duration": 0.013367,
     "end_time": "2019-12-23T17:00:53.871362",
     "exception": false,
     "start_time": "2019-12-23T17:00:53.857995",
     "status": "completed"
    },
    "tags": []
   },
   "source": [
    "The first use of dryrun mode is to check syntax error of scripts. For example, the following script yields an error because the header of the step is wrong (should use `:` instead of `,`)."
   ]
  },
  {
   "cell_type": "code",
   "execution_count": 1,
   "metadata": {
    "kernel": "SoS",
    "papermill": {
     "duration": 2.45213,
     "end_time": "2019-12-23T17:00:56.337199",
     "exception": false,
     "start_time": "2019-12-23T17:00:53.885069",
     "status": "completed"
    },
    "tags": []
   },
   "outputs": [
    {
     "name": "stdout",
     "output_type": "stream",
     "text": [
      "\u001b[91mERROR\u001b[0m: \u001b[91mFile contains parsing errors: /Users/bpeng1/sos/sos-docs/development/.tmp_script_l0atbggt.sos\n"
     ]
    },
    {
     "name": "stdout",
     "output_type": "stream",
     "text": [
      "\t[line  2]: [10, skip=False]\n"
     ]
    },
    {
     "name": "stdout",
     "output_type": "stream",
     "text": [
      "sh:\n"
     ]
    },
    {
     "name": "stdout",
     "output_type": "stream",
     "text": [
      "   echo \"I am command echo\"\n"
     ]
    },
    {
     "name": "stdout",
     "output_type": "stream",
     "text": [
      "\n"
     ]
    },
    {
     "name": "stdout",
     "output_type": "stream",
     "text": [
      "Invalid statements: SyntaxError('invalid syntax', ('<string>', 1, 10, '[10, skip=False]\\n'))\u001b[0m\n"
     ]
    }
   ],
   "source": [
    "%run -n\n",
    "[10, skip=False]\n",
    "sh:\n",
    "   echo \"I am command echo\""
   ]
  },
  {
   "cell_type": "markdown",
   "metadata": {
    "kernel": "SoS",
    "papermill": {
     "duration": 0.017271,
     "end_time": "2019-12-23T17:00:56.371590",
     "exception": false,
     "start_time": "2019-12-23T17:00:56.354319",
     "status": "completed"
    },
    "tags": []
   },
   "source": [
    "## Print instead of execute scripts"
   ]
  },
  {
   "cell_type": "markdown",
   "metadata": {
    "kernel": "SoS",
    "papermill": {
     "duration": 0.015954,
     "end_time": "2019-12-23T17:00:56.407150",
     "exception": false,
     "start_time": "2019-12-23T17:00:56.391196",
     "status": "completed"
    },
    "tags": []
   },
   "source": [
    "Script-executing actions such as `run`, `sh`, and `python` does not execute the scripts in dryrun mode. In stead, they will print the script with the command to execute them. This usage allows you to check if the scripts are interpolated correctly, or even executing them outside of SoS.\n",
    "\n",
    "For example, the following script will print the expanded version of the scripts to be executed:"
   ]
  },
  {
   "cell_type": "code",
   "execution_count": 2,
   "metadata": {
    "kernel": "SoS",
    "papermill": {
     "duration": 4.144689,
     "end_time": "2019-12-23T17:01:00.567862",
     "exception": false,
     "start_time": "2019-12-23T17:00:56.423173",
     "status": "completed"
    },
    "tags": []
   },
   "outputs": [
    {
     "name": "stdout",
     "output_type": "stream",
     "text": [
      "HINT: /bin/sh SCRIPT\n"
     ]
    },
    {
     "name": "stdout",
     "output_type": "stream",
     "text": [
      "sleep 100\n"
     ]
    },
    {
     "name": "stdout",
     "output_type": "stream",
     "text": [
      "echo \"Generating test_1.txt\"\n"
     ]
    },
    {
     "name": "stdout",
     "output_type": "stream",
     "text": [
      "touch test_1.txt\n"
     ]
    },
    {
     "name": "stdout",
     "output_type": "stream",
     "text": [
      "\n"
     ]
    },
    {
     "name": "stdout",
     "output_type": "stream",
     "text": [
      "\n"
     ]
    },
    {
     "name": "stdout",
     "output_type": "stream",
     "text": [
      "\n"
     ]
    },
    {
     "name": "stdout",
     "output_type": "stream",
     "text": [
      "HINT: /bin/sh SCRIPT\n"
     ]
    },
    {
     "name": "stdout",
     "output_type": "stream",
     "text": [
      "sleep 200\n"
     ]
    },
    {
     "name": "stdout",
     "output_type": "stream",
     "text": [
      "echo \"Generating test_2.txt\"\n"
     ]
    },
    {
     "name": "stdout",
     "output_type": "stream",
     "text": [
      "touch test_2.txt\n"
     ]
    },
    {
     "name": "stdout",
     "output_type": "stream",
     "text": [
      "\n"
     ]
    },
    {
     "name": "stdout",
     "output_type": "stream",
     "text": [
      "\n"
     ]
    },
    {
     "name": "stdout",
     "output_type": "stream",
     "text": [
      "\n"
     ]
    }
   ],
   "source": [
    "!rm -f test*.txt\n",
    "%run -n\n",
    "\n",
    "[10]\n",
    "input: for_each={'i': (1, 2)}\n",
    "output: f'test_{i}.txt'\n",
    "sh: expand=True\n",
    "  sleep {100*i}\n",
    "  echo \"Generating {_output}\"\n",
    "  touch {_output}\n",
    "                 "
   ]
  },
  {
   "cell_type": "markdown",
   "metadata": {
    "kernel": "SoS",
    "papermill": {
     "duration": 0.020123,
     "end_time": "2019-12-23T17:01:00.609567",
     "exception": false,
     "start_time": "2019-12-23T17:01:00.589444",
     "status": "completed"
    },
    "tags": []
   },
   "source": [
    "It is worth noting, however, that **sos executes Python statements in dryrun mode as usual** so your workflow will appear to be executed normally if you do not use actions.\n",
    "\n",
    "For example, if you implement your steps in Python and include them directly, the step will be executed"
   ]
  },
  {
   "cell_type": "code",
   "execution_count": 3,
   "metadata": {
    "kernel": "SoS",
    "papermill": {
     "duration": 3.894458,
     "end_time": "2019-12-23T17:01:04.525006",
     "exception": false,
     "start_time": "2019-12-23T17:01:00.630548",
     "status": "completed"
    },
    "tags": []
   },
   "outputs": [
    {
     "name": "stdout",
     "output_type": "stream",
     "text": [
      "Generating {_output}\n"
     ]
    },
    {
     "name": "stdout",
     "output_type": "stream",
     "text": [
      "Generating {_output}\n"
     ]
    }
   ],
   "source": [
    "!rm -f test*.txt\n",
    "%run -n\n",
    "\n",
    "[10]\n",
    "input: for_each={'i': (1, 2)}\n",
    "output: f'test_{i}.txt'\n",
    "print(\"Generating {_output}\")\n",
    "_output.touch()"
   ]
  },
  {
   "cell_type": "markdown",
   "metadata": {
    "kernel": "SoS",
    "papermill": {
     "duration": 0.020586,
     "end_time": "2019-12-23T17:01:04.567901",
     "exception": false,
     "start_time": "2019-12-23T17:01:04.547315",
     "status": "completed"
    },
    "tags": []
   },
   "source": [
    "and the output files will be generated:"
   ]
  },
  {
   "cell_type": "markdown",
   "metadata": {
    "kernel": "SoS",
    "papermill": {
     "duration": 0.021052,
     "end_time": "2019-12-23T17:01:04.612221",
     "exception": false,
     "start_time": "2019-12-23T17:01:04.591169",
     "status": "completed"
    },
    "tags": []
   },
   "source": [
    "## Generation of placeholder files"
   ]
  },
  {
   "cell_type": "markdown",
   "metadata": {
    "kernel": "SoS",
    "papermill": {
     "duration": 0.020633,
     "end_time": "2019-12-23T17:01:04.656122",
     "exception": false,
     "start_time": "2019-12-23T17:01:04.635489",
     "status": "completed"
    },
    "tags": []
   },
   "source": [
    "Another consequence of running workflows in dryrun mode is that SoS generates empty placeholder files during dryrun and remove them afterwards. This allows the workflows to be executed \"normally\" because the execution of the next steps might depend on the existence of the output files.\n",
    "\n",
    "For example, when running in dryrun mode, the following script will be executed \"normally\". The `_input` files (which are the output of step 10) could be opened at step 20, but the content would be empty:"
   ]
  },
  {
   "cell_type": "code",
   "execution_count": 4,
   "metadata": {
    "kernel": "SoS",
    "papermill": {
     "duration": 3.374546,
     "end_time": "2019-12-23T17:01:08.052702",
     "exception": false,
     "start_time": "2019-12-23T17:01:04.678156",
     "status": "completed"
    },
    "tags": []
   },
   "outputs": [
    {
     "name": "stdout",
     "output_type": "stream",
     "text": [
      "HINT: /bin/sh SCRIPT\n"
     ]
    },
    {
     "name": "stdout",
     "output_type": "stream",
     "text": [
      "echo \"Generating test_1.txt\" > test_1.txt\n"
     ]
    },
    {
     "name": "stdout",
     "output_type": "stream",
     "text": [
      "\n"
     ]
    },
    {
     "name": "stdout",
     "output_type": "stream",
     "text": [
      "\n"
     ]
    },
    {
     "name": "stdout",
     "output_type": "stream",
     "text": [
      "\n"
     ]
    },
    {
     "name": "stdout",
     "output_type": "stream",
     "text": [
      "HINT: /bin/sh SCRIPT\n"
     ]
    },
    {
     "name": "stdout",
     "output_type": "stream",
     "text": [
      "echo \"Generating test_2.txt\" > test_2.txt\n"
     ]
    },
    {
     "name": "stdout",
     "output_type": "stream",
     "text": [
      "\n"
     ]
    },
    {
     "name": "stdout",
     "output_type": "stream",
     "text": [
      "\n"
     ]
    },
    {
     "name": "stdout",
     "output_type": "stream",
     "text": [
      "\n"
     ]
    },
    {
     "name": "stdout",
     "output_type": "stream",
     "text": [
      "Content of test_1.txt:\n"
     ]
    },
    {
     "name": "stdout",
     "output_type": "stream",
     "text": [
      "\n"
     ]
    },
    {
     "name": "stdout",
     "output_type": "stream",
     "text": [
      "HINT: /bin/sh SCRIPT\n"
     ]
    },
    {
     "name": "stdout",
     "output_type": "stream",
     "text": [
      "cp test_1.txt test_1.txt.bak\n"
     ]
    },
    {
     "name": "stdout",
     "output_type": "stream",
     "text": [
      "\n"
     ]
    },
    {
     "name": "stdout",
     "output_type": "stream",
     "text": [
      "\n"
     ]
    },
    {
     "name": "stdout",
     "output_type": "stream",
     "text": [
      "Content of test_2.txt:\n"
     ]
    },
    {
     "name": "stdout",
     "output_type": "stream",
     "text": [
      "\n"
     ]
    },
    {
     "name": "stdout",
     "output_type": "stream",
     "text": [
      "HINT: /bin/sh SCRIPT\n"
     ]
    },
    {
     "name": "stdout",
     "output_type": "stream",
     "text": [
      "cp test_2.txt test_2.txt.bak\n"
     ]
    },
    {
     "name": "stdout",
     "output_type": "stream",
     "text": [
      "\n"
     ]
    },
    {
     "name": "stdout",
     "output_type": "stream",
     "text": [
      "\n"
     ]
    }
   ],
   "source": [
    "!rm -f test*.txt\n",
    "%run -n\n",
    "\n",
    "[10]\n",
    "input: for_each={'i': (1, 2)}\n",
    "output: f'test_{i}.txt'\n",
    "sh: expand=True\n",
    "  echo \"Generating {_output}\" > {_output}\n",
    "  \n",
    "[20]\n",
    "input: group_by=1\n",
    "output: f'{_input}.bak'\n",
    "print(f'Content of {_input}:')\n",
    "with open(_input) as ifile:\n",
    "    print(ifile.read())\n",
    "sh: expand=True\n",
    "  cp {_input} {_output}"
   ]
  },
  {
   "cell_type": "markdown",
   "metadata": {
    "kernel": "SoS",
    "papermill": {
     "duration": 0.043202,
     "end_time": "2019-12-23T17:01:08.137364",
     "exception": false,
     "start_time": "2019-12-23T17:01:08.094162",
     "status": "completed"
    },
    "tags": []
   },
   "source": [
    "`test_1.txt` and `test_2.txt` would be generated normally in run mode:"
   ]
  },
  {
   "cell_type": "markdown",
   "metadata": {
    "kernel": "SoS",
    "papermill": {
     "duration": 0.038381,
     "end_time": "2019-12-23T17:01:08.218299",
     "exception": false,
     "start_time": "2019-12-23T17:01:08.179918",
     "status": "completed"
    },
    "tags": []
   },
   "source": [
    "## External tasks"
   ]
  },
  {
   "cell_type": "markdown",
   "metadata": {
    "kernel": "SoS",
    "papermill": {
     "duration": 0.044103,
     "end_time": "2019-12-23T17:01:08.302527",
     "exception": false,
     "start_time": "2019-12-23T17:01:08.258424",
     "status": "completed"
    },
    "tags": []
   },
   "source": [
    "External tasks are executed in `dryrun` mode as follows:\n",
    "\n",
    "1. Only task from the first substep will be generated and submitted.\n",
    "2. The task will be submitted to remote hosts as usual, with input files synchronized to remote host if needed. This allows you to test if the remote hosts are accessible.\n",
    "3. The task will be executed in `dryrun` mode, and will print instead of execute the scripts defined in actions."
   ]
  },
  {
   "cell_type": "code",
   "execution_count": 5,
   "metadata": {
    "kernel": "SoS",
    "papermill": {
     "duration": 3.246298,
     "end_time": "2019-12-23T17:01:11.593689",
     "exception": false,
     "start_time": "2019-12-23T17:01:08.347391",
     "status": "completed"
    },
    "tags": []
   },
   "outputs": [
    {
     "name": "stdout",
     "output_type": "stream",
     "text": [
      "HINT: /bin/sh SCRIPT\n"
     ]
    },
    {
     "name": "stdout",
     "output_type": "stream",
     "text": [
      "echo \"Generating test_0.txt\" > test_0.txt\n"
     ]
    },
    {
     "name": "stdout",
     "output_type": "stream",
     "text": [
      "\n"
     ]
    },
    {
     "name": "stdout",
     "output_type": "stream",
     "text": [
      "\n"
     ]
    },
    {
     "name": "stdout",
     "output_type": "stream",
     "text": [
      "HINT: /bin/sh SCRIPT\n"
     ]
    },
    {
     "name": "stdout",
     "output_type": "stream",
     "text": [
      "echo \"Generating test_1.txt\" > test_1.txt\n"
     ]
    },
    {
     "name": "stdout",
     "output_type": "stream",
     "text": [
      "\n"
     ]
    },
    {
     "name": "stdout",
     "output_type": "stream",
     "text": [
      "\n"
     ]
    },
    {
     "name": "stdout",
     "output_type": "stream",
     "text": [
      "HINT: /bin/sh SCRIPT\n"
     ]
    },
    {
     "name": "stdout",
     "output_type": "stream",
     "text": [
      "echo \"Generating test_2.txt\" > test_2.txt\n"
     ]
    },
    {
     "name": "stdout",
     "output_type": "stream",
     "text": [
      "\n"
     ]
    },
    {
     "name": "stdout",
     "output_type": "stream",
     "text": [
      "\n"
     ]
    },
    {
     "name": "stdout",
     "output_type": "stream",
     "text": [
      "HINT: /bin/sh SCRIPT\n"
     ]
    },
    {
     "name": "stdout",
     "output_type": "stream",
     "text": [
      "echo \"Generating test_3.txt\" > test_3.txt\n"
     ]
    },
    {
     "name": "stdout",
     "output_type": "stream",
     "text": [
      "\n"
     ]
    },
    {
     "name": "stdout",
     "output_type": "stream",
     "text": [
      "\n"
     ]
    },
    {
     "name": "stdout",
     "output_type": "stream",
     "text": [
      "HINT: /bin/sh SCRIPT\n"
     ]
    },
    {
     "name": "stdout",
     "output_type": "stream",
     "text": [
      "echo \"Generating test_4.txt\" > test_4.txt\n"
     ]
    },
    {
     "name": "stdout",
     "output_type": "stream",
     "text": [
      "\n"
     ]
    },
    {
     "name": "stdout",
     "output_type": "stream",
     "text": [
      "\n"
     ]
    }
   ],
   "source": [
    "%run -n\n",
    "\n",
    "[10]\n",
    "input: for_each={'i': range(5)}\n",
    "output: f'test_{i}.txt'\n",
    "task:\n",
    "sh: expand=True\n",
    "  echo \"Generating {_output}\" > {_output}"
   ]
  },
  {
   "cell_type": "markdown",
   "metadata": {
    "kernel": "SoS",
    "papermill": {
     "duration": 0.069645,
     "end_time": "2019-12-23T17:01:11.706863",
     "exception": false,
     "start_time": "2019-12-23T17:01:11.637218",
     "status": "completed"
    },
    "tags": []
   },
   "source": [
    "## Docker actions"
   ]
  },
  {
   "cell_type": "markdown",
   "metadata": {
    "kernel": "SoS",
    "papermill": {
     "duration": 0.067682,
     "end_time": "2019-12-23T17:01:11.843541",
     "exception": false,
     "start_time": "2019-12-23T17:01:11.775859",
     "status": "completed"
    },
    "tags": []
   },
   "source": [
    "When an action is executed in docker in dryrun mode, SoS would download the docker image if needed but will not execute the script. Instead, SoS will print the interpolated script and the docker command needs to execute the script. \n",
    "\n",
    "For example, running an `docker_build` action in dryrun mode yields the following output:"
   ]
  },
  {
   "cell_type": "code",
   "execution_count": 6,
   "metadata": {
    "kernel": "SoS",
    "papermill": {
     "duration": 3.129325,
     "end_time": "2019-12-23T17:01:15.044340",
     "exception": false,
     "start_time": "2019-12-23T17:01:11.915015",
     "status": "completed"
    },
    "tags": []
   },
   "outputs": [
    {
     "name": "stdout",
     "output_type": "stream",
     "text": [
      "HINT: docker build -f /Users/bpeng1/sos/sos-docs/development/tmpscztqc1h/Dockerfile . --tag test/docker_build1 --label \"label with space\" --compress --memory 2G\n"
     ]
    },
    {
     "name": "stdout",
     "output_type": "stream",
     "text": [
      "#\n"
     ]
    },
    {
     "name": "stdout",
     "output_type": "stream",
     "text": [
      "# Super simple example of a Dockerfile\n"
     ]
    },
    {
     "name": "stdout",
     "output_type": "stream",
     "text": [
      "#\n"
     ]
    },
    {
     "name": "stdout",
     "output_type": "stream",
     "text": [
      "FROM ubuntu:latest\n"
     ]
    },
    {
     "name": "stdout",
     "output_type": "stream",
     "text": [
      "MAINTAINER Andrew Odewahn \"odewahn@oreilly.com\"\n"
     ]
    },
    {
     "name": "stdout",
     "output_type": "stream",
     "text": [
      "\n"
     ]
    },
    {
     "name": "stdout",
     "output_type": "stream",
     "text": [
      "WORKDIR /home\n"
     ]
    },
    {
     "name": "stdout",
     "output_type": "stream",
     "text": [
      "\n"
     ]
    }
   ],
   "source": [
    "%run -n\n",
    "[0]\n",
    "docker_build:  tag='test/docker_build1', label='label with space', compress=True, memory='2G'\n",
    "#\n",
    "# Super simple example of a Dockerfile\n",
    "#\n",
    "FROM ubuntu:latest\n",
    "MAINTAINER Andrew Odewahn \"odewahn@oreilly.com\"\n",
    "\n",
    "WORKDIR /home"
   ]
  },
  {
   "cell_type": "markdown",
   "metadata": {
    "kernel": "SoS",
    "papermill": {
     "duration": 0.038825,
     "end_time": "2019-12-23T17:01:15.121767",
     "exception": false,
     "start_time": "2019-12-23T17:01:15.082942",
     "status": "completed"
    },
    "tags": []
   },
   "source": [
    "and running a script in docker in dryrun mode:"
   ]
  },
  {
   "cell_type": "code",
   "execution_count": 7,
   "metadata": {
    "kernel": "SoS",
    "papermill": {
     "duration": 4.154682,
     "end_time": "2019-12-23T17:01:19.320696",
     "exception": false,
     "start_time": "2019-12-23T17:01:15.166014",
     "status": "completed"
    },
    "tags": []
   },
   "outputs": [
    {
     "name": "stdout",
     "output_type": "stream",
     "text": [
      "HINT: Pulling docker image ubuntu\n"
     ]
    },
    {
     "name": "stdout",
     "output_type": "stream",
     "text": [
      "HINT: docker run --rm   -v /Users/bpeng1/sos/sos-docs/development:/Users/bpeng1/sos/sos-docs/development -v /Users/bpeng1/sos/sos-docs/development/tmpgn7i8dk0/docker_run_93503.sh:/var/lib/sos/docker_run_93503.sh    -t  -w=/Users/bpeng1/sos/sos-docs/development -u 1985961928:895809667    ubuntu /bin/bash -ev /var/lib/sos/docker_run_93503.sh\n"
     ]
    },
    {
     "name": "stdout",
     "output_type": "stream",
     "text": [
      "echo 'Echo'\n"
     ]
    },
    {
     "name": "stdout",
     "output_type": "stream",
     "text": [
      "\n"
     ]
    }
   ],
   "source": [
    "%run -n\n",
    "[0]\n",
    "run: container='ubuntu'\n",
    "echo 'Echo'"
   ]
  },
  {
   "cell_type": "markdown",
   "metadata": {
    "kernel": "SoS",
    "papermill": {
     "duration": 0.038664,
     "end_time": "2019-12-23T17:01:19.398284",
     "exception": false,
     "start_time": "2019-12-23T17:01:19.359620",
     "status": "completed"
    },
    "tags": []
   },
   "source": [
    "## Further reading\n",
    "\n",
    "* [Execution of workflows (command line interface)](cli.html)"
   ]
  }
 ],
 "metadata": {
  "kernelspec": {
   "display_name": "SoS",
   "language": "sos",
   "name": "sos"
  },
  "language_info": {
   "codemirror_mode": "sos",
   "file_extension": ".sos",
   "mimetype": "text/x-sos",
   "name": "sos",
   "nbconvert_exporter": "sos_notebook.converter.SoS_Exporter",
   "pygments_lexer": "sos"
  },
  "papermill": {
   "duration": 33.801334,
   "end_time": "2019-12-23T17:01:24.635674",
   "environment_variables": {},
   "exception": null,
   "input_path": "/Users/bpeng1/sos/sos-docs/src/user_guide/dryrun.ipynb",
   "output_path": "dryrun.ipynb_rerun.ipynb",
   "parameters": {},
   "start_time": "2019-12-23T17:00:50.834340",
   "version": "1.1.0"
  },
  "sos": {
   "kernels": [
    [
     "Bash",
     "bash",
     "Bash",
     "#E6EEFF"
    ],
    [
     "R",
     "ir",
     "R",
     "#DCDCDA"
    ],
    [
     "SoS",
     "sos",
     "",
     ""
    ]
   ],
   "panel": {
    "displayed": true,
    "height": 0
   },
   "version": "0.21.2"
  }
 },
 "nbformat": 4,
 "nbformat_minor": 4
}