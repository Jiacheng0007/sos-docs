{
 "cells": [
  {
   "cell_type": "markdown",
   "metadata": {
    "kernel": "SoS",
    "tags": []
   },
   "source": [
    "# How to write simple data-flow style workflows"
   ]
  },
  {
   "cell_type": "markdown",
   "metadata": {
    "kernel": "SoS",
    "tags": []
   },
   "source": [
    "* **Difficulty level**: easy\n",
    "* **Time need to lean**: 10 minutes or less\n",
    "* **Key points**:\n",
    "  * Data flow style workflows construct workflows by connecting data between steps\n",
    "  * Inputs and outputs of such workflows need to be statically defined"
   ]
  },
  {
   "cell_type": "markdown",
   "metadata": {
    "kernel": "SoS",
    "tags": []
   },
   "source": [
    "## Workflows with numerically indexed steps"
   ]
  },
  {
   "cell_type": "markdown",
   "metadata": {
    "kernel": "SoS",
    "tags": []
   },
   "source": [
    "Let us write a workflow with numerically indexed steps. In the following cell, we used\n",
    "\n",
    "* `!` magic to execute two shell commands to create an input file and remove any output that might have existed.\n",
    "* `%run` magic with option `-d test.dot`, which records the DAG (direct acyclic graph) of the workflow into a graphviz dot file. Multiple DAGs will be saved with chaning status of each step.\n",
    "* `%preview` magic that conerts the `test.dot` file into an animation that shows the DAG at different stage of the execution of the workflow.\n",
    "\n",
    "We then define a workflow with four steps\n",
    "\n",
    "* `10`: run `fastqc` to check the quality of input fastqc file. For simplicity, we use `touch()` action to generate all the output files.\n",
    "* `20`: align the input reads in `fastqc` files to generate a `bam` file.\n",
    "* `30`: index the `bam` file into a `bai` file.\n",
    "* `40`: call variants from the `bam` and `bai` file and generates a `vcf` file.\n",
    "\n",
    "We define `output` for each step but in reality you can use `{sample}.ext` in your scripts directly without using any output statement."
   ]
  },
  {
   "cell_type": "code",
   "execution_count": 1,
   "metadata": {
    "kernel": "SoS",
    "tags": []
   },
   "outputs": [],
   "source": [
    "!touch data.fastq\n",
    "!rm -f data.bam data.bai data.html data.vcf\n",
    "\n",
    "%preview test_numeric.dot\n",
    "%run -d test_numeric.dot\n",
    "\n",
    "parameter: sample = 'data'\n",
    "\n",
    "[10]\n",
    "output: f'{sample}.html'\n",
    "_output.touch()\n",
    "\n",
    "[20]\n",
    "output: f'{sample}.bam'\n",
    "_output.touch()\n",
    "\n",
    "[30]\n",
    "output: f'{sample}.bai'\n",
    "_output.touch()\n",
    "\n",
    "\n",
    "[40]\n",
    "output: f'{sample}.vcf'\n",
    "_output.touch()"
   ]
  },
  {
   "cell_type": "markdown",
   "metadata": {
    "kernel": "SoS",
    "tags": []
   },
   "source": [
    "As shown by the DAG, the workflow executes each step sequentially. Technically speaking, because no inputs are defined for steps `20`, `30` and `40`, they are assumed to be dependent on their previous steps."
   ]
  },
  {
   "cell_type": "markdown",
   "metadata": {
    "kernel": "SoS",
    "tags": []
   },
   "source": [
    "## Dataflow based workflow"
   ]
  },
  {
   "cell_type": "markdown",
   "metadata": {
    "kernel": "SoS",
    "tags": []
   },
   "source": [
    " <div class=\"bs-callout bs-callout-info\" role=\"alert\">\n",
    "    <h4>Dataflow-based workflows</h4>\n",
    "    <p>Dataflow-based workflows construct workflows by the flow of data. Namely, steps in dataflow-based workflows defines input and output files and the workflow engine connects steps when certain data is needed.</p>\n",
    " </div>"
   ]
  },
  {
   "cell_type": "markdown",
   "metadata": {
    "kernel": "SoS",
    "tags": []
   },
   "source": [
    "The previous workflow works but the steps can only be executed sequentially. By defining the input and output of each step explicitly, the workflow can be written in a dataflow style as follows:"
   ]
  },
  {
   "cell_type": "code",
   "execution_count": 2,
   "metadata": {
    "kernel": "SoS",
    "tags": []
   },
   "outputs": [],
   "source": [
    "!touch data.fastq\n",
    "!rm -f data.bam data.bai data.html data.vcf\n",
    "\n",
    "%preview test.dot\n",
    "%run -v1 -d test.dot\n",
    "\n",
    "parameter: sample = 'data'\n",
    "\n",
    "[fastqc]\n",
    "input: f'{sample}.fastq'\n",
    "output: f'{sample}.html'\n",
    "_output.touch()\n",
    "\n",
    "[align]\n",
    "input: f'{sample}.fastq'\n",
    "output: f'{sample}.bam'\n",
    "_output.touch()\n",
    "\n",
    "[bam2bai]\n",
    "input: f'{sample}.bam'\n",
    "output: f'{sample}.bai'\n",
    "_output.touch()\n",
    "\n",
    "[call]\n",
    "input: f'{sample}.bam'\n",
    "depends: f'{sample}.bai'\n",
    "output: f'{sample}.vcf'\n",
    "_output.touch()\n",
    "\n",
    "\n",
    "[default]\n",
    "depends: f'{sample}.html', f'{sample}.vcf'\n"
   ]
  },
  {
   "cell_type": "markdown",
   "metadata": {
    "kernel": "SoS",
    "tags": []
   },
   "source": [
    "Because the input and output of each step is clearly defined, SoS knows that the `align` and `bam2bai` steps have to be called before step `call`, and the `default` workflow can only be completed with the generation of `data.vcf` and `data.html`."
   ]
  },
  {
   "cell_type": "markdown",
   "metadata": {
    "kernel": "SoS",
    "tags": []
   },
   "source": [
    "The numeric numering of steps provides a default order of execution that can be overridden if inputs and outputs are defined. For example, in the following example, the steps are actually executed in the order of `30`, `40` (concurrently), `20` and then `10`. A `default` step is not added because all steps in numerically indexed workflows will be executed, although the orders are not preserved in this particular case."
   ]
  },
  {
   "cell_type": "code",
   "execution_count": 3,
   "metadata": {
    "kernel": "SoS",
    "tags": []
   },
   "outputs": [],
   "source": [
    "!touch data.fastq\n",
    "!rm -f data.bam data.bai data.html data.vcf\n",
    "\n",
    "%preview test_unordered.dot\n",
    "%run -d test_unordered.dot\n",
    "\n",
    "parameter: sample = 'data'\n",
    "\n",
    "[40]\n",
    "input: f'{sample}.fastq'\n",
    "output: f'{sample}.html'\n",
    "_output.touch()\n",
    "\n",
    "[30]\n",
    "input: f'{sample}.fastq'\n",
    "output: f'{sample}.bam'\n",
    "_output.touch()\n",
    "\n",
    "[20]\n",
    "input: f'{sample}.bam'\n",
    "output: f'{sample}.bai'\n",
    "_output.touch()\n",
    "\n",
    "[10]\n",
    "input: f'{sample}.bam'\n",
    "depends: f'{sample}.bai'\n",
    "output: f'{sample}.vcf'\n",
    "_output.touch()\n"
   ]
  },
  {
   "cell_type": "markdown",
   "metadata": {
    "kernel": "SoS",
    "tags": []
   },
   "source": [
    "## Use of `named_output` for more complex cases"
   ]
  },
  {
   "cell_type": "markdown",
   "metadata": {
    "kernel": "SoS",
    "tags": []
   },
   "source": [
    "When your workflow becomes more complex, you can define `data` by their names as follows:"
   ]
  },
  {
   "cell_type": "code",
   "execution_count": 4,
   "metadata": {
    "kernel": "SoS",
    "tags": []
   },
   "outputs": [],
   "source": [
    "!touch data.fastq\n",
    "!rm -f data.bam data.bai data.html data.vcf\n",
    "\n",
    "%preview test.dot\n",
    "%run -v2 -d test.dot\n",
    "\n",
    "parameter: sample = 'data'\n",
    "\n",
    "[fastqc]\n",
    "input: f'{sample}.fastq'\n",
    "output: html=f'{sample}.html'\n",
    "_output.touch()\n",
    "\n",
    "[align]\n",
    "input: f'{sample}.fastq'\n",
    "output: bam=f'{sample}.bam'\n",
    "_output.touch()\n",
    "\n",
    "[bam2bai]\n",
    "input: named_output('bam')\n",
    "output: bai=f'{sample}.bai'\n",
    "_output.touch()\n",
    "\n",
    "[call]\n",
    "input: named_output('bam')\n",
    "depends: named_output('bai')\n",
    "output: vcf=f'{sample}.vcf'\n",
    "_output.touch()\n",
    "\n",
    "\n",
    "[default]\n",
    "depends: named_output('html'), named_output('vcf')\n"
   ]
  },
  {
   "cell_type": "markdown",
   "metadata": {
    "kernel": "SoS",
    "tags": []
   },
   "source": [
    "## Further reading\n",
    "* [How to use named output in data-flow style workflows](named_output.html)"
   ]
  }
 ],
 "metadata": {
  "kernelspec": {
   "display_name": "SoS",
   "language": "sos",
   "name": "sos"
  },
  "language_info": {
   "codemirror_mode": "sos",
   "file_extension": ".sos",
   "mimetype": "text/x-sos",
   "name": "sos",
   "nbconvert_exporter": "sos_notebook.converter.SoS_Exporter",
   "pygments_lexer": "sos"
  },
  "sos": {
   "kernels": [
    [
     "Bash",
     "bash",
     "Bash",
     "#E6EEFF"
    ],
    [
     "R",
     "ir",
     "R",
     "#DCDCDA"
    ],
    [
     "SoS",
     "sos",
     "",
     ""
    ]
   ],
   "panel": {
    "displayed": true,
    "height": 0
   },
   "version": "0.21.2"
  }
 },
 "nbformat": 4,
 "nbformat_minor": 4
}
