{
 "cells": [
  {
   "cell_type": "markdown",
   "metadata": {
    "kernel": "SoS",
    "papermill": {
     "duration": 0.026004,
     "end_time": "2019-12-23T17:02:04.759669",
     "exception": false,
     "start_time": "2019-12-23T17:02:04.733665",
     "status": "completed"
    },
    "tags": []
   },
   "source": [
    "# Configure remote hosts"
   ]
  },
  {
   "cell_type": "markdown",
   "metadata": {
    "kernel": "SoS",
    "papermill": {
     "duration": 0.028768,
     "end_time": "2019-12-23T17:02:04.814233",
     "exception": false,
     "start_time": "2019-12-23T17:02:04.785465",
     "status": "completed"
    },
    "tags": []
   },
   "source": [
    "* **Difficulty level**: difficult\n",
    "* **Time need to lean**: 30 minutes or more\n",
    "* **Key points**:\n",
    "  * `~/.sos/hosts.yml` is essential for the use of many features of SoS\n",
    "  * `task_template` is used for the submission of tasks to remote hosts\n",
    "  * `workflow_template` is used for the execution of workflows on remote hosts\n",
    "  * `process` (default) and `pbs` engines are supported"
   ]
  },
  {
   "cell_type": "markdown",
   "metadata": {
    "kernel": "SoS",
    "papermill": {
     "duration": 0.028063,
     "end_time": "2019-12-23T17:02:04.872817",
     "exception": false,
     "start_time": "2019-12-23T17:02:04.844754",
     "status": "completed"
    },
    "tags": []
   },
   "source": [
    "SoS uses configuration files to specify hosts and their features. Please make sure you understand the [basic syntax of SoS configuration files](config_file.html) before you continue."
   ]
  },
  {
   "cell_type": "markdown",
   "metadata": {
    "kernel": "SoS",
    "papermill": {
     "duration": 0.021919,
     "end_time": "2019-12-23T17:02:04.916939",
     "exception": false,
     "start_time": "2019-12-23T17:02:04.895020",
     "status": "completed"
    },
    "tags": []
   },
   "source": [
    "## Basic Host configuration"
   ]
  },
  {
   "cell_type": "markdown",
   "metadata": {
    "kernel": "SoS",
    "papermill": {
     "duration": 0.023353,
     "end_time": "2019-12-23T17:02:04.962958",
     "exception": false,
     "start_time": "2019-12-23T17:02:04.939605",
     "status": "completed"
    },
    "tags": []
   },
   "source": [
    "### Overall concepts"
   ]
  },
  {
   "cell_type": "markdown",
   "metadata": {
    "kernel": "SoS",
    "papermill": {
     "duration": 0.0227,
     "end_time": "2019-12-23T17:02:05.008268",
     "exception": false,
     "start_time": "2019-12-23T17:02:04.985568",
     "status": "completed"
    },
    "tags": []
   },
   "source": [
    "Instead of using a dedicated server side daemon process, **SoS executes tasks or workflows on remote host through `ssh`**. To use any remote host for the execution of SoS workflows or tasks\n",
    "\n",
    "1. Local hosts need to have `ssh` related tools such as `ssh`, `scp`, and `rsync` installed.\n",
    "2. The remote hosts need to be accessible through public-key authentication, which can be set up manually or with command `sos remote setup`.\n",
    "3. The remote hosts need to have `sos` installed and have it in their `$PATH`.\n",
    "4. Except for very simple cases, the remote hosts should be defined in SoS config files, preferrably `~/.sos/hosts.yml`, so that SoS knows how to work with them.\n",
    "\n",
    "**SoS copies tasks or workflows to remote hosts and executes them under specified remote directories**. That is to say, if local home directory is `/home/bpeng1` and remote home directory is `/Users/bpeng1`, and a workflow is submitted from `/home/bpeng1/Projects`, it will be copied and executed under directory `/Users/bpeng1/Projects` (if so configured) on the remote host. This implies that\n",
    "\n",
    "1. A complete host definition consists of definitions of a **localhost** and a **remote host** so that SoS knows how to map directories.\n",
    "2. SoS will create directories and files under specified directories on remote host.\n",
    "\n",
    "**SoS uses templates to execute tasks or workflows on remote hosts, which can be a batch system such as LSF, Slurm, and Torque**. When dealing with a batch system, SoS generates a shell script from a host-specific template with specified parameters, send it to remote host and submit it. This is why host configuration is essential for the use of batch systems."
   ]
  },
  {
   "cell_type": "markdown",
   "metadata": {
    "kernel": "SoS",
    "papermill": {
     "duration": 0.022585,
     "end_time": "2019-12-23T17:02:05.053252",
     "exception": false,
     "start_time": "2019-12-23T17:02:05.030667",
     "status": "completed"
    },
    "tags": []
   },
   "source": [
    "For your convenience, here is a summary of all possible properties of a host definition,\n",
    "\n",
    "| property |  usage |\n",
    "|-- | -- |\n",
    "| `description` | description of the host\n",
    "| `address` | hostname or IP address, `username@host` is allowed. |\n",
    "| `port` | `ssh` port, if different from 22. |\n",
    "| `hostname` | Optional hostname used to identify localhost |\n",
    "| `paths` | Paths that could be mapped between local and remote hosts |\n",
    "| `shared` | Shared file systems |\n",
    "| `queue_type` | How tasks and workflows are managed, can be `process` (default), `pbs`, or `rq` (experimental) |\n",
    "| `max_running_jobs` | max number of running jobs on the queue |\n",
    "| `workflow_template` | template for the execution of workflows |\n",
    "| `task_template` | template for the execution of tasks |\n",
    "| `VARIABLE` (any) | Variable used to interpolate other properties |\n",
    "\n",
    "Properties for PBS `queue_type`\n",
    "\n",
    "| property | usage |\n",
    "|-- | --  |\n",
    "| `submit_cmd` | (PBS only) command to submit job to PBS system |\n",
    "| `submit_cmd_output` | (PBS only)  output of `submit_cmd`, used to extract `job_id` |\n",
    "| `status_cmd` | (PBS only)  command to query job status |\n",
    "| `kill_cmd` | (PBS only) command to kill PBS job |\n",
    "\n",
    "Variables passed to `workflow_template`\n",
    "\n",
    "| variable | usage |\n",
    "| --- | --- |\n",
    "| `filename` | filename of the script to be executed |\n",
    "| `script` | content of the SoS workflow |\n",
    "| `job_name` | an unique ID derived from content of workflow |\n",
    "| `command` | command to be executed by SoS (`sos run ...`) |\n",
    "| `VARIABLE` (any) | variables passed from host definition or command line |\n",
    "\n",
    "Variable passed to `task_template`\n",
    "\n",
    "| variable | usage |\n",
    "| --- | --- |\n",
    "| `task` | task ID |\n",
    "| `nodes` | Number of nodes for a single task|\n",
    "| `cores` | Number of cores for a single task|\n",
    "| `mem` | Total RAM of a single task , passed to template in bytes |\n",
    "| `walltime` | Total execution time of a task, passed to template in the format of `HH:MM:SS` |\n",
    "| `workdir` | current project directory (mapped to remote host) |\n",
    "| `command` | command to be executed by SoS (`sos execute ...`) |\n",
    "| `VARIABLE` (any) | variables passed from host definition or command line |\n"
   ]
  },
  {
   "cell_type": "markdown",
   "metadata": {
    "kernel": "SoS",
    "papermill": {
     "duration": 0.025596,
     "end_time": "2019-12-23T17:02:05.100946",
     "exception": false,
     "start_time": "2019-12-23T17:02:05.075350",
     "status": "completed"
    },
    "tags": []
   },
   "source": [
    "### Use hostname or IP address directly"
   ]
  },
  {
   "cell_type": "markdown",
   "metadata": {
    "kernel": "SoS",
    "papermill": {
     "duration": 0.02991,
     "end_time": "2019-12-23T17:02:05.159798",
     "exception": false,
     "start_time": "2019-12-23T17:02:05.129888",
     "status": "completed"
    },
    "tags": []
   },
   "source": [
    "Although not recommended, you can use the hostname or IP address of a remote host directly if you have **set up public key access** to a host so that you do not have to enter password to login.\n",
    "\n",
    "For example, with option `-r bcbm-bpeng.mdanderson.edu`, the following example execute a shell script on remote host `bcbm-bpeng.mdanderson.edu`."
   ]
  },
  {
   "cell_type": "code",
   "execution_count": 1,
   "metadata": {
    "kernel": "SoS",
    "papermill": {
     "duration": 4.626111,
     "end_time": "2019-12-23T17:02:09.813903",
     "exception": false,
     "start_time": "2019-12-23T17:02:05.187792",
     "status": "completed"
    },
    "tags": []
   },
   "outputs": [
    {
     "name": "stdout",
     "output_type": "stream",
     "text": [
      "INFO: No matching tasks are identified. Use option -a to check all tasks.\n",
      "INFO: Running \u001b[32mdefault\u001b[0m: \n",
      "Working on /Users/bpeng1/sos/sos-docs/src/user_guide of bcbm-bpeng.mdanderson.edu\n",
      "INFO: \u001b[32mdefault\u001b[0m is \u001b[32mcompleted\u001b[0m.\n",
      "INFO: Workflow default (ID=0c287556fb76fee1) is executed successfully with 1 completed step.\n"
     ]
    }
   ],
   "source": [
    "%run -r bcbm-bpeng.mdanderson.edu\n",
    "sh:\n",
    "    echo Working on `pwd` of $HOSTNAME"
   ]
  },
  {
   "cell_type": "markdown",
   "metadata": {
    "kernel": "SoS",
    "papermill": {
     "duration": 0.029512,
     "end_time": "2019-12-23T17:02:09.873538",
     "exception": false,
     "start_time": "2019-12-23T17:02:09.844026",
     "status": "completed"
    },
    "tags": []
   },
   "source": [
    "The workflow is executed under the \"same\" directory on `bcbm-bpeng.mdanderson.edu`. If you actually check the remote host, you will find a temporary `.sos` file under that directory. However, **the example works  because the remote host has directory `/Users/bpeng1/sos/sos-docs/src/user_guide`.** The workflow would fail on, for example, a Linux system with only `/home/bpeng1`, and for which case host configurations are needed."
   ]
  },
  {
   "cell_type": "markdown",
   "metadata": {
    "kernel": "SoS",
    "papermill": {
     "duration": 0.02942,
     "end_time": "2019-12-23T17:02:09.931550",
     "exception": false,
     "start_time": "2019-12-23T17:02:09.902130",
     "status": "completed"
    },
    "tags": []
   },
   "source": [
    "### Basic host configuration"
   ]
  },
  {
   "cell_type": "markdown",
   "metadata": {
    "kernel": "SoS",
    "papermill": {
     "duration": 0.031069,
     "end_time": "2019-12-23T17:02:09.993701",
     "exception": false,
     "start_time": "2019-12-23T17:02:09.962632",
     "status": "completed"
    },
    "tags": []
   },
   "source": [
    "SoS hosts should be defined under key `hosts` of SoS configuration file, usually in `~/.sos/hosts.yml`. A basic host definition specifies an `alias`, an `address` and `hostname`, and let SoS know the `paths` that could be matched with `paths` of another host.\n",
    "\n",
    "A simple definition for `bcbm-bpeng.mdanderson.org` would be"
   ]
  },
  {
   "cell_type": "code",
   "execution_count": 2,
   "metadata": {
    "kernel": "SoS",
    "papermill": {
     "duration": 0.040192,
     "end_time": "2019-12-23T17:02:10.062717",
     "exception": false,
     "start_time": "2019-12-23T17:02:10.022525",
     "status": "completed"
    },
    "tags": []
   },
   "outputs": [
    {
     "data": {
      "text/html": [
       "<div class=\"sos_hint\">Cell content saved to <a href=\"my_config.yml\" target=\"_blank\">my_config.yml</a>, use option -r to also execute the cell.</div>"
      ],
      "text/plain": [
       "Cell content saved to my_config.yml, use option -r to also execute the cell.\n"
      ]
     },
     "metadata": {},
     "output_type": "display_data"
    }
   ],
   "source": [
    "%save my_config.yml -f\n",
    "\n",
    "hosts:\n",
    "  bcbm:\n",
    "    address: bcbm-bpeng.mdanderson.edu        "
   ]
  },
  {
   "cell_type": "markdown",
   "metadata": {
    "kernel": "SoS",
    "papermill": {
     "duration": 0.032947,
     "end_time": "2019-12-23T17:02:10.124999",
     "exception": false,
     "start_time": "2019-12-23T17:02:10.092052",
     "status": "completed"
    },
    "tags": []
   },
   "source": [
    "With this definition, you can use `bcbm` as an alias to `bcbm-bpeng.mdanderson.edu` as follows"
   ]
  },
  {
   "cell_type": "code",
   "execution_count": 3,
   "metadata": {
    "kernel": "SoS",
    "papermill": {
     "duration": 3.418954,
     "end_time": "2019-12-23T17:02:13.573576",
     "exception": false,
     "start_time": "2019-12-23T17:02:10.154622",
     "status": "completed"
    },
    "tags": []
   },
   "outputs": [
    {
     "name": "stdout",
     "output_type": "stream",
     "text": [
      "INFO: No matching tasks are identified. Use option -a to check all tasks.\n",
      "INFO: Running \u001b[32mdefault\u001b[0m: \n",
      "Working on /Users/bpeng1/sos/sos-docs/src/user_guide of bcbm-bpeng.mdanderson.edu\n",
      "INFO: \u001b[32mdefault\u001b[0m is \u001b[32mcompleted\u001b[0m.\n",
      "INFO: Workflow default (ID=0c287556fb76fee1) is executed successfully with 1 completed step.\n"
     ]
    }
   ],
   "source": [
    "%run -r bcbm -c my_config.yml\n",
    "sh:\n",
    "    echo Working on `pwd` of $HOSTNAME"
   ]
  },
  {
   "cell_type": "markdown",
   "metadata": {
    "kernel": "SoS",
    "papermill": {
     "duration": 0.036348,
     "end_time": "2019-12-23T17:02:13.645748",
     "exception": false,
     "start_time": "2019-12-23T17:02:13.609400",
     "status": "completed"
    },
    "tags": []
   },
   "source": [
    "Again, the workflow works because the remote host has the same volumes as the local host. To properly set up a remote host, we need to define `paths` on local and remote hosts, so that we know how to map current working directory. \n",
    "\n",
    "The following configuration file defines two hosts, one `mac_pro` and one `bcbm`, and defines `localhost` to be `mac_pro`. The `localhost` key tells SoS which host is the host that you are working on, it could be ignored if localhost could be identified by `hostname` or `address` of a host, but I have to specify it explicitly because `mac_pro` does not have a fixed hostname or IP address.\n",
    "\n",
    "One of more paths could be defined under `paths` for each host, and SoS will try to map paths between local and remote hosts. For example, since we specify `home` of `bcbm-bpeng` to be `/Users/bpeng1/scratch`, a local directory `/Users/bpeng1/sos/sos-docs/src/user_guide` would be mapped to `/Users/bpeng1/scratch/sos/sos-docs/src/user_guide` on `bcbm`. "
   ]
  },
  {
   "cell_type": "code",
   "execution_count": 4,
   "metadata": {
    "kernel": "SoS",
    "papermill": {
     "duration": 0.046534,
     "end_time": "2019-12-23T17:02:13.728706",
     "exception": false,
     "start_time": "2019-12-23T17:02:13.682172",
     "status": "completed"
    },
    "tags": []
   },
   "outputs": [
    {
     "data": {
      "text/html": [
       "<div class=\"sos_hint\">Cell content saved to <a href=\"my_config.yml\" target=\"_blank\">my_config.yml</a>, use option -r to also execute the cell.</div>"
      ],
      "text/plain": [
       "Cell content saved to my_config.yml, use option -r to also execute the cell.\n"
      ]
     },
     "metadata": {},
     "output_type": "display_data"
    }
   ],
   "source": [
    "%save my_config.yml -f\n",
    "\n",
    "localhost: mac_pro\n",
    "hosts:\n",
    "  mac_pro:\n",
    "    address: localhost\n",
    "    paths:\n",
    "      home: /Users/bpeng1\n",
    "  bcbm:\n",
    "    address: bcbm-bpeng.mdanderson.edu   \n",
    "    paths:\n",
    "      home: /Users/bpeng1/scratch"
   ]
  },
  {
   "cell_type": "markdown",
   "metadata": {
    "kernel": "SoS",
    "papermill": {
     "duration": 0.036743,
     "end_time": "2019-12-23T17:02:13.802609",
     "exception": false,
     "start_time": "2019-12-23T17:02:13.765866",
     "status": "completed"
    },
    "tags": []
   },
   "source": [
    "Now, when we execute the workflow on remote host, the workflow would be actually executed under `/Users/bpeng1/scratch/sos/sos-docs/src/user_guide`. It is a common technique to use a dedicated directory on remote host for SoS workflows to avoid overwriting useful files under `/Users/bpeng1`. "
   ]
  },
  {
   "cell_type": "code",
   "execution_count": 5,
   "metadata": {
    "kernel": "SoS",
    "papermill": {
     "duration": 3.60303,
     "end_time": "2019-12-23T17:02:17.442740",
     "exception": false,
     "start_time": "2019-12-23T17:02:13.839710",
     "status": "completed"
    },
    "tags": []
   },
   "outputs": [
    {
     "name": "stdout",
     "output_type": "stream",
     "text": [
      "INFO: No matching tasks are identified. Use option -a to check all tasks.\n",
      "INFO: Running \u001b[32mdefault\u001b[0m: \n",
      "Working on /Users/bpeng1/scratch/sos/sos-docs/src/user_guide of bcbm-bpeng.mdanderson.edu\n",
      "INFO: \u001b[32mdefault\u001b[0m is \u001b[32mcompleted\u001b[0m.\n",
      "INFO: Workflow default (ID=0c287556fb76fee1) is executed successfully with 1 completed step.\n"
     ]
    }
   ],
   "source": [
    "%run -r bcbm -c my_config.yml\n",
    "sh:\n",
    "    echo Working on `pwd` of $HOSTNAME"
   ]
  },
  {
   "cell_type": "markdown",
   "metadata": {
    "kernel": "SoS",
    "output_cache": "[]",
    "papermill": {
     "duration": 0.047868,
     "end_time": "2019-12-23T17:02:17.536464",
     "exception": false,
     "start_time": "2019-12-23T17:02:17.488596",
     "status": "completed"
    },
    "tags": []
   },
   "source": [
    "Option `paths` species common directories on different file systems. If local and remote hosts share certain file system, you can list them under `shared` so that SoS will not attempt to copy files. For example, if two disk volumes are mounted on both `worker` and `server` under different directories, you can list them as\n",
    "\n",
    "```\n",
    "hosts:\n",
    "    worker:\n",
    "        shared:\n",
    "            scratch: /mnt/scratch\n",
    "            data: /mnt/data\n",
    "    server:\n",
    "        shared:\n",
    "            scratch: /scratch/\n",
    "            data: /shared/data\n",
    "````\n",
    "\n",
    "In this way, if you are working under a directory `/mnt/scratch/project`, SoS knows that the workflow would be available under `/scratch/project` on `server` and execute it directory there without copying the workflow from `worker` to `server`.\n"
   ]
  },
  {
   "cell_type": "markdown",
   "metadata": {
    "kernel": "SoS",
    "papermill": {
     "duration": 0.049628,
     "end_time": "2019-12-23T17:02:17.631044",
     "exception": false,
     "start_time": "2019-12-23T17:02:17.581416",
     "status": "completed"
    },
    "tags": []
   },
   "source": [
    "## Process queue"
   ]
  },
  {
   "cell_type": "markdown",
   "metadata": {
    "kernel": "SoS",
    "papermill": {
     "duration": 0.050691,
     "end_time": "2019-12-23T17:02:17.730297",
     "exception": false,
     "start_time": "2019-12-23T17:02:17.679606",
     "status": "completed"
    },
    "tags": []
   },
   "source": [
    "Each host has a **queue** that specifies how tasks and workflows are executed. The default `queue_type` is `process`, meaning that the task or workflow would be executed directly, subject to `max_running_jobs`, which is default to `10` for `process` queue."
   ]
  },
  {
   "cell_type": "markdown",
   "metadata": {
    "kernel": "SoS",
    "papermill": {
     "duration": 0.048239,
     "end_time": "2019-12-23T17:02:17.827500",
     "exception": false,
     "start_time": "2019-12-23T17:02:17.779261",
     "status": "completed"
    },
    "tags": []
   },
   "source": [
    "## PBS queue"
   ]
  },
  {
   "cell_type": "markdown",
   "metadata": {
    "kernel": "SoS",
    "output_cache": "[]",
    "papermill": {
     "duration": 0.054574,
     "end_time": "2019-12-23T17:02:17.930992",
     "exception": false,
     "start_time": "2019-12-23T17:02:17.876418",
     "status": "completed"
    },
    "tags": []
   },
   "source": [
    "For a PBS system such as LSF and Slurm, SoS creates a shell script from a `workflow_template` or `task_template`, submit it to the PBS system, and monitor its process."
   ]
  },
  {
   "cell_type": "markdown",
   "metadata": {
    "kernel": "SoS",
    "output_cache": "[]",
    "papermill": {
     "duration": 0.049624,
     "end_time": "2019-12-23T17:02:18.028998",
     "exception": false,
     "start_time": "2019-12-23T17:02:17.979374",
     "status": "completed"
    },
    "tags": []
   },
   "source": [
    "The first property `submit_cmd` is the command that will be executed to submit the job. It accepts all variables for `task_template`, and an variable `job_file` that points to the location of the job file on the remote host. The `submit_cmd` is usually as simple as\n",
    "\n",
    "```bash\n",
    "qsub {job_file}\n",
    "```\n",
    "\n",
    "but could contain other variables such as `walltime`\n",
    "\n",
    "```bash\n",
    "msub -l {walltime} < {job_file}\n",
    "```"
   ]
  },
  {
   "cell_type": "markdown",
   "metadata": {
    "kernel": "SoS",
    "output_cache": "[]",
    "papermill": {
     "duration": 0.060312,
     "end_time": "2019-12-23T17:02:18.137811",
     "exception": false,
     "start_time": "2019-12-23T17:02:18.077499",
     "status": "completed"
    },
    "tags": []
   },
   "source": [
    "After the task is submitted, SoS tries to capture a `job_id` from the output of the `submit_cmd`. The output differs from system to system so `submit_cmd_output` could be as simple as \n",
    "\n",
    "```\n",
    "submit_cmd_output='{job_id}'\n",
    "```\n",
    "\n",
    "or something like\n",
    "```\n",
    "submit_cmd_output='Job <{job_id}> is submitted to queue <{queue}>'\n",
    "```"
   ]
  },
  {
   "cell_type": "markdown",
   "metadata": {
    "kernel": "SoS",
    "output_cache": "[]",
    "papermill": {
     "duration": 0.054992,
     "end_time": "2019-12-23T17:02:18.241316",
     "exception": false,
     "start_time": "2019-12-23T17:02:18.186324",
     "status": "completed"
    },
    "tags": []
   },
   "source": [
    "Although currently unused, `status_cmd` and `kill_cmd` should be commands to queue the status of or kill the PBS job with `job_id`. For example, for a basic torque system, these properties could be\n",
    "\n",
    "```\n",
    "status_cmd: qstat {job_id}\n",
    "kill_cmd: qdel {job_id}\n",
    "```"
   ]
  },
  {
   "cell_type": "markdown",
   "metadata": {
    "kernel": "SoS",
    "papermill": {
     "duration": 0.070133,
     "end_time": "2019-12-23T17:02:18.365186",
     "exception": false,
     "start_time": "2019-12-23T17:02:18.295053",
     "status": "completed"
    },
    "tags": []
   },
   "source": [
    "## `task_template`"
   ]
  },
  {
   "cell_type": "markdown",
   "metadata": {
    "kernel": "SoS",
    "papermill": {
     "duration": 0.061769,
     "end_time": "2019-12-23T17:02:18.499628",
     "exception": false,
     "start_time": "2019-12-23T17:02:18.437859",
     "status": "completed"
    },
    "tags": []
   },
   "source": [
    "Variable passed to `task_template`\n",
    "\n",
    "| variable | usage |\n",
    "| --- | --- |\n",
    "| `task` | task ID |\n",
    "| `nodes` | Number of nodes for a single task|\n",
    "| `cores` | Number of cores for a single task|\n",
    "| `mem` | Total RAM of a single task , passed to template in bytes |\n",
    "| `walltime` | Total execution time of a task, passed to template in the format of `HH:MM:SS` |\n",
    "| `workdir` | current project directory (mapped to remote host) |\n",
    "| `command` | command to be executed by SoS (`sos execute ...`) |\n",
    "| `VARIABLE` (any) | variables passed from host definition or command line |\n",
    "\n",
    "Variables `mem`, `walltime` etc are defined from task options\n",
    "\n",
    "```\n",
    "task: walltime='2h'\n",
    "```\n",
    "or from command line\n",
    "```\n",
    "%sos run -q cluster walltime=2h\n",
    "```\n",
    "\n",
    "to specify the resources needed for one task. **The input values will be adjusted if multiple tasks are grouped together** (with options `trunk_size` and `trunk_workers`). SoS recognizes the units of the input and convert it to stanard `HH:MM:SS` format before passing to the template. \n",
    "\n",
    "**SoS task executor treats `~/.sos/tasks/{task}.out` and `~/.sos/tasks/{task}.err` as the `stdout` and `stderr` of the PBS system** and dependes on these files to report errors from PBS system. It is therefore required to specify these two files as the standard output and error output of the cluster job."
   ]
  },
  {
   "cell_type": "markdown",
   "metadata": {
    "kernel": "SoS",
    "output_cache": "[]",
    "papermill": {
     "duration": 0.074649,
     "end_time": "2019-12-23T17:02:18.649905",
     "exception": false,
     "start_time": "2019-12-23T17:02:18.575256",
     "status": "completed"
    },
    "tags": []
   },
   "source": [
    "### Sample `task_template` for PBS/Torque systems"
   ]
  },
  {
   "cell_type": "markdown",
   "metadata": {
    "kernel": "SoS",
    "papermill": {
     "duration": 0.061518,
     "end_time": "2019-12-23T17:02:18.782556",
     "exception": false,
     "start_time": "2019-12-23T17:02:18.721038",
     "status": "completed"
    },
    "tags": []
   },
   "source": [
    "```yaml\n",
    "    cluster:\n",
    "        address: host.url\n",
    "        description: cluster with PBS\n",
    "        paths:\n",
    "            home: /scratch/{user_name}\n",
    "        queue_type: pbs\n",
    "        status_check_interval: 30\n",
    "        wait_for_task: false\n",
    "        job_template: |\n",
    "            #!/bin/bash\n",
    "            #PBS -N {task}\n",
    "            #PBS -l nodes={nodes}:ppn={ppn}\n",
    "            #PBS -l walltime={walltime}\n",
    "            #PBS -l mem={mem//10**9}GB\n",
    "            #PBS -o /home/{user_name}/.sos/tasks/{task}.out\n",
    "            #PBS -e /home/{user_name}/.sos/tasks/{task}.err\n",
    "            #PBS -m ae\n",
    "            #PBS -M email@address\n",
    "            #PBS -v {workdir}\n",
    "            {command}\n",
    "        max_running_jobs: 100\n",
    "        submit_cmd: qsub {job_file}\n",
    "        status_cmd: qstat {job_id}\n",
    "        kill_cmd: qdel {job_id}\n",
    "```"
   ]
  },
  {
   "cell_type": "markdown",
   "metadata": {
    "kernel": "SoS",
    "papermill": {
     "duration": 0.077218,
     "end_time": "2019-12-23T17:02:18.927453",
     "exception": false,
     "start_time": "2019-12-23T17:02:18.850235",
     "status": "completed"
    },
    "tags": []
   },
   "source": [
    "### Sample `task_template` for MOAB configuration"
   ]
  },
  {
   "cell_type": "markdown",
   "metadata": {
    "kernel": "SoS",
    "papermill": {
     "duration": 0.057055,
     "end_time": "2019-12-23T17:02:19.052847",
     "exception": false,
     "start_time": "2019-12-23T17:02:18.995792",
     "status": "completed"
    },
    "tags": []
   },
   "source": [
    "```yaml\n",
    "    cluster:\n",
    "        address: host.url\n",
    "        description: cluster with MOAB\n",
    "        paths:\n",
    "            home: /scratch/{user_name}\n",
    "        queue_type: pbs\n",
    "        status_check_interval: 30\n",
    "        wait_for_task: false\n",
    "        job_template: |\n",
    "            #!/bin/bash\n",
    "            #PBS -N {task}\n",
    "            #PBS -l nodes={nodes}:ppn={ppn}\n",
    "            #PBS -l walltime={walltime}\n",
    "            #PBS -l mem={mem//10**9}GB\n",
    "            #PBS -o /home/{user_name}/.sos/tasks/{task}.out\n",
    "            #PBS -e /home/{user_name}/.sos/tasks/{task}.err\n",
    "            #PBS -m ae\n",
    "            #PBS -M email@address\n",
    "            #PBS -v {workdir}\n",
    "            {command}\n",
    "        max_running_jobs: 100\n",
    "        submit_cmd: msub {job_file}\n",
    "        status_cmd: qstat {job_id}\n",
    "        kill_cmd: qdel {job_id}\n",
    "```"
   ]
  },
  {
   "cell_type": "markdown",
   "metadata": {
    "kernel": "SoS",
    "papermill": {
     "duration": 0.051732,
     "end_time": "2019-12-23T17:02:19.158740",
     "exception": false,
     "start_time": "2019-12-23T17:02:19.107008",
     "status": "completed"
    },
    "tags": []
   },
   "source": [
    "### Sample `task_template` for SLURM systems"
   ]
  },
  {
   "cell_type": "markdown",
   "metadata": {
    "kernel": "SoS",
    "papermill": {
     "duration": 0.076355,
     "end_time": "2019-12-23T17:02:19.297923",
     "exception": false,
     "start_time": "2019-12-23T17:02:19.221568",
     "status": "completed"
    },
    "tags": []
   },
   "source": [
    "```yaml\n",
    "slurm:\n",
    "    description: cluster with SLURM\n",
    "    address: host.url\n",
    "    paths:\n",
    "      home: /home/{user_name}\n",
    "    queue_type: pbs\n",
    "    status_check_interval: 120\n",
    "    max_running_jobs: 15\n",
    "    max_cores: 28 \n",
    "    max_walltime: \"36:00:00\"\n",
    "    max_mem: 256G\n",
    "    job_template: |\n",
    "      #!/bin/bash\n",
    "      #SBATCH --time={walltime}\n",
    "      #SBATCH --partition=mstephens\n",
    "      #SBATCH --account=pi-mstephens\n",
    "      #SBATCH --nodes=1\n",
    "      #SBATCH --ntasks-per-node={cores}\n",
    "      #SBATCH --mem-per-cpu={mem_per_cpu}\n",
    "      #SBATCH --job-name={task}\n",
    "      #SBATCH --output=/home/{user_name}/.sos/tasks/{task}.out\n",
    "      #SBATCH --error=/home/{user_name}/.sos/tasks/{task}.err\n",
    "      cd {workdir}\n",
    "      {command}\n",
    "    walltime: \"06:00:00\"\n",
    "    cores: 20\n",
    "    mem_per_cpu: 1000\n",
    "    submit_cmd: sbatch {job_file}\n",
    "    submit_cmd_output: \"Submitted batch job {job_id}\"\n",
    "    status_cmd: squeue --job {job_id}\n",
    "    kill_cmd: scancel {job_id}\n",
    "```"
   ]
  },
  {
   "cell_type": "markdown",
   "metadata": {
    "kernel": "SoS",
    "papermill": {
     "duration": 0.052827,
     "end_time": "2019-12-23T17:02:19.411615",
     "exception": false,
     "start_time": "2019-12-23T17:02:19.358788",
     "status": "completed"
    },
    "tags": []
   },
   "source": [
    "### Sample `task_template` for LFS systems"
   ]
  },
  {
   "cell_type": "markdown",
   "metadata": {
    "kernel": "SoS",
    "papermill": {
     "duration": 0.07245,
     "end_time": "2019-12-23T17:02:19.538514",
     "exception": false,
     "start_time": "2019-12-23T17:02:19.466064",
     "status": "completed"
    },
    "tags": []
   },
   "source": [
    "```yaml\n",
    "    lfs:\n",
    "        address: host.url\n",
    "        description: cluster with LSF\n",
    "        paths:\n",
    "            home: /rsrch2/bcb/{user_name}            \n",
    "        queue_type: pbs\n",
    "        status_check_interval: 30\n",
    "        wait_for_task: false\n",
    "        job_template: |\n",
    "            #!/bin/bash\n",
    "            #BSUB -J {task}\n",
    "            #BSUB -q {'short' if int(walltime.split(':')[0]) < 24 else 'long'}\n",
    "            #BSUB -n {cores}\n",
    "            #BSUB -M {mem//10**9}G\n",
    "            #BSUB -W 1:0\n",
    "            #BSUB -o /home/{user_name}/.sos/tasks/{task}.out\n",
    "            #BSUB -e /home/{user_name}/.sos/tasks/{task}.err\n",
    "            #BSUB -N\n",
    "            #BSUB -u email@address\n",
    "            cd {workdir}\n",
    "            {command}\n",
    "        max_running_jobs: 100\n",
    "        submit_cmd: bsub < {job_file}\n",
    "        submit_cmd_output: 'Job <{job_id}> is submitted to queue <{queue}>'\n",
    "        status_cmd: bjobs {job_id}\n",
    "        kill_cmd: bkill {job_id}\n",
    "```"
   ]
  },
  {
   "cell_type": "markdown",
   "metadata": {
    "kernel": "SoS",
    "papermill": {
     "duration": 0.063767,
     "end_time": "2019-12-23T17:02:19.662916",
     "exception": false,
     "start_time": "2019-12-23T17:02:19.599149",
     "status": "completed"
    },
    "tags": []
   },
   "source": [
    "### Sample `task_template` for task spooler"
   ]
  },
  {
   "cell_type": "markdown",
   "metadata": {
    "kernel": "SoS",
    "papermill": {
     "duration": 0.063097,
     "end_time": "2019-12-23T17:02:19.776523",
     "exception": false,
     "start_time": "2019-12-23T17:02:19.713426",
     "status": "completed"
    },
    "tags": []
   },
   "source": [
    "[Task Spooler](http://vicerveza.homeunix.net/~viric/soft/ts/) is a light-weight task spooler for single machines.\n",
    "\n",
    "```yaml\n",
    "    taskspooler:\n",
    "        description: task spooler on a single machine\n",
    "        address: {user_name}@host.url\n",
    "        port: 32771\n",
    "        paths:\n",
    "            home: /home/{user_name}\n",
    "        queue_type: pbs\n",
    "        status_check_interval: 5\n",
    "        task_template: |\n",
    "            #!/bin/bash\n",
    "            cd {workdir}\n",
    "            {command}\n",
    "        max_running_jobs: 100\n",
    "        submit_cmd: tsp -L {task} sh {job_file}\n",
    "        status_cmd: tsp -s {job_id}\n",
    "        kill_cmd: tsp -r {job_id}\n",
    "```"
   ]
  },
  {
   "cell_type": "markdown",
   "metadata": {
    "kernel": "SoS",
    "papermill": {
     "duration": 0.056908,
     "end_time": "2019-12-23T17:02:19.891010",
     "exception": false,
     "start_time": "2019-12-23T17:02:19.834102",
     "status": "completed"
    },
    "tags": [],
    "toc-hr-collapsed": false
   },
   "source": [
    "## `workflow_template`"
   ]
  },
  {
   "cell_type": "markdown",
   "metadata": {
    "kernel": "SoS",
    "papermill": {
     "duration": 0.05907,
     "end_time": "2019-12-23T17:02:19.999148",
     "exception": false,
     "start_time": "2019-12-23T17:02:19.940078",
     "status": "completed"
    },
    "tags": []
   },
   "source": [
    "`workflow_template` defines how to execute a workflow on the host. \n",
    "\n",
    "| variable | usage |\n",
    "| --- | --- |\n",
    "| `filename` | filename of the script to be executed |\n",
    "| `script` | content of the SoS workflow |\n",
    "| `job_name` | an unique ID derived from content of workflow |\n",
    "| `command` | command to be executed by SoS (`sos run ...`) |\n",
    "| `VARIABLE` (any) | variables passed from host definition or command line |\n",
    "\n",
    "A `workflow_template` can be very similar or identical to `task_template`. However, in contrast to `task_template` where `walltime`, `mem` etc are converted and adjusted by SoS, these variables have to be fixed in the template or passed in string format to `workflow_template`, because variables for `workflow_template` can only be passed from command line such as\n",
    "\n",
    "```\n",
    "%run workflow -r host walltime=01:00:00\n",
    "```\n"
   ]
  },
  {
   "cell_type": "markdown",
   "metadata": {
    "kernel": "SoS",
    "papermill": {
     "duration": 0.047954,
     "end_time": "2019-12-23T17:02:20.118881",
     "exception": false,
     "start_time": "2019-12-23T17:02:20.070927",
     "status": "completed"
    },
    "tags": []
   },
   "source": [
    "Template parameters can be used to increase the flexibility of templates. For example, you can specify the use of certain version of R for the execution of workflows using the following template\n",
    "\n",
    "```yaml\n",
    "hpc_server:\n",
    "    address: ....\n",
    "    paths: ...\n",
    "hosts:\n",
    "    hpc:\n",
    "        based_on: hpc_server\n",
    "        R_version: 3.3.1\n",
    "        workflow_template: |\n",
    "            module load R/{R_version}\n",
    "            {command}\n",
    "```\n",
    "\n",
    "and execute your workflow as follows:\n",
    "\n",
    "```sh\n",
    "sos run script -r hpc R_version=3.4.4\n",
    "```"
   ]
  },
  {
   "cell_type": "markdown",
   "metadata": {
    "kernel": "SoS",
    "papermill": {
     "duration": 0.048455,
     "end_time": "2019-12-23T17:02:20.225420",
     "exception": false,
     "start_time": "2019-12-23T17:02:20.176965",
     "status": "completed"
    },
    "tags": []
   },
   "source": [
    "This method works but it requires you to specify the version of R each time, which can be hard to remember. You could make it easier by setting a default version as follows:\n",
    "\n",
    "```yaml\n",
    "hosts:\n",
    "    hpc:\n",
    "        based_on: hpc_server\n",
    "        R_version: 3.4.4\n",
    "        workflow_template: |\n",
    "            module load R/{R_version}\n",
    "            {command}\n",
    "```\n",
    "In this way, variable `R_version` will be used for `workflow_template`, but will be overriden by `R_version` specified from command line.\n",
    "\n",
    "If you would like to specify different versions in the template, you can define multiple hosts as follows:\n",
    "\n",
    "```yaml\n",
    "hosts:\n",
    "    hpc_r3.4.4:\n",
    "        based_on: hpc_server\n",
    "        R_version: 3.4.4\n",
    "        workflow_template: |\n",
    "            module load R/{R_version}\n",
    "            {command}\n",
    "    hpc_r3.6.0:\n",
    "        based_on: hosts.hpc_r3.4.4:\n",
    "        R_version: 3.6.0\n",
    "    hpc_sklearn:\n",
    "        based_on: hosts.hpc_r3.6.0\n",
    "        workflow_template: |\n",
    "            module load R/{R_version}\n",
    "            module load sklearn\n",
    "            {command}\n",
    "```\n",
    "\n",
    "and use these environments with commands\n",
    "\n",
    "\n",
    "```bash\n",
    "sos run script -r hpc_r3.6.0\n",
    "```\n",
    "\n",
    "These templates make use of the facts that\n",
    "1. `based_on` copies specified entry\n",
    "2. New definitions overrides contens from `based_on` items\n",
    "3. Templates are expanded from variables defined in the same dictionary (e.g. `R_version`)"
   ]
  },
  {
   "cell_type": "markdown",
   "metadata": {
    "kernel": "SoS",
    "papermill": {
     "duration": 0.060576,
     "end_time": "2019-12-23T17:02:20.344466",
     "exception": false,
     "start_time": "2019-12-23T17:02:20.283890",
     "status": "completed"
    },
    "tags": []
   },
   "source": [
    "## Further reading\n",
    "\n",
    "* [Remote execution](remote_execution.html)"
   ]
  }
 ],
 "metadata": {
  "kernelspec": {
   "display_name": "SoS",
   "language": "sos",
   "name": "sos"
  },
  "language_info": {
   "codemirror_mode": "sos",
   "file_extension": ".sos",
   "mimetype": "text/x-sos",
   "name": "sos",
   "nbconvert_exporter": "sos_notebook.converter.SoS_Exporter",
   "pygments_lexer": "sos"
  },
  "papermill": {
   "duration": 23.539953,
   "end_time": "2019-12-23T17:02:25.591919",
   "environment_variables": {},
   "exception": null,
   "input_path": "/Users/bpeng1/sos/sos-docs/src/user_guide/host_setup.ipynb",
   "output_path": "host_setup.ipynb_rerun.ipynb",
   "parameters": {},
   "start_time": "2019-12-23T17:02:02.051966",
   "version": "1.1.0"
  },
  "sos": {
   "kernels": [
    [
     "Bash",
     "bash",
     "Bash",
     "#E6EEFF"
    ],
    [
     "R",
     "ir",
     "R",
     "#DCDCDA"
    ],
    [
     "SoS",
     "sos",
     "",
     ""
    ]
   ],
   "panel": {
    "displayed": true,
    "height": 0
   },
   "version": "0.21.2"
  }
 },
 "nbformat": 4,
 "nbformat_minor": 4
}
