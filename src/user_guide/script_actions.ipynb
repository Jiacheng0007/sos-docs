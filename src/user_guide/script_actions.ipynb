{
 "cells": [
  {
   "cell_type": "markdown",
   "metadata": {
    "kernel": "SoS",
    "papermill": {
     "duration": 0.020341,
     "end_time": "2019-12-23T17:05:05.363396",
     "exception": false,
     "start_time": "2019-12-23T17:05:05.343055",
     "status": "completed"
    },
    "tags": []
   },
   "source": [
    "# How to execute Python, R, Julia, and scripts in other languages"
   ]
  },
  {
   "cell_type": "markdown",
   "metadata": {
    "kernel": "SoS",
    "papermill": {
     "duration": 0.022737,
     "end_time": "2019-12-23T17:05:05.412717",
     "exception": false,
     "start_time": "2019-12-23T17:05:05.389980",
     "status": "completed"
    },
    "tags": []
   },
   "source": [
    "* **Difficulty level**: easy\n",
    "* **Time need to lean**: 10 minutes or less\n",
    "  * Action `script` is a general script execution action\n",
    "  * Actions such as `Python2`, `Python3`, `Perl` executes scripts with specified interpreters\n",
    "  "
   ]
  },
  {
   "cell_type": "markdown",
   "metadata": {
    "kernel": "SoS",
    "papermill": {
     "duration": 0.022402,
     "end_time": "2019-12-23T17:05:05.456701",
     "exception": false,
     "start_time": "2019-12-23T17:05:05.434299",
     "status": "completed"
    },
    "tags": []
   },
   "source": [
    "## Action `script`"
   ]
  },
  {
   "cell_type": "markdown",
   "metadata": {
    "kernel": "SoS",
    "papermill": {
     "duration": 0.018005,
     "end_time": "2019-12-23T17:05:05.491183",
     "exception": false,
     "start_time": "2019-12-23T17:05:05.473178",
     "status": "completed"
    },
    "tags": []
   },
   "source": [
    "Action `script` is the general form of all script-executing actions in SoS. It accepts a script, and parameters `interpreter` (required), `suffix` (if required by the interpreter) and optional `args` (command line arguments). It can be used to execute any script for which its interpreter is not currently supported by SoS. For example, the action\n",
    "\n",
    "```\n",
    "python:\n",
    "    print('HERE')\n",
    "```\n",
    "\n",
    "can be executed as"
   ]
  },
  {
   "cell_type": "code",
   "execution_count": 1,
   "metadata": {
    "kernel": "SoS",
    "papermill": {
     "duration": 1.193292,
     "end_time": "2019-12-23T17:05:06.702520",
     "exception": false,
     "start_time": "2019-12-23T17:05:05.509228",
     "status": "completed"
    },
    "tags": []
   },
   "outputs": [
    {
     "name": "stdout",
     "output_type": "stream",
     "text": [
      "HERE\n"
     ]
    }
   ],
   "source": [
    "script: interpreter='python'\n",
    "    print('HERE')"
   ]
  },
  {
   "cell_type": "markdown",
   "metadata": {
    "kernel": "SoS",
    "papermill": {
     "duration": 0.016181,
     "end_time": "2019-12-23T17:05:06.737104",
     "exception": false,
     "start_time": "2019-12-23T17:05:06.720923",
     "status": "completed"
    },
    "tags": []
   },
   "source": [
    "## Action  `perl`"
   ]
  },
  {
   "cell_type": "markdown",
   "metadata": {
    "kernel": "SoS",
    "papermill": {
     "duration": 0.016538,
     "end_time": "2019-12-23T17:05:06.770275",
     "exception": false,
     "start_time": "2019-12-23T17:05:06.753737",
     "status": "completed"
    },
    "tags": []
   },
   "source": [
    "Action `perl` executes the passed script using `perl` interpreter."
   ]
  },
  {
   "cell_type": "code",
   "execution_count": 2,
   "metadata": {
    "kernel": "SoS",
    "papermill": {
     "duration": 0.872215,
     "end_time": "2019-12-23T17:05:07.659477",
     "exception": false,
     "start_time": "2019-12-23T17:05:06.787262",
     "status": "completed"
    },
    "tags": []
   },
   "outputs": [
    {
     "name": "stdout",
     "output_type": "stream",
     "text": [
      "Hello, Brian!\n"
     ]
    }
   ],
   "source": [
    "perl:\n",
    "    my $name = \"Brian\";\n",
    "    print \"Hello, $name!\\n\";"
   ]
  },
  {
   "cell_type": "markdown",
   "metadata": {
    "kernel": "SoS",
    "papermill": {
     "duration": 0.01963,
     "end_time": "2019-12-23T17:05:07.709321",
     "exception": false,
     "start_time": "2019-12-23T17:05:07.689691",
     "status": "completed"
    },
    "tags": []
   },
   "source": [
    "## Action  `ruby`"
   ]
  },
  {
   "cell_type": "markdown",
   "metadata": {
    "kernel": "SoS",
    "papermill": {
     "duration": 0.017158,
     "end_time": "2019-12-23T17:05:07.743117",
     "exception": false,
     "start_time": "2019-12-23T17:05:07.725959",
     "status": "completed"
    },
    "tags": []
   },
   "source": [
    "Action `ruby` execute the passed script using `ruby` interpreter."
   ]
  },
  {
   "cell_type": "code",
   "execution_count": 3,
   "metadata": {
    "kernel": "SoS",
    "papermill": {
     "duration": 1.019498,
     "end_time": "2019-12-23T17:05:08.779422",
     "exception": false,
     "start_time": "2019-12-23T17:05:07.759924",
     "status": "completed"
    },
    "tags": []
   },
   "outputs": [
    {
     "name": "stdout",
     "output_type": "stream",
     "text": [
      "/System/Library/Frameworks/Ruby.framework/Versions/2.3/usr/lib/ruby/2.3.0/universal-darwin18/rbconfig.rb:215: warning: Insecure world writable dir /Applications/FastQC.app/Contents/MacOS in PATH, mode 040777\n"
     ]
    },
    {
     "name": "stdout",
     "output_type": "stream",
     "text": [
      "45 3 19 8 sam max 56 98.9 3 10 jill\n"
     ]
    },
    {
     "name": "stdout",
     "output_type": "stream",
     "text": [
      "19 3 10\n"
     ]
    },
    {
     "name": "stdout",
     "output_type": "stream",
     "text": [
      "3 8 19 45\n"
     ]
    },
    {
     "name": "stdout",
     "output_type": "stream",
     "text": [
      "A: 45 3 19 8 57 9 phil\n"
     ]
    }
   ],
   "source": [
    "ruby:\n",
    "    a = [ 45, 3, 19, 8 ]\n",
    "    b = [ 'sam', 'max', 56, 98.9, 3, 10, 'jill' ]\n",
    "    print (a + b).join(' '), \"\\n\"\n",
    "    print a[2], \" \", b[4], \" \", b[-2], \"\\n\"\n",
    "    print a.sort.join(' '), \"\\n\"\n",
    "    a << 57 << 9 << 'phil'\n",
    "    print \"A: \", a.join(' '), \"\\n\""
   ]
  },
  {
   "cell_type": "markdown",
   "metadata": {
    "kernel": "SoS",
    "papermill": {
     "duration": 0.018669,
     "end_time": "2019-12-23T17:05:08.818070",
     "exception": false,
     "start_time": "2019-12-23T17:05:08.799401",
     "status": "completed"
    },
    "tags": []
   },
   "source": [
    "##  Action  `node`"
   ]
  },
  {
   "cell_type": "markdown",
   "metadata": {
    "kernel": "SoS",
    "papermill": {
     "duration": 0.020254,
     "end_time": "2019-12-23T17:05:08.857168",
     "exception": false,
     "start_time": "2019-12-23T17:05:08.836914",
     "status": "completed"
    },
    "tags": []
   },
   "source": [
    "Action `node` executes the passed script using `node` (JavaScript) interpreter."
   ]
  },
  {
   "cell_type": "code",
   "execution_count": 4,
   "metadata": {
    "kernel": "SoS",
    "papermill": {
     "duration": 2.633658,
     "end_time": "2019-12-23T17:05:11.510170",
     "exception": false,
     "start_time": "2019-12-23T17:05:08.876512",
     "status": "completed"
    },
    "tags": []
   },
   "outputs": [
    {
     "name": "stdout",
     "output_type": "stream",
     "text": [
      "\u001b[33m854\u001b[39m\n"
     ]
    }
   ],
   "source": [
    "node:\n",
    "    var i, a, b, c, max;\n",
    "\n",
    "    max = 1000000000;\n",
    "\n",
    "    var d = Date.now();\n",
    "\n",
    "    for (i = 0; i < max; i++) {\n",
    "        a = 1234 + 5678 + i;\n",
    "        b = 1234 * 5678 + i;\n",
    "        c = 1234 / 2 + i;\n",
    "    }\n",
    "\n",
    "    console.log(Date.now() - d);"
   ]
  },
  {
   "cell_type": "markdown",
   "metadata": {
    "kernel": "SoS",
    "papermill": {
     "duration": 0.019164,
     "end_time": "2019-12-23T17:05:11.548341",
     "exception": false,
     "start_time": "2019-12-23T17:05:11.529177",
     "status": "completed"
    },
    "tags": []
   },
   "source": [
    "## Action `julia`"
   ]
  },
  {
   "cell_type": "markdown",
   "metadata": {
    "kernel": "SoS",
    "papermill": {
     "duration": 0.0185,
     "end_time": "2019-12-23T17:05:11.585243",
     "exception": false,
     "start_time": "2019-12-23T17:05:11.566743",
     "status": "completed"
    },
    "tags": []
   },
   "source": [
    "Action `julia` execute specified Julia script with command `julia`. Because my system does not have julia installed, the following example executes a Julia script in a docker container."
   ]
  },
  {
   "cell_type": "code",
   "execution_count": 5,
   "metadata": {
    "kernel": "SoS",
    "papermill": {
     "duration": 16.359786,
     "end_time": "2019-12-23T17:05:27.963923",
     "exception": false,
     "start_time": "2019-12-23T17:05:11.604137",
     "status": "completed"
    },
    "tags": []
   },
   "outputs": [
    {
     "data": {
      "text/html": [
       "<div class=\"sos_hint\">Pulling docker image julia</div>"
      ]
     },
     "metadata": {},
     "output_type": "display_data"
    },
    {
     "name": "stdout",
     "output_type": "stream",
     "text": [
      "\n"
     ]
    },
    {
     "name": "stdout",
     "output_type": "stream",
     "text": [
      "The quick brown fox jumps over the lazy dog α,β,γ\r\n"
     ]
    }
   ],
   "source": [
    "julia: container='julia'\n",
    "    s1 = \"The quick brown fox jumps over the lazy dog α,β,γ\"\n",
    "    println(s1)"
   ]
  },
  {
   "cell_type": "markdown",
   "metadata": {
    "kernel": "SoS",
    "papermill": {
     "duration": 0.022485,
     "end_time": "2019-12-23T17:05:28.008739",
     "exception": false,
     "start_time": "2019-12-23T17:05:27.986254",
     "status": "completed"
    },
    "tags": []
   },
   "source": [
    "### Action `matlab`"
   ]
  },
  {
   "cell_type": "markdown",
   "metadata": {
    "kernel": "SoS",
    "papermill": {
     "duration": 0.024541,
     "end_time": "2019-12-23T17:05:28.055901",
     "exception": false,
     "start_time": "2019-12-23T17:05:28.031360",
     "status": "completed"
    },
    "tags": []
   },
   "source": [
    "Action `matlab` execute specified matlab script with default options `-nojvm -nodisplay -nosplash -r {filename:n};quit`. The options start matlab without desktop, execute the strip (with parameter without `.m` extension), and quit matlab when the script is completed."
   ]
  },
  {
   "cell_type": "markdown",
   "metadata": {
    "kernel": "SoS",
    "papermill": {
     "duration": 0.028702,
     "end_time": "2019-12-23T17:05:28.107052",
     "exception": false,
     "start_time": "2019-12-23T17:05:28.078350",
     "status": "completed"
    },
    "tags": []
   },
   "source": [
    "### Action `python`"
   ]
  },
  {
   "cell_type": "markdown",
   "metadata": {
    "kernel": "SoS",
    "papermill": {
     "duration": 0.032718,
     "end_time": "2019-12-23T17:05:28.169153",
     "exception": false,
     "start_time": "2019-12-23T17:05:28.136435",
     "status": "completed"
    },
    "tags": []
   },
   "source": [
    "Action `python` and `python3` accepts a Python script and execute it with python or python3, respectively.\n",
    "\n",
    "Because SoS can include Python statements directly in a SoS script, it is important to note that embedded Python\n",
    "statements are interpreted by SoS and the `python` and `python3` actions are execute in separate processes without access to the SoS environment.\n",
    "\n",
    "For example, the following SoS step execute some python statements **within** SoS with direct access to SoS variables such as `input`, and with `result` writing directly to the SoS environment,\n",
    "\n",
    "```python\n",
    "[10]\n",
    "for filename in input:\n",
    "    with open(filename) as data:\n",
    "        result = filename + '.res'\n",
    "        ....\n",
    "```\n",
    "\n",
    "while\n",
    "\n",
    "```python\n",
    "[10]\n",
    "input: group_by='single'\n",
    "\n",
    "python:\n",
    "\n",
    "with open(${input!r}) as data:\n",
    "   result = ${input!r} + '.res'\n",
    "   ...\n",
    "\n",
    "\n",
    "```\n",
    "\n",
    "composes a Python script for each input file and calls separate Python interpreters to execute them. Whereas\n",
    "the Python statement in the first example will always be executed, the statements in `python` will not be executed in `inspect` mode."
   ]
  },
  {
   "cell_type": "markdown",
   "metadata": {
    "kernel": "SoS",
    "papermill": {
     "duration": 0.027972,
     "end_time": "2019-12-23T17:05:28.228462",
     "exception": false,
     "start_time": "2019-12-23T17:05:28.200490",
     "status": "completed"
    },
    "tags": []
   },
   "source": [
    "In the following example, `python` actually calls Python 3 because version 3 is the default python interpreter on my system."
   ]
  },
  {
   "cell_type": "code",
   "execution_count": 6,
   "metadata": {
    "kernel": "SoS",
    "papermill": {
     "duration": 1.014912,
     "end_time": "2019-12-23T17:05:29.269970",
     "exception": false,
     "start_time": "2019-12-23T17:05:28.255058",
     "status": "completed"
    },
    "tags": []
   },
   "outputs": [
    {
     "name": "stdout",
     "output_type": "stream",
     "text": [
      "3.7.3 | packaged by conda-forge | (default, Jul  1 2019, 14:38:56) \n"
     ]
    },
    {
     "name": "stdout",
     "output_type": "stream",
     "text": [
      "[Clang 4.0.1 (tags/RELEASE_401/final)]\n"
     ]
    }
   ],
   "source": [
    "python:\n",
    "  import sys\n",
    "  print(sys.version)"
   ]
  },
  {
   "cell_type": "markdown",
   "metadata": {
    "kernel": "SoS",
    "papermill": {
     "duration": 0.026229,
     "end_time": "2019-12-23T17:05:29.319236",
     "exception": false,
     "start_time": "2019-12-23T17:05:29.293007",
     "status": "completed"
    },
    "tags": []
   },
   "source": [
    "### Action `python2`\n",
    "\n",
    "Action `python2` is similar to `python` but it tries to use interpreter `python2` (or `python2.7` on some systems) before `python`, which could be python 3. Note that this action does not actually test the version of interpreter so it would use python 3 if this is the only available version."
   ]
  },
  {
   "cell_type": "code",
   "execution_count": 7,
   "metadata": {
    "kernel": "SoS",
    "papermill": {
     "duration": 0.949903,
     "end_time": "2019-12-23T17:05:30.291652",
     "exception": false,
     "start_time": "2019-12-23T17:05:29.341749",
     "status": "completed"
    },
    "tags": []
   },
   "outputs": [
    {
     "name": "stdout",
     "output_type": "stream",
     "text": [
      "Hello world\n"
     ]
    }
   ],
   "source": [
    "python2:\n",
    "  print \"Hello world\""
   ]
  },
  {
   "cell_type": "markdown",
   "metadata": {
    "kernel": "SoS",
    "papermill": {
     "duration": 0.022631,
     "end_time": "2019-12-23T17:05:30.337887",
     "exception": false,
     "start_time": "2019-12-23T17:05:30.315256",
     "status": "completed"
    },
    "tags": []
   },
   "source": [
    "### Action `python3`\n",
    "\n",
    "Action `python3` is similar to `python` but it tries to use interpreter `python3` (version 3 of python) before `python`, which could be python 2. Note that this action does not actually test the version of interpreter so it would use python 2 if this is the only available version."
   ]
  },
  {
   "cell_type": "code",
   "execution_count": 8,
   "metadata": {
    "kernel": "SoS",
    "papermill": {
     "duration": 0.982902,
     "end_time": "2019-12-23T17:05:31.341949",
     "exception": false,
     "start_time": "2019-12-23T17:05:30.359047",
     "status": "completed"
    },
    "tags": []
   },
   "outputs": [
    {
     "name": "stdout",
     "output_type": "stream",
     "text": [
      "Hello world\n"
     ]
    }
   ],
   "source": [
    "python3:\n",
    "  print('Hello world')"
   ]
  },
  {
   "cell_type": "markdown",
   "metadata": {
    "kernel": "SoS",
    "papermill": {
     "duration": 0.022357,
     "end_time": "2019-12-23T17:05:31.386095",
     "exception": false,
     "start_time": "2019-12-23T17:05:31.363738",
     "status": "completed"
    },
    "tags": []
   },
   "source": [
    "### Action `R`"
   ]
  },
  {
   "cell_type": "markdown",
   "metadata": {
    "kernel": "SoS",
    "papermill": {
     "duration": 0.021214,
     "end_time": "2019-12-23T17:05:31.429333",
     "exception": false,
     "start_time": "2019-12-23T17:05:31.408119",
     "status": "completed"
    },
    "tags": []
   },
   "source": [
    "Action `R(script)` execute the passed script using `Rscript` command. "
   ]
  },
  {
   "cell_type": "code",
   "execution_count": 9,
   "metadata": {
    "kernel": "SoS",
    "papermill": {
     "duration": 1.438685,
     "end_time": "2019-12-23T17:05:32.901053",
     "exception": false,
     "start_time": "2019-12-23T17:05:31.462368",
     "status": "completed"
    },
    "tags": []
   },
   "outputs": [
    {
     "name": "stdout",
     "output_type": "stream",
     "text": [
      "  x  y\n"
     ]
    },
    {
     "name": "stdout",
     "output_type": "stream",
     "text": [
      "1 1  7\n"
     ]
    },
    {
     "name": "stdout",
     "output_type": "stream",
     "text": [
      "4 1  2\n"
     ]
    },
    {
     "name": "stdout",
     "output_type": "stream",
     "text": [
      "2 2 19\n"
     ]
    },
    {
     "name": "stdout",
     "output_type": "stream",
     "text": [
      "3 3  2\n"
     ]
    }
   ],
   "source": [
    "R:\n",
    "    D <- data.frame(x=c(1,2,3,1), y=c(7,19,2,2))\n",
    "    # Sort on x\n",
    "    indexes <- order(D$x)\n",
    "    D[indexes,]"
   ]
  },
  {
   "cell_type": "markdown",
   "metadata": {
    "kernel": "SoS",
    "papermill": {
     "duration": 0.022734,
     "end_time": "2019-12-23T17:05:32.947036",
     "exception": false,
     "start_time": "2019-12-23T17:05:32.924302",
     "status": "completed"
    },
    "tags": []
   },
   "source": [
    "## Further reading\n",
    "\n",
    "* [SoS actions](sos_actions.html)\n",
    "* [Command execution actions](shell_actions.html)"
   ]
  }
 ],
 "metadata": {
  "kernelspec": {
   "display_name": "SoS",
   "language": "sos",
   "name": "sos"
  },
  "language_info": {
   "codemirror_mode": "sos",
   "file_extension": ".sos",
   "mimetype": "text/x-sos",
   "name": "sos",
   "nbconvert_exporter": "sos_notebook.converter.SoS_Exporter",
   "pygments_lexer": "sos"
  },
  "papermill": {
   "duration": 35.806202,
   "end_time": "2019-12-23T17:05:38.160269",
   "environment_variables": {},
   "exception": null,
   "input_path": "/Users/bpeng1/sos/sos-docs/src/user_guide/script_actions.ipynb",
   "output_path": "script_actions.ipynb_rerun.ipynb",
   "parameters": {},
   "start_time": "2019-12-23T17:05:02.354067",
   "version": "1.1.0"
  },
  "sos": {
   "kernels": [
    [
     "Bash",
     "bash",
     "Bash",
     "#E6EEFF"
    ],
    [
     "R",
     "ir",
     "R",
     "#DCDCDA"
    ],
    [
     "SoS",
     "sos",
     "",
     ""
    ]
   ],
   "panel": {
    "displayed": true,
    "height": 0
   },
   "version": "0.21.1"
  }
 },
 "nbformat": 4,
 "nbformat_minor": 4
}