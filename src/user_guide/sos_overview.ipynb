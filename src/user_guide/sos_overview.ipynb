{
 "cells": [
  {
   "cell_type": "markdown",
   "metadata": {
    "kernel": "SoS",
    "tags": []
   },
   "source": [
    "# SoS workflow: a 20 minute overview"
   ]
  },
  {
   "cell_type": "markdown",
   "metadata": {
    "kernel": "SoS",
    "tags": []
   },
   "source": [
    "* **Difficulty level**: easy\n",
    "* **Time need to lean**: 20 minutes or less\n",
    "* **Key points**:\n",
    "  * SoS Workflow is extended from Python 3.6+\n",
    "  * SoS Workflow uses SoS Notebook as its IDE\n",
    "  * SoS workflows can be in plain text format, or be embedded in SoS notebooks\n",
    "  * SoS workflow makes it easy to execute scripts in many different ways and environments\n",
    "  * SoS Workflow supports both process-oriented and outcome-oriented (makefile-style) workflows\n",
    "  * SoS Workflow supports light workflow + external task apprach of workload districution"
   ]
  },
  {
   "cell_type": "markdown",
   "metadata": {
    "kernel": "SoS",
    "tags": []
   },
   "source": [
    "The SoS suite of tools, as its full name \"Script of Scripts\" suggests, is designed for data analysis using scripts in multiple languages. SoS Workflow System is designed to be readable, non-intrusive, and suitable for daily data analysis. This tutorial demonstrates the major features of SoS and explains the pros and cons of this unique workflow system."
   ]
  },
  {
   "cell_type": "markdown",
   "metadata": {
    "kernel": "SoS",
    "tags": []
   },
   "source": [
    "## Simple Python 3.6+ based syntax"
   ]
  },
  {
   "cell_type": "markdown",
   "metadata": {
    "kernel": "SoS",
    "tags": []
   },
   "source": [
    "The SoS workflow system extends the syntax of Python 3.6+ so **any Python code can be used in a SoS Workflow**. If you have a Python script, you can execute it with the `sos` executor as the first step of a one-step workflow called `default`."
   ]
  },
  {
   "cell_type": "code",
   "execution_count": 1,
   "metadata": {
    "kernel": "SoS",
    "tags": []
   },
   "outputs": [
    {
     "name": "stdout",
     "output_type": "stream",
     "text": [
      "hello world\n"
     ]
    }
   ],
   "source": [
    "%run\n",
    "print('hello world')"
   ]
  },
  {
   "cell_type": "markdown",
   "metadata": {
    "kernel": "SoS",
    "tags": []
   },
   "source": [
    "SoS adds the following syntax to Python 3.6+"
   ]
  },
  {
   "cell_type": "markdown",
   "metadata": {
    "kernel": "SoS",
    "tags": []
   },
   "source": [
    "| Syntax | Example | Usage |\n",
    "| ---|---| ---|\n",
    "| Script format of function call | <pre>sh:<br>  echo \"I am sh\"</pre> | Calling a Python function with multi-line script as first parameter |  \n",
    "| Section header | <pre>[step_10]</pre> | Define workflow steps |\n",
    "| `parameter` statement | <pre>parameter: cutoff=5</pre> | Define command line argument |\n",
    "| `input` statement  | <pre>input: \"a.txt\"</pre> | Define input targets of steps |\n",
    "| `output` statement  | <pre>output: \"a.txt\"</pre> | Define output targets of steps |\n",
    "| `depends` statement  | <pre>depends: sos_step('A')</pre> | Define dependent targets of steps |\n",
    "| `task` statement  | <pre>task: walltime='24h'</pre> | Define external tasks |"
   ]
  },
  {
   "cell_type": "markdown",
   "metadata": {
    "kernel": "SoS",
    "tags": []
   },
   "source": [
    "**These 7 additional syntaxes and statements, and a number of Python functions and data types are all that have been added to Python 3.6**. This makes SoS quite easy to understand and learn, at least if you are already familiar with basic Python syntax."
   ]
  },
  {
   "cell_type": "markdown",
   "metadata": {
    "kernel": "SoS",
    "tags": []
   },
   "source": [
    "## Integration with SoS Notebook"
   ]
  },
  {
   "cell_type": "markdown",
   "metadata": {
    "kernel": "SoS",
    "tags": []
   },
   "source": [
    "[SoS Notebook](https://github.com/vatlab/sos-notebook) is a powerful notebook system for interactive multi-language data analysis, and is the preferred IDE for SoS Workflow System. "
   ]
  },
  {
   "cell_type": "markdown",
   "metadata": {
    "kernel": "SoS",
    "tags": []
   },
   "source": [
    "For example, the following three code cells perform a multi-language data analysis where the first cell defines a few variables, the second cell runs a bash script to convert an excel file to csv format, and the last cell uses R to read the csv file and generate a plot. Three different kernels, SoS (based on Python 3.6+), [bash_kernel](https://github.com/takluyver/bash_kernel), and [IRkernel](https://github.com/IRkernel/IRkernel) are used, and a `%expand` magic is used to pass filenames from the SoS kernel to other kernels."
   ]
  },
  {
   "cell_type": "code",
   "execution_count": 2,
   "metadata": {
    "kernel": "SoS",
    "tags": []
   },
   "outputs": [],
   "source": [
    "excel_file = 'data/DEG.xlsx'\n",
    "csv_file = 'DEG.csv'\n",
    "figure_file = 'output.pdf'"
   ]
  },
  {
   "cell_type": "code",
   "execution_count": 3,
   "metadata": {
    "kernel": "Bash",
    "tags": []
   },
   "outputs": [],
   "source": [
    "%expand\n",
    "xlsx2csv {excel_file} > {csv_file}"
   ]
  },
  {
   "cell_type": "code",
   "execution_count": 4,
   "metadata": {
    "kernel": "R",
    "tags": []
   },
   "outputs": [
    {
     "data": {
      "text/html": [
       "<strong>pdf:</strong> 2"
      ],
      "text/latex": [
       "\\textbf{pdf:} 2"
      ],
      "text/markdown": [
       "**pdf:** 2"
      ],
      "text/plain": [
       "pdf \n",
       "  2 "
      ]
     },
     "metadata": {},
     "output_type": "display_data"
    }
   ],
   "source": [
    "%expand\n",
    "data <- read.csv('{csv_file}')\n",
    "pdf('{figure_file}')\n",
    "plot(data$log2FoldChange, data$stat)\n",
    "dev.off()"
   ]
  },
  {
   "cell_type": "markdown",
   "metadata": {
    "kernel": "R",
    "tags": []
   },
   "source": [
    "The SoS notebook is already a \"workflow\" in the sense that it presents a sequence of steps for a particular purpose. You can use \"Run All Cells\" to rerun the workflow, or even define some parameters and execute the notebook from command line using [sos-papermill](https://github.com/vatlab/sos-papermill)."
   ]
  },
  {
   "cell_type": "markdown",
   "metadata": {
    "kernel": "R",
    "tags": []
   },
   "source": [
    "However, if you would like to execute the steps in a more flexible way, you can convert them to a workflow as follows:"
   ]
  },
  {
   "cell_type": "code",
   "execution_count": 5,
   "metadata": {
    "kernel": "SoS",
    "tags": []
   },
   "outputs": [],
   "source": [
    "[global]\n",
    "excel_file = 'data/DEG.xlsx'\n",
    "csv_file = 'DEG.csv'\n",
    "figure_file = 'output.pdf'"
   ]
  },
  {
   "cell_type": "code",
   "execution_count": 6,
   "metadata": {
    "kernel": "SoS",
    "tags": []
   },
   "outputs": [],
   "source": [
    "[step_1]\n",
    "sh: expand=True\n",
    "    xlsx2csv {excel_file} > {csv_file}"
   ]
  },
  {
   "cell_type": "code",
   "execution_count": 7,
   "metadata": {
    "kernel": "SoS",
    "tags": []
   },
   "outputs": [],
   "source": [
    "[step_2]\n",
    "R: expand=True\n",
    "    data <- read.csv('{csv_file}')\n",
    "    pdf('{figure_file}')\n",
    "    plot(data$log2FoldChange, data$stat)\n",
    "    dev.off()"
   ]
  },
  {
   "cell_type": "markdown",
   "metadata": {
    "kernel": "SoS",
    "tags": []
   },
   "source": [
    "and execute it either from within the notebook"
   ]
  },
  {
   "cell_type": "code",
   "execution_count": 8,
   "metadata": {
    "kernel": "SoS",
    "tags": []
   },
   "outputs": [
    {
     "name": "stdout",
     "output_type": "stream",
     "text": [
      "null device \n"
     ]
    },
    {
     "name": "stdout",
     "output_type": "stream",
     "text": [
      "          1 \n"
     ]
    }
   ],
   "source": [
    "%sosrun step"
   ]
  },
  {
   "cell_type": "markdown",
   "metadata": {
    "kernel": "SoS",
    "tags": []
   },
   "source": [
    "Or from command line using commands such as\n",
    "\n",
    "```\n",
    "sos run why_sos.ipynb plot\n",
    "```"
   ]
  },
  {
   "cell_type": "markdown",
   "metadata": {
    "kernel": "SoS",
    "tags": []
   },
   "source": [
    "The workflow can be improved in many ways but if you compare the notebook version and the workflow version of the workflow, you will see how easy it is to convert a notebook workflow to a formal SoS workflow. The [script format of function calls](script_format.html) syntax certainly helps here because it allows **verbatim inclusion of scripts in SoS workflows**."
   ]
  },
  {
   "cell_type": "markdown",
   "metadata": {
    "kernel": "SoS",
    "tags": []
   },
   "source": [
    "## Flexible ways to execute scripts"
   ]
  },
  {
   "cell_type": "markdown",
   "metadata": {
    "kernel": "SoS",
    "tags": []
   },
   "source": [
    "### Runtime signature for executed steps "
   ]
  },
  {
   "cell_type": "markdown",
   "metadata": {
    "kernel": "SoS",
    "tags": []
   },
   "source": [
    "Now, let us take one of the steps and try to run it with definitions of `_input` and `_output`."
   ]
  },
  {
   "cell_type": "code",
   "execution_count": 9,
   "metadata": {
    "kernel": "SoS",
    "tags": []
   },
   "outputs": [],
   "source": [
    "!rm DEG.csv\n",
    "run\n",
    "input: 'data/DEG.xlsx'\n",
    "output: 'DEG.csv'\n",
    "\n",
    "sh: expand=True\n",
    "    xlsx2csv {_input} > {_output}"
   ]
  },
  {
   "cell_type": "markdown",
   "metadata": {
    "kernel": "SoS",
    "tags": []
   },
   "source": [
    "Now, if rerun the same step, you will notice that the step **is ignored due to [saved signature](signature.html)** because the step has exactly the same input, output and processing script. This does not really matter for this small job but could save you hours for bioinformatic data analysis since those tools could take hours to complete."
   ]
  },
  {
   "cell_type": "code",
   "execution_count": 10,
   "metadata": {
    "kernel": "SoS",
    "tags": []
   },
   "outputs": [],
   "source": [
    "%run\n",
    "input: 'data/DEG.xlsx'\n",
    "output: 'DEG.csv'\n",
    "\n",
    "sh: expand=True\n",
    "    xlsx2csv {_input} > {_output}"
   ]
  },
  {
   "cell_type": "markdown",
   "metadata": {
    "kernel": "SoS",
    "tags": []
   },
   "source": [
    "### Execute scripts in containers"
   ]
  },
  {
   "cell_type": "markdown",
   "metadata": {
    "kernel": "SoS",
    "tags": []
   },
   "source": [
    "A typical workflow would involve the execution of multiple commands and use multiple languages and libraries, and it can be quite difficult to install them. If you do not have `xlsx2csv` installed locally, you can [execute the script in a container](docker.html) named `pihizi/xlsx2csv`. All you need is an option to specify the container to use."
   ]
  },
  {
   "cell_type": "code",
   "execution_count": 11,
   "metadata": {
    "kernel": "SoS",
    "tags": []
   },
   "outputs": [
    {
     "name": "stdout",
     "output_type": "stream",
     "text": [
      "HINT: Pulling docker image pihizi/xlsx2csv\n"
     ]
    }
   ],
   "source": [
    "!rm -f DEG.csv\n",
    "%run \n",
    "\n",
    "input: 'data/DEG.xlsx'\n",
    "output: 'DEG.csv'\n",
    "\n",
    "sh: expand=True, container='pihizi/xlsx2csv'\n",
    "    xlsx2csv {_input} > {_output}"
   ]
  },
  {
   "cell_type": "markdown",
   "metadata": {
    "kernel": "SoS",
    "tags": []
   },
   "source": [
    "### Execute scripts on remote hosts"
   ]
  },
  {
   "cell_type": "markdown",
   "metadata": {
    "kernel": "SoS",
    "tags": []
   },
   "source": [
    "Again, let us assume that `xlsx2csv` is a terribly resource demanding command that cannot be executed locally on your laptop, or if it is proprietary and is only available on a remote server, you can \"pack\" the script as a **task** and send it to a remote host for execution. For example, if you have a host `bcb` [set up to be used with SoS](host_setup.html), you can add a [`task` statement](task_statement.html) to the step and use `-q bcb` to send the script to `bcb` for execution. SoS will automatically send input (if any) to the remote host, and retrieve output (`DEG.csv` in this case) from the remote host automatically, even if local and remote hosts do not share file systems and have different paths."
   ]
  },
  {
   "cell_type": "code",
   "execution_count": 12,
   "metadata": {
    "kernel": "SoS",
    "tags": []
   },
   "outputs": [
    {
     "name": "stdout",
     "output_type": "stream",
     "text": [
      "INFO: No matching tasks are identified. Use option -a to check all tasks.\n"
     ]
    },
    {
     "name": "stdout",
     "output_type": "stream",
     "text": [
      "INFO: fe9f6d84cbaf1371 \u001b[32mstarted\u001b[0m\n"
     ]
    }
   ],
   "source": [
    "!rm -f DEG.csv\n",
    "%run -q bcb\n",
    "\n",
    "input: 'data/DEG.xlsx'\n",
    "output: 'DEG.csv'\n",
    "task: \n",
    "sh: expand=True\n",
    "    xlsx2csv {_input} > {_output}"
   ]
  },
  {
   "cell_type": "markdown",
   "metadata": {
    "kernel": "SoS",
    "tags": []
   },
   "source": [
    "## Flexible workflow syntax"
   ]
  },
  {
   "cell_type": "markdown",
   "metadata": {
    "kernel": "SoS",
    "tags": []
   },
   "source": [
    "SoS uses a [generalized step dependency system](https://vatlab.github.io/sos-docs/doc/user_guide/step_dependencies.html) to specify relationship between steps, which **accommodate both [process-oriented](process_oriented.html) and [outcome-oriented](outcome_oriented.html) workflows**."
   ]
  },
  {
   "cell_type": "markdown",
   "metadata": {
    "kernel": "SoS",
    "tags": []
   },
   "source": [
    "For example, the above workflow could be written in the following style where `input` and `output` of steps are specified, and used in the script as variables `_input` and `_outpu`."
   ]
  },
  {
   "cell_type": "code",
   "execution_count": 13,
   "metadata": {
    "kernel": "SoS",
    "tags": []
   },
   "outputs": [],
   "source": [
    "[global]\n",
    "excel_file = 'data/DEG.xlsx'\n",
    "csv_file = 'DEG.csv'\n",
    "figure_file = 'output.pdf'\n",
    "\n",
    "[convert]\n",
    "input: excel_file\n",
    "output: csv_file\n",
    "sh: expand=True\n",
    "    xlsx2csv {_input} > {_output}\n",
    "    \n",
    "[plot]\n",
    "input: csv_file\n",
    "output: figure_file\n",
    "R: expand=True\n",
    "    data <- read.csv('{_input}')\n",
    "    pdf('{_output}')\n",
    "    plot(data$log2FoldChange, data$stat)\n",
    "    dev.off()    "
   ]
  },
  {
   "cell_type": "markdown",
   "metadata": {
    "kernel": "SoS",
    "tags": []
   },
   "source": [
    "After removing existing files `DEG.csv` and `output.pdf`, we can executed this workflow option `-t` (target) to generate output `output.pdf`. Both `convert` and `plot` steps are executed because of the need to generate an intermediate file `DEG.csv`. This style is called a data-flow style and more advanced versions of this workflow can accept patterns in a [makefile](https://www.gnu.org/software/make/) style."
   ]
  },
  {
   "cell_type": "code",
   "execution_count": 14,
   "metadata": {
    "kernel": "SoS",
    "tags": []
   },
   "outputs": [
    {
     "name": "stdout",
     "output_type": "stream",
     "text": [
      "null device \n"
     ]
    },
    {
     "name": "stdout",
     "output_type": "stream",
     "text": [
      "          1 \n"
     ]
    }
   ],
   "source": [
    "!rm -f DEG.csv output.pdf\n",
    "%sosrun -t output.pdf"
   ]
  },
  {
   "cell_type": "markdown",
   "metadata": {
    "kernel": "SoS",
    "tags": []
   },
   "source": [
    "SoS blends `process-oriented` and `outcome-oriented` workflows so well that you do not have to thinking about styles and use SoS in a **[mixed workflow style](mixed_style.html)**. Without referring to another example, it is enough to show that we can execute the same `plot` workflow with magic `%sosrun plot` in a process-oriented style. However, because the input of this step does not exist, SoS looks for steps that generate this file and executes step `convert` before `plot`."
   ]
  },
  {
   "cell_type": "code",
   "execution_count": 15,
   "metadata": {
    "kernel": "SoS",
    "tags": []
   },
   "outputs": [
    {
     "name": "stdout",
     "output_type": "stream",
     "text": [
      "null device \n"
     ]
    },
    {
     "name": "stdout",
     "output_type": "stream",
     "text": [
      "          1 \n"
     ]
    }
   ],
   "source": [
    "!rm -f DEG.csv output.pdf\n",
    "%sosrun plot"
   ]
  },
  {
   "cell_type": "markdown",
   "metadata": {
    "kernel": "SoS",
    "tags": []
   },
   "source": [
    "Note that the remote host can be a single server, or a task queue, and with proper configuration SoS will be able to submit tasks to cluster systems and wait for its completion. Through the use of external tasks, SoS encourages you to include all analytical steps in a workflow, and execute most of them locally while executing resource intensive parts on remote systems and clusters."
   ]
  }
 ],
 "metadata": {
  "kernelspec": {
   "display_name": "SoS",
   "language": "sos",
   "name": "sos"
  },
  "language_info": {
   "codemirror_mode": "sos",
   "file_extension": ".sos",
   "mimetype": "text/x-sos",
   "name": "sos",
   "nbconvert_exporter": "sos_notebook.converter.SoS_Exporter",
   "pygments_lexer": "sos"
  },
  "sos": {
   "kernels": [
    [
     "Bash",
     "calysto_bash",
     "Bash",
     "#E6EEFF",
     ""
    ],
    [
     "R",
     "ir",
     "R",
     "#DCDCDA",
     ""
    ],
    [
     "SoS",
     "sos",
     "",
     "",
     "sos"
    ]
   ],
   "panel": {
    "displayed": true,
    "height": 0
   },
   "version": "0.21.3"
  },
  "toc-autonumbering": false,
  "toc-showcode": false,
  "toc-showmarkdowntxt": false
 },
 "nbformat": 4,
 "nbformat_minor": 4
}
