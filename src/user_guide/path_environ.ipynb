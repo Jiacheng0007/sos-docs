{
 "cells": [
  {
   "cell_type": "markdown",
   "metadata": {
    "kernel": "SoS",
    "papermill": {
     "duration": 0.007495,
     "end_time": "2019-12-23T17:04:37.322089",
     "exception": false,
     "start_time": "2019-12-23T17:04:37.314594",
     "status": "completed"
    },
    "tags": []
   },
   "source": [
    "# Title"
   ]
  },
  {
   "cell_type": "markdown",
   "metadata": {
    "kernel": "SoS",
    "papermill": {
     "duration": 0.005778,
     "end_time": "2019-12-23T17:04:37.334166",
     "exception": false,
     "start_time": "2019-12-23T17:04:37.328388",
     "status": "completed"
    },
    "tags": []
   },
   "source": [
    "* **Difficulty level**: easy\n",
    "* **Time need to lean**: 10 minutes or less\n",
    "* **Key points**:\n",
    "  * a\n",
    "  "
   ]
  },
  {
   "cell_type": "markdown",
   "metadata": {
    "kernel": "SoS",
    "papermill": {
     "duration": 0.005489,
     "end_time": "2019-12-23T17:04:37.345575",
     "exception": false,
     "start_time": "2019-12-23T17:04:37.340086",
     "status": "completed"
    },
    "tags": []
   },
   "source": [
    "## Change system $PATH"
   ]
  },
  {
   "cell_type": "markdown",
   "metadata": {
    "kernel": "SoS",
    "papermill": {
     "duration": 0.005599,
     "end_time": "2019-12-23T17:04:37.357665",
     "exception": false,
     "start_time": "2019-12-23T17:04:37.352066",
     "status": "completed"
    },
    "tags": []
   },
   "source": [
    "There are cases where you would like to use a specific version of programs for your workflow but do not want to change the system `$PATH` because of its global effect. In this case you can prepend pathes to these executables to `$PATH` using option `-b`.\n",
    "\n",
    "The following example first cretes a executable `ls` in `tmp` with an `echo` command. Using the option `-b tmp`, the `tmp` directory is prefixed to the system `$PATH` before the workflow is executed. The consequence is that this fake `ls` supersedes the system `ls` when `ls` is called in `step_10` of the workflow."
   ]
  },
  {
   "cell_type": "code",
   "execution_count": 1,
   "metadata": {
    "kernel": "SoS",
    "papermill": {
     "duration": 9.210048,
     "end_time": "2019-12-23T17:04:46.573485",
     "exception": false,
     "start_time": "2019-12-23T17:04:37.363437",
     "status": "completed"
    },
    "tags": []
   },
   "outputs": [
    {
     "name": "stdout",
     "output_type": "stream",
     "text": [
      "\u001b[95mWARNING\u001b[0m: \u001b[95mOption -b is deprecated. Please use option \"-r host\" with workflow_template instead (#1322).\u001b[0m\n"
     ]
    },
    {
     "name": "stdout",
     "output_type": "stream",
     "text": [
      "\u001b[34mtmp\u001b[m\u001b[m\n"
     ]
    }
   ],
   "source": [
    "%sandbox\n",
    "!mkdir tmp\n",
    "!echo \"#!/bin/bash\" > tmp/ls\n",
    "!echo \"echo This is fake ls\" >> tmp/ls\n",
    "!chmod +x tmp/ls\n",
    "\n",
    "%run -b tmp\n",
    "[10]\n",
    "sh:\n",
    "    ls"
   ]
  },
  {
   "cell_type": "markdown",
   "metadata": {
    "kernel": "SoS",
    "papermill": {
     "duration": 0.007917,
     "end_time": "2019-12-23T17:04:46.590552",
     "exception": false,
     "start_time": "2019-12-23T17:04:46.582635",
     "status": "completed"
    },
    "tags": []
   },
   "source": [
    "The `-b` option has a default value `~/.sos/bin`, so any command under `~/.sos/bin` would be executed (before system command with the same name) even if the executables are not under system `$PATH`. This feature allows you to create commands that would only be used inside SoS-scripts, and more interestingly, allows you to create executable or install programs on-the-fly.\n",
    "\n",
    "For example, step 20 of the following workflow depends on an executable `lls` that is not a system executable."
   ]
  },
  {
   "cell_type": "code",
   "execution_count": 2,
   "metadata": {
    "collapsed": true,
    "kernel": "SoS",
    "papermill": {
     "duration": 1.193429,
     "end_time": "2019-12-23T17:04:47.790677",
     "exception": false,
     "start_time": "2019-12-23T17:04:46.597248",
     "status": "completed"
    },
    "tags": []
   },
   "outputs": [],
   "source": [
    "%sandbox\n",
    "!rm -f ~/.sos/bin/lls\n",
    "\n",
    "[install_lls: provides=executable('lls')]\n",
    "run:\n",
    "    echo \"#!/bin/bash\" > ~/.sos/bin/lls\n",
    "    echo \"echo This is lls\" >> ~/.sos/bin/lls\n",
    "    chmod +x ~/.sos/bin/lls\n",
    "\n",
    "[20]\n",
    "depends: executable('lls')\n",
    "run:\n",
    "    lls"
   ]
  },
  {
   "cell_type": "markdown",
   "metadata": {
    "kernel": "SoS",
    "papermill": {
     "duration": 0.01088,
     "end_time": "2019-12-23T17:04:47.831053",
     "exception": false,
     "start_time": "2019-12-23T17:04:47.820173",
     "status": "completed"
    },
    "tags": []
   },
   "source": [
    "because `lls` is created under `~/.sos/bin`, it would be immediately available to SoS after the `install_lls` step. This works for any program as long as you can create a symbolic link under `~/.sos/bin` after its installation."
   ]
  },
  {
   "cell_type": "markdown",
   "metadata": {
    "kernel": "SoS",
    "papermill": {
     "duration": 0.007319,
     "end_time": "2019-12-23T17:04:47.847189",
     "exception": false,
     "start_time": "2019-12-23T17:04:47.839870",
     "status": "completed"
    },
    "tags": []
   },
   "source": [
    "You can always disable this behavior by setting option `-b` without value."
   ]
  },
  {
   "cell_type": "markdown",
   "metadata": {
    "kernel": "SoS",
    "papermill": {
     "duration": 0.008645,
     "end_time": "2019-12-23T17:04:47.865222",
     "exception": false,
     "start_time": "2019-12-23T17:04:47.856577",
     "status": "completed"
    },
    "tags": []
   },
   "source": [
    "## Further reading\n",
    "\n",
    "* "
   ]
  }
 ],
 "metadata": {
  "kernelspec": {
   "display_name": "SoS",
   "language": "sos",
   "name": "sos"
  },
  "language_info": {
   "codemirror_mode": "sos",
   "file_extension": ".sos",
   "mimetype": "text/x-sos",
   "name": "sos",
   "nbconvert_exporter": "sos_notebook.converter.SoS_Exporter",
   "pygments_lexer": "sos"
  },
  "papermill": {
   "duration": 18.467969,
   "end_time": "2019-12-23T17:04:53.061973",
   "environment_variables": {},
   "exception": null,
   "input_path": "/Users/bpeng1/sos/sos-docs/src/user_guide/path_environ.ipynb",
   "output_path": "path_environ.ipynb_rerun.ipynb",
   "parameters": {},
   "start_time": "2019-12-23T17:04:34.594004",
   "version": "1.1.0"
  },
  "sos": {
   "kernels": [
    [
     "Bash",
     "bash",
     "Bash",
     "#E6EEFF"
    ],
    [
     "R",
     "ir",
     "R",
     "#DCDCDA"
    ],
    [
     "SoS",
     "sos",
     "",
     ""
    ]
   ],
   "panel": {
    "displayed": true,
    "height": 0
   },
   "version": "0.17.4"
  }
 },
 "nbformat": 4,
 "nbformat_minor": 2
}