{
 "cells": [
  {
   "cell_type": "markdown",
   "metadata": {
    "kernel": "SoS",
    "tags": []
   },
   "source": [
    "# Configuration files"
   ]
  },
  {
   "cell_type": "markdown",
   "metadata": {
    "kernel": "SoS",
    "tags": []
   },
   "source": [
    "* **Difficulty level**: easy\n",
    "* **Time need to lean**: 10 minutes or less\n",
    "* **Key points**:\n",
    "  * SoS reads multiple configuration files and merge the results\n",
    "  * User configuration files can be specified with option `-c`\n",
    "  * Content of configuration file is available through variable `CONFIG`\n",
    "  * Host-specific paths can be accessed by `path(name, default)`\n",
    "  "
   ]
  },
  {
   "cell_type": "markdown",
   "metadata": {
    "kernel": "SoS",
    "tags": []
   },
   "source": [
    "## SoS configuration files"
   ]
  },
  {
   "cell_type": "markdown",
   "metadata": {
    "kernel": "SoS",
    "tags": []
   },
   "source": [
    "SoS reads configurations from \n",
    "\n",
    "* A site configuration file `site_config.yml` under the sos package directory. This is where system adminstrators define system-wide configurations (e.g. host definitions) for all users.\n",
    "* A host configuration file `~/.sos/hosts.yml` that defines properties of local and remote hosts.\n",
    "* A global sos configuration file `~/.sos/config.yml` that defines other user-specific settings.\n",
    "* And an optional configuration file specified by command line option `-c` that defines workflow-specific settings.\n",
    "\n",
    "The configuration files should be in the format of [`YAML`](http://yaml.org/) or its subset format [`JSON`](http://json-schema.org/implementations.html). When a SoS script is loaded, SoS looks for and parses site and global configuration files and an optional user-specified configuration file. The results are used by SoS for the execution of workflows, and are available to the workflow as a global variable `CONFIG`."
   ]
  },
  {
   "cell_type": "markdown",
   "metadata": {
    "kernel": "SoS",
    "tags": []
   },
   "source": [
    "### Merge of multiple configuration files"
   ]
  },
  {
   "cell_type": "markdown",
   "metadata": {
    "kernel": "SoS",
    "tags": []
   },
   "source": [
    "All configurations from the aforementioned files are merged to a single dictionary. A dictionary could therefore contain keys defined in different configuration files and a latter file could overwrite keys defined in a previous file. For example, if \n",
    "\n",
    "* `{'A': {'B': 'old', 'C': 'old'}` is defined in `~/.sos/config.yml` using\n",
    "  \n",
    "  ```\n",
    "  A:\n",
    "      B: old\n",
    "      C: old\n",
    "  ```\n",
    "  \n",
    "* `{'A': {'B': 'new', 'D': 'new'}` is defined in `my_config.yml` using\n",
    "  ```\n",
    "  A:\n",
    "      B: new\n",
    "      D: new\n",
    "  ```\n",
    "\n",
    "then the final result using `-c my_config.yml` would be `{'A': {'B': 'new', 'C': 'old', 'D': 'new'}}` as if a sinle configuration file with content\n",
    "  ```\n",
    "  A:\n",
    "      B: new\n",
    "      C: old\n",
    "      D: new\n",
    "  ```\n",
    "is used. This is how **site or global configurations can be overridden by user configurations**."
   ]
  },
  {
   "cell_type": "markdown",
   "metadata": {
    "kernel": "SoS",
    "tags": []
   },
   "source": [
    "### Derived dictionary keys"
   ]
  },
  {
   "cell_type": "markdown",
   "metadata": {
    "kernel": "SoS",
    "tags": []
   },
   "source": [
    "A special key `based_on` will be processed after all configuration files are loaded. The value of `based_on` should be one or more keys to other dictionaries in the configuration (e.g. `hosts.cluster`). The consequence of this key is that the items from the referred dictionaries would be merged to the present dictionary if they do not exist in the present dictionary. This allows you to derive a dictionary from an existing one. For example, "
   ]
  },
  {
   "cell_type": "code",
   "execution_count": 1,
   "metadata": {
    "kernel": "SoS",
    "tags": []
   },
   "outputs": [
    {
     "data": {
      "text/html": [
       "<div class=\"sos_hint\">Cell content saved to <a href=\"my_config.yml\" target=\"_blank\">my_config.yml</a>, use option -r to also execute the cell.</div>"
      ],
      "text/plain": [
       "Cell content saved to my_config.yml, use option -r to also execute the cell.\n"
      ]
     },
     "metadata": {},
     "output_type": "display_data"
    }
   ],
   "source": [
    "%save my_config.yml -f\n",
    "\n",
    "hosts:\n",
    "    head_node:\n",
    "        description: head_node of cluster\n",
    "        address: domain.com\n",
    "    cluster:\n",
    "        description: Cluster\n",
    "        based_on: hosts.head_node\n",
    "        queue_type: pbs"
   ]
  },
  {
   "cell_type": "code",
   "execution_count": 2,
   "metadata": {
    "kernel": "SoS",
    "tags": []
   },
   "outputs": [
    {
     "name": "stdout",
     "output_type": "stream",
     "text": [
      "{'description': 'Cluster', 'queue_type': 'pbs', 'address': 'domain.com'}\n"
     ]
    }
   ],
   "source": [
    "%run -c my_config.yml -v1\n",
    "print(CONFIG['hosts']['cluster'])"
   ]
  },
  {
   "cell_type": "markdown",
   "metadata": {
    "kernel": "SoS",
    "tags": []
   },
   "source": [
    "### String interpolation"
   ]
  },
  {
   "cell_type": "markdown",
   "metadata": {
    "kernel": "SoS",
    "tags": []
   },
   "source": [
    "SoS interpolates string values if they contain `{ }`. The expressions enclosed by `{ }` would be evaluated by variables defined in in the root dictionary of `CONFIG`, or the dictionary in which the value is defined, or variables provided by users in case of task or workflow templates.\n",
    "\n",
    "For example, let us define a config file using magic `%save`"
   ]
  },
  {
   "cell_type": "code",
   "execution_count": 3,
   "metadata": {
    "kernel": "SoS",
    "tags": []
   },
   "outputs": [
    {
     "data": {
      "text/html": [
       "<div class=\"sos_hint\">Cell content saved to <a href=\"my_config.yml\" target=\"_blank\">my_config.yml</a>, use option -r to also execute the cell.</div>"
      ],
      "text/plain": [
       "Cell content saved to my_config.yml, use option -r to also execute the cell.\n"
      ]
     },
     "metadata": {},
     "output_type": "display_data"
    }
   ],
   "source": [
    "%save my_config.yml -f\n",
    "\n",
    "user_name: user\n",
    "hosts:\n",
    "  cluster:\n",
    "    address: \"{user_name}@domain.com:{port}\"\n",
    "    port: 123"
   ]
  },
  {
   "cell_type": "markdown",
   "metadata": {
    "kernel": "SoS",
    "tags": []
   },
   "source": [
    "When the configuration file is loaded with option `-c`, the `address` in `hosts.cluster` is expanded with `user` defined in the root dictionary, and `port` defined in the local dictionary. "
   ]
  },
  {
   "cell_type": "code",
   "execution_count": 4,
   "metadata": {
    "kernel": "SoS",
    "tags": []
   },
   "outputs": [
    {
     "name": "stdout",
     "output_type": "stream",
     "text": [
      "{'address': 'user@domain.com:123', 'port': 123}\n"
     ]
    }
   ],
   "source": [
    "%run -c my_config.yml\n",
    "\n",
    "print(CONFIG['hosts']['cluster'])"
   ]
  },
  {
   "cell_type": "markdown",
   "metadata": {
    "kernel": "SoS",
    "tags": []
   },
   "source": [
    "Because key `user_name` is frequently used in `hosts.yml`, **SoS automatically defines `user_name` as the local user ID (all lower case) in `CONFIG` if it is not defined in any of the configuration files**."
   ]
  },
  {
   "cell_type": "markdown",
   "metadata": {
    "kernel": "SoS",
    "tags": []
   },
   "source": [
    "String interpolation happens after `based_on`, so the following usage is allowed:"
   ]
  },
  {
   "cell_type": "code",
   "execution_count": 5,
   "metadata": {
    "kernel": "SoS",
    "tags": []
   },
   "outputs": [
    {
     "data": {
      "text/html": [
       "<div class=\"sos_hint\">Cell content saved to <a href=\"my_config.yml\" target=\"_blank\">my_config.yml</a>, use option -r to also execute the cell.</div>"
      ],
      "text/plain": [
       "Cell content saved to my_config.yml, use option -r to also execute the cell.\n"
      ]
     },
     "metadata": {},
     "output_type": "display_data"
    }
   ],
   "source": [
    "%save my_config.yml -f\n",
    "hosts:\n",
    "  host_r:\n",
    "    address: localhost\n",
    "    R_version: 3.1\n",
    "    workflow_template: |\n",
    "      echo module load R/{R_version}\n",
    "      {command}\n",
    "  host_r33:    \n",
    "    based_on: hosts.host_r\n",
    "    R_version: 3.3"
   ]
  },
  {
   "cell_type": "markdown",
   "metadata": {
    "kernel": "SoS",
    "tags": []
   },
   "source": [
    "This configuration file defines hosts named `host_r` and `host_r33` with address `localhost`. The `workflow_template` would be used if the host name is specified with option `-r`. Although the example is meant for a cluster system that loads appropriate module with command `module load`, this example just `echo` the `module load` line to show how the `workflow_template` is expanded.\n",
    "\n",
    "First, if we use host `host_r`, `R_version=3.1` will be used:"
   ]
  },
  {
   "cell_type": "code",
   "execution_count": 6,
   "metadata": {
    "kernel": "SoS",
    "tags": []
   },
   "outputs": [
    {
     "name": "stdout",
     "output_type": "stream",
     "text": [
      "module load R/3.1\n",
      "\u001b[95mWARNING\u001b[0m: \u001b[95mTask M4_b1c14581f8718798 inactive for more than 4830 seconds, might have been killed.\u001b[0m\n",
      "\u001b[32m[\u001b[0m\u001b[32m#\u001b[0m\u001b[32m]\u001b[0m 1 step processed (1 job completed)\n"
     ]
    }
   ],
   "source": [
    "%run -r host_r -c my_config.yml -v0\n",
    "print('Hello')"
   ]
  },
  {
   "cell_type": "markdown",
   "metadata": {
    "kernel": "SoS",
    "tags": []
   },
   "source": [
    "If we use host `host_r33`, `R_version=3.3` will be used to expand `workflow_template` derived from `host_r`."
   ]
  },
  {
   "cell_type": "code",
   "execution_count": 7,
   "metadata": {
    "kernel": "SoS",
    "tags": []
   },
   "outputs": [
    {
     "name": "stdout",
     "output_type": "stream",
     "text": [
      "module load R/3.3\n",
      "\u001b[32m[\u001b[0m\u001b[32m#\u001b[0m\u001b[32m]\u001b[0m 1 step processed (1 job completed)\n"
     ]
    }
   ],
   "source": [
    "%run -r host_r33 -c my_config.yml -v0\n",
    "print('Hello')"
   ]
  },
  {
   "cell_type": "markdown",
   "metadata": {
    "kernel": "SoS",
    "tags": []
   },
   "source": [
    "Then, finally, if we provide a value of `R_version` from command line, it will override any existing values defined in the config file.\n"
   ]
  },
  {
   "cell_type": "code",
   "execution_count": 8,
   "metadata": {
    "kernel": "SoS",
    "tags": []
   },
   "outputs": [
    {
     "name": "stdout",
     "output_type": "stream",
     "text": [
      "module load R/4.3\n",
      "\u001b[32m[\u001b[0m\u001b[32m#\u001b[0m\u001b[32m]\u001b[0m 1 step processed (1 job completed)\n"
     ]
    }
   ],
   "source": [
    "%run -r host_r R_version=4.3 -c my_config.yml -v0\n",
    "print('Hello')"
   ]
  },
  {
   "cell_type": "markdown",
   "metadata": {
    "kernel": "SoS",
    "tags": []
   },
   "source": [
    "## Use of configuration files"
   ]
  },
  {
   "cell_type": "markdown",
   "metadata": {
    "kernel": "SoS",
    "tags": []
   },
   "source": [
    "### Variable `CONFIG`"
   ]
  },
  {
   "cell_type": "markdown",
   "metadata": {
    "kernel": "SoS",
    "tags": []
   },
   "source": [
    "As shown above, the dictionary loaded from SoS configuration files is available to SoS workflow as variable `CONFIG`. This allows a workflow to retrieve settings from configuration files.\n",
    "\n",
    "For example, a workflow could be define as follows, which uses `Bob` as a default value for `manager`"
   ]
  },
  {
   "cell_type": "code",
   "execution_count": 9,
   "metadata": {
    "kernel": "SoS",
    "tags": []
   },
   "outputs": [
    {
     "name": "stdout",
     "output_type": "stream",
     "text": [
      "\u001b[32m[\u001b[0m\u001b[32m#\u001b[0m\u001b[32m]\u001b[0m 1 step processed (1 job completed)\n"
     ]
    }
   ],
   "source": [
    "%run -v0\n",
    "parameter: manager = CONFIG.get('manager', 'Bob')\n",
    "print(manager)"
   ]
  },
  {
   "cell_type": "markdown",
   "metadata": {
    "kernel": "SoS",
    "tags": []
   },
   "source": [
    "uses `Elena` from command line"
   ]
  },
  {
   "cell_type": "code",
   "execution_count": 10,
   "metadata": {
    "kernel": "SoS",
    "tags": []
   },
   "outputs": [
    {
     "name": "stdout",
     "output_type": "stream",
     "text": [
      "\u001b[32m[\u001b[0m\u001b[32m#\u001b[0m\u001b[32m]\u001b[0m 1 step processed (1 job completed)\n"
     ]
    }
   ],
   "source": [
    "%run --manager Elena -v0\n",
    "parameter: manager = CONFIG.get('manager', 'Bob')\n",
    "print(manager)"
   ]
  },
  {
   "cell_type": "markdown",
   "metadata": {
    "kernel": "SoS",
    "tags": []
   },
   "source": [
    "Or, with the following configuration file"
   ]
  },
  {
   "cell_type": "code",
   "execution_count": 11,
   "metadata": {
    "kernel": "SoS",
    "tags": []
   },
   "outputs": [
    {
     "data": {
      "text/html": [
       "<div class=\"sos_hint\">Cell content saved to <a href=\"myconfig.yml\" target=\"_blank\">myconfig.yml</a>, use option -r to also execute the cell.</div>"
      ],
      "text/plain": [
       "Cell content saved to myconfig.yml, use option -r to also execute the cell.\n"
      ]
     },
     "metadata": {},
     "output_type": "display_data"
    }
   ],
   "source": [
    "%save myconfig.yml -f\n",
    "manager: Martin"
   ]
  },
  {
   "cell_type": "markdown",
   "metadata": {
    "kernel": "SoS",
    "tags": []
   },
   "source": [
    "use default values from a configuration file"
   ]
  },
  {
   "cell_type": "code",
   "execution_count": 12,
   "metadata": {
    "kernel": "SoS",
    "tags": []
   },
   "outputs": [
    {
     "name": "stdout",
     "output_type": "stream",
     "text": [
      "\u001b[32m[\u001b[0m\u001b[32m#\u001b[0m\u001b[32m]\u001b[0m 1 step processed (1 job completed)\n"
     ]
    }
   ],
   "source": [
    "%run -c myconfig.yml -v0\n",
    "parameter: manager = CONFIG.get('manager', 'Bob')\n",
    "print(manager)"
   ]
  },
  {
   "cell_type": "markdown",
   "metadata": {
    "kernel": "SoS",
    "tags": []
   },
   "source": [
    "### Host-dependent paths"
   ]
  },
  {
   "cell_type": "markdown",
   "metadata": {
    "kernel": "SoS",
    "tags": []
   },
   "source": [
    "<div class=\"bs-callout bs-callout-primary\" role=\"alert\">\n",
    "    <h4><code>path(name, default)</code></h4>\n",
    "    <p>The <code>path</code> datatype of SoS is derived from `pathlib.Path`. One of the additions of this datatype is paramters `<code>name</code> and <code>default</code>, which returns a pre-defined <code>path</code> defined in </p>\n",
    "    <pre>\n",
    "    CONFIG[\"hosts\"][current-host][\"paths\"]\n",
    "    </pre>\n",
    "    <p>where <code>current-host</code> is normally <code>localhost</code> but can be one of the remote hosts if the function is called from a remote host. A <code>default</code> value could be returned if <code>name</code> is not available in the configuration.</p>\n",
    "</div>"
   ]
  },
  {
   "cell_type": "markdown",
   "metadata": {
    "kernel": "SoS",
    "tags": []
   },
   "source": [
    "The `hosts` definitions in `~/.sos/hosts.yml` allow the definition of paths for different hosts. For clarity let us define a local configuration file that points `localhost` to a `example_host` configuration. "
   ]
  },
  {
   "cell_type": "code",
   "execution_count": 13,
   "metadata": {
    "kernel": "SoS",
    "tags": []
   },
   "outputs": [
    {
     "data": {
      "text/html": [
       "<div class=\"sos_hint\">Cell content saved to <a href=\"myconfig.yml\" target=\"_blank\">myconfig.yml</a>, use option -r to also execute the cell.</div>"
      ],
      "text/plain": [
       "Cell content saved to myconfig.yml, use option -r to also execute the cell.\n"
      ]
     },
     "metadata": {},
     "output_type": "display_data"
    }
   ],
   "source": [
    "%save myconfig.yml -f\n",
    "localhost: example_host\n",
    "hosts:\n",
    "    example_host:\n",
    "        address: localhost\n",
    "        paths:\n",
    "            home: /Users/{user_name}\n",
    "            project:  /Users/{user_name}/Documents\n",
    "            tmp: /tmp"
   ]
  },
  {
   "cell_type": "markdown",
   "metadata": {
    "kernel": "SoS",
    "tags": []
   },
   "source": [
    "Without worrying about the `localhost` part for now, this configuration file defines a few paths for the localhost. The `paths` could be retrieved using `path(name='project')` so that you can write your script in a host-independent way. For example, the following workflow uses `path(name='project')` to get the host-specific `project` directory, which is defined as `/Users/bpeng1/Documents` in `myconfig.yml`."
   ]
  },
  {
   "cell_type": "code",
   "execution_count": 14,
   "metadata": {
    "kernel": "SoS",
    "tags": []
   },
   "outputs": [
    {
     "name": "stdout",
     "output_type": "stream",
     "text": [
      "Working on /Users/bpeng1/Documents\n"
     ]
    }
   ],
   "source": [
    "%run -c myconfig.yml -v1\n",
    "\n",
    "sh: workdir=path(name='project')\n",
    "   echo Working on `pwd`"
   ]
  },
  {
   "cell_type": "markdown",
   "metadata": {
    "kernel": "SoS",
    "tags": []
   },
   "source": [
    "If you are uncertain if `project` is defined for current host, you can use `default` to specify a default value"
   ]
  },
  {
   "cell_type": "code",
   "execution_count": 15,
   "metadata": {
    "kernel": "SoS",
    "tags": []
   },
   "outputs": [
    {
     "name": "stdout",
     "output_type": "stream",
     "text": [
      "Working on /Users/bpeng1\n"
     ]
    }
   ],
   "source": [
    "%run -c myconfig.yml -v1\n",
    "\n",
    "import os\n",
    "sh: workdir=path(name='scratch', default='~')\n",
    "   echo Working on `pwd`"
   ]
  }
 ],
 "metadata": {
  "anaconda-cloud": {},
  "kernelspec": {
   "display_name": "SoS",
   "language": "sos",
   "name": "sos"
  },
  "language_info": {
   "codemirror_mode": "sos",
   "file_extension": ".sos",
   "mimetype": "text/x-sos",
   "name": "sos",
   "nbconvert_exporter": "sos_notebook.converter.SoS_Exporter",
   "pygments_lexer": "sos"
  },
  "sos": {
   "celltoolbar": true,
   "default_kernel": "SoS",
   "kernels": [
    [
     "Bash",
     "bash",
     "Bash",
     "#E6EEFF"
    ],
    [
     "Julia",
     "julia-0.6",
     "Julia",
     "#ebd8eb"
    ],
    [
     "MATLAB",
     "imatlab",
     "MATLAB",
     "#dff8fb"
    ],
    [
     "Python3",
     "python3",
     "Python3",
     "#FFE771"
    ],
    [
     "R",
     "ir",
     "R",
     "#DCDCDA"
    ],
    [
     "SoS",
     "sos",
     "",
     ""
    ],
    [
     "django_extensions",
     "django_extensions",
     "",
     ""
    ],
    [
     "jupyter3_python_3",
     "jupyter3_python_3",
     "",
     ""
    ]
   ],
   "panel": {
    "displayed": true,
    "height": 0,
    "style": "side"
   }
  },
  "toc": {
   "nav_menu": {
    "height": "105px",
    "width": "254px"
   },
   "navigate_menu": true,
   "number_sections": true,
   "sideBar": true,
   "threshold": 4,
   "toc_cell": false,
   "toc_section_display": "block",
   "toc_window_display": false
  }
 },
 "nbformat": 4,
 "nbformat_minor": 4
}
