{
 "cells": [
  {
   "cell_type": "markdown",
   "metadata": {
    "kernel": "SoS",
    "papermill": {
     "duration": 0.004506,
     "end_time": "2019-12-23T17:02:47.757681",
     "exception": false,
     "start_time": "2019-12-23T17:02:47.753175",
     "status": "completed"
    },
    "tags": []
   },
   "source": [
    "# How to keep track of revisions to the notebook"
   ]
  },
  {
   "cell_type": "markdown",
   "metadata": {
    "kernel": "SoS",
    "papermill": {
     "duration": 0.002721,
     "end_time": "2019-12-23T17:02:47.764127",
     "exception": false,
     "start_time": "2019-12-23T17:02:47.761406",
     "status": "completed"
    },
    "tags": []
   },
   "source": [
    "* **Difficulty level**: easy\n",
    "* **Time need to lean**: 5 minutes or less\n",
    "* **Key points**:\n",
    "  * Magic `%revisions` shows the revision of the document in a repository\n",
    "  * Options of `git log` command can be used\n",
    "  "
   ]
  },
  {
   "cell_type": "markdown",
   "metadata": {
    "kernel": "SoS",
    "papermill": {
     "duration": 0.003058,
     "end_time": "2019-12-23T17:02:47.769911",
     "exception": false,
     "start_time": "2019-12-23T17:02:47.766853",
     "status": "completed"
    },
    "tags": []
   },
   "source": [
    "## Further reading\n",
    "\n",
    "* "
   ]
  }
 ],
 "metadata": {
  "kernelspec": {
   "display_name": "SoS",
   "language": "sos",
   "name": "sos"
  },
  "language_info": {
   "codemirror_mode": "sos",
   "file_extension": ".sos",
   "mimetype": "text/x-sos",
   "name": "sos",
   "nbconvert_exporter": "sos_notebook.converter.SoS_Exporter",
   "pygments_lexer": "sos"
  },
  "papermill": {
   "duration": 2.929813,
   "end_time": "2019-12-23T17:02:48.195547",
   "environment_variables": {},
   "exception": null,
   "input_path": "/Users/bpeng1/sos/sos-docs/src/user_guide/magic_revisions.ipynb",
   "output_path": "magic_revisions.ipynb_rerun.ipynb",
   "parameters": {},
   "start_time": "2019-12-23T17:02:45.265734",
   "version": "1.1.0"
  },
  "sos": {
   "kernels": [
    [
     "Bash",
     "bash",
     "Bash",
     "#E6EEFF"
    ],
    [
     "R",
     "ir",
     "R",
     "#DCDCDA"
    ],
    [
     "SoS",
     "sos",
     "",
     ""
    ]
   ],
   "panel": {
    "displayed": true,
    "height": 0
   },
   "version": "0.19.6"
  }
 },
 "nbformat": 4,
 "nbformat_minor": 4
}