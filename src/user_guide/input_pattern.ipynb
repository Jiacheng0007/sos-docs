{
 "cells": [
  {
   "cell_type": "markdown",
   "metadata": {
    "kernel": "SoS",
    "papermill": {
     "duration": 0.007633,
     "end_time": "2019-12-23T17:02:08.449391",
     "exception": false,
     "start_time": "2019-12-23T17:02:08.441758",
     "status": "completed"
    },
    "tags": []
   },
   "source": [
    "# Extract information from input file names"
   ]
  },
  {
   "cell_type": "markdown",
   "metadata": {
    "kernel": "SoS",
    "papermill": {
     "duration": 0.006958,
     "end_time": "2019-12-23T17:02:08.466044",
     "exception": false,
     "start_time": "2019-12-23T17:02:08.459086",
     "status": "completed"
    },
    "tags": []
   },
   "source": [
    "* **Difficulty level**: easy\n",
    "* **Time need to lean**: 10 minutes or less\n",
    "* **Key points**:\n",
    "  * Option `pattern` creates variables from input files\n",
    "  "
   ]
  },
  {
   "cell_type": "markdown",
   "metadata": {
    "kernel": "SoS",
    "papermill": {
     "duration": 0.00626,
     "end_time": "2019-12-23T17:02:08.479624",
     "exception": false,
     "start_time": "2019-12-23T17:02:08.473364",
     "status": "completed"
    },
    "tags": []
   },
   "source": [
    "## Option `pattern`"
   ]
  },
  {
   "cell_type": "markdown",
   "metadata": {
    "kernel": "SoS",
    "papermill": {
     "duration": 0.005746,
     "end_time": "2019-12-23T17:02:08.491606",
     "exception": false,
     "start_time": "2019-12-23T17:02:08.485860",
     "status": "completed"
    },
    "tags": []
   },
   "source": [
    "Option `pattern` uses named wildcards to match pattern to all input files, and creates step variables for these wildcard objects. That is to say, with `step_input='a-20.txt', 'b-10.txt'` and `pattern = '{name}-{par}.txt'` as in the following example, SoS creates\n",
    "\n",
    "* `name=['a', 'b']`\n",
    "* `par=['20', '10']`\n",
    "\n",
    "Then, with the help from another function `expand_pattern` that creates multiple names from array variables, we can join the arrays to create `_output` \n",
    "\n",
    "* `a-processed-20.txt` and\n",
    "* `b-processed-20.txt`"
   ]
  },
  {
   "cell_type": "code",
   "execution_count": 1,
   "metadata": {
    "kernel": "SoS",
    "papermill": {
     "duration": 1.258533,
     "end_time": "2019-12-23T17:02:09.756774",
     "exception": true,
     "start_time": "2019-12-23T17:02:08.498241",
     "status": "failed"
    },
    "tags": []
   },
   "outputs": [
    {
     "name": "stdout",
     "output_type": "stream",
     "text": [
      "a-processed-20.txt b-processed-10.txt"
     ]
    },
    {
     "name": "stdout",
     "output_type": "stream",
     "text": [
      "\n"
     ]
    },
    {
     "name": "stderr",
     "output_type": "stream",
     "text": [
      "Output target a-processed-20.txt does not exist after the completion of step scratch_0\n"
     ]
    }
   ],
   "source": [
    "!touch a-20.txt b-10.txt\n",
    "\n",
    "input:  'a-20.txt', 'b-10.txt', pattern = '{name}-{par}.txt'\n",
    "output: expand_pattern(\"{name}-processed-{par}.txt\")\n",
    "print(_output)"
   ]
  },
  {
   "cell_type": "markdown",
   "metadata": {
    "kernel": "SoS",
    "papermill": {
     "duration": null,
     "end_time": null,
     "exception": null,
     "start_time": null,
     "status": "pending"
    },
    "tags": []
   },
   "source": [
    "## `pattern` in substeps"
   ]
  },
  {
   "cell_type": "markdown",
   "metadata": {
    "kernel": "SoS",
    "papermill": {
     "duration": null,
     "end_time": null,
     "exception": null,
     "start_time": null,
     "status": "pending"
    },
    "tags": []
   },
   "source": [
    "A side effect of `pattern` is that the extracted variables are automatically `paired_with` input files, which, in addition to variables such as `name` and `par`, with create variables `_name` and `_par` for each substep.\n",
    "\n",
    "That is to say, if substeps are defined with option `group_by` (or `for_each`), the `expand_pattern` should use variables `_name` and `_par` to create the right `_output` for each substep:"
   ]
  },
  {
   "cell_type": "code",
   "execution_count": null,
   "metadata": {
    "kernel": "SoS",
    "papermill": {
     "duration": null,
     "end_time": null,
     "exception": null,
     "start_time": null,
     "status": "pending"
    },
    "tags": []
   },
   "outputs": [],
   "source": [
    "!touch a-20.txt b-10.txt\n",
    "%run -v1\n",
    "[step]\n",
    "input:  'a-20.txt', 'b-10.txt', pattern = '{name}-{par}.txt', group_by=1\n",
    "output: expand_pattern(\"{_name}-processed-{_par}.txt\")\n",
    "print(_output)"
   ]
  },
  {
   "cell_type": "markdown",
   "metadata": {
    "kernel": "SoS",
    "papermill": {
     "duration": null,
     "end_time": null,
     "exception": null,
     "start_time": null,
     "status": "pending"
    },
    "tags": []
   },
   "source": [
    "## Further reading\n",
    "\n",
    "* [`input` statement](input_statement.html)"
   ]
  }
 ],
 "metadata": {
  "kernelspec": {
   "display_name": "SoS",
   "language": "sos",
   "name": "sos"
  },
  "language_info": {
   "codemirror_mode": "sos",
   "file_extension": ".sos",
   "mimetype": "text/x-sos",
   "name": "sos",
   "nbconvert_exporter": "sos_notebook.converter.SoS_Exporter",
   "pygments_lexer": "sos"
  },
  "papermill": {
   "duration": 9.379487,
   "end_time": "2019-12-23T17:02:14.951792",
   "environment_variables": {},
   "exception": true,
   "input_path": "/Users/bpeng1/sos/sos-docs/src/user_guide/input_pattern.ipynb",
   "output_path": "input_pattern.ipynb_rerun.ipynb",
   "parameters": {},
   "start_time": "2019-12-23T17:02:05.572305",
   "version": "1.1.0"
  },
  "sos": {
   "kernels": [
    [
     "Bash",
     "bash",
     "Bash",
     "#E6EEFF"
    ],
    [
     "R",
     "ir",
     "R",
     "#DCDCDA"
    ],
    [
     "SoS",
     "sos",
     "",
     ""
    ]
   ],
   "panel": {
    "displayed": true,
    "height": 0
   },
   "version": "0.21.2"
  }
 },
 "nbformat": 4,
 "nbformat_minor": 4
}