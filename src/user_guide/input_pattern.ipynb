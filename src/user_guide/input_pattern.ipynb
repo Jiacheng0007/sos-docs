{
 "cells": [
  {
   "cell_type": "markdown",
   "metadata": {
    "kernel": "SoS",
    "tags": []
   },
   "source": [
    "# Input option `pattern` and function `expand_pattern`"
   ]
  },
  {
   "cell_type": "markdown",
   "metadata": {
    "kernel": "SoS",
    "tags": []
   },
   "source": [
    "* **Difficulty level**: easy\n",
    "* **Time need to lean**: 10 minutes or less\n",
    "* **Key points**:\n",
    "  * Option `pattern` creates variables from input files\n",
    "  "
   ]
  },
  {
   "cell_type": "markdown",
   "metadata": {
    "kernel": "SoS",
    "tags": []
   },
   "source": [
    "## Option `pattern`"
   ]
  },
  {
   "cell_type": "markdown",
   "metadata": {
    "kernel": "SoS",
    "tags": []
   },
   "source": [
    "Option `pattern` uses named wildcards to match pattern to all input files, and creates step variables for these wildcard objects. That is to say, with `step_input='a-20.txt', 'b-10.txt'` and `pattern = '{name}-{par}.txt'` as in the following example, SoS creates\n",
    "\n",
    "* `name=['a', 'b']`\n",
    "* `par=['20', '10']`\n",
    "\n",
    "Then, with the help from another function `expand_pattern` that creates multiple names from array variables, we can join the arrays to create `_output` \n",
    "\n",
    "* `a-processed-20.txt` and\n",
    "* `b-processed-20.txt`"
   ]
  },
  {
   "cell_type": "code",
   "execution_count": 1,
   "metadata": {
    "kernel": "SoS",
    "tags": []
   },
   "outputs": [
    {
     "name": "stdout",
     "output_type": "stream",
     "text": [
      "a-processed-20.txt b-processed-10.txt\n"
     ]
    }
   ],
   "source": [
    "!touch a-20.txt b-10.txt\n",
    "\n",
    "input:  'a-20.txt', 'b-10.txt', pattern = '{name}-{par}.txt'\n",
    "output: expand_pattern(\"{name}-processed-{par}.txt\")\n",
    "print(_output)\n",
    "_output.touch()"
   ]
  },
  {
   "cell_type": "markdown",
   "metadata": {
    "kernel": "SoS",
    "tags": []
   },
   "source": [
    "## `pattern` in substeps"
   ]
  },
  {
   "cell_type": "markdown",
   "metadata": {
    "kernel": "SoS",
    "tags": []
   },
   "source": [
    "A side effect of `pattern` is that the extracted variables are automatically `paired_with` input files, which, in addition to variables such as `name` and `par`, with create variables `_name` and `_par` for each substep.\n",
    "\n",
    "That is to say, if substeps are defined with option `group_by` (or `for_each`), the `expand_pattern` should use variables `_name` and `_par` to create the right `_output` for each substep:"
   ]
  },
  {
   "cell_type": "code",
   "execution_count": 2,
   "metadata": {
    "kernel": "SoS",
    "tags": []
   },
   "outputs": [
    {
     "name": "stdout",
     "output_type": "stream",
     "text": [
      "a-processed-20.txt\n",
      "b-processed-10.txt\n"
     ]
    }
   ],
   "source": [
    "!touch a-20.txt b-10.txt\n",
    "%run -v1\n",
    "[step]\n",
    "input:  'a-20.txt', 'b-10.txt', pattern = '{name}-{par}.txt', group_by=1\n",
    "output: expand_pattern(\"{_name}-processed-{_par}.txt\")\n",
    "print(_output)\n",
    "_output.touch()"
   ]
  },
  {
   "cell_type": "markdown",
   "metadata": {
    "kernel": "SoS",
    "tags": []
   },
   "source": [
    "## Further reading\n",
    "\n",
    "* [`input` statement](input_statement.html)"
   ]
  }
 ],
 "metadata": {
  "kernelspec": {
   "display_name": "SoS",
   "language": "sos",
   "name": "sos"
  },
  "language_info": {
   "codemirror_mode": "sos",
   "file_extension": ".sos",
   "mimetype": "text/x-sos",
   "name": "sos",
   "nbconvert_exporter": "sos_notebook.converter.SoS_Exporter",
   "pygments_lexer": "sos"
  },
  "sos": {
   "kernels": [
    [
     "Bash",
     "bash",
     "Bash",
     "#E6EEFF"
    ],
    [
     "R",
     "ir",
     "R",
     "#DCDCDA"
    ],
    [
     "SoS",
     "sos",
     "",
     ""
    ]
   ],
   "panel": {
    "displayed": true,
    "height": 0
   },
   "version": "0.21.5"
  }
 },
 "nbformat": 4,
 "nbformat_minor": 4
}
