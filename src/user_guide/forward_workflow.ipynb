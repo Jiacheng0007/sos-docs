{
 "cells": [
  {
   "cell_type": "markdown",
   "metadata": {
    "kernel": "SoS",
    "papermill": {
     "duration": 0.019189,
     "end_time": "2019-12-23T17:01:39.851419",
     "exception": false,
     "start_time": "2019-12-23T17:01:39.832230",
     "status": "completed"
    },
    "tags": []
   },
   "source": [
    "# How to define and execute basic SoS workflows"
   ]
  },
  {
   "cell_type": "markdown",
   "metadata": {
    "kernel": "SoS",
    "papermill": {
     "duration": 0.016604,
     "end_time": "2019-12-23T17:01:39.885077",
     "exception": false,
     "start_time": "2019-12-23T17:01:39.868473",
     "status": "completed"
    },
    "tags": []
   },
   "source": [
    "* **Difficulty level**: easy\n",
    "* **Time need to lean**: 10 minutes or less\n",
    "* **Key points**:\n",
    "  * A forward-style workflow consists of numerically numbered steps\n",
    "  * Multiple workflows can be defined in a single SoS script or notebook\n",
    "  * Optional input and output statements can be added to change how workflows are executed\n",
    "  * The default input of a step if the output of its previous step  "
   ]
  },
  {
   "cell_type": "markdown",
   "metadata": {
    "kernel": "SoS",
    "papermill": {
     "duration": 0.016005,
     "end_time": "2019-12-23T17:01:39.916961",
     "exception": false,
     "start_time": "2019-12-23T17:01:39.900956",
     "status": "completed"
    },
    "tags": []
   },
   "source": [
    "## Simple workflows with numerically numbered steps"
   ]
  },
  {
   "cell_type": "markdown",
   "metadata": {
    "kernel": "SoS",
    "papermill": {
     "duration": 0.015822,
     "end_time": "2019-12-23T17:01:39.948368",
     "exception": false,
     "start_time": "2019-12-23T17:01:39.932546",
     "status": "completed"
    },
    "tags": []
   },
   "source": [
    "The workflows you have seen so far have numerically numbered steps. For example, this example from the [first tutorial](sos_in_notebook.html) have a single workflow `plot` with steps `plot_10` and `plot_20` and SoS will execute the steps in numeric ordering."
   ]
  },
  {
   "cell_type": "markdown",
   "metadata": {
    "kernel": "SoS",
    "papermill": {
     "duration": 0.015813,
     "end_time": "2019-12-23T17:01:39.980829",
     "exception": false,
     "start_time": "2019-12-23T17:01:39.965016",
     "status": "completed"
    },
    "tags": []
   },
   "source": [
    "<div class=\"bs-callout bs-callout-primary\" role=\"alert\">\n",
    "    <h4>Workflows with numerically numbered steps</h4>\n",
    "    <ul>\n",
    "        <li>Steps have the format of <code>name_index</code> (e.g. <code>step_10</code>) where <code>name</code> is the name of the workflow, and <code>index</code> is a numeric number</li>\n",
    "        <li>Step indexes are usually not consecutive to allow easy insertion of new steps</li>\n",
    "        <li>Both workflow <code>name</code> and <code>index</code> can be ignored. <code>10</code>, <code>20</code> etc are considered as steps of an unnamed workflow, <code>step</code> is considered as a one-step workflow</li>\n",
    "        <li>Workflow can be executed by workflow name (e.g. <code>%run name</code> in Jupyter, <code>sos run name</code> from command line). A default workflow will be execute if only one workflow is defined, or a default workflow is defined</li>\n",
    "    </ul>\n",
    "</div>"
   ]
  },
  {
   "cell_type": "code",
   "execution_count": 1,
   "metadata": {
    "kernel": "SoS",
    "papermill": {
     "duration": 5.641955,
     "end_time": "2019-12-23T17:01:45.638888",
     "exception": false,
     "start_time": "2019-12-23T17:01:39.996933",
     "status": "completed"
    },
    "tags": []
   },
   "outputs": [
    {
     "name": "stdout",
     "output_type": "stream",
     "text": [
      "xlsx2csv data/DEG.xlsx > DEG.csv\n"
     ]
    },
    {
     "name": "stdout",
     "output_type": "stream",
     "text": [
      "Invalid xlsx file: data/DEG.xlsx\n"
     ]
    },
    {
     "name": "stdout",
     "output_type": "stream",
     "text": [
      "Exception ignored in: <function Xlsx2csv.__del__ at 0x10b080730>\n"
     ]
    },
    {
     "name": "stdout",
     "output_type": "stream",
     "text": [
      "Traceback (most recent call last):\n"
     ]
    },
    {
     "name": "stdout",
     "output_type": "stream",
     "text": [
      "  File \"/Users/bpeng1/anaconda3/envs/sos/bin/xlsx2csv\", line 205, in __del__\n"
     ]
    },
    {
     "name": "stdout",
     "output_type": "stream",
     "text": [
      "AttributeError: 'Xlsx2csv' object has no attribute 'ziphandle'\n"
     ]
    },
    {
     "name": "stdout",
     "output_type": "stream",
     "text": [
      "\u001b[91mERROR\u001b[0m: \u001b[91m[plot_10]: [0]: \n"
     ]
    },
    {
     "name": "stdout",
     "output_type": "stream",
     "text": [
      "Failed to execute \u001b[0m\u001b[32m/bin/bash -ev .sos/plot_10_0_e5c42d97.sh\u001b[0m\u001b[91m\n"
     ]
    },
    {
     "name": "stdout",
     "output_type": "stream",
     "text": [
      "exitcode=1, workdir=\u001b[0m\u001b[32m/Users/bpeng1/sos/sos-docs/development\u001b[0m\u001b[91m\n"
     ]
    },
    {
     "name": "stdout",
     "output_type": "stream",
     "text": [
      "---------------------------------------------------------------------------\n"
     ]
    },
    {
     "name": "stdout",
     "output_type": "stream",
     "text": [
      "[plot]: Exits with 1 pending step (plot_20)\u001b[0m\n"
     ]
    }
   ],
   "source": [
    "%run\n",
    "\n",
    "[global]\n",
    "excel_file = 'data/DEG.xlsx'\n",
    "csv_file = 'DEG.csv'\n",
    "figure_file = 'output.pdf'\n",
    "\n",
    "[plot_10]\n",
    "run: expand=True\n",
    "    xlsx2csv {excel_file} > {csv_file}\n",
    "\n",
    "[plot_20]\n",
    "R: expand=True\n",
    "    data <- read.csv('{csv_file}')\n",
    "    pdf('{figure_file}')\n",
    "    plot(data$log2FoldChange, data$stat)\n",
    "    dev.off()"
   ]
  },
  {
   "cell_type": "markdown",
   "metadata": {
    "kernel": "SoS",
    "papermill": {
     "duration": 0.02423,
     "end_time": "2019-12-23T17:01:45.689188",
     "exception": false,
     "start_time": "2019-12-23T17:01:45.664958",
     "status": "completed"
    },
    "tags": []
   },
   "source": [
    "The workflow is executed by default with magic `%run` because only one workflow is defined in the script. You can also define multiple workflows and execute them by their names. For example, the following script defines two single-step workflows `convert` and `plot`. Because there is no default workflow, you will have to refer to them with their names:\n",
    "\n",
    "```\n",
    "%run convert\n",
    "```\n",
    "and\n",
    "```\n",
    "%run plot\n",
    "```"
   ]
  },
  {
   "cell_type": "code",
   "execution_count": 2,
   "metadata": {
    "kernel": "SoS",
    "papermill": {
     "duration": 4.902756,
     "end_time": "2019-12-23T17:01:50.618917",
     "exception": false,
     "start_time": "2019-12-23T17:01:45.716161",
     "status": "completed"
    },
    "tags": []
   },
   "outputs": [
    {
     "name": "stdout",
     "output_type": "stream",
     "text": [
      "xlsx2csv data/DEG.xlsx > DEG.csv\n"
     ]
    },
    {
     "name": "stdout",
     "output_type": "stream",
     "text": [
      "Invalid xlsx file: data/DEG.xlsx\n"
     ]
    },
    {
     "name": "stdout",
     "output_type": "stream",
     "text": [
      "Exception ignored in: <function Xlsx2csv.__del__ at 0x10acb9730>\n"
     ]
    },
    {
     "name": "stdout",
     "output_type": "stream",
     "text": [
      "Traceback (most recent call last):\n"
     ]
    },
    {
     "name": "stdout",
     "output_type": "stream",
     "text": [
      "  File \"/Users/bpeng1/anaconda3/envs/sos/bin/xlsx2csv\", line 205, in __del__\n"
     ]
    },
    {
     "name": "stdout",
     "output_type": "stream",
     "text": [
      "AttributeError: 'Xlsx2csv' object has no attribute 'ziphandle'\n"
     ]
    },
    {
     "name": "stdout",
     "output_type": "stream",
     "text": [
      "\u001b[91mERROR\u001b[0m: \u001b[91m[convert]: [0]: \n"
     ]
    },
    {
     "name": "stdout",
     "output_type": "stream",
     "text": [
      "Failed to execute \u001b[0m\u001b[32m/bin/bash -ev .sos/convert_0_a49740a7.sh\u001b[0m\u001b[91m\n"
     ]
    },
    {
     "name": "stdout",
     "output_type": "stream",
     "text": [
      "exitcode=1, workdir=\u001b[0m\u001b[32m/Users/bpeng1/sos/sos-docs/development\u001b[0m\u001b[91m\n"
     ]
    },
    {
     "name": "stdout",
     "output_type": "stream",
     "text": [
      "---------------------------------------------------------------------------\u001b[0m\n"
     ]
    }
   ],
   "source": [
    "%run convert\n",
    "\n",
    "[global]\n",
    "excel_file = 'data/DEG.xlsx'\n",
    "csv_file = 'DEG.csv'\n",
    "figure_file = 'output.pdf'\n",
    "\n",
    "[convert]\n",
    "run: expand=True\n",
    "    xlsx2csv {excel_file} > {csv_file}\n",
    "\n",
    "[plot]\n",
    "R: expand=True\n",
    "    data <- read.csv('{csv_file}')\n",
    "    pdf('{figure_file}')\n",
    "    plot(data$log2FoldChange, data$stat)\n",
    "    dev.off()"
   ]
  },
  {
   "cell_type": "code",
   "execution_count": 3,
   "metadata": {
    "kernel": "SoS",
    "papermill": {
     "duration": 4.589133,
     "end_time": "2019-12-23T17:01:55.231115",
     "exception": false,
     "start_time": "2019-12-23T17:01:50.641982",
     "status": "completed"
    },
    "tags": []
   },
   "outputs": [
    {
     "name": "stdout",
     "output_type": "stream",
     "text": [
      "Error in read.table(file = file, header = header, sep = sep, quote = quote,  : \n"
     ]
    },
    {
     "name": "stdout",
     "output_type": "stream",
     "text": [
      "  no lines available in input\n"
     ]
    },
    {
     "name": "stdout",
     "output_type": "stream",
     "text": [
      "Calls: read.csv -> read.table\n"
     ]
    },
    {
     "name": "stdout",
     "output_type": "stream",
     "text": [
      "Execution halted\n"
     ]
    },
    {
     "name": "stdout",
     "output_type": "stream",
     "text": [
      "\u001b[91mERROR\u001b[0m: \u001b[91m[plot]: [0]: \n"
     ]
    },
    {
     "name": "stdout",
     "output_type": "stream",
     "text": [
      "Failed to execute \u001b[0m\u001b[32mRscript .sos/plot_0_1b361d96.R\u001b[0m\u001b[91m\n"
     ]
    },
    {
     "name": "stdout",
     "output_type": "stream",
     "text": [
      "exitcode=1, workdir=\u001b[0m\u001b[32m/Users/bpeng1/sos/sos-docs/development\u001b[0m\u001b[91m\n"
     ]
    },
    {
     "name": "stdout",
     "output_type": "stream",
     "text": [
      "---------------------------------------------------------------------------\u001b[0m\n"
     ]
    }
   ],
   "source": [
    "%run plot\n",
    "\n",
    "[global]\n",
    "excel_file = 'data/DEG.xlsx'\n",
    "csv_file = 'DEG.csv'\n",
    "figure_file = 'output.pdf'\n",
    "\n",
    "[convert]\n",
    "run: expand=True\n",
    "    xlsx2csv {excel_file} > {csv_file}\n",
    "\n",
    "[plot]\n",
    "R: expand=True\n",
    "    data <- read.csv('{csv_file}')\n",
    "    pdf('{figure_file}')\n",
    "    plot(data$log2FoldChange, data$stat)\n",
    "    dev.off()"
   ]
  },
  {
   "cell_type": "markdown",
   "metadata": {
    "kernel": "SoS",
    "papermill": {
     "duration": 0.028198,
     "end_time": "2019-12-23T17:01:55.286617",
     "exception": false,
     "start_time": "2019-12-23T17:01:55.258419",
     "status": "completed"
    },
    "tags": []
   },
   "source": [
    "## Default input of steps"
   ]
  },
  {
   "cell_type": "markdown",
   "metadata": {
    "kernel": "SoS",
    "papermill": {
     "duration": 0.034157,
     "end_time": "2019-12-23T17:01:55.353234",
     "exception": false,
     "start_time": "2019-12-23T17:01:55.319077",
     "status": "completed"
    },
    "tags": []
   },
   "source": [
    "As shown in in [How to specify input and output files and process input files in groups](doc/user_guide/input_substeps.html), you can define `input` and `output` for each step. "
   ]
  },
  {
   "cell_type": "markdown",
   "metadata": {
    "kernel": "SoS",
    "papermill": {
     "duration": 0.027198,
     "end_time": "2019-12-23T17:01:55.418416",
     "exception": false,
     "start_time": "2019-12-23T17:01:55.391218",
     "status": "completed"
    },
    "tags": []
   },
   "source": [
    "<div class=\"bs-callout bs-callout-primary\" role=\"alert\">\n",
    "    <h4>Default <code>input</code> of numerically numbered workflows</h4>\n",
    "    <p>The default input of a step in a numerically numbered workflow is the output of its previous step</p>\n",
    "</div>"
   ]
  },
  {
   "cell_type": "markdown",
   "metadata": {
    "kernel": "SoS",
    "papermill": {
     "duration": 0.025521,
     "end_time": "2019-12-23T17:01:55.469754",
     "exception": false,
     "start_time": "2019-12-23T17:01:55.444233",
     "status": "completed"
    },
    "tags": []
   },
   "source": [
    "Therefore, in the following workflow, the `input` statement of `plot_20` can be ignored. "
   ]
  },
  {
   "cell_type": "code",
   "execution_count": 4,
   "metadata": {
    "kernel": "SoS",
    "papermill": {
     "duration": 3.203221,
     "end_time": "2019-12-23T17:01:58.699056",
     "exception": false,
     "start_time": "2019-12-23T17:01:55.495835",
     "status": "completed"
    },
    "tags": []
   },
   "outputs": [
    {
     "name": "stdout",
     "output_type": "stream",
     "text": [
      "\u001b[91mERROR\u001b[0m: \u001b[91mNo rule to generate target 'data/DEG.xlsx', needed by 'plot_10'.\u001b[0m\n"
     ]
    }
   ],
   "source": [
    "%run\n",
    "\n",
    "[global]\n",
    "excel_file = 'data/DEG.xlsx'\n",
    "csv_file = 'DEG.csv'\n",
    "figure_file = 'output.pdf'\n",
    "\n",
    "[plot_10]\n",
    "input: excel_file\n",
    "output: csv_file\n",
    "\n",
    "run: expand=True\n",
    "    xlsx2csv {_input} > {_output}\n",
    "\n",
    "[plot_20]\n",
    "# input: csv_file\n",
    "output: figure_file\n",
    "\n",
    "R: expand=True\n",
    "    data <- read.csv('{_input}')\n",
    "    pdf('{_output}')\n",
    "    plot(data$log2FoldChange, data$stat)\n",
    "    dev.off()"
   ]
  },
  {
   "cell_type": "markdown",
   "metadata": {
    "kernel": "SoS",
    "papermill": {
     "duration": 0.028442,
     "end_time": "2019-12-23T17:01:58.753053",
     "exception": false,
     "start_time": "2019-12-23T17:01:58.724611",
     "status": "completed"
    },
    "tags": []
   },
   "source": [
    "## Basic data-flow based workflows"
   ]
  },
  {
   "cell_type": "markdown",
   "metadata": {
    "kernel": "SoS",
    "papermill": {
     "duration": 0.032697,
     "end_time": "2019-12-23T17:01:58.815523",
     "exception": false,
     "start_time": "2019-12-23T17:01:58.782826",
     "status": "completed"
    },
    "tags": []
   },
   "source": [
    "We have shown the same workflows in the `plot_10`, `plot_20` style, in the `convert` and `plot` style, and with and without specification of input and output. What will happen if you define a workflow in separate steps with `input` and `output` statements?"
   ]
  },
  {
   "cell_type": "markdown",
   "metadata": {
    "kernel": "SoS",
    "papermill": {
     "duration": 0.025349,
     "end_time": "2019-12-23T17:01:58.866675",
     "exception": false,
     "start_time": "2019-12-23T17:01:58.841326",
     "status": "completed"
    },
    "tags": []
   },
   "source": [
    "Let us first remove the intermediate `DEG.csv`,"
   ]
  },
  {
   "cell_type": "code",
   "execution_count": 5,
   "metadata": {
    "kernel": "SoS",
    "papermill": {
     "duration": 0.817248,
     "end_time": "2019-12-23T17:01:59.710945",
     "exception": false,
     "start_time": "2019-12-23T17:01:58.893697",
     "status": "completed"
    },
    "tags": []
   },
   "outputs": [],
   "source": [
    "!rm DEG.csv"
   ]
  },
  {
   "cell_type": "markdown",
   "metadata": {
    "kernel": "SoS",
    "papermill": {
     "duration": 0.026506,
     "end_time": "2019-12-23T17:01:59.767082",
     "exception": false,
     "start_time": "2019-12-23T17:01:59.740576",
     "status": "completed"
    },
    "tags": []
   },
   "source": [
    "and execute the `plot` step of the following workflow"
   ]
  },
  {
   "cell_type": "markdown",
   "metadata": {
    "kernel": "SoS",
    "papermill": {
     "duration": 0.030976,
     "end_time": "2019-12-23T17:01:59.824392",
     "exception": false,
     "start_time": "2019-12-23T17:01:59.793416",
     "status": "completed"
    },
    "tags": []
   },
   "source": [
    "<div class=\"bs-callout bs-callout-primary\" role=\"alert\">\n",
    "    <h4>Simple data-flow based workflow</h4>\n",
    "    <p>If the <code>input</code> files of a step do not exist, SoS will automatically check other steps in the workflow and call them to generate the needed files. This allows the creation of workflows based on data flow. \n",
    "    </p>\n",
    " </div>"
   ]
  },
  {
   "cell_type": "code",
   "execution_count": 6,
   "metadata": {
    "kernel": "SoS",
    "papermill": {
     "duration": 3.807337,
     "end_time": "2019-12-23T17:02:03.663648",
     "exception": false,
     "start_time": "2019-12-23T17:01:59.856311",
     "status": "completed"
    },
    "tags": []
   },
   "outputs": [
    {
     "name": "stdout",
     "output_type": "stream",
     "text": [
      "\u001b[91mERROR\u001b[0m: \u001b[91mNo step to generate target data/DEG.xlsx, needed by 'convert'\u001b[0m\n"
     ]
    }
   ],
   "source": [
    "%run plot\n",
    "\n",
    "[global]\n",
    "excel_file = 'data/DEG.xlsx'\n",
    "csv_file = 'DEG.csv'\n",
    "figure_file = 'output.pdf'\n",
    "\n",
    "[convert]\n",
    "input: excel_file\n",
    "output: csv_file\n",
    "\n",
    "run: expand=True\n",
    "    xlsx2csv {_input} > {_output}\n",
    "\n",
    "[plot]\n",
    "input: csv_file\n",
    "output: figure_file\n",
    "\n",
    "R: expand=True\n",
    "    data <- read.csv('{_input}')\n",
    "    pdf('{_output}')\n",
    "    plot(data$log2FoldChange, data$stat)\n",
    "    dev.off()"
   ]
  },
  {
   "cell_type": "markdown",
   "metadata": {
    "kernel": "SoS",
    "papermill": {
     "duration": 0.027068,
     "end_time": "2019-12-23T17:02:03.725584",
     "exception": false,
     "start_time": "2019-12-23T17:02:03.698516",
     "status": "completed"
    },
    "tags": []
   },
   "source": [
    "As you can see, although the step `plot` is requested, SoS executes both the `convert` and `plot` steps because the required input file `csv_file` (`DEG.csv`) does not exist. In this case, SoS will look for steps that produces `DEG.csv` and execute it to generate `DEG.csv` before `plot` is executed."
   ]
  },
  {
   "cell_type": "markdown",
   "metadata": {
    "kernel": "SoS",
    "papermill": {
     "duration": 0.033617,
     "end_time": "2019-12-23T17:02:03.786518",
     "exception": false,
     "start_time": "2019-12-23T17:02:03.752901",
     "status": "completed"
    },
    "tags": []
   },
   "source": [
    " <div class=\"bs-callout bs-callout-warning\" role=\"alert\">\n",
    "    <h4>Output of data-flow based workflow</h4>\n",
    "     <p>For output files to be automatically identified by SoS as input for another step, the <code>output</code> statement must be clearly defined. That is to say, they must be either\n",
    "    </p>\n",
    "    <ul>\n",
    "        <li>One or more filenames (e.g. <code>output: \"DEG.csv\"</code>) or</li>\n",
    "        <li>Some expression that can be easily evaluated from variables defined in the global section (e.g. <code>output: csv_file</code>)</li>\n",
    "    </ul>\n",
    "   <p> So output derived from `_input` cannot be used (e.g. <code>output: _input.with_suffix('.bak')</code>).  However,</p>\n",
    "    <ul>\n",
    "        <li>You can assign complex output with a name and use <code><a href=\"named_output.html\">named_output()</a></code> to refer to it.</li>\n",
    "        <li>You can create <a href=\"auxiliary_steps.html\">makefile-style steps</a> and allows the creation of files through pattern-matching.</li>\n",
    "    </ul>\n",
    "</div>"
   ]
  },
  {
   "cell_type": "markdown",
   "metadata": {
    "kernel": "SoS",
    "papermill": {
     "duration": 0.026994,
     "end_time": "2019-12-23T17:02:03.840189",
     "exception": false,
     "start_time": "2019-12-23T17:02:03.813195",
     "status": "completed"
    },
    "tags": []
   },
   "source": [
    "## Passing output of steps with substeps *"
   ]
  },
  {
   "cell_type": "markdown",
   "metadata": {
    "kernel": "SoS",
    "papermill": {
     "duration": 0.035414,
     "end_time": "2019-12-23T17:02:03.901550",
     "exception": false,
     "start_time": "2019-12-23T17:02:03.866136",
     "status": "completed"
    },
    "tags": []
   },
   "source": [
    "<div class=\"bs-callout bs-callout-warning\" role=\"alert\">\n",
    "    <h4>Output of a step with substeps</h4>\n",
    "    <p>If a step has multiple substeps, the step output consists of <code>_output</code> from each substep, which will be by default passed to the next step and create multiple substeps.</p>\n",
    "</div>"
   ]
  },
  {
   "cell_type": "markdown",
   "metadata": {
    "kernel": "SoS",
    "papermill": {
     "duration": 0.032367,
     "end_time": "2019-12-23T17:02:03.979881",
     "exception": false,
     "start_time": "2019-12-23T17:02:03.947514",
     "status": "completed"
    },
    "tags": []
   },
   "source": [
    "Things can get a little bit complicated when a step has multiple substeps. As you can recall from [How to specify input and output files and process input files in groups](doc/user_guide/input_substeps.html), multiple substeps can be defined by input option `group_by`, each with its own `_input` and `_output`. When the output of such a step is inherited by another step, these `_output` will become the `_input` of the substeps.\n",
    "\n",
    "For example, after running `fastqc` on the input fastq files, we would like to process the generated HTML file and check if the qualities are ok. We use the `beautifulsoup` Python module and find all the `<h2>` headers. Without going into the details of the use of `beautifulsoup` to parse HTML files, you should notice that \n",
    "\n",
    "* No `input` is defined for step `20` so it takes the output of step `10` as its input.\n",
    "* The output of step `10` contains two groups, `data/S20_R1_fastqc.html` and `data/S20_R2_fastqc.html`, which becomes the input of two substeps of step `20`.\n",
    "* The input of step `20` are processed one by one"
   ]
  },
  {
   "cell_type": "code",
   "execution_count": 7,
   "metadata": {
    "kernel": "SoS",
    "papermill": {
     "duration": 3.298066,
     "end_time": "2019-12-23T17:02:07.305419",
     "exception": false,
     "start_time": "2019-12-23T17:02:04.007353",
     "status": "completed"
    },
    "tags": []
   },
   "outputs": [
    {
     "name": "stdout",
     "output_type": "stream",
     "text": [
      "\u001b[91mERROR\u001b[0m: \u001b[91mNo rule to generate target 'data/S20_R2.fastq', needed by '10'.\u001b[0m\n"
     ]
    }
   ],
   "source": [
    "%run \n",
    "\n",
    "[10]\n",
    "input: 'data/S20_R1.fastq', 'data/S20_R2.fastq', group_by=1\n",
    "output: f'{_input:n}_fastqc.html'\n",
    "\n",
    "sh: expand=True\n",
    "    fastqc {_input}\n",
    "    \n",
    "[20]\n",
    "\n",
    "from bs4 import BeautifulSoup\n",
    "\n",
    "with open(_input) as html:\n",
    "    soup = BeautifulSoup(html)\n",
    "    for h2 in soup.findAll('h2'):\n",
    "        if h2.img:\n",
    "            print(f\"{_input:bn} {h2.text}: {h2.img['alt']}\")"
   ]
  },
  {
   "cell_type": "markdown",
   "metadata": {
    "kernel": "SoS",
    "papermill": {
     "duration": 0.031045,
     "end_time": "2019-12-23T17:02:07.366633",
     "exception": false,
     "start_time": "2019-12-23T17:02:07.335588",
     "status": "completed"
    },
    "tags": []
   },
   "source": [
    "If you would like to re-group the default input, you can redefine the `input` explicitly, or apply option `group_by` to the default input:"
   ]
  },
  {
   "cell_type": "code",
   "execution_count": 8,
   "metadata": {
    "kernel": "SoS",
    "papermill": {
     "duration": 3.597006,
     "end_time": "2019-12-23T17:02:10.998217",
     "exception": false,
     "start_time": "2019-12-23T17:02:07.401211",
     "status": "completed"
    },
    "tags": []
   },
   "outputs": [
    {
     "name": "stdout",
     "output_type": "stream",
     "text": [
      "\u001b[32m[\u001b[0m\u001b[32m]\u001b[0m Failed with 0 step processed ()\n"
     ]
    },
    {
     "name": "stdout",
     "output_type": "stream",
     "text": [
      "\u001b[91mERROR\u001b[0m: \u001b[91mNo rule to generate target 'data/S20_R2.fastq', needed by '10'.\u001b[0m\n"
     ]
    }
   ],
   "source": [
    "%run -v0\n",
    "\n",
    "[10]\n",
    "input: 'data/S20_R1.fastq', 'data/S20_R2.fastq', group_by=1\n",
    "output: f'{_input:n}_fastqc.html'\n",
    "\n",
    "sh: expand=True\n",
    "    fastqc {_input}\n",
    "    \n",
    "[20]\n",
    "input: group_by='all'\n",
    "print(f'Input of step 20 is {_input}')"
   ]
  },
  {
   "cell_type": "markdown",
   "metadata": {
    "kernel": "SoS",
    "papermill": {
     "duration": 0.027249,
     "end_time": "2019-12-23T17:02:11.054920",
     "exception": false,
     "start_time": "2019-12-23T17:02:11.027671",
     "status": "completed"
    },
    "tags": []
   },
   "source": [
    "## Further reading\n",
    "* [How to specify input and output files and process input files in groups](doc/user_guide/input_substeps.html)\n",
    "* [How to use named output in data-flow style workflows](doc/user_guide/named_output.html)\n",
    "* [How to use Makefile-style rules to generate required files](doc/user_guide/auxiliary_steps.html)"
   ]
  }
 ],
 "metadata": {
  "kernelspec": {
   "display_name": "SoS",
   "language": "sos",
   "name": "sos"
  },
  "language_info": {
   "codemirror_mode": "sos",
   "file_extension": ".sos",
   "mimetype": "text/x-sos",
   "name": "sos",
   "nbconvert_exporter": "sos_notebook.converter.SoS_Exporter",
   "pygments_lexer": "sos"
  },
  "papermill": {
   "duration": 39.500962,
   "end_time": "2019-12-23T17:02:16.276912",
   "environment_variables": {},
   "exception": null,
   "input_path": "/Users/bpeng1/sos/sos-docs/src/user_guide/forward_workflow.ipynb",
   "output_path": "forward_workflow.ipynb_rerun.ipynb",
   "parameters": {},
   "start_time": "2019-12-23T17:01:36.775950",
   "version": "1.1.0"
  },
  "sos": {
   "kernels": [
    [
     "Bash",
     "bash",
     "Bash",
     "#E6EEFF"
    ],
    [
     "R",
     "ir",
     "R",
     "#DCDCDA"
    ],
    [
     "SoS",
     "sos",
     "",
     ""
    ]
   ],
   "panel": {
    "displayed": true,
    "height": 0
   },
   "version": "0.21.0"
  }
 },
 "nbformat": 4,
 "nbformat_minor": 4
}