{
 "cells": [
  {
   "cell_type": "markdown",
   "metadata": {
    "kernel": "SoS",
    "papermill": {
     "duration": 0.030188,
     "end_time": "2019-12-23T17:05:09.977086",
     "exception": false,
     "start_time": "2019-12-23T17:05:09.946898",
     "status": "completed"
    },
    "tags": []
   },
   "source": [
    "# Inclusion of scripts in SoS workflows"
   ]
  },
  {
   "cell_type": "markdown",
   "metadata": {
    "kernel": "SoS",
    "papermill": {
     "duration": 0.0243,
     "end_time": "2019-12-23T17:05:10.032772",
     "exception": false,
     "start_time": "2019-12-23T17:05:10.008472",
     "status": "completed"
    },
    "tags": []
   },
   "source": [
    "* **Difficulty level**: easy\n",
    "* **Time need to lean**: 10 minutes or less\n",
    "* **Key points**:\n",
    "  * A Python function with a string as the first parameter can be written in a script style\n",
    "  * Scripts are included in verbatim by default\n",
    "  * Indentation is not required but recommended\n",
    "  * `expand=True` turns the script into a Python f-string\n",
    "  * `expand=\"l r\"` can be used to specify an alternative delimiter for string interpolation"
   ]
  },
  {
   "cell_type": "markdown",
   "metadata": {
    "kernel": "SoS",
    "papermill": {
     "duration": 0.021976,
     "end_time": "2019-12-23T17:05:10.077590",
     "exception": false,
     "start_time": "2019-12-23T17:05:10.055614",
     "status": "completed"
    },
    "tags": []
   },
   "source": [
    "## SoS \"actions\""
   ]
  },
  {
   "cell_type": "markdown",
   "metadata": {
    "kernel": "SoS",
    "papermill": {
     "duration": 0.021839,
     "end_time": "2019-12-23T17:05:10.122191",
     "exception": false,
     "start_time": "2019-12-23T17:05:10.100352",
     "status": "completed"
    },
    "tags": []
   },
   "source": [
    "SoS defines a number of **actions**, which are simply Python functions that follow a specific set of conventions. For example, an action `sh` is a python function that executes its first parameter as a shell script:"
   ]
  },
  {
   "cell_type": "code",
   "execution_count": 1,
   "metadata": {
    "kernel": "SoS",
    "papermill": {
     "duration": 1.032676,
     "end_time": "2019-12-23T17:05:11.177786",
     "exception": false,
     "start_time": "2019-12-23T17:05:10.145110",
     "status": "completed"
    },
    "tags": []
   },
   "outputs": [
    {
     "name": "stdout",
     "output_type": "stream",
     "text": [
      "Hello world\n"
     ]
    }
   ],
   "source": [
    "sh('echo Hello world')"
   ]
  },
  {
   "cell_type": "markdown",
   "metadata": {
    "kernel": "SoS",
    "papermill": {
     "duration": 0.021995,
     "end_time": "2019-12-23T17:05:11.222173",
     "exception": false,
     "start_time": "2019-12-23T17:05:11.200178",
     "status": "completed"
    },
    "tags": []
   },
   "source": [
    "When you execute a SoS script from command line or SoS Notebook, these functions are automatically imported and can be used directly, and you can use them just like any other Python functions. For example, you can compose a script using Python string formatting:"
   ]
  },
  {
   "cell_type": "code",
   "execution_count": 2,
   "metadata": {
    "kernel": "SoS",
    "papermill": {
     "duration": 0.712818,
     "end_time": "2019-12-23T17:05:11.957823",
     "exception": false,
     "start_time": "2019-12-23T17:05:11.245005",
     "status": "completed"
    },
    "tags": []
   },
   "outputs": [
    {
     "name": "stdout",
     "output_type": "stream",
     "text": [
      "Hello world\n"
     ]
    }
   ],
   "source": [
    "greeting = \"Hello world\"\n",
    "sh(f'echo {greeting}')"
   ]
  },
  {
   "cell_type": "markdown",
   "metadata": {
    "kernel": "SoS",
    "papermill": {
     "duration": 0.023009,
     "end_time": "2019-12-23T17:05:12.005886",
     "exception": false,
     "start_time": "2019-12-23T17:05:11.982877",
     "status": "completed"
    },
    "tags": []
   },
   "source": [
    "Here we define a Python string `greeting` and use the `sh` action to execute a shell script. A [Python f-string](https://www.python.org/dev/peps/pep-0498/) is used to compose the script with the defined variable."
   ]
  },
  {
   "cell_type": "markdown",
   "metadata": {
    "kernel": "SoS",
    "papermill": {
     "duration": 0.025023,
     "end_time": "2019-12-23T17:05:12.053712",
     "exception": false,
     "start_time": "2019-12-23T17:05:12.028689",
     "status": "completed"
    },
    "tags": []
   },
   "source": [
    "<div class=\"bs-callout bs-callout-primary\" role=\"alert\">\n",
    "  <h4>Python f-string</h4>\n",
    "  <p>SoS uses Python f-string extensively. Please read <a href=\"https://www.python.org/dev/peps/pep-0498/\">PEP498</a> or one of the online tutorials on how to use Python f-strings if you are not familiar with it.</p>  \n",
    "</div>"
   ]
  },
  {
   "cell_type": "markdown",
   "metadata": {
    "kernel": "SoS",
    "papermill": {
     "duration": 0.022299,
     "end_time": "2019-12-23T17:05:12.098027",
     "exception": false,
     "start_time": "2019-12-23T17:05:12.075728",
     "status": "completed"
    },
    "tags": [],
    "workflow_cell": true
   },
   "source": [
    "When the scripts get longer, you will have to use Python multi-line strings to pass them to the action. Here is an example for the use of a `R` action to execute a longer `R` script:"
   ]
  },
  {
   "cell_type": "code",
   "execution_count": 3,
   "metadata": {
    "kernel": "SoS",
    "papermill": {
     "duration": 1.082959,
     "end_time": "2019-12-23T17:05:13.203462",
     "exception": false,
     "start_time": "2019-12-23T17:05:12.120503",
     "status": "completed"
    },
    "tags": []
   },
   "outputs": [
    {
     "name": "stdout",
     "output_type": "stream",
     "text": [
      "[1] \"Non-negative number\"\n"
     ]
    }
   ],
   "source": [
    "R(\"\"\"\\\n",
    "x <- 5\n",
    "if(x >= 0) {\n",
    "    print(\"Non-negative number\")\n",
    "} else {\n",
    "    print(\"Negative number\")\n",
    "}\n",
    "\"\"\")"
   ]
  },
  {
   "cell_type": "markdown",
   "metadata": {
    "kernel": "SoS",
    "papermill": {
     "duration": 0.025178,
     "end_time": "2019-12-23T17:05:13.254624",
     "exception": false,
     "start_time": "2019-12-23T17:05:13.229446",
     "status": "completed"
    },
    "tags": []
   },
   "source": [
    "The use of format string in these cases become more complicated. First, you will need to use multi-line f-string (`f'''x'''` and `f\"\"\"x\"\"\"`). Second, when the script itself contains braces, they will need to be doubled to avoid being interpreted as Python expressions.\n",
    "\n",
    "Consequently, a `R` script that uses a Python variable `my_num` needs to be written as follows:"
   ]
  },
  {
   "cell_type": "code",
   "execution_count": 4,
   "metadata": {
    "kernel": "SoS",
    "papermill": {
     "duration": 1.463939,
     "end_time": "2019-12-23T17:05:14.743778",
     "exception": false,
     "start_time": "2019-12-23T17:05:13.279839",
     "status": "completed"
    },
    "tags": []
   },
   "outputs": [
    {
     "name": "stdout",
     "output_type": "stream",
     "text": [
      "[1] \"Negative number\"\n"
     ]
    }
   ],
   "source": [
    "my_num = -1\n",
    "\n",
    "R(f\"\"\"\\\n",
    "x <- {my_num}\n",
    "if(x >= 0) {{\n",
    "    print(\"Non-negative number\")\n",
    "}} else {{\n",
    "    print(\"Negative number\")\n",
    "}}\n",
    "\"\"\")"
   ]
  },
  {
   "cell_type": "markdown",
   "metadata": {
    "kernel": "SoS",
    "papermill": {
     "duration": 0.03665,
     "end_time": "2019-12-23T17:05:14.817516",
     "exception": false,
     "start_time": "2019-12-23T17:05:14.780866",
     "status": "completed"
    },
    "tags": []
   },
   "source": [
    "## Script style function calls <a id=\"Script_style_function_call\"></a>"
   ]
  },
  {
   "cell_type": "markdown",
   "metadata": {
    "kernel": "SoS",
    "papermill": {
     "duration": 0.036892,
     "end_time": "2019-12-23T17:05:14.892318",
     "exception": false,
     "start_time": "2019-12-23T17:05:14.855426",
     "status": "completed"
    },
    "tags": []
   },
   "source": [
    "The f-string in the last example is not quite readable, error-prone, and difficult to maintain, especially when the script contains multiple braces and variables. For this reason, SoS introduces a special syntax that allows you to write Python functions that accept a script (string) as the first parameter in a special script format.\n",
    "\n",
    "For example,"
   ]
  },
  {
   "cell_type": "code",
   "execution_count": 5,
   "metadata": {
    "kernel": "SoS",
    "papermill": {
     "duration": 1.602265,
     "end_time": "2019-12-23T17:05:16.529060",
     "exception": false,
     "start_time": "2019-12-23T17:05:14.926795",
     "status": "completed"
    },
    "tags": []
   },
   "outputs": [
    {
     "name": "stdout",
     "output_type": "stream",
     "text": [
      "[1] \"Non-negative number\"\n"
     ]
    }
   ],
   "source": [
    "R(\"\"\"\\\n",
    "x <- 5\n",
    "if(x >= 0) {\n",
    "    print(\"Non-negative number\")\n",
    "} else {\n",
    "    print(\"Negative number\")\n",
    "}\n",
    "\"\"\")"
   ]
  },
  {
   "cell_type": "markdown",
   "metadata": {
    "kernel": "SoS",
    "papermill": {
     "duration": 0.049638,
     "end_time": "2019-12-23T17:05:16.621338",
     "exception": false,
     "start_time": "2019-12-23T17:05:16.571700",
     "status": "completed"
    },
    "tags": []
   },
   "source": [
    "can be written as"
   ]
  },
  {
   "cell_type": "code",
   "execution_count": 6,
   "metadata": {
    "kernel": "SoS",
    "papermill": {
     "duration": 1.56955,
     "end_time": "2019-12-23T17:05:18.239313",
     "exception": false,
     "start_time": "2019-12-23T17:05:16.669763",
     "status": "completed"
    },
    "tags": []
   },
   "outputs": [
    {
     "name": "stdout",
     "output_type": "stream",
     "text": [
      "[1] \"Non-negative number\"\n"
     ]
    }
   ],
   "source": [
    "R:\n",
    "x <- 5\n",
    "if(x >= 0) {\n",
    "    print(\"Non-negative number\")\n",
    "} else {\n",
    "    print(\"Negative number\")\n",
    "}"
   ]
  },
  {
   "cell_type": "markdown",
   "metadata": {
    "kernel": "SoS",
    "papermill": {
     "duration": 0.054281,
     "end_time": "2019-12-23T17:05:18.344767",
     "exception": false,
     "start_time": "2019-12-23T17:05:18.290486",
     "status": "completed"
    },
    "tags": []
   },
   "source": [
    "or better as"
   ]
  },
  {
   "cell_type": "code",
   "execution_count": 7,
   "metadata": {
    "kernel": "SoS",
    "papermill": {
     "duration": 1.394662,
     "end_time": "2019-12-23T17:05:19.792509",
     "exception": false,
     "start_time": "2019-12-23T17:05:18.397847",
     "status": "completed"
    },
    "tags": []
   },
   "outputs": [
    {
     "name": "stdout",
     "output_type": "stream",
     "text": [
      "[1] \"Non-negative number\"\n"
     ]
    }
   ],
   "source": [
    "R:\n",
    "    x <- 5\n",
    "    if(x >= 0) {\n",
    "        print(\"Non-negative number\")\n",
    "    } else {\n",
    "        print(\"Negative number\")\n",
    "    }"
   ]
  },
  {
   "cell_type": "markdown",
   "metadata": {
    "kernel": "SoS",
    "papermill": {
     "duration": 0.030631,
     "end_time": "2019-12-23T17:05:19.847866",
     "exception": false,
     "start_time": "2019-12-23T17:05:19.817235",
     "status": "completed"
    },
    "tags": []
   },
   "source": [
    "Indentation is optional and SoS will automatically dedent the included scripts."
   ]
  },
  {
   "cell_type": "markdown",
   "metadata": {
    "kernel": "SoS",
    "papermill": {
     "duration": 0.024892,
     "end_time": "2019-12-23T17:05:19.896813",
     "exception": false,
     "start_time": "2019-12-23T17:05:19.871921",
     "status": "completed"
    },
    "tags": []
   },
   "source": [
    "<div class=\"bs-callout bs-callout-info\" role=\"alert\">\n",
    "  <h4>Indentation of scripts</h4>\n",
    "  <p>The indentation of scripts in the script style is optional but recommended because it makes the end scripts easier to read </p>\n",
    "    <pre>\n",
    "    R:\n",
    "       cat('this is R')\n",
    "    </pre>\n",
    "    <pre>\n",
    "    python:\n",
    "       print('this is python')\n",
    "    </pre>\n",
    "</div>"
   ]
  },
  {
   "cell_type": "markdown",
   "metadata": {
    "kernel": "SoS",
    "papermill": {
     "duration": 0.026686,
     "end_time": "2019-12-23T17:05:19.950626",
     "exception": false,
     "start_time": "2019-12-23T17:05:19.923940",
     "status": "completed"
    },
    "tags": []
   },
   "source": [
    "## <a id=\"option-expand\"></a> The `expand` option"
   ]
  },
  {
   "cell_type": "markdown",
   "metadata": {
    "kernel": "SoS",
    "papermill": {
     "duration": 0.026685,
     "end_time": "2019-12-23T17:05:20.003305",
     "exception": false,
     "start_time": "2019-12-23T17:05:19.976620",
     "status": "completed"
    },
    "tags": []
   },
   "source": [
    "When option `expand=True` is specified, the included script will be treated as a Python f-string. For example,"
   ]
  },
  {
   "cell_type": "code",
   "execution_count": 8,
   "metadata": {
    "kernel": "SoS",
    "papermill": {
     "duration": 1.177136,
     "end_time": "2019-12-23T17:05:21.207294",
     "exception": false,
     "start_time": "2019-12-23T17:05:20.030158",
     "status": "completed"
    },
    "tags": []
   },
   "outputs": [
    {
     "name": "stdout",
     "output_type": "stream",
     "text": [
      "[1] \"Negative number\"\n"
     ]
    }
   ],
   "source": [
    "my_num = -1\n",
    "\n",
    "R(f\"\"\"\\\n",
    "x <- {my_num}\n",
    "if(x >= 0) {{\n",
    "    print(\"Non-negative number\")\n",
    "}} else {{\n",
    "    print(\"Negative number\")\n",
    "}}\n",
    "\"\"\")"
   ]
  },
  {
   "cell_type": "markdown",
   "metadata": {
    "kernel": "SoS",
    "papermill": {
     "duration": 0.052373,
     "end_time": "2019-12-23T17:05:21.287487",
     "exception": false,
     "start_time": "2019-12-23T17:05:21.235114",
     "status": "completed"
    },
    "tags": []
   },
   "source": [
    "can be written as"
   ]
  },
  {
   "cell_type": "code",
   "execution_count": 9,
   "metadata": {
    "kernel": "SoS",
    "papermill": {
     "duration": 1.31369,
     "end_time": "2019-12-23T17:05:22.629938",
     "exception": false,
     "start_time": "2019-12-23T17:05:21.316248",
     "status": "completed"
    },
    "tags": []
   },
   "outputs": [
    {
     "name": "stdout",
     "output_type": "stream",
     "text": [
      "[1] \"Negative number\"\n"
     ]
    }
   ],
   "source": [
    "my_num = -1\n",
    "\n",
    "R: expand=True\n",
    "    x <- {my_num}\n",
    "    if(x >= 0) {{\n",
    "        print(\"Non-negative number\")\n",
    "    }} else {{\n",
    "        print(\"Negative number\")\n",
    "    }}"
   ]
  },
  {
   "cell_type": "markdown",
   "metadata": {
    "kernel": "SoS",
    "papermill": {
     "duration": 0.048188,
     "end_time": "2019-12-23T17:05:22.732575",
     "exception": false,
     "start_time": "2019-12-23T17:05:22.684387",
     "status": "completed"
    },
    "tags": []
   },
   "source": [
    "Note that SoS Notebook automatically highlights the interpolated parts of the included script, which makes it much easier to differentiate Python expressions from the original R script."
   ]
  },
  {
   "cell_type": "markdown",
   "metadata": {
    "kernel": "SoS",
    "papermill": {
     "duration": 0.050517,
     "end_time": "2019-12-23T17:05:22.836158",
     "exception": false,
     "start_time": "2019-12-23T17:05:22.785641",
     "status": "completed"
    },
    "tags": []
   },
   "source": [
    "<div class=\"bs-callout bs-callout-info\" role=\"alert\">\n",
    "  <h4>Use of alternative sigils</h4>\n",
    "  <p>When the included scripts have braces, it is easier to use an alternative sigil for string interpolation.</p>\n",
    "</div>"
   ]
  },
  {
   "cell_type": "markdown",
   "metadata": {
    "kernel": "SoS",
    "papermill": {
     "duration": 0.053453,
     "end_time": "2019-12-23T17:05:22.939223",
     "exception": false,
     "start_time": "2019-12-23T17:05:22.885770",
     "status": "completed"
    },
    "tags": []
   },
   "source": [
    "Because the included script has two pairs of braces, it is necessary to double them so that they are not treated as Python expressions. In these cases, it is actually easier to use a different set of sigil (delimiters) for string interpolation. This can be done using the `expand` option as follows:"
   ]
  },
  {
   "cell_type": "code",
   "execution_count": 10,
   "metadata": {
    "kernel": "SoS",
    "papermill": {
     "duration": 1.445945,
     "end_time": "2019-12-23T17:05:24.438932",
     "exception": false,
     "start_time": "2019-12-23T17:05:22.992987",
     "status": "completed"
    },
    "tags": []
   },
   "outputs": [
    {
     "name": "stdout",
     "output_type": "stream",
     "text": [
      "[1] \"Negative number\"\n"
     ]
    }
   ],
   "source": [
    "my_num = -1\n",
    "\n",
    "R: expand='${ }'\n",
    "    x <- ${my_num}\n",
    "    if(x >= 0) {\n",
    "        print(\"Non-negative number\")\n",
    "    } else {\n",
    "        print(\"Negative number\")\n",
    "    }"
   ]
  },
  {
   "cell_type": "markdown",
   "metadata": {
    "kernel": "SoS",
    "papermill": {
     "duration": 0.033467,
     "end_time": "2019-12-23T17:05:24.499242",
     "exception": false,
     "start_time": "2019-12-23T17:05:24.465775",
     "status": "completed"
    },
    "tags": []
   },
   "source": [
    "The sigil should be specified as a string with left and right sigil separated by a space. You can use any pair of sigils as long as they do not cause confusion. "
   ]
  },
  {
   "cell_type": "markdown",
   "metadata": {
    "kernel": "SoS",
    "papermill": {
     "duration": 0.030972,
     "end_time": "2019-12-23T17:05:24.564089",
     "exception": false,
     "start_time": "2019-12-23T17:05:24.533117",
     "status": "completed"
    },
    "tags": []
   },
   "source": [
    "## Indented script format"
   ]
  },
  {
   "cell_type": "markdown",
   "metadata": {
    "kernel": "SoS",
    "papermill": {
     "duration": 0.03329,
     "end_time": "2019-12-23T17:05:24.630008",
     "exception": false,
     "start_time": "2019-12-23T17:05:24.596718",
     "status": "completed"
    },
    "tags": []
   },
   "source": [
    "What you have seen so far are function calls without Python control structure. Because SoS allows you to execute the same statements repeatedly for different inputs ([substeps](input_substeps.html) and stop the execution of substeps through actions such as [`skip_if` and `done_if`](control_actions.html), there is rarely a need to call SoS actions within the `if...else...` block or `for` or `while` loops.\n",
    "\n",
    "However, if you do need to call SoS actions inside a Python control structure, you can still use the script format for it. For example, instead of writing"
   ]
  },
  {
   "cell_type": "code",
   "execution_count": 11,
   "metadata": {
    "kernel": "SoS",
    "papermill": {
     "duration": 2.987836,
     "end_time": "2019-12-23T17:05:27.644794",
     "exception": false,
     "start_time": "2019-12-23T17:05:24.656958",
     "status": "completed"
    },
    "tags": []
   },
   "outputs": [
    {
     "name": "stdout",
     "output_type": "stream",
     "text": [
      "0\n"
     ]
    },
    {
     "name": "stdout",
     "output_type": "stream",
     "text": [
      "1\n"
     ]
    },
    {
     "name": "stdout",
     "output_type": "stream",
     "text": [
      "2\n"
     ]
    }
   ],
   "source": [
    "for i in range(3):\n",
    "    sh(f'echo {i}')"
   ]
  },
  {
   "cell_type": "markdown",
   "metadata": {
    "kernel": "SoS",
    "papermill": {
     "duration": 0.029009,
     "end_time": "2019-12-23T17:05:27.704228",
     "exception": false,
     "start_time": "2019-12-23T17:05:27.675219",
     "status": "completed"
    },
    "tags": []
   },
   "source": [
    "You can write the `sh` action in the format of"
   ]
  },
  {
   "cell_type": "code",
   "execution_count": 12,
   "metadata": {
    "kernel": "SoS",
    "papermill": {
     "duration": 2.676767,
     "end_time": "2019-12-23T17:05:30.409744",
     "exception": false,
     "start_time": "2019-12-23T17:05:27.732977",
     "status": "completed"
    },
    "tags": []
   },
   "outputs": [
    {
     "name": "stdout",
     "output_type": "stream",
     "text": [
      "0\n"
     ]
    },
    {
     "name": "stdout",
     "output_type": "stream",
     "text": [
      "1\n"
     ]
    },
    {
     "name": "stdout",
     "output_type": "stream",
     "text": [
      "2\n"
     ]
    }
   ],
   "source": [
    "for i in range(3):\n",
    "    sh: expand=True\n",
    "        echo {i}"
   ]
  },
  {
   "cell_type": "markdown",
   "metadata": {
    "kernel": "SoS",
    "papermill": {
     "duration": 0.02707,
     "end_time": "2019-12-23T17:05:30.464030",
     "exception": false,
     "start_time": "2019-12-23T17:05:30.436960",
     "status": "completed"
    },
    "tags": []
   },
   "source": [
    "Indentation for the included script is optional"
   ]
  },
  {
   "cell_type": "code",
   "execution_count": 13,
   "metadata": {
    "kernel": "SoS",
    "papermill": {
     "duration": 2.805841,
     "end_time": "2019-12-23T17:05:33.297659",
     "exception": false,
     "start_time": "2019-12-23T17:05:30.491818",
     "status": "completed"
    },
    "tags": []
   },
   "outputs": [
    {
     "name": "stdout",
     "output_type": "stream",
     "text": [
      "0\n"
     ]
    },
    {
     "name": "stdout",
     "output_type": "stream",
     "text": [
      "1\n"
     ]
    },
    {
     "name": "stdout",
     "output_type": "stream",
     "text": [
      "2\n"
     ]
    }
   ],
   "source": [
    "for i in range(3):\n",
    "    sh: expand=True\n",
    "echo {i}"
   ]
  },
  {
   "cell_type": "markdown",
   "metadata": {
    "kernel": "SoS",
    "papermill": {
     "duration": 0.031357,
     "end_time": "2019-12-23T17:05:33.362521",
     "exception": false,
     "start_time": "2019-12-23T17:05:33.331164",
     "status": "completed"
    },
    "tags": []
   },
   "source": [
    "but is required in more complex cases to avoid ambiguity. For example, "
   ]
  },
  {
   "cell_type": "code",
   "execution_count": 14,
   "metadata": {
    "kernel": "SoS",
    "papermill": {
     "duration": 3.722981,
     "end_time": "2019-12-23T17:05:37.118639",
     "exception": false,
     "start_time": "2019-12-23T17:05:33.395658",
     "status": "completed"
    },
    "tags": []
   },
   "outputs": [
    {
     "name": "stdout",
     "output_type": "stream",
     "text": [
      "Python script for var > 1\n"
     ]
    }
   ],
   "source": [
    "%run --var 2\n",
    "parameter: var=int\n",
    "\n",
    "if var > 1:\n",
    "    python:\n",
    "        print('Python script for var > 1')\n",
    "else:\n",
    "    python:\n",
    "        print('Python script for var <= 1')\n",
    "    "
   ]
  },
  {
   "cell_type": "markdown",
   "metadata": {
    "kernel": "SoS",
    "papermill": {
     "duration": 0.033488,
     "end_time": "2019-12-23T17:05:37.193824",
     "exception": false,
     "start_time": "2019-12-23T17:05:37.160336",
     "status": "completed"
    },
    "tags": []
   },
   "source": [
    "cannot be written as\n",
    "\n",
    "```\n",
    "if var > 1:\n",
    "    python:\n",
    "print('Python script for var > 1')\n",
    "else:\n",
    "    python:\n",
    "print('Python script for var <= 1')\n",
    "```\n",
    "\n",
    "because the `else:` block would be considered as part of the first `python` script."
   ]
  },
  {
   "cell_type": "markdown",
   "metadata": {
    "kernel": "SoS",
    "papermill": {
     "duration": 0.028998,
     "end_time": "2019-12-23T17:05:37.252249",
     "exception": false,
     "start_time": "2019-12-23T17:05:37.223251",
     "status": "completed"
    },
    "tags": []
   },
   "source": [
    "## Further reading\n",
    "* [SoS Actions and common action options](sos_actions.html)\n",
    "* [substeps of SoS](input_substeps.html)\n",
    "* [Actions for controlling execution of substeps](control_actions.html)"
   ]
  }
 ],
 "metadata": {
  "kernelspec": {
   "display_name": "SoS",
   "language": "sos",
   "name": "sos"
  },
  "language_info": {
   "codemirror_mode": "sos",
   "file_extension": ".sos",
   "mimetype": "text/x-sos",
   "name": "sos",
   "nbconvert_exporter": "sos_notebook.converter.SoS_Exporter",
   "pygments_lexer": "sos"
  },
  "papermill": {
   "duration": 35.19435,
   "end_time": "2019-12-23T17:05:42.475148",
   "environment_variables": {},
   "exception": null,
   "input_path": "/Users/bpeng1/sos/sos-docs/src/user_guide/script_format.ipynb",
   "output_path": "script_format.ipynb_rerun.ipynb",
   "parameters": {},
   "start_time": "2019-12-23T17:05:07.280798",
   "version": "1.1.0"
  },
  "sos": {
   "kernels": [
    [
     "Bash",
     "bash",
     "Bash",
     "#E6EEFF"
    ],
    [
     "R",
     "ir",
     "R",
     "#DCDCDA"
    ],
    [
     "SoS",
     "sos",
     "",
     ""
    ]
   ],
   "panel": {
    "displayed": true,
    "height": 0
   },
   "version": "0.21.0"
  }
 },
 "nbformat": 4,
 "nbformat_minor": 4
}