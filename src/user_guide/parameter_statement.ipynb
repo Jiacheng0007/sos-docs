{
 "cells": [
  {
   "cell_type": "markdown",
   "metadata": {
    "kernel": "SoS",
    "papermill": {
     "duration": 0.029577,
     "end_time": "2019-12-23T17:04:28.991233",
     "exception": false,
     "start_time": "2019-12-23T17:04:28.961656",
     "status": "completed"
    },
    "tags": []
   },
   "source": [
    "# The `parameter` statement"
   ]
  },
  {
   "cell_type": "markdown",
   "metadata": {
    "kernel": "SoS",
    "papermill": {
     "duration": 0.028522,
     "end_time": "2019-12-23T17:04:29.050259",
     "exception": false,
     "start_time": "2019-12-23T17:04:29.021737",
     "status": "completed"
    },
    "tags": []
   },
   "source": [
    "* **Difficulty level**: easy\n",
    "* **Time need to lean**: 10 minutes or less\n",
    "* **Key points**:\n",
    "  * A `parameter` statement defines a parameter that can be passed from command line\n",
    "  * SoS determines type of parameters from default values or types\n",
    "  * `--no-var` is used to specify `False` for boolean parameters"
   ]
  },
  {
   "cell_type": "markdown",
   "metadata": {
    "kernel": "SoS",
    "papermill": {
     "duration": 0.040678,
     "end_time": "2019-12-23T17:04:29.118075",
     "exception": false,
     "start_time": "2019-12-23T17:04:29.077397",
     "status": "completed"
    },
    "tags": []
   },
   "source": [
    "The `parameter` statement specifies variables that can be specified from command line (or magics such as `%run` from SoS Notebook).\n",
    "\n",
    "The basic format of the statement is\n",
    "\n",
    "```\n",
    "parameter: name = value\n",
    "```\n",
    "where\n",
    "* `name` is the name of the parameter\n",
    "* `value` is either a default value, or a type (e.g. `str`, `int`). Parameters specified with types are required"
   ]
  },
  {
   "cell_type": "markdown",
   "metadata": {
    "kernel": "SoS",
    "papermill": {
     "duration": 0.032856,
     "end_time": "2019-12-23T17:04:29.198585",
     "exception": false,
     "start_time": "2019-12-23T17:04:29.165729",
     "status": "completed"
    },
    "tags": []
   },
   "source": [
    "Parameters are specified with double dash syntax from command line."
   ]
  },
  {
   "cell_type": "code",
   "execution_count": 1,
   "metadata": {
    "kernel": "SoS",
    "papermill": {
     "duration": 2.701176,
     "end_time": "2019-12-23T17:04:31.930493",
     "exception": false,
     "start_time": "2019-12-23T17:04:29.229317",
     "status": "completed"
    },
    "tags": []
   },
   "outputs": [
    {
     "name": "stdout",
     "output_type": "stream",
     "text": [
      "var is 10\n"
     ]
    }
   ],
   "source": [
    "%run --var 10\n",
    "\n",
    "parameter: var = 5\n",
    "print(f'var is {var}')"
   ]
  },
  {
   "cell_type": "markdown",
   "metadata": {
    "kernel": "SoS",
    "papermill": {
     "duration": 0.02725,
     "end_time": "2019-12-23T17:04:31.986939",
     "exception": false,
     "start_time": "2019-12-23T17:04:31.959689",
     "status": "completed"
    },
    "tags": []
   },
   "source": [
    "## Optional and required parameters"
   ]
  },
  {
   "cell_type": "markdown",
   "metadata": {
    "kernel": "SoS",
    "papermill": {
     "duration": 0.027393,
     "end_time": "2019-12-23T17:04:32.041481",
     "exception": false,
     "start_time": "2019-12-23T17:04:32.014088",
     "status": "completed"
    },
    "tags": []
   },
   "source": [
    "Parameters with default values are optional. The default value will be used if the parameter is left unspecified"
   ]
  },
  {
   "cell_type": "code",
   "execution_count": 2,
   "metadata": {
    "kernel": "SoS",
    "papermill": {
     "duration": 0.047843,
     "end_time": "2019-12-23T17:04:32.117015",
     "exception": false,
     "start_time": "2019-12-23T17:04:32.069172",
     "status": "completed"
    },
    "tags": []
   },
   "outputs": [
    {
     "name": "stdout",
     "output_type": "stream",
     "text": [
      "var is 5"
     ]
    },
    {
     "name": "stdout",
     "output_type": "stream",
     "text": [
      "\n"
     ]
    }
   ],
   "source": [
    "parameter: var = 5\n",
    "print(f'var is {var}')"
   ]
  },
  {
   "cell_type": "markdown",
   "metadata": {
    "kernel": "SoS",
    "papermill": {
     "duration": 0.027917,
     "end_time": "2019-12-23T17:04:32.172972",
     "exception": false,
     "start_time": "2019-12-23T17:04:32.145055",
     "status": "completed"
    },
    "tags": []
   },
   "source": [
    "When a type is specified, a parameter will be required and an error will be raised if a required parameter is not specified"
   ]
  },
  {
   "cell_type": "code",
   "execution_count": 3,
   "metadata": {
    "kernel": "SoS",
    "papermill": {
     "duration": 0.040815,
     "end_time": "2019-12-23T17:04:32.242325",
     "exception": true,
     "start_time": "2019-12-23T17:04:32.201510",
     "status": "failed"
    },
    "tags": []
   },
   "outputs": [
    {
     "name": "stderr",
     "output_type": "stream",
     "text": [
      "[0]: Argument var of type int is required\n"
     ]
    }
   ],
   "source": [
    "parameter: var = int\n",
    "print(f'var is {var}')"
   ]
  },
  {
   "cell_type": "code",
   "execution_count": null,
   "metadata": {
    "kernel": "SoS",
    "papermill": {
     "duration": null,
     "end_time": null,
     "exception": null,
     "start_time": null,
     "status": "pending"
    },
    "tags": []
   },
   "outputs": [],
   "source": [
    "%run --var 10\n",
    "\n",
    "parameter: var = int\n",
    "print(f'var is {var}')"
   ]
  },
  {
   "cell_type": "markdown",
   "metadata": {
    "kernel": "SoS",
    "papermill": {
     "duration": null,
     "end_time": null,
     "exception": null,
     "start_time": null,
     "status": "pending"
    },
    "tags": []
   },
   "source": [
    "If you have a parameter with underscore `_`, it can be specified with either underscore (`_`) or dash (`-`)."
   ]
  },
  {
   "cell_type": "code",
   "execution_count": null,
   "metadata": {
    "kernel": "SoS",
    "papermill": {
     "duration": null,
     "end_time": null,
     "exception": null,
     "start_time": null,
     "status": "pending"
    },
    "tags": []
   },
   "outputs": [],
   "source": [
    "%run --input_files a.txt\n",
    "\n",
    "parameter: input_files = list\n",
    "print(input_files)"
   ]
  },
  {
   "cell_type": "code",
   "execution_count": null,
   "metadata": {
    "kernel": "SoS",
    "papermill": {
     "duration": null,
     "end_time": null,
     "exception": null,
     "start_time": null,
     "status": "pending"
    },
    "tags": []
   },
   "outputs": [],
   "source": [
    "%run --input-files a.txt b.txt\n",
    "\n",
    "parameter: input_files = list\n",
    "print(input_files)"
   ]
  },
  {
   "cell_type": "markdown",
   "metadata": {
    "kernel": "SoS",
    "papermill": {
     "duration": null,
     "end_time": null,
     "exception": null,
     "start_time": null,
     "status": "pending"
    },
    "tags": []
   },
   "source": [
    "## Type of parameters"
   ]
  },
  {
   "cell_type": "markdown",
   "metadata": {
    "kernel": "SoS",
    "papermill": {
     "duration": null,
     "end_time": null,
     "exception": null,
     "start_time": null,
     "status": "pending"
    },
    "tags": []
   },
   "source": [
    "The types of parameters are determined by the default value or type specification, and determines how they should be passed from command line."
   ]
  },
  {
   "cell_type": "markdown",
   "metadata": {
    "kernel": "SoS",
    "papermill": {
     "duration": null,
     "end_time": null,
     "exception": null,
     "start_time": null,
     "status": "pending"
    },
    "tags": []
   },
   "source": [
    "### Simple Python types"
   ]
  },
  {
   "cell_type": "markdown",
   "metadata": {
    "kernel": "SoS",
    "papermill": {
     "duration": null,
     "end_time": null,
     "exception": null,
     "start_time": null,
     "status": "pending"
    },
    "tags": []
   },
   "source": [
    "SoS automatically determines the type of default values and convert your input data to the type. For example, the type of `cutoff` is determined to be an integer so it accepts an integer value from command line:"
   ]
  },
  {
   "cell_type": "code",
   "execution_count": null,
   "metadata": {
    "kernel": "SoS",
    "papermill": {
     "duration": null,
     "end_time": null,
     "exception": null,
     "start_time": null,
     "status": "pending"
    },
    "tags": []
   },
   "outputs": [],
   "source": [
    "%run --cutoff 5\n",
    "parameter: cutoff = 0\n",
    "\n",
    "print(cutoff)"
   ]
  },
  {
   "cell_type": "markdown",
   "metadata": {
    "kernel": "SoS",
    "papermill": {
     "duration": null,
     "end_time": null,
     "exception": null,
     "start_time": null,
     "status": "pending"
    },
    "tags": []
   },
   "source": [
    "An error will be raised if you pass a string,"
   ]
  },
  {
   "cell_type": "code",
   "execution_count": null,
   "metadata": {
    "kernel": "SoS",
    "papermill": {
     "duration": null,
     "end_time": null,
     "exception": null,
     "start_time": null,
     "status": "pending"
    },
    "tags": []
   },
   "outputs": [],
   "source": [
    "%run -v0 --cutoff zero\n",
    "parameter: cutoff = 0\n",
    "\n",
    "print(cutoff)"
   ]
  },
  {
   "cell_type": "markdown",
   "metadata": {
    "kernel": "SoS",
    "papermill": {
     "duration": null,
     "end_time": null,
     "exception": null,
     "start_time": null,
     "status": "pending"
    },
    "tags": []
   },
   "source": [
    "even a float value"
   ]
  },
  {
   "cell_type": "code",
   "execution_count": null,
   "metadata": {
    "kernel": "SoS",
    "papermill": {
     "duration": null,
     "end_time": null,
     "exception": null,
     "start_time": null,
     "status": "pending"
    },
    "tags": []
   },
   "outputs": [],
   "source": [
    "%run -v0 --cutoff 5.1\n",
    "parameter: cutoff = 0\n",
    "\n",
    "print(cutoff)"
   ]
  },
  {
   "cell_type": "markdown",
   "metadata": {
    "kernel": "SoS",
    "papermill": {
     "duration": null,
     "end_time": null,
     "exception": null,
     "start_time": null,
     "status": "pending"
    },
    "tags": []
   },
   "source": [
    "If you intended to accept an float value, use a default value in float:"
   ]
  },
  {
   "cell_type": "code",
   "execution_count": null,
   "metadata": {
    "kernel": "SoS",
    "papermill": {
     "duration": null,
     "end_time": null,
     "exception": null,
     "start_time": null,
     "status": "pending"
    },
    "tags": []
   },
   "outputs": [],
   "source": [
    "%run --cutoff 5.1\n",
    "parameter: cutoff = 0.\n",
    "\n",
    "print(cutoff)"
   ]
  },
  {
   "cell_type": "markdown",
   "metadata": {
    "kernel": "SoS",
    "papermill": {
     "duration": null,
     "end_time": null,
     "exception": null,
     "start_time": null,
     "status": "pending"
    },
    "tags": []
   },
   "source": [
    "### Yes or no (Boolean types)"
   ]
  },
  {
   "cell_type": "markdown",
   "metadata": {
    "kernel": "SoS",
    "papermill": {
     "duration": null,
     "end_time": null,
     "exception": null,
     "start_time": null,
     "status": "pending"
    },
    "tags": []
   },
   "source": [
    "Boolean data types can be specified using `--opt` and `--no-opt`:"
   ]
  },
  {
   "cell_type": "code",
   "execution_count": null,
   "metadata": {
    "kernel": "SoS",
    "papermill": {
     "duration": null,
     "end_time": null,
     "exception": null,
     "start_time": null,
     "status": "pending"
    },
    "tags": []
   },
   "outputs": [],
   "source": [
    "%run -v0 --test-mode\n",
    "\n",
    "parameter: test_mode = bool\n",
    "print(f'test_mode is {test_mode}')"
   ]
  },
  {
   "cell_type": "code",
   "execution_count": null,
   "metadata": {
    "kernel": "SoS",
    "papermill": {
     "duration": null,
     "end_time": null,
     "exception": null,
     "start_time": null,
     "status": "pending"
    },
    "tags": []
   },
   "outputs": [],
   "source": [
    "%run -v0 --no-test-mode\n",
    "\n",
    "parameter: test_mode = bool\n",
    "print(f'test_mode is {test_mode}')"
   ]
  },
  {
   "cell_type": "markdown",
   "metadata": {
    "kernel": "SoS",
    "papermill": {
     "duration": null,
     "end_time": null,
     "exception": null,
     "start_time": null,
     "status": "pending"
    },
    "tags": []
   },
   "source": [
    "This works the same for boolean variables with default value:"
   ]
  },
  {
   "cell_type": "code",
   "execution_count": null,
   "metadata": {
    "kernel": "SoS",
    "papermill": {
     "duration": null,
     "end_time": null,
     "exception": null,
     "start_time": null,
     "status": "pending"
    },
    "tags": []
   },
   "outputs": [],
   "source": [
    "%run -v0 \n",
    "\n",
    "parameter: test_mode = False\n",
    "print(f'test_mode is {test_mode}')"
   ]
  },
  {
   "cell_type": "code",
   "execution_count": null,
   "metadata": {
    "kernel": "SoS",
    "papermill": {
     "duration": null,
     "end_time": null,
     "exception": null,
     "start_time": null,
     "status": "pending"
    },
    "tags": []
   },
   "outputs": [],
   "source": [
    "%run -v0 --test-mode\n",
    "\n",
    "parameter: test_mode = False\n",
    "print(f'test_mode is {test_mode}')"
   ]
  },
  {
   "cell_type": "markdown",
   "metadata": {
    "kernel": "SoS",
    "papermill": {
     "duration": null,
     "end_time": null,
     "exception": null,
     "start_time": null,
     "status": "pending"
    },
    "tags": []
   },
   "source": [
    "### List of strings"
   ]
  },
  {
   "cell_type": "markdown",
   "metadata": {
    "kernel": "SoS",
    "papermill": {
     "duration": null,
     "end_time": null,
     "exception": null,
     "start_time": null,
     "status": "pending"
    },
    "tags": []
   },
   "source": [
    "A list would be created if the parameter has a default value of type list. For example, a list `['A']` is returned because the default value has a list type."
   ]
  },
  {
   "cell_type": "code",
   "execution_count": null,
   "metadata": {
    "kernel": "SoS",
    "papermill": {
     "duration": null,
     "end_time": null,
     "exception": null,
     "start_time": null,
     "status": "pending"
    },
    "scrolled": true,
    "tags": []
   },
   "outputs": [],
   "source": [
    "%run --sample-names A\n",
    "parameter: sample_names = []\n",
    "\n",
    "print(sample_names)"
   ]
  },
  {
   "cell_type": "markdown",
   "metadata": {
    "kernel": "SoS",
    "papermill": {
     "duration": null,
     "end_time": null,
     "exception": null,
     "start_time": null,
     "status": "pending"
    },
    "tags": []
   },
   "source": [
    "SoS even understands the type of the values of the list and tries to follow it:"
   ]
  },
  {
   "cell_type": "code",
   "execution_count": null,
   "metadata": {
    "kernel": "SoS",
    "papermill": {
     "duration": null,
     "end_time": null,
     "exception": null,
     "start_time": null,
     "status": "pending"
    },
    "tags": []
   },
   "outputs": [],
   "source": [
    "%run --values 4 5\n",
    "parameter: values = [1, 2, 3]\n",
    "\n",
    "print(values)"
   ]
  },
  {
   "cell_type": "markdown",
   "metadata": {
    "kernel": "SoS",
    "papermill": {
     "duration": null,
     "end_time": null,
     "exception": null,
     "start_time": null,
     "status": "pending"
    },
    "tags": []
   },
   "source": [
    "However, it is not yet possible to specify the type of values when you specify a required parameter of type list so all the values will be passed as strings:"
   ]
  },
  {
   "cell_type": "code",
   "execution_count": null,
   "metadata": {
    "kernel": "SoS",
    "papermill": {
     "duration": null,
     "end_time": null,
     "exception": null,
     "start_time": null,
     "status": "pending"
    },
    "tags": []
   },
   "outputs": [],
   "source": [
    "%run --values 4 5\n",
    "parameter: values = list\n",
    "\n",
    "print(values)"
   ]
  },
  {
   "cell_type": "markdown",
   "metadata": {
    "kernel": "SoS",
    "papermill": {
     "duration": null,
     "end_time": null,
     "exception": null,
     "start_time": null,
     "status": "pending"
    },
    "tags": []
   },
   "source": [
    "### SoS types"
   ]
  },
  {
   "cell_type": "markdown",
   "metadata": {
    "kernel": "SoS",
    "papermill": {
     "duration": null,
     "end_time": null,
     "exception": null,
     "start_time": null,
     "status": "pending"
    },
    "tags": []
   },
   "source": [
    "SoS types such as `path`, `paths`, `file_targets`. Generally speaking you can pass filenames as `str` or list of `str`, but passing SoS types such as `path` allow you to create variable in these types without type coercion.\n",
    "\n",
    "For example, the `path` type is derived from [`pathlib.Path`](https://docs.python.org/3.6/library/pathlib.html) with automatic expansion of `~` and other features. If you pass a parameter with type `path`, SoS will convert passed string into a `path` object so that you can use it directly."
   ]
  },
  {
   "cell_type": "code",
   "execution_count": null,
   "metadata": {
    "kernel": "SoS",
    "papermill": {
     "duration": null,
     "end_time": null,
     "exception": null,
     "start_time": null,
     "status": "pending"
    },
    "tags": []
   },
   "outputs": [],
   "source": [
    "%run --infile ~/project/a.txt\n",
    "parameter: infile = path\n",
    "\n",
    "print(infile.name)\n",
    "print(infile.parent)\n",
    "print(infile.exists())"
   ]
  },
  {
   "cell_type": "markdown",
   "metadata": {
    "kernel": "SoS",
    "papermill": {
     "duration": null,
     "end_time": null,
     "exception": null,
     "start_time": null,
     "status": "pending"
    },
    "tags": []
   },
   "source": [
    "Similarly, if you pass a `paths` (a sequence of `path`), you parameter will be of type `paths`:"
   ]
  },
  {
   "cell_type": "code",
   "execution_count": null,
   "metadata": {
    "kernel": "SoS",
    "papermill": {
     "duration": null,
     "end_time": null,
     "exception": null,
     "start_time": null,
     "status": "pending"
    },
    "tags": []
   },
   "outputs": [],
   "source": [
    "%run --infiles a.txt b.txt\n",
    "parameter: infiles = paths('a.txt')\n",
    "\n",
    "print(infiles)"
   ]
  },
  {
   "cell_type": "markdown",
   "metadata": {
    "kernel": "SoS",
    "papermill": {
     "duration": null,
     "end_time": null,
     "exception": null,
     "start_time": null,
     "status": "pending"
    },
    "tags": []
   },
   "source": [
    "## Scope of parameters"
   ]
  },
  {
   "cell_type": "markdown",
   "metadata": {
    "kernel": "SoS",
    "papermill": {
     "duration": null,
     "end_time": null,
     "exception": null,
     "start_time": null,
     "status": "pending"
    },
    "tags": []
   },
   "source": [
    "Parameters are usually defined in the `global` section of workflows, but it can also be defined in steps, in which case the scope of the parameter is limited to the step in which it is defined.\n",
    "\n",
    "The following example has `var_A` and `var_B` defined in steps `A` and `B`. Although `var_B` is specified with a type, it is not required when workflow `A` is executed."
   ]
  },
  {
   "cell_type": "code",
   "execution_count": null,
   "metadata": {
    "kernel": "SoS",
    "papermill": {
     "duration": null,
     "end_time": null,
     "exception": null,
     "start_time": null,
     "status": "pending"
    },
    "tags": []
   },
   "outputs": [],
   "source": [
    "%run A --var_A 10\n",
    "\n",
    "[A]\n",
    "parameter: var_A = int\n",
    "print(f'var A is {var_A}')\n",
    "\n",
    "[B]\n",
    "parameter: var_B = int\n",
    "print(f'var B is {var_B}')"
   ]
  },
  {
   "cell_type": "markdown",
   "metadata": {
    "kernel": "SoS",
    "papermill": {
     "duration": null,
     "end_time": null,
     "exception": null,
     "start_time": null,
     "status": "pending"
    },
    "tags": []
   },
   "source": [
    "## Parameters and subworkflows"
   ]
  },
  {
   "cell_type": "markdown",
   "metadata": {
    "kernel": "SoS",
    "papermill": {
     "duration": null,
     "end_time": null,
     "exception": null,
     "start_time": null,
     "status": "pending"
    },
    "tags": []
   },
   "source": [
    "Parameters are usually specified from command line but it can be specified from a subworkflow as it the (nested) workflow is executed with specified parameter."
   ]
  },
  {
   "cell_type": "code",
   "execution_count": null,
   "metadata": {
    "kernel": "SoS",
    "papermill": {
     "duration": null,
     "end_time": null,
     "exception": null,
     "start_time": null,
     "status": "pending"
    },
    "tags": []
   },
   "outputs": [],
   "source": [
    "%run\n",
    "\n",
    "[sub]\n",
    "parameter: val = 10\n",
    "print(f'Calling workflow sub with parameter {val}')\n",
    "\n",
    "[default]\n",
    "sos_run('sub', val=5)\n",
    "sos_run('sub', val=15)"
   ]
  },
  {
   "cell_type": "markdown",
   "metadata": {
    "kernel": "SoS",
    "papermill": {
     "duration": null,
     "end_time": null,
     "exception": null,
     "start_time": null,
     "status": "pending"
    },
    "tags": []
   },
   "source": [
    "The `%run` magic in this example executes the default workflow `default`, and executes the `sub` subworkflow with different parameters. You can also specify the workflow to execute directly."
   ]
  },
  {
   "cell_type": "code",
   "execution_count": null,
   "metadata": {
    "kernel": "SoS",
    "papermill": {
     "duration": null,
     "end_time": null,
     "exception": null,
     "start_time": null,
     "status": "pending"
    },
    "tags": []
   },
   "outputs": [],
   "source": [
    "%run sub --val 20\n",
    "\n",
    "[sub]\n",
    "parameter: val = 10\n",
    "print(f'Calling workflow sub with parameter {val}')\n",
    "\n",
    "[default]\n",
    "sos_run('sub', val=5)\n",
    "sos_run('sub', val=15)"
   ]
  },
  {
   "cell_type": "markdown",
   "metadata": {
    "kernel": "SoS",
    "papermill": {
     "duration": null,
     "end_time": null,
     "exception": null,
     "start_time": null,
     "status": "pending"
    },
    "tags": []
   },
   "source": [
    "## Further reading <a id='further_reading'></a>\n",
    "\n",
    "* [SoS Data Types](doc/user_guide/sos_datatypes.html)"
   ]
  }
 ],
 "metadata": {
  "kernelspec": {
   "display_name": "SoS",
   "language": "sos",
   "name": "sos"
  },
  "language_info": {
   "codemirror_mode": "sos",
   "file_extension": ".sos",
   "mimetype": "text/x-sos",
   "name": "sos",
   "nbconvert_exporter": "sos_notebook.converter.SoS_Exporter",
   "pygments_lexer": "sos"
  },
  "papermill": {
   "duration": 10.873449,
   "end_time": "2019-12-23T17:04:37.457186",
   "environment_variables": {},
   "exception": true,
   "input_path": "/Users/bpeng1/sos/sos-docs/src/user_guide/parameter_statement.ipynb",
   "output_path": "parameter_statement.ipynb_rerun.ipynb",
   "parameters": {},
   "start_time": "2019-12-23T17:04:26.583737",
   "version": "1.1.0"
  },
  "sos": {
   "kernels": [
    [
     "Bash",
     "bash",
     "Bash",
     "#E6EEFF"
    ],
    [
     "R",
     "ir",
     "R",
     "#DCDCDA"
    ],
    [
     "SoS",
     "sos",
     "",
     ""
    ]
   ],
   "panel": {
    "displayed": true,
    "height": 0
   },
   "version": "0.21.0"
  }
 },
 "nbformat": 4,
 "nbformat_minor": 4
}