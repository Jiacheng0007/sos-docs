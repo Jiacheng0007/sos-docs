{
 "cells": [
  {
   "cell_type": "code",
   "execution_count": null,
   "metadata": {
    "hide_input": true,
    "inputHidden": true
   },
   "outputs": [
    {
     "data": {
      "text/html": [
       "<span style=\"color:red; font-family:Helvetica Neue, Helvetica, Arial, sans-serif; font-size:2em;\">An Exception was encountered at 'In [1]'.</span>"
      ]
     },
     "metadata": {},
     "output_type": "display_data"
    }
   ],
   "source": [
    "%%html\n",
    "<span style=\"color:red; font-family:Helvetica Neue, Helvetica, Arial, sans-serif; font-size:2em;\">An Exception was encountered at 'In [1]'.</span>"
   ]
  },
  {
   "cell_type": "markdown",
   "metadata": {
    "kernel": "SoS",
    "papermill": {
     "duration": 0.01363,
     "end_time": "2019-12-25T16:55:52.713835",
     "exception": false,
     "start_time": "2019-12-25T16:55:52.700205",
     "status": "completed"
    },
    "tags": []
   },
   "source": [
    "# Working with SAS"
   ]
  },
  {
   "cell_type": "markdown",
   "metadata": {
    "kernel": "SoS",
    "papermill": {
     "duration": 0.009768,
     "end_time": "2019-12-25T16:55:52.732424",
     "exception": false,
     "start_time": "2019-12-25T16:55:52.722656",
     "status": "completed"
    },
    "tags": []
   },
   "source": [
    "* **Difficulty level**: easy\n",
    "* **Time need to lean**: 10 minutes or less\n",
    "  "
   ]
  },
  {
   "cell_type": "markdown",
   "metadata": {
    "kernel": "SoS",
    "papermill": {
     "duration": 0.006921,
     "end_time": "2019-12-25T16:55:52.745945",
     "exception": false,
     "start_time": "2019-12-25T16:55:52.739024",
     "status": "completed"
    },
    "tags": []
   },
   "source": [
    "## SAS <a id=\"SAS\"></a>"
   ]
  },
  {
   "cell_type": "markdown",
   "metadata": {
    "kernel": "SoS",
    "papermill": {
     "duration": 0.007137,
     "end_time": "2019-12-25T16:55:52.759930",
     "exception": false,
     "start_time": "2019-12-25T16:55:52.752793",
     "status": "completed"
    },
    "tags": []
   },
   "source": [
    "A SAS dataset is roughly equivalent to Python's DataFrame (Pandas) and R's dataframe, and this is the only datatype that can be exchanged between SAS and other languages.\n",
    "\n",
    "For example, you can get a R dataframe into SAS as follows:"
   ]
  },
  {
   "cell_type": "code",
   "execution_count": 1,
   "metadata": {
    "kernel": "SAS",
    "papermill": {
     "duration": 0.410281,
     "end_time": "2019-12-25T16:55:53.177581",
     "exception": true,
     "start_time": "2019-12-25T16:55:52.767300",
     "status": "failed"
    },
    "tags": []
   },
   "outputs": [
    {
     "ename": "ValueError",
     "evalue": "No subkernel named SAS is found. Please make sure that you have the kernel installed (listed in the output of \"jupyter kernelspec list\" and usable in jupyter by itself), install appropriate language module (e.g. \"pip install sos-r\"), restart jupyter notebook and try again.",
     "output_type": "error",
     "traceback": []
    }
   ],
   "source": [
    "%get mtcars --from R\n",
    "PROC PRINT;\n",
    "RUN;"
   ]
  },
  {
   "cell_type": "markdown",
   "metadata": {
    "kernel": "SAS",
    "papermill": {
     "duration": null,
     "end_time": null,
     "exception": null,
     "start_time": null,
     "status": "pending"
    },
    "tags": []
   },
   "source": [
    "And if you have a SAS dataset,"
   ]
  },
  {
   "cell_type": "code",
   "execution_count": null,
   "metadata": {
    "kernel": "SAS",
    "papermill": {
     "duration": null,
     "end_time": null,
     "exception": null,
     "start_time": null,
     "status": "pending"
    },
    "tags": []
   },
   "outputs": [],
   "source": [
    "DATA CLASS;\n",
    "     INPUT NAME $ 1-8 SEX $ 10 AGE 12-13 HEIGHT 15-16 WEIGHT 18-22;\n",
    "CARDS;\n",
    "JOHN     M 12 59 99.5\n",
    "JAMES    M 12 57 83.0\n",
    "ALFRED   M 14 69 112.5\n",
    "ALICE    F 13 56 84.0\n",
    "PROC PRINT;\n",
    "RUN;"
   ]
  },
  {
   "cell_type": "markdown",
   "metadata": {
    "kernel": "SAS",
    "papermill": {
     "duration": null,
     "end_time": null,
     "exception": null,
     "start_time": null,
     "status": "pending"
    },
    "tags": []
   },
   "source": [
    "You can transfer the dataset to Python or R and analyze there"
   ]
  },
  {
   "cell_type": "code",
   "execution_count": null,
   "metadata": {
    "kernel": "SoS",
    "papermill": {
     "duration": null,
     "end_time": null,
     "exception": null,
     "start_time": null,
     "status": "pending"
    },
    "scrolled": true,
    "tags": []
   },
   "outputs": [],
   "source": [
    "%get CLASS --from SAS\n",
    "%preview -n CLASS"
   ]
  },
  {
   "cell_type": "markdown",
   "metadata": {
    "kernel": "SoS",
    "papermill": {
     "duration": null,
     "end_time": null,
     "exception": null,
     "start_time": null,
     "status": "pending"
    },
    "tags": []
   },
   "source": [
    "## Further reading\n",
    "\n",
    "* [How to exchange variables among living subkernels](doc/user_guide/exchange_variable.html)"
   ]
  }
 ],
 "metadata": {
  "kernelspec": {
   "display_name": "SoS",
   "language": "sos",
   "name": "sos"
  },
  "language_info": {
   "codemirror_mode": "sos",
   "file_extension": ".sos",
   "mimetype": "text/x-sos",
   "name": "sos",
   "nbconvert_exporter": "sos_notebook.converter.SoS_Exporter",
   "pygments_lexer": "sos"
  },
  "papermill": {
   "duration": 8.837987,
   "end_time": "2019-12-25T16:55:58.399007",
   "environment_variables": {},
   "exception": true,
   "input_path": "../src/user_guide/sos_sas.ipynb",
   "output_path": "sos_sas.ipynb",
   "parameters": {},
   "start_time": "2019-12-25T16:55:49.561020",
   "version": "1.1.0"
  },
  "sos": {
   "kernels": [
    [
     "Bash",
     "bash",
     "Bash",
     "#E6EEFF"
    ],
    [
     "R",
     "ir",
     "R",
     "#DCDCDA"
    ],
    [
     "SoS",
     "sos",
     "",
     ""
    ]
   ],
   "panel": {
    "displayed": true,
    "height": 0
   },
   "version": "0.21.3"
  }
 },
 "nbformat": 4,
 "nbformat_minor": 4
}