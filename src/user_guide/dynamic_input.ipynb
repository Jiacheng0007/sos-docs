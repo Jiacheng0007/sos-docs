{
 "cells": [
  {
   "cell_type": "markdown",
   "metadata": {
    "kernel": "SoS",
    "tags": []
   },
   "source": [
    "# Dynamically-determined input files"
   ]
  },
  {
   "cell_type": "markdown",
   "metadata": {
    "kernel": "SoS",
    "tags": []
   },
   "source": [
    "* **Difficulty level**: intermediate\n",
    "* **Time need to lean**: 20 minutes or less\n",
    "* **Key points**:\n",
    "  * `dynamic` input targets are resolved only when the step is executed"
   ]
  },
  {
   "cell_type": "markdown",
   "metadata": {
    "kernel": "SoS",
    "tags": []
   },
   "source": [
    "### `dynamic` input files"
   ]
  },
  {
   "cell_type": "markdown",
   "metadata": {
    "kernel": "SoS",
    "tags": []
   },
   "source": [
    "In order to determine the best execution strategy, SoS evaluates all expressions for all steps before the execution of a workflow to figure out input and output of steps. This works most of the time but sometimes the input of a step can only be determined at runtime. For example, if you would like your workflow to automatically scan an input directory and process all fasta files under it, or if a previous step produces\n",
    "files that cannot be determined beforehand, you might want to specify input files as follows,\n",
    "\n",
    "```python\n",
    "input: 'input/*.fasta'\n",
    "```\n",
    "\n",
    "The problem is that no file or a wrong set files might exist during the planing stage so SoS might skip this step or start the step\n",
    "with a wrong set of files. To address this problem, you can declare the input files as **dynamic** by passing a `dynamic` object\n",
    "\n",
    "```python\n",
    "input: dynamic('input/*.fasta')\n",
    "```\n",
    "\n",
    "This tells SoS that the input of this step can only be determined at runtime and will execute the step only after all its previous steps have been completed."
   ]
  },
  {
   "cell_type": "markdown",
   "metadata": {
    "kernel": "SoS",
    "tags": []
   },
   "source": [
    "For example, step `10` of the following workflow generates some random output, and step `20` only knows it when this step is executed. If `dynamic` is not used, SoS will try to execute step `20` and `10` at the same time, and step `20` will not get the output of step `10`."
   ]
  },
  {
   "cell_type": "code",
   "execution_count": 1,
   "metadata": {
    "kernel": "SoS",
    "tags": []
   },
   "outputs": [
    {
     "name": "stdout",
     "output_type": "stream",
     "text": [
      "Processing temp_dynamic/1116.out\n"
     ]
    },
    {
     "name": "stdout",
     "output_type": "stream",
     "text": [
      "Processing temp_dynamic/1245.out\n"
     ]
    },
    {
     "name": "stdout",
     "output_type": "stream",
     "text": [
      "Processing temp_dynamic/1248.out\n"
     ]
    },
    {
     "name": "stdout",
     "output_type": "stream",
     "text": [
      "Processing temp_dynamic/1266.out\n"
     ]
    },
    {
     "name": "stdout",
     "output_type": "stream",
     "text": [
      "Processing temp_dynamic/1774.out\n"
     ]
    }
   ],
   "source": [
    "!rm -rf temp_dynamic\n",
    "\n",
    "%run -v1\n",
    "[10]\n",
    "import random\n",
    "\n",
    "output: [f'temp_dynamic/{random.randint(1000, 2000)}.out' for x in range(5)]\n",
    "_output.touch()\n",
    "\n",
    "[20]\n",
    "input: dynamic('temp_dynamic/*.out'), group_by=1\n",
    "print(f'Processing {_input}')"
   ]
  },
  {
   "cell_type": "markdown",
   "metadata": {
    "kernel": "SoS",
    "tags": []
   },
   "source": [
    "## Further reading\n",
    "\n",
    "* [`input` statement](input_statement.html)\n",
    "* [`output` statement](output_statement.html)\n",
    "* [Dynamic output](dynamic_output.html)"
   ]
  }
 ],
 "metadata": {
  "kernelspec": {
   "display_name": "SoS",
   "language": "sos",
   "name": "sos"
  },
  "language_info": {
   "codemirror_mode": "sos",
   "file_extension": ".sos",
   "mimetype": "text/x-sos",
   "name": "sos",
   "nbconvert_exporter": "sos_notebook.converter.SoS_Exporter",
   "pygments_lexer": "sos"
  },
  "sos": {
   "kernels": [
    [
     "SoS",
     "sos",
     "",
     "",
     "sos"
    ]
   ],
   "panel": {
    "displayed": true,
    "height": 0
   },
   "version": "0.21.2"
  }
 },
 "nbformat": 4,
 "nbformat_minor": 4
}
