{
 "cells": [
  {
   "cell_type": "code",
   "execution_count": null,
   "metadata": {
    "hide_input": true,
    "inputHidden": true
   },
   "outputs": [
    {
     "data": {
      "text/html": [
       "<span style=\"color:red; font-family:Helvetica Neue, Helvetica, Arial, sans-serif; font-size:2em;\">An Exception was encountered at 'In [2]'.</span>"
      ]
     },
     "metadata": {},
     "output_type": "display_data"
    }
   ],
   "source": [
    "%%html\n",
    "<span style=\"color:red; font-family:Helvetica Neue, Helvetica, Arial, sans-serif; font-size:2em;\">An Exception was encountered at 'In [2]'.</span>"
   ]
  },
  {
   "cell_type": "markdown",
   "metadata": {
    "kernel": "SoS",
    "papermill": {
     "duration": 0.011673,
     "end_time": "2019-12-25T16:55:52.672616",
     "exception": false,
     "start_time": "2019-12-25T16:55:52.660943",
     "status": "completed"
    },
    "tags": []
   },
   "source": [
    "# Working with Ruby"
   ]
  },
  {
   "cell_type": "markdown",
   "metadata": {
    "kernel": "SoS",
    "papermill": {
     "duration": 0.010795,
     "end_time": "2019-12-25T16:55:52.697981",
     "exception": false,
     "start_time": "2019-12-25T16:55:52.687186",
     "status": "completed"
    },
    "tags": []
   },
   "source": [
    "* **Difficulty level**: easy\n",
    "* **Time need to lean**: 10 minutes or less\n",
    "  "
   ]
  },
  {
   "cell_type": "markdown",
   "metadata": {
    "kernel": "SoS",
    "papermill": {
     "duration": 0.011147,
     "end_time": "2019-12-25T16:55:52.720949",
     "exception": false,
     "start_time": "2019-12-25T16:55:52.709802",
     "status": "completed"
    },
    "tags": []
   },
   "source": [
    "## Ruby "
   ]
  },
  {
   "cell_type": "markdown",
   "metadata": {
    "kernel": "SoS",
    "papermill": {
     "duration": 0.01049,
     "end_time": "2019-12-25T16:55:52.744749",
     "exception": false,
     "start_time": "2019-12-25T16:55:52.734259",
     "status": "completed"
    },
    "tags": []
   },
   "source": [
    "Basic data types recognised in Ruby are similar with Python's data types and there is a one-to-one correspondence for these types.\n",
    "\n",
    "The convertion of datatype from SoS to Ruby (e.g. `%get` from Ruby) is as followings:\n",
    "\n",
    "  \n",
    "  | Python  |  condition |   Ruby |\n",
    "  | --- | --- |---|\n",
    "  | `None` | |    `nil` |\n",
    "  | `boolean` |   | `TrueClass or FalseClass` |\n",
    "  | `integer` |  |  `Integer` |\n",
    "  | `float` |  |  `Float` |\n",
    "  | `complex` |  |  `Complex` |\n",
    "  | `str` |  | `String` |\n",
    "  | Sequence (`list`, `tuple`, ...) |  |  `Array` |\n",
    "  | `set` |  |  `Set` |\n",
    "  | `dict` |  |  `Hash` |\n",
    "  | `range` |  |  `Range` |\n",
    "  | `numpy.ndarray` |  | `Array` |\n",
    "  | `numpy.matrix` |  | `NMatrix` |\n",
    "  | `pandas.Series` |  | `Hash` |\n",
    "  | `pandas.DataFrame` |  | `Daru::DataFrame` |\n",
    "\n",
    "  Python objects in other datatypes are transferred as string `\"Unsupported datatype\"`. Please [let us know](https://github.com/vatlab/sos-ruby/issues) if there is a natural corresponding data type in Ruby to convert this data type."
   ]
  },
  {
   "cell_type": "markdown",
   "metadata": {
    "kernel": "SoS",
    "papermill": {
     "duration": 0.010553,
     "end_time": "2019-12-25T16:55:52.764864",
     "exception": false,
     "start_time": "2019-12-25T16:55:52.754311",
     "status": "completed"
    },
    "tags": []
   },
   "source": [
    "Conversion of datatypes from Ruby to SoS (`%get var --from Ruby` from SoS) follows the following rules:\n",
    "\n",
    "  | Ruby  |  condition |   Python |\n",
    "  | --- | ---| ---|\n",
    "  | `nil` |     |  `None` |\n",
    "  | `Float::NAN` |     |  `numpy.nan` |\n",
    "  | `TrueClass or FalseClass` |     |  `boolean` |\n",
    "  | `Integer` |     |   `integer` |\n",
    "  | `String` |     |  `str` |\n",
    "  | `Complex` |     |  `complex` |\n",
    "  | `Float` |     |  `float` |\n",
    "  | `Array` |     |   `numpy.ndarray` |\n",
    "  | `Range` |     |   `range` |\n",
    "  | `Set` |      | `set` |\n",
    "  | `Hash` |      |  `dict` |\n",
    "  | `NMatrix` |   |  `numpy.matrix` |\n",
    "  | `Array` |   |  `numpy.ndarray` |\n",
    "  | `Daru::DataFrame` |      |  `pandas.DataFrame` |\n",
    "  Ruby objects in other datatypes are transferred as string `\"Unsupported datatype\"`. "
   ]
  },
  {
   "cell_type": "markdown",
   "metadata": {
    "kernel": "SoS",
    "papermill": {
     "duration": 0.011728,
     "end_time": "2019-12-25T16:55:52.788209",
     "exception": false,
     "start_time": "2019-12-25T16:55:52.776481",
     "status": "completed"
    },
    "tags": []
   },
   "source": [
    "For example, the scalar data is converted from SoS to Ruby as follows:"
   ]
  },
  {
   "cell_type": "code",
   "execution_count": 1,
   "metadata": {
    "kernel": "SoS",
    "papermill": {
     "duration": 0.422635,
     "end_time": "2019-12-25T16:55:53.220824",
     "exception": false,
     "start_time": "2019-12-25T16:55:52.798189",
     "status": "completed"
    },
    "tags": []
   },
   "outputs": [],
   "source": [
    "null_var = None\n",
    "num_var = 123\n",
    "logic_var = True\n",
    "char_var = '1\"23'\n",
    "comp_var = 1+2j"
   ]
  },
  {
   "cell_type": "code",
   "execution_count": 2,
   "metadata": {
    "kernel": "Ruby",
    "papermill": {
     "duration": 0.018007,
     "end_time": "2019-12-25T16:55:53.247651",
     "exception": true,
     "start_time": "2019-12-25T16:55:53.229644",
     "status": "failed"
    },
    "tags": []
   },
   "outputs": [
    {
     "ename": "ValueError",
     "evalue": "No subkernel named Ruby is found. Please make sure that you have the kernel installed (listed in the output of \"jupyter kernelspec list\" and usable in jupyter by itself), install appropriate language module (e.g. \"pip install sos-r\"), restart jupyter notebook and try again.",
     "output_type": "error",
     "traceback": []
    }
   ],
   "source": [
    "%get null_var num_var logic_var char_var comp_var\n",
    "puts [null_var, num_var, logic_var, char_var, comp_var]"
   ]
  },
  {
   "cell_type": "markdown",
   "metadata": {
    "kernel": "Ruby",
    "papermill": {
     "duration": null,
     "end_time": null,
     "exception": null,
     "start_time": null,
     "status": "pending"
    },
    "tags": []
   },
   "source": [
    "Ruby supports DataFrame from its daru (Data Analysis in RUby) library so you will need to install this library before using the Ruby kernel. For example, a R dataframe is transfered as Daru::DataFrame to Ruby."
   ]
  },
  {
   "cell_type": "code",
   "execution_count": null,
   "metadata": {
    "kernel": "Ruby",
    "papermill": {
     "duration": null,
     "end_time": null,
     "exception": null,
     "start_time": null,
     "status": "pending"
    },
    "tags": []
   },
   "outputs": [],
   "source": [
    "%get mtcars --from R\n",
    "mtcars"
   ]
  },
  {
   "cell_type": "markdown",
   "metadata": {
    "kernel": "Ruby",
    "papermill": {
     "duration": null,
     "end_time": null,
     "exception": null,
     "start_time": null,
     "status": "pending"
    },
    "tags": []
   },
   "source": [
    "Also, we choose NMatrix library in Ruby becuase its fast performance. Same as daru (Data Analysis in RUby), you will need to install nmatrix library before using the Ruby kernel."
   ]
  },
  {
   "cell_type": "code",
   "execution_count": null,
   "metadata": {
    "kernel": "Ruby",
    "papermill": {
     "duration": null,
     "end_time": null,
     "exception": null,
     "start_time": null,
     "status": "pending"
    },
    "tags": []
   },
   "outputs": [],
   "source": [
    "mat_var = N[ [2, 3, 4], [7, 8, 9] ]"
   ]
  },
  {
   "cell_type": "code",
   "execution_count": null,
   "metadata": {
    "kernel": "Ruby",
    "papermill": {
     "duration": null,
     "end_time": null,
     "exception": null,
     "start_time": null,
     "status": "pending"
    },
    "tags": []
   },
   "outputs": [],
   "source": [
    "%put mat_var"
   ]
  },
  {
   "cell_type": "code",
   "execution_count": null,
   "metadata": {
    "kernel": "SoS",
    "papermill": {
     "duration": null,
     "end_time": null,
     "exception": null,
     "start_time": null,
     "status": "pending"
    },
    "tags": []
   },
   "outputs": [],
   "source": [
    "mat_var"
   ]
  },
  {
   "cell_type": "markdown",
   "metadata": {
    "kernel": "SoS",
    "papermill": {
     "duration": null,
     "end_time": null,
     "exception": null,
     "start_time": null,
     "status": "pending"
    },
    "tags": []
   },
   "source": [
    "## Further reading\n",
    "\n",
    "* [Exchanging data among kernels](exchange_variable.html)"
   ]
  }
 ],
 "metadata": {
  "kernelspec": {
   "display_name": "SoS",
   "language": "sos",
   "name": "sos"
  },
  "language_info": {
   "codemirror_mode": "sos",
   "file_extension": ".sos",
   "mimetype": "text/x-sos",
   "name": "sos",
   "nbconvert_exporter": "sos_notebook.converter.SoS_Exporter",
   "pygments_lexer": "sos"
  },
  "papermill": {
   "duration": 8.937749,
   "end_time": "2019-12-25T16:55:58.465238",
   "environment_variables": {},
   "exception": true,
   "input_path": "../src/user_guide/sos_ruby.ipynb",
   "output_path": "sos_ruby.ipynb",
   "parameters": {},
   "start_time": "2019-12-25T16:55:49.527489",
   "version": "1.1.0"
  },
  "sos": {
   "kernels": [
    [
     "Bash",
     "bash",
     "Bash",
     "#E6EEFF"
    ],
    [
     "R",
     "ir",
     "R",
     "#DCDCDA"
    ],
    [
     "SoS",
     "sos",
     "",
     ""
    ]
   ],
   "panel": {
    "displayed": true,
    "height": 0
   },
   "version": "0.21.3"
  }
 },
 "nbformat": 4,
 "nbformat_minor": 4
}