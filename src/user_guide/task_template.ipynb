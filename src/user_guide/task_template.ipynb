{
 "cells": [
  {
   "cell_type": "markdown",
   "metadata": {
    "kernel": "SoS",
    "tags": []
   },
   "source": [
    "# Use of task templates"
   ]
  },
  {
   "cell_type": "markdown",
   "metadata": {
    "kernel": "SoS",
    "tags": []
   },
   "source": [
    "* **Difficulty level**: easy\n",
    "* **Time need to lean**: 10 minutes or less\n",
    "* **Key points**:\n",
    "  * Task options `walltime`, `nodes`, `cores`, `mem` specifies the resources needed for tasks\n",
    "  * These options could be adjusted for `trunk_size` and `trunk_workers` options\n",
    "  * These options will be presented to task templates in standardized formats\n",
    "  * These options could be overriden by values specified on command line"
   ]
  },
  {
   "cell_type": "markdown",
   "metadata": {
    "kernel": "SoS",
    "output_cache": "[]",
    "tags": []
   },
   "source": [
    "## `task_template` of host definition"
   ]
  },
  {
   "cell_type": "markdown",
   "metadata": {
    "kernel": "SoS",
    "tags": []
   },
   "source": [
    "When you submit tasks to a cluster system, you will need to specify resources required for your task. These resources could be specified from command line, but are mostly specified in the submitted jobs as comments.\n",
    "\n",
    "A typical PBS shell script would look like\n",
    "\n",
    "```bash\n",
    "#!/bin/bash\n",
    "#PBS -N 1fafb4489a7b4b47\n",
    "#PBS -l nodes=1:ppn=1\n",
    "#PBS -l walltime=01:00:00\n",
    "#PBS -l mem=2GB\n",
    "#PBS -o ~/.sos/tasks/1fafb4489a7b4b47.out\n",
    "#PBS -e ~/.sos/tasks/1fafb4489a7b4b47.err\n",
    "#PBS -m n\n",
    "module load R\n",
    "sos execute 1fafb4489a7b4b47 -v 2 -s force -m interactive\n",
    "```\n",
    "\n",
    "and is expanded from a `task_template` similar to this\n",
    "```yaml\n",
    "hosts:\n",
    "    htc:\n",
    "        queue: medium\n",
    "        task_template: |\n",
    "            #!/bin/bash\n",
    "            #PBS -N {job_name}\n",
    "            #PBS -l nodes={nodes}:ppn={cores}\n",
    "            #PBS -l walltime={walltime}\n",
    "            #PBS -l mem={mem//10**9}GB\n",
    "            #PBS -q {queue}\n",
    "            #PBS -o ~/.sos/tasks/{task}.out\n",
    "            #PBS -e ~/.sos/tasks/{task}.err\n",
    "            #PBS -m n\n",
    "            #PBS -v {workdir}\n",
    "            module load R\n",
    "            {command}\n",
    "```          \n",
    "\n",
    "The template has the following variables\n",
    "\n",
    "* `job_name`: this is typically just `task`\n",
    "* `command`: this is supplied by SoS, which is a `sos execute ...`\n",
    "* `nodes`, `cores`, `walltime`, `mem`: resource parameters\n",
    "* `workdir`, which is the current working directory, that will be translated to remote host\n",
    "* Customized variables such as `queue`\n",
    "\n",
    "All these variables will need to be properly specified to successfully generate the task execution script."
   ]
  },
  {
   "cell_type": "markdown",
   "metadata": {
    "kernel": "SoS",
    "output_cache": "[]",
    "tags": []
   },
   "source": [
    "* The resource options such as `walltime` and `cores` will be sent to individual task queues in appropriate format. You do not have to specify all options because task queues can support a subset of these options and some task queues provide default values (and some do not). It is however generally a good idea to specify them all so that your tasks could be executed on all types of task queues. \n",
    "\n",
    "* The execution options such as `workdir`, `env`, `concurrent` specify environments in which tasks will be submitted and executed. "
   ]
  },
  {
   "cell_type": "markdown",
   "metadata": {
    "kernel": "SoS",
    "tags": []
   },
   "source": [
    "## Specification of variables"
   ]
  },
  {
   "cell_type": "markdown",
   "metadata": {
    "kernel": "SoS",
    "tags": []
   },
   "source": [
    "`task_template` is expanded with variables defined in\n",
    "\n",
    "1. Command line\n",
    "2. Task options\n",
    "3. Host definition\n",
    "\n",
    "in that order when it is first found."
   ]
  },
  {
   "cell_type": "markdown",
   "metadata": {
    "kernel": "SoS",
    "tags": []
   },
   "source": [
    "## Variables define in command line"
   ]
  },
  {
   "cell_type": "markdown",
   "metadata": {
    "kernel": "SoS",
    "tags": []
   },
   "source": [
    "As a less known feature, option `-q` accepts `KEY=VALUE` definitions in addition to the name of a queue. For example,\n",
    "\n",
    "```\n",
    "%run -q queue=long walltime=24:00:00\n",
    "```\n",
    "\n",
    "will specify variables `queue` and `walltime` with values `'long'` and `'24:00:00'` respectively, which will override variables defined in task options and host definitions."
   ]
  },
  {
   "cell_type": "markdown",
   "metadata": {
    "kernel": "SoS",
    "tags": []
   },
   "source": [
    "## Task options"
   ]
  },
  {
   "cell_type": "markdown",
   "metadata": {
    "kernel": "SoS",
    "tags": []
   },
   "source": [
    "The `task` statement accepts arbitrary keyword arguments. SoS will process reserved arguments such as `walltime` and `mem` and pass the rest directly to `task_template`. For example, you can define variables for the template as\n",
    "\n",
    "```\n",
    "task: queue='htc', walltime='24:00:00', queue='long', mem='4G'\n",
    "```"
   ]
  },
  {
   "cell_type": "markdown",
   "metadata": {
    "kernel": "SoS",
    "tags": []
   },
   "source": [
    "### Default values in host configuration"
   ]
  },
  {
   "cell_type": "markdown",
   "metadata": {
    "kernel": "SoS",
    "tags": []
   },
   "source": [
    "Configuration of a host can have any keys, which can be used as default values of the variables. For example, in the aforementioned example, `queue` is defined as `medium` so a `medium` queue on the cluster will be used if it is not defined in task options or command line."
   ]
  },
  {
   "cell_type": "markdown",
   "metadata": {
    "kernel": "SoS",
    "tags": []
   },
   "source": [
    "## Pre-defined template options"
   ]
  },
  {
   "cell_type": "markdown",
   "metadata": {
    "kernel": "SoS",
    "tags": []
   },
   "source": [
    "SoS recognizes the following resource-related variables that are commonly used in task templates. Because different cluster systems use different syntax for these variables, SoS accepts a varity of input for these parameters and pass a standard format to templates."
   ]
  },
  {
   "cell_type": "markdown",
   "metadata": {
    "kernel": "SoS",
    "output_cache": "[]",
    "tags": []
   },
   "source": [
    "### Option `walltime`"
   ]
  },
  {
   "cell_type": "markdown",
   "metadata": {
    "kernel": "SoS",
    "output_cache": "[]",
    "tags": []
   },
   "source": [
    "Estimated maximum running time of the task. This parameter will be sent to different task queues and it is up to the task queue to decide if the task would be killed if the task could not be completed within specified `walltime`. \n",
    "\n",
    "`walltime` could be specified as a string in the format of `HH:MM:SS` where `HH`, `MM` and `SS` are hours, minutes, and seconds, or an integer with units `s` (second), `m` (minute), `h` (hour), or `d` (day). SoS converts all input into format `HH:MM:SS` when `walltime` is passed to `task_template`. That is to say, you could use `walltime='120m'` or `walltime='2h'` and the templates will see `walltime='02:00:00' in both acses."
   ]
  },
  {
   "cell_type": "markdown",
   "metadata": {
    "kernel": "SoS",
    "tags": []
   },
   "source": [
    "### Option `nodes`"
   ]
  },
  {
   "cell_type": "markdown",
   "metadata": {
    "kernel": "SoS",
    "tags": []
   },
   "source": [
    "Number of computing nodes that a task will use, default to 1."
   ]
  },
  {
   "cell_type": "markdown",
   "metadata": {
    "kernel": "SoS",
    "output_cache": "[]",
    "tags": []
   },
   "source": [
    "### Option `cores`"
   ]
  },
  {
   "cell_type": "markdown",
   "metadata": {
    "kernel": "SoS",
    "output_cache": "[]",
    "tags": []
   },
   "source": [
    "Number of cores on each computing node, which corrsponds to the `ppn` option of a PBS system. This option is default to 1 if left unspecified."
   ]
  },
  {
   "cell_type": "markdown",
   "metadata": {
    "kernel": "SoS",
    "output_cache": "[]",
    "tags": []
   },
   "source": [
    "### Option `mem`"
   ]
  },
  {
   "cell_type": "markdown",
   "metadata": {
    "kernel": "SoS",
    "output_cache": "[]",
    "tags": []
   },
   "source": [
    "The total amount of memory needed across all nodes. The default unit is bytes so you can specify an integer (of bytes) to this option. It is however more convenient to specify it with other units such as megabytes (`mem=4000MB`). gigabytes (`mem=4GB`) or gibibytes (`mem=4GiB`), although all inputs are converted to bytes internally. To use this option in a `job_template`, you generally need to use expressions such as `{mem//1e9}GB` to convert it to a cluster-specific format."
   ]
  },
  {
   "cell_type": "markdown",
   "metadata": {
    "kernel": "SoS",
    "tags": []
   },
   "source": [
    "## Adjustment of resource options with `trunk_size` and `trunk_workers`"
   ]
  },
  {
   "cell_type": "markdown",
   "metadata": {
    "kernel": "SoS",
    "tags": []
   },
   "source": [
    "Options `walltime`, `mem`, `cores`, `nodes` defines resources required for a single task. If multiple tasks are combined into a master task with options `trunk_size` and `trunk_workers`, the resources for the master tasks will be automatically calculated. For example, `trunk_size=10` will increase `walltime` by 10 folds, and `trunk_workers=2` will cut total `watlltime` by half, but double `cores` and `mem`. Please see [Combining tasks (options `trunk_size` and `trunk_workers`)](doc/user_guide/trunk_size.html) for details."
   ]
  },
  {
   "cell_type": "markdown",
   "metadata": {
    "kernel": "SoS",
    "tags": []
   },
   "source": [
    "## Further reading\n",
    "\n",
    "* [`task` statement](task_statement.html)\n",
    "* [Combining tasks (options `trunk_size` and `trunk_workers`)](doc/user_guide/trunk_size.html)   "
   ]
  }
 ],
 "metadata": {
  "kernelspec": {
   "display_name": "SoS",
   "language": "sos",
   "name": "sos"
  },
  "language_info": {
   "codemirror_mode": "sos",
   "file_extension": ".sos",
   "mimetype": "text/x-sos",
   "name": "sos",
   "nbconvert_exporter": "sos_notebook.converter.SoS_Exporter",
   "pygments_lexer": "sos"
  },
  "sos": {
   "kernels": [
    [
     "Bash",
     "bash",
     "Bash",
     "#E6EEFF"
    ],
    [
     "R",
     "ir",
     "R",
     "#DCDCDA"
    ],
    [
     "SoS",
     "sos",
     "",
     ""
    ]
   ],
   "panel": {
    "displayed": true,
    "height": 0
   },
   "version": "0.21.2"
  }
 },
 "nbformat": 4,
 "nbformat_minor": 4
}
