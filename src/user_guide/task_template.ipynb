{
 "cells": [
  {
   "cell_type": "markdown",
   "metadata": {
    "kernel": "SoS",
    "papermill": {
     "duration": 0.016884,
     "end_time": "2019-12-23T17:08:01.305572",
     "exception": false,
     "start_time": "2019-12-23T17:08:01.288688",
     "status": "completed"
    },
    "tags": []
   },
   "source": [
    "# Use of task templates"
   ]
  },
  {
   "cell_type": "markdown",
   "metadata": {
    "kernel": "SoS",
    "papermill": {
     "duration": 0.0171,
     "end_time": "2019-12-23T17:08:01.344388",
     "exception": false,
     "start_time": "2019-12-23T17:08:01.327288",
     "status": "completed"
    },
    "tags": []
   },
   "source": [
    "* **Difficulty level**: easy\n",
    "* **Time need to lean**: 10 minutes or less\n",
    "* **Key points**:\n",
    "  * Task options `walltime`, `nodes`, `cores`, `mem` specifies the resources needed for tasks\n",
    "  * These options could be adjusted for `trunk_size` and `trunk_workers` options\n",
    "  * These options will be presented to task templates in standardized formats\n",
    "  * These options could be overriden by values specified on command line"
   ]
  },
  {
   "cell_type": "markdown",
   "metadata": {
    "kernel": "SoS",
    "output_cache": "[]",
    "papermill": {
     "duration": 0.015144,
     "end_time": "2019-12-23T17:08:01.373138",
     "exception": false,
     "start_time": "2019-12-23T17:08:01.357994",
     "status": "completed"
    },
    "tags": []
   },
   "source": [
    "## `task_template` of host definition"
   ]
  },
  {
   "cell_type": "markdown",
   "metadata": {
    "kernel": "SoS",
    "papermill": {
     "duration": 0.014797,
     "end_time": "2019-12-23T17:08:01.401704",
     "exception": false,
     "start_time": "2019-12-23T17:08:01.386907",
     "status": "completed"
    },
    "tags": []
   },
   "source": [
    "When you submit tasks to a cluster system, you will need to specify resources required for your task. These resources could be specified from command line, but are mostly specified in the submitted jobs as comments.\n",
    "\n",
    "A typical PBS shell script would look like\n",
    "\n",
    "```bash\n",
    "#!/bin/bash\n",
    "#PBS -N 1fafb4489a7b4b47\n",
    "#PBS -l nodes=1:ppn=1\n",
    "#PBS -l walltime=01:00:00\n",
    "#PBS -l mem=2GB\n",
    "#PBS -o ~/.sos/tasks/1fafb4489a7b4b47.out\n",
    "#PBS -e ~/.sos/tasks/1fafb4489a7b4b47.err\n",
    "#PBS -m n\n",
    "module load R\n",
    "sos execute 1fafb4489a7b4b47 -v 2 -s force -m interactive\n",
    "```\n",
    "\n",
    "and is expanded from a `task_template` similar to this\n",
    "```yaml\n",
    "hosts:\n",
    "    htc:\n",
    "        queue: medium\n",
    "        task_template: |\n",
    "            #!/bin/bash\n",
    "            #PBS -N {job_name}\n",
    "            #PBS -l nodes={nodes}:ppn={cores}\n",
    "            #PBS -l walltime={walltime}\n",
    "            #PBS -l mem={mem//10**9}GB\n",
    "            #PBS -q {queue}\n",
    "            #PBS -o ~/.sos/tasks/{task}.out\n",
    "            #PBS -e ~/.sos/tasks/{task}.err\n",
    "            #PBS -m n\n",
    "            #PBS -v {workdir}\n",
    "            module load R\n",
    "            {command}\n",
    "```          \n",
    "\n",
    "The template has the following variables\n",
    "\n",
    "* `job_name`: this is typically just `task`\n",
    "* `command`: this is supplied by SoS, which is a `sos execute ...`\n",
    "* `nodes`, `cores`, `walltime`, `mem`: resource parameters\n",
    "* `workdir`, which is the current working directory, that will be translated to remote host\n",
    "* Customized variables such as `queue`\n",
    "\n",
    "All these variables will need to be properly specified to successfully generate the task execution script."
   ]
  },
  {
   "cell_type": "markdown",
   "metadata": {
    "kernel": "SoS",
    "output_cache": "[]",
    "papermill": {
     "duration": 0.01632,
     "end_time": "2019-12-23T17:08:01.433297",
     "exception": false,
     "start_time": "2019-12-23T17:08:01.416977",
     "status": "completed"
    },
    "tags": []
   },
   "source": [
    "* The resource options such as `walltime` and `cores` will be sent to individual task queues in appropriate format. You do not have to specify all options because task queues can support a subset of these options and some task queues provide default values (and some do not). It is however generally a good idea to specify them all so that your tasks could be executed on all types of task queues. \n",
    "\n",
    "* The execution options such as `workdir`, `env`, `concurrent` specify environments in which tasks will be submitted and executed. "
   ]
  },
  {
   "cell_type": "markdown",
   "metadata": {
    "kernel": "SoS",
    "papermill": {
     "duration": 0.014737,
     "end_time": "2019-12-23T17:08:01.464451",
     "exception": false,
     "start_time": "2019-12-23T17:08:01.449714",
     "status": "completed"
    },
    "tags": []
   },
   "source": [
    "## Specification of variables"
   ]
  },
  {
   "cell_type": "markdown",
   "metadata": {
    "kernel": "SoS",
    "papermill": {
     "duration": 0.015462,
     "end_time": "2019-12-23T17:08:01.495639",
     "exception": false,
     "start_time": "2019-12-23T17:08:01.480177",
     "status": "completed"
    },
    "tags": []
   },
   "source": [
    "`task_template` is expanded with variables defined in\n",
    "\n",
    "1. Command line\n",
    "2. Task options\n",
    "3. Host definition\n",
    "\n",
    "in that order when it is first found."
   ]
  },
  {
   "cell_type": "markdown",
   "metadata": {
    "kernel": "SoS",
    "papermill": {
     "duration": 0.015749,
     "end_time": "2019-12-23T17:08:01.525256",
     "exception": false,
     "start_time": "2019-12-23T17:08:01.509507",
     "status": "completed"
    },
    "tags": []
   },
   "source": [
    "## Variables define in command line"
   ]
  },
  {
   "cell_type": "markdown",
   "metadata": {
    "kernel": "SoS",
    "papermill": {
     "duration": 0.015607,
     "end_time": "2019-12-23T17:08:01.559200",
     "exception": false,
     "start_time": "2019-12-23T17:08:01.543593",
     "status": "completed"
    },
    "tags": []
   },
   "source": [
    "As a less known feature, option `-q` accepts `KEY=VALUE` definitions in addition to the name of a queue. For example,\n",
    "\n",
    "```\n",
    "%run -q queue=long walltime=24:00:00\n",
    "```\n",
    "\n",
    "will specify variables `queue` and `walltime` with values `'long'` and `'24:00:00'` respectively, which will override variables defined in task options and host definitions."
   ]
  },
  {
   "cell_type": "markdown",
   "metadata": {
    "kernel": "SoS",
    "papermill": {
     "duration": 0.013615,
     "end_time": "2019-12-23T17:08:01.587309",
     "exception": false,
     "start_time": "2019-12-23T17:08:01.573694",
     "status": "completed"
    },
    "tags": []
   },
   "source": [
    "## Task options"
   ]
  },
  {
   "cell_type": "markdown",
   "metadata": {
    "kernel": "SoS",
    "papermill": {
     "duration": 0.021504,
     "end_time": "2019-12-23T17:08:01.625807",
     "exception": false,
     "start_time": "2019-12-23T17:08:01.604303",
     "status": "completed"
    },
    "tags": []
   },
   "source": [
    "The `task` statement accepts arbitrary keyword arguments. SoS will process reserved arguments such as `walltime` and `mem` and pass the rest directly to `task_template`. For example, you can define variables for the template as\n",
    "\n",
    "```\n",
    "task: queue='htc', walltime='24:00:00', queue='long', mem='4G'\n",
    "```"
   ]
  },
  {
   "cell_type": "markdown",
   "metadata": {
    "kernel": "SoS",
    "papermill": {
     "duration": 0.020622,
     "end_time": "2019-12-23T17:08:01.668559",
     "exception": false,
     "start_time": "2019-12-23T17:08:01.647937",
     "status": "completed"
    },
    "tags": []
   },
   "source": [
    "### Default values in host configuration"
   ]
  },
  {
   "cell_type": "markdown",
   "metadata": {
    "kernel": "SoS",
    "papermill": {
     "duration": 0.013002,
     "end_time": "2019-12-23T17:08:01.696682",
     "exception": false,
     "start_time": "2019-12-23T17:08:01.683680",
     "status": "completed"
    },
    "tags": []
   },
   "source": [
    "Configuration of a host can have any keys, which can be used as default values of the variables. For example, in the aforementioned example, `queue` is defined as `medium` so a `medium` queue on the cluster will be used if it is not defined in task options or command line."
   ]
  },
  {
   "cell_type": "markdown",
   "metadata": {
    "kernel": "SoS",
    "papermill": {
     "duration": 0.01469,
     "end_time": "2019-12-23T17:08:01.725310",
     "exception": false,
     "start_time": "2019-12-23T17:08:01.710620",
     "status": "completed"
    },
    "tags": []
   },
   "source": [
    "## Pre-defined template options"
   ]
  },
  {
   "cell_type": "markdown",
   "metadata": {
    "kernel": "SoS",
    "papermill": {
     "duration": 0.025065,
     "end_time": "2019-12-23T17:08:01.769980",
     "exception": false,
     "start_time": "2019-12-23T17:08:01.744915",
     "status": "completed"
    },
    "tags": []
   },
   "source": [
    "SoS recognizes the following resource-related variables that are commonly used in task templates. Because different cluster systems use different syntax for these variables, SoS accepts a varity of input for these parameters and pass a standard format to templates."
   ]
  },
  {
   "cell_type": "markdown",
   "metadata": {
    "kernel": "SoS",
    "output_cache": "[]",
    "papermill": {
     "duration": 0.017062,
     "end_time": "2019-12-23T17:08:01.808299",
     "exception": false,
     "start_time": "2019-12-23T17:08:01.791237",
     "status": "completed"
    },
    "tags": []
   },
   "source": [
    "### Option `walltime`"
   ]
  },
  {
   "cell_type": "markdown",
   "metadata": {
    "kernel": "SoS",
    "output_cache": "[]",
    "papermill": {
     "duration": 0.019804,
     "end_time": "2019-12-23T17:08:01.844894",
     "exception": false,
     "start_time": "2019-12-23T17:08:01.825090",
     "status": "completed"
    },
    "tags": []
   },
   "source": [
    "Estimated maximum running time of the task. This parameter will be sent to different task queues and it is up to the task queue to decide if the task would be killed if the task could not be completed within specified `walltime`. \n",
    "\n",
    "`walltime` could be specified as a string in the format of `HH:MM:SS` where `HH`, `MM` and `SS` are hours, minutes, and seconds, or an integer with units `s` (second), `m` (minute), `h` (hour), or `d` (day). SoS converts all input into format `HH:MM:SS` when `walltime` is passed to `task_template`. That is to say, you could use `walltime='120m'` or `walltime='2h'` and the templates will see `walltime='02:00:00' in both acses."
   ]
  },
  {
   "cell_type": "markdown",
   "metadata": {
    "kernel": "SoS",
    "papermill": {
     "duration": 0.023738,
     "end_time": "2019-12-23T17:08:01.890557",
     "exception": false,
     "start_time": "2019-12-23T17:08:01.866819",
     "status": "completed"
    },
    "tags": []
   },
   "source": [
    "### Option `nodes`"
   ]
  },
  {
   "cell_type": "markdown",
   "metadata": {
    "kernel": "SoS",
    "papermill": {
     "duration": 0.021257,
     "end_time": "2019-12-23T17:08:01.931273",
     "exception": false,
     "start_time": "2019-12-23T17:08:01.910016",
     "status": "completed"
    },
    "tags": []
   },
   "source": [
    "Number of computing nodes that a task will use, default to 1."
   ]
  },
  {
   "cell_type": "markdown",
   "metadata": {
    "kernel": "SoS",
    "output_cache": "[]",
    "papermill": {
     "duration": 0.019301,
     "end_time": "2019-12-23T17:08:01.974728",
     "exception": false,
     "start_time": "2019-12-23T17:08:01.955427",
     "status": "completed"
    },
    "tags": []
   },
   "source": [
    "### Option `cores`"
   ]
  },
  {
   "cell_type": "markdown",
   "metadata": {
    "kernel": "SoS",
    "output_cache": "[]",
    "papermill": {
     "duration": 0.015745,
     "end_time": "2019-12-23T17:08:02.006654",
     "exception": false,
     "start_time": "2019-12-23T17:08:01.990909",
     "status": "completed"
    },
    "tags": []
   },
   "source": [
    "Number of cores on each computing node, which corrsponds to the `ppn` option of a PBS system. This option is default to 1 if left unspecified."
   ]
  },
  {
   "cell_type": "markdown",
   "metadata": {
    "kernel": "SoS",
    "output_cache": "[]",
    "papermill": {
     "duration": 0.014247,
     "end_time": "2019-12-23T17:08:02.039754",
     "exception": false,
     "start_time": "2019-12-23T17:08:02.025507",
     "status": "completed"
    },
    "tags": []
   },
   "source": [
    "### Option `mem`"
   ]
  },
  {
   "cell_type": "markdown",
   "metadata": {
    "kernel": "SoS",
    "output_cache": "[]",
    "papermill": {
     "duration": 0.016486,
     "end_time": "2019-12-23T17:08:02.073978",
     "exception": false,
     "start_time": "2019-12-23T17:08:02.057492",
     "status": "completed"
    },
    "tags": []
   },
   "source": [
    "The total amount of memory needed across all nodes. The default unit is bytes so you can specify an integer (of bytes) to this option. It is however more convenient to specify it with other units such as megabytes (`mem=4000MB`). gigabytes (`mem=4GB`) or gibibytes (`mem=4GiB`), although all inputs are converted to bytes internally. To use this option in a `job_template`, you generally need to use expressions such as `{mem//1e9}GB` to convert it to a cluster-specific format."
   ]
  },
  {
   "cell_type": "markdown",
   "metadata": {
    "kernel": "SoS",
    "papermill": {
     "duration": 0.01808,
     "end_time": "2019-12-23T17:08:02.113624",
     "exception": false,
     "start_time": "2019-12-23T17:08:02.095544",
     "status": "completed"
    },
    "tags": []
   },
   "source": [
    "## Adjustment of resource options with `trunk_size` and `trunk_workers`"
   ]
  },
  {
   "cell_type": "markdown",
   "metadata": {
    "kernel": "SoS",
    "papermill": {
     "duration": 0.018164,
     "end_time": "2019-12-23T17:08:02.151529",
     "exception": false,
     "start_time": "2019-12-23T17:08:02.133365",
     "status": "completed"
    },
    "tags": []
   },
   "source": [
    "Options `walltime`, `mem`, `cores`, `nodes` defines resources required for a single task. If multiple tasks are combined into a master task with options `trunk_size` and `trunk_workers`, the resources for the master tasks will be automatically calculated. For example, `trunk_size=10` will increase `walltime` by 10 folds, and `trunk_workers=2` will cut total `watlltime` by half, but double `cores` and `mem`. Please see [Combining tasks (options `trunk_size` and `trunk_workers`)](doc/user_guide/trunk_size.html) for details."
   ]
  },
  {
   "cell_type": "markdown",
   "metadata": {
    "kernel": "SoS",
    "papermill": {
     "duration": 0.017989,
     "end_time": "2019-12-23T17:08:02.187584",
     "exception": false,
     "start_time": "2019-12-23T17:08:02.169595",
     "status": "completed"
    },
    "tags": []
   },
   "source": [
    "## Further reading\n",
    "\n",
    "* [`task` statement](task_statement.html)\n",
    "* [Combining tasks (options `trunk_size` and `trunk_workers`)](doc/user_guide/trunk_size.html)   "
   ]
  }
 ],
 "metadata": {
  "kernelspec": {
   "display_name": "SoS",
   "language": "sos",
   "name": "sos"
  },
  "language_info": {
   "codemirror_mode": "sos",
   "file_extension": ".sos",
   "mimetype": "text/x-sos",
   "name": "sos",
   "nbconvert_exporter": "sos_notebook.converter.SoS_Exporter",
   "pygments_lexer": "sos"
  },
  "papermill": {
   "duration": 4.834781,
   "end_time": "2019-12-23T17:08:02.634225",
   "environment_variables": {},
   "exception": null,
   "input_path": "/Users/bpeng1/sos/sos-docs/src/user_guide/task_template.ipynb",
   "output_path": "task_template.ipynb_rerun.ipynb",
   "parameters": {},
   "start_time": "2019-12-23T17:07:57.799444",
   "version": "1.1.0"
  },
  "sos": {
   "kernels": [
    [
     "Bash",
     "bash",
     "Bash",
     "#E6EEFF"
    ],
    [
     "R",
     "ir",
     "R",
     "#DCDCDA"
    ],
    [
     "SoS",
     "sos",
     "",
     ""
    ]
   ],
   "panel": {
    "displayed": true,
    "height": 0
   },
   "version": "0.21.2"
  }
 },
 "nbformat": 4,
 "nbformat_minor": 4
}