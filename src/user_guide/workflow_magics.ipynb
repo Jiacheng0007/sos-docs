{
 "cells": [
  {
   "cell_type": "markdown",
   "metadata": {
    "kernel": "SoS",
    "papermill": {
     "duration": 0.030316,
     "end_time": "2019-12-23T17:06:22.242605",
     "exception": false,
     "start_time": "2019-12-23T17:06:22.212289",
     "status": "completed"
    },
    "tags": []
   },
   "source": [
    "# Workflow-execution magics"
   ]
  },
  {
   "cell_type": "markdown",
   "metadata": {
    "kernel": "SoS",
    "papermill": {
     "duration": 0.032869,
     "end_time": "2019-12-23T17:06:22.307262",
     "exception": false,
     "start_time": "2019-12-23T17:06:22.274393",
     "status": "completed"
    },
    "tags": []
   },
   "source": [
    "* **Difficulty level**: easy\n",
    "* **Time need to lean**: 15 minutes or less\n",
    "* **Key points**:\n",
    "  * SoS workflows can be embedded in Jupyter notebook\n",
    "  * Magic `%run` executes workflows defined in the current cell\n",
    "  * Magic `%sosrun` executes workflows defined in the entire notebook\n",
    "  * Magic `%runfile` executes workflows defined in specified file"
   ]
  },
  {
   "cell_type": "markdown",
   "metadata": {
    "kernel": "SoS",
    "papermill": {
     "duration": 0.027,
     "end_time": "2019-12-23T17:06:22.362374",
     "exception": false,
     "start_time": "2019-12-23T17:06:22.335374",
     "status": "completed"
    },
    "tags": []
   },
   "source": [
    "SoS Notebook is an IDE for SoS workflow and allows the development and execution of workflows in a Jupyter environment."
   ]
  },
  {
   "cell_type": "markdown",
   "metadata": {
    "kernel": "SoS",
    "papermill": {
     "duration": 0.031346,
     "end_time": "2019-12-23T17:06:22.427424",
     "exception": false,
     "start_time": "2019-12-23T17:06:22.396078",
     "status": "completed"
    },
    "tags": []
   },
   "source": [
    "## Scratch workflow steps"
   ]
  },
  {
   "cell_type": "markdown",
   "metadata": {
    "kernel": "SoS",
    "papermill": {
     "duration": 0.027759,
     "end_time": "2019-12-23T17:06:22.480810",
     "exception": false,
     "start_time": "2019-12-23T17:06:22.453051",
     "status": "completed"
    },
    "tags": []
   },
   "source": [
    "SoS workflow is extended from Python 3.6. You can execute any Python statement using the SoS kernel. That is to say, **you can use a SoS kernel just like a Python3 kernel**.\n",
    "\n",
    "For example, the following cell uses SoS to execute a python statement, which is considered as a simple SoS step without header."
   ]
  },
  {
   "cell_type": "code",
   "execution_count": 1,
   "metadata": {
    "kernel": "SoS",
    "papermill": {
     "duration": 0.42967,
     "end_time": "2019-12-23T17:06:22.936134",
     "exception": false,
     "start_time": "2019-12-23T17:06:22.506464",
     "status": "completed"
    },
    "tags": []
   },
   "outputs": [
    {
     "name": "stdout",
     "output_type": "stream",
     "text": [
      "This is our first greeting: Hello world\n"
     ]
    }
   ],
   "source": [
    "greeting = \"Hello world\"\n",
    "print(f'This is our first greeting: {greeting}')"
   ]
  },
  {
   "cell_type": "markdown",
   "metadata": {
    "kernel": "SoS",
    "papermill": {
     "duration": 0.027114,
     "end_time": "2019-12-23T17:06:22.988214",
     "exception": false,
     "start_time": "2019-12-23T17:06:22.961100",
     "status": "completed"
    },
    "tags": []
   },
   "source": [
    "In addition to regular Python statements, you can use SoS-specific syntax, functions, and statements in SoS cells.\n",
    "\n",
    "For example, the following cell uses statement `output` to specify step output, and a `sh` function written in [script format](scripts_in_sos.html)."
   ]
  },
  {
   "cell_type": "code",
   "execution_count": 2,
   "metadata": {
    "kernel": "SoS",
    "papermill": {
     "duration": 1.050574,
     "end_time": "2019-12-23T17:06:24.068751",
     "exception": false,
     "start_time": "2019-12-23T17:06:23.018177",
     "status": "completed"
    },
    "tags": []
   },
   "outputs": [],
   "source": [
    "output: 'result.txt'\n",
    "sh: expand=True\n",
    "   echo {greeting} > {_output}"
   ]
  },
  {
   "cell_type": "markdown",
   "metadata": {
    "kernel": "SoS",
    "papermill": {
     "duration": 0.028522,
     "end_time": "2019-12-23T17:06:24.121632",
     "exception": false,
     "start_time": "2019-12-23T17:06:24.093110",
     "status": "completed"
    },
    "tags": []
   },
   "source": [
    "The statements are executed in a global SoS namespace so variables defined in another cell (`greeting`) can be used here."
   ]
  },
  {
   "cell_type": "markdown",
   "metadata": {
    "kernel": "SoS",
    "papermill": {
     "duration": 0.02565,
     "end_time": "2019-12-23T17:06:24.177751",
     "exception": false,
     "start_time": "2019-12-23T17:06:24.152101",
     "status": "completed"
    },
    "tags": []
   },
   "source": [
    "Technically speaking, we have justed executed a single SoS step in a global SoS namespace. Such steps are called **scratch steps** because they do not contain a header."
   ]
  },
  {
   "cell_type": "markdown",
   "metadata": {
    "kernel": "R",
    "papermill": {
     "duration": 0.028774,
     "end_time": "2019-12-23T17:06:24.233872",
     "exception": false,
     "start_time": "2019-12-23T17:06:24.205098",
     "status": "completed"
    },
    "tags": []
   },
   "source": [
    "<div class=\"bs-callout bs-callout-warning\" role=\"alert\">\n",
    "  <p>A workflow cell, namely an SoS cell with a header, cannot be executed directly. Running the cells will produce no output.</p>  \n",
    "</div>"
   ]
  },
  {
   "cell_type": "markdown",
   "metadata": {
    "kernel": "SoS",
    "papermill": {
     "duration": 0.04009,
     "end_time": "2019-12-23T17:06:24.304379",
     "exception": false,
     "start_time": "2019-12-23T17:06:24.264289",
     "status": "completed"
    },
    "tags": []
   },
   "source": [
    "In contrast, a **formal SoS step** is defined as a step with a header. **Formal SoS steps and workflows have to be executed by SoS magics or commands**. As a matter of fact, nothing will happen if you execute the following cell in jupyter."
   ]
  },
  {
   "cell_type": "code",
   "execution_count": 3,
   "metadata": {
    "kernel": "SoS",
    "papermill": {
     "duration": 0.039933,
     "end_time": "2019-12-23T17:06:24.380363",
     "exception": false,
     "start_time": "2019-12-23T17:06:24.340430",
     "status": "completed"
    },
    "tags": []
   },
   "outputs": [],
   "source": [
    "[hello]\n",
    "print('This is our first hello world workflow')"
   ]
  },
  {
   "cell_type": "markdown",
   "metadata": {
    "kernel": "SoS",
    "papermill": {
     "duration": 0.027043,
     "end_time": "2019-12-23T17:06:24.431044",
     "exception": false,
     "start_time": "2019-12-23T17:06:24.404001",
     "status": "completed"
    },
    "tags": []
   },
   "source": [
    "## Magic `%run`"
   ]
  },
  {
   "cell_type": "markdown",
   "metadata": {
    "kernel": "SoS",
    "papermill": {
     "duration": 0.039042,
     "end_time": "2019-12-23T17:06:24.504296",
     "exception": false,
     "start_time": "2019-12-23T17:06:24.465254",
     "status": "completed"
    },
    "tags": []
   },
   "source": [
    "Magic `%run` executes workflows defined in the current cell. SoS starts an external `sos` process, execute the workflow and displays the output in the notebook. For example, the `hello` workflow could be executed as follows: "
   ]
  },
  {
   "cell_type": "code",
   "execution_count": 4,
   "metadata": {
    "kernel": "SoS",
    "papermill": {
     "duration": 2.658068,
     "end_time": "2019-12-23T17:06:27.201466",
     "exception": false,
     "start_time": "2019-12-23T17:06:24.543398",
     "status": "completed"
    },
    "tags": []
   },
   "outputs": [
    {
     "data": {
      "text/html": [
       "<div class=\"sos_logging sos_info\">INFO: Running <span class=\"sos_highlight\">hello-world</span>: \n",
       "</div>"
      ]
     },
     "metadata": {},
     "output_type": "display_data"
    },
    {
     "name": "stdout",
     "output_type": "stream",
     "text": [
      "This is our first hello world workflow\n"
     ]
    },
    {
     "data": {
      "text/html": [
       "<div class=\"sos_logging sos_info\">INFO: Workflow hello-world (ID=ec03fef3e44db808) is executed successfully with 1 completed step.\n",
       "</div>"
      ]
     },
     "metadata": {},
     "output_type": "display_data"
    }
   ],
   "source": [
    "%run\n",
    "[hello-world]\n",
    "print('This is our first hello world workflow')"
   ]
  },
  {
   "cell_type": "markdown",
   "metadata": {
    "kernel": "SoS",
    "papermill": {
     "duration": 0.033563,
     "end_time": "2019-12-23T17:06:27.262489",
     "exception": false,
     "start_time": "2019-12-23T17:06:27.228926",
     "status": "completed"
    },
    "tags": []
   },
   "source": [
    "**The workflow is executed independently and does not share any variables in the SoS kernel**. For example, you cannot use variable `greeting` in the workflow,In "
   ]
  },
  {
   "cell_type": "code",
   "execution_count": 5,
   "metadata": {
    "kernel": "SoS",
    "papermill": {
     "duration": 3.75929,
     "end_time": "2019-12-23T17:06:31.060490",
     "exception": false,
     "start_time": "2019-12-23T17:06:27.301200",
     "status": "completed"
    },
    "tags": []
   },
   "outputs": [
    {
     "data": {
      "text/html": [
       "<div class=\"sos_logging sos_info\">INFO: Running <span class=\"sos_highlight\">greet-wrong</span>: \n",
       "</div>"
      ]
     },
     "metadata": {},
     "output_type": "display_data"
    },
    {
     "data": {
      "text/html": [
       "<div class=\"sos_logging sos_error\">ERROR: ERROR step_executor.py:1743 - greet-wrong (id=2325023880669851975) returns an error. - None\n",
       "</div>"
      ]
     },
     "metadata": {},
     "output_type": "display_data"
    },
    {
     "name": "stdout",
     "output_type": "stream",
     "text": [
      "\u001b[91mERROR\u001b[0m: \u001b[91m[greet-wrong]: [0]: \n",
      "---------------------------------------------------------------------------\n",
      "NameError                                 Traceback (most recent call last)\n",
      "script_6669477118071532682 in <module>\n",
      "----> print(f'This is our first greeting: {greeting}')\n",
      "      \n",
      "\n",
      "NameError: name 'greeting' is not defined\u001b[0m\n"
     ]
    }
   ],
   "source": [
    "%run\n",
    "\n",
    "[greet-wrong]\n",
    "print(f'This is our first greeting: {greeting}')"
   ]
  },
  {
   "cell_type": "markdown",
   "metadata": {
    "kernel": "SoS",
    "papermill": {
     "duration": 0.026047,
     "end_time": "2019-12-23T17:06:31.113879",
     "exception": false,
     "start_time": "2019-12-23T17:06:31.087832",
     "status": "completed"
    },
    "tags": []
   },
   "source": [
    "To pass variables to these workflows, you will have to define variables as parameters and pass them from command line."
   ]
  },
  {
   "cell_type": "code",
   "execution_count": 6,
   "metadata": {
    "kernel": "SoS",
    "papermill": {
     "duration": 2.891218,
     "end_time": "2019-12-23T17:06:34.040813",
     "exception": false,
     "start_time": "2019-12-23T17:06:31.149595",
     "status": "completed"
    },
    "tags": []
   },
   "outputs": [
    {
     "data": {
      "text/html": [
       "<div class=\"sos_hint\">> %run --greeting 'Hello world' -v0<br></div>"
      ]
     },
     "metadata": {},
     "output_type": "display_data"
    },
    {
     "name": "stdout",
     "output_type": "stream",
     "text": [
      "\u001b[32m[\u001b[0m\u001b[32m#\u001b[0m\u001b[32m]\u001b[0m 1 step processed (1 job completed)\n"
     ]
    }
   ],
   "source": [
    "%run --greeting '{greeting}' -v0\n",
    "\n",
    "parameter: greeting = str\n",
    "\n",
    "[greet]\n",
    "print(f'This is our first greeting: {greeting}')"
   ]
  },
  {
   "cell_type": "markdown",
   "metadata": {
    "kernel": "SoS",
    "papermill": {
     "duration": 0.028755,
     "end_time": "2019-12-23T17:06:34.097119",
     "exception": false,
     "start_time": "2019-12-23T17:06:34.068364",
     "status": "completed"
    },
    "tags": []
   },
   "source": [
    "Note that SoS expands `{ }` in the `%sos` magic so the actual magic executed was `%run --greeting `Hello world` -v0`"
   ]
  },
  {
   "cell_type": "markdown",
   "metadata": {
    "kernel": "SoS",
    "papermill": {
     "duration": 0.028471,
     "end_time": "2019-12-23T17:06:34.155682",
     "exception": false,
     "start_time": "2019-12-23T17:06:34.127211",
     "status": "completed"
    },
    "tags": []
   },
   "source": [
    "<div class=\"bs-callout bs-callout-info\" role=\"alert\">\n",
    "    <p>The verbosity argument <code>-v</code> of magics <code>%run</code>, <code>%sosrun</code> and command <code>sos run</code></b> accepts values </p>\n",
    "    <ul>\n",
    "        <li><code>-v 0</code>: Display no system messages except errors</li>\n",
    "        <li><code>-v 1</code>: Display errors and warnings, and a text-based progress bar</li>\n",
    "        <li><code>-v 2 (default)</code>: Display errors, warnings, and informational messages</li>\n",
    "        <li><code>-v 3</code>: Display additional debug messages</li>\n",
    "        <li><code>-v 4</code>: Display very verbose trace messages for development purposes</li>\n",
    "     </ul>\n",
    "</div>"
   ]
  },
  {
   "cell_type": "markdown",
   "metadata": {
    "kernel": "SoS",
    "papermill": {
     "duration": 0.028785,
     "end_time": "2019-12-23T17:06:34.212339",
     "exception": false,
     "start_time": "2019-12-23T17:06:34.183554",
     "status": "completed"
    },
    "tags": []
   },
   "source": [
    "## Magic `%sosrun`"
   ]
  },
  {
   "cell_type": "markdown",
   "metadata": {
    "kernel": "R",
    "papermill": {
     "duration": 0.028871,
     "end_time": "2019-12-23T17:06:34.271790",
     "exception": false,
     "start_time": "2019-12-23T17:06:34.242919",
     "status": "completed"
    },
    "tags": []
   },
   "source": [
    "A SoS notebook can have multiple workflow sections defined in multiple code cells. These sections constitute the content of the **embedded SoS script** of the notebook. For example, the following steps, defined in three separate cells, are all part of the embedded SoS script of this notebook."
   ]
  },
  {
   "cell_type": "code",
   "execution_count": 7,
   "metadata": {
    "kernel": "SoS",
    "papermill": {
     "duration": 0.041228,
     "end_time": "2019-12-23T17:06:34.340742",
     "exception": false,
     "start_time": "2019-12-23T17:06:34.299514",
     "status": "completed"
    },
    "tags": []
   },
   "outputs": [],
   "source": [
    "[global]\n",
    "excel_file = 'data/DEG.xlsx'\n",
    "csv_file = 'DEG.csv'\n",
    "figure_file = 'output.pdf'"
   ]
  },
  {
   "cell_type": "code",
   "execution_count": 8,
   "metadata": {
    "kernel": "SoS",
    "papermill": {
     "duration": 0.038757,
     "end_time": "2019-12-23T17:06:34.408001",
     "exception": false,
     "start_time": "2019-12-23T17:06:34.369244",
     "status": "completed"
    },
    "tags": []
   },
   "outputs": [],
   "source": [
    "[plot_1]\n",
    "sh: expand=True\n",
    "    xlsx2csv {excel_file} > {csv_file}"
   ]
  },
  {
   "cell_type": "code",
   "execution_count": 9,
   "metadata": {
    "kernel": "SoS",
    "papermill": {
     "duration": 0.038848,
     "end_time": "2019-12-23T17:06:34.477960",
     "exception": false,
     "start_time": "2019-12-23T17:06:34.439112",
     "status": "completed"
    },
    "tags": []
   },
   "outputs": [],
   "source": [
    "[plot_2]\n",
    "R: expand=True\n",
    "    data <- read.csv('{csv_file}')\n",
    "    pdf('{figure_file}')\n",
    "    plot(data$log2FoldChange, data$stat)\n",
    "    dev.off()"
   ]
  },
  {
   "cell_type": "markdown",
   "metadata": {
    "kernel": "SoS",
    "papermill": {
     "duration": 0.029643,
     "end_time": "2019-12-23T17:06:34.534700",
     "exception": false,
     "start_time": "2019-12-23T17:06:34.505057",
     "status": "completed"
    },
    "tags": []
   },
   "source": [
    "<div class=\"bs-callout bs-callout-primary\" role=\"alert\">\n",
    "    <p>An <b>embed SoS script</b> of a SoS notebook consists of SoS sections in all SoS cells of a notebook.</p>  \n",
    "</div>"
   ]
  },
  {
   "cell_type": "markdown",
   "metadata": {
    "kernel": "SoS",
    "papermill": {
     "duration": 0.029265,
     "end_time": "2019-12-23T17:06:34.594236",
     "exception": false,
     "start_time": "2019-12-23T17:06:34.564971",
     "status": "completed"
    },
    "tags": []
   },
   "source": [
    "The easiest way to view the embedded script of a SoS notebook is to use the `%preview --workflow` magic as follows (The option `-n` lists the script in the notebook instead of the console panel). As you can see, the embedded script consists of steps from the entire notebook."
   ]
  },
  {
   "cell_type": "code",
   "execution_count": 10,
   "metadata": {
    "kernel": "SoS",
    "papermill": {
     "duration": 0.03946,
     "end_time": "2019-12-23T17:06:34.663505",
     "exception": false,
     "start_time": "2019-12-23T17:06:34.624045",
     "status": "completed"
    },
    "tags": []
   },
   "outputs": [
    {
     "data": {
      "text/html": [
       "<div class=\"CodeMirror cm-s-default\"><div style=\"overflow: hidden; position: relative; width: 3px; height: 0px; top: 5px; left: 0px;\"><textarea autocorrect=\"off\" autocapitalize=\"off\" spellcheck=\"false\" tabindex=\"0\" style=\"position: absolute; bottom: -1em; padding: 0px; width: 1000px; height: 1em; outline: none;\"></textarea></div><div class=\"CodeMirror-vscrollbar\" tabindex=\"-1\" cm-not-content=\"true\" style=\"bottom: 0px; width: 18px; pointer-events: none;\"><div style=\"min-width: 1px; height: 0px;\"></div></div><div class=\"CodeMirror-hscrollbar\" tabindex=\"-1\" cm-not-content=\"true\" style=\"height: 18px; pointer-events: none;\"><div style=\"height: 100%; min-height: 1px; width: 0px;\"></div></div><div class=\"CodeMirror-scrollbar-filler\" cm-not-content=\"true\"></div><div class=\"CodeMirror-gutter-filler\" cm-not-content=\"true\"></div><div class=\"CodeMirror-scroll\" tabindex=\"-1\"><div class=\"CodeMirror-sizer\" style=\"margin-left: 0px; margin-bottom: 0px; border-right-width: 30px; min-height: 561px; min-width: 378.703px; padding-right: 0px; padding-bottom: 0px;\"><div style=\"position: relative; top: 0px;\"><div class=\"CodeMirror-lines\" role=\"presentation\"><div role=\"presentation\" style=\"position: relative; outline: none;\"><div class=\"CodeMirror-measure\"><pre><span>xxxxxxxxxx</span></pre></div><div class=\"CodeMirror-measure\"></div><div style=\"position: relative; z-index: 1;\"></div><div class=\"CodeMirror-cursors\"><div class=\"CodeMirror-cursor\" style=\"left: 0px; top: 0px; height: 17px;\">&nbsp;</div></div><div class=\"CodeMirror-code\" role=\"presentation\" style=\"\"><pre class=\" CodeMirror-line \" role=\"presentation\"><span role=\"presentation\" style=\"padding-right: 0.1px;\"><span class=\"cm-comment\">#!/usr/bin/env sos-runner</span></span></pre><pre class=\" CodeMirror-line \" role=\"presentation\"><span role=\"presentation\" style=\"padding-right: 0.1px;\"><span class=\"cm-comment\">#fileformat=SOS1.0</span></span></pre><pre class=\" CodeMirror-line \" role=\"presentation\"><span role=\"presentation\" style=\"padding-right: 0.1px;\"><span cm-text=\"\">​</span></span></pre><pre class=\" section-header CodeMirror-line \" role=\"presentation\"><span role=\"presentation\" style=\"padding-right: 0.1px;\"><span class=\"cm-header\">[hello]</span></span></pre><pre class=\" CodeMirror-line \" role=\"presentation\"><span role=\"presentation\" style=\"padding-right: 0.1px;\"><span class=\"cm-builtin\">print</span>(<span class=\"cm-string\">'This is our first hello world workflow'</span>)</span></pre><pre class=\" CodeMirror-line \" role=\"presentation\"><span role=\"presentation\" style=\"padding-right: 0.1px;\"><span cm-text=\"\">​</span></span></pre><pre class=\" section-header CodeMirror-line \" role=\"presentation\"><span role=\"presentation\" style=\"padding-right: 0.1px;\"><span class=\"cm-header\">[hello-world]</span></span></pre><pre class=\" CodeMirror-line \" role=\"presentation\"><span role=\"presentation\" style=\"padding-right: 0.1px;\"><span class=\"cm-builtin\">print</span>(<span class=\"cm-string\">'This is our first hello world workflow'</span>)</span></pre><pre class=\" CodeMirror-line \" role=\"presentation\"><span role=\"presentation\" style=\"padding-right: 0.1px;\"><span cm-text=\"\">​</span></span></pre><pre class=\" section-header CodeMirror-line \" role=\"presentation\"><span role=\"presentation\" style=\"padding-right: 0.1px;\"><span class=\"cm-header\">[greet-wrong]</span></span></pre><pre class=\" CodeMirror-line \" role=\"presentation\"><span role=\"presentation\" style=\"padding-right: 0.1px;\"><span class=\"cm-builtin\">print</span>(<span class=\"cm-string\">f'This is our first greeting: </span>{<span class=\"cm-variable\">greeting</span>}<span class=\"cm-string\">'</span>)</span></pre><pre class=\" CodeMirror-line \" role=\"presentation\"><span role=\"presentation\" style=\"padding-right: 0.1px;\"><span cm-text=\"\">​</span></span></pre><pre class=\" section-header CodeMirror-line \" role=\"presentation\"><span role=\"presentation\" style=\"padding-right: 0.1px;\"><span class=\"cm-header\">[greet]</span></span></pre><pre class=\" CodeMirror-line \" role=\"presentation\"><span role=\"presentation\" style=\"padding-right: 0.1px;\"><span class=\"cm-builtin\">print</span>(<span class=\"cm-string\">f'This is our first greeting: </span>{<span class=\"cm-variable\">greeting</span>}<span class=\"cm-string\">'</span>)</span></pre><pre class=\" CodeMirror-line \" role=\"presentation\"><span role=\"presentation\" style=\"padding-right: 0.1px;\"><span cm-text=\"\">​</span></span></pre><pre class=\" section-header CodeMirror-line \" role=\"presentation\"><span role=\"presentation\" style=\"padding-right: 0.1px;\"><span class=\"cm-header\">[global]</span></span></pre><pre class=\" CodeMirror-line \" role=\"presentation\"><span role=\"presentation\" style=\"padding-right: 0.1px;\"><span class=\"cm-variable\">excel_file</span> <span class=\"cm-operator\">=</span> <span class=\"cm-string\">'data/DEG.xlsx'</span></span></pre><pre class=\" CodeMirror-line \" role=\"presentation\"><span role=\"presentation\" style=\"padding-right: 0.1px;\"><span class=\"cm-variable\">csv_file</span> <span class=\"cm-operator\">=</span> <span class=\"cm-string\">'DEG.csv'</span></span></pre><pre class=\" CodeMirror-line \" role=\"presentation\"><span role=\"presentation\" style=\"padding-right: 0.1px;\"><span class=\"cm-variable\">figure_file</span> <span class=\"cm-operator\">=</span> <span class=\"cm-string\">'output.pdf'</span></span></pre><pre class=\" CodeMirror-line \" role=\"presentation\"><span role=\"presentation\" style=\"padding-right: 0.1px;\"><span cm-text=\"\">​</span></span></pre><pre class=\" section-header CodeMirror-line \" role=\"presentation\"><span role=\"presentation\" style=\"padding-right: 0.1px;\"><span class=\"cm-header\">[plot_1]</span></span></pre><pre class=\" CodeMirror-line \" role=\"presentation\"><span role=\"presentation\" style=\"padding-right: 0.1px;\"><span class=\"cm-builtin cm-strong\">sh:</span><span class=\"cm-null cm-sos-option\"> </span><span class=\"cm-variable cm-sos-option\">expand</span><span class=\"cm-operator cm-sos-option\">=</span><span class=\"cm-keyword cm-sos-option\">True</span></span></pre><pre class=\" CodeMirror-line \" role=\"presentation\"><span role=\"presentation\" style=\"padding-right: 0.1px;\"><span class=\"cm-null cm-sos-script\">    xlsx2csv </span><span class=\"cm-sos-sigil cm-sos-script\">{</span><span class=\"cm-sos-interpolated cm-variable cm-sos-script\">excel_file</span><span class=\"cm-sos-sigil cm-sos-script\">}</span><span class=\"cm-null cm-sos-script\"> &gt; </span><span class=\"cm-sos-sigil cm-sos-script\">{</span><span class=\"cm-sos-interpolated cm-variable cm-sos-script\">csv_file</span><span class=\"cm-sos-sigil cm-sos-script\">}</span></span></pre><pre class=\" CodeMirror-line \" role=\"presentation\"><span role=\"presentation\" style=\"padding-right: 0.1px;\"><span cm-text=\"\">​</span></span></pre><pre class=\" section-header CodeMirror-line \" role=\"presentation\"><span role=\"presentation\" style=\"padding-right: 0.1px;\"><span class=\"cm-header\">[plot_2]</span></span></pre><pre class=\" CodeMirror-line \" role=\"presentation\"><span role=\"presentation\" style=\"padding-right: 0.1px;\"><span class=\"cm-builtin cm-strong\">R:</span><span class=\"cm-null cm-sos-option\"> </span><span class=\"cm-variable cm-sos-option\">expand</span><span class=\"cm-operator cm-sos-option\">=</span><span class=\"cm-keyword cm-sos-option\">True</span></span></pre><pre class=\" CodeMirror-line \" role=\"presentation\"><span role=\"presentation\" style=\"padding-right: 0.1px;\"><span class=\"cm-null cm-sos-script\">    </span><span class=\"cm-variable cm-sos-script\">data</span><span class=\"cm-null cm-sos-script\"> </span><span class=\"cm-operator cm-arrow cm-sos-script\">&lt;-</span><span class=\"cm-null cm-sos-script\"> </span><span class=\"cm-variable cm-sos-script\">read.csv</span><span class=\"cm-null cm-sos-script\">(</span><span class=\"cm-string cm-sos-script\">'</span><span class=\"cm-sos-sigil cm-sos-script\">{</span><span class=\"cm-sos-interpolated cm-variable cm-sos-script\">csv_file</span><span class=\"cm-sos-sigil cm-sos-script\">}</span><span class=\"cm-string cm-sos-script\">'</span><span class=\"cm-null cm-sos-script\">)</span></span></pre><pre class=\" CodeMirror-line \" role=\"presentation\"><span role=\"presentation\" style=\"padding-right: 0.1px;\"><span class=\"cm-null cm-sos-script\">    </span><span class=\"cm-variable cm-sos-script\">pdf</span><span class=\"cm-null cm-sos-script\">(</span><span class=\"cm-string cm-sos-script\">'</span><span class=\"cm-sos-sigil cm-sos-script\">{</span><span class=\"cm-sos-interpolated cm-variable cm-sos-script\">figure_file</span><span class=\"cm-sos-sigil cm-sos-script\">}</span><span class=\"cm-string cm-sos-script\">'</span><span class=\"cm-null cm-sos-script\">)</span></span></pre><pre class=\" CodeMirror-line \" role=\"presentation\"><span role=\"presentation\" style=\"padding-right: 0.1px;\"><span class=\"cm-null cm-sos-script\">    </span><span class=\"cm-variable cm-sos-script\">plot</span><span class=\"cm-null cm-sos-script\">(</span><span class=\"cm-variable cm-sos-script\">data</span><span class=\"cm-operator cm-dollar cm-sos-script\">$</span><span class=\"cm-variable cm-sos-script\">log2FoldChange</span><span class=\"cm-null cm-sos-script\">, </span><span class=\"cm-variable cm-sos-script\">data</span><span class=\"cm-operator cm-dollar cm-sos-script\">$</span><span class=\"cm-variable cm-sos-script\">stat</span><span class=\"cm-null cm-sos-script\">)</span></span></pre><pre class=\" CodeMirror-line \" role=\"presentation\"><span role=\"presentation\" style=\"padding-right: 0.1px;\"><span class=\"cm-null cm-sos-script\">    </span><span class=\"cm-variable cm-sos-script\">dev.off</span><span class=\"cm-null cm-sos-script\">()</span></span></pre><pre class=\" CodeMirror-line \" role=\"presentation\"><span role=\"presentation\" style=\"padding-right: 0.1px;\"><span cm-text=\"\">​</span></span></pre><pre class=\" CodeMirror-line \" role=\"presentation\"><span role=\"presentation\" style=\"padding-right: 0.1px;\"><span cm-text=\"\">​</span></span></pre></div></div></div></div></div><div style=\"position: absolute; height: 30px; width: 1px; border-bottom: 0px solid transparent; top: 561px;\"></div><div class=\"CodeMirror-gutters\" style=\"display: none; height: 591px;\"></div></div></div>"
      ]
     },
     "metadata": {},
     "output_type": "display_data"
    }
   ],
   "source": [
    "%preview -n --workflow"
   ]
  },
  {
   "cell_type": "markdown",
   "metadata": {
    "kernel": "SoS",
    "papermill": {
     "duration": 0.033385,
     "end_time": "2019-12-23T17:06:34.726007",
     "exception": false,
     "start_time": "2019-12-23T17:06:34.692622",
     "status": "completed"
    },
    "tags": []
   },
   "source": [
    "<div class=\"bs-callout bs-callout-primary\" role=\"alert\">\n",
    "  <p> The <code>%sosrun</code> magic execute workflows defined in the embedded SoS script of a notebook.</p>  \n",
    "</div>"
   ]
  },
  {
   "cell_type": "markdown",
   "metadata": {
    "kernel": "SoS",
    "papermill": {
     "duration": 0.03136,
     "end_time": "2019-12-23T17:06:34.791314",
     "exception": false,
     "start_time": "2019-12-23T17:06:34.759954",
     "status": "completed"
    },
    "tags": []
   },
   "source": [
    "The `%sosrun` magic can be used to execute any of the workflows defined in the notebook. For example, the following magic execute the workflow `plot` defined in the above section. Because multiple workflows are defined in this notebook (`hello_world`, and `plot`), a workflow name is required for this magic."
   ]
  },
  {
   "cell_type": "code",
   "execution_count": 11,
   "metadata": {
    "kernel": "SoS",
    "papermill": {
     "duration": 4.344733,
     "end_time": "2019-12-23T17:06:39.168988",
     "exception": false,
     "start_time": "2019-12-23T17:06:34.824255",
     "status": "completed"
    },
    "tags": []
   },
   "outputs": [
    {
     "data": {
      "text/html": [
       "<div class=\"sos_logging sos_info\">INFO: Running <span class=\"sos_highlight\">plot_1</span>: \n",
       "</div>"
      ]
     },
     "metadata": {},
     "output_type": "display_data"
    },
    {
     "data": {
      "text/html": [
       "<div class=\"sos_logging sos_info\">INFO: Running <span class=\"sos_highlight\">plot_2</span>: \n",
       "</div>"
      ]
     },
     "metadata": {},
     "output_type": "display_data"
    },
    {
     "name": "stdout",
     "output_type": "stream",
     "text": [
      "null device \n",
      "          1 \n"
     ]
    },
    {
     "data": {
      "text/html": [
       "<div class=\"sos_logging sos_info\">INFO: Workflow plot (ID=aa4b844eedabb4ca) is executed successfully with 2 completed steps.\n",
       "</div>"
      ]
     },
     "metadata": {},
     "output_type": "display_data"
    }
   ],
   "source": [
    "%sosrun plot"
   ]
  },
  {
   "cell_type": "markdown",
   "metadata": {
    "kernel": "SoS",
    "papermill": {
     "duration": 0.031643,
     "end_time": "2019-12-23T17:06:39.234846",
     "exception": false,
     "start_time": "2019-12-23T17:06:39.203203",
     "status": "completed"
    },
    "tags": []
   },
   "source": [
    "## Magic `%runfile`"
   ]
  },
  {
   "cell_type": "markdown",
   "metadata": {
    "kernel": "SoS",
    "papermill": {
     "duration": 0.030334,
     "end_time": "2019-12-23T17:06:39.296516",
     "exception": false,
     "start_time": "2019-12-23T17:06:39.266182",
     "status": "completed"
    },
    "tags": []
   },
   "source": [
    "<div class=\"bs-callout bs-callout-primary\" role=\"alert\">\n",
    "  <p> The <code>%runfile</code> magic executes a SoS script from specified file with specified option. Both SoS scripts (usually with extension <code>.sos</code>) and SoS notebooks (with extension <code>.ipynb</code>) are supported.</p>  \n",
    "</div>"
   ]
  },
  {
   "cell_type": "markdown",
   "metadata": {
    "kernel": "SoS",
    "papermill": {
     "duration": 0.030084,
     "end_time": "2019-12-23T17:06:39.357010",
     "exception": false,
     "start_time": "2019-12-23T17:06:39.326926",
     "status": "completed"
    },
    "tags": []
   },
   "source": [
    "The third magic to execute SoS workflows in SoS Notebook is to use the `%runfile` magic, which execute workflows from a specified external file. For example, instead of using magic `%sosrun`, you can execute the current notebook with magic "
   ]
  },
  {
   "cell_type": "code",
   "execution_count": 12,
   "metadata": {
    "kernel": "SoS",
    "papermill": {
     "duration": 0.039207,
     "end_time": "2019-12-23T17:06:39.426329",
     "exception": true,
     "start_time": "2019-12-23T17:06:39.387122",
     "status": "failed"
    },
    "tags": []
   },
   "outputs": [
    {
     "data": {
      "text/html": [
       "<div class=\"sos_logging sos_info\">INFO: Running <span class=\"sos_highlight\">plot_1</span>: \n",
       "</div>"
      ]
     },
     "metadata": {},
     "output_type": "display_data"
    },
    {
     "data": {
      "text/html": [
       "<div class=\"sos_logging sos_info\">INFO: Running <span class=\"sos_highlight\">plot_2</span>: \n",
       "</div>"
      ]
     },
     "metadata": {},
     "output_type": "display_data"
    },
    {
     "name": "stdout",
     "output_type": "stream",
     "text": [
      "null device \n",
      "          1 \n"
     ]
    },
    {
     "data": {
      "text/html": [
       "<div class=\"sos_logging sos_info\">INFO: Workflow plot (ID=aa4b844eedabb4ca) is executed successfully with 2 completed steps.\n",
       "</div>"
      ]
     },
     "metadata": {},
     "output_type": "display_data"
    }
   ],
   "source": [
    "%runfile sos_in_notebook.ipynb plot"
   ]
  },
  {
   "cell_type": "markdown",
   "metadata": {
    "kernel": "SoS",
    "papermill": {
     "duration": null,
     "end_time": null,
     "exception": null,
     "start_time": null,
     "status": "pending"
    },
    "tags": []
   },
   "source": [
    "## Command `sos`"
   ]
  },
  {
   "cell_type": "markdown",
   "metadata": {
    "kernel": "SoS",
    "papermill": {
     "duration": null,
     "end_time": null,
     "exception": null,
     "start_time": null,
     "status": "pending"
    },
    "tags": []
   },
   "source": [
    "The `%sosrun` magic calls an external command `sos` to execute workflows defined in the notebook. Although for the sake of convenience we will use magic `%run` to execute workflows throughout this documentation, please remember that **you can execute the notebook using command `sos` from command line**.\n",
    "\n",
    "![running notebook from command line](../media/sos_cmd_cli.png)\n"
   ]
  },
  {
   "cell_type": "markdown",
   "metadata": {
    "kernel": "SoS",
    "papermill": {
     "duration": null,
     "end_time": null,
     "exception": null,
     "start_time": null,
     "status": "pending"
    },
    "tags": []
   },
   "source": [
    "Alternatively, you can also write the workflow in a text file (usually with extension `.sos`) and execute it with command `sos run`:"
   ]
  },
  {
   "cell_type": "markdown",
   "metadata": {
    "kernel": "SoS",
    "papermill": {
     "duration": null,
     "end_time": null,
     "exception": null,
     "start_time": null,
     "status": "pending"
    },
    "tags": []
   },
   "source": [
    "![running script from command line](../media/sos_cmd_script_cli.png)\n"
   ]
  },
  {
   "cell_type": "markdown",
   "metadata": {
    "kernel": "SoS",
    "papermill": {
     "duration": null,
     "end_time": null,
     "exception": null,
     "start_time": null,
     "status": "pending"
    },
    "tags": []
   },
   "source": [
    "## Running workflows in background"
   ]
  },
  {
   "cell_type": "markdown",
   "metadata": {
    "kernel": "SoS",
    "papermill": {
     "duration": null,
     "end_time": null,
     "exception": null,
     "start_time": null,
     "status": "pending"
    },
    "tags": []
   },
   "source": [
    "<div class=\"bs-callout bs-callout-info\" role=\"alert\">\n",
    "    <p>You can execute a workflow using magics <code>%run</code>, <code>%sosrun</code>, and <code>%runfile</code> in the background by adding a <code>&</code> at the end of the magic. The workflow will be executed in a queue while you can continue to work the notebook.</p>\n",
    "</div>"
   ]
  },
  {
   "cell_type": "markdown",
   "metadata": {
    "kernel": "SoS",
    "papermill": {
     "duration": null,
     "end_time": null,
     "exception": null,
     "start_time": null,
     "status": "pending"
    },
    "tags": []
   },
   "source": [
    "SoS Notebook usually starts a workflow and waits until the workflow is completed. If the workflow takes a long time to execute, you can send workflows to a queue in which workflows will be executed one by one while you continue to work on the notebook. A status table will be displayed for each queued workflows and log messages and results will continue to send back to SoS Notebook."
   ]
  },
  {
   "cell_type": "code",
   "execution_count": 13,
   "metadata": {
    "kernel": "SoS",
    "papermill": {
     "duration": null,
     "end_time": null,
     "exception": null,
     "start_time": null,
     "status": "pending"
    },
    "tags": []
   },
   "outputs": [
    {
     "data": {
      "text/html": [
       "\n",
       "<table id=\"workflow_310c1382-fdc9-4acb-af8e-839899be7050\" class=\"workflow_table  completed\">\n",
       "<tr>\n",
       "      <td class=\"workflow_icon\">\n",
       "        <i id=\"workflow_status_icon_310c1382-fdc9-4acb-af8e-839899be7050\" class=\"fa fa-2x fa-fw fa-check-square-o\"\n",
       "        onmouseover='this.classList=\"fa fa-2x fa-fw fa-trash\"' onmouseleave='this.classList=\"fa fa-2x fa-fw fa-check-square-o\"' onclick=\"cancel_workflow(this.id.substring(21))\"></i>\n",
       "      </td>\n",
       "      <td class=\"workflow_name\">\n",
       "        <pre><span id=\"workflow_name_310c1382-fdc9-4acb-af8e-839899be7050\">default</span></pre>\n",
       "      </td>\n",
       "      <td class=\"workflow_id\">\n",
       "        <span>Workflow ID</span></br>\n",
       "        <pre><i class=\"fa fa-fw fa-sitemap\"></i><span id=\"workflow_id_310c1382-fdc9-4acb-af8e-839899be7050\">7b93ae4ff4552237</span></pre>\n",
       "      </td>\n",
       "      <td class=\"workflow_index\">\n",
       "        <span>Index</span></br>\n",
       "        <pre>#<span id=\"workflow_index_310c1382-fdc9-4acb-af8e-839899be7050\">1</span></pre>\n",
       "      </td>\n",
       "      <td class=\"workflow_status\">\n",
       "        <span id=\"status_text_310c1382-fdc9-4acb-af8e-839899be7050\">completed</span></br>\n",
       "        <pre><i class=\"fa fa-fw fa-clock-o\"></i><time id=\"status_duration_310c1382-fdc9-4acb-af8e-839899be7050\" class=\"completed\" datetime=\"1577201682737.048\">Ran for 10 sec</time></pre>\n",
       "      </td>\n",
       "</tr>\n",
       "</table>\n"
      ]
     },
     "metadata": {},
     "output_type": "display_data"
    },
    {
     "name": "stdout",
     "output_type": "stream",
     "text": [
      "\u001b[32m[\u001b[0m\u001b[97m.\u001b[0m\u001b[97m.\u001b[0m\u001b[97m.\u001b[0m\u001b[97m.\u001b[0m\u001b[97m.\u001b[0m\u001b[97m.\u001b[0m\u001b[97m.\u001b[0m\u001b[97m.\u001b[0m\u001b[97m.\u001b[0m\u001b[97m.\u001b[\u001b[32m.\u001b[0\u001b[32m#\u001b[0m\u001b[32m]\u001b[0m 1 step processed (1 job completed)\n"
     ]
    }
   ],
   "source": [
    "%run -v0 &\n",
    "\n",
    "import time\n",
    "for i in range(5):\n",
    "    print(i)\n",
    "    time.sleep(2)"
   ]
  },
  {
   "cell_type": "markdown",
   "metadata": {
    "kernel": "SoS",
    "papermill": {
     "duration": null,
     "end_time": null,
     "exception": null,
     "start_time": null,
     "status": "pending"
    },
    "tags": []
   },
   "source": [
    "## Further reading\n",
    "\n",
    "* [Inclusion of scripts](Inclusion_of_scripts.html)\n",
    "* [How to define and execute basic forward-type workflows](doc/user_guide/forward_workflow.html)\n",
    "* [Command line interface](doc/user_guide/cli.html)"
   ]
  }
 ],
 "metadata": {
  "kernelspec": {
   "display_name": "SoS",
   "language": "sos",
   "name": "sos"
  },
  "language_info": {
   "codemirror_mode": "sos",
   "file_extension": ".sos",
   "mimetype": "text/x-sos",
   "name": "sos",
   "nbconvert_exporter": "sos_notebook.converter.SoS_Exporter",
   "pygments_lexer": "sos"
  },
  "papermill": {
   "duration": 25.417179,
   "end_time": "2019-12-23T17:06:44.647077",
   "environment_variables": {},
   "exception": true,
   "input_path": "/Users/bpeng1/sos/sos-docs/src/user_guide/sos_in_notebook.ipynb",
   "output_path": "sos_in_notebook.ipynb_rerun.ipynb",
   "parameters": {},
   "start_time": "2019-12-23T17:06:19.229898",
   "version": "1.1.0"
  },
  "sos": {
   "kernels": [
    [
     "Bash",
     "bash",
     "Bash",
     "#E6EEFF"
    ],
    [
     "R",
     "ir",
     "R",
     "#DCDCDA"
    ],
    [
     "SoS",
     "sos",
     "",
     ""
    ]
   ],
   "panel": {
    "displayed": true,
    "height": 0
   },
   "version": "0.21.3"
  },
  "toc-autonumbering": false,
  "toc-showcode": false,
  "toc-showmarkdowntxt": false
 },
 "nbformat": 4,
 "nbformat_minor": 4
}
