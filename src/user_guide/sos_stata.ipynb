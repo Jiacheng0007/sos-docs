{
 "cells": [
  {
   "cell_type": "code",
   "execution_count": null,
   "metadata": {
    "hide_input": true,
    "inputHidden": true
   },
   "outputs": [
    {
     "data": {
      "text/html": [
       "<span style=\"color:red; font-family:Helvetica Neue, Helvetica, Arial, sans-serif; font-size:2em;\">An Exception was encountered at 'In [2]'.</span>"
      ]
     },
     "metadata": {},
     "output_type": "display_data"
    }
   ],
   "source": [
    "%%html\n",
    "<span style=\"color:red; font-family:Helvetica Neue, Helvetica, Arial, sans-serif; font-size:2em;\">An Exception was encountered at 'In [2]'.</span>"
   ]
  },
  {
   "cell_type": "markdown",
   "metadata": {
    "kernel": "SoS",
    "papermill": {
     "duration": 0.020849,
     "end_time": "2019-12-25T16:56:03.272999",
     "exception": false,
     "start_time": "2019-12-25T16:56:03.252150",
     "status": "completed"
    },
    "tags": []
   },
   "source": [
    "# Working with Stata"
   ]
  },
  {
   "cell_type": "markdown",
   "metadata": {
    "kernel": "SoS",
    "papermill": {
     "duration": 0.018273,
     "end_time": "2019-12-25T16:56:03.309545",
     "exception": false,
     "start_time": "2019-12-25T16:56:03.291272",
     "status": "completed"
    },
    "tags": []
   },
   "source": [
    "* **Difficulty level**: easy\n",
    "* **Time need to lean**: 10 minutes or less\n",
    "  * stata does not have a concept of variable and can only exchange stata dataset as dataframe  "
   ]
  },
  {
   "cell_type": "markdown",
   "metadata": {
    "kernel": "SoS",
    "papermill": {
     "duration": 0.015509,
     "end_time": "2019-12-25T16:56:03.346742",
     "exception": false,
     "start_time": "2019-12-25T16:56:03.331233",
     "status": "completed"
    },
    "tags": []
   },
   "source": [
    "## Stata <a id=\"Stata\"></a>"
   ]
  },
  {
   "cell_type": "markdown",
   "metadata": {
    "kernel": "SoS",
    "papermill": {
     "duration": 0.021102,
     "end_time": "2019-12-25T16:56:03.392240",
     "exception": false,
     "start_time": "2019-12-25T16:56:03.371138",
     "status": "completed"
    },
    "tags": []
   },
   "source": [
    "Stata, similar to SAS, has one and only one **unnamed current dataset** in memory. It also supports **named, untyped macros**. SoS supports the exchange of variables between Stata and other kernels as follows:\n",
    "\n",
    "When pushing data to `Stata`\n",
    "\n",
    "| Python  | variable name | Stata |\n",
    "| --- | ---| ---|\n",
    "| `int`, `float`, `str` | variable name become macro name |  local macro (`string`) |\n",
    "| `pandas.DataFrame` | unnamed in Stata | Stata Dataset |\n",
    "\n",
    "\n",
    "When getting data from `Stata`\n",
    "\n",
    "| Stata  | variable name | Type in Python |\n",
    "| --- | --- |  ---|\n",
    "| local macros | name of macro | `str` |\n",
    "| global macros | name of macro | `str` |\n",
    "| Dataset  | user specified | `pandas.DataFrame` |\n",
    "\n",
    "Note that non-dataframe variables are transferred to Stata as local macros, and both local and global macros can be transferred although local macros will be checked first.\n",
    "\n",
    "For example, if you have a directory and filenames defined in SoS"
   ]
  },
  {
   "cell_type": "code",
   "execution_count": 1,
   "metadata": {
    "kernel": "SoS",
    "papermill": {
     "duration": 0.470467,
     "end_time": "2019-12-25T16:56:03.877947",
     "exception": false,
     "start_time": "2019-12-25T16:56:03.407480",
     "status": "completed"
    },
    "tags": []
   },
   "outputs": [],
   "source": [
    "datadir = '~/Downloads/StataIntro/dataSets'\n",
    "filename = 'gss.dta'"
   ]
  },
  {
   "cell_type": "markdown",
   "metadata": {
    "kernel": "SoS",
    "papermill": {
     "duration": 0.0203,
     "end_time": "2019-12-25T16:56:03.923762",
     "exception": false,
     "start_time": "2019-12-25T16:56:03.903462",
     "status": "completed"
    },
    "tags": []
   },
   "source": [
    "You can use the variables instantly in Stata with SoS' own `%expand` magic,"
   ]
  },
  {
   "cell_type": "code",
   "execution_count": 2,
   "metadata": {
    "kernel": "Stata",
    "papermill": {
     "duration": 0.033986,
     "end_time": "2019-12-25T16:56:03.979331",
     "exception": true,
     "start_time": "2019-12-25T16:56:03.945345",
     "status": "failed"
    },
    "tags": []
   },
   "outputs": [
    {
     "ename": "ValueError",
     "evalue": "No subkernel named Stata is found. Please make sure that you have the kernel installed (listed in the output of \"jupyter kernelspec list\" and usable in jupyter by itself), install appropriate language module (e.g. \"pip install sos-r\"), restart jupyter notebook and try again.",
     "output_type": "error",
     "traceback": []
    }
   ],
   "source": [
    "%expand\n",
    "cd {datadir}\n",
    "use {filename}\n",
    "ds"
   ]
  },
  {
   "cell_type": "markdown",
   "metadata": {
    "kernel": "SoS",
    "papermill": {
     "duration": null,
     "end_time": null,
     "exception": null,
     "start_time": null,
     "status": "pending"
    },
    "tags": []
   },
   "source": [
    "However, if you prefer, you can transferred the variables as local macros in Stata"
   ]
  },
  {
   "cell_type": "code",
   "execution_count": null,
   "metadata": {
    "kernel": "Stata",
    "papermill": {
     "duration": null,
     "end_time": null,
     "exception": null,
     "start_time": null,
     "status": "pending"
    },
    "tags": []
   },
   "outputs": [],
   "source": [
    "%get datadir filename\n",
    "macro list"
   ]
  },
  {
   "cell_type": "markdown",
   "metadata": {
    "kernel": "Stata",
    "papermill": {
     "duration": null,
     "end_time": null,
     "exception": null,
     "start_time": null,
     "status": "pending"
    },
    "tags": []
   },
   "source": [
    "and use the macros in Stata"
   ]
  },
  {
   "cell_type": "code",
   "execution_count": null,
   "metadata": {
    "kernel": "Stata",
    "papermill": {
     "duration": null,
     "end_time": null,
     "exception": null,
     "start_time": null,
     "status": "pending"
    },
    "tags": []
   },
   "outputs": [],
   "source": [
    "cd `datadir'\n",
    "use `filename'\n",
    "ds"
   ]
  },
  {
   "cell_type": "markdown",
   "metadata": {
    "kernel": "Stata",
    "papermill": {
     "duration": null,
     "end_time": null,
     "exception": null,
     "start_time": null,
     "status": "pending"
    },
    "tags": []
   },
   "source": [
    "Now if you have a dataframe, for example, `mtcard` in R, getting them in Stata will **replace the current dataset**, and the name `mtcars` no longer matters."
   ]
  },
  {
   "cell_type": "code",
   "execution_count": null,
   "metadata": {
    "kernel": "Stata",
    "papermill": {
     "duration": null,
     "end_time": null,
     "exception": null,
     "start_time": null,
     "status": "pending"
    },
    "tags": []
   },
   "outputs": [],
   "source": [
    "%get mtcars --from R\n",
    "summarize"
   ]
  },
  {
   "cell_type": "code",
   "execution_count": null,
   "metadata": {
    "kernel": "Stata",
    "papermill": {
     "duration": null,
     "end_time": null,
     "exception": null,
     "start_time": null,
     "status": "pending"
    },
    "tags": []
   },
   "outputs": [],
   "source": [
    "hist hp"
   ]
  },
  {
   "cell_type": "markdown",
   "metadata": {
    "kernel": "Stata",
    "papermill": {
     "duration": null,
     "end_time": null,
     "exception": null,
     "start_time": null,
     "status": "pending"
    },
    "tags": []
   },
   "source": [
    "Sending macros and/or dataset to another kernel is a bit tricky because local and global macros can have the same name, and the dataset is unnamed. The rule is that\n",
    "\n",
    "1. If the name represents a local macro, send it as string\n",
    "2. Otherwise if the name represents a global macro, send it as string\n",
    "3. Otherwise send the current dataset as a DataFrame using the provided name\n",
    "\n",
    "For example, because `mydata` is not one of the macros, it will become the name of the DataFrame representing the Stata dataset:"
   ]
  },
  {
   "cell_type": "code",
   "execution_count": null,
   "metadata": {
    "kernel": "Python3",
    "papermill": {
     "duration": null,
     "end_time": null,
     "exception": null,
     "start_time": null,
     "status": "pending"
    },
    "tags": []
   },
   "outputs": [],
   "source": [
    "%get mydata --from Stata\n",
    "mydata"
   ]
  },
  {
   "cell_type": "markdown",
   "metadata": {
    "kernel": "Python3",
    "papermill": {
     "duration": null,
     "end_time": null,
     "exception": null,
     "start_time": null,
     "status": "pending"
    },
    "tags": []
   },
   "source": [
    "The macros can be obtained "
   ]
  },
  {
   "cell_type": "code",
   "execution_count": null,
   "metadata": {
    "kernel": "SoS",
    "papermill": {
     "duration": null,
     "end_time": null,
     "exception": null,
     "start_time": null,
     "status": "pending"
    },
    "tags": []
   },
   "outputs": [],
   "source": [
    "%get S_ADO --from Stata\n",
    "S_ADO"
   ]
  },
  {
   "cell_type": "markdown",
   "metadata": {
    "kernel": "SoS",
    "papermill": {
     "duration": null,
     "end_time": null,
     "exception": null,
     "start_time": null,
     "status": "pending"
    },
    "tags": []
   },
   "source": [
    "and Stata supports the automatic transfer of variables (macros) with names starting with `sos`. For example,"
   ]
  },
  {
   "cell_type": "code",
   "execution_count": null,
   "metadata": {
    "kernel": "Stata",
    "papermill": {
     "duration": null,
     "end_time": null,
     "exception": null,
     "start_time": null,
     "status": "pending"
    },
    "tags": []
   },
   "outputs": [],
   "source": [
    "local sosres 3.14159"
   ]
  },
  {
   "cell_type": "markdown",
   "metadata": {
    "kernel": "Stata",
    "papermill": {
     "duration": null,
     "end_time": null,
     "exception": null,
     "start_time": null,
     "status": "pending"
    },
    "tags": []
   },
   "source": [
    "but remember macros are untyped so they will be transferred as strings:"
   ]
  },
  {
   "cell_type": "code",
   "execution_count": null,
   "metadata": {
    "kernel": "SoS",
    "papermill": {
     "duration": null,
     "end_time": null,
     "exception": null,
     "start_time": null,
     "status": "pending"
    },
    "tags": []
   },
   "outputs": [],
   "source": [
    "sosres"
   ]
  },
  {
   "cell_type": "markdown",
   "metadata": {
    "kernel": "Stata",
    "papermill": {
     "duration": null,
     "end_time": null,
     "exception": null,
     "start_time": null,
     "status": "pending"
    },
    "tags": []
   },
   "source": [
    "The `%sessioninfo` magic lists the version of Stata when the `stata` kernel is used:"
   ]
  },
  {
   "cell_type": "markdown",
   "metadata": {
    "kernel": "SoS",
    "papermill": {
     "duration": null,
     "end_time": null,
     "exception": null,
     "start_time": null,
     "status": "pending"
    },
    "tags": []
   },
   "source": [
    "## Further reading\n",
    "\n",
    "* [How to exchange variables among living subkernels](doc/user_guide/exchange_variable.html)"
   ]
  }
 ],
 "metadata": {
  "kernelspec": {
   "display_name": "SoS",
   "language": "sos",
   "name": "sos"
  },
  "language_info": {
   "codemirror_mode": "sos",
   "file_extension": ".sos",
   "mimetype": "text/x-sos",
   "name": "sos",
   "nbconvert_exporter": "sos_notebook.converter.SoS_Exporter",
   "pygments_lexer": "sos"
  },
  "papermill": {
   "duration": 9.698806,
   "end_time": "2019-12-25T16:56:09.300053",
   "environment_variables": {},
   "exception": true,
   "input_path": "../src/user_guide/sos_stata.ipynb",
   "output_path": "sos_stata.ipynb",
   "parameters": {},
   "start_time": "2019-12-25T16:55:59.601247",
   "version": "1.1.0"
  },
  "sos": {
   "kernels": [
    [
     "Bash",
     "bash",
     "Bash",
     "#E6EEFF"
    ],
    [
     "R",
     "ir",
     "R",
     "#DCDCDA"
    ],
    [
     "SoS",
     "sos",
     "",
     ""
    ]
   ],
   "panel": {
    "displayed": true,
    "height": 0
   },
   "version": "0.21.3"
  }
 },
 "nbformat": 4,
 "nbformat_minor": 4
}