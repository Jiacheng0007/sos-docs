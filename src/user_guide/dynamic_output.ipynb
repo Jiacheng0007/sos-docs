{
 "cells": [
  {
   "cell_type": "markdown",
   "metadata": {
    "kernel": "SoS",
    "tags": []
   },
   "source": [
    "# Dynamically-determined ouput files"
   ]
  },
  {
   "cell_type": "markdown",
   "metadata": {
    "kernel": "SoS",
    "tags": []
   },
   "source": [
    "* **Difficulty level**: intermediate\n",
    "* **Time need to lean**: 10 minutes or less\n",
    "* **Key points**:\n",
    "  * `dynamic` output targets are resolved after the step is completed  "
   ]
  },
  {
   "cell_type": "markdown",
   "metadata": {
    "kernel": "SoS",
    "tags": []
   },
   "source": [
    "### `dynamic` output files\n",
    "\n",
    "Similar to the cases with [dynamic input files](#dynamically-determined-input-files-function-dynamic), the output of some steps could also not be determined beforehand.\n",
    "\n",
    "For example, with the following script that generates `.out` files that cannot be determined during dry run,"
   ]
  },
  {
   "cell_type": "code",
   "execution_count": 1,
   "metadata": {
    "kernel": "SoS",
    "tags": []
   },
   "outputs": [
    {
     "name": "stdout",
     "output_type": "stream",
     "text": [
      "Processing temp_dynamic/1116.out\n"
     ]
    },
    {
     "name": "stdout",
     "output_type": "stream",
     "text": [
      "Processing temp_dynamic/1245.out\n"
     ]
    },
    {
     "name": "stdout",
     "output_type": "stream",
     "text": [
      "Processing temp_dynamic/1248.out\n"
     ]
    },
    {
     "name": "stdout",
     "output_type": "stream",
     "text": [
      "Processing temp_dynamic/1266.out\n"
     ]
    },
    {
     "name": "stdout",
     "output_type": "stream",
     "text": [
      "Processing temp_dynamic/1274.out\n"
     ]
    },
    {
     "name": "stdout",
     "output_type": "stream",
     "text": [
      "Processing temp_dynamic/1439.out\n"
     ]
    },
    {
     "name": "stdout",
     "output_type": "stream",
     "text": [
      "Processing temp_dynamic/1738.out\n"
     ]
    },
    {
     "name": "stdout",
     "output_type": "stream",
     "text": [
      "Processing temp_dynamic/1742.out\n"
     ]
    },
    {
     "name": "stdout",
     "output_type": "stream",
     "text": [
      "Processing temp_dynamic/1774.out\n"
     ]
    },
    {
     "name": "stdout",
     "output_type": "stream",
     "text": [
      "Processing temp_dynamic/1921.out\n"
     ]
    }
   ],
   "source": [
    "!rm -rf temp_dynamic\n",
    "\n",
    "%run -v1\n",
    "[10]\n",
    "output: dynamic('temp_dynamic/*.out')\n",
    "\n",
    "import random\n",
    "import os\n",
    "\n",
    "for i in range(5):\n",
    "    os.makedirs('temp_dynamic', exist_ok=True)\n",
    "    file_target(f'temp_dynamic/{random.randint(1000, 2000)}.out').touch()\n",
    "\n",
    "[20]\n",
    "input: group_by=1\n",
    "print(f'Processing {_input}')"
   ]
  },
  {
   "cell_type": "markdown",
   "metadata": {
    "kernel": "SoS",
    "tags": []
   },
   "source": [
    "In this case, you will need to define the output as `dynamic` using a `dynamic` function."
   ]
  },
  {
   "cell_type": "markdown",
   "metadata": {
    "kernel": "SoS",
    "tags": []
   },
   "source": [
    "## Dynamic output from substeps"
   ]
  },
  {
   "cell_type": "markdown",
   "metadata": {
    "kernel": "SoS",
    "tags": []
   },
   "source": [
    "It is a bit tricky to make dynamic output work with substeps because substeps are supposed to produce distinct outputs, and expressions like `temp_dynamic/*.out` could grab output from multiple substeps. It is therefore recommended that the pattern in `dynamic` output vary among substeps as follows:"
   ]
  },
  {
   "cell_type": "code",
   "execution_count": 2,
   "metadata": {
    "kernel": "SoS",
    "tags": []
   },
   "outputs": [
    {
     "name": "stdout",
     "output_type": "stream",
     "text": [
      "Processing temp_dynamic/0_1792.out\n"
     ]
    },
    {
     "name": "stdout",
     "output_type": "stream",
     "text": [
      "Processing temp_dynamic/1_1230.out\n"
     ]
    },
    {
     "name": "stdout",
     "output_type": "stream",
     "text": [
      "Processing temp_dynamic/2_1372.out\n"
     ]
    },
    {
     "name": "stdout",
     "output_type": "stream",
     "text": [
      "Processing temp_dynamic/3_1974.out\n"
     ]
    },
    {
     "name": "stdout",
     "output_type": "stream",
     "text": [
      "Processing temp_dynamic/4_1844.out\n"
     ]
    }
   ],
   "source": [
    "!rm -rf temp_dynamic\n",
    "\n",
    "%run -v1\n",
    "[10]\n",
    "input: for_each=dict(i=range(5))\n",
    "output: dynamic(f'temp_dynamic/{_index}_*.out')\n",
    "\n",
    "import random\n",
    "import os\n",
    "\n",
    "os.makedirs(f'temp_dynamic', exist_ok=True)\n",
    "file_target(f'temp_dynamic/{_index}_{random.randint(1000, 2000)}.out').touch()\n",
    "\n",
    "[20]\n",
    "print(f'Processing {_input}')"
   ]
  },
  {
   "cell_type": "markdown",
   "metadata": {
    "kernel": "SoS",
    "tags": []
   },
   "source": [
    "## Dynamic expansion of non-existing files"
   ]
  },
  {
   "cell_type": "markdown",
   "metadata": {
    "kernel": "SoS",
    "tags": []
   },
   "source": [
    "Whereas `dynamic` function is usually used with a filename pattern, it can also be used to fixed filenames, which would be \"expanded\" to an empty list if the file does not exist.\n",
    "\n",
    "This fact can be used to handle cases when the output might not be generated for some reason. For example, in the following workflow there is a 50% chance that output from a substep will not be generated. Instead of raising an error, use of `dynamic` around the output generates an empty output."
   ]
  },
  {
   "cell_type": "code",
   "execution_count": 3,
   "metadata": {
    "kernel": "SoS",
    "tags": []
   },
   "outputs": [
    {
     "name": "stdout",
     "output_type": "stream",
     "text": [
      "Processing test_0.out\n"
     ]
    },
    {
     "name": "stdout",
     "output_type": "stream",
     "text": [
      "Processing test_1.out\n"
     ]
    },
    {
     "name": "stdout",
     "output_type": "stream",
     "text": [
      "Processing test_2.out\n"
     ]
    },
    {
     "name": "stdout",
     "output_type": "stream",
     "text": [
      "Processing \n"
     ]
    },
    {
     "name": "stdout",
     "output_type": "stream",
     "text": [
      "Processing \n"
     ]
    },
    {
     "name": "stdout",
     "output_type": "stream",
     "text": [
      "Processing \n"
     ]
    },
    {
     "name": "stdout",
     "output_type": "stream",
     "text": [
      "Processing \n"
     ]
    },
    {
     "name": "stdout",
     "output_type": "stream",
     "text": [
      "Processing test_7.out\n"
     ]
    },
    {
     "name": "stdout",
     "output_type": "stream",
     "text": [
      "Processing test_8.out\n"
     ]
    },
    {
     "name": "stdout",
     "output_type": "stream",
     "text": [
      "Processing test_9.out\n"
     ]
    }
   ],
   "source": [
    "!rm -rf test_*.out\n",
    "\n",
    "%run -v1 -s force\n",
    "[10]\n",
    "input: for_each=dict(i=range(10))\n",
    "output: dynamic(f'test_{i}.out')\n",
    "\n",
    "import random\n",
    "if random.random() > 0.5:\n",
    "    file_target(f'test_{i}.out').touch()\n",
    "\n",
    "[20]\n",
    "input: \n",
    "print(f'Processing {_input}')"
   ]
  },
  {
   "cell_type": "markdown",
   "metadata": {
    "kernel": "SoS",
    "tags": []
   },
   "source": [
    "Note that you can remove empty substeps by regrouping `step_input` in the subsequent processing steps"
   ]
  },
  {
   "cell_type": "code",
   "execution_count": 4,
   "metadata": {
    "kernel": "SoS",
    "tags": []
   },
   "outputs": [
    {
     "name": "stdout",
     "output_type": "stream",
     "text": [
      "Processing test_1.out\n"
     ]
    },
    {
     "name": "stdout",
     "output_type": "stream",
     "text": [
      "Processing test_2.out\n"
     ]
    },
    {
     "name": "stdout",
     "output_type": "stream",
     "text": [
      "Processing test_5.out\n"
     ]
    },
    {
     "name": "stdout",
     "output_type": "stream",
     "text": [
      "Processing test_6.out\n"
     ]
    },
    {
     "name": "stdout",
     "output_type": "stream",
     "text": [
      "Processing test_8.out\n"
     ]
    }
   ],
   "source": [
    "!rm -rf test_*.out\n",
    "\n",
    "%run -v1 -s force\n",
    "[10]\n",
    "input: for_each=dict(i=range(10))\n",
    "output: dynamic(f'test_{i}.out')\n",
    "\n",
    "import random\n",
    "if random.random() > 0.5:\n",
    "    file_target(f'test_{i}.out').touch()\n",
    "\n",
    "[20]\n",
    "input: group_by=1\n",
    "print(f'Processing {_input}')"
   ]
  },
  {
   "cell_type": "markdown",
   "metadata": {
    "kernel": "SoS",
    "tags": []
   },
   "source": [
    "## Further reading\n",
    "\n",
    "* [`input` statement](input_statement.html)\n",
    "* [`output` statement](output_statement.html)\n",
    "* [dynamic input](dynamic_input.html)"
   ]
  }
 ],
 "metadata": {
  "kernelspec": {
   "display_name": "SoS",
   "language": "sos",
   "name": "sos"
  },
  "language_info": {
   "codemirror_mode": "sos",
   "file_extension": ".sos",
   "mimetype": "text/x-sos",
   "name": "sos",
   "nbconvert_exporter": "sos_notebook.converter.SoS_Exporter",
   "pygments_lexer": "sos"
  },
  "sos": {
   "kernels": [
    [
     "SoS",
     "sos",
     "",
     "",
     "sos"
    ]
   ],
   "panel": {
    "displayed": true,
    "height": 0
   },
   "version": "0.21.2"
  }
 },
 "nbformat": 4,
 "nbformat_minor": 4
}
