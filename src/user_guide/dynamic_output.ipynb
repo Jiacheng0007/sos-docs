{
 "cells": [
  {
   "cell_type": "markdown",
   "metadata": {
    "kernel": "SoS",
    "papermill": {
     "duration": 0.010037,
     "end_time": "2019-12-23T17:01:01.414734",
     "exception": false,
     "start_time": "2019-12-23T17:01:01.404697",
     "status": "completed"
    },
    "tags": []
   },
   "source": [
    "# Dynamically-determined ouput files"
   ]
  },
  {
   "cell_type": "markdown",
   "metadata": {
    "kernel": "SoS",
    "papermill": {
     "duration": 0.010202,
     "end_time": "2019-12-23T17:01:01.436336",
     "exception": false,
     "start_time": "2019-12-23T17:01:01.426134",
     "status": "completed"
    },
    "tags": []
   },
   "source": [
    "* **Difficulty level**: intermediate\n",
    "* **Time need to lean**: 10 minutes or less\n",
    "* **Key points**:\n",
    "  * `dynamic` output targets are resolved after the step is completed  "
   ]
  },
  {
   "cell_type": "markdown",
   "metadata": {
    "kernel": "SoS",
    "papermill": {
     "duration": 0.01009,
     "end_time": "2019-12-23T17:01:01.458166",
     "exception": false,
     "start_time": "2019-12-23T17:01:01.448076",
     "status": "completed"
    },
    "tags": []
   },
   "source": [
    "### `dynamic` output files\n",
    "\n",
    "Similar to the cases with [dynamic input files](#dynamically-determined-input-files-function-dynamic), the output of some steps could also not be determined beforehand.\n",
    "\n",
    "For example, with the following script that generates `.out` files that cannot be determined during dry run,"
   ]
  },
  {
   "cell_type": "code",
   "execution_count": 1,
   "metadata": {
    "kernel": "SoS",
    "papermill": {
     "duration": 4.071485,
     "end_time": "2019-12-23T17:01:05.538840",
     "exception": false,
     "start_time": "2019-12-23T17:01:01.467355",
     "status": "completed"
    },
    "tags": []
   },
   "outputs": [
    {
     "name": "stdout",
     "output_type": "stream",
     "text": [
      "Processing temp_dynamic/1052.out\n"
     ]
    },
    {
     "name": "stdout",
     "output_type": "stream",
     "text": [
      "Processing temp_dynamic/1058.out\n"
     ]
    },
    {
     "name": "stdout",
     "output_type": "stream",
     "text": [
      "Processing temp_dynamic/1239.out\n"
     ]
    },
    {
     "name": "stdout",
     "output_type": "stream",
     "text": [
      "Processing temp_dynamic/1438.out\n"
     ]
    },
    {
     "name": "stdout",
     "output_type": "stream",
     "text": [
      "Processing temp_dynamic/1451.out\n"
     ]
    },
    {
     "name": "stdout",
     "output_type": "stream",
     "text": [
      "Processing temp_dynamic/1517.out\n"
     ]
    },
    {
     "name": "stdout",
     "output_type": "stream",
     "text": [
      "Processing temp_dynamic/1520.out\n"
     ]
    },
    {
     "name": "stdout",
     "output_type": "stream",
     "text": [
      "Processing temp_dynamic/1764.out\n"
     ]
    },
    {
     "name": "stdout",
     "output_type": "stream",
     "text": [
      "Processing temp_dynamic/1886.out\n"
     ]
    },
    {
     "name": "stdout",
     "output_type": "stream",
     "text": [
      "Processing temp_dynamic/1916.out\n"
     ]
    }
   ],
   "source": [
    "!rm -rf temp_dynamic\n",
    "\n",
    "%run -v1\n",
    "[10]\n",
    "output: dynamic('temp_dynamic/*.out')\n",
    "\n",
    "import random\n",
    "import os\n",
    "\n",
    "for i in range(5):\n",
    "    os.makedirs('temp_dynamic', exist_ok=True)\n",
    "    file_target(f'temp_dynamic/{random.randint(1000, 2000)}.out').touch()\n",
    "\n",
    "[20]\n",
    "input: group_by=1\n",
    "print(f'Processing {_input}')"
   ]
  },
  {
   "cell_type": "markdown",
   "metadata": {
    "kernel": "SoS",
    "papermill": {
     "duration": 0.011197,
     "end_time": "2019-12-23T17:01:05.562042",
     "exception": false,
     "start_time": "2019-12-23T17:01:05.550845",
     "status": "completed"
    },
    "tags": []
   },
   "source": [
    "In this case, you will need to define the output as `dynamic` using a `dynamic` function."
   ]
  },
  {
   "cell_type": "markdown",
   "metadata": {
    "kernel": "SoS",
    "papermill": {
     "duration": 0.011139,
     "end_time": "2019-12-23T17:01:05.584321",
     "exception": false,
     "start_time": "2019-12-23T17:01:05.573182",
     "status": "completed"
    },
    "tags": []
   },
   "source": [
    "## Dynamic output from substeps"
   ]
  },
  {
   "cell_type": "markdown",
   "metadata": {
    "kernel": "SoS",
    "papermill": {
     "duration": 0.011437,
     "end_time": "2019-12-23T17:01:05.607580",
     "exception": false,
     "start_time": "2019-12-23T17:01:05.596143",
     "status": "completed"
    },
    "tags": []
   },
   "source": [
    "It is a bit tricky to make dynamic output work with substeps because substeps are supposed to produce distinct outputs, and expressions like `temp_dynamic/*.out` could grab output from multiple substeps. It is therefore recommended that the pattern in `dynamic` output vary among substeps as follows:"
   ]
  },
  {
   "cell_type": "code",
   "execution_count": 2,
   "metadata": {
    "kernel": "SoS",
    "papermill": {
     "duration": 3.77154,
     "end_time": "2019-12-23T17:01:09.390767",
     "exception": false,
     "start_time": "2019-12-23T17:01:05.619227",
     "status": "completed"
    },
    "tags": []
   },
   "outputs": [
    {
     "name": "stdout",
     "output_type": "stream",
     "text": [
      "Processing temp_dynamic/0_1829.out\n"
     ]
    },
    {
     "name": "stdout",
     "output_type": "stream",
     "text": [
      "Processing temp_dynamic/1_1284.out\n"
     ]
    },
    {
     "name": "stdout",
     "output_type": "stream",
     "text": [
      "Processing temp_dynamic/2_1737.out\n"
     ]
    },
    {
     "name": "stdout",
     "output_type": "stream",
     "text": [
      "Processing temp_dynamic/3_1775.out\n"
     ]
    },
    {
     "name": "stdout",
     "output_type": "stream",
     "text": [
      "Processing temp_dynamic/4_1326.out\n"
     ]
    }
   ],
   "source": [
    "!rm -rf temp_dynamic\n",
    "\n",
    "%run -v1\n",
    "[10]\n",
    "input: for_each=dict(i=range(5))\n",
    "output: dynamic(f'temp_dynamic/{_index}_*.out')\n",
    "\n",
    "import random\n",
    "import os\n",
    "\n",
    "os.makedirs(f'temp_dynamic', exist_ok=True)\n",
    "file_target(f'temp_dynamic/{_index}_{random.randint(1000, 2000)}.out').touch()\n",
    "\n",
    "[20]\n",
    "print(f'Processing {_input}')"
   ]
  },
  {
   "cell_type": "markdown",
   "metadata": {
    "kernel": "SoS",
    "papermill": {
     "duration": 0.013906,
     "end_time": "2019-12-23T17:01:09.419111",
     "exception": false,
     "start_time": "2019-12-23T17:01:09.405205",
     "status": "completed"
    },
    "tags": []
   },
   "source": [
    "## Dynamic expansion of non-existing files"
   ]
  },
  {
   "cell_type": "markdown",
   "metadata": {
    "kernel": "SoS",
    "papermill": {
     "duration": 0.01649,
     "end_time": "2019-12-23T17:01:09.450565",
     "exception": false,
     "start_time": "2019-12-23T17:01:09.434075",
     "status": "completed"
    },
    "tags": []
   },
   "source": [
    "Whereas `dynamic` function is usually used with a filename pattern, it can also be used to fixed filenames, which would be \"expanded\" to an empty list if the file does not exist.\n",
    "\n",
    "This fact can be used to handle cases when the output might not be generated for some reason. For example, in the following workflow there is a 50% chance that output from a substep will not be generated. Instead of raising an error, use of `dynamic` around the output generates an empty output."
   ]
  },
  {
   "cell_type": "code",
   "execution_count": 3,
   "metadata": {
    "kernel": "SoS",
    "papermill": {
     "duration": 4.248938,
     "end_time": "2019-12-23T17:01:13.717089",
     "exception": false,
     "start_time": "2019-12-23T17:01:09.468151",
     "status": "completed"
    },
    "tags": []
   },
   "outputs": [
    {
     "name": "stdout",
     "output_type": "stream",
     "text": [
      "Processing test_0.out\n"
     ]
    },
    {
     "name": "stdout",
     "output_type": "stream",
     "text": [
      "Processing test_1.out\n"
     ]
    },
    {
     "name": "stdout",
     "output_type": "stream",
     "text": [
      "Processing \n"
     ]
    },
    {
     "name": "stdout",
     "output_type": "stream",
     "text": [
      "Processing \n"
     ]
    },
    {
     "name": "stdout",
     "output_type": "stream",
     "text": [
      "Processing \n"
     ]
    },
    {
     "name": "stdout",
     "output_type": "stream",
     "text": [
      "Processing \n"
     ]
    },
    {
     "name": "stdout",
     "output_type": "stream",
     "text": [
      "Processing \n"
     ]
    },
    {
     "name": "stdout",
     "output_type": "stream",
     "text": [
      "Processing test_7.out\n"
     ]
    },
    {
     "name": "stdout",
     "output_type": "stream",
     "text": [
      "Processing \n"
     ]
    },
    {
     "name": "stdout",
     "output_type": "stream",
     "text": [
      "Processing test_9.out\n"
     ]
    }
   ],
   "source": [
    "!rm -rf test_*.out\n",
    "\n",
    "%run -v1 -s force\n",
    "[10]\n",
    "input: for_each=dict(i=range(10))\n",
    "output: dynamic(f'test_{i}.out')\n",
    "\n",
    "import random\n",
    "if random.random() > 0.5:\n",
    "    file_target(f'test_{i}.out').touch()\n",
    "\n",
    "[20]\n",
    "input: \n",
    "print(f'Processing {_input}')"
   ]
  },
  {
   "cell_type": "markdown",
   "metadata": {
    "kernel": "SoS",
    "papermill": {
     "duration": 0.016827,
     "end_time": "2019-12-23T17:01:13.751260",
     "exception": false,
     "start_time": "2019-12-23T17:01:13.734433",
     "status": "completed"
    },
    "tags": []
   },
   "source": [
    "Note that you can remove empty substeps by regrouping `step_input` in the subsequent processing steps"
   ]
  },
  {
   "cell_type": "code",
   "execution_count": 4,
   "metadata": {
    "kernel": "SoS",
    "papermill": {
     "duration": 3.438835,
     "end_time": "2019-12-23T17:01:17.207222",
     "exception": false,
     "start_time": "2019-12-23T17:01:13.768387",
     "status": "completed"
    },
    "tags": []
   },
   "outputs": [
    {
     "name": "stdout",
     "output_type": "stream",
     "text": [
      "Processing test_1.out\n"
     ]
    },
    {
     "name": "stdout",
     "output_type": "stream",
     "text": [
      "Processing test_3.out\n"
     ]
    },
    {
     "name": "stdout",
     "output_type": "stream",
     "text": [
      "Processing test_4.out\n"
     ]
    },
    {
     "name": "stdout",
     "output_type": "stream",
     "text": [
      "Processing test_8.out\n"
     ]
    },
    {
     "name": "stdout",
     "output_type": "stream",
     "text": [
      "Processing test_9.out\n"
     ]
    }
   ],
   "source": [
    "!rm -rf test_*.out\n",
    "\n",
    "%run -v1 -s force\n",
    "[10]\n",
    "input: for_each=dict(i=range(10))\n",
    "output: dynamic(f'test_{i}.out')\n",
    "\n",
    "import random\n",
    "if random.random() > 0.5:\n",
    "    file_target(f'test_{i}.out').touch()\n",
    "\n",
    "[20]\n",
    "input: group_by=1\n",
    "print(f'Processing {_input}')"
   ]
  },
  {
   "cell_type": "markdown",
   "metadata": {
    "kernel": "SoS",
    "papermill": {
     "duration": 0.017729,
     "end_time": "2019-12-23T17:01:17.242920",
     "exception": false,
     "start_time": "2019-12-23T17:01:17.225191",
     "status": "completed"
    },
    "tags": []
   },
   "source": [
    "## Further reading\n",
    "\n",
    "* [`input` statement](input_statement.html)\n",
    "* [`output` statement](output_statement.html)\n",
    "* [dynamic input](dynamic_input.html)"
   ]
  }
 ],
 "metadata": {
  "kernelspec": {
   "display_name": "SoS",
   "language": "sos",
   "name": "sos"
  },
  "language_info": {
   "codemirror_mode": "sos",
   "file_extension": ".sos",
   "mimetype": "text/x-sos",
   "name": "sos",
   "nbconvert_exporter": "sos_notebook.converter.SoS_Exporter",
   "pygments_lexer": "sos"
  },
  "papermill": {
   "duration": 24.197636,
   "end_time": "2019-12-23T17:01:22.469124",
   "environment_variables": {},
   "exception": null,
   "input_path": "/Users/bpeng1/sos/sos-docs/src/user_guide/dynamic_output.ipynb",
   "output_path": "dynamic_output.ipynb_rerun.ipynb",
   "parameters": {},
   "start_time": "2019-12-23T17:00:58.271488",
   "version": "1.1.0"
  },
  "sos": {
   "kernels": [
    [
     "SoS",
     "sos",
     "",
     "",
     "sos"
    ]
   ],
   "panel": {
    "displayed": true,
    "height": 0
   },
   "version": "0.21.2"
  }
 },
 "nbformat": 4,
 "nbformat_minor": 4
}