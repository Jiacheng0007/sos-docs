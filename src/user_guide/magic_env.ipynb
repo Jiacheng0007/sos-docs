{
 "cells": [
  {
   "cell_type": "markdown",
   "metadata": {
    "kernel": "SoS",
    "papermill": {
     "duration": 0.018603,
     "end_time": "2019-12-23T17:02:45.300512",
     "exception": false,
     "start_time": "2019-12-23T17:02:45.281909",
     "status": "completed"
    },
    "tags": []
   },
   "source": [
    "# Running cell in modified environments"
   ]
  },
  {
   "cell_type": "markdown",
   "metadata": {
    "kernel": "SoS",
    "papermill": {
     "duration": 0.015151,
     "end_time": "2019-12-23T17:02:45.333095",
     "exception": false,
     "start_time": "2019-12-23T17:02:45.317944",
     "status": "completed"
    },
    "tags": []
   },
   "source": [
    "* **Difficulty level**: easy\n",
    "* **Time need to lean**: 10 minutes or less\n",
    "* **Key points**:\n",
    "  * Magic `%env --new` runs the cell in a fresh SoS environment\n",
    "  * Magic `%env --tempdir` runs the cell in a temporary directory that will be removed after the completion of the cell\n",
    "  * Magic `%env --expect-error` expects an error from the cell\n",
    "  * Magic `%env --allow-error` ignores errors from the cell\n",
    "  * Magic `%env --set KEY=VAR` set environment variable\n",
    "  * Magic `%env --prepend-path PATH` prepend `PATH` to `$PATH`"
   ]
  },
  {
   "cell_type": "markdown",
   "metadata": {
    "kernel": "SoS",
    "papermill": {
     "duration": 0.01596,
     "end_time": "2019-12-23T17:02:45.364871",
     "exception": false,
     "start_time": "2019-12-23T17:02:45.348911",
     "status": "completed"
    },
    "tags": []
   },
   "source": [
    "## Running with fresh SoS environment"
   ]
  },
  {
   "cell_type": "markdown",
   "metadata": {
    "kernel": "SoS",
    "papermill": {
     "duration": 0.015657,
     "end_time": "2019-12-23T17:02:45.396774",
     "exception": false,
     "start_time": "2019-12-23T17:02:45.381117",
     "status": "completed"
    },
    "tags": []
   },
   "source": [
    "Sometimes when you are developing a script you would like to make sure that the script can be executed independently. In this case you can run it in a sandbox, which runs the cell in a fresh SoS dictionary.\n",
    "\n",
    "For example, when you define a variable `filename`,"
   ]
  },
  {
   "cell_type": "code",
   "execution_count": 1,
   "metadata": {
    "kernel": "SoS",
    "papermill": {
     "duration": 0.402977,
     "end_time": "2019-12-23T17:02:45.815807",
     "exception": false,
     "start_time": "2019-12-23T17:02:45.412830",
     "status": "completed"
    },
    "tags": []
   },
   "outputs": [],
   "source": [
    "filename = 'magic_env.ipynb'"
   ]
  },
  {
   "cell_type": "markdown",
   "metadata": {
    "kernel": "SoS",
    "papermill": {
     "duration": 0.015698,
     "end_time": "2019-12-23T17:02:45.846557",
     "exception": false,
     "start_time": "2019-12-23T17:02:45.830859",
     "status": "completed"
    },
    "tags": []
   },
   "source": [
    "you can use it in other cells"
   ]
  },
  {
   "cell_type": "code",
   "execution_count": 2,
   "metadata": {
    "kernel": "SoS",
    "papermill": {
     "duration": 0.783052,
     "end_time": "2019-12-23T17:02:46.644970",
     "exception": true,
     "start_time": "2019-12-23T17:02:45.861918",
     "status": "failed"
    },
    "tags": []
   },
   "outputs": [
    {
     "name": "stdout",
     "output_type": "stream",
     "text": [
      "     631 magic_env.ipynb\n"
     ]
    }
   ],
   "source": [
    "sh: expand=True\n",
    "  wc -l {filename}"
   ]
  },
  {
   "cell_type": "markdown",
   "metadata": {
    "kernel": "SoS",
    "papermill": {
     "duration": null,
     "end_time": null,
     "exception": null,
     "start_time": null,
     "status": "pending"
    },
    "tags": []
   },
   "source": [
    "But you can not use it directly in a new SoS environment (thus cannot be used directly as a workflow step),"
   ]
  },
  {
   "cell_type": "code",
   "execution_count": 3,
   "metadata": {
    "kernel": "SoS",
    "papermill": {
     "duration": null,
     "end_time": null,
     "exception": null,
     "start_time": null,
     "status": "pending"
    },
    "tags": []
   },
   "outputs": [
    {
     "data": {
      "text/html": [
       "<div class=\"sos_logging sos_error\">ERROR: scratch_0 (id=5055658742226167647) returns an error.</div>"
      ]
     },
     "metadata": {},
     "output_type": "display_data"
    },
    {
     "ename": "ExecuteError",
     "evalue": "[0]: \n---------------------------------------------------------------------------\nNameError                                 Traceback (most recent call last)\nscript_4829258359588360300 in <module>\n      sh(fr\"\"\"wc -l {filename}\n----> \"\"\")\n      \n\nNameError: name 'filename' is not defined",
     "execution_count": 3,
     "output_type": "error",
     "status": "error",
     "traceback": []
    }
   ],
   "source": [
    "%env --new --expect-error\n",
    "sh: expand=True\n",
    "  wc -l {filename}"
   ]
  },
  {
   "cell_type": "markdown",
   "metadata": {
    "kernel": "SoS",
    "papermill": {
     "duration": null,
     "end_time": null,
     "exception": null,
     "start_time": null,
     "status": "pending"
    },
    "tags": []
   },
   "source": [
    "This would remind you that `filename` is not defined in the script and you will need to define it as a parameter and pass it from command line if you would like to expect it as a complete workflow with magic `%run`:"
   ]
  },
  {
   "cell_type": "code",
   "execution_count": 4,
   "metadata": {
    "kernel": "SoS",
    "papermill": {
     "duration": null,
     "end_time": null,
     "exception": null,
     "start_time": null,
     "status": "pending"
    },
    "tags": []
   },
   "outputs": [
    {
     "data": {
      "text/html": [
       "<div class=\"sos_hint\">> %run --filename=magic_env.ipynb -v1<br></div>"
      ]
     },
     "metadata": {},
     "output_type": "display_data"
    },
    {
     "name": "stdout",
     "output_type": "stream",
     "text": [
      "     631 magic_env.ipynb\n"
     ]
    }
   ],
   "source": [
    "%run --filename={filename} -v1\n",
    "parameter: filename=str\n",
    "sh: expand=True\n",
    "  wc -l {filename}"
   ]
  },
  {
   "cell_type": "markdown",
   "metadata": {
    "kernel": "SoS",
    "papermill": {
     "duration": null,
     "end_time": null,
     "exception": null,
     "start_time": null,
     "status": "pending"
    },
    "tags": []
   },
   "source": [
    "## Using a temporary directory (option `--tempdir`)"
   ]
  },
  {
   "cell_type": "markdown",
   "metadata": {
    "kernel": "SoS",
    "papermill": {
     "duration": null,
     "end_time": null,
     "exception": null,
     "start_time": null,
     "status": "pending"
    },
    "tags": []
   },
   "source": [
    "With option `--tempdir`, this magic will create a temporary directory and set it as the current directory before the execution of the cell, and remove the directory after the completion of the cell. For example, when you execute a workflow to create `sandbox.txt` with `%env --tempdir`, this file will not exist in the current directory after the completion of the cell."
   ]
  },
  {
   "cell_type": "code",
   "execution_count": 5,
   "metadata": {
    "kernel": "SoS",
    "papermill": {
     "duration": null,
     "end_time": null,
     "exception": null,
     "start_time": null,
     "status": "pending"
    },
    "tags": []
   },
   "outputs": [],
   "source": [
    "%env --tempdir\n",
    "\n",
    "output: 'sandbox.txt'\n",
    "_output.touch()"
   ]
  },
  {
   "cell_type": "code",
   "execution_count": 6,
   "metadata": {
    "kernel": "SoS",
    "papermill": {
     "duration": null,
     "end_time": null,
     "exception": null,
     "start_time": null,
     "status": "pending"
    },
    "tags": []
   },
   "outputs": [
    {
     "name": "stdout",
     "output_type": "stream",
     "text": [
      "ls: sandbox.txt: No such file or directory\n"
     ]
    }
   ],
   "source": [
    "!ls sandbox.txt"
   ]
  },
  {
   "cell_type": "markdown",
   "metadata": {
    "kernel": "SoS",
    "papermill": {
     "duration": null,
     "end_time": null,
     "exception": null,
     "start_time": null,
     "status": "pending"
    },
    "tags": []
   },
   "source": [
    "## Expect an error (option `--expect-error`)"
   ]
  },
  {
   "cell_type": "markdown",
   "metadata": {
    "kernel": "SoS",
    "papermill": {
     "duration": null,
     "end_time": null,
     "exception": null,
     "start_time": null,
     "status": "pending"
    },
    "tags": []
   },
   "source": [
    "Sometimes, for example, in the documentation of SoS, we would intentionally generate an error to demonstrate a problem. The error does not matter when we execute the notebook interactively, but would stop the execution of the notebook with `Run All Cells` from Jupyter, or execute the notebook in batch mode with `papermill --engine sos`.\n",
    "\n",
    "To fix this problem, as what has been done in some previous cells of this document, you can use magic `%env --expect-error`, which let SoS know that the cell will return an error. The magic will return `ok` if an `error` is received, and actually `error` if an `ok` is received."
   ]
  },
  {
   "cell_type": "markdown",
   "metadata": {
    "kernel": "SoS",
    "papermill": {
     "duration": null,
     "end_time": null,
     "exception": null,
     "start_time": null,
     "status": "pending"
    },
    "tags": []
   },
   "source": [
    "## Allow errors (option `--allow-error`)"
   ]
  },
  {
   "cell_type": "markdown",
   "metadata": {
    "kernel": "SoS",
    "papermill": {
     "duration": null,
     "end_time": null,
     "exception": null,
     "start_time": null,
     "status": "pending"
    },
    "tags": []
   },
   "source": [
    "Similar to `%env --expect-error`, `%env --allow-error` will tolerate an error returned from the cell, so it will return `ok` if the cell returns `error`, or `ok`."
   ]
  },
  {
   "cell_type": "markdown",
   "metadata": {
    "kernel": "SoS",
    "papermill": {
     "duration": null,
     "end_time": null,
     "exception": null,
     "start_time": null,
     "status": "pending"
    },
    "tags": []
   },
   "source": [
    "## Set environment variables (option `--set`)"
   ]
  },
  {
   "cell_type": "markdown",
   "metadata": {
    "kernel": "SoS",
    "papermill": {
     "duration": null,
     "end_time": null,
     "exception": null,
     "start_time": null,
     "status": "pending"
    },
    "tags": []
   },
   "source": [
    "Option `--set` set environment variables for the execution of a cell, which is meant to be temporary since the variables will be unset as soon as the exection of the cell is completed.\n",
    "\n",
    "The values of this option can be one or more of\n",
    "\n",
    " * `KEY=VALUE` pair which sets value of environment variable `KEY` to `VALUE`\n",
    " * `KEY` which sets value of environment variable `KEY` to `''`"
   ]
  },
  {
   "cell_type": "code",
   "execution_count": 7,
   "metadata": {
    "kernel": "SoS",
    "papermill": {
     "duration": null,
     "end_time": null,
     "exception": null,
     "start_time": null,
     "status": "pending"
    },
    "tags": []
   },
   "outputs": [
    {
     "name": "stdout",
     "output_type": "stream",
     "text": [
      "DEBUG\n"
     ]
    }
   ],
   "source": [
    "%env --set LOGGING='DEBUG'\n",
    "sh:\n",
    "echo $LOGGING"
   ]
  },
  {
   "cell_type": "code",
   "execution_count": 8,
   "metadata": {
    "kernel": "SoS",
    "papermill": {
     "duration": null,
     "end_time": null,
     "exception": null,
     "start_time": null,
     "status": "pending"
    },
    "tags": []
   },
   "outputs": [
    {
     "name": "stdout",
     "output_type": "stream",
     "text": [
      "\n"
     ]
    }
   ],
   "source": [
    "sh:\n",
    "echo $LOGGING"
   ]
  },
  {
   "cell_type": "markdown",
   "metadata": {
    "kernel": "SoS",
    "papermill": {
     "duration": null,
     "end_time": null,
     "exception": null,
     "start_time": null,
     "status": "pending"
    },
    "tags": []
   },
   "source": [
    "## Set `PATH` (option `--prepend-path`)"
   ]
  },
  {
   "cell_type": "markdown",
   "metadata": {
    "kernel": "SoS",
    "papermill": {
     "duration": null,
     "end_time": null,
     "exception": null,
     "start_time": null,
     "status": "pending"
    },
    "tags": []
   },
   "source": [
    "If you would like to use a command in a specific path instead of the one in system `$PATH`, you can use option `env` for actions (see [SoS actions](sos_actions) for details). You can also modifying the `PATH` of the current cell by using option `--prepend-path`.\n",
    "\n",
    "For example,"
   ]
  },
  {
   "cell_type": "code",
   "execution_count": 9,
   "metadata": {
    "kernel": "SoS",
    "papermill": {
     "duration": null,
     "end_time": null,
     "exception": null,
     "start_time": null,
     "status": "pending"
    },
    "tags": []
   },
   "outputs": [
    {
     "name": "stdout",
     "output_type": "stream",
     "text": [
      "[1] \"R version 3.6.1 (2019-07-05)\"\n"
     ]
    }
   ],
   "source": [
    "R:\n",
    "  R.Version()$version.string"
   ]
  },
  {
   "cell_type": "code",
   "execution_count": 10,
   "metadata": {
    "kernel": "SoS",
    "papermill": {
     "duration": null,
     "end_time": null,
     "exception": null,
     "start_time": null,
     "status": "pending"
    },
    "tags": []
   },
   "outputs": [
    {
     "name": "stdout",
     "output_type": "stream",
     "text": [
      "[1] \"R version 3.5.2 (2018-12-20)\"\n"
     ]
    }
   ],
   "source": [
    "%env --prepend-path /usr/local/bin\n",
    "R:\n",
    "  R.Version()$version.string"
   ]
  },
  {
   "cell_type": "markdown",
   "metadata": {
    "kernel": "SoS",
    "papermill": {
     "duration": null,
     "end_time": null,
     "exception": null,
     "start_time": null,
     "status": "pending"
    },
    "tags": []
   },
   "source": [
    "<div class=\"bs-callout bs-callout-warning\" role=\"alert\">\n",
    "    <h4><p><code>%env</code> and subkernels</h4>\n",
    "    <p>Whereas magics <code>%env --expect-error</code> and <code>%env --allow-error</code> work for any kernels, <code>%env --prepand-path</code> cannot change the <code>$PATH>/code> of the subkernels which are started with their own <code>$PATH</code> upon start and cannot be changed dynamically. They work for SoS because SoS execute separate workflows for each cell.</p>\n",
    "</div>"
   ]
  },
  {
   "cell_type": "markdown",
   "metadata": {
    "kernel": "SoS",
    "papermill": {
     "duration": null,
     "end_time": null,
     "exception": null,
     "start_time": null,
     "status": "pending"
    },
    "tags": []
   },
   "source": [
    "## Further reading\n",
    "\n",
    "* [SoS Magics](sos_magics.html)"
   ]
  }
 ],
 "metadata": {
  "kernelspec": {
   "display_name": "SoS",
   "language": "sos",
   "name": "sos"
  },
  "language_info": {
   "codemirror_mode": "sos",
   "file_extension": ".sos",
   "mimetype": "text/x-sos",
   "name": "sos",
   "nbconvert_exporter": "sos_notebook.converter.SoS_Exporter",
   "pygments_lexer": "sos"
  },
  "papermill": {
   "duration": 9.408094,
   "end_time": "2019-12-23T17:02:51.857627",
   "environment_variables": {},
   "exception": true,
   "input_path": "/Users/bpeng1/sos/sos-docs/src/user_guide/magic_env.ipynb",
   "output_path": "magic_env.ipynb_rerun.ipynb",
   "parameters": {},
   "start_time": "2019-12-23T17:02:42.449533",
   "version": "1.1.0"
  },
  "sos": {
   "kernels": [
    [
     "Python3",
     "python3",
     "Python3",
     "#FFD91A",
     ""
    ],
    [
     "R",
     "ir",
     "R",
     "#DCDCDA",
     ""
    ],
    [
     "SoS",
     "sos",
     "",
     "",
     "sos"
    ]
   ],
   "panel": {
    "displayed": true,
    "height": 0
   },
   "version": "0.21.3"
  }
 },
 "nbformat": 4,
 "nbformat_minor": 4
}
