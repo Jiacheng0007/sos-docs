{
 "cells": [
  {
   "cell_type": "markdown",
   "metadata": {
    "kernel": "SoS",
    "tags": []
   },
   "source": [
    "# Summary of step dependencies"
   ]
  },
  {
   "cell_type": "markdown",
   "metadata": {
    "kernel": "SoS",
    "tags": []
   },
   "source": [
    "* **Difficulty level**: easy to intermediate\n",
    "* **Time need to lean**: 20 minutes or less\n",
    "* **Key points**:  \n",
    "  * A numerically indexed step by default depends on its previous steps\n",
    "  * A step can depend on steps that generate statically defined outputs\n",
    "  * A step can depend on steps with `named_outputs(name)`\n",
    "  * A step can depend on the output of another step with `output_from(step)`\n",
    "  * A step can depend on another step with `sos_step(step)`\n",
    "  * A step can depend on steps of another workflow with `sos_step(workflow)`\n",
    "  * A step can depend on another step that `share` a variable\n",
    "  * A step can depend on a step that `provides` output through patten matching of file names"
   ]
  },
  {
   "cell_type": "markdown",
   "metadata": {
    "kernel": "SoS",
    "tags": []
   },
   "source": [
    "SoS provides a plethora of methods to build dependencies between steps. These dependencies creates DAGs of workflows based on which workflows are executed. These dependencies could be built statically before the execution of workflow, or be added during the execution of the workflow but the general idea is the same.\n",
    "\n",
    "This tutorial summarizes how SoS steps are connected using very simple examples. The details of each method will be discussed later."
   ]
  },
  {
   "cell_type": "markdown",
   "metadata": {
    "kernel": "SoS",
    "tags": []
   },
   "source": [
    "<div class=\"bs-callout bs-callout-primary\" role=\"alert\">\n",
    "  <h4>Save and view DAGs of a workflow</h4>\n",
    "    <ul>\n",
    "        <li>Option <code>-d</code> saves the directed acyclic graphs (DAGs) in <code>.dot</code> format during the evolution of a workflow. Multiple workflows will be saved in the same output file for any change of the DAG.</li>\n",
    "        <li>Magic <code>%preview</code> displays DAGs as an animation in which black, green, and blue presents <code>pending</code>, <code>running</code>, and <code>completed</code> statuses of the nodes. </li>\n",
    "    </ul>\n",
    "</div>"
   ]
  },
  {
   "cell_type": "markdown",
   "metadata": {
    "kernel": "SoS",
    "tags": []
   },
   "source": [
    "<div class=\"bs-callout bs-callout-info\" role=\"alert\">\n",
    "    <h4>Tracing dependencies of existing targets (option <code>-T</code>) *</h4>\n",
    "    <p>The <code>-T</code> (tracing) option forces SoS to trace and execute steps that produce an input or dependent target of a step, even if it already exists. We use this option in this tutorial to contruct the complete DAGs of workflows regardless the existence of intermediate files.\n",
    "</div>"
   ]
  },
  {
   "cell_type": "markdown",
   "metadata": {
    "kernel": "SoS",
    "tags": []
   },
   "source": [
    "## Numerically indexed steps"
   ]
  },
  {
   "cell_type": "markdown",
   "metadata": {
    "kernel": "SoS",
    "tags": []
   },
   "source": [
    "If no `input` and `output` is defined, a step with numerically indexed step name will be executed after its previous step. Therefore, the following workflow will be executed sequentially in numeric order."
   ]
  },
  {
   "cell_type": "code",
   "execution_count": 1,
   "metadata": {
    "kernel": "SoS",
    "tags": []
   },
   "outputs": [
    {
     "data": {
      "text/html": [
       "<div class=\"sos_hint\">> num.dot (845 B):</div>"
      ],
      "text/plain": [
       "\n",
       "> num.dot (845 B):"
      ]
     },
     "metadata": {},
     "output_type": "display_data"
    }
   ],
   "source": [
    "%preview num.dot\n",
    "%run -v0 -d num.dot\n",
    "[step_1]\n",
    "print(f'Executing {step_name}')\n",
    "\n",
    "[step_2]\n",
    "print(f'Executing {step_name}')\n",
    "\n",
    "[step_3]\n",
    "print(f'Executing {step_name}')"
   ]
  },
  {
   "cell_type": "markdown",
   "metadata": {
    "kernel": "SoS",
    "tags": []
   },
   "source": [
    "## Depends on static output from another step"
   ]
  },
  {
   "cell_type": "markdown",
   "metadata": {
    "kernel": "SoS",
    "tags": []
   },
   "source": [
    "If the input of a step is not available, SoS will attempts to find another step that generates such a file and execute it before this step. A simple data-flow data workflow can therefore be written by defining static input and output of each step. The dependent files can also be specified in `depends:` statements."
   ]
  },
  {
   "cell_type": "code",
   "execution_count": 2,
   "metadata": {
    "kernel": "SoS",
    "tags": []
   },
   "outputs": [
    {
     "name": "stdout",
     "output_type": "stream",
     "text": [
      "\u001b[32m[\u001b[0m\u001b[32m#\u001b[0m\u001b[32m#\u001b[0m\u001b[32m#\u001b[0m\u001b[32m#\u001b[0m\u001b[32m]\u001b[0m 4 steps processed (4 jobs completed)\n"
     ]
    }
   ],
   "source": [
    "%preview static.dot\n",
    "\n",
    "%run -v0 -T -d static.dot\n",
    "[A]\n",
    "output: 'a.txt'\n",
    "\n",
    "_output.touch()\n",
    "print(f'Generating {_output}')\n",
    "\n",
    "[B]\n",
    "input: 'a.txt'\n",
    "output: 'b.txt'\n",
    "\n",
    "_output.touch()\n",
    "print(f'Generating {_output}')\n",
    "\n",
    "[C]\n",
    "input: 'a.txt'\n",
    "output: 'c.txt'\n",
    "\n",
    "_output.touch()\n",
    "print(f'Generating {_output}')\n",
    "\n",
    "\n",
    "[default]\n",
    "input: 'b.txt', 'c.txt'"
   ]
  },
  {
   "cell_type": "markdown",
   "metadata": {
    "kernel": "SoS",
    "tags": []
   },
   "source": [
    "## Depends on named output"
   ]
  },
  {
   "cell_type": "markdown",
   "metadata": {
    "kernel": "SoS",
    "tags": []
   },
   "source": [
    "If there are multiple output or the output is not statically defined, function `named_output()` can be used to named output from another step. Basically, `name_output()` makes a step depends on another step with the named output. This function can also be used in `depends` statement."
   ]
  },
  {
   "cell_type": "code",
   "execution_count": 3,
   "metadata": {
    "kernel": "SoS",
    "tags": []
   },
   "outputs": [
    {
     "name": "stdout",
     "output_type": "stream",
     "text": [
      "\u001b[32m[\u001b[0m\u001b[90m#\u001b[0m\u001b[90m#\u001b[0m\u001b[90m#\u001b[0m\u001b[32m#\u001b[0m\u001b[32m]\u001b[0m 4 steps processed (1 job completed, 3 jobs ignored)\n"
     ]
    }
   ],
   "source": [
    "%preview named.dot\n",
    "\n",
    "%run -v0 -T -d named.dot\n",
    "[A]\n",
    "output: A='a.txt'\n",
    "\n",
    "_output.touch()\n",
    "print(f'Generating {_output}')\n",
    "\n",
    "[B]\n",
    "input: named_output('A')\n",
    "output: B='b.txt'\n",
    "\n",
    "_output.touch()\n",
    "print(f'Generating {_output}')\n",
    "\n",
    "[C]\n",
    "input: named_output('A')\n",
    "output: C='c.txt'\n",
    "\n",
    "_output.touch()\n",
    "print(f'Generating {_output}')\n",
    "\n",
    "\n",
    "[default]\n",
    "input: named_output('B'), named_output('C')"
   ]
  },
  {
   "cell_type": "markdown",
   "metadata": {
    "kernel": "SoS",
    "tags": []
   },
   "source": [
    "## Depends on output from another step\n"
   ]
  },
  {
   "cell_type": "markdown",
   "metadata": {
    "kernel": "SoS",
    "tags": []
   },
   "source": [
    "Similar to `named_output`, function `output_from(step)` imports entire output from specified step, therefore creating a step-based dependency. This function can also be used in `depends:` statement."
   ]
  },
  {
   "cell_type": "code",
   "execution_count": 4,
   "metadata": {
    "kernel": "SoS",
    "tags": []
   },
   "outputs": [
    {
     "name": "stdout",
     "output_type": "stream",
     "text": [
      "\u001b[32m[\u001b[0m\u001b[90m#\u001b[0m\u001b[90m#\u001b[0m\u001b[90m#\u001b[0m\u001b[32m#\u001b[0m\u001b[32m]\u001b[0m 4 steps processed (1 job completed, 3 jobs ignored)\n"
     ]
    }
   ],
   "source": [
    "%preview output_from.dot\n",
    "\n",
    "%run -v0 -d output_from.dot\n",
    "[A]\n",
    "output: 'a.txt'\n",
    "\n",
    "_output.touch()\n",
    "print(f'Generating {_output}')\n",
    "\n",
    "[B]\n",
    "input: output_from('A')\n",
    "output: 'b.txt'\n",
    "\n",
    "_output.touch()\n",
    "print(f'Generating {_output}')\n",
    "\n",
    "[C]\n",
    "input: output_from('A')\n",
    "output: C='c.txt'\n",
    "\n",
    "_output.touch()\n",
    "print(f'Generating {_output}')\n",
    "\n",
    "\n",
    "[default]\n",
    "input: output_from('B'), output_from('C')"
   ]
  },
  {
   "cell_type": "markdown",
   "metadata": {
    "kernel": "SoS",
    "tags": []
   },
   "source": [
    "## `Depends` on another step"
   ]
  },
  {
   "cell_type": "markdown",
   "metadata": {
    "kernel": "SoS",
    "tags": []
   },
   "source": [
    "If you simply want to execute another step before a step (for example if the step does not produce any output so you cannot use `output_from`), you can explicitly depend on another step using target `sos_step`. This allows you to build DAGs explicit without having to define input and output of each step."
   ]
  },
  {
   "cell_type": "code",
   "execution_count": 5,
   "metadata": {
    "kernel": "SoS",
    "tags": []
   },
   "outputs": [
    {
     "name": "stdout",
     "output_type": "stream",
     "text": [
      "\u001b[32m[\u001b[0m\u001b[32m#\u001b[0m\u001b[32m#\u001b[0m\u001b[32m#\u001b[0m\u001b[32m#\u001b[0m\u001b[32m]\u001b[0m 4 steps processed (4 jobs completed)\n"
     ]
    }
   ],
   "source": [
    "%preview sos_step.dot\n",
    "\n",
    "%run D -v0 -T -d sos_step.dot\n",
    "[A]\n",
    "print(f'Executing {step_name}')\n",
    "\n",
    "[B]\n",
    "depends: sos_step('A')\n",
    "print(f'Executing {step_name}')\n",
    "\n",
    "[C]\n",
    "depends: sos_step('A')\n",
    "print(f'Executing {step_name}')\n",
    "\n",
    "[D]\n",
    "depends: sos_step('B'), sos_step('C')\n",
    "print(f'Executing {step_name}')"
   ]
  },
  {
   "cell_type": "markdown",
   "metadata": {
    "kernel": "SoS",
    "tags": []
   },
   "source": [
    "## `Depends` on another workflow"
   ]
  },
  {
   "cell_type": "markdown",
   "metadata": {
    "kernel": "SoS",
    "tags": []
   },
   "source": [
    "Option for `sos_step()` can be a workflow name so you can explicitly execute another workflow before the execution of a step."
   ]
  },
  {
   "cell_type": "code",
   "execution_count": 6,
   "metadata": {
    "kernel": "SoS",
    "tags": []
   },
   "outputs": [
    {
     "name": "stdout",
     "output_type": "stream",
     "text": [
      "\u001b[32m[\u001b[0m\u001b[32m#\u001b[0m\u001b[32m#\u001b[0m\u001b[90m#\u001b[0m\u001b[90m#\u001b[0m\u001b[32m#\u001b[0m\u001b[32m]\u001b[0m 5 steps processed (3 jobs completed, 2 jobs ignored)\n"
     ]
    }
   ],
   "source": [
    "%preview sos_step_wf.dot\n",
    "%run D -v0 -T -d sos_step_wf.dot\n",
    "[A_1]\n",
    "print(f'Executing {step_name}')\n",
    "\n",
    "[A_2]\n",
    "print(f'Executing {step_name}')\n",
    "\n",
    "[B]\n",
    "depends: sos_step('A')\n",
    "print(f'Executing {step_name}')\n",
    "\n",
    "[C]\n",
    "depends: sos_step('A')\n",
    "print(f'Executing {step_name}')\n",
    "\n",
    "[D]\n",
    "depends: sos_step('B'), sos_step('C')\n",
    "print(f'Executing {step_name}')"
   ]
  },
  {
   "cell_type": "markdown",
   "metadata": {
    "kernel": "SoS",
    "tags": []
   },
   "source": [
    "## `Depends` on shared variable"
   ]
  },
  {
   "cell_type": "markdown",
   "metadata": {
    "kernel": "SoS",
    "tags": []
   },
   "source": [
    "If a step requires a certain variable `sos_variable()` that is shared by another step through step option `share`, the step that generates the variable will be executed before the step so that the variable can be passed."
   ]
  },
  {
   "cell_type": "code",
   "execution_count": 7,
   "metadata": {
    "kernel": "SoS",
    "tags": []
   },
   "outputs": [
    {
     "name": "stdout",
     "output_type": "stream",
     "text": [
      "\u001b[32m[\u001b[0m\u001b[32m#\u001b[0m\u001b[32m#\u001b[0m\u001b[32m#\u001b[0m\u001b[32m#\u001b[0m\u001b[32m]\u001b[0m 4 steps processed (4 jobs completed)\n"
     ]
    }
   ],
   "source": [
    "%preview shared.dot\n",
    "%run D -v0 -T -d shared.dot\n",
    "[A: shared='A']\n",
    "A=100\n",
    "print(f'Executing {step_name}')\n",
    "\n",
    "[B]\n",
    "depends: sos_variable('A')\n",
    "print(f'Executing {step_name}')\n",
    "\n",
    "[C]\n",
    "depends: sos_variable('A')\n",
    "print(f'Executing {step_name}')\n",
    "\n",
    "[D]\n",
    "depends: sos_step('B'), sos_step('C')\n",
    "print(f'Executing {step_name}')"
   ]
  },
  {
   "cell_type": "markdown",
   "metadata": {
    "kernel": "SoS",
    "tags": []
   },
   "source": [
    "## Depends on pattern matched output"
   ]
  },
  {
   "cell_type": "markdown",
   "metadata": {
    "kernel": "SoS",
    "tags": []
   },
   "source": [
    "If none of the above method works, SoS looks for special steps that `provides` the required file through pattern-matching. Both `input:` and `depends:` statements can be used."
   ]
  },
  {
   "cell_type": "code",
   "execution_count": 8,
   "metadata": {
    "kernel": "SoS",
    "tags": []
   },
   "outputs": [
    {
     "name": "stdout",
     "output_type": "stream",
     "text": [
      "\u001b[32m[\u001b[0m\u001b[32m#\u001b[0m\u001b[32m#\u001b[0m\u001b[32m#\u001b[0m\u001b[32m#\u001b[0m\u001b[32m#\u001b[0m\u001b[32m]\u001b[0m 4 steps processed (5 jobs completed)\n"
     ]
    }
   ],
   "source": [
    "%preview pattern.dot\n",
    "%run D -v0 -T -d pattern.dot\n",
    "\n",
    "[A: provides='{filename}.txt']\n",
    "_output.touch()\n",
    "print(f'Generating {_output}')\n",
    "\n",
    "\n",
    "[B]\n",
    "input: 'a.txt'\n",
    "print(f'Executing {step_name}')\n",
    "\n",
    "[C]\n",
    "input: 'b.txt'\n",
    "print(f'Executing {step_name}')\n",
    "\n",
    "[D]\n",
    "depends: sos_step('B'), sos_step('C')\n",
    "print(f'Executing {step_name}')"
   ]
  },
  {
   "cell_type": "markdown",
   "metadata": {
    "kernel": "SoS",
    "tags": []
   },
   "source": [
    "## Summary"
   ]
  },
  {
   "cell_type": "markdown",
   "metadata": {
    "kernel": "SoS",
    "tags": []
   },
   "source": [
    "As an interesting way to summaize this tutorial, let us look backward and see how a step can become a dependency to another step:\n",
    "\n",
    "|Method | Syntax | Matched by | Comment |\n",
    "| --- | -- | -- | -- |\n",
    "| by step name | `[name]` | `depends: sos_step(name)` | `name` may or may not have index. Can only be in used `depends:` statement |\n",
    "|      &nbsp;       |   &nbsp; | `input: output_from(name)` | Use output from step `name` |\n",
    "|      &nbsp;       |   &nbsp; | `depends: output_from(name)` |&nbsp; |\n",
    "|       &nbsp;       |  `[wfname_index]`   | `depends: sos_step(wfname)` | Match multiple steps (a workflow) with `wfname` |\n",
    "| by static output | `output: 'output.txt' ` | `input: 'output.txt'` | Matching statically defined targets |\n",
    "| &nbsp; | &nbsp; | `depends: 'output.txt'` | &nbsp;    |\n",
    "| &nbsp; | `output: A='output.txt'` | `input: 'output.txt'` | named output can still be referred to directly |\n",
    "| &nbsp; | &nbsp; | `depends: 'output.txt'` |  &nbsp; |\n",
    "| by named output | `output: A='output.txt'` | `input: named_output('A')` | Name `A` can refer to multiple or dynamic outputs |\n",
    "| &nbsp; | &nbsp; | `depends: named_output('A')` |&nbsp; |\n",
    "| by shared variable | `[name: shared='var']` | `depends: sos_variable('var')` | The only way to exchange variables between steps |\n",
    "| by pattern matching | `[name: provides='output.txt'] ` | `input: 'output.txt'` | Matching statically defined targets |\n",
    "| &nbsp; | &nbsp; | `depends: 'output.txt'` | &nbsp; |\n",
    "| &nbsp; | `[name: provides='{filename}.txt']` | `input: 'output.txt'` | pattern matching, only for file targets |\n",
    "| &nbsp; | &nbsp; | `depends: 'output.txt'` | &nbsp;  |\n",
    "\n",
    "Note that although we use `output.txt` as example for files, non-file targets are allowed in all cases where `output.txt` is used, except for the last case of `provides='{filename}.txt'` since pattern matching is available only for filenames. "
   ]
  }
 ],
 "metadata": {
  "kernelspec": {
   "display_name": "SoS",
   "language": "sos",
   "name": "sos"
  },
  "language_info": {
   "codemirror_mode": "sos",
   "file_extension": ".sos",
   "mimetype": "text/x-sos",
   "name": "sos",
   "nbconvert_exporter": "sos_notebook.converter.SoS_Exporter",
   "pygments_lexer": "sos"
  },
  "sos": {
   "kernels": [
    [
     "Bash",
     "bash",
     "Bash",
     "#E6EEFF",
     ""
    ],
    [
     "SoS",
     "sos",
     "",
     "",
     "sos"
    ]
   ],
   "panel": {
    "displayed": true,
    "height": 0
   },
   "version": "0.20.1"
  }
 },
 "nbformat": 4,
 "nbformat_minor": 4
}
