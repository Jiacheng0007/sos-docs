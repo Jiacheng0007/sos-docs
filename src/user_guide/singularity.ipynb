{
 "cells": [
  {
   "cell_type": "markdown",
   "metadata": {
    "kernel": "SoS",
    "papermill": {
     "duration": 0.031558,
     "end_time": "2019-12-23T17:05:48.398706",
     "exception": false,
     "start_time": "2019-12-23T17:05:48.367148",
     "status": "completed"
    },
    "tags": []
   },
   "source": [
    "# Running scripts in singularity"
   ]
  },
  {
   "cell_type": "markdown",
   "metadata": {
    "kernel": "SoS",
    "papermill": {
     "duration": 0.030769,
     "end_time": "2019-12-23T17:05:48.457830",
     "exception": false,
     "start_time": "2019-12-23T17:05:48.427061",
     "status": "completed"
    },
    "tags": []
   },
   "source": [
    "* **Difficulty level**: intermediate\n",
    "* **Time need to lean**: 30 minutes or less\n",
    "* **Key points**:\n",
    "  * Using `container='library:xxx'` etc will enable `engine='singularity'`\n",
    "  * `engine='singularity'` is explicitly needed for docker images.  "
   ]
  },
  {
   "cell_type": "markdown",
   "metadata": {
    "kernel": "SoS",
    "papermill": {
     "duration": 0.024136,
     "end_time": "2019-12-23T17:05:48.504909",
     "exception": false,
     "start_time": "2019-12-23T17:05:48.480773",
     "status": "completed"
    },
    "tags": []
   },
   "source": [
    "Before you run any script using singularity, please check if `singularity` is installed by checking the availability of command `singularity`. Also, it would be helpful for you to read the [sigularity user's guide](https://sylabs.io/guides/3.3/user-guide/index.html) or some online tutorial to understand how singularity works before you try to use singularity in SoS.\n",
    "\n",
    "Although running singularity images does not need root privilege, building singularity images often requires `sudo` access. SoS provides an option `sudo=True` to the `singularity_build` action (an equivalence to command `singularity build`) to execute the command in sudo mode, but it does not accept interactive input of password. So before running any `singularity_build` action with option `sudo=True`, please run `sudo -i` to enter sudo mode, or add your username as a sudo user without password (google \"sudo without password\" for instructions). The latter is not safe but can be very convenient for you to prepare singularity images on a personal linux workstation."
   ]
  },
  {
   "cell_type": "markdown",
   "metadata": {
    "kernel": "SoS",
    "papermill": {
     "duration": 0.022784,
     "end_time": "2019-12-23T17:05:48.548846",
     "exception": false,
     "start_time": "2019-12-23T17:05:48.526062",
     "status": "completed"
    },
    "tags": []
   },
   "source": [
    "## Running a script using singularity"
   ]
  },
  {
   "cell_type": "markdown",
   "metadata": {
    "kernel": "SoS",
    "papermill": {
     "duration": 0.021881,
     "end_time": "2019-12-23T17:05:48.595372",
     "exception": false,
     "start_time": "2019-12-23T17:05:48.573491",
     "status": "completed"
    },
    "tags": []
   },
   "source": [
    "SoS executes scripts with a singularity container by calling command `singularity exec` with appropriate parameters. For example, if you specify a container with a `library:` schema, sos will first pull the image, save it as a local image, and use `singularity exec` to run it:"
   ]
  },
  {
   "cell_type": "code",
   "execution_count": 1,
   "metadata": {
    "kernel": "SoS",
    "papermill": {
     "duration": 9.619689,
     "end_time": "2019-12-23T17:05:58.243671",
     "exception": false,
     "start_time": "2019-12-23T17:05:48.623982",
     "status": "completed"
    },
    "scrolled": true,
    "tags": []
   },
   "outputs": [
    {
     "name": "stdout",
     "output_type": "stream",
     "text": [
      "HINT: Pulling image library://alpine:latest to alpine-latest.sif\n",
      "NAME=\"Alpine Linux\"\n",
      "ID=alpine\n",
      "VERSION_ID=3.9.2\n",
      "PRETTY_NAME=\"Alpine Linux v3.9\"\n",
      "HOME_URL=\"https://alpinelinux.org/\"\n",
      "BUG_REPORT_URL=\"https://bugs.alpinelinux.org/\"\n",
      "[    1.336892] reboot: Power down\n"
     ]
    }
   ],
   "source": [
    "%run -v1\n",
    "sh: container='library://alpine:latest'\n",
    "  cat /etc/os-release"
   ]
  },
  {
   "cell_type": "markdown",
   "metadata": {
    "kernel": "SoS",
    "papermill": {
     "duration": 0.024683,
     "end_time": "2019-12-23T17:05:58.293739",
     "exception": false,
     "start_time": "2019-12-23T17:05:58.269056",
     "status": "completed"
    },
    "tags": []
   },
   "source": [
    "The actual `singularity exec` command executed by SoS can be shown when you execute the script in dryrun mode (with `-n` option). In this mode, SoS would print the interpolated script (if option `expand=True` is set) and the docker command to execute it:"
   ]
  },
  {
   "cell_type": "code",
   "execution_count": 2,
   "metadata": {
    "kernel": "SoS",
    "papermill": {
     "duration": 0.042461,
     "end_time": "2019-12-23T17:05:58.359771",
     "exception": true,
     "start_time": "2019-12-23T17:05:58.317310",
     "status": "failed"
    },
    "tags": []
   },
   "outputs": [
    {
     "name": "stdout",
     "output_type": "stream",
     "text": [
      "HINT: singularity exec  alpine-latest.sif /bin/sh /Users/bpeng1/sos/sos-docs/src/user_guide/tmpgc4nzxad/singularity_run_74690.sh\n",
      "cat /etc/os-release\n",
      "\n"
     ]
    }
   ],
   "source": [
    "%run -v1 -n\n",
    "sh: container='library://alpine:latest'\n",
    "  cat /etc/os-release"
   ]
  },
  {
   "cell_type": "markdown",
   "metadata": {
    "kernel": "SoS",
    "papermill": {
     "duration": null,
     "end_time": null,
     "exception": null,
     "start_time": null,
     "status": "pending"
    },
    "tags": []
   },
   "source": [
    "As you can see, the docker command looks similar to\n",
    "\n",
    "```\n",
    "singularity exec alpine-latest.sif /bin/sh /path/to/a/temp/script\n",
    "```\n",
    "\n",
    "Basically, SoS pulls the image and runs command `singularity exec` to execte the script with `/bin/sh` with the singularity image."
   ]
  },
  {
   "cell_type": "markdown",
   "metadata": {
    "kernel": "SoS",
    "papermill": {
     "duration": null,
     "end_time": null,
     "exception": null,
     "start_time": null,
     "status": "pending"
    },
    "tags": []
   },
   "source": [
    "You can also use a docker image with singularity. However, because `docker://` images are by default executed by docker, you will need to specify the use of singularity using parameter `engine='singularity'`:"
   ]
  },
  {
   "cell_type": "code",
   "execution_count": 3,
   "metadata": {
    "kernel": "SoS",
    "papermill": {
     "duration": null,
     "end_time": null,
     "exception": null,
     "start_time": null,
     "status": "pending"
    },
    "tags": []
   },
   "outputs": [
    {
     "name": "stdout",
     "output_type": "stream",
     "text": [
      "HINT: Pulling image docker://ubuntu to ubuntu.sif\n",
      "NAME=\"Ubuntu\"\n",
      "VERSION=\"18.04.3 LTS (Bionic Beaver)\"\n",
      "ID=ubuntu\n",
      "ID_LIKE=debian\n",
      "PRETTY_NAME=\"Ubuntu 18.04.3 LTS\"\n",
      "VERSION_ID=\"18.04\"\n",
      "HOME_URL=\"https://www.ubuntu.com/\"\n",
      "SUPPORT_URL=\"https://help.ubuntu.com/\"\n",
      "BUG_REPORT_URL=\"https://bugs.launchpad.net/ubuntu/\"\n",
      "PRIVACY_POLICY_URL=\"https://www.ubuntu.com/legal/terms-and-policies/privacy-policy\"\n",
      "VERSION_CODENAME=bionic\n",
      "UBUNTU_CODENAME=bionic\n",
      "[    4.659910] reboot: Power down\n"
     ]
    }
   ],
   "source": [
    "%run -v1\n",
    "sh: container='docker://ubuntu', engine='singularity'\n",
    "  cat /etc/os-release"
   ]
  },
  {
   "cell_type": "markdown",
   "metadata": {
    "kernel": "SoS",
    "papermill": {
     "duration": null,
     "end_time": null,
     "exception": null,
     "start_time": null,
     "status": "pending"
    },
    "tags": []
   },
   "source": [
    "In summary, as listed [here](https://vatlab.github.io/sos-docs/doc/user_guide/sos_actions.html), you can invoke `singularity` with the following combinations of parameters `container` and `engine`:\n",
    "\n",
    "| `container` | `engine` | execute by | example | comment | \n",
    "| -- | -- | -- | -- | -- |\n",
    "| `filename.simg` | ` ` | singularity | `container='ubuntu.simg'` | |\n",
    "| `shub://tag` | ` ` | singularity | `container='shub://GodloveD/lolcow'` | Image will be pulled to a local image |\n",
    "| `library://tag` | ` ` | singularity | `container='library://GodloveD/lolcow'` | Image will be pulled to a local image |\n",
    "| `name` | `singularity` | singularity | `container='a_dir', engine='singularity'` | treat `name` as singularity image file or directory |\n",
    "| `docker://tag` | `singularity` | singularity |  `container='docker://godlovdc/lolcow', engine='singularity'`  |  |\n",
    "| `file://filename` | ` ` | singularity | `container='file://ubuntu.simg'` | |\n",
    "\n",
    "Simply put, singularity will be used by default with container `shub://`, `file://`, and `filename.simg`, but you will have to specify `engine='singularity'` if you would like to use a docker image or a directory."
   ]
  },
  {
   "cell_type": "markdown",
   "metadata": {
    "kernel": "SoS",
    "papermill": {
     "duration": null,
     "end_time": null,
     "exception": null,
     "start_time": null,
     "status": "pending"
    },
    "tags": []
   },
   "source": [
    "### Running script with singularity image"
   ]
  },
  {
   "cell_type": "markdown",
   "metadata": {
    "kernel": "SoS",
    "papermill": {
     "duration": null,
     "end_time": null,
     "exception": null,
     "start_time": null,
     "status": "pending"
    },
    "tags": []
   },
   "source": [
    "Although singularity accepts `docker://` and `shub://` container tags, SoS always pull the image and build a local `.sif` file before executing it. If the container is used again, the local `simg` file will be used directly.\n",
    "\n",
    "For example, the following action will pull `docker://ubuntu` and create `ubuntu.simg`"
   ]
  },
  {
   "cell_type": "code",
   "execution_count": 14,
   "metadata": {
    "kernel": "SoS",
    "papermill": {
     "duration": null,
     "end_time": null,
     "exception": null,
     "start_time": null,
     "status": "pending"
    },
    "tags": []
   },
   "outputs": [
    {
     "data": {
      "text/html": [
       "<div class=\"sos_hint\">Pulling image docker://ubuntu to ubuntu.sif</div>"
      ]
     },
     "metadata": {},
     "output_type": "display_data"
    },
    {
     "name": "stdout",
     "output_type": "stream",
     "text": [
      "\n",
      "ls /\n",
      "Users  boot  environment  home\tlib64  mnt  proc  run\tsingularity  sys  usr\n",
      "bin    dev   etc\t  lib\tmedia  opt  root  sbin\tsrv\t     tmp  var\n",
      "[    1.372208] reboot: Power down\n"
     ]
    }
   ],
   "source": [
    "run: container='docker://ubuntu', engine='singularity'\n",
    "  ls /"
   ]
  },
  {
   "cell_type": "markdown",
   "metadata": {
    "kernel": "SoS",
    "papermill": {
     "duration": null,
     "end_time": null,
     "exception": null,
     "start_time": null,
     "status": "pending"
    },
    "tags": []
   },
   "source": [
    "and you can use `container='ubuntu.sif'` directly if you have an exiting `ubuntu.sif` file"
   ]
  },
  {
   "cell_type": "code",
   "execution_count": 15,
   "metadata": {
    "kernel": "SoS",
    "papermill": {
     "duration": null,
     "end_time": null,
     "exception": null,
     "start_time": null,
     "status": "pending"
    },
    "tags": []
   },
   "outputs": [
    {
     "name": "stdout",
     "output_type": "stream",
     "text": [
      "ls /\n",
      "Users  boot  environment  home\tlib64  mnt  proc  run\tsingularity  sys  usr\n",
      "bin    dev   etc\t  lib\tmedia  opt  root  sbin\tsrv\t     tmp  var\n",
      "[    1.383944] reboot: Power down\n"
     ]
    }
   ],
   "source": [
    "run: container='ubuntu.sif'\n",
    "  ls /"
   ]
  },
  {
   "cell_type": "markdown",
   "metadata": {
    "kernel": "SoS"
   },
   "source": [
    "### Customize singularity image path\n",
    "\n",
    "By default, downloaded singularity images are saved to folder `~/.sos/singularity/library`. Environment variable `SOS_SINGULARITY_LIBRARY` can be used to set customized directory, eg,\n",
    "\n",
    "```bash\n",
    "export SOS_SINGULARITY_LIBRARY=/path/to/sif_folder\n",
    "```\n",
    "\n",
    "SoS will use `*.sif` files in `$SOS_SINGULARITY_LIBRARY` if they exist. As a result you can manually place existing image files to `$SOS_SINGULARITY_LIBRARY` to avoid download attempts. \n",
    "This is useful when for example a workflow runs on a compute node without internet access."
   ]
  },
  {
   "cell_type": "markdown",
   "metadata": {
    "kernel": "SoS",
    "papermill": {
     "duration": null,
     "end_time": null,
     "exception": null,
     "start_time": null,
     "status": "pending"
    },
    "tags": []
   },
   "source": [
    "### Binding directories (option `bind`)"
   ]
  },
  {
   "cell_type": "markdown",
   "metadata": {
    "kernel": "SoS",
    "papermill": {
     "duration": null,
     "end_time": null,
     "exception": null,
     "start_time": null,
     "status": "pending"
    },
    "tags": []
   },
   "source": [
    "A very useful feature about singularity is that you can use the container almost as a local command with access to local file system,"
   ]
  },
  {
   "cell_type": "code",
   "execution_count": 4,
   "metadata": {
    "kernel": "SoS",
    "papermill": {
     "duration": null,
     "end_time": null,
     "exception": null,
     "start_time": null,
     "status": "pending"
    },
    "tags": []
   },
   "outputs": [
    {
     "name": "stdout",
     "output_type": "stream",
     "text": [
      "wc -l ~/.bashrc\n",
      "171 /Users/bpeng1/.bashrc\n",
      "[    1.347007] reboot: Power down\n"
     ]
    }
   ],
   "source": [
    "run: container='ubuntu.sif'\n",
    "  wc -l ~/.bashrc"
   ]
  },
  {
   "cell_type": "markdown",
   "metadata": {
    "kernel": "SoS",
    "papermill": {
     "duration": null,
     "end_time": null,
     "exception": null,
     "start_time": null,
     "status": "pending"
    },
    "tags": []
   },
   "source": [
    "However, singularity only binds current working directory, `/tmp`, and your home directory. Other directories would be from within the image, or appear to be missing even if they exist on the host file system. For example, the following command lists `/usr/local` inside the image:"
   ]
  },
  {
   "cell_type": "code",
   "execution_count": 5,
   "metadata": {
    "kernel": "SoS",
    "papermill": {
     "duration": null,
     "end_time": null,
     "exception": null,
     "start_time": null,
     "status": "pending"
    },
    "tags": []
   },
   "outputs": [
    {
     "name": "stdout",
     "output_type": "stream",
     "text": [
      "ls /usr/local\n",
      "bin  etc  games  include  lib  man  sbin  share  src\n",
      "[    1.359987] reboot: Power down\n"
     ]
    }
   ],
   "source": [
    "run: container='ubuntu.sif'\n",
    "  ls /usr/local"
   ]
  },
  {
   "cell_type": "markdown",
   "metadata": {
    "kernel": "SoS",
    "papermill": {
     "duration": null,
     "end_time": null,
     "exception": null,
     "start_time": null,
     "status": "pending"
    },
    "tags": []
   },
   "source": [
    "and `/usr/local/var` would appear to be missing"
   ]
  },
  {
   "cell_type": "code",
   "execution_count": 6,
   "metadata": {
    "kernel": "SoS",
    "papermill": {
     "duration": null,
     "end_time": null,
     "exception": null,
     "start_time": null,
     "status": "pending"
    },
    "tags": []
   },
   "outputs": [
    {
     "name": "stdout",
     "output_type": "stream",
     "text": [
      "ls /usr/local/var\n",
      "ls: cannot access '/usr/local/var': No such file or directory\n",
      "[    1.367232] reboot: Power down\n"
     ]
    }
   ],
   "source": [
    "run: container='ubuntu.sif'\n",
    "  ls /usr/local/var"
   ]
  },
  {
   "cell_type": "markdown",
   "metadata": {
    "kernel": "SoS",
    "papermill": {
     "duration": null,
     "end_time": null,
     "exception": null,
     "start_time": null,
     "status": "pending"
    },
    "tags": []
   },
   "source": [
    "To allow singularity to see more directories, you can add one or more parameters to the `bind` parameter. For example, with `bind='/usr/local'`, the `singularity exec` command lists directory `/usr/local` from the host filesystem:"
   ]
  },
  {
   "cell_type": "code",
   "execution_count": 7,
   "metadata": {
    "kernel": "SoS",
    "papermill": {
     "duration": null,
     "end_time": null,
     "exception": null,
     "start_time": null,
     "status": "pending"
    },
    "tags": []
   },
   "outputs": [
    {
     "name": "stdout",
     "output_type": "stream",
     "text": [
      "ls /usr/local\n",
      "Caskroom  Frameworks  bin  include  lib      man  sbin\t texlive\n",
      "Cellar\t  Homebrew    etc  jamf     libexec  opt  share  var\n",
      "[    1.370214] reboot: Power down\n"
     ]
    }
   ],
   "source": [
    "run: container='ubuntu.sif', bind='/usr/local'\n",
    "  ls /usr/local"
   ]
  },
  {
   "cell_type": "markdown",
   "metadata": {
    "kernel": "SoS",
    "papermill": {
     "duration": null,
     "end_time": null,
     "exception": null,
     "start_time": null,
     "status": "pending"
    },
    "tags": []
   },
   "source": [
    "and we can see `/usr/local/var` actually exists"
   ]
  },
  {
   "cell_type": "code",
   "execution_count": 8,
   "metadata": {
    "kernel": "SoS",
    "papermill": {
     "duration": null,
     "end_time": null,
     "exception": null,
     "start_time": null,
     "status": "pending"
    },
    "tags": []
   },
   "outputs": [
    {
     "name": "stdout",
     "output_type": "stream",
     "text": [
      "ls /usr/local/var\n",
      "cache  db  homebrew  log  run\n",
      "[    4.705033] reboot: Power down\n"
     ]
    }
   ],
   "source": [
    "run: container='ubuntu.sif', bind='/usr/local'\n",
    "  ls /usr/local/var"
   ]
  },
  {
   "cell_type": "markdown",
   "metadata": {
    "kernel": "SoS",
    "papermill": {
     "duration": null,
     "end_time": null,
     "exception": null,
     "start_time": null,
     "status": "pending"
    },
    "tags": []
   },
   "source": [
    "Parameter `bind` accepts `host_dir:img_dir` pairs to mount `host_dir` from host as `img_dir` seen by the image"
   ]
  },
  {
   "cell_type": "code",
   "execution_count": 10,
   "metadata": {
    "kernel": "SoS",
    "papermill": {
     "duration": null,
     "end_time": null,
     "exception": null,
     "start_time": null,
     "status": "pending"
    },
    "tags": []
   },
   "outputs": [],
   "source": [
    "%run -v1\n",
    "run: container='ubuntu.sif', bind='/usr/local/var:/myvar'\n",
    "  ls /myvar"
   ]
  },
  {
   "cell_type": "markdown",
   "metadata": {
    "kernel": "SoS",
    "papermill": {
     "duration": null,
     "end_time": null,
     "exception": null,
     "start_time": null,
     "status": "pending"
    },
    "tags": []
   },
   "source": [
    "## Building singularity images"
   ]
  },
  {
   "cell_type": "markdown",
   "metadata": {
    "kernel": "SoS",
    "papermill": {
     "duration": null,
     "end_time": null,
     "exception": null,
     "start_time": null,
     "status": "pending"
    },
    "tags": []
   },
   "source": [
    "### Action `singularity_build` <a id=\"singularity_build\"></a>"
   ]
  },
  {
   "cell_type": "markdown",
   "metadata": {
    "kernel": "SoS"
   },
   "source": [
    "<b style='color:red'>This option does not work on mac due to perhaps a platform limitation</b>"
   ]
  },
  {
   "cell_type": "markdown",
   "metadata": {
    "kernel": "SoS",
    "papermill": {
     "duration": null,
     "end_time": null,
     "exception": null,
     "start_time": null,
     "status": "pending"
    },
    "tags": []
   },
   "source": [
    "Action `singularity_build` calls command `singularity build` with appropriate command line options. The SoS equivalence of the example in the singularity user's guide\n",
    "\n",
    "```\n",
    "singularity build lolcow.sif shub://GodloveD/lolcow\n",
    "```\n",
    "is the `singularity_build` action with options `src` and `dest`:"
   ]
  },
  {
   "cell_type": "code",
   "execution_count": 5,
   "metadata": {
    "kernel": "SoS",
    "papermill": {
     "duration": null,
     "end_time": null,
     "exception": null,
     "start_time": null,
     "status": "pending"
    },
    "tags": []
   },
   "outputs": [
    {
     "name": "stdout",
     "output_type": "stream",
     "text": [
      "\u001b[31mFATAL:  \u001b[0m Only remote builds are supported on this platform\n"
     ]
    },
    {
     "ename": "ExecuteError",
     "evalue": "[0]: To reproduce this error please run \n  /usr/local/bin/singularity build lolcow.sif library://GodloveD/lolcow\nfrom command line",
     "execution_count": 5,
     "output_type": "error",
     "status": "error",
     "traceback": [
      "\u001b[91m[0]: To reproduce this error please run \n  /usr/local/bin/singularity build lolcow.sif library://GodloveD/lolcow\nfrom command line\u001b[0m"
     ]
    }
   ],
   "source": [
    "singularity_build(src='library://GodloveD/lolcow', dest='lolcow.sif')"
   ]
  },
  {
   "cell_type": "markdown",
   "metadata": {
    "kernel": "SoS",
    "papermill": {
     "duration": null,
     "end_time": null,
     "exception": null,
     "start_time": null,
     "status": "pending"
    },
    "tags": []
   },
   "source": [
    "As you can see from the warning message, you are recommended to build the image with root privilege. In this case, you can add option `sudo=True` when you are certain that the user is in SUDO (no password) mode:"
   ]
  },
  {
   "cell_type": "code",
   "execution_count": null,
   "metadata": {
    "kernel": "SoS",
    "papermill": {
     "duration": null,
     "end_time": null,
     "exception": null,
     "start_time": null,
     "status": "pending"
    },
    "tags": []
   },
   "outputs": [],
   "source": [
    "singularity_build(src='shub://GodloveD/lolcow', dest='lolcow_sudo.simg', sudo=True)"
   ]
  },
  {
   "cell_type": "markdown",
   "metadata": {
    "kernel": "SoS",
    "papermill": {
     "duration": null,
     "end_time": null,
     "exception": null,
     "start_time": null,
     "status": "pending"
    },
    "tags": []
   },
   "source": [
    "You can also use action `singularity_build` to build an image from a singularity definition file. Using an example from the user's guide:"
   ]
  },
  {
   "cell_type": "code",
   "execution_count": 1,
   "metadata": {
    "kernel": "SoS",
    "papermill": {
     "duration": null,
     "end_time": null,
     "exception": null,
     "start_time": null,
     "status": "pending"
    },
    "tags": []
   },
   "outputs": [
    {
     "name": "stdout",
     "output_type": "stream",
     "text": [
      "\u001b[31mFATAL:  \u001b[0m Only remote builds are supported on this platform\n"
     ]
    },
    {
     "ename": "ExecuteError",
     "evalue": "[0]: \n---------------------------------------------------------------------------\nFileNotFoundError                         Traceback (most recent call last)\nscript_2496832107755593776 in <module>\n----> singularity_build('Bootstrap: docker\\nFrom: ubuntu:16.04\\n%post\\n    apt-get -y update\\n    apt-get -y install fortune cowsay lolcat\\n%environment\\n    export LC_ALL=C\\n    export PATH=/usr/games:$PATH\\n%runscript\\n    fortune | cowsay | lolcat \\n', dest='lolcow.sif', sudo=True)\n      \n\nFileNotFoundError: 2",
     "execution_count": 1,
     "output_type": "error",
     "status": "error",
     "traceback": [
      "\u001b[91m[0]: \n---------------------------------------------------------------------------\nFileNotFoundError                         Traceback (most recent call last)\nscript_2496832107755593776 in <module>\n----> singularity_build('Bootstrap: docker\\nFrom: ubuntu:16.04\\n%post\\n    apt-get -y update\\n    apt-get -y install fortune cowsay lolcat\\n%environment\\n    export LC_ALL=C\\n    export PATH=/usr/games:$PATH\\n%runscript\\n    fortune | cowsay | lolcat \\n', dest='lolcow.sif', sudo=True)\n      \n\nFileNotFoundError: 2\u001b[0m"
     ]
    }
   ],
   "source": [
    "singularity_build: dest='lolcow.sif', sudo=True\n",
    "    Bootstrap: docker\n",
    "    From: ubuntu:16.04\n",
    "    %post\n",
    "        apt-get -y update\n",
    "        apt-get -y install fortune cowsay lolcat\n",
    "    %environment\n",
    "        export LC_ALL=C\n",
    "        export PATH=/usr/games:$PATH\n",
    "    %runscript\n",
    "        fortune | cowsay | lolcat "
   ]
  },
  {
   "cell_type": "markdown",
   "metadata": {
    "kernel": "SoS",
    "papermill": {
     "duration": null,
     "end_time": null,
     "exception": null,
     "start_time": null,
     "status": "pending"
    },
    "tags": []
   },
   "source": [
    "Options such as `notest=True` could be add to the action. Note that the content of the definition file is indented for  clarify, but you can include the file as it is (no indentation)."
   ]
  },
  {
   "cell_type": "markdown",
   "metadata": {
    "kernel": "SoS",
    "tags": []
   },
   "source": [
    "## Further reading\n",
    "* [Using docker with SoS](docker.html)\n",
    "* [SoS actions](sos_actions.html)"
   ]
  }
 ],
 "metadata": {
  "anaconda-cloud": {},
  "kernelspec": {
   "display_name": "SoS",
   "language": "sos",
   "name": "sos"
  },
  "language_info": {
   "codemirror_mode": "sos",
   "file_extension": ".sos",
   "mimetype": "text/x-sos",
   "name": "sos",
   "nbconvert_exporter": "sos_notebook.converter.SoS_Exporter",
   "pygments_lexer": "sos"
  },
  "papermill": {
   "duration": 18.47675,
   "end_time": "2019-12-23T17:06:03.572458",
   "environment_variables": {},
   "exception": true,
   "input_path": "/Users/bpeng1/sos/sos-docs/src/user_guide/singularity.ipynb",
   "output_path": "singularity.ipynb_rerun.ipynb",
   "parameters": {},
   "start_time": "2019-12-23T17:05:45.095708",
   "version": "1.1.0"
  },
  "sos": {
   "default_kernel": "SoS",
   "kernels": [
    [
     "SoS",
     "sos",
     "",
     ""
    ]
   ],
   "panel": {
    "displayed": true,
    "height": 0,
    "style": "side"
   },
   "version": "0.21.0"
  }
 },
 "nbformat": 4,
 "nbformat_minor": 4
}
