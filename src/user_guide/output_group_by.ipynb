{
 "cells": [
  {
   "cell_type": "markdown",
   "metadata": {
    "kernel": "SoS",
    "papermill": {
     "duration": 0.008267,
     "end_time": "2019-12-23T17:03:49.974516",
     "exception": false,
     "start_time": "2019-12-23T17:03:49.966249",
     "status": "completed"
    },
    "tags": []
   },
   "source": [
    "# Pre-defined output groups"
   ]
  },
  {
   "cell_type": "markdown",
   "metadata": {
    "kernel": "SoS",
    "papermill": {
     "duration": 0.006666,
     "end_time": "2019-12-23T17:03:49.988085",
     "exception": false,
     "start_time": "2019-12-23T17:03:49.981419",
     "status": "completed"
    },
    "tags": []
   },
   "source": [
    "* **Difficulty level**: easy\n",
    "* **Time need to lean**: 5 minutes or less\n",
    "* **Key points**:\n",
    "  * Option `group_by` of `output` statement defines `_output` for all substeps\n",
    "  "
   ]
  },
  {
   "cell_type": "markdown",
   "metadata": {
    "kernel": "SoS",
    "papermill": {
     "duration": 0.006473,
     "end_time": "2019-12-23T17:03:50.000875",
     "exception": false,
     "start_time": "2019-12-23T17:03:49.994402",
     "status": "completed"
    },
    "tags": []
   },
   "source": [
    "## Option `group_by` of `output` statement"
   ]
  },
  {
   "cell_type": "markdown",
   "metadata": {
    "kernel": "SoS",
    "papermill": {
     "duration": 0.006431,
     "end_time": "2019-12-23T17:03:50.013750",
     "exception": false,
     "start_time": "2019-12-23T17:03:50.007319",
     "status": "completed"
    },
    "tags": []
   },
   "source": [
    "The output statement defines `_output`, not `step_output`, which is accumulated from `_output`. When we have a set of input files, we usually define output from `_input` as follows:"
   ]
  },
  {
   "cell_type": "code",
   "execution_count": 1,
   "metadata": {
    "kernel": "SoS",
    "papermill": {
     "duration": 3.459052,
     "end_time": "2019-12-23T17:03:53.479473",
     "exception": false,
     "start_time": "2019-12-23T17:03:50.020421",
     "status": "completed"
    },
    "tags": []
   },
   "outputs": [
    {
     "name": "stdout",
     "output_type": "stream",
     "text": [
      "\u001b[32m[\u001b[0m\u001b[32m#\u001b[0m\u001b[32m]\u001b[0m 1 step processed (2 jobs completed)\n"
     ]
    }
   ],
   "source": [
    "!touch a.txt b.txt\n",
    "%run -s force -v0\n",
    "\n",
    "txt_files = ['a.txt', 'b.txt']\n",
    "\n",
    "input: txt_files, group_by=1\n",
    "output: _input.with_suffix('.bak')\n",
    "\n",
    "print(f'Input of substep is {_input}, output of substep is {_output}')\n",
    "_output.touch()"
   ]
  },
  {
   "cell_type": "markdown",
   "metadata": {
    "kernel": "SoS",
    "papermill": {
     "duration": 0.007071,
     "end_time": "2019-12-23T17:03:53.494362",
     "exception": false,
     "start_time": "2019-12-23T17:03:53.487291",
     "status": "completed"
    },
    "tags": []
   },
   "source": [
    "However, there are cases that input and output files are pre-specified so it is not easy to define `_output` from `_input`, and you may have to use an variable `_index` as follows"
   ]
  },
  {
   "cell_type": "code",
   "execution_count": 2,
   "metadata": {
    "kernel": "SoS",
    "papermill": {
     "duration": 2.576885,
     "end_time": "2019-12-23T17:03:56.078763",
     "exception": false,
     "start_time": "2019-12-23T17:03:53.501878",
     "status": "completed"
    },
    "tags": []
   },
   "outputs": [
    {
     "name": "stdout",
     "output_type": "stream",
     "text": [
      "Input of substep is a.txt, output of substep is ied.bak\n"
     ]
    },
    {
     "name": "stdout",
     "output_type": "stream",
     "text": [
      "Input of substep is b.txt, output of substep is cke.bak\n"
     ]
    }
   ],
   "source": [
    "%run -s force -v1\n",
    "\n",
    "txt_files = ['a.txt', 'b.txt']\n",
    "bak_files = ['ied.bak', 'cke.bak']\n",
    "\n",
    "input: txt_files, group_by=1\n",
    "output: bak_files[_index]\n",
    "\n",
    "print(f'Input of substep is {_input}, output of substep is {_output}')\n",
    "_output.touch()"
   ]
  },
  {
   "cell_type": "markdown",
   "metadata": {
    "kernel": "SoS",
    "papermill": {
     "duration": 0.008941,
     "end_time": "2019-12-23T17:03:56.096978",
     "exception": false,
     "start_time": "2019-12-23T17:03:56.088037",
     "status": "completed"
    },
    "tags": []
   },
   "source": [
    "In this case it is easier to specify all output files, and use output option `group_by` to define `_output` for all substeps."
   ]
  },
  {
   "cell_type": "code",
   "execution_count": 3,
   "metadata": {
    "kernel": "SoS",
    "papermill": {
     "duration": 2.731811,
     "end_time": "2019-12-23T17:03:58.837485",
     "exception": false,
     "start_time": "2019-12-23T17:03:56.105674",
     "status": "completed"
    },
    "tags": []
   },
   "outputs": [
    {
     "name": "stdout",
     "output_type": "stream",
     "text": [
      "Input of substep is a.txt, output of substep is ied.bak\n"
     ]
    },
    {
     "name": "stdout",
     "output_type": "stream",
     "text": [
      "Input of substep is b.txt, output of substep is cke.bak\n"
     ]
    }
   ],
   "source": [
    "%run -s force -v1\n",
    "\n",
    "txt_files = ['a.txt', 'b.txt']\n",
    "bak_files = ['ied.bak', 'cke.bak']\n",
    "\n",
    "input: txt_files, group_by=1\n",
    "output: bak_files, group_by=1\n",
    "\n",
    "print(f'Input of substep is {_input}, output of substep is {_output}')\n",
    "_output.touch()"
   ]
  },
  {
   "cell_type": "markdown",
   "metadata": {
    "kernel": "SoS",
    "papermill": {
     "duration": 0.009436,
     "end_time": "2019-12-23T17:03:58.855704",
     "exception": false,
     "start_time": "2019-12-23T17:03:58.846268",
     "status": "completed"
    },
    "tags": []
   },
   "source": [
    "## Further reading\n",
    "\n",
    "* [`output` statement](output_statement.html)"
   ]
  },
  {
   "cell_type": "code",
   "execution_count": null,
   "metadata": {
    "kernel": "SoS",
    "papermill": {
     "duration": 0.008678,
     "end_time": "2019-12-23T17:03:58.873152",
     "exception": false,
     "start_time": "2019-12-23T17:03:58.864474",
     "status": "completed"
    },
    "tags": []
   },
   "outputs": [],
   "source": []
  }
 ],
 "metadata": {
  "kernelspec": {
   "display_name": "SoS",
   "language": "sos",
   "name": "sos"
  },
  "language_info": {
   "codemirror_mode": "sos",
   "file_extension": ".sos",
   "mimetype": "text/x-sos",
   "name": "sos",
   "nbconvert_exporter": "sos_notebook.converter.SoS_Exporter",
   "pygments_lexer": "sos"
  },
  "papermill": {
   "duration": 16.582468,
   "end_time": "2019-12-23T17:04:04.085131",
   "environment_variables": {},
   "exception": null,
   "input_path": "/Users/bpeng1/sos/sos-docs/src/user_guide/output_group_by.ipynb",
   "output_path": "output_group_by.ipynb_rerun.ipynb",
   "parameters": {},
   "start_time": "2019-12-23T17:03:47.502663",
   "version": "1.1.0"
  },
  "sos": {
   "kernels": [
    [
     "Bash",
     "bash",
     "Bash",
     "#E6EEFF"
    ],
    [
     "R",
     "ir",
     "R",
     "#DCDCDA"
    ],
    [
     "SoS",
     "sos",
     "",
     ""
    ]
   ],
   "panel": {
    "displayed": true,
    "height": 0
   },
   "version": "0.21.2"
  }
 },
 "nbformat": 4,
 "nbformat_minor": 4
}