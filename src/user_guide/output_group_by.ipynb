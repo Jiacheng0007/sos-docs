{
 "cells": [
  {
   "cell_type": "markdown",
   "metadata": {
    "kernel": "SoS",
    "tags": []
   },
   "source": [
    "# Pre-defined output groups"
   ]
  },
  {
   "cell_type": "markdown",
   "metadata": {
    "kernel": "SoS",
    "tags": []
   },
   "source": [
    "* **Difficulty level**: easy\n",
    "* **Time need to lean**: 5 minutes or less\n",
    "* **Key points**:\n",
    "  * Option `group_by` of `output` statement defines `_output` for all substeps\n",
    "  "
   ]
  },
  {
   "cell_type": "markdown",
   "metadata": {
    "kernel": "SoS",
    "tags": []
   },
   "source": [
    "## Option `group_by` of `output` statement"
   ]
  },
  {
   "cell_type": "markdown",
   "metadata": {
    "kernel": "SoS",
    "tags": []
   },
   "source": [
    "The output statement defines `_output`, not `step_output`, which is accumulated from `_output`. When we have a set of input files, we usually define output from `_input` as follows:"
   ]
  },
  {
   "cell_type": "code",
   "execution_count": 1,
   "metadata": {
    "kernel": "SoS",
    "tags": []
   },
   "outputs": [
    {
     "name": "stdout",
     "output_type": "stream",
     "text": [
      "\u001b[32m[\u001b[0m\u001b[32m#\u001b[0m\u001b[32m]\u001b[0m 1 step processed (2 jobs completed)\n"
     ]
    }
   ],
   "source": [
    "!touch a.txt b.txt\n",
    "%run -s force -v0\n",
    "\n",
    "txt_files = ['a.txt', 'b.txt']\n",
    "\n",
    "input: txt_files, group_by=1\n",
    "output: _input.with_suffix('.bak')\n",
    "\n",
    "print(f'Input of substep is {_input}, output of substep is {_output}')\n",
    "_output.touch()"
   ]
  },
  {
   "cell_type": "markdown",
   "metadata": {
    "kernel": "SoS",
    "tags": []
   },
   "source": [
    "However, there are cases that input and output files are pre-specified so it is not easy to define `_output` from `_input`, and you may have to use an variable `_index` as follows"
   ]
  },
  {
   "cell_type": "code",
   "execution_count": 2,
   "metadata": {
    "kernel": "SoS",
    "tags": []
   },
   "outputs": [
    {
     "name": "stdout",
     "output_type": "stream",
     "text": [
      "Input of substep is a.txt, output of substep is ied.bak\n"
     ]
    },
    {
     "name": "stdout",
     "output_type": "stream",
     "text": [
      "Input of substep is b.txt, output of substep is cke.bak\n"
     ]
    }
   ],
   "source": [
    "%run -s force -v1\n",
    "\n",
    "txt_files = ['a.txt', 'b.txt']\n",
    "bak_files = ['ied.bak', 'cke.bak']\n",
    "\n",
    "input: txt_files, group_by=1\n",
    "output: bak_files[_index]\n",
    "\n",
    "print(f'Input of substep is {_input}, output of substep is {_output}')\n",
    "_output.touch()"
   ]
  },
  {
   "cell_type": "markdown",
   "metadata": {
    "kernel": "SoS",
    "tags": []
   },
   "source": [
    "In this case it is easier to specify all output files, and use output option `group_by` to define `_output` for all substeps."
   ]
  },
  {
   "cell_type": "code",
   "execution_count": 3,
   "metadata": {
    "kernel": "SoS",
    "tags": []
   },
   "outputs": [
    {
     "name": "stdout",
     "output_type": "stream",
     "text": [
      "Input of substep is a.txt, output of substep is ied.bak\n"
     ]
    },
    {
     "name": "stdout",
     "output_type": "stream",
     "text": [
      "Input of substep is b.txt, output of substep is cke.bak\n"
     ]
    }
   ],
   "source": [
    "%run -s force -v1\n",
    "\n",
    "txt_files = ['a.txt', 'b.txt']\n",
    "bak_files = ['ied.bak', 'cke.bak']\n",
    "\n",
    "input: txt_files, group_by=1\n",
    "output: bak_files, group_by=1\n",
    "\n",
    "print(f'Input of substep is {_input}, output of substep is {_output}')\n",
    "_output.touch()"
   ]
  },
  {
   "cell_type": "markdown",
   "metadata": {
    "kernel": "SoS",
    "tags": []
   },
   "source": [
    "## Further reading\n",
    "\n",
    "* [`output` statement](output_statement.html)"
   ]
  },
  {
   "cell_type": "code",
   "execution_count": null,
   "metadata": {
    "kernel": "SoS",
    "tags": []
   },
   "outputs": [],
   "source": []
  }
 ],
 "metadata": {
  "kernelspec": {
   "display_name": "SoS",
   "language": "sos",
   "name": "sos"
  },
  "language_info": {
   "codemirror_mode": "sos",
   "file_extension": ".sos",
   "mimetype": "text/x-sos",
   "name": "sos",
   "nbconvert_exporter": "sos_notebook.converter.SoS_Exporter",
   "pygments_lexer": "sos"
  },
  "sos": {
   "kernels": [
    [
     "Bash",
     "bash",
     "Bash",
     "#E6EEFF"
    ],
    [
     "R",
     "ir",
     "R",
     "#DCDCDA"
    ],
    [
     "SoS",
     "sos",
     "",
     ""
    ]
   ],
   "panel": {
    "displayed": true,
    "height": 0
   },
   "version": "0.21.2"
  }
 },
 "nbformat": 4,
 "nbformat_minor": 4
}
