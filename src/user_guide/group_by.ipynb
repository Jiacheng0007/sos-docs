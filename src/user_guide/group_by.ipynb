{
 "cells": [
  {
   "cell_type": "markdown",
   "metadata": {
    "kernel": "SoS",
    "papermill": {
     "duration": 0.032181,
     "end_time": "2019-12-23T17:01:44.543032",
     "exception": false,
     "start_time": "2019-12-23T17:01:44.510851",
     "status": "completed"
    },
    "tags": []
   },
   "source": [
    "# How to process input files in groups"
   ]
  },
  {
   "cell_type": "markdown",
   "metadata": {
    "kernel": "SoS",
    "papermill": {
     "duration": 0.019313,
     "end_time": "2019-12-23T17:01:44.582195",
     "exception": false,
     "start_time": "2019-12-23T17:01:44.562882",
     "status": "completed"
    },
    "tags": []
   },
   "source": [
    "* **Difficulty level**: intermediate\n",
    "* **Time need to lean**: 20 minutes or less\n",
    "* **Key points**:\n",
    "  * Option `group_by` creates groups (subsets) of input targets\n",
    "  * Groups are persistent and can be passed from step to step  "
   ]
  },
  {
   "cell_type": "markdown",
   "metadata": {
    "kernel": "SoS",
    "papermill": {
     "duration": 0.01889,
     "end_time": "2019-12-23T17:01:44.619813",
     "exception": false,
     "start_time": "2019-12-23T17:01:44.600923",
     "status": "completed"
    },
    "tags": []
   },
   "source": [
    "## Parameter `group_by` and substeps"
   ]
  },
  {
   "cell_type": "markdown",
   "metadata": {
    "kernel": "SoS",
    "papermill": {
     "duration": 0.020885,
     "end_time": "2019-12-23T17:01:44.659466",
     "exception": false,
     "start_time": "2019-12-23T17:01:44.638581",
     "status": "completed"
    },
    "tags": []
   },
   "source": [
    "By default all input targets are processed all at once by the step. If you need to process input files one by one or in pair, you can define **substeps** that basically applies the step to subgroups of input targets, represented by variable `_input`.\n",
    "\n",
    "In the trivial case when all input targets are processed together, `_input` is the same as `step_input`."
   ]
  },
  {
   "cell_type": "code",
   "execution_count": 1,
   "metadata": {
    "kernel": "SoS",
    "papermill": {
     "duration": 0.334404,
     "end_time": "2019-12-23T17:01:45.013640",
     "exception": false,
     "start_time": "2019-12-23T17:01:44.679236",
     "status": "completed"
    },
    "tags": []
   },
   "outputs": [
    {
     "name": "stdout",
     "output_type": "stream",
     "text": [
      "step input is a.txt b.txt"
     ]
    },
    {
     "name": "stdout",
     "output_type": "stream",
     "text": [
      "\n"
     ]
    },
    {
     "name": "stdout",
     "output_type": "stream",
     "text": [
      "substep input is a.txt b.txt"
     ]
    },
    {
     "name": "stdout",
     "output_type": "stream",
     "text": [
      "\n"
     ]
    }
   ],
   "source": [
    "input: 'a.txt', 'b.txt'\n",
    "print(f'step input is {step_input}')\n",
    "print(f'substep input is {_input}')"
   ]
  },
  {
   "cell_type": "markdown",
   "metadata": {
    "kernel": "SoS",
    "papermill": {
     "duration": 0.020713,
     "end_time": "2019-12-23T17:01:45.055581",
     "exception": false,
     "start_time": "2019-12-23T17:01:45.034868",
     "status": "completed"
    },
    "tags": []
   },
   "source": [
    "Using option `group_by`, you can group the input targets in a number of ways, the easiest being group by `1`:"
   ]
  },
  {
   "cell_type": "code",
   "execution_count": 2,
   "metadata": {
    "kernel": "SoS",
    "papermill": {
     "duration": 0.068024,
     "end_time": "2019-12-23T17:01:45.144526",
     "exception": false,
     "start_time": "2019-12-23T17:01:45.076502",
     "status": "completed"
    },
    "tags": []
   },
   "outputs": [
    {
     "name": "stdout",
     "output_type": "stream",
     "text": [
      "input of step is a.txt b.txt\n",
      "input of substep 0 is a.txt\n"
     ]
    },
    {
     "name": "stdout",
     "output_type": "stream",
     "text": [
      "input of step is a.txt b.txt\n",
      "input of substep 1 is b.txt\n"
     ]
    }
   ],
   "source": [
    "input: 'a.txt', 'b.txt', group_by=1\n",
    "print(f'input of step is {step_input}')\n",
    "print(f'input of substep {_index} is {_input}')"
   ]
  },
  {
   "cell_type": "markdown",
   "metadata": {
    "kernel": "SoS",
    "papermill": {
     "duration": 0.024816,
     "end_time": "2019-12-23T17:01:45.190710",
     "exception": false,
     "start_time": "2019-12-23T17:01:45.165894",
     "status": "completed"
    },
    "tags": []
   },
   "source": [
    "As you can see, the step process is now executed twice. Whereas the `step_input` is the same for both substeps, `_input` is `a.txt` for the first substep, and `b.txt` for the second substep. Here we used an internal variable `_index` to show the index of the substep."
   ]
  },
  {
   "cell_type": "markdown",
   "metadata": {
    "kernel": "SoS",
    "papermill": {
     "duration": 0.022953,
     "end_time": "2019-12-23T17:01:45.236671",
     "exception": false,
     "start_time": "2019-12-23T17:01:45.213718",
     "status": "completed"
    },
    "tags": []
   },
   "source": [
    "SoS allows you to group input in a number of ways:\n",
    "\n",
    "| option | group by |\n",
    "| --- | --- |\n",
    "| `all` | all in a single group, the default |\n",
    "| `single` | individual target |\n",
    "| `pairs` | match first half of files with the second half, take one from each half each time |\n",
    "| `combinations` | all unordered combinations of 2-sets |\n",
    "| `pairwise` | all adjacent 2-sets |\n",
    "| `label` | by labels of input |\n",
    "| `pairsource` | pair input files by their sources and take one from each source each time |\n",
    "| `N` = `1`, `2`, ... | chunks of size `N` |\n",
    "| `pairsN`, `N`=`2`, `3`, ... | match first half of files with the second half, take `N` from each half each time | \n",
    "| `pairlabelN`, `N`=`2`, `3`, ... | pair input files by their labels and take `N` from each label (if equal size) each time |\n",
    "| `pairwiseN`, `N`=`2`, `3`, ...| all adjacent 2-sets, but each set has `N` items |\n",
    "| `combinationsN`, `N`=`2`, `3`, ... | all unorderd combinations of `N` items |\n",
    "| function (e.g. `lamba x: ...`) | a function that returns groups of inputs |"
   ]
  },
  {
   "cell_type": "markdown",
   "metadata": {
    "kernel": "SoS",
    "papermill": {
     "duration": 0.0223,
     "end_time": "2019-12-23T17:01:45.283496",
     "exception": false,
     "start_time": "2019-12-23T17:01:45.261196",
     "status": "completed"
    },
    "tags": []
   },
   "source": [
    "### Group by order of input targets"
   ]
  },
  {
   "cell_type": "markdown",
   "metadata": {
    "kernel": "SoS",
    "papermill": {
     "duration": 0.023096,
     "end_time": "2019-12-23T17:01:45.328236",
     "exception": false,
     "start_time": "2019-12-23T17:01:45.305140",
     "status": "completed"
    },
    "tags": []
   },
   "source": [
    "You can group input targets in many different combinations based on their order in input list. For exmple, with the following sos script, the input are groups pairwisely:"
   ]
  },
  {
   "cell_type": "code",
   "execution_count": 3,
   "metadata": {
    "kernel": "SoS",
    "papermill": {
     "duration": 0.944099,
     "end_time": "2019-12-23T17:01:46.299408",
     "exception": false,
     "start_time": "2019-12-23T17:01:45.355309",
     "status": "completed"
    },
    "tags": []
   },
   "outputs": [
    {
     "name": "stdout",
     "output_type": "stream",
     "text": [
      "file1 file2\n"
     ]
    },
    {
     "name": "stdout",
     "output_type": "stream",
     "text": [
      "file2 file3\n"
     ]
    },
    {
     "name": "stdout",
     "output_type": "stream",
     "text": [
      "file3 file4\n"
     ]
    }
   ],
   "source": [
    "!touch file1 file2 file3 file4\n",
    "\n",
    "input: 'file1', 'file2', 'file3', 'file4', group_by='pairwise'\n",
    "print(f\"{_input}\")"
   ]
  },
  {
   "cell_type": "markdown",
   "metadata": {
    "kernel": "SoS",
    "papermill": {
     "duration": 0.030157,
     "end_time": "2019-12-23T17:01:46.359386",
     "exception": false,
     "start_time": "2019-12-23T17:01:46.329229",
     "status": "completed"
    },
    "tags": []
   },
   "source": [
    "To demonstrate more acceptable values, the following example uses `sos_run` action to execute this a step with different grouping method."
   ]
  },
  {
   "cell_type": "code",
   "execution_count": 4,
   "metadata": {
    "kernel": "SoS",
    "papermill": {
     "duration": 7.137814,
     "end_time": "2019-12-23T17:01:53.531465",
     "exception": false,
     "start_time": "2019-12-23T17:01:46.393651",
     "status": "completed"
    },
    "tags": []
   },
   "outputs": [
    {
     "name": "stdout",
     "output_type": "stream",
     "text": [
      "\n"
     ]
    },
    {
     "name": "stdout",
     "output_type": "stream",
     "text": [
      "group_by=1\n"
     ]
    },
    {
     "name": "stdout",
     "output_type": "stream",
     "text": [
      "0: file1\n"
     ]
    },
    {
     "name": "stdout",
     "output_type": "stream",
     "text": [
      "1: file2\n"
     ]
    },
    {
     "name": "stdout",
     "output_type": "stream",
     "text": [
      "2: file3\n"
     ]
    },
    {
     "name": "stdout",
     "output_type": "stream",
     "text": [
      "3: file4\n"
     ]
    },
    {
     "name": "stdout",
     "output_type": "stream",
     "text": [
      "\n"
     ]
    },
    {
     "name": "stdout",
     "output_type": "stream",
     "text": [
      "group_by=2\n"
     ]
    },
    {
     "name": "stdout",
     "output_type": "stream",
     "text": [
      "0: file1 file2\n"
     ]
    },
    {
     "name": "stdout",
     "output_type": "stream",
     "text": [
      "1: file3 file4\n"
     ]
    },
    {
     "name": "stdout",
     "output_type": "stream",
     "text": [
      "\n"
     ]
    },
    {
     "name": "stdout",
     "output_type": "stream",
     "text": [
      "group_by=single\n"
     ]
    },
    {
     "name": "stdout",
     "output_type": "stream",
     "text": [
      "0: file1\n"
     ]
    },
    {
     "name": "stdout",
     "output_type": "stream",
     "text": [
      "1: file2\n"
     ]
    },
    {
     "name": "stdout",
     "output_type": "stream",
     "text": [
      "2: file3\n"
     ]
    },
    {
     "name": "stdout",
     "output_type": "stream",
     "text": [
      "3: file4\n"
     ]
    },
    {
     "name": "stdout",
     "output_type": "stream",
     "text": [
      "\n"
     ]
    },
    {
     "name": "stdout",
     "output_type": "stream",
     "text": [
      "group_by=pairs\n"
     ]
    },
    {
     "name": "stdout",
     "output_type": "stream",
     "text": [
      "0: file1 file3\n"
     ]
    },
    {
     "name": "stdout",
     "output_type": "stream",
     "text": [
      "1: file2 file4\n"
     ]
    },
    {
     "name": "stdout",
     "output_type": "stream",
     "text": [
      "\n"
     ]
    },
    {
     "name": "stdout",
     "output_type": "stream",
     "text": [
      "group_by=pairwise\n"
     ]
    },
    {
     "name": "stdout",
     "output_type": "stream",
     "text": [
      "0: file1 file2\n"
     ]
    },
    {
     "name": "stdout",
     "output_type": "stream",
     "text": [
      "1: file2 file3\n"
     ]
    },
    {
     "name": "stdout",
     "output_type": "stream",
     "text": [
      "2: file3 file4\n"
     ]
    },
    {
     "name": "stdout",
     "output_type": "stream",
     "text": [
      "\n"
     ]
    },
    {
     "name": "stdout",
     "output_type": "stream",
     "text": [
      "group_by=combinations\n"
     ]
    },
    {
     "name": "stdout",
     "output_type": "stream",
     "text": [
      "0: file1 file2\n"
     ]
    },
    {
     "name": "stdout",
     "output_type": "stream",
     "text": [
      "1: file1 file3\n"
     ]
    },
    {
     "name": "stdout",
     "output_type": "stream",
     "text": [
      "2: file1 file4\n"
     ]
    },
    {
     "name": "stdout",
     "output_type": "stream",
     "text": [
      "3: file2 file3\n"
     ]
    },
    {
     "name": "stdout",
     "output_type": "stream",
     "text": [
      "4: file2 file4\n"
     ]
    },
    {
     "name": "stdout",
     "output_type": "stream",
     "text": [
      "5: file3 file4\n"
     ]
    },
    {
     "name": "stdout",
     "output_type": "stream",
     "text": [
      "\n"
     ]
    },
    {
     "name": "stdout",
     "output_type": "stream",
     "text": [
      "group_by=combinations3\n"
     ]
    },
    {
     "name": "stdout",
     "output_type": "stream",
     "text": [
      "0: file1 file2 file3\n"
     ]
    },
    {
     "name": "stdout",
     "output_type": "stream",
     "text": [
      "1: file1 file2 file4\n"
     ]
    },
    {
     "name": "stdout",
     "output_type": "stream",
     "text": [
      "2: file1 file3 file4\n"
     ]
    },
    {
     "name": "stdout",
     "output_type": "stream",
     "text": [
      "3: file2 file3 file4\n"
     ]
    }
   ],
   "source": [
    "!touch file1 file2 file3 file4\n",
    "%run -v1\n",
    "\n",
    "[group]\n",
    "parameter: group = str\n",
    "print(f\"\\ngroup_by={group}\")\n",
    "input: 'file1', 'file2', 'file3', 'file4', group_by=group\n",
    "print(f\"{_index}: {_input}\")\n",
    "\n",
    "[default]\n",
    "sos_run('group', group=1)\n",
    "sos_run('group', group=2)\n",
    "sos_run('group', group='single')\n",
    "sos_run('group', group='pairs')\n",
    "sos_run('group', group='pairwise')\n",
    "sos_run('group', group='combinations')\n",
    "sos_run('group', group='combinations3')"
   ]
  },
  {
   "cell_type": "markdown",
   "metadata": {
    "kernel": "SoS",
    "papermill": {
     "duration": 0.03526,
     "end_time": "2019-12-23T17:01:53.603673",
     "exception": false,
     "start_time": "2019-12-23T17:01:53.568413",
     "status": "completed"
    },
    "tags": []
   },
   "source": [
    "We did not include options `pairsN` and `pairwiseN` in the example because we need more input files to see what is going on. As you can see from the following example, the `N` groups input targets as small groups of size `N` before `pairs` and `pairwise` are applied."
   ]
  },
  {
   "cell_type": "code",
   "execution_count": 5,
   "metadata": {
    "kernel": "SoS",
    "papermill": {
     "duration": 4.348594,
     "end_time": "2019-12-23T17:01:57.987843",
     "exception": false,
     "start_time": "2019-12-23T17:01:53.639249",
     "status": "completed"
    },
    "scrolled": true,
    "tags": []
   },
   "outputs": [
    {
     "name": "stdout",
     "output_type": "stream",
     "text": [
      "\n"
     ]
    },
    {
     "name": "stdout",
     "output_type": "stream",
     "text": [
      "group_by=pairs2\n"
     ]
    },
    {
     "name": "stdout",
     "output_type": "stream",
     "text": [
      "0: A1 B1 A3 B3\n"
     ]
    },
    {
     "name": "stdout",
     "output_type": "stream",
     "text": [
      "1: A2 B2 A4 B4\n"
     ]
    },
    {
     "name": "stdout",
     "output_type": "stream",
     "text": [
      "\n"
     ]
    },
    {
     "name": "stdout",
     "output_type": "stream",
     "text": [
      "group_by=pairwise2\n"
     ]
    },
    {
     "name": "stdout",
     "output_type": "stream",
     "text": [
      "0: A1 B1 A2 B2\n"
     ]
    },
    {
     "name": "stdout",
     "output_type": "stream",
     "text": [
      "1: A2 B2 A3 B3\n"
     ]
    },
    {
     "name": "stdout",
     "output_type": "stream",
     "text": [
      "2: A3 B3 A4 B4\n"
     ]
    }
   ],
   "source": [
    "!touch A1 B1 A2 B2 A3 B3 A4 B4\n",
    "%run -v1\n",
    "\n",
    "[group]\n",
    "parameter: group = str\n",
    "print(f\"\\ngroup_by={group}\")\n",
    "input: 'A1', 'B1', 'A2', 'B2', 'A3', 'B3', 'A4', 'B4', group_by=group\n",
    "print(f\"{_index}: {_input}\")\n",
    "\n",
    "[default]\n",
    "sos_run('group', group='pairs2')\n",
    "sos_run('group', group='pairwise2')\n"
   ]
  },
  {
   "cell_type": "markdown",
   "metadata": {
    "kernel": "SoS",
    "papermill": {
     "duration": 0.038789,
     "end_time": "2019-12-23T17:01:58.065588",
     "exception": false,
     "start_time": "2019-12-23T17:01:58.026799",
     "status": "completed"
    },
    "tags": []
   },
   "source": [
    "### Group by label of input"
   ]
  },
  {
   "cell_type": "markdown",
   "metadata": {
    "kernel": "SoS",
    "papermill": {
     "duration": 0.037443,
     "end_time": "2019-12-23T17:01:58.141948",
     "exception": false,
     "start_time": "2019-12-23T17:01:58.104505",
     "status": "completed"
    },
    "tags": []
   },
   "source": [
    "As we recall from the `labels` attribute of `sos_targets`, input targets can have `label` of the present step (if specified directly), or as the output of previouly executed steps. Option `group_by` allows you to group input by sources `by='label'`, or pair sources (`by='pairlabel'` and `by='pairlabelN'`). "
   ]
  },
  {
   "cell_type": "markdown",
   "metadata": {
    "kernel": "SoS",
    "papermill": {
     "duration": 0.045068,
     "end_time": "2019-12-23T17:01:58.231917",
     "exception": false,
     "start_time": "2019-12-23T17:01:58.186849",
     "status": "completed"
    },
    "tags": []
   },
   "source": [
    "An example to use labeled input is when you have input data of different nature. For example"
   ]
  },
  {
   "cell_type": "code",
   "execution_count": 6,
   "metadata": {
    "kernel": "SoS",
    "papermill": {
     "duration": 0.799084,
     "end_time": "2019-12-23T17:01:59.071846",
     "exception": false,
     "start_time": "2019-12-23T17:01:58.272762",
     "status": "completed"
    },
    "tags": []
   },
   "outputs": [
    {
     "name": "stdout",
     "output_type": "stream",
     "text": [
      "Process data sample1.txt with reference reference.txt\n"
     ]
    },
    {
     "name": "stdout",
     "output_type": "stream",
     "text": [
      "Process data sample2.txt with reference reference.txt\n"
     ]
    }
   ],
   "source": [
    "!touch sample1.txt sample2.txt reference.txt\n",
    "\n",
    "input: data=['sample1.txt', 'sample2.txt'], reference='reference.txt', group_by='pairlabel'\n",
    "print(f'Process data {_input[\"data\"]} with reference {_input[\"reference\"]}')"
   ]
  },
  {
   "cell_type": "markdown",
   "metadata": {
    "kernel": "SoS",
    "papermill": {
     "duration": 0.040063,
     "end_time": "2019-12-23T17:01:59.154897",
     "exception": false,
     "start_time": "2019-12-23T17:01:59.114834",
     "status": "completed"
    },
    "tags": []
   },
   "source": [
    "Here we would like to `group_by=1` only for `_input[\"data\"]`, so we pair `_input[\"data\"]` and `_input[\"reference\"]` and group them together with `pairlabel`."
   ]
  },
  {
   "cell_type": "markdown",
   "metadata": {
    "kernel": "SoS",
    "papermill": {
     "duration": 0.048581,
     "end_time": "2019-12-23T17:01:59.244557",
     "exception": false,
     "start_time": "2019-12-23T17:01:59.195976",
     "status": "completed"
    },
    "tags": []
   },
   "source": [
    "As a more complete example,"
   ]
  },
  {
   "cell_type": "code",
   "execution_count": 7,
   "metadata": {
    "kernel": "SoS",
    "papermill": {
     "duration": 6.313237,
     "end_time": "2019-12-23T17:02:05.596930",
     "exception": false,
     "start_time": "2019-12-23T17:01:59.283693",
     "status": "completed"
    },
    "tags": []
   },
   "outputs": [
    {
     "name": "stdout",
     "output_type": "stream",
     "text": [
      "\n"
     ]
    },
    {
     "name": "stdout",
     "output_type": "stream",
     "text": [
      "group_by=label\n"
     ]
    },
    {
     "name": "stdout",
     "output_type": "stream",
     "text": [
      "0: c1 c2 c3 c4 from ['group_step', 'group_step', 'group_step', 'group_step']\n"
     ]
    },
    {
     "name": "stdout",
     "output_type": "stream",
     "text": [
      "1: a1 from ['step_10']\n"
     ]
    },
    {
     "name": "stdout",
     "output_type": "stream",
     "text": [
      "2: b1 b2 from ['step_20', 'step_20']\n"
     ]
    },
    {
     "name": "stdout",
     "output_type": "stream",
     "text": [
      "\n"
     ]
    },
    {
     "name": "stdout",
     "output_type": "stream",
     "text": [
      "group_by=pairlabel\n"
     ]
    },
    {
     "name": "stdout",
     "output_type": "stream",
     "text": [
      "0: c1 a1 b1 from ['group_step', 'step_10', 'step_20']\n"
     ]
    },
    {
     "name": "stdout",
     "output_type": "stream",
     "text": [
      "1: c2 a1 b1 from ['group_step', 'step_10', 'step_20']\n"
     ]
    },
    {
     "name": "stdout",
     "output_type": "stream",
     "text": [
      "2: c3 a1 b2 from ['group_step', 'step_10', 'step_20']\n"
     ]
    },
    {
     "name": "stdout",
     "output_type": "stream",
     "text": [
      "3: c4 a1 b2 from ['group_step', 'step_10', 'step_20']\n"
     ]
    },
    {
     "name": "stdout",
     "output_type": "stream",
     "text": [
      "\n"
     ]
    },
    {
     "name": "stdout",
     "output_type": "stream",
     "text": [
      "group_by=pairlabel2\n"
     ]
    },
    {
     "name": "stdout",
     "output_type": "stream",
     "text": [
      "0: c1 c2 a1 b1 from ['group_step', 'group_step', 'step_10', 'step_20']\n"
     ]
    },
    {
     "name": "stdout",
     "output_type": "stream",
     "text": [
      "1: c3 c4 a1 b2 from ['group_step', 'group_step', 'step_10', 'step_20']\n"
     ]
    }
   ],
   "source": [
    "!touch c1 c2 c3 c4\n",
    "%run -v1\n",
    "[step_10]\n",
    "output: 'a1'\n",
    "_output.touch()\n",
    "\n",
    "[step_20]\n",
    "output: 'b1', 'b2'\n",
    "_output.touch()\n",
    "\n",
    "[group_step]\n",
    "parameter: group = str\n",
    "print(f\"\\ngroup_by={group}\")\n",
    "input: 'c1', 'c2', 'c3', 'c4', output_from(['step_10', 'step_20']), group_by=group\n",
    "print(f\"{_index}: {_input} from {_input.labels}\")\n",
    "\n",
    "[default]\n",
    "sos_run('group_step', group='label')\n",
    "sos_run('group_step', group='pairlabel')\n",
    "sos_run('group_step', group='pairlabel2')"
   ]
  },
  {
   "cell_type": "markdown",
   "metadata": {
    "kernel": "SoS",
    "papermill": {
     "duration": 0.054727,
     "end_time": "2019-12-23T17:02:05.704982",
     "exception": false,
     "start_time": "2019-12-23T17:02:05.650255",
     "status": "completed"
    },
    "tags": []
   },
   "source": [
    "The options `pairsource` and `pairsource2` need some explanation here because our groups do not have the same size. What these options do are\n",
    "\n",
    "1. Determine number of groups `m` from `N` and longest source.\n",
    "2. Either group or repeat items in sources to create `m` groups\n",
    "\n",
    "For example, with `pairsource2`, we are creating two groups because the largest source have 4 targets (`m=4/2=2`). Then, `a1` is repeated twice, `b1`, `b2` are in two groups, and `c1`, `c2` and `c3`, `c4` are in two groups."
   ]
  },
  {
   "cell_type": "markdown",
   "metadata": {
    "kernel": "SoS",
    "papermill": {
     "duration": 0.070547,
     "end_time": "2019-12-23T17:02:05.827675",
     "exception": false,
     "start_time": "2019-12-23T17:02:05.757128",
     "status": "completed"
    },
    "tags": []
   },
   "source": [
    "### Group by user-defined function"
   ]
  },
  {
   "cell_type": "markdown",
   "metadata": {
    "kernel": "SoS",
    "papermill": {
     "duration": 0.049986,
     "end_time": "2019-12-23T17:02:05.929384",
     "exception": false,
     "start_time": "2019-12-23T17:02:05.879398",
     "status": "completed"
    },
    "tags": []
   },
   "source": [
    "Finally, if none of the predefined grouping mechanism works, it can be easier for you to specify a function that takes `step_input` and returns a list of `sos_targets` as `_input`. "
   ]
  },
  {
   "cell_type": "code",
   "execution_count": 8,
   "metadata": {
    "kernel": "SoS",
    "papermill": {
     "duration": 0.994198,
     "end_time": "2019-12-23T17:02:06.983446",
     "exception": false,
     "start_time": "2019-12-23T17:02:05.989248",
     "status": "completed"
    },
    "tags": []
   },
   "outputs": [
    {
     "name": "stdout",
     "output_type": "stream",
     "text": [
      "0: c1\n"
     ]
    },
    {
     "name": "stdout",
     "output_type": "stream",
     "text": [
      "1: c2 c3\n"
     ]
    },
    {
     "name": "stdout",
     "output_type": "stream",
     "text": [
      "2: c4 c5 c6\n"
     ]
    }
   ],
   "source": [
    "!touch c1 c2 c3 c4 c5 c6\n",
    "input: 'c1', 'c2', 'c3', 'c4', 'c5', 'c6',\n",
    "    group_by=lambda x: [x[0], x[1:3], x[3:]]\n",
    "    \n",
    "print(f\"{_index}: {_input}\")\n"
   ]
  },
  {
   "cell_type": "markdown",
   "metadata": {
    "kernel": "SoS",
    "papermill": {
     "duration": 0.053622,
     "end_time": "2019-12-23T17:02:07.133847",
     "exception": false,
     "start_time": "2019-12-23T17:02:07.080225",
     "status": "completed"
    },
    "tags": []
   },
   "source": [
    "## Parameter `group_by` of `output_from` and `named_output`"
   ]
  },
  {
   "cell_type": "markdown",
   "metadata": {
    "kernel": "SoS",
    "papermill": {
     "duration": 0.062855,
     "end_time": "2019-12-23T17:02:07.248118",
     "exception": false,
     "start_time": "2019-12-23T17:02:07.185263",
     "status": "completed"
    },
    "tags": []
   },
   "source": [
    "Pairing input from multiple sources is complicated when we apply `group_by` to a list of targets with different sources. It is actually a lot easier if you apply `group_by` to the sources separately. Fortunately, functions `output_from` accepts `group_by` so that you can regroup the targets before merging with other sources.\n",
    "\n",
    "For example, in the following example, `step_10` has 2 output files, `step_20` has 4, by applying `group_by=1` to `output_from('step_10')` and `group_by=2` to `output_from('step_20')`, we create two `sos_targets` each with two subgroups. The two `sos_targets` will be joined to create a single `_input` for each substep."
   ]
  },
  {
   "cell_type": "code",
   "execution_count": 9,
   "metadata": {
    "kernel": "SoS",
    "papermill": {
     "duration": 3.1331,
     "end_time": "2019-12-23T17:02:10.450653",
     "exception": false,
     "start_time": "2019-12-23T17:02:07.317553",
     "status": "completed"
    },
    "tags": []
   },
   "outputs": [
    {
     "name": "stdout",
     "output_type": "stream",
     "text": [
      "0: a1 c1 c2 from ['step_10', 'step_20', 'step_20']\n"
     ]
    },
    {
     "name": "stdout",
     "output_type": "stream",
     "text": [
      "1: a2 c3 c4 from ['step_10', 'step_20', 'step_20']\n"
     ]
    }
   ],
   "source": [
    "%run group -v1\n",
    "\n",
    "[step_10]\n",
    "output: 'a1', 'a2'\n",
    "_output.touch()\n",
    "\n",
    "[step_20]\n",
    "output: 'c1', 'c2', 'c3', 'c4'\n",
    "_output.touch()\n",
    "\n",
    "[group]\n",
    "input: output_from('step_10', group_by=1),\n",
    "       output_from('step_20', group_by=2)\n",
    "print(f\"{_index}: {_input} from {_input.labels}\")"
   ]
  },
  {
   "cell_type": "markdown",
   "metadata": {
    "kernel": "SoS",
    "papermill": {
     "duration": 0.045219,
     "end_time": "2019-12-23T17:02:10.540907",
     "exception": false,
     "start_time": "2019-12-23T17:02:10.495688",
     "status": "completed"
    },
    "tags": []
   },
   "source": [
    "As explained by [named input](named_input.html), keyword arguments overrides the labels of targets, so you can assign names to groups with keyword arguments:"
   ]
  },
  {
   "cell_type": "code",
   "execution_count": 10,
   "metadata": {
    "kernel": "SoS",
    "papermill": {
     "duration": 2.71952,
     "end_time": "2019-12-23T17:02:13.305356",
     "exception": false,
     "start_time": "2019-12-23T17:02:10.585836",
     "status": "completed"
    },
    "tags": []
   },
   "outputs": [
    {
     "name": "stdout",
     "output_type": "stream",
     "text": [
      "0: a1 c1 c2 from ['step_10', 's20', 's20']\n"
     ]
    },
    {
     "name": "stdout",
     "output_type": "stream",
     "text": [
      "1: a2 c3 c4 from ['step_10', 's20', 's20']\n"
     ]
    }
   ],
   "source": [
    "%run group -v1\n",
    "\n",
    "[step_10]\n",
    "output: 'a1', 'a2'\n",
    "_output.touch()\n",
    "\n",
    "[step_20]\n",
    "output: 'c1', 'c2', 'c3', 'c4'\n",
    "_output.touch()\n",
    "\n",
    "[group]\n",
    "input: output_from('step_10', group_by=1),\n",
    "       s20=output_from('step_20', group_by=2)\n",
    "print(f\"{_index}: {_input} from {_input.labels}\")"
   ]
  },
  {
   "cell_type": "markdown",
   "metadata": {
    "kernel": "SoS",
    "papermill": {
     "duration": 0.045622,
     "end_time": "2019-12-23T17:02:13.395989",
     "exception": false,
     "start_time": "2019-12-23T17:02:13.350367",
     "status": "completed"
    },
    "tags": []
   },
   "source": [
    "Things can become tricky if you specify both \"regular\" input and grouped targets from `output_from`. In this case, the regular input will be considered as a `sos_targets` with a single group, and be merged to every group of another `sos_targets`. "
   ]
  },
  {
   "cell_type": "code",
   "execution_count": 11,
   "metadata": {
    "kernel": "SoS",
    "papermill": {
     "duration": 3.458197,
     "end_time": "2019-12-23T17:02:16.899772",
     "exception": false,
     "start_time": "2019-12-23T17:02:13.441575",
     "status": "completed"
    },
    "tags": []
   },
   "outputs": [
    {
     "name": "stdout",
     "output_type": "stream",
     "text": [
      "\n"
     ]
    },
    {
     "name": "stdout",
     "output_type": "stream",
     "text": [
      "Substep 0\n"
     ]
    },
    {
     "name": "stdout",
     "output_type": "stream",
     "text": [
      "substep input is a1 c1 c2 e1 e2 from ['step_10', 'step_20', 'step_20', 'my', 'my']\n"
     ]
    },
    {
     "name": "stdout",
     "output_type": "stream",
     "text": [
      "\n"
     ]
    },
    {
     "name": "stdout",
     "output_type": "stream",
     "text": [
      "Substep 1\n"
     ]
    },
    {
     "name": "stdout",
     "output_type": "stream",
     "text": [
      "substep input is a2 c3 c4 e1 e2 from ['step_10', 'step_20', 'step_20', 'my', 'my']\n"
     ]
    }
   ],
   "source": [
    "!touch e1 e2\n",
    "%run group -v1\n",
    "\n",
    "[step_10]\n",
    "output: 'a1', 'a2'\n",
    "_output.touch()\n",
    "\n",
    "[step_20]\n",
    "output: 'c1', 'c2', 'c3', 'c4'\n",
    "_output.touch()\n",
    "\n",
    "[group]\n",
    "input: output_from('step_10', group_by=1),\n",
    "       output_from('step_20', group_by=2),\n",
    "       my=('e1', 'e2')\n",
    "print(f'\\nSubstep {_index}')\n",
    "print(f\"substep input is {_input} from {_input.labels}\")"
   ]
  },
  {
   "cell_type": "markdown",
   "metadata": {
    "kernel": "SoS",
    "papermill": {
     "duration": 0.049005,
     "end_time": "2019-12-23T17:02:16.996358",
     "exception": false,
     "start_time": "2019-12-23T17:02:16.947353",
     "status": "completed"
    },
    "tags": []
   },
   "source": [
    "However, if option `group_by` is specified outside of `output_from`, it will group all targets regardless of original grouping. For example, in the following example, output from `step_10` will be grouped by 2."
   ]
  },
  {
   "cell_type": "code",
   "execution_count": 12,
   "metadata": {
    "kernel": "SoS",
    "papermill": {
     "duration": 3.637898,
     "end_time": "2019-12-23T17:02:20.682887",
     "exception": false,
     "start_time": "2019-12-23T17:02:17.044989",
     "status": "completed"
    },
    "tags": []
   },
   "outputs": [
    {
     "name": "stdout",
     "output_type": "stream",
     "text": [
      "\n"
     ]
    },
    {
     "name": "stdout",
     "output_type": "stream",
     "text": [
      "Substep 0\n"
     ]
    },
    {
     "name": "stdout",
     "output_type": "stream",
     "text": [
      "substep input is c1 c2 from ['step_10', 'step_10']\n"
     ]
    },
    {
     "name": "stdout",
     "output_type": "stream",
     "text": [
      "\n"
     ]
    },
    {
     "name": "stdout",
     "output_type": "stream",
     "text": [
      "Substep 1\n"
     ]
    },
    {
     "name": "stdout",
     "output_type": "stream",
     "text": [
      "substep input is c3 c4 from ['step_10', 'step_10']\n"
     ]
    },
    {
     "name": "stdout",
     "output_type": "stream",
     "text": [
      "\n"
     ]
    },
    {
     "name": "stdout",
     "output_type": "stream",
     "text": [
      "Substep 2\n"
     ]
    },
    {
     "name": "stdout",
     "output_type": "stream",
     "text": [
      "substep input is e1 e2 from ['my', 'my']\n"
     ]
    }
   ],
   "source": [
    "!touch e1 e2\n",
    "%run group -v1\n",
    "\n",
    "[step_10]\n",
    "output: 'c1', 'c2', 'c3', 'c4'\n",
    "_output.touch()\n",
    "\n",
    "[group]\n",
    "input: output_from('step_10', group_by=1),\n",
    "       my=('e1', 'e2'), group_by=2\n",
    "print(f'\\nSubstep {_index}')\n",
    "print(f\"substep input is {_input} from {_input.labels}\")"
   ]
  },
  {
   "cell_type": "markdown",
   "metadata": {
    "kernel": "SoS",
    "papermill": {
     "duration": 0.052746,
     "end_time": "2019-12-23T17:02:20.785888",
     "exception": false,
     "start_time": "2019-12-23T17:02:20.733142",
     "status": "completed"
    },
    "tags": []
   },
   "source": [
    "## Further reading\n",
    "\n",
    "* [`input` statement](input_statement.html)\n",
    "* [named input](named_input.html)"
   ]
  }
 ],
 "metadata": {
  "kernelspec": {
   "display_name": "SoS",
   "language": "sos",
   "name": "sos"
  },
  "language_info": {
   "codemirror_mode": "sos",
   "file_extension": ".sos",
   "mimetype": "text/x-sos",
   "name": "sos",
   "nbconvert_exporter": "sos_notebook.converter.SoS_Exporter",
   "pygments_lexer": "sos"
  },
  "papermill": {
   "duration": 44.434619,
   "end_time": "2019-12-23T17:02:26.027478",
   "environment_variables": {},
   "exception": null,
   "input_path": "/Users/bpeng1/sos/sos-docs/src/user_guide/group_by.ipynb",
   "output_path": "group_by.ipynb_rerun.ipynb",
   "parameters": {},
   "start_time": "2019-12-23T17:01:41.592859",
   "version": "1.1.0"
  },
  "sos": {
   "kernels": [
    [
     "Bash",
     "bash",
     "Bash",
     "#E6EEFF"
    ],
    [
     "R",
     "ir",
     "R",
     "#DCDCDA"
    ],
    [
     "SoS",
     "sos",
     "",
     ""
    ]
   ],
   "panel": {
    "displayed": true,
    "height": 0
   },
   "version": "0.21.2"
  }
 },
 "nbformat": 4,
 "nbformat_minor": 4
}