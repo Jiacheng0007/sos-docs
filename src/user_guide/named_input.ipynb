{
 "cells": [
  {
   "cell_type": "markdown",
   "metadata": {
    "kernel": "SoS",
    "tags": []
   },
   "source": [
    "# Named input"
   ]
  },
  {
   "cell_type": "markdown",
   "metadata": {
    "kernel": "SoS",
    "tags": []
   },
   "source": [
    "* **Difficulty level**: easy\n",
    "* **Time need to learn**: 10 minutes or less\n",
    "* **Key points**:\n",
    "  * Use keyword arguments to specify labels of input\n",
    "  * `_input[name]` return subset of `_input `label `name`"
   ]
  },
  {
   "cell_type": "markdown",
   "metadata": {
    "kernel": "SoS",
    "tags": []
   },
   "source": [
    "## Named inputs"
   ]
  },
  {
   "cell_type": "markdown",
   "metadata": {
    "kernel": "SoS",
    "tags": []
   },
   "source": [
    "Let us first create a few temporary files as inputs of the examples"
   ]
  },
  {
   "cell_type": "code",
   "execution_count": 1,
   "metadata": {
    "kernel": "SoS",
    "tags": []
   },
   "outputs": [],
   "source": [
    "!touch a.txt b.txt ref.txt"
   ]
  },
  {
   "cell_type": "markdown",
   "metadata": {
    "kernel": "SoS",
    "tags": []
   },
   "source": [
    " <div class=\"bs-callout bs-callout-primary\" role=\"alert\">\n",
    "    <h4>Named inputs</h4>\n",
    "    <p>Keyword arguments in input to the input files and allow access to subsets of inputs with these labels</p>\n",
    " </div>"
   ]
  },
  {
   "cell_type": "markdown",
   "metadata": {
    "kernel": "SoS",
    "tags": []
   },
   "source": [
    "in SoS, we usually specify one or more files as input of a SoS steps, and refer to them as variable `_input`:"
   ]
  },
  {
   "cell_type": "code",
   "execution_count": 2,
   "metadata": {
    "kernel": "SoS",
    "tags": []
   },
   "outputs": [
    {
     "name": "stdout",
     "output_type": "stream",
     "text": [
      "a.txt b.txt"
     ]
    },
    {
     "name": "stdout",
     "output_type": "stream",
     "text": [
      "\n"
     ]
    }
   ],
   "source": [
    "input: 'a.txt', 'b.txt'\n",
    "print(_input)"
   ]
  },
  {
   "cell_type": "markdown",
   "metadata": {
    "kernel": "SoS",
    "tags": []
   },
   "source": [
    "Using keyword parameters, you can assign labels to these files and access them separately:"
   ]
  },
  {
   "cell_type": "code",
   "execution_count": 3,
   "metadata": {
    "kernel": "SoS",
    "tags": []
   },
   "outputs": [
    {
     "name": "stdout",
     "output_type": "stream",
     "text": [
      "input of the substep is a.txt b.txt"
     ]
    },
    {
     "name": "stdout",
     "output_type": "stream",
     "text": [
      "\n"
     ]
    },
    {
     "name": "stdout",
     "output_type": "stream",
     "text": [
      "input of the substep with label A is a.txt"
     ]
    },
    {
     "name": "stdout",
     "output_type": "stream",
     "text": [
      "\n"
     ]
    },
    {
     "name": "stdout",
     "output_type": "stream",
     "text": [
      "input of the substep with label B is b.txt"
     ]
    },
    {
     "name": "stdout",
     "output_type": "stream",
     "text": [
      "\n"
     ]
    }
   ],
   "source": [
    "input: A='a.txt', B='b.txt'\n",
    "print(f'input of the substep is {_input}')\n",
    "print(f'input of the substep with label A is {_input[\"A\"]}')\n",
    "print(f'input of the substep with label B is {_input[\"B\"]}')"
   ]
  },
  {
   "cell_type": "markdown",
   "metadata": {
    "kernel": "SoS",
    "tags": []
   },
   "source": [
    "Note that although `_input['A']` and `_input['B']` are used to refer to subsets of `_input`, the variable `_input` can still be used and refers to all input files."
   ]
  },
  {
   "cell_type": "markdown",
   "metadata": {
    "kernel": "SoS",
    "tags": []
   },
   "source": [
    "Named input can be used to pick a subset of input for the specification of step output. For example, in the following `print` statement,  `_input[\"data\"]`, `_input[\"reference\"]` etc are used to obtain subsets of `_input`. These subsets of inputs  are called **named inputs**. Here we use `group_by='pairlabel'` to group `step_input[\"data\"]`. Please refer to [option `group_by`](group_by.html) for details."
   ]
  },
  {
   "cell_type": "code",
   "execution_count": 4,
   "metadata": {
    "kernel": "SoS",
    "tags": []
   },
   "outputs": [
    {
     "name": "stdout",
     "output_type": "stream",
     "text": [
      "Input of step is a.txt ref.txt with labels ['data', 'data', 'reference']\n",
      "\n",
      "Input data is a.txt\n",
      "Reference is ref.txt\n",
      "\n",
      "Output is a.res\n",
      "\n"
     ]
    },
    {
     "name": "stdout",
     "output_type": "stream",
     "text": [
      "Input of step is b.txt ref.txt with labels ['data', 'data', 'reference']\n",
      "\n",
      "Input data is b.txt\n",
      "Reference is ref.txt\n",
      "\n",
      "Output is b.res\n",
      "\n"
     ]
    }
   ],
   "source": [
    "input: data = ['a.txt', 'b.txt'], reference='ref.txt', group_by='pairlabel'\n",
    "output: _input[\"data\"].with_suffix('.res')\n",
    "_output.touch()                              \n",
    "\n",
    "print(f'''\\\n",
    "Input of step is {_input} with labels {step_input.labels}\n",
    "\n",
    "Input data is {_input[\"data\"]}\n",
    "Reference is {_input[\"reference\"]}\n",
    "\n",
    "Output is {_output}\n",
    "''')"
   ]
  },
  {
   "cell_type": "markdown",
   "metadata": {
    "kernel": "SoS",
    "tags": []
   },
   "source": [
    "## Named input inherited from named output"
   ]
  },
  {
   "cell_type": "markdown",
   "metadata": {
    "kernel": "SoS",
    "tags": []
   },
   "source": [
    "Input created from [named output](named_output.html) will inherit their labels, unless the labels are overriden by keyword argument in the input statement.\n"
   ]
  },
  {
   "cell_type": "markdown",
   "metadata": {
    "kernel": "SoS",
    "tags": []
   },
   "source": [
    " <div class=\"bs-callout bs-callout-info\" role=\"alert\">\n",
    "    <h4>Inherit and override target labels</h4>\n",
    "    <p>Target lables are created and passed in SoS as follows</p>\n",
    "    <ul>\n",
    "        <li>Unnamed targets (targets specified with positional arguments) are labeled with step names</li>\n",
    "        <li>Labels are stored in variables <code>_input</code>, <code>_output</code>, <code>step_input</code> and <code>step_output</code>, and are passed by default to next step, or through functions <code>named_output</code> and <code>output_from</code></li>\n",
    "        <li>Keyword argument overrides default labels</li>\n",
    "    </ul>\n",
    " </div>"
   ]
  },
  {
   "cell_type": "markdown",
   "metadata": {
    "kernel": "SoS",
    "tags": []
   },
   "source": [
    "For example, in the following workflow, step `default` gets the outputs from step `A` and `B` using function `output_from(['A', 'B'])`. Because the default labels for output from steps `A` and `B` are `A` and `B` respectively, you can differentiate the inputs using `_input['A']` and `_input['B']`."
   ]
  },
  {
   "cell_type": "code",
   "execution_count": 5,
   "metadata": {
    "kernel": "SoS",
    "tags": []
   },
   "outputs": [
    {
     "name": "stdout",
     "output_type": "stream",
     "text": [
      "\u001b[32m[\u001b[0m\u001b[90m#\u001b[0m\u001b[32m#\u001b[0m\u001b[32m#\u001b[0m\u001b[32m]\u001b[0m 3 steps processed (2 jobs completed, 1 job ignored)\n"
     ]
    }
   ],
   "source": [
    "%run -v0\n",
    "[A]\n",
    "output: 'a.txt'\n",
    "_output.touch()\n",
    "\n",
    "[B]\n",
    "output: 'b.txt'\n",
    "_output.touch()\n",
    "\n",
    "[default]\n",
    "input: output_from(['A', 'B'])\n",
    "print(f'Input from step A is {_input[\"A\"]}')\n",
    "print(f'Input from step B is {_input[\"B\"]}')"
   ]
  },
  {
   "cell_type": "markdown",
   "metadata": {
    "kernel": "SoS",
    "tags": []
   },
   "source": [
    "However, if you use keyword arguments in the input statement, the default or inherited labels will be overridden:"
   ]
  },
  {
   "cell_type": "code",
   "execution_count": 6,
   "metadata": {
    "kernel": "SoS",
    "tags": []
   },
   "outputs": [
    {
     "name": "stdout",
     "output_type": "stream",
     "text": [
      "\u001b[32m[\u001b[0m\u001b[90m#\u001b[0m\u001b[90m#\u001b[0m\u001b[32m#\u001b[0m\u001b[32m]\u001b[0m 3 steps processed (1 job completed, 2 jobs ignored)\n"
     ]
    }
   ],
   "source": [
    "%run -v0\n",
    "[A]\n",
    "output: 'a.txt'\n",
    "_output.touch()\n",
    "\n",
    "[B]\n",
    "output: 'b.txt'\n",
    "_output.touch()\n",
    "\n",
    "[default]\n",
    "input: a_out=output_from('A'), b_out=output_from('B')\n",
    "print(f'Input from step A is {_input[\"a_out\"]}')\n",
    "print(f'Input from step B is {_input[\"b_out\"]}')"
   ]
  },
  {
   "cell_type": "markdown",
   "metadata": {
    "kernel": "SoS",
    "tags": []
   },
   "source": [
    "## Further reading\n",
    "\n",
    "* [Named output](named_output.html)"
   ]
  },
  {
   "cell_type": "code",
   "execution_count": null,
   "metadata": {
    "kernel": "SoS",
    "tags": []
   },
   "outputs": [],
   "source": []
  }
 ],
 "metadata": {
  "kernelspec": {
   "display_name": "SoS",
   "language": "sos",
   "name": "sos"
  },
  "language_info": {
   "codemirror_mode": "sos",
   "file_extension": ".sos",
   "mimetype": "text/x-sos",
   "name": "sos",
   "nbconvert_exporter": "sos_notebook.converter.SoS_Exporter",
   "pygments_lexer": "sos"
  },
  "sos": {
   "kernels": [
    [
     "Bash",
     "bash",
     "Bash",
     "#E6EEFF"
    ],
    [
     "R",
     "ir",
     "R",
     "#DCDCDA"
    ],
    [
     "SoS",
     "sos",
     "",
     ""
    ]
   ],
   "panel": {
    "displayed": true,
    "height": 0
   },
   "version": "0.21.2"
  }
 },
 "nbformat": 4,
 "nbformat_minor": 4
}
