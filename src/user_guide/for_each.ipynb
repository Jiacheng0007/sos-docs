{
 "cells": [
  {
   "cell_type": "markdown",
   "metadata": {
    "kernel": "SoS",
    "papermill": {
     "duration": 0.023971,
     "end_time": "2019-12-23T17:01:35.404721",
     "exception": false,
     "start_time": "2019-12-23T17:01:35.380750",
     "status": "completed"
    },
    "tags": []
   },
   "source": [
    "# How to repeat steps for different parameters"
   ]
  },
  {
   "cell_type": "markdown",
   "metadata": {
    "kernel": "SoS",
    "papermill": {
     "duration": 0.017512,
     "end_time": "2019-12-23T17:01:35.441466",
     "exception": false,
     "start_time": "2019-12-23T17:01:35.423954",
     "status": "completed"
    },
    "tags": []
   },
   "source": [
    "* **Difficulty level**: easy\n",
    "* **Time need to lean**: 10 minutes or less\n",
    "* **Key points**:\n",
    "  * `for_each` runs the substep with different parameters\n",
    "  "
   ]
  },
  {
   "cell_type": "markdown",
   "metadata": {
    "kernel": "SoS",
    "papermill": {
     "duration": 0.015014,
     "end_time": "2019-12-23T17:01:35.471763",
     "exception": false,
     "start_time": "2019-12-23T17:01:35.456749",
     "status": "completed"
    },
    "tags": []
   },
   "source": [
    "Option `for_each` allows you to create substeps with different values of one or more variables."
   ]
  },
  {
   "cell_type": "markdown",
   "metadata": {
    "kernel": "SoS",
    "papermill": {
     "duration": 0.016722,
     "end_time": "2019-12-23T17:01:35.504364",
     "exception": false,
     "start_time": "2019-12-23T17:01:35.487642",
     "status": "completed"
    },
    "tags": []
   },
   "source": [
    "## `for_each` with names of variables"
   ]
  },
  {
   "cell_type": "markdown",
   "metadata": {
    "kernel": "SoS",
    "papermill": {
     "duration": 0.025687,
     "end_time": "2019-12-23T17:01:35.547341",
     "exception": false,
     "start_time": "2019-12-23T17:01:35.521654",
     "status": "completed"
    },
    "tags": []
   },
   "source": [
    "If you have a variable that have already been defined with a list of values, you can specify its name to parameter `for_each`. **The iteration variable will have a name prefixed with an underscore**.\n",
    "\n",
    "For eample, option `for_each='method'` creates two substeps with `m1` and `m2`, presented by variable `_method`: "
   ]
  },
  {
   "cell_type": "code",
   "execution_count": 1,
   "metadata": {
    "kernel": "SoS",
    "papermill": {
     "duration": 4.263713,
     "end_time": "2019-12-23T17:01:39.830047",
     "exception": false,
     "start_time": "2019-12-23T17:01:35.566334",
     "status": "completed"
    },
    "tags": []
   },
   "outputs": [
    {
     "name": "stdout",
     "output_type": "stream",
     "text": [
      "0: file1 file2 m1\n"
     ]
    },
    {
     "name": "stdout",
     "output_type": "stream",
     "text": [
      "1: file1 file2 m2\n"
     ]
    }
   ],
   "source": [
    "!touch file1 file2\n",
    "%run -v1\n",
    "\n",
    "method = ['m1', 'm2']\n",
    "input: 'file1', 'file2', for_each='method'\n",
    "print(f\"{_index}: {_input} {_method}\")"
   ]
  },
  {
   "cell_type": "markdown",
   "metadata": {
    "kernel": "SoS",
    "papermill": {
     "duration": 0.015063,
     "end_time": "2019-12-23T17:01:39.861186",
     "exception": false,
     "start_time": "2019-12-23T17:01:39.846123",
     "status": "completed"
    },
    "tags": []
   },
   "source": [
    "Nested loops are also allowed. For example,"
   ]
  },
  {
   "cell_type": "code",
   "execution_count": 2,
   "metadata": {
    "kernel": "SoS",
    "papermill": {
     "duration": 3.931257,
     "end_time": "2019-12-23T17:01:43.807817",
     "exception": false,
     "start_time": "2019-12-23T17:01:39.876560",
     "status": "completed"
    },
    "tags": []
   },
   "outputs": [
    {
     "name": "stdout",
     "output_type": "stream",
     "text": [
      "0: _input=file1 file2 _method=m1, _pars=1\n"
     ]
    },
    {
     "name": "stdout",
     "output_type": "stream",
     "text": [
      "1: _input=file1 file2 _method=m2, _pars=1\n"
     ]
    },
    {
     "name": "stdout",
     "output_type": "stream",
     "text": [
      "2: _input=file1 file2 _method=m1, _pars=2\n"
     ]
    },
    {
     "name": "stdout",
     "output_type": "stream",
     "text": [
      "3: _input=file1 file2 _method=m2, _pars=2\n"
     ]
    }
   ],
   "source": [
    "!touch file1 file2\n",
    "%run -v1\n",
    "[0]\n",
    "method = ['m1', 'm2']\n",
    "pars = [1, 2]\n",
    "input: 'file1', 'file2', for_each=['method', 'pars']\n",
    "print(f\"{_index}: _input={_input} _method={_method}, _pars={_pars}\")"
   ]
  },
  {
   "cell_type": "markdown",
   "metadata": {
    "kernel": "SoS",
    "papermill": {
     "duration": 0.020724,
     "end_time": "2019-12-23T17:01:43.850494",
     "exception": false,
     "start_time": "2019-12-23T17:01:43.829770",
     "status": "completed"
    },
    "tags": []
   },
   "source": [
    "If you would like to loop the process with several parameters, you can put them into the same level by 'var1,var2'. For example,"
   ]
  },
  {
   "cell_type": "code",
   "execution_count": 3,
   "metadata": {
    "kernel": "SoS",
    "papermill": {
     "duration": 3.405646,
     "end_time": "2019-12-23T17:01:47.278453",
     "exception": false,
     "start_time": "2019-12-23T17:01:43.872807",
     "status": "completed"
    },
    "tags": []
   },
   "outputs": [
    {
     "name": "stdout",
     "output_type": "stream",
     "text": [
      "0: _input=file1 file2 _method=m1, _pars=1\n"
     ]
    },
    {
     "name": "stdout",
     "output_type": "stream",
     "text": [
      "1: _input=file1 file2 _method=m2, _pars=2\n"
     ]
    }
   ],
   "source": [
    "!touch file1 file2\n",
    "%run -v1\n",
    "\n",
    "[0]\n",
    "method = ['m1', 'm2']\n",
    "pars = [1, 2]\n",
    "input: 'file1', 'file2', for_each=['method,pars']\n",
    "print(f\"{_index}: _input={_input} _method={_method}, _pars={_pars}\")"
   ]
  },
  {
   "cell_type": "markdown",
   "metadata": {
    "kernel": "SoS",
    "papermill": {
     "duration": 0.017701,
     "end_time": "2019-12-23T17:01:47.313168",
     "exception": false,
     "start_time": "2019-12-23T17:01:47.295467",
     "status": "completed"
    },
    "tags": []
   },
   "source": [
    "The variable passed to option `for_each` can a sequence (`list`, `tuple`, `set`, etc), a Pandas `Series`, `Index`, or `DataFrame`. In the last case, each `_loop` variable presents a line in the dataframe and you can access single values using format `_loop[\"header\"]`. For example"
   ]
  },
  {
   "cell_type": "code",
   "execution_count": 4,
   "metadata": {
    "kernel": "SoS",
    "output_cache": "[]",
    "papermill": {
     "duration": 0.051884,
     "end_time": "2019-12-23T17:01:47.382217",
     "exception": false,
     "start_time": "2019-12-23T17:01:47.330333",
     "status": "completed"
    },
    "tags": []
   },
   "outputs": [],
   "source": [
    "%preview df\n",
    "import pandas as pd\n",
    "df = pd.DataFrame([(1, 2, 'Hello'), (2, 4, 'World')], columns=['A', 'B', 'C'])"
   ]
  },
  {
   "cell_type": "code",
   "execution_count": 5,
   "metadata": {
    "kernel": "SoS",
    "output_cache": "[]",
    "papermill": {
     "duration": 1.257165,
     "end_time": "2019-12-23T17:01:48.656867",
     "exception": false,
     "start_time": "2019-12-23T17:01:47.399702",
     "status": "completed"
    },
    "tags": []
   },
   "outputs": [
    {
     "name": "stdout",
     "output_type": "stream",
     "text": [
      "_index=0\n",
      "_df=\n",
      "A        1\n",
      "B        2\n",
      "C    Hello\n",
      "Name: 0, dtype: object\n",
      "_output=1_2_Hello.txt\n",
      "\n"
     ]
    },
    {
     "name": "stdout",
     "output_type": "stream",
     "text": [
      "_index=1\n",
      "_df=\n",
      "A        2\n",
      "B        4\n",
      "C    World\n",
      "Name: 1, dtype: object\n",
      "_output=2_4_World.txt\n",
      "\n"
     ]
    }
   ],
   "source": [
    "input: for_each='df'\n",
    "output: f\"{_df['A']}_{_df['B']}_{_df['C']}.txt\"\n",
    "print(f'_index={_index}\\n_df=\\n{_df}\\n_output={_output}\\n')\n",
    "sh: expand=True\n",
    "    touch {_output}"
   ]
  },
  {
   "cell_type": "markdown",
   "metadata": {
    "kernel": "SoS",
    "papermill": {
     "duration": 0.020272,
     "end_time": "2019-12-23T17:01:48.697953",
     "exception": false,
     "start_time": "2019-12-23T17:01:48.677681",
     "status": "completed"
    },
    "tags": []
   },
   "source": [
    "## `for_each` with dictionary of variables"
   ]
  },
  {
   "cell_type": "markdown",
   "metadata": {
    "kernel": "SoS",
    "papermill": {
     "duration": 0.019931,
     "end_time": "2019-12-23T17:01:48.738800",
     "exception": false,
     "start_time": "2019-12-23T17:01:48.718869",
     "status": "completed"
    },
    "tags": []
   },
   "source": [
    "If you would like define your own loop variable, or if the default loop variable does not work (e.g. loop through `obj.sequence` where `_obj.sequence` is not a valid variable name), you can use a dictionary syntax in the format of `{'varname': sequence}`. Mult-variable and nested loops can be specified in the format of `{'var1': seq1, 'var2': seq2}` (same level) and `[{'var1': seq1}, {'var2': seq2}]` for different levels. \n",
    "\n",
    "For example, the first example for this parameter can be written as"
   ]
  },
  {
   "cell_type": "code",
   "execution_count": 6,
   "metadata": {
    "kernel": "SoS",
    "papermill": {
     "duration": 0.906851,
     "end_time": "2019-12-23T17:01:49.669132",
     "exception": false,
     "start_time": "2019-12-23T17:01:48.762281",
     "status": "completed"
    },
    "tags": []
   },
   "outputs": [
    {
     "name": "stdout",
     "output_type": "stream",
     "text": [
      "0: file1 file2 m1\n"
     ]
    },
    {
     "name": "stdout",
     "output_type": "stream",
     "text": [
      "1: file1 file2 m2\n"
     ]
    }
   ],
   "source": [
    "!touch file1 file2\n",
    "\n",
    "input: 'file1', 'file2', for_each=dict(method=['m1', 'm2'])\n",
    "print(f\"{_index}: {_input} {method}\")"
   ]
  },
  {
   "cell_type": "markdown",
   "metadata": {
    "kernel": "SoS",
    "papermill": {
     "duration": 0.018175,
     "end_time": "2019-12-23T17:01:49.705389",
     "exception": false,
     "start_time": "2019-12-23T17:01:49.687214",
     "status": "completed"
    },
    "tags": []
   },
   "source": [
    "and a latter example can be written as"
   ]
  },
  {
   "cell_type": "code",
   "execution_count": 7,
   "metadata": {
    "kernel": "SoS",
    "output_cache": "[{\"text\":\"0: _input=file1 file2 method=m1, pars=1\\n1: _input=file1 file2 method=m2, pars=2\\n\",\"name\":\"stdout\",\"output_type\":\"stream\"}]",
    "papermill": {
     "duration": 0.762097,
     "end_time": "2019-12-23T17:01:50.486379",
     "exception": false,
     "start_time": "2019-12-23T17:01:49.724282",
     "status": "completed"
    },
    "tags": []
   },
   "outputs": [
    {
     "name": "stdout",
     "output_type": "stream",
     "text": [
      "0: _input=file1 file2 method=m1, pars=1\n"
     ]
    },
    {
     "name": "stdout",
     "output_type": "stream",
     "text": [
      "1: _input=file1 file2 method=m2, pars=2\n"
     ]
    }
   ],
   "source": [
    "!touch file1 file2\n",
    "input: 'file1', 'file2', \n",
    "   for_each=dict(method=['m1','m2'], pars=[1, 2])\n",
    "print(f\"{_index}: _input={_input} method={method}, pars={pars}\")"
   ]
  },
  {
   "cell_type": "markdown",
   "metadata": {
    "kernel": "SoS",
    "papermill": {
     "duration": 0.031814,
     "end_time": "2019-12-23T17:01:50.550054",
     "exception": false,
     "start_time": "2019-12-23T17:01:50.518240",
     "status": "completed"
    },
    "tags": []
   },
   "source": [
    "If you need to defined nested loops, you can use"
   ]
  },
  {
   "cell_type": "code",
   "execution_count": 8,
   "metadata": {
    "kernel": "SoS",
    "papermill": {
     "duration": 0.939832,
     "end_time": "2019-12-23T17:01:51.515013",
     "exception": false,
     "start_time": "2019-12-23T17:01:50.575181",
     "status": "completed"
    },
    "tags": []
   },
   "outputs": [
    {
     "name": "stdout",
     "output_type": "stream",
     "text": [
      "0: _input=file1 file2 method=m1, pars=1\n"
     ]
    },
    {
     "name": "stdout",
     "output_type": "stream",
     "text": [
      "1: _input=file1 file2 method=m2, pars=1\n"
     ]
    },
    {
     "name": "stdout",
     "output_type": "stream",
     "text": [
      "2: _input=file1 file2 method=m1, pars=2\n"
     ]
    },
    {
     "name": "stdout",
     "output_type": "stream",
     "text": [
      "3: _input=file1 file2 method=m2, pars=2\n"
     ]
    }
   ],
   "source": [
    "!touch file1 file2\n",
    "input: 'file1', 'file2', \n",
    "   for_each=[dict(method=['m1','m2']), dict(pars=[1, 2])]\n",
    "print(f\"{_index}: _input={_input} method={method}, pars={pars}\")"
   ]
  },
  {
   "cell_type": "markdown",
   "metadata": {
    "kernel": "SoS",
    "output_cache": "[]",
    "papermill": {
     "duration": 0.020706,
     "end_time": "2019-12-23T17:01:51.557756",
     "exception": false,
     "start_time": "2019-12-23T17:01:51.537050",
     "status": "completed"
    },
    "tags": []
   },
   "source": [
    "The dictionary syntax also supports multiple keys. This helps customizing groups of variables. For example in the script below we only care for situations where `n` is greater than `p`,  "
   ]
  },
  {
   "cell_type": "code",
   "execution_count": 9,
   "metadata": {
    "kernel": "SoS",
    "output_cache": "[]",
    "papermill": {
     "duration": 0.753643,
     "end_time": "2019-12-23T17:01:52.332202",
     "exception": false,
     "start_time": "2019-12-23T17:01:51.578559",
     "status": "completed"
    },
    "tags": []
   },
   "outputs": [
    {
     "name": "stdout",
     "output_type": "stream",
     "text": [
      "0 1.txt 100 50\n"
     ]
    },
    {
     "name": "stdout",
     "output_type": "stream",
     "text": [
      "1 2.txt 300 50\n"
     ]
    },
    {
     "name": "stdout",
     "output_type": "stream",
     "text": [
      "2 3.txt 300 100\n"
     ]
    },
    {
     "name": "stdout",
     "output_type": "stream",
     "text": [
      "3 4.txt 300 200\n"
     ]
    }
   ],
   "source": [
    "!touch a.txt\n",
    "import itertools\n",
    "parameter: n = [100, 300]\n",
    "parameter: p = [50, 100, 200]\n",
    "parameter: outfile = ['1.txt', '2.txt', '3.txt', '4.txt', '5.txt', '6.txt']\n",
    "input: 'a.txt', for_each= {'_n,_p': [(_n,_p) for _n in n for _p in p if _n > _p]}\n",
    "print(f\"{_index} {outfile[_index]} {_n} {_p}\")"
   ]
  },
  {
   "cell_type": "markdown",
   "metadata": {
    "kernel": "SoS",
    "papermill": {
     "duration": 0.021871,
     "end_time": "2019-12-23T17:01:52.376217",
     "exception": false,
     "start_time": "2019-12-23T17:01:52.354346",
     "status": "completed"
    },
    "tags": []
   },
   "source": [
    "## `for_each` and `group_by`"
   ]
  },
  {
   "cell_type": "markdown",
   "metadata": {
    "kernel": "SoS",
    "papermill": {
     "duration": 0.021927,
     "end_time": "2019-12-23T17:01:52.419824",
     "exception": false,
     "start_time": "2019-12-23T17:01:52.397897",
     "status": "completed"
    },
    "tags": []
   },
   "source": [
    "Options `for_each` and `group_by` can be used together, in which case `for_each` is applied to each substep created by `group_by`, creating more substeps."
   ]
  },
  {
   "cell_type": "code",
   "execution_count": 10,
   "metadata": {
    "kernel": "SoS",
    "papermill": {
     "duration": 0.808607,
     "end_time": "2019-12-23T17:01:53.250966",
     "exception": false,
     "start_time": "2019-12-23T17:01:52.442359",
     "status": "completed"
    },
    "tags": []
   },
   "outputs": [
    {
     "name": "stdout",
     "output_type": "stream",
     "text": [
      "0: _input=file1 method=m1, pars=1\n"
     ]
    },
    {
     "name": "stdout",
     "output_type": "stream",
     "text": [
      "1: _input=file2 method=m1, pars=1\n"
     ]
    },
    {
     "name": "stdout",
     "output_type": "stream",
     "text": [
      "2: _input=file1 method=m2, pars=2\n"
     ]
    },
    {
     "name": "stdout",
     "output_type": "stream",
     "text": [
      "3: _input=file2 method=m2, pars=2\n"
     ]
    }
   ],
   "source": [
    "!touch file1 file2\n",
    "input: 'file1', 'file2', group_by=1,\n",
    "   for_each=dict(method=['m1','m2'], pars=[1, 2])\n",
    "print(f\"{_index}: _input={_input} method={method}, pars={pars}\")"
   ]
  },
  {
   "cell_type": "markdown",
   "metadata": {
    "kernel": "SoS",
    "papermill": {
     "duration": 0.022954,
     "end_time": "2019-12-23T17:01:53.300516",
     "exception": false,
     "start_time": "2019-12-23T17:01:53.277562",
     "status": "completed"
    },
    "tags": []
   },
   "source": [
    "## Further reading\n",
    "\n",
    "* [`input` statement](input_statement.html)\n",
    "* [`for_each` input option](for_each.html)"
   ]
  }
 ],
 "metadata": {
  "kernelspec": {
   "display_name": "SoS",
   "language": "sos",
   "name": "sos"
  },
  "language_info": {
   "codemirror_mode": "sos",
   "file_extension": ".sos",
   "mimetype": "text/x-sos",
   "name": "sos",
   "nbconvert_exporter": "sos_notebook.converter.SoS_Exporter",
   "pygments_lexer": "sos"
  },
  "papermill": {
   "duration": 26.045267,
   "end_time": "2019-12-23T17:01:58.515918",
   "environment_variables": {},
   "exception": null,
   "input_path": "/Users/bpeng1/sos/sos-docs/src/user_guide/for_each.ipynb",
   "output_path": "for_each.ipynb_rerun.ipynb",
   "parameters": {},
   "start_time": "2019-12-23T17:01:32.470651",
   "version": "1.1.0"
  },
  "sos": {
   "kernels": [
    [
     "Bash",
     "bash",
     "Bash",
     "#E6EEFF"
    ],
    [
     "R",
     "ir",
     "R",
     "#DCDCDA"
    ],
    [
     "SoS",
     "sos",
     "",
     ""
    ]
   ],
   "panel": {
    "displayed": true,
    "height": 0
   },
   "version": "0.21.2"
  }
 },
 "nbformat": 4,
 "nbformat_minor": 4
}