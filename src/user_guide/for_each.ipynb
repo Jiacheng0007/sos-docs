{
 "cells": [
  {
   "cell_type": "markdown",
   "metadata": {
    "kernel": "SoS",
    "tags": []
   },
   "source": [
    "# Input option `for_each`p"
   ]
  },
  {
   "cell_type": "markdown",
   "metadata": {
    "kernel": "SoS",
    "tags": []
   },
   "source": [
    "* **Difficulty level**: easy\n",
    "* **Time need to lean**: 10 minutes or less\n",
    "* **Key points**:\n",
    "  * `for_each` runs the substep with different parameters\n",
    "  "
   ]
  },
  {
   "cell_type": "markdown",
   "metadata": {
    "kernel": "SoS",
    "tags": []
   },
   "source": [
    "Option `for_each` allows you to create substeps with different values of one or more variables."
   ]
  },
  {
   "cell_type": "markdown",
   "metadata": {
    "kernel": "SoS",
    "tags": []
   },
   "source": [
    "## `for_each` with names of variables"
   ]
  },
  {
   "cell_type": "markdown",
   "metadata": {
    "kernel": "SoS",
    "tags": []
   },
   "source": [
    "If you have a variable that have already been defined with a list of values, you can specify its name to parameter `for_each`. **The iteration variable will have a name prefixed with an underscore**.\n",
    "\n",
    "For eample, option `for_each='method'` creates two substeps with `m1` and `m2`, presented by variable `_method`: "
   ]
  },
  {
   "cell_type": "code",
   "execution_count": 1,
   "metadata": {
    "kernel": "SoS",
    "tags": []
   },
   "outputs": [
    {
     "name": "stdout",
     "output_type": "stream",
     "text": [
      "0: file1 file2 m1\n",
      "1: file1 file2 m2\n"
     ]
    }
   ],
   "source": [
    "!touch file1 file2\n",
    "%run -v1\n",
    "\n",
    "method = ['m1', 'm2']\n",
    "input: 'file1', 'file2', for_each='method'\n",
    "print(f\"{_index}: {_input} {_method}\")"
   ]
  },
  {
   "cell_type": "markdown",
   "metadata": {
    "kernel": "SoS",
    "tags": []
   },
   "source": [
    "Nested loops are also allowed. For example,"
   ]
  },
  {
   "cell_type": "code",
   "execution_count": 2,
   "metadata": {
    "kernel": "SoS",
    "tags": []
   },
   "outputs": [
    {
     "name": "stdout",
     "output_type": "stream",
     "text": [
      "0: _input=file1 file2 _method=m1, _pars=1\n",
      "1: _input=file1 file2 _method=m2, _pars=1\n",
      "2: _input=file1 file2 _method=m1, _pars=2\n",
      "3: _input=file1 file2 _method=m2, _pars=2\n"
     ]
    }
   ],
   "source": [
    "!touch file1 file2\n",
    "%run -v1\n",
    "[0]\n",
    "method = ['m1', 'm2']\n",
    "pars = [1, 2]\n",
    "input: 'file1', 'file2', for_each=['method', 'pars']\n",
    "print(f\"{_index}: _input={_input} _method={_method}, _pars={_pars}\")"
   ]
  },
  {
   "cell_type": "markdown",
   "metadata": {
    "kernel": "SoS",
    "tags": []
   },
   "source": [
    "If you would like to loop the process with several parameters, you can put them into the same level by 'var1,var2'. For example,"
   ]
  },
  {
   "cell_type": "code",
   "execution_count": 3,
   "metadata": {
    "kernel": "SoS",
    "tags": []
   },
   "outputs": [
    {
     "name": "stdout",
     "output_type": "stream",
     "text": [
      "0: _input=file1 file2 _method=m1, _pars=1\n",
      "1: _input=file1 file2 _method=m2, _pars=2\n"
     ]
    }
   ],
   "source": [
    "!touch file1 file2\n",
    "%run -v1\n",
    "\n",
    "[0]\n",
    "method = ['m1', 'm2']\n",
    "pars = [1, 2]\n",
    "input: 'file1', 'file2', for_each=['method,pars']\n",
    "print(f\"{_index}: _input={_input} _method={_method}, _pars={_pars}\")"
   ]
  },
  {
   "cell_type": "markdown",
   "metadata": {
    "kernel": "SoS",
    "tags": []
   },
   "source": [
    "The variable passed to option `for_each` can a sequence (`list`, `tuple`, `set`, etc), a Pandas `Series`, `Index`, or `DataFrame`. In the last case, each `_loop` variable presents a line in the dataframe and you can access single values using format `_loop[\"header\"]`. For example"
   ]
  },
  {
   "cell_type": "code",
   "execution_count": 4,
   "metadata": {
    "kernel": "SoS",
    "output_cache": "[]",
    "tags": []
   },
   "outputs": [],
   "source": [
    "%preview df\n",
    "import pandas as pd\n",
    "df = pd.DataFrame([(1, 2, 'Hello'), (2, 4, 'World')], columns=['A', 'B', 'C'])"
   ]
  },
  {
   "cell_type": "code",
   "execution_count": 5,
   "metadata": {
    "kernel": "SoS",
    "output_cache": "[]",
    "tags": []
   },
   "outputs": [
    {
     "name": "stdout",
     "output_type": "stream",
     "text": [
      "_index=0\n",
      "_df=\n",
      "A        1\n",
      "B        2\n",
      "C    Hello\n",
      "Name: 0, dtype: object\n",
      "_output=1_2_Hello.txt\n",
      "\n",
      "_index=1\n",
      "_df=\n",
      "A        2\n",
      "B        4\n",
      "C    World\n",
      "Name: 1, dtype: object\n",
      "_output=2_4_World.txt\n",
      "\n"
     ]
    }
   ],
   "source": [
    "input: for_each='df'\n",
    "output: f\"{_df['A']}_{_df['B']}_{_df['C']}.txt\"\n",
    "print(f'_index={_index}\\n_df=\\n{_df}\\n_output={_output}\\n')\n",
    "sh: expand=True\n",
    "    touch {_output}"
   ]
  },
  {
   "cell_type": "markdown",
   "metadata": {
    "kernel": "SoS",
    "tags": []
   },
   "source": [
    "## `for_each` with dictionary of variables"
   ]
  },
  {
   "cell_type": "markdown",
   "metadata": {
    "kernel": "SoS",
    "tags": []
   },
   "source": [
    "If you would like define your own loop variable, or if the default loop variable does not work (e.g. loop through `obj.sequence` where `_obj.sequence` is not a valid variable name), you can use a dictionary syntax in the format of `{'varname': sequence}`. Mult-variable and nested loops can be specified in the format of `{'var1': seq1, 'var2': seq2}` (same level) and `[{'var1': seq1}, {'var2': seq2}]` for different levels. \n",
    "\n",
    "For example, the first example for this parameter can be written as"
   ]
  },
  {
   "cell_type": "code",
   "execution_count": 6,
   "metadata": {
    "kernel": "SoS",
    "tags": []
   },
   "outputs": [
    {
     "name": "stdout",
     "output_type": "stream",
     "text": [
      "0: file1 file2 m1\n",
      "1: file1 file2 m2\n"
     ]
    }
   ],
   "source": [
    "!touch file1 file2\n",
    "\n",
    "input: 'file1', 'file2', for_each=dict(method=['m1', 'm2'])\n",
    "print(f\"{_index}: {_input} {method}\")"
   ]
  },
  {
   "cell_type": "markdown",
   "metadata": {
    "kernel": "SoS",
    "tags": []
   },
   "source": [
    "and a latter example can be written as"
   ]
  },
  {
   "cell_type": "code",
   "execution_count": 7,
   "metadata": {
    "kernel": "SoS",
    "output_cache": "[{\"text\":\"0: _input=file1 file2 method=m1, pars=1\\n1: _input=file1 file2 method=m2, pars=2\\n\",\"name\":\"stdout\",\"output_type\":\"stream\"}]",
    "tags": []
   },
   "outputs": [
    {
     "name": "stdout",
     "output_type": "stream",
     "text": [
      "0: _input=file1 file2 method=m1, pars=1\n",
      "1: _input=file1 file2 method=m2, pars=2\n"
     ]
    }
   ],
   "source": [
    "!touch file1 file2\n",
    "input: 'file1', 'file2', \n",
    "   for_each=dict(method=['m1','m2'], pars=[1, 2])\n",
    "print(f\"{_index}: _input={_input} method={method}, pars={pars}\")"
   ]
  },
  {
   "cell_type": "markdown",
   "metadata": {
    "kernel": "SoS",
    "tags": []
   },
   "source": [
    "If you need to defined nested loops, you can use"
   ]
  },
  {
   "cell_type": "code",
   "execution_count": 8,
   "metadata": {
    "kernel": "SoS",
    "tags": []
   },
   "outputs": [
    {
     "name": "stdout",
     "output_type": "stream",
     "text": [
      "0: _input=file1 file2 method=m1, pars=1\n",
      "1: _input=file1 file2 method=m2, pars=1\n",
      "2: _input=file1 file2 method=m1, pars=2\n",
      "3: _input=file1 file2 method=m2, pars=2\n"
     ]
    }
   ],
   "source": [
    "!touch file1 file2\n",
    "input: 'file1', 'file2', \n",
    "   for_each=[dict(method=['m1','m2']), dict(pars=[1, 2])]\n",
    "print(f\"{_index}: _input={_input} method={method}, pars={pars}\")"
   ]
  },
  {
   "cell_type": "markdown",
   "metadata": {
    "kernel": "SoS",
    "output_cache": "[]",
    "tags": []
   },
   "source": [
    "The dictionary syntax also supports multiple keys. This helps customizing groups of variables. For example in the script below we only care for situations where `n` is greater than `p`,  "
   ]
  },
  {
   "cell_type": "code",
   "execution_count": 9,
   "metadata": {
    "kernel": "SoS",
    "output_cache": "[]",
    "tags": []
   },
   "outputs": [
    {
     "name": "stdout",
     "output_type": "stream",
     "text": [
      "0 1.txt 100 50\n",
      "1 2.txt 300 50\n",
      "2 3.txt 300 100\n",
      "3 4.txt 300 200\n"
     ]
    }
   ],
   "source": [
    "!touch a.txt\n",
    "import itertools\n",
    "parameter: n = [100, 300]\n",
    "parameter: p = [50, 100, 200]\n",
    "parameter: outfile = ['1.txt', '2.txt', '3.txt', '4.txt', '5.txt', '6.txt']\n",
    "input: 'a.txt', for_each= {'_n,_p': [(_n,_p) for _n in n for _p in p if _n > _p]}\n",
    "print(f\"{_index} {outfile[_index]} {_n} {_p}\")"
   ]
  },
  {
   "cell_type": "markdown",
   "metadata": {
    "kernel": "SoS",
    "tags": []
   },
   "source": [
    "## `for_each` and `group_by`"
   ]
  },
  {
   "cell_type": "markdown",
   "metadata": {
    "kernel": "SoS",
    "tags": []
   },
   "source": [
    "Options `for_each` and `group_by` can be used together, in which case `for_each` is applied to each substep created by `group_by`, creating more substeps."
   ]
  },
  {
   "cell_type": "code",
   "execution_count": 10,
   "metadata": {
    "kernel": "SoS",
    "tags": []
   },
   "outputs": [
    {
     "name": "stdout",
     "output_type": "stream",
     "text": [
      "0: _input=file1 method=m1, pars=1\n",
      "1: _input=file2 method=m1, pars=1\n",
      "2: _input=file1 method=m2, pars=2\n",
      "3: _input=file2 method=m2, pars=2\n"
     ]
    }
   ],
   "source": [
    "!touch file1 file2\n",
    "input: 'file1', 'file2', group_by=1,\n",
    "   for_each=dict(method=['m1','m2'], pars=[1, 2])\n",
    "print(f\"{_index}: _input={_input} method={method}, pars={pars}\")"
   ]
  }
 ],
 "metadata": {
  "kernelspec": {
   "display_name": "SoS",
   "language": "sos",
   "name": "sos"
  },
  "language_info": {
   "codemirror_mode": "sos",
   "file_extension": ".sos",
   "mimetype": "text/x-sos",
   "name": "sos",
   "nbconvert_exporter": "sos_notebook.converter.SoS_Exporter",
   "pygments_lexer": "sos"
  },
  "sos": {
   "kernels": [
    [
     "Bash",
     "bash",
     "Bash",
     "#E6EEFF"
    ],
    [
     "R",
     "ir",
     "R",
     "#DCDCDA"
    ],
    [
     "SoS",
     "sos",
     "",
     ""
    ]
   ],
   "panel": {
    "displayed": true,
    "height": 0
   },
   "version": "0.21.5"
  }
 },
 "nbformat": 4,
 "nbformat_minor": 4
}
