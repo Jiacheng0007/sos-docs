{
 "cells": [
  {
   "cell_type": "markdown",
   "metadata": {
    "kernel": "SoS",
    "papermill": {
     "duration": 0.059706,
     "end_time": "2019-12-23T17:01:31.103267",
     "exception": false,
     "start_time": "2019-12-23T17:01:31.043561",
     "status": "completed"
    },
    "tags": []
   },
   "source": [
    "# Working with arbitrary subkernels"
   ]
  },
  {
   "cell_type": "markdown",
   "metadata": {
    "kernel": "SoS",
    "papermill": {
     "duration": 0.069471,
     "end_time": "2019-12-23T17:01:31.241816",
     "exception": false,
     "start_time": "2019-12-23T17:01:31.172345",
     "status": "completed"
    },
    "tags": []
   },
   "source": [
    "* **Difficulty level**: easy\n",
    "* **Time need to lean**: 20 minutes or less\n",
    "* **Key points**:\n",
    "  * SoS works with any Jupyter kernel\n",
    "  * `%cd` changes directory of all subkernels\n",
    "  * `%expand` expands expressions in the cell input before sending it to subkernels\n",
    "  * `%capture` captures output from subkernels and save them into Python variables\n",
    "  * `%render` renders output from subkernels in different formats"
   ]
  },
  {
   "cell_type": "markdown",
   "metadata": {
    "kernel": "SoS",
    "papermill": {
     "duration": 0.061411,
     "end_time": "2019-12-23T17:01:31.372916",
     "exception": false,
     "start_time": "2019-12-23T17:01:31.311505",
     "status": "completed"
    },
    "tags": []
   },
   "source": [
    "A SoS kernel is a master kernel that can start, stop, and interact with any Jupyter kernel, which are called *subkernels* by SoS. Although most of the times SoS just passes user input to subkernels and sendes outputs from subkernels to the frontend (notebook), you can use a few SoS magics to modify user inputs before they are sent to the subkernel, and process outputs before they are sent to the frontend."
   ]
  },
  {
   "cell_type": "markdown",
   "metadata": {
    "kernel": "SoS",
    "papermill": {
     "duration": 0.052518,
     "end_time": "2019-12-23T17:01:31.489481",
     "exception": false,
     "start_time": "2019-12-23T17:01:31.436963",
     "status": "completed"
    },
    "tags": []
   },
   "source": [
    "<p align=\"center\">\n",
    "  <img src=\"https://vatlab.github.io/sos-docs/doc/media/subkernel.png\">\n",
    "</p>\n"
   ]
  },
  {
   "cell_type": "markdown",
   "metadata": {
    "kernel": "SoS"
   },
   "source": [
    "## Change workding directory (magic `%cd`)"
   ]
  },
  {
   "cell_type": "markdown",
   "metadata": {
    "kernel": "SoS"
   },
   "source": [
    "When working with multiple kernels in a notebook, it could be confusing if kernels have different working directory. The rule of thumb in SoS are as follows:\n",
    "\n",
    "First, **subkernels starts at the current working directory of the SoS kernel**"
   ]
  },
  {
   "cell_type": "code",
   "execution_count": 1,
   "metadata": {
    "kernel": "SoS"
   },
   "outputs": [
    {
     "data": {
      "text/plain": [
       "'/Users/bpeng1/sos/sos-docs/src/user_guide'"
      ]
     },
     "execution_count": 1,
     "metadata": {},
     "output_type": "execute_result"
    }
   ],
   "source": [
    "import os\n",
    "os.getcwd()"
   ]
  },
  {
   "cell_type": "code",
   "execution_count": 2,
   "metadata": {
    "kernel": "R"
   },
   "outputs": [
    {
     "data": {
      "text/html": [
       "'/Users/bpeng1/sos/sos-docs/src/user_guide'"
      ],
      "text/latex": [
       "'/Users/bpeng1/sos/sos-docs/src/user\\_guide'"
      ],
      "text/markdown": [
       "'/Users/bpeng1/sos/sos-docs/src/user_guide'"
      ],
      "text/plain": [
       "[1] \"/Users/bpeng1/sos/sos-docs/src/user_guide\""
      ]
     },
     "metadata": {},
     "output_type": "display_data"
    }
   ],
   "source": [
    "getwd()"
   ]
  },
  {
   "cell_type": "markdown",
   "metadata": {
    "kernel": "R"
   },
   "source": [
    "Second, **changing working directory in one subkernel will not affect other living kernels**"
   ]
  },
  {
   "cell_type": "code",
   "execution_count": 3,
   "metadata": {
    "kernel": "R"
   },
   "outputs": [],
   "source": [
    "setwd('..')"
   ]
  },
  {
   "cell_type": "code",
   "execution_count": 4,
   "metadata": {
    "kernel": "R"
   },
   "outputs": [
    {
     "data": {
      "text/html": [
       "'/Users/bpeng1/sos/sos-docs/src'"
      ],
      "text/latex": [
       "'/Users/bpeng1/sos/sos-docs/src'"
      ],
      "text/markdown": [
       "'/Users/bpeng1/sos/sos-docs/src'"
      ],
      "text/plain": [
       "[1] \"/Users/bpeng1/sos/sos-docs/src\""
      ]
     },
     "metadata": {},
     "output_type": "display_data"
    }
   ],
   "source": [
    "getwd()"
   ]
  },
  {
   "cell_type": "code",
   "execution_count": 5,
   "metadata": {
    "kernel": "SoS"
   },
   "outputs": [
    {
     "data": {
      "text/plain": [
       "'/Users/bpeng1/sos/sos-docs/src/user_guide'"
      ]
     },
     "execution_count": 5,
     "metadata": {},
     "output_type": "execute_result"
    }
   ],
   "source": [
    "os.getcwd()"
   ]
  },
  {
   "cell_type": "markdown",
   "metadata": {
    "kernel": "SoS"
   },
   "source": [
    "Third, **magic `%cd` changes working directory of all subkernels**"
   ]
  },
  {
   "cell_type": "code",
   "execution_count": 6,
   "metadata": {
    "kernel": "SoS"
   },
   "outputs": [
    {
     "name": "stdout",
     "output_type": "stream",
     "text": [
      "/Users/bpeng1/sos/sos-docs"
     ]
    }
   ],
   "source": [
    "%cd /Users/bpeng1/sos/sos-docs"
   ]
  },
  {
   "cell_type": "code",
   "execution_count": 7,
   "metadata": {
    "kernel": "SoS"
   },
   "outputs": [
    {
     "data": {
      "text/plain": [
       "'/Users/bpeng1/sos/sos-docs'"
      ]
     },
     "execution_count": 7,
     "metadata": {},
     "output_type": "execute_result"
    }
   ],
   "source": [
    "os.getcwd()"
   ]
  },
  {
   "cell_type": "code",
   "execution_count": 8,
   "metadata": {
    "kernel": "R"
   },
   "outputs": [
    {
     "data": {
      "text/html": [
       "'/Users/bpeng1/sos/sos-docs'"
      ],
      "text/latex": [
       "'/Users/bpeng1/sos/sos-docs'"
      ],
      "text/markdown": [
       "'/Users/bpeng1/sos/sos-docs'"
      ],
      "text/plain": [
       "[1] \"/Users/bpeng1/sos/sos-docs\""
      ]
     },
     "metadata": {},
     "output_type": "display_data"
    }
   ],
   "source": [
    "getwd()"
   ]
  },
  {
   "cell_type": "markdown",
   "metadata": {
    "kernel": "sos",
    "papermill": {
     "duration": 0.053398,
     "end_time": "2019-12-23T17:01:31.594689",
     "exception": false,
     "start_time": "2019-12-23T17:01:31.541291",
     "status": "completed"
    },
    "tags": []
   },
   "source": [
    "## Expand input (magic `%expand`)"
   ]
  },
  {
   "cell_type": "markdown",
   "metadata": {
    "kernel": "SoS",
    "papermill": {
     "duration": 0.070092,
     "end_time": "2019-12-23T17:01:31.736351",
     "exception": false,
     "start_time": "2019-12-23T17:01:31.666259",
     "status": "completed"
    },
    "tags": []
   },
   "source": [
    "Script in SoS cells are by default sent to SoS or the subkernels in verbatim. For example,"
   ]
  },
  {
   "cell_type": "code",
   "execution_count": 9,
   "metadata": {
    "kernel": "SoS",
    "papermill": {
     "duration": 0.474059,
     "end_time": "2019-12-23T17:01:32.276655",
     "exception": false,
     "start_time": "2019-12-23T17:01:31.802596",
     "status": "completed"
    },
    "tags": []
   },
   "outputs": [
    {
     "name": "stdout",
     "output_type": "stream",
     "text": [
      "A parameter {par} is specified.\n"
     ]
    }
   ],
   "source": [
    "print(\"A parameter {par} is specified.\")"
   ]
  },
  {
   "cell_type": "markdown",
   "metadata": {
    "kernel": "R",
    "papermill": {
     "duration": 0.055662,
     "end_time": "2019-12-23T17:01:32.386817",
     "exception": false,
     "start_time": "2019-12-23T17:01:32.331155",
     "status": "completed"
    },
    "tags": []
   },
   "source": [
    "With variable `par` defined in the SoS kernel,"
   ]
  },
  {
   "cell_type": "code",
   "execution_count": 10,
   "metadata": {
    "kernel": "SoS",
    "papermill": {
     "duration": 0.052542,
     "end_time": "2019-12-23T17:01:32.481819",
     "exception": false,
     "start_time": "2019-12-23T17:01:32.429277",
     "status": "completed"
    },
    "tags": []
   },
   "outputs": [],
   "source": [
    "par = 100"
   ]
  },
  {
   "cell_type": "markdown",
   "metadata": {
    "kernel": "SoS",
    "papermill": {
     "duration": 0.041772,
     "end_time": "2019-12-23T17:01:32.564210",
     "exception": false,
     "start_time": "2019-12-23T17:01:32.522438",
     "status": "completed"
    },
    "tags": []
   },
   "source": [
    "the `%expand` treats the content of the following cell as a [Python f-string](https://www.python.org/dev/peps/pep-0498/) and expands expressions inside braces:"
   ]
  },
  {
   "cell_type": "code",
   "execution_count": 11,
   "metadata": {
    "kernel": "R",
    "papermill": {
     "duration": 1.925356,
     "end_time": "2019-12-23T17:01:34.531877",
     "exception": false,
     "start_time": "2019-12-23T17:01:32.606521",
     "status": "completed"
    },
    "tags": []
   },
   "outputs": [
    {
     "name": "stdout",
     "output_type": "stream",
     "text": [
      "[1] \"A parameter 100 is specified.\"\n"
     ]
    }
   ],
   "source": [
    "%expand\n",
    "print(\"A parameter {par} is specified.\")"
   ]
  },
  {
   "cell_type": "markdown",
   "metadata": {
    "kernel": "SoS",
    "papermill": {
     "duration": 0.048691,
     "end_time": "2019-12-23T17:01:34.647034",
     "exception": false,
     "start_time": "2019-12-23T17:01:34.598343",
     "status": "completed"
    },
    "tags": []
   },
   "source": [
    "If the script contains `{ }`, which is quite common in R, you can double the braces "
   ]
  },
  {
   "cell_type": "code",
   "execution_count": 12,
   "metadata": {
    "kernel": "R",
    "papermill": {
     "duration": 0.12412,
     "end_time": "2019-12-23T17:01:34.831930",
     "exception": false,
     "start_time": "2019-12-23T17:01:34.707810",
     "status": "completed"
    },
    "tags": []
   },
   "outputs": [
    {
     "name": "stdout",
     "output_type": "stream",
     "text": [
      "[1] \"A parameter 100 greater than 50 is specified.\"\n"
     ]
    }
   ],
   "source": [
    "%expand\n",
    "if ({par} > 50) {{\n",
    "    print(\"A parameter {par} greater than 50 is specified.\");\n",
    "}}"
   ]
  },
  {
   "cell_type": "markdown",
   "metadata": {
    "kernel": "SoS",
    "papermill": {
     "duration": 0.04311,
     "end_time": "2019-12-23T17:01:34.928593",
     "exception": false,
     "start_time": "2019-12-23T17:01:34.885483",
     "status": "completed"
    },
    "tags": []
   },
   "source": [
    "If there are multiple braces, it is obviously better to use a different sigil, such as `${ }` to interpolate the script"
   ]
  },
  {
   "cell_type": "code",
   "execution_count": 13,
   "metadata": {
    "kernel": "R",
    "papermill": {
     "duration": 0.147323,
     "end_time": "2019-12-23T17:01:35.118326",
     "exception": false,
     "start_time": "2019-12-23T17:01:34.971003",
     "status": "completed"
    },
    "tags": []
   },
   "outputs": [
    {
     "name": "stdout",
     "output_type": "stream",
     "text": [
      "[1] \"A parameter 100 greater than 50 is specified.\"\n"
     ]
    }
   ],
   "source": [
    "%expand ${ }\n",
    "if (${par} > 50) {\n",
    "    print(\"A parameter ${par} greater than 50 is specified.\");\n",
    "}"
   ]
  },
  {
   "cell_type": "markdown",
   "metadata": {
    "kernel": "R",
    "papermill": {
     "duration": 0.061413,
     "end_time": "2019-12-23T17:01:35.252722",
     "exception": false,
     "start_time": "2019-12-23T17:01:35.191309",
     "status": "completed"
    },
    "tags": []
   },
   "source": [
    "Although not the topic of this tutorial, it is worth mentioning that the usage of the `%expand` magic is the same as the `expand` option of SoS actions so that you can convert the above script that was executed in a R session to an R action in a SoS workflow as follows:"
   ]
  },
  {
   "cell_type": "code",
   "execution_count": 14,
   "metadata": {
    "kernel": "SoS",
    "papermill": {
     "duration": 1.698278,
     "end_time": "2019-12-23T17:01:37.019088",
     "exception": false,
     "start_time": "2019-12-23T17:01:35.320810",
     "status": "completed"
    },
    "tags": []
   },
   "outputs": [
    {
     "name": "stdout",
     "output_type": "stream",
     "text": [
      "[1] \"A parameter 100 greater than 50 is specified.\"\n"
     ]
    }
   ],
   "source": [
    "R: expand='${ }'\n",
    "if (${par} > 50) {\n",
    "    print(\"A parameter ${par} greater than 50 is specified.\");\n",
    "}"
   ]
  },
  {
   "cell_type": "markdown",
   "metadata": {
    "kernel": "SoS",
    "papermill": {
     "duration": 0.074267,
     "end_time": "2019-12-23T17:01:37.167868",
     "exception": false,
     "start_time": "2019-12-23T17:01:37.093601",
     "status": "completed"
    },
    "tags": []
   },
   "source": [
    "## Expand input in subkernels (magic `%expand --in`)"
   ]
  },
  {
   "cell_type": "markdown",
   "metadata": {
    "kernel": "SoS",
    "papermill": {
     "duration": 0.076254,
     "end_time": "2019-12-23T17:01:37.311642",
     "exception": false,
     "start_time": "2019-12-23T17:01:37.235388",
     "status": "completed"
    },
    "tags": []
   },
   "source": [
    "If a language module supports the `expand` interface (not all of them does), you can expand the content of a cell in specified kernel. This is most naturally used in a [`markdown` kernel](https://github.com/vatlab/markdown-kernel) when the expanded text are treated as markdown text."
   ]
  },
  {
   "cell_type": "markdown",
   "metadata": {
    "kernel": "SoS",
    "papermill": {
     "duration": 0.07372,
     "end_time": "2019-12-23T17:01:37.473970",
     "exception": false,
     "start_time": "2019-12-23T17:01:37.400250",
     "status": "completed"
    },
    "tags": []
   },
   "source": [
    "By default the markdown kernel processes the input text literally:"
   ]
  },
  {
   "cell_type": "code",
   "execution_count": 15,
   "metadata": {
    "kernel": "Markdown",
    "papermill": {
     "duration": 1.187695,
     "end_time": "2019-12-23T17:01:38.722963",
     "exception": false,
     "start_time": "2019-12-23T17:01:37.535268",
     "status": "completed"
    },
    "tags": []
   },
   "outputs": [
    {
     "data": {
      "text/markdown": [
       "* Hello, the value of a is {a}\n"
      ]
     },
     "metadata": {},
     "output_type": "display_data",
     "source": "markdown"
    }
   ],
   "source": [
    "* Hello, the value of a is {a}"
   ]
  },
  {
   "cell_type": "markdown",
   "metadata": {
    "kernel": "Markdown",
    "papermill": {
     "duration": 0.054773,
     "end_time": "2019-12-23T17:01:38.822594",
     "exception": false,
     "start_time": "2019-12-23T17:01:38.767821",
     "status": "completed"
    },
    "tags": []
   },
   "source": [
    "With the `%expand` magic, you can expand expressions with variables in SoS kernel (default)."
   ]
  },
  {
   "cell_type": "code",
   "execution_count": 16,
   "metadata": {
    "kernel": "SoS",
    "papermill": {
     "duration": 0.054354,
     "end_time": "2019-12-23T17:01:38.926471",
     "exception": false,
     "start_time": "2019-12-23T17:01:38.872117",
     "status": "completed"
    },
    "tags": []
   },
   "outputs": [],
   "source": [
    "a = 5"
   ]
  },
  {
   "cell_type": "code",
   "execution_count": 17,
   "metadata": {
    "kernel": "Markdown",
    "papermill": {
     "duration": 0.065065,
     "end_time": "2019-12-23T17:01:39.043170",
     "exception": false,
     "start_time": "2019-12-23T17:01:38.978105",
     "status": "completed"
    },
    "tags": []
   },
   "outputs": [
    {
     "data": {
      "text/markdown": [
       "Hello, the value of a is 5\n"
      ]
     },
     "metadata": {},
     "output_type": "display_data",
     "source": "markdown"
    }
   ],
   "source": [
    "%expand\n",
    "Hello, the value of a is {a}"
   ]
  },
  {
   "cell_type": "markdown",
   "metadata": {
    "kernel": "R",
    "papermill": {
     "duration": 0.055181,
     "end_time": "2019-12-23T17:01:39.148924",
     "exception": false,
     "start_time": "2019-12-23T17:01:39.093743",
     "status": "completed"
    },
    "tags": []
   },
   "source": [
    "If you have variables in R,"
   ]
  },
  {
   "cell_type": "code",
   "execution_count": 18,
   "metadata": {
    "kernel": "R",
    "papermill": {
     "duration": 0.095808,
     "end_time": "2019-12-23T17:01:39.323871",
     "exception": false,
     "start_time": "2019-12-23T17:01:39.228063",
     "status": "completed"
    },
    "tags": []
   },
   "outputs": [],
   "source": [
    "a <- 100"
   ]
  },
  {
   "cell_type": "markdown",
   "metadata": {
    "kernel": "R",
    "papermill": {
     "duration": 0.046574,
     "end_time": "2019-12-23T17:01:39.416200",
     "exception": false,
     "start_time": "2019-12-23T17:01:39.369626",
     "status": "completed"
    },
    "tags": []
   },
   "source": [
    "You can expand the content of the cell using variables (and expressions) in R:"
   ]
  },
  {
   "cell_type": "code",
   "execution_count": 19,
   "metadata": {
    "kernel": "Markdown",
    "papermill": {
     "duration": 0.214845,
     "end_time": "2019-12-23T17:01:39.686154",
     "exception": false,
     "start_time": "2019-12-23T17:01:39.471309",
     "status": "completed"
    },
    "tags": []
   },
   "outputs": [
    {
     "data": {
      "text/markdown": [
       "Hello, the value of a**2 is 10000\n"
      ]
     },
     "metadata": {},
     "output_type": "display_data",
     "source": "markdown"
    }
   ],
   "source": [
    "%expand --in R\n",
    "Hello, the value of a**2 is {a**2}"
   ]
  },
  {
   "cell_type": "markdown",
   "metadata": {
    "kernel": "Markdown",
    "papermill": {
     "duration": 0.043603,
     "end_time": "2019-12-23T17:01:39.772894",
     "exception": false,
     "start_time": "2019-12-23T17:01:39.729291",
     "status": "completed"
    },
    "tags": []
   },
   "source": [
    "If you are more familiar with delimiters in RMarkdown, you can specify the delimiter as option of `%expand`."
   ]
  },
  {
   "cell_type": "code",
   "execution_count": 20,
   "metadata": {
    "kernel": "Markdown",
    "papermill": {
     "duration": 0.108753,
     "end_time": "2019-12-23T17:01:39.932423",
     "exception": false,
     "start_time": "2019-12-23T17:01:39.823670",
     "status": "completed"
    },
    "tags": []
   },
   "outputs": [
    {
     "data": {
      "text/markdown": [
       "Hello, the value of a**2 is 10000\n"
      ]
     },
     "metadata": {},
     "output_type": "display_data",
     "source": "markdown"
    }
   ],
   "source": [
    "%expand `r ` --in R\n",
    "Hello, the value of a**2 is `r a**2`"
   ]
  },
  {
   "cell_type": "markdown",
   "metadata": {
    "kernel": "SoS",
    "papermill": {
     "duration": 0.045048,
     "end_time": "2019-12-23T17:01:40.021953",
     "exception": false,
     "start_time": "2019-12-23T17:01:39.976905",
     "status": "completed"
    },
    "tags": []
   },
   "source": [
    "## Capture cell output (magic `%capture`)"
   ]
  },
  {
   "cell_type": "markdown",
   "metadata": {
    "kernel": "SoS",
    "papermill": {
     "duration": 0.043983,
     "end_time": "2019-12-23T17:01:40.114651",
     "exception": false,
     "start_time": "2019-12-23T17:01:40.070668",
     "status": "completed"
    },
    "tags": []
   },
   "source": [
    "Magic `%capture` all or part of the output of a cell to a SoS variable. To understand how this magic works, you will need to understand [how Jupyter  works](https://jupyter-client.readthedocs.io/en/stable/messaging.html). Briefly, after a cell is executed, the kernel sends one or more of messages `stream`, `display_data`, and other controlling messages before it sends `execute_result` to conclude the execution. The `stream` message type can contain standard output (`stdout`) and standard error output (`stderr`), and the `display_data` message can contain a lot more complex data under a dictionary with keys `text/html`, `text/plain`, `text/markdown` etc, and the frontend will decide how to display these messages."
   ]
  },
  {
   "cell_type": "markdown",
   "metadata": {
    "kernel": "SoS",
    "papermill": {
     "duration": 0.043236,
     "end_time": "2019-12-23T17:01:40.203718",
     "exception": false,
     "start_time": "2019-12-23T17:01:40.160482",
     "status": "completed"
    },
    "tags": []
   },
   "source": [
    "### Determine what to capture\n",
    "\n",
    "The `%capture` magic can capture the following types of information\n",
    "\n",
    "| name | message |\n",
    "|-- | -- |\n",
    "| `stdout` | `stdout` of `stream` messages |\n",
    "| `stderr` | `stderr` of `stream` messages |\n",
    "| `text` | `text/plain` of `display_data` or `execute_result` messages |\n",
    "| `html` | `text/html` of `display_data` or `execute_result` messages |\n",
    "| `markdown` | `text/markdown` of `display_data` or `execute_result` messages |\n",
    "| `error` | `evalue` of `error` message |\n",
    "| `raw` | All above messages |\n",
    "\n",
    "The first step to capture output from a cell is to determine what types of messages are sent by the cell. If you are uncertain, you can open the console panel (right click and select `New Console for Notebook` if you are using Jupyter Lab), and use the `%capture` magic without option (or with the `raw` option)."
   ]
  },
  {
   "cell_type": "code",
   "execution_count": 21,
   "metadata": {
    "kernel": "Bash",
    "papermill": {
     "duration": 2.921234,
     "end_time": "2019-12-23T17:01:43.167930",
     "exception": false,
     "start_time": "2019-12-23T17:01:40.246696",
     "status": "completed"
    },
    "tags": []
   },
   "outputs": [
    {
     "name": "stdout",
     "output_type": "stream",
     "text": [
      "I am from Bash\n",
      "\n"
     ]
    },
    {
     "data": {
      "text/html": [
       "<div class=\"sos_hint\">Cell output captured to variable __captured with content</div>"
      ]
     },
     "metadata": {},
     "output_type": "display_data"
    },
    {
     "data": {
      "text/plain": [
       "[('stream', {'name': 'stdout', 'text': 'I am from Bash\\r\\n\\n'})]"
      ]
     },
     "metadata": {},
     "output_type": "display_data"
    }
   ],
   "source": [
    "%capture\n",
    "echo \"I am from Bash\""
   ]
  },
  {
   "cell_type": "markdown",
   "metadata": {
    "kernel": "Bash",
    "papermill": {
     "duration": 0.057494,
     "end_time": "2019-12-23T17:01:43.278184",
     "exception": false,
     "start_time": "2019-12-23T17:01:43.220690",
     "status": "completed"
    },
    "tags": []
   },
   "source": [
    "The messages that has been returned by the cell will be displayed in the console window\n",
    "\n",
    "```python\n",
    "[('stream', {'name': 'stdout', 'text': 'I am from Bash\\n'})]\n",
    "```\n",
    "for this cell, from which you can see that the message is of type `stdout`. You can then specify the `stdout` type,"
   ]
  },
  {
   "cell_type": "code",
   "execution_count": 22,
   "metadata": {
    "kernel": "Bash",
    "papermill": {
     "duration": 1.743565,
     "end_time": "2019-12-23T17:01:45.066842",
     "exception": false,
     "start_time": "2019-12-23T17:01:43.323277",
     "status": "completed"
    },
    "tags": []
   },
   "outputs": [
    {
     "name": "stdout",
     "output_type": "stream",
     "text": [
      "I am from Bash\n",
      "\n"
     ]
    },
    {
     "data": {
      "text/html": [
       "<div class=\"sos_hint\">Cell output captured to variable __captured with content</div>"
      ]
     },
     "metadata": {},
     "output_type": "display_data"
    },
    {
     "data": {
      "text/plain": [
       "'I am from Bash\\r\\n\\n'"
      ]
     },
     "metadata": {},
     "output_type": "display_data"
    }
   ],
   "source": [
    "%capture stdout\n",
    "echo \"I am from Bash\""
   ]
  },
  {
   "cell_type": "markdown",
   "metadata": {
    "kernel": "Bash",
    "papermill": {
     "duration": 0.047165,
     "end_time": "2019-12-23T17:01:45.160078",
     "exception": false,
     "start_time": "2019-12-23T17:01:45.112913",
     "status": "completed"
    },
    "tags": []
   },
   "source": [
    "The captured result is by default saved to a variable `__captured` in the SoS kernel:"
   ]
  },
  {
   "cell_type": "code",
   "execution_count": 23,
   "metadata": {
    "kernel": "SoS",
    "papermill": {
     "duration": 1.744681,
     "end_time": "2019-12-23T17:01:46.948921",
     "exception": false,
     "start_time": "2019-12-23T17:01:45.204240",
     "status": "completed"
    },
    "tags": []
   },
   "outputs": [
    {
     "data": {
      "text/plain": [
       "'I am from Bash\\r\\n\\n'"
      ]
     },
     "execution_count": 23,
     "metadata": {},
     "output_type": "execute_result"
    }
   ],
   "source": [
    "__captured"
   ]
  },
  {
   "cell_type": "markdown",
   "metadata": {
    "kernel": "SoS",
    "papermill": {
     "duration": 0.071553,
     "end_time": "2019-12-23T17:01:47.066707",
     "exception": false,
     "start_time": "2019-12-23T17:01:46.995154",
     "status": "completed"
    },
    "tags": []
   },
   "source": [
    "You can use option `-t` (`--to`) to assign the name of the variable"
   ]
  },
  {
   "cell_type": "code",
   "execution_count": 24,
   "metadata": {
    "kernel": "Bash",
    "papermill": {
     "duration": 0.200582,
     "end_time": "2019-12-23T17:01:47.334465",
     "exception": false,
     "start_time": "2019-12-23T17:01:47.133883",
     "status": "completed"
    },
    "tags": []
   },
   "outputs": [
    {
     "name": "stdout",
     "output_type": "stream",
     "text": [
      "I am from Bash\n",
      "\n"
     ]
    }
   ],
   "source": [
    "%capture stdout --to bash_output\n",
    "echo \"I am from Bash\""
   ]
  },
  {
   "cell_type": "code",
   "execution_count": 25,
   "metadata": {
    "kernel": "SoS",
    "papermill": {
     "duration": 1.848959,
     "end_time": "2019-12-23T17:01:49.235328",
     "exception": false,
     "start_time": "2019-12-23T17:01:47.386369",
     "status": "completed"
    },
    "tags": []
   },
   "outputs": [
    {
     "data": {
      "text/plain": [
       "'I am from Bash\\r\\n\\n'"
      ]
     },
     "execution_count": 25,
     "metadata": {},
     "output_type": "execute_result"
    }
   ],
   "source": [
    "bash_output"
   ]
  },
  {
   "cell_type": "markdown",
   "metadata": {
    "kernel": "SoS",
    "papermill": {
     "duration": 0.047588,
     "end_time": "2019-12-23T17:01:49.327772",
     "exception": false,
     "start_time": "2019-12-23T17:01:49.280184",
     "status": "completed"
    },
    "tags": []
   },
   "source": [
    "As a more complex example, the following cell runs a SPARQL query and returns multiple messages."
   ]
  },
  {
   "cell_type": "code",
   "execution_count": 26,
   "metadata": {
    "kernel": "SPARQL",
    "papermill": {
     "duration": 0.055173,
     "end_time": "2019-12-23T17:01:49.432126",
     "exception": true,
     "start_time": "2019-12-23T17:01:49.376953",
     "status": "failed"
    },
    "tags": []
   },
   "outputs": [
    {
     "data": {
      "text/html": [
       "<div class=\"krn-spql\"><div class=\"magic\">Return format: JSON</div><div class=\"magic\">Display: table</div><div class=\"magic\">Endpoint set to: http://dbpedia.org/sparql</div></div>"
      ],
      "text/plain": [
       "Return format: JSON\n",
       "Display: table\n",
       "Endpoint set to: http://dbpedia.org/sparql\n"
      ]
     },
     "metadata": {},
     "output_type": "display_data"
    },
    {
     "data": {
      "text/html": [
       "<div class=\"krn-spql\"><table><tr class=hdr><th>person</th>\n",
       "<th>name</th></tr><tr class=odd><td class=val><a href=\"http://dbpedia.org/resource/Paul_Da_Vinci\" target=\"_other\">http://dbpedia.org/resource/Paul_Da_Vinci</a></td>\n",
       "<td class=val>Paul Da Vinci</td></tr><tr class=even><td class=val><a href=\"http://dbpedia.org/resource/Leonardo_da_Vinci\" target=\"_other\">http://dbpedia.org/resource/Leonardo_da_Vinci</a></td>\n",
       "<td class=val>Leonardo da Vinci</td></tr></table><div class=\"tinfo\">Total: 2, Shown: 2</div></div>"
      ]
     },
     "metadata": {},
     "output_type": "display_data"
    },
    {
     "data": {
      "text/html": [
       "<div class=\"sos_hint\">Cell output captured to variable __captured with content</div>"
      ]
     },
     "metadata": {},
     "output_type": "display_data"
    },
    {
     "data": {
      "text/plain": [
       "[('display_data',\n",
       "  {'data': {'text/html': '<div class=\"krn-spql\"><div class=\"magic\">Return '\n",
       "                         'format: JSON</div><div class=\"magic\">Display: '\n",
       "                         'table</div><div class=\"magic\">Endpoint set to: '\n",
       "                         'http://dbpedia.org/sparql</div></div>',\n",
       "            'text/plain': 'Return format: JSON\\n'\n",
       "                          'Display: table\\n'\n",
       "                          'Endpoint set to: http://dbpedia.org/sparql\\n'},\n",
       "   'metadata': {}}),\n",
       " ('display_data',\n",
       "  {'data': {'text/html': '<div class=\"krn-spql\"><table><tr '\n",
       "                         'class=hdr><th>person</th>\\n'\n",
       "                         '<th>name</th></tr><tr class=odd><td class=val><a '\n",
       "                         'href=\"http://dbpedia.org/resource/Paul_Da_Vinci\" '\n",
       "                         'target=\"_other\">http://dbpedia.org/resource/Paul_Da_Vinci</a></td>\\n'\n",
       "                         '<td class=val>Paul Da Vinci</td></tr><tr '\n",
       "                         'class=even><td class=val><a '\n",
       "                         'href=\"http://dbpedia.org/resource/Leonardo_da_Vinci\" '\n",
       "                         'target=\"_other\">http://dbpedia.org/resource/Leonardo_da_Vinci</a></td>\\n'\n",
       "                         '<td class=val>Leonardo da '\n",
       "                         'Vinci</td></tr></table><div class=\"tinfo\">Total: 2, '\n",
       "                         'Shown: 2</div></div>'},\n",
       "   'metadata': {}})]"
      ]
     },
     "metadata": {},
     "output_type": "display_data"
    }
   ],
   "source": [
    "%capture\n",
    "\n",
    "%format json\n",
    "%display table \n",
    "%endpoint http://dbpedia.org/sparql\n",
    "\n",
    "PREFIX rdfs: <http://www.w3.org/2000/01/rdf-schema#>\n",
    "PREFIX foaf:  <http://xmlns.com/foaf/0.1/>\n",
    "SELECT ?person ?name\n",
    "WHERE {\n",
    "    ?person a foaf:Person .\n",
    "    ?person rdfs:label ?name\n",
    "    FILTER regex(?name,\"da Vinci\",\"i\")\n",
    "    FILTER langMatches(lang(?name),\"en\")\n",
    "} LIMIT 2"
   ]
  },
  {
   "cell_type": "markdown",
   "metadata": {
    "kernel": "sparql",
    "papermill": {
     "duration": null,
     "end_time": null,
     "exception": null,
     "start_time": null,
     "status": "pending"
    },
    "tags": []
   },
   "source": [
    "The `__captured` variable shows all returned messages"
   ]
  },
  {
   "cell_type": "code",
   "execution_count": 27,
   "metadata": {
    "kernel": "SoS",
    "papermill": {
     "duration": null,
     "end_time": null,
     "exception": null,
     "start_time": null,
     "status": "pending"
    },
    "tags": []
   },
   "outputs": [
    {
     "data": {
      "text/plain": [
       "[('display_data',\n",
       "  {'data': {'text/html': '<div class=\"krn-spql\"><div class=\"magic\">Return format: JSON</div><div class=\"magic\">Display: table</div><div class=\"magic\">Endpoint set to: http://dbpedia.org/sparql</div></div>',\n",
       "    'text/plain': 'Return format: JSON\\nDisplay: table\\nEndpoint set to: http://dbpedia.org/sparql\\n'},\n",
       "   'metadata': {}}),\n",
       " ('display_data',\n",
       "  {'data': {'text/html': '<div class=\"krn-spql\"><table><tr class=hdr><th>person</th>\\n<th>name</th></tr><tr class=odd><td class=val><a href=\"http://dbpedia.org/resource/Paul_Da_Vinci\" target=\"_other\">http://dbpedia.org/resource/Paul_Da_Vinci</a></td>\\n<td class=val>Paul Da Vinci</td></tr><tr class=even><td class=val><a href=\"http://dbpedia.org/resource/Leonardo_da_Vinci\" target=\"_other\">http://dbpedia.org/resource/Leonardo_da_Vinci</a></td>\\n<td class=val>Leonardo da Vinci</td></tr></table><div class=\"tinfo\">Total: 2, Shown: 2</div></div>'},\n",
       "   'metadata': {}})]"
      ]
     },
     "execution_count": 27,
     "metadata": {},
     "output_type": "execute_result"
    }
   ],
   "source": [
    "__captured"
   ]
  },
  {
   "cell_type": "markdown",
   "metadata": {
    "kernel": "SoS",
    "papermill": {
     "duration": null,
     "end_time": null,
     "exception": null,
     "start_time": null,
     "status": "pending"
    },
    "tags": []
   },
   "source": [
    "You can then save the content of `text/html` to a variable `html_table`"
   ]
  },
  {
   "cell_type": "code",
   "execution_count": 28,
   "metadata": {
    "kernel": "SPARQL",
    "papermill": {
     "duration": null,
     "end_time": null,
     "exception": null,
     "start_time": null,
     "status": "pending"
    },
    "tags": []
   },
   "outputs": [
    {
     "data": {
      "text/html": [
       "<div class=\"krn-spql\"><div class=\"magic\">Return format: JSON</div><div class=\"magic\">Display: table</div><div class=\"magic\">Endpoint set to: http://dbpedia.org/sparql</div></div>"
      ],
      "text/plain": [
       "Return format: JSON\n",
       "Display: table\n",
       "Endpoint set to: http://dbpedia.org/sparql\n"
      ]
     },
     "metadata": {},
     "output_type": "display_data"
    },
    {
     "data": {
      "text/html": [
       "<div class=\"krn-spql\"><table><tr class=hdr><th>person</th>\n",
       "<th>name</th></tr><tr class=odd><td class=val><a href=\"http://dbpedia.org/resource/Paul_Da_Vinci\" target=\"_other\">http://dbpedia.org/resource/Paul_Da_Vinci</a></td>\n",
       "<td class=val>Paul Da Vinci</td></tr><tr class=even><td class=val><a href=\"http://dbpedia.org/resource/Leonardo_da_Vinci\" target=\"_other\">http://dbpedia.org/resource/Leonardo_da_Vinci</a></td>\n",
       "<td class=val>Leonardo da Vinci</td></tr></table><div class=\"tinfo\">Total: 2, Shown: 2</div></div>"
      ]
     },
     "metadata": {},
     "output_type": "display_data"
    }
   ],
   "source": [
    "%capture html --to html_table\n",
    "\n",
    "%format json\n",
    "%display table \n",
    "%endpoint http://dbpedia.org/sparql\n",
    "\n",
    "PREFIX rdfs: <http://www.w3.org/2000/01/rdf-schema#>\n",
    "PREFIX foaf:  <http://xmlns.com/foaf/0.1/>\n",
    "SELECT ?person ?name\n",
    "WHERE {\n",
    "    ?person a foaf:Person .\n",
    "    ?person rdfs:label ?name\n",
    "    FILTER regex(?name,\"da Vinci\",\"i\")\n",
    "    FILTER langMatches(lang(?name),\"en\")\n",
    "} LIMIT 2"
   ]
  },
  {
   "cell_type": "markdown",
   "metadata": {
    "kernel": "sparql",
    "papermill": {
     "duration": null,
     "end_time": null,
     "exception": null,
     "start_time": null,
     "status": "pending"
    },
    "tags": []
   },
   "source": [
    "which contains the `text/html` data of two messages"
   ]
  },
  {
   "cell_type": "code",
   "execution_count": 29,
   "metadata": {
    "kernel": "SoS",
    "papermill": {
     "duration": null,
     "end_time": null,
     "exception": null,
     "start_time": null,
     "status": "pending"
    },
    "tags": []
   },
   "outputs": [
    {
     "name": "stdout",
     "output_type": "stream",
     "text": [
      "<div class=\"krn-spql\"><div class=\"magic\">Return format: JSON</div><div class=\"magic\">Display: table</div><div class=\"magic\">Endpoint set to: http://dbpedia.org/sparql</div></div><div class=\"krn-spql\"><table><tr class=hdr><th>person</th>\n",
      "<th>name</th></tr><tr class=odd><td class=val><a href=\"http://dbpedia.org/resource/Paul_Da_Vinci\" target=\"_other\">http://dbpedia.org/resource/Paul_Da_Vinci</a></td>\n",
      "<td class=val>Paul Da Vinci</td></tr><tr class=even><td class=val><a href=\"http://dbpedia.org/resource/Leonardo_da_Vinci\" target=\"_other\">http://dbpedia.org/resource/Leonardo_da_Vinci</a></td>\n",
      "<td class=val>Leonardo da Vinci</td></tr></table><div class=\"tinfo\">Total: 2, Shown: 2</div></div>\n"
     ]
    }
   ],
   "source": [
    "print(html_table)"
   ]
  },
  {
   "cell_type": "markdown",
   "metadata": {
    "kernel": "SoS",
    "papermill": {
     "duration": null,
     "end_time": null,
     "exception": null,
     "start_time": null,
     "status": "pending"
    },
    "tags": []
   },
   "source": [
    "Then, if you would like to process the output programatically, you can use one of the many powerful Python modules"
   ]
  },
  {
   "cell_type": "code",
   "execution_count": 30,
   "metadata": {
    "kernel": "SoS",
    "papermill": {
     "duration": null,
     "end_time": null,
     "exception": null,
     "start_time": null,
     "status": "pending"
    },
    "tags": []
   },
   "outputs": [
    {
     "data": {
      "text/plain": [
       "[<a href=\"http://dbpedia.org/resource/Paul_Da_Vinci\" target=\"_other\">http://dbpedia.org/resource/Paul_Da_Vinci</a>,\n",
       " <a href=\"http://dbpedia.org/resource/Leonardo_da_Vinci\" target=\"_other\">http://dbpedia.org/resource/Leonardo_da_Vinci</a>]"
      ]
     },
     "execution_count": 30,
     "metadata": {},
     "output_type": "execute_result"
    }
   ],
   "source": [
    "from bs4 import BeautifulSoup\n",
    "soup = BeautifulSoup(html_table, 'html.parser')\n",
    "soup.find_all('a')"
   ]
  },
  {
   "cell_type": "markdown",
   "metadata": {
    "kernel": "SoS",
    "papermill": {
     "duration": null,
     "end_time": null,
     "exception": null,
     "start_time": null,
     "status": "pending"
    },
    "tags": []
   },
   "source": [
    "### Capture formatted content"
   ]
  },
  {
   "cell_type": "markdown",
   "metadata": {
    "kernel": "SoS",
    "papermill": {
     "duration": null,
     "end_time": null,
     "exception": null,
     "start_time": null,
     "status": "pending"
    },
    "tags": []
   },
   "source": [
    "If the output of a cell is well-formatted, it is possible to capture the output as variables in a type other than `str`.\n",
    "\n",
    "For example, if you would like to capture the size of some files from a few notebook files. Instead of using Python scripts, you could possibly use a shell command as follows "
   ]
  },
  {
   "cell_type": "code",
   "execution_count": 31,
   "metadata": {
    "kernel": "SoS",
    "papermill": {
     "duration": null,
     "end_time": null,
     "exception": null,
     "start_time": null,
     "status": "pending"
    },
    "tags": []
   },
   "outputs": [
    {
     "data": {
      "text/html": [
       "<div class=\"sos_hint\">> !ls -l ex*.ipynb  | awk '{printf(\"%s,%d\\n\", $10, $6)}'<br></div>"
      ]
     },
     "metadata": {},
     "output_type": "display_data"
    },
    {
     "name": "stdout",
     "output_type": "stream",
     "text": [
      "ls: ex*.ipynb: No such file or directory\n"
     ]
    }
   ],
   "source": [
    "!ls -l ex*.ipynb  | awk '{{printf(\"%s,%d\\n\", $10, $6)}}'"
   ]
  },
  {
   "cell_type": "markdown",
   "metadata": {
    "kernel": "SoS",
    "papermill": {
     "duration": null,
     "end_time": null,
     "exception": null,
     "start_time": null,
     "status": "pending"
    },
    "tags": []
   },
   "source": [
    "The output is well formatted so you can capture it in csv format as follows"
   ]
  },
  {
   "cell_type": "code",
   "execution_count": 32,
   "metadata": {
    "kernel": "SoS",
    "papermill": {
     "duration": null,
     "end_time": null,
     "exception": null,
     "start_time": null,
     "status": "pending"
    },
    "tags": []
   },
   "outputs": [
    {
     "data": {
      "text/html": [
       "<div class=\"sos_hint\">> !ls -l ex*.ipynb  | awk '{printf(\"%s,%d\\n\", $10, $6)}'<br></div>"
      ]
     },
     "metadata": {},
     "output_type": "display_data"
    },
    {
     "name": "stdout",
     "output_type": "stream",
     "text": [
      "ls: ex*.ipynb: No such file or directory\n"
     ]
    }
   ],
   "source": [
    "%capture stdout --as csv --to notebooks\n",
    "!ls -l ex*.ipynb  | awk '{{printf(\"%s,%d\\n\", $10, $6)}}'"
   ]
  },
  {
   "cell_type": "markdown",
   "metadata": {
    "kernel": "SoS",
    "papermill": {
     "duration": null,
     "end_time": null,
     "exception": null,
     "start_time": null,
     "status": "pending"
    },
    "tags": []
   },
   "source": [
    "The resulting variable is a Pandas DataFrame but unfortunately treated the first data line as header, which is not entirely correct here."
   ]
  },
  {
   "cell_type": "code",
   "execution_count": 33,
   "metadata": {
    "kernel": "SoS",
    "papermill": {
     "duration": null,
     "end_time": null,
     "exception": null,
     "start_time": null,
     "status": "pending"
    },
    "tags": []
   },
   "outputs": [
    {
     "data": {
      "text/html": [
       "<div>\n",
       "<style scoped>\n",
       "    .dataframe tbody tr th:only-of-type {\n",
       "        vertical-align: middle;\n",
       "    }\n",
       "\n",
       "    .dataframe tbody tr th {\n",
       "        vertical-align: top;\n",
       "    }\n",
       "\n",
       "    .dataframe thead th {\n",
       "        text-align: right;\n",
       "    }\n",
       "</style>\n",
       "<table border=\"1\" class=\"dataframe\">\n",
       "  <thead>\n",
       "    <tr style=\"text-align: right;\">\n",
       "      <th></th>\n",
       "      <th>ls: ex*.ipynb: No such file or directory</th>\n",
       "    </tr>\n",
       "  </thead>\n",
       "  <tbody>\n",
       "  </tbody>\n",
       "</table>\n",
       "</div>"
      ],
      "text/plain": [
       "Empty DataFrame\n",
       "Columns: [ls: ex*.ipynb: No such file or directory]\n",
       "Index: []"
      ]
     },
     "execution_count": 33,
     "metadata": {},
     "output_type": "execute_result"
    }
   ],
   "source": [
    "notebooks"
   ]
  },
  {
   "cell_type": "markdown",
   "metadata": {
    "kernel": "SoS",
    "papermill": {
     "duration": null,
     "end_time": null,
     "exception": null,
     "start_time": null,
     "status": "pending"
    },
    "tags": []
   },
   "source": [
    "The `%capture` magic can capture data in `text` (default), `json`, `csv`, and `tsv` format, and can append to instead of replacing an existing variable (option `-a`). Please refer to the [SoS Magics reference](sos_magics.html) or command `%capture -h` for a comlete list of options."
   ]
  },
  {
   "cell_type": "markdown",
   "metadata": {
    "kernel": "SoS",
    "papermill": {
     "duration": null,
     "end_time": null,
     "exception": null,
     "start_time": null,
     "status": "pending"
    },
    "tags": []
   },
   "source": [
    "## Render cell output (magic `%render`)"
   ]
  },
  {
   "cell_type": "markdown",
   "metadata": {
    "kernel": "SoS",
    "papermill": {
     "duration": null,
     "end_time": null,
     "exception": null,
     "start_time": null,
     "status": "pending"
    },
    "tags": []
   },
   "source": [
    "The `%render` magic intercepts the output of a cell, convert it to certain format before displaying it in the notebook. The format can be any format supported by the [`IPython.display` module](https://ipython.org/ipython-doc/3/api/generated/IPython.display.html) and is default to `Markdown`."
   ]
  },
  {
   "cell_type": "markdown",
   "metadata": {
    "kernel": "SoS",
    "papermill": {
     "duration": null,
     "end_time": null,
     "exception": null,
     "start_time": null,
     "status": "pending"
    },
    "tags": []
   },
   "source": [
    "For example, if you have a dataset "
   ]
  },
  {
   "cell_type": "code",
   "execution_count": 34,
   "metadata": {
    "kernel": "SoS",
    "papermill": {
     "duration": null,
     "end_time": null,
     "exception": null,
     "start_time": null,
     "status": "pending"
    },
    "tags": []
   },
   "outputs": [],
   "source": [
    "data = [('John', 'Smith', 50),\n",
    "        ('Eve', 'Jackson', 35)\n",
    "       ]"
   ]
  },
  {
   "cell_type": "markdown",
   "metadata": {
    "kernel": "SoS",
    "papermill": {
     "duration": null,
     "end_time": null,
     "exception": null,
     "start_time": null,
     "status": "pending"
    },
    "tags": []
   },
   "source": [
    "You can format it in HTML format"
   ]
  },
  {
   "cell_type": "code",
   "execution_count": 35,
   "metadata": {
    "kernel": "SoS",
    "papermill": {
     "duration": null,
     "end_time": null,
     "exception": null,
     "start_time": null,
     "status": "pending"
    },
    "tags": []
   },
   "outputs": [
    {
     "name": "stdout",
     "output_type": "stream",
     "text": [
      "\n",
      "<table>\n",
      "  <tr>\n",
      "    <th>Firstname</th>\n",
      "    <th>Lastname</th> \n",
      "    <th>Age</th>\n",
      "  </tr>\n",
      "\n",
      "  <tr>\n",
      "    <td>John</td>\n",
      "    <td>Smith</td> \n",
      "    <td>50</td>\n",
      "  </tr>\n",
      "\n",
      "  <tr>\n",
      "    <td>Eve</td>\n",
      "    <td>Jackson</td> \n",
      "    <td>35</td>\n",
      "  </tr>\n",
      "</table>\n"
     ]
    }
   ],
   "source": [
    "res = '''\n",
    "<table>\n",
    "  <tr>\n",
    "    <th>Firstname</th>\n",
    "    <th>Lastname</th> \n",
    "    <th>Age</th>\n",
    "  </tr>\n",
    "'''\n",
    "for first_name, last_name, age in data:\n",
    "    res += f'''\n",
    "  <tr>\n",
    "    <td>{first_name}</td>\n",
    "    <td>{last_name}</td> \n",
    "    <td>{age}</td>\n",
    "  </tr>\n",
    "'''\n",
    "res += '</table>'\n",
    "\n",
    "print(res)"
   ]
  },
  {
   "cell_type": "markdown",
   "metadata": {
    "kernel": "SoS",
    "papermill": {
     "duration": null,
     "end_time": null,
     "exception": null,
     "start_time": null,
     "status": "pending"
    },
    "tags": []
   },
   "source": [
    "and render it as a HTML table."
   ]
  },
  {
   "cell_type": "code",
   "execution_count": 36,
   "metadata": {
    "kernel": "SoS",
    "papermill": {
     "duration": null,
     "end_time": null,
     "exception": null,
     "start_time": null,
     "status": "pending"
    },
    "tags": []
   },
   "outputs": [
    {
     "data": {
      "text/html": [
       "\n",
       "<table>\n",
       "  <tr>\n",
       "    <th>Firstname</th>\n",
       "    <th>Lastname</th> \n",
       "    <th>Age</th>\n",
       "  </tr>\n",
       "\n",
       "  <tr>\n",
       "    <td>John</td>\n",
       "    <td>Smith</td> \n",
       "    <td>50</td>\n",
       "  </tr>\n",
       "\n",
       "  <tr>\n",
       "    <td>Eve</td>\n",
       "    <td>Jackson</td> \n",
       "    <td>35</td>\n",
       "  </tr>\n",
       "</table>"
      ],
      "text/plain": [
       "<IPython.core.display.HTML object>"
      ]
     },
     "execution_count": 36,
     "metadata": {},
     "output_type": "execute_result"
    }
   ],
   "source": [
    "%render --as HTML\n",
    "res"
   ]
  },
  {
   "cell_type": "markdown",
   "metadata": {
    "kernel": "SoS",
    "papermill": {
     "duration": null,
     "end_time": null,
     "exception": null,
     "start_time": null,
     "status": "pending"
    },
    "tags": []
   },
   "source": [
    "Currently `%render` only renders `stdout` (of `stream` messages, default) and `text` (`text/plain` of `display_data` messages) contents, and you should probably use `%capture raw` to check the type of output before you `%render`."
   ]
  },
  {
   "cell_type": "markdown",
   "metadata": {
    "kernel": "SoS",
    "papermill": {
     "duration": null,
     "end_time": null,
     "exception": null,
     "start_time": null,
     "status": "pending"
    },
    "tags": []
   },
   "source": [
    "The `%render` magic accepts any renderer that is defined in the `IPython.display` module. The following cell lists all renderers,"
   ]
  },
  {
   "cell_type": "code",
   "execution_count": 37,
   "metadata": {
    "kernel": "SoS",
    "papermill": {
     "duration": null,
     "end_time": null,
     "exception": null,
     "start_time": null,
     "status": "pending"
    },
    "tags": []
   },
   "outputs": [
    {
     "name": "stdout",
     "output_type": "stream",
     "text": [
      "Options of magic %render\n",
      "* DisplayObject\n",
      "* TextDisplayObject\n",
      "* Pretty\n",
      "* HTML\n",
      "* Markdown\n",
      "* Math\n",
      "* Latex\n",
      "* SVG\n",
      "* ProgressBar\n",
      "* JSON\n",
      "* GeoJSON\n",
      "* Javascript\n",
      "* Image\n",
      "* Video\n",
      "* Audio\n",
      "* Code\n"
     ]
    }
   ],
   "source": [
    "import IPython.display\n",
    "import inspect\n",
    "\n",
    "print('Options of magic %render')\n",
    "for key in IPython.display.__dict__.keys():\n",
    "    cls = getattr(IPython.display, key)\n",
    "    if inspect.isclass(cls) and issubclass(cls, IPython.display.DisplayObject):\n",
    "        print('* {}'.format(key))"
   ]
  },
  {
   "cell_type": "markdown",
   "metadata": {
    "kernel": "SoS",
    "papermill": {
     "duration": null,
     "end_time": null,
     "exception": null,
     "start_time": null,
     "status": "pending"
    },
    "tags": []
   },
   "source": [
    "and of course a `%render` magic would treat the output as markdown format and display the items as bullet points:"
   ]
  },
  {
   "cell_type": "code",
   "execution_count": 38,
   "metadata": {
    "kernel": "SoS",
    "papermill": {
     "duration": null,
     "end_time": null,
     "exception": null,
     "start_time": null,
     "status": "pending"
    },
    "tags": []
   },
   "outputs": [
    {
     "data": {
      "text/markdown": [
       "Options of magic %render\n",
       "* DisplayObject\n",
       "* TextDisplayObject\n",
       "* Pretty\n",
       "* HTML\n",
       "* Markdown\n",
       "* Math\n",
       "* Latex\n",
       "* SVG\n",
       "* ProgressBar\n",
       "* JSON\n",
       "* GeoJSON\n",
       "* Javascript\n",
       "* Image\n",
       "* Video\n",
       "* Audio\n",
       "* Code\n"
      ],
      "text/plain": [
       "<IPython.core.display.Markdown object>"
      ]
     },
     "metadata": {},
     "output_type": "display_data"
    }
   ],
   "source": [
    "%render\n",
    "import IPython.display\n",
    "import inspect\n",
    "\n",
    "print('Options of magic %render')\n",
    "for key in IPython.display.__dict__.keys():\n",
    "    cls = getattr(IPython.display, key)\n",
    "    if inspect.isclass(cls) and issubclass(cls, IPython.display.DisplayObject):\n",
    "        print('* {}'.format(key))"
   ]
  },
  {
   "cell_type": "markdown",
   "metadata": {
    "kernel": "SoS",
    "papermill": {
     "duration": null,
     "end_time": null,
     "exception": null,
     "start_time": null,
     "status": "pending"
    },
    "tags": []
   },
   "source": [
    "The ability to render text output as markdown text alleviatea a problem with the Jupyter notebooks in that its markdown cells cannot contain variables, so you cannot really mix results with their descriptions as easily as what Rmarkdown inline expressions do. However, with the `%render` magic, you can write markdown text as a string in any kernel, and use the `%render` magic to display it. \n",
    "\n",
    "For example, if you have `res` obtained from some analysis"
   ]
  },
  {
   "cell_type": "code",
   "execution_count": 39,
   "metadata": {
    "kernel": "R",
    "papermill": {
     "duration": null,
     "end_time": null,
     "exception": null,
     "start_time": null,
     "status": "pending"
    },
    "tags": []
   },
   "outputs": [],
   "source": [
    "res <- rnorm(5)"
   ]
  },
  {
   "cell_type": "markdown",
   "metadata": {
    "kernel": "R",
    "papermill": {
     "duration": null,
     "end_time": null,
     "exception": null,
     "start_time": null,
     "status": "pending"
    },
    "tags": []
   },
   "source": [
    "You can report the result by generating a markdown text programmatically and use the `%render` magic to render it"
   ]
  },
  {
   "cell_type": "code",
   "execution_count": 40,
   "metadata": {
    "kernel": "R",
    "papermill": {
     "duration": null,
     "end_time": null,
     "exception": null,
     "start_time": null,
     "status": "pending"
    },
    "tags": []
   },
   "outputs": [
    {
     "data": {
      "text/markdown": [
       "Array of size 5\n",
       "\n",
       " * -1.29775667019311 \n",
       " * 1.52784658220457 \n",
       " * 0.888725085044906 \n",
       " * -1.62874901435181 \n",
       " * -0.765030257705868 \n"
      ],
      "text/plain": [
       "<IPython.core.display.Markdown object>"
      ]
     },
     "metadata": {},
     "output_type": "display_data"
    }
   ],
   "source": [
    "%render\n",
    "cat(paste0('Array of size ', length(res), '\\n\\n'),\n",
    "    paste('*', res, '\\n'))"
   ]
  },
  {
   "cell_type": "markdown",
   "metadata": {
    "kernel": "R",
    "papermill": {
     "duration": null,
     "end_time": null,
     "exception": null,
     "start_time": null,
     "status": "pending"
    },
    "tags": []
   },
   "source": [
    "This is less intuitive than writing down markdown text directly but you have the flexibility to generate the markdown text using any language and you can use conditions and loops to automate the output of long reports."
   ]
  },
  {
   "cell_type": "markdown",
   "metadata": {
    "kernel": "SoS",
    "papermill": {
     "duration": null,
     "end_time": null,
     "exception": null,
     "start_time": null,
     "status": "pending"
    },
    "tags": []
   },
   "source": [
    "## Further reading\n",
    "\n",
    "* [Exchanging data among kernels](doc/user_guide/exchange_variable.html) for other options to exchange data between kernels"
   ]
  }
 ],
 "metadata": {
  "kernelspec": {
   "display_name": "SoS",
   "language": "sos",
   "name": "sos"
  },
  "language_info": {
   "codemirror_mode": "sos",
   "file_extension": ".sos",
   "mimetype": "text/x-sos",
   "name": "sos",
   "nbconvert_exporter": "sos_notebook.converter.SoS_Exporter",
   "pygments_lexer": "sos"
  },
  "papermill": {
   "duration": 26.81881,
   "end_time": "2019-12-23T17:01:54.699644",
   "environment_variables": {},
   "exception": true,
   "input_path": "/Users/bpeng1/sos/sos-docs/src/user_guide/expand_capture_render.ipynb",
   "output_path": "expand_capture_render.ipynb_rerun.ipynb",
   "parameters": {},
   "start_time": "2019-12-23T17:01:27.880834",
   "version": "1.1.0"
  },
  "sos": {
   "kernels": [
    [
     "Bash",
     "calysto_bash",
     "Bash",
     "#E6EEFF",
     "shell"
    ],
    [
     "Markdown",
     "markdown",
     "markdown",
     "",
     "markdown"
    ],
    [
     "R",
     "ir",
     "R",
     "#DCDCDA",
     "r"
    ],
    [
     "SPARQL",
     "sparql",
     "sparql",
     "",
     {
      "name": "sparql"
     }
    ],
    [
     "SoS",
     "sos",
     "",
     "",
     "sos"
    ]
   ],
   "panel": {
    "displayed": true,
    "height": 0
   },
   "version": "0.21.3"
  }
 },
 "nbformat": 4,
 "nbformat_minor": 4
}
