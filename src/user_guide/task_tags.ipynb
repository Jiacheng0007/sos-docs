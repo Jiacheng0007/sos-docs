{
 "cells": [
  {
   "cell_type": "markdown",
   "metadata": {
    "kernel": "SoS",
    "tags": []
   },
   "source": [
    "# Task tags"
   ]
  },
  {
   "cell_type": "markdown",
   "metadata": {
    "kernel": "SoS",
    "tags": []
   },
   "source": [
    "* **Difficulty level**: easy\n",
    "* **Time need to lean**: 10 minutes or less\n",
    "* **Key points**:\n",
    "    * Use task option `tag` to give additional information to tasks\n",
    "  "
   ]
  },
  {
   "cell_type": "markdown",
   "metadata": {
    "kernel": "SoS",
    "tags": []
   },
   "source": [
    "## Task tags"
   ]
  },
  {
   "cell_type": "markdown",
   "metadata": {
    "kernel": "SoS",
    "tags": []
   },
   "source": [
    "Every task is associated with one or more **tags**, which are simply strings assigned to the task. Tasks can be identified by their unique IDs, or by their tags with option `--tags` from commands such as `sos status`, `sos kill`, and `sos purge`.\n",
    "\n",
    "By default, a task is tagged by step name and workflow ID. For example, three tasks are generated from the following workflow, all the tasks have a tag `c43ef3b6fcb97752`; the task from step `10` has a tag `10`, and two tasks from step `20` have tag `20`."
   ]
  },
  {
   "cell_type": "code",
   "execution_count": 1,
   "metadata": {
    "kernel": "SoS",
    "tags": []
   },
   "outputs": [
    {
     "name": "stdout",
     "output_type": "stream",
     "text": [
      "INFO: 8ae65992fde3b749 \u001b[32mstarted\u001b[0m\n",
      "INFO: 285bba6cb33a5590 \u001b[32mstarted\u001b[0m\n",
      "INFO: 671ff74845245f7c \u001b[32mstarted\u001b[0m\n"
     ]
    }
   ],
   "source": [
    "%run -q localhost\n",
    "\n",
    "[10]\n",
    "task:\n",
    "sh:\n",
    " echo \"step 1\"\n",
    " sleep 2\n",
    " \n",
    "[20]\n",
    "input: for_each=dict(i=range(2))\n",
    "task:\n",
    "sh: expand=True\n",
    "  echo \"step 2\"\n",
    "  sleep {i}\n"
   ]
  },
  {
   "cell_type": "markdown",
   "metadata": {
    "kernel": "SoS",
    "tags": []
   },
   "source": [
    "The tags can be used to identify a group of tasks. For example, the following magic (and equivalently command `sos status --tags 20`) displays all tasks from step `20`."
   ]
  },
  {
   "cell_type": "code",
   "execution_count": 2,
   "metadata": {
    "kernel": "SoS",
    "tags": []
   },
   "outputs": [
    {
     "name": "stdout",
     "output_type": "stream",
     "text": [
      "285bba6cb33a5590\t20 c43ef3b6fcb97752 user_guide\tSignature checked\tcompleted\n",
      "671ff74845245f7c\t20 c43ef3b6fcb97752 user_guide\tSignature checked\tcompleted\n"
     ]
    }
   ],
   "source": [
    "%task status --tags 20"
   ]
  },
  {
   "cell_type": "markdown",
   "metadata": {
    "kernel": "SoS",
    "tags": []
   },
   "source": [
    "## Option `tags`"
   ]
  },
  {
   "cell_type": "markdown",
   "metadata": {
    "kernel": "SoS",
    "tags": []
   },
   "source": [
    "Option `tags` adds additional tags to each task. A tag can contain alphabetic and numeric characters, dash (`-`), underscore (`_`), and dot (`.`). Tags of other types will be converted to string, and tags with other characters will still be accepted but with non-comforming characters removed.\n",
    "\n",
    "For example, in the following workflow, by adding `_input` as a task tag, it becomes much easier to identify the input file that each task is handling."
   ]
  },
  {
   "cell_type": "code",
   "execution_count": 3,
   "metadata": {
    "kernel": "SoS",
    "tags": []
   },
   "outputs": [
    {
     "name": "stdout",
     "output_type": "stream",
     "text": [
      "INFO: 1dda9e28e78cc509 \u001b[32mstarted\u001b[0m\n",
      "INFO: 48e93dd54880d65f \u001b[32mstarted\u001b[0m\n"
     ]
    }
   ],
   "source": [
    "!touch a.txt b.txt\n",
    "\n",
    "%run -q localhost\n",
    "input: 'a.txt', 'b.txt', group_by=1\n",
    "\n",
    "task: tags=_input\n",
    "sh: expand=True\n",
    "  touch _input"
   ]
  },
  {
   "cell_type": "markdown",
   "metadata": {
    "kernel": "SoS",
    "tags": []
   },
   "source": [
    "## Further reading\n",
    "\n",
    "* [`task` statement](task_statement.html)\n",
    "* [Task management](task_management.html)"
   ]
  }
 ],
 "metadata": {
  "kernelspec": {
   "display_name": "SoS",
   "language": "sos",
   "name": "sos"
  },
  "language_info": {
   "codemirror_mode": "sos",
   "file_extension": ".sos",
   "mimetype": "text/x-sos",
   "name": "sos",
   "nbconvert_exporter": "sos_notebook.converter.SoS_Exporter",
   "pygments_lexer": "sos"
  },
  "sos": {
   "kernels": [
    [
     "Bash",
     "bash",
     "Bash",
     "#E6EEFF"
    ],
    [
     "R",
     "ir",
     "R",
     "#DCDCDA"
    ],
    [
     "SoS",
     "sos",
     "",
     ""
    ]
   ],
   "panel": {
    "displayed": true,
    "height": 0
   },
   "version": "0.21.5"
  }
 },
 "nbformat": 4,
 "nbformat_minor": 4
}
