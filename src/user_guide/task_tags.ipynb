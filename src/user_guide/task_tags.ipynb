{
 "cells": [
  {
   "cell_type": "markdown",
   "metadata": {
    "kernel": "SoS",
    "papermill": {
     "duration": 0.011098,
     "end_time": "2019-12-23T17:07:56.966059",
     "exception": false,
     "start_time": "2019-12-23T17:07:56.954961",
     "status": "completed"
    },
    "tags": []
   },
   "source": [
    "# Adding additional tags to tasks"
   ]
  },
  {
   "cell_type": "markdown",
   "metadata": {
    "kernel": "SoS",
    "papermill": {
     "duration": 0.009018,
     "end_time": "2019-12-23T17:07:56.987409",
     "exception": false,
     "start_time": "2019-12-23T17:07:56.978391",
     "status": "completed"
    },
    "tags": []
   },
   "source": [
    "* **Difficulty level**: easy\n",
    "* **Time need to lean**: 10 minutes or less\n",
    "* **Key points**:\n",
    "    * Use task option `tag` to give additional information to tasks\n",
    "  "
   ]
  },
  {
   "cell_type": "markdown",
   "metadata": {
    "kernel": "SoS",
    "papermill": {
     "duration": 0.007571,
     "end_time": "2019-12-23T17:07:57.003490",
     "exception": false,
     "start_time": "2019-12-23T17:07:56.995919",
     "status": "completed"
    },
    "tags": []
   },
   "source": [
    "## Task tags"
   ]
  },
  {
   "cell_type": "markdown",
   "metadata": {
    "kernel": "SoS",
    "papermill": {
     "duration": 0.009841,
     "end_time": "2019-12-23T17:07:57.020599",
     "exception": false,
     "start_time": "2019-12-23T17:07:57.010758",
     "status": "completed"
    },
    "tags": []
   },
   "source": [
    "Every task is associated with one or more **tags**, which are simply strings assigned to the task. Tasks can be identified by their unique IDs, or by their tags with option `--tags` from commands such as `sos status`, `sos kill`, and `sos purge`.\n",
    "\n",
    "By default, a task is tagged by step name and workflow ID. For example, three tasks are generated from the following workflow, all the tasks have a tag `c43ef3b6fcb97752`; the task from step `10` has a tag `10`, and two tasks from step `20` have tag `20`."
   ]
  },
  {
   "cell_type": "code",
   "execution_count": 1,
   "metadata": {
    "kernel": "SoS",
    "papermill": {
     "duration": 17.872009,
     "end_time": "2019-12-23T17:08:14.900183",
     "exception": false,
     "start_time": "2019-12-23T17:07:57.028174",
     "status": "completed"
    },
    "tags": []
   },
   "outputs": [
    {
     "name": "stdout",
     "output_type": "stream",
     "text": [
      "INFO: 8ae65992fde3b749 \u001b[32mstarted\u001b[0m\n"
     ]
    },
    {
     "name": "stdout",
     "output_type": "stream",
     "text": [
      "INFO: 671ff74845245f7c \u001b[32mstarted\u001b[0m\n"
     ]
    },
    {
     "name": "stdout",
     "output_type": "stream",
     "text": [
      "INFO: 285bba6cb33a5590 \u001b[32mstarted\u001b[0m\n"
     ]
    }
   ],
   "source": [
    "%run -q localhost\n",
    "\n",
    "[10]\n",
    "task:\n",
    "sh:\n",
    " echo \"step 1\"\n",
    " sleep 2\n",
    " \n",
    "[20]\n",
    "input: for_each=dict(i=range(2))\n",
    "task:\n",
    "sh: expand=True\n",
    "  echo \"step 2\"\n",
    "  sleep {i}\n"
   ]
  },
  {
   "cell_type": "markdown",
   "metadata": {
    "kernel": "SoS",
    "papermill": {
     "duration": 0.012786,
     "end_time": "2019-12-23T17:08:14.922871",
     "exception": false,
     "start_time": "2019-12-23T17:08:14.910085",
     "status": "completed"
    },
    "tags": []
   },
   "source": [
    "The tags can be used to identify a group of tasks. For example, the following magic (and equivalently command `sos status --tags 20`) displays all tasks from step `20`."
   ]
  },
  {
   "cell_type": "code",
   "execution_count": 2,
   "metadata": {
    "kernel": "SoS",
    "papermill": {
     "duration": 1.970876,
     "end_time": "2019-12-23T17:08:16.903800",
     "exception": false,
     "start_time": "2019-12-23T17:08:14.932924",
     "status": "completed"
    },
    "tags": []
   },
   "outputs": [
    {
     "name": "stdout",
     "output_type": "stream",
     "text": [
      "671ff74845245f7c\t20 c43ef3b6fcb97752 \tSignature checked\tcompleted\n",
      "285bba6cb33a5590\t20 c43ef3b6fcb97752 \tSignature checked\tcompleted\n"
     ]
    }
   ],
   "source": [
    "%task status --tags 20"
   ]
  },
  {
   "cell_type": "markdown",
   "metadata": {
    "kernel": "SoS",
    "papermill": {
     "duration": 0.008881,
     "end_time": "2019-12-23T17:08:16.921336",
     "exception": false,
     "start_time": "2019-12-23T17:08:16.912455",
     "status": "completed"
    },
    "tags": []
   },
   "source": [
    "## Option `tags`"
   ]
  },
  {
   "cell_type": "markdown",
   "metadata": {
    "kernel": "SoS",
    "papermill": {
     "duration": 0.01099,
     "end_time": "2019-12-23T17:08:16.945727",
     "exception": false,
     "start_time": "2019-12-23T17:08:16.934737",
     "status": "completed"
    },
    "tags": []
   },
   "source": [
    "Option `tags` adds additional tags to each task. A tag can contain alphabetic and numeric characters, dash (`-`), underscore (`_`), and dot (`.`). Tags of other types will be converted to string, and tags with other characters will still be accepted but with non-comforming characters removed.\n",
    "\n",
    "For example, in the following workflow, by adding `_input` as a task tag, it becomes much easier to identify the input file that each task is handling."
   ]
  },
  {
   "cell_type": "code",
   "execution_count": 3,
   "metadata": {
    "kernel": "SoS",
    "papermill": {
     "duration": 16.808919,
     "end_time": "2019-12-23T17:08:33.767459",
     "exception": false,
     "start_time": "2019-12-23T17:08:16.958540",
     "status": "completed"
    },
    "tags": []
   },
   "outputs": [
    {
     "name": "stdout",
     "output_type": "stream",
     "text": [
      "INFO: 1dda9e28e78cc509 \u001b[32mstarted\u001b[0m\n"
     ]
    },
    {
     "name": "stdout",
     "output_type": "stream",
     "text": [
      "INFO: 48e93dd54880d65f \u001b[32mstarted\u001b[0m\n"
     ]
    }
   ],
   "source": [
    "!touch a.txt b.txt\n",
    "\n",
    "%run -q localhost\n",
    "input: 'a.txt', 'b.txt', group_by=1\n",
    "\n",
    "task: tags=_input\n",
    "sh: expand=True\n",
    "  touch _input"
   ]
  },
  {
   "cell_type": "markdown",
   "metadata": {
    "kernel": "SoS",
    "papermill": {
     "duration": 0.008685,
     "end_time": "2019-12-23T17:08:33.785643",
     "exception": false,
     "start_time": "2019-12-23T17:08:33.776958",
     "status": "completed"
    },
    "tags": []
   },
   "source": [
    "## Further reading\n",
    "\n",
    "* [`task` statement](task_statement.html)\n",
    "* [Task management](task_management.html)"
   ]
  }
 ],
 "metadata": {
  "kernelspec": {
   "display_name": "SoS",
   "language": "sos",
   "name": "sos"
  },
  "language_info": {
   "codemirror_mode": "sos",
   "file_extension": ".sos",
   "mimetype": "text/x-sos",
   "name": "sos",
   "nbconvert_exporter": "sos_notebook.converter.SoS_Exporter",
   "pygments_lexer": "sos"
  },
  "papermill": {
   "duration": 44.99694,
   "end_time": "2019-12-23T17:08:38.987433",
   "environment_variables": {},
   "exception": null,
   "input_path": "/Users/bpeng1/sos/sos-docs/src/user_guide/task_tags.ipynb",
   "output_path": "task_tags.ipynb_rerun.ipynb",
   "parameters": {},
   "start_time": "2019-12-23T17:07:53.990493",
   "version": "1.1.0"
  },
  "sos": {
   "kernels": [
    [
     "Bash",
     "bash",
     "Bash",
     "#E6EEFF"
    ],
    [
     "R",
     "ir",
     "R",
     "#DCDCDA"
    ],
    [
     "SoS",
     "sos",
     "",
     ""
    ]
   ],
   "panel": {
    "displayed": true,
    "height": 0
   },
   "version": "0.21.2"
  }
 },
 "nbformat": 4,
 "nbformat_minor": 4
}