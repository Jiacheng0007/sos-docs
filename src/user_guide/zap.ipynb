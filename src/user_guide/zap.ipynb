{
 "cells": [
  {
   "cell_type": "markdown",
   "metadata": {
    "kernel": "SoS",
    "papermill": {
     "duration": 0.024464,
     "end_time": "2019-12-23T17:09:10.413554",
     "exception": false,
     "start_time": "2019-12-23T17:09:10.389090",
     "status": "completed"
    },
    "tags": []
   },
   "source": [
    "# How to remove large intermediate files without breaking signatures"
   ]
  },
  {
   "cell_type": "markdown",
   "metadata": {
    "kernel": "SoS",
    "papermill": {
     "duration": 0.006832,
     "end_time": "2019-12-23T17:09:10.427649",
     "exception": false,
     "start_time": "2019-12-23T17:09:10.420817",
     "status": "completed"
    },
    "tags": []
   },
   "source": [
    "* **Difficulty level**: easy\n",
    "* **Time need to lean**: 10 minutes or less\n",
    "* **Key points**:\n",
    "  * `zapped` files have only their signatures\n",
    "  "
   ]
  },
  {
   "cell_type": "markdown",
   "metadata": {
    "kernel": "SoS",
    "papermill": {
     "duration": 0.006019,
     "end_time": "2019-12-23T17:09:10.440078",
     "exception": false,
     "start_time": "2019-12-23T17:09:10.434059",
     "status": "completed"
    },
    "tags": []
   },
   "source": [
    "### Removal of large intermediate files"
   ]
  },
  {
   "cell_type": "markdown",
   "metadata": {
    "kernel": "SoS",
    "papermill": {
     "duration": 0.006144,
     "end_time": "2019-12-23T17:09:10.452857",
     "exception": false,
     "start_time": "2019-12-23T17:09:10.446713",
     "status": "completed"
    },
    "tags": []
   },
   "source": [
    "SoS keep tracks of all intermediate files and will rerun steps only if any of the tracked files are removed or changed. However, it is often desired to remove some of the large non-essential intemediate files to reduce diskspace used by completed workflows, while allowing the workflow to be re-executed without these files. SoS provides a command\n",
    "\n",
    "```\n",
    "sos remove files --zap\n",
    "```\n",
    "\n",
    "to zap specified file, or for example\n",
    "\n",
    "```\n",
    "sos remove . --size +5G --zap\n",
    "```\n",
    "to zap all files larger than 5G. This command removes specified files but keeps a special `{file}.zapped` file with essential information (e.g. md5 signature, and size). SoS would consider a file exist when a `.zapped` file is present and will only regenerate the file if the actual file is needed for a later step."
   ]
  },
  {
   "cell_type": "markdown",
   "metadata": {
    "kernel": "SoS",
    "papermill": {
     "duration": 0.006166,
     "end_time": "2019-12-23T17:09:10.465496",
     "exception": false,
     "start_time": "2019-12-23T17:09:10.459330",
     "status": "completed"
    },
    "tags": []
   },
   "source": [
    "For example, let us execute a workflow with output `temp/result.txt`, and `temp/size.txt`."
   ]
  },
  {
   "cell_type": "code",
   "execution_count": 1,
   "metadata": {
    "kernel": "SoS",
    "papermill": {
     "duration": 4.410555,
     "end_time": "2019-12-23T17:09:14.882342",
     "exception": false,
     "start_time": "2019-12-23T17:09:10.471787",
     "status": "completed"
    },
    "tags": []
   },
   "outputs": [
    {
     "name": "stdout",
     "output_type": "stream",
     "text": [
      "2000+0 records in\n"
     ]
    },
    {
     "name": "stdout",
     "output_type": "stream",
     "text": [
      "2000+0 records out\n"
     ]
    },
    {
     "name": "stdout",
     "output_type": "stream",
     "text": [
      "1024000 bytes transferred in 0.045143 secs (22683528 bytes/sec)\n"
     ]
    },
    {
     "name": "stdout",
     "output_type": "stream",
     "text": [
      "\u001b[91mERROR\u001b[0m: \u001b[91m[20]: [0]: \n"
     ]
    },
    {
     "name": "stdout",
     "output_type": "stream",
     "text": [
      "---------------------------------------------------------------------------\n"
     ]
    },
    {
     "name": "stdout",
     "output_type": "stream",
     "text": [
      "NameError                                 Traceback (most recent call last)\n"
     ]
    },
    {
     "name": "stdout",
     "output_type": "stream",
     "text": [
      "script_1891641418037190126 in <module>\n"
     ]
    },
    {
     "name": "stdout",
     "output_type": "stream",
     "text": [
      "      with open(_output[0], 'w') as sz:\n"
     ]
    },
    {
     "name": "stdout",
     "output_type": "stream",
     "text": [
      "---->     sz.write(f\"Modified {_input}: {os.path.getsize(_input[0])}\\n\")\n"
     ]
    },
    {
     "name": "stdout",
     "output_type": "stream",
     "text": [
      "      \n"
     ]
    },
    {
     "name": "stdout",
     "output_type": "stream",
     "text": [
      "\n"
     ]
    },
    {
     "name": "stdout",
     "output_type": "stream",
     "text": [
      "NameError: name 'os' is not defined\u001b[0m\n"
     ]
    }
   ],
   "source": [
    "%run -s force\n",
    "[10]\n",
    "output:  \"temp/result.txt\"\n",
    "# added comment\n",
    "sh: expand=True\n",
    "    dd if=/dev/urandom of={_output} count=2000\n",
    "\n",
    "[20]\n",
    "output:  'temp/size.txt'\n",
    "with open(_output[0], 'w') as sz:\n",
    "    sz.write(f\"Modified {_input}: {os.path.getsize(_input[0])}\\n\")"
   ]
  },
  {
   "cell_type": "markdown",
   "metadata": {
    "kernel": "SoS",
    "papermill": {
     "duration": 0.009624,
     "end_time": "2019-12-23T17:09:14.901722",
     "exception": false,
     "start_time": "2019-12-23T17:09:14.892098",
     "status": "completed"
    },
    "tags": []
   },
   "source": [
    "and let us zap the intermediate file `temp/result.txt`,"
   ]
  },
  {
   "cell_type": "code",
   "execution_count": 2,
   "metadata": {
    "kernel": "SoS",
    "papermill": {
     "duration": 2.426635,
     "end_time": "2019-12-23T17:09:17.337780",
     "exception": false,
     "start_time": "2019-12-23T17:09:14.911145",
     "status": "completed"
    },
    "tags": []
   },
   "outputs": [
    {
     "name": "stdout",
     "output_type": "stream",
     "text": [
      "INFO: 404 tracked files are identified.\n"
     ]
    },
    {
     "name": "stdout",
     "output_type": "stream",
     "text": [
      "Zap tracked file temp/result.txt\n"
     ]
    },
    {
     "name": "stdout",
     "output_type": "stream",
     "text": [
      "INFO: 1 file zapped\n"
     ]
    },
    {
     "name": "stdout",
     "output_type": "stream",
     "text": [
      "result.txt.zapped\n"
     ]
    }
   ],
   "source": [
    "!sos remove temp/result.txt --zap -y\n",
    "!ls temp"
   ]
  },
  {
   "cell_type": "markdown",
   "metadata": {
    "kernel": "SoS",
    "papermill": {
     "duration": 0.011356,
     "end_time": "2019-12-23T17:09:17.360405",
     "exception": false,
     "start_time": "2019-12-23T17:09:17.349049",
     "status": "completed"
    },
    "tags": []
   },
   "source": [
    "As you can see, `temp/result.txt` is replaced with `temp/result.txt.zapped`. Now if you rerun the workflow"
   ]
  },
  {
   "cell_type": "code",
   "execution_count": 3,
   "metadata": {
    "kernel": "SoS",
    "papermill": {
     "duration": 0.027545,
     "end_time": "2019-12-23T17:09:17.399782",
     "exception": true,
     "start_time": "2019-12-23T17:09:17.372237",
     "status": "failed"
    },
    "scrolled": true,
    "tags": []
   },
   "outputs": [
    {
     "name": "stderr",
     "output_type": "stream",
     "text": [
      "File contains parsing errors: \n",
      "\t[line  2]: %rerun -s default -v2\n",
      "\n",
      "Invalid statements: SyntaxError('invalid syntax', ('<string>', 1, 1, '%rerun -s default -v2\\n'))\n"
     ]
    }
   ],
   "source": [
    "%rerun -s default -v2"
   ]
  },
  {
   "cell_type": "markdown",
   "metadata": {
    "kernel": "SoS",
    "papermill": {
     "duration": null,
     "end_time": null,
     "exception": null,
     "start_time": null,
     "status": "pending"
    },
    "tags": []
   },
   "source": [
    "## Further reading\n",
    "\n",
    "* "
   ]
  }
 ],
 "metadata": {
  "kernelspec": {
   "display_name": "SoS",
   "language": "sos",
   "name": "sos"
  },
  "language_info": {
   "codemirror_mode": "sos",
   "file_extension": ".sos",
   "mimetype": "text/x-sos",
   "name": "sos",
   "nbconvert_exporter": "sos_notebook.converter.SoS_Exporter",
   "pygments_lexer": "sos"
  },
  "papermill": {
   "duration": 14.76035,
   "end_time": "2019-12-23T17:09:22.594358",
   "environment_variables": {},
   "exception": true,
   "input_path": "/Users/bpeng1/sos/sos-docs/src/user_guide/zap.ipynb",
   "output_path": "zap.ipynb_rerun.ipynb",
   "parameters": {},
   "start_time": "2019-12-23T17:09:07.834008",
   "version": "1.1.0"
  },
  "sos": {
   "kernels": [
    [
     "Bash",
     "bash",
     "Bash",
     "#E6EEFF"
    ],
    [
     "R",
     "ir",
     "R",
     "#DCDCDA"
    ],
    [
     "SoS",
     "sos",
     "",
     ""
    ]
   ],
   "panel": {
    "displayed": true,
    "height": 0
   },
   "version": "0.17.5"
  }
 },
 "nbformat": 4,
 "nbformat_minor": 2
}