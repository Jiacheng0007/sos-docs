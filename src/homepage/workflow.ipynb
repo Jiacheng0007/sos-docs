{
 "cells": [
  {
   "cell_type": "markdown",
   "metadata": {
    "kernel": "SoS"
   },
   "source": [
    "# <a id=\"notebook_intro_videos\"></a>Introductory Videos"
   ]
  },
  {
   "cell_type": "markdown",
   "metadata": {
    "kernel": "SoS"
   },
   "source": [
    "<div class=\"container\">\n",
    "    <div class=\"row\">\n",
    "        <div class=\"col-sm-3\">\n",
    "              <div class=\"embed-responsive embed-responsive-16by9\">\n",
    "                   <iframe width=\"560\" height=\"315\" src=\"https://www.youtube.com/embed/E5Eh7BVbbTM?wmode=opaque\" frameborder=\"0\" allowfullscreen></iframe>\n",
    "                   <div class=\"overlay-duration\">14:08</div>\n",
    "              </div>\n",
    "            <p>Basics of SoS workflow system</p>\n",
    "        </div>\n",
    "        <div class=\"col-sm-3\">\n",
    "              <div class=\"embed-responsive embed-responsive-16by9\">\n",
    "                   <iframe width=\"560\" height=\"315\" src=\"https://www.youtube.com/embed/roTDvSXSPgU?wmode=opaque\" frameborder=\"0\" allowfullscreen></iframe>\n",
    "                   <div class=\"overlay-duration\">16:52</div>\n",
    "              </div>\n",
    "            <p>More on SoS workflow system</p>\n",
    "        </div>\n",
    "         <div class=\"col-sm-3\">\n",
    "              <div class=\"embed-responsive embed-responsive-16by9\">\n",
    "                   <iframe width=\"560\" height=\"315\" src=\"https://www.youtube.com/embed/_LSQr3DHBpU?wmode=opaque\" frameborder=\"0\" allowfullscreen></iframe>\n",
    "                   <div class=\"overlay-duration\">16:16</div>\n",
    "              </div>\n",
    "             <p>Use SoS in SoS Notebook</p>\n",
    "        </div>\n",
    "    </div>    \n",
    "</div>"
   ]
  },
  {
   "cell_type": "markdown",
   "metadata": {
    "kernel": "SoS"
   },
   "source": [
    "# Getting help"
   ]
  },
  {
   "cell_type": "markdown",
   "metadata": {
    "kernel": "SoS"
   },
   "source": [
    "SoS Notebook comes with an extensive set of documentation but it can be daunting to dive into it to get the information you need.\n",
    "\n",
    "* If you have a casual question like if certain feature exists or how certain things are handled, it is better to [ask it in our gitter channel](https://gitter.im/vatlab/SoS). You can also use the <i class=\"fab fa-gitter fa-2x\"></i> button at the top right corner of the homepage.\n",
    "\n",
    "* If you have a more serious question or suggestion, please feel free to post to our [issue tracker](https://github.com/vatlab/sos). SoS consists of tens of modules and related issue trackers but free feel to post to any of them because it is easy for us to move the issue to an appropriate tracker if needed."
   ]
  },
  {
   "cell_type": "markdown",
   "metadata": {
    "kernel": "SoS"
   },
   "source": [
    "# Documentation"
   ]
  },
  {
   "cell_type": "markdown",
   "metadata": {
    "kernel": "SoS"
   },
   "source": [
    "Our documentation is hosted on our live server and can be edited directly. If you spot an error or feel like contributing to the document, please \n",
    "\n",
    "1. Click the &nbsp; <i class=\"fa fa-edit fa-2x\"></i> &nbsp; button to the top right corner of each tutorial\n",
    "2. Execute the notebook and edit it on our live server\n",
    "3. Enter `!create-pr <Shift-Enter>` in the console panel to send us a PR"
   ]
  },
  {
   "cell_type": "markdown",
   "metadata": {
    "kernel": "SoS"
   },
   "source": [
    "## The basics\n",
    "\n",
    " * [SoS workflow: a 20 minute overview](doc/user_guide/sos_overview.html)\n",
    " * [Variables and parameters](doc/user_guide/variable_and_parameter.html)\n",
    " * [Step input, output, and substeps](doc/user_guide/input_substeps.html)\n",
    " * [Basic SoS workflows](doc/user_guide/basic_workflow.html)\n",
    " * [Using SoS Workflow for daily data analysis](doc/user_guide/organize_scripts.html)"
   ]
  },
  {
   "cell_type": "markdown",
   "metadata": {
    "kernel": "SoS"
   },
   "source": [
    "## Syntax and data types\n",
    "\n",
    " * [Syntax and file formats](doc/user_guide/sos_syntax.html)\n",
    " * [Script format of function calls](doc/user_guide/script_format.html)\n",
    " * [The `parameter` statement](doc/user_guide/parameter_statement.html)\n",
    " * [Configuration files](doc/user_guide/config_files.html)\n",
    " * [SoS targets (`file_target`, `sos_variable`, `R_Library`, and more)](doc/user_guide/targets.html) \n",
    " * [The `sos_targets` data type](doc/user_guide/sos_targets.html)\n",
    " * [SoS functions (`get_output` and `expand_pattern`)](doc/user_guide/sos_functions.html)\n",
    " * [Extending SoS](doc/user_guide/extending_sos.html)\n",
    " \n",
    "\n",
    "## SoS Steps\n",
    "\n",
    " * [The `input` statement](doc/user_guide/input_statement.html)\n",
    "   * [Named input](doc/user_guide/named_input.html)\n",
    "   * [Input option `group_by`](doc/user_guide/group_by.html)\n",
    "   * [Input option `for_each`](doc/user_guide/for_each.html)\n",
    "   * [Input options `paired_with` and `group_with`](doc/user_guide/paired_group_with.html) \n",
    "   * [Input option `pattern` and function `expand_pattern`](doc/user_guide/input_pattern.html)   \n",
    "   * [Input option `concurrent`](doc/user_guide/concurrent_substep.html)   \n",
    "   * [Dynamic input (`dynamic` target)](doc/user_guide/dynamic_input.html)    \n",
    " * [The `output` statement](doc/user_guide/output_statement.html)\n",
    "   * [Output option `group_by`](doc/user_guide/output_group_by.html)\n",
    "   * [Output option `paired_with` and `group_with`](doc/user_guide/output_groups_vars.html)\n",
    "   * [Dynamic output (`dynamic` target)](doc/user_guide/dynamic_output.html)      \n",
    " * [The `depends` statement](doc/user_guide/depends_statement.html)   \n",
    " * [SoS actions and common options](doc/user_guide/sos_actions.html)\n",
    "   * [Command execution actions (actions `run`, `sh`, and `bash`)](doc/user_guide/shell_actions.html)\n",
    "   * [Script execution actions (actions `Python`, `R`, `JavaScript` etc)](doc/user_guide/script_actions.html)\n",
    "   * [Report generation actions (actions `report`, `pandoc`, and `RMarkdown`)](doc/user_guide/report_actions.html)\n",
    "   * [Conditional actions (actions `warn_if`, `skip_if`, `done_if` and `fail_if`)](doc/user_guide/control_actions.html) \n",
    "   * [Action `download`](doc/user_guide/download_actions.html)\n",
    "   * [Running scripts in docker containers (Action option `container` and action `docker_build`)](doc/user_guide/docker.html)\n",
    "   * [Running scripts in singularity (Action options `container` and `engine`, action `singularity_build`)](doc/user_guide/singularity.html)\n",
    " * [The `task` statement and option `-q`)](doc/user_guide/task_statement.html)\n",
    "   * [Host configuration (`~/.sos/hosts.yml` and `sos remote` command)](doc/user_guide/host_setup.html)   \n",
    "   * [Task templates (options such as `mem`, `cores`, `walltime`, and `nodes`)](doc/user_guide/task_template.html)  \n",
    "   * [Task tags (option `tags`)](doc/user_guide/task_tags.html)   \n",
    "   * [Combining tasks (options `trunk_size` and `trunk_workers`)](doc/user_guide/trunk_size.html)   \n",
    "   * [Path translation and file synchronization (options `workdir`, `to_host` and `from_host`)](doc/user_guide/task_files.html)\n",
    "   * [Working with remote files (`remote` target)](doc/user_guide/remote_target.html) \n",
    "    \n",
    "## SoS Workflows\n",
    "\n",
    " * [Summary of step dependencies](doc/user_guide/step_dependencies.html)\n",
    "   * [Named output (function `named_output`)](doc/user_guide/named_output.html) \n",
    "   * [Output from another step (function `output_from`)](doc/user_guide/output_from.html)    \n",
    "   * [Explicit step and workflow dependency (target `sos_step`)](doc/user_guide/target_sos_step.html)     \n",
    "   * [Makefile-style pattern-matching rules (section option `provides`)](doc/user_guide/auxiliary_steps.html)\n",
    "   * [Global and local variables](doc/user_guide/step_variables.html)    \n",
    "   * [Sharing variables across steps (step and task option `shared` and target `sos_variable`)](doc/user_guide/shared_variables.html)       \n",
    " * [Introduction to SoS Workflows](doc/user_guide/sos_workflows.html) \n",
    "   * [Process-oriented workflows](doc/user_guide/process_oriented.html)   \n",
    "   * [Outcome-oriented workflows](doc/user_guide/outcome_oriented.html)\n",
    "   * [Mixed-style workflows](doc/user_guide/mixed_style.html)   \n",
    "   * [Data-flow style workflows](doc/user_guide/data_flow.html)   \n",
    "   * [Nested workflow (function `sos_run`)](doc/user_guide/nested_workflow.html)\n",
    "     \n",
    "## Command line interface\n",
    "\n",
    " * [List of all sos commands and options](doc/user_guide/cli.html)\n",
    " * Execution of workflows   \n",
    "   * [Verbosity and number of workers (options `-v` and `-j`)](doc/user_guide/verbosity_and_jobs.html)\n",
    "   * [Runtime signature (option `-s`)](doc/user_guide/signature.html)\n",
    "   * [Error handling (option `-e`)](doc/user_guide/error_handling.html)   \n",
    "   * [Dependency tracing (option `-T`)](doc/user_guide/trace_dependency.html)\n",
    "   * [Dryrun mode (option `-n`)](doc/user_guide/dryrun.html)\n",
    "   * [Customized environments and remote execution of workflows (option `-r`)](doc/user_guide/remote_execution.html) \n",
    "   * [Output DAG of workflows (option `-d`)](doc/user_guide/workflow_dag.html)    \n",
    "   * [Report generation (option `-p`)](doc/user_guide/workflow_summary.html)   \n",
    " * Utilities \n",
    "    * [Task management (commands `status`, `kill`, and `purge`)](doc/user_guide/task_management.html)\n",
    "    * [Setup and test remote hosts (command `sos remote`)](doc/user_guide/sos_remote.html)\n",
    "    * [Format conversion (command `sos convert` and `%convert`)](doc/user_guide/convert.html)"
   ]
  },
  {
   "cell_type": "markdown",
   "metadata": {
    "kernel": "SoS"
   },
   "source": [
    "#  Publication\n",
    "\n",
    "Please cite the following publication if you use SoS workflow engine for your work:\n",
    "\n",
    "[**Script of Scripts: a pragmatic workflow system for daily computational research**](https://doi.org/10.1371/journal.pcbi.1006843)\n",
    "<small>Gao Wang and Bo Peng (2019) <em> PLoS Computational Biology</em>. doi: 10.1371/journal.pcbi.1006843</small>\n",
    "\n",
    "Here are a list of examples from the publication:\n",
    "\n",
    "*  [Process_Oriented.sos](doc/examples/Process_Oriented.html) ([script](doc/examples/Process_Oriented.sos))<br>\n",
    "  <small>Demonstration of a process_oriented forward-style workflow that executes steps in pre-sepecified order.</small>\n",
    "*  [Process_Oriented_Modular.sos](doc/examples/Process_Oriented_Modular.html) ([script](doc/examples/Process_Oriented_Modular.sos))<br>\n",
    "  <small>Same example as above with codes for core computations stored as separate scripts.</small>\n",
    "*  [Outcome_Oriented.sos](doc/examples/Outcome_Oriented.html) ([script](doc/examples/Outcome_Oriented.sos))<br>\n",
    "  <small>Demonstration of a outcome-oriented Makefile-style workflow that executes steps that are needed to generate specified outcome.</small>\n",
    "*  [Outcome_Oriented_Step_Targets.sos](doc/examples/Outcome_Oriented_Step_Targets.html) ([script](doc/examples/Outcome_Oriented.sos))<br>\n",
    "  <small>Demonstration of a outcome-oriented Makefile-style workflow that determines and executes dependencies by step targets instead of files.</small>\n",
    "*  [Mixed_Style.sos](doc/examples/Mixed_Style.html) ([script](doc/examples/Mixed_Style.sos))<br>\n",
    "  <small>Demonstration of a mixed-style workflow that executes steps of a forward-step workflow with dependencies produced by auxiliary steps.</small>\n",
    "*  [Mixed_Style_Data_Flow.sos](doc/examples/Mixed_Style_Data_Flow.html) ([script](doc/examples/Mixed_Style_Data_Flow.sos))<br>\n",
    "  <small>Demonstration of a mixed-style workflow that executes steps of a forward-step workflow with dependencies specified by named outputs.</small>\n",
    "*  [Next-generation sequencing genotyping pipeline](doc/examples/WGS_Call.html) ([notebook](doc/examples/WGS_Call.ipynb))<br>\n",
    "  <small>This is the SoS version of the <a href=\"http://www.htslib.org/workflow/#mapping_to_variant\">samtools workflow: WGS/WES Mapping to Variant Calls - Version 1.0</a></small>\n",
    "*  [RNA Seq Differential Expression Analysis Workflow](doc/examples/RNASeqDE.html) ([notebook](doc/examples/RNASeqDE.ipynb) and [generated report](doc/examples/RNASeqDE_report.html))<br>\n",
    "  <small>This is the SoS version of the <a href=\"https://www.bioconductor.org/help/workflows/rnaseqGene/\">RNA-seq workflow: gene-level exploratory analysis and differential expression</a> from bioconductor.</small>\n",
    "*  [RNA Seq Normalization and Expression Residuals Analysis Workflow](doc/examples/RNASeqGTEx.html) ([notebook](doc/examples/RNASeqGTEx.ipynb) and [generated report](doc/examples/RNASeqGTEx_report.html))<br>\n",
    "  <small>This is the SoS version of the RNA-seq preprocessing step of <a href=\"https://github.com/broadinstitute/gtex-pipeline/tree/63b13b8ced25cf8ab8e7a26f40a495e523630a9b/qtl\">eQTL discovery pipeline</a> from the <a href=\"https://www.gtexportal.org/home/\"> GTEx Consortium </a>, updated July 31, 2017.</small>  \n",
    "\n",
    "Please [follow instructions here](doc/examples/Workflow_Manuscript_Examples.html) to reproduce all but the last (due to data accessibility restrictions) examples."
   ]
  },
  {
   "cell_type": "markdown",
   "metadata": {
    "kernel": "SoS"
   },
   "source": [
    "# Example Scripts and workflow notebooks\n",
    "\n",
    "SoS scripts for the maintenance of SoS\n",
    "\n",
    "*  [update_toc.sos](doc/examples/update_toc.html) ([script](doc/examples/update_toc.sos))<br>\n",
    "   <small>A sos script that was used by SoS to update TOC of the wiki pages</small>\n",
    "*  [release](doc/examples/release.html) ([script](doc/examples/release))<br>\n",
    "   <small>Script to manage SoS website and release SoS to pip, docker hub, etc</small>\n",
    "\n",
    "Pedagogical examples\n",
    "\n",
    "*  [DEG Annotation with external task](doc/examples/DEG_Annotation_remote.html) ([notebook](doc/examples/DEG_Annotation_remote.ipynb))<br>\n",
    "  <small>The same example but submit the R part of the workflow as an external task</small>\n",
    "*  [Simple External Tasks](doc/examples/LineCount.html) ([notebook](doc/examples/LineCount.ipynb))<br>\n",
    "  <small>An example to generate and execute a number of external tasks in Jupyter notebook. You can try to use option <code>trunk_size</code> to group the tasks. This example also demonstrates the use of option <code>shared</code> to collect results from tasks as variables</small>\n",
    "*  [Remote Target](doc/examples/Remote_Target.html) ([notebook](doc/examples/Remote_Target.ipynb))<br>\n",
    "  <small>An example on the analysis of targets that reside on remote servers using target <code>remote()</code> and step option <code>remote</code></small>\n",
    "  \n",
    "Real-world applications\n",
    "\n",
    "*   [Data preprocessing for TADA-A R analysis](https://github.com/TADA-A/TADA-A/blob/master/external_tools/mutation_annotation_pipeline.ipynb), for Liu et al 2018, American Journal of Human Genetics.\n",
    "*   [Data preprocessing for MASH R analysis](https://github.com/stephenslab/gtexresults/blob/master/workflows/fastqtl_to_mash.ipynb) and [Multivariate eQTL analysis pipeline](https://gaow.github.io/mnm-gtex-v8/analysis/mashr_flashr_workflow.html), for Urbut et al 2018, Nature Genetics."
   ]
  },
  {
   "cell_type": "code",
   "execution_count": null,
   "metadata": {
    "kernel": "SoS"
   },
   "outputs": [],
   "source": []
  }
 ],
 "metadata": {
  "anaconda-cloud": {},
  "kernelspec": {
   "display_name": "SoS",
   "language": "sos",
   "name": "sos"
  },
  "language_info": {
   "codemirror_mode": "sos",
   "file_extension": ".sos",
   "mimetype": "text/x-sos",
   "name": "sos",
   "nbconvert_exporter": "sos_notebook.converter.SoS_Exporter",
   "pygments_lexer": "sos"
  },
  "sos": {
   "celltoolbar": true,
   "default_kernel": "SoS",
   "kernels": [],
   "panel": {
    "displayed": true,
    "height": 0,
    "style": "side"
   },
   "version": "0.21.8"
  },
  "toc": {
   "colors": {
    "hover_highlight": "#DAA520",
    "running_highlight": "#FF0000",
    "selected_highlight": "#FFD700"
   },
   "moveMenuLeft": true,
   "nav_menu": {
    "height": "45px",
    "width": "254px"
   },
   "navigate_menu": true,
   "number_sections": true,
   "sideBar": true,
   "threshold": 4,
   "toc_cell": false,
   "toc_section_display": "block",
   "toc_window_display": true
  }
 },
 "nbformat": 4,
 "nbformat_minor": 4
}
